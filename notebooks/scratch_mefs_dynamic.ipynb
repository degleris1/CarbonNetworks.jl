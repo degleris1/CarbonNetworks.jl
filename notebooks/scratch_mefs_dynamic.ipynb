{
 "cells": [
  {
   "cell_type": "markdown",
   "metadata": {
    "toc": true
   },
   "source": [
    "<h1>Table of Contents<span class=\"tocSkip\"></span></h1>\n",
    "<div class=\"toc\"><ul class=\"toc-item\"><li><span><a href=\"#Generate-some-random-data\" data-toc-modified-id=\"Generate-some-random-data-1\"><span class=\"toc-item-num\">1&nbsp;&nbsp;</span>Generate some random data</a></span></li><li><span><a href=\"#Solve-the-carbon-management-problem\" data-toc-modified-id=\"Solve-the-carbon-management-problem-2\"><span class=\"toc-item-num\">2&nbsp;&nbsp;</span>Solve the carbon management problem</a></span></li><li><span><a href=\"#Test-the-dynamic-network\" data-toc-modified-id=\"Test-the-dynamic-network-3\"><span class=\"toc-item-num\">3&nbsp;&nbsp;</span>Test the dynamic network</a></span><ul class=\"toc-item\"><li><span><a href=\"#One-single-timestep,-with-no-battery-capacity\" data-toc-modified-id=\"One-single-timestep,-with-no-battery-capacity-3.1\"><span class=\"toc-item-num\">3.1&nbsp;&nbsp;</span>One single timestep, with no battery capacity</a></span><ul class=\"toc-item\"><li><span><a href=\"#Comparing-with-a-static-network-problem-+-comparing-the-dual-variables\" data-toc-modified-id=\"Comparing-with-a-static-network-problem-+-comparing-the-dual-variables-3.1.1\"><span class=\"toc-item-num\">3.1.1&nbsp;&nbsp;</span>Comparing with a static network problem + comparing the dual variables</a></span></li></ul></li><li><span><a href=\"#Several-timesteps,-with-no-battery-capacity\" data-toc-modified-id=\"Several-timesteps,-with-no-battery-capacity-3.2\"><span class=\"toc-item-num\">3.2&nbsp;&nbsp;</span>Several timesteps, with no battery capacity</a></span><ul class=\"toc-item\"><li><span><a href=\"#Looking-for-indices-where-KKT-\\neq-0\" data-toc-modified-id=\"Looking-for-indices-where-KKT-\\neq-0-3.2.1\"><span class=\"toc-item-num\">3.2.1&nbsp;&nbsp;</span>Looking for indices where <code>KKT \\neq 0</code></a></span></li></ul></li><li><span><a href=\"#Several-timesteps,-with-battery-capacity\" data-toc-modified-id=\"Several-timesteps,-with-battery-capacity-3.3\"><span class=\"toc-item-num\">3.3&nbsp;&nbsp;</span>Several timesteps, with battery capacity</a></span></li><li><span><a href=\"#Several-timesteps,-with-battery-capacity-and-varying-demand\" data-toc-modified-id=\"Several-timesteps,-with-battery-capacity-and-varying-demand-3.4\"><span class=\"toc-item-num\">3.4&nbsp;&nbsp;</span>Several timesteps, with battery capacity and varying demand</a></span></li></ul></li><li><span><a href=\"#Computing-the-KKTs-and-the-Jacobian\" data-toc-modified-id=\"Computing-the-KKTs-and-the-Jacobian-4\"><span class=\"toc-item-num\">4&nbsp;&nbsp;</span>Computing the KKTs and the Jacobian</a></span><ul class=\"toc-item\"><li><span><a href=\"#Figuring-out-the-order-of-constraints/variables\" data-toc-modified-id=\"Figuring-out-the-order-of-constraints/variables-4.1\"><span class=\"toc-item-num\">4.1&nbsp;&nbsp;</span>Figuring out the order of constraints/variables</a></span><ul class=\"toc-item\"><li><span><a href=\"#Looking-for-indices-where-KKT-\\neq-0\" data-toc-modified-id=\"Looking-for-indices-where-KKT-\\neq-0-4.1.1\"><span class=\"toc-item-num\">4.1.1&nbsp;&nbsp;</span>Looking for indices where <code>KKT \\neq 0</code></a></span></li></ul></li><li><span><a href=\"#Test-current-functions\" data-toc-modified-id=\"Test-current-functions-4.2\"><span class=\"toc-item-num\">4.2&nbsp;&nbsp;</span>Test current functions</a></span><ul class=\"toc-item\"><li><span><a href=\"#Primal-variables-extracted-properly?\" data-toc-modified-id=\"Primal-variables-extracted-properly?-4.2.1\"><span class=\"toc-item-num\">4.2.1&nbsp;&nbsp;</span>Primal variables extracted properly?</a></span></li><li><span><a href=\"#Dual-variables-extracted-properly?\" data-toc-modified-id=\"Dual-variables-extracted-properly?-4.2.2\"><span class=\"toc-item-num\">4.2.2&nbsp;&nbsp;</span>Dual variables extracted properly?</a></span></li></ul></li></ul></li><li><span><a href=\"#Sensitivity-demand-checks\" data-toc-modified-id=\"Sensitivity-demand-checks-5\"><span class=\"toc-item-num\">5&nbsp;&nbsp;</span>Sensitivity demand checks</a></span><ul class=\"toc-item\"><li><span><a href=\"#One-timestep---no-storage-capacity\" data-toc-modified-id=\"One-timestep---no-storage-capacity-5.1\"><span class=\"toc-item-num\">5.1&nbsp;&nbsp;</span>One timestep - no storage capacity</a></span><ul class=\"toc-item\"><li><span><a href=\"#Comparing-static-vs-dynamic-mefs\" data-toc-modified-id=\"Comparing-static-vs-dynamic-mefs-5.1.1\"><span class=\"toc-item-num\">5.1.1&nbsp;&nbsp;</span>Comparing static vs dynamic mefs</a></span></li><li><span><a href=\"#Comparing-with-dual-variables\" data-toc-modified-id=\"Comparing-with-dual-variables-5.1.2\"><span class=\"toc-item-num\">5.1.2&nbsp;&nbsp;</span>Comparing with dual variables</a></span></li><li><span><a href=\"#Comparing-solutions\" data-toc-modified-id=\"Comparing-solutions-5.1.3\"><span class=\"toc-item-num\">5.1.3&nbsp;&nbsp;</span>Comparing solutions</a></span></li></ul></li><li><span><a href=\"#Several-timesteps-with-no-storage-capacity\" data-toc-modified-id=\"Several-timesteps-with-no-storage-capacity-5.2\"><span class=\"toc-item-num\">5.2&nbsp;&nbsp;</span>Several timesteps with no storage capacity</a></span><ul class=\"toc-item\"><li><span><a href=\"#Comparing-static-vs-dynamic\" data-toc-modified-id=\"Comparing-static-vs-dynamic-5.2.1\"><span class=\"toc-item-num\">5.2.1&nbsp;&nbsp;</span>Comparing static vs dynamic</a></span></li><li><span><a href=\"#Comparing-with-dual-variables\" data-toc-modified-id=\"Comparing-with-dual-variables-5.2.2\"><span class=\"toc-item-num\">5.2.2&nbsp;&nbsp;</span>Comparing with dual variables</a></span></li><li><span><a href=\"#With-the-compute_mefs-routine\" data-toc-modified-id=\"With-the-compute_mefs-routine-5.2.3\"><span class=\"toc-item-num\">5.2.3&nbsp;&nbsp;</span>With the <code>compute_mefs</code> routine</a></span></li></ul></li></ul></li><li><span><a href=\"#Verifying-sensitivity-computation\" data-toc-modified-id=\"Verifying-sensitivity-computation-6\"><span class=\"toc-item-num\">6&nbsp;&nbsp;</span>Verifying sensitivity computation</a></span><ul class=\"toc-item\"><li><span><a href=\"#Procedure\" data-toc-modified-id=\"Procedure-6.1\"><span class=\"toc-item-num\">6.1&nbsp;&nbsp;</span>Procedure</a></span></li><li><span><a href=\"#Implementation\" data-toc-modified-id=\"Implementation-6.2\"><span class=\"toc-item-num\">6.2&nbsp;&nbsp;</span>Implementation</a></span></li></ul></li><li><span><a href=\"#Plot-results\" data-toc-modified-id=\"Plot-results-7\"><span class=\"toc-item-num\">7&nbsp;&nbsp;</span>Plot results</a></span><ul class=\"toc-item\"><li><span><a href=\"#Plot-demand,-generation,-and-LMPs\" data-toc-modified-id=\"Plot-demand,-generation,-and-LMPs-7.1\"><span class=\"toc-item-num\">7.1&nbsp;&nbsp;</span>Plot demand, generation, and LMPs</a></span></li><li><span><a href=\"#Plot-carbon-LMPs\" data-toc-modified-id=\"Plot-carbon-LMPs-7.2\"><span class=\"toc-item-num\">7.2&nbsp;&nbsp;</span>Plot carbon LMPs</a></span></li></ul></li><li><span><a href=\"#Implicit-diff\" data-toc-modified-id=\"Implicit-diff-8\"><span class=\"toc-item-num\">8&nbsp;&nbsp;</span>Implicit diff</a></span></li><li><span><a href=\"#Compute-MEFs-via-regression\" data-toc-modified-id=\"Compute-MEFs-via-regression-9\"><span class=\"toc-item-num\">9&nbsp;&nbsp;</span>Compute MEFs via regression</a></span></li></ul></div>"
   ]
  },
  {
   "cell_type": "code",
   "execution_count": 1,
   "metadata": {},
   "outputs": [
    {
     "name": "stderr",
     "output_type": "stream",
     "text": [
      "\u001b[32m\u001b[1m  Activating\u001b[22m\u001b[39m environment at `~/.julia/environments/v1.6/Project.toml`\n"
     ]
    },
    {
     "data": {
      "text/plain": [
       "#5 (generic function with 1 method)"
      ]
     },
     "execution_count": 1,
     "metadata": {},
     "output_type": "execute_result"
    }
   ],
   "source": [
    "using Pkg; Pkg.activate()\n",
    "\n",
    "using Plots\n",
    "using Convex, ECOS  # Convex modeling and solver\n",
    "using Distributions, Random  # Seeds and sampling\n",
    "using LightGraphs  # Generating nice random graphs\n",
    "using GraphPlot, Colors  # For plotting\n",
    "using SparseArrays\n",
    "\n",
    "OPT = () -> ECOS.Optimizer(verbose=false)"
   ]
  },
  {
   "cell_type": "code",
   "execution_count": 2,
   "metadata": {},
   "outputs": [
    {
     "name": "stderr",
     "output_type": "stream",
     "text": [
      "┌ Info: Precompiling CarbonNetworks [d5dced0a-5569-40db-8865-1dbf132a76f2]\n",
      "└ @ Base loading.jl:1317\n",
      "WARNING: Method definition (::Type{CarbonNetworks.PowerManagementProblem})(Any, Any, Any, Any, Any, Any, Any) in module CarbonNetworks at /Users/lucasfuentes/Documents/Ideas/EnergyNetworks/CarbonNetworks.jl/src/model.jl:26 overwritten at /Users/lucasfuentes/Documents/Ideas/EnergyNetworks/CarbonNetworks.jl/src/model.jl:46.\n",
      "  ** incremental compilation may be fatally broken for this module **\n",
      "\n"
     ]
    }
   ],
   "source": [
    "using Revise\n",
    "using CarbonNetworks"
   ]
  },
  {
   "cell_type": "markdown",
   "metadata": {},
   "source": [
    "# Generate some random data"
   ]
  },
  {
   "cell_type": "code",
   "execution_count": 3,
   "metadata": {},
   "outputs": [
    {
     "data": {
      "image/svg+xml": [
       "<?xml version=\"1.0\" encoding=\"UTF-8\"?>\n",
       "<svg xmlns=\"http://www.w3.org/2000/svg\"\n",
       "     xmlns:xlink=\"http://www.w3.org/1999/xlink\"\n",
       "     version=\"1.2\"\n",
       "     width=\"141.42mm\" height=\"100mm\" viewBox=\"0 0 141.42 100\"\n",
       "     stroke=\"none\"\n",
       "     fill=\"#000000\"\n",
       "     stroke-width=\"0.3\"\n",
       "     font-size=\"3.88\"\n",
       ">\n",
       "<defs>\n",
       "  <marker id=\"arrow\" markerWidth=\"15\" markerHeight=\"7\" refX=\"5\" refY=\"3.5\" orient=\"auto\" markerUnits=\"strokeWidth\">\n",
       "    <path d=\"M0,0 L15,3.5 L0,7 z\" stroke=\"context-stroke\" fill=\"context-stroke\"/>\n",
       "  </marker>\n",
       "</defs>\n",
       "<g fill=\"#000000\" fill-opacity=\"0.000\" stroke=\"#D3D3D3\" id=\"img-97b03919-1\">\n",
       "  <g transform=\"translate(71.19,61.98)\" stroke-width=\"0.31\">\n",
       "    <path fill=\"none\" d=\"M-53.89,26.93 L53.89,-26.93 \" class=\"primitive\"/>\n",
       "  </g>\n",
       "  <g transform=\"translate(63.78,85.01)\" stroke-width=\"1.5\">\n",
       "    <path fill=\"none\" d=\"M-45.35,5.81 L45.35,-5.81 \" class=\"primitive\"/>\n",
       "  </g>\n",
       "  <g transform=\"translate(83.37,20.77)\" stroke-width=\"0.27\">\n",
       "    <path fill=\"none\" d=\"M41.02,10.64 L-41.02,-10.64 \" class=\"primitive\"/>\n",
       "  </g>\n",
       "  <g transform=\"translate(75.68,43.73)\" stroke-width=\"0.36\">\n",
       "    <path fill=\"none\" d=\"M-35.63,-31.34 L35.63,31.34 \" class=\"primitive\"/>\n",
       "  </g>\n",
       "</g>\n",
       "<g stroke=\"#D3D3D3\" id=\"img-97b03919-2\">\n",
       "</g>\n",
       "<g font-size=\"4\" stroke=\"#000000\" stroke-opacity=\"0.000\" fill=\"#000000\" id=\"img-97b03919-3\">\n",
       "</g>\n",
       "<g stroke-width=\"0\" stroke=\"#000000\" stroke-opacity=\"0.000\" id=\"img-97b03919-4\">\n",
       "  <g transform=\"translate(11.79,91.67)\" fill=\"#FF0000\">\n",
       "    <circle cx=\"0\" cy=\"0\" r=\"6.48\" class=\"primitive\"/>\n",
       "  </g>\n",
       "  <g transform=\"translate(129.64,32.77)\" fill=\"#B92300\">\n",
       "    <circle cx=\"0\" cy=\"0\" r=\"5.36\" class=\"primitive\"/>\n",
       "  </g>\n",
       "  <g transform=\"translate(35.44,8.33)\" fill=\"#774400\">\n",
       "    <circle cx=\"0\" cy=\"0\" r=\"7.07\" class=\"primitive\"/>\n",
       "  </g>\n",
       "  <g transform=\"translate(115.13,78.43)\" fill=\"#CE1900\">\n",
       "    <circle cx=\"0\" cy=\"0\" r=\"5.86\" class=\"primitive\"/>\n",
       "  </g>\n",
       "</g>\n",
       "<g font-size=\"4\" stroke=\"#000000\" stroke-opacity=\"0.000\" fill=\"#000000\" id=\"img-97b03919-5\">\n",
       "</g>\n",
       "</svg>\n"
      ],
      "text/html": [
       "<?xml version=\"1.0\" encoding=\"UTF-8\"?>\n",
       "<svg xmlns=\"http://www.w3.org/2000/svg\"\n",
       "     xmlns:xlink=\"http://www.w3.org/1999/xlink\"\n",
       "     version=\"1.2\"\n",
       "     width=\"141.42mm\" height=\"100mm\" viewBox=\"0 0 141.42 100\"\n",
       "     stroke=\"none\"\n",
       "     fill=\"#000000\"\n",
       "     stroke-width=\"0.3\"\n",
       "     font-size=\"3.88\"\n",
       "\n",
       "     id=\"img-0c2d414a\">\n",
       "<defs>\n",
       "  <marker id=\"arrow\" markerWidth=\"15\" markerHeight=\"7\" refX=\"5\" refY=\"3.5\" orient=\"auto\" markerUnits=\"strokeWidth\">\n",
       "    <path d=\"M0,0 L15,3.5 L0,7 z\" stroke=\"context-stroke\" fill=\"context-stroke\"/>\n",
       "  </marker>\n",
       "</defs>\n",
       "<g fill=\"#000000\" fill-opacity=\"0.000\" stroke=\"#D3D3D3\" id=\"img-0c2d414a-1\">\n",
       "  <g transform=\"translate(71.19,61.98)\" stroke-width=\"0.31\">\n",
       "    <path fill=\"none\" d=\"M-53.89,26.93 L53.89,-26.93 \" class=\"primitive\"/>\n",
       "  </g>\n",
       "  <g transform=\"translate(63.78,85.01)\" stroke-width=\"1.5\">\n",
       "    <path fill=\"none\" d=\"M-45.35,5.81 L45.35,-5.81 \" class=\"primitive\"/>\n",
       "  </g>\n",
       "  <g transform=\"translate(83.37,20.77)\" stroke-width=\"0.27\">\n",
       "    <path fill=\"none\" d=\"M41.02,10.64 L-41.02,-10.64 \" class=\"primitive\"/>\n",
       "  </g>\n",
       "  <g transform=\"translate(75.68,43.73)\" stroke-width=\"0.36\">\n",
       "    <path fill=\"none\" d=\"M-35.63,-31.34 L35.63,31.34 \" class=\"primitive\"/>\n",
       "  </g>\n",
       "</g>\n",
       "<g stroke=\"#D3D3D3\" id=\"img-0c2d414a-2\">\n",
       "</g>\n",
       "<g font-size=\"4\" stroke=\"#000000\" stroke-opacity=\"0.000\" fill=\"#000000\" id=\"img-0c2d414a-3\">\n",
       "</g>\n",
       "<g stroke-width=\"0\" stroke=\"#000000\" stroke-opacity=\"0.000\" id=\"img-0c2d414a-4\">\n",
       "  <g transform=\"translate(11.79,91.67)\" fill=\"#FF0000\">\n",
       "    <circle cx=\"0\" cy=\"0\" r=\"6.48\" class=\"primitive\"/>\n",
       "  </g>\n",
       "  <g transform=\"translate(129.64,32.77)\" fill=\"#B92300\">\n",
       "    <circle cx=\"0\" cy=\"0\" r=\"5.36\" class=\"primitive\"/>\n",
       "  </g>\n",
       "  <g transform=\"translate(35.44,8.33)\" fill=\"#774400\">\n",
       "    <circle cx=\"0\" cy=\"0\" r=\"7.07\" class=\"primitive\"/>\n",
       "  </g>\n",
       "  <g transform=\"translate(115.13,78.43)\" fill=\"#CE1900\">\n",
       "    <circle cx=\"0\" cy=\"0\" r=\"5.86\" class=\"primitive\"/>\n",
       "  </g>\n",
       "</g>\n",
       "<g font-size=\"4\" stroke=\"#000000\" stroke-opacity=\"0.000\" fill=\"#000000\" id=\"img-0c2d414a-5\">\n",
       "</g>\n",
       "<script> <![CDATA[\n",
       "(function(N){var k=/[\\.\\/]/,L=/\\s*,\\s*/,C=function(a,d){return a-d},a,v,y={n:{}},M=function(){for(var a=0,d=this.length;a<d;a++)if(\"undefined\"!=typeof this[a])return this[a]},A=function(){for(var a=this.length;--a;)if(\"undefined\"!=typeof this[a])return this[a]},w=function(k,d){k=String(k);var f=v,n=Array.prototype.slice.call(arguments,2),u=w.listeners(k),p=0,b,q=[],e={},l=[],r=a;l.firstDefined=M;l.lastDefined=A;a=k;for(var s=v=0,x=u.length;s<x;s++)\"zIndex\"in u[s]&&(q.push(u[s].zIndex),0>u[s].zIndex&&\n",
       "(e[u[s].zIndex]=u[s]));for(q.sort(C);0>q[p];)if(b=e[q[p++] ],l.push(b.apply(d,n)),v)return v=f,l;for(s=0;s<x;s++)if(b=u[s],\"zIndex\"in b)if(b.zIndex==q[p]){l.push(b.apply(d,n));if(v)break;do if(p++,(b=e[q[p] ])&&l.push(b.apply(d,n)),v)break;while(b)}else e[b.zIndex]=b;else if(l.push(b.apply(d,n)),v)break;v=f;a=r;return l};w._events=y;w.listeners=function(a){a=a.split(k);var d=y,f,n,u,p,b,q,e,l=[d],r=[];u=0;for(p=a.length;u<p;u++){e=[];b=0;for(q=l.length;b<q;b++)for(d=l[b].n,f=[d[a[u] ],d[\"*\"] ],n=2;n--;)if(d=\n",
       "f[n])e.push(d),r=r.concat(d.f||[]);l=e}return r};w.on=function(a,d){a=String(a);if(\"function\"!=typeof d)return function(){};for(var f=a.split(L),n=0,u=f.length;n<u;n++)(function(a){a=a.split(k);for(var b=y,f,e=0,l=a.length;e<l;e++)b=b.n,b=b.hasOwnProperty(a[e])&&b[a[e] ]||(b[a[e] ]={n:{}});b.f=b.f||[];e=0;for(l=b.f.length;e<l;e++)if(b.f[e]==d){f=!0;break}!f&&b.f.push(d)})(f[n]);return function(a){+a==+a&&(d.zIndex=+a)}};w.f=function(a){var d=[].slice.call(arguments,1);return function(){w.apply(null,\n",
       "[a,null].concat(d).concat([].slice.call(arguments,0)))}};w.stop=function(){v=1};w.nt=function(k){return k?(new RegExp(\"(?:\\\\.|\\\\/|^)\"+k+\"(?:\\\\.|\\\\/|$)\")).test(a):a};w.nts=function(){return a.split(k)};w.off=w.unbind=function(a,d){if(a){var f=a.split(L);if(1<f.length)for(var n=0,u=f.length;n<u;n++)w.off(f[n],d);else{for(var f=a.split(k),p,b,q,e,l=[y],n=0,u=f.length;n<u;n++)for(e=0;e<l.length;e+=q.length-2){q=[e,1];p=l[e].n;if(\"*\"!=f[n])p[f[n] ]&&q.push(p[f[n] ]);else for(b in p)p.hasOwnProperty(b)&&\n",
       "q.push(p[b]);l.splice.apply(l,q)}n=0;for(u=l.length;n<u;n++)for(p=l[n];p.n;){if(d){if(p.f){e=0;for(f=p.f.length;e<f;e++)if(p.f[e]==d){p.f.splice(e,1);break}!p.f.length&&delete p.f}for(b in p.n)if(p.n.hasOwnProperty(b)&&p.n[b].f){q=p.n[b].f;e=0;for(f=q.length;e<f;e++)if(q[e]==d){q.splice(e,1);break}!q.length&&delete p.n[b].f}}else for(b in delete p.f,p.n)p.n.hasOwnProperty(b)&&p.n[b].f&&delete p.n[b].f;p=p.n}}}else w._events=y={n:{}}};w.once=function(a,d){var f=function(){w.unbind(a,f);return d.apply(this,\n",
       "arguments)};return w.on(a,f)};w.version=\"0.4.2\";w.toString=function(){return\"You are running Eve 0.4.2\"};\"undefined\"!=typeof module&&module.exports?module.exports=w:\"function\"===typeof define&&define.amd?define(\"eve\",[],function(){return w}):N.eve=w})(this);\n",
       "(function(N,k){\"function\"===typeof define&&define.amd?define(\"Snap.svg\",[\"eve\"],function(L){return k(N,L)}):k(N,N.eve)})(this,function(N,k){var L=function(a){var k={},y=N.requestAnimationFrame||N.webkitRequestAnimationFrame||N.mozRequestAnimationFrame||N.oRequestAnimationFrame||N.msRequestAnimationFrame||function(a){setTimeout(a,16)},M=Array.isArray||function(a){return a instanceof Array||\"[object Array]\"==Object.prototype.toString.call(a)},A=0,w=\"M\"+(+new Date).toString(36),z=function(a){if(null==\n",
       "a)return this.s;var b=this.s-a;this.b+=this.dur*b;this.B+=this.dur*b;this.s=a},d=function(a){if(null==a)return this.spd;this.spd=a},f=function(a){if(null==a)return this.dur;this.s=this.s*a/this.dur;this.dur=a},n=function(){delete k[this.id];this.update();a(\"mina.stop.\"+this.id,this)},u=function(){this.pdif||(delete k[this.id],this.update(),this.pdif=this.get()-this.b)},p=function(){this.pdif&&(this.b=this.get()-this.pdif,delete this.pdif,k[this.id]=this)},b=function(){var a;if(M(this.start)){a=[];\n",
       "for(var b=0,e=this.start.length;b<e;b++)a[b]=+this.start[b]+(this.end[b]-this.start[b])*this.easing(this.s)}else a=+this.start+(this.end-this.start)*this.easing(this.s);this.set(a)},q=function(){var l=0,b;for(b in k)if(k.hasOwnProperty(b)){var e=k[b],f=e.get();l++;e.s=(f-e.b)/(e.dur/e.spd);1<=e.s&&(delete k[b],e.s=1,l--,function(b){setTimeout(function(){a(\"mina.finish.\"+b.id,b)})}(e));e.update()}l&&y(q)},e=function(a,r,s,x,G,h,J){a={id:w+(A++).toString(36),start:a,end:r,b:s,s:0,dur:x-s,spd:1,get:G,\n",
       "set:h,easing:J||e.linear,status:z,speed:d,duration:f,stop:n,pause:u,resume:p,update:b};k[a.id]=a;r=0;for(var K in k)if(k.hasOwnProperty(K)&&(r++,2==r))break;1==r&&y(q);return a};e.time=Date.now||function(){return+new Date};e.getById=function(a){return k[a]||null};e.linear=function(a){return a};e.easeout=function(a){return Math.pow(a,1.7)};e.easein=function(a){return Math.pow(a,0.48)};e.easeinout=function(a){if(1==a)return 1;if(0==a)return 0;var b=0.48-a/1.04,e=Math.sqrt(0.1734+b*b);a=e-b;a=Math.pow(Math.abs(a),\n",
       "1/3)*(0>a?-1:1);b=-e-b;b=Math.pow(Math.abs(b),1/3)*(0>b?-1:1);a=a+b+0.5;return 3*(1-a)*a*a+a*a*a};e.backin=function(a){return 1==a?1:a*a*(2.70158*a-1.70158)};e.backout=function(a){if(0==a)return 0;a-=1;return a*a*(2.70158*a+1.70158)+1};e.elastic=function(a){return a==!!a?a:Math.pow(2,-10*a)*Math.sin(2*(a-0.075)*Math.PI/0.3)+1};e.bounce=function(a){a<1/2.75?a*=7.5625*a:a<2/2.75?(a-=1.5/2.75,a=7.5625*a*a+0.75):a<2.5/2.75?(a-=2.25/2.75,a=7.5625*a*a+0.9375):(a-=2.625/2.75,a=7.5625*a*a+0.984375);return a};\n",
       "return N.mina=e}(\"undefined\"==typeof k?function(){}:k),C=function(){function a(c,t){if(c){if(c.tagName)return x(c);if(y(c,\"array\")&&a.set)return a.set.apply(a,c);if(c instanceof e)return c;if(null==t)return c=G.doc.querySelector(c),x(c)}return new s(null==c?\"100%\":c,null==t?\"100%\":t)}function v(c,a){if(a){\"#text\"==c&&(c=G.doc.createTextNode(a.text||\"\"));\"string\"==typeof c&&(c=v(c));if(\"string\"==typeof a)return\"xlink:\"==a.substring(0,6)?c.getAttributeNS(m,a.substring(6)):\"xml:\"==a.substring(0,4)?c.getAttributeNS(la,\n",
       "a.substring(4)):c.getAttribute(a);for(var da in a)if(a[h](da)){var b=J(a[da]);b?\"xlink:\"==da.substring(0,6)?c.setAttributeNS(m,da.substring(6),b):\"xml:\"==da.substring(0,4)?c.setAttributeNS(la,da.substring(4),b):c.setAttribute(da,b):c.removeAttribute(da)}}else c=G.doc.createElementNS(la,c);return c}function y(c,a){a=J.prototype.toLowerCase.call(a);return\"finite\"==a?isFinite(c):\"array\"==a&&(c instanceof Array||Array.isArray&&Array.isArray(c))?!0:\"null\"==a&&null===c||a==typeof c&&null!==c||\"object\"==\n",
       "a&&c===Object(c)||$.call(c).slice(8,-1).toLowerCase()==a}function M(c){if(\"function\"==typeof c||Object(c)!==c)return c;var a=new c.constructor,b;for(b in c)c[h](b)&&(a[b]=M(c[b]));return a}function A(c,a,b){function m(){var e=Array.prototype.slice.call(arguments,0),f=e.join(\"\\u2400\"),d=m.cache=m.cache||{},l=m.count=m.count||[];if(d[h](f)){a:for(var e=l,l=f,B=0,H=e.length;B<H;B++)if(e[B]===l){e.push(e.splice(B,1)[0]);break a}return b?b(d[f]):d[f]}1E3<=l.length&&delete d[l.shift()];l.push(f);d[f]=c.apply(a,\n",
       "e);return b?b(d[f]):d[f]}return m}function w(c,a,b,m,e,f){return null==e?(c-=b,a-=m,c||a?(180*I.atan2(-a,-c)/C+540)%360:0):w(c,a,e,f)-w(b,m,e,f)}function z(c){return c%360*C/180}function d(c){var a=[];c=c.replace(/(?:^|\\s)(\\w+)\\(([^)]+)\\)/g,function(c,b,m){m=m.split(/\\s*,\\s*|\\s+/);\"rotate\"==b&&1==m.length&&m.push(0,0);\"scale\"==b&&(2<m.length?m=m.slice(0,2):2==m.length&&m.push(0,0),1==m.length&&m.push(m[0],0,0));\"skewX\"==b?a.push([\"m\",1,0,I.tan(z(m[0])),1,0,0]):\"skewY\"==b?a.push([\"m\",1,I.tan(z(m[0])),\n",
       "0,1,0,0]):a.push([b.charAt(0)].concat(m));return c});return a}function f(c,t){var b=O(c),m=new a.Matrix;if(b)for(var e=0,f=b.length;e<f;e++){var h=b[e],d=h.length,B=J(h[0]).toLowerCase(),H=h[0]!=B,l=H?m.invert():0,E;\"t\"==B&&2==d?m.translate(h[1],0):\"t\"==B&&3==d?H?(d=l.x(0,0),B=l.y(0,0),H=l.x(h[1],h[2]),l=l.y(h[1],h[2]),m.translate(H-d,l-B)):m.translate(h[1],h[2]):\"r\"==B?2==d?(E=E||t,m.rotate(h[1],E.x+E.width/2,E.y+E.height/2)):4==d&&(H?(H=l.x(h[2],h[3]),l=l.y(h[2],h[3]),m.rotate(h[1],H,l)):m.rotate(h[1],\n",
       "h[2],h[3])):\"s\"==B?2==d||3==d?(E=E||t,m.scale(h[1],h[d-1],E.x+E.width/2,E.y+E.height/2)):4==d?H?(H=l.x(h[2],h[3]),l=l.y(h[2],h[3]),m.scale(h[1],h[1],H,l)):m.scale(h[1],h[1],h[2],h[3]):5==d&&(H?(H=l.x(h[3],h[4]),l=l.y(h[3],h[4]),m.scale(h[1],h[2],H,l)):m.scale(h[1],h[2],h[3],h[4])):\"m\"==B&&7==d&&m.add(h[1],h[2],h[3],h[4],h[5],h[6])}return m}function n(c,t){if(null==t){var m=!0;t=\"linearGradient\"==c.type||\"radialGradient\"==c.type?c.node.getAttribute(\"gradientTransform\"):\"pattern\"==c.type?c.node.getAttribute(\"patternTransform\"):\n",
       "c.node.getAttribute(\"transform\");if(!t)return new a.Matrix;t=d(t)}else t=a._.rgTransform.test(t)?J(t).replace(/\\.{3}|\\u2026/g,c._.transform||aa):d(t),y(t,\"array\")&&(t=a.path?a.path.toString.call(t):J(t)),c._.transform=t;var b=f(t,c.getBBox(1));if(m)return b;c.matrix=b}function u(c){c=c.node.ownerSVGElement&&x(c.node.ownerSVGElement)||c.node.parentNode&&x(c.node.parentNode)||a.select(\"svg\")||a(0,0);var t=c.select(\"defs\"),t=null==t?!1:t.node;t||(t=r(\"defs\",c.node).node);return t}function p(c){return c.node.ownerSVGElement&&\n",
       "x(c.node.ownerSVGElement)||a.select(\"svg\")}function b(c,a,m){function b(c){if(null==c)return aa;if(c==+c)return c;v(B,{width:c});try{return B.getBBox().width}catch(a){return 0}}function h(c){if(null==c)return aa;if(c==+c)return c;v(B,{height:c});try{return B.getBBox().height}catch(a){return 0}}function e(b,B){null==a?d[b]=B(c.attr(b)||0):b==a&&(d=B(null==m?c.attr(b)||0:m))}var f=p(c).node,d={},B=f.querySelector(\".svg---mgr\");B||(B=v(\"rect\"),v(B,{x:-9E9,y:-9E9,width:10,height:10,\"class\":\"svg---mgr\",\n",
       "fill:\"none\"}),f.appendChild(B));switch(c.type){case \"rect\":e(\"rx\",b),e(\"ry\",h);case \"image\":e(\"width\",b),e(\"height\",h);case \"text\":e(\"x\",b);e(\"y\",h);break;case \"circle\":e(\"cx\",b);e(\"cy\",h);e(\"r\",b);break;case \"ellipse\":e(\"cx\",b);e(\"cy\",h);e(\"rx\",b);e(\"ry\",h);break;case \"line\":e(\"x1\",b);e(\"x2\",b);e(\"y1\",h);e(\"y2\",h);break;case \"marker\":e(\"refX\",b);e(\"markerWidth\",b);e(\"refY\",h);e(\"markerHeight\",h);break;case \"radialGradient\":e(\"fx\",b);e(\"fy\",h);break;case \"tspan\":e(\"dx\",b);e(\"dy\",h);break;default:e(a,\n",
       "b)}f.removeChild(B);return d}function q(c){y(c,\"array\")||(c=Array.prototype.slice.call(arguments,0));for(var a=0,b=0,m=this.node;this[a];)delete this[a++];for(a=0;a<c.length;a++)\"set\"==c[a].type?c[a].forEach(function(c){m.appendChild(c.node)}):m.appendChild(c[a].node);for(var h=m.childNodes,a=0;a<h.length;a++)this[b++]=x(h[a]);return this}function e(c){if(c.snap in E)return E[c.snap];var a=this.id=V(),b;try{b=c.ownerSVGElement}catch(m){}this.node=c;b&&(this.paper=new s(b));this.type=c.tagName;this.anims=\n",
       "{};this._={transform:[]};c.snap=a;E[a]=this;\"g\"==this.type&&(this.add=q);if(this.type in{g:1,mask:1,pattern:1})for(var e in s.prototype)s.prototype[h](e)&&(this[e]=s.prototype[e])}function l(c){this.node=c}function r(c,a){var b=v(c);a.appendChild(b);return x(b)}function s(c,a){var b,m,f,d=s.prototype;if(c&&\"svg\"==c.tagName){if(c.snap in E)return E[c.snap];var l=c.ownerDocument;b=new e(c);m=c.getElementsByTagName(\"desc\")[0];f=c.getElementsByTagName(\"defs\")[0];m||(m=v(\"desc\"),m.appendChild(l.createTextNode(\"Created with Snap\")),\n",
       "b.node.appendChild(m));f||(f=v(\"defs\"),b.node.appendChild(f));b.defs=f;for(var ca in d)d[h](ca)&&(b[ca]=d[ca]);b.paper=b.root=b}else b=r(\"svg\",G.doc.body),v(b.node,{height:a,version:1.1,width:c,xmlns:la});return b}function x(c){return!c||c instanceof e||c instanceof l?c:c.tagName&&\"svg\"==c.tagName.toLowerCase()?new s(c):c.tagName&&\"object\"==c.tagName.toLowerCase()&&\"image/svg+xml\"==c.type?new s(c.contentDocument.getElementsByTagName(\"svg\")[0]):new e(c)}a.version=\"0.3.0\";a.toString=function(){return\"Snap v\"+\n",
       "this.version};a._={};var G={win:N,doc:N.document};a._.glob=G;var h=\"hasOwnProperty\",J=String,K=parseFloat,U=parseInt,I=Math,P=I.max,Q=I.min,Y=I.abs,C=I.PI,aa=\"\",$=Object.prototype.toString,F=/^\\s*((#[a-f\\d]{6})|(#[a-f\\d]{3})|rgba?\\(\\s*([\\d\\.]+%?\\s*,\\s*[\\d\\.]+%?\\s*,\\s*[\\d\\.]+%?(?:\\s*,\\s*[\\d\\.]+%?)?)\\s*\\)|hsba?\\(\\s*([\\d\\.]+(?:deg|\\xb0|%)?\\s*,\\s*[\\d\\.]+%?\\s*,\\s*[\\d\\.]+(?:%?\\s*,\\s*[\\d\\.]+)?%?)\\s*\\)|hsla?\\(\\s*([\\d\\.]+(?:deg|\\xb0|%)?\\s*,\\s*[\\d\\.]+%?\\s*,\\s*[\\d\\.]+(?:%?\\s*,\\s*[\\d\\.]+)?%?)\\s*\\))\\s*$/i;a._.separator=\n",
       "RegExp(\"[,\\t\\n\\x0B\\f\\r \\u00a0\\u1680\\u180e\\u2000\\u2001\\u2002\\u2003\\u2004\\u2005\\u2006\\u2007\\u2008\\u2009\\u200a\\u202f\\u205f\\u3000\\u2028\\u2029]+\");var S=RegExp(\"[\\t\\n\\x0B\\f\\r \\u00a0\\u1680\\u180e\\u2000\\u2001\\u2002\\u2003\\u2004\\u2005\\u2006\\u2007\\u2008\\u2009\\u200a\\u202f\\u205f\\u3000\\u2028\\u2029]*,[\\t\\n\\x0B\\f\\r \\u00a0\\u1680\\u180e\\u2000\\u2001\\u2002\\u2003\\u2004\\u2005\\u2006\\u2007\\u2008\\u2009\\u200a\\u202f\\u205f\\u3000\\u2028\\u2029]*\"),X={hs:1,rg:1},W=RegExp(\"([a-z])[\\t\\n\\x0B\\f\\r \\u00a0\\u1680\\u180e\\u2000\\u2001\\u2002\\u2003\\u2004\\u2005\\u2006\\u2007\\u2008\\u2009\\u200a\\u202f\\u205f\\u3000\\u2028\\u2029,]*((-?\\\\d*\\\\.?\\\\d*(?:e[\\\\-+]?\\\\d+)?[\\t\\n\\x0B\\f\\r \\u00a0\\u1680\\u180e\\u2000\\u2001\\u2002\\u2003\\u2004\\u2005\\u2006\\u2007\\u2008\\u2009\\u200a\\u202f\\u205f\\u3000\\u2028\\u2029]*,?[\\t\\n\\x0B\\f\\r \\u00a0\\u1680\\u180e\\u2000\\u2001\\u2002\\u2003\\u2004\\u2005\\u2006\\u2007\\u2008\\u2009\\u200a\\u202f\\u205f\\u3000\\u2028\\u2029]*)+)\",\n",
       "\"ig\"),ma=RegExp(\"([rstm])[\\t\\n\\x0B\\f\\r \\u00a0\\u1680\\u180e\\u2000\\u2001\\u2002\\u2003\\u2004\\u2005\\u2006\\u2007\\u2008\\u2009\\u200a\\u202f\\u205f\\u3000\\u2028\\u2029,]*((-?\\\\d*\\\\.?\\\\d*(?:e[\\\\-+]?\\\\d+)?[\\t\\n\\x0B\\f\\r \\u00a0\\u1680\\u180e\\u2000\\u2001\\u2002\\u2003\\u2004\\u2005\\u2006\\u2007\\u2008\\u2009\\u200a\\u202f\\u205f\\u3000\\u2028\\u2029]*,?[\\t\\n\\x0B\\f\\r \\u00a0\\u1680\\u180e\\u2000\\u2001\\u2002\\u2003\\u2004\\u2005\\u2006\\u2007\\u2008\\u2009\\u200a\\u202f\\u205f\\u3000\\u2028\\u2029]*)+)\",\"ig\"),Z=RegExp(\"(-?\\\\d*\\\\.?\\\\d*(?:e[\\\\-+]?\\\\d+)?)[\\t\\n\\x0B\\f\\r \\u00a0\\u1680\\u180e\\u2000\\u2001\\u2002\\u2003\\u2004\\u2005\\u2006\\u2007\\u2008\\u2009\\u200a\\u202f\\u205f\\u3000\\u2028\\u2029]*,?[\\t\\n\\x0B\\f\\r \\u00a0\\u1680\\u180e\\u2000\\u2001\\u2002\\u2003\\u2004\\u2005\\u2006\\u2007\\u2008\\u2009\\u200a\\u202f\\u205f\\u3000\\u2028\\u2029]*\",\n",
       "\"ig\"),na=0,ba=\"S\"+(+new Date).toString(36),V=function(){return ba+(na++).toString(36)},m=\"http://www.w3.org/1999/xlink\",la=\"http://www.w3.org/2000/svg\",E={},ca=a.url=function(c){return\"url('#\"+c+\"')\"};a._.$=v;a._.id=V;a.format=function(){var c=/\\{([^\\}]+)\\}/g,a=/(?:(?:^|\\.)(.+?)(?=\\[|\\.|$|\\()|\\[('|\")(.+?)\\2\\])(\\(\\))?/g,b=function(c,b,m){var h=m;b.replace(a,function(c,a,b,m,t){a=a||m;h&&(a in h&&(h=h[a]),\"function\"==typeof h&&t&&(h=h()))});return h=(null==h||h==m?c:h)+\"\"};return function(a,m){return J(a).replace(c,\n",
       "function(c,a){return b(c,a,m)})}}();a._.clone=M;a._.cacher=A;a.rad=z;a.deg=function(c){return 180*c/C%360};a.angle=w;a.is=y;a.snapTo=function(c,a,b){b=y(b,\"finite\")?b:10;if(y(c,\"array\"))for(var m=c.length;m--;){if(Y(c[m]-a)<=b)return c[m]}else{c=+c;m=a%c;if(m<b)return a-m;if(m>c-b)return a-m+c}return a};a.getRGB=A(function(c){if(!c||(c=J(c)).indexOf(\"-\")+1)return{r:-1,g:-1,b:-1,hex:\"none\",error:1,toString:ka};if(\"none\"==c)return{r:-1,g:-1,b:-1,hex:\"none\",toString:ka};!X[h](c.toLowerCase().substring(0,\n",
       "2))&&\"#\"!=c.charAt()&&(c=T(c));if(!c)return{r:-1,g:-1,b:-1,hex:\"none\",error:1,toString:ka};var b,m,e,f,d;if(c=c.match(F)){c[2]&&(e=U(c[2].substring(5),16),m=U(c[2].substring(3,5),16),b=U(c[2].substring(1,3),16));c[3]&&(e=U((d=c[3].charAt(3))+d,16),m=U((d=c[3].charAt(2))+d,16),b=U((d=c[3].charAt(1))+d,16));c[4]&&(d=c[4].split(S),b=K(d[0]),\"%\"==d[0].slice(-1)&&(b*=2.55),m=K(d[1]),\"%\"==d[1].slice(-1)&&(m*=2.55),e=K(d[2]),\"%\"==d[2].slice(-1)&&(e*=2.55),\"rgba\"==c[1].toLowerCase().slice(0,4)&&(f=K(d[3])),\n",
       "d[3]&&\"%\"==d[3].slice(-1)&&(f/=100));if(c[5])return d=c[5].split(S),b=K(d[0]),\"%\"==d[0].slice(-1)&&(b/=100),m=K(d[1]),\"%\"==d[1].slice(-1)&&(m/=100),e=K(d[2]),\"%\"==d[2].slice(-1)&&(e/=100),\"deg\"!=d[0].slice(-3)&&\"\\u00b0\"!=d[0].slice(-1)||(b/=360),\"hsba\"==c[1].toLowerCase().slice(0,4)&&(f=K(d[3])),d[3]&&\"%\"==d[3].slice(-1)&&(f/=100),a.hsb2rgb(b,m,e,f);if(c[6])return d=c[6].split(S),b=K(d[0]),\"%\"==d[0].slice(-1)&&(b/=100),m=K(d[1]),\"%\"==d[1].slice(-1)&&(m/=100),e=K(d[2]),\"%\"==d[2].slice(-1)&&(e/=100),\n",
       "\"deg\"!=d[0].slice(-3)&&\"\\u00b0\"!=d[0].slice(-1)||(b/=360),\"hsla\"==c[1].toLowerCase().slice(0,4)&&(f=K(d[3])),d[3]&&\"%\"==d[3].slice(-1)&&(f/=100),a.hsl2rgb(b,m,e,f);b=Q(I.round(b),255);m=Q(I.round(m),255);e=Q(I.round(e),255);f=Q(P(f,0),1);c={r:b,g:m,b:e,toString:ka};c.hex=\"#\"+(16777216|e|m<<8|b<<16).toString(16).slice(1);c.opacity=y(f,\"finite\")?f:1;return c}return{r:-1,g:-1,b:-1,hex:\"none\",error:1,toString:ka}},a);a.hsb=A(function(c,b,m){return a.hsb2rgb(c,b,m).hex});a.hsl=A(function(c,b,m){return a.hsl2rgb(c,\n",
       "b,m).hex});a.rgb=A(function(c,a,b,m){if(y(m,\"finite\")){var e=I.round;return\"rgba(\"+[e(c),e(a),e(b),+m.toFixed(2)]+\")\"}return\"#\"+(16777216|b|a<<8|c<<16).toString(16).slice(1)});var T=function(c){var a=G.doc.getElementsByTagName(\"head\")[0]||G.doc.getElementsByTagName(\"svg\")[0];T=A(function(c){if(\"red\"==c.toLowerCase())return\"rgb(255, 0, 0)\";a.style.color=\"rgb(255, 0, 0)\";a.style.color=c;c=G.doc.defaultView.getComputedStyle(a,aa).getPropertyValue(\"color\");return\"rgb(255, 0, 0)\"==c?null:c});return T(c)},\n",
       "qa=function(){return\"hsb(\"+[this.h,this.s,this.b]+\")\"},ra=function(){return\"hsl(\"+[this.h,this.s,this.l]+\")\"},ka=function(){return 1==this.opacity||null==this.opacity?this.hex:\"rgba(\"+[this.r,this.g,this.b,this.opacity]+\")\"},D=function(c,b,m){null==b&&y(c,\"object\")&&\"r\"in c&&\"g\"in c&&\"b\"in c&&(m=c.b,b=c.g,c=c.r);null==b&&y(c,string)&&(m=a.getRGB(c),c=m.r,b=m.g,m=m.b);if(1<c||1<b||1<m)c/=255,b/=255,m/=255;return[c,b,m]},oa=function(c,b,m,e){c=I.round(255*c);b=I.round(255*b);m=I.round(255*m);c={r:c,\n",
       "g:b,b:m,opacity:y(e,\"finite\")?e:1,hex:a.rgb(c,b,m),toString:ka};y(e,\"finite\")&&(c.opacity=e);return c};a.color=function(c){var b;y(c,\"object\")&&\"h\"in c&&\"s\"in c&&\"b\"in c?(b=a.hsb2rgb(c),c.r=b.r,c.g=b.g,c.b=b.b,c.opacity=1,c.hex=b.hex):y(c,\"object\")&&\"h\"in c&&\"s\"in c&&\"l\"in c?(b=a.hsl2rgb(c),c.r=b.r,c.g=b.g,c.b=b.b,c.opacity=1,c.hex=b.hex):(y(c,\"string\")&&(c=a.getRGB(c)),y(c,\"object\")&&\"r\"in c&&\"g\"in c&&\"b\"in c&&!(\"error\"in c)?(b=a.rgb2hsl(c),c.h=b.h,c.s=b.s,c.l=b.l,b=a.rgb2hsb(c),c.v=b.b):(c={hex:\"none\"},\n",
       "c.r=c.g=c.b=c.h=c.s=c.v=c.l=-1,c.error=1));c.toString=ka;return c};a.hsb2rgb=function(c,a,b,m){y(c,\"object\")&&\"h\"in c&&\"s\"in c&&\"b\"in c&&(b=c.b,a=c.s,c=c.h,m=c.o);var e,h,d;c=360*c%360/60;d=b*a;a=d*(1-Y(c%2-1));b=e=h=b-d;c=~~c;b+=[d,a,0,0,a,d][c];e+=[a,d,d,a,0,0][c];h+=[0,0,a,d,d,a][c];return oa(b,e,h,m)};a.hsl2rgb=function(c,a,b,m){y(c,\"object\")&&\"h\"in c&&\"s\"in c&&\"l\"in c&&(b=c.l,a=c.s,c=c.h);if(1<c||1<a||1<b)c/=360,a/=100,b/=100;var e,h,d;c=360*c%360/60;d=2*a*(0.5>b?b:1-b);a=d*(1-Y(c%2-1));b=e=\n",
       "h=b-d/2;c=~~c;b+=[d,a,0,0,a,d][c];e+=[a,d,d,a,0,0][c];h+=[0,0,a,d,d,a][c];return oa(b,e,h,m)};a.rgb2hsb=function(c,a,b){b=D(c,a,b);c=b[0];a=b[1];b=b[2];var m,e;m=P(c,a,b);e=m-Q(c,a,b);c=((0==e?0:m==c?(a-b)/e:m==a?(b-c)/e+2:(c-a)/e+4)+360)%6*60/360;return{h:c,s:0==e?0:e/m,b:m,toString:qa}};a.rgb2hsl=function(c,a,b){b=D(c,a,b);c=b[0];a=b[1];b=b[2];var m,e,h;m=P(c,a,b);e=Q(c,a,b);h=m-e;c=((0==h?0:m==c?(a-b)/h:m==a?(b-c)/h+2:(c-a)/h+4)+360)%6*60/360;m=(m+e)/2;return{h:c,s:0==h?0:0.5>m?h/(2*m):h/(2-2*\n",
       "m),l:m,toString:ra}};a.parsePathString=function(c){if(!c)return null;var b=a.path(c);if(b.arr)return a.path.clone(b.arr);var m={a:7,c:6,o:2,h:1,l:2,m:2,r:4,q:4,s:4,t:2,v:1,u:3,z:0},e=[];y(c,\"array\")&&y(c[0],\"array\")&&(e=a.path.clone(c));e.length||J(c).replace(W,function(c,a,b){var h=[];c=a.toLowerCase();b.replace(Z,function(c,a){a&&h.push(+a)});\"m\"==c&&2<h.length&&(e.push([a].concat(h.splice(0,2))),c=\"l\",a=\"m\"==a?\"l\":\"L\");\"o\"==c&&1==h.length&&e.push([a,h[0] ]);if(\"r\"==c)e.push([a].concat(h));else for(;h.length>=\n",
       "m[c]&&(e.push([a].concat(h.splice(0,m[c]))),m[c]););});e.toString=a.path.toString;b.arr=a.path.clone(e);return e};var O=a.parseTransformString=function(c){if(!c)return null;var b=[];y(c,\"array\")&&y(c[0],\"array\")&&(b=a.path.clone(c));b.length||J(c).replace(ma,function(c,a,m){var e=[];a.toLowerCase();m.replace(Z,function(c,a){a&&e.push(+a)});b.push([a].concat(e))});b.toString=a.path.toString;return b};a._.svgTransform2string=d;a._.rgTransform=RegExp(\"^[a-z][\\t\\n\\x0B\\f\\r \\u00a0\\u1680\\u180e\\u2000\\u2001\\u2002\\u2003\\u2004\\u2005\\u2006\\u2007\\u2008\\u2009\\u200a\\u202f\\u205f\\u3000\\u2028\\u2029]*-?\\\\.?\\\\d\",\n",
       "\"i\");a._.transform2matrix=f;a._unit2px=b;a._.getSomeDefs=u;a._.getSomeSVG=p;a.select=function(c){return x(G.doc.querySelector(c))};a.selectAll=function(c){c=G.doc.querySelectorAll(c);for(var b=(a.set||Array)(),m=0;m<c.length;m++)b.push(x(c[m]));return b};setInterval(function(){for(var c in E)if(E[h](c)){var a=E[c],b=a.node;(\"svg\"!=a.type&&!b.ownerSVGElement||\"svg\"==a.type&&(!b.parentNode||\"ownerSVGElement\"in b.parentNode&&!b.ownerSVGElement))&&delete E[c]}},1E4);(function(c){function m(c){function a(c,\n",
       "b){var m=v(c.node,b);(m=(m=m&&m.match(d))&&m[2])&&\"#\"==m.charAt()&&(m=m.substring(1))&&(f[m]=(f[m]||[]).concat(function(a){var m={};m[b]=ca(a);v(c.node,m)}))}function b(c){var a=v(c.node,\"xlink:href\");a&&\"#\"==a.charAt()&&(a=a.substring(1))&&(f[a]=(f[a]||[]).concat(function(a){c.attr(\"xlink:href\",\"#\"+a)}))}var e=c.selectAll(\"*\"),h,d=/^\\s*url\\((\"|'|)(.*)\\1\\)\\s*$/;c=[];for(var f={},l=0,E=e.length;l<E;l++){h=e[l];a(h,\"fill\");a(h,\"stroke\");a(h,\"filter\");a(h,\"mask\");a(h,\"clip-path\");b(h);var t=v(h.node,\n",
       "\"id\");t&&(v(h.node,{id:h.id}),c.push({old:t,id:h.id}))}l=0;for(E=c.length;l<E;l++)if(e=f[c[l].old])for(h=0,t=e.length;h<t;h++)e[h](c[l].id)}function e(c,a,b){return function(m){m=m.slice(c,a);1==m.length&&(m=m[0]);return b?b(m):m}}function d(c){return function(){var a=c?\"<\"+this.type:\"\",b=this.node.attributes,m=this.node.childNodes;if(c)for(var e=0,h=b.length;e<h;e++)a+=\" \"+b[e].name+'=\"'+b[e].value.replace(/\"/g,'\\\\\"')+'\"';if(m.length){c&&(a+=\">\");e=0;for(h=m.length;e<h;e++)3==m[e].nodeType?a+=m[e].nodeValue:\n",
       "1==m[e].nodeType&&(a+=x(m[e]).toString());c&&(a+=\"</\"+this.type+\">\")}else c&&(a+=\"/>\");return a}}c.attr=function(c,a){if(!c)return this;if(y(c,\"string\"))if(1<arguments.length){var b={};b[c]=a;c=b}else return k(\"snap.util.getattr.\"+c,this).firstDefined();for(var m in c)c[h](m)&&k(\"snap.util.attr.\"+m,this,c[m]);return this};c.getBBox=function(c){if(!a.Matrix||!a.path)return this.node.getBBox();var b=this,m=new a.Matrix;if(b.removed)return a._.box();for(;\"use\"==b.type;)if(c||(m=m.add(b.transform().localMatrix.translate(b.attr(\"x\")||\n",
       "0,b.attr(\"y\")||0))),b.original)b=b.original;else var e=b.attr(\"xlink:href\"),b=b.original=b.node.ownerDocument.getElementById(e.substring(e.indexOf(\"#\")+1));var e=b._,h=a.path.get[b.type]||a.path.get.deflt;try{if(c)return e.bboxwt=h?a.path.getBBox(b.realPath=h(b)):a._.box(b.node.getBBox()),a._.box(e.bboxwt);b.realPath=h(b);b.matrix=b.transform().localMatrix;e.bbox=a.path.getBBox(a.path.map(b.realPath,m.add(b.matrix)));return a._.box(e.bbox)}catch(d){return a._.box()}};var f=function(){return this.string};\n",
       "c.transform=function(c){var b=this._;if(null==c){var m=this;c=new a.Matrix(this.node.getCTM());for(var e=n(this),h=[e],d=new a.Matrix,l=e.toTransformString(),b=J(e)==J(this.matrix)?J(b.transform):l;\"svg\"!=m.type&&(m=m.parent());)h.push(n(m));for(m=h.length;m--;)d.add(h[m]);return{string:b,globalMatrix:c,totalMatrix:d,localMatrix:e,diffMatrix:c.clone().add(e.invert()),global:c.toTransformString(),total:d.toTransformString(),local:l,toString:f}}c instanceof a.Matrix?this.matrix=c:n(this,c);this.node&&\n",
       "(\"linearGradient\"==this.type||\"radialGradient\"==this.type?v(this.node,{gradientTransform:this.matrix}):\"pattern\"==this.type?v(this.node,{patternTransform:this.matrix}):v(this.node,{transform:this.matrix}));return this};c.parent=function(){return x(this.node.parentNode)};c.append=c.add=function(c){if(c){if(\"set\"==c.type){var a=this;c.forEach(function(c){a.add(c)});return this}c=x(c);this.node.appendChild(c.node);c.paper=this.paper}return this};c.appendTo=function(c){c&&(c=x(c),c.append(this));return this};\n",
       "c.prepend=function(c){if(c){if(\"set\"==c.type){var a=this,b;c.forEach(function(c){b?b.after(c):a.prepend(c);b=c});return this}c=x(c);var m=c.parent();this.node.insertBefore(c.node,this.node.firstChild);this.add&&this.add();c.paper=this.paper;this.parent()&&this.parent().add();m&&m.add()}return this};c.prependTo=function(c){c=x(c);c.prepend(this);return this};c.before=function(c){if(\"set\"==c.type){var a=this;c.forEach(function(c){var b=c.parent();a.node.parentNode.insertBefore(c.node,a.node);b&&b.add()});\n",
       "this.parent().add();return this}c=x(c);var b=c.parent();this.node.parentNode.insertBefore(c.node,this.node);this.parent()&&this.parent().add();b&&b.add();c.paper=this.paper;return this};c.after=function(c){c=x(c);var a=c.parent();this.node.nextSibling?this.node.parentNode.insertBefore(c.node,this.node.nextSibling):this.node.parentNode.appendChild(c.node);this.parent()&&this.parent().add();a&&a.add();c.paper=this.paper;return this};c.insertBefore=function(c){c=x(c);var a=this.parent();c.node.parentNode.insertBefore(this.node,\n",
       "c.node);this.paper=c.paper;a&&a.add();c.parent()&&c.parent().add();return this};c.insertAfter=function(c){c=x(c);var a=this.parent();c.node.parentNode.insertBefore(this.node,c.node.nextSibling);this.paper=c.paper;a&&a.add();c.parent()&&c.parent().add();return this};c.remove=function(){var c=this.parent();this.node.parentNode&&this.node.parentNode.removeChild(this.node);delete this.paper;this.removed=!0;c&&c.add();return this};c.select=function(c){return x(this.node.querySelector(c))};c.selectAll=\n",
       "function(c){c=this.node.querySelectorAll(c);for(var b=(a.set||Array)(),m=0;m<c.length;m++)b.push(x(c[m]));return b};c.asPX=function(c,a){null==a&&(a=this.attr(c));return+b(this,c,a)};c.use=function(){var c,a=this.node.id;a||(a=this.id,v(this.node,{id:a}));c=\"linearGradient\"==this.type||\"radialGradient\"==this.type||\"pattern\"==this.type?r(this.type,this.node.parentNode):r(\"use\",this.node.parentNode);v(c.node,{\"xlink:href\":\"#\"+a});c.original=this;return c};var l=/\\S+/g;c.addClass=function(c){var a=(c||\n",
       "\"\").match(l)||[];c=this.node;var b=c.className.baseVal,m=b.match(l)||[],e,h,d;if(a.length){for(e=0;d=a[e++];)h=m.indexOf(d),~h||m.push(d);a=m.join(\" \");b!=a&&(c.className.baseVal=a)}return this};c.removeClass=function(c){var a=(c||\"\").match(l)||[];c=this.node;var b=c.className.baseVal,m=b.match(l)||[],e,h;if(m.length){for(e=0;h=a[e++];)h=m.indexOf(h),~h&&m.splice(h,1);a=m.join(\" \");b!=a&&(c.className.baseVal=a)}return this};c.hasClass=function(c){return!!~(this.node.className.baseVal.match(l)||[]).indexOf(c)};\n",
       "c.toggleClass=function(c,a){if(null!=a)return a?this.addClass(c):this.removeClass(c);var b=(c||\"\").match(l)||[],m=this.node,e=m.className.baseVal,h=e.match(l)||[],d,f,E;for(d=0;E=b[d++];)f=h.indexOf(E),~f?h.splice(f,1):h.push(E);b=h.join(\" \");e!=b&&(m.className.baseVal=b);return this};c.clone=function(){var c=x(this.node.cloneNode(!0));v(c.node,\"id\")&&v(c.node,{id:c.id});m(c);c.insertAfter(this);return c};c.toDefs=function(){u(this).appendChild(this.node);return this};c.pattern=c.toPattern=function(c,\n",
       "a,b,m){var e=r(\"pattern\",u(this));null==c&&(c=this.getBBox());y(c,\"object\")&&\"x\"in c&&(a=c.y,b=c.width,m=c.height,c=c.x);v(e.node,{x:c,y:a,width:b,height:m,patternUnits:\"userSpaceOnUse\",id:e.id,viewBox:[c,a,b,m].join(\" \")});e.node.appendChild(this.node);return e};c.marker=function(c,a,b,m,e,h){var d=r(\"marker\",u(this));null==c&&(c=this.getBBox());y(c,\"object\")&&\"x\"in c&&(a=c.y,b=c.width,m=c.height,e=c.refX||c.cx,h=c.refY||c.cy,c=c.x);v(d.node,{viewBox:[c,a,b,m].join(\" \"),markerWidth:b,markerHeight:m,\n",
       "orient:\"auto\",refX:e||0,refY:h||0,id:d.id});d.node.appendChild(this.node);return d};var E=function(c,a,b,m){\"function\"!=typeof b||b.length||(m=b,b=L.linear);this.attr=c;this.dur=a;b&&(this.easing=b);m&&(this.callback=m)};a._.Animation=E;a.animation=function(c,a,b,m){return new E(c,a,b,m)};c.inAnim=function(){var c=[],a;for(a in this.anims)this.anims[h](a)&&function(a){c.push({anim:new E(a._attrs,a.dur,a.easing,a._callback),mina:a,curStatus:a.status(),status:function(c){return a.status(c)},stop:function(){a.stop()}})}(this.anims[a]);\n",
       "return c};a.animate=function(c,a,b,m,e,h){\"function\"!=typeof e||e.length||(h=e,e=L.linear);var d=L.time();c=L(c,a,d,d+m,L.time,b,e);h&&k.once(\"mina.finish.\"+c.id,h);return c};c.stop=function(){for(var c=this.inAnim(),a=0,b=c.length;a<b;a++)c[a].stop();return this};c.animate=function(c,a,b,m){\"function\"!=typeof b||b.length||(m=b,b=L.linear);c instanceof E&&(m=c.callback,b=c.easing,a=b.dur,c=c.attr);var d=[],f=[],l={},t,ca,n,T=this,q;for(q in c)if(c[h](q)){T.equal?(n=T.equal(q,J(c[q])),t=n.from,ca=\n",
       "n.to,n=n.f):(t=+T.attr(q),ca=+c[q]);var la=y(t,\"array\")?t.length:1;l[q]=e(d.length,d.length+la,n);d=d.concat(t);f=f.concat(ca)}t=L.time();var p=L(d,f,t,t+a,L.time,function(c){var a={},b;for(b in l)l[h](b)&&(a[b]=l[b](c));T.attr(a)},b);T.anims[p.id]=p;p._attrs=c;p._callback=m;k(\"snap.animcreated.\"+T.id,p);k.once(\"mina.finish.\"+p.id,function(){delete T.anims[p.id];m&&m.call(T)});k.once(\"mina.stop.\"+p.id,function(){delete T.anims[p.id]});return T};var T={};c.data=function(c,b){var m=T[this.id]=T[this.id]||\n",
       "{};if(0==arguments.length)return k(\"snap.data.get.\"+this.id,this,m,null),m;if(1==arguments.length){if(a.is(c,\"object\")){for(var e in c)c[h](e)&&this.data(e,c[e]);return this}k(\"snap.data.get.\"+this.id,this,m[c],c);return m[c]}m[c]=b;k(\"snap.data.set.\"+this.id,this,b,c);return this};c.removeData=function(c){null==c?T[this.id]={}:T[this.id]&&delete T[this.id][c];return this};c.outerSVG=c.toString=d(1);c.innerSVG=d()})(e.prototype);a.parse=function(c){var a=G.doc.createDocumentFragment(),b=!0,m=G.doc.createElement(\"div\");\n",
       "c=J(c);c.match(/^\\s*<\\s*svg(?:\\s|>)/)||(c=\"<svg>\"+c+\"</svg>\",b=!1);m.innerHTML=c;if(c=m.getElementsByTagName(\"svg\")[0])if(b)a=c;else for(;c.firstChild;)a.appendChild(c.firstChild);m.innerHTML=aa;return new l(a)};l.prototype.select=e.prototype.select;l.prototype.selectAll=e.prototype.selectAll;a.fragment=function(){for(var c=Array.prototype.slice.call(arguments,0),b=G.doc.createDocumentFragment(),m=0,e=c.length;m<e;m++){var h=c[m];h.node&&h.node.nodeType&&b.appendChild(h.node);h.nodeType&&b.appendChild(h);\n",
       "\"string\"==typeof h&&b.appendChild(a.parse(h).node)}return new l(b)};a._.make=r;a._.wrap=x;s.prototype.el=function(c,a){var b=r(c,this.node);a&&b.attr(a);return b};k.on(\"snap.util.getattr\",function(){var c=k.nt(),c=c.substring(c.lastIndexOf(\".\")+1),a=c.replace(/[A-Z]/g,function(c){return\"-\"+c.toLowerCase()});return pa[h](a)?this.node.ownerDocument.defaultView.getComputedStyle(this.node,null).getPropertyValue(a):v(this.node,c)});var pa={\"alignment-baseline\":0,\"baseline-shift\":0,clip:0,\"clip-path\":0,\n",
       "\"clip-rule\":0,color:0,\"color-interpolation\":0,\"color-interpolation-filters\":0,\"color-profile\":0,\"color-rendering\":0,cursor:0,direction:0,display:0,\"dominant-baseline\":0,\"enable-background\":0,fill:0,\"fill-opacity\":0,\"fill-rule\":0,filter:0,\"flood-color\":0,\"flood-opacity\":0,font:0,\"font-family\":0,\"font-size\":0,\"font-size-adjust\":0,\"font-stretch\":0,\"font-style\":0,\"font-variant\":0,\"font-weight\":0,\"glyph-orientation-horizontal\":0,\"glyph-orientation-vertical\":0,\"image-rendering\":0,kerning:0,\"letter-spacing\":0,\n",
       "\"lighting-color\":0,marker:0,\"marker-end\":0,\"marker-mid\":0,\"marker-start\":0,mask:0,opacity:0,overflow:0,\"pointer-events\":0,\"shape-rendering\":0,\"stop-color\":0,\"stop-opacity\":0,stroke:0,\"stroke-dasharray\":0,\"stroke-dashoffset\":0,\"stroke-linecap\":0,\"stroke-linejoin\":0,\"stroke-miterlimit\":0,\"stroke-opacity\":0,\"stroke-width\":0,\"text-anchor\":0,\"text-decoration\":0,\"text-rendering\":0,\"unicode-bidi\":0,visibility:0,\"word-spacing\":0,\"writing-mode\":0};k.on(\"snap.util.attr\",function(c){var a=k.nt(),b={},a=a.substring(a.lastIndexOf(\".\")+\n",
       "1);b[a]=c;var m=a.replace(/-(\\w)/gi,function(c,a){return a.toUpperCase()}),a=a.replace(/[A-Z]/g,function(c){return\"-\"+c.toLowerCase()});pa[h](a)?this.node.style[m]=null==c?aa:c:v(this.node,b)});a.ajax=function(c,a,b,m){var e=new XMLHttpRequest,h=V();if(e){if(y(a,\"function\"))m=b,b=a,a=null;else if(y(a,\"object\")){var d=[],f;for(f in a)a.hasOwnProperty(f)&&d.push(encodeURIComponent(f)+\"=\"+encodeURIComponent(a[f]));a=d.join(\"&\")}e.open(a?\"POST\":\"GET\",c,!0);a&&(e.setRequestHeader(\"X-Requested-With\",\"XMLHttpRequest\"),\n",
       "e.setRequestHeader(\"Content-type\",\"application/x-www-form-urlencoded\"));b&&(k.once(\"snap.ajax.\"+h+\".0\",b),k.once(\"snap.ajax.\"+h+\".200\",b),k.once(\"snap.ajax.\"+h+\".304\",b));e.onreadystatechange=function(){4==e.readyState&&k(\"snap.ajax.\"+h+\".\"+e.status,m,e)};if(4==e.readyState)return e;e.send(a);return e}};a.load=function(c,b,m){a.ajax(c,function(c){c=a.parse(c.responseText);m?b.call(m,c):b(c)})};a.getElementByPoint=function(c,a){var b,m,e=G.doc.elementFromPoint(c,a);if(G.win.opera&&\"svg\"==e.tagName){b=\n",
       "e;m=b.getBoundingClientRect();b=b.ownerDocument;var h=b.body,d=b.documentElement;b=m.top+(g.win.pageYOffset||d.scrollTop||h.scrollTop)-(d.clientTop||h.clientTop||0);m=m.left+(g.win.pageXOffset||d.scrollLeft||h.scrollLeft)-(d.clientLeft||h.clientLeft||0);h=e.createSVGRect();h.x=c-m;h.y=a-b;h.width=h.height=1;b=e.getIntersectionList(h,null);b.length&&(e=b[b.length-1])}return e?x(e):null};a.plugin=function(c){c(a,e,s,G,l)};return G.win.Snap=a}();C.plugin(function(a,k,y,M,A){function w(a,d,f,b,q,e){null==\n",
       "d&&\"[object SVGMatrix]\"==z.call(a)?(this.a=a.a,this.b=a.b,this.c=a.c,this.d=a.d,this.e=a.e,this.f=a.f):null!=a?(this.a=+a,this.b=+d,this.c=+f,this.d=+b,this.e=+q,this.f=+e):(this.a=1,this.c=this.b=0,this.d=1,this.f=this.e=0)}var z=Object.prototype.toString,d=String,f=Math;(function(n){function k(a){return a[0]*a[0]+a[1]*a[1]}function p(a){var d=f.sqrt(k(a));a[0]&&(a[0]/=d);a[1]&&(a[1]/=d)}n.add=function(a,d,e,f,n,p){var k=[[],[],[] ],u=[[this.a,this.c,this.e],[this.b,this.d,this.f],[0,0,1] ];d=[[a,\n",
       "e,n],[d,f,p],[0,0,1] ];a&&a instanceof w&&(d=[[a.a,a.c,a.e],[a.b,a.d,a.f],[0,0,1] ]);for(a=0;3>a;a++)for(e=0;3>e;e++){for(f=n=0;3>f;f++)n+=u[a][f]*d[f][e];k[a][e]=n}this.a=k[0][0];this.b=k[1][0];this.c=k[0][1];this.d=k[1][1];this.e=k[0][2];this.f=k[1][2];return this};n.invert=function(){var a=this.a*this.d-this.b*this.c;return new w(this.d/a,-this.b/a,-this.c/a,this.a/a,(this.c*this.f-this.d*this.e)/a,(this.b*this.e-this.a*this.f)/a)};n.clone=function(){return new w(this.a,this.b,this.c,this.d,this.e,\n",
       "this.f)};n.translate=function(a,d){return this.add(1,0,0,1,a,d)};n.scale=function(a,d,e,f){null==d&&(d=a);(e||f)&&this.add(1,0,0,1,e,f);this.add(a,0,0,d,0,0);(e||f)&&this.add(1,0,0,1,-e,-f);return this};n.rotate=function(b,d,e){b=a.rad(b);d=d||0;e=e||0;var l=+f.cos(b).toFixed(9);b=+f.sin(b).toFixed(9);this.add(l,b,-b,l,d,e);return this.add(1,0,0,1,-d,-e)};n.x=function(a,d){return a*this.a+d*this.c+this.e};n.y=function(a,d){return a*this.b+d*this.d+this.f};n.get=function(a){return+this[d.fromCharCode(97+\n",
       "a)].toFixed(4)};n.toString=function(){return\"matrix(\"+[this.get(0),this.get(1),this.get(2),this.get(3),this.get(4),this.get(5)].join()+\")\"};n.offset=function(){return[this.e.toFixed(4),this.f.toFixed(4)]};n.determinant=function(){return this.a*this.d-this.b*this.c};n.split=function(){var b={};b.dx=this.e;b.dy=this.f;var d=[[this.a,this.c],[this.b,this.d] ];b.scalex=f.sqrt(k(d[0]));p(d[0]);b.shear=d[0][0]*d[1][0]+d[0][1]*d[1][1];d[1]=[d[1][0]-d[0][0]*b.shear,d[1][1]-d[0][1]*b.shear];b.scaley=f.sqrt(k(d[1]));\n",
       "p(d[1]);b.shear/=b.scaley;0>this.determinant()&&(b.scalex=-b.scalex);var e=-d[0][1],d=d[1][1];0>d?(b.rotate=a.deg(f.acos(d)),0>e&&(b.rotate=360-b.rotate)):b.rotate=a.deg(f.asin(e));b.isSimple=!+b.shear.toFixed(9)&&(b.scalex.toFixed(9)==b.scaley.toFixed(9)||!b.rotate);b.isSuperSimple=!+b.shear.toFixed(9)&&b.scalex.toFixed(9)==b.scaley.toFixed(9)&&!b.rotate;b.noRotation=!+b.shear.toFixed(9)&&!b.rotate;return b};n.toTransformString=function(a){a=a||this.split();if(+a.shear.toFixed(9))return\"m\"+[this.get(0),\n",
       "this.get(1),this.get(2),this.get(3),this.get(4),this.get(5)];a.scalex=+a.scalex.toFixed(4);a.scaley=+a.scaley.toFixed(4);a.rotate=+a.rotate.toFixed(4);return(a.dx||a.dy?\"t\"+[+a.dx.toFixed(4),+a.dy.toFixed(4)]:\"\")+(1!=a.scalex||1!=a.scaley?\"s\"+[a.scalex,a.scaley,0,0]:\"\")+(a.rotate?\"r\"+[+a.rotate.toFixed(4),0,0]:\"\")}})(w.prototype);a.Matrix=w;a.matrix=function(a,d,f,b,k,e){return new w(a,d,f,b,k,e)}});C.plugin(function(a,v,y,M,A){function w(h){return function(d){k.stop();d instanceof A&&1==d.node.childNodes.length&&\n",
       "(\"radialGradient\"==d.node.firstChild.tagName||\"linearGradient\"==d.node.firstChild.tagName||\"pattern\"==d.node.firstChild.tagName)&&(d=d.node.firstChild,b(this).appendChild(d),d=u(d));if(d instanceof v)if(\"radialGradient\"==d.type||\"linearGradient\"==d.type||\"pattern\"==d.type){d.node.id||e(d.node,{id:d.id});var f=l(d.node.id)}else f=d.attr(h);else f=a.color(d),f.error?(f=a(b(this).ownerSVGElement).gradient(d))?(f.node.id||e(f.node,{id:f.id}),f=l(f.node.id)):f=d:f=r(f);d={};d[h]=f;e(this.node,d);this.node.style[h]=\n",
       "x}}function z(a){k.stop();a==+a&&(a+=\"px\");this.node.style.fontSize=a}function d(a){var b=[];a=a.childNodes;for(var e=0,f=a.length;e<f;e++){var l=a[e];3==l.nodeType&&b.push(l.nodeValue);\"tspan\"==l.tagName&&(1==l.childNodes.length&&3==l.firstChild.nodeType?b.push(l.firstChild.nodeValue):b.push(d(l)))}return b}function f(){k.stop();return this.node.style.fontSize}var n=a._.make,u=a._.wrap,p=a.is,b=a._.getSomeDefs,q=/^url\\(#?([^)]+)\\)$/,e=a._.$,l=a.url,r=String,s=a._.separator,x=\"\";k.on(\"snap.util.attr.mask\",\n",
       "function(a){if(a instanceof v||a instanceof A){k.stop();a instanceof A&&1==a.node.childNodes.length&&(a=a.node.firstChild,b(this).appendChild(a),a=u(a));if(\"mask\"==a.type)var d=a;else d=n(\"mask\",b(this)),d.node.appendChild(a.node);!d.node.id&&e(d.node,{id:d.id});e(this.node,{mask:l(d.id)})}});(function(a){k.on(\"snap.util.attr.clip\",a);k.on(\"snap.util.attr.clip-path\",a);k.on(\"snap.util.attr.clipPath\",a)})(function(a){if(a instanceof v||a instanceof A){k.stop();if(\"clipPath\"==a.type)var d=a;else d=\n",
       "n(\"clipPath\",b(this)),d.node.appendChild(a.node),!d.node.id&&e(d.node,{id:d.id});e(this.node,{\"clip-path\":l(d.id)})}});k.on(\"snap.util.attr.fill\",w(\"fill\"));k.on(\"snap.util.attr.stroke\",w(\"stroke\"));var G=/^([lr])(?:\\(([^)]*)\\))?(.*)$/i;k.on(\"snap.util.grad.parse\",function(a){a=r(a);var b=a.match(G);if(!b)return null;a=b[1];var e=b[2],b=b[3],e=e.split(/\\s*,\\s*/).map(function(a){return+a==a?+a:a});1==e.length&&0==e[0]&&(e=[]);b=b.split(\"-\");b=b.map(function(a){a=a.split(\":\");var b={color:a[0]};a[1]&&\n",
       "(b.offset=parseFloat(a[1]));return b});return{type:a,params:e,stops:b}});k.on(\"snap.util.attr.d\",function(b){k.stop();p(b,\"array\")&&p(b[0],\"array\")&&(b=a.path.toString.call(b));b=r(b);b.match(/[ruo]/i)&&(b=a.path.toAbsolute(b));e(this.node,{d:b})})(-1);k.on(\"snap.util.attr.#text\",function(a){k.stop();a=r(a);for(a=M.doc.createTextNode(a);this.node.firstChild;)this.node.removeChild(this.node.firstChild);this.node.appendChild(a)})(-1);k.on(\"snap.util.attr.path\",function(a){k.stop();this.attr({d:a})})(-1);\n",
       "k.on(\"snap.util.attr.class\",function(a){k.stop();this.node.className.baseVal=a})(-1);k.on(\"snap.util.attr.viewBox\",function(a){a=p(a,\"object\")&&\"x\"in a?[a.x,a.y,a.width,a.height].join(\" \"):p(a,\"array\")?a.join(\" \"):a;e(this.node,{viewBox:a});k.stop()})(-1);k.on(\"snap.util.attr.transform\",function(a){this.transform(a);k.stop()})(-1);k.on(\"snap.util.attr.r\",function(a){\"rect\"==this.type&&(k.stop(),e(this.node,{rx:a,ry:a}))})(-1);k.on(\"snap.util.attr.textpath\",function(a){k.stop();if(\"text\"==this.type){var d,\n",
       "f;if(!a&&this.textPath){for(a=this.textPath;a.node.firstChild;)this.node.appendChild(a.node.firstChild);a.remove();delete this.textPath}else if(p(a,\"string\")?(d=b(this),a=u(d.parentNode).path(a),d.appendChild(a.node),d=a.id,a.attr({id:d})):(a=u(a),a instanceof v&&(d=a.attr(\"id\"),d||(d=a.id,a.attr({id:d})))),d)if(a=this.textPath,f=this.node,a)a.attr({\"xlink:href\":\"#\"+d});else{for(a=e(\"textPath\",{\"xlink:href\":\"#\"+d});f.firstChild;)a.appendChild(f.firstChild);f.appendChild(a);this.textPath=u(a)}}})(-1);\n",
       "k.on(\"snap.util.attr.text\",function(a){if(\"text\"==this.type){for(var b=this.node,d=function(a){var b=e(\"tspan\");if(p(a,\"array\"))for(var f=0;f<a.length;f++)b.appendChild(d(a[f]));else b.appendChild(M.doc.createTextNode(a));b.normalize&&b.normalize();return b};b.firstChild;)b.removeChild(b.firstChild);for(a=d(a);a.firstChild;)b.appendChild(a.firstChild)}k.stop()})(-1);k.on(\"snap.util.attr.fontSize\",z)(-1);k.on(\"snap.util.attr.font-size\",z)(-1);k.on(\"snap.util.getattr.transform\",function(){k.stop();\n",
       "return this.transform()})(-1);k.on(\"snap.util.getattr.textpath\",function(){k.stop();return this.textPath})(-1);(function(){function b(d){return function(){k.stop();var b=M.doc.defaultView.getComputedStyle(this.node,null).getPropertyValue(\"marker-\"+d);return\"none\"==b?b:a(M.doc.getElementById(b.match(q)[1]))}}function d(a){return function(b){k.stop();var d=\"marker\"+a.charAt(0).toUpperCase()+a.substring(1);if(\"\"==b||!b)this.node.style[d]=\"none\";else if(\"marker\"==b.type){var f=b.node.id;f||e(b.node,{id:b.id});\n",
       "this.node.style[d]=l(f)}}}k.on(\"snap.util.getattr.marker-end\",b(\"end\"))(-1);k.on(\"snap.util.getattr.markerEnd\",b(\"end\"))(-1);k.on(\"snap.util.getattr.marker-start\",b(\"start\"))(-1);k.on(\"snap.util.getattr.markerStart\",b(\"start\"))(-1);k.on(\"snap.util.getattr.marker-mid\",b(\"mid\"))(-1);k.on(\"snap.util.getattr.markerMid\",b(\"mid\"))(-1);k.on(\"snap.util.attr.marker-end\",d(\"end\"))(-1);k.on(\"snap.util.attr.markerEnd\",d(\"end\"))(-1);k.on(\"snap.util.attr.marker-start\",d(\"start\"))(-1);k.on(\"snap.util.attr.markerStart\",\n",
       "d(\"start\"))(-1);k.on(\"snap.util.attr.marker-mid\",d(\"mid\"))(-1);k.on(\"snap.util.attr.markerMid\",d(\"mid\"))(-1)})();k.on(\"snap.util.getattr.r\",function(){if(\"rect\"==this.type&&e(this.node,\"rx\")==e(this.node,\"ry\"))return k.stop(),e(this.node,\"rx\")})(-1);k.on(\"snap.util.getattr.text\",function(){if(\"text\"==this.type||\"tspan\"==this.type){k.stop();var a=d(this.node);return 1==a.length?a[0]:a}})(-1);k.on(\"snap.util.getattr.#text\",function(){return this.node.textContent})(-1);k.on(\"snap.util.getattr.viewBox\",\n",
       "function(){k.stop();var b=e(this.node,\"viewBox\");if(b)return b=b.split(s),a._.box(+b[0],+b[1],+b[2],+b[3])})(-1);k.on(\"snap.util.getattr.points\",function(){var a=e(this.node,\"points\");k.stop();if(a)return a.split(s)})(-1);k.on(\"snap.util.getattr.path\",function(){var a=e(this.node,\"d\");k.stop();return a})(-1);k.on(\"snap.util.getattr.class\",function(){return this.node.className.baseVal})(-1);k.on(\"snap.util.getattr.fontSize\",f)(-1);k.on(\"snap.util.getattr.font-size\",f)(-1)});C.plugin(function(a,v,y,\n",
       "M,A){function w(a){return a}function z(a){return function(b){return+b.toFixed(3)+a}}var d={\"+\":function(a,b){return a+b},\"-\":function(a,b){return a-b},\"/\":function(a,b){return a/b},\"*\":function(a,b){return a*b}},f=String,n=/[a-z]+$/i,u=/^\\s*([+\\-\\/*])\\s*=\\s*([\\d.eE+\\-]+)\\s*([^\\d\\s]+)?\\s*$/;k.on(\"snap.util.attr\",function(a){if(a=f(a).match(u)){var b=k.nt(),b=b.substring(b.lastIndexOf(\".\")+1),q=this.attr(b),e={};k.stop();var l=a[3]||\"\",r=q.match(n),s=d[a[1] ];r&&r==l?a=s(parseFloat(q),+a[2]):(q=this.asPX(b),\n",
       "a=s(this.asPX(b),this.asPX(b,a[2]+l)));isNaN(q)||isNaN(a)||(e[b]=a,this.attr(e))}})(-10);k.on(\"snap.util.equal\",function(a,b){var q=f(this.attr(a)||\"\"),e=f(b).match(u);if(e){k.stop();var l=e[3]||\"\",r=q.match(n),s=d[e[1] ];if(r&&r==l)return{from:parseFloat(q),to:s(parseFloat(q),+e[2]),f:z(r)};q=this.asPX(a);return{from:q,to:s(q,this.asPX(a,e[2]+l)),f:w}}})(-10)});C.plugin(function(a,v,y,M,A){var w=y.prototype,z=a.is;w.rect=function(a,d,k,p,b,q){var e;null==q&&(q=b);z(a,\"object\")&&\"[object Object]\"==\n",
       "a?e=a:null!=a&&(e={x:a,y:d,width:k,height:p},null!=b&&(e.rx=b,e.ry=q));return this.el(\"rect\",e)};w.circle=function(a,d,k){var p;z(a,\"object\")&&\"[object Object]\"==a?p=a:null!=a&&(p={cx:a,cy:d,r:k});return this.el(\"circle\",p)};var d=function(){function a(){this.parentNode.removeChild(this)}return function(d,k){var p=M.doc.createElement(\"img\"),b=M.doc.body;p.style.cssText=\"position:absolute;left:-9999em;top:-9999em\";p.onload=function(){k.call(p);p.onload=p.onerror=null;b.removeChild(p)};p.onerror=a;\n",
       "b.appendChild(p);p.src=d}}();w.image=function(f,n,k,p,b){var q=this.el(\"image\");if(z(f,\"object\")&&\"src\"in f)q.attr(f);else if(null!=f){var e={\"xlink:href\":f,preserveAspectRatio:\"none\"};null!=n&&null!=k&&(e.x=n,e.y=k);null!=p&&null!=b?(e.width=p,e.height=b):d(f,function(){a._.$(q.node,{width:this.offsetWidth,height:this.offsetHeight})});a._.$(q.node,e)}return q};w.ellipse=function(a,d,k,p){var b;z(a,\"object\")&&\"[object Object]\"==a?b=a:null!=a&&(b={cx:a,cy:d,rx:k,ry:p});return this.el(\"ellipse\",b)};\n",
       "w.path=function(a){var d;z(a,\"object\")&&!z(a,\"array\")?d=a:a&&(d={d:a});return this.el(\"path\",d)};w.group=w.g=function(a){var d=this.el(\"g\");1==arguments.length&&a&&!a.type?d.attr(a):arguments.length&&d.add(Array.prototype.slice.call(arguments,0));return d};w.svg=function(a,d,k,p,b,q,e,l){var r={};z(a,\"object\")&&null==d?r=a:(null!=a&&(r.x=a),null!=d&&(r.y=d),null!=k&&(r.width=k),null!=p&&(r.height=p),null!=b&&null!=q&&null!=e&&null!=l&&(r.viewBox=[b,q,e,l]));return this.el(\"svg\",r)};w.mask=function(a){var d=\n",
       "this.el(\"mask\");1==arguments.length&&a&&!a.type?d.attr(a):arguments.length&&d.add(Array.prototype.slice.call(arguments,0));return d};w.ptrn=function(a,d,k,p,b,q,e,l){if(z(a,\"object\"))var r=a;else arguments.length?(r={},null!=a&&(r.x=a),null!=d&&(r.y=d),null!=k&&(r.width=k),null!=p&&(r.height=p),null!=b&&null!=q&&null!=e&&null!=l&&(r.viewBox=[b,q,e,l])):r={patternUnits:\"userSpaceOnUse\"};return this.el(\"pattern\",r)};w.use=function(a){return null!=a?(make(\"use\",this.node),a instanceof v&&(a.attr(\"id\")||\n",
       "a.attr({id:ID()}),a=a.attr(\"id\")),this.el(\"use\",{\"xlink:href\":a})):v.prototype.use.call(this)};w.text=function(a,d,k){var p={};z(a,\"object\")?p=a:null!=a&&(p={x:a,y:d,text:k||\"\"});return this.el(\"text\",p)};w.line=function(a,d,k,p){var b={};z(a,\"object\")?b=a:null!=a&&(b={x1:a,x2:k,y1:d,y2:p});return this.el(\"line\",b)};w.polyline=function(a){1<arguments.length&&(a=Array.prototype.slice.call(arguments,0));var d={};z(a,\"object\")&&!z(a,\"array\")?d=a:null!=a&&(d={points:a});return this.el(\"polyline\",d)};\n",
       "w.polygon=function(a){1<arguments.length&&(a=Array.prototype.slice.call(arguments,0));var d={};z(a,\"object\")&&!z(a,\"array\")?d=a:null!=a&&(d={points:a});return this.el(\"polygon\",d)};(function(){function d(){return this.selectAll(\"stop\")}function n(b,d){var f=e(\"stop\"),k={offset:+d+\"%\"};b=a.color(b);k[\"stop-color\"]=b.hex;1>b.opacity&&(k[\"stop-opacity\"]=b.opacity);e(f,k);this.node.appendChild(f);return this}function u(){if(\"linearGradient\"==this.type){var b=e(this.node,\"x1\")||0,d=e(this.node,\"x2\")||\n",
       "1,f=e(this.node,\"y1\")||0,k=e(this.node,\"y2\")||0;return a._.box(b,f,math.abs(d-b),math.abs(k-f))}b=this.node.r||0;return a._.box((this.node.cx||0.5)-b,(this.node.cy||0.5)-b,2*b,2*b)}function p(a,d){function f(a,b){for(var d=(b-u)/(a-w),e=w;e<a;e++)h[e].offset=+(+u+d*(e-w)).toFixed(2);w=a;u=b}var n=k(\"snap.util.grad.parse\",null,d).firstDefined(),p;if(!n)return null;n.params.unshift(a);p=\"l\"==n.type.toLowerCase()?b.apply(0,n.params):q.apply(0,n.params);n.type!=n.type.toLowerCase()&&e(p.node,{gradientUnits:\"userSpaceOnUse\"});\n",
       "var h=n.stops,n=h.length,u=0,w=0;n--;for(var v=0;v<n;v++)\"offset\"in h[v]&&f(v,h[v].offset);h[n].offset=h[n].offset||100;f(n,h[n].offset);for(v=0;v<=n;v++){var y=h[v];p.addStop(y.color,y.offset)}return p}function b(b,k,p,q,w){b=a._.make(\"linearGradient\",b);b.stops=d;b.addStop=n;b.getBBox=u;null!=k&&e(b.node,{x1:k,y1:p,x2:q,y2:w});return b}function q(b,k,p,q,w,h){b=a._.make(\"radialGradient\",b);b.stops=d;b.addStop=n;b.getBBox=u;null!=k&&e(b.node,{cx:k,cy:p,r:q});null!=w&&null!=h&&e(b.node,{fx:w,fy:h});\n",
       "return b}var e=a._.$;w.gradient=function(a){return p(this.defs,a)};w.gradientLinear=function(a,d,e,f){return b(this.defs,a,d,e,f)};w.gradientRadial=function(a,b,d,e,f){return q(this.defs,a,b,d,e,f)};w.toString=function(){var b=this.node.ownerDocument,d=b.createDocumentFragment(),b=b.createElement(\"div\"),e=this.node.cloneNode(!0);d.appendChild(b);b.appendChild(e);a._.$(e,{xmlns:\"http://www.w3.org/2000/svg\"});b=b.innerHTML;d.removeChild(d.firstChild);return b};w.clear=function(){for(var a=this.node.firstChild,\n",
       "b;a;)b=a.nextSibling,\"defs\"!=a.tagName?a.parentNode.removeChild(a):w.clear.call({node:a}),a=b}})()});C.plugin(function(a,k,y,M){function A(a){var b=A.ps=A.ps||{};b[a]?b[a].sleep=100:b[a]={sleep:100};setTimeout(function(){for(var d in b)b[L](d)&&d!=a&&(b[d].sleep--,!b[d].sleep&&delete b[d])});return b[a]}function w(a,b,d,e){null==a&&(a=b=d=e=0);null==b&&(b=a.y,d=a.width,e=a.height,a=a.x);return{x:a,y:b,width:d,w:d,height:e,h:e,x2:a+d,y2:b+e,cx:a+d/2,cy:b+e/2,r1:F.min(d,e)/2,r2:F.max(d,e)/2,r0:F.sqrt(d*\n",
       "d+e*e)/2,path:s(a,b,d,e),vb:[a,b,d,e].join(\" \")}}function z(){return this.join(\",\").replace(N,\"$1\")}function d(a){a=C(a);a.toString=z;return a}function f(a,b,d,h,f,k,l,n,p){if(null==p)return e(a,b,d,h,f,k,l,n);if(0>p||e(a,b,d,h,f,k,l,n)<p)p=void 0;else{var q=0.5,O=1-q,s;for(s=e(a,b,d,h,f,k,l,n,O);0.01<Z(s-p);)q/=2,O+=(s<p?1:-1)*q,s=e(a,b,d,h,f,k,l,n,O);p=O}return u(a,b,d,h,f,k,l,n,p)}function n(b,d){function e(a){return+(+a).toFixed(3)}return a._.cacher(function(a,h,l){a instanceof k&&(a=a.attr(\"d\"));\n",
       "a=I(a);for(var n,p,D,q,O=\"\",s={},c=0,t=0,r=a.length;t<r;t++){D=a[t];if(\"M\"==D[0])n=+D[1],p=+D[2];else{q=f(n,p,D[1],D[2],D[3],D[4],D[5],D[6]);if(c+q>h){if(d&&!s.start){n=f(n,p,D[1],D[2],D[3],D[4],D[5],D[6],h-c);O+=[\"C\"+e(n.start.x),e(n.start.y),e(n.m.x),e(n.m.y),e(n.x),e(n.y)];if(l)return O;s.start=O;O=[\"M\"+e(n.x),e(n.y)+\"C\"+e(n.n.x),e(n.n.y),e(n.end.x),e(n.end.y),e(D[5]),e(D[6])].join();c+=q;n=+D[5];p=+D[6];continue}if(!b&&!d)return n=f(n,p,D[1],D[2],D[3],D[4],D[5],D[6],h-c)}c+=q;n=+D[5];p=+D[6]}O+=\n",
       "D.shift()+D}s.end=O;return n=b?c:d?s:u(n,p,D[0],D[1],D[2],D[3],D[4],D[5],1)},null,a._.clone)}function u(a,b,d,e,h,f,k,l,n){var p=1-n,q=ma(p,3),s=ma(p,2),c=n*n,t=c*n,r=q*a+3*s*n*d+3*p*n*n*h+t*k,q=q*b+3*s*n*e+3*p*n*n*f+t*l,s=a+2*n*(d-a)+c*(h-2*d+a),t=b+2*n*(e-b)+c*(f-2*e+b),x=d+2*n*(h-d)+c*(k-2*h+d),c=e+2*n*(f-e)+c*(l-2*f+e);a=p*a+n*d;b=p*b+n*e;h=p*h+n*k;f=p*f+n*l;l=90-180*F.atan2(s-x,t-c)/S;return{x:r,y:q,m:{x:s,y:t},n:{x:x,y:c},start:{x:a,y:b},end:{x:h,y:f},alpha:l}}function p(b,d,e,h,f,n,k,l){a.is(b,\n",
       "\"array\")||(b=[b,d,e,h,f,n,k,l]);b=U.apply(null,b);return w(b.min.x,b.min.y,b.max.x-b.min.x,b.max.y-b.min.y)}function b(a,b,d){return b>=a.x&&b<=a.x+a.width&&d>=a.y&&d<=a.y+a.height}function q(a,d){a=w(a);d=w(d);return b(d,a.x,a.y)||b(d,a.x2,a.y)||b(d,a.x,a.y2)||b(d,a.x2,a.y2)||b(a,d.x,d.y)||b(a,d.x2,d.y)||b(a,d.x,d.y2)||b(a,d.x2,d.y2)||(a.x<d.x2&&a.x>d.x||d.x<a.x2&&d.x>a.x)&&(a.y<d.y2&&a.y>d.y||d.y<a.y2&&d.y>a.y)}function e(a,b,d,e,h,f,n,k,l){null==l&&(l=1);l=(1<l?1:0>l?0:l)/2;for(var p=[-0.1252,\n",
       "0.1252,-0.3678,0.3678,-0.5873,0.5873,-0.7699,0.7699,-0.9041,0.9041,-0.9816,0.9816],q=[0.2491,0.2491,0.2335,0.2335,0.2032,0.2032,0.1601,0.1601,0.1069,0.1069,0.0472,0.0472],s=0,c=0;12>c;c++)var t=l*p[c]+l,r=t*(t*(-3*a+9*d-9*h+3*n)+6*a-12*d+6*h)-3*a+3*d,t=t*(t*(-3*b+9*e-9*f+3*k)+6*b-12*e+6*f)-3*b+3*e,s=s+q[c]*F.sqrt(r*r+t*t);return l*s}function l(a,b,d){a=I(a);b=I(b);for(var h,f,l,n,k,s,r,O,x,c,t=d?0:[],w=0,v=a.length;w<v;w++)if(x=a[w],\"M\"==x[0])h=k=x[1],f=s=x[2];else{\"C\"==x[0]?(x=[h,f].concat(x.slice(1)),\n",
       "h=x[6],f=x[7]):(x=[h,f,h,f,k,s,k,s],h=k,f=s);for(var G=0,y=b.length;G<y;G++)if(c=b[G],\"M\"==c[0])l=r=c[1],n=O=c[2];else{\"C\"==c[0]?(c=[l,n].concat(c.slice(1)),l=c[6],n=c[7]):(c=[l,n,l,n,r,O,r,O],l=r,n=O);var z;var K=x,B=c;z=d;var H=p(K),J=p(B);if(q(H,J)){for(var H=e.apply(0,K),J=e.apply(0,B),H=~~(H/8),J=~~(J/8),U=[],A=[],F={},M=z?0:[],P=0;P<H+1;P++){var C=u.apply(0,K.concat(P/H));U.push({x:C.x,y:C.y,t:P/H})}for(P=0;P<J+1;P++)C=u.apply(0,B.concat(P/J)),A.push({x:C.x,y:C.y,t:P/J});for(P=0;P<H;P++)for(K=\n",
       "0;K<J;K++){var Q=U[P],L=U[P+1],B=A[K],C=A[K+1],N=0.001>Z(L.x-Q.x)?\"y\":\"x\",S=0.001>Z(C.x-B.x)?\"y\":\"x\",R;R=Q.x;var Y=Q.y,V=L.x,ea=L.y,fa=B.x,ga=B.y,ha=C.x,ia=C.y;if(W(R,V)<X(fa,ha)||X(R,V)>W(fa,ha)||W(Y,ea)<X(ga,ia)||X(Y,ea)>W(ga,ia))R=void 0;else{var $=(R*ea-Y*V)*(fa-ha)-(R-V)*(fa*ia-ga*ha),aa=(R*ea-Y*V)*(ga-ia)-(Y-ea)*(fa*ia-ga*ha),ja=(R-V)*(ga-ia)-(Y-ea)*(fa-ha);if(ja){var $=$/ja,aa=aa/ja,ja=+$.toFixed(2),ba=+aa.toFixed(2);R=ja<+X(R,V).toFixed(2)||ja>+W(R,V).toFixed(2)||ja<+X(fa,ha).toFixed(2)||\n",
       "ja>+W(fa,ha).toFixed(2)||ba<+X(Y,ea).toFixed(2)||ba>+W(Y,ea).toFixed(2)||ba<+X(ga,ia).toFixed(2)||ba>+W(ga,ia).toFixed(2)?void 0:{x:$,y:aa}}else R=void 0}R&&F[R.x.toFixed(4)]!=R.y.toFixed(4)&&(F[R.x.toFixed(4)]=R.y.toFixed(4),Q=Q.t+Z((R[N]-Q[N])/(L[N]-Q[N]))*(L.t-Q.t),B=B.t+Z((R[S]-B[S])/(C[S]-B[S]))*(C.t-B.t),0<=Q&&1>=Q&&0<=B&&1>=B&&(z?M++:M.push({x:R.x,y:R.y,t1:Q,t2:B})))}z=M}else z=z?0:[];if(d)t+=z;else{H=0;for(J=z.length;H<J;H++)z[H].segment1=w,z[H].segment2=G,z[H].bez1=x,z[H].bez2=c;t=t.concat(z)}}}return t}\n",
       "function r(a){var b=A(a);if(b.bbox)return C(b.bbox);if(!a)return w();a=I(a);for(var d=0,e=0,h=[],f=[],l,n=0,k=a.length;n<k;n++)l=a[n],\"M\"==l[0]?(d=l[1],e=l[2],h.push(d),f.push(e)):(d=U(d,e,l[1],l[2],l[3],l[4],l[5],l[6]),h=h.concat(d.min.x,d.max.x),f=f.concat(d.min.y,d.max.y),d=l[5],e=l[6]);a=X.apply(0,h);l=X.apply(0,f);h=W.apply(0,h);f=W.apply(0,f);f=w(a,l,h-a,f-l);b.bbox=C(f);return f}function s(a,b,d,e,h){if(h)return[[\"M\",+a+ +h,b],[\"l\",d-2*h,0],[\"a\",h,h,0,0,1,h,h],[\"l\",0,e-2*h],[\"a\",h,h,0,0,1,\n",
       "-h,h],[\"l\",2*h-d,0],[\"a\",h,h,0,0,1,-h,-h],[\"l\",0,2*h-e],[\"a\",h,h,0,0,1,h,-h],[\"z\"] ];a=[[\"M\",a,b],[\"l\",d,0],[\"l\",0,e],[\"l\",-d,0],[\"z\"] ];a.toString=z;return a}function x(a,b,d,e,h){null==h&&null==e&&(e=d);a=+a;b=+b;d=+d;e=+e;if(null!=h){var f=Math.PI/180,l=a+d*Math.cos(-e*f);a+=d*Math.cos(-h*f);var n=b+d*Math.sin(-e*f);b+=d*Math.sin(-h*f);d=[[\"M\",l,n],[\"A\",d,d,0,+(180<h-e),0,a,b] ]}else d=[[\"M\",a,b],[\"m\",0,-e],[\"a\",d,e,0,1,1,0,2*e],[\"a\",d,e,0,1,1,0,-2*e],[\"z\"] ];d.toString=z;return d}function G(b){var e=\n",
       "A(b);if(e.abs)return d(e.abs);Q(b,\"array\")&&Q(b&&b[0],\"array\")||(b=a.parsePathString(b));if(!b||!b.length)return[[\"M\",0,0] ];var h=[],f=0,l=0,n=0,k=0,p=0;\"M\"==b[0][0]&&(f=+b[0][1],l=+b[0][2],n=f,k=l,p++,h[0]=[\"M\",f,l]);for(var q=3==b.length&&\"M\"==b[0][0]&&\"R\"==b[1][0].toUpperCase()&&\"Z\"==b[2][0].toUpperCase(),s,r,w=p,c=b.length;w<c;w++){h.push(s=[]);r=b[w];p=r[0];if(p!=p.toUpperCase())switch(s[0]=p.toUpperCase(),s[0]){case \"A\":s[1]=r[1];s[2]=r[2];s[3]=r[3];s[4]=r[4];s[5]=r[5];s[6]=+r[6]+f;s[7]=+r[7]+\n",
       "l;break;case \"V\":s[1]=+r[1]+l;break;case \"H\":s[1]=+r[1]+f;break;case \"R\":for(var t=[f,l].concat(r.slice(1)),u=2,v=t.length;u<v;u++)t[u]=+t[u]+f,t[++u]=+t[u]+l;h.pop();h=h.concat(P(t,q));break;case \"O\":h.pop();t=x(f,l,r[1],r[2]);t.push(t[0]);h=h.concat(t);break;case \"U\":h.pop();h=h.concat(x(f,l,r[1],r[2],r[3]));s=[\"U\"].concat(h[h.length-1].slice(-2));break;case \"M\":n=+r[1]+f,k=+r[2]+l;default:for(u=1,v=r.length;u<v;u++)s[u]=+r[u]+(u%2?f:l)}else if(\"R\"==p)t=[f,l].concat(r.slice(1)),h.pop(),h=h.concat(P(t,\n",
       "q)),s=[\"R\"].concat(r.slice(-2));else if(\"O\"==p)h.pop(),t=x(f,l,r[1],r[2]),t.push(t[0]),h=h.concat(t);else if(\"U\"==p)h.pop(),h=h.concat(x(f,l,r[1],r[2],r[3])),s=[\"U\"].concat(h[h.length-1].slice(-2));else for(t=0,u=r.length;t<u;t++)s[t]=r[t];p=p.toUpperCase();if(\"O\"!=p)switch(s[0]){case \"Z\":f=+n;l=+k;break;case \"H\":f=s[1];break;case \"V\":l=s[1];break;case \"M\":n=s[s.length-2],k=s[s.length-1];default:f=s[s.length-2],l=s[s.length-1]}}h.toString=z;e.abs=d(h);return h}function h(a,b,d,e){return[a,b,d,e,d,\n",
       "e]}function J(a,b,d,e,h,f){var l=1/3,n=2/3;return[l*a+n*d,l*b+n*e,l*h+n*d,l*f+n*e,h,f]}function K(b,d,e,h,f,l,n,k,p,s){var r=120*S/180,q=S/180*(+f||0),c=[],t,x=a._.cacher(function(a,b,c){var d=a*F.cos(c)-b*F.sin(c);a=a*F.sin(c)+b*F.cos(c);return{x:d,y:a}});if(s)v=s[0],t=s[1],l=s[2],u=s[3];else{t=x(b,d,-q);b=t.x;d=t.y;t=x(k,p,-q);k=t.x;p=t.y;F.cos(S/180*f);F.sin(S/180*f);t=(b-k)/2;v=(d-p)/2;u=t*t/(e*e)+v*v/(h*h);1<u&&(u=F.sqrt(u),e*=u,h*=u);var u=e*e,w=h*h,u=(l==n?-1:1)*F.sqrt(Z((u*w-u*v*v-w*t*t)/\n",
       "(u*v*v+w*t*t)));l=u*e*v/h+(b+k)/2;var u=u*-h*t/e+(d+p)/2,v=F.asin(((d-u)/h).toFixed(9));t=F.asin(((p-u)/h).toFixed(9));v=b<l?S-v:v;t=k<l?S-t:t;0>v&&(v=2*S+v);0>t&&(t=2*S+t);n&&v>t&&(v-=2*S);!n&&t>v&&(t-=2*S)}if(Z(t-v)>r){var c=t,w=k,G=p;t=v+r*(n&&t>v?1:-1);k=l+e*F.cos(t);p=u+h*F.sin(t);c=K(k,p,e,h,f,0,n,w,G,[t,c,l,u])}l=t-v;f=F.cos(v);r=F.sin(v);n=F.cos(t);t=F.sin(t);l=F.tan(l/4);e=4/3*e*l;l*=4/3*h;h=[b,d];b=[b+e*r,d-l*f];d=[k+e*t,p-l*n];k=[k,p];b[0]=2*h[0]-b[0];b[1]=2*h[1]-b[1];if(s)return[b,d,k].concat(c);\n",
       "c=[b,d,k].concat(c).join().split(\",\");s=[];k=0;for(p=c.length;k<p;k++)s[k]=k%2?x(c[k-1],c[k],q).y:x(c[k],c[k+1],q).x;return s}function U(a,b,d,e,h,f,l,k){for(var n=[],p=[[],[] ],s,r,c,t,q=0;2>q;++q)0==q?(r=6*a-12*d+6*h,s=-3*a+9*d-9*h+3*l,c=3*d-3*a):(r=6*b-12*e+6*f,s=-3*b+9*e-9*f+3*k,c=3*e-3*b),1E-12>Z(s)?1E-12>Z(r)||(s=-c/r,0<s&&1>s&&n.push(s)):(t=r*r-4*c*s,c=F.sqrt(t),0>t||(t=(-r+c)/(2*s),0<t&&1>t&&n.push(t),s=(-r-c)/(2*s),0<s&&1>s&&n.push(s)));for(r=q=n.length;q--;)s=n[q],c=1-s,p[0][q]=c*c*c*a+3*\n",
       "c*c*s*d+3*c*s*s*h+s*s*s*l,p[1][q]=c*c*c*b+3*c*c*s*e+3*c*s*s*f+s*s*s*k;p[0][r]=a;p[1][r]=b;p[0][r+1]=l;p[1][r+1]=k;p[0].length=p[1].length=r+2;return{min:{x:X.apply(0,p[0]),y:X.apply(0,p[1])},max:{x:W.apply(0,p[0]),y:W.apply(0,p[1])}}}function I(a,b){var e=!b&&A(a);if(!b&&e.curve)return d(e.curve);var f=G(a),l=b&&G(b),n={x:0,y:0,bx:0,by:0,X:0,Y:0,qx:null,qy:null},k={x:0,y:0,bx:0,by:0,X:0,Y:0,qx:null,qy:null},p=function(a,b,c){if(!a)return[\"C\",b.x,b.y,b.x,b.y,b.x,b.y];a[0]in{T:1,Q:1}||(b.qx=b.qy=null);\n",
       "switch(a[0]){case \"M\":b.X=a[1];b.Y=a[2];break;case \"A\":a=[\"C\"].concat(K.apply(0,[b.x,b.y].concat(a.slice(1))));break;case \"S\":\"C\"==c||\"S\"==c?(c=2*b.x-b.bx,b=2*b.y-b.by):(c=b.x,b=b.y);a=[\"C\",c,b].concat(a.slice(1));break;case \"T\":\"Q\"==c||\"T\"==c?(b.qx=2*b.x-b.qx,b.qy=2*b.y-b.qy):(b.qx=b.x,b.qy=b.y);a=[\"C\"].concat(J(b.x,b.y,b.qx,b.qy,a[1],a[2]));break;case \"Q\":b.qx=a[1];b.qy=a[2];a=[\"C\"].concat(J(b.x,b.y,a[1],a[2],a[3],a[4]));break;case \"L\":a=[\"C\"].concat(h(b.x,b.y,a[1],a[2]));break;case \"H\":a=[\"C\"].concat(h(b.x,\n",
       "b.y,a[1],b.y));break;case \"V\":a=[\"C\"].concat(h(b.x,b.y,b.x,a[1]));break;case \"Z\":a=[\"C\"].concat(h(b.x,b.y,b.X,b.Y))}return a},s=function(a,b){if(7<a[b].length){a[b].shift();for(var c=a[b];c.length;)q[b]=\"A\",l&&(u[b]=\"A\"),a.splice(b++,0,[\"C\"].concat(c.splice(0,6)));a.splice(b,1);v=W(f.length,l&&l.length||0)}},r=function(a,b,c,d,e){a&&b&&\"M\"==a[e][0]&&\"M\"!=b[e][0]&&(b.splice(e,0,[\"M\",d.x,d.y]),c.bx=0,c.by=0,c.x=a[e][1],c.y=a[e][2],v=W(f.length,l&&l.length||0))},q=[],u=[],c=\"\",t=\"\",x=0,v=W(f.length,\n",
       "l&&l.length||0);for(;x<v;x++){f[x]&&(c=f[x][0]);\"C\"!=c&&(q[x]=c,x&&(t=q[x-1]));f[x]=p(f[x],n,t);\"A\"!=q[x]&&\"C\"==c&&(q[x]=\"C\");s(f,x);l&&(l[x]&&(c=l[x][0]),\"C\"!=c&&(u[x]=c,x&&(t=u[x-1])),l[x]=p(l[x],k,t),\"A\"!=u[x]&&\"C\"==c&&(u[x]=\"C\"),s(l,x));r(f,l,n,k,x);r(l,f,k,n,x);var w=f[x],z=l&&l[x],y=w.length,U=l&&z.length;n.x=w[y-2];n.y=w[y-1];n.bx=$(w[y-4])||n.x;n.by=$(w[y-3])||n.y;k.bx=l&&($(z[U-4])||k.x);k.by=l&&($(z[U-3])||k.y);k.x=l&&z[U-2];k.y=l&&z[U-1]}l||(e.curve=d(f));return l?[f,l]:f}function P(a,\n",
       "b){for(var d=[],e=0,h=a.length;h-2*!b>e;e+=2){var f=[{x:+a[e-2],y:+a[e-1]},{x:+a[e],y:+a[e+1]},{x:+a[e+2],y:+a[e+3]},{x:+a[e+4],y:+a[e+5]}];b?e?h-4==e?f[3]={x:+a[0],y:+a[1]}:h-2==e&&(f[2]={x:+a[0],y:+a[1]},f[3]={x:+a[2],y:+a[3]}):f[0]={x:+a[h-2],y:+a[h-1]}:h-4==e?f[3]=f[2]:e||(f[0]={x:+a[e],y:+a[e+1]});d.push([\"C\",(-f[0].x+6*f[1].x+f[2].x)/6,(-f[0].y+6*f[1].y+f[2].y)/6,(f[1].x+6*f[2].x-f[3].x)/6,(f[1].y+6*f[2].y-f[3].y)/6,f[2].x,f[2].y])}return d}y=k.prototype;var Q=a.is,C=a._.clone,L=\"hasOwnProperty\",\n",
       "N=/,?([a-z]),?/gi,$=parseFloat,F=Math,S=F.PI,X=F.min,W=F.max,ma=F.pow,Z=F.abs;M=n(1);var na=n(),ba=n(0,1),V=a._unit2px;a.path=A;a.path.getTotalLength=M;a.path.getPointAtLength=na;a.path.getSubpath=function(a,b,d){if(1E-6>this.getTotalLength(a)-d)return ba(a,b).end;a=ba(a,d,1);return b?ba(a,b).end:a};y.getTotalLength=function(){if(this.node.getTotalLength)return this.node.getTotalLength()};y.getPointAtLength=function(a){return na(this.attr(\"d\"),a)};y.getSubpath=function(b,d){return a.path.getSubpath(this.attr(\"d\"),\n",
       "b,d)};a._.box=w;a.path.findDotsAtSegment=u;a.path.bezierBBox=p;a.path.isPointInsideBBox=b;a.path.isBBoxIntersect=q;a.path.intersection=function(a,b){return l(a,b)};a.path.intersectionNumber=function(a,b){return l(a,b,1)};a.path.isPointInside=function(a,d,e){var h=r(a);return b(h,d,e)&&1==l(a,[[\"M\",d,e],[\"H\",h.x2+10] ],1)%2};a.path.getBBox=r;a.path.get={path:function(a){return a.attr(\"path\")},circle:function(a){a=V(a);return x(a.cx,a.cy,a.r)},ellipse:function(a){a=V(a);return x(a.cx||0,a.cy||0,a.rx,\n",
       "a.ry)},rect:function(a){a=V(a);return s(a.x||0,a.y||0,a.width,a.height,a.rx,a.ry)},image:function(a){a=V(a);return s(a.x||0,a.y||0,a.width,a.height)},line:function(a){return\"M\"+[a.attr(\"x1\")||0,a.attr(\"y1\")||0,a.attr(\"x2\"),a.attr(\"y2\")]},polyline:function(a){return\"M\"+a.attr(\"points\")},polygon:function(a){return\"M\"+a.attr(\"points\")+\"z\"},deflt:function(a){a=a.node.getBBox();return s(a.x,a.y,a.width,a.height)}};a.path.toRelative=function(b){var e=A(b),h=String.prototype.toLowerCase;if(e.rel)return d(e.rel);\n",
       "a.is(b,\"array\")&&a.is(b&&b[0],\"array\")||(b=a.parsePathString(b));var f=[],l=0,n=0,k=0,p=0,s=0;\"M\"==b[0][0]&&(l=b[0][1],n=b[0][2],k=l,p=n,s++,f.push([\"M\",l,n]));for(var r=b.length;s<r;s++){var q=f[s]=[],x=b[s];if(x[0]!=h.call(x[0]))switch(q[0]=h.call(x[0]),q[0]){case \"a\":q[1]=x[1];q[2]=x[2];q[3]=x[3];q[4]=x[4];q[5]=x[5];q[6]=+(x[6]-l).toFixed(3);q[7]=+(x[7]-n).toFixed(3);break;case \"v\":q[1]=+(x[1]-n).toFixed(3);break;case \"m\":k=x[1],p=x[2];default:for(var c=1,t=x.length;c<t;c++)q[c]=+(x[c]-(c%2?l:\n",
       "n)).toFixed(3)}else for(f[s]=[],\"m\"==x[0]&&(k=x[1]+l,p=x[2]+n),q=0,c=x.length;q<c;q++)f[s][q]=x[q];x=f[s].length;switch(f[s][0]){case \"z\":l=k;n=p;break;case \"h\":l+=+f[s][x-1];break;case \"v\":n+=+f[s][x-1];break;default:l+=+f[s][x-2],n+=+f[s][x-1]}}f.toString=z;e.rel=d(f);return f};a.path.toAbsolute=G;a.path.toCubic=I;a.path.map=function(a,b){if(!b)return a;var d,e,h,f,l,n,k;a=I(a);h=0;for(l=a.length;h<l;h++)for(k=a[h],f=1,n=k.length;f<n;f+=2)d=b.x(k[f],k[f+1]),e=b.y(k[f],k[f+1]),k[f]=d,k[f+1]=e;return a};\n",
       "a.path.toString=z;a.path.clone=d});C.plugin(function(a,v,y,C){var A=Math.max,w=Math.min,z=function(a){this.items=[];this.bindings={};this.length=0;this.type=\"set\";if(a)for(var f=0,n=a.length;f<n;f++)a[f]&&(this[this.items.length]=this.items[this.items.length]=a[f],this.length++)};v=z.prototype;v.push=function(){for(var a,f,n=0,k=arguments.length;n<k;n++)if(a=arguments[n])f=this.items.length,this[f]=this.items[f]=a,this.length++;return this};v.pop=function(){this.length&&delete this[this.length--];\n",
       "return this.items.pop()};v.forEach=function(a,f){for(var n=0,k=this.items.length;n<k&&!1!==a.call(f,this.items[n],n);n++);return this};v.animate=function(d,f,n,u){\"function\"!=typeof n||n.length||(u=n,n=L.linear);d instanceof a._.Animation&&(u=d.callback,n=d.easing,f=n.dur,d=d.attr);var p=arguments;if(a.is(d,\"array\")&&a.is(p[p.length-1],\"array\"))var b=!0;var q,e=function(){q?this.b=q:q=this.b},l=0,r=u&&function(){l++==this.length&&u.call(this)};return this.forEach(function(a,l){k.once(\"snap.animcreated.\"+\n",
       "a.id,e);b?p[l]&&a.animate.apply(a,p[l]):a.animate(d,f,n,r)})};v.remove=function(){for(;this.length;)this.pop().remove();return this};v.bind=function(a,f,k){var u={};if(\"function\"==typeof f)this.bindings[a]=f;else{var p=k||a;this.bindings[a]=function(a){u[p]=a;f.attr(u)}}return this};v.attr=function(a){var f={},k;for(k in a)if(this.bindings[k])this.bindings[k](a[k]);else f[k]=a[k];a=0;for(k=this.items.length;a<k;a++)this.items[a].attr(f);return this};v.clear=function(){for(;this.length;)this.pop()};\n",
       "v.splice=function(a,f,k){a=0>a?A(this.length+a,0):a;f=A(0,w(this.length-a,f));var u=[],p=[],b=[],q;for(q=2;q<arguments.length;q++)b.push(arguments[q]);for(q=0;q<f;q++)p.push(this[a+q]);for(;q<this.length-a;q++)u.push(this[a+q]);var e=b.length;for(q=0;q<e+u.length;q++)this.items[a+q]=this[a+q]=q<e?b[q]:u[q-e];for(q=this.items.length=this.length-=f-e;this[q];)delete this[q++];return new z(p)};v.exclude=function(a){for(var f=0,k=this.length;f<k;f++)if(this[f]==a)return this.splice(f,1),!0;return!1};\n",
       "v.insertAfter=function(a){for(var f=this.items.length;f--;)this.items[f].insertAfter(a);return this};v.getBBox=function(){for(var a=[],f=[],k=[],u=[],p=this.items.length;p--;)if(!this.items[p].removed){var b=this.items[p].getBBox();a.push(b.x);f.push(b.y);k.push(b.x+b.width);u.push(b.y+b.height)}a=w.apply(0,a);f=w.apply(0,f);k=A.apply(0,k);u=A.apply(0,u);return{x:a,y:f,x2:k,y2:u,width:k-a,height:u-f,cx:a+(k-a)/2,cy:f+(u-f)/2}};v.clone=function(a){a=new z;for(var f=0,k=this.items.length;f<k;f++)a.push(this.items[f].clone());\n",
       "return a};v.toString=function(){return\"Snap\\u2018s set\"};v.type=\"set\";a.set=function(){var a=new z;arguments.length&&a.push.apply(a,Array.prototype.slice.call(arguments,0));return a}});C.plugin(function(a,v,y,C){function A(a){var b=a[0];switch(b.toLowerCase()){case \"t\":return[b,0,0];case \"m\":return[b,1,0,0,1,0,0];case \"r\":return 4==a.length?[b,0,a[2],a[3] ]:[b,0];case \"s\":return 5==a.length?[b,1,1,a[3],a[4] ]:3==a.length?[b,1,1]:[b,1]}}function w(b,d,f){d=q(d).replace(/\\.{3}|\\u2026/g,b);b=a.parseTransformString(b)||\n",
       "[];d=a.parseTransformString(d)||[];for(var k=Math.max(b.length,d.length),p=[],v=[],h=0,w,z,y,I;h<k;h++){y=b[h]||A(d[h]);I=d[h]||A(y);if(y[0]!=I[0]||\"r\"==y[0].toLowerCase()&&(y[2]!=I[2]||y[3]!=I[3])||\"s\"==y[0].toLowerCase()&&(y[3]!=I[3]||y[4]!=I[4])){b=a._.transform2matrix(b,f());d=a._.transform2matrix(d,f());p=[[\"m\",b.a,b.b,b.c,b.d,b.e,b.f] ];v=[[\"m\",d.a,d.b,d.c,d.d,d.e,d.f] ];break}p[h]=[];v[h]=[];w=0;for(z=Math.max(y.length,I.length);w<z;w++)w in y&&(p[h][w]=y[w]),w in I&&(v[h][w]=I[w])}return{from:u(p),\n",
       "to:u(v),f:n(p)}}function z(a){return a}function d(a){return function(b){return+b.toFixed(3)+a}}function f(b){return a.rgb(b[0],b[1],b[2])}function n(a){var b=0,d,f,k,n,h,p,q=[];d=0;for(f=a.length;d<f;d++){h=\"[\";p=['\"'+a[d][0]+'\"'];k=1;for(n=a[d].length;k<n;k++)p[k]=\"val[\"+b++ +\"]\";h+=p+\"]\";q[d]=h}return Function(\"val\",\"return Snap.path.toString.call([\"+q+\"])\")}function u(a){for(var b=[],d=0,f=a.length;d<f;d++)for(var k=1,n=a[d].length;k<n;k++)b.push(a[d][k]);return b}var p={},b=/[a-z]+$/i,q=String;\n",
       "p.stroke=p.fill=\"colour\";v.prototype.equal=function(a,b){return k(\"snap.util.equal\",this,a,b).firstDefined()};k.on(\"snap.util.equal\",function(e,k){var r,s;r=q(this.attr(e)||\"\");var x=this;if(r==+r&&k==+k)return{from:+r,to:+k,f:z};if(\"colour\"==p[e])return r=a.color(r),s=a.color(k),{from:[r.r,r.g,r.b,r.opacity],to:[s.r,s.g,s.b,s.opacity],f:f};if(\"transform\"==e||\"gradientTransform\"==e||\"patternTransform\"==e)return k instanceof a.Matrix&&(k=k.toTransformString()),a._.rgTransform.test(k)||(k=a._.svgTransform2string(k)),\n",
       "w(r,k,function(){return x.getBBox(1)});if(\"d\"==e||\"path\"==e)return r=a.path.toCubic(r,k),{from:u(r[0]),to:u(r[1]),f:n(r[0])};if(\"points\"==e)return r=q(r).split(a._.separator),s=q(k).split(a._.separator),{from:r,to:s,f:function(a){return a}};aUnit=r.match(b);s=q(k).match(b);return aUnit&&aUnit==s?{from:parseFloat(r),to:parseFloat(k),f:d(aUnit)}:{from:this.asPX(e),to:this.asPX(e,k),f:z}})});C.plugin(function(a,v,y,C){var A=v.prototype,w=\"createTouch\"in C.doc;v=\"click dblclick mousedown mousemove mouseout mouseover mouseup touchstart touchmove touchend touchcancel\".split(\" \");\n",
       "var z={mousedown:\"touchstart\",mousemove:\"touchmove\",mouseup:\"touchend\"},d=function(a,b){var d=\"y\"==a?\"scrollTop\":\"scrollLeft\",e=b&&b.node?b.node.ownerDocument:C.doc;return e[d in e.documentElement?\"documentElement\":\"body\"][d]},f=function(){this.returnValue=!1},n=function(){return this.originalEvent.preventDefault()},u=function(){this.cancelBubble=!0},p=function(){return this.originalEvent.stopPropagation()},b=function(){if(C.doc.addEventListener)return function(a,b,e,f){var k=w&&z[b]?z[b]:b,l=function(k){var l=\n",
       "d(\"y\",f),q=d(\"x\",f);if(w&&z.hasOwnProperty(b))for(var r=0,u=k.targetTouches&&k.targetTouches.length;r<u;r++)if(k.targetTouches[r].target==a||a.contains(k.targetTouches[r].target)){u=k;k=k.targetTouches[r];k.originalEvent=u;k.preventDefault=n;k.stopPropagation=p;break}return e.call(f,k,k.clientX+q,k.clientY+l)};b!==k&&a.addEventListener(b,l,!1);a.addEventListener(k,l,!1);return function(){b!==k&&a.removeEventListener(b,l,!1);a.removeEventListener(k,l,!1);return!0}};if(C.doc.attachEvent)return function(a,\n",
       "b,e,h){var k=function(a){a=a||h.node.ownerDocument.window.event;var b=d(\"y\",h),k=d(\"x\",h),k=a.clientX+k,b=a.clientY+b;a.preventDefault=a.preventDefault||f;a.stopPropagation=a.stopPropagation||u;return e.call(h,a,k,b)};a.attachEvent(\"on\"+b,k);return function(){a.detachEvent(\"on\"+b,k);return!0}}}(),q=[],e=function(a){for(var b=a.clientX,e=a.clientY,f=d(\"y\"),l=d(\"x\"),n,p=q.length;p--;){n=q[p];if(w)for(var r=a.touches&&a.touches.length,u;r--;){if(u=a.touches[r],u.identifier==n.el._drag.id||n.el.node.contains(u.target)){b=\n",
       "u.clientX;e=u.clientY;(a.originalEvent?a.originalEvent:a).preventDefault();break}}else a.preventDefault();b+=l;e+=f;k(\"snap.drag.move.\"+n.el.id,n.move_scope||n.el,b-n.el._drag.x,e-n.el._drag.y,b,e,a)}},l=function(b){a.unmousemove(e).unmouseup(l);for(var d=q.length,f;d--;)f=q[d],f.el._drag={},k(\"snap.drag.end.\"+f.el.id,f.end_scope||f.start_scope||f.move_scope||f.el,b);q=[]};for(y=v.length;y--;)(function(d){a[d]=A[d]=function(e,f){a.is(e,\"function\")&&(this.events=this.events||[],this.events.push({name:d,\n",
       "f:e,unbind:b(this.node||document,d,e,f||this)}));return this};a[\"un\"+d]=A[\"un\"+d]=function(a){for(var b=this.events||[],e=b.length;e--;)if(b[e].name==d&&(b[e].f==a||!a)){b[e].unbind();b.splice(e,1);!b.length&&delete this.events;break}return this}})(v[y]);A.hover=function(a,b,d,e){return this.mouseover(a,d).mouseout(b,e||d)};A.unhover=function(a,b){return this.unmouseover(a).unmouseout(b)};var r=[];A.drag=function(b,d,f,h,n,p){function u(r,v,w){(r.originalEvent||r).preventDefault();this._drag.x=v;\n",
       "this._drag.y=w;this._drag.id=r.identifier;!q.length&&a.mousemove(e).mouseup(l);q.push({el:this,move_scope:h,start_scope:n,end_scope:p});d&&k.on(\"snap.drag.start.\"+this.id,d);b&&k.on(\"snap.drag.move.\"+this.id,b);f&&k.on(\"snap.drag.end.\"+this.id,f);k(\"snap.drag.start.\"+this.id,n||h||this,v,w,r)}if(!arguments.length){var v;return this.drag(function(a,b){this.attr({transform:v+(v?\"T\":\"t\")+[a,b]})},function(){v=this.transform().local})}this._drag={};r.push({el:this,start:u});this.mousedown(u);return this};\n",
       "A.undrag=function(){for(var b=r.length;b--;)r[b].el==this&&(this.unmousedown(r[b].start),r.splice(b,1),k.unbind(\"snap.drag.*.\"+this.id));!r.length&&a.unmousemove(e).unmouseup(l);return this}});C.plugin(function(a,v,y,C){y=y.prototype;var A=/^\\s*url\\((.+)\\)/,w=String,z=a._.$;a.filter={};y.filter=function(d){var f=this;\"svg\"!=f.type&&(f=f.paper);d=a.parse(w(d));var k=a._.id(),u=z(\"filter\");z(u,{id:k,filterUnits:\"userSpaceOnUse\"});u.appendChild(d.node);f.defs.appendChild(u);return new v(u)};k.on(\"snap.util.getattr.filter\",\n",
       "function(){k.stop();var d=z(this.node,\"filter\");if(d)return(d=w(d).match(A))&&a.select(d[1])});k.on(\"snap.util.attr.filter\",function(d){if(d instanceof v&&\"filter\"==d.type){k.stop();var f=d.node.id;f||(z(d.node,{id:d.id}),f=d.id);z(this.node,{filter:a.url(f)})}d&&\"none\"!=d||(k.stop(),this.node.removeAttribute(\"filter\"))});a.filter.blur=function(d,f){null==d&&(d=2);return a.format('<feGaussianBlur stdDeviation=\"{def}\"/>',{def:null==f?d:[d,f]})};a.filter.blur.toString=function(){return this()};a.filter.shadow=\n",
       "function(d,f,k,u,p){\"string\"==typeof k&&(p=u=k,k=4);\"string\"!=typeof u&&(p=u,u=\"#000\");null==k&&(k=4);null==p&&(p=1);null==d&&(d=0,f=2);null==f&&(f=d);u=a.color(u||\"#000\");return a.format('<feGaussianBlur in=\"SourceAlpha\" stdDeviation=\"{blur}\"/><feOffset dx=\"{dx}\" dy=\"{dy}\" result=\"offsetblur\"/><feFlood flood-color=\"{color}\"/><feComposite in2=\"offsetblur\" operator=\"in\"/><feComponentTransfer><feFuncA type=\"linear\" slope=\"{opacity}\"/></feComponentTransfer><feMerge><feMergeNode/><feMergeNode in=\"SourceGraphic\"/></feMerge>',\n",
       "{color:u,dx:d,dy:f,blur:k,opacity:p})};a.filter.shadow.toString=function(){return this()};a.filter.grayscale=function(d){null==d&&(d=1);return a.format('<feColorMatrix type=\"matrix\" values=\"{a} {b} {c} 0 0 {d} {e} {f} 0 0 {g} {b} {h} 0 0 0 0 0 1 0\"/>',{a:0.2126+0.7874*(1-d),b:0.7152-0.7152*(1-d),c:0.0722-0.0722*(1-d),d:0.2126-0.2126*(1-d),e:0.7152+0.2848*(1-d),f:0.0722-0.0722*(1-d),g:0.2126-0.2126*(1-d),h:0.0722+0.9278*(1-d)})};a.filter.grayscale.toString=function(){return this()};a.filter.sepia=\n",
       "function(d){null==d&&(d=1);return a.format('<feColorMatrix type=\"matrix\" values=\"{a} {b} {c} 0 0 {d} {e} {f} 0 0 {g} {h} {i} 0 0 0 0 0 1 0\"/>',{a:0.393+0.607*(1-d),b:0.769-0.769*(1-d),c:0.189-0.189*(1-d),d:0.349-0.349*(1-d),e:0.686+0.314*(1-d),f:0.168-0.168*(1-d),g:0.272-0.272*(1-d),h:0.534-0.534*(1-d),i:0.131+0.869*(1-d)})};a.filter.sepia.toString=function(){return this()};a.filter.saturate=function(d){null==d&&(d=1);return a.format('<feColorMatrix type=\"saturate\" values=\"{amount}\"/>',{amount:1-\n",
       "d})};a.filter.saturate.toString=function(){return this()};a.filter.hueRotate=function(d){return a.format('<feColorMatrix type=\"hueRotate\" values=\"{angle}\"/>',{angle:d||0})};a.filter.hueRotate.toString=function(){return this()};a.filter.invert=function(d){null==d&&(d=1);return a.format('<feComponentTransfer><feFuncR type=\"table\" tableValues=\"{amount} {amount2}\"/><feFuncG type=\"table\" tableValues=\"{amount} {amount2}\"/><feFuncB type=\"table\" tableValues=\"{amount} {amount2}\"/></feComponentTransfer>',{amount:d,\n",
       "amount2:1-d})};a.filter.invert.toString=function(){return this()};a.filter.brightness=function(d){null==d&&(d=1);return a.format('<feComponentTransfer><feFuncR type=\"linear\" slope=\"{amount}\"/><feFuncG type=\"linear\" slope=\"{amount}\"/><feFuncB type=\"linear\" slope=\"{amount}\"/></feComponentTransfer>',{amount:d})};a.filter.brightness.toString=function(){return this()};a.filter.contrast=function(d){null==d&&(d=1);return a.format('<feComponentTransfer><feFuncR type=\"linear\" slope=\"{amount}\" intercept=\"{amount2}\"/><feFuncG type=\"linear\" slope=\"{amount}\" intercept=\"{amount2}\"/><feFuncB type=\"linear\" slope=\"{amount}\" intercept=\"{amount2}\"/></feComponentTransfer>',\n",
       "{amount:d,amount2:0.5-d/2})};a.filter.contrast.toString=function(){return this()}});return C});\n",
       "\n",
       "]]> </script>\n",
       "</svg>\n"
      ],
      "text/plain": [
       "Compose.Context(BBox{l,t,r,b,w,h = 0.0w,0.0h, 1.0w,1.0h, 1.0w,1.0h}, Compose.UnitBox{Float64, Float64, Float64, Float64}(-1.2, -1.2, 2.4, 2.4, 0.0mm, 0.0mm, 0.0mm, 0.0mm), nothing, nothing, nothing, List([Compose.Context(BBox{l,t,r,b,w,h = 0.0w,0.0h, 1.0w,1.0h, 1.0w,1.0h}, nothing, nothing, nothing, nothing, List([]), List([Compose.Form{Compose.LinePrimitive}(Compose.LinePrimitive[Compose.LinePrimitive{Tuple{Measures.Measure, Measures.Measure}}(Tuple{Measures.Measure, Measures.Measure}[(-0.906466687827947cx, 0.9338996515658169cy), (0.9225854940346055cx, -0.3586985010904498cy)]), Compose.LinePrimitive{Tuple{Measures.Measure, Measures.Measure}}(Tuple{Measures.Measure, Measures.Measure}[(-0.8873002417421076cx, 0.9795916429468774cy), (0.6519802496377521cx, 0.7008493780247045cy)]), Compose.LinePrimitive{Tuple{Measures.Measure, Measures.Measure}}(Tuple{Measures.Measure, Measures.Measure}[(0.9110069630115294cx, -0.44606239207600096cy), (-0.48127305193668224cx, -0.9569402918195365cy)]), Compose.LinePrimitive{Tuple{Measures.Measure, Measures.Measure}}(Tuple{Measures.Measure, Measures.Measure}[(-0.5203028568849692cx, -0.9025779569171113cy), (0.6889987866388546cx, 0.6016786199794028cy)])], Symbol(\"\"))]), List([Compose.Property{Compose.LineWidthPrimitive}(Compose.LineWidthPrimitive[Compose.LineWidthPrimitive(0.3053091637195159mm), Compose.LineWidthPrimitive(1.5mm), Compose.LineWidthPrimitive(0.2744073301456001mm), Compose.LineWidthPrimitive(0.3631567293015869mm)]), Compose.Property{Compose.FillPrimitive}(Compose.FillPrimitive[Compose.FillPrimitive(RGBA{Float64}(0.0,0.0,0.0,0.0))]), Compose.Property{Compose.StrokePrimitive}(Compose.StrokePrimitive[Compose.StrokePrimitive(RGBA{Float64}(0.8274509803921568,0.8274509803921568,0.8274509803921568,1.0))])]), 0, false, false, false, false, nothing, nothing, 0.0, Symbol(\"\")), Compose.Context(BBox{l,t,r,b,w,h = 0.0w,0.0h, 1.0w,1.0h, 1.0w,1.0h}, nothing, nothing, nothing, nothing, List([]), List([]), List([Compose.Property{Compose.LineWidthPrimitive}(Compose.LineWidthPrimitive[Compose.LineWidthPrimitive(0.3053091637195159mm), Compose.LineWidthPrimitive(1.5mm), Compose.LineWidthPrimitive(0.2744073301456001mm), Compose.LineWidthPrimitive(0.3631567293015869mm)]), Compose.Property{Compose.StrokePrimitive}(Compose.StrokePrimitive[Compose.StrokePrimitive(RGBA{Float64}(0.8274509803921568,0.8274509803921568,0.8274509803921568,1.0))])]), 0, false, false, false, false, nothing, nothing, 0.0, Symbol(\"\")), Compose.Context(BBox{l,t,r,b,w,h = 0.0w,0.0h, 1.0w,1.0h, 1.0w,1.0h}, nothing, nothing, nothing, nothing, List([]), List([]), List([Compose.Property{Compose.FontSizePrimitive}(Compose.FontSizePrimitive[Compose.FontSizePrimitive(4.0mm)]), Compose.Property{Compose.StrokePrimitive}(Compose.StrokePrimitive[Compose.StrokePrimitive(RGBA{Float64}(0.0,0.0,0.0,0.0))]), Compose.Property{Compose.FillPrimitive}(Compose.FillPrimitive[Compose.FillPrimitive(RGBA{Float64}(0.0,0.0,0.0,1.0))])]), 0, false, false, false, false, nothing, nothing, 0.0, Symbol(\"\")), Compose.Context(BBox{l,t,r,b,w,h = 0.0w,0.0h, 1.0w,1.0h, 1.0w,1.0h}, nothing, nothing, nothing, nothing, List([]), List([Compose.Form{Compose.CirclePrimitive{Tuple{Measures.Measure, Measures.Measure}, Measures.Measure}}(Compose.CirclePrimitive{Tuple{Measures.Measure, Measures.Measure}, Measures.Measure}[Compose.CirclePrimitive{Tuple{Measures.Measure, Measures.Measure}, Measures.Measure}((-1.0cx, 1.0cy), 0.04581307507512696w), Compose.CirclePrimitive{Tuple{Measures.Measure, Measures.Measure}, Measures.Measure}((1.0cx, -0.4134076277036489cy), 0.037918004733677936w), Compose.CirclePrimitive{Tuple{Measures.Measure, Measures.Measure}, Measures.Measure}((-0.5986223660864178cx, -1.0cy), 0.05w), Compose.CirclePrimitive{Tuple{Measures.Measure, Measures.Measure}, Measures.Measure}((0.7538884595281523cx, 0.6823952201255485cy), 0.041426250975598246w)], Symbol(\"\"))]), List([Compose.Property{Compose.LineWidthPrimitive}(Compose.LineWidthPrimitive[Compose.LineWidthPrimitive(0.0mm)]), Compose.Property{Compose.StrokePrimitive}(Compose.StrokePrimitive[Compose.StrokePrimitive(RGBA{Float64}(0.0,0.0,0.0,0.0))]), Compose.Property{Compose.FillPrimitive}(Compose.FillPrimitive[Compose.FillPrimitive(RGBA{Float64}(1.0,0.0,0.0,1.0)), Compose.FillPrimitive(RGBA{Float64}(0.7254901960784313,0.13725490196078433,0.0,1.0)), Compose.FillPrimitive(RGBA{Float64}(0.4666666666666667,0.26666666666666666,0.0,1.0)), Compose.FillPrimitive(RGBA{Float64}(0.807843137254902,0.09803921568627451,0.0,1.0))])]), 0, false, false, false, false, nothing, nothing, 0.0, Symbol(\"\")), Compose.Context(BBox{l,t,r,b,w,h = 0.0w,0.0h, 1.0w,1.0h, 1.0w,1.0h}, nothing, nothing, nothing, nothing, List([]), List([]), List([Compose.Property{Compose.FontSizePrimitive}(Compose.FontSizePrimitive[Compose.FontSizePrimitive(4.0mm)]), Compose.Property{Compose.StrokePrimitive}(Compose.StrokePrimitive[Compose.StrokePrimitive(RGBA{Float64}(0.0,0.0,0.0,0.0))]), Compose.Property{Compose.FillPrimitive}(Compose.FillPrimitive[Compose.FillPrimitive(RGBA{Float64}(0.0,0.0,0.0,1.0))])]), 0, false, false, false, false, nothing, nothing, 0.0, Symbol(\"\"))]), List([]), List([]), 0, false, false, false, false, nothing, nothing, 0.0, Symbol(\"\"))"
      ]
     },
     "execution_count": 3,
     "metadata": {},
     "output_type": "execute_result"
    }
   ],
   "source": [
    "Random.seed!(2)\n",
    "n = 4#30\n",
    "l = 4#50\n",
    "\n",
    "# Make graph\n",
    "G = watts_strogatz(n, 3, 0.2)\n",
    "\n",
    "# Convert to incidence matrix\n",
    "A = incidence_matrix(G, oriented=true)\n",
    "m = size(A, 2)\n",
    "\n",
    "# Create generator-node mapping\n",
    "node_map = vcat(collect(1:n), rand(1:n, l-n))\n",
    "B = spzeros(n, l)\n",
    "for (gen, node) in enumerate(node_map)\n",
    "    B[node, gen] = 1\n",
    "end\n",
    "\n",
    "# Generate carbon costs\n",
    "cq = zeros(l)\n",
    "cl = rand(Exponential(2), l)\n",
    "\n",
    "# Generate demands\n",
    "d = rand(Bernoulli(0.8), n) .* rand(Gamma(3.0, 3.0), n)\n",
    "\n",
    "# Generate generation and flow capacities\n",
    "gmax = rand(Gamma(4.0, 3.0), l) + (B'd)  # This is just to make the problem easier\n",
    "pmax = rand(Gamma(1.0, 0.1), m)\n",
    "\n",
    "# Plot network\n",
    "c_node = (B*cl) ./ (B*ones(l))\n",
    "nodesize = maximum(d) .+ d\n",
    "nodefillc = weighted_color_mean.((c_node / maximum(c_node)).^0.5, colorant\"red\", colorant\"green\")\n",
    "edgelinewidth = (pmax / maximum(pmax)).^0.5\n",
    "\n",
    "Random.seed!(0)  # I put a seed here so the spring layout doesn't change\n",
    "plt = gplot(G, nodesize=nodesize, nodefillc=nodefillc, edgelinewidth=edgelinewidth)"
   ]
  },
  {
   "cell_type": "markdown",
   "metadata": {},
   "source": [
    "# Solve the carbon management problem"
   ]
  },
  {
   "cell_type": "code",
   "execution_count": 4,
   "metadata": {},
   "outputs": [],
   "source": [
    "cnet = PowerNetwork(cq, cl, pmax, gmax, A, B);"
   ]
  },
  {
   "cell_type": "code",
   "execution_count": 5,
   "metadata": {},
   "outputs": [],
   "source": [
    "cnet = PowerNetwork(cq, cl, pmax, gmax, A, B);\n",
    "carbon_min = PowerManagementProblem(cnet, d)\n",
    "solve!(carbon_min, OPT, verbose=true);"
   ]
  },
  {
   "cell_type": "markdown",
   "metadata": {},
   "source": [
    "# Test the dynamic network"
   ]
  },
  {
   "cell_type": "markdown",
   "metadata": {},
   "source": [
    "## One single timestep, with no battery capacity"
   ]
  },
  {
   "cell_type": "markdown",
   "metadata": {},
   "source": [
    "This should give the same result as above"
   ]
  },
  {
   "cell_type": "code",
   "execution_count": 95,
   "metadata": {},
   "outputs": [],
   "source": [
    "T = 1\n",
    "\n",
    "cq_dyn = [cq for _ in 1:T]\n",
    "cl_dyn = [cl for _ in 1:T]\n",
    "pmax_dyn = [pmax for _ in 1:T]\n",
    "gmax_dyn = [gmax for _ in 1:T]\n",
    "d_dyn = [d for _ in 1:T]\n",
    "\n",
    "P = rand(Exponential(2), n)\n",
    "C = rand(Exponential(2), n)\n",
    "C = zeros(n)\n",
    ";"
   ]
  },
  {
   "cell_type": "code",
   "execution_count": 97,
   "metadata": {},
   "outputs": [],
   "source": [
    "dnet = DynamicPowerNetwork(\n",
    "    cq_dyn, cl_dyn, pmax_dyn, gmax_dyn, A, B, P, C, T\n",
    ")\n",
    "dmin = DynamicPowerManagementProblem(dnet, d_dyn);"
   ]
  },
  {
   "cell_type": "code",
   "execution_count": 8,
   "metadata": {},
   "outputs": [
    {
     "ename": "LoadError",
     "evalue": "UndefVarError: dmin not defined",
     "output_type": "error",
     "traceback": [
      "UndefVarError: dmin not defined",
      "",
      "Stacktrace:",
      " [1] top-level scope",
      "   @ In[8]:1",
      " [2] eval",
      "   @ ./boot.jl:360 [inlined]",
      " [3] include_string(mapexpr::typeof(REPL.softscope), mod::Module, code::String, filename::String)",
      "   @ Base ./loading.jl:1094"
     ]
    }
   ],
   "source": [
    "solve!(dmin, OPT, verbose=true);"
   ]
  },
  {
   "cell_type": "code",
   "execution_count": 9,
   "metadata": {},
   "outputs": [
    {
     "ename": "LoadError",
     "evalue": "UndefVarError: dmin not defined",
     "output_type": "error",
     "traceback": [
      "UndefVarError: dmin not defined",
      "",
      "Stacktrace:",
      " [1] top-level scope",
      "   @ In[9]:1",
      " [2] eval",
      "   @ ./boot.jl:360 [inlined]",
      " [3] include_string(mapexpr::typeof(REPL.softscope), mod::Module, code::String, filename::String)",
      "   @ Base ./loading.jl:1094"
     ]
    }
   ],
   "source": [
    "dmin.p[1].value"
   ]
  },
  {
   "cell_type": "code",
   "execution_count": 10,
   "metadata": {},
   "outputs": [
    {
     "ename": "LoadError",
     "evalue": "UndefVarError: dmin not defined",
     "output_type": "error",
     "traceback": [
      "UndefVarError: dmin not defined",
      "",
      "Stacktrace:",
      " [1] top-level scope",
      "   @ In[10]:1",
      " [2] eval",
      "   @ ./boot.jl:360 [inlined]",
      " [3] include_string(mapexpr::typeof(REPL.softscope), mod::Module, code::String, filename::String)",
      "   @ Base ./loading.jl:1094"
     ]
    }
   ],
   "source": [
    "dmin.g[1].value"
   ]
  },
  {
   "cell_type": "code",
   "execution_count": 11,
   "metadata": {},
   "outputs": [
    {
     "ename": "LoadError",
     "evalue": "UndefVarError: dmin not defined",
     "output_type": "error",
     "traceback": [
      "UndefVarError: dmin not defined",
      "",
      "Stacktrace:",
      " [1] top-level scope",
      "   @ In[11]:1",
      " [2] eval",
      "   @ ./boot.jl:360 [inlined]",
      " [3] include_string(mapexpr::typeof(REPL.softscope), mod::Module, code::String, filename::String)",
      "   @ Base ./loading.jl:1094"
     ]
    }
   ],
   "source": [
    "dmin.s[1].value"
   ]
  },
  {
   "cell_type": "code",
   "execution_count": 12,
   "metadata": {},
   "outputs": [
    {
     "ename": "LoadError",
     "evalue": "UndefVarError: dmin not defined",
     "output_type": "error",
     "traceback": [
      "UndefVarError: dmin not defined",
      "",
      "Stacktrace:",
      " [1] top-level scope",
      "   @ In[12]:1",
      " [2] eval",
      "   @ ./boot.jl:360 [inlined]",
      " [3] include_string(mapexpr::typeof(REPL.softscope), mod::Module, code::String, filename::String)",
      "   @ Base ./loading.jl:1094"
     ]
    }
   ],
   "source": [
    "dmin.problem.optval"
   ]
  },
  {
   "cell_type": "markdown",
   "metadata": {},
   "source": [
    "### Comparing with a static network problem + comparing the dual variables"
   ]
  },
  {
   "cell_type": "code",
   "execution_count": 13,
   "metadata": {},
   "outputs": [],
   "source": [
    "# solution with static network\n",
    "cnet = PowerNetwork(cq_dyn[1], cl_dyn[1], pmax_dyn[1], gmax_dyn[1], A, B);\n",
    "carbon_min = PowerManagementProblem(cnet, d_dyn[1])\n",
    "solve!(carbon_min, OPT, verbose=true);"
   ]
  },
  {
   "cell_type": "code",
   "execution_count": 14,
   "metadata": {},
   "outputs": [
    {
     "ename": "LoadError",
     "evalue": "UndefVarError: dmin not defined",
     "output_type": "error",
     "traceback": [
      "UndefVarError: dmin not defined",
      "",
      "Stacktrace:",
      " [1] top-level scope",
      "   @ show.jl:955",
      " [2] eval",
      "   @ ./boot.jl:360 [inlined]",
      " [3] include_string(mapexpr::typeof(REPL.softscope), mod::Module, code::String, filename::String)",
      "   @ Base ./loading.jl:1094"
     ]
    }
   ],
   "source": [
    "@show norm(dmin.g[1].value - carbon_min.g.value)\n",
    "@show norm(dmin.p[1].value - carbon_min.p.value);"
   ]
  },
  {
   "cell_type": "code",
   "execution_count": 15,
   "metadata": {},
   "outputs": [
    {
     "ename": "LoadError",
     "evalue": "UndefVarError: dmin not defined",
     "output_type": "error",
     "traceback": [
      "UndefVarError: dmin not defined",
      "",
      "Stacktrace:",
      " [1] top-level scope",
      "   @ In[15]:1",
      " [2] eval",
      "   @ ./boot.jl:360 [inlined]",
      " [3] include_string(mapexpr::typeof(REPL.softscope), mod::Module, code::String, filename::String)",
      "   @ Base ./loading.jl:1094"
     ]
    }
   ],
   "source": [
    "x = flatten_variables_dyn(dmin);"
   ]
  },
  {
   "cell_type": "code",
   "execution_count": 16,
   "metadata": {},
   "outputs": [
    {
     "ename": "LoadError",
     "evalue": "UndefVarError: x not defined",
     "output_type": "error",
     "traceback": [
      "UndefVarError: x not defined",
      "",
      "Stacktrace:",
      " [1] top-level scope",
      "   @ In[16]:1",
      " [2] eval",
      "   @ ./boot.jl:360 [inlined]",
      " [3] include_string(mapexpr::typeof(REPL.softscope), mod::Module, code::String, filename::String)",
      "   @ Base ./loading.jl:1094"
     ]
    }
   ],
   "source": [
    "g, p, s, ch, dis, λpl, λpu, λgl, λgu, ν, λsl, λsu, λchl, λchu, λdisl, λdisu, νs = unflatten_variables_dyn(x, n, m, l, T);"
   ]
  },
  {
   "cell_type": "code",
   "execution_count": 17,
   "metadata": {},
   "outputs": [],
   "source": [
    "g_, p_, λpl_, λpu_, λgl_, λgu_, ν_ = unflatten_variables(\n",
    "    flatten_variables(carbon_min), n, m, l\n",
    ");"
   ]
  },
  {
   "cell_type": "code",
   "execution_count": 18,
   "metadata": {},
   "outputs": [
    {
     "ename": "LoadError",
     "evalue": "UndefVarError: g not defined",
     "output_type": "error",
     "traceback": [
      "UndefVarError: g not defined",
      "",
      "Stacktrace:",
      " [1] top-level scope",
      "   @ show.jl:955",
      " [2] eval",
      "   @ ./boot.jl:360 [inlined]",
      " [3] include_string(mapexpr::typeof(REPL.softscope), mod::Module, code::String, filename::String)",
      "   @ Base ./loading.jl:1094"
     ]
    }
   ],
   "source": [
    "@show norm(g[1]-g_)\n",
    "@show norm(p[1]-p_)\n",
    "@show norm(λpl[1]-λpl_)\n",
    "@show norm(λpu[1]-λpu_)\n",
    "@show norm(λgl[1]-λgl_)\n",
    "@show norm(λgu[1]-λgu_)"
   ]
  },
  {
   "cell_type": "markdown",
   "metadata": {},
   "source": [
    "It seems that for a single timestep we recover exactly the initial problem. "
   ]
  },
  {
   "cell_type": "code",
   "execution_count": 19,
   "metadata": {},
   "outputs": [
    {
     "ename": "LoadError",
     "evalue": "UndefVarError: dmin not defined",
     "output_type": "error",
     "traceback": [
      "UndefVarError: dmin not defined",
      "",
      "Stacktrace:",
      " [1] top-level scope",
      "   @ In[19]:1",
      " [2] eval",
      "   @ ./boot.jl:360 [inlined]",
      " [3] include_string(mapexpr::typeof(REPL.softscope), mod::Module, code::String, filename::String)",
      "   @ Base ./loading.jl:1094"
     ]
    }
   ],
   "source": [
    "x = flatten_variables_dyn(dmin);\n",
    "KKT = kkt_dyn(x, dnet, d_dyn);\n",
    "TOL = 1e-6;\n",
    "\n",
    "@show norm(KKT)\n",
    "@show sum(abs.(KKT) .> TOL);"
   ]
  },
  {
   "cell_type": "markdown",
   "metadata": {},
   "source": [
    "## Several timesteps, with no battery capacity"
   ]
  },
  {
   "cell_type": "markdown",
   "metadata": {},
   "source": [
    "Again, this should be the same as $T$ uncoupled problems because there is no battery capacity (therefore no time dependence). "
   ]
  },
  {
   "cell_type": "code",
   "execution_count": 20,
   "metadata": {},
   "outputs": [],
   "source": [
    "T = 2\n",
    "\n",
    "cq_dyn = [cq for _ in 1:T]\n",
    "cl_dyn = [cl for _ in 1:T]\n",
    "pmax_dyn = [pmax for _ in 1:T]\n",
    "gmax_dyn = [gmax for _ in 1:T]\n",
    "d_dyn = [d for _ in 1:T]\n",
    "\n",
    "P = rand(Exponential(2), n)\n",
    "C = rand(Exponential(2), n)\n",
    "C = zeros(n)\n",
    ";"
   ]
  },
  {
   "cell_type": "code",
   "execution_count": 21,
   "metadata": {},
   "outputs": [
    {
     "ename": "LoadError",
     "evalue": "MethodError: no method matching DynamicPowerNetwork(::Vector{Vector{Float64}}, ::Vector{Vector{Float64}}, ::Vector{Vector{Float64}}, ::Vector{Vector{Float64}}, ::SparseMatrixCSC{Int64, Int64}, ::SparseMatrixCSC{Float64, Int64}, ::Vector{Float64}, ::Vector{Float64})\n\u001b[0mClosest candidates are:\n\u001b[0m  DynamicPowerNetwork(::Any, ::Any, ::Any, ::Any, ::Any, ::Any, ::Any, ::Any, \u001b[91m::Any\u001b[39m; τ) at /Users/lucasfuentes/Documents/Ideas/EnergyNetworks/CarbonNetworks.jl/src/dyn_model.jl:43\n\u001b[0m  DynamicPowerNetwork(::Any, ::Any, ::Any, ::Any, ::Any, ::Any, ::Any, ::Any, \u001b[91m::Any\u001b[39m, \u001b[91m::Any\u001b[39m) at /Users/lucasfuentes/Documents/Ideas/EnergyNetworks/CarbonNetworks.jl/src/dyn_model.jl:31",
     "output_type": "error",
     "traceback": [
      "MethodError: no method matching DynamicPowerNetwork(::Vector{Vector{Float64}}, ::Vector{Vector{Float64}}, ::Vector{Vector{Float64}}, ::Vector{Vector{Float64}}, ::SparseMatrixCSC{Int64, Int64}, ::SparseMatrixCSC{Float64, Int64}, ::Vector{Float64}, ::Vector{Float64})\n\u001b[0mClosest candidates are:\n\u001b[0m  DynamicPowerNetwork(::Any, ::Any, ::Any, ::Any, ::Any, ::Any, ::Any, ::Any, \u001b[91m::Any\u001b[39m; τ) at /Users/lucasfuentes/Documents/Ideas/EnergyNetworks/CarbonNetworks.jl/src/dyn_model.jl:43\n\u001b[0m  DynamicPowerNetwork(::Any, ::Any, ::Any, ::Any, ::Any, ::Any, ::Any, ::Any, \u001b[91m::Any\u001b[39m, \u001b[91m::Any\u001b[39m) at /Users/lucasfuentes/Documents/Ideas/EnergyNetworks/CarbonNetworks.jl/src/dyn_model.jl:31",
      "",
      "Stacktrace:",
      " [1] top-level scope",
      "   @ In[21]:1",
      " [2] eval",
      "   @ ./boot.jl:360 [inlined]",
      " [3] include_string(mapexpr::typeof(REPL.softscope), mod::Module, code::String, filename::String)",
      "   @ Base ./loading.jl:1094"
     ]
    }
   ],
   "source": [
    "dnet = DynamicPowerNetwork(\n",
    "    cq_dyn, cl_dyn, pmax_dyn, gmax_dyn, A, B, P, C, T\n",
    ")\n",
    "dmin = DynamicPowerManagementProblem(dnet, d_dyn);"
   ]
  },
  {
   "cell_type": "code",
   "execution_count": 22,
   "metadata": {},
   "outputs": [
    {
     "ename": "LoadError",
     "evalue": "UndefVarError: dmin not defined",
     "output_type": "error",
     "traceback": [
      "UndefVarError: dmin not defined",
      "",
      "Stacktrace:",
      " [1] top-level scope",
      "   @ In[22]:1",
      " [2] eval",
      "   @ ./boot.jl:360 [inlined]",
      " [3] include_string(mapexpr::typeof(REPL.softscope), mod::Module, code::String, filename::String)",
      "   @ Base ./loading.jl:1094"
     ]
    }
   ],
   "source": [
    "solve!(dmin, OPT, verbose=true);"
   ]
  },
  {
   "cell_type": "code",
   "execution_count": 23,
   "metadata": {},
   "outputs": [
    {
     "ename": "LoadError",
     "evalue": "UndefVarError: dmin not defined",
     "output_type": "error",
     "traceback": [
      "UndefVarError: dmin not defined",
      "",
      "Stacktrace:",
      " [1] macro expansion",
      "   @ ./show.jl:955 [inlined]",
      " [2] top-level scope",
      "   @ ./In[23]:2",
      " [3] eval",
      "   @ ./boot.jl:360 [inlined]",
      " [4] include_string(mapexpr::typeof(REPL.softscope), mod::Module, code::String, filename::String)",
      "   @ Base ./loading.jl:1094"
     ]
    }
   ],
   "source": [
    "for t in 1:T\n",
    "    @show dmin.p[t].value\n",
    "    @show dmin.g[t].value\n",
    "    @show dmin.s[t].value\n",
    "end"
   ]
  },
  {
   "cell_type": "code",
   "execution_count": 24,
   "metadata": {},
   "outputs": [
    {
     "ename": "LoadError",
     "evalue": "UndefVarError: dmin not defined",
     "output_type": "error",
     "traceback": [
      "UndefVarError: dmin not defined",
      "",
      "Stacktrace:",
      " [1] top-level scope",
      "   @ ./In[24]:4",
      " [2] eval",
      "   @ ./boot.jl:360 [inlined]",
      " [3] include_string(mapexpr::typeof(REPL.softscope), mod::Module, code::String, filename::String)",
      "   @ Base ./loading.jl:1094"
     ]
    }
   ],
   "source": [
    "s_vals = zeros(n, T)\n",
    "g_vals = zeros(l, T)\n",
    "for t in 1:T\n",
    "    s_vals[:, t] = dmin.s[t].value\n",
    "    g_vals[:, t] = dmin.g[t].value\n",
    "end"
   ]
  },
  {
   "cell_type": "code",
   "execution_count": 25,
   "metadata": {},
   "outputs": [
    {
     "data": {
      "image/svg+xml": [
       "<?xml version=\"1.0\" encoding=\"utf-8\"?>\n",
       "<svg xmlns=\"http://www.w3.org/2000/svg\" xmlns:xlink=\"http://www.w3.org/1999/xlink\" width=\"600\" height=\"400\" viewBox=\"0 0 2400 1600\">\n",
       "<defs>\n",
       "  <clipPath id=\"clip810\">\n",
       "    <rect x=\"0\" y=\"0\" width=\"2400\" height=\"1600\"/>\n",
       "  </clipPath>\n",
       "</defs>\n",
       "<path clip-path=\"url(#clip810)\" d=\"\n",
       "M0 1600 L2400 1600 L2400 0 L0 0  Z\n",
       "  \" fill=\"#ffffff\" fill-rule=\"evenodd\" fill-opacity=\"1\"/>\n",
       "<defs>\n",
       "  <clipPath id=\"clip811\">\n",
       "    <rect x=\"480\" y=\"0\" width=\"1681\" height=\"1600\"/>\n",
       "  </clipPath>\n",
       "</defs>\n",
       "<path clip-path=\"url(#clip810)\" d=\"\n",
       "M186.274 1486.45 L2352.76 1486.45 L2352.76 47.2441 L186.274 47.2441  Z\n",
       "  \" fill=\"#ffffff\" fill-rule=\"evenodd\" fill-opacity=\"1\"/>\n",
       "<defs>\n",
       "  <clipPath id=\"clip812\">\n",
       "    <rect x=\"186\" y=\"47\" width=\"2167\" height=\"1440\"/>\n",
       "  </clipPath>\n",
       "</defs>\n",
       "<polyline clip-path=\"url(#clip812)\" style=\"stroke:#000000; stroke-linecap:butt; stroke-linejoin:round; stroke-width:2; stroke-opacity:0.1; fill:none\" points=\"\n",
       "  247.59,1486.45 247.59,47.2441 \n",
       "  \"/>\n",
       "<polyline clip-path=\"url(#clip812)\" style=\"stroke:#000000; stroke-linecap:butt; stroke-linejoin:round; stroke-width:2; stroke-opacity:0.1; fill:none\" points=\"\n",
       "  758.552,1486.45 758.552,47.2441 \n",
       "  \"/>\n",
       "<polyline clip-path=\"url(#clip812)\" style=\"stroke:#000000; stroke-linecap:butt; stroke-linejoin:round; stroke-width:2; stroke-opacity:0.1; fill:none\" points=\"\n",
       "  1269.51,1486.45 1269.51,47.2441 \n",
       "  \"/>\n",
       "<polyline clip-path=\"url(#clip812)\" style=\"stroke:#000000; stroke-linecap:butt; stroke-linejoin:round; stroke-width:2; stroke-opacity:0.1; fill:none\" points=\"\n",
       "  1780.48,1486.45 1780.48,47.2441 \n",
       "  \"/>\n",
       "<polyline clip-path=\"url(#clip812)\" style=\"stroke:#000000; stroke-linecap:butt; stroke-linejoin:round; stroke-width:2; stroke-opacity:0.1; fill:none\" points=\"\n",
       "  2291.44,1486.45 2291.44,47.2441 \n",
       "  \"/>\n",
       "<polyline clip-path=\"url(#clip810)\" style=\"stroke:#000000; stroke-linecap:butt; stroke-linejoin:round; stroke-width:4; stroke-opacity:1; fill:none\" points=\"\n",
       "  186.274,1486.45 2352.76,1486.45 \n",
       "  \"/>\n",
       "<polyline clip-path=\"url(#clip810)\" style=\"stroke:#000000; stroke-linecap:butt; stroke-linejoin:round; stroke-width:4; stroke-opacity:1; fill:none\" points=\"\n",
       "  247.59,1486.45 247.59,1469.18 \n",
       "  \"/>\n",
       "<polyline clip-path=\"url(#clip810)\" style=\"stroke:#000000; stroke-linecap:butt; stroke-linejoin:round; stroke-width:4; stroke-opacity:1; fill:none\" points=\"\n",
       "  758.552,1486.45 758.552,1469.18 \n",
       "  \"/>\n",
       "<polyline clip-path=\"url(#clip810)\" style=\"stroke:#000000; stroke-linecap:butt; stroke-linejoin:round; stroke-width:4; stroke-opacity:1; fill:none\" points=\"\n",
       "  1269.51,1486.45 1269.51,1469.18 \n",
       "  \"/>\n",
       "<polyline clip-path=\"url(#clip810)\" style=\"stroke:#000000; stroke-linecap:butt; stroke-linejoin:round; stroke-width:4; stroke-opacity:1; fill:none\" points=\"\n",
       "  1780.48,1486.45 1780.48,1469.18 \n",
       "  \"/>\n",
       "<polyline clip-path=\"url(#clip810)\" style=\"stroke:#000000; stroke-linecap:butt; stroke-linejoin:round; stroke-width:4; stroke-opacity:1; fill:none\" points=\"\n",
       "  2291.44,1486.45 2291.44,1469.18 \n",
       "  \"/>\n",
       "<path clip-path=\"url(#clip810)\" d=\"M199.662 1543.18 L207.3 1543.18 L207.3 1516.82 L198.99 1518.49 L198.99 1514.23 L207.254 1512.56 L211.93 1512.56 L211.93 1543.18 L219.569 1543.18 L219.569 1547.12 L199.662 1547.12 L199.662 1543.18 Z\" fill=\"#000000\" fill-rule=\"evenodd\" fill-opacity=\"1\" /><path clip-path=\"url(#clip810)\" d=\"M229.013 1541.24 L233.897 1541.24 L233.897 1547.12 L229.013 1547.12 L229.013 1541.24 Z\" fill=\"#000000\" fill-rule=\"evenodd\" fill-opacity=\"1\" /><path clip-path=\"url(#clip810)\" d=\"M254.083 1515.64 Q250.471 1515.64 248.643 1519.2 Q246.837 1522.75 246.837 1529.87 Q246.837 1536.98 248.643 1540.55 Q250.471 1544.09 254.083 1544.09 Q257.717 1544.09 259.522 1540.55 Q261.351 1536.98 261.351 1529.87 Q261.351 1522.75 259.522 1519.2 Q257.717 1515.64 254.083 1515.64 M254.083 1511.93 Q259.893 1511.93 262.948 1516.54 Q266.027 1521.12 266.027 1529.87 Q266.027 1538.6 262.948 1543.21 Q259.893 1547.79 254.083 1547.79 Q248.272 1547.79 245.194 1543.21 Q242.138 1538.6 242.138 1529.87 Q242.138 1521.12 245.194 1516.54 Q248.272 1511.93 254.083 1511.93 Z\" fill=\"#000000\" fill-rule=\"evenodd\" fill-opacity=\"1\" /><path clip-path=\"url(#clip810)\" d=\"M284.244 1515.64 Q280.633 1515.64 278.805 1519.2 Q276.999 1522.75 276.999 1529.87 Q276.999 1536.98 278.805 1540.55 Q280.633 1544.09 284.244 1544.09 Q287.879 1544.09 289.684 1540.55 Q291.513 1536.98 291.513 1529.87 Q291.513 1522.75 289.684 1519.2 Q287.879 1515.64 284.244 1515.64 M284.244 1511.93 Q290.055 1511.93 293.11 1516.54 Q296.189 1521.12 296.189 1529.87 Q296.189 1538.6 293.11 1543.21 Q290.055 1547.79 284.244 1547.79 Q278.434 1547.79 275.356 1543.21 Q272.3 1538.6 272.3 1529.87 Q272.3 1521.12 275.356 1516.54 Q278.434 1511.93 284.244 1511.93 Z\" fill=\"#000000\" fill-rule=\"evenodd\" fill-opacity=\"1\" /><path clip-path=\"url(#clip810)\" d=\"M711.122 1543.18 L718.761 1543.18 L718.761 1516.82 L710.451 1518.49 L710.451 1514.23 L718.714 1512.56 L723.39 1512.56 L723.39 1543.18 L731.029 1543.18 L731.029 1547.12 L711.122 1547.12 L711.122 1543.18 Z\" fill=\"#000000\" fill-rule=\"evenodd\" fill-opacity=\"1\" /><path clip-path=\"url(#clip810)\" d=\"M740.474 1541.24 L745.358 1541.24 L745.358 1547.12 L740.474 1547.12 L740.474 1541.24 Z\" fill=\"#000000\" fill-rule=\"evenodd\" fill-opacity=\"1\" /><path clip-path=\"url(#clip810)\" d=\"M759.571 1543.18 L775.89 1543.18 L775.89 1547.12 L753.946 1547.12 L753.946 1543.18 Q756.608 1540.43 761.191 1535.8 Q765.798 1531.15 766.978 1529.81 Q769.223 1527.28 770.103 1525.55 Q771.006 1523.79 771.006 1522.1 Q771.006 1519.34 769.061 1517.61 Q767.14 1515.87 764.038 1515.87 Q761.839 1515.87 759.386 1516.63 Q756.955 1517.4 754.177 1518.95 L754.177 1514.23 Q757.001 1513.09 759.455 1512.51 Q761.909 1511.93 763.946 1511.93 Q769.316 1511.93 772.51 1514.62 Q775.705 1517.31 775.705 1521.8 Q775.705 1523.93 774.895 1525.85 Q774.108 1527.74 772.001 1530.34 Q771.423 1531.01 768.321 1534.23 Q765.219 1537.42 759.571 1543.18 Z\" fill=\"#000000\" fill-rule=\"evenodd\" fill-opacity=\"1\" /><path clip-path=\"url(#clip810)\" d=\"M785.751 1512.56 L804.108 1512.56 L804.108 1516.5 L790.034 1516.5 L790.034 1524.97 Q791.052 1524.62 792.071 1524.46 Q793.089 1524.27 794.108 1524.27 Q799.895 1524.27 803.274 1527.44 Q806.654 1530.62 806.654 1536.03 Q806.654 1541.61 803.182 1544.71 Q799.709 1547.79 793.39 1547.79 Q791.214 1547.79 788.946 1547.42 Q786.7 1547.05 784.293 1546.31 L784.293 1541.61 Q786.376 1542.74 788.598 1543.3 Q790.821 1543.86 793.297 1543.86 Q797.302 1543.86 799.64 1541.75 Q801.978 1539.64 801.978 1536.03 Q801.978 1532.42 799.64 1530.31 Q797.302 1528.21 793.297 1528.21 Q791.422 1528.21 789.547 1528.62 Q787.696 1529.04 785.751 1529.92 L785.751 1512.56 Z\" fill=\"#000000\" fill-rule=\"evenodd\" fill-opacity=\"1\" /><path clip-path=\"url(#clip810)\" d=\"M1221.59 1543.18 L1229.23 1543.18 L1229.23 1516.82 L1220.92 1518.49 L1220.92 1514.23 L1229.18 1512.56 L1233.86 1512.56 L1233.86 1543.18 L1241.49 1543.18 L1241.49 1547.12 L1221.59 1547.12 L1221.59 1543.18 Z\" fill=\"#000000\" fill-rule=\"evenodd\" fill-opacity=\"1\" /><path clip-path=\"url(#clip810)\" d=\"M1250.94 1541.24 L1255.82 1541.24 L1255.82 1547.12 L1250.94 1547.12 L1250.94 1541.24 Z\" fill=\"#000000\" fill-rule=\"evenodd\" fill-opacity=\"1\" /><path clip-path=\"url(#clip810)\" d=\"M1266.05 1512.56 L1284.41 1512.56 L1284.41 1516.5 L1270.34 1516.5 L1270.34 1524.97 Q1271.36 1524.62 1272.37 1524.46 Q1273.39 1524.27 1274.41 1524.27 Q1280.2 1524.27 1283.58 1527.44 Q1286.96 1530.62 1286.96 1536.03 Q1286.96 1541.61 1283.48 1544.71 Q1280.01 1547.79 1273.69 1547.79 Q1271.52 1547.79 1269.25 1547.42 Q1267 1547.05 1264.6 1546.31 L1264.6 1541.61 Q1266.68 1542.74 1268.9 1543.3 Q1271.12 1543.86 1273.6 1543.86 Q1277.61 1543.86 1279.94 1541.75 Q1282.28 1539.64 1282.28 1536.03 Q1282.28 1532.42 1279.94 1530.31 Q1277.61 1528.21 1273.6 1528.21 Q1271.73 1528.21 1269.85 1528.62 Q1268 1529.04 1266.05 1529.92 L1266.05 1512.56 Z\" fill=\"#000000\" fill-rule=\"evenodd\" fill-opacity=\"1\" /><path clip-path=\"url(#clip810)\" d=\"M1306.17 1515.64 Q1302.56 1515.64 1300.73 1519.2 Q1298.92 1522.75 1298.92 1529.87 Q1298.92 1536.98 1300.73 1540.55 Q1302.56 1544.09 1306.17 1544.09 Q1309.8 1544.09 1311.61 1540.55 Q1313.44 1536.98 1313.44 1529.87 Q1313.44 1522.75 1311.61 1519.2 Q1309.8 1515.64 1306.17 1515.64 M1306.17 1511.93 Q1311.98 1511.93 1315.04 1516.54 Q1318.11 1521.12 1318.11 1529.87 Q1318.11 1538.6 1315.04 1543.21 Q1311.98 1547.79 1306.17 1547.79 Q1300.36 1547.79 1297.28 1543.21 Q1294.23 1538.6 1294.23 1529.87 Q1294.23 1521.12 1297.28 1516.54 Q1300.36 1511.93 1306.17 1511.93 Z\" fill=\"#000000\" fill-rule=\"evenodd\" fill-opacity=\"1\" /><path clip-path=\"url(#clip810)\" d=\"M1733.05 1543.18 L1740.69 1543.18 L1740.69 1516.82 L1732.38 1518.49 L1732.38 1514.23 L1740.64 1512.56 L1745.32 1512.56 L1745.32 1543.18 L1752.95 1543.18 L1752.95 1547.12 L1733.05 1547.12 L1733.05 1543.18 Z\" fill=\"#000000\" fill-rule=\"evenodd\" fill-opacity=\"1\" /><path clip-path=\"url(#clip810)\" d=\"M1762.4 1541.24 L1767.28 1541.24 L1767.28 1547.12 L1762.4 1547.12 L1762.4 1541.24 Z\" fill=\"#000000\" fill-rule=\"evenodd\" fill-opacity=\"1\" /><path clip-path=\"url(#clip810)\" d=\"M1776.29 1512.56 L1798.51 1512.56 L1798.51 1514.55 L1785.96 1547.12 L1781.08 1547.12 L1792.89 1516.5 L1776.29 1516.5 L1776.29 1512.56 Z\" fill=\"#000000\" fill-rule=\"evenodd\" fill-opacity=\"1\" /><path clip-path=\"url(#clip810)\" d=\"M1807.68 1512.56 L1826.03 1512.56 L1826.03 1516.5 L1811.96 1516.5 L1811.96 1524.97 Q1812.98 1524.62 1814 1524.46 Q1815.01 1524.27 1816.03 1524.27 Q1821.82 1524.27 1825.2 1527.44 Q1828.58 1530.62 1828.58 1536.03 Q1828.58 1541.61 1825.11 1544.71 Q1821.63 1547.79 1815.32 1547.79 Q1813.14 1547.79 1810.87 1547.42 Q1808.63 1547.05 1806.22 1546.31 L1806.22 1541.61 Q1808.3 1542.74 1810.52 1543.3 Q1812.75 1543.86 1815.22 1543.86 Q1819.23 1543.86 1821.57 1541.75 Q1823.9 1539.64 1823.9 1536.03 Q1823.9 1532.42 1821.57 1530.31 Q1819.23 1528.21 1815.22 1528.21 Q1813.35 1528.21 1811.47 1528.62 Q1809.62 1529.04 1807.68 1529.92 L1807.68 1512.56 Z\" fill=\"#000000\" fill-rule=\"evenodd\" fill-opacity=\"1\" /><path clip-path=\"url(#clip810)\" d=\"M2247.6 1543.18 L2263.92 1543.18 L2263.92 1547.12 L2241.97 1547.12 L2241.97 1543.18 Q2244.64 1540.43 2249.22 1535.8 Q2253.82 1531.15 2255.01 1529.81 Q2257.25 1527.28 2258.13 1525.55 Q2259.03 1523.79 2259.03 1522.1 Q2259.03 1519.34 2257.09 1517.61 Q2255.17 1515.87 2252.07 1515.87 Q2249.87 1515.87 2247.41 1516.63 Q2244.98 1517.4 2242.2 1518.95 L2242.2 1514.23 Q2245.03 1513.09 2247.48 1512.51 Q2249.94 1511.93 2251.97 1511.93 Q2257.34 1511.93 2260.54 1514.62 Q2263.73 1517.31 2263.73 1521.8 Q2263.73 1523.93 2262.92 1525.85 Q2262.13 1527.74 2260.03 1530.34 Q2259.45 1531.01 2256.35 1534.23 Q2253.25 1537.42 2247.6 1543.18 Z\" fill=\"#000000\" fill-rule=\"evenodd\" fill-opacity=\"1\" /><path clip-path=\"url(#clip810)\" d=\"M2273.73 1541.24 L2278.62 1541.24 L2278.62 1547.12 L2273.73 1547.12 L2273.73 1541.24 Z\" fill=\"#000000\" fill-rule=\"evenodd\" fill-opacity=\"1\" /><path clip-path=\"url(#clip810)\" d=\"M2298.8 1515.64 Q2295.19 1515.64 2293.36 1519.2 Q2291.56 1522.75 2291.56 1529.87 Q2291.56 1536.98 2293.36 1540.55 Q2295.19 1544.09 2298.8 1544.09 Q2302.44 1544.09 2304.24 1540.55 Q2306.07 1536.98 2306.07 1529.87 Q2306.07 1522.75 2304.24 1519.2 Q2302.44 1515.64 2298.8 1515.64 M2298.8 1511.93 Q2304.61 1511.93 2307.67 1516.54 Q2310.75 1521.12 2310.75 1529.87 Q2310.75 1538.6 2307.67 1543.21 Q2304.61 1547.79 2298.8 1547.79 Q2292.99 1547.79 2289.91 1543.21 Q2286.86 1538.6 2286.86 1529.87 Q2286.86 1521.12 2289.91 1516.54 Q2292.99 1511.93 2298.8 1511.93 Z\" fill=\"#000000\" fill-rule=\"evenodd\" fill-opacity=\"1\" /><path clip-path=\"url(#clip810)\" d=\"M2328.96 1515.64 Q2325.35 1515.64 2323.52 1519.2 Q2321.72 1522.75 2321.72 1529.87 Q2321.72 1536.98 2323.52 1540.55 Q2325.35 1544.09 2328.96 1544.09 Q2332.6 1544.09 2334.4 1540.55 Q2336.23 1536.98 2336.23 1529.87 Q2336.23 1522.75 2334.4 1519.2 Q2332.6 1515.64 2328.96 1515.64 M2328.96 1511.93 Q2334.77 1511.93 2337.83 1516.54 Q2340.91 1521.12 2340.91 1529.87 Q2340.91 1538.6 2337.83 1543.21 Q2334.77 1547.79 2328.96 1547.79 Q2323.15 1547.79 2320.07 1543.21 Q2317.02 1538.6 2317.02 1529.87 Q2317.02 1521.12 2320.07 1516.54 Q2323.15 1511.93 2328.96 1511.93 Z\" fill=\"#000000\" fill-rule=\"evenodd\" fill-opacity=\"1\" /><polyline clip-path=\"url(#clip812)\" style=\"stroke:#000000; stroke-linecap:butt; stroke-linejoin:round; stroke-width:2; stroke-opacity:0.1; fill:none\" points=\"\n",
       "  186.274,1445.72 2352.76,1445.72 \n",
       "  \"/>\n",
       "<polyline clip-path=\"url(#clip812)\" style=\"stroke:#000000; stroke-linecap:butt; stroke-linejoin:round; stroke-width:2; stroke-opacity:0.1; fill:none\" points=\"\n",
       "  186.274,1106.28 2352.76,1106.28 \n",
       "  \"/>\n",
       "<polyline clip-path=\"url(#clip812)\" style=\"stroke:#000000; stroke-linecap:butt; stroke-linejoin:round; stroke-width:2; stroke-opacity:0.1; fill:none\" points=\"\n",
       "  186.274,766.846 2352.76,766.846 \n",
       "  \"/>\n",
       "<polyline clip-path=\"url(#clip812)\" style=\"stroke:#000000; stroke-linecap:butt; stroke-linejoin:round; stroke-width:2; stroke-opacity:0.1; fill:none\" points=\"\n",
       "  186.274,427.411 2352.76,427.411 \n",
       "  \"/>\n",
       "<polyline clip-path=\"url(#clip812)\" style=\"stroke:#000000; stroke-linecap:butt; stroke-linejoin:round; stroke-width:2; stroke-opacity:0.1; fill:none\" points=\"\n",
       "  186.274,87.9763 2352.76,87.9763 \n",
       "  \"/>\n",
       "<polyline clip-path=\"url(#clip810)\" style=\"stroke:#000000; stroke-linecap:butt; stroke-linejoin:round; stroke-width:4; stroke-opacity:1; fill:none\" points=\"\n",
       "  186.274,1486.45 186.274,47.2441 \n",
       "  \"/>\n",
       "<polyline clip-path=\"url(#clip810)\" style=\"stroke:#000000; stroke-linecap:butt; stroke-linejoin:round; stroke-width:4; stroke-opacity:1; fill:none\" points=\"\n",
       "  186.274,1445.72 212.272,1445.72 \n",
       "  \"/>\n",
       "<polyline clip-path=\"url(#clip810)\" style=\"stroke:#000000; stroke-linecap:butt; stroke-linejoin:round; stroke-width:4; stroke-opacity:1; fill:none\" points=\"\n",
       "  186.274,1106.28 212.272,1106.28 \n",
       "  \"/>\n",
       "<polyline clip-path=\"url(#clip810)\" style=\"stroke:#000000; stroke-linecap:butt; stroke-linejoin:round; stroke-width:4; stroke-opacity:1; fill:none\" points=\"\n",
       "  186.274,766.846 212.272,766.846 \n",
       "  \"/>\n",
       "<polyline clip-path=\"url(#clip810)\" style=\"stroke:#000000; stroke-linecap:butt; stroke-linejoin:round; stroke-width:4; stroke-opacity:1; fill:none\" points=\"\n",
       "  186.274,427.411 212.272,427.411 \n",
       "  \"/>\n",
       "<polyline clip-path=\"url(#clip810)\" style=\"stroke:#000000; stroke-linecap:butt; stroke-linejoin:round; stroke-width:4; stroke-opacity:1; fill:none\" points=\"\n",
       "  186.274,87.9763 212.272,87.9763 \n",
       "  \"/>\n",
       "<path clip-path=\"url(#clip810)\" d=\"M62.9365 1431.51 Q59.3254 1431.51 57.4967 1435.08 Q55.6912 1438.62 55.6912 1445.75 Q55.6912 1452.86 57.4967 1456.42 Q59.3254 1459.96 62.9365 1459.96 Q66.5707 1459.96 68.3763 1456.42 Q70.205 1452.86 70.205 1445.75 Q70.205 1438.62 68.3763 1435.08 Q66.5707 1431.51 62.9365 1431.51 M62.9365 1427.81 Q68.7467 1427.81 71.8022 1432.42 Q74.8809 1437 74.8809 1445.75 Q74.8809 1454.48 71.8022 1459.08 Q68.7467 1463.67 62.9365 1463.67 Q57.1264 1463.67 54.0477 1459.08 Q50.9921 1454.48 50.9921 1445.75 Q50.9921 1437 54.0477 1432.42 Q57.1264 1427.81 62.9365 1427.81 Z\" fill=\"#000000\" fill-rule=\"evenodd\" fill-opacity=\"1\" /><path clip-path=\"url(#clip810)\" d=\"M83.0984 1457.12 L87.9827 1457.12 L87.9827 1463 L83.0984 1463 L83.0984 1457.12 Z\" fill=\"#000000\" fill-rule=\"evenodd\" fill-opacity=\"1\" /><path clip-path=\"url(#clip810)\" d=\"M108.168 1431.51 Q104.557 1431.51 102.728 1435.08 Q100.922 1438.62 100.922 1445.75 Q100.922 1452.86 102.728 1456.42 Q104.557 1459.96 108.168 1459.96 Q111.802 1459.96 113.608 1456.42 Q115.436 1452.86 115.436 1445.75 Q115.436 1438.62 113.608 1435.08 Q111.802 1431.51 108.168 1431.51 M108.168 1427.81 Q113.978 1427.81 117.033 1432.42 Q120.112 1437 120.112 1445.75 Q120.112 1454.48 117.033 1459.08 Q113.978 1463.67 108.168 1463.67 Q102.358 1463.67 99.2789 1459.08 Q96.2234 1454.48 96.2234 1445.75 Q96.2234 1437 99.2789 1432.42 Q102.358 1427.81 108.168 1427.81 Z\" fill=\"#000000\" fill-rule=\"evenodd\" fill-opacity=\"1\" /><path clip-path=\"url(#clip810)\" d=\"M138.33 1431.51 Q134.719 1431.51 132.89 1435.08 Q131.084 1438.62 131.084 1445.75 Q131.084 1452.86 132.89 1456.42 Q134.719 1459.96 138.33 1459.96 Q141.964 1459.96 143.769 1456.42 Q145.598 1452.86 145.598 1445.75 Q145.598 1438.62 143.769 1435.08 Q141.964 1431.51 138.33 1431.51 M138.33 1427.81 Q144.14 1427.81 147.195 1432.42 Q150.274 1437 150.274 1445.75 Q150.274 1454.48 147.195 1459.08 Q144.14 1463.67 138.33 1463.67 Q132.519 1463.67 129.441 1459.08 Q126.385 1454.48 126.385 1445.75 Q126.385 1437 129.441 1432.42 Q132.519 1427.81 138.33 1427.81 Z\" fill=\"#000000\" fill-rule=\"evenodd\" fill-opacity=\"1\" /><path clip-path=\"url(#clip810)\" d=\"M63.9319 1092.08 Q60.3208 1092.08 58.4921 1095.64 Q56.6865 1099.19 56.6865 1106.32 Q56.6865 1113.42 58.4921 1116.99 Q60.3208 1120.53 63.9319 1120.53 Q67.5661 1120.53 69.3717 1116.99 Q71.2004 1113.42 71.2004 1106.32 Q71.2004 1099.19 69.3717 1095.64 Q67.5661 1092.08 63.9319 1092.08 M63.9319 1088.38 Q69.742 1088.38 72.7976 1092.98 Q75.8763 1097.57 75.8763 1106.32 Q75.8763 1115.04 72.7976 1119.65 Q69.742 1124.23 63.9319 1124.23 Q58.1217 1124.23 55.043 1119.65 Q51.9875 1115.04 51.9875 1106.32 Q51.9875 1097.57 55.043 1092.98 Q58.1217 1088.38 63.9319 1088.38 Z\" fill=\"#000000\" fill-rule=\"evenodd\" fill-opacity=\"1\" /><path clip-path=\"url(#clip810)\" d=\"M84.0938 1117.68 L88.978 1117.68 L88.978 1123.56 L84.0938 1123.56 L84.0938 1117.68 Z\" fill=\"#000000\" fill-rule=\"evenodd\" fill-opacity=\"1\" /><path clip-path=\"url(#clip810)\" d=\"M103.191 1119.63 L119.51 1119.63 L119.51 1123.56 L97.566 1123.56 L97.566 1119.63 Q100.228 1116.87 104.811 1112.24 Q109.418 1107.59 110.598 1106.25 Q112.844 1103.72 113.723 1101.99 Q114.626 1100.23 114.626 1098.54 Q114.626 1095.78 112.682 1094.05 Q110.76 1092.31 107.658 1092.31 Q105.459 1092.31 103.006 1093.07 Q100.575 1093.84 97.7974 1095.39 L97.7974 1090.67 Q100.621 1089.53 103.075 1088.95 Q105.529 1088.38 107.566 1088.38 Q112.936 1088.38 116.131 1091.06 Q119.325 1093.75 119.325 1098.24 Q119.325 1100.37 118.515 1102.29 Q117.728 1104.19 115.621 1106.78 Q115.043 1107.45 111.941 1110.67 Q108.839 1113.86 103.191 1119.63 Z\" fill=\"#000000\" fill-rule=\"evenodd\" fill-opacity=\"1\" /><path clip-path=\"url(#clip810)\" d=\"M129.371 1089 L147.728 1089 L147.728 1092.94 L133.654 1092.94 L133.654 1101.41 Q134.672 1101.06 135.691 1100.9 Q136.709 1100.71 137.728 1100.71 Q143.515 1100.71 146.894 1103.89 Q150.274 1107.06 150.274 1112.47 Q150.274 1118.05 146.802 1121.15 Q143.33 1124.23 137.01 1124.23 Q134.834 1124.23 132.566 1123.86 Q130.32 1123.49 127.913 1122.75 L127.913 1118.05 Q129.996 1119.19 132.219 1119.74 Q134.441 1120.3 136.918 1120.3 Q140.922 1120.3 143.26 1118.19 Q145.598 1116.08 145.598 1112.47 Q145.598 1108.86 143.26 1106.76 Q140.922 1104.65 136.918 1104.65 Q135.043 1104.65 133.168 1105.07 Q131.316 1105.48 129.371 1106.36 L129.371 1089 Z\" fill=\"#000000\" fill-rule=\"evenodd\" fill-opacity=\"1\" /><path clip-path=\"url(#clip810)\" d=\"M62.9365 752.645 Q59.3254 752.645 57.4967 756.209 Q55.6912 759.751 55.6912 766.881 Q55.6912 773.987 57.4967 777.552 Q59.3254 781.094 62.9365 781.094 Q66.5707 781.094 68.3763 777.552 Q70.205 773.987 70.205 766.881 Q70.205 759.751 68.3763 756.209 Q66.5707 752.645 62.9365 752.645 M62.9365 748.941 Q68.7467 748.941 71.8022 753.547 Q74.8809 758.131 74.8809 766.881 Q74.8809 775.608 71.8022 780.214 Q68.7467 784.797 62.9365 784.797 Q57.1264 784.797 54.0477 780.214 Q50.9921 775.608 50.9921 766.881 Q50.9921 758.131 54.0477 753.547 Q57.1264 748.941 62.9365 748.941 Z\" fill=\"#000000\" fill-rule=\"evenodd\" fill-opacity=\"1\" /><path clip-path=\"url(#clip810)\" d=\"M83.0984 778.246 L87.9827 778.246 L87.9827 784.126 L83.0984 784.126 L83.0984 778.246 Z\" fill=\"#000000\" fill-rule=\"evenodd\" fill-opacity=\"1\" /><path clip-path=\"url(#clip810)\" d=\"M98.2141 749.566 L116.57 749.566 L116.57 753.501 L102.496 753.501 L102.496 761.973 Q103.515 761.626 104.534 761.464 Q105.552 761.279 106.571 761.279 Q112.358 761.279 115.737 764.45 Q119.117 767.621 119.117 773.038 Q119.117 778.617 115.645 781.719 Q112.172 784.797 105.853 784.797 Q103.677 784.797 101.409 784.427 Q99.1632 784.057 96.7558 783.316 L96.7558 778.617 Q98.8391 779.751 101.061 780.307 Q103.284 780.862 105.76 780.862 Q109.765 780.862 112.103 778.756 Q114.441 776.649 114.441 773.038 Q114.441 769.427 112.103 767.321 Q109.765 765.214 105.76 765.214 Q103.885 765.214 102.01 765.631 Q100.159 766.047 98.2141 766.927 L98.2141 749.566 Z\" fill=\"#000000\" fill-rule=\"evenodd\" fill-opacity=\"1\" /><path clip-path=\"url(#clip810)\" d=\"M138.33 752.645 Q134.719 752.645 132.89 756.209 Q131.084 759.751 131.084 766.881 Q131.084 773.987 132.89 777.552 Q134.719 781.094 138.33 781.094 Q141.964 781.094 143.769 777.552 Q145.598 773.987 145.598 766.881 Q145.598 759.751 143.769 756.209 Q141.964 752.645 138.33 752.645 M138.33 748.941 Q144.14 748.941 147.195 753.547 Q150.274 758.131 150.274 766.881 Q150.274 775.608 147.195 780.214 Q144.14 784.797 138.33 784.797 Q132.519 784.797 129.441 780.214 Q126.385 775.608 126.385 766.881 Q126.385 758.131 129.441 753.547 Q132.519 748.941 138.33 748.941 Z\" fill=\"#000000\" fill-rule=\"evenodd\" fill-opacity=\"1\" /><path clip-path=\"url(#clip810)\" d=\"M63.9319 413.21 Q60.3208 413.21 58.4921 416.775 Q56.6865 420.316 56.6865 427.446 Q56.6865 434.552 58.4921 438.117 Q60.3208 441.659 63.9319 441.659 Q67.5661 441.659 69.3717 438.117 Q71.2004 434.552 71.2004 427.446 Q71.2004 420.316 69.3717 416.775 Q67.5661 413.21 63.9319 413.21 M63.9319 409.506 Q69.742 409.506 72.7976 414.113 Q75.8763 418.696 75.8763 427.446 Q75.8763 436.173 72.7976 440.779 Q69.742 445.362 63.9319 445.362 Q58.1217 445.362 55.043 440.779 Q51.9875 436.173 51.9875 427.446 Q51.9875 418.696 55.043 414.113 Q58.1217 409.506 63.9319 409.506 Z\" fill=\"#000000\" fill-rule=\"evenodd\" fill-opacity=\"1\" /><path clip-path=\"url(#clip810)\" d=\"M84.0938 438.812 L88.978 438.812 L88.978 444.691 L84.0938 444.691 L84.0938 438.812 Z\" fill=\"#000000\" fill-rule=\"evenodd\" fill-opacity=\"1\" /><path clip-path=\"url(#clip810)\" d=\"M97.9826 410.131 L120.205 410.131 L120.205 412.122 L107.658 444.691 L102.774 444.691 L114.58 414.066 L97.9826 414.066 L97.9826 410.131 Z\" fill=\"#000000\" fill-rule=\"evenodd\" fill-opacity=\"1\" /><path clip-path=\"url(#clip810)\" d=\"M129.371 410.131 L147.728 410.131 L147.728 414.066 L133.654 414.066 L133.654 422.538 Q134.672 422.191 135.691 422.029 Q136.709 421.844 137.728 421.844 Q143.515 421.844 146.894 425.015 Q150.274 428.187 150.274 433.603 Q150.274 439.182 146.802 442.284 Q143.33 445.362 137.01 445.362 Q134.834 445.362 132.566 444.992 Q130.32 444.622 127.913 443.881 L127.913 439.182 Q129.996 440.316 132.219 440.872 Q134.441 441.427 136.918 441.427 Q140.922 441.427 143.26 439.321 Q145.598 437.214 145.598 433.603 Q145.598 429.992 143.26 427.886 Q140.922 425.779 136.918 425.779 Q135.043 425.779 133.168 426.196 Q131.316 426.613 129.371 427.492 L129.371 410.131 Z\" fill=\"#000000\" fill-rule=\"evenodd\" fill-opacity=\"1\" /><path clip-path=\"url(#clip810)\" d=\"M53.7467 101.321 L61.3856 101.321 L61.3856 74.9555 L53.0754 76.6222 L53.0754 72.3629 L61.3393 70.6963 L66.0152 70.6963 L66.0152 101.321 L73.654 101.321 L73.654 105.256 L53.7467 105.256 L53.7467 101.321 Z\" fill=\"#000000\" fill-rule=\"evenodd\" fill-opacity=\"1\" /><path clip-path=\"url(#clip810)\" d=\"M83.0984 99.3767 L87.9827 99.3767 L87.9827 105.256 L83.0984 105.256 L83.0984 99.3767 Z\" fill=\"#000000\" fill-rule=\"evenodd\" fill-opacity=\"1\" /><path clip-path=\"url(#clip810)\" d=\"M108.168 73.775 Q104.557 73.775 102.728 77.3398 Q100.922 80.8814 100.922 88.011 Q100.922 95.1174 102.728 98.6822 Q104.557 102.224 108.168 102.224 Q111.802 102.224 113.608 98.6822 Q115.436 95.1174 115.436 88.011 Q115.436 80.8814 113.608 77.3398 Q111.802 73.775 108.168 73.775 M108.168 70.0713 Q113.978 70.0713 117.033 74.6777 Q120.112 79.261 120.112 88.011 Q120.112 96.7378 117.033 101.344 Q113.978 105.928 108.168 105.928 Q102.358 105.928 99.2789 101.344 Q96.2234 96.7378 96.2234 88.011 Q96.2234 79.261 99.2789 74.6777 Q102.358 70.0713 108.168 70.0713 Z\" fill=\"#000000\" fill-rule=\"evenodd\" fill-opacity=\"1\" /><path clip-path=\"url(#clip810)\" d=\"M138.33 73.775 Q134.719 73.775 132.89 77.3398 Q131.084 80.8814 131.084 88.011 Q131.084 95.1174 132.89 98.6822 Q134.719 102.224 138.33 102.224 Q141.964 102.224 143.769 98.6822 Q145.598 95.1174 145.598 88.011 Q145.598 80.8814 143.769 77.3398 Q141.964 73.775 138.33 73.775 M138.33 70.0713 Q144.14 70.0713 147.195 74.6777 Q150.274 79.261 150.274 88.011 Q150.274 96.7378 147.195 101.344 Q144.14 105.928 138.33 105.928 Q132.519 105.928 129.441 101.344 Q126.385 96.7378 126.385 88.011 Q126.385 79.261 129.441 74.6777 Q132.519 70.0713 138.33 70.0713 Z\" fill=\"#000000\" fill-rule=\"evenodd\" fill-opacity=\"1\" /><polyline clip-path=\"url(#clip812)\" style=\"stroke:#009af9; stroke-linecap:butt; stroke-linejoin:round; stroke-width:4; stroke-opacity:1; fill:none\" points=\"\n",
       "  247.59,1445.72 2291.44,1445.72 \n",
       "  \"/>\n",
       "<polyline clip-path=\"url(#clip812)\" style=\"stroke:#e26f46; stroke-linecap:butt; stroke-linejoin:round; stroke-width:4; stroke-opacity:1; fill:none\" points=\"\n",
       "  247.59,1445.72 2291.44,1445.72 \n",
       "  \"/>\n",
       "<polyline clip-path=\"url(#clip812)\" style=\"stroke:#3da44d; stroke-linecap:butt; stroke-linejoin:round; stroke-width:4; stroke-opacity:1; fill:none\" points=\"\n",
       "  247.59,1445.72 2291.44,1445.72 \n",
       "  \"/>\n",
       "<polyline clip-path=\"url(#clip812)\" style=\"stroke:#c271d2; stroke-linecap:butt; stroke-linejoin:round; stroke-width:4; stroke-opacity:1; fill:none\" points=\"\n",
       "  247.59,1445.72 2291.44,1445.72 \n",
       "  \"/>\n",
       "<path clip-path=\"url(#clip810)\" d=\"\n",
       "M1985.68 397.618 L2280.54 397.618 L2280.54 95.2176 L1985.68 95.2176  Z\n",
       "  \" fill=\"#ffffff\" fill-rule=\"evenodd\" fill-opacity=\"1\"/>\n",
       "<polyline clip-path=\"url(#clip810)\" style=\"stroke:#000000; stroke-linecap:butt; stroke-linejoin:round; stroke-width:4; stroke-opacity:1; fill:none\" points=\"\n",
       "  1985.68,397.618 2280.54,397.618 2280.54,95.2176 1985.68,95.2176 1985.68,397.618 \n",
       "  \"/>\n",
       "<polyline clip-path=\"url(#clip810)\" style=\"stroke:#009af9; stroke-linecap:butt; stroke-linejoin:round; stroke-width:4; stroke-opacity:1; fill:none\" points=\"\n",
       "  2009.75,155.698 2154.18,155.698 \n",
       "  \"/>\n",
       "<path clip-path=\"url(#clip810)\" d=\"M2192.1 175.385 Q2190.29 180.015 2188.58 181.427 Q2186.86 182.839 2183.99 182.839 L2180.59 182.839 L2180.59 179.274 L2183.09 179.274 Q2184.85 179.274 2185.82 178.44 Q2186.79 177.607 2187.97 174.505 L2188.74 172.561 L2178.25 147.052 L2182.77 147.052 L2190.87 167.329 L2198.97 147.052 L2203.48 147.052 L2192.1 175.385 Z\" fill=\"#000000\" fill-rule=\"evenodd\" fill-opacity=\"1\" /><path clip-path=\"url(#clip810)\" d=\"M2210.78 169.042 L2218.41 169.042 L2218.41 142.677 L2210.1 144.343 L2210.1 140.084 L2218.37 138.418 L2223.04 138.418 L2223.04 169.042 L2230.68 169.042 L2230.68 172.978 L2210.78 172.978 L2210.78 169.042 Z\" fill=\"#000000\" fill-rule=\"evenodd\" fill-opacity=\"1\" /><polyline clip-path=\"url(#clip810)\" style=\"stroke:#e26f46; stroke-linecap:butt; stroke-linejoin:round; stroke-width:4; stroke-opacity:1; fill:none\" points=\"\n",
       "  2009.75,216.178 2154.18,216.178 \n",
       "  \"/>\n",
       "<path clip-path=\"url(#clip810)\" d=\"M2192.1 235.865 Q2190.29 240.495 2188.58 241.907 Q2186.86 243.319 2183.99 243.319 L2180.59 243.319 L2180.59 239.754 L2183.09 239.754 Q2184.85 239.754 2185.82 238.92 Q2186.79 238.087 2187.97 234.985 L2188.74 233.041 L2178.25 207.532 L2182.77 207.532 L2190.87 227.809 L2198.97 207.532 L2203.48 207.532 L2192.1 235.865 Z\" fill=\"#000000\" fill-rule=\"evenodd\" fill-opacity=\"1\" /><path clip-path=\"url(#clip810)\" d=\"M2213.99 229.522 L2230.31 229.522 L2230.31 233.458 L2208.37 233.458 L2208.37 229.522 Q2211.03 226.768 2215.61 222.138 Q2220.22 217.485 2221.4 216.143 Q2223.65 213.62 2224.53 211.884 Q2225.43 210.124 2225.43 208.435 Q2225.43 205.68 2223.48 203.944 Q2221.56 202.208 2218.46 202.208 Q2216.26 202.208 2213.81 202.972 Q2211.38 203.735 2208.6 205.286 L2208.6 200.564 Q2211.42 199.43 2213.88 198.851 Q2216.33 198.273 2218.37 198.273 Q2223.74 198.273 2226.93 200.958 Q2230.13 203.643 2230.13 208.134 Q2230.13 210.263 2229.32 212.185 Q2228.53 214.083 2226.42 216.675 Q2225.84 217.347 2222.74 220.564 Q2219.64 223.759 2213.99 229.522 Z\" fill=\"#000000\" fill-rule=\"evenodd\" fill-opacity=\"1\" /><polyline clip-path=\"url(#clip810)\" style=\"stroke:#3da44d; stroke-linecap:butt; stroke-linejoin:round; stroke-width:4; stroke-opacity:1; fill:none\" points=\"\n",
       "  2009.75,276.658 2154.18,276.658 \n",
       "  \"/>\n",
       "<path clip-path=\"url(#clip810)\" d=\"M2192.1 296.345 Q2190.29 300.975 2188.58 302.387 Q2186.86 303.799 2183.99 303.799 L2180.59 303.799 L2180.59 300.234 L2183.09 300.234 Q2184.85 300.234 2185.82 299.4 Q2186.79 298.567 2187.97 295.465 L2188.74 293.521 L2178.25 268.012 L2182.77 268.012 L2190.87 288.289 L2198.97 268.012 L2203.48 268.012 L2192.1 296.345 Z\" fill=\"#000000\" fill-rule=\"evenodd\" fill-opacity=\"1\" /><path clip-path=\"url(#clip810)\" d=\"M2224.13 275.303 Q2227.49 276.021 2229.36 278.289 Q2231.26 280.558 2231.26 283.891 Q2231.26 289.007 2227.74 291.808 Q2224.22 294.609 2217.74 294.609 Q2215.57 294.609 2213.25 294.169 Q2210.96 293.752 2208.51 292.896 L2208.51 288.382 Q2210.45 289.516 2212.77 290.095 Q2215.08 290.674 2217.6 290.674 Q2222 290.674 2224.29 288.938 Q2226.61 287.201 2226.61 283.891 Q2226.61 280.836 2224.46 279.123 Q2222.33 277.387 2218.51 277.387 L2214.48 277.387 L2214.48 273.544 L2218.69 273.544 Q2222.14 273.544 2223.97 272.178 Q2225.8 270.79 2225.8 268.197 Q2225.8 265.535 2223.9 264.123 Q2222.03 262.688 2218.51 262.688 Q2216.59 262.688 2214.39 263.104 Q2212.19 263.521 2209.55 264.401 L2209.55 260.234 Q2212.21 259.493 2214.53 259.123 Q2216.86 258.753 2218.92 258.753 Q2224.25 258.753 2227.35 261.183 Q2230.45 263.59 2230.45 267.711 Q2230.45 270.581 2228.81 272.572 Q2227.16 274.54 2224.13 275.303 Z\" fill=\"#000000\" fill-rule=\"evenodd\" fill-opacity=\"1\" /><polyline clip-path=\"url(#clip810)\" style=\"stroke:#c271d2; stroke-linecap:butt; stroke-linejoin:round; stroke-width:4; stroke-opacity:1; fill:none\" points=\"\n",
       "  2009.75,337.138 2154.18,337.138 \n",
       "  \"/>\n",
       "<path clip-path=\"url(#clip810)\" d=\"M2192.1 356.825 Q2190.29 361.455 2188.58 362.867 Q2186.86 364.279 2183.99 364.279 L2180.59 364.279 L2180.59 360.714 L2183.09 360.714 Q2184.85 360.714 2185.82 359.88 Q2186.79 359.047 2187.97 355.945 L2188.74 354.001 L2178.25 328.492 L2182.77 328.492 L2190.87 348.769 L2198.97 328.492 L2203.48 328.492 L2192.1 356.825 Z\" fill=\"#000000\" fill-rule=\"evenodd\" fill-opacity=\"1\" /><path clip-path=\"url(#clip810)\" d=\"M2222.81 323.932 L2211.01 342.381 L2222.81 342.381 L2222.81 323.932 M2221.59 319.858 L2227.47 319.858 L2227.47 342.381 L2232.4 342.381 L2232.4 346.269 L2227.47 346.269 L2227.47 354.418 L2222.81 354.418 L2222.81 346.269 L2207.21 346.269 L2207.21 341.756 L2221.59 319.858 Z\" fill=\"#000000\" fill-rule=\"evenodd\" fill-opacity=\"1\" /></svg>\n"
      ]
     },
     "execution_count": 25,
     "metadata": {},
     "output_type": "execute_result"
    }
   ],
   "source": [
    "plot(s_vals')"
   ]
  },
  {
   "cell_type": "code",
   "execution_count": 26,
   "metadata": {},
   "outputs": [
    {
     "data": {
      "image/svg+xml": [
       "<?xml version=\"1.0\" encoding=\"utf-8\"?>\n",
       "<svg xmlns=\"http://www.w3.org/2000/svg\" xmlns:xlink=\"http://www.w3.org/1999/xlink\" width=\"600\" height=\"400\" viewBox=\"0 0 2400 1600\">\n",
       "<defs>\n",
       "  <clipPath id=\"clip850\">\n",
       "    <rect x=\"0\" y=\"0\" width=\"2400\" height=\"1600\"/>\n",
       "  </clipPath>\n",
       "</defs>\n",
       "<path clip-path=\"url(#clip850)\" d=\"\n",
       "M0 1600 L2400 1600 L2400 0 L0 0  Z\n",
       "  \" fill=\"#ffffff\" fill-rule=\"evenodd\" fill-opacity=\"1\"/>\n",
       "<defs>\n",
       "  <clipPath id=\"clip851\">\n",
       "    <rect x=\"480\" y=\"0\" width=\"1681\" height=\"1600\"/>\n",
       "  </clipPath>\n",
       "</defs>\n",
       "<path clip-path=\"url(#clip850)\" d=\"\n",
       "M186.274 1486.45 L2352.76 1486.45 L2352.76 47.2441 L186.274 47.2441  Z\n",
       "  \" fill=\"#ffffff\" fill-rule=\"evenodd\" fill-opacity=\"1\"/>\n",
       "<defs>\n",
       "  <clipPath id=\"clip852\">\n",
       "    <rect x=\"186\" y=\"47\" width=\"2167\" height=\"1440\"/>\n",
       "  </clipPath>\n",
       "</defs>\n",
       "<polyline clip-path=\"url(#clip852)\" style=\"stroke:#000000; stroke-linecap:butt; stroke-linejoin:round; stroke-width:2; stroke-opacity:0.1; fill:none\" points=\"\n",
       "  247.59,1486.45 247.59,47.2441 \n",
       "  \"/>\n",
       "<polyline clip-path=\"url(#clip852)\" style=\"stroke:#000000; stroke-linecap:butt; stroke-linejoin:round; stroke-width:2; stroke-opacity:0.1; fill:none\" points=\"\n",
       "  758.552,1486.45 758.552,47.2441 \n",
       "  \"/>\n",
       "<polyline clip-path=\"url(#clip852)\" style=\"stroke:#000000; stroke-linecap:butt; stroke-linejoin:round; stroke-width:2; stroke-opacity:0.1; fill:none\" points=\"\n",
       "  1269.51,1486.45 1269.51,47.2441 \n",
       "  \"/>\n",
       "<polyline clip-path=\"url(#clip852)\" style=\"stroke:#000000; stroke-linecap:butt; stroke-linejoin:round; stroke-width:2; stroke-opacity:0.1; fill:none\" points=\"\n",
       "  1780.48,1486.45 1780.48,47.2441 \n",
       "  \"/>\n",
       "<polyline clip-path=\"url(#clip852)\" style=\"stroke:#000000; stroke-linecap:butt; stroke-linejoin:round; stroke-width:2; stroke-opacity:0.1; fill:none\" points=\"\n",
       "  2291.44,1486.45 2291.44,47.2441 \n",
       "  \"/>\n",
       "<polyline clip-path=\"url(#clip850)\" style=\"stroke:#000000; stroke-linecap:butt; stroke-linejoin:round; stroke-width:4; stroke-opacity:1; fill:none\" points=\"\n",
       "  186.274,1486.45 2352.76,1486.45 \n",
       "  \"/>\n",
       "<polyline clip-path=\"url(#clip850)\" style=\"stroke:#000000; stroke-linecap:butt; stroke-linejoin:round; stroke-width:4; stroke-opacity:1; fill:none\" points=\"\n",
       "  247.59,1486.45 247.59,1469.18 \n",
       "  \"/>\n",
       "<polyline clip-path=\"url(#clip850)\" style=\"stroke:#000000; stroke-linecap:butt; stroke-linejoin:round; stroke-width:4; stroke-opacity:1; fill:none\" points=\"\n",
       "  758.552,1486.45 758.552,1469.18 \n",
       "  \"/>\n",
       "<polyline clip-path=\"url(#clip850)\" style=\"stroke:#000000; stroke-linecap:butt; stroke-linejoin:round; stroke-width:4; stroke-opacity:1; fill:none\" points=\"\n",
       "  1269.51,1486.45 1269.51,1469.18 \n",
       "  \"/>\n",
       "<polyline clip-path=\"url(#clip850)\" style=\"stroke:#000000; stroke-linecap:butt; stroke-linejoin:round; stroke-width:4; stroke-opacity:1; fill:none\" points=\"\n",
       "  1780.48,1486.45 1780.48,1469.18 \n",
       "  \"/>\n",
       "<polyline clip-path=\"url(#clip850)\" style=\"stroke:#000000; stroke-linecap:butt; stroke-linejoin:round; stroke-width:4; stroke-opacity:1; fill:none\" points=\"\n",
       "  2291.44,1486.45 2291.44,1469.18 \n",
       "  \"/>\n",
       "<path clip-path=\"url(#clip850)\" d=\"M199.662 1543.18 L207.3 1543.18 L207.3 1516.82 L198.99 1518.49 L198.99 1514.23 L207.254 1512.56 L211.93 1512.56 L211.93 1543.18 L219.569 1543.18 L219.569 1547.12 L199.662 1547.12 L199.662 1543.18 Z\" fill=\"#000000\" fill-rule=\"evenodd\" fill-opacity=\"1\" /><path clip-path=\"url(#clip850)\" d=\"M229.013 1541.24 L233.897 1541.24 L233.897 1547.12 L229.013 1547.12 L229.013 1541.24 Z\" fill=\"#000000\" fill-rule=\"evenodd\" fill-opacity=\"1\" /><path clip-path=\"url(#clip850)\" d=\"M254.083 1515.64 Q250.471 1515.64 248.643 1519.2 Q246.837 1522.75 246.837 1529.87 Q246.837 1536.98 248.643 1540.55 Q250.471 1544.09 254.083 1544.09 Q257.717 1544.09 259.522 1540.55 Q261.351 1536.98 261.351 1529.87 Q261.351 1522.75 259.522 1519.2 Q257.717 1515.64 254.083 1515.64 M254.083 1511.93 Q259.893 1511.93 262.948 1516.54 Q266.027 1521.12 266.027 1529.87 Q266.027 1538.6 262.948 1543.21 Q259.893 1547.79 254.083 1547.79 Q248.272 1547.79 245.194 1543.21 Q242.138 1538.6 242.138 1529.87 Q242.138 1521.12 245.194 1516.54 Q248.272 1511.93 254.083 1511.93 Z\" fill=\"#000000\" fill-rule=\"evenodd\" fill-opacity=\"1\" /><path clip-path=\"url(#clip850)\" d=\"M284.244 1515.64 Q280.633 1515.64 278.805 1519.2 Q276.999 1522.75 276.999 1529.87 Q276.999 1536.98 278.805 1540.55 Q280.633 1544.09 284.244 1544.09 Q287.879 1544.09 289.684 1540.55 Q291.513 1536.98 291.513 1529.87 Q291.513 1522.75 289.684 1519.2 Q287.879 1515.64 284.244 1515.64 M284.244 1511.93 Q290.055 1511.93 293.11 1516.54 Q296.189 1521.12 296.189 1529.87 Q296.189 1538.6 293.11 1543.21 Q290.055 1547.79 284.244 1547.79 Q278.434 1547.79 275.356 1543.21 Q272.3 1538.6 272.3 1529.87 Q272.3 1521.12 275.356 1516.54 Q278.434 1511.93 284.244 1511.93 Z\" fill=\"#000000\" fill-rule=\"evenodd\" fill-opacity=\"1\" /><path clip-path=\"url(#clip850)\" d=\"M711.122 1543.18 L718.761 1543.18 L718.761 1516.82 L710.451 1518.49 L710.451 1514.23 L718.714 1512.56 L723.39 1512.56 L723.39 1543.18 L731.029 1543.18 L731.029 1547.12 L711.122 1547.12 L711.122 1543.18 Z\" fill=\"#000000\" fill-rule=\"evenodd\" fill-opacity=\"1\" /><path clip-path=\"url(#clip850)\" d=\"M740.474 1541.24 L745.358 1541.24 L745.358 1547.12 L740.474 1547.12 L740.474 1541.24 Z\" fill=\"#000000\" fill-rule=\"evenodd\" fill-opacity=\"1\" /><path clip-path=\"url(#clip850)\" d=\"M759.571 1543.18 L775.89 1543.18 L775.89 1547.12 L753.946 1547.12 L753.946 1543.18 Q756.608 1540.43 761.191 1535.8 Q765.798 1531.15 766.978 1529.81 Q769.223 1527.28 770.103 1525.55 Q771.006 1523.79 771.006 1522.1 Q771.006 1519.34 769.061 1517.61 Q767.14 1515.87 764.038 1515.87 Q761.839 1515.87 759.386 1516.63 Q756.955 1517.4 754.177 1518.95 L754.177 1514.23 Q757.001 1513.09 759.455 1512.51 Q761.909 1511.93 763.946 1511.93 Q769.316 1511.93 772.51 1514.62 Q775.705 1517.31 775.705 1521.8 Q775.705 1523.93 774.895 1525.85 Q774.108 1527.74 772.001 1530.34 Q771.423 1531.01 768.321 1534.23 Q765.219 1537.42 759.571 1543.18 Z\" fill=\"#000000\" fill-rule=\"evenodd\" fill-opacity=\"1\" /><path clip-path=\"url(#clip850)\" d=\"M785.751 1512.56 L804.108 1512.56 L804.108 1516.5 L790.034 1516.5 L790.034 1524.97 Q791.052 1524.62 792.071 1524.46 Q793.089 1524.27 794.108 1524.27 Q799.895 1524.27 803.274 1527.44 Q806.654 1530.62 806.654 1536.03 Q806.654 1541.61 803.182 1544.71 Q799.709 1547.79 793.39 1547.79 Q791.214 1547.79 788.946 1547.42 Q786.7 1547.05 784.293 1546.31 L784.293 1541.61 Q786.376 1542.74 788.598 1543.3 Q790.821 1543.86 793.297 1543.86 Q797.302 1543.86 799.64 1541.75 Q801.978 1539.64 801.978 1536.03 Q801.978 1532.42 799.64 1530.31 Q797.302 1528.21 793.297 1528.21 Q791.422 1528.21 789.547 1528.62 Q787.696 1529.04 785.751 1529.92 L785.751 1512.56 Z\" fill=\"#000000\" fill-rule=\"evenodd\" fill-opacity=\"1\" /><path clip-path=\"url(#clip850)\" d=\"M1221.59 1543.18 L1229.23 1543.18 L1229.23 1516.82 L1220.92 1518.49 L1220.92 1514.23 L1229.18 1512.56 L1233.86 1512.56 L1233.86 1543.18 L1241.49 1543.18 L1241.49 1547.12 L1221.59 1547.12 L1221.59 1543.18 Z\" fill=\"#000000\" fill-rule=\"evenodd\" fill-opacity=\"1\" /><path clip-path=\"url(#clip850)\" d=\"M1250.94 1541.24 L1255.82 1541.24 L1255.82 1547.12 L1250.94 1547.12 L1250.94 1541.24 Z\" fill=\"#000000\" fill-rule=\"evenodd\" fill-opacity=\"1\" /><path clip-path=\"url(#clip850)\" d=\"M1266.05 1512.56 L1284.41 1512.56 L1284.41 1516.5 L1270.34 1516.5 L1270.34 1524.97 Q1271.36 1524.62 1272.37 1524.46 Q1273.39 1524.27 1274.41 1524.27 Q1280.2 1524.27 1283.58 1527.44 Q1286.96 1530.62 1286.96 1536.03 Q1286.96 1541.61 1283.48 1544.71 Q1280.01 1547.79 1273.69 1547.79 Q1271.52 1547.79 1269.25 1547.42 Q1267 1547.05 1264.6 1546.31 L1264.6 1541.61 Q1266.68 1542.74 1268.9 1543.3 Q1271.12 1543.86 1273.6 1543.86 Q1277.61 1543.86 1279.94 1541.75 Q1282.28 1539.64 1282.28 1536.03 Q1282.28 1532.42 1279.94 1530.31 Q1277.61 1528.21 1273.6 1528.21 Q1271.73 1528.21 1269.85 1528.62 Q1268 1529.04 1266.05 1529.92 L1266.05 1512.56 Z\" fill=\"#000000\" fill-rule=\"evenodd\" fill-opacity=\"1\" /><path clip-path=\"url(#clip850)\" d=\"M1306.17 1515.64 Q1302.56 1515.64 1300.73 1519.2 Q1298.92 1522.75 1298.92 1529.87 Q1298.92 1536.98 1300.73 1540.55 Q1302.56 1544.09 1306.17 1544.09 Q1309.8 1544.09 1311.61 1540.55 Q1313.44 1536.98 1313.44 1529.87 Q1313.44 1522.75 1311.61 1519.2 Q1309.8 1515.64 1306.17 1515.64 M1306.17 1511.93 Q1311.98 1511.93 1315.04 1516.54 Q1318.11 1521.12 1318.11 1529.87 Q1318.11 1538.6 1315.04 1543.21 Q1311.98 1547.79 1306.17 1547.79 Q1300.36 1547.79 1297.28 1543.21 Q1294.23 1538.6 1294.23 1529.87 Q1294.23 1521.12 1297.28 1516.54 Q1300.36 1511.93 1306.17 1511.93 Z\" fill=\"#000000\" fill-rule=\"evenodd\" fill-opacity=\"1\" /><path clip-path=\"url(#clip850)\" d=\"M1733.05 1543.18 L1740.69 1543.18 L1740.69 1516.82 L1732.38 1518.49 L1732.38 1514.23 L1740.64 1512.56 L1745.32 1512.56 L1745.32 1543.18 L1752.95 1543.18 L1752.95 1547.12 L1733.05 1547.12 L1733.05 1543.18 Z\" fill=\"#000000\" fill-rule=\"evenodd\" fill-opacity=\"1\" /><path clip-path=\"url(#clip850)\" d=\"M1762.4 1541.24 L1767.28 1541.24 L1767.28 1547.12 L1762.4 1547.12 L1762.4 1541.24 Z\" fill=\"#000000\" fill-rule=\"evenodd\" fill-opacity=\"1\" /><path clip-path=\"url(#clip850)\" d=\"M1776.29 1512.56 L1798.51 1512.56 L1798.51 1514.55 L1785.96 1547.12 L1781.08 1547.12 L1792.89 1516.5 L1776.29 1516.5 L1776.29 1512.56 Z\" fill=\"#000000\" fill-rule=\"evenodd\" fill-opacity=\"1\" /><path clip-path=\"url(#clip850)\" d=\"M1807.68 1512.56 L1826.03 1512.56 L1826.03 1516.5 L1811.96 1516.5 L1811.96 1524.97 Q1812.98 1524.62 1814 1524.46 Q1815.01 1524.27 1816.03 1524.27 Q1821.82 1524.27 1825.2 1527.44 Q1828.58 1530.62 1828.58 1536.03 Q1828.58 1541.61 1825.11 1544.71 Q1821.63 1547.79 1815.32 1547.79 Q1813.14 1547.79 1810.87 1547.42 Q1808.63 1547.05 1806.22 1546.31 L1806.22 1541.61 Q1808.3 1542.74 1810.52 1543.3 Q1812.75 1543.86 1815.22 1543.86 Q1819.23 1543.86 1821.57 1541.75 Q1823.9 1539.64 1823.9 1536.03 Q1823.9 1532.42 1821.57 1530.31 Q1819.23 1528.21 1815.22 1528.21 Q1813.35 1528.21 1811.47 1528.62 Q1809.62 1529.04 1807.68 1529.92 L1807.68 1512.56 Z\" fill=\"#000000\" fill-rule=\"evenodd\" fill-opacity=\"1\" /><path clip-path=\"url(#clip850)\" d=\"M2247.6 1543.18 L2263.92 1543.18 L2263.92 1547.12 L2241.97 1547.12 L2241.97 1543.18 Q2244.64 1540.43 2249.22 1535.8 Q2253.82 1531.15 2255.01 1529.81 Q2257.25 1527.28 2258.13 1525.55 Q2259.03 1523.79 2259.03 1522.1 Q2259.03 1519.34 2257.09 1517.61 Q2255.17 1515.87 2252.07 1515.87 Q2249.87 1515.87 2247.41 1516.63 Q2244.98 1517.4 2242.2 1518.95 L2242.2 1514.23 Q2245.03 1513.09 2247.48 1512.51 Q2249.94 1511.93 2251.97 1511.93 Q2257.34 1511.93 2260.54 1514.62 Q2263.73 1517.31 2263.73 1521.8 Q2263.73 1523.93 2262.92 1525.85 Q2262.13 1527.74 2260.03 1530.34 Q2259.45 1531.01 2256.35 1534.23 Q2253.25 1537.42 2247.6 1543.18 Z\" fill=\"#000000\" fill-rule=\"evenodd\" fill-opacity=\"1\" /><path clip-path=\"url(#clip850)\" d=\"M2273.73 1541.24 L2278.62 1541.24 L2278.62 1547.12 L2273.73 1547.12 L2273.73 1541.24 Z\" fill=\"#000000\" fill-rule=\"evenodd\" fill-opacity=\"1\" /><path clip-path=\"url(#clip850)\" d=\"M2298.8 1515.64 Q2295.19 1515.64 2293.36 1519.2 Q2291.56 1522.75 2291.56 1529.87 Q2291.56 1536.98 2293.36 1540.55 Q2295.19 1544.09 2298.8 1544.09 Q2302.44 1544.09 2304.24 1540.55 Q2306.07 1536.98 2306.07 1529.87 Q2306.07 1522.75 2304.24 1519.2 Q2302.44 1515.64 2298.8 1515.64 M2298.8 1511.93 Q2304.61 1511.93 2307.67 1516.54 Q2310.75 1521.12 2310.75 1529.87 Q2310.75 1538.6 2307.67 1543.21 Q2304.61 1547.79 2298.8 1547.79 Q2292.99 1547.79 2289.91 1543.21 Q2286.86 1538.6 2286.86 1529.87 Q2286.86 1521.12 2289.91 1516.54 Q2292.99 1511.93 2298.8 1511.93 Z\" fill=\"#000000\" fill-rule=\"evenodd\" fill-opacity=\"1\" /><path clip-path=\"url(#clip850)\" d=\"M2328.96 1515.64 Q2325.35 1515.64 2323.52 1519.2 Q2321.72 1522.75 2321.72 1529.87 Q2321.72 1536.98 2323.52 1540.55 Q2325.35 1544.09 2328.96 1544.09 Q2332.6 1544.09 2334.4 1540.55 Q2336.23 1536.98 2336.23 1529.87 Q2336.23 1522.75 2334.4 1519.2 Q2332.6 1515.64 2328.96 1515.64 M2328.96 1511.93 Q2334.77 1511.93 2337.83 1516.54 Q2340.91 1521.12 2340.91 1529.87 Q2340.91 1538.6 2337.83 1543.21 Q2334.77 1547.79 2328.96 1547.79 Q2323.15 1547.79 2320.07 1543.21 Q2317.02 1538.6 2317.02 1529.87 Q2317.02 1521.12 2320.07 1516.54 Q2323.15 1511.93 2328.96 1511.93 Z\" fill=\"#000000\" fill-rule=\"evenodd\" fill-opacity=\"1\" /><polyline clip-path=\"url(#clip852)\" style=\"stroke:#000000; stroke-linecap:butt; stroke-linejoin:round; stroke-width:2; stroke-opacity:0.1; fill:none\" points=\"\n",
       "  186.274,1445.72 2352.76,1445.72 \n",
       "  \"/>\n",
       "<polyline clip-path=\"url(#clip852)\" style=\"stroke:#000000; stroke-linecap:butt; stroke-linejoin:round; stroke-width:2; stroke-opacity:0.1; fill:none\" points=\"\n",
       "  186.274,1106.28 2352.76,1106.28 \n",
       "  \"/>\n",
       "<polyline clip-path=\"url(#clip852)\" style=\"stroke:#000000; stroke-linecap:butt; stroke-linejoin:round; stroke-width:2; stroke-opacity:0.1; fill:none\" points=\"\n",
       "  186.274,766.846 2352.76,766.846 \n",
       "  \"/>\n",
       "<polyline clip-path=\"url(#clip852)\" style=\"stroke:#000000; stroke-linecap:butt; stroke-linejoin:round; stroke-width:2; stroke-opacity:0.1; fill:none\" points=\"\n",
       "  186.274,427.411 2352.76,427.411 \n",
       "  \"/>\n",
       "<polyline clip-path=\"url(#clip852)\" style=\"stroke:#000000; stroke-linecap:butt; stroke-linejoin:round; stroke-width:2; stroke-opacity:0.1; fill:none\" points=\"\n",
       "  186.274,87.9763 2352.76,87.9763 \n",
       "  \"/>\n",
       "<polyline clip-path=\"url(#clip850)\" style=\"stroke:#000000; stroke-linecap:butt; stroke-linejoin:round; stroke-width:4; stroke-opacity:1; fill:none\" points=\"\n",
       "  186.274,1486.45 186.274,47.2441 \n",
       "  \"/>\n",
       "<polyline clip-path=\"url(#clip850)\" style=\"stroke:#000000; stroke-linecap:butt; stroke-linejoin:round; stroke-width:4; stroke-opacity:1; fill:none\" points=\"\n",
       "  186.274,1445.72 212.272,1445.72 \n",
       "  \"/>\n",
       "<polyline clip-path=\"url(#clip850)\" style=\"stroke:#000000; stroke-linecap:butt; stroke-linejoin:round; stroke-width:4; stroke-opacity:1; fill:none\" points=\"\n",
       "  186.274,1106.28 212.272,1106.28 \n",
       "  \"/>\n",
       "<polyline clip-path=\"url(#clip850)\" style=\"stroke:#000000; stroke-linecap:butt; stroke-linejoin:round; stroke-width:4; stroke-opacity:1; fill:none\" points=\"\n",
       "  186.274,766.846 212.272,766.846 \n",
       "  \"/>\n",
       "<polyline clip-path=\"url(#clip850)\" style=\"stroke:#000000; stroke-linecap:butt; stroke-linejoin:round; stroke-width:4; stroke-opacity:1; fill:none\" points=\"\n",
       "  186.274,427.411 212.272,427.411 \n",
       "  \"/>\n",
       "<polyline clip-path=\"url(#clip850)\" style=\"stroke:#000000; stroke-linecap:butt; stroke-linejoin:round; stroke-width:4; stroke-opacity:1; fill:none\" points=\"\n",
       "  186.274,87.9763 212.272,87.9763 \n",
       "  \"/>\n",
       "<path clip-path=\"url(#clip850)\" d=\"M62.9365 1431.51 Q59.3254 1431.51 57.4967 1435.08 Q55.6912 1438.62 55.6912 1445.75 Q55.6912 1452.86 57.4967 1456.42 Q59.3254 1459.96 62.9365 1459.96 Q66.5707 1459.96 68.3763 1456.42 Q70.205 1452.86 70.205 1445.75 Q70.205 1438.62 68.3763 1435.08 Q66.5707 1431.51 62.9365 1431.51 M62.9365 1427.81 Q68.7467 1427.81 71.8022 1432.42 Q74.8809 1437 74.8809 1445.75 Q74.8809 1454.48 71.8022 1459.08 Q68.7467 1463.67 62.9365 1463.67 Q57.1264 1463.67 54.0477 1459.08 Q50.9921 1454.48 50.9921 1445.75 Q50.9921 1437 54.0477 1432.42 Q57.1264 1427.81 62.9365 1427.81 Z\" fill=\"#000000\" fill-rule=\"evenodd\" fill-opacity=\"1\" /><path clip-path=\"url(#clip850)\" d=\"M83.0984 1457.12 L87.9827 1457.12 L87.9827 1463 L83.0984 1463 L83.0984 1457.12 Z\" fill=\"#000000\" fill-rule=\"evenodd\" fill-opacity=\"1\" /><path clip-path=\"url(#clip850)\" d=\"M108.168 1431.51 Q104.557 1431.51 102.728 1435.08 Q100.922 1438.62 100.922 1445.75 Q100.922 1452.86 102.728 1456.42 Q104.557 1459.96 108.168 1459.96 Q111.802 1459.96 113.608 1456.42 Q115.436 1452.86 115.436 1445.75 Q115.436 1438.62 113.608 1435.08 Q111.802 1431.51 108.168 1431.51 M108.168 1427.81 Q113.978 1427.81 117.033 1432.42 Q120.112 1437 120.112 1445.75 Q120.112 1454.48 117.033 1459.08 Q113.978 1463.67 108.168 1463.67 Q102.358 1463.67 99.2789 1459.08 Q96.2234 1454.48 96.2234 1445.75 Q96.2234 1437 99.2789 1432.42 Q102.358 1427.81 108.168 1427.81 Z\" fill=\"#000000\" fill-rule=\"evenodd\" fill-opacity=\"1\" /><path clip-path=\"url(#clip850)\" d=\"M138.33 1431.51 Q134.719 1431.51 132.89 1435.08 Q131.084 1438.62 131.084 1445.75 Q131.084 1452.86 132.89 1456.42 Q134.719 1459.96 138.33 1459.96 Q141.964 1459.96 143.769 1456.42 Q145.598 1452.86 145.598 1445.75 Q145.598 1438.62 143.769 1435.08 Q141.964 1431.51 138.33 1431.51 M138.33 1427.81 Q144.14 1427.81 147.195 1432.42 Q150.274 1437 150.274 1445.75 Q150.274 1454.48 147.195 1459.08 Q144.14 1463.67 138.33 1463.67 Q132.519 1463.67 129.441 1459.08 Q126.385 1454.48 126.385 1445.75 Q126.385 1437 129.441 1432.42 Q132.519 1427.81 138.33 1427.81 Z\" fill=\"#000000\" fill-rule=\"evenodd\" fill-opacity=\"1\" /><path clip-path=\"url(#clip850)\" d=\"M63.9319 1092.08 Q60.3208 1092.08 58.4921 1095.64 Q56.6865 1099.19 56.6865 1106.32 Q56.6865 1113.42 58.4921 1116.99 Q60.3208 1120.53 63.9319 1120.53 Q67.5661 1120.53 69.3717 1116.99 Q71.2004 1113.42 71.2004 1106.32 Q71.2004 1099.19 69.3717 1095.64 Q67.5661 1092.08 63.9319 1092.08 M63.9319 1088.38 Q69.742 1088.38 72.7976 1092.98 Q75.8763 1097.57 75.8763 1106.32 Q75.8763 1115.04 72.7976 1119.65 Q69.742 1124.23 63.9319 1124.23 Q58.1217 1124.23 55.043 1119.65 Q51.9875 1115.04 51.9875 1106.32 Q51.9875 1097.57 55.043 1092.98 Q58.1217 1088.38 63.9319 1088.38 Z\" fill=\"#000000\" fill-rule=\"evenodd\" fill-opacity=\"1\" /><path clip-path=\"url(#clip850)\" d=\"M84.0938 1117.68 L88.978 1117.68 L88.978 1123.56 L84.0938 1123.56 L84.0938 1117.68 Z\" fill=\"#000000\" fill-rule=\"evenodd\" fill-opacity=\"1\" /><path clip-path=\"url(#clip850)\" d=\"M103.191 1119.63 L119.51 1119.63 L119.51 1123.56 L97.566 1123.56 L97.566 1119.63 Q100.228 1116.87 104.811 1112.24 Q109.418 1107.59 110.598 1106.25 Q112.844 1103.72 113.723 1101.99 Q114.626 1100.23 114.626 1098.54 Q114.626 1095.78 112.682 1094.05 Q110.76 1092.31 107.658 1092.31 Q105.459 1092.31 103.006 1093.07 Q100.575 1093.84 97.7974 1095.39 L97.7974 1090.67 Q100.621 1089.53 103.075 1088.95 Q105.529 1088.38 107.566 1088.38 Q112.936 1088.38 116.131 1091.06 Q119.325 1093.75 119.325 1098.24 Q119.325 1100.37 118.515 1102.29 Q117.728 1104.19 115.621 1106.78 Q115.043 1107.45 111.941 1110.67 Q108.839 1113.86 103.191 1119.63 Z\" fill=\"#000000\" fill-rule=\"evenodd\" fill-opacity=\"1\" /><path clip-path=\"url(#clip850)\" d=\"M129.371 1089 L147.728 1089 L147.728 1092.94 L133.654 1092.94 L133.654 1101.41 Q134.672 1101.06 135.691 1100.9 Q136.709 1100.71 137.728 1100.71 Q143.515 1100.71 146.894 1103.89 Q150.274 1107.06 150.274 1112.47 Q150.274 1118.05 146.802 1121.15 Q143.33 1124.23 137.01 1124.23 Q134.834 1124.23 132.566 1123.86 Q130.32 1123.49 127.913 1122.75 L127.913 1118.05 Q129.996 1119.19 132.219 1119.74 Q134.441 1120.3 136.918 1120.3 Q140.922 1120.3 143.26 1118.19 Q145.598 1116.08 145.598 1112.47 Q145.598 1108.86 143.26 1106.76 Q140.922 1104.65 136.918 1104.65 Q135.043 1104.65 133.168 1105.07 Q131.316 1105.48 129.371 1106.36 L129.371 1089 Z\" fill=\"#000000\" fill-rule=\"evenodd\" fill-opacity=\"1\" /><path clip-path=\"url(#clip850)\" d=\"M62.9365 752.645 Q59.3254 752.645 57.4967 756.209 Q55.6912 759.751 55.6912 766.881 Q55.6912 773.987 57.4967 777.552 Q59.3254 781.094 62.9365 781.094 Q66.5707 781.094 68.3763 777.552 Q70.205 773.987 70.205 766.881 Q70.205 759.751 68.3763 756.209 Q66.5707 752.645 62.9365 752.645 M62.9365 748.941 Q68.7467 748.941 71.8022 753.547 Q74.8809 758.131 74.8809 766.881 Q74.8809 775.608 71.8022 780.214 Q68.7467 784.797 62.9365 784.797 Q57.1264 784.797 54.0477 780.214 Q50.9921 775.608 50.9921 766.881 Q50.9921 758.131 54.0477 753.547 Q57.1264 748.941 62.9365 748.941 Z\" fill=\"#000000\" fill-rule=\"evenodd\" fill-opacity=\"1\" /><path clip-path=\"url(#clip850)\" d=\"M83.0984 778.246 L87.9827 778.246 L87.9827 784.126 L83.0984 784.126 L83.0984 778.246 Z\" fill=\"#000000\" fill-rule=\"evenodd\" fill-opacity=\"1\" /><path clip-path=\"url(#clip850)\" d=\"M98.2141 749.566 L116.57 749.566 L116.57 753.501 L102.496 753.501 L102.496 761.973 Q103.515 761.626 104.534 761.464 Q105.552 761.279 106.571 761.279 Q112.358 761.279 115.737 764.45 Q119.117 767.621 119.117 773.038 Q119.117 778.617 115.645 781.719 Q112.172 784.797 105.853 784.797 Q103.677 784.797 101.409 784.427 Q99.1632 784.057 96.7558 783.316 L96.7558 778.617 Q98.8391 779.751 101.061 780.307 Q103.284 780.862 105.76 780.862 Q109.765 780.862 112.103 778.756 Q114.441 776.649 114.441 773.038 Q114.441 769.427 112.103 767.321 Q109.765 765.214 105.76 765.214 Q103.885 765.214 102.01 765.631 Q100.159 766.047 98.2141 766.927 L98.2141 749.566 Z\" fill=\"#000000\" fill-rule=\"evenodd\" fill-opacity=\"1\" /><path clip-path=\"url(#clip850)\" d=\"M138.33 752.645 Q134.719 752.645 132.89 756.209 Q131.084 759.751 131.084 766.881 Q131.084 773.987 132.89 777.552 Q134.719 781.094 138.33 781.094 Q141.964 781.094 143.769 777.552 Q145.598 773.987 145.598 766.881 Q145.598 759.751 143.769 756.209 Q141.964 752.645 138.33 752.645 M138.33 748.941 Q144.14 748.941 147.195 753.547 Q150.274 758.131 150.274 766.881 Q150.274 775.608 147.195 780.214 Q144.14 784.797 138.33 784.797 Q132.519 784.797 129.441 780.214 Q126.385 775.608 126.385 766.881 Q126.385 758.131 129.441 753.547 Q132.519 748.941 138.33 748.941 Z\" fill=\"#000000\" fill-rule=\"evenodd\" fill-opacity=\"1\" /><path clip-path=\"url(#clip850)\" d=\"M63.9319 413.21 Q60.3208 413.21 58.4921 416.775 Q56.6865 420.316 56.6865 427.446 Q56.6865 434.552 58.4921 438.117 Q60.3208 441.659 63.9319 441.659 Q67.5661 441.659 69.3717 438.117 Q71.2004 434.552 71.2004 427.446 Q71.2004 420.316 69.3717 416.775 Q67.5661 413.21 63.9319 413.21 M63.9319 409.506 Q69.742 409.506 72.7976 414.113 Q75.8763 418.696 75.8763 427.446 Q75.8763 436.173 72.7976 440.779 Q69.742 445.362 63.9319 445.362 Q58.1217 445.362 55.043 440.779 Q51.9875 436.173 51.9875 427.446 Q51.9875 418.696 55.043 414.113 Q58.1217 409.506 63.9319 409.506 Z\" fill=\"#000000\" fill-rule=\"evenodd\" fill-opacity=\"1\" /><path clip-path=\"url(#clip850)\" d=\"M84.0938 438.812 L88.978 438.812 L88.978 444.691 L84.0938 444.691 L84.0938 438.812 Z\" fill=\"#000000\" fill-rule=\"evenodd\" fill-opacity=\"1\" /><path clip-path=\"url(#clip850)\" d=\"M97.9826 410.131 L120.205 410.131 L120.205 412.122 L107.658 444.691 L102.774 444.691 L114.58 414.066 L97.9826 414.066 L97.9826 410.131 Z\" fill=\"#000000\" fill-rule=\"evenodd\" fill-opacity=\"1\" /><path clip-path=\"url(#clip850)\" d=\"M129.371 410.131 L147.728 410.131 L147.728 414.066 L133.654 414.066 L133.654 422.538 Q134.672 422.191 135.691 422.029 Q136.709 421.844 137.728 421.844 Q143.515 421.844 146.894 425.015 Q150.274 428.187 150.274 433.603 Q150.274 439.182 146.802 442.284 Q143.33 445.362 137.01 445.362 Q134.834 445.362 132.566 444.992 Q130.32 444.622 127.913 443.881 L127.913 439.182 Q129.996 440.316 132.219 440.872 Q134.441 441.427 136.918 441.427 Q140.922 441.427 143.26 439.321 Q145.598 437.214 145.598 433.603 Q145.598 429.992 143.26 427.886 Q140.922 425.779 136.918 425.779 Q135.043 425.779 133.168 426.196 Q131.316 426.613 129.371 427.492 L129.371 410.131 Z\" fill=\"#000000\" fill-rule=\"evenodd\" fill-opacity=\"1\" /><path clip-path=\"url(#clip850)\" d=\"M53.7467 101.321 L61.3856 101.321 L61.3856 74.9555 L53.0754 76.6222 L53.0754 72.3629 L61.3393 70.6963 L66.0152 70.6963 L66.0152 101.321 L73.654 101.321 L73.654 105.256 L53.7467 105.256 L53.7467 101.321 Z\" fill=\"#000000\" fill-rule=\"evenodd\" fill-opacity=\"1\" /><path clip-path=\"url(#clip850)\" d=\"M83.0984 99.3767 L87.9827 99.3767 L87.9827 105.256 L83.0984 105.256 L83.0984 99.3767 Z\" fill=\"#000000\" fill-rule=\"evenodd\" fill-opacity=\"1\" /><path clip-path=\"url(#clip850)\" d=\"M108.168 73.775 Q104.557 73.775 102.728 77.3398 Q100.922 80.8814 100.922 88.011 Q100.922 95.1174 102.728 98.6822 Q104.557 102.224 108.168 102.224 Q111.802 102.224 113.608 98.6822 Q115.436 95.1174 115.436 88.011 Q115.436 80.8814 113.608 77.3398 Q111.802 73.775 108.168 73.775 M108.168 70.0713 Q113.978 70.0713 117.033 74.6777 Q120.112 79.261 120.112 88.011 Q120.112 96.7378 117.033 101.344 Q113.978 105.928 108.168 105.928 Q102.358 105.928 99.2789 101.344 Q96.2234 96.7378 96.2234 88.011 Q96.2234 79.261 99.2789 74.6777 Q102.358 70.0713 108.168 70.0713 Z\" fill=\"#000000\" fill-rule=\"evenodd\" fill-opacity=\"1\" /><path clip-path=\"url(#clip850)\" d=\"M138.33 73.775 Q134.719 73.775 132.89 77.3398 Q131.084 80.8814 131.084 88.011 Q131.084 95.1174 132.89 98.6822 Q134.719 102.224 138.33 102.224 Q141.964 102.224 143.769 98.6822 Q145.598 95.1174 145.598 88.011 Q145.598 80.8814 143.769 77.3398 Q141.964 73.775 138.33 73.775 M138.33 70.0713 Q144.14 70.0713 147.195 74.6777 Q150.274 79.261 150.274 88.011 Q150.274 96.7378 147.195 101.344 Q144.14 105.928 138.33 105.928 Q132.519 105.928 129.441 101.344 Q126.385 96.7378 126.385 88.011 Q126.385 79.261 129.441 74.6777 Q132.519 70.0713 138.33 70.0713 Z\" fill=\"#000000\" fill-rule=\"evenodd\" fill-opacity=\"1\" /><polyline clip-path=\"url(#clip852)\" style=\"stroke:#009af9; stroke-linecap:butt; stroke-linejoin:round; stroke-width:4; stroke-opacity:1; fill:none\" points=\"\n",
       "  247.59,1445.72 2291.44,1445.72 \n",
       "  \"/>\n",
       "<polyline clip-path=\"url(#clip852)\" style=\"stroke:#e26f46; stroke-linecap:butt; stroke-linejoin:round; stroke-width:4; stroke-opacity:1; fill:none\" points=\"\n",
       "  247.59,1445.72 2291.44,1445.72 \n",
       "  \"/>\n",
       "<polyline clip-path=\"url(#clip852)\" style=\"stroke:#3da44d; stroke-linecap:butt; stroke-linejoin:round; stroke-width:4; stroke-opacity:1; fill:none\" points=\"\n",
       "  247.59,1445.72 2291.44,1445.72 \n",
       "  \"/>\n",
       "<polyline clip-path=\"url(#clip852)\" style=\"stroke:#c271d2; stroke-linecap:butt; stroke-linejoin:round; stroke-width:4; stroke-opacity:1; fill:none\" points=\"\n",
       "  247.59,1445.72 2291.44,1445.72 \n",
       "  \"/>\n",
       "<path clip-path=\"url(#clip850)\" d=\"\n",
       "M1985.68 397.618 L2280.54 397.618 L2280.54 95.2176 L1985.68 95.2176  Z\n",
       "  \" fill=\"#ffffff\" fill-rule=\"evenodd\" fill-opacity=\"1\"/>\n",
       "<polyline clip-path=\"url(#clip850)\" style=\"stroke:#000000; stroke-linecap:butt; stroke-linejoin:round; stroke-width:4; stroke-opacity:1; fill:none\" points=\"\n",
       "  1985.68,397.618 2280.54,397.618 2280.54,95.2176 1985.68,95.2176 1985.68,397.618 \n",
       "  \"/>\n",
       "<polyline clip-path=\"url(#clip850)\" style=\"stroke:#009af9; stroke-linecap:butt; stroke-linejoin:round; stroke-width:4; stroke-opacity:1; fill:none\" points=\"\n",
       "  2009.75,155.698 2154.18,155.698 \n",
       "  \"/>\n",
       "<path clip-path=\"url(#clip850)\" d=\"M2192.1 175.385 Q2190.29 180.015 2188.58 181.427 Q2186.86 182.839 2183.99 182.839 L2180.59 182.839 L2180.59 179.274 L2183.09 179.274 Q2184.85 179.274 2185.82 178.44 Q2186.79 177.607 2187.97 174.505 L2188.74 172.561 L2178.25 147.052 L2182.77 147.052 L2190.87 167.329 L2198.97 147.052 L2203.48 147.052 L2192.1 175.385 Z\" fill=\"#000000\" fill-rule=\"evenodd\" fill-opacity=\"1\" /><path clip-path=\"url(#clip850)\" d=\"M2210.78 169.042 L2218.41 169.042 L2218.41 142.677 L2210.1 144.343 L2210.1 140.084 L2218.37 138.418 L2223.04 138.418 L2223.04 169.042 L2230.68 169.042 L2230.68 172.978 L2210.78 172.978 L2210.78 169.042 Z\" fill=\"#000000\" fill-rule=\"evenodd\" fill-opacity=\"1\" /><polyline clip-path=\"url(#clip850)\" style=\"stroke:#e26f46; stroke-linecap:butt; stroke-linejoin:round; stroke-width:4; stroke-opacity:1; fill:none\" points=\"\n",
       "  2009.75,216.178 2154.18,216.178 \n",
       "  \"/>\n",
       "<path clip-path=\"url(#clip850)\" d=\"M2192.1 235.865 Q2190.29 240.495 2188.58 241.907 Q2186.86 243.319 2183.99 243.319 L2180.59 243.319 L2180.59 239.754 L2183.09 239.754 Q2184.85 239.754 2185.82 238.92 Q2186.79 238.087 2187.97 234.985 L2188.74 233.041 L2178.25 207.532 L2182.77 207.532 L2190.87 227.809 L2198.97 207.532 L2203.48 207.532 L2192.1 235.865 Z\" fill=\"#000000\" fill-rule=\"evenodd\" fill-opacity=\"1\" /><path clip-path=\"url(#clip850)\" d=\"M2213.99 229.522 L2230.31 229.522 L2230.31 233.458 L2208.37 233.458 L2208.37 229.522 Q2211.03 226.768 2215.61 222.138 Q2220.22 217.485 2221.4 216.143 Q2223.65 213.62 2224.53 211.884 Q2225.43 210.124 2225.43 208.435 Q2225.43 205.68 2223.48 203.944 Q2221.56 202.208 2218.46 202.208 Q2216.26 202.208 2213.81 202.972 Q2211.38 203.735 2208.6 205.286 L2208.6 200.564 Q2211.42 199.43 2213.88 198.851 Q2216.33 198.273 2218.37 198.273 Q2223.74 198.273 2226.93 200.958 Q2230.13 203.643 2230.13 208.134 Q2230.13 210.263 2229.32 212.185 Q2228.53 214.083 2226.42 216.675 Q2225.84 217.347 2222.74 220.564 Q2219.64 223.759 2213.99 229.522 Z\" fill=\"#000000\" fill-rule=\"evenodd\" fill-opacity=\"1\" /><polyline clip-path=\"url(#clip850)\" style=\"stroke:#3da44d; stroke-linecap:butt; stroke-linejoin:round; stroke-width:4; stroke-opacity:1; fill:none\" points=\"\n",
       "  2009.75,276.658 2154.18,276.658 \n",
       "  \"/>\n",
       "<path clip-path=\"url(#clip850)\" d=\"M2192.1 296.345 Q2190.29 300.975 2188.58 302.387 Q2186.86 303.799 2183.99 303.799 L2180.59 303.799 L2180.59 300.234 L2183.09 300.234 Q2184.85 300.234 2185.82 299.4 Q2186.79 298.567 2187.97 295.465 L2188.74 293.521 L2178.25 268.012 L2182.77 268.012 L2190.87 288.289 L2198.97 268.012 L2203.48 268.012 L2192.1 296.345 Z\" fill=\"#000000\" fill-rule=\"evenodd\" fill-opacity=\"1\" /><path clip-path=\"url(#clip850)\" d=\"M2224.13 275.303 Q2227.49 276.021 2229.36 278.289 Q2231.26 280.558 2231.26 283.891 Q2231.26 289.007 2227.74 291.808 Q2224.22 294.609 2217.74 294.609 Q2215.57 294.609 2213.25 294.169 Q2210.96 293.752 2208.51 292.896 L2208.51 288.382 Q2210.45 289.516 2212.77 290.095 Q2215.08 290.674 2217.6 290.674 Q2222 290.674 2224.29 288.938 Q2226.61 287.201 2226.61 283.891 Q2226.61 280.836 2224.46 279.123 Q2222.33 277.387 2218.51 277.387 L2214.48 277.387 L2214.48 273.544 L2218.69 273.544 Q2222.14 273.544 2223.97 272.178 Q2225.8 270.79 2225.8 268.197 Q2225.8 265.535 2223.9 264.123 Q2222.03 262.688 2218.51 262.688 Q2216.59 262.688 2214.39 263.104 Q2212.19 263.521 2209.55 264.401 L2209.55 260.234 Q2212.21 259.493 2214.53 259.123 Q2216.86 258.753 2218.92 258.753 Q2224.25 258.753 2227.35 261.183 Q2230.45 263.59 2230.45 267.711 Q2230.45 270.581 2228.81 272.572 Q2227.16 274.54 2224.13 275.303 Z\" fill=\"#000000\" fill-rule=\"evenodd\" fill-opacity=\"1\" /><polyline clip-path=\"url(#clip850)\" style=\"stroke:#c271d2; stroke-linecap:butt; stroke-linejoin:round; stroke-width:4; stroke-opacity:1; fill:none\" points=\"\n",
       "  2009.75,337.138 2154.18,337.138 \n",
       "  \"/>\n",
       "<path clip-path=\"url(#clip850)\" d=\"M2192.1 356.825 Q2190.29 361.455 2188.58 362.867 Q2186.86 364.279 2183.99 364.279 L2180.59 364.279 L2180.59 360.714 L2183.09 360.714 Q2184.85 360.714 2185.82 359.88 Q2186.79 359.047 2187.97 355.945 L2188.74 354.001 L2178.25 328.492 L2182.77 328.492 L2190.87 348.769 L2198.97 328.492 L2203.48 328.492 L2192.1 356.825 Z\" fill=\"#000000\" fill-rule=\"evenodd\" fill-opacity=\"1\" /><path clip-path=\"url(#clip850)\" d=\"M2222.81 323.932 L2211.01 342.381 L2222.81 342.381 L2222.81 323.932 M2221.59 319.858 L2227.47 319.858 L2227.47 342.381 L2232.4 342.381 L2232.4 346.269 L2227.47 346.269 L2227.47 354.418 L2222.81 354.418 L2222.81 346.269 L2207.21 346.269 L2207.21 341.756 L2221.59 319.858 Z\" fill=\"#000000\" fill-rule=\"evenodd\" fill-opacity=\"1\" /></svg>\n"
      ]
     },
     "execution_count": 26,
     "metadata": {},
     "output_type": "execute_result"
    }
   ],
   "source": [
    "plot(g_vals')"
   ]
  },
  {
   "cell_type": "code",
   "execution_count": 27,
   "metadata": {},
   "outputs": [
    {
     "ename": "LoadError",
     "evalue": "UndefVarError: dmin not defined",
     "output_type": "error",
     "traceback": [
      "UndefVarError: dmin not defined",
      "",
      "Stacktrace:",
      " [1] top-level scope",
      "   @ In[27]:1",
      " [2] eval",
      "   @ ./boot.jl:360 [inlined]",
      " [3] include_string(mapexpr::typeof(REPL.softscope), mod::Module, code::String, filename::String)",
      "   @ Base ./loading.jl:1094"
     ]
    }
   ],
   "source": [
    "x = flatten_variables_dyn(dmin);\n",
    "KKT = kkt_dyn(x, dnet, d_dyn);\n",
    "TOL=1e-6;\n",
    "\n",
    "@show norm(KKT)\n",
    "@show sum(abs.(KKT).>TOL);"
   ]
  },
  {
   "cell_type": "markdown",
   "metadata": {},
   "source": [
    "### Looking for indices where `KKT \\neq 0`"
   ]
  },
  {
   "cell_type": "code",
   "execution_count": 28,
   "metadata": {},
   "outputs": [],
   "source": [
    "static_length = kkt_dims(n, m, l)\n",
    "storage_length = storage_kkt_dims(n);"
   ]
  },
  {
   "cell_type": "code",
   "execution_count": 29,
   "metadata": {},
   "outputs": [
    {
     "ename": "LoadError",
     "evalue": "UndefVarError: KKT not defined",
     "output_type": "error",
     "traceback": [
      "UndefVarError: KKT not defined",
      "",
      "Stacktrace:",
      " [1] macro expansion",
      "   @ ./show.jl:955 [inlined]",
      " [2] top-level scope",
      "   @ ./In[29]:4",
      " [3] eval",
      "   @ ./boot.jl:360 [inlined]",
      " [4] include_string(mapexpr::typeof(REPL.softscope), mod::Module, code::String, filename::String)",
      "   @ Base ./loading.jl:1094"
     ]
    }
   ],
   "source": [
    "# static\n",
    "for t in 1:T\n",
    "    start_stat = (t-1) * static_length\n",
    "    @show t, sum(abs.(KKT[start_stat+1:start_stat + static_length]).> TOL)\n",
    "end"
   ]
  },
  {
   "cell_type": "code",
   "execution_count": 30,
   "metadata": {},
   "outputs": [
    {
     "ename": "LoadError",
     "evalue": "UndefVarError: KKT not defined",
     "output_type": "error",
     "traceback": [
      "UndefVarError: KKT not defined",
      "",
      "Stacktrace:",
      " [1] macro expansion",
      "   @ ./show.jl:955 [inlined]",
      " [2] top-level scope",
      "   @ ./In[30]:4",
      " [3] eval",
      "   @ ./boot.jl:360 [inlined]",
      " [4] include_string(mapexpr::typeof(REPL.softscope), mod::Module, code::String, filename::String)",
      "   @ Base ./loading.jl:1094"
     ]
    }
   ],
   "source": [
    "# storage\n",
    "for t in 1:T\n",
    "    start_stor = T*static_length + (t-1) * storage_length\n",
    "    @show t, sum(abs.(KKT[start_stor+1:start_stor + storage_length]).> TOL)\n",
    "end"
   ]
  },
  {
   "cell_type": "code",
   "execution_count": 31,
   "metadata": {},
   "outputs": [
    {
     "ename": "LoadError",
     "evalue": "UndefVarError: KKT not defined",
     "output_type": "error",
     "traceback": [
      "UndefVarError: KKT not defined",
      "",
      "Stacktrace:",
      " [1] top-level scope",
      "   @ In[31]:3",
      " [2] eval",
      "   @ ./boot.jl:360 [inlined]",
      " [3] include_string(mapexpr::typeof(REPL.softscope), mod::Module, code::String, filename::String)",
      "   @ Base ./loading.jl:1094"
     ]
    }
   ],
   "source": [
    "t = 2\n",
    "start_stor = T*static_length + (t-1) * storage_length\n",
    "KKT_st = KKT[start_stor+1:start_stor + storage_length]\n",
    "for k in 1:5\n",
    "    @show k, norm(KKT_st[(k-1)*n+1:k*n])\n",
    "end\n"
   ]
  },
  {
   "cell_type": "code",
   "execution_count": 32,
   "metadata": {},
   "outputs": [
    {
     "ename": "LoadError",
     "evalue": "UndefVarError: KKT_st not defined",
     "output_type": "error",
     "traceback": [
      "UndefVarError: KKT_st not defined",
      "",
      "Stacktrace:",
      " [1] top-level scope",
      "   @ In[32]:2",
      " [2] eval",
      "   @ ./boot.jl:360 [inlined]",
      " [3] include_string(mapexpr::typeof(REPL.softscope), mod::Module, code::String, filename::String)",
      "   @ Base ./loading.jl:1094"
     ]
    }
   ],
   "source": [
    "k=2\n",
    "KKT_st[(k-1)*n+1:k*n]"
   ]
  },
  {
   "cell_type": "markdown",
   "metadata": {},
   "source": [
    "## Several timesteps, with battery capacity"
   ]
  },
  {
   "cell_type": "code",
   "execution_count": 33,
   "metadata": {},
   "outputs": [],
   "source": [
    "T = 5\n",
    "\n",
    "cq_dyn = [cq for _ in 1:T]\n",
    "cl_dyn = [cl for _ in 1:T]\n",
    "pmax_dyn = [pmax for _ in 1:T]\n",
    "gmax_dyn = [gmax for _ in 1:T]\n",
    "d_dyn = [d for _ in 1:T]\n",
    "\n",
    "P = rand(Exponential(2), n)\n",
    "C = rand(Exponential(2), n)\n",
    ";"
   ]
  },
  {
   "cell_type": "code",
   "execution_count": 34,
   "metadata": {},
   "outputs": [
    {
     "ename": "LoadError",
     "evalue": "MethodError: no method matching DynamicPowerNetwork(::Vector{Vector{Float64}}, ::Vector{Vector{Float64}}, ::Vector{Vector{Float64}}, ::Vector{Vector{Float64}}, ::SparseMatrixCSC{Int64, Int64}, ::SparseMatrixCSC{Float64, Int64}, ::Vector{Float64}, ::Vector{Float64})\n\u001b[0mClosest candidates are:\n\u001b[0m  DynamicPowerNetwork(::Any, ::Any, ::Any, ::Any, ::Any, ::Any, ::Any, ::Any, \u001b[91m::Any\u001b[39m; τ) at /Users/lucasfuentes/Documents/Ideas/EnergyNetworks/CarbonNetworks.jl/src/dyn_model.jl:43\n\u001b[0m  DynamicPowerNetwork(::Any, ::Any, ::Any, ::Any, ::Any, ::Any, ::Any, ::Any, \u001b[91m::Any\u001b[39m, \u001b[91m::Any\u001b[39m) at /Users/lucasfuentes/Documents/Ideas/EnergyNetworks/CarbonNetworks.jl/src/dyn_model.jl:31",
     "output_type": "error",
     "traceback": [
      "MethodError: no method matching DynamicPowerNetwork(::Vector{Vector{Float64}}, ::Vector{Vector{Float64}}, ::Vector{Vector{Float64}}, ::Vector{Vector{Float64}}, ::SparseMatrixCSC{Int64, Int64}, ::SparseMatrixCSC{Float64, Int64}, ::Vector{Float64}, ::Vector{Float64})\n\u001b[0mClosest candidates are:\n\u001b[0m  DynamicPowerNetwork(::Any, ::Any, ::Any, ::Any, ::Any, ::Any, ::Any, ::Any, \u001b[91m::Any\u001b[39m; τ) at /Users/lucasfuentes/Documents/Ideas/EnergyNetworks/CarbonNetworks.jl/src/dyn_model.jl:43\n\u001b[0m  DynamicPowerNetwork(::Any, ::Any, ::Any, ::Any, ::Any, ::Any, ::Any, ::Any, \u001b[91m::Any\u001b[39m, \u001b[91m::Any\u001b[39m) at /Users/lucasfuentes/Documents/Ideas/EnergyNetworks/CarbonNetworks.jl/src/dyn_model.jl:31",
      "",
      "Stacktrace:",
      " [1] top-level scope",
      "   @ In[34]:1",
      " [2] eval",
      "   @ ./boot.jl:360 [inlined]",
      " [3] include_string(mapexpr::typeof(REPL.softscope), mod::Module, code::String, filename::String)",
      "   @ Base ./loading.jl:1094"
     ]
    }
   ],
   "source": [
    "dnet = DynamicPowerNetwork(\n",
    "    cq_dyn, cl_dyn, pmax_dyn, gmax_dyn, A, B, P, C\n",
    ")\n",
    "dmin = DynamicPowerManagementProblem(dnet, d_dyn);"
   ]
  },
  {
   "cell_type": "code",
   "execution_count": 35,
   "metadata": {},
   "outputs": [
    {
     "ename": "LoadError",
     "evalue": "UndefVarError: dmin not defined",
     "output_type": "error",
     "traceback": [
      "UndefVarError: dmin not defined",
      "",
      "Stacktrace:",
      " [1] top-level scope",
      "   @ In[35]:1",
      " [2] eval",
      "   @ ./boot.jl:360 [inlined]",
      " [3] include_string(mapexpr::typeof(REPL.softscope), mod::Module, code::String, filename::String)",
      "   @ Base ./loading.jl:1094"
     ]
    }
   ],
   "source": [
    "solve!(dmin, OPT, verbose=true);"
   ]
  },
  {
   "cell_type": "code",
   "execution_count": 36,
   "metadata": {},
   "outputs": [
    {
     "ename": "LoadError",
     "evalue": "UndefVarError: dmin not defined",
     "output_type": "error",
     "traceback": [
      "UndefVarError: dmin not defined",
      "",
      "Stacktrace:",
      " [1] top-level scope",
      "   @ ./In[36]:4",
      " [2] eval",
      "   @ ./boot.jl:360 [inlined]",
      " [3] include_string(mapexpr::typeof(REPL.softscope), mod::Module, code::String, filename::String)",
      "   @ Base ./loading.jl:1094"
     ]
    }
   ],
   "source": [
    "s_vals = zeros(n, T)\n",
    "g_vals = zeros(l, T)\n",
    "for t in 1:T\n",
    "    s_vals[:, t] = dmin.s[t].value\n",
    "    g_vals[:, t] = dmin.g[t].value\n",
    "end"
   ]
  },
  {
   "cell_type": "code",
   "execution_count": 37,
   "metadata": {},
   "outputs": [
    {
     "data": {
      "image/svg+xml": [
       "<?xml version=\"1.0\" encoding=\"utf-8\"?>\n",
       "<svg xmlns=\"http://www.w3.org/2000/svg\" xmlns:xlink=\"http://www.w3.org/1999/xlink\" width=\"600\" height=\"400\" viewBox=\"0 0 2400 1600\">\n",
       "<defs>\n",
       "  <clipPath id=\"clip890\">\n",
       "    <rect x=\"0\" y=\"0\" width=\"2400\" height=\"1600\"/>\n",
       "  </clipPath>\n",
       "</defs>\n",
       "<path clip-path=\"url(#clip890)\" d=\"\n",
       "M0 1600 L2400 1600 L2400 0 L0 0  Z\n",
       "  \" fill=\"#ffffff\" fill-rule=\"evenodd\" fill-opacity=\"1\"/>\n",
       "<defs>\n",
       "  <clipPath id=\"clip891\">\n",
       "    <rect x=\"480\" y=\"0\" width=\"1681\" height=\"1600\"/>\n",
       "  </clipPath>\n",
       "</defs>\n",
       "<path clip-path=\"url(#clip890)\" d=\"\n",
       "M186.274 1486.45 L2352.76 1486.45 L2352.76 47.2441 L186.274 47.2441  Z\n",
       "  \" fill=\"#ffffff\" fill-rule=\"evenodd\" fill-opacity=\"1\"/>\n",
       "<defs>\n",
       "  <clipPath id=\"clip892\">\n",
       "    <rect x=\"186\" y=\"47\" width=\"2167\" height=\"1440\"/>\n",
       "  </clipPath>\n",
       "</defs>\n",
       "<polyline clip-path=\"url(#clip892)\" style=\"stroke:#000000; stroke-linecap:butt; stroke-linejoin:round; stroke-width:2; stroke-opacity:0.1; fill:none\" points=\"\n",
       "  247.59,1486.45 247.59,47.2441 \n",
       "  \"/>\n",
       "<polyline clip-path=\"url(#clip892)\" style=\"stroke:#000000; stroke-linecap:butt; stroke-linejoin:round; stroke-width:2; stroke-opacity:0.1; fill:none\" points=\"\n",
       "  758.552,1486.45 758.552,47.2441 \n",
       "  \"/>\n",
       "<polyline clip-path=\"url(#clip892)\" style=\"stroke:#000000; stroke-linecap:butt; stroke-linejoin:round; stroke-width:2; stroke-opacity:0.1; fill:none\" points=\"\n",
       "  1269.51,1486.45 1269.51,47.2441 \n",
       "  \"/>\n",
       "<polyline clip-path=\"url(#clip892)\" style=\"stroke:#000000; stroke-linecap:butt; stroke-linejoin:round; stroke-width:2; stroke-opacity:0.1; fill:none\" points=\"\n",
       "  1780.48,1486.45 1780.48,47.2441 \n",
       "  \"/>\n",
       "<polyline clip-path=\"url(#clip892)\" style=\"stroke:#000000; stroke-linecap:butt; stroke-linejoin:round; stroke-width:2; stroke-opacity:0.1; fill:none\" points=\"\n",
       "  2291.44,1486.45 2291.44,47.2441 \n",
       "  \"/>\n",
       "<polyline clip-path=\"url(#clip890)\" style=\"stroke:#000000; stroke-linecap:butt; stroke-linejoin:round; stroke-width:4; stroke-opacity:1; fill:none\" points=\"\n",
       "  186.274,1486.45 2352.76,1486.45 \n",
       "  \"/>\n",
       "<polyline clip-path=\"url(#clip890)\" style=\"stroke:#000000; stroke-linecap:butt; stroke-linejoin:round; stroke-width:4; stroke-opacity:1; fill:none\" points=\"\n",
       "  247.59,1486.45 247.59,1469.18 \n",
       "  \"/>\n",
       "<polyline clip-path=\"url(#clip890)\" style=\"stroke:#000000; stroke-linecap:butt; stroke-linejoin:round; stroke-width:4; stroke-opacity:1; fill:none\" points=\"\n",
       "  758.552,1486.45 758.552,1469.18 \n",
       "  \"/>\n",
       "<polyline clip-path=\"url(#clip890)\" style=\"stroke:#000000; stroke-linecap:butt; stroke-linejoin:round; stroke-width:4; stroke-opacity:1; fill:none\" points=\"\n",
       "  1269.51,1486.45 1269.51,1469.18 \n",
       "  \"/>\n",
       "<polyline clip-path=\"url(#clip890)\" style=\"stroke:#000000; stroke-linecap:butt; stroke-linejoin:round; stroke-width:4; stroke-opacity:1; fill:none\" points=\"\n",
       "  1780.48,1486.45 1780.48,1469.18 \n",
       "  \"/>\n",
       "<polyline clip-path=\"url(#clip890)\" style=\"stroke:#000000; stroke-linecap:butt; stroke-linejoin:round; stroke-width:4; stroke-opacity:1; fill:none\" points=\"\n",
       "  2291.44,1486.45 2291.44,1469.18 \n",
       "  \"/>\n",
       "<path clip-path=\"url(#clip890)\" d=\"M237.972 1543.18 L245.61 1543.18 L245.61 1516.82 L237.3 1518.49 L237.3 1514.23 L245.564 1512.56 L250.24 1512.56 L250.24 1543.18 L257.879 1543.18 L257.879 1547.12 L237.972 1547.12 L237.972 1543.18 Z\" fill=\"#000000\" fill-rule=\"evenodd\" fill-opacity=\"1\" /><path clip-path=\"url(#clip890)\" d=\"M753.205 1543.18 L769.524 1543.18 L769.524 1547.12 L747.58 1547.12 L747.58 1543.18 Q750.242 1540.43 754.825 1535.8 Q759.432 1531.15 760.612 1529.81 Q762.858 1527.28 763.737 1525.55 Q764.64 1523.79 764.64 1522.1 Q764.64 1519.34 762.696 1517.61 Q760.774 1515.87 757.673 1515.87 Q755.474 1515.87 753.02 1516.63 Q750.589 1517.4 747.812 1518.95 L747.812 1514.23 Q750.636 1513.09 753.089 1512.51 Q755.543 1511.93 757.58 1511.93 Q762.95 1511.93 766.145 1514.62 Q769.339 1517.31 769.339 1521.8 Q769.339 1523.93 768.529 1525.85 Q767.742 1527.74 765.636 1530.34 Q765.057 1531.01 761.955 1534.23 Q758.853 1537.42 753.205 1543.18 Z\" fill=\"#000000\" fill-rule=\"evenodd\" fill-opacity=\"1\" /><path clip-path=\"url(#clip890)\" d=\"M1273.76 1528.49 Q1277.12 1529.2 1278.99 1531.47 Q1280.89 1533.74 1280.89 1537.07 Q1280.89 1542.19 1277.37 1544.99 Q1273.86 1547.79 1267.37 1547.79 Q1265.2 1547.79 1262.88 1547.35 Q1260.59 1546.93 1258.14 1546.08 L1258.14 1541.56 Q1260.08 1542.7 1262.4 1543.28 Q1264.71 1543.86 1267.23 1543.86 Q1271.63 1543.86 1273.92 1542.12 Q1276.24 1540.38 1276.24 1537.07 Q1276.24 1534.02 1274.09 1532.31 Q1271.96 1530.57 1268.14 1530.57 L1264.11 1530.57 L1264.11 1526.73 L1268.32 1526.73 Q1271.77 1526.73 1273.6 1525.36 Q1275.43 1523.97 1275.43 1521.38 Q1275.43 1518.72 1273.53 1517.31 Q1271.66 1515.87 1268.14 1515.87 Q1266.22 1515.87 1264.02 1516.29 Q1261.82 1516.7 1259.18 1517.58 L1259.18 1513.42 Q1261.84 1512.68 1264.16 1512.31 Q1266.49 1511.93 1268.55 1511.93 Q1273.88 1511.93 1276.98 1514.37 Q1280.08 1516.77 1280.08 1520.89 Q1280.08 1523.76 1278.44 1525.75 Q1276.8 1527.72 1273.76 1528.49 Z\" fill=\"#000000\" fill-rule=\"evenodd\" fill-opacity=\"1\" /><path clip-path=\"url(#clip890)\" d=\"M1783.49 1516.63 L1771.68 1535.08 L1783.49 1535.08 L1783.49 1516.63 M1782.26 1512.56 L1788.14 1512.56 L1788.14 1535.08 L1793.07 1535.08 L1793.07 1538.97 L1788.14 1538.97 L1788.14 1547.12 L1783.49 1547.12 L1783.49 1538.97 L1767.89 1538.97 L1767.89 1534.46 L1782.26 1512.56 Z\" fill=\"#000000\" fill-rule=\"evenodd\" fill-opacity=\"1\" /><path clip-path=\"url(#clip890)\" d=\"M2281.72 1512.56 L2300.07 1512.56 L2300.07 1516.5 L2286 1516.5 L2286 1524.97 Q2287.02 1524.62 2288.04 1524.46 Q2289.06 1524.27 2290.07 1524.27 Q2295.86 1524.27 2299.24 1527.44 Q2302.62 1530.62 2302.62 1536.03 Q2302.62 1541.61 2299.15 1544.71 Q2295.68 1547.79 2289.36 1547.79 Q2287.18 1547.79 2284.91 1547.42 Q2282.67 1547.05 2280.26 1546.31 L2280.26 1541.61 Q2282.34 1542.74 2284.57 1543.3 Q2286.79 1543.86 2289.26 1543.86 Q2293.27 1543.86 2295.61 1541.75 Q2297.94 1539.64 2297.94 1536.03 Q2297.94 1532.42 2295.61 1530.31 Q2293.27 1528.21 2289.26 1528.21 Q2287.39 1528.21 2285.51 1528.62 Q2283.66 1529.04 2281.72 1529.92 L2281.72 1512.56 Z\" fill=\"#000000\" fill-rule=\"evenodd\" fill-opacity=\"1\" /><polyline clip-path=\"url(#clip892)\" style=\"stroke:#000000; stroke-linecap:butt; stroke-linejoin:round; stroke-width:2; stroke-opacity:0.1; fill:none\" points=\"\n",
       "  186.274,1445.72 2352.76,1445.72 \n",
       "  \"/>\n",
       "<polyline clip-path=\"url(#clip892)\" style=\"stroke:#000000; stroke-linecap:butt; stroke-linejoin:round; stroke-width:2; stroke-opacity:0.1; fill:none\" points=\"\n",
       "  186.274,1106.28 2352.76,1106.28 \n",
       "  \"/>\n",
       "<polyline clip-path=\"url(#clip892)\" style=\"stroke:#000000; stroke-linecap:butt; stroke-linejoin:round; stroke-width:2; stroke-opacity:0.1; fill:none\" points=\"\n",
       "  186.274,766.846 2352.76,766.846 \n",
       "  \"/>\n",
       "<polyline clip-path=\"url(#clip892)\" style=\"stroke:#000000; stroke-linecap:butt; stroke-linejoin:round; stroke-width:2; stroke-opacity:0.1; fill:none\" points=\"\n",
       "  186.274,427.411 2352.76,427.411 \n",
       "  \"/>\n",
       "<polyline clip-path=\"url(#clip892)\" style=\"stroke:#000000; stroke-linecap:butt; stroke-linejoin:round; stroke-width:2; stroke-opacity:0.1; fill:none\" points=\"\n",
       "  186.274,87.9763 2352.76,87.9763 \n",
       "  \"/>\n",
       "<polyline clip-path=\"url(#clip890)\" style=\"stroke:#000000; stroke-linecap:butt; stroke-linejoin:round; stroke-width:4; stroke-opacity:1; fill:none\" points=\"\n",
       "  186.274,1486.45 186.274,47.2441 \n",
       "  \"/>\n",
       "<polyline clip-path=\"url(#clip890)\" style=\"stroke:#000000; stroke-linecap:butt; stroke-linejoin:round; stroke-width:4; stroke-opacity:1; fill:none\" points=\"\n",
       "  186.274,1445.72 212.272,1445.72 \n",
       "  \"/>\n",
       "<polyline clip-path=\"url(#clip890)\" style=\"stroke:#000000; stroke-linecap:butt; stroke-linejoin:round; stroke-width:4; stroke-opacity:1; fill:none\" points=\"\n",
       "  186.274,1106.28 212.272,1106.28 \n",
       "  \"/>\n",
       "<polyline clip-path=\"url(#clip890)\" style=\"stroke:#000000; stroke-linecap:butt; stroke-linejoin:round; stroke-width:4; stroke-opacity:1; fill:none\" points=\"\n",
       "  186.274,766.846 212.272,766.846 \n",
       "  \"/>\n",
       "<polyline clip-path=\"url(#clip890)\" style=\"stroke:#000000; stroke-linecap:butt; stroke-linejoin:round; stroke-width:4; stroke-opacity:1; fill:none\" points=\"\n",
       "  186.274,427.411 212.272,427.411 \n",
       "  \"/>\n",
       "<polyline clip-path=\"url(#clip890)\" style=\"stroke:#000000; stroke-linecap:butt; stroke-linejoin:round; stroke-width:4; stroke-opacity:1; fill:none\" points=\"\n",
       "  186.274,87.9763 212.272,87.9763 \n",
       "  \"/>\n",
       "<path clip-path=\"url(#clip890)\" d=\"M62.9365 1431.51 Q59.3254 1431.51 57.4967 1435.08 Q55.6912 1438.62 55.6912 1445.75 Q55.6912 1452.86 57.4967 1456.42 Q59.3254 1459.96 62.9365 1459.96 Q66.5707 1459.96 68.3763 1456.42 Q70.205 1452.86 70.205 1445.75 Q70.205 1438.62 68.3763 1435.08 Q66.5707 1431.51 62.9365 1431.51 M62.9365 1427.81 Q68.7467 1427.81 71.8022 1432.42 Q74.8809 1437 74.8809 1445.75 Q74.8809 1454.48 71.8022 1459.08 Q68.7467 1463.67 62.9365 1463.67 Q57.1264 1463.67 54.0477 1459.08 Q50.9921 1454.48 50.9921 1445.75 Q50.9921 1437 54.0477 1432.42 Q57.1264 1427.81 62.9365 1427.81 Z\" fill=\"#000000\" fill-rule=\"evenodd\" fill-opacity=\"1\" /><path clip-path=\"url(#clip890)\" d=\"M83.0984 1457.12 L87.9827 1457.12 L87.9827 1463 L83.0984 1463 L83.0984 1457.12 Z\" fill=\"#000000\" fill-rule=\"evenodd\" fill-opacity=\"1\" /><path clip-path=\"url(#clip890)\" d=\"M108.168 1431.51 Q104.557 1431.51 102.728 1435.08 Q100.922 1438.62 100.922 1445.75 Q100.922 1452.86 102.728 1456.42 Q104.557 1459.96 108.168 1459.96 Q111.802 1459.96 113.608 1456.42 Q115.436 1452.86 115.436 1445.75 Q115.436 1438.62 113.608 1435.08 Q111.802 1431.51 108.168 1431.51 M108.168 1427.81 Q113.978 1427.81 117.033 1432.42 Q120.112 1437 120.112 1445.75 Q120.112 1454.48 117.033 1459.08 Q113.978 1463.67 108.168 1463.67 Q102.358 1463.67 99.2789 1459.08 Q96.2234 1454.48 96.2234 1445.75 Q96.2234 1437 99.2789 1432.42 Q102.358 1427.81 108.168 1427.81 Z\" fill=\"#000000\" fill-rule=\"evenodd\" fill-opacity=\"1\" /><path clip-path=\"url(#clip890)\" d=\"M138.33 1431.51 Q134.719 1431.51 132.89 1435.08 Q131.084 1438.62 131.084 1445.75 Q131.084 1452.86 132.89 1456.42 Q134.719 1459.96 138.33 1459.96 Q141.964 1459.96 143.769 1456.42 Q145.598 1452.86 145.598 1445.75 Q145.598 1438.62 143.769 1435.08 Q141.964 1431.51 138.33 1431.51 M138.33 1427.81 Q144.14 1427.81 147.195 1432.42 Q150.274 1437 150.274 1445.75 Q150.274 1454.48 147.195 1459.08 Q144.14 1463.67 138.33 1463.67 Q132.519 1463.67 129.441 1459.08 Q126.385 1454.48 126.385 1445.75 Q126.385 1437 129.441 1432.42 Q132.519 1427.81 138.33 1427.81 Z\" fill=\"#000000\" fill-rule=\"evenodd\" fill-opacity=\"1\" /><path clip-path=\"url(#clip890)\" d=\"M63.9319 1092.08 Q60.3208 1092.08 58.4921 1095.64 Q56.6865 1099.19 56.6865 1106.32 Q56.6865 1113.42 58.4921 1116.99 Q60.3208 1120.53 63.9319 1120.53 Q67.5661 1120.53 69.3717 1116.99 Q71.2004 1113.42 71.2004 1106.32 Q71.2004 1099.19 69.3717 1095.64 Q67.5661 1092.08 63.9319 1092.08 M63.9319 1088.38 Q69.742 1088.38 72.7976 1092.98 Q75.8763 1097.57 75.8763 1106.32 Q75.8763 1115.04 72.7976 1119.65 Q69.742 1124.23 63.9319 1124.23 Q58.1217 1124.23 55.043 1119.65 Q51.9875 1115.04 51.9875 1106.32 Q51.9875 1097.57 55.043 1092.98 Q58.1217 1088.38 63.9319 1088.38 Z\" fill=\"#000000\" fill-rule=\"evenodd\" fill-opacity=\"1\" /><path clip-path=\"url(#clip890)\" d=\"M84.0938 1117.68 L88.978 1117.68 L88.978 1123.56 L84.0938 1123.56 L84.0938 1117.68 Z\" fill=\"#000000\" fill-rule=\"evenodd\" fill-opacity=\"1\" /><path clip-path=\"url(#clip890)\" d=\"M103.191 1119.63 L119.51 1119.63 L119.51 1123.56 L97.566 1123.56 L97.566 1119.63 Q100.228 1116.87 104.811 1112.24 Q109.418 1107.59 110.598 1106.25 Q112.844 1103.72 113.723 1101.99 Q114.626 1100.23 114.626 1098.54 Q114.626 1095.78 112.682 1094.05 Q110.76 1092.31 107.658 1092.31 Q105.459 1092.31 103.006 1093.07 Q100.575 1093.84 97.7974 1095.39 L97.7974 1090.67 Q100.621 1089.53 103.075 1088.95 Q105.529 1088.38 107.566 1088.38 Q112.936 1088.38 116.131 1091.06 Q119.325 1093.75 119.325 1098.24 Q119.325 1100.37 118.515 1102.29 Q117.728 1104.19 115.621 1106.78 Q115.043 1107.45 111.941 1110.67 Q108.839 1113.86 103.191 1119.63 Z\" fill=\"#000000\" fill-rule=\"evenodd\" fill-opacity=\"1\" /><path clip-path=\"url(#clip890)\" d=\"M129.371 1089 L147.728 1089 L147.728 1092.94 L133.654 1092.94 L133.654 1101.41 Q134.672 1101.06 135.691 1100.9 Q136.709 1100.71 137.728 1100.71 Q143.515 1100.71 146.894 1103.89 Q150.274 1107.06 150.274 1112.47 Q150.274 1118.05 146.802 1121.15 Q143.33 1124.23 137.01 1124.23 Q134.834 1124.23 132.566 1123.86 Q130.32 1123.49 127.913 1122.75 L127.913 1118.05 Q129.996 1119.19 132.219 1119.74 Q134.441 1120.3 136.918 1120.3 Q140.922 1120.3 143.26 1118.19 Q145.598 1116.08 145.598 1112.47 Q145.598 1108.86 143.26 1106.76 Q140.922 1104.65 136.918 1104.65 Q135.043 1104.65 133.168 1105.07 Q131.316 1105.48 129.371 1106.36 L129.371 1089 Z\" fill=\"#000000\" fill-rule=\"evenodd\" fill-opacity=\"1\" /><path clip-path=\"url(#clip890)\" d=\"M62.9365 752.645 Q59.3254 752.645 57.4967 756.209 Q55.6912 759.751 55.6912 766.881 Q55.6912 773.987 57.4967 777.552 Q59.3254 781.094 62.9365 781.094 Q66.5707 781.094 68.3763 777.552 Q70.205 773.987 70.205 766.881 Q70.205 759.751 68.3763 756.209 Q66.5707 752.645 62.9365 752.645 M62.9365 748.941 Q68.7467 748.941 71.8022 753.547 Q74.8809 758.131 74.8809 766.881 Q74.8809 775.608 71.8022 780.214 Q68.7467 784.797 62.9365 784.797 Q57.1264 784.797 54.0477 780.214 Q50.9921 775.608 50.9921 766.881 Q50.9921 758.131 54.0477 753.547 Q57.1264 748.941 62.9365 748.941 Z\" fill=\"#000000\" fill-rule=\"evenodd\" fill-opacity=\"1\" /><path clip-path=\"url(#clip890)\" d=\"M83.0984 778.246 L87.9827 778.246 L87.9827 784.126 L83.0984 784.126 L83.0984 778.246 Z\" fill=\"#000000\" fill-rule=\"evenodd\" fill-opacity=\"1\" /><path clip-path=\"url(#clip890)\" d=\"M98.2141 749.566 L116.57 749.566 L116.57 753.501 L102.496 753.501 L102.496 761.973 Q103.515 761.626 104.534 761.464 Q105.552 761.279 106.571 761.279 Q112.358 761.279 115.737 764.45 Q119.117 767.621 119.117 773.038 Q119.117 778.617 115.645 781.719 Q112.172 784.797 105.853 784.797 Q103.677 784.797 101.409 784.427 Q99.1632 784.057 96.7558 783.316 L96.7558 778.617 Q98.8391 779.751 101.061 780.307 Q103.284 780.862 105.76 780.862 Q109.765 780.862 112.103 778.756 Q114.441 776.649 114.441 773.038 Q114.441 769.427 112.103 767.321 Q109.765 765.214 105.76 765.214 Q103.885 765.214 102.01 765.631 Q100.159 766.047 98.2141 766.927 L98.2141 749.566 Z\" fill=\"#000000\" fill-rule=\"evenodd\" fill-opacity=\"1\" /><path clip-path=\"url(#clip890)\" d=\"M138.33 752.645 Q134.719 752.645 132.89 756.209 Q131.084 759.751 131.084 766.881 Q131.084 773.987 132.89 777.552 Q134.719 781.094 138.33 781.094 Q141.964 781.094 143.769 777.552 Q145.598 773.987 145.598 766.881 Q145.598 759.751 143.769 756.209 Q141.964 752.645 138.33 752.645 M138.33 748.941 Q144.14 748.941 147.195 753.547 Q150.274 758.131 150.274 766.881 Q150.274 775.608 147.195 780.214 Q144.14 784.797 138.33 784.797 Q132.519 784.797 129.441 780.214 Q126.385 775.608 126.385 766.881 Q126.385 758.131 129.441 753.547 Q132.519 748.941 138.33 748.941 Z\" fill=\"#000000\" fill-rule=\"evenodd\" fill-opacity=\"1\" /><path clip-path=\"url(#clip890)\" d=\"M63.9319 413.21 Q60.3208 413.21 58.4921 416.775 Q56.6865 420.316 56.6865 427.446 Q56.6865 434.552 58.4921 438.117 Q60.3208 441.659 63.9319 441.659 Q67.5661 441.659 69.3717 438.117 Q71.2004 434.552 71.2004 427.446 Q71.2004 420.316 69.3717 416.775 Q67.5661 413.21 63.9319 413.21 M63.9319 409.506 Q69.742 409.506 72.7976 414.113 Q75.8763 418.696 75.8763 427.446 Q75.8763 436.173 72.7976 440.779 Q69.742 445.362 63.9319 445.362 Q58.1217 445.362 55.043 440.779 Q51.9875 436.173 51.9875 427.446 Q51.9875 418.696 55.043 414.113 Q58.1217 409.506 63.9319 409.506 Z\" fill=\"#000000\" fill-rule=\"evenodd\" fill-opacity=\"1\" /><path clip-path=\"url(#clip890)\" d=\"M84.0938 438.812 L88.978 438.812 L88.978 444.691 L84.0938 444.691 L84.0938 438.812 Z\" fill=\"#000000\" fill-rule=\"evenodd\" fill-opacity=\"1\" /><path clip-path=\"url(#clip890)\" d=\"M97.9826 410.131 L120.205 410.131 L120.205 412.122 L107.658 444.691 L102.774 444.691 L114.58 414.066 L97.9826 414.066 L97.9826 410.131 Z\" fill=\"#000000\" fill-rule=\"evenodd\" fill-opacity=\"1\" /><path clip-path=\"url(#clip890)\" d=\"M129.371 410.131 L147.728 410.131 L147.728 414.066 L133.654 414.066 L133.654 422.538 Q134.672 422.191 135.691 422.029 Q136.709 421.844 137.728 421.844 Q143.515 421.844 146.894 425.015 Q150.274 428.187 150.274 433.603 Q150.274 439.182 146.802 442.284 Q143.33 445.362 137.01 445.362 Q134.834 445.362 132.566 444.992 Q130.32 444.622 127.913 443.881 L127.913 439.182 Q129.996 440.316 132.219 440.872 Q134.441 441.427 136.918 441.427 Q140.922 441.427 143.26 439.321 Q145.598 437.214 145.598 433.603 Q145.598 429.992 143.26 427.886 Q140.922 425.779 136.918 425.779 Q135.043 425.779 133.168 426.196 Q131.316 426.613 129.371 427.492 L129.371 410.131 Z\" fill=\"#000000\" fill-rule=\"evenodd\" fill-opacity=\"1\" /><path clip-path=\"url(#clip890)\" d=\"M53.7467 101.321 L61.3856 101.321 L61.3856 74.9555 L53.0754 76.6222 L53.0754 72.3629 L61.3393 70.6963 L66.0152 70.6963 L66.0152 101.321 L73.654 101.321 L73.654 105.256 L53.7467 105.256 L53.7467 101.321 Z\" fill=\"#000000\" fill-rule=\"evenodd\" fill-opacity=\"1\" /><path clip-path=\"url(#clip890)\" d=\"M83.0984 99.3767 L87.9827 99.3767 L87.9827 105.256 L83.0984 105.256 L83.0984 99.3767 Z\" fill=\"#000000\" fill-rule=\"evenodd\" fill-opacity=\"1\" /><path clip-path=\"url(#clip890)\" d=\"M108.168 73.775 Q104.557 73.775 102.728 77.3398 Q100.922 80.8814 100.922 88.011 Q100.922 95.1174 102.728 98.6822 Q104.557 102.224 108.168 102.224 Q111.802 102.224 113.608 98.6822 Q115.436 95.1174 115.436 88.011 Q115.436 80.8814 113.608 77.3398 Q111.802 73.775 108.168 73.775 M108.168 70.0713 Q113.978 70.0713 117.033 74.6777 Q120.112 79.261 120.112 88.011 Q120.112 96.7378 117.033 101.344 Q113.978 105.928 108.168 105.928 Q102.358 105.928 99.2789 101.344 Q96.2234 96.7378 96.2234 88.011 Q96.2234 79.261 99.2789 74.6777 Q102.358 70.0713 108.168 70.0713 Z\" fill=\"#000000\" fill-rule=\"evenodd\" fill-opacity=\"1\" /><path clip-path=\"url(#clip890)\" d=\"M138.33 73.775 Q134.719 73.775 132.89 77.3398 Q131.084 80.8814 131.084 88.011 Q131.084 95.1174 132.89 98.6822 Q134.719 102.224 138.33 102.224 Q141.964 102.224 143.769 98.6822 Q145.598 95.1174 145.598 88.011 Q145.598 80.8814 143.769 77.3398 Q141.964 73.775 138.33 73.775 M138.33 70.0713 Q144.14 70.0713 147.195 74.6777 Q150.274 79.261 150.274 88.011 Q150.274 96.7378 147.195 101.344 Q144.14 105.928 138.33 105.928 Q132.519 105.928 129.441 101.344 Q126.385 96.7378 126.385 88.011 Q126.385 79.261 129.441 74.6777 Q132.519 70.0713 138.33 70.0713 Z\" fill=\"#000000\" fill-rule=\"evenodd\" fill-opacity=\"1\" /><polyline clip-path=\"url(#clip892)\" style=\"stroke:#009af9; stroke-linecap:butt; stroke-linejoin:round; stroke-width:4; stroke-opacity:1; fill:none\" points=\"\n",
       "  247.59,1445.72 758.552,1445.72 1269.51,1445.72 1780.48,1445.72 2291.44,1445.72 \n",
       "  \"/>\n",
       "<polyline clip-path=\"url(#clip892)\" style=\"stroke:#e26f46; stroke-linecap:butt; stroke-linejoin:round; stroke-width:4; stroke-opacity:1; fill:none\" points=\"\n",
       "  247.59,1445.72 758.552,1445.72 1269.51,1445.72 1780.48,1445.72 2291.44,1445.72 \n",
       "  \"/>\n",
       "<polyline clip-path=\"url(#clip892)\" style=\"stroke:#3da44d; stroke-linecap:butt; stroke-linejoin:round; stroke-width:4; stroke-opacity:1; fill:none\" points=\"\n",
       "  247.59,1445.72 758.552,1445.72 1269.51,1445.72 1780.48,1445.72 2291.44,1445.72 \n",
       "  \"/>\n",
       "<polyline clip-path=\"url(#clip892)\" style=\"stroke:#c271d2; stroke-linecap:butt; stroke-linejoin:round; stroke-width:4; stroke-opacity:1; fill:none\" points=\"\n",
       "  247.59,1445.72 758.552,1445.72 1269.51,1445.72 1780.48,1445.72 2291.44,1445.72 \n",
       "  \"/>\n",
       "<path clip-path=\"url(#clip890)\" d=\"\n",
       "M1985.68 397.618 L2280.54 397.618 L2280.54 95.2176 L1985.68 95.2176  Z\n",
       "  \" fill=\"#ffffff\" fill-rule=\"evenodd\" fill-opacity=\"1\"/>\n",
       "<polyline clip-path=\"url(#clip890)\" style=\"stroke:#000000; stroke-linecap:butt; stroke-linejoin:round; stroke-width:4; stroke-opacity:1; fill:none\" points=\"\n",
       "  1985.68,397.618 2280.54,397.618 2280.54,95.2176 1985.68,95.2176 1985.68,397.618 \n",
       "  \"/>\n",
       "<polyline clip-path=\"url(#clip890)\" style=\"stroke:#009af9; stroke-linecap:butt; stroke-linejoin:round; stroke-width:4; stroke-opacity:1; fill:none\" points=\"\n",
       "  2009.75,155.698 2154.18,155.698 \n",
       "  \"/>\n",
       "<path clip-path=\"url(#clip890)\" d=\"M2192.1 175.385 Q2190.29 180.015 2188.58 181.427 Q2186.86 182.839 2183.99 182.839 L2180.59 182.839 L2180.59 179.274 L2183.09 179.274 Q2184.85 179.274 2185.82 178.44 Q2186.79 177.607 2187.97 174.505 L2188.74 172.561 L2178.25 147.052 L2182.77 147.052 L2190.87 167.329 L2198.97 147.052 L2203.48 147.052 L2192.1 175.385 Z\" fill=\"#000000\" fill-rule=\"evenodd\" fill-opacity=\"1\" /><path clip-path=\"url(#clip890)\" d=\"M2210.78 169.042 L2218.41 169.042 L2218.41 142.677 L2210.1 144.343 L2210.1 140.084 L2218.37 138.418 L2223.04 138.418 L2223.04 169.042 L2230.68 169.042 L2230.68 172.978 L2210.78 172.978 L2210.78 169.042 Z\" fill=\"#000000\" fill-rule=\"evenodd\" fill-opacity=\"1\" /><polyline clip-path=\"url(#clip890)\" style=\"stroke:#e26f46; stroke-linecap:butt; stroke-linejoin:round; stroke-width:4; stroke-opacity:1; fill:none\" points=\"\n",
       "  2009.75,216.178 2154.18,216.178 \n",
       "  \"/>\n",
       "<path clip-path=\"url(#clip890)\" d=\"M2192.1 235.865 Q2190.29 240.495 2188.58 241.907 Q2186.86 243.319 2183.99 243.319 L2180.59 243.319 L2180.59 239.754 L2183.09 239.754 Q2184.85 239.754 2185.82 238.92 Q2186.79 238.087 2187.97 234.985 L2188.74 233.041 L2178.25 207.532 L2182.77 207.532 L2190.87 227.809 L2198.97 207.532 L2203.48 207.532 L2192.1 235.865 Z\" fill=\"#000000\" fill-rule=\"evenodd\" fill-opacity=\"1\" /><path clip-path=\"url(#clip890)\" d=\"M2213.99 229.522 L2230.31 229.522 L2230.31 233.458 L2208.37 233.458 L2208.37 229.522 Q2211.03 226.768 2215.61 222.138 Q2220.22 217.485 2221.4 216.143 Q2223.65 213.62 2224.53 211.884 Q2225.43 210.124 2225.43 208.435 Q2225.43 205.68 2223.48 203.944 Q2221.56 202.208 2218.46 202.208 Q2216.26 202.208 2213.81 202.972 Q2211.38 203.735 2208.6 205.286 L2208.6 200.564 Q2211.42 199.43 2213.88 198.851 Q2216.33 198.273 2218.37 198.273 Q2223.74 198.273 2226.93 200.958 Q2230.13 203.643 2230.13 208.134 Q2230.13 210.263 2229.32 212.185 Q2228.53 214.083 2226.42 216.675 Q2225.84 217.347 2222.74 220.564 Q2219.64 223.759 2213.99 229.522 Z\" fill=\"#000000\" fill-rule=\"evenodd\" fill-opacity=\"1\" /><polyline clip-path=\"url(#clip890)\" style=\"stroke:#3da44d; stroke-linecap:butt; stroke-linejoin:round; stroke-width:4; stroke-opacity:1; fill:none\" points=\"\n",
       "  2009.75,276.658 2154.18,276.658 \n",
       "  \"/>\n",
       "<path clip-path=\"url(#clip890)\" d=\"M2192.1 296.345 Q2190.29 300.975 2188.58 302.387 Q2186.86 303.799 2183.99 303.799 L2180.59 303.799 L2180.59 300.234 L2183.09 300.234 Q2184.85 300.234 2185.82 299.4 Q2186.79 298.567 2187.97 295.465 L2188.74 293.521 L2178.25 268.012 L2182.77 268.012 L2190.87 288.289 L2198.97 268.012 L2203.48 268.012 L2192.1 296.345 Z\" fill=\"#000000\" fill-rule=\"evenodd\" fill-opacity=\"1\" /><path clip-path=\"url(#clip890)\" d=\"M2224.13 275.303 Q2227.49 276.021 2229.36 278.289 Q2231.26 280.558 2231.26 283.891 Q2231.26 289.007 2227.74 291.808 Q2224.22 294.609 2217.74 294.609 Q2215.57 294.609 2213.25 294.169 Q2210.96 293.752 2208.51 292.896 L2208.51 288.382 Q2210.45 289.516 2212.77 290.095 Q2215.08 290.674 2217.6 290.674 Q2222 290.674 2224.29 288.938 Q2226.61 287.201 2226.61 283.891 Q2226.61 280.836 2224.46 279.123 Q2222.33 277.387 2218.51 277.387 L2214.48 277.387 L2214.48 273.544 L2218.69 273.544 Q2222.14 273.544 2223.97 272.178 Q2225.8 270.79 2225.8 268.197 Q2225.8 265.535 2223.9 264.123 Q2222.03 262.688 2218.51 262.688 Q2216.59 262.688 2214.39 263.104 Q2212.19 263.521 2209.55 264.401 L2209.55 260.234 Q2212.21 259.493 2214.53 259.123 Q2216.86 258.753 2218.92 258.753 Q2224.25 258.753 2227.35 261.183 Q2230.45 263.59 2230.45 267.711 Q2230.45 270.581 2228.81 272.572 Q2227.16 274.54 2224.13 275.303 Z\" fill=\"#000000\" fill-rule=\"evenodd\" fill-opacity=\"1\" /><polyline clip-path=\"url(#clip890)\" style=\"stroke:#c271d2; stroke-linecap:butt; stroke-linejoin:round; stroke-width:4; stroke-opacity:1; fill:none\" points=\"\n",
       "  2009.75,337.138 2154.18,337.138 \n",
       "  \"/>\n",
       "<path clip-path=\"url(#clip890)\" d=\"M2192.1 356.825 Q2190.29 361.455 2188.58 362.867 Q2186.86 364.279 2183.99 364.279 L2180.59 364.279 L2180.59 360.714 L2183.09 360.714 Q2184.85 360.714 2185.82 359.88 Q2186.79 359.047 2187.97 355.945 L2188.74 354.001 L2178.25 328.492 L2182.77 328.492 L2190.87 348.769 L2198.97 328.492 L2203.48 328.492 L2192.1 356.825 Z\" fill=\"#000000\" fill-rule=\"evenodd\" fill-opacity=\"1\" /><path clip-path=\"url(#clip890)\" d=\"M2222.81 323.932 L2211.01 342.381 L2222.81 342.381 L2222.81 323.932 M2221.59 319.858 L2227.47 319.858 L2227.47 342.381 L2232.4 342.381 L2232.4 346.269 L2227.47 346.269 L2227.47 354.418 L2222.81 354.418 L2222.81 346.269 L2207.21 346.269 L2207.21 341.756 L2221.59 319.858 Z\" fill=\"#000000\" fill-rule=\"evenodd\" fill-opacity=\"1\" /></svg>\n"
      ]
     },
     "execution_count": 37,
     "metadata": {},
     "output_type": "execute_result"
    }
   ],
   "source": [
    "plot(s_vals')"
   ]
  },
  {
   "cell_type": "code",
   "execution_count": 38,
   "metadata": {},
   "outputs": [
    {
     "data": {
      "image/svg+xml": [
       "<?xml version=\"1.0\" encoding=\"utf-8\"?>\n",
       "<svg xmlns=\"http://www.w3.org/2000/svg\" xmlns:xlink=\"http://www.w3.org/1999/xlink\" width=\"600\" height=\"400\" viewBox=\"0 0 2400 1600\">\n",
       "<defs>\n",
       "  <clipPath id=\"clip930\">\n",
       "    <rect x=\"0\" y=\"0\" width=\"2400\" height=\"1600\"/>\n",
       "  </clipPath>\n",
       "</defs>\n",
       "<path clip-path=\"url(#clip930)\" d=\"\n",
       "M0 1600 L2400 1600 L2400 0 L0 0  Z\n",
       "  \" fill=\"#ffffff\" fill-rule=\"evenodd\" fill-opacity=\"1\"/>\n",
       "<defs>\n",
       "  <clipPath id=\"clip931\">\n",
       "    <rect x=\"480\" y=\"0\" width=\"1681\" height=\"1600\"/>\n",
       "  </clipPath>\n",
       "</defs>\n",
       "<path clip-path=\"url(#clip930)\" d=\"\n",
       "M186.274 1486.45 L2352.76 1486.45 L2352.76 47.2441 L186.274 47.2441  Z\n",
       "  \" fill=\"#ffffff\" fill-rule=\"evenodd\" fill-opacity=\"1\"/>\n",
       "<defs>\n",
       "  <clipPath id=\"clip932\">\n",
       "    <rect x=\"186\" y=\"47\" width=\"2167\" height=\"1440\"/>\n",
       "  </clipPath>\n",
       "</defs>\n",
       "<polyline clip-path=\"url(#clip932)\" style=\"stroke:#000000; stroke-linecap:butt; stroke-linejoin:round; stroke-width:2; stroke-opacity:0.1; fill:none\" points=\"\n",
       "  247.59,1486.45 247.59,47.2441 \n",
       "  \"/>\n",
       "<polyline clip-path=\"url(#clip932)\" style=\"stroke:#000000; stroke-linecap:butt; stroke-linejoin:round; stroke-width:2; stroke-opacity:0.1; fill:none\" points=\"\n",
       "  758.552,1486.45 758.552,47.2441 \n",
       "  \"/>\n",
       "<polyline clip-path=\"url(#clip932)\" style=\"stroke:#000000; stroke-linecap:butt; stroke-linejoin:round; stroke-width:2; stroke-opacity:0.1; fill:none\" points=\"\n",
       "  1269.51,1486.45 1269.51,47.2441 \n",
       "  \"/>\n",
       "<polyline clip-path=\"url(#clip932)\" style=\"stroke:#000000; stroke-linecap:butt; stroke-linejoin:round; stroke-width:2; stroke-opacity:0.1; fill:none\" points=\"\n",
       "  1780.48,1486.45 1780.48,47.2441 \n",
       "  \"/>\n",
       "<polyline clip-path=\"url(#clip932)\" style=\"stroke:#000000; stroke-linecap:butt; stroke-linejoin:round; stroke-width:2; stroke-opacity:0.1; fill:none\" points=\"\n",
       "  2291.44,1486.45 2291.44,47.2441 \n",
       "  \"/>\n",
       "<polyline clip-path=\"url(#clip930)\" style=\"stroke:#000000; stroke-linecap:butt; stroke-linejoin:round; stroke-width:4; stroke-opacity:1; fill:none\" points=\"\n",
       "  186.274,1486.45 2352.76,1486.45 \n",
       "  \"/>\n",
       "<polyline clip-path=\"url(#clip930)\" style=\"stroke:#000000; stroke-linecap:butt; stroke-linejoin:round; stroke-width:4; stroke-opacity:1; fill:none\" points=\"\n",
       "  247.59,1486.45 247.59,1469.18 \n",
       "  \"/>\n",
       "<polyline clip-path=\"url(#clip930)\" style=\"stroke:#000000; stroke-linecap:butt; stroke-linejoin:round; stroke-width:4; stroke-opacity:1; fill:none\" points=\"\n",
       "  758.552,1486.45 758.552,1469.18 \n",
       "  \"/>\n",
       "<polyline clip-path=\"url(#clip930)\" style=\"stroke:#000000; stroke-linecap:butt; stroke-linejoin:round; stroke-width:4; stroke-opacity:1; fill:none\" points=\"\n",
       "  1269.51,1486.45 1269.51,1469.18 \n",
       "  \"/>\n",
       "<polyline clip-path=\"url(#clip930)\" style=\"stroke:#000000; stroke-linecap:butt; stroke-linejoin:round; stroke-width:4; stroke-opacity:1; fill:none\" points=\"\n",
       "  1780.48,1486.45 1780.48,1469.18 \n",
       "  \"/>\n",
       "<polyline clip-path=\"url(#clip930)\" style=\"stroke:#000000; stroke-linecap:butt; stroke-linejoin:round; stroke-width:4; stroke-opacity:1; fill:none\" points=\"\n",
       "  2291.44,1486.45 2291.44,1469.18 \n",
       "  \"/>\n",
       "<path clip-path=\"url(#clip930)\" d=\"M237.972 1543.18 L245.61 1543.18 L245.61 1516.82 L237.3 1518.49 L237.3 1514.23 L245.564 1512.56 L250.24 1512.56 L250.24 1543.18 L257.879 1543.18 L257.879 1547.12 L237.972 1547.12 L237.972 1543.18 Z\" fill=\"#000000\" fill-rule=\"evenodd\" fill-opacity=\"1\" /><path clip-path=\"url(#clip930)\" d=\"M753.205 1543.18 L769.524 1543.18 L769.524 1547.12 L747.58 1547.12 L747.58 1543.18 Q750.242 1540.43 754.825 1535.8 Q759.432 1531.15 760.612 1529.81 Q762.858 1527.28 763.737 1525.55 Q764.64 1523.79 764.64 1522.1 Q764.64 1519.34 762.696 1517.61 Q760.774 1515.87 757.673 1515.87 Q755.474 1515.87 753.02 1516.63 Q750.589 1517.4 747.812 1518.95 L747.812 1514.23 Q750.636 1513.09 753.089 1512.51 Q755.543 1511.93 757.58 1511.93 Q762.95 1511.93 766.145 1514.62 Q769.339 1517.31 769.339 1521.8 Q769.339 1523.93 768.529 1525.85 Q767.742 1527.74 765.636 1530.34 Q765.057 1531.01 761.955 1534.23 Q758.853 1537.42 753.205 1543.18 Z\" fill=\"#000000\" fill-rule=\"evenodd\" fill-opacity=\"1\" /><path clip-path=\"url(#clip930)\" d=\"M1273.76 1528.49 Q1277.12 1529.2 1278.99 1531.47 Q1280.89 1533.74 1280.89 1537.07 Q1280.89 1542.19 1277.37 1544.99 Q1273.86 1547.79 1267.37 1547.79 Q1265.2 1547.79 1262.88 1547.35 Q1260.59 1546.93 1258.14 1546.08 L1258.14 1541.56 Q1260.08 1542.7 1262.4 1543.28 Q1264.71 1543.86 1267.23 1543.86 Q1271.63 1543.86 1273.92 1542.12 Q1276.24 1540.38 1276.24 1537.07 Q1276.24 1534.02 1274.09 1532.31 Q1271.96 1530.57 1268.14 1530.57 L1264.11 1530.57 L1264.11 1526.73 L1268.32 1526.73 Q1271.77 1526.73 1273.6 1525.36 Q1275.43 1523.97 1275.43 1521.38 Q1275.43 1518.72 1273.53 1517.31 Q1271.66 1515.87 1268.14 1515.87 Q1266.22 1515.87 1264.02 1516.29 Q1261.82 1516.7 1259.18 1517.58 L1259.18 1513.42 Q1261.84 1512.68 1264.16 1512.31 Q1266.49 1511.93 1268.55 1511.93 Q1273.88 1511.93 1276.98 1514.37 Q1280.08 1516.77 1280.08 1520.89 Q1280.08 1523.76 1278.44 1525.75 Q1276.8 1527.72 1273.76 1528.49 Z\" fill=\"#000000\" fill-rule=\"evenodd\" fill-opacity=\"1\" /><path clip-path=\"url(#clip930)\" d=\"M1783.49 1516.63 L1771.68 1535.08 L1783.49 1535.08 L1783.49 1516.63 M1782.26 1512.56 L1788.14 1512.56 L1788.14 1535.08 L1793.07 1535.08 L1793.07 1538.97 L1788.14 1538.97 L1788.14 1547.12 L1783.49 1547.12 L1783.49 1538.97 L1767.89 1538.97 L1767.89 1534.46 L1782.26 1512.56 Z\" fill=\"#000000\" fill-rule=\"evenodd\" fill-opacity=\"1\" /><path clip-path=\"url(#clip930)\" d=\"M2281.72 1512.56 L2300.07 1512.56 L2300.07 1516.5 L2286 1516.5 L2286 1524.97 Q2287.02 1524.62 2288.04 1524.46 Q2289.06 1524.27 2290.07 1524.27 Q2295.86 1524.27 2299.24 1527.44 Q2302.62 1530.62 2302.62 1536.03 Q2302.62 1541.61 2299.15 1544.71 Q2295.68 1547.79 2289.36 1547.79 Q2287.18 1547.79 2284.91 1547.42 Q2282.67 1547.05 2280.26 1546.31 L2280.26 1541.61 Q2282.34 1542.74 2284.57 1543.3 Q2286.79 1543.86 2289.26 1543.86 Q2293.27 1543.86 2295.61 1541.75 Q2297.94 1539.64 2297.94 1536.03 Q2297.94 1532.42 2295.61 1530.31 Q2293.27 1528.21 2289.26 1528.21 Q2287.39 1528.21 2285.51 1528.62 Q2283.66 1529.04 2281.72 1529.92 L2281.72 1512.56 Z\" fill=\"#000000\" fill-rule=\"evenodd\" fill-opacity=\"1\" /><polyline clip-path=\"url(#clip932)\" style=\"stroke:#000000; stroke-linecap:butt; stroke-linejoin:round; stroke-width:2; stroke-opacity:0.1; fill:none\" points=\"\n",
       "  186.274,1445.72 2352.76,1445.72 \n",
       "  \"/>\n",
       "<polyline clip-path=\"url(#clip932)\" style=\"stroke:#000000; stroke-linecap:butt; stroke-linejoin:round; stroke-width:2; stroke-opacity:0.1; fill:none\" points=\"\n",
       "  186.274,1106.28 2352.76,1106.28 \n",
       "  \"/>\n",
       "<polyline clip-path=\"url(#clip932)\" style=\"stroke:#000000; stroke-linecap:butt; stroke-linejoin:round; stroke-width:2; stroke-opacity:0.1; fill:none\" points=\"\n",
       "  186.274,766.846 2352.76,766.846 \n",
       "  \"/>\n",
       "<polyline clip-path=\"url(#clip932)\" style=\"stroke:#000000; stroke-linecap:butt; stroke-linejoin:round; stroke-width:2; stroke-opacity:0.1; fill:none\" points=\"\n",
       "  186.274,427.411 2352.76,427.411 \n",
       "  \"/>\n",
       "<polyline clip-path=\"url(#clip932)\" style=\"stroke:#000000; stroke-linecap:butt; stroke-linejoin:round; stroke-width:2; stroke-opacity:0.1; fill:none\" points=\"\n",
       "  186.274,87.9763 2352.76,87.9763 \n",
       "  \"/>\n",
       "<polyline clip-path=\"url(#clip930)\" style=\"stroke:#000000; stroke-linecap:butt; stroke-linejoin:round; stroke-width:4; stroke-opacity:1; fill:none\" points=\"\n",
       "  186.274,1486.45 186.274,47.2441 \n",
       "  \"/>\n",
       "<polyline clip-path=\"url(#clip930)\" style=\"stroke:#000000; stroke-linecap:butt; stroke-linejoin:round; stroke-width:4; stroke-opacity:1; fill:none\" points=\"\n",
       "  186.274,1445.72 212.272,1445.72 \n",
       "  \"/>\n",
       "<polyline clip-path=\"url(#clip930)\" style=\"stroke:#000000; stroke-linecap:butt; stroke-linejoin:round; stroke-width:4; stroke-opacity:1; fill:none\" points=\"\n",
       "  186.274,1106.28 212.272,1106.28 \n",
       "  \"/>\n",
       "<polyline clip-path=\"url(#clip930)\" style=\"stroke:#000000; stroke-linecap:butt; stroke-linejoin:round; stroke-width:4; stroke-opacity:1; fill:none\" points=\"\n",
       "  186.274,766.846 212.272,766.846 \n",
       "  \"/>\n",
       "<polyline clip-path=\"url(#clip930)\" style=\"stroke:#000000; stroke-linecap:butt; stroke-linejoin:round; stroke-width:4; stroke-opacity:1; fill:none\" points=\"\n",
       "  186.274,427.411 212.272,427.411 \n",
       "  \"/>\n",
       "<polyline clip-path=\"url(#clip930)\" style=\"stroke:#000000; stroke-linecap:butt; stroke-linejoin:round; stroke-width:4; stroke-opacity:1; fill:none\" points=\"\n",
       "  186.274,87.9763 212.272,87.9763 \n",
       "  \"/>\n",
       "<path clip-path=\"url(#clip930)\" d=\"M62.9365 1431.51 Q59.3254 1431.51 57.4967 1435.08 Q55.6912 1438.62 55.6912 1445.75 Q55.6912 1452.86 57.4967 1456.42 Q59.3254 1459.96 62.9365 1459.96 Q66.5707 1459.96 68.3763 1456.42 Q70.205 1452.86 70.205 1445.75 Q70.205 1438.62 68.3763 1435.08 Q66.5707 1431.51 62.9365 1431.51 M62.9365 1427.81 Q68.7467 1427.81 71.8022 1432.42 Q74.8809 1437 74.8809 1445.75 Q74.8809 1454.48 71.8022 1459.08 Q68.7467 1463.67 62.9365 1463.67 Q57.1264 1463.67 54.0477 1459.08 Q50.9921 1454.48 50.9921 1445.75 Q50.9921 1437 54.0477 1432.42 Q57.1264 1427.81 62.9365 1427.81 Z\" fill=\"#000000\" fill-rule=\"evenodd\" fill-opacity=\"1\" /><path clip-path=\"url(#clip930)\" d=\"M83.0984 1457.12 L87.9827 1457.12 L87.9827 1463 L83.0984 1463 L83.0984 1457.12 Z\" fill=\"#000000\" fill-rule=\"evenodd\" fill-opacity=\"1\" /><path clip-path=\"url(#clip930)\" d=\"M108.168 1431.51 Q104.557 1431.51 102.728 1435.08 Q100.922 1438.62 100.922 1445.75 Q100.922 1452.86 102.728 1456.42 Q104.557 1459.96 108.168 1459.96 Q111.802 1459.96 113.608 1456.42 Q115.436 1452.86 115.436 1445.75 Q115.436 1438.62 113.608 1435.08 Q111.802 1431.51 108.168 1431.51 M108.168 1427.81 Q113.978 1427.81 117.033 1432.42 Q120.112 1437 120.112 1445.75 Q120.112 1454.48 117.033 1459.08 Q113.978 1463.67 108.168 1463.67 Q102.358 1463.67 99.2789 1459.08 Q96.2234 1454.48 96.2234 1445.75 Q96.2234 1437 99.2789 1432.42 Q102.358 1427.81 108.168 1427.81 Z\" fill=\"#000000\" fill-rule=\"evenodd\" fill-opacity=\"1\" /><path clip-path=\"url(#clip930)\" d=\"M138.33 1431.51 Q134.719 1431.51 132.89 1435.08 Q131.084 1438.62 131.084 1445.75 Q131.084 1452.86 132.89 1456.42 Q134.719 1459.96 138.33 1459.96 Q141.964 1459.96 143.769 1456.42 Q145.598 1452.86 145.598 1445.75 Q145.598 1438.62 143.769 1435.08 Q141.964 1431.51 138.33 1431.51 M138.33 1427.81 Q144.14 1427.81 147.195 1432.42 Q150.274 1437 150.274 1445.75 Q150.274 1454.48 147.195 1459.08 Q144.14 1463.67 138.33 1463.67 Q132.519 1463.67 129.441 1459.08 Q126.385 1454.48 126.385 1445.75 Q126.385 1437 129.441 1432.42 Q132.519 1427.81 138.33 1427.81 Z\" fill=\"#000000\" fill-rule=\"evenodd\" fill-opacity=\"1\" /><path clip-path=\"url(#clip930)\" d=\"M63.9319 1092.08 Q60.3208 1092.08 58.4921 1095.64 Q56.6865 1099.19 56.6865 1106.32 Q56.6865 1113.42 58.4921 1116.99 Q60.3208 1120.53 63.9319 1120.53 Q67.5661 1120.53 69.3717 1116.99 Q71.2004 1113.42 71.2004 1106.32 Q71.2004 1099.19 69.3717 1095.64 Q67.5661 1092.08 63.9319 1092.08 M63.9319 1088.38 Q69.742 1088.38 72.7976 1092.98 Q75.8763 1097.57 75.8763 1106.32 Q75.8763 1115.04 72.7976 1119.65 Q69.742 1124.23 63.9319 1124.23 Q58.1217 1124.23 55.043 1119.65 Q51.9875 1115.04 51.9875 1106.32 Q51.9875 1097.57 55.043 1092.98 Q58.1217 1088.38 63.9319 1088.38 Z\" fill=\"#000000\" fill-rule=\"evenodd\" fill-opacity=\"1\" /><path clip-path=\"url(#clip930)\" d=\"M84.0938 1117.68 L88.978 1117.68 L88.978 1123.56 L84.0938 1123.56 L84.0938 1117.68 Z\" fill=\"#000000\" fill-rule=\"evenodd\" fill-opacity=\"1\" /><path clip-path=\"url(#clip930)\" d=\"M103.191 1119.63 L119.51 1119.63 L119.51 1123.56 L97.566 1123.56 L97.566 1119.63 Q100.228 1116.87 104.811 1112.24 Q109.418 1107.59 110.598 1106.25 Q112.844 1103.72 113.723 1101.99 Q114.626 1100.23 114.626 1098.54 Q114.626 1095.78 112.682 1094.05 Q110.76 1092.31 107.658 1092.31 Q105.459 1092.31 103.006 1093.07 Q100.575 1093.84 97.7974 1095.39 L97.7974 1090.67 Q100.621 1089.53 103.075 1088.95 Q105.529 1088.38 107.566 1088.38 Q112.936 1088.38 116.131 1091.06 Q119.325 1093.75 119.325 1098.24 Q119.325 1100.37 118.515 1102.29 Q117.728 1104.19 115.621 1106.78 Q115.043 1107.45 111.941 1110.67 Q108.839 1113.86 103.191 1119.63 Z\" fill=\"#000000\" fill-rule=\"evenodd\" fill-opacity=\"1\" /><path clip-path=\"url(#clip930)\" d=\"M129.371 1089 L147.728 1089 L147.728 1092.94 L133.654 1092.94 L133.654 1101.41 Q134.672 1101.06 135.691 1100.9 Q136.709 1100.71 137.728 1100.71 Q143.515 1100.71 146.894 1103.89 Q150.274 1107.06 150.274 1112.47 Q150.274 1118.05 146.802 1121.15 Q143.33 1124.23 137.01 1124.23 Q134.834 1124.23 132.566 1123.86 Q130.32 1123.49 127.913 1122.75 L127.913 1118.05 Q129.996 1119.19 132.219 1119.74 Q134.441 1120.3 136.918 1120.3 Q140.922 1120.3 143.26 1118.19 Q145.598 1116.08 145.598 1112.47 Q145.598 1108.86 143.26 1106.76 Q140.922 1104.65 136.918 1104.65 Q135.043 1104.65 133.168 1105.07 Q131.316 1105.48 129.371 1106.36 L129.371 1089 Z\" fill=\"#000000\" fill-rule=\"evenodd\" fill-opacity=\"1\" /><path clip-path=\"url(#clip930)\" d=\"M62.9365 752.645 Q59.3254 752.645 57.4967 756.209 Q55.6912 759.751 55.6912 766.881 Q55.6912 773.987 57.4967 777.552 Q59.3254 781.094 62.9365 781.094 Q66.5707 781.094 68.3763 777.552 Q70.205 773.987 70.205 766.881 Q70.205 759.751 68.3763 756.209 Q66.5707 752.645 62.9365 752.645 M62.9365 748.941 Q68.7467 748.941 71.8022 753.547 Q74.8809 758.131 74.8809 766.881 Q74.8809 775.608 71.8022 780.214 Q68.7467 784.797 62.9365 784.797 Q57.1264 784.797 54.0477 780.214 Q50.9921 775.608 50.9921 766.881 Q50.9921 758.131 54.0477 753.547 Q57.1264 748.941 62.9365 748.941 Z\" fill=\"#000000\" fill-rule=\"evenodd\" fill-opacity=\"1\" /><path clip-path=\"url(#clip930)\" d=\"M83.0984 778.246 L87.9827 778.246 L87.9827 784.126 L83.0984 784.126 L83.0984 778.246 Z\" fill=\"#000000\" fill-rule=\"evenodd\" fill-opacity=\"1\" /><path clip-path=\"url(#clip930)\" d=\"M98.2141 749.566 L116.57 749.566 L116.57 753.501 L102.496 753.501 L102.496 761.973 Q103.515 761.626 104.534 761.464 Q105.552 761.279 106.571 761.279 Q112.358 761.279 115.737 764.45 Q119.117 767.621 119.117 773.038 Q119.117 778.617 115.645 781.719 Q112.172 784.797 105.853 784.797 Q103.677 784.797 101.409 784.427 Q99.1632 784.057 96.7558 783.316 L96.7558 778.617 Q98.8391 779.751 101.061 780.307 Q103.284 780.862 105.76 780.862 Q109.765 780.862 112.103 778.756 Q114.441 776.649 114.441 773.038 Q114.441 769.427 112.103 767.321 Q109.765 765.214 105.76 765.214 Q103.885 765.214 102.01 765.631 Q100.159 766.047 98.2141 766.927 L98.2141 749.566 Z\" fill=\"#000000\" fill-rule=\"evenodd\" fill-opacity=\"1\" /><path clip-path=\"url(#clip930)\" d=\"M138.33 752.645 Q134.719 752.645 132.89 756.209 Q131.084 759.751 131.084 766.881 Q131.084 773.987 132.89 777.552 Q134.719 781.094 138.33 781.094 Q141.964 781.094 143.769 777.552 Q145.598 773.987 145.598 766.881 Q145.598 759.751 143.769 756.209 Q141.964 752.645 138.33 752.645 M138.33 748.941 Q144.14 748.941 147.195 753.547 Q150.274 758.131 150.274 766.881 Q150.274 775.608 147.195 780.214 Q144.14 784.797 138.33 784.797 Q132.519 784.797 129.441 780.214 Q126.385 775.608 126.385 766.881 Q126.385 758.131 129.441 753.547 Q132.519 748.941 138.33 748.941 Z\" fill=\"#000000\" fill-rule=\"evenodd\" fill-opacity=\"1\" /><path clip-path=\"url(#clip930)\" d=\"M63.9319 413.21 Q60.3208 413.21 58.4921 416.775 Q56.6865 420.316 56.6865 427.446 Q56.6865 434.552 58.4921 438.117 Q60.3208 441.659 63.9319 441.659 Q67.5661 441.659 69.3717 438.117 Q71.2004 434.552 71.2004 427.446 Q71.2004 420.316 69.3717 416.775 Q67.5661 413.21 63.9319 413.21 M63.9319 409.506 Q69.742 409.506 72.7976 414.113 Q75.8763 418.696 75.8763 427.446 Q75.8763 436.173 72.7976 440.779 Q69.742 445.362 63.9319 445.362 Q58.1217 445.362 55.043 440.779 Q51.9875 436.173 51.9875 427.446 Q51.9875 418.696 55.043 414.113 Q58.1217 409.506 63.9319 409.506 Z\" fill=\"#000000\" fill-rule=\"evenodd\" fill-opacity=\"1\" /><path clip-path=\"url(#clip930)\" d=\"M84.0938 438.812 L88.978 438.812 L88.978 444.691 L84.0938 444.691 L84.0938 438.812 Z\" fill=\"#000000\" fill-rule=\"evenodd\" fill-opacity=\"1\" /><path clip-path=\"url(#clip930)\" d=\"M97.9826 410.131 L120.205 410.131 L120.205 412.122 L107.658 444.691 L102.774 444.691 L114.58 414.066 L97.9826 414.066 L97.9826 410.131 Z\" fill=\"#000000\" fill-rule=\"evenodd\" fill-opacity=\"1\" /><path clip-path=\"url(#clip930)\" d=\"M129.371 410.131 L147.728 410.131 L147.728 414.066 L133.654 414.066 L133.654 422.538 Q134.672 422.191 135.691 422.029 Q136.709 421.844 137.728 421.844 Q143.515 421.844 146.894 425.015 Q150.274 428.187 150.274 433.603 Q150.274 439.182 146.802 442.284 Q143.33 445.362 137.01 445.362 Q134.834 445.362 132.566 444.992 Q130.32 444.622 127.913 443.881 L127.913 439.182 Q129.996 440.316 132.219 440.872 Q134.441 441.427 136.918 441.427 Q140.922 441.427 143.26 439.321 Q145.598 437.214 145.598 433.603 Q145.598 429.992 143.26 427.886 Q140.922 425.779 136.918 425.779 Q135.043 425.779 133.168 426.196 Q131.316 426.613 129.371 427.492 L129.371 410.131 Z\" fill=\"#000000\" fill-rule=\"evenodd\" fill-opacity=\"1\" /><path clip-path=\"url(#clip930)\" d=\"M53.7467 101.321 L61.3856 101.321 L61.3856 74.9555 L53.0754 76.6222 L53.0754 72.3629 L61.3393 70.6963 L66.0152 70.6963 L66.0152 101.321 L73.654 101.321 L73.654 105.256 L53.7467 105.256 L53.7467 101.321 Z\" fill=\"#000000\" fill-rule=\"evenodd\" fill-opacity=\"1\" /><path clip-path=\"url(#clip930)\" d=\"M83.0984 99.3767 L87.9827 99.3767 L87.9827 105.256 L83.0984 105.256 L83.0984 99.3767 Z\" fill=\"#000000\" fill-rule=\"evenodd\" fill-opacity=\"1\" /><path clip-path=\"url(#clip930)\" d=\"M108.168 73.775 Q104.557 73.775 102.728 77.3398 Q100.922 80.8814 100.922 88.011 Q100.922 95.1174 102.728 98.6822 Q104.557 102.224 108.168 102.224 Q111.802 102.224 113.608 98.6822 Q115.436 95.1174 115.436 88.011 Q115.436 80.8814 113.608 77.3398 Q111.802 73.775 108.168 73.775 M108.168 70.0713 Q113.978 70.0713 117.033 74.6777 Q120.112 79.261 120.112 88.011 Q120.112 96.7378 117.033 101.344 Q113.978 105.928 108.168 105.928 Q102.358 105.928 99.2789 101.344 Q96.2234 96.7378 96.2234 88.011 Q96.2234 79.261 99.2789 74.6777 Q102.358 70.0713 108.168 70.0713 Z\" fill=\"#000000\" fill-rule=\"evenodd\" fill-opacity=\"1\" /><path clip-path=\"url(#clip930)\" d=\"M138.33 73.775 Q134.719 73.775 132.89 77.3398 Q131.084 80.8814 131.084 88.011 Q131.084 95.1174 132.89 98.6822 Q134.719 102.224 138.33 102.224 Q141.964 102.224 143.769 98.6822 Q145.598 95.1174 145.598 88.011 Q145.598 80.8814 143.769 77.3398 Q141.964 73.775 138.33 73.775 M138.33 70.0713 Q144.14 70.0713 147.195 74.6777 Q150.274 79.261 150.274 88.011 Q150.274 96.7378 147.195 101.344 Q144.14 105.928 138.33 105.928 Q132.519 105.928 129.441 101.344 Q126.385 96.7378 126.385 88.011 Q126.385 79.261 129.441 74.6777 Q132.519 70.0713 138.33 70.0713 Z\" fill=\"#000000\" fill-rule=\"evenodd\" fill-opacity=\"1\" /><polyline clip-path=\"url(#clip932)\" style=\"stroke:#009af9; stroke-linecap:butt; stroke-linejoin:round; stroke-width:4; stroke-opacity:1; fill:none\" points=\"\n",
       "  247.59,1445.72 758.552,1445.72 1269.51,1445.72 1780.48,1445.72 2291.44,1445.72 \n",
       "  \"/>\n",
       "<polyline clip-path=\"url(#clip932)\" style=\"stroke:#e26f46; stroke-linecap:butt; stroke-linejoin:round; stroke-width:4; stroke-opacity:1; fill:none\" points=\"\n",
       "  247.59,1445.72 758.552,1445.72 1269.51,1445.72 1780.48,1445.72 2291.44,1445.72 \n",
       "  \"/>\n",
       "<polyline clip-path=\"url(#clip932)\" style=\"stroke:#3da44d; stroke-linecap:butt; stroke-linejoin:round; stroke-width:4; stroke-opacity:1; fill:none\" points=\"\n",
       "  247.59,1445.72 758.552,1445.72 1269.51,1445.72 1780.48,1445.72 2291.44,1445.72 \n",
       "  \"/>\n",
       "<polyline clip-path=\"url(#clip932)\" style=\"stroke:#c271d2; stroke-linecap:butt; stroke-linejoin:round; stroke-width:4; stroke-opacity:1; fill:none\" points=\"\n",
       "  247.59,1445.72 758.552,1445.72 1269.51,1445.72 1780.48,1445.72 2291.44,1445.72 \n",
       "  \"/>\n",
       "<path clip-path=\"url(#clip930)\" d=\"\n",
       "M1985.68 397.618 L2280.54 397.618 L2280.54 95.2176 L1985.68 95.2176  Z\n",
       "  \" fill=\"#ffffff\" fill-rule=\"evenodd\" fill-opacity=\"1\"/>\n",
       "<polyline clip-path=\"url(#clip930)\" style=\"stroke:#000000; stroke-linecap:butt; stroke-linejoin:round; stroke-width:4; stroke-opacity:1; fill:none\" points=\"\n",
       "  1985.68,397.618 2280.54,397.618 2280.54,95.2176 1985.68,95.2176 1985.68,397.618 \n",
       "  \"/>\n",
       "<polyline clip-path=\"url(#clip930)\" style=\"stroke:#009af9; stroke-linecap:butt; stroke-linejoin:round; stroke-width:4; stroke-opacity:1; fill:none\" points=\"\n",
       "  2009.75,155.698 2154.18,155.698 \n",
       "  \"/>\n",
       "<path clip-path=\"url(#clip930)\" d=\"M2192.1 175.385 Q2190.29 180.015 2188.58 181.427 Q2186.86 182.839 2183.99 182.839 L2180.59 182.839 L2180.59 179.274 L2183.09 179.274 Q2184.85 179.274 2185.82 178.44 Q2186.79 177.607 2187.97 174.505 L2188.74 172.561 L2178.25 147.052 L2182.77 147.052 L2190.87 167.329 L2198.97 147.052 L2203.48 147.052 L2192.1 175.385 Z\" fill=\"#000000\" fill-rule=\"evenodd\" fill-opacity=\"1\" /><path clip-path=\"url(#clip930)\" d=\"M2210.78 169.042 L2218.41 169.042 L2218.41 142.677 L2210.1 144.343 L2210.1 140.084 L2218.37 138.418 L2223.04 138.418 L2223.04 169.042 L2230.68 169.042 L2230.68 172.978 L2210.78 172.978 L2210.78 169.042 Z\" fill=\"#000000\" fill-rule=\"evenodd\" fill-opacity=\"1\" /><polyline clip-path=\"url(#clip930)\" style=\"stroke:#e26f46; stroke-linecap:butt; stroke-linejoin:round; stroke-width:4; stroke-opacity:1; fill:none\" points=\"\n",
       "  2009.75,216.178 2154.18,216.178 \n",
       "  \"/>\n",
       "<path clip-path=\"url(#clip930)\" d=\"M2192.1 235.865 Q2190.29 240.495 2188.58 241.907 Q2186.86 243.319 2183.99 243.319 L2180.59 243.319 L2180.59 239.754 L2183.09 239.754 Q2184.85 239.754 2185.82 238.92 Q2186.79 238.087 2187.97 234.985 L2188.74 233.041 L2178.25 207.532 L2182.77 207.532 L2190.87 227.809 L2198.97 207.532 L2203.48 207.532 L2192.1 235.865 Z\" fill=\"#000000\" fill-rule=\"evenodd\" fill-opacity=\"1\" /><path clip-path=\"url(#clip930)\" d=\"M2213.99 229.522 L2230.31 229.522 L2230.31 233.458 L2208.37 233.458 L2208.37 229.522 Q2211.03 226.768 2215.61 222.138 Q2220.22 217.485 2221.4 216.143 Q2223.65 213.62 2224.53 211.884 Q2225.43 210.124 2225.43 208.435 Q2225.43 205.68 2223.48 203.944 Q2221.56 202.208 2218.46 202.208 Q2216.26 202.208 2213.81 202.972 Q2211.38 203.735 2208.6 205.286 L2208.6 200.564 Q2211.42 199.43 2213.88 198.851 Q2216.33 198.273 2218.37 198.273 Q2223.74 198.273 2226.93 200.958 Q2230.13 203.643 2230.13 208.134 Q2230.13 210.263 2229.32 212.185 Q2228.53 214.083 2226.42 216.675 Q2225.84 217.347 2222.74 220.564 Q2219.64 223.759 2213.99 229.522 Z\" fill=\"#000000\" fill-rule=\"evenodd\" fill-opacity=\"1\" /><polyline clip-path=\"url(#clip930)\" style=\"stroke:#3da44d; stroke-linecap:butt; stroke-linejoin:round; stroke-width:4; stroke-opacity:1; fill:none\" points=\"\n",
       "  2009.75,276.658 2154.18,276.658 \n",
       "  \"/>\n",
       "<path clip-path=\"url(#clip930)\" d=\"M2192.1 296.345 Q2190.29 300.975 2188.58 302.387 Q2186.86 303.799 2183.99 303.799 L2180.59 303.799 L2180.59 300.234 L2183.09 300.234 Q2184.85 300.234 2185.82 299.4 Q2186.79 298.567 2187.97 295.465 L2188.74 293.521 L2178.25 268.012 L2182.77 268.012 L2190.87 288.289 L2198.97 268.012 L2203.48 268.012 L2192.1 296.345 Z\" fill=\"#000000\" fill-rule=\"evenodd\" fill-opacity=\"1\" /><path clip-path=\"url(#clip930)\" d=\"M2224.13 275.303 Q2227.49 276.021 2229.36 278.289 Q2231.26 280.558 2231.26 283.891 Q2231.26 289.007 2227.74 291.808 Q2224.22 294.609 2217.74 294.609 Q2215.57 294.609 2213.25 294.169 Q2210.96 293.752 2208.51 292.896 L2208.51 288.382 Q2210.45 289.516 2212.77 290.095 Q2215.08 290.674 2217.6 290.674 Q2222 290.674 2224.29 288.938 Q2226.61 287.201 2226.61 283.891 Q2226.61 280.836 2224.46 279.123 Q2222.33 277.387 2218.51 277.387 L2214.48 277.387 L2214.48 273.544 L2218.69 273.544 Q2222.14 273.544 2223.97 272.178 Q2225.8 270.79 2225.8 268.197 Q2225.8 265.535 2223.9 264.123 Q2222.03 262.688 2218.51 262.688 Q2216.59 262.688 2214.39 263.104 Q2212.19 263.521 2209.55 264.401 L2209.55 260.234 Q2212.21 259.493 2214.53 259.123 Q2216.86 258.753 2218.92 258.753 Q2224.25 258.753 2227.35 261.183 Q2230.45 263.59 2230.45 267.711 Q2230.45 270.581 2228.81 272.572 Q2227.16 274.54 2224.13 275.303 Z\" fill=\"#000000\" fill-rule=\"evenodd\" fill-opacity=\"1\" /><polyline clip-path=\"url(#clip930)\" style=\"stroke:#c271d2; stroke-linecap:butt; stroke-linejoin:round; stroke-width:4; stroke-opacity:1; fill:none\" points=\"\n",
       "  2009.75,337.138 2154.18,337.138 \n",
       "  \"/>\n",
       "<path clip-path=\"url(#clip930)\" d=\"M2192.1 356.825 Q2190.29 361.455 2188.58 362.867 Q2186.86 364.279 2183.99 364.279 L2180.59 364.279 L2180.59 360.714 L2183.09 360.714 Q2184.85 360.714 2185.82 359.88 Q2186.79 359.047 2187.97 355.945 L2188.74 354.001 L2178.25 328.492 L2182.77 328.492 L2190.87 348.769 L2198.97 328.492 L2203.48 328.492 L2192.1 356.825 Z\" fill=\"#000000\" fill-rule=\"evenodd\" fill-opacity=\"1\" /><path clip-path=\"url(#clip930)\" d=\"M2222.81 323.932 L2211.01 342.381 L2222.81 342.381 L2222.81 323.932 M2221.59 319.858 L2227.47 319.858 L2227.47 342.381 L2232.4 342.381 L2232.4 346.269 L2227.47 346.269 L2227.47 354.418 L2222.81 354.418 L2222.81 346.269 L2207.21 346.269 L2207.21 341.756 L2221.59 319.858 Z\" fill=\"#000000\" fill-rule=\"evenodd\" fill-opacity=\"1\" /></svg>\n"
      ]
     },
     "execution_count": 38,
     "metadata": {},
     "output_type": "execute_result"
    }
   ],
   "source": [
    "plot(g_vals')"
   ]
  },
  {
   "cell_type": "code",
   "execution_count": 39,
   "metadata": {},
   "outputs": [
    {
     "ename": "LoadError",
     "evalue": "UndefVarError: dmin not defined",
     "output_type": "error",
     "traceback": [
      "UndefVarError: dmin not defined",
      "",
      "Stacktrace:",
      " [1] top-level scope",
      "   @ In[39]:1",
      " [2] eval",
      "   @ ./boot.jl:360 [inlined]",
      " [3] include_string(mapexpr::typeof(REPL.softscope), mod::Module, code::String, filename::String)",
      "   @ Base ./loading.jl:1094"
     ]
    }
   ],
   "source": [
    "x = flatten_variables_dyn(dmin);\n",
    "KKT = kkt_dyn(x, dnet, d_dyn);\n",
    "TOL=1e-6;\n",
    "\n",
    "@show norm(KKT)\n",
    "@show sum(abs.(KKT).>TOL);"
   ]
  },
  {
   "cell_type": "markdown",
   "metadata": {},
   "source": [
    "## Several timesteps, with battery capacity and varying demand"
   ]
  },
  {
   "cell_type": "code",
   "execution_count": 40,
   "metadata": {},
   "outputs": [],
   "source": [
    "T = 4\n",
    "\n",
    "cq_dyn = [cq for _ in 1:T]\n",
    "cl_dyn = [cl for _ in 1:T]\n",
    "pmax_dyn = [pmax for _ in 1:T]\n",
    "gmax_dyn = [gmax for _ in 1:T]\n",
    "d_dyn = [rand(Bernoulli(0.8), n) .* rand(Gamma(2.0, 2.0), n) for _ in 1:T]\n",
    "\n",
    "P = rand(Exponential(2), n)\n",
    "C = rand(Exponential(2), n)\n",
    ";"
   ]
  },
  {
   "cell_type": "code",
   "execution_count": 41,
   "metadata": {},
   "outputs": [
    {
     "ename": "LoadError",
     "evalue": "MethodError: no method matching DynamicPowerNetwork(::Vector{Vector{Float64}}, ::Vector{Vector{Float64}}, ::Vector{Vector{Float64}}, ::Vector{Vector{Float64}}, ::SparseMatrixCSC{Int64, Int64}, ::SparseMatrixCSC{Float64, Int64}, ::Vector{Float64}, ::Vector{Float64})\n\u001b[0mClosest candidates are:\n\u001b[0m  DynamicPowerNetwork(::Any, ::Any, ::Any, ::Any, ::Any, ::Any, ::Any, ::Any, \u001b[91m::Any\u001b[39m; τ) at /Users/lucasfuentes/Documents/Ideas/EnergyNetworks/CarbonNetworks.jl/src/dyn_model.jl:43\n\u001b[0m  DynamicPowerNetwork(::Any, ::Any, ::Any, ::Any, ::Any, ::Any, ::Any, ::Any, \u001b[91m::Any\u001b[39m, \u001b[91m::Any\u001b[39m) at /Users/lucasfuentes/Documents/Ideas/EnergyNetworks/CarbonNetworks.jl/src/dyn_model.jl:31",
     "output_type": "error",
     "traceback": [
      "MethodError: no method matching DynamicPowerNetwork(::Vector{Vector{Float64}}, ::Vector{Vector{Float64}}, ::Vector{Vector{Float64}}, ::Vector{Vector{Float64}}, ::SparseMatrixCSC{Int64, Int64}, ::SparseMatrixCSC{Float64, Int64}, ::Vector{Float64}, ::Vector{Float64})\n\u001b[0mClosest candidates are:\n\u001b[0m  DynamicPowerNetwork(::Any, ::Any, ::Any, ::Any, ::Any, ::Any, ::Any, ::Any, \u001b[91m::Any\u001b[39m; τ) at /Users/lucasfuentes/Documents/Ideas/EnergyNetworks/CarbonNetworks.jl/src/dyn_model.jl:43\n\u001b[0m  DynamicPowerNetwork(::Any, ::Any, ::Any, ::Any, ::Any, ::Any, ::Any, ::Any, \u001b[91m::Any\u001b[39m, \u001b[91m::Any\u001b[39m) at /Users/lucasfuentes/Documents/Ideas/EnergyNetworks/CarbonNetworks.jl/src/dyn_model.jl:31",
      "",
      "Stacktrace:",
      " [1] top-level scope",
      "   @ In[41]:1",
      " [2] eval",
      "   @ ./boot.jl:360 [inlined]",
      " [3] include_string(mapexpr::typeof(REPL.softscope), mod::Module, code::String, filename::String)",
      "   @ Base ./loading.jl:1094"
     ]
    }
   ],
   "source": [
    "dnet = DynamicPowerNetwork(\n",
    "    cq_dyn, cl_dyn, pmax_dyn, gmax_dyn, A, B, P, C\n",
    ")\n",
    "dmin = DynamicPowerManagementProblem(dnet, d_dyn);"
   ]
  },
  {
   "cell_type": "code",
   "execution_count": 42,
   "metadata": {},
   "outputs": [
    {
     "ename": "LoadError",
     "evalue": "UndefVarError: dmin not defined",
     "output_type": "error",
     "traceback": [
      "UndefVarError: dmin not defined",
      "",
      "Stacktrace:",
      " [1] top-level scope",
      "   @ In[42]:1",
      " [2] eval",
      "   @ ./boot.jl:360 [inlined]",
      " [3] include_string(mapexpr::typeof(REPL.softscope), mod::Module, code::String, filename::String)",
      "   @ Base ./loading.jl:1094"
     ]
    }
   ],
   "source": [
    "solve!(dmin, OPT, verbose=true);"
   ]
  },
  {
   "cell_type": "code",
   "execution_count": 43,
   "metadata": {},
   "outputs": [
    {
     "ename": "LoadError",
     "evalue": "UndefVarError: dmin not defined",
     "output_type": "error",
     "traceback": [
      "UndefVarError: dmin not defined",
      "",
      "Stacktrace:",
      " [1] top-level scope",
      "   @ ./In[43]:4",
      " [2] eval",
      "   @ ./boot.jl:360 [inlined]",
      " [3] include_string(mapexpr::typeof(REPL.softscope), mod::Module, code::String, filename::String)",
      "   @ Base ./loading.jl:1094"
     ]
    }
   ],
   "source": [
    "s_vals = zeros(n, T)\n",
    "g_vals = zeros(l, T)\n",
    "for t in 1:T\n",
    "    s_vals[:, t] = dmin.s[t].value\n",
    "    g_vals[:, t] = dmin.g[t].value\n",
    "end"
   ]
  },
  {
   "cell_type": "code",
   "execution_count": 44,
   "metadata": {},
   "outputs": [
    {
     "data": {
      "image/svg+xml": [
       "<?xml version=\"1.0\" encoding=\"utf-8\"?>\n",
       "<svg xmlns=\"http://www.w3.org/2000/svg\" xmlns:xlink=\"http://www.w3.org/1999/xlink\" width=\"600\" height=\"400\" viewBox=\"0 0 2400 1600\">\n",
       "<defs>\n",
       "  <clipPath id=\"clip970\">\n",
       "    <rect x=\"0\" y=\"0\" width=\"2400\" height=\"1600\"/>\n",
       "  </clipPath>\n",
       "</defs>\n",
       "<path clip-path=\"url(#clip970)\" d=\"\n",
       "M0 1600 L2400 1600 L2400 0 L0 0  Z\n",
       "  \" fill=\"#ffffff\" fill-rule=\"evenodd\" fill-opacity=\"1\"/>\n",
       "<defs>\n",
       "  <clipPath id=\"clip971\">\n",
       "    <rect x=\"480\" y=\"0\" width=\"1681\" height=\"1600\"/>\n",
       "  </clipPath>\n",
       "</defs>\n",
       "<path clip-path=\"url(#clip970)\" d=\"\n",
       "M249.542 1423.18 L2352.76 1423.18 L2352.76 47.2441 L249.542 47.2441  Z\n",
       "  \" fill=\"#ffffff\" fill-rule=\"evenodd\" fill-opacity=\"1\"/>\n",
       "<defs>\n",
       "  <clipPath id=\"clip972\">\n",
       "    <rect x=\"249\" y=\"47\" width=\"2104\" height=\"1377\"/>\n",
       "  </clipPath>\n",
       "</defs>\n",
       "<polyline clip-path=\"url(#clip972)\" style=\"stroke:#000000; stroke-linecap:butt; stroke-linejoin:round; stroke-width:2; stroke-opacity:0.1; fill:none\" points=\"\n",
       "  309.067,1423.18 309.067,47.2441 \n",
       "  \"/>\n",
       "<polyline clip-path=\"url(#clip972)\" style=\"stroke:#000000; stroke-linecap:butt; stroke-linejoin:round; stroke-width:2; stroke-opacity:0.1; fill:none\" points=\"\n",
       "  970.455,1423.18 970.455,47.2441 \n",
       "  \"/>\n",
       "<polyline clip-path=\"url(#clip972)\" style=\"stroke:#000000; stroke-linecap:butt; stroke-linejoin:round; stroke-width:2; stroke-opacity:0.1; fill:none\" points=\"\n",
       "  1631.84,1423.18 1631.84,47.2441 \n",
       "  \"/>\n",
       "<polyline clip-path=\"url(#clip972)\" style=\"stroke:#000000; stroke-linecap:butt; stroke-linejoin:round; stroke-width:2; stroke-opacity:0.1; fill:none\" points=\"\n",
       "  2293.23,1423.18 2293.23,47.2441 \n",
       "  \"/>\n",
       "<polyline clip-path=\"url(#clip970)\" style=\"stroke:#000000; stroke-linecap:butt; stroke-linejoin:round; stroke-width:4; stroke-opacity:1; fill:none\" points=\"\n",
       "  249.542,1423.18 2352.76,1423.18 \n",
       "  \"/>\n",
       "<polyline clip-path=\"url(#clip970)\" style=\"stroke:#000000; stroke-linecap:butt; stroke-linejoin:round; stroke-width:4; stroke-opacity:1; fill:none\" points=\"\n",
       "  309.067,1423.18 309.067,1406.67 \n",
       "  \"/>\n",
       "<polyline clip-path=\"url(#clip970)\" style=\"stroke:#000000; stroke-linecap:butt; stroke-linejoin:round; stroke-width:4; stroke-opacity:1; fill:none\" points=\"\n",
       "  970.455,1423.18 970.455,1406.67 \n",
       "  \"/>\n",
       "<polyline clip-path=\"url(#clip970)\" style=\"stroke:#000000; stroke-linecap:butt; stroke-linejoin:round; stroke-width:4; stroke-opacity:1; fill:none\" points=\"\n",
       "  1631.84,1423.18 1631.84,1406.67 \n",
       "  \"/>\n",
       "<polyline clip-path=\"url(#clip970)\" style=\"stroke:#000000; stroke-linecap:butt; stroke-linejoin:round; stroke-width:4; stroke-opacity:1; fill:none\" points=\"\n",
       "  2293.23,1423.18 2293.23,1406.67 \n",
       "  \"/>\n",
       "<path clip-path=\"url(#clip970)\" d=\"M299.449 1479.92 L307.088 1479.92 L307.088 1453.55 L298.778 1455.22 L298.778 1450.96 L307.042 1449.29 L311.717 1449.29 L311.717 1479.92 L319.356 1479.92 L319.356 1483.85 L299.449 1483.85 L299.449 1479.92 Z\" fill=\"#000000\" fill-rule=\"evenodd\" fill-opacity=\"1\" /><path clip-path=\"url(#clip970)\" d=\"M965.108 1479.92 L981.427 1479.92 L981.427 1483.85 L959.483 1483.85 L959.483 1479.92 Q962.145 1477.16 966.728 1472.53 Q971.335 1467.88 972.515 1466.54 Q974.76 1464.01 975.64 1462.28 Q976.543 1460.52 976.543 1458.83 Q976.543 1456.07 974.598 1454.34 Q972.677 1452.6 969.575 1452.6 Q967.376 1452.6 964.923 1453.37 Q962.492 1454.13 959.714 1455.68 L959.714 1450.96 Q962.538 1449.82 964.992 1449.25 Q967.446 1448.67 969.483 1448.67 Q974.853 1448.67 978.048 1451.35 Q981.242 1454.04 981.242 1458.53 Q981.242 1460.66 980.432 1462.58 Q979.645 1464.48 977.538 1467.07 Q976.96 1467.74 973.858 1470.96 Q970.756 1474.15 965.108 1479.92 Z\" fill=\"#000000\" fill-rule=\"evenodd\" fill-opacity=\"1\" /><path clip-path=\"url(#clip970)\" d=\"M1636.09 1465.22 Q1639.45 1465.94 1641.32 1468.2 Q1643.22 1470.47 1643.22 1473.81 Q1643.22 1478.92 1639.7 1481.72 Q1636.18 1484.52 1629.7 1484.52 Q1627.53 1484.52 1625.21 1484.08 Q1622.92 1483.67 1620.47 1482.81 L1620.47 1478.3 Q1622.41 1479.43 1624.72 1480.01 Q1627.04 1480.59 1629.56 1480.59 Q1633.96 1480.59 1636.25 1478.85 Q1638.57 1477.12 1638.57 1473.81 Q1638.57 1470.75 1636.41 1469.04 Q1634.29 1467.3 1630.47 1467.3 L1626.44 1467.3 L1626.44 1463.46 L1630.65 1463.46 Q1634.1 1463.46 1635.93 1462.09 Q1637.76 1460.7 1637.76 1458.11 Q1637.76 1455.45 1635.86 1454.04 Q1633.98 1452.6 1630.47 1452.6 Q1628.54 1452.6 1626.35 1453.02 Q1624.15 1453.44 1621.51 1454.31 L1621.51 1450.15 Q1624.17 1449.41 1626.48 1449.04 Q1628.82 1448.67 1630.88 1448.67 Q1636.21 1448.67 1639.31 1451.1 Q1642.41 1453.5 1642.41 1457.63 Q1642.41 1460.5 1640.77 1462.49 Q1639.12 1464.45 1636.09 1465.22 Z\" fill=\"#000000\" fill-rule=\"evenodd\" fill-opacity=\"1\" /><path clip-path=\"url(#clip970)\" d=\"M2296.24 1453.37 L2284.43 1471.81 L2296.24 1471.81 L2296.24 1453.37 M2295.01 1449.29 L2300.89 1449.29 L2300.89 1471.81 L2305.82 1471.81 L2305.82 1475.7 L2300.89 1475.7 L2300.89 1483.85 L2296.24 1483.85 L2296.24 1475.7 L2280.64 1475.7 L2280.64 1471.19 L2295.01 1449.29 Z\" fill=\"#000000\" fill-rule=\"evenodd\" fill-opacity=\"1\" /><path clip-path=\"url(#clip970)\" d=\"M1152.57 1520.52 L1192.77 1520.52 L1192.77 1525.93 L1175.9 1525.93 L1175.9 1568.04 L1169.44 1568.04 L1169.44 1525.93 L1152.57 1525.93 L1152.57 1520.52 Z\" fill=\"#000000\" fill-rule=\"evenodd\" fill-opacity=\"1\" /><path clip-path=\"url(#clip970)\" d=\"M1196.72 1532.4 L1202.58 1532.4 L1202.58 1568.04 L1196.72 1568.04 L1196.72 1532.4 M1196.72 1518.52 L1202.58 1518.52 L1202.58 1525.93 L1196.72 1525.93 L1196.72 1518.52 Z\" fill=\"#000000\" fill-rule=\"evenodd\" fill-opacity=\"1\" /><path clip-path=\"url(#clip970)\" d=\"M1242.58 1539.24 Q1244.78 1535.29 1247.84 1533.41 Q1250.89 1531.54 1255.03 1531.54 Q1260.6 1531.54 1263.62 1535.45 Q1266.65 1539.33 1266.65 1546.53 L1266.65 1568.04 L1260.76 1568.04 L1260.76 1546.72 Q1260.76 1541.59 1258.94 1539.11 Q1257.13 1536.63 1253.41 1536.63 Q1248.85 1536.63 1246.21 1539.65 Q1243.57 1542.68 1243.57 1547.9 L1243.57 1568.04 L1237.68 1568.04 L1237.68 1546.72 Q1237.68 1541.56 1235.87 1539.11 Q1234.05 1536.63 1230.27 1536.63 Q1225.78 1536.63 1223.14 1539.68 Q1220.5 1542.71 1220.5 1547.9 L1220.5 1568.04 L1214.61 1568.04 L1214.61 1532.4 L1220.5 1532.4 L1220.5 1537.93 Q1222.5 1534.66 1225.3 1533.1 Q1228.1 1531.54 1231.95 1531.54 Q1235.84 1531.54 1238.54 1533.51 Q1241.28 1535.48 1242.58 1539.24 Z\" fill=\"#000000\" fill-rule=\"evenodd\" fill-opacity=\"1\" /><path clip-path=\"url(#clip970)\" d=\"M1308.82 1548.76 L1308.82 1551.62 L1281.89 1551.62 Q1282.27 1557.67 1285.52 1560.85 Q1288.8 1564 1294.62 1564 Q1298 1564 1301.15 1563.17 Q1304.33 1562.35 1307.45 1560.69 L1307.45 1566.23 Q1304.3 1567.57 1300.99 1568.27 Q1297.68 1568.97 1294.27 1568.97 Q1285.74 1568.97 1280.75 1564 Q1275.78 1559.04 1275.78 1550.57 Q1275.78 1541.82 1280.49 1536.69 Q1285.23 1531.54 1293.26 1531.54 Q1300.45 1531.54 1304.62 1536.18 Q1308.82 1540.8 1308.82 1548.76 M1302.96 1547.04 Q1302.9 1542.23 1300.26 1539.37 Q1297.65 1536.5 1293.32 1536.5 Q1288.42 1536.5 1285.46 1539.27 Q1282.53 1542.04 1282.08 1547.07 L1302.96 1547.04 Z\" fill=\"#000000\" fill-rule=\"evenodd\" fill-opacity=\"1\" /><path clip-path=\"url(#clip970)\" d=\"M1341.16 1533.45 L1341.16 1538.98 Q1338.67 1537.71 1336 1537.07 Q1333.33 1536.44 1330.46 1536.44 Q1326.1 1536.44 1323.91 1537.77 Q1321.74 1539.11 1321.74 1541.79 Q1321.74 1543.82 1323.3 1545 Q1324.86 1546.15 1329.57 1547.2 L1331.58 1547.64 Q1337.82 1548.98 1340.43 1551.43 Q1343.07 1553.85 1343.07 1558.21 Q1343.07 1563.17 1339.12 1566.07 Q1335.21 1568.97 1328.33 1568.97 Q1325.47 1568.97 1322.35 1568.39 Q1319.26 1567.85 1315.82 1566.74 L1315.82 1560.69 Q1319.07 1562.38 1322.22 1563.24 Q1325.37 1564.07 1328.46 1564.07 Q1332.6 1564.07 1334.82 1562.66 Q1337.05 1561.23 1337.05 1558.65 Q1337.05 1556.27 1335.43 1554.99 Q1333.84 1553.72 1328.39 1552.54 L1326.36 1552.07 Q1320.91 1550.92 1318.5 1548.56 Q1316.08 1546.18 1316.08 1542.04 Q1316.08 1537.01 1319.64 1534.27 Q1323.21 1531.54 1329.76 1531.54 Q1333.01 1531.54 1335.87 1532.01 Q1338.74 1532.49 1341.16 1533.45 Z\" fill=\"#000000\" fill-rule=\"evenodd\" fill-opacity=\"1\" /><path clip-path=\"url(#clip970)\" d=\"M1358.19 1522.27 L1358.19 1532.4 L1370.25 1532.4 L1370.25 1536.95 L1358.19 1536.95 L1358.19 1556.3 Q1358.19 1560.66 1359.36 1561.9 Q1360.57 1563.14 1364.23 1563.14 L1370.25 1563.14 L1370.25 1568.04 L1364.23 1568.04 Q1357.45 1568.04 1354.88 1565.53 Q1352.3 1562.98 1352.3 1556.3 L1352.3 1536.95 L1348 1536.95 L1348 1532.4 L1352.3 1532.4 L1352.3 1522.27 L1358.19 1522.27 Z\" fill=\"#000000\" fill-rule=\"evenodd\" fill-opacity=\"1\" /><path clip-path=\"url(#clip970)\" d=\"M1408.44 1548.76 L1408.44 1551.62 L1381.52 1551.62 Q1381.9 1557.67 1385.14 1560.85 Q1388.42 1564 1394.25 1564 Q1397.62 1564 1400.77 1563.17 Q1403.96 1562.35 1407.07 1560.69 L1407.07 1566.23 Q1403.92 1567.57 1400.61 1568.27 Q1397.3 1568.97 1393.9 1568.97 Q1385.37 1568.97 1380.37 1564 Q1375.4 1559.04 1375.4 1550.57 Q1375.4 1541.82 1380.12 1536.69 Q1384.86 1531.54 1392.88 1531.54 Q1400.07 1531.54 1404.24 1536.18 Q1408.44 1540.8 1408.44 1548.76 M1402.59 1547.04 Q1402.52 1542.23 1399.88 1539.37 Q1397.27 1536.5 1392.94 1536.5 Q1388.04 1536.5 1385.08 1539.27 Q1382.15 1542.04 1381.71 1547.07 L1402.59 1547.04 Z\" fill=\"#000000\" fill-rule=\"evenodd\" fill-opacity=\"1\" /><path clip-path=\"url(#clip970)\" d=\"M1423.72 1562.7 L1423.72 1581.6 L1417.83 1581.6 L1417.83 1532.4 L1423.72 1532.4 L1423.72 1537.81 Q1425.57 1534.62 1428.37 1533.1 Q1431.2 1531.54 1435.12 1531.54 Q1441.61 1531.54 1445.65 1536.69 Q1449.72 1541.85 1449.72 1550.25 Q1449.72 1558.65 1445.65 1563.81 Q1441.61 1568.97 1435.12 1568.97 Q1431.2 1568.97 1428.37 1567.44 Q1425.57 1565.88 1423.72 1562.7 M1443.65 1550.25 Q1443.65 1543.79 1440.97 1540.13 Q1438.33 1536.44 1433.68 1536.44 Q1429.04 1536.44 1426.36 1540.13 Q1423.72 1543.79 1423.72 1550.25 Q1423.72 1556.71 1426.36 1560.4 Q1429.04 1564.07 1433.68 1564.07 Q1438.33 1564.07 1440.97 1560.4 Q1443.65 1556.71 1443.65 1550.25 Z\" fill=\"#000000\" fill-rule=\"evenodd\" fill-opacity=\"1\" /><polyline clip-path=\"url(#clip972)\" style=\"stroke:#000000; stroke-linecap:butt; stroke-linejoin:round; stroke-width:2; stroke-opacity:0.1; fill:none\" points=\"\n",
       "  249.542,1384.24 2352.76,1384.24 \n",
       "  \"/>\n",
       "<polyline clip-path=\"url(#clip972)\" style=\"stroke:#000000; stroke-linecap:butt; stroke-linejoin:round; stroke-width:2; stroke-opacity:0.1; fill:none\" points=\"\n",
       "  249.542,1059.73 2352.76,1059.73 \n",
       "  \"/>\n",
       "<polyline clip-path=\"url(#clip972)\" style=\"stroke:#000000; stroke-linecap:butt; stroke-linejoin:round; stroke-width:2; stroke-opacity:0.1; fill:none\" points=\"\n",
       "  249.542,735.212 2352.76,735.212 \n",
       "  \"/>\n",
       "<polyline clip-path=\"url(#clip972)\" style=\"stroke:#000000; stroke-linecap:butt; stroke-linejoin:round; stroke-width:2; stroke-opacity:0.1; fill:none\" points=\"\n",
       "  249.542,410.699 2352.76,410.699 \n",
       "  \"/>\n",
       "<polyline clip-path=\"url(#clip972)\" style=\"stroke:#000000; stroke-linecap:butt; stroke-linejoin:round; stroke-width:2; stroke-opacity:0.1; fill:none\" points=\"\n",
       "  249.542,86.1857 2352.76,86.1857 \n",
       "  \"/>\n",
       "<polyline clip-path=\"url(#clip970)\" style=\"stroke:#000000; stroke-linecap:butt; stroke-linejoin:round; stroke-width:4; stroke-opacity:1; fill:none\" points=\"\n",
       "  249.542,1423.18 249.542,47.2441 \n",
       "  \"/>\n",
       "<polyline clip-path=\"url(#clip970)\" style=\"stroke:#000000; stroke-linecap:butt; stroke-linejoin:round; stroke-width:4; stroke-opacity:1; fill:none\" points=\"\n",
       "  249.542,1384.24 274.781,1384.24 \n",
       "  \"/>\n",
       "<polyline clip-path=\"url(#clip970)\" style=\"stroke:#000000; stroke-linecap:butt; stroke-linejoin:round; stroke-width:4; stroke-opacity:1; fill:none\" points=\"\n",
       "  249.542,1059.73 274.781,1059.73 \n",
       "  \"/>\n",
       "<polyline clip-path=\"url(#clip970)\" style=\"stroke:#000000; stroke-linecap:butt; stroke-linejoin:round; stroke-width:4; stroke-opacity:1; fill:none\" points=\"\n",
       "  249.542,735.212 274.781,735.212 \n",
       "  \"/>\n",
       "<polyline clip-path=\"url(#clip970)\" style=\"stroke:#000000; stroke-linecap:butt; stroke-linejoin:round; stroke-width:4; stroke-opacity:1; fill:none\" points=\"\n",
       "  249.542,410.699 274.781,410.699 \n",
       "  \"/>\n",
       "<polyline clip-path=\"url(#clip970)\" style=\"stroke:#000000; stroke-linecap:butt; stroke-linejoin:round; stroke-width:4; stroke-opacity:1; fill:none\" points=\"\n",
       "  249.542,86.1857 274.781,86.1857 \n",
       "  \"/>\n",
       "<path clip-path=\"url(#clip970)\" d=\"M126.205 1370.04 Q122.593 1370.04 120.765 1373.6 Q118.959 1377.14 118.959 1384.27 Q118.959 1391.38 120.765 1394.94 Q122.593 1398.49 126.205 1398.49 Q129.839 1398.49 131.644 1394.94 Q133.473 1391.38 133.473 1384.27 Q133.473 1377.14 131.644 1373.6 Q129.839 1370.04 126.205 1370.04 M126.205 1366.33 Q132.015 1366.33 135.07 1370.94 Q138.149 1375.52 138.149 1384.27 Q138.149 1393 135.07 1397.61 Q132.015 1402.19 126.205 1402.19 Q120.394 1402.19 117.316 1397.61 Q114.26 1393 114.26 1384.27 Q114.26 1375.52 117.316 1370.94 Q120.394 1366.33 126.205 1366.33 Z\" fill=\"#000000\" fill-rule=\"evenodd\" fill-opacity=\"1\" /><path clip-path=\"url(#clip970)\" d=\"M146.366 1395.64 L151.251 1395.64 L151.251 1401.52 L146.366 1401.52 L146.366 1395.64 Z\" fill=\"#000000\" fill-rule=\"evenodd\" fill-opacity=\"1\" /><path clip-path=\"url(#clip970)\" d=\"M171.436 1370.04 Q167.825 1370.04 165.996 1373.6 Q164.19 1377.14 164.19 1384.27 Q164.19 1391.38 165.996 1394.94 Q167.825 1398.49 171.436 1398.49 Q175.07 1398.49 176.876 1394.94 Q178.704 1391.38 178.704 1384.27 Q178.704 1377.14 176.876 1373.6 Q175.07 1370.04 171.436 1370.04 M171.436 1366.33 Q177.246 1366.33 180.301 1370.94 Q183.38 1375.52 183.38 1384.27 Q183.38 1393 180.301 1397.61 Q177.246 1402.19 171.436 1402.19 Q165.626 1402.19 162.547 1397.61 Q159.491 1393 159.491 1384.27 Q159.491 1375.52 162.547 1370.94 Q165.626 1366.33 171.436 1366.33 Z\" fill=\"#000000\" fill-rule=\"evenodd\" fill-opacity=\"1\" /><path clip-path=\"url(#clip970)\" d=\"M201.598 1370.04 Q197.987 1370.04 196.158 1373.6 Q194.352 1377.14 194.352 1384.27 Q194.352 1391.38 196.158 1394.94 Q197.987 1398.49 201.598 1398.49 Q205.232 1398.49 207.037 1394.94 Q208.866 1391.38 208.866 1384.27 Q208.866 1377.14 207.037 1373.6 Q205.232 1370.04 201.598 1370.04 M201.598 1366.33 Q207.408 1366.33 210.463 1370.94 Q213.542 1375.52 213.542 1384.27 Q213.542 1393 210.463 1397.61 Q207.408 1402.19 201.598 1402.19 Q195.787 1402.19 192.709 1397.61 Q189.653 1393 189.653 1384.27 Q189.653 1375.52 192.709 1370.94 Q195.787 1366.33 201.598 1366.33 Z\" fill=\"#000000\" fill-rule=\"evenodd\" fill-opacity=\"1\" /><path clip-path=\"url(#clip970)\" d=\"M127.2 1045.52 Q123.589 1045.52 121.76 1049.09 Q119.955 1052.63 119.955 1059.76 Q119.955 1066.87 121.76 1070.43 Q123.589 1073.97 127.2 1073.97 Q130.834 1073.97 132.64 1070.43 Q134.468 1066.87 134.468 1059.76 Q134.468 1052.63 132.64 1049.09 Q130.834 1045.52 127.2 1045.52 M127.2 1041.82 Q133.01 1041.82 136.066 1046.43 Q139.144 1051.01 139.144 1059.76 Q139.144 1068.49 136.066 1073.09 Q133.01 1077.68 127.2 1077.68 Q121.39 1077.68 118.311 1073.09 Q115.256 1068.49 115.256 1059.76 Q115.256 1051.01 118.311 1046.43 Q121.39 1041.82 127.2 1041.82 Z\" fill=\"#000000\" fill-rule=\"evenodd\" fill-opacity=\"1\" /><path clip-path=\"url(#clip970)\" d=\"M147.362 1071.13 L152.246 1071.13 L152.246 1077.01 L147.362 1077.01 L147.362 1071.13 Z\" fill=\"#000000\" fill-rule=\"evenodd\" fill-opacity=\"1\" /><path clip-path=\"url(#clip970)\" d=\"M166.459 1073.07 L182.778 1073.07 L182.778 1077.01 L160.834 1077.01 L160.834 1073.07 Q163.496 1070.32 168.079 1065.69 Q172.686 1061.03 173.866 1059.69 Q176.112 1057.17 176.991 1055.43 Q177.894 1053.67 177.894 1051.98 Q177.894 1049.23 175.95 1047.49 Q174.028 1045.76 170.927 1045.76 Q168.727 1045.76 166.274 1046.52 Q163.843 1047.28 161.065 1048.83 L161.065 1044.11 Q163.89 1042.98 166.343 1042.4 Q168.797 1041.82 170.834 1041.82 Q176.204 1041.82 179.399 1044.51 Q182.593 1047.19 182.593 1051.68 Q182.593 1053.81 181.783 1055.73 Q180.996 1057.63 178.889 1060.22 Q178.311 1060.89 175.209 1064.11 Q172.107 1067.31 166.459 1073.07 Z\" fill=\"#000000\" fill-rule=\"evenodd\" fill-opacity=\"1\" /><path clip-path=\"url(#clip970)\" d=\"M192.639 1042.45 L210.996 1042.45 L210.996 1046.38 L196.922 1046.38 L196.922 1054.85 Q197.94 1054.51 198.959 1054.34 Q199.977 1054.16 200.996 1054.16 Q206.783 1054.16 210.162 1057.33 Q213.542 1060.5 213.542 1065.92 Q213.542 1071.5 210.07 1074.6 Q206.598 1077.68 200.278 1077.68 Q198.102 1077.68 195.834 1077.31 Q193.588 1076.94 191.181 1076.19 L191.181 1071.5 Q193.264 1072.63 195.487 1073.19 Q197.709 1073.74 200.186 1073.74 Q204.19 1073.74 206.528 1071.63 Q208.866 1069.53 208.866 1065.92 Q208.866 1062.31 206.528 1060.2 Q204.19 1058.09 200.186 1058.09 Q198.311 1058.09 196.436 1058.51 Q194.584 1058.93 192.639 1059.81 L192.639 1042.45 Z\" fill=\"#000000\" fill-rule=\"evenodd\" fill-opacity=\"1\" /><path clip-path=\"url(#clip970)\" d=\"M126.205 721.011 Q122.593 721.011 120.765 724.575 Q118.959 728.117 118.959 735.247 Q118.959 742.353 120.765 745.918 Q122.593 749.46 126.205 749.46 Q129.839 749.46 131.644 745.918 Q133.473 742.353 133.473 735.247 Q133.473 728.117 131.644 724.575 Q129.839 721.011 126.205 721.011 M126.205 717.307 Q132.015 717.307 135.07 721.913 Q138.149 726.497 138.149 735.247 Q138.149 743.973 135.07 748.58 Q132.015 753.163 126.205 753.163 Q120.394 753.163 117.316 748.58 Q114.26 743.973 114.26 735.247 Q114.26 726.497 117.316 721.913 Q120.394 717.307 126.205 717.307 Z\" fill=\"#000000\" fill-rule=\"evenodd\" fill-opacity=\"1\" /><path clip-path=\"url(#clip970)\" d=\"M146.366 746.612 L151.251 746.612 L151.251 752.492 L146.366 752.492 L146.366 746.612 Z\" fill=\"#000000\" fill-rule=\"evenodd\" fill-opacity=\"1\" /><path clip-path=\"url(#clip970)\" d=\"M161.482 717.932 L179.839 717.932 L179.839 721.867 L165.765 721.867 L165.765 730.339 Q166.783 729.992 167.802 729.83 Q168.82 729.645 169.839 729.645 Q175.626 729.645 179.005 732.816 Q182.385 735.987 182.385 741.404 Q182.385 746.983 178.913 750.085 Q175.44 753.163 169.121 753.163 Q166.945 753.163 164.677 752.793 Q162.431 752.423 160.024 751.682 L160.024 746.983 Q162.107 748.117 164.329 748.673 Q166.552 749.228 169.028 749.228 Q173.033 749.228 175.371 747.122 Q177.709 745.015 177.709 741.404 Q177.709 737.793 175.371 735.687 Q173.033 733.58 169.028 733.58 Q167.153 733.58 165.278 733.997 Q163.427 734.413 161.482 735.293 L161.482 717.932 Z\" fill=\"#000000\" fill-rule=\"evenodd\" fill-opacity=\"1\" /><path clip-path=\"url(#clip970)\" d=\"M201.598 721.011 Q197.987 721.011 196.158 724.575 Q194.352 728.117 194.352 735.247 Q194.352 742.353 196.158 745.918 Q197.987 749.46 201.598 749.46 Q205.232 749.46 207.037 745.918 Q208.866 742.353 208.866 735.247 Q208.866 728.117 207.037 724.575 Q205.232 721.011 201.598 721.011 M201.598 717.307 Q207.408 717.307 210.463 721.913 Q213.542 726.497 213.542 735.247 Q213.542 743.973 210.463 748.58 Q207.408 753.163 201.598 753.163 Q195.787 753.163 192.709 748.58 Q189.653 743.973 189.653 735.247 Q189.653 726.497 192.709 721.913 Q195.787 717.307 201.598 717.307 Z\" fill=\"#000000\" fill-rule=\"evenodd\" fill-opacity=\"1\" /><path clip-path=\"url(#clip970)\" d=\"M127.2 396.498 Q123.589 396.498 121.76 400.062 Q119.955 403.604 119.955 410.734 Q119.955 417.84 121.76 421.405 Q123.589 424.946 127.2 424.946 Q130.834 424.946 132.64 421.405 Q134.468 417.84 134.468 410.734 Q134.468 403.604 132.64 400.062 Q130.834 396.498 127.2 396.498 M127.2 392.794 Q133.01 392.794 136.066 397.4 Q139.144 401.984 139.144 410.734 Q139.144 419.46 136.066 424.067 Q133.01 428.65 127.2 428.65 Q121.39 428.65 118.311 424.067 Q115.256 419.46 115.256 410.734 Q115.256 401.984 118.311 397.4 Q121.39 392.794 127.2 392.794 Z\" fill=\"#000000\" fill-rule=\"evenodd\" fill-opacity=\"1\" /><path clip-path=\"url(#clip970)\" d=\"M147.362 422.099 L152.246 422.099 L152.246 427.979 L147.362 427.979 L147.362 422.099 Z\" fill=\"#000000\" fill-rule=\"evenodd\" fill-opacity=\"1\" /><path clip-path=\"url(#clip970)\" d=\"M161.251 393.419 L183.473 393.419 L183.473 395.41 L170.927 427.979 L166.042 427.979 L177.848 397.354 L161.251 397.354 L161.251 393.419 Z\" fill=\"#000000\" fill-rule=\"evenodd\" fill-opacity=\"1\" /><path clip-path=\"url(#clip970)\" d=\"M192.639 393.419 L210.996 393.419 L210.996 397.354 L196.922 397.354 L196.922 405.826 Q197.94 405.479 198.959 405.317 Q199.977 405.132 200.996 405.132 Q206.783 405.132 210.162 408.303 Q213.542 411.474 213.542 416.891 Q213.542 422.47 210.07 425.571 Q206.598 428.65 200.278 428.65 Q198.102 428.65 195.834 428.28 Q193.588 427.909 191.181 427.169 L191.181 422.47 Q193.264 423.604 195.487 424.159 Q197.709 424.715 200.186 424.715 Q204.19 424.715 206.528 422.608 Q208.866 420.502 208.866 416.891 Q208.866 413.28 206.528 411.173 Q204.19 409.067 200.186 409.067 Q198.311 409.067 196.436 409.484 Q194.584 409.9 192.639 410.78 L192.639 393.419 Z\" fill=\"#000000\" fill-rule=\"evenodd\" fill-opacity=\"1\" /><path clip-path=\"url(#clip970)\" d=\"M117.015 99.5305 L124.654 99.5305 L124.654 73.1649 L116.343 74.8316 L116.343 70.5723 L124.607 68.9057 L129.283 68.9057 L129.283 99.5305 L136.922 99.5305 L136.922 103.466 L117.015 103.466 L117.015 99.5305 Z\" fill=\"#000000\" fill-rule=\"evenodd\" fill-opacity=\"1\" /><path clip-path=\"url(#clip970)\" d=\"M146.366 97.5861 L151.251 97.5861 L151.251 103.466 L146.366 103.466 L146.366 97.5861 Z\" fill=\"#000000\" fill-rule=\"evenodd\" fill-opacity=\"1\" /><path clip-path=\"url(#clip970)\" d=\"M171.436 71.9844 Q167.825 71.9844 165.996 75.5492 Q164.19 79.0908 164.19 86.2204 Q164.19 93.3268 165.996 96.8916 Q167.825 100.433 171.436 100.433 Q175.07 100.433 176.876 96.8916 Q178.704 93.3268 178.704 86.2204 Q178.704 79.0908 176.876 75.5492 Q175.07 71.9844 171.436 71.9844 M171.436 68.2807 Q177.246 68.2807 180.301 72.8871 Q183.38 77.4704 183.38 86.2204 Q183.38 94.9472 180.301 99.5537 Q177.246 104.137 171.436 104.137 Q165.626 104.137 162.547 99.5537 Q159.491 94.9472 159.491 86.2204 Q159.491 77.4704 162.547 72.8871 Q165.626 68.2807 171.436 68.2807 Z\" fill=\"#000000\" fill-rule=\"evenodd\" fill-opacity=\"1\" /><path clip-path=\"url(#clip970)\" d=\"M201.598 71.9844 Q197.987 71.9844 196.158 75.5492 Q194.352 79.0908 194.352 86.2204 Q194.352 93.3268 196.158 96.8916 Q197.987 100.433 201.598 100.433 Q205.232 100.433 207.037 96.8916 Q208.866 93.3268 208.866 86.2204 Q208.866 79.0908 207.037 75.5492 Q205.232 71.9844 201.598 71.9844 M201.598 68.2807 Q207.408 68.2807 210.463 72.8871 Q213.542 77.4704 213.542 86.2204 Q213.542 94.9472 210.463 99.5537 Q207.408 104.137 201.598 104.137 Q195.787 104.137 192.709 99.5537 Q189.653 94.9472 189.653 86.2204 Q189.653 77.4704 192.709 72.8871 Q195.787 68.2807 201.598 68.2807 Z\" fill=\"#000000\" fill-rule=\"evenodd\" fill-opacity=\"1\" /><path clip-path=\"url(#clip970)\" d=\"M18.0438 769.81 L24.314 769.81 Q22.5634 773.47 21.704 776.716 Q20.8447 779.963 20.8447 782.987 Q20.8447 788.238 22.8817 791.103 Q24.9187 793.936 28.6745 793.936 Q31.8255 793.936 33.4488 792.058 Q35.0402 790.148 36.0269 784.864 L36.8226 780.981 Q38.1912 773.788 41.6605 770.382 Q45.098 766.945 50.8908 766.945 Q57.7976 766.945 61.3624 771.592 Q64.9272 776.207 64.9272 785.151 Q64.9272 788.525 64.1633 792.344 Q63.3994 796.132 61.9035 800.206 L55.2831 800.206 Q57.4793 796.291 58.5933 792.535 Q59.7073 788.779 59.7073 785.151 Q59.7073 779.645 57.543 776.653 Q55.3786 773.661 51.3682 773.661 Q47.8671 773.661 45.8937 775.825 Q43.9204 777.958 42.9337 782.859 L42.1698 786.774 Q40.7375 793.967 37.682 797.182 Q34.6264 800.397 29.1837 800.397 Q22.8817 800.397 19.2532 795.973 Q15.6248 791.517 15.6248 783.719 Q15.6248 780.377 16.2295 776.907 Q16.8343 773.438 18.0438 769.81 Z\" fill=\"#000000\" fill-rule=\"evenodd\" fill-opacity=\"1\" /><path clip-path=\"url(#clip970)\" d=\"M20.8447 737.631 Q20.8447 744.633 26.0645 748.771 Q31.2844 752.877 40.2919 752.877 Q49.2675 752.877 54.4874 748.771 Q59.7073 744.633 59.7073 737.631 Q59.7073 730.629 54.4874 726.555 Q49.2675 722.449 40.2919 722.449 Q31.2844 722.449 26.0645 726.555 Q20.8447 730.629 20.8447 737.631 M15.6248 737.631 Q15.6248 727.637 22.3406 721.653 Q29.0246 715.669 40.2919 715.669 Q51.5274 715.669 58.2432 721.653 Q64.9272 727.637 64.9272 737.631 Q64.9272 747.657 58.2432 753.673 Q51.5592 759.656 40.2919 759.656 Q29.0246 759.656 22.3406 753.673 Q15.6248 747.657 15.6248 737.631 Z\" fill=\"#000000\" fill-rule=\"evenodd\" fill-opacity=\"1\" /><path clip-path=\"url(#clip970)\" d=\"M20.1444 670.027 L26.9239 670.027 Q23.9002 673.274 22.4043 676.966 Q20.9083 680.626 20.9083 684.764 Q20.9083 692.912 25.9054 697.241 Q30.8707 701.569 40.2919 701.569 Q49.6813 701.569 54.6784 697.241 Q59.6436 692.912 59.6436 684.764 Q59.6436 680.626 58.1477 676.966 Q56.6518 673.274 53.6281 670.027 L60.3439 670.027 Q62.6355 673.401 63.7814 677.189 Q64.9272 680.944 64.9272 685.146 Q64.9272 695.936 58.3387 702.142 Q51.7183 708.349 40.2919 708.349 Q28.8336 708.349 22.2451 702.142 Q15.6248 695.936 15.6248 685.146 Q15.6248 680.881 16.7706 677.125 Q17.8846 673.337 20.1444 670.027 Z\" fill=\"#000000\" fill-rule=\"evenodd\" fill-opacity=\"1\" /><polyline clip-path=\"url(#clip972)\" style=\"stroke:#009af9; stroke-linecap:butt; stroke-linejoin:round; stroke-width:4; stroke-opacity:1; fill:none\" points=\"\n",
       "  309.067,1384.24 970.455,1384.24 1631.84,1384.24 2293.23,1384.24 \n",
       "  \"/>\n",
       "<polyline clip-path=\"url(#clip972)\" style=\"stroke:#e26f46; stroke-linecap:butt; stroke-linejoin:round; stroke-width:4; stroke-opacity:1; fill:none\" points=\"\n",
       "  309.067,1384.24 970.455,1384.24 1631.84,1384.24 2293.23,1384.24 \n",
       "  \"/>\n",
       "<polyline clip-path=\"url(#clip972)\" style=\"stroke:#3da44d; stroke-linecap:butt; stroke-linejoin:round; stroke-width:4; stroke-opacity:1; fill:none\" points=\"\n",
       "  309.067,1384.24 970.455,1384.24 1631.84,1384.24 2293.23,1384.24 \n",
       "  \"/>\n",
       "<polyline clip-path=\"url(#clip972)\" style=\"stroke:#c271d2; stroke-linecap:butt; stroke-linejoin:round; stroke-width:4; stroke-opacity:1; fill:none\" points=\"\n",
       "  309.067,1384.24 970.455,1384.24 1631.84,1384.24 2293.23,1384.24 \n",
       "  \"/>\n",
       "<path clip-path=\"url(#clip970)\" d=\"\n",
       "M1994.82 395.509 L2282.65 395.509 L2282.65 93.1086 L1994.82 93.1086  Z\n",
       "  \" fill=\"#ffffff\" fill-rule=\"evenodd\" fill-opacity=\"1\"/>\n",
       "<polyline clip-path=\"url(#clip970)\" style=\"stroke:#000000; stroke-linecap:butt; stroke-linejoin:round; stroke-width:4; stroke-opacity:1; fill:none\" points=\"\n",
       "  1994.82,395.509 2282.65,395.509 2282.65,93.1086 1994.82,93.1086 1994.82,395.509 \n",
       "  \"/>\n",
       "<polyline clip-path=\"url(#clip970)\" style=\"stroke:#009af9; stroke-linecap:butt; stroke-linejoin:round; stroke-width:4; stroke-opacity:1; fill:none\" points=\"\n",
       "  2018.18,153.589 2158.4,153.589 \n",
       "  \"/>\n",
       "<path clip-path=\"url(#clip970)\" d=\"M2195.61 173.276 Q2193.8 177.906 2192.09 179.318 Q2190.38 180.73 2187.51 180.73 L2184.11 180.73 L2184.11 177.165 L2186.61 177.165 Q2188.36 177.165 2189.34 176.332 Q2190.31 175.498 2191.49 172.396 L2192.25 170.452 L2181.77 144.943 L2186.28 144.943 L2194.38 165.221 L2202.48 144.943 L2207 144.943 L2195.61 173.276 Z\" fill=\"#000000\" fill-rule=\"evenodd\" fill-opacity=\"1\" /><path clip-path=\"url(#clip970)\" d=\"M2214.29 166.933 L2221.93 166.933 L2221.93 140.568 L2213.62 142.235 L2213.62 137.975 L2221.88 136.309 L2226.56 136.309 L2226.56 166.933 L2234.2 166.933 L2234.2 170.869 L2214.29 170.869 L2214.29 166.933 Z\" fill=\"#000000\" fill-rule=\"evenodd\" fill-opacity=\"1\" /><polyline clip-path=\"url(#clip970)\" style=\"stroke:#e26f46; stroke-linecap:butt; stroke-linejoin:round; stroke-width:4; stroke-opacity:1; fill:none\" points=\"\n",
       "  2018.18,214.069 2158.4,214.069 \n",
       "  \"/>\n",
       "<path clip-path=\"url(#clip970)\" d=\"M2195.61 233.756 Q2193.8 238.386 2192.09 239.798 Q2190.38 241.21 2187.51 241.21 L2184.11 241.21 L2184.11 237.645 L2186.61 237.645 Q2188.36 237.645 2189.34 236.812 Q2190.31 235.978 2191.49 232.876 L2192.25 230.932 L2181.77 205.423 L2186.28 205.423 L2194.38 225.701 L2202.48 205.423 L2207 205.423 L2195.61 233.756 Z\" fill=\"#000000\" fill-rule=\"evenodd\" fill-opacity=\"1\" /><path clip-path=\"url(#clip970)\" d=\"M2217.51 227.413 L2233.83 227.413 L2233.83 231.349 L2211.88 231.349 L2211.88 227.413 Q2214.55 224.659 2219.13 220.029 Q2223.73 215.376 2224.92 214.034 Q2227.16 211.511 2228.04 209.775 Q2228.94 208.015 2228.94 206.326 Q2228.94 203.571 2227 201.835 Q2225.08 200.099 2221.98 200.099 Q2219.78 200.099 2217.32 200.863 Q2214.89 201.627 2212.11 203.177 L2212.11 198.455 Q2214.94 197.321 2217.39 196.742 Q2219.85 196.164 2221.88 196.164 Q2227.25 196.164 2230.45 198.849 Q2233.64 201.534 2233.64 206.025 Q2233.64 208.154 2232.83 210.076 Q2232.04 211.974 2229.94 214.566 Q2229.36 215.238 2226.26 218.455 Q2223.16 221.65 2217.51 227.413 Z\" fill=\"#000000\" fill-rule=\"evenodd\" fill-opacity=\"1\" /><polyline clip-path=\"url(#clip970)\" style=\"stroke:#3da44d; stroke-linecap:butt; stroke-linejoin:round; stroke-width:4; stroke-opacity:1; fill:none\" points=\"\n",
       "  2018.18,274.549 2158.4,274.549 \n",
       "  \"/>\n",
       "<path clip-path=\"url(#clip970)\" d=\"M2195.61 294.236 Q2193.8 298.866 2192.09 300.278 Q2190.38 301.69 2187.51 301.69 L2184.11 301.69 L2184.11 298.125 L2186.61 298.125 Q2188.36 298.125 2189.34 297.292 Q2190.31 296.458 2191.49 293.356 L2192.25 291.412 L2181.77 265.903 L2186.28 265.903 L2194.38 286.181 L2202.48 265.903 L2207 265.903 L2195.61 294.236 Z\" fill=\"#000000\" fill-rule=\"evenodd\" fill-opacity=\"1\" /><path clip-path=\"url(#clip970)\" d=\"M2227.65 273.194 Q2231 273.912 2232.88 276.181 Q2234.78 278.449 2234.78 281.782 Q2234.78 286.898 2231.26 289.699 Q2227.74 292.5 2221.26 292.5 Q2219.08 292.5 2216.77 292.06 Q2214.48 291.643 2212.02 290.787 L2212.02 286.273 Q2213.97 287.407 2216.28 287.986 Q2218.6 288.565 2221.12 288.565 Q2225.52 288.565 2227.81 286.829 Q2230.12 285.093 2230.12 281.782 Q2230.12 278.727 2227.97 277.014 Q2225.84 275.278 2222.02 275.278 L2217.99 275.278 L2217.99 271.435 L2222.21 271.435 Q2225.66 271.435 2227.48 270.069 Q2229.31 268.681 2229.31 266.088 Q2229.31 263.426 2227.42 262.014 Q2225.54 260.579 2222.02 260.579 Q2220.1 260.579 2217.9 260.995 Q2215.7 261.412 2213.06 262.292 L2213.06 258.125 Q2215.73 257.384 2218.04 257.014 Q2220.38 256.644 2222.44 256.644 Q2227.76 256.644 2230.86 259.074 Q2233.97 261.482 2233.97 265.602 Q2233.97 268.472 2232.32 270.463 Q2230.68 272.431 2227.65 273.194 Z\" fill=\"#000000\" fill-rule=\"evenodd\" fill-opacity=\"1\" /><polyline clip-path=\"url(#clip970)\" style=\"stroke:#c271d2; stroke-linecap:butt; stroke-linejoin:round; stroke-width:4; stroke-opacity:1; fill:none\" points=\"\n",
       "  2018.18,335.029 2158.4,335.029 \n",
       "  \"/>\n",
       "<path clip-path=\"url(#clip970)\" d=\"M2195.61 354.716 Q2193.8 359.346 2192.09 360.758 Q2190.38 362.17 2187.51 362.17 L2184.11 362.17 L2184.11 358.605 L2186.61 358.605 Q2188.36 358.605 2189.34 357.772 Q2190.31 356.938 2191.49 353.836 L2192.25 351.892 L2181.77 326.383 L2186.28 326.383 L2194.38 346.661 L2202.48 326.383 L2207 326.383 L2195.61 354.716 Z\" fill=\"#000000\" fill-rule=\"evenodd\" fill-opacity=\"1\" /><path clip-path=\"url(#clip970)\" d=\"M2226.33 321.823 L2214.52 340.272 L2226.33 340.272 L2226.33 321.823 M2225.1 317.749 L2230.98 317.749 L2230.98 340.272 L2235.91 340.272 L2235.91 344.161 L2230.98 344.161 L2230.98 352.309 L2226.33 352.309 L2226.33 344.161 L2210.73 344.161 L2210.73 339.647 L2225.1 317.749 Z\" fill=\"#000000\" fill-rule=\"evenodd\" fill-opacity=\"1\" /></svg>\n"
      ]
     },
     "execution_count": 44,
     "metadata": {},
     "output_type": "execute_result"
    }
   ],
   "source": [
    "plot(s_vals')\n",
    "xlabel!(\"Timestep\")\n",
    "ylabel!(\"SOC\")"
   ]
  },
  {
   "cell_type": "code",
   "execution_count": 45,
   "metadata": {},
   "outputs": [
    {
     "data": {
      "image/svg+xml": [
       "<?xml version=\"1.0\" encoding=\"utf-8\"?>\n",
       "<svg xmlns=\"http://www.w3.org/2000/svg\" xmlns:xlink=\"http://www.w3.org/1999/xlink\" width=\"600\" height=\"400\" viewBox=\"0 0 2400 1600\">\n",
       "<defs>\n",
       "  <clipPath id=\"clip010\">\n",
       "    <rect x=\"0\" y=\"0\" width=\"2400\" height=\"1600\"/>\n",
       "  </clipPath>\n",
       "</defs>\n",
       "<path clip-path=\"url(#clip010)\" d=\"\n",
       "M0 1600 L2400 1600 L2400 0 L0 0  Z\n",
       "  \" fill=\"#ffffff\" fill-rule=\"evenodd\" fill-opacity=\"1\"/>\n",
       "<defs>\n",
       "  <clipPath id=\"clip011\">\n",
       "    <rect x=\"480\" y=\"0\" width=\"1681\" height=\"1600\"/>\n",
       "  </clipPath>\n",
       "</defs>\n",
       "<path clip-path=\"url(#clip010)\" d=\"\n",
       "M249.542 1423.18 L2352.76 1423.18 L2352.76 47.2441 L249.542 47.2441  Z\n",
       "  \" fill=\"#ffffff\" fill-rule=\"evenodd\" fill-opacity=\"1\"/>\n",
       "<defs>\n",
       "  <clipPath id=\"clip012\">\n",
       "    <rect x=\"249\" y=\"47\" width=\"2104\" height=\"1377\"/>\n",
       "  </clipPath>\n",
       "</defs>\n",
       "<polyline clip-path=\"url(#clip012)\" style=\"stroke:#000000; stroke-linecap:butt; stroke-linejoin:round; stroke-width:2; stroke-opacity:0.1; fill:none\" points=\"\n",
       "  309.067,1423.18 309.067,47.2441 \n",
       "  \"/>\n",
       "<polyline clip-path=\"url(#clip012)\" style=\"stroke:#000000; stroke-linecap:butt; stroke-linejoin:round; stroke-width:2; stroke-opacity:0.1; fill:none\" points=\"\n",
       "  970.455,1423.18 970.455,47.2441 \n",
       "  \"/>\n",
       "<polyline clip-path=\"url(#clip012)\" style=\"stroke:#000000; stroke-linecap:butt; stroke-linejoin:round; stroke-width:2; stroke-opacity:0.1; fill:none\" points=\"\n",
       "  1631.84,1423.18 1631.84,47.2441 \n",
       "  \"/>\n",
       "<polyline clip-path=\"url(#clip012)\" style=\"stroke:#000000; stroke-linecap:butt; stroke-linejoin:round; stroke-width:2; stroke-opacity:0.1; fill:none\" points=\"\n",
       "  2293.23,1423.18 2293.23,47.2441 \n",
       "  \"/>\n",
       "<polyline clip-path=\"url(#clip010)\" style=\"stroke:#000000; stroke-linecap:butt; stroke-linejoin:round; stroke-width:4; stroke-opacity:1; fill:none\" points=\"\n",
       "  249.542,1423.18 2352.76,1423.18 \n",
       "  \"/>\n",
       "<polyline clip-path=\"url(#clip010)\" style=\"stroke:#000000; stroke-linecap:butt; stroke-linejoin:round; stroke-width:4; stroke-opacity:1; fill:none\" points=\"\n",
       "  309.067,1423.18 309.067,1406.67 \n",
       "  \"/>\n",
       "<polyline clip-path=\"url(#clip010)\" style=\"stroke:#000000; stroke-linecap:butt; stroke-linejoin:round; stroke-width:4; stroke-opacity:1; fill:none\" points=\"\n",
       "  970.455,1423.18 970.455,1406.67 \n",
       "  \"/>\n",
       "<polyline clip-path=\"url(#clip010)\" style=\"stroke:#000000; stroke-linecap:butt; stroke-linejoin:round; stroke-width:4; stroke-opacity:1; fill:none\" points=\"\n",
       "  1631.84,1423.18 1631.84,1406.67 \n",
       "  \"/>\n",
       "<polyline clip-path=\"url(#clip010)\" style=\"stroke:#000000; stroke-linecap:butt; stroke-linejoin:round; stroke-width:4; stroke-opacity:1; fill:none\" points=\"\n",
       "  2293.23,1423.18 2293.23,1406.67 \n",
       "  \"/>\n",
       "<path clip-path=\"url(#clip010)\" d=\"M299.449 1479.92 L307.088 1479.92 L307.088 1453.55 L298.778 1455.22 L298.778 1450.96 L307.042 1449.29 L311.717 1449.29 L311.717 1479.92 L319.356 1479.92 L319.356 1483.85 L299.449 1483.85 L299.449 1479.92 Z\" fill=\"#000000\" fill-rule=\"evenodd\" fill-opacity=\"1\" /><path clip-path=\"url(#clip010)\" d=\"M965.108 1479.92 L981.427 1479.92 L981.427 1483.85 L959.483 1483.85 L959.483 1479.92 Q962.145 1477.16 966.728 1472.53 Q971.335 1467.88 972.515 1466.54 Q974.76 1464.01 975.64 1462.28 Q976.543 1460.52 976.543 1458.83 Q976.543 1456.07 974.598 1454.34 Q972.677 1452.6 969.575 1452.6 Q967.376 1452.6 964.923 1453.37 Q962.492 1454.13 959.714 1455.68 L959.714 1450.96 Q962.538 1449.82 964.992 1449.25 Q967.446 1448.67 969.483 1448.67 Q974.853 1448.67 978.048 1451.35 Q981.242 1454.04 981.242 1458.53 Q981.242 1460.66 980.432 1462.58 Q979.645 1464.48 977.538 1467.07 Q976.96 1467.74 973.858 1470.96 Q970.756 1474.15 965.108 1479.92 Z\" fill=\"#000000\" fill-rule=\"evenodd\" fill-opacity=\"1\" /><path clip-path=\"url(#clip010)\" d=\"M1636.09 1465.22 Q1639.45 1465.94 1641.32 1468.2 Q1643.22 1470.47 1643.22 1473.81 Q1643.22 1478.92 1639.7 1481.72 Q1636.18 1484.52 1629.7 1484.52 Q1627.53 1484.52 1625.21 1484.08 Q1622.92 1483.67 1620.47 1482.81 L1620.47 1478.3 Q1622.41 1479.43 1624.72 1480.01 Q1627.04 1480.59 1629.56 1480.59 Q1633.96 1480.59 1636.25 1478.85 Q1638.57 1477.12 1638.57 1473.81 Q1638.57 1470.75 1636.41 1469.04 Q1634.29 1467.3 1630.47 1467.3 L1626.44 1467.3 L1626.44 1463.46 L1630.65 1463.46 Q1634.1 1463.46 1635.93 1462.09 Q1637.76 1460.7 1637.76 1458.11 Q1637.76 1455.45 1635.86 1454.04 Q1633.98 1452.6 1630.47 1452.6 Q1628.54 1452.6 1626.35 1453.02 Q1624.15 1453.44 1621.51 1454.31 L1621.51 1450.15 Q1624.17 1449.41 1626.48 1449.04 Q1628.82 1448.67 1630.88 1448.67 Q1636.21 1448.67 1639.31 1451.1 Q1642.41 1453.5 1642.41 1457.63 Q1642.41 1460.5 1640.77 1462.49 Q1639.12 1464.45 1636.09 1465.22 Z\" fill=\"#000000\" fill-rule=\"evenodd\" fill-opacity=\"1\" /><path clip-path=\"url(#clip010)\" d=\"M2296.24 1453.37 L2284.43 1471.81 L2296.24 1471.81 L2296.24 1453.37 M2295.01 1449.29 L2300.89 1449.29 L2300.89 1471.81 L2305.82 1471.81 L2305.82 1475.7 L2300.89 1475.7 L2300.89 1483.85 L2296.24 1483.85 L2296.24 1475.7 L2280.64 1475.7 L2280.64 1471.19 L2295.01 1449.29 Z\" fill=\"#000000\" fill-rule=\"evenodd\" fill-opacity=\"1\" /><path clip-path=\"url(#clip010)\" d=\"M1152.57 1520.52 L1192.77 1520.52 L1192.77 1525.93 L1175.9 1525.93 L1175.9 1568.04 L1169.44 1568.04 L1169.44 1525.93 L1152.57 1525.93 L1152.57 1520.52 Z\" fill=\"#000000\" fill-rule=\"evenodd\" fill-opacity=\"1\" /><path clip-path=\"url(#clip010)\" d=\"M1196.72 1532.4 L1202.58 1532.4 L1202.58 1568.04 L1196.72 1568.04 L1196.72 1532.4 M1196.72 1518.52 L1202.58 1518.52 L1202.58 1525.93 L1196.72 1525.93 L1196.72 1518.52 Z\" fill=\"#000000\" fill-rule=\"evenodd\" fill-opacity=\"1\" /><path clip-path=\"url(#clip010)\" d=\"M1242.58 1539.24 Q1244.78 1535.29 1247.84 1533.41 Q1250.89 1531.54 1255.03 1531.54 Q1260.6 1531.54 1263.62 1535.45 Q1266.65 1539.33 1266.65 1546.53 L1266.65 1568.04 L1260.76 1568.04 L1260.76 1546.72 Q1260.76 1541.59 1258.94 1539.11 Q1257.13 1536.63 1253.41 1536.63 Q1248.85 1536.63 1246.21 1539.65 Q1243.57 1542.68 1243.57 1547.9 L1243.57 1568.04 L1237.68 1568.04 L1237.68 1546.72 Q1237.68 1541.56 1235.87 1539.11 Q1234.05 1536.63 1230.27 1536.63 Q1225.78 1536.63 1223.14 1539.68 Q1220.5 1542.71 1220.5 1547.9 L1220.5 1568.04 L1214.61 1568.04 L1214.61 1532.4 L1220.5 1532.4 L1220.5 1537.93 Q1222.5 1534.66 1225.3 1533.1 Q1228.1 1531.54 1231.95 1531.54 Q1235.84 1531.54 1238.54 1533.51 Q1241.28 1535.48 1242.58 1539.24 Z\" fill=\"#000000\" fill-rule=\"evenodd\" fill-opacity=\"1\" /><path clip-path=\"url(#clip010)\" d=\"M1308.82 1548.76 L1308.82 1551.62 L1281.89 1551.62 Q1282.27 1557.67 1285.52 1560.85 Q1288.8 1564 1294.62 1564 Q1298 1564 1301.15 1563.17 Q1304.33 1562.35 1307.45 1560.69 L1307.45 1566.23 Q1304.3 1567.57 1300.99 1568.27 Q1297.68 1568.97 1294.27 1568.97 Q1285.74 1568.97 1280.75 1564 Q1275.78 1559.04 1275.78 1550.57 Q1275.78 1541.82 1280.49 1536.69 Q1285.23 1531.54 1293.26 1531.54 Q1300.45 1531.54 1304.62 1536.18 Q1308.82 1540.8 1308.82 1548.76 M1302.96 1547.04 Q1302.9 1542.23 1300.26 1539.37 Q1297.65 1536.5 1293.32 1536.5 Q1288.42 1536.5 1285.46 1539.27 Q1282.53 1542.04 1282.08 1547.07 L1302.96 1547.04 Z\" fill=\"#000000\" fill-rule=\"evenodd\" fill-opacity=\"1\" /><path clip-path=\"url(#clip010)\" d=\"M1341.16 1533.45 L1341.16 1538.98 Q1338.67 1537.71 1336 1537.07 Q1333.33 1536.44 1330.46 1536.44 Q1326.1 1536.44 1323.91 1537.77 Q1321.74 1539.11 1321.74 1541.79 Q1321.74 1543.82 1323.3 1545 Q1324.86 1546.15 1329.57 1547.2 L1331.58 1547.64 Q1337.82 1548.98 1340.43 1551.43 Q1343.07 1553.85 1343.07 1558.21 Q1343.07 1563.17 1339.12 1566.07 Q1335.21 1568.97 1328.33 1568.97 Q1325.47 1568.97 1322.35 1568.39 Q1319.26 1567.85 1315.82 1566.74 L1315.82 1560.69 Q1319.07 1562.38 1322.22 1563.24 Q1325.37 1564.07 1328.46 1564.07 Q1332.6 1564.07 1334.82 1562.66 Q1337.05 1561.23 1337.05 1558.65 Q1337.05 1556.27 1335.43 1554.99 Q1333.84 1553.72 1328.39 1552.54 L1326.36 1552.07 Q1320.91 1550.92 1318.5 1548.56 Q1316.08 1546.18 1316.08 1542.04 Q1316.08 1537.01 1319.64 1534.27 Q1323.21 1531.54 1329.76 1531.54 Q1333.01 1531.54 1335.87 1532.01 Q1338.74 1532.49 1341.16 1533.45 Z\" fill=\"#000000\" fill-rule=\"evenodd\" fill-opacity=\"1\" /><path clip-path=\"url(#clip010)\" d=\"M1358.19 1522.27 L1358.19 1532.4 L1370.25 1532.4 L1370.25 1536.95 L1358.19 1536.95 L1358.19 1556.3 Q1358.19 1560.66 1359.36 1561.9 Q1360.57 1563.14 1364.23 1563.14 L1370.25 1563.14 L1370.25 1568.04 L1364.23 1568.04 Q1357.45 1568.04 1354.88 1565.53 Q1352.3 1562.98 1352.3 1556.3 L1352.3 1536.95 L1348 1536.95 L1348 1532.4 L1352.3 1532.4 L1352.3 1522.27 L1358.19 1522.27 Z\" fill=\"#000000\" fill-rule=\"evenodd\" fill-opacity=\"1\" /><path clip-path=\"url(#clip010)\" d=\"M1408.44 1548.76 L1408.44 1551.62 L1381.52 1551.62 Q1381.9 1557.67 1385.14 1560.85 Q1388.42 1564 1394.25 1564 Q1397.62 1564 1400.77 1563.17 Q1403.96 1562.35 1407.07 1560.69 L1407.07 1566.23 Q1403.92 1567.57 1400.61 1568.27 Q1397.3 1568.97 1393.9 1568.97 Q1385.37 1568.97 1380.37 1564 Q1375.4 1559.04 1375.4 1550.57 Q1375.4 1541.82 1380.12 1536.69 Q1384.86 1531.54 1392.88 1531.54 Q1400.07 1531.54 1404.24 1536.18 Q1408.44 1540.8 1408.44 1548.76 M1402.59 1547.04 Q1402.52 1542.23 1399.88 1539.37 Q1397.27 1536.5 1392.94 1536.5 Q1388.04 1536.5 1385.08 1539.27 Q1382.15 1542.04 1381.71 1547.07 L1402.59 1547.04 Z\" fill=\"#000000\" fill-rule=\"evenodd\" fill-opacity=\"1\" /><path clip-path=\"url(#clip010)\" d=\"M1423.72 1562.7 L1423.72 1581.6 L1417.83 1581.6 L1417.83 1532.4 L1423.72 1532.4 L1423.72 1537.81 Q1425.57 1534.62 1428.37 1533.1 Q1431.2 1531.54 1435.12 1531.54 Q1441.61 1531.54 1445.65 1536.69 Q1449.72 1541.85 1449.72 1550.25 Q1449.72 1558.65 1445.65 1563.81 Q1441.61 1568.97 1435.12 1568.97 Q1431.2 1568.97 1428.37 1567.44 Q1425.57 1565.88 1423.72 1562.7 M1443.65 1550.25 Q1443.65 1543.79 1440.97 1540.13 Q1438.33 1536.44 1433.68 1536.44 Q1429.04 1536.44 1426.36 1540.13 Q1423.72 1543.79 1423.72 1550.25 Q1423.72 1556.71 1426.36 1560.4 Q1429.04 1564.07 1433.68 1564.07 Q1438.33 1564.07 1440.97 1560.4 Q1443.65 1556.71 1443.65 1550.25 Z\" fill=\"#000000\" fill-rule=\"evenodd\" fill-opacity=\"1\" /><polyline clip-path=\"url(#clip012)\" style=\"stroke:#000000; stroke-linecap:butt; stroke-linejoin:round; stroke-width:2; stroke-opacity:0.1; fill:none\" points=\"\n",
       "  249.542,1384.24 2352.76,1384.24 \n",
       "  \"/>\n",
       "<polyline clip-path=\"url(#clip012)\" style=\"stroke:#000000; stroke-linecap:butt; stroke-linejoin:round; stroke-width:2; stroke-opacity:0.1; fill:none\" points=\"\n",
       "  249.542,1059.73 2352.76,1059.73 \n",
       "  \"/>\n",
       "<polyline clip-path=\"url(#clip012)\" style=\"stroke:#000000; stroke-linecap:butt; stroke-linejoin:round; stroke-width:2; stroke-opacity:0.1; fill:none\" points=\"\n",
       "  249.542,735.212 2352.76,735.212 \n",
       "  \"/>\n",
       "<polyline clip-path=\"url(#clip012)\" style=\"stroke:#000000; stroke-linecap:butt; stroke-linejoin:round; stroke-width:2; stroke-opacity:0.1; fill:none\" points=\"\n",
       "  249.542,410.699 2352.76,410.699 \n",
       "  \"/>\n",
       "<polyline clip-path=\"url(#clip012)\" style=\"stroke:#000000; stroke-linecap:butt; stroke-linejoin:round; stroke-width:2; stroke-opacity:0.1; fill:none\" points=\"\n",
       "  249.542,86.1857 2352.76,86.1857 \n",
       "  \"/>\n",
       "<polyline clip-path=\"url(#clip010)\" style=\"stroke:#000000; stroke-linecap:butt; stroke-linejoin:round; stroke-width:4; stroke-opacity:1; fill:none\" points=\"\n",
       "  249.542,1423.18 249.542,47.2441 \n",
       "  \"/>\n",
       "<polyline clip-path=\"url(#clip010)\" style=\"stroke:#000000; stroke-linecap:butt; stroke-linejoin:round; stroke-width:4; stroke-opacity:1; fill:none\" points=\"\n",
       "  249.542,1384.24 274.781,1384.24 \n",
       "  \"/>\n",
       "<polyline clip-path=\"url(#clip010)\" style=\"stroke:#000000; stroke-linecap:butt; stroke-linejoin:round; stroke-width:4; stroke-opacity:1; fill:none\" points=\"\n",
       "  249.542,1059.73 274.781,1059.73 \n",
       "  \"/>\n",
       "<polyline clip-path=\"url(#clip010)\" style=\"stroke:#000000; stroke-linecap:butt; stroke-linejoin:round; stroke-width:4; stroke-opacity:1; fill:none\" points=\"\n",
       "  249.542,735.212 274.781,735.212 \n",
       "  \"/>\n",
       "<polyline clip-path=\"url(#clip010)\" style=\"stroke:#000000; stroke-linecap:butt; stroke-linejoin:round; stroke-width:4; stroke-opacity:1; fill:none\" points=\"\n",
       "  249.542,410.699 274.781,410.699 \n",
       "  \"/>\n",
       "<polyline clip-path=\"url(#clip010)\" style=\"stroke:#000000; stroke-linecap:butt; stroke-linejoin:round; stroke-width:4; stroke-opacity:1; fill:none\" points=\"\n",
       "  249.542,86.1857 274.781,86.1857 \n",
       "  \"/>\n",
       "<path clip-path=\"url(#clip010)\" d=\"M126.205 1370.04 Q122.593 1370.04 120.765 1373.6 Q118.959 1377.14 118.959 1384.27 Q118.959 1391.38 120.765 1394.94 Q122.593 1398.49 126.205 1398.49 Q129.839 1398.49 131.644 1394.94 Q133.473 1391.38 133.473 1384.27 Q133.473 1377.14 131.644 1373.6 Q129.839 1370.04 126.205 1370.04 M126.205 1366.33 Q132.015 1366.33 135.07 1370.94 Q138.149 1375.52 138.149 1384.27 Q138.149 1393 135.07 1397.61 Q132.015 1402.19 126.205 1402.19 Q120.394 1402.19 117.316 1397.61 Q114.26 1393 114.26 1384.27 Q114.26 1375.52 117.316 1370.94 Q120.394 1366.33 126.205 1366.33 Z\" fill=\"#000000\" fill-rule=\"evenodd\" fill-opacity=\"1\" /><path clip-path=\"url(#clip010)\" d=\"M146.366 1395.64 L151.251 1395.64 L151.251 1401.52 L146.366 1401.52 L146.366 1395.64 Z\" fill=\"#000000\" fill-rule=\"evenodd\" fill-opacity=\"1\" /><path clip-path=\"url(#clip010)\" d=\"M171.436 1370.04 Q167.825 1370.04 165.996 1373.6 Q164.19 1377.14 164.19 1384.27 Q164.19 1391.38 165.996 1394.94 Q167.825 1398.49 171.436 1398.49 Q175.07 1398.49 176.876 1394.94 Q178.704 1391.38 178.704 1384.27 Q178.704 1377.14 176.876 1373.6 Q175.07 1370.04 171.436 1370.04 M171.436 1366.33 Q177.246 1366.33 180.301 1370.94 Q183.38 1375.52 183.38 1384.27 Q183.38 1393 180.301 1397.61 Q177.246 1402.19 171.436 1402.19 Q165.626 1402.19 162.547 1397.61 Q159.491 1393 159.491 1384.27 Q159.491 1375.52 162.547 1370.94 Q165.626 1366.33 171.436 1366.33 Z\" fill=\"#000000\" fill-rule=\"evenodd\" fill-opacity=\"1\" /><path clip-path=\"url(#clip010)\" d=\"M201.598 1370.04 Q197.987 1370.04 196.158 1373.6 Q194.352 1377.14 194.352 1384.27 Q194.352 1391.38 196.158 1394.94 Q197.987 1398.49 201.598 1398.49 Q205.232 1398.49 207.037 1394.94 Q208.866 1391.38 208.866 1384.27 Q208.866 1377.14 207.037 1373.6 Q205.232 1370.04 201.598 1370.04 M201.598 1366.33 Q207.408 1366.33 210.463 1370.94 Q213.542 1375.52 213.542 1384.27 Q213.542 1393 210.463 1397.61 Q207.408 1402.19 201.598 1402.19 Q195.787 1402.19 192.709 1397.61 Q189.653 1393 189.653 1384.27 Q189.653 1375.52 192.709 1370.94 Q195.787 1366.33 201.598 1366.33 Z\" fill=\"#000000\" fill-rule=\"evenodd\" fill-opacity=\"1\" /><path clip-path=\"url(#clip010)\" d=\"M127.2 1045.52 Q123.589 1045.52 121.76 1049.09 Q119.955 1052.63 119.955 1059.76 Q119.955 1066.87 121.76 1070.43 Q123.589 1073.97 127.2 1073.97 Q130.834 1073.97 132.64 1070.43 Q134.468 1066.87 134.468 1059.76 Q134.468 1052.63 132.64 1049.09 Q130.834 1045.52 127.2 1045.52 M127.2 1041.82 Q133.01 1041.82 136.066 1046.43 Q139.144 1051.01 139.144 1059.76 Q139.144 1068.49 136.066 1073.09 Q133.01 1077.68 127.2 1077.68 Q121.39 1077.68 118.311 1073.09 Q115.256 1068.49 115.256 1059.76 Q115.256 1051.01 118.311 1046.43 Q121.39 1041.82 127.2 1041.82 Z\" fill=\"#000000\" fill-rule=\"evenodd\" fill-opacity=\"1\" /><path clip-path=\"url(#clip010)\" d=\"M147.362 1071.13 L152.246 1071.13 L152.246 1077.01 L147.362 1077.01 L147.362 1071.13 Z\" fill=\"#000000\" fill-rule=\"evenodd\" fill-opacity=\"1\" /><path clip-path=\"url(#clip010)\" d=\"M166.459 1073.07 L182.778 1073.07 L182.778 1077.01 L160.834 1077.01 L160.834 1073.07 Q163.496 1070.32 168.079 1065.69 Q172.686 1061.03 173.866 1059.69 Q176.112 1057.17 176.991 1055.43 Q177.894 1053.67 177.894 1051.98 Q177.894 1049.23 175.95 1047.49 Q174.028 1045.76 170.927 1045.76 Q168.727 1045.76 166.274 1046.52 Q163.843 1047.28 161.065 1048.83 L161.065 1044.11 Q163.89 1042.98 166.343 1042.4 Q168.797 1041.82 170.834 1041.82 Q176.204 1041.82 179.399 1044.51 Q182.593 1047.19 182.593 1051.68 Q182.593 1053.81 181.783 1055.73 Q180.996 1057.63 178.889 1060.22 Q178.311 1060.89 175.209 1064.11 Q172.107 1067.31 166.459 1073.07 Z\" fill=\"#000000\" fill-rule=\"evenodd\" fill-opacity=\"1\" /><path clip-path=\"url(#clip010)\" d=\"M192.639 1042.45 L210.996 1042.45 L210.996 1046.38 L196.922 1046.38 L196.922 1054.85 Q197.94 1054.51 198.959 1054.34 Q199.977 1054.16 200.996 1054.16 Q206.783 1054.16 210.162 1057.33 Q213.542 1060.5 213.542 1065.92 Q213.542 1071.5 210.07 1074.6 Q206.598 1077.68 200.278 1077.68 Q198.102 1077.68 195.834 1077.31 Q193.588 1076.94 191.181 1076.19 L191.181 1071.5 Q193.264 1072.63 195.487 1073.19 Q197.709 1073.74 200.186 1073.74 Q204.19 1073.74 206.528 1071.63 Q208.866 1069.53 208.866 1065.92 Q208.866 1062.31 206.528 1060.2 Q204.19 1058.09 200.186 1058.09 Q198.311 1058.09 196.436 1058.51 Q194.584 1058.93 192.639 1059.81 L192.639 1042.45 Z\" fill=\"#000000\" fill-rule=\"evenodd\" fill-opacity=\"1\" /><path clip-path=\"url(#clip010)\" d=\"M126.205 721.011 Q122.593 721.011 120.765 724.575 Q118.959 728.117 118.959 735.247 Q118.959 742.353 120.765 745.918 Q122.593 749.46 126.205 749.46 Q129.839 749.46 131.644 745.918 Q133.473 742.353 133.473 735.247 Q133.473 728.117 131.644 724.575 Q129.839 721.011 126.205 721.011 M126.205 717.307 Q132.015 717.307 135.07 721.913 Q138.149 726.497 138.149 735.247 Q138.149 743.973 135.07 748.58 Q132.015 753.163 126.205 753.163 Q120.394 753.163 117.316 748.58 Q114.26 743.973 114.26 735.247 Q114.26 726.497 117.316 721.913 Q120.394 717.307 126.205 717.307 Z\" fill=\"#000000\" fill-rule=\"evenodd\" fill-opacity=\"1\" /><path clip-path=\"url(#clip010)\" d=\"M146.366 746.612 L151.251 746.612 L151.251 752.492 L146.366 752.492 L146.366 746.612 Z\" fill=\"#000000\" fill-rule=\"evenodd\" fill-opacity=\"1\" /><path clip-path=\"url(#clip010)\" d=\"M161.482 717.932 L179.839 717.932 L179.839 721.867 L165.765 721.867 L165.765 730.339 Q166.783 729.992 167.802 729.83 Q168.82 729.645 169.839 729.645 Q175.626 729.645 179.005 732.816 Q182.385 735.987 182.385 741.404 Q182.385 746.983 178.913 750.085 Q175.44 753.163 169.121 753.163 Q166.945 753.163 164.677 752.793 Q162.431 752.423 160.024 751.682 L160.024 746.983 Q162.107 748.117 164.329 748.673 Q166.552 749.228 169.028 749.228 Q173.033 749.228 175.371 747.122 Q177.709 745.015 177.709 741.404 Q177.709 737.793 175.371 735.687 Q173.033 733.58 169.028 733.58 Q167.153 733.58 165.278 733.997 Q163.427 734.413 161.482 735.293 L161.482 717.932 Z\" fill=\"#000000\" fill-rule=\"evenodd\" fill-opacity=\"1\" /><path clip-path=\"url(#clip010)\" d=\"M201.598 721.011 Q197.987 721.011 196.158 724.575 Q194.352 728.117 194.352 735.247 Q194.352 742.353 196.158 745.918 Q197.987 749.46 201.598 749.46 Q205.232 749.46 207.037 745.918 Q208.866 742.353 208.866 735.247 Q208.866 728.117 207.037 724.575 Q205.232 721.011 201.598 721.011 M201.598 717.307 Q207.408 717.307 210.463 721.913 Q213.542 726.497 213.542 735.247 Q213.542 743.973 210.463 748.58 Q207.408 753.163 201.598 753.163 Q195.787 753.163 192.709 748.58 Q189.653 743.973 189.653 735.247 Q189.653 726.497 192.709 721.913 Q195.787 717.307 201.598 717.307 Z\" fill=\"#000000\" fill-rule=\"evenodd\" fill-opacity=\"1\" /><path clip-path=\"url(#clip010)\" d=\"M127.2 396.498 Q123.589 396.498 121.76 400.062 Q119.955 403.604 119.955 410.734 Q119.955 417.84 121.76 421.405 Q123.589 424.946 127.2 424.946 Q130.834 424.946 132.64 421.405 Q134.468 417.84 134.468 410.734 Q134.468 403.604 132.64 400.062 Q130.834 396.498 127.2 396.498 M127.2 392.794 Q133.01 392.794 136.066 397.4 Q139.144 401.984 139.144 410.734 Q139.144 419.46 136.066 424.067 Q133.01 428.65 127.2 428.65 Q121.39 428.65 118.311 424.067 Q115.256 419.46 115.256 410.734 Q115.256 401.984 118.311 397.4 Q121.39 392.794 127.2 392.794 Z\" fill=\"#000000\" fill-rule=\"evenodd\" fill-opacity=\"1\" /><path clip-path=\"url(#clip010)\" d=\"M147.362 422.099 L152.246 422.099 L152.246 427.979 L147.362 427.979 L147.362 422.099 Z\" fill=\"#000000\" fill-rule=\"evenodd\" fill-opacity=\"1\" /><path clip-path=\"url(#clip010)\" d=\"M161.251 393.419 L183.473 393.419 L183.473 395.41 L170.927 427.979 L166.042 427.979 L177.848 397.354 L161.251 397.354 L161.251 393.419 Z\" fill=\"#000000\" fill-rule=\"evenodd\" fill-opacity=\"1\" /><path clip-path=\"url(#clip010)\" d=\"M192.639 393.419 L210.996 393.419 L210.996 397.354 L196.922 397.354 L196.922 405.826 Q197.94 405.479 198.959 405.317 Q199.977 405.132 200.996 405.132 Q206.783 405.132 210.162 408.303 Q213.542 411.474 213.542 416.891 Q213.542 422.47 210.07 425.571 Q206.598 428.65 200.278 428.65 Q198.102 428.65 195.834 428.28 Q193.588 427.909 191.181 427.169 L191.181 422.47 Q193.264 423.604 195.487 424.159 Q197.709 424.715 200.186 424.715 Q204.19 424.715 206.528 422.608 Q208.866 420.502 208.866 416.891 Q208.866 413.28 206.528 411.173 Q204.19 409.067 200.186 409.067 Q198.311 409.067 196.436 409.484 Q194.584 409.9 192.639 410.78 L192.639 393.419 Z\" fill=\"#000000\" fill-rule=\"evenodd\" fill-opacity=\"1\" /><path clip-path=\"url(#clip010)\" d=\"M117.015 99.5305 L124.654 99.5305 L124.654 73.1649 L116.343 74.8316 L116.343 70.5723 L124.607 68.9057 L129.283 68.9057 L129.283 99.5305 L136.922 99.5305 L136.922 103.466 L117.015 103.466 L117.015 99.5305 Z\" fill=\"#000000\" fill-rule=\"evenodd\" fill-opacity=\"1\" /><path clip-path=\"url(#clip010)\" d=\"M146.366 97.5861 L151.251 97.5861 L151.251 103.466 L146.366 103.466 L146.366 97.5861 Z\" fill=\"#000000\" fill-rule=\"evenodd\" fill-opacity=\"1\" /><path clip-path=\"url(#clip010)\" d=\"M171.436 71.9844 Q167.825 71.9844 165.996 75.5492 Q164.19 79.0908 164.19 86.2204 Q164.19 93.3268 165.996 96.8916 Q167.825 100.433 171.436 100.433 Q175.07 100.433 176.876 96.8916 Q178.704 93.3268 178.704 86.2204 Q178.704 79.0908 176.876 75.5492 Q175.07 71.9844 171.436 71.9844 M171.436 68.2807 Q177.246 68.2807 180.301 72.8871 Q183.38 77.4704 183.38 86.2204 Q183.38 94.9472 180.301 99.5537 Q177.246 104.137 171.436 104.137 Q165.626 104.137 162.547 99.5537 Q159.491 94.9472 159.491 86.2204 Q159.491 77.4704 162.547 72.8871 Q165.626 68.2807 171.436 68.2807 Z\" fill=\"#000000\" fill-rule=\"evenodd\" fill-opacity=\"1\" /><path clip-path=\"url(#clip010)\" d=\"M201.598 71.9844 Q197.987 71.9844 196.158 75.5492 Q194.352 79.0908 194.352 86.2204 Q194.352 93.3268 196.158 96.8916 Q197.987 100.433 201.598 100.433 Q205.232 100.433 207.037 96.8916 Q208.866 93.3268 208.866 86.2204 Q208.866 79.0908 207.037 75.5492 Q205.232 71.9844 201.598 71.9844 M201.598 68.2807 Q207.408 68.2807 210.463 72.8871 Q213.542 77.4704 213.542 86.2204 Q213.542 94.9472 210.463 99.5537 Q207.408 104.137 201.598 104.137 Q195.787 104.137 192.709 99.5537 Q189.653 94.9472 189.653 86.2204 Q189.653 77.4704 192.709 72.8871 Q195.787 68.2807 201.598 68.2807 Z\" fill=\"#000000\" fill-rule=\"evenodd\" fill-opacity=\"1\" /><path clip-path=\"url(#clip010)\" d=\"M45.7664 725.138 Q39.4007 725.138 35.8996 727.78 Q32.3984 730.39 32.3984 735.132 Q32.3984 739.843 35.8996 742.485 Q39.4007 745.095 45.7664 745.095 Q52.1003 745.095 55.6014 742.485 Q59.1026 739.843 59.1026 735.132 Q59.1026 730.39 55.6014 727.78 Q52.1003 725.138 45.7664 725.138 M59.58 719.282 Q68.683 719.282 73.1071 723.324 Q77.5631 727.366 77.5631 735.705 Q77.5631 738.793 77.0857 741.53 Q76.6401 744.267 75.6852 746.845 L69.9879 746.845 Q71.3884 744.267 72.0568 741.753 Q72.7252 739.238 72.7252 736.628 Q72.7252 730.867 69.7015 728.003 Q66.7096 725.138 60.6303 725.138 L57.7339 725.138 Q60.885 726.952 62.4446 729.785 Q64.0042 732.618 64.0042 736.565 Q64.0042 743.121 59.0071 747.132 Q54.01 751.142 45.7664 751.142 Q37.491 751.142 32.4939 747.132 Q27.4968 743.121 27.4968 736.565 Q27.4968 732.618 29.0564 729.785 Q30.616 726.952 33.7671 725.138 L28.3562 725.138 L28.3562 719.282 L59.58 719.282 Z\" fill=\"#000000\" fill-rule=\"evenodd\" fill-opacity=\"1\" /><polyline clip-path=\"url(#clip012)\" style=\"stroke:#009af9; stroke-linecap:butt; stroke-linejoin:round; stroke-width:4; stroke-opacity:1; fill:none\" points=\"\n",
       "  309.067,1384.24 970.455,1384.24 1631.84,1384.24 2293.23,1384.24 \n",
       "  \"/>\n",
       "<polyline clip-path=\"url(#clip012)\" style=\"stroke:#e26f46; stroke-linecap:butt; stroke-linejoin:round; stroke-width:4; stroke-opacity:1; fill:none\" points=\"\n",
       "  309.067,1384.24 970.455,1384.24 1631.84,1384.24 2293.23,1384.24 \n",
       "  \"/>\n",
       "<polyline clip-path=\"url(#clip012)\" style=\"stroke:#3da44d; stroke-linecap:butt; stroke-linejoin:round; stroke-width:4; stroke-opacity:1; fill:none\" points=\"\n",
       "  309.067,1384.24 970.455,1384.24 1631.84,1384.24 2293.23,1384.24 \n",
       "  \"/>\n",
       "<polyline clip-path=\"url(#clip012)\" style=\"stroke:#c271d2; stroke-linecap:butt; stroke-linejoin:round; stroke-width:4; stroke-opacity:1; fill:none\" points=\"\n",
       "  309.067,1384.24 970.455,1384.24 1631.84,1384.24 2293.23,1384.24 \n",
       "  \"/>\n",
       "<path clip-path=\"url(#clip010)\" d=\"\n",
       "M1994.82 395.509 L2282.65 395.509 L2282.65 93.1086 L1994.82 93.1086  Z\n",
       "  \" fill=\"#ffffff\" fill-rule=\"evenodd\" fill-opacity=\"1\"/>\n",
       "<polyline clip-path=\"url(#clip010)\" style=\"stroke:#000000; stroke-linecap:butt; stroke-linejoin:round; stroke-width:4; stroke-opacity:1; fill:none\" points=\"\n",
       "  1994.82,395.509 2282.65,395.509 2282.65,93.1086 1994.82,93.1086 1994.82,395.509 \n",
       "  \"/>\n",
       "<polyline clip-path=\"url(#clip010)\" style=\"stroke:#009af9; stroke-linecap:butt; stroke-linejoin:round; stroke-width:4; stroke-opacity:1; fill:none\" points=\"\n",
       "  2018.18,153.589 2158.4,153.589 \n",
       "  \"/>\n",
       "<path clip-path=\"url(#clip010)\" d=\"M2195.61 173.276 Q2193.8 177.906 2192.09 179.318 Q2190.38 180.73 2187.51 180.73 L2184.11 180.73 L2184.11 177.165 L2186.61 177.165 Q2188.36 177.165 2189.34 176.332 Q2190.31 175.498 2191.49 172.396 L2192.25 170.452 L2181.77 144.943 L2186.28 144.943 L2194.38 165.221 L2202.48 144.943 L2207 144.943 L2195.61 173.276 Z\" fill=\"#000000\" fill-rule=\"evenodd\" fill-opacity=\"1\" /><path clip-path=\"url(#clip010)\" d=\"M2214.29 166.933 L2221.93 166.933 L2221.93 140.568 L2213.62 142.235 L2213.62 137.975 L2221.88 136.309 L2226.56 136.309 L2226.56 166.933 L2234.2 166.933 L2234.2 170.869 L2214.29 170.869 L2214.29 166.933 Z\" fill=\"#000000\" fill-rule=\"evenodd\" fill-opacity=\"1\" /><polyline clip-path=\"url(#clip010)\" style=\"stroke:#e26f46; stroke-linecap:butt; stroke-linejoin:round; stroke-width:4; stroke-opacity:1; fill:none\" points=\"\n",
       "  2018.18,214.069 2158.4,214.069 \n",
       "  \"/>\n",
       "<path clip-path=\"url(#clip010)\" d=\"M2195.61 233.756 Q2193.8 238.386 2192.09 239.798 Q2190.38 241.21 2187.51 241.21 L2184.11 241.21 L2184.11 237.645 L2186.61 237.645 Q2188.36 237.645 2189.34 236.812 Q2190.31 235.978 2191.49 232.876 L2192.25 230.932 L2181.77 205.423 L2186.28 205.423 L2194.38 225.701 L2202.48 205.423 L2207 205.423 L2195.61 233.756 Z\" fill=\"#000000\" fill-rule=\"evenodd\" fill-opacity=\"1\" /><path clip-path=\"url(#clip010)\" d=\"M2217.51 227.413 L2233.83 227.413 L2233.83 231.349 L2211.88 231.349 L2211.88 227.413 Q2214.55 224.659 2219.13 220.029 Q2223.73 215.376 2224.92 214.034 Q2227.16 211.511 2228.04 209.775 Q2228.94 208.015 2228.94 206.326 Q2228.94 203.571 2227 201.835 Q2225.08 200.099 2221.98 200.099 Q2219.78 200.099 2217.32 200.863 Q2214.89 201.627 2212.11 203.177 L2212.11 198.455 Q2214.94 197.321 2217.39 196.742 Q2219.85 196.164 2221.88 196.164 Q2227.25 196.164 2230.45 198.849 Q2233.64 201.534 2233.64 206.025 Q2233.64 208.154 2232.83 210.076 Q2232.04 211.974 2229.94 214.566 Q2229.36 215.238 2226.26 218.455 Q2223.16 221.65 2217.51 227.413 Z\" fill=\"#000000\" fill-rule=\"evenodd\" fill-opacity=\"1\" /><polyline clip-path=\"url(#clip010)\" style=\"stroke:#3da44d; stroke-linecap:butt; stroke-linejoin:round; stroke-width:4; stroke-opacity:1; fill:none\" points=\"\n",
       "  2018.18,274.549 2158.4,274.549 \n",
       "  \"/>\n",
       "<path clip-path=\"url(#clip010)\" d=\"M2195.61 294.236 Q2193.8 298.866 2192.09 300.278 Q2190.38 301.69 2187.51 301.69 L2184.11 301.69 L2184.11 298.125 L2186.61 298.125 Q2188.36 298.125 2189.34 297.292 Q2190.31 296.458 2191.49 293.356 L2192.25 291.412 L2181.77 265.903 L2186.28 265.903 L2194.38 286.181 L2202.48 265.903 L2207 265.903 L2195.61 294.236 Z\" fill=\"#000000\" fill-rule=\"evenodd\" fill-opacity=\"1\" /><path clip-path=\"url(#clip010)\" d=\"M2227.65 273.194 Q2231 273.912 2232.88 276.181 Q2234.78 278.449 2234.78 281.782 Q2234.78 286.898 2231.26 289.699 Q2227.74 292.5 2221.26 292.5 Q2219.08 292.5 2216.77 292.06 Q2214.48 291.643 2212.02 290.787 L2212.02 286.273 Q2213.97 287.407 2216.28 287.986 Q2218.6 288.565 2221.12 288.565 Q2225.52 288.565 2227.81 286.829 Q2230.12 285.093 2230.12 281.782 Q2230.12 278.727 2227.97 277.014 Q2225.84 275.278 2222.02 275.278 L2217.99 275.278 L2217.99 271.435 L2222.21 271.435 Q2225.66 271.435 2227.48 270.069 Q2229.31 268.681 2229.31 266.088 Q2229.31 263.426 2227.42 262.014 Q2225.54 260.579 2222.02 260.579 Q2220.1 260.579 2217.9 260.995 Q2215.7 261.412 2213.06 262.292 L2213.06 258.125 Q2215.73 257.384 2218.04 257.014 Q2220.38 256.644 2222.44 256.644 Q2227.76 256.644 2230.86 259.074 Q2233.97 261.482 2233.97 265.602 Q2233.97 268.472 2232.32 270.463 Q2230.68 272.431 2227.65 273.194 Z\" fill=\"#000000\" fill-rule=\"evenodd\" fill-opacity=\"1\" /><polyline clip-path=\"url(#clip010)\" style=\"stroke:#c271d2; stroke-linecap:butt; stroke-linejoin:round; stroke-width:4; stroke-opacity:1; fill:none\" points=\"\n",
       "  2018.18,335.029 2158.4,335.029 \n",
       "  \"/>\n",
       "<path clip-path=\"url(#clip010)\" d=\"M2195.61 354.716 Q2193.8 359.346 2192.09 360.758 Q2190.38 362.17 2187.51 362.17 L2184.11 362.17 L2184.11 358.605 L2186.61 358.605 Q2188.36 358.605 2189.34 357.772 Q2190.31 356.938 2191.49 353.836 L2192.25 351.892 L2181.77 326.383 L2186.28 326.383 L2194.38 346.661 L2202.48 326.383 L2207 326.383 L2195.61 354.716 Z\" fill=\"#000000\" fill-rule=\"evenodd\" fill-opacity=\"1\" /><path clip-path=\"url(#clip010)\" d=\"M2226.33 321.823 L2214.52 340.272 L2226.33 340.272 L2226.33 321.823 M2225.1 317.749 L2230.98 317.749 L2230.98 340.272 L2235.91 340.272 L2235.91 344.161 L2230.98 344.161 L2230.98 352.309 L2226.33 352.309 L2226.33 344.161 L2210.73 344.161 L2210.73 339.647 L2225.1 317.749 Z\" fill=\"#000000\" fill-rule=\"evenodd\" fill-opacity=\"1\" /></svg>\n"
      ]
     },
     "execution_count": 45,
     "metadata": {},
     "output_type": "execute_result"
    }
   ],
   "source": [
    "plot(g_vals')\n",
    "xlabel!(\"Timestep\")\n",
    "ylabel!(\"g\")"
   ]
  },
  {
   "cell_type": "code",
   "execution_count": 46,
   "metadata": {},
   "outputs": [
    {
     "ename": "LoadError",
     "evalue": "UndefVarError: dmin not defined",
     "output_type": "error",
     "traceback": [
      "UndefVarError: dmin not defined",
      "",
      "Stacktrace:",
      " [1] top-level scope",
      "   @ In[46]:1",
      " [2] eval",
      "   @ ./boot.jl:360 [inlined]",
      " [3] include_string(mapexpr::typeof(REPL.softscope), mod::Module, code::String, filename::String)",
      "   @ Base ./loading.jl:1094"
     ]
    }
   ],
   "source": [
    "x = flatten_variables_dyn(dmin);\n",
    "KKT = kkt_dyn(x, dnet, d_dyn);\n",
    "TOL=1e-6;\n",
    "\n",
    "@show norm(KKT)\n",
    "@show sum(abs.(KKT).>TOL);"
   ]
  },
  {
   "cell_type": "markdown",
   "metadata": {},
   "source": [
    "----"
   ]
  },
  {
   "cell_type": "markdown",
   "metadata": {},
   "source": [
    "# Computing the KKTs and the Jacobian"
   ]
  },
  {
   "cell_type": "markdown",
   "metadata": {},
   "source": [
    "## Figuring out the order of constraints/variables"
   ]
  },
  {
   "cell_type": "code",
   "execution_count": 47,
   "metadata": {},
   "outputs": [
    {
     "ename": "LoadError",
     "evalue": "UndefVarError: dmin not defined",
     "output_type": "error",
     "traceback": [
      "UndefVarError: dmin not defined",
      "",
      "Stacktrace:",
      " [1] top-level scope",
      "   @ In[47]:1",
      " [2] eval",
      "   @ ./boot.jl:360 [inlined]",
      " [3] include_string(mapexpr::typeof(REPL.softscope), mod::Module, code::String, filename::String)",
      "   @ Base ./loading.jl:1094"
     ]
    }
   ],
   "source": [
    "x = flatten_variables_dyn(dmin);"
   ]
  },
  {
   "cell_type": "code",
   "execution_count": 48,
   "metadata": {},
   "outputs": [
    {
     "ename": "LoadError",
     "evalue": "UndefVarError: x not defined",
     "output_type": "error",
     "traceback": [
      "UndefVarError: x not defined",
      "",
      "Stacktrace:",
      " [1] top-level scope",
      "   @ In[48]:1",
      " [2] eval",
      "   @ ./boot.jl:360 [inlined]",
      " [3] include_string(mapexpr::typeof(REPL.softscope), mod::Module, code::String, filename::String)",
      "   @ Base ./loading.jl:1094"
     ]
    }
   ],
   "source": [
    "g, p, s, ch, dis, λpl, λpu, λgl, λgu, ν, λsl, λsu, λchl, λchu, λdisl, λdisu, νs = unflatten_variables_dyn(x, n, m, l, T);"
   ]
  },
  {
   "cell_type": "code",
   "execution_count": 49,
   "metadata": {},
   "outputs": [
    {
     "ename": "LoadError",
     "evalue": "UndefVarError: x not defined",
     "output_type": "error",
     "traceback": [
      "UndefVarError: x not defined",
      "",
      "Stacktrace:",
      " [1] top-level scope",
      "   @ In[49]:1",
      " [2] eval",
      "   @ ./boot.jl:360 [inlined]",
      " [3] include_string(mapexpr::typeof(REPL.softscope), mod::Module, code::String, filename::String)",
      "   @ Base ./loading.jl:1094"
     ]
    }
   ],
   "source": [
    "KKT = kkt_dyn(x, dnet, d_dyn);\n",
    "\n",
    "TOL=1e-6;\n",
    "\n",
    "@show norm(KKT)\n",
    "\n",
    "@show sum(abs.(KKT).>TOL);"
   ]
  },
  {
   "cell_type": "markdown",
   "metadata": {},
   "source": [
    "### Looking for indices where `KKT \\neq 0`"
   ]
  },
  {
   "cell_type": "code",
   "execution_count": 50,
   "metadata": {},
   "outputs": [],
   "source": [
    "static_length = kkt_dims(n, m, l)\n",
    "storage_length = storage_kkt_dims(n);"
   ]
  },
  {
   "cell_type": "code",
   "execution_count": 51,
   "metadata": {},
   "outputs": [
    {
     "ename": "LoadError",
     "evalue": "UndefVarError: KKT not defined",
     "output_type": "error",
     "traceback": [
      "UndefVarError: KKT not defined",
      "",
      "Stacktrace:",
      " [1] macro expansion",
      "   @ ./show.jl:955 [inlined]",
      " [2] top-level scope",
      "   @ ./In[51]:4",
      " [3] eval",
      "   @ ./boot.jl:360 [inlined]",
      " [4] include_string(mapexpr::typeof(REPL.softscope), mod::Module, code::String, filename::String)",
      "   @ Base ./loading.jl:1094"
     ]
    }
   ],
   "source": [
    "# static\n",
    "for t in 1:T\n",
    "    start_stat = (t-1) * static_length\n",
    "    @show t, sum(abs.(KKT[start_stat+1:start_stat + static_length]).> TOL)\n",
    "end"
   ]
  },
  {
   "cell_type": "code",
   "execution_count": 52,
   "metadata": {},
   "outputs": [
    {
     "ename": "LoadError",
     "evalue": "UndefVarError: KKT not defined",
     "output_type": "error",
     "traceback": [
      "UndefVarError: KKT not defined",
      "",
      "Stacktrace:",
      " [1] macro expansion",
      "   @ ./show.jl:955 [inlined]",
      " [2] top-level scope",
      "   @ ./In[52]:4",
      " [3] eval",
      "   @ ./boot.jl:360 [inlined]",
      " [4] include_string(mapexpr::typeof(REPL.softscope), mod::Module, code::String, filename::String)",
      "   @ Base ./loading.jl:1094"
     ]
    }
   ],
   "source": [
    "# storage\n",
    "for t in 1:T\n",
    "    start_stor = T*static_length + (t-1) * storage_length\n",
    "    @show t, sum(abs.(KKT[start_stor+1:start_stor + storage_length]).> TOL)\n",
    "end"
   ]
  },
  {
   "cell_type": "code",
   "execution_count": 53,
   "metadata": {},
   "outputs": [
    {
     "ename": "LoadError",
     "evalue": "UndefVarError: KKT not defined",
     "output_type": "error",
     "traceback": [
      "UndefVarError: KKT not defined",
      "",
      "Stacktrace:",
      " [1] top-level scope",
      "   @ In[53]:3",
      " [2] eval",
      "   @ ./boot.jl:360 [inlined]",
      " [3] include_string(mapexpr::typeof(REPL.softscope), mod::Module, code::String, filename::String)",
      "   @ Base ./loading.jl:1094"
     ]
    }
   ],
   "source": [
    "t = 2\n",
    "start_stor = T*static_length + (t-1) * storage_length\n",
    "KKT_st = KKT[start_stor+1:start_stor + storage_length]\n",
    "for k in 1:5\n",
    "    @show k, norm(KKT_st[(k-1)*n+1:k*n])\n",
    "end\n"
   ]
  },
  {
   "cell_type": "markdown",
   "metadata": {},
   "source": [
    "## Test current functions"
   ]
  },
  {
   "cell_type": "markdown",
   "metadata": {},
   "source": [
    "Here below are a few tests for the flatten/unflatten functions"
   ]
  },
  {
   "cell_type": "code",
   "execution_count": 54,
   "metadata": {},
   "outputs": [
    {
     "ename": "LoadError",
     "evalue": "UndefVarError: dmin not defined",
     "output_type": "error",
     "traceback": [
      "UndefVarError: dmin not defined",
      "",
      "Stacktrace:",
      " [1] top-level scope",
      "   @ In[54]:1",
      " [2] eval",
      "   @ ./boot.jl:360 [inlined]",
      " [3] include_string(mapexpr::typeof(REPL.softscope), mod::Module, code::String, filename::String)",
      "   @ Base ./loading.jl:1094"
     ]
    }
   ],
   "source": [
    "x = flatten_variables_dyn(dmin);"
   ]
  },
  {
   "cell_type": "code",
   "execution_count": 55,
   "metadata": {},
   "outputs": [
    {
     "ename": "LoadError",
     "evalue": "UndefVarError: x not defined",
     "output_type": "error",
     "traceback": [
      "UndefVarError: x not defined",
      "",
      "Stacktrace:",
      " [1] top-level scope",
      "   @ In[55]:1",
      " [2] eval",
      "   @ ./boot.jl:360 [inlined]",
      " [3] include_string(mapexpr::typeof(REPL.softscope), mod::Module, code::String, filename::String)",
      "   @ Base ./loading.jl:1094"
     ]
    }
   ],
   "source": [
    "g, p, s, ch, dis, λpl, λpu, λgl, λgu, ν, λsl, λsu, λchl, λchu, λdisl, λdisu, νs = unflatten_variables_dyn(x, n, m, l, T);"
   ]
  },
  {
   "cell_type": "markdown",
   "metadata": {},
   "source": [
    "### Primal variables extracted properly?"
   ]
  },
  {
   "cell_type": "code",
   "execution_count": 56,
   "metadata": {},
   "outputs": [],
   "source": [
    "t = 3;"
   ]
  },
  {
   "cell_type": "code",
   "execution_count": 57,
   "metadata": {},
   "outputs": [
    {
     "ename": "LoadError",
     "evalue": "UndefVarError: g not defined",
     "output_type": "error",
     "traceback": [
      "UndefVarError: g not defined",
      "",
      "Stacktrace:",
      " [1] top-level scope",
      "   @ show.jl:955",
      " [2] eval",
      "   @ ./boot.jl:360 [inlined]",
      " [3] include_string(mapexpr::typeof(REPL.softscope), mod::Module, code::String, filename::String)",
      "   @ Base ./loading.jl:1094"
     ]
    }
   ],
   "source": [
    "@show norm(g[t] - dmin.g[t].value)\n",
    "@show norm(p[t] - dmin.p[t].value)\n",
    "@show norm(s[t] - dmin.s[t].value);\n",
    "    "
   ]
  },
  {
   "cell_type": "markdown",
   "metadata": {},
   "source": [
    "### Dual variables extracted properly?"
   ]
  },
  {
   "cell_type": "code",
   "execution_count": 58,
   "metadata": {},
   "outputs": [
    {
     "ename": "LoadError",
     "evalue": "UndefVarError: λpl not defined",
     "output_type": "error",
     "traceback": [
      "UndefVarError: λpl not defined",
      "",
      "Stacktrace:",
      " [1] top-level scope",
      "   @ show.jl:955",
      " [2] eval",
      "   @ ./boot.jl:360 [inlined]",
      " [3] include_string(mapexpr::typeof(REPL.softscope), mod::Module, code::String, filename::String)",
      "   @ Base ./loading.jl:1094"
     ]
    }
   ],
   "source": [
    "n_constraints_static = 5\n",
    "start_index = (t-1)*n_constraints_static\n",
    "\n",
    "@show norm(λpl[t] - dmin.problem.constraints[start_index+1].dual)\n",
    "@show norm(λpu[t] - dmin.problem.constraints[start_index+2].dual)\n",
    "@show norm(λgl[t] - dmin.problem.constraints[start_index+3].dual)\n",
    "@show norm(λgu[t] - dmin.problem.constraints[start_index+4].dual)\n",
    "@show norm(ν[t] - dmin.problem.constraints[start_index+5].dual)\n",
    "\n",
    "start_index = T*n_constraints_static\n",
    "@show norm(λsl[t] - dmin.problem.constraints[start_index+1].dual)\n",
    "@show norm(λsu[t] - dmin.problem.constraints[start_index+2].dual)\n",
    "@show norm(λchl[t] - dmin.problem.constraints[start_index+3].dual)\n",
    "@show norm(λchu[t] - dmin.problem.constraints[start_index+4].dual)\n",
    "@show norm(λdisl[t] - dmin.problem.constraints[start_index+5].dual)\n",
    "@show norm(λdisl[t] - dmin.problem.constraints[start_index+6].dual)\n",
    "@show norm(νs[t] - dmin.problem.constraints[start_index+7].dual);"
   ]
  },
  {
   "cell_type": "markdown",
   "metadata": {},
   "source": [
    "# Sensitivity demand checks"
   ]
  },
  {
   "cell_type": "markdown",
   "metadata": {},
   "source": [
    "Here we basically test the sensitivity to demand routine. We solve the problem with some linear costs (for which the gradient $\\nabla C$ is very easy to compute). "
   ]
  },
  {
   "cell_type": "markdown",
   "metadata": {},
   "source": [
    "## One timestep - no storage capacity"
   ]
  },
  {
   "cell_type": "markdown",
   "metadata": {},
   "source": [
    "In this case, there is no storage capacity, so it should behave exactly the same as a static network."
   ]
  },
  {
   "cell_type": "code",
   "execution_count": 59,
   "metadata": {},
   "outputs": [],
   "source": [
    "T = 1\n",
    "\n",
    "# cq_dyn = [cq for _ in 1:T]\n",
    "cq_dyn = [zeros(l) for _ in 1:T]\n",
    "cl_dyn = [cl for _ in 1:T]\n",
    "pmax_dyn = [pmax for _ in 1:T]\n",
    "gmax_dyn = [gmax for _ in 1:T]\n",
    "d_dyn = Tuple(d for _ in 1:T)\n",
    "\n",
    "P = rand(Exponential(2), n)\n",
    "# C = rand(Exponential(2), n)\n",
    "C = zeros(n)\n",
    ";"
   ]
  },
  {
   "cell_type": "code",
   "execution_count": 60,
   "metadata": {},
   "outputs": [
    {
     "ename": "LoadError",
     "evalue": "MethodError: no method matching DynamicPowerNetwork(::Vector{Vector{Float64}}, ::Vector{Vector{Float64}}, ::Vector{Vector{Float64}}, ::Vector{Vector{Float64}}, ::SparseMatrixCSC{Int64, Int64}, ::SparseMatrixCSC{Float64, Int64}, ::Vector{Float64}, ::Vector{Float64})\n\u001b[0mClosest candidates are:\n\u001b[0m  DynamicPowerNetwork(::Any, ::Any, ::Any, ::Any, ::Any, ::Any, ::Any, ::Any, \u001b[91m::Any\u001b[39m; τ) at /Users/lucasfuentes/Documents/Ideas/EnergyNetworks/CarbonNetworks.jl/src/dyn_model.jl:43\n\u001b[0m  DynamicPowerNetwork(::Any, ::Any, ::Any, ::Any, ::Any, ::Any, ::Any, ::Any, \u001b[91m::Any\u001b[39m, \u001b[91m::Any\u001b[39m) at /Users/lucasfuentes/Documents/Ideas/EnergyNetworks/CarbonNetworks.jl/src/dyn_model.jl:31",
     "output_type": "error",
     "traceback": [
      "MethodError: no method matching DynamicPowerNetwork(::Vector{Vector{Float64}}, ::Vector{Vector{Float64}}, ::Vector{Vector{Float64}}, ::Vector{Vector{Float64}}, ::SparseMatrixCSC{Int64, Int64}, ::SparseMatrixCSC{Float64, Int64}, ::Vector{Float64}, ::Vector{Float64})\n\u001b[0mClosest candidates are:\n\u001b[0m  DynamicPowerNetwork(::Any, ::Any, ::Any, ::Any, ::Any, ::Any, ::Any, ::Any, \u001b[91m::Any\u001b[39m; τ) at /Users/lucasfuentes/Documents/Ideas/EnergyNetworks/CarbonNetworks.jl/src/dyn_model.jl:43\n\u001b[0m  DynamicPowerNetwork(::Any, ::Any, ::Any, ::Any, ::Any, ::Any, ::Any, ::Any, \u001b[91m::Any\u001b[39m, \u001b[91m::Any\u001b[39m) at /Users/lucasfuentes/Documents/Ideas/EnergyNetworks/CarbonNetworks.jl/src/dyn_model.jl:31",
      "",
      "Stacktrace:",
      " [1] top-level scope",
      "   @ In[60]:1",
      " [2] eval",
      "   @ ./boot.jl:360 [inlined]",
      " [3] include_string(mapexpr::typeof(REPL.softscope), mod::Module, code::String, filename::String)",
      "   @ Base ./loading.jl:1094"
     ]
    }
   ],
   "source": [
    "dnet = DynamicPowerNetwork(\n",
    "    cq_dyn, cl_dyn, pmax_dyn, gmax_dyn, A, B, P, C\n",
    ")\n",
    "dmin = DynamicPowerManagementProblem(dnet, d_dyn);"
   ]
  },
  {
   "cell_type": "code",
   "execution_count": 61,
   "metadata": {},
   "outputs": [
    {
     "ename": "LoadError",
     "evalue": "UndefVarError: dmin not defined",
     "output_type": "error",
     "traceback": [
      "UndefVarError: dmin not defined",
      "",
      "Stacktrace:",
      " [1] top-level scope",
      "   @ In[61]:1",
      " [2] eval",
      "   @ ./boot.jl:360 [inlined]",
      " [3] include_string(mapexpr::typeof(REPL.softscope), mod::Module, code::String, filename::String)",
      "   @ Base ./loading.jl:1094"
     ]
    }
   ],
   "source": [
    "solve!(dmin, OPT, verbose=true);"
   ]
  },
  {
   "cell_type": "code",
   "execution_count": 62,
   "metadata": {},
   "outputs": [
    {
     "ename": "LoadError",
     "evalue": "UndefVarError: dmin not defined",
     "output_type": "error",
     "traceback": [
      "UndefVarError: dmin not defined",
      "",
      "Stacktrace:",
      " [1] top-level scope",
      "   @ In[62]:1",
      " [2] eval",
      "   @ ./boot.jl:360 [inlined]",
      " [3] include_string(mapexpr::typeof(REPL.softscope), mod::Module, code::String, filename::String)",
      "   @ Base ./loading.jl:1094"
     ]
    }
   ],
   "source": [
    "x = flatten_variables_dyn(dmin);"
   ]
  },
  {
   "cell_type": "code",
   "execution_count": 63,
   "metadata": {},
   "outputs": [
    {
     "ename": "LoadError",
     "evalue": "UndefVarError: x not defined",
     "output_type": "error",
     "traceback": [
      "UndefVarError: x not defined",
      "",
      "Stacktrace:",
      " [1] top-level scope",
      "   @ In[63]:1",
      " [2] eval",
      "   @ ./boot.jl:360 [inlined]",
      " [3] include_string(mapexpr::typeof(REPL.softscope), mod::Module, code::String, filename::String)",
      "   @ Base ./loading.jl:1094"
     ]
    }
   ],
   "source": [
    "KKT = kkt_dyn(x, dnet, d_dyn);\n",
    "\n",
    "TOL=1e-6;\n",
    "\n",
    "@show norm(KKT);\n",
    "\n",
    "@show sum(abs.(KKT).>TOL);"
   ]
  },
  {
   "cell_type": "markdown",
   "metadata": {},
   "source": [
    "### Comparing static vs dynamic mefs"
   ]
  },
  {
   "cell_type": "code",
   "execution_count": 64,
   "metadata": {},
   "outputs": [
    {
     "data": {
      "text/plain": [
       "1"
      ]
     },
     "execution_count": 64,
     "metadata": {},
     "output_type": "execute_result"
    }
   ],
   "source": [
    "# timestep for which we want to compute the MEFS\n",
    "t = 1"
   ]
  },
  {
   "cell_type": "code",
   "execution_count": 65,
   "metadata": {},
   "outputs": [],
   "source": [
    "static_length = kkt_dims(n, m, l);"
   ]
  },
  {
   "cell_type": "code",
   "execution_count": 66,
   "metadata": {},
   "outputs": [
    {
     "ename": "LoadError",
     "evalue": "UndefVarError: dmin not defined",
     "output_type": "error",
     "traceback": [
      "UndefVarError: dmin not defined",
      "",
      "Stacktrace:",
      " [1] top-level scope",
      "   @ In[66]:5",
      " [2] eval",
      "   @ ./boot.jl:360 [inlined]",
      " [3] include_string(mapexpr::typeof(REPL.softscope), mod::Module, code::String, filename::String)",
      "   @ Base ./loading.jl:1094"
     ]
    }
   ],
   "source": [
    "idx = (t-1)*static_length;\n",
    "∇C = zeros(kkt_dims_dyn(n, m, l, T))\n",
    "∇C[idx+1:idx+l] .= cl_dyn[t]\n",
    "# ∇C[1:l] .= cl_dyn[t]\n",
    "mefs_dyn = sensitivity_demand_dyn(dmin, dnet, d_dyn, ∇C, t);"
   ]
  },
  {
   "cell_type": "code",
   "execution_count": 67,
   "metadata": {},
   "outputs": [],
   "source": [
    "# solution with static network\n",
    "∇C = zeros(kkt_dims(n, m, l))\n",
    "∇C[1:l] .= cl_dyn[t]\n",
    "\n",
    "cnet = PowerNetwork(cq_dyn[t], cl_dyn[t], pmax_dyn[t], gmax_dyn[t], A, B);\n",
    "carbon_min = PowerManagementProblem(cnet, d_dyn[t])\n",
    "solve!(carbon_min, OPT, verbose=true);"
   ]
  },
  {
   "cell_type": "code",
   "execution_count": 68,
   "metadata": {},
   "outputs": [],
   "source": [
    "x = flatten_variables(carbon_min);"
   ]
  },
  {
   "cell_type": "code",
   "execution_count": 69,
   "metadata": {},
   "outputs": [
    {
     "name": "stdout",
     "output_type": "stream",
     "text": [
      "norm(kkt(x, cnet, d_dyn[t])) = 1.4382044744596378e-8\n"
     ]
    }
   ],
   "source": [
    "@show norm(kkt(x, cnet, d_dyn[t]));"
   ]
  },
  {
   "cell_type": "code",
   "execution_count": 70,
   "metadata": {},
   "outputs": [],
   "source": [
    "mefs = sensitivity_demand(carbon_min, ∇C, cnet, d_dyn[t]);"
   ]
  },
  {
   "cell_type": "code",
   "execution_count": 71,
   "metadata": {},
   "outputs": [
    {
     "ename": "LoadError",
     "evalue": "UndefVarError: mefs_dyn not defined",
     "output_type": "error",
     "traceback": [
      "UndefVarError: mefs_dyn not defined",
      "",
      "Stacktrace:",
      " [1] top-level scope",
      "   @ show.jl:955",
      " [2] eval",
      "   @ ./boot.jl:360 [inlined]",
      " [3] include_string(mapexpr::typeof(REPL.softscope), mod::Module, code::String, filename::String)",
      "   @ Base ./loading.jl:1094"
     ]
    }
   ],
   "source": [
    "@show norm(mefs - mefs_dyn)"
   ]
  },
  {
   "cell_type": "markdown",
   "metadata": {},
   "source": [
    "### Comparing with dual variables"
   ]
  },
  {
   "cell_type": "markdown",
   "metadata": {},
   "source": [
    "The dual variables $\\nu$ are the ones associated with the continuity equation -- therefore they are the ones telling us about the sensitivity of the problem to demand when the objective is appropriately defined. "
   ]
  },
  {
   "cell_type": "code",
   "execution_count": 72,
   "metadata": {},
   "outputs": [
    {
     "ename": "LoadError",
     "evalue": "UndefVarError: dmin not defined",
     "output_type": "error",
     "traceback": [
      "UndefVarError: dmin not defined",
      "",
      "Stacktrace:",
      " [1] top-level scope",
      "   @ In[72]:1",
      " [2] eval",
      "   @ ./boot.jl:360 [inlined]",
      " [3] include_string(mapexpr::typeof(REPL.softscope), mod::Module, code::String, filename::String)",
      "   @ Base ./loading.jl:1094"
     ]
    }
   ],
   "source": [
    "g, p, s, ch, dis, λpl, λpu, λgl, λgu, ν, λsl, λsu, λchl, λchu, λdisl, λdisu, νs = unflatten_variables_dyn(\n",
    "    flatten_variables_dyn(dmin), n, m, l, T\n",
    ");"
   ]
  },
  {
   "cell_type": "code",
   "execution_count": 73,
   "metadata": {},
   "outputs": [
    {
     "ename": "LoadError",
     "evalue": "UndefVarError: ν not defined",
     "output_type": "error",
     "traceback": [
      "UndefVarError: ν not defined",
      "",
      "Stacktrace:",
      " [1] top-level scope",
      "   @ show.jl:955",
      " [2] eval",
      "   @ ./boot.jl:360 [inlined]",
      " [3] include_string(mapexpr::typeof(REPL.softscope), mod::Module, code::String, filename::String)",
      "   @ Base ./loading.jl:1094"
     ]
    }
   ],
   "source": [
    "@show norm(ν[1]-mefs_dyn)"
   ]
  },
  {
   "cell_type": "code",
   "execution_count": 74,
   "metadata": {},
   "outputs": [
    {
     "ename": "LoadError",
     "evalue": "UndefVarError: ν not defined",
     "output_type": "error",
     "traceback": [
      "UndefVarError: ν not defined",
      "",
      "Stacktrace:",
      " [1] top-level scope",
      "   @ show.jl:955",
      " [2] eval",
      "   @ ./boot.jl:360 [inlined]",
      " [3] include_string(mapexpr::typeof(REPL.softscope), mod::Module, code::String, filename::String)",
      "   @ Base ./loading.jl:1094"
     ]
    }
   ],
   "source": [
    "@show norm(ν[1]-mefs)"
   ]
  },
  {
   "cell_type": "markdown",
   "metadata": {},
   "source": [
    "### Comparing solutions"
   ]
  },
  {
   "cell_type": "code",
   "execution_count": 75,
   "metadata": {},
   "outputs": [
    {
     "ename": "LoadError",
     "evalue": "UndefVarError: dmin not defined",
     "output_type": "error",
     "traceback": [
      "UndefVarError: dmin not defined",
      "",
      "Stacktrace:",
      " [1] top-level scope",
      "   @ show.jl:955",
      " [2] eval",
      "   @ ./boot.jl:360 [inlined]",
      " [3] include_string(mapexpr::typeof(REPL.softscope), mod::Module, code::String, filename::String)",
      "   @ Base ./loading.jl:1094"
     ]
    }
   ],
   "source": [
    "@show norm(dmin.g[t].value - carbon_min.g.value)"
   ]
  },
  {
   "cell_type": "markdown",
   "metadata": {},
   "source": [
    "## Several timesteps with no storage capacity"
   ]
  },
  {
   "cell_type": "markdown",
   "metadata": {},
   "source": [
    "In this case, still no storage capacity. So we should have `T` independent timesteps, and the sensitivities should be retrieved by computing the sensitivity with a simple static network on the given timestep `t`."
   ]
  },
  {
   "cell_type": "code",
   "execution_count": 76,
   "metadata": {},
   "outputs": [],
   "source": [
    "T = 5\n",
    "\n",
    "# cq_dyn = [cq for _ in 1:T]\n",
    "cq_dyn = [zeros(l) for _ in 1:T]\n",
    "cl_dyn = [cl for _ in 1:T]\n",
    "pmax_dyn = [pmax for _ in 1:T]\n",
    "gmax_dyn = [gmax for _ in 1:T]\n",
    "d_dyn = [d for _ in 1:T]\n",
    "\n",
    "P = rand(Exponential(2), n)\n",
    "# C = rand(Exponential(2), n)\n",
    "C = zeros(n)\n",
    ";"
   ]
  },
  {
   "cell_type": "code",
   "execution_count": 77,
   "metadata": {},
   "outputs": [
    {
     "ename": "LoadError",
     "evalue": "MethodError: no method matching DynamicPowerNetwork(::Vector{Vector{Float64}}, ::Vector{Vector{Float64}}, ::Vector{Vector{Float64}}, ::Vector{Vector{Float64}}, ::SparseMatrixCSC{Int64, Int64}, ::SparseMatrixCSC{Float64, Int64}, ::Vector{Float64}, ::Vector{Float64})\n\u001b[0mClosest candidates are:\n\u001b[0m  DynamicPowerNetwork(::Any, ::Any, ::Any, ::Any, ::Any, ::Any, ::Any, ::Any, \u001b[91m::Any\u001b[39m; τ) at /Users/lucasfuentes/Documents/Ideas/EnergyNetworks/CarbonNetworks.jl/src/dyn_model.jl:43\n\u001b[0m  DynamicPowerNetwork(::Any, ::Any, ::Any, ::Any, ::Any, ::Any, ::Any, ::Any, \u001b[91m::Any\u001b[39m, \u001b[91m::Any\u001b[39m) at /Users/lucasfuentes/Documents/Ideas/EnergyNetworks/CarbonNetworks.jl/src/dyn_model.jl:31",
     "output_type": "error",
     "traceback": [
      "MethodError: no method matching DynamicPowerNetwork(::Vector{Vector{Float64}}, ::Vector{Vector{Float64}}, ::Vector{Vector{Float64}}, ::Vector{Vector{Float64}}, ::SparseMatrixCSC{Int64, Int64}, ::SparseMatrixCSC{Float64, Int64}, ::Vector{Float64}, ::Vector{Float64})\n\u001b[0mClosest candidates are:\n\u001b[0m  DynamicPowerNetwork(::Any, ::Any, ::Any, ::Any, ::Any, ::Any, ::Any, ::Any, \u001b[91m::Any\u001b[39m; τ) at /Users/lucasfuentes/Documents/Ideas/EnergyNetworks/CarbonNetworks.jl/src/dyn_model.jl:43\n\u001b[0m  DynamicPowerNetwork(::Any, ::Any, ::Any, ::Any, ::Any, ::Any, ::Any, ::Any, \u001b[91m::Any\u001b[39m, \u001b[91m::Any\u001b[39m) at /Users/lucasfuentes/Documents/Ideas/EnergyNetworks/CarbonNetworks.jl/src/dyn_model.jl:31",
      "",
      "Stacktrace:",
      " [1] top-level scope",
      "   @ In[77]:1",
      " [2] eval",
      "   @ ./boot.jl:360 [inlined]",
      " [3] include_string(mapexpr::typeof(REPL.softscope), mod::Module, code::String, filename::String)",
      "   @ Base ./loading.jl:1094"
     ]
    }
   ],
   "source": [
    "dnet = DynamicPowerNetwork(\n",
    "    cq_dyn, cl_dyn, pmax_dyn, gmax_dyn, A, B, P, C\n",
    ")\n",
    "dmin = DynamicPowerManagementProblem(dnet, d_dyn);"
   ]
  },
  {
   "cell_type": "code",
   "execution_count": 78,
   "metadata": {},
   "outputs": [
    {
     "ename": "LoadError",
     "evalue": "UndefVarError: dmin not defined",
     "output_type": "error",
     "traceback": [
      "UndefVarError: dmin not defined",
      "",
      "Stacktrace:",
      " [1] top-level scope",
      "   @ In[78]:1",
      " [2] eval",
      "   @ ./boot.jl:360 [inlined]",
      " [3] include_string(mapexpr::typeof(REPL.softscope), mod::Module, code::String, filename::String)",
      "   @ Base ./loading.jl:1094"
     ]
    }
   ],
   "source": [
    "solve!(dmin, OPT, verbose=true);"
   ]
  },
  {
   "cell_type": "code",
   "execution_count": 79,
   "metadata": {},
   "outputs": [
    {
     "ename": "LoadError",
     "evalue": "UndefVarError: dmin not defined",
     "output_type": "error",
     "traceback": [
      "UndefVarError: dmin not defined",
      "",
      "Stacktrace:",
      " [1] top-level scope",
      "   @ In[79]:1",
      " [2] eval",
      "   @ ./boot.jl:360 [inlined]",
      " [3] include_string(mapexpr::typeof(REPL.softscope), mod::Module, code::String, filename::String)",
      "   @ Base ./loading.jl:1094"
     ]
    }
   ],
   "source": [
    "x = flatten_variables_dyn(dmin);"
   ]
  },
  {
   "cell_type": "code",
   "execution_count": 80,
   "metadata": {},
   "outputs": [
    {
     "ename": "LoadError",
     "evalue": "UndefVarError: dnet not defined",
     "output_type": "error",
     "traceback": [
      "UndefVarError: dnet not defined",
      "",
      "Stacktrace:",
      " [1] top-level scope",
      "   @ In[80]:1",
      " [2] eval",
      "   @ ./boot.jl:360 [inlined]",
      " [3] include_string(mapexpr::typeof(REPL.softscope), mod::Module, code::String, filename::String)",
      "   @ Base ./loading.jl:1094"
     ]
    }
   ],
   "source": [
    "KKT = kkt_dyn(x, dnet, d_dyn);"
   ]
  },
  {
   "cell_type": "code",
   "execution_count": 81,
   "metadata": {},
   "outputs": [],
   "source": [
    "TOL=1e-6;"
   ]
  },
  {
   "cell_type": "code",
   "execution_count": 82,
   "metadata": {},
   "outputs": [
    {
     "ename": "LoadError",
     "evalue": "UndefVarError: KKT not defined",
     "output_type": "error",
     "traceback": [
      "UndefVarError: KKT not defined",
      "",
      "Stacktrace:",
      " [1] top-level scope",
      "   @ show.jl:955",
      " [2] eval",
      "   @ ./boot.jl:360 [inlined]",
      " [3] include_string(mapexpr::typeof(REPL.softscope), mod::Module, code::String, filename::String)",
      "   @ Base ./loading.jl:1094"
     ]
    }
   ],
   "source": [
    "@show norm(KKT);"
   ]
  },
  {
   "cell_type": "code",
   "execution_count": 83,
   "metadata": {},
   "outputs": [
    {
     "ename": "LoadError",
     "evalue": "UndefVarError: KKT not defined",
     "output_type": "error",
     "traceback": [
      "UndefVarError: KKT not defined",
      "",
      "Stacktrace:",
      " [1] top-level scope",
      "   @ show.jl:955",
      " [2] eval",
      "   @ ./boot.jl:360 [inlined]",
      " [3] include_string(mapexpr::typeof(REPL.softscope), mod::Module, code::String, filename::String)",
      "   @ Base ./loading.jl:1094"
     ]
    }
   ],
   "source": [
    "@show sum(abs.(KKT).>TOL);"
   ]
  },
  {
   "cell_type": "markdown",
   "metadata": {},
   "source": [
    "### Comparing static vs dynamic"
   ]
  },
  {
   "cell_type": "code",
   "execution_count": 84,
   "metadata": {},
   "outputs": [],
   "source": [
    "static_length = kkt_dims(n, m, l);"
   ]
  },
  {
   "cell_type": "code",
   "execution_count": 85,
   "metadata": {},
   "outputs": [],
   "source": [
    "# timestep for which we want to compute the MEFS\n",
    "t = 3;"
   ]
  },
  {
   "cell_type": "code",
   "execution_count": 86,
   "metadata": {},
   "outputs": [
    {
     "ename": "LoadError",
     "evalue": "UndefVarError: dmin not defined",
     "output_type": "error",
     "traceback": [
      "UndefVarError: dmin not defined",
      "",
      "Stacktrace:",
      " [1] top-level scope",
      "   @ In[86]:5",
      " [2] eval",
      "   @ ./boot.jl:360 [inlined]",
      " [3] include_string(mapexpr::typeof(REPL.softscope), mod::Module, code::String, filename::String)",
      "   @ Base ./loading.jl:1094"
     ]
    }
   ],
   "source": [
    "idx = (t-1)*static_length;\n",
    "∇C = zeros(kkt_dims_dyn(n, m, l, T))\n",
    "∇C[idx+1:idx+l] .= cl_dyn[t]\n",
    "# ∇C[1:l] .= cl_dyn[t]\n",
    "mefs_dyn = sensitivity_demand_dyn(dmin, dnet, d_dyn, ∇C, t);"
   ]
  },
  {
   "cell_type": "code",
   "execution_count": 87,
   "metadata": {},
   "outputs": [
    {
     "ename": "LoadError",
     "evalue": "UndefVarError: mefs_dyn not defined",
     "output_type": "error",
     "traceback": [
      "UndefVarError: mefs_dyn not defined",
      "",
      "Stacktrace:",
      " [1] top-level scope",
      "   @ show.jl:955",
      " [2] eval",
      "   @ ./boot.jl:360 [inlined]",
      " [3] include_string(mapexpr::typeof(REPL.softscope), mod::Module, code::String, filename::String)",
      "   @ Base ./loading.jl:1094"
     ]
    }
   ],
   "source": [
    "# solution with static network\n",
    "∇C = zeros(kkt_dims(n, m, l))\n",
    "∇C[1:l] .= cl_dyn[t]\n",
    "\n",
    "cnet = PowerNetwork(cq_dyn[t], cl_dyn[t], pmax_dyn[t], gmax_dyn[t], A, B);\n",
    "carbon_min = PowerManagementProblem(cnet, d_dyn[t])\n",
    "solve!(carbon_min, OPT, verbose=true);\n",
    "\n",
    "mefs = sensitivity_demand(carbon_min, ∇C, cnet, d_dyn[t]);\n",
    "\n",
    "@show norm(mefs - mefs_dyn)"
   ]
  },
  {
   "cell_type": "markdown",
   "metadata": {},
   "source": [
    "### Comparing with dual variables"
   ]
  },
  {
   "cell_type": "markdown",
   "metadata": {},
   "source": [
    "The dual variables $\\nu$ are the ones associated with the continuity equation -- therefore they are the ones telling us about the sensitivity of the problem to demand when the objective is appropriately defined. "
   ]
  },
  {
   "cell_type": "code",
   "execution_count": 88,
   "metadata": {},
   "outputs": [
    {
     "ename": "LoadError",
     "evalue": "UndefVarError: dmin not defined",
     "output_type": "error",
     "traceback": [
      "UndefVarError: dmin not defined",
      "",
      "Stacktrace:",
      " [1] top-level scope",
      "   @ In[88]:1",
      " [2] eval",
      "   @ ./boot.jl:360 [inlined]",
      " [3] include_string(mapexpr::typeof(REPL.softscope), mod::Module, code::String, filename::String)",
      "   @ Base ./loading.jl:1094"
     ]
    }
   ],
   "source": [
    "g, p, s, ch, dis, λpl, λpu, λgl, λgu, ν, λsl, λsu, λchl, λchu, λdisl, λdisu, νs = unflatten_variables_dyn(\n",
    "    flatten_variables_dyn(dmin), n, m, l, T\n",
    ");"
   ]
  },
  {
   "cell_type": "code",
   "execution_count": 89,
   "metadata": {},
   "outputs": [
    {
     "ename": "LoadError",
     "evalue": "UndefVarError: ν not defined",
     "output_type": "error",
     "traceback": [
      "UndefVarError: ν not defined",
      "",
      "Stacktrace:",
      " [1] top-level scope",
      "   @ show.jl:955",
      " [2] eval",
      "   @ ./boot.jl:360 [inlined]",
      " [3] include_string(mapexpr::typeof(REPL.softscope), mod::Module, code::String, filename::String)",
      "   @ Base ./loading.jl:1094"
     ]
    }
   ],
   "source": [
    "@show norm(ν[t]-mefs_dyn)"
   ]
  },
  {
   "cell_type": "code",
   "execution_count": 90,
   "metadata": {},
   "outputs": [
    {
     "ename": "LoadError",
     "evalue": "UndefVarError: ν not defined",
     "output_type": "error",
     "traceback": [
      "UndefVarError: ν not defined",
      "",
      "Stacktrace:",
      " [1] top-level scope",
      "   @ show.jl:955",
      " [2] eval",
      "   @ ./boot.jl:360 [inlined]",
      " [3] include_string(mapexpr::typeof(REPL.softscope), mod::Module, code::String, filename::String)",
      "   @ Base ./loading.jl:1094"
     ]
    }
   ],
   "source": [
    "@show norm(ν[t]-mefs)"
   ]
  },
  {
   "cell_type": "markdown",
   "metadata": {},
   "source": [
    "### With the `compute_mefs` routine\n"
   ]
  },
  {
   "cell_type": "code",
   "execution_count": 91,
   "metadata": {},
   "outputs": [
    {
     "ename": "LoadError",
     "evalue": "UndefVarError: dmin not defined",
     "output_type": "error",
     "traceback": [
      "UndefVarError: dmin not defined",
      "",
      "Stacktrace:",
      " [1] top-level scope",
      "   @ In[91]:1",
      " [2] eval",
      "   @ ./boot.jl:360 [inlined]",
      " [3] include_string(mapexpr::typeof(REPL.softscope), mod::Module, code::String, filename::String)",
      "   @ Base ./loading.jl:1094"
     ]
    }
   ],
   "source": [
    "mefs_ = compute_mefs(dmin, dnet, d_dyn, cl_dyn[t], t)"
   ]
  },
  {
   "cell_type": "code",
   "execution_count": 92,
   "metadata": {},
   "outputs": [
    {
     "ename": "LoadError",
     "evalue": "UndefVarError: mefs_ not defined",
     "output_type": "error",
     "traceback": [
      "UndefVarError: mefs_ not defined",
      "",
      "Stacktrace:",
      " [1] top-level scope",
      "   @ In[92]:1",
      " [2] eval",
      "   @ ./boot.jl:360 [inlined]",
      " [3] include_string(mapexpr::typeof(REPL.softscope), mod::Module, code::String, filename::String)",
      "   @ Base ./loading.jl:1094"
     ]
    }
   ],
   "source": [
    "mefs_t = mefs_[:, t]"
   ]
  },
  {
   "cell_type": "code",
   "execution_count": 93,
   "metadata": {},
   "outputs": [
    {
     "data": {
      "text/plain": [
       "4-element Vector{Float64}:\n",
       " 2.9036887691202136\n",
       " 1.5243957635815348\n",
       " 0.6357644507990793\n",
       " 1.8901761145774605"
      ]
     },
     "execution_count": 93,
     "metadata": {},
     "output_type": "execute_result"
    }
   ],
   "source": [
    "mefs"
   ]
  },
  {
   "cell_type": "code",
   "execution_count": 94,
   "metadata": {},
   "outputs": [
    {
     "ename": "LoadError",
     "evalue": "UndefVarError: mefs_t not defined",
     "output_type": "error",
     "traceback": [
      "UndefVarError: mefs_t not defined",
      "",
      "Stacktrace:",
      " [1] top-level scope",
      "   @ show.jl:955",
      " [2] eval",
      "   @ ./boot.jl:360 [inlined]",
      " [3] include_string(mapexpr::typeof(REPL.softscope), mod::Module, code::String, filename::String)",
      "   @ Base ./loading.jl:1094"
     ]
    }
   ],
   "source": [
    "@show norm(mefs_t-mefs)"
   ]
  },
  {
   "cell_type": "markdown",
   "metadata": {},
   "source": [
    "---"
   ]
  },
  {
   "cell_type": "markdown",
   "metadata": {},
   "source": [
    "# Verifying sensitivity computation\n"
   ]
  },
  {
   "cell_type": "markdown",
   "metadata": {},
   "source": [
    "## Procedure"
   ]
  },
  {
   "cell_type": "markdown",
   "metadata": {},
   "source": [
    "For any parameter $x$, we have\n",
    "$$\n",
    "z^\\star(x+dx) = z^\\star(x) + \\partial_x z^\\star dx.\n",
    "$$\n",
    "\n",
    "Therefore, the procedure for estimating sensitivity will go as follows: \n",
    "- Fix all parameters of the problem\n",
    "- Solve the optimization problem\n",
    "- Compute the Jacobian\n",
    "- Choose a parameter and disturb it slightly (to first order)\n",
    "- Compute the estimate of the new solution according to the above and, in parallel, compute the optimal solution to the new problem \n",
    "- Repeat this for increasing amounts of perturbation\n",
    "\n",
    "At first order (i.e. for small amounts of perturbation), the resulting curve should be close to linear. We want to investigate whether the two obtained curves are close to each other in this linear regime."
   ]
  },
  {
   "cell_type": "markdown",
   "metadata": {},
   "source": [
    "This definitely can be functionalized, and may be useful in the future. The structure is completely independent of the details of the code. The only \"issue\" revolves around taking the right derivative and propagating the right vector ($dx$). "
   ]
  },
  {
   "cell_type": "markdown",
   "metadata": {},
   "source": [
    "So basically, the code would look like the following"
   ]
  },
  {
   "cell_type": "markdown",
   "metadata": {},
   "source": [
    "## Implementation"
   ]
  },
  {
   "cell_type": "code",
   "execution_count": null,
   "metadata": {},
   "outputs": [],
   "source": [
    "sum(d) / sum(pmax)"
   ]
  },
  {
   "cell_type": "code",
   "execution_count": null,
   "metadata": {},
   "outputs": [],
   "source": [
    "T = 2\n",
    "Random.seed!(10)\n",
    "\n",
    "# cq_dyn = [cq for _ in 1:T]\n",
    "cq_dyn = [zeros(l) for _ in 1:T]\n",
    "cl_dyn = [cl, 2*cl]\n",
    "pmax_dyn = [zeros(m) for _ in 1:T]  #[100*pmax for _ in 1:T]\n",
    "gmax_dyn = [100*ones(l) for _ in 1:T]  #[100*gmax for _ in 1:T]\n",
    "d_dyn = [d for _ in 1:T]\n",
    "\n",
    "C = 100*ones(n) #rand(Exponential(2), n)\n",
    "P = C\n",
    "# C = zeros(n)\n",
    ";"
   ]
  },
  {
   "cell_type": "code",
   "execution_count": null,
   "metadata": {},
   "outputs": [],
   "source": [
    "dnet = DynamicPowerNetwork(\n",
    "    cq_dyn, cl_dyn, pmax_dyn, gmax_dyn, A, B, P, C\n",
    ")\n",
    "dmin = DynamicPowerManagementProblem(dnet, d_dyn);"
   ]
  },
  {
   "cell_type": "code",
   "execution_count": null,
   "metadata": {
    "scrolled": false
   },
   "outputs": [],
   "source": [
    "# node = 4\n",
    "t = 1\n",
    "varName = 's'\n",
    "unit = 1\n",
    "npoints = 10\n",
    "rel_inc = 1e-1\n",
    "\n",
    "plts = []\n",
    "for node in 1:n\n",
    "    subplt = plot_sensitivity_check(dnet, d_dyn, node, t; varName=varName, unit=unit, \n",
    "        npoints=npoints, rel_inc=rel_inc)\n",
    "    plot!(subplt, legend=false, title=\"node = $node\")\n",
    "    push!(plts, subplt)\n",
    "end\n",
    "\n",
    "@show unit\n",
    "plot(plts..., )"
   ]
  },
  {
   "cell_type": "code",
   "execution_count": null,
   "metadata": {},
   "outputs": [],
   "source": [
    "## plot_sensitivity_check(dnet, d_dyn, node, t; varName=varName, unit=unit, npoints=npoints, rel_inc=rel_inc)"
   ]
  },
  {
   "cell_type": "code",
   "execution_count": null,
   "metadata": {},
   "outputs": [],
   "source": [
    "solve!(dmin, OPT)"
   ]
  },
  {
   "cell_type": "code",
   "execution_count": null,
   "metadata": {},
   "outputs": [],
   "source": [
    "dmin.s[1].value"
   ]
  },
  {
   "cell_type": "code",
   "execution_count": null,
   "metadata": {},
   "outputs": [],
   "source": [
    "d"
   ]
  },
  {
   "cell_type": "markdown",
   "metadata": {},
   "source": [
    "---"
   ]
  },
  {
   "cell_type": "markdown",
   "metadata": {},
   "source": [
    "# Plot results\n",
    "\n",
    "`GraphPlot` is only for making simple plots. To do more advanced things (like the plot in the carbon accounting paper), we'll need to draw the graph manually.\n",
    "\n",
    "For now, I'm going to make some simple diagnostic plots."
   ]
  },
  {
   "cell_type": "markdown",
   "metadata": {},
   "source": [
    "## Plot demand, generation, and LMPs\n",
    "\n",
    "Here, the LMPs are carbon LMPs."
   ]
  },
  {
   "cell_type": "code",
   "execution_count": null,
   "metadata": {},
   "outputs": [],
   "source": [
    "λ = get_lmps(carbon_min)  # <-- LMPs\n",
    "\n",
    "# Fancy colors\n",
    "gradient = cgrad(:inferno)\n",
    "lmp_colors = [get(gradient, λi/maximum(λ)) for λi in λ]\n",
    "\n",
    "\n",
    "plt1 = bar(d, label=nothing, c=:blue, ylabel=\"demand\")\n",
    "plt2 = bar(evaluate(carbon_min.g), label=nothing, c=:green, ylabel=\"generation\")\n",
    "plt3 = sticks(λ, label=nothing, ylabel=\"carbon LMP\", xlabel=\"node\")\n",
    "scatter!(plt3, λ, c=lmp_colors, label=nothing)\n",
    "\n",
    "plot(plt1, plt2, plt3, layout=(3, 1))"
   ]
  },
  {
   "cell_type": "markdown",
   "metadata": {},
   "source": [
    "## Plot carbon LMPs\n",
    "\n",
    "Brighter is more carbon intensive. At the bright nodes (orange and yellow), increasing / decreasing demand has the greatest effect on total emissions."
   ]
  },
  {
   "cell_type": "code",
   "execution_count": null,
   "metadata": {},
   "outputs": [],
   "source": [
    "Random.seed!(0)  # <-- For the node layout consistency\n",
    "plt = gplot(G, nodesize=nodesize, nodefillc=lmp_colors, edgelinewidth=edgelinewidth)"
   ]
  },
  {
   "cell_type": "markdown",
   "metadata": {},
   "source": [
    "# Implicit diff"
   ]
  },
  {
   "cell_type": "code",
   "execution_count": null,
   "metadata": {},
   "outputs": [],
   "source": [
    "using CarbonNetworks: kkt, flatten_variables\n",
    "\n",
    "Random.seed!(4)\n",
    "\n",
    "fq = 3 .+ rand(Exponential(3), l)  # generate monetary costs\n",
    "fl = 3 .+ rand(Exponential(3), l)\n",
    "\n",
    "# Solve cost minimization problem\n",
    "net = PowerNetwork(fq, fl, pmax, gmax, A, B)\n",
    "opf = PowerManagementProblem(net, d)\n",
    "solve!(opf, OPT, verbose=true)\n",
    "\n",
    "kkt_resid = kkt(flatten_variables(opf), net, d)\n",
    "@show norm(kkt_resid)"
   ]
  },
  {
   "cell_type": "code",
   "execution_count": null,
   "metadata": {},
   "outputs": [],
   "source": [
    "sum(abs, evaluate(opf.p)) / sum(d)"
   ]
  },
  {
   "cell_type": "code",
   "execution_count": null,
   "metadata": {},
   "outputs": [],
   "source": [
    "∇C = zeros(kkt_dims(n, m, l))\n",
    "∇C[1:l] .= cl\n",
    "\n",
    "mefs = sensitivity_demand(opf, ∇C, net, d)\n",
    "\n",
    "theme(:default, legend=false)\n",
    "plt1a = bar(evaluate(carbon_min.g), title=\"carbon min generation\", color=:green)\n",
    "plt1b = bar(get_lmps(carbon_min), title=\"carbon min LMP\", color=:yellow)\n",
    "plt2a = bar(evaluate(opf.g), title=\"opf generation\", color=:green)\n",
    "plt2b = bar(mefs, title=\"marginal emission factors\", color=:yellow)\n",
    "plot(plt1a, plt1b, plt2a, plt2b, layout=(2, 2), size=(700, 400))"
   ]
  },
  {
   "cell_type": "markdown",
   "metadata": {},
   "source": [
    "# Compute MEFs via regression"
   ]
  },
  {
   "cell_type": "code",
   "execution_count": null,
   "metadata": {},
   "outputs": [],
   "source": [
    "using CarbonNetworks: solve_pmp\n",
    "\n",
    "Random.seed!(14)\n",
    "\n",
    "num_cases = 1000\n",
    "ϵ = 0.05\n",
    "\n",
    "d_hidden = rand(Uniform(0.3, 0.7), n) .* (B*gmax)\n",
    "\n",
    "flows = []\n",
    "cases = []\n",
    "for _ in 1:num_cases\n",
    "    d_hidden *= rand(Uniform(0.95, 1.05))\n",
    "    d_obs = d_hidden + ϵ*randn(n)\n",
    "    \n",
    "    g, pmp, _ = solve_pmp(fq, fl, d_obs, pmax, gmax, A, B)\n",
    "    if Int(pmp.problem.status) ∉ [1, 7]\n",
    "        @show pmp.problem.status\n",
    "    end\n",
    "    \n",
    "    push!(cases, (d=d_obs, g=g, pmp=pmp))\n",
    "    push!(flows, sum(abs, evaluate(pmp.p)) / sum(g))\n",
    "end"
   ]
  },
  {
   "cell_type": "code",
   "execution_count": null,
   "metadata": {},
   "outputs": [],
   "source": [
    "Random.seed!(41)\n",
    "inds = sample(1:n, 5, replace=false)\n",
    "\n",
    "theme(:default, label=nothing, lw=4)\n",
    "plot([d[i] for (d, g) in cases, i in inds], labels=inds')"
   ]
  },
  {
   "cell_type": "code",
   "execution_count": null,
   "metadata": {},
   "outputs": [],
   "source": [
    "E = [B * (cl .* g) for (d, g) in cases]\n",
    "\n",
    "Δd = hcat([cases[t].d - cases[t-1].d for t in 2:num_cases]...)\n",
    "ΔE = hcat([E[t] - E[t-1] for t in 2:num_cases]...);"
   ]
  },
  {
   "cell_type": "code",
   "execution_count": null,
   "metadata": {},
   "outputs": [],
   "source": [
    "theme(:default, label=nothing)\n",
    "\n",
    "plts = []\n",
    "for i in 1:n\n",
    "    μi = Δd[i, :] \\ ΔE[i, :]\n",
    "    ΔE_est = Δd[i, :] * μi\n",
    "    correlation = cor(ΔE_est, ΔE[i, :])\n",
    "\n",
    "    #@show correlation\n",
    "    #@show μi\n",
    "\n",
    "    μi_diffs = []\n",
    "\n",
    "    for case in cases[1:100]\n",
    "        params = (fq, fl, case.d, pmax, gmax, A)\n",
    "        ∇C = zeros(kkt_dims(n, m, l))\n",
    "        ∇C[1:l] .= cl\n",
    "\n",
    "        mefs = sensitivity_demand(case.pmp, ∇C, net, case.d)\n",
    "        push!(μi_diffs, mefs[i])\n",
    "    end\n",
    "    μi_diff = mean(μi_diffs)\n",
    "\n",
    "    #@show μi_diff\n",
    "    @show i, minimum(μi_diffs), maximum(μi_diffs)\n",
    "    # println()\n",
    "\n",
    "    x_coords = Δd[i, :]\n",
    "    \n",
    "    label = (i > 1) ? nothing : \"mean mef\"\n",
    "    label2 = (i > 1) ? nothing : \"max mef\"\n",
    "    \n",
    "    sim_mean = μi_diff*x_coords\n",
    "    sim_max = maximum(μi_diffs)*x_coords\n",
    "    sim_min = minimum(μi_diffs)*x_coords\n",
    "\n",
    "    plt = scatter(x_coords, ΔE[i, :], xlabel=\"Δd\", ylabel=\"ΔE\", ms=2, title=\"$i\")\n",
    "    plot!(plt, x_coords, ΔE_est, lw=2) #, label=\"r2=$(round(correlation, digits=2))\", legend=:topleft)\n",
    "    plot!(plt, x_coords, sim_mean, lw=2, label=label, legend=:topleft, color=:Green)\n",
    "    plot!(plt, x_coords, maximum(μi_diffs)*x_coords, lw=2, label=label2, color=:Cyan, ls=:dot)\n",
    "    plot!(plt, x_coords, minimum(μi_diffs)*x_coords, lw=2, label=label2, color=:Cyan, ls=:dot)\n",
    "    push!(plts, plt)\n",
    "end\n",
    "\n",
    "plot(plts..., layout=(2, 5), size=(900, 450))"
   ]
  },
  {
   "cell_type": "code",
   "execution_count": null,
   "metadata": {},
   "outputs": [],
   "source": [
    "edges_15 = findall(x -> x != 0, A[15, :])\n",
    "edges_16 = findall(x -> x != 0, A[16, :])\n",
    "@show edges_15 edges_16\n",
    "\n",
    "#heatmap(Matrix(neighbors), c=:grays, yflip=true)\n",
    "plot()\n",
    "bar(pmax)\n",
    "bar!(evaluate(cases[100].pmp.p), xticks=([30 34 40], [30, 34, 40]))\n"
   ]
  }
 ],
 "metadata": {
  "kernelspec": {
   "display_name": "Julia 1.6.0",
   "language": "julia",
   "name": "julia-1.6"
  },
  "language_info": {
   "file_extension": ".jl",
   "mimetype": "application/julia",
   "name": "julia",
   "version": "1.6.0"
  },
  "toc": {
   "base_numbering": 1,
   "nav_menu": {},
   "number_sections": true,
   "sideBar": true,
   "skip_h1_title": false,
   "title_cell": "Table of Contents",
   "title_sidebar": "Contents",
   "toc_cell": true,
   "toc_position": {
    "height": "calc(100% - 180px)",
    "left": "10px",
    "top": "150px",
    "width": "165px"
   },
   "toc_section_display": true,
   "toc_window_display": true
  },
  "varInspector": {
   "cols": {
    "lenName": 16,
    "lenType": 16,
    "lenVar": 40
   },
   "kernels_config": {
    "python": {
     "delete_cmd_postfix": "",
     "delete_cmd_prefix": "del ",
     "library": "var_list.py",
     "varRefreshCmd": "print(var_dic_list())"
    },
    "r": {
     "delete_cmd_postfix": ") ",
     "delete_cmd_prefix": "rm(",
     "library": "var_list.r",
     "varRefreshCmd": "cat(var_dic_list()) "
    }
   },
   "types_to_exclude": [
    "module",
    "function",
    "builtin_function_or_method",
    "instance",
    "_Feature"
   ],
   "window_display": false
  }
 },
 "nbformat": 4,
 "nbformat_minor": 5
}
