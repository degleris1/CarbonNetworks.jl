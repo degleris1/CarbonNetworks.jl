{
 "cells": [
  {
   "cell_type": "code",
   "execution_count": 22,
   "id": "8ca2b0f6",
   "metadata": {},
   "outputs": [],
   "source": [
    "using Distributions\n",
    "using LinearAlgebra"
   ]
  },
  {
   "cell_type": "code",
   "execution_count": null,
   "id": "bd3644c0",
   "metadata": {},
   "outputs": [],
   "source": []
  },
  {
   "cell_type": "code",
   "execution_count": 3,
   "id": "7d99c0a4",
   "metadata": {},
   "outputs": [
    {
     "data": {
      "text/plain": [
       "1"
      ]
     },
     "execution_count": 3,
     "metadata": {},
     "output_type": "execute_result"
    }
   ],
   "source": [
    "a = 1"
   ]
  },
  {
   "cell_type": "code",
   "execution_count": 4,
   "id": "05a00a89",
   "metadata": {},
   "outputs": [],
   "source": [
    "using SparseArrays"
   ]
  },
  {
   "cell_type": "code",
   "execution_count": 5,
   "id": "eaa1361b",
   "metadata": {},
   "outputs": [
    {
     "data": {
      "text/plain": [
       "100×500 SparseMatrixCSC{Float64, Int64} with 0 stored entries:\n",
       "⠀⠀⠀⠀⠀⠀⠀⠀⠀⠀⠀⠀⠀⠀⠀⠀⠀⠀⠀⠀⠀⠀⠀⠀⠀⠀⠀⠀⠀⠀⠀⠀⠀⠀⠀⠀⠀⠀⠀⠀\n",
       "⠀⠀⠀⠀⠀⠀⠀⠀⠀⠀⠀⠀⠀⠀⠀⠀⠀⠀⠀⠀⠀⠀⠀⠀⠀⠀⠀⠀⠀⠀⠀⠀⠀⠀⠀⠀⠀⠀⠀⠀\n",
       "⠀⠀⠀⠀⠀⠀⠀⠀⠀⠀⠀⠀⠀⠀⠀⠀⠀⠀⠀⠀⠀⠀⠀⠀⠀⠀⠀⠀⠀⠀⠀⠀⠀⠀⠀⠀⠀⠀⠀⠀\n",
       "⠀⠀⠀⠀⠀⠀⠀⠀⠀⠀⠀⠀⠀⠀⠀⠀⠀⠀⠀⠀⠀⠀⠀⠀⠀⠀⠀⠀⠀⠀⠀⠀⠀⠀⠀⠀⠀⠀⠀⠀"
      ]
     },
     "execution_count": 5,
     "metadata": {},
     "output_type": "execute_result"
    }
   ],
   "source": [
    "a = spzeros(100, 500)"
   ]
  },
  {
   "cell_type": "code",
   "execution_count": 21,
   "id": "b2aa5bf5",
   "metadata": {},
   "outputs": [
    {
     "data": {
      "text/plain": [
       "100×500 SparseMatrixCSC{Float64, Int64} with 100 stored entries:\n",
       "⠀⠀⠀⠀⢸⠀⢸⠀⠀⠀⡇⠀⡇⠀⠀⡇⠀⠀⠀⠀⢸⠀⠀⠀⠀⠀⡇⠀⢸⠀⠀⠀⠀⠀⠀⢸⢸⠀⠀⠀\n",
       "⠀⠀⠀⠀⢈⠀⢈⠀⠀⠀⡁⠀⡁⠀⠀⡁⠀⠀⠀⠀⢈⠀⠀⠀⠀⠀⡁⠀⢈⠀⠀⠀⠀⠀⠀⢈⢈⠀⠀⠀\n",
       "⠀⠀⠀⠀⢈⠀⢈⠀⠀⠀⡁⠀⡁⠀⠀⡁⠀⠀⠀⠀⢈⠀⠀⠀⠀⠀⡁⠀⢈⠀⠀⠀⠀⠀⠀⢈⢈⠀⠀⠀\n",
       "⠀⠀⠀⠀⠀⠀⠀⠀⠀⠀⠀⠀⠀⠀⠀⠀⠀⠀⠀⠀⠀⠀⠀⠀⠀⠀⠀⠀⠀⠀⠀⠀⠀⠀⠀⠀⠀⠀⠀⠀"
      ]
     },
     "execution_count": 21,
     "metadata": {},
     "output_type": "execute_result"
    }
   ],
   "source": [
    "a[rand(1:100, 10), rand(1:500, 10)] .= 1"
   ]
  },
  {
   "cell_type": "code",
   "execution_count": null,
   "id": "4b78251d",
   "metadata": {},
   "outputs": [],
   "source": []
  },
  {
   "cell_type": "code",
   "execution_count": 20,
   "id": "b8939c50",
   "metadata": {},
   "outputs": [
    {
     "data": {
      "text/plain": [
       "100×500 SparseMatrixCSC{Float64, Int64} with 0 stored entries:\n",
       "⠀⠀⠀⠀⠀⠀⠀⠀⠀⠀⠀⠀⠀⠀⠀⠀⠀⠀⠀⠀⠀⠀⠀⠀⠀⠀⠀⠀⠀⠀⠀⠀⠀⠀⠀⠀⠀⠀⠀⠀\n",
       "⠀⠀⠀⠀⠀⠀⠀⠀⠀⠀⠀⠀⠀⠀⠀⠀⠀⠀⠀⠀⠀⠀⠀⠀⠀⠀⠀⠀⠀⠀⠀⠀⠀⠀⠀⠀⠀⠀⠀⠀\n",
       "⠀⠀⠀⠀⠀⠀⠀⠀⠀⠀⠀⠀⠀⠀⠀⠀⠀⠀⠀⠀⠀⠀⠀⠀⠀⠀⠀⠀⠀⠀⠀⠀⠀⠀⠀⠀⠀⠀⠀⠀\n",
       "⠀⠀⠀⠀⠀⠀⠀⠀⠀⠀⠀⠀⠀⠀⠀⠀⠀⠀⠀⠀⠀⠀⠀⠀⠀⠀⠀⠀⠀⠀⠀⠀⠀⠀⠀⠀⠀⠀⠀⠀"
      ]
     },
     "execution_count": 20,
     "metadata": {},
     "output_type": "execute_result"
    }
   ],
   "source": [
    "a = spzeros(100, 500)"
   ]
  },
  {
   "cell_type": "code",
   "execution_count": 27,
   "id": "4ce9ff83",
   "metadata": {},
   "outputs": [
    {
     "name": "stdout",
     "output_type": "stream",
     "text": [
      "norm(A \\ b - pinv(A) * b) = 5.224399425707279e-14\n"
     ]
    },
    {
     "data": {
      "text/plain": [
       "π = 3.1415926535897..."
      ]
     },
     "execution_count": 27,
     "metadata": {},
     "output_type": "execute_result"
    }
   ],
   "source": [
    "A = randn(100, 100)\n",
    "b = randn(100)\n",
    "@show norm(A \\ b - pinv(A)*b)\n",
    "(A \\ b) ≈ inv(A)*b\n",
    "π"
   ]
  },
  {
   "cell_type": "code",
   "execution_count": 28,
   "id": "fa5963c1",
   "metadata": {},
   "outputs": [
    {
     "name": "stderr",
     "output_type": "stream",
     "text": [
      "┌ Info: Precompiling CarbonNetworks [d5dced0a-5569-40db-8865-1dbf132a76f2]\n",
      "└ @ Base loading.jl:1317\n"
     ]
    }
   ],
   "source": [
    "using CarbonNetworks"
   ]
  },
  {
   "cell_type": "code",
   "execution_count": 29,
   "id": "480ea6ae",
   "metadata": {},
   "outputs": [
    {
     "name": "stdout",
     "output_type": "stream",
     "text": [
      "search: \u001b[0m\u001b[1mP\u001b[22m\u001b[0m\u001b[1mo\u001b[22m\u001b[0m\u001b[1mw\u001b[22m\u001b[0m\u001b[1me\u001b[22m\u001b[0m\u001b[1mr\u001b[22m\u001b[0m\u001b[1mM\u001b[22m\u001b[0m\u001b[1ma\u001b[22m\u001b[0m\u001b[1mn\u001b[22m\u001b[0m\u001b[1ma\u001b[22m\u001b[0m\u001b[1mg\u001b[22m\u001b[0m\u001b[1me\u001b[22m\u001b[0m\u001b[1mm\u001b[22m\u001b[0m\u001b[1me\u001b[22m\u001b[0m\u001b[1mn\u001b[22m\u001b[0m\u001b[1mt\u001b[22m\u001b[0m\u001b[1mP\u001b[22m\u001b[0m\u001b[1mr\u001b[22m\u001b[0m\u001b[1mo\u001b[22m\u001b[0m\u001b[1mb\u001b[22m\u001b[0m\u001b[1ml\u001b[22m\u001b[0m\u001b[1me\u001b[22m\u001b[0m\u001b[1mm\u001b[22m\n",
      "\n"
     ]
    },
    {
     "data": {
      "text/latex": [
       "\\begin{verbatim}\n",
       "PowerManagementProblem(f, d, pmax, gmax, A; τ=1e-5)\n",
       "\\end{verbatim}\n",
       "Set up a power management problem with generation costs \\texttt{f}, demand \\texttt{d}, maximum power flow \\texttt{pmax}, maximum generation \\texttt{gmax}, and network incidence matrix \\texttt{A}.\n",
       "\n",
       "The parameter \\texttt{τ} is a regularization weight used to make the problem strongly convex by adding τ ∑ᵢ pᵢ² to the objective.\n",
       "\n"
      ],
      "text/markdown": [
       "```\n",
       "PowerManagementProblem(f, d, pmax, gmax, A; τ=1e-5)\n",
       "```\n",
       "\n",
       "Set up a power management problem with generation costs `f`, demand `d`, maximum power flow `pmax`, maximum generation `gmax`, and network incidence matrix `A`.\n",
       "\n",
       "The parameter `τ` is a regularization weight used to make the problem strongly convex by adding τ ∑ᵢ pᵢ² to the objective.\n"
      ],
      "text/plain": [
       "\u001b[36m  PowerManagementProblem(f, d, pmax, gmax, A; τ=1e-5)\u001b[39m\n",
       "\n",
       "  Set up a power management problem with generation costs \u001b[36mf\u001b[39m, demand \u001b[36md\u001b[39m, maximum\n",
       "  power flow \u001b[36mpmax\u001b[39m, maximum generation \u001b[36mgmax\u001b[39m, and network incidence matrix \u001b[36mA\u001b[39m.\n",
       "\n",
       "  The parameter \u001b[36mτ\u001b[39m is a regularization weight used to make the problem strongly\n",
       "  convex by adding τ ∑ᵢ pᵢ² to the objective."
      ]
     },
     "execution_count": 29,
     "metadata": {},
     "output_type": "execute_result"
    }
   ],
   "source": [
    "? PowerManagementProblem"
   ]
  },
  {
   "cell_type": "code",
   "execution_count": null,
   "id": "d7c710ae",
   "metadata": {},
   "outputs": [],
   "source": []
  }
 ],
 "metadata": {
  "kernelspec": {
   "display_name": "Julia 1.6.1",
   "language": "julia",
   "name": "julia-1.6"
  },
  "language_info": {
   "file_extension": ".jl",
   "mimetype": "application/julia",
   "name": "julia",
   "version": "1.6.1"
  }
 },
 "nbformat": 4,
 "nbformat_minor": 5
}
