{
 "cells": [
  {
   "cell_type": "markdown",
   "metadata": {
    "toc": true
   },
   "source": [
    "<h1>Table of Contents<span class=\"tocSkip\"></span></h1>\n",
    "<div class=\"toc\"><ul class=\"toc-item\"><li><span><a href=\"#Description\" data-toc-modified-id=\"Description-1\"><span class=\"toc-item-num\">1&nbsp;&nbsp;</span>Description</a></span></li><li><span><a href=\"#Distributed-problem-solution\" data-toc-modified-id=\"Distributed-problem-solution-2\"><span class=\"toc-item-num\">2&nbsp;&nbsp;</span>Distributed problem solution</a></span></li><li><span><a href=\"#nondistributed-solution\" data-toc-modified-id=\"nondistributed-solution-3\"><span class=\"toc-item-num\">3&nbsp;&nbsp;</span>nondistributed solution</a></span></li></ul></div>"
   ]
  },
  {
   "cell_type": "code",
   "execution_count": null,
   "metadata": {},
   "outputs": [],
   "source": [
    "import numpy as np\n",
    "import cvxpy as cp\n",
    "import pandas as pd\n",
    "import matplotlib.pyplot as plt"
   ]
  },
  {
   "cell_type": "markdown",
   "metadata": {},
   "source": [
    "# Description"
   ]
  },
  {
   "cell_type": "markdown",
   "metadata": {},
   "source": [
    "We here study the possibility of carrying out implicit differentiation in a distributed manner. \n",
    "\n",
    "We first work on the very simple canonical example:\n",
    "\n",
    "$$\n",
    "\\min f_1(x_1, y_1, \\theta) + f_2(x_2, y_2, \\theta)\\\\\n",
    "\\text{s.t. } y_1 = y_2\n",
    "$$"
   ]
  },
  {
   "cell_type": "markdown",
   "metadata": {},
   "source": [
    "We assume that \n",
    "$$\n",
    "f_i = x_i^TA_i(\\theta)x_i+y_i^TE_i(\\theta)y_i+b_i(\\theta)^Tx_i+c_i(\\theta)^Ty_i+d_i(\\theta)\n",
    "$$"
   ]
  },
  {
   "cell_type": "markdown",
   "metadata": {},
   "source": [
    "We denote by $z$ the set of variables, i.e. $z = (x_1, x_2, y_1, y_2)$, and the optimal solutions with a $\\star$. "
   ]
  },
  {
   "cell_type": "markdown",
   "metadata": {},
   "source": [
    "In this short example, we will simply consider that we want to compute the Jacobian \n",
    "$$\n",
    "\\partial_\\theta z^\\star = - D_zG(z_\\star)D_\\theta G(z_\\star),\n",
    "$$\n",
    "where $G$ denotes the gradients to the KKT conditions. "
   ]
  },
  {
   "cell_type": "markdown",
   "metadata": {},
   "source": [
    "In this context, we have that\n",
    "$$\n",
    "D_zG = \\begin{bmatrix}\n",
    "D_1 & 0 & B_1^T  \\\\\n",
    "0 & D_2 & B_2^T\\\\\n",
    "B_1 & B_2 & 0\n",
    "\\end{bmatrix}\n",
    "$$"
   ]
  },
  {
   "cell_type": "markdown",
   "metadata": {},
   "source": [
    "where $$D_i = \\begin{bmatrix}\n",
    "A_i & 0\\\\\n",
    "0 & E_i\n",
    "\\end{bmatrix}\n",
    "$$\n",
    "and $$\n",
    "B_1 = [0, 1], B_2 = [0, -1]. \n",
    "$$"
   ]
  },
  {
   "cell_type": "markdown",
   "metadata": {},
   "source": [
    "In parallel\n",
    "$$\n",
    "D_\\theta G = \n",
    "\\begin{bmatrix}\n",
    "D_\\theta \\nabla_z L\\\\\n",
    "0\n",
    "\\end{bmatrix}\n",
    "=\n",
    "\\begin{bmatrix}\n",
    "D_\\theta \\nabla_{x_1} L\\\\\n",
    "D_\\theta \\nabla_{x_2} L\\\\\n",
    "...\\\\\n",
    "0\n",
    "\\end{bmatrix}\n",
    "=\n",
    "\\begin{bmatrix}\n",
    "D_\\theta A_1(\\theta)x_1+b_1(\\theta)\\\\\n",
    "D_\\theta A_2(\\theta)x_1+b_2(\\theta)\\\\\n",
    "...\\\\\n",
    "0\n",
    "\\end{bmatrix}\n",
    "$$"
   ]
  },
  {
   "cell_type": "markdown",
   "metadata": {},
   "source": [
    "We see that, due to the dual decomposition, the derivative with respect to parameters $\\theta$ is also distributed. "
   ]
  },
  {
   "cell_type": "markdown",
   "metadata": {},
   "source": [
    "The question we want to ask is whether we can compute $\\partial_\\theta z^\\star$ in a distributed manner. This would require inverting $D_zG$. Instead, we will try to achieve this with CG method. "
   ]
  },
  {
   "cell_type": "markdown",
   "metadata": {},
   "source": [
    "# Distributed problem solution"
   ]
  },
  {
   "cell_type": "markdown",
   "metadata": {},
   "source": [
    "We first want to see whether we can simply solve a linear system in a distributed fashion, by repeated projections. In here, we will assume that x and y have dimension 2, and we therefore assimilate them in a variable $z_i$ which is dimension 4. "
   ]
  },
  {
   "cell_type": "markdown",
   "metadata": {},
   "source": [
    "We also will simply the local objectives so that they are\n",
    "$$\n",
    "z_i^TQz_i\n",
    "$$"
   ]
  },
  {
   "cell_type": "markdown",
   "metadata": {},
   "source": [
    "For now we assume that the vectors are shared, and known by everyone"
   ]
  },
  {
   "cell_type": "markdown",
   "metadata": {},
   "source": [
    "What are the operations? \n",
    "- normalize\n",
    "- multiply A and b\n",
    "- dot product Ab and u\n",
    "- multiply u\n",
    "Therefore there should be four operations. "
   ]
  },
  {
   "cell_type": "markdown",
   "metadata": {},
   "source": [
    "We need to keep 3 vectors in memory\n",
    "- x_t (current guess of the inversion)\n",
    "- v_t (current latest basis vector)\n",
    "- Atb (current multiplication of b)"
   ]
  },
  {
   "cell_type": "code",
   "execution_count": null,
   "metadata": {},
   "outputs": [],
   "source": [
    "class Node():\n",
    "    \n",
    "    def __init__(self, number, n=2, theta_dim=1):\n",
    "        Q = np.random.randn(2*n, 2*n)\n",
    "        self.Q = Q@Q.T\n",
    "        \n",
    "        if number==1:\n",
    "            self.B = np.concatenate([np.zeros((n, n)), np.eye(n)], axis = 1)\n",
    "        elif number==2:\n",
    "            self.B = np.concatenate([np.zeros((n, n)), -np.eye(n)], axis=1)\n",
    "        \n",
    "        \n",
    "    def local_mult(self, z):\n",
    "        \n",
    "        return self.Q@z\n",
    "    \n",
    "    def coupling_mult(self, z):\n",
    "        \n",
    "        return self.B@z\n",
    "        \n",
    "    def norm(self, v1, v2):\n",
    "        return v1.T@self.Q@v2\n",
    "    "
   ]
  },
  {
   "cell_type": "code",
   "execution_count": null,
   "metadata": {},
   "outputs": [],
   "source": [
    "class global_problem(): # a global problem which has a few nodes\n",
    "    \n",
    "    def __init__(self):\n",
    "        self.n1 = Node(1)\n",
    "        self.n2 = Node(2)\n",
    "        \n",
    "    def compute_norm(self, v1, v2):\n",
    "        #vector v should have dimension (x1, y1, x2, y2, y1)\n",
    "        v1_1, v2_1 = v1[:4], v2[:4]\n",
    "        v1_2, v2_2 = v1[4:8], v2[4:8]\n",
    "        v1_3, v2_3 = v1[8:], v2[8:]\n",
    "        \n",
    "        return (\n",
    "        self.n1.norm(v1_1, v2_1) + self.n2.norm(v1_2, v2_2) + \n",
    "        self.n1.coupling_mult(v2_1)@v1_3 + self.n2.coupling_mult(v2_2)@v1_3 +\n",
    "        self.n1.coupling_mult(v1_1)@v2_3 + self.n2.coupling_mult(v1_2)@v2_3\n",
    "        )\n",
    "    \n",
    "    def normalize(self, v):\n",
    "        return v/np.sqrt(self.compute_norm(v, v))\n",
    "    \n",
    "    def multiply(self, v):\n",
    "        v1 = v[:4]\n",
    "        v2 = v[4:8]\n",
    "        v3 = v[8:]\n",
    "        \n",
    "        return np.concatenate(\n",
    "            (self.n1.local_mult(v1)+self.n1.B.T@v3,\n",
    "            self.n2.local_mult(v2) + self.n2.B.T@v3, \n",
    "            self.n1.B@v1 + self.n2.B@v2), axis=0\n",
    "        )\n",
    "    \n",
    "    def construct_M(self):\n",
    "        M = np.zeros((10, 10))\n",
    "        M[:4, :4] = self.n1.Q\n",
    "        M[4:8, 4:8] = self.n2.Q\n",
    "        M[8:, :4] = self.n1.B\n",
    "        M[:4, 8:] = self.n1.B.T\n",
    "        M[8:, 4:8] = self.n2.B\n",
    "        M[4:8, 8:] = self.n2.B.T\n",
    "        return M\n",
    "    \n",
    "        \n",
    "        \n",
    "        "
   ]
  },
  {
   "cell_type": "code",
   "execution_count": null,
   "metadata": {},
   "outputs": [],
   "source": [
    "prob = global_problem()"
   ]
  },
  {
   "cell_type": "code",
   "execution_count": null,
   "metadata": {},
   "outputs": [],
   "source": [
    "M = prob.construct_M()"
   ]
  },
  {
   "cell_type": "code",
   "execution_count": null,
   "metadata": {},
   "outputs": [],
   "source": [
    "b = np.random.randn(10)"
   ]
  },
  {
   "cell_type": "code",
   "execution_count": null,
   "metadata": {},
   "outputs": [],
   "source": [
    "uk = prob.normalize(b)\n",
    "xk = b\n",
    "Akb = b\n",
    "x = []\n",
    "u = [uk]\n",
    "for i in range(10):\n",
    "    Akb = prob.multiply(Akb)\n",
    "    vk = Akb - prob.compute_norm(Akb, uk)*uk\n",
    "    uk = prob.normalize(vk)\n",
    "    xk = xk + prob.compute_norm(b, uk)*uk\n",
    "    x.append(xk)\n",
    "    u.append(uk)"
   ]
  },
  {
   "cell_type": "code",
   "execution_count": null,
   "metadata": {},
   "outputs": [],
   "source": [
    "prob.compute_norm(u[2], u[8])"
   ]
  },
  {
   "cell_type": "code",
   "execution_count": null,
   "metadata": {},
   "outputs": [],
   "source": [
    "uk = prob.normalize(b)"
   ]
  },
  {
   "cell_type": "code",
   "execution_count": null,
   "metadata": {},
   "outputs": [],
   "source": [
    "prob.compute_norm(M@M@b, uk)"
   ]
  },
  {
   "cell_type": "markdown",
   "metadata": {},
   "source": [
    "# nondistributed solution"
   ]
  },
  {
   "cell_type": "code",
   "execution_count": null,
   "metadata": {},
   "outputs": [],
   "source": [
    "M = np.random.randn(10, 10)"
   ]
  },
  {
   "cell_type": "code",
   "execution_count": null,
   "metadata": {},
   "outputs": [],
   "source": [
    "# A = M@M.T"
   ]
  },
  {
   "cell_type": "code",
   "execution_count": null,
   "metadata": {},
   "outputs": [],
   "source": [
    "A = M"
   ]
  },
  {
   "cell_type": "code",
   "execution_count": null,
   "metadata": {},
   "outputs": [],
   "source": [
    "#CG method -- works\n",
    "xk = np.zeros(A.shape[0])\n",
    "r = b\n",
    "rho = r.T@r\n",
    "x = [xk]\n",
    "rhos = [rho]\n",
    "for k in range(10):\n",
    "    if k == 0:\n",
    "        p = r\n",
    "    else:\n",
    "        p = r + p*(rhos[-1]/rhos[-2])\n",
    "    w = A@p\n",
    "    alpha = rhos[-1]/(p@w)\n",
    "    xk = xk + alpha*p\n",
    "    r = r-alpha*w\n",
    "    rhos.append(r.T@r)\n",
    "    x.append(xk)"
   ]
  },
  {
   "cell_type": "code",
   "execution_count": null,
   "metadata": {},
   "outputs": [],
   "source": [
    "#direct solution\n",
    "x_opt = np.linalg.inv(A)@b"
   ]
  },
  {
   "cell_type": "code",
   "execution_count": null,
   "metadata": {},
   "outputs": [],
   "source": [
    "x_opt"
   ]
  },
  {
   "cell_type": "code",
   "execution_count": null,
   "metadata": {},
   "outputs": [],
   "source": [
    "xk"
   ]
  },
  {
   "cell_type": "code",
   "execution_count": null,
   "metadata": {},
   "outputs": [],
   "source": [
    "diff = []\n",
    "for x_ in x:\n",
    "    diff.append((x_opt-x_).T@A@(x_opt-x_))\n",
    "plt.plot(diff, 'o-')\n",
    "plt.yscale('log')"
   ]
  },
  {
   "cell_type": "code",
   "execution_count": null,
   "metadata": {},
   "outputs": [],
   "source": []
  }
 ],
 "metadata": {
  "kernelspec": {
   "display_name": "Python [conda env:py37] *",
   "language": "python",
   "name": "conda-env-py37-py"
  },
  "language_info": {
   "codemirror_mode": {
    "name": "ipython",
    "version": 3
   },
   "file_extension": ".py",
   "mimetype": "text/x-python",
   "name": "python",
   "nbconvert_exporter": "python",
   "pygments_lexer": "ipython3",
   "version": "3.7.7"
  },
  "toc": {
   "base_numbering": 1,
   "nav_menu": {},
   "number_sections": true,
   "sideBar": true,
   "skip_h1_title": false,
   "title_cell": "Table of Contents",
   "title_sidebar": "Contents",
   "toc_cell": true,
   "toc_position": {},
   "toc_section_display": true,
   "toc_window_display": true
  },
  "varInspector": {
   "cols": {
    "lenName": 16,
    "lenType": 16,
    "lenVar": 40
   },
   "kernels_config": {
    "python": {
     "delete_cmd_postfix": "",
     "delete_cmd_prefix": "del ",
     "library": "var_list.py",
     "varRefreshCmd": "print(var_dic_list())"
    },
    "r": {
     "delete_cmd_postfix": ") ",
     "delete_cmd_prefix": "rm(",
     "library": "var_list.r",
     "varRefreshCmd": "cat(var_dic_list()) "
    }
   },
   "types_to_exclude": [
    "module",
    "function",
    "builtin_function_or_method",
    "instance",
    "_Feature"
   ],
   "window_display": false
  }
 },
 "nbformat": 4,
 "nbformat_minor": 4
}
