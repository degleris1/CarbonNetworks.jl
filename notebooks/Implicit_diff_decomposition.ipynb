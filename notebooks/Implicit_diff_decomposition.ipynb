{
 "cells": [
  {
   "cell_type": "markdown",
   "metadata": {
    "toc": true
   },
   "source": [
    "<h1>Table of Contents<span class=\"tocSkip\"></span></h1>\n",
    "<div class=\"toc\"><ul class=\"toc-item\"><li><span><a href=\"#Solution-of-master-problem\" data-toc-modified-id=\"Solution-of-master-problem-1\"><span class=\"toc-item-num\">1&nbsp;&nbsp;</span>Solution of master problem</a></span><ul class=\"toc-item\"><li><span><a href=\"#Local-solution\" data-toc-modified-id=\"Local-solution-1.1\"><span class=\"toc-item-num\">1.1&nbsp;&nbsp;</span>Local solution</a></span></li></ul></li></ul></div>"
   ]
  },
  {
   "cell_type": "markdown",
   "metadata": {},
   "source": [
    "Here we try to apply Mert's idea of locally computing the derivative and try to see how well this works in practice"
   ]
  },
  {
   "cell_type": "markdown",
   "metadata": {},
   "source": [
    "We will assume that each of the sub functions is a quad form, purely and simply"
   ]
  },
  {
   "cell_type": "markdown",
   "metadata": {},
   "source": [
    "**Note** All this could/should? be done in jax-autodiff-pytorch"
   ]
  },
  {
   "cell_type": "markdown",
   "metadata": {},
   "source": [
    "----\n"
   ]
  },
  {
   "cell_type": "code",
   "execution_count": null,
   "metadata": {},
   "outputs": [],
   "source": [
    "import cvxpy as cp\n",
    "import numpy as np\n",
    "import matplotlib.pyplot as plt"
   ]
  },
  {
   "cell_type": "code",
   "execution_count": null,
   "metadata": {},
   "outputs": [],
   "source": [
    "dim_x = 2\n",
    "dim_y = 2"
   ]
  },
  {
   "cell_type": "code",
   "execution_count": null,
   "metadata": {},
   "outputs": [],
   "source": [
    "dim_tot = dim_x+dim_y"
   ]
  },
  {
   "cell_type": "code",
   "execution_count": null,
   "metadata": {},
   "outputs": [],
   "source": [
    "class problem_data():\n",
    "    def __init__(self, dim_x, dim_y):\n",
    "        self.dim_x, self.dim_y = dim_x, dim_y\n",
    "        self.dim_tot = dim_x+dim_y\n",
    "        dA1_theta = np.random.randn(dim_tot, dim_tot)\n",
    "        dA2_theta = np.random.randn(dim_tot, dim_tot)\n",
    "        self.dA2_theta = dA2_theta@dA2_theta.T\n",
    "        self.dA1_theta = dA1_theta@dA1_theta.T\n",
    "        self.db1_theta = np.random.randn(dim_tot)\n",
    "        self.db2_theta = np.random.randn(dim_tot)\n",
    "\n",
    "        A1_ = np.random.randn(dim_tot, dim_tot)\n",
    "        A2_ = np.random.randn(dim_tot, dim_tot)\n",
    "        self.A1_ = A1_@A1_.T\n",
    "        self.A2_ = A2_@A2_.T\n",
    "        self.b1_ = np.random.randn(dim_tot)+10*np.ones(dim_tot)\n",
    "        self.b2_ = np.random.randn(dim_tot)+20*np.ones(dim_tot)\n",
    "        \n",
    "        self.B1 = np.concatenate((np.zeros((dim_y, dim_x)), np.eye(dim_y)), axis = 1)\n",
    "        self.B2 = np.concatenate((np.zeros((dim_y, dim_x)), -np.eye(dim_y)), axis = 1)\n",
    "        \n",
    "    def get_data(self, theta):\n",
    "        A1 = self.A1_ + self.dA1_theta*theta\n",
    "        A2 = self.A2_ + self.dA2_theta*theta\n",
    "        b1 = self.b1_ + theta*self.db1_theta\n",
    "        b2 = self.b2_ + theta*self.db2_theta\n",
    "        \n",
    "        return A1, A2, b1, b2, self.B1, self.B2\n",
    "    \n",
    "    def solve_exact(self, theta):\n",
    "        \n",
    "        A1, A2, b1, b2, B1, B2 = self.get_data(theta)\n",
    "        \n",
    "        z1, z2 = cp.Variable(self.dim_tot), cp.Variable(self.dim_tot)\n",
    "        constraints = [z1[self.dim_x:] == z2[self.dim_x:]]\n",
    "        cost = cp.quad_form(z1, A1) + b1@z1 + cp.quad_form(z2, A2) + b2@z2\n",
    "\n",
    "        prob = cp.Problem(cp.Minimize(cost), constraints)\n",
    "\n",
    "        prob.solve()\n",
    "        lam_ = constraints[0].dual_value\n",
    "        \n",
    "        #D_theta_g\n",
    "        self.dg_1 = self.dA1_theta@z1.value + self.db1_theta\n",
    "        self.dg_2 = self.dA2_theta@z2.value + self.db2_theta\n",
    "        dg_theta = np.concatenate((dg_1, dg_2, np.zeros((self.dim_y,))))\n",
    "        \n",
    "        return z1.value, z2.value, lam_, dg_theta\n",
    "    \n",
    "    def compute_J(self, theta):\n",
    "        dim_tot = self.dim_tot\n",
    "        dim_y = self.dim_y\n",
    "        A1, A2, b1, b2, B1, B2 = self.get_data(theta)\n",
    "        \n",
    "        J = np.zeros((2*dim_tot + dim_y, 2*dim_tot+dim_y))\n",
    "\n",
    "        J[:dim_tot, :dim_tot] = A1\n",
    "\n",
    "        J[dim_tot:-dim_y, dim_tot:-dim_y] = A2\n",
    "\n",
    "        J[2*dim_tot:, :dim_tot] = B1\n",
    "        J[2*dim_tot:, dim_tot:2*dim_tot] = B2\n",
    "        J[:dim_tot, 2*dim_tot:] = B1.T\n",
    "        J[dim_tot:2*dim_tot, 2*dim_tot:] = B2.T\n",
    "        \n",
    "        return J"
   ]
  },
  {
   "cell_type": "code",
   "execution_count": null,
   "metadata": {},
   "outputs": [],
   "source": [
    "theta0 = np.random.rand()"
   ]
  },
  {
   "cell_type": "markdown",
   "metadata": {},
   "source": [
    "# Solution of master problem\n"
   ]
  },
  {
   "cell_type": "code",
   "execution_count": null,
   "metadata": {},
   "outputs": [],
   "source": [
    "data = problem_data(dim_x, dim_y)"
   ]
  },
  {
   "cell_type": "code",
   "execution_count": null,
   "metadata": {},
   "outputs": [],
   "source": [
    "z1, z2, lam_, dg_theta = data.solve_exact(theta0)\n",
    "\n",
    "J = data.compute_J(theta0)"
   ]
  },
  {
   "cell_type": "code",
   "execution_count": null,
   "metadata": {},
   "outputs": [],
   "source": [
    "x1_0 = z1[0]#reference solution"
   ]
  },
  {
   "cell_type": "code",
   "execution_count": null,
   "metadata": {},
   "outputs": [],
   "source": [
    "x1_0"
   ]
  },
  {
   "cell_type": "code",
   "execution_count": null,
   "metadata": {},
   "outputs": [],
   "source": [
    "dzdtheta = - np.linalg.inv(J)@dg_theta\n",
    "\n",
    "J1 = J[:dim_tot, :dim_tot]\n",
    "\n",
    "dz1dtheta = - np.linalg.inv(J1)@data.dg_1"
   ]
  },
  {
   "cell_type": "code",
   "execution_count": null,
   "metadata": {},
   "outputs": [],
   "source": [
    "dzdtheta[0]"
   ]
  },
  {
   "cell_type": "code",
   "execution_count": null,
   "metadata": {},
   "outputs": [],
   "source": [
    "dz1dtheta[0]"
   ]
  },
  {
   "cell_type": "code",
   "execution_count": null,
   "metadata": {},
   "outputs": [],
   "source": [
    "x1_vals = []\n",
    "dtheta_vec = np.logspace(-6, -2, 10)\n",
    "for dtheta in dtheta_vec:\n",
    "    theta_ = theta0+dtheta\n",
    "    z1, z2, lam_, dg_theta = data.solve_exact(theta_)\n",
    "    x1_vals.append(z1[0])"
   ]
  },
  {
   "cell_type": "code",
   "execution_count": null,
   "metadata": {},
   "outputs": [],
   "source": [
    "x1_pred = x1_0 + dzdtheta[0]*dtheta_vec\n",
    "x1_pred_local = x1_0+dz1dtheta[0]*dtheta_vec"
   ]
  },
  {
   "cell_type": "code",
   "execution_count": null,
   "metadata": {},
   "outputs": [],
   "source": [
    "plt.plot(dtheta_vec, x1_vals)"
   ]
  },
  {
   "cell_type": "code",
   "execution_count": null,
   "metadata": {},
   "outputs": [],
   "source": [
    "plt.plot(dtheta_vec, x1_vals, label='exact')\n",
    "plt.plot(dtheta_vec, x1_pred, label='diff')\n",
    "plt.plot(dtheta_vec, x1_pred_local, label = 'local_diff')\n",
    "# plt.xscale('log')\n",
    "plt.grid()\n",
    "plt.xlabel('dtheta')\n",
    "plt.ylabel('x1')\n",
    "plt.legend()\n"
   ]
  },
  {
   "cell_type": "code",
   "execution_count": null,
   "metadata": {},
   "outputs": [],
   "source": [
    "e_diff = np.abs(np.divide(x1_vals-x1_pred, x1_vals))\n",
    "e_local_diff = np.abs(np.divide(x1_vals-x1_pred_local, x1_vals))"
   ]
  },
  {
   "cell_type": "code",
   "execution_count": null,
   "metadata": {},
   "outputs": [],
   "source": [
    "plt.plot(dtheta_vec, e_diff, label='rel_err_diff')\n",
    "plt.plot(dtheta_vec, e_local_diff, label='rel_err_local_diff')\n",
    "plt.grid()\n",
    "plt.xlabel('dtheta')\n",
    "plt.ylabel('relative error')\n",
    "# plt.xscale('log')\n",
    "plt.legend()"
   ]
  },
  {
   "cell_type": "code",
   "execution_count": null,
   "metadata": {},
   "outputs": [],
   "source": []
  }
 ],
 "metadata": {
  "kernelspec": {
   "display_name": "Python [conda env:py37] *",
   "language": "python",
   "name": "conda-env-py37-py"
  },
  "language_info": {
   "codemirror_mode": {
    "name": "ipython",
    "version": 3
   },
   "file_extension": ".py",
   "mimetype": "text/x-python",
   "name": "python",
   "nbconvert_exporter": "python",
   "pygments_lexer": "ipython3",
   "version": "3.7.7"
  },
  "toc": {
   "base_numbering": 1,
   "nav_menu": {},
   "number_sections": true,
   "sideBar": true,
   "skip_h1_title": false,
   "title_cell": "Table of Contents",
   "title_sidebar": "Contents",
   "toc_cell": true,
   "toc_position": {},
   "toc_section_display": true,
   "toc_window_display": true
  },
  "varInspector": {
   "cols": {
    "lenName": 16,
    "lenType": 16,
    "lenVar": 40
   },
   "kernels_config": {
    "python": {
     "delete_cmd_postfix": "",
     "delete_cmd_prefix": "del ",
     "library": "var_list.py",
     "varRefreshCmd": "print(var_dic_list())"
    },
    "r": {
     "delete_cmd_postfix": ") ",
     "delete_cmd_prefix": "rm(",
     "library": "var_list.r",
     "varRefreshCmd": "cat(var_dic_list()) "
    }
   },
   "types_to_exclude": [
    "module",
    "function",
    "builtin_function_or_method",
    "instance",
    "_Feature"
   ],
   "window_display": false
  }
 },
 "nbformat": 4,
 "nbformat_minor": 4
}
