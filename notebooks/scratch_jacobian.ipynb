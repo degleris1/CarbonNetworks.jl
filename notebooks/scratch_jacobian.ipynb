{
 "cells": [
  {
   "cell_type": "markdown",
   "metadata": {
    "toc": true
   },
   "source": [
    "<h1>Table of Contents<span class=\"tocSkip\"></span></h1>\n",
    "<div class=\"toc\"><ul class=\"toc-item\"><li><span><a href=\"#Generate-some-random-data\" data-toc-modified-id=\"Generate-some-random-data-1\"><span class=\"toc-item-num\">1&nbsp;&nbsp;</span>Generate some random data</a></span><ul class=\"toc-item\"><li><span><a href=\"#Zygote-Jacobian\" data-toc-modified-id=\"Zygote-Jacobian-1.1\"><span class=\"toc-item-num\">1.1&nbsp;&nbsp;</span>Zygote Jacobian</a></span></li><li><span><a href=\"#Manual-Jacobian\" data-toc-modified-id=\"Manual-Jacobian-1.2\"><span class=\"toc-item-num\">1.2&nbsp;&nbsp;</span>Manual Jacobian</a></span></li><li><span><a href=\"#Comparison\" data-toc-modified-id=\"Comparison-1.3\"><span class=\"toc-item-num\">1.3&nbsp;&nbsp;</span>Comparison</a></span></li></ul></li><li><span><a href=\"#Run-a-loop-and-store-both-the-error-and-the-runtime\" data-toc-modified-id=\"Run-a-loop-and-store-both-the-error-and-the-runtime-2\"><span class=\"toc-item-num\">2&nbsp;&nbsp;</span>Run a loop and store both the error and the runtime</a></span></li></ul></div>"
   ]
  },
  {
   "cell_type": "code",
   "execution_count": null,
   "metadata": {},
   "outputs": [],
   "source": [
    "using Pkg; Pkg.activate()\n",
    "\n",
    "using Plots\n",
    "using Convex, ECOS  # Convex modeling and solver\n",
    "using Distributions, Random  # Seeds and sampling\n",
    "using LightGraphs  # Generating nice random graphs\n",
    "using GraphPlot, Colors  # For plotting\n",
    "using SparseArrays\n",
    "\n",
    "OPT = () -> ECOS.Optimizer(verbose=false)"
   ]
  },
  {
   "cell_type": "code",
   "execution_count": null,
   "metadata": {},
   "outputs": [],
   "source": [
    "using Revise\n",
    "using CarbonNetworks"
   ]
  },
  {
   "cell_type": "code",
   "execution_count": null,
   "metadata": {},
   "outputs": [],
   "source": [
    "using Zygote"
   ]
  },
  {
   "cell_type": "code",
   "execution_count": null,
   "metadata": {},
   "outputs": [],
   "source": [
    "using LinearAlgebra"
   ]
  },
  {
   "cell_type": "markdown",
   "metadata": {},
   "source": [
    "# Generate some random data"
   ]
  },
  {
   "cell_type": "code",
   "execution_count": null,
   "metadata": {},
   "outputs": [],
   "source": [
    "n = 30\n",
    "l = 50;\n",
    "T = 5;"
   ]
  },
  {
   "cell_type": "code",
   "execution_count": null,
   "metadata": {},
   "outputs": [],
   "source": [
    "η_c = .99;\n",
    "η_d = .82;"
   ]
  },
  {
   "cell_type": "code",
   "execution_count": null,
   "metadata": {},
   "outputs": [],
   "source": [
    "A, B, cq_dyn, cl_dyn, d_dyn, gmax_dyn, pmax_dyn, P, C = generate_random_data(n, l, T);"
   ]
  },
  {
   "cell_type": "code",
   "execution_count": null,
   "metadata": {},
   "outputs": [],
   "source": [
    "dnet = DynamicPowerNetwork(\n",
    "    cq_dyn, cl_dyn, pmax_dyn, gmax_dyn, A, B, P, C, T; η_c=η_c, η_d=η_d\n",
    ")\n",
    "dmin = DynamicPowerManagementProblem(dnet, d_dyn);"
   ]
  },
  {
   "cell_type": "code",
   "execution_count": null,
   "metadata": {},
   "outputs": [],
   "source": [
    "solve!(dmin, OPT, verbose=true);"
   ]
  },
  {
   "cell_type": "code",
   "execution_count": null,
   "metadata": {},
   "outputs": [],
   "source": [
    "x = flatten_variables_dyn(dmin);"
   ]
  },
  {
   "cell_type": "markdown",
   "metadata": {},
   "source": [
    "## Zygote Jacobian"
   ]
  },
  {
   "cell_type": "code",
   "execution_count": null,
   "metadata": {},
   "outputs": [],
   "source": [
    "_, ∂K_xT = Zygote.forward_jacobian(x -> kkt_dyn(x, dnet, d_dyn), x);"
   ]
  },
  {
   "cell_type": "code",
   "execution_count": null,
   "metadata": {},
   "outputs": [],
   "source": [
    "_jac = sparse(∂K_xT');"
   ]
  },
  {
   "cell_type": "markdown",
   "metadata": {},
   "source": [
    "## Manual Jacobian"
   ]
  },
  {
   "cell_type": "code",
   "execution_count": null,
   "metadata": {
    "scrolled": false
   },
   "outputs": [],
   "source": [
    "Jac_manual = compute_jacobian_kkt_dyn(x, dnet, d_dyn);"
   ]
  },
  {
   "cell_type": "markdown",
   "metadata": {},
   "source": [
    "## Comparison"
   ]
  },
  {
   "cell_type": "code",
   "execution_count": null,
   "metadata": {},
   "outputs": [],
   "source": [
    "@show norm(_jac - Jac_manual)"
   ]
  },
  {
   "cell_type": "markdown",
   "metadata": {},
   "source": [
    "# Run a loop and store both the error and the runtime"
   ]
  },
  {
   "cell_type": "code",
   "execution_count": null,
   "metadata": {},
   "outputs": [],
   "source": [
    "η_c = .99;\n",
    "η_d = .82;\n",
    "\n",
    "T = 20;"
   ]
  },
  {
   "cell_type": "code",
   "execution_count": null,
   "metadata": {},
   "outputs": [],
   "source": [
    "n_vec = [4, 10, 50, 100];\n",
    "norms = zeros(size(n_vec));\n",
    "time_Zygote = zeros(size(n_vec));\n",
    "time_manual = zeros(size(n_vec));\n",
    "\n",
    "for i = 1:length(n_vec)\n",
    "    n = n_vec[i]\n",
    "    l = n\n",
    "\n",
    "    A, B, cq_dyn, cl_dyn, d_dyn, gmax_dyn, pmax_dyn, P, C = generate_data(n, l, T);\n",
    "\n",
    "    dnet = DynamicPowerNetwork(\n",
    "        cq_dyn, cl_dyn, pmax_dyn, gmax_dyn, A, B, P, C, T; η_c=η_c, η_d=η_d\n",
    "    )\n",
    "    dmin = DynamicPowerManagementProblem(dnet, d_dyn);\n",
    "\n",
    "    solve!(dmin, OPT, verbose=true);\n",
    "\n",
    "    x = flatten_variables_dyn(dmin);\n",
    "\n",
    "    tz = @elapsed _, ∂K_xT = Zygote.forward_jacobian(x -> kkt_dyn(x, dnet, d_dyn), x);\n",
    "    tm = @elapsed Jac_manual = compute_jacobian_kkt_dyn(x, dnet, d_dyn);\n",
    "    \n",
    "    time_Zygote[i] = tz;\n",
    "    time_manual[i] = tm;\n",
    "\n",
    "    _jac = sparse(∂K_xT');\n",
    "\n",
    "    norms[i] = norm(_jac - Jac_manual);\n",
    "end"
   ]
  },
  {
   "cell_type": "code",
   "execution_count": null,
   "metadata": {},
   "outputs": [],
   "source": [
    "plot(n_vec, norms, ls = :dash, shape=:circle)\n",
    "title!(\"Norm of the residual\")\n",
    "xlabel!(\"n\")\n",
    "ylabel!(\"residual\")"
   ]
  },
  {
   "cell_type": "code",
   "execution_count": null,
   "metadata": {},
   "outputs": [],
   "source": [
    "plot(n_vec, time_Zygote, ls=:dash, shape=:circle, label=\"Zygote\")\n",
    "plot!(n_vec, time_manual, ls=:dash, shape=:circle, label=\"Manual\")\n",
    "title!(\"Computation time\")\n",
    "xlabel!(\"n\")\n",
    "ylabel!(\"Time [s]\")"
   ]
  },
  {
   "cell_type": "code",
   "execution_count": null,
   "metadata": {},
   "outputs": [],
   "source": [
    "plot(n_vec, time_Zygote./time_manual, ls=:dash, shape=:circle, label=\"Zygote/Manual\")\n",
    "title!(\"Ratio of computation time\")\n",
    "xlabel!(\"n\")\n",
    "ylabel!(\"Speed-up [-]\")"
   ]
  },
  {
   "cell_type": "code",
   "execution_count": null,
   "metadata": {},
   "outputs": [],
   "source": []
  }
 ],
 "metadata": {
  "kernelspec": {
   "display_name": "Julia 1.6.0",
   "language": "julia",
   "name": "julia-1.6"
  },
  "language_info": {
   "file_extension": ".jl",
   "mimetype": "application/julia",
   "name": "julia",
   "version": "1.6.0"
  },
  "toc": {
   "base_numbering": 1,
   "nav_menu": {},
   "number_sections": true,
   "sideBar": true,
   "skip_h1_title": false,
   "title_cell": "Table of Contents",
   "title_sidebar": "Contents",
   "toc_cell": true,
   "toc_position": {
    "height": "calc(100% - 180px)",
    "left": "10px",
    "top": "150px",
    "width": "165px"
   },
   "toc_section_display": true,
   "toc_window_display": true
  },
  "varInspector": {
   "cols": {
    "lenName": 16,
    "lenType": 16,
    "lenVar": 40
   },
   "kernels_config": {
    "python": {
     "delete_cmd_postfix": "",
     "delete_cmd_prefix": "del ",
     "library": "var_list.py",
     "varRefreshCmd": "print(var_dic_list())"
    },
    "r": {
     "delete_cmd_postfix": ") ",
     "delete_cmd_prefix": "rm(",
     "library": "var_list.r",
     "varRefreshCmd": "cat(var_dic_list()) "
    }
   },
   "types_to_exclude": [
    "module",
    "function",
    "builtin_function_or_method",
    "instance",
    "_Feature"
   ],
   "window_display": false
  }
 },
 "nbformat": 4,
 "nbformat_minor": 5
}
