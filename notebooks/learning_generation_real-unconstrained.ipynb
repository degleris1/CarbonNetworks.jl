{
 "cells": [
  {
   "cell_type": "markdown",
   "metadata": {
    "toc": true
   },
   "source": [
    "<h1>Table of Contents<span class=\"tocSkip\"></span></h1>\n",
    "<div class=\"toc\"><ul class=\"toc-item\"><li><span><a href=\"#Load-data\" data-toc-modified-id=\"Load-data-1\"><span class=\"toc-item-num\">1&nbsp;&nbsp;</span>Load data</a></span><ul class=\"toc-item\"><li><span><a href=\"#Load-network\" data-toc-modified-id=\"Load-network-1.1\"><span class=\"toc-item-num\">1.1&nbsp;&nbsp;</span>Load network</a></span></li><li><span><a href=\"#Load-cases\" data-toc-modified-id=\"Load-cases-1.2\"><span class=\"toc-item-num\">1.2&nbsp;&nbsp;</span>Load cases</a></span></li><li><span><a href=\"#Run\" data-toc-modified-id=\"Run-1.3\"><span class=\"toc-item-num\">1.3&nbsp;&nbsp;</span>Run</a></span></li></ul></li></ul></div>"
   ]
  },
  {
   "cell_type": "code",
   "execution_count": null,
   "metadata": {},
   "outputs": [],
   "source": [
    "using Pkg; Pkg.activate()\n",
    "\n",
    "using DataFrames, CSV\n",
    "using Convex, ECOS\n",
    "using Distributions, Random  \n",
    "using LightGraphs  \n",
    "using Plots\n",
    "\n",
    "using SparseArrays\n",
    "using Base.Iterators: product\n",
    "\n",
    "using Revise\n",
    "using CarbonNetworks\n",
    "\n",
    "ECOS_QUIET = () -> ECOS.Optimizer(verbose=false)"
   ]
  },
  {
   "cell_type": "code",
   "execution_count": null,
   "metadata": {},
   "outputs": [],
   "source": [
    "using Plots"
   ]
  },
  {
   "cell_type": "code",
   "execution_count": null,
   "metadata": {},
   "outputs": [],
   "source": [
    "plotly()"
   ]
  },
  {
   "cell_type": "markdown",
   "metadata": {},
   "source": [
    "# Load data"
   ]
  },
  {
   "cell_type": "markdown",
   "metadata": {},
   "source": [
    "## Load network"
   ]
  },
  {
   "cell_type": "code",
   "execution_count": null,
   "metadata": {},
   "outputs": [],
   "source": [
    "DATAPATH = ENV[\"CARBON_NETWORKS_DATA\"]"
   ]
  },
  {
   "cell_type": "code",
   "execution_count": null,
   "metadata": {},
   "outputs": [],
   "source": [
    "A, gmax, pmax, f, G, nodes = parse_network_data(DATAPATH; num_generators=1)\n",
    "n = length(gmax)\n",
    "m = length(pmax)\n",
    "\n",
    "# Remove infinite capacities\n",
    "pmax[pmax .== Inf] .= 3*maximum(gmax);"
   ]
  },
  {
   "cell_type": "code",
   "execution_count": null,
   "metadata": {},
   "outputs": [],
   "source": [
    "normalization = mean(gmax)\n",
    "\n",
    "gmax /= normalization\n",
    "pmax /= normalization\n",
    "\n",
    "@show n, m;\n",
    "\n",
    "agg_nodes, B = create_generation_map(nodes);"
   ]
  },
  {
   "cell_type": "code",
   "execution_count": null,
   "metadata": {},
   "outputs": [],
   "source": [
    "#removing constraints\n",
    "max_val = 1.5*maximum(gmax)\n",
    "gmax .= max_val\n",
    "pmax .= 10*max_val;"
   ]
  },
  {
   "cell_type": "markdown",
   "metadata": {},
   "source": [
    "## Load cases"
   ]
  },
  {
   "cell_type": "code",
   "execution_count": null,
   "metadata": {},
   "outputs": [],
   "source": [
    "file_names = joinpath.(joinpath(DATAPATH, \"TRAIN\"), readdir(joinpath(DATAPATH, \"TRAIN\")))\n",
    "\n",
    "cases = []\n",
    "for file in file_names   \n",
    "    d, g, case = load_case(file, agg_nodes, B, nodes)\n",
    "    d = d/normalization\n",
    "    g = g/normalization\n",
    "    push!(cases, (d=d, g=g, case=case))\n",
    "end\n",
    "\n",
    "train_cases = cases[1:500]\n",
    "test_cases = cases[501:end];\n",
    "\n",
    "# train_cases = cases[1:1];\n",
    "# test_cases = cases[2:2];"
   ]
  },
  {
   "cell_type": "markdown",
   "metadata": {},
   "source": [
    "## Run"
   ]
  },
  {
   "cell_type": "code",
   "execution_count": null,
   "metadata": {},
   "outputs": [],
   "source": [
    "Random.seed!(1);"
   ]
  },
  {
   "cell_type": "code",
   "execution_count": null,
   "metadata": {},
   "outputs": [],
   "source": [
    "reinit=true"
   ]
  },
  {
   "cell_type": "code",
   "execution_count": null,
   "metadata": {},
   "outputs": [],
   "source": [
    "# Algorithm parameters\n",
    "step_size = .1\n",
    "max_iter = 300\n",
    "batch_size = 1\n",
    "test_batch_size = 1\n",
    "α = 1000\n",
    "\n",
    "# Initialize estimated costs\n",
    "if reinit\n",
    "    f̂ = rand(Exponential(5), n) .+ 2\n",
    "end\n",
    "\n",
    "train_loss_hist, test_loss_hist, grad_hist, f̂ = CarbonNetworks.run_gradient_descent(\n",
    "    f̂, train_cases, test_cases, pmax, gmax, A, B, \n",
    "    step_size, max_iter, batch_size, test_batch_size, \n",
    "    α\n",
    "    );"
   ]
  },
  {
   "cell_type": "code",
   "execution_count": null,
   "metadata": {},
   "outputs": [],
   "source": [
    "theme(:default, lw=4, label=nothing)\n",
    "\n",
    "plot(\n",
    "    plot(train_loss_hist, ylabel=\"train\"),\n",
    "    plot(test_loss_hist, ylabel=\"test\"),\n",
    "    layout=(2, 1), ylims=(0, 2)\n",
    ")"
   ]
  },
  {
   "cell_type": "code",
   "execution_count": null,
   "metadata": {},
   "outputs": [],
   "source": [
    "grad_hist_norm = []\n",
    "for g in grad_hist\n",
    "    push!(grad_hist_norm, norm(g))\n",
    "end"
   ]
  },
  {
   "cell_type": "code",
   "execution_count": null,
   "metadata": {},
   "outputs": [],
   "source": [
    "plot(grad_hist_norm, ylabel=\"gradien norm\")"
   ]
  },
  {
   "cell_type": "code",
   "execution_count": null,
   "metadata": {},
   "outputs": [],
   "source": [
    "case = train_cases[1];\n",
    "\n",
    "ĝ, _, _ = CarbonNetworks.solvePMP(f̂, case, pmax, gmax, A);"
   ]
  },
  {
   "cell_type": "code",
   "execution_count": null,
   "metadata": {},
   "outputs": [],
   "source": []
  },
  {
   "cell_type": "code",
   "execution_count": null,
   "metadata": {},
   "outputs": [],
   "source": []
  },
  {
   "cell_type": "code",
   "execution_count": null,
   "metadata": {},
   "outputs": [],
   "source": [
    "bar(case.g*normalization)"
   ]
  },
  {
   "cell_type": "code",
   "execution_count": null,
   "metadata": {},
   "outputs": [],
   "source": [
    "rel_error = abs.(B*ĝ-case.g)./case.g*100;"
   ]
  },
  {
   "cell_type": "code",
   "execution_count": null,
   "metadata": {},
   "outputs": [],
   "source": [
    "finite_idx = case.g.!=0;\n",
    "case.g[finite_idx];"
   ]
  },
  {
   "cell_type": "code",
   "execution_count": null,
   "metadata": {},
   "outputs": [],
   "source": [
    "histogram(case.g[finite_idx])"
   ]
  },
  {
   "cell_type": "code",
   "execution_count": null,
   "metadata": {},
   "outputs": [],
   "source": [
    "histogram(rel_error[finite_idx])"
   ]
  },
  {
   "cell_type": "code",
   "execution_count": null,
   "metadata": {},
   "outputs": [],
   "source": [
    "function logrange(x1, x2, n)\n",
    "    v = [10^y for y in range(x1, x2, length=n)]\n",
    "    return v\n",
    "end"
   ]
  },
  {
   "cell_type": "code",
   "execution_count": null,
   "metadata": {},
   "outputs": [],
   "source": [
    "v = logrange(-1, 6, 20);"
   ]
  },
  {
   "cell_type": "code",
   "execution_count": null,
   "metadata": {},
   "outputs": [],
   "source": [
    "histogram(rel_error[finite_idx], xaxis=(:log10, (.1,Inf)), bins=v, xlabel=\"Relative Error [%]\", ylabel=\"Counts\")"
   ]
  },
  {
   "cell_type": "code",
   "execution_count": null,
   "metadata": {},
   "outputs": [],
   "source": [
    "bar(rel_error, xlabel=\"generator #\", ylabel=\"rel error [%]\")"
   ]
  },
  {
   "cell_type": "code",
   "execution_count": null,
   "metadata": {},
   "outputs": [],
   "source": [
    "n_gen_lower = []\n",
    "for vi in v\n",
    "    push!(n_gen_lower, sum(rel_error[finite_idx].≤vi))\n",
    "end\n",
    "\n",
    "n_gen_lower = n_gen_lower./length(rel_error[finite_idx])*100;"
   ]
  },
  {
   "cell_type": "code",
   "execution_count": null,
   "metadata": {},
   "outputs": [],
   "source": [
    "plot(v, n_gen_lower, \n",
    "    xlabel=\"Relative error [%]\", ylabel=\"CDF of relative errors over generators [%]\", \n",
    "    xaxis=(:log10, (.1, Inf))\n",
    ")"
   ]
  },
  {
   "cell_type": "code",
   "execution_count": null,
   "metadata": {},
   "outputs": [],
   "source": []
  }
 ],
 "metadata": {
  "kernelspec": {
   "display_name": "Julia 1.6.0",
   "language": "julia",
   "name": "julia-1.6"
  },
  "language_info": {
   "file_extension": ".jl",
   "mimetype": "application/julia",
   "name": "julia",
   "version": "1.6.0"
  },
  "toc": {
   "base_numbering": 1,
   "nav_menu": {},
   "number_sections": true,
   "sideBar": true,
   "skip_h1_title": false,
   "title_cell": "Table of Contents",
   "title_sidebar": "Contents",
   "toc_cell": true,
   "toc_position": {
    "height": "calc(100% - 180px)",
    "left": "10px",
    "top": "150px",
    "width": "165px"
   },
   "toc_section_display": true,
   "toc_window_display": true
  },
  "varInspector": {
   "cols": {
    "lenName": 16,
    "lenType": 16,
    "lenVar": 40
   },
   "kernels_config": {
    "python": {
     "delete_cmd_postfix": "",
     "delete_cmd_prefix": "del ",
     "library": "var_list.py",
     "varRefreshCmd": "print(var_dic_list())"
    },
    "r": {
     "delete_cmd_postfix": ") ",
     "delete_cmd_prefix": "rm(",
     "library": "var_list.r",
     "varRefreshCmd": "cat(var_dic_list()) "
    }
   },
   "types_to_exclude": [
    "module",
    "function",
    "builtin_function_or_method",
    "instance",
    "_Feature"
   ],
   "window_display": false
  }
 },
 "nbformat": 4,
 "nbformat_minor": 5
}
