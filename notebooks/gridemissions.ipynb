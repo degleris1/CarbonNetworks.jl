{
 "cells": [
  {
   "cell_type": "markdown",
   "metadata": {
    "toc": true
   },
   "source": [
    "<h1>Table of Contents<span class=\"tocSkip\"></span></h1>\n",
    "<div class=\"toc\"><ul class=\"toc-item\"><li><span><a href=\"#TODOs\" data-toc-modified-id=\"TODOs-1\"><span class=\"toc-item-num\">1&nbsp;&nbsp;</span>TODOs</a></span></li><li><span><a href=\"#Questions\" data-toc-modified-id=\"Questions-2\"><span class=\"toc-item-num\">2&nbsp;&nbsp;</span>Questions</a></span></li><li><span><a href=\"#Links\" data-toc-modified-id=\"Links-3\"><span class=\"toc-item-num\">3&nbsp;&nbsp;</span>Links</a></span></li><li><span><a href=\"#Interpreting-the-data\" data-toc-modified-id=\"Interpreting-the-data-4\"><span class=\"toc-item-num\">4&nbsp;&nbsp;</span>Interpreting the data</a></span><ul class=\"toc-item\"><li><span><a href=\"#EBA-data-columns\" data-toc-modified-id=\"EBA-data-columns-4.1\"><span class=\"toc-item-num\">4.1&nbsp;&nbsp;</span>EBA data columns</a></span></li></ul></li><li><span><a href=\"#Load\" data-toc-modified-id=\"Load-5\"><span class=\"toc-item-num\">5&nbsp;&nbsp;</span>Load</a></span></li><li><span><a href=\"#Loading-bulk-datasets\" data-toc-modified-id=\"Loading-bulk-datasets-6\"><span class=\"toc-item-num\">6&nbsp;&nbsp;</span>Loading bulk datasets</a></span><ul class=\"toc-item\"><li><span><a href=\"#Co2-dataset\" data-toc-modified-id=\"Co2-dataset-6.1\"><span class=\"toc-item-num\">6.1&nbsp;&nbsp;</span>Co2 dataset</a></span></li><li><span><a href=\"#Elec-dataset\" data-toc-modified-id=\"Elec-dataset-6.2\"><span class=\"toc-item-num\">6.2&nbsp;&nbsp;</span>Elec dataset</a></span></li><li><span><a href=\"#Playing-with-the-data\" data-toc-modified-id=\"Playing-with-the-data-6.3\"><span class=\"toc-item-num\">6.3&nbsp;&nbsp;</span>Playing with the data</a></span><ul class=\"toc-item\"><li><span><a href=\"#Residuals-of-this-equation-per-BA\" data-toc-modified-id=\"Residuals-of-this-equation-per-BA-6.3.1\"><span class=\"toc-item-num\">6.3.1&nbsp;&nbsp;</span>Residuals of this equation per BA</a></span></li><li><span><a href=\"#Visualize-some-BAs\" data-toc-modified-id=\"Visualize-some-BAs-6.3.2\"><span class=\"toc-item-num\">6.3.2&nbsp;&nbsp;</span>Visualize some BAs</a></span></li></ul></li></ul></li><li><span><a href=\"#Load\" data-toc-modified-id=\"Load-7\"><span class=\"toc-item-num\">7&nbsp;&nbsp;</span>Load</a></span></li><li><span><a href=\"#Viz-a-few-time-series\" data-toc-modified-id=\"Viz-a-few-time-series-8\"><span class=\"toc-item-num\">8&nbsp;&nbsp;</span>Viz a few time series</a></span></li><li><span><a href=\"#Build-a-network\" data-toc-modified-id=\"Build-a-network-9\"><span class=\"toc-item-num\">9&nbsp;&nbsp;</span>Build a network</a></span></li><li><span><a href=\"#Time-series-analysis-by-cluster\" data-toc-modified-id=\"Time-series-analysis-by-cluster-10\"><span class=\"toc-item-num\">10&nbsp;&nbsp;</span>Time series analysis by cluster</a></span></li><li><span><a href=\"#Questions\" data-toc-modified-id=\"Questions-11\"><span class=\"toc-item-num\">11&nbsp;&nbsp;</span>Questions</a></span></li></ul></div>"
   ]
  },
  {
   "cell_type": "markdown",
   "metadata": {},
   "source": [
    "# TODOs"
   ]
  },
  {
   "cell_type": "markdown",
   "metadata": {},
   "source": [
    "- How do you compute MEFs for the general + for each fuel type? (see the literature)\n",
    "- How do those MEFs vary over time? Can you have an estimate for each hour of the day, for instance? \n",
    "- How do you compute the cost functions? \n",
    "- How do you retrieve the **relative** carbon intensity? Instead of the total carbon consumption? (I guess carbon_total/demand)?"
   ]
  },
  {
   "cell_type": "markdown",
   "metadata": {},
   "source": [
    "# Questions"
   ]
  },
  {
   "cell_type": "markdown",
   "metadata": {},
   "source": [
    "@Anthony: those are notes to self. "
   ]
  },
  {
   "cell_type": "markdown",
   "metadata": {},
   "source": [
    "- Are we looking for long range interactions? \n",
    "- Automated discovery of production mix at the node level (based on energy trade)? \n",
    "- What fraction of the clealiness is attributable to your own production vs imports. What is the biggest contributor to the metric that you care about? How do you steer imports to optimize your own carbon benefit? \n",
    "- How to scale local energy mix to benefit globally? \n",
    "- What is the correlation with weather data? \n",
    "\n",
    "- Do we want total carbon consumption or only carbon intensity? "
   ]
  },
  {
   "cell_type": "markdown",
   "metadata": {},
   "source": [
    "# Links"
   ]
  },
  {
   "cell_type": "markdown",
   "metadata": {},
   "source": [
    "web.stanford.edu/~jdechale/emissions_app/"
   ]
  },
  {
   "cell_type": "markdown",
   "metadata": {},
   "source": [
    "# Interpreting the data"
   ]
  },
  {
   "cell_type": "markdown",
   "metadata": {},
   "source": [
    "@Anthony: \n",
    "You will see that the columns of both datasets have specific names. \n",
    "\n",
    "They are usually a combination of \n",
    "- Balacing Authorities ID (e.g. CISO) \n",
    "- A tag explaining what we are looking at. See below for a detail of those tags. \n",
    "- For electricity, the type of generation. \n",
    "\n",
    "\n",
    "EBA data columns\n",
    "----------------\n",
    "- D: Demand\n",
    "- NG: Net Generation\n",
    "- TI: Total Interchange - (positive if exports)\n",
    "- ID: Interchange with directly connected balancing authorities - (positive\n",
    "    if exports)"
   ]
  },
  {
   "cell_type": "markdown",
   "metadata": {},
   "source": [
    "# Load"
   ]
  },
  {
   "cell_type": "code",
   "execution_count": 3,
   "metadata": {},
   "outputs": [],
   "source": [
    "%matplotlib inline\n",
    "import matplotlib.pyplot as plt\n",
    "\n",
    "import pandas as pd\n",
    "\n",
    "import os"
   ]
  },
  {
   "cell_type": "code",
   "execution_count": 4,
   "metadata": {},
   "outputs": [],
   "source": [
    "DATA_PATH = os.getenv('CARBON_NETWORKS_DATA')"
   ]
  },
  {
   "cell_type": "markdown",
   "metadata": {},
   "source": [
    "# Loading bulk datasets"
   ]
  },
  {
   "cell_type": "code",
   "execution_count": 7,
   "metadata": {},
   "outputs": [],
   "source": [
    "fnm_co2 = os.path.join(DATA_PATH, 'EBA_co2.csv')\n",
    "fnm_elec = os.path.join(DATA_PATH, 'EBA_elec.csv')"
   ]
  },
  {
   "cell_type": "code",
   "execution_count": 8,
   "metadata": {},
   "outputs": [],
   "source": [
    "df_co2 = pd.read_csv(fnm_co2, index_col=0)"
   ]
  },
  {
   "cell_type": "code",
   "execution_count": 10,
   "metadata": {},
   "outputs": [],
   "source": [
    "df_elec = pd.read_csv(fnm_elec, index_col=0)"
   ]
  },
  {
   "cell_type": "markdown",
   "metadata": {},
   "source": [
    "## Co2 dataset"
   ]
  },
  {
   "cell_type": "code",
   "execution_count": 12,
   "metadata": {},
   "outputs": [
    {
     "data": {
      "text/html": [
       "<div>\n",
       "<style scoped>\n",
       "    .dataframe tbody tr th:only-of-type {\n",
       "        vertical-align: middle;\n",
       "    }\n",
       "\n",
       "    .dataframe tbody tr th {\n",
       "        vertical-align: top;\n",
       "    }\n",
       "\n",
       "    .dataframe thead th {\n",
       "        text-align: right;\n",
       "    }\n",
       "</style>\n",
       "<table border=\"1\" class=\"dataframe\">\n",
       "  <thead>\n",
       "    <tr style=\"text-align: right;\">\n",
       "      <th></th>\n",
       "      <th>CO2_AEC-MISO_ID</th>\n",
       "      <th>CO2_AEC-SOCO_ID</th>\n",
       "      <th>CO2_AECI-MISO_ID</th>\n",
       "      <th>CO2_AECI-SPA_ID</th>\n",
       "      <th>CO2_AECI-SWPP_ID</th>\n",
       "      <th>CO2_AECI-TVA_ID</th>\n",
       "      <th>CO2_AECI_D</th>\n",
       "      <th>CO2_AECI_NG</th>\n",
       "      <th>CO2_AECI_TI</th>\n",
       "      <th>CO2_AEC_D</th>\n",
       "      <th>...</th>\n",
       "      <th>CO2_WAUW_TI</th>\n",
       "      <th>CO2_WWA-NWMT_ID</th>\n",
       "      <th>CO2_WWA_D</th>\n",
       "      <th>CO2_WWA_NG</th>\n",
       "      <th>CO2_WWA_TI</th>\n",
       "      <th>CO2_YAD-CPLE_ID</th>\n",
       "      <th>CO2_YAD-DUK_ID</th>\n",
       "      <th>CO2_YAD_D</th>\n",
       "      <th>CO2_YAD_NG</th>\n",
       "      <th>CO2_YAD_TI</th>\n",
       "    </tr>\n",
       "  </thead>\n",
       "  <tbody>\n",
       "    <tr>\n",
       "      <th>2018-07-01 00:00:00+00:00</th>\n",
       "      <td>53910.238614</td>\n",
       "      <td>126306.850701</td>\n",
       "      <td>48503.471201</td>\n",
       "      <td>-37853.314031</td>\n",
       "      <td>-68931.442144</td>\n",
       "      <td>149948.065955</td>\n",
       "      <td>2.502421e+06</td>\n",
       "      <td>2.594088e+06</td>\n",
       "      <td>91666.780981</td>\n",
       "      <td>557943.249171</td>\n",
       "      <td>...</td>\n",
       "      <td>-30200.475593</td>\n",
       "      <td>723.813327</td>\n",
       "      <td>11.999932</td>\n",
       "      <td>735.813259</td>\n",
       "      <td>723.813327</td>\n",
       "      <td>151.158440</td>\n",
       "      <td>574.929449</td>\n",
       "      <td>9.949614</td>\n",
       "      <td>736.037503</td>\n",
       "      <td>726.087889</td>\n",
       "    </tr>\n",
       "    <tr>\n",
       "      <th>2018-07-01 01:00:00+00:00</th>\n",
       "      <td>55659.969400</td>\n",
       "      <td>126785.749731</td>\n",
       "      <td>179851.395724</td>\n",
       "      <td>-44656.587903</td>\n",
       "      <td>-120554.448912</td>\n",
       "      <td>134517.096720</td>\n",
       "      <td>2.417334e+06</td>\n",
       "      <td>2.566492e+06</td>\n",
       "      <td>149157.455629</td>\n",
       "      <td>543170.037659</td>\n",
       "      <td>...</td>\n",
       "      <td>-33694.861584</td>\n",
       "      <td>769.276024</td>\n",
       "      <td>32.297701</td>\n",
       "      <td>801.573724</td>\n",
       "      <td>769.276024</td>\n",
       "      <td>169.238679</td>\n",
       "      <td>555.354051</td>\n",
       "      <td>10.685742</td>\n",
       "      <td>735.278472</td>\n",
       "      <td>724.592730</td>\n",
       "    </tr>\n",
       "    <tr>\n",
       "      <th>2018-07-01 02:00:00+00:00</th>\n",
       "      <td>54917.238769</td>\n",
       "      <td>100362.721240</td>\n",
       "      <td>272562.624457</td>\n",
       "      <td>-38508.124120</td>\n",
       "      <td>-176875.202815</td>\n",
       "      <td>143666.755049</td>\n",
       "      <td>2.287646e+06</td>\n",
       "      <td>2.488492e+06</td>\n",
       "      <td>200846.052572</td>\n",
       "      <td>512778.301291</td>\n",
       "      <td>...</td>\n",
       "      <td>-31667.756758</td>\n",
       "      <td>640.314543</td>\n",
       "      <td>16.979630</td>\n",
       "      <td>657.294173</td>\n",
       "      <td>640.314543</td>\n",
       "      <td>153.838800</td>\n",
       "      <td>562.382885</td>\n",
       "      <td>10.409602</td>\n",
       "      <td>726.631287</td>\n",
       "      <td>716.221686</td>\n",
       "    </tr>\n",
       "    <tr>\n",
       "      <th>2018-07-01 03:00:00+00:00</th>\n",
       "      <td>48236.292386</td>\n",
       "      <td>88842.372601</td>\n",
       "      <td>183041.374856</td>\n",
       "      <td>-43802.290159</td>\n",
       "      <td>-151062.189597</td>\n",
       "      <td>101097.945637</td>\n",
       "      <td>2.234720e+06</td>\n",
       "      <td>2.323995e+06</td>\n",
       "      <td>89274.840738</td>\n",
       "      <td>475956.787687</td>\n",
       "      <td>...</td>\n",
       "      <td>-27227.491983</td>\n",
       "      <td>882.444633</td>\n",
       "      <td>34.336250</td>\n",
       "      <td>916.780883</td>\n",
       "      <td>882.444633</td>\n",
       "      <td>-5263.112059</td>\n",
       "      <td>4152.423822</td>\n",
       "      <td>1123.102159</td>\n",
       "      <td>12.413922</td>\n",
       "      <td>-1110.688236</td>\n",
       "    </tr>\n",
       "    <tr>\n",
       "      <th>2018-07-01 04:00:00+00:00</th>\n",
       "      <td>43002.546305</td>\n",
       "      <td>83812.044113</td>\n",
       "      <td>-37755.463848</td>\n",
       "      <td>-54497.983419</td>\n",
       "      <td>-106821.689055</td>\n",
       "      <td>54144.294122</td>\n",
       "      <td>2.255946e+06</td>\n",
       "      <td>2.111015e+06</td>\n",
       "      <td>-144930.842200</td>\n",
       "      <td>408252.953360</td>\n",
       "      <td>...</td>\n",
       "      <td>-28780.313224</td>\n",
       "      <td>939.536537</td>\n",
       "      <td>71.649462</td>\n",
       "      <td>1011.186000</td>\n",
       "      <td>939.536537</td>\n",
       "      <td>-7998.470516</td>\n",
       "      <td>6877.259843</td>\n",
       "      <td>1125.210673</td>\n",
       "      <td>4.000000</td>\n",
       "      <td>-1121.210673</td>\n",
       "    </tr>\n",
       "  </tbody>\n",
       "</table>\n",
       "<p>5 rows × 562 columns</p>\n",
       "</div>"
      ],
      "text/plain": [
       "                           CO2_AEC-MISO_ID  CO2_AEC-SOCO_ID  CO2_AECI-MISO_ID  \\\n",
       "2018-07-01 00:00:00+00:00     53910.238614    126306.850701      48503.471201   \n",
       "2018-07-01 01:00:00+00:00     55659.969400    126785.749731     179851.395724   \n",
       "2018-07-01 02:00:00+00:00     54917.238769    100362.721240     272562.624457   \n",
       "2018-07-01 03:00:00+00:00     48236.292386     88842.372601     183041.374856   \n",
       "2018-07-01 04:00:00+00:00     43002.546305     83812.044113     -37755.463848   \n",
       "\n",
       "                           CO2_AECI-SPA_ID  CO2_AECI-SWPP_ID  CO2_AECI-TVA_ID  \\\n",
       "2018-07-01 00:00:00+00:00    -37853.314031     -68931.442144    149948.065955   \n",
       "2018-07-01 01:00:00+00:00    -44656.587903    -120554.448912    134517.096720   \n",
       "2018-07-01 02:00:00+00:00    -38508.124120    -176875.202815    143666.755049   \n",
       "2018-07-01 03:00:00+00:00    -43802.290159    -151062.189597    101097.945637   \n",
       "2018-07-01 04:00:00+00:00    -54497.983419    -106821.689055     54144.294122   \n",
       "\n",
       "                             CO2_AECI_D   CO2_AECI_NG    CO2_AECI_TI  \\\n",
       "2018-07-01 00:00:00+00:00  2.502421e+06  2.594088e+06   91666.780981   \n",
       "2018-07-01 01:00:00+00:00  2.417334e+06  2.566492e+06  149157.455629   \n",
       "2018-07-01 02:00:00+00:00  2.287646e+06  2.488492e+06  200846.052572   \n",
       "2018-07-01 03:00:00+00:00  2.234720e+06  2.323995e+06   89274.840738   \n",
       "2018-07-01 04:00:00+00:00  2.255946e+06  2.111015e+06 -144930.842200   \n",
       "\n",
       "                               CO2_AEC_D  ...   CO2_WAUW_TI  CO2_WWA-NWMT_ID  \\\n",
       "2018-07-01 00:00:00+00:00  557943.249171  ... -30200.475593       723.813327   \n",
       "2018-07-01 01:00:00+00:00  543170.037659  ... -33694.861584       769.276024   \n",
       "2018-07-01 02:00:00+00:00  512778.301291  ... -31667.756758       640.314543   \n",
       "2018-07-01 03:00:00+00:00  475956.787687  ... -27227.491983       882.444633   \n",
       "2018-07-01 04:00:00+00:00  408252.953360  ... -28780.313224       939.536537   \n",
       "\n",
       "                           CO2_WWA_D   CO2_WWA_NG  CO2_WWA_TI  \\\n",
       "2018-07-01 00:00:00+00:00  11.999932   735.813259  723.813327   \n",
       "2018-07-01 01:00:00+00:00  32.297701   801.573724  769.276024   \n",
       "2018-07-01 02:00:00+00:00  16.979630   657.294173  640.314543   \n",
       "2018-07-01 03:00:00+00:00  34.336250   916.780883  882.444633   \n",
       "2018-07-01 04:00:00+00:00  71.649462  1011.186000  939.536537   \n",
       "\n",
       "                           CO2_YAD-CPLE_ID  CO2_YAD-DUK_ID    CO2_YAD_D  \\\n",
       "2018-07-01 00:00:00+00:00       151.158440      574.929449     9.949614   \n",
       "2018-07-01 01:00:00+00:00       169.238679      555.354051    10.685742   \n",
       "2018-07-01 02:00:00+00:00       153.838800      562.382885    10.409602   \n",
       "2018-07-01 03:00:00+00:00     -5263.112059     4152.423822  1123.102159   \n",
       "2018-07-01 04:00:00+00:00     -7998.470516     6877.259843  1125.210673   \n",
       "\n",
       "                           CO2_YAD_NG   CO2_YAD_TI  \n",
       "2018-07-01 00:00:00+00:00  736.037503   726.087889  \n",
       "2018-07-01 01:00:00+00:00  735.278472   724.592730  \n",
       "2018-07-01 02:00:00+00:00  726.631287   716.221686  \n",
       "2018-07-01 03:00:00+00:00   12.413922 -1110.688236  \n",
       "2018-07-01 04:00:00+00:00    4.000000 -1121.210673  \n",
       "\n",
       "[5 rows x 562 columns]"
      ]
     },
     "execution_count": 12,
     "metadata": {},
     "output_type": "execute_result"
    }
   ],
   "source": [
    "df_co2.head()"
   ]
  },
  {
   "cell_type": "markdown",
   "metadata": {},
   "source": [
    "@Anthony: for instance, the first column above gives the CO2-emissions exchanged between AEC and MISO. "
   ]
  },
  {
   "cell_type": "code",
   "execution_count": 19,
   "metadata": {},
   "outputs": [],
   "source": [
    "#extracting the names of the BAs present in the dataset\n",
    "nms = []\n",
    "fields = []\n",
    "\n",
    "for c in df_co2.columns:\n",
    "    \n",
    "    nms.append(c.split('_')[1])\n",
    "    fields.append(c.split('_')[-1])\n",
    "\n",
    "BAs = []\n",
    "for nm in nms:\n",
    "    if '-' in nm:\n",
    "        pass\n",
    "    else:\n",
    "        BAs.append(nm)"
   ]
  },
  {
   "cell_type": "code",
   "execution_count": 24,
   "metadata": {},
   "outputs": [],
   "source": [
    "BAs = np.unique(BAs)"
   ]
  },
  {
   "cell_type": "code",
   "execution_count": 26,
   "metadata": {},
   "outputs": [
    {
     "name": "stdout",
     "output_type": "stream",
     "text": [
      "These are the names of the Balancing Authorities present in the dataset\n",
      "['AEC' 'AECI' 'AESO' 'AVA' 'AVRN' 'AZPS' 'BANC' 'BCHA' 'BPAT' 'CEN' 'CFE'\n",
      " 'CHPD' 'CISO' 'CPLE' 'CPLW' 'DEAA' 'DOPD' 'DUK' 'EEI' 'EPE' 'ERCO' 'FMPP'\n",
      " 'FPC' 'FPL' 'GCPD' 'GRID' 'GRIF' 'GRMA' 'GVL' 'GWA' 'HGMA' 'HQT' 'HST'\n",
      " 'IESO' 'IID' 'IPCO' 'ISNE' 'JEA' 'LDWP' 'LGEE' 'MHEB' 'MISO' 'NBSO'\n",
      " 'NEVP' 'NSB' 'NWMT' 'NYIS' 'OVEC' 'PACE' 'PACW' 'PGE' 'PJM' 'PNM' 'PSCO'\n",
      " 'PSEI' 'SC' 'SCEG' 'SCL' 'SEC' 'SEPA' 'SOCO' 'SPA' 'SPC' 'SRP' 'SWPP'\n",
      " 'TAL' 'TEC' 'TEPC' 'TIDC' 'TPWR' 'TVA' 'WACM' 'WALC' 'WAUW' 'WWA' 'YAD']\n",
      "\n",
      "There are 76 BAs.\n"
     ]
    }
   ],
   "source": [
    "print(\"These are the names of the Balancing Authorities present in the dataset\")\n",
    "print(BAs)\n",
    "print(f\"\\nThere are {len(BAs)} BAs.\")"
   ]
  },
  {
   "cell_type": "markdown",
   "metadata": {},
   "source": [
    "## Elec dataset"
   ]
  },
  {
   "cell_type": "code",
   "execution_count": 28,
   "metadata": {},
   "outputs": [
    {
     "data": {
      "text/html": [
       "<div>\n",
       "<style scoped>\n",
       "    .dataframe tbody tr th:only-of-type {\n",
       "        vertical-align: middle;\n",
       "    }\n",
       "\n",
       "    .dataframe tbody tr th {\n",
       "        vertical-align: top;\n",
       "    }\n",
       "\n",
       "    .dataframe thead th {\n",
       "        text-align: right;\n",
       "    }\n",
       "</style>\n",
       "<table border=\"1\" class=\"dataframe\">\n",
       "  <thead>\n",
       "    <tr style=\"text-align: right;\">\n",
       "      <th></th>\n",
       "      <th>EBA.AEC-ALL.D.H</th>\n",
       "      <th>EBA.AEC-ALL.NG.COL.H</th>\n",
       "      <th>EBA.AEC-ALL.NG.H</th>\n",
       "      <th>EBA.AEC-ALL.NG.NG.H</th>\n",
       "      <th>EBA.AEC-ALL.NG.OTH.H</th>\n",
       "      <th>EBA.AEC-ALL.NG.WAT.H</th>\n",
       "      <th>EBA.AEC-ALL.TI.H</th>\n",
       "      <th>EBA.AEC-MISO.ID.H</th>\n",
       "      <th>EBA.AEC-SOCO.ID.H</th>\n",
       "      <th>EBA.AECI-ALL.D.H</th>\n",
       "      <th>...</th>\n",
       "      <th>EBA.WWA-ALL.NG.H</th>\n",
       "      <th>EBA.WWA-ALL.NG.WND.H</th>\n",
       "      <th>EBA.WWA-ALL.TI.H</th>\n",
       "      <th>EBA.WWA-NWMT.ID.H</th>\n",
       "      <th>EBA.YAD-ALL.D.H</th>\n",
       "      <th>EBA.YAD-ALL.NG.H</th>\n",
       "      <th>EBA.YAD-ALL.NG.WAT.H</th>\n",
       "      <th>EBA.YAD-ALL.TI.H</th>\n",
       "      <th>EBA.YAD-CPLE.ID.H</th>\n",
       "      <th>EBA.YAD-DUK.ID.H</th>\n",
       "    </tr>\n",
       "  </thead>\n",
       "  <tbody>\n",
       "    <tr>\n",
       "      <th>2018-07-01 00:00:00+00:00</th>\n",
       "      <td>852.088828</td>\n",
       "      <td>395.589543</td>\n",
       "      <td>1127.315688</td>\n",
       "      <td>726.630120</td>\n",
       "      <td>4.048013</td>\n",
       "      <td>1.048013</td>\n",
       "      <td>275.226860</td>\n",
       "      <td>82.331513</td>\n",
       "      <td>192.895347</td>\n",
       "      <td>3736.834955</td>\n",
       "      <td>...</td>\n",
       "      <td>61.317772</td>\n",
       "      <td>61.317772</td>\n",
       "      <td>60.317777</td>\n",
       "      <td>60.317777</td>\n",
       "      <td>2.487404</td>\n",
       "      <td>184.009376</td>\n",
       "      <td>184.009376</td>\n",
       "      <td>181.521972</td>\n",
       "      <td>37.789610</td>\n",
       "      <td>143.732362</td>\n",
       "    </tr>\n",
       "    <tr>\n",
       "      <th>2018-07-01 01:00:00+00:00</th>\n",
       "      <td>821.171036</td>\n",
       "      <td>399.680353</td>\n",
       "      <td>1096.994682</td>\n",
       "      <td>691.092041</td>\n",
       "      <td>4.111144</td>\n",
       "      <td>2.111144</td>\n",
       "      <td>275.823646</td>\n",
       "      <td>84.147415</td>\n",
       "      <td>191.676231</td>\n",
       "      <td>3509.233553</td>\n",
       "      <td>...</td>\n",
       "      <td>66.797810</td>\n",
       "      <td>66.797810</td>\n",
       "      <td>64.106335</td>\n",
       "      <td>64.106335</td>\n",
       "      <td>2.671435</td>\n",
       "      <td>183.819618</td>\n",
       "      <td>183.819618</td>\n",
       "      <td>181.148183</td>\n",
       "      <td>42.309670</td>\n",
       "      <td>138.838513</td>\n",
       "    </tr>\n",
       "    <tr>\n",
       "      <th>2018-07-01 02:00:00+00:00</th>\n",
       "      <td>762.904264</td>\n",
       "      <td>381.317775</td>\n",
       "      <td>993.927580</td>\n",
       "      <td>607.992727</td>\n",
       "      <td>3.617078</td>\n",
       "      <td>1.000000</td>\n",
       "      <td>231.023316</td>\n",
       "      <td>81.705087</td>\n",
       "      <td>149.318229</td>\n",
       "      <td>3265.266416</td>\n",
       "      <td>...</td>\n",
       "      <td>54.774514</td>\n",
       "      <td>54.774514</td>\n",
       "      <td>53.359545</td>\n",
       "      <td>53.359545</td>\n",
       "      <td>2.602400</td>\n",
       "      <td>181.657822</td>\n",
       "      <td>181.657822</td>\n",
       "      <td>179.055421</td>\n",
       "      <td>38.459700</td>\n",
       "      <td>140.595721</td>\n",
       "    </tr>\n",
       "    <tr>\n",
       "      <th>2018-07-01 03:00:00+00:00</th>\n",
       "      <td>707.077333</td>\n",
       "      <td>351.154277</td>\n",
       "      <td>910.720225</td>\n",
       "      <td>555.557480</td>\n",
       "      <td>3.008468</td>\n",
       "      <td>1.000000</td>\n",
       "      <td>203.642892</td>\n",
       "      <td>71.659423</td>\n",
       "      <td>131.983469</td>\n",
       "      <td>3231.656110</td>\n",
       "      <td>...</td>\n",
       "      <td>76.398407</td>\n",
       "      <td>76.398407</td>\n",
       "      <td>73.537053</td>\n",
       "      <td>73.537053</td>\n",
       "      <td>3.170032</td>\n",
       "      <td>3.103481</td>\n",
       "      <td>3.103481</td>\n",
       "      <td>-0.066552</td>\n",
       "      <td>-11.787050</td>\n",
       "      <td>11.720499</td>\n",
       "    </tr>\n",
       "    <tr>\n",
       "      <th>2018-07-01 04:00:00+00:00</th>\n",
       "      <td>641.677343</td>\n",
       "      <td>266.336549</td>\n",
       "      <td>840.999966</td>\n",
       "      <td>569.729487</td>\n",
       "      <td>3.466965</td>\n",
       "      <td>1.466965</td>\n",
       "      <td>199.322623</td>\n",
       "      <td>67.589859</td>\n",
       "      <td>131.732764</td>\n",
       "      <td>3175.450535</td>\n",
       "      <td>...</td>\n",
       "      <td>84.265500</td>\n",
       "      <td>84.265500</td>\n",
       "      <td>78.294711</td>\n",
       "      <td>78.294711</td>\n",
       "      <td>3.293148</td>\n",
       "      <td>1.000000</td>\n",
       "      <td>1.000000</td>\n",
       "      <td>-2.293148</td>\n",
       "      <td>-22.420788</td>\n",
       "      <td>20.127640</td>\n",
       "    </tr>\n",
       "  </tbody>\n",
       "</table>\n",
       "<p>5 rows × 866 columns</p>\n",
       "</div>"
      ],
      "text/plain": [
       "                           EBA.AEC-ALL.D.H  EBA.AEC-ALL.NG.COL.H  \\\n",
       "2018-07-01 00:00:00+00:00       852.088828            395.589543   \n",
       "2018-07-01 01:00:00+00:00       821.171036            399.680353   \n",
       "2018-07-01 02:00:00+00:00       762.904264            381.317775   \n",
       "2018-07-01 03:00:00+00:00       707.077333            351.154277   \n",
       "2018-07-01 04:00:00+00:00       641.677343            266.336549   \n",
       "\n",
       "                           EBA.AEC-ALL.NG.H  EBA.AEC-ALL.NG.NG.H  \\\n",
       "2018-07-01 00:00:00+00:00       1127.315688           726.630120   \n",
       "2018-07-01 01:00:00+00:00       1096.994682           691.092041   \n",
       "2018-07-01 02:00:00+00:00        993.927580           607.992727   \n",
       "2018-07-01 03:00:00+00:00        910.720225           555.557480   \n",
       "2018-07-01 04:00:00+00:00        840.999966           569.729487   \n",
       "\n",
       "                           EBA.AEC-ALL.NG.OTH.H  EBA.AEC-ALL.NG.WAT.H  \\\n",
       "2018-07-01 00:00:00+00:00              4.048013              1.048013   \n",
       "2018-07-01 01:00:00+00:00              4.111144              2.111144   \n",
       "2018-07-01 02:00:00+00:00              3.617078              1.000000   \n",
       "2018-07-01 03:00:00+00:00              3.008468              1.000000   \n",
       "2018-07-01 04:00:00+00:00              3.466965              1.466965   \n",
       "\n",
       "                           EBA.AEC-ALL.TI.H  EBA.AEC-MISO.ID.H  \\\n",
       "2018-07-01 00:00:00+00:00        275.226860          82.331513   \n",
       "2018-07-01 01:00:00+00:00        275.823646          84.147415   \n",
       "2018-07-01 02:00:00+00:00        231.023316          81.705087   \n",
       "2018-07-01 03:00:00+00:00        203.642892          71.659423   \n",
       "2018-07-01 04:00:00+00:00        199.322623          67.589859   \n",
       "\n",
       "                           EBA.AEC-SOCO.ID.H  EBA.AECI-ALL.D.H  ...  \\\n",
       "2018-07-01 00:00:00+00:00         192.895347       3736.834955  ...   \n",
       "2018-07-01 01:00:00+00:00         191.676231       3509.233553  ...   \n",
       "2018-07-01 02:00:00+00:00         149.318229       3265.266416  ...   \n",
       "2018-07-01 03:00:00+00:00         131.983469       3231.656110  ...   \n",
       "2018-07-01 04:00:00+00:00         131.732764       3175.450535  ...   \n",
       "\n",
       "                           EBA.WWA-ALL.NG.H  EBA.WWA-ALL.NG.WND.H  \\\n",
       "2018-07-01 00:00:00+00:00         61.317772             61.317772   \n",
       "2018-07-01 01:00:00+00:00         66.797810             66.797810   \n",
       "2018-07-01 02:00:00+00:00         54.774514             54.774514   \n",
       "2018-07-01 03:00:00+00:00         76.398407             76.398407   \n",
       "2018-07-01 04:00:00+00:00         84.265500             84.265500   \n",
       "\n",
       "                           EBA.WWA-ALL.TI.H  EBA.WWA-NWMT.ID.H  \\\n",
       "2018-07-01 00:00:00+00:00         60.317777          60.317777   \n",
       "2018-07-01 01:00:00+00:00         64.106335          64.106335   \n",
       "2018-07-01 02:00:00+00:00         53.359545          53.359545   \n",
       "2018-07-01 03:00:00+00:00         73.537053          73.537053   \n",
       "2018-07-01 04:00:00+00:00         78.294711          78.294711   \n",
       "\n",
       "                           EBA.YAD-ALL.D.H  EBA.YAD-ALL.NG.H  \\\n",
       "2018-07-01 00:00:00+00:00         2.487404        184.009376   \n",
       "2018-07-01 01:00:00+00:00         2.671435        183.819618   \n",
       "2018-07-01 02:00:00+00:00         2.602400        181.657822   \n",
       "2018-07-01 03:00:00+00:00         3.170032          3.103481   \n",
       "2018-07-01 04:00:00+00:00         3.293148          1.000000   \n",
       "\n",
       "                           EBA.YAD-ALL.NG.WAT.H  EBA.YAD-ALL.TI.H  \\\n",
       "2018-07-01 00:00:00+00:00            184.009376        181.521972   \n",
       "2018-07-01 01:00:00+00:00            183.819618        181.148183   \n",
       "2018-07-01 02:00:00+00:00            181.657822        179.055421   \n",
       "2018-07-01 03:00:00+00:00              3.103481         -0.066552   \n",
       "2018-07-01 04:00:00+00:00              1.000000         -2.293148   \n",
       "\n",
       "                           EBA.YAD-CPLE.ID.H  EBA.YAD-DUK.ID.H  \n",
       "2018-07-01 00:00:00+00:00          37.789610        143.732362  \n",
       "2018-07-01 01:00:00+00:00          42.309670        138.838513  \n",
       "2018-07-01 02:00:00+00:00          38.459700        140.595721  \n",
       "2018-07-01 03:00:00+00:00         -11.787050         11.720499  \n",
       "2018-07-01 04:00:00+00:00         -22.420788         20.127640  \n",
       "\n",
       "[5 rows x 866 columns]"
      ]
     },
     "execution_count": 28,
     "metadata": {},
     "output_type": "execute_result"
    }
   ],
   "source": [
    "df_elec.head()"
   ]
  },
  {
   "cell_type": "markdown",
   "metadata": {},
   "source": [
    "@Anthony: the format of this electricity dataset is a bit different. The format of the column name is \n",
    "- **EBA.ba_name-ALL.[D,NG,TI].H** for the [demand, net_generation, total_interchange] hourly for BA ba_name\n",
    "- **EBA.ba_name-other_ba_name.ID.H** for the interchange between ba_name and other_ba_name\n",
    "\n",
    "Also, you will have a column like **EBA.ba_name-ALL.NG.SOURCE.H** where **SOURCE** is going to be water, wind, coal, ..."
   ]
  },
  {
   "cell_type": "markdown",
   "metadata": {},
   "source": [
    "For instance, for **MISO**, we see that it exchanges with a bunch of BAs. We also know that it produces nuclear, oil, sun, hydro, wind, and \"others\""
   ]
  },
  {
   "cell_type": "code",
   "execution_count": 31,
   "metadata": {},
   "outputs": [
    {
     "name": "stdout",
     "output_type": "stream",
     "text": [
      "EBA.MISO-AEC.ID.H\n",
      "EBA.MISO-AECI.ID.H\n",
      "EBA.MISO-ALL.D.H\n",
      "EBA.MISO-ALL.NG.COL.H\n",
      "EBA.MISO-ALL.NG.H\n",
      "EBA.MISO-ALL.NG.NG.H\n",
      "EBA.MISO-ALL.NG.NUC.H\n",
      "EBA.MISO-ALL.NG.OIL.H\n",
      "EBA.MISO-ALL.NG.OTH.H\n",
      "EBA.MISO-ALL.NG.SUN.H\n",
      "EBA.MISO-ALL.NG.WAT.H\n",
      "EBA.MISO-ALL.NG.WND.H\n",
      "EBA.MISO-ALL.TI.H\n",
      "EBA.MISO-EEI.ID.H\n",
      "EBA.MISO-IESO.ID.H\n",
      "EBA.MISO-LGEE.ID.H\n",
      "EBA.MISO-MHEB.ID.H\n",
      "EBA.MISO-PJM.ID.H\n",
      "EBA.MISO-SOCO.ID.H\n",
      "EBA.MISO-SPA.ID.H\n",
      "EBA.MISO-SWPP.ID.H\n",
      "EBA.MISO-TVA.ID.H\n"
     ]
    }
   ],
   "source": [
    "for c in df_elec.columns:\n",
    "    if 'MISO-' in c:\n",
    "        print(c)"
   ]
  },
  {
   "cell_type": "markdown",
   "metadata": {},
   "source": [
    "We can check that the columns **NG.H** is the sum of columns **NG.SOURCE.H**. \n"
   ]
  },
  {
   "cell_type": "markdown",
   "metadata": {},
   "source": [
    "## Playing with the data"
   ]
  },
  {
   "cell_type": "markdown",
   "metadata": {},
   "source": [
    "Here we check that the conservation equation is verified in the data. "
   ]
  },
  {
   "cell_type": "code",
   "execution_count": 33,
   "metadata": {},
   "outputs": [],
   "source": [
    "eba = 'AECI'"
   ]
  },
  {
   "cell_type": "code",
   "execution_count": 34,
   "metadata": {},
   "outputs": [],
   "source": [
    "D_col = f'EBA.{eba}-ALL.D.H'\n",
    "TI_col = f'EBA.{eba}-ALL.TI.H'\n",
    "NG_col = f'EBA.{eba}-ALL.NG.H'"
   ]
  },
  {
   "cell_type": "code",
   "execution_count": 37,
   "metadata": {},
   "outputs": [
    {
     "data": {
      "text/plain": [
       "2018-07-01 00:00:00+00:00    3431.676061\n",
       "2018-07-01 01:00:00+00:00    3331.347054\n",
       "2018-07-01 02:00:00+00:00    3173.345935\n",
       "2018-07-01 03:00:00+00:00    2972.599338\n",
       "2018-07-01 04:00:00+00:00    2639.206404\n",
       "Name: EBA.AECI-ALL.NG.H, dtype: float64"
      ]
     },
     "execution_count": 37,
     "metadata": {},
     "output_type": "execute_result"
    }
   ],
   "source": [
    "df_elec[NG_col].head()"
   ]
  },
  {
   "cell_type": "code",
   "execution_count": 39,
   "metadata": {},
   "outputs": [
    {
     "data": {
      "text/plain": [
       "2018-07-01 00:00:00+00:00    3431.676061\n",
       "2018-07-01 01:00:00+00:00    3331.347054\n",
       "2018-07-01 02:00:00+00:00    3173.345935\n",
       "2018-07-01 03:00:00+00:00    2972.599338\n",
       "2018-07-01 04:00:00+00:00    2639.206404\n",
       "dtype: float64"
      ]
     },
     "execution_count": 39,
     "metadata": {},
     "output_type": "execute_result"
    }
   ],
   "source": [
    "(df_elec[D_col] + df_elec[TI_col]).head()"
   ]
  },
  {
   "cell_type": "markdown",
   "metadata": {},
   "source": [
    "The equation at each node is simply:\n",
    "$$\n",
    "D + TI = NG\n",
    "$$\n"
   ]
  },
  {
   "cell_type": "markdown",
   "metadata": {},
   "source": [
    "### Residuals of this equation per BA"
   ]
  },
  {
   "cell_type": "code",
   "execution_count": 45,
   "metadata": {},
   "outputs": [],
   "source": [
    "stats_res = dict()\n",
    "\n",
    "for ba in BAs:\n",
    "\n",
    "    D_col = f'EBA.{ba}-ALL.D.H'\n",
    "    TI_col = f'EBA.{ba}-ALL.TI.H'\n",
    "    NG_col = f'EBA.{ba}-ALL.NG.H'\n",
    "    res = df_elec[D_col] + df_elec[TI_col] - df_elec[NG_col]\n",
    "    mean_res = np.mean(res)\n",
    "    std_res = np.std(res)\n",
    "    \n",
    "    stats_res[ba] = (mean_res, std_res)"
   ]
  },
  {
   "cell_type": "markdown",
   "metadata": {},
   "source": [
    "We see that the above equation satisfied for all BAs in the dataset. \n",
    "\n",
    "For each BA, we see the (mean residual, std of residuals)"
   ]
  },
  {
   "cell_type": "code",
   "execution_count": 46,
   "metadata": {},
   "outputs": [
    {
     "data": {
      "text/plain": [
       "{'AEC': (1.8372287534498327e-10, 4.335108493734617e-09),\n",
       " 'AECI': (7.620679234423212e-10, 1.1242985498596981e-08),\n",
       " 'AESO': (2.369696483197441e-07, 2.5573384358987293e-06),\n",
       " 'AVA': (1.291604423450939e-10, 3.221511409193837e-08),\n",
       " 'AVRN': (1.5425676720125344e-08, 5.18433539827764e-07),\n",
       " 'AZPS': (-6.139611740370434e-10, 7.565341838771681e-08),\n",
       " 'BANC': (-8.242345062712367e-11, 3.608550759943506e-08),\n",
       " 'BCHA': (5.204303290323906e-09, 3.6062215478534337e-07),\n",
       " 'BPAT': (2.2167170581497814e-10, 1.0582379948695873e-07),\n",
       " 'CEN': (9.214239763098751e-08, 2.3254153673158083e-06),\n",
       " 'CFE': (1.7488518849849467e-06, 3.6878006148851587e-06),\n",
       " 'CHPD': (-1.6319335167790966e-11, 3.545373835498706e-08),\n",
       " 'CISO': (-4.212671495671756e-10, 9.034732384375288e-08),\n",
       " 'CPLE': (9.187419137652892e-11, 2.229277054897387e-08),\n",
       " 'CPLW': (4.540790184029166e-10, 6.82688136153282e-09),\n",
       " 'DEAA': (2.7885019569706315e-10, 2.5061740166597196e-08),\n",
       " 'DOPD': (-6.313073725947145e-11, 2.384432891419929e-08),\n",
       " 'DUK': (-2.128469267485696e-10, 1.4308487799212476e-07),\n",
       " 'EEI': (5.2275796840176367e-08, 2.4049956832119145e-06),\n",
       " 'EPE': (2.3435330096224555e-10, 2.1442984724972244e-08),\n",
       " 'ERCO': (2.0700441915473266e-11, 2.2587908972003537e-08),\n",
       " 'FMPP': (-4.809460767313295e-09, 8.943505754301305e-07),\n",
       " 'FPC': (-4.009414989518941e-08, 8.187925400826851e-06),\n",
       " 'FPL': (-3.610412104583896e-08, 6.4255265058202485e-06),\n",
       " 'GCPD': (-8.616757399022446e-11, 3.517787227546602e-08),\n",
       " 'GRID': (9.62576838528841e-09, 3.5343103621140577e-07),\n",
       " 'GRIF': (2.2410207422616145e-09, 1.939276329613453e-07),\n",
       " 'GRMA': (2.7710597963649012e-08, 4.5607943154955534e-07),\n",
       " 'GVL': (9.142691824882033e-11, 4.013180461860294e-08),\n",
       " 'GWA': (6.000303089724898e-08, 1.2744290693541167e-06),\n",
       " 'HGMA': (7.299657540136587e-10, 1.4218776421545127e-07),\n",
       " 'HQT': (5.707726409317511e-08, 1.4485436947128037e-06),\n",
       " 'HST': (1.036138146546633e-09, 5.715735541903438e-08),\n",
       " 'IESO': (5.502326431257701e-08, 9.68653543601255e-07),\n",
       " 'IID': (-1.6160528939060694e-11, 2.114175326064383e-08),\n",
       " 'IPCO': (-2.552570360475278e-11, 3.9278830868669526e-08),\n",
       " 'ISNE': (4.039293251177517e-09, 1.1945209670768426e-07),\n",
       " 'JEA': (-2.627319116566264e-09, 7.670603778013504e-07),\n",
       " 'LDWP': (-1.3176653044704245e-10, 4.584089601213876e-08),\n",
       " 'LGEE': (1.0240744116263483e-09, 2.499345548800946e-08),\n",
       " 'MHEB': (3.541957153208037e-08, 4.906521426745991e-07),\n",
       " 'MISO': (-2.5598802426513523e-10, 1.0738792754727658e-07),\n",
       " 'NBSO': (1.3038172732640772e-07, 5.1481730101088355e-06),\n",
       " 'NEVP': (-1.970358844200794e-10, 5.167104708281308e-08),\n",
       " 'NSB': (2.480376413524402e-07, 2.1964922663749037e-06),\n",
       " 'NWMT': (5.975278877666393e-09, 6.558631961603755e-08),\n",
       " 'NYIS': (2.0264581378017154e-09, 5.155845052392153e-08),\n",
       " 'OVEC': (1.630414563256532e-07, 1.5307265196245726e-06),\n",
       " 'PACE': (-2.5401433141364757e-10, 6.391371031815056e-08),\n",
       " 'PACW': (2.398715259259529e-10, 4.985439281934286e-08),\n",
       " 'PGE': (2.7582531992263407e-11, 4.4186241811539014e-08),\n",
       " 'PJM': (-1.0798789850141468e-09, 9.644003260405497e-08),\n",
       " 'PNM': (-6.029806200897004e-11, 2.621178211279153e-08),\n",
       " 'PSCO': (-1.6834795326997101e-10, 4.812982436824878e-08),\n",
       " 'PSEI': (-1.1291552627646634e-10, 5.001516495252131e-08),\n",
       " 'SC': (1.0291877598575603e-09, 1.1347148447498204e-07),\n",
       " 'SCEG': (7.184754989525083e-11, 1.0023965054257482e-07),\n",
       " 'SCL': (-7.015260967760083e-11, 3.209877697646364e-08),\n",
       " 'SEC': (-1.2833910772584621e-06, 0.0002623535376441248),\n",
       " 'SEPA': (7.624677627952884e-08, 7.685822875103301e-07),\n",
       " 'SOCO': (-1.8678078625859738e-09, 3.905524335871714e-07),\n",
       " 'SPA': (7.431230943575634e-09, 1.211717602316213e-07),\n",
       " 'SPC': (9.630367053629974e-07, 1.0808718132429057e-05),\n",
       " 'SRP': (-9.564697494477986e-11, 6.857504597364305e-08),\n",
       " 'SWPP': (-1.3668003322583801e-10, 2.643254139636013e-06),\n",
       " 'TAL': (-4.573492199409608e-10, 1.6461005582031954e-07),\n",
       " 'TEC': (-6.619098296474425e-09, 1.30312684088845e-06),\n",
       " 'TEPC': (-8.885085210441197e-11, 2.602967027272141e-08),\n",
       " 'TIDC': (-2.0643178057016282e-11, 1.3415191826988493e-08),\n",
       " 'TPWR': (-2.2091285538944623e-11, 2.086757961683893e-08),\n",
       " 'TVA': (2.511590280819027e-11, 1.9620791358584543e-08),\n",
       " 'WACM': (3.7653460385120803e-10, 4.475712439685185e-08),\n",
       " 'WALC': (-8.78354769370123e-11, 2.689136884643207e-08),\n",
       " 'WAUW': (1.020627911875454e-09, 1.2605118476890862e-08),\n",
       " 'WWA': (4.843423723117081e-08, 6.411625517022939e-07),\n",
       " 'YAD': (2.623336729134662e-08, 4.6090331677330573e-07)}"
      ]
     },
     "execution_count": 46,
     "metadata": {},
     "output_type": "execute_result"
    }
   ],
   "source": [
    "stats_res"
   ]
  },
  {
   "cell_type": "markdown",
   "metadata": {},
   "source": [
    "### Visualize some BAs"
   ]
  },
  {
   "cell_type": "code",
   "execution_count": 54,
   "metadata": {},
   "outputs": [],
   "source": [
    "ba = 'CISO'"
   ]
  },
  {
   "cell_type": "code",
   "execution_count": 55,
   "metadata": {},
   "outputs": [],
   "source": [
    "D_col = f'EBA.{ba}-ALL.D.H'\n",
    "TI_col = f'EBA.{ba}-ALL.TI.H'\n",
    "NG_col = f'EBA.{ba}-ALL.NG.H'"
   ]
  },
  {
   "cell_type": "code",
   "execution_count": 56,
   "metadata": {},
   "outputs": [
    {
     "data": {
      "image/png": "[encoded data removed]",
      "text/plain": [
       "<Figure size 432x288 with 1 Axes>"
      ]
     },
     "metadata": {
      "needs_background": "light"
     },
     "output_type": "display_data"
    }
   ],
   "source": [
    "plt.plot(df_elec[D_col].values[-100:], label = 'Demand')\n",
    "plt.plot(df_elec[NG_col].values[-100:], label = 'NetGeneration')\n",
    "plt.xlabel(\"Time\")\n",
    "plt.ylabel(\"Energy [units]\")\n",
    "plt.grid()\n"
   ]
  },
  {
   "cell_type": "markdown",
   "metadata": {},
   "source": [
    "----"
   ]
  },
  {
   "cell_type": "markdown",
   "metadata": {},
   "source": [
    "# Load"
   ]
  },
  {
   "cell_type": "code",
   "execution_count": null,
   "metadata": {},
   "outputs": [],
   "source": [
    "start = \"20210101\"\n",
    "end = \"20210324\""
   ]
  },
  {
   "cell_type": "code",
   "execution_count": null,
   "metadata": {},
   "outputs": [],
   "source": [
    "data_elec = api.retrieve(variable=\"elec\", ba=[], start=start, end=end, field=\"NG\")\n",
    "df_elec = pd.read_csv(StringIO(data_elec), index_col=0, parse_dates=True)\n",
    "data_elec = load.BaData(df = df_elec)"
   ]
  },
  {
   "cell_type": "code",
   "execution_count": null,
   "metadata": {},
   "outputs": [],
   "source": [
    "trade_partners = dict()\n",
    "for ba in BAs:\n",
    "    trade_partners[ba] = data_elec.get_trade_partners(ba)"
   ]
  },
  {
   "cell_type": "code",
   "execution_count": null,
   "metadata": {},
   "outputs": [],
   "source": [
    "#check for trade partners\n",
    "for ba in trade_partners:\n",
    "    for ba2 in trade_partners[ba]:\n",
    "        if ba2 not in trade_partners:\n",
    "            print(f'{ba2} not in keys')\n",
    "        elif ba not in trade_partners[ba2]:\n",
    "            print(f'{ba} not in trade partners of {ba2}')"
   ]
  },
  {
   "cell_type": "code",
   "execution_count": null,
   "metadata": {},
   "outputs": [],
   "source": [
    "data = api.retrieve(variable=\"co2\", ba=BAs, start=start, end=end, field=\"NG\")\n",
    "df = pd.read_csv(StringIO(data), index_col=0)"
   ]
  },
  {
   "cell_type": "code",
   "execution_count": null,
   "metadata": {},
   "outputs": [],
   "source": [
    "#rename cols\n",
    "new_col_name = {col: col.split('_')[1] for col in df.columns}\n",
    "\n",
    "df.rename(columns = new_col_name, inplace = True)"
   ]
  },
  {
   "cell_type": "markdown",
   "metadata": {},
   "source": [
    "# Viz a few time series"
   ]
  },
  {
   "cell_type": "code",
   "execution_count": null,
   "metadata": {},
   "outputs": [],
   "source": [
    "import numpy as np"
   ]
  },
  {
   "cell_type": "code",
   "execution_count": null,
   "metadata": {},
   "outputs": [],
   "source": [
    "corr_df = pd.DataFrame(index = BAs, columns = BAs, data = np.zeros((len(BAs), len(BAs))))"
   ]
  },
  {
   "cell_type": "code",
   "execution_count": null,
   "metadata": {},
   "outputs": [],
   "source": [
    "for ba in BAs:\n",
    "    for ba2 in trade_partners[ba]:\n",
    "        if ba2 in BAs:\n",
    "            corr_df.loc[ba, ba2] = np.corrcoef(df[ba], df[ba2])[1, 0]"
   ]
  },
  {
   "cell_type": "code",
   "execution_count": null,
   "metadata": {},
   "outputs": [],
   "source": [
    "import seaborn as sns"
   ]
  },
  {
   "cell_type": "code",
   "execution_count": null,
   "metadata": {},
   "outputs": [],
   "source": [
    "corr_df"
   ]
  },
  {
   "cell_type": "code",
   "execution_count": null,
   "metadata": {},
   "outputs": [],
   "source": [
    "plt.subplots(figsize = (12, 10))\n",
    "sns.heatmap(corr_df, vmin = -1, vmax = 1, cmap = 'vlag');"
   ]
  },
  {
   "cell_type": "markdown",
   "metadata": {},
   "source": [
    "# Build a network"
   ]
  },
  {
   "cell_type": "code",
   "execution_count": null,
   "metadata": {},
   "outputs": [],
   "source": [
    "import networkx as nx\n",
    "import pyvis\n",
    "import matplotlib.cm as cm\n",
    "\n",
    "from pyvis.network import Network\n",
    "\n",
    "import community as community_louvain"
   ]
  },
  {
   "cell_type": "code",
   "execution_count": null,
   "metadata": {},
   "outputs": [],
   "source": [
    "G = nx.Graph()"
   ]
  },
  {
   "cell_type": "code",
   "execution_count": null,
   "metadata": {},
   "outputs": [],
   "source": [
    "for ba in trade_partners:\n",
    "    for ba2 in trade_partners[ba]:\n",
    "        if (ba, ba2) not in G and ba2!='CFE':\n",
    "            G.add_edge(ba, ba2)"
   ]
  },
  {
   "cell_type": "code",
   "execution_count": null,
   "metadata": {},
   "outputs": [],
   "source": [
    "# compute the best partition\n",
    "partition = community_louvain.best_partition(G)"
   ]
  },
  {
   "cell_type": "code",
   "execution_count": null,
   "metadata": {},
   "outputs": [],
   "source": [
    "# draw the graph\n",
    "pos = nx.spring_layout(G)\n",
    "# color the nodes according to their partition\n",
    "cmap = cm.get_cmap('viridis', max(partition.values()) + 1)\n",
    "nx.draw_networkx_nodes(G, pos, partition.keys(), node_size=40,\n",
    "                       cmap=cmap, node_color=list(partition.values()))\n",
    "nx.draw_networkx_edges(G, pos, alpha=0.5)\n",
    "plt.show()"
   ]
  },
  {
   "cell_type": "code",
   "execution_count": null,
   "metadata": {},
   "outputs": [],
   "source": [
    "net = Network(notebook=True)\n",
    "\n",
    "net.from_nx(G)\n",
    "\n",
    "net.show('ex.html')"
   ]
  },
  {
   "cell_type": "code",
   "execution_count": null,
   "metadata": {},
   "outputs": [],
   "source": [
    "partition_ba, partition_group = list(partition.keys()), list(partition.values())"
   ]
  },
  {
   "cell_type": "code",
   "execution_count": null,
   "metadata": {},
   "outputs": [],
   "source": [
    "idx_sort = np.argsort(partition_group)"
   ]
  },
  {
   "cell_type": "code",
   "execution_count": null,
   "metadata": {},
   "outputs": [],
   "source": [
    "clusters_ba = np.array(partition_ba)[idx_sort]"
   ]
  },
  {
   "cell_type": "code",
   "execution_count": null,
   "metadata": {},
   "outputs": [],
   "source": [
    "for c in clusters_ba: \n",
    "    if c not in corr_df.index:\n",
    "        print(c)"
   ]
  },
  {
   "cell_type": "code",
   "execution_count": null,
   "metadata": {},
   "outputs": [],
   "source": [
    "corr_df_cluster = corr_df.loc[clusters_ba.tolist()]"
   ]
  },
  {
   "cell_type": "code",
   "execution_count": null,
   "metadata": {},
   "outputs": [],
   "source": [
    "corr_df_cluster = corr_df_cluster[clusters_ba]"
   ]
  },
  {
   "cell_type": "markdown",
   "metadata": {},
   "source": [
    "You can now plot this correlation by clusters, instead of focusing on the entire graph"
   ]
  },
  {
   "cell_type": "code",
   "execution_count": null,
   "metadata": {},
   "outputs": [],
   "source": [
    "plt.subplots(figsize = (12, 10))\n",
    "sns.heatmap(corr_df_cluster, vmin = -1, vmax = 1, cmap = 'vlag');"
   ]
  },
  {
   "cell_type": "markdown",
   "metadata": {},
   "source": [
    "# Time series analysis by cluster"
   ]
  },
  {
   "cell_type": "code",
   "execution_count": null,
   "metadata": {},
   "outputs": [],
   "source": [
    "group_5 = [ba for ba in partition if partition[ba]==5]"
   ]
  },
  {
   "cell_type": "code",
   "execution_count": null,
   "metadata": {},
   "outputs": [],
   "source": [
    "_, ax = plt.subplots(figsize=(10, 10));\n",
    "for ba in group_5:\n",
    "    ax.plot(df[ba].values);"
   ]
  },
  {
   "cell_type": "code",
   "execution_count": null,
   "metadata": {},
   "outputs": [],
   "source": [
    "plt.plot(df[group_5[9]].values)"
   ]
  },
  {
   "cell_type": "code",
   "execution_count": null,
   "metadata": {},
   "outputs": [],
   "source": [
    "plt.figure(figsize=(14, 10))\n",
    "plt.plot(df['CISO'].values)\n",
    "plt.xticks(rotation=20);\n",
    "plt.xlim([750, 1200])"
   ]
  },
  {
   "cell_type": "code",
   "execution_count": null,
   "metadata": {
    "scrolled": false
   },
   "outputs": [],
   "source": [
    "plt.plot(df['CISO'].values)"
   ]
  },
  {
   "cell_type": "markdown",
   "metadata": {},
   "source": [
    "# Questions"
   ]
  },
  {
   "cell_type": "code",
   "execution_count": null,
   "metadata": {},
   "outputs": [],
   "source": []
  }
 ],
 "metadata": {
  "kernelspec": {
   "display_name": "Python 3",
   "language": "python",
   "name": "python3"
  },
  "language_info": {
   "codemirror_mode": {
    "name": "ipython",
    "version": 3
   },
   "file_extension": ".py",
   "mimetype": "text/x-python",
   "name": "python",
   "nbconvert_exporter": "python",
   "pygments_lexer": "ipython3",
   "version": "3.7.7"
  },
  "toc": {
   "base_numbering": 1,
   "nav_menu": {},
   "number_sections": true,
   "sideBar": true,
   "skip_h1_title": false,
   "title_cell": "Table of Contents",
   "title_sidebar": "Contents",
   "toc_cell": true,
   "toc_position": {},
   "toc_section_display": true,
   "toc_window_display": true
  },
  "varInspector": {
   "cols": {
    "lenName": 16,
    "lenType": 16,
    "lenVar": 40
   },
   "kernels_config": {
    "python": {
     "delete_cmd_postfix": "",
     "delete_cmd_prefix": "del ",
     "library": "var_list.py",
     "varRefreshCmd": "print(var_dic_list())"
    },
    "r": {
     "delete_cmd_postfix": ") ",
     "delete_cmd_prefix": "rm(",
     "library": "var_list.r",
     "varRefreshCmd": "cat(var_dic_list()) "
    }
   },
   "types_to_exclude": [
    "module",
    "function",
    "builtin_function_or_method",
    "instance",
    "_Feature"
   ],
   "window_display": false
  }
 },
 "nbformat": 4,
 "nbformat_minor": 5
}
