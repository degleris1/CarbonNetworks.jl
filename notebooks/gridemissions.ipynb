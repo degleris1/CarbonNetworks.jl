{
 "cells": [
  {
   "cell_type": "markdown",
   "metadata": {
    "toc": true
   },
   "source": [
    "<h1>Table of Contents<span class=\"tocSkip\"></span></h1>\n",
    "<div class=\"toc\"><ul class=\"toc-item\"><li><span><a href=\"#TODOs\" data-toc-modified-id=\"TODOs-1\"><span class=\"toc-item-num\">1&nbsp;&nbsp;</span>TODOs</a></span></li><li><span><a href=\"#Questions\" data-toc-modified-id=\"Questions-2\"><span class=\"toc-item-num\">2&nbsp;&nbsp;</span>Questions</a></span></li><li><span><a href=\"#Links\" data-toc-modified-id=\"Links-3\"><span class=\"toc-item-num\">3&nbsp;&nbsp;</span>Links</a></span></li><li><span><a href=\"#Interpreting-the-data\" data-toc-modified-id=\"Interpreting-the-data-4\"><span class=\"toc-item-num\">4&nbsp;&nbsp;</span>Interpreting the data</a></span><ul class=\"toc-item\"><li><span><a href=\"#EBA-data-columns\" data-toc-modified-id=\"EBA-data-columns-4.1\"><span class=\"toc-item-num\">4.1&nbsp;&nbsp;</span>EBA data columns</a></span></li></ul></li><li><span><a href=\"#Load\" data-toc-modified-id=\"Load-5\"><span class=\"toc-item-num\">5&nbsp;&nbsp;</span>Load</a></span></li><li><span><a href=\"#Loading-bulk-datasets\" data-toc-modified-id=\"Loading-bulk-datasets-6\"><span class=\"toc-item-num\">6&nbsp;&nbsp;</span>Loading bulk datasets</a></span><ul class=\"toc-item\"><li><span><a href=\"#Co2-dataset\" data-toc-modified-id=\"Co2-dataset-6.1\"><span class=\"toc-item-num\">6.1&nbsp;&nbsp;</span>Co2 dataset</a></span></li><li><span><a href=\"#Elec-dataset\" data-toc-modified-id=\"Elec-dataset-6.2\"><span class=\"toc-item-num\">6.2&nbsp;&nbsp;</span>Elec dataset</a></span></li><li><span><a href=\"#Playing-with-the-data\" data-toc-modified-id=\"Playing-with-the-data-6.3\"><span class=\"toc-item-num\">6.3&nbsp;&nbsp;</span>Playing with the data</a></span><ul class=\"toc-item\"><li><span><a href=\"#Residuals-of-this-equation-per-BA\" data-toc-modified-id=\"Residuals-of-this-equation-per-BA-6.3.1\"><span class=\"toc-item-num\">6.3.1&nbsp;&nbsp;</span>Residuals of this equation per BA</a></span></li><li><span><a href=\"#Visualize-some-BAs\" data-toc-modified-id=\"Visualize-some-BAs-6.3.2\"><span class=\"toc-item-num\">6.3.2&nbsp;&nbsp;</span>Visualize some BAs</a></span></li></ul></li></ul></li><li><span><a href=\"#Visualizing-MEFs\" data-toc-modified-id=\"Visualizing-MEFs-7\"><span class=\"toc-item-num\">7&nbsp;&nbsp;</span>Visualizing MEFs</a></span></li><li><span><a href=\"#Demand-MEF\" data-toc-modified-id=\"Demand-MEF-8\"><span class=\"toc-item-num\">8&nbsp;&nbsp;</span>Demand MEF</a></span></li><li><span><a href=\"#Plotting-some-time-series\" data-toc-modified-id=\"Plotting-some-time-series-9\"><span class=\"toc-item-num\">9&nbsp;&nbsp;</span>Plotting some time series</a></span></li><li><span><a href=\"#Identifying-good-use-cases\" data-toc-modified-id=\"Identifying-good-use-cases-10\"><span class=\"toc-item-num\">10&nbsp;&nbsp;</span>Identifying good use cases</a></span><ul class=\"toc-item\"><li><span><a href=\"#high-low-availability-of-sun/wind\" data-toc-modified-id=\"high-low-availability-of-sun/wind-10.1\"><span class=\"toc-item-num\">10.1&nbsp;&nbsp;</span>high-low availability of sun/wind</a></span></li></ul></li></ul></div>"
   ]
  },
  {
   "cell_type": "markdown",
   "metadata": {},
   "source": [
    "# TODOs"
   ]
  },
  {
   "cell_type": "markdown",
   "metadata": {},
   "source": [
    "- How do you compute MEFs for the general + for each fuel type? (see the literature)\n",
    "- How do those MEFs vary over time? Can you have an estimate for each hour of the day, for instance? \n",
    "- How do you compute the cost functions? \n",
    "- How do you retrieve the **relative** carbon intensity? Instead of the total carbon consumption? (I guess carbon_total/demand)?"
   ]
  },
  {
   "cell_type": "markdown",
   "metadata": {},
   "source": [
    "Why is the MEF generation the same as the MEF demand? does that make sense? "
   ]
  },
  {
   "cell_type": "markdown",
   "metadata": {},
   "source": [
    "# Questions"
   ]
  },
  {
   "cell_type": "markdown",
   "metadata": {},
   "source": [
    "@Anthony: those are notes to self. "
   ]
  },
  {
   "cell_type": "markdown",
   "metadata": {},
   "source": [
    "- Are we looking for long range interactions? \n",
    "- Automated discovery of production mix at the node level (based on energy trade)? \n",
    "- What fraction of the clealiness is attributable to your own production vs imports. What is the biggest contributor to the metric that you care about? How do you steer imports to optimize your own carbon benefit? \n",
    "- How to scale local energy mix to benefit globally? \n",
    "- What is the correlation with weather data? \n",
    "\n",
    "- Do we want total carbon consumption or only carbon intensity? "
   ]
  },
  {
   "cell_type": "markdown",
   "metadata": {},
   "source": [
    "# Links"
   ]
  },
  {
   "cell_type": "markdown",
   "metadata": {},
   "source": [
    "web.stanford.edu/~jdechale/emissions_app/"
   ]
  },
  {
   "cell_type": "markdown",
   "metadata": {},
   "source": [
    "# Interpreting the data"
   ]
  },
  {
   "cell_type": "markdown",
   "metadata": {},
   "source": [
    "@Anthony: \n",
    "You will see that the columns of both datasets have specific names. \n",
    "\n",
    "They are usually a combination of \n",
    "- Balacing Authorities ID (e.g. CISO) \n",
    "- A tag explaining what we are looking at. See below for a detail of those tags. \n",
    "- For electricity, the type of generation. \n",
    "\n",
    "\n",
    "EBA data columns\n",
    "----------------\n",
    "- D: Demand\n",
    "- NG: Net Generation\n",
    "- TI: Total Interchange - (positive if exports)\n",
    "- ID: Interchange with directly connected balancing authorities - (positive\n",
    "    if exports)"
   ]
  },
  {
   "cell_type": "markdown",
   "metadata": {},
   "source": [
    "# Load"
   ]
  },
  {
   "cell_type": "code",
   "execution_count": null,
   "metadata": {},
   "outputs": [],
   "source": [
    "%load_ext autoreload\n",
    "%autoreload 2"
   ]
  },
  {
   "cell_type": "code",
   "execution_count": null,
   "metadata": {},
   "outputs": [],
   "source": [
    "%matplotlib inline\n",
    "import matplotlib.pyplot as plt\n",
    "import numpy as np\n",
    "import pandas as pd\n",
    "\n",
    "import os\n",
    "\n",
    "from plotting_utils import plot_mef"
   ]
  },
  {
   "cell_type": "code",
   "execution_count": null,
   "metadata": {},
   "outputs": [],
   "source": [
    "from sklearn.linear_model import LinearRegression"
   ]
  },
  {
   "cell_type": "code",
   "execution_count": null,
   "metadata": {},
   "outputs": [],
   "source": [
    "DATA_PATH = os.getenv('CARBON_NETWORKS_DATA')"
   ]
  },
  {
   "cell_type": "markdown",
   "metadata": {},
   "source": [
    "# Loading bulk datasets"
   ]
  },
  {
   "cell_type": "code",
   "execution_count": null,
   "metadata": {},
   "outputs": [],
   "source": [
    "fnm_co2 = os.path.join(DATA_PATH, 'EBA_co2.csv')\n",
    "fnm_elec = os.path.join(DATA_PATH, 'EBA_elec.csv')"
   ]
  },
  {
   "cell_type": "code",
   "execution_count": null,
   "metadata": {},
   "outputs": [],
   "source": [
    "df_co2 = pd.read_csv(fnm_co2, index_col=0, parse_dates=True)\n",
    "\n",
    "df_elec = pd.read_csv(fnm_elec, index_col=0, parse_dates=True)"
   ]
  },
  {
   "cell_type": "markdown",
   "metadata": {},
   "source": [
    "## Co2 dataset"
   ]
  },
  {
   "cell_type": "code",
   "execution_count": null,
   "metadata": {},
   "outputs": [],
   "source": [
    "df_co2.head()"
   ]
  },
  {
   "cell_type": "markdown",
   "metadata": {},
   "source": [
    "@Anthony: for instance, the first column above gives the CO2-emissions exchanged between AEC and MISO. "
   ]
  },
  {
   "cell_type": "code",
   "execution_count": null,
   "metadata": {},
   "outputs": [],
   "source": [
    "#extracting the names of the BAs present in the dataset\n",
    "nms = []\n",
    "fields = []\n",
    "\n",
    "for c in df_co2.columns:\n",
    "    \n",
    "    nms.append(c.split('_')[1])\n",
    "    fields.append(c.split('_')[-1])\n",
    "\n",
    "BAs = []\n",
    "for nm in nms:\n",
    "    if '-' in nm:\n",
    "        pass\n",
    "    else:\n",
    "        BAs.append(nm)"
   ]
  },
  {
   "cell_type": "code",
   "execution_count": null,
   "metadata": {},
   "outputs": [],
   "source": [
    "BAs = np.unique(BAs)"
   ]
  },
  {
   "cell_type": "code",
   "execution_count": null,
   "metadata": {},
   "outputs": [],
   "source": [
    "print(\"These are the names of the Balancing Authorities present in the dataset\")\n",
    "print(BAs)\n",
    "print(f\"\\nThere are {len(BAs)} BAs.\")"
   ]
  },
  {
   "cell_type": "markdown",
   "metadata": {},
   "source": [
    "## Elec dataset"
   ]
  },
  {
   "cell_type": "code",
   "execution_count": null,
   "metadata": {},
   "outputs": [],
   "source": [
    "df_elec.head()"
   ]
  },
  {
   "cell_type": "markdown",
   "metadata": {},
   "source": [
    "@Anthony: the format of this electricity dataset is a bit different. The format of the column name is \n",
    "- **EBA.ba_name-ALL.[D,NG,TI].H** for the [demand, net_generation, total_interchange] hourly for BA ba_name\n",
    "- **EBA.ba_name-other_ba_name.ID.H** for the interchange between ba_name and other_ba_name\n",
    "\n",
    "Also, you will have a column like **EBA.ba_name-ALL.NG.SOURCE.H** where **SOURCE** is going to be water, wind, coal, ..."
   ]
  },
  {
   "cell_type": "markdown",
   "metadata": {},
   "source": [
    "For instance, for **MISO**, we see that it exchanges with a bunch of BAs. We also know that it produces nuclear, oil, sun, hydro, wind, and \"others\""
   ]
  },
  {
   "cell_type": "code",
   "execution_count": null,
   "metadata": {},
   "outputs": [],
   "source": [
    "for c in df_elec.columns:\n",
    "    if 'MISO-' in c:\n",
    "        print(c)"
   ]
  },
  {
   "cell_type": "markdown",
   "metadata": {},
   "source": [
    "We can check that the columns **NG.H** is the sum of columns **NG.SOURCE.H**. \n"
   ]
  },
  {
   "cell_type": "markdown",
   "metadata": {},
   "source": [
    "## Playing with the data"
   ]
  },
  {
   "cell_type": "markdown",
   "metadata": {},
   "source": [
    "Here we check that the conservation equation is verified in the data. "
   ]
  },
  {
   "cell_type": "code",
   "execution_count": null,
   "metadata": {},
   "outputs": [],
   "source": [
    "eba = 'AECI'"
   ]
  },
  {
   "cell_type": "code",
   "execution_count": null,
   "metadata": {},
   "outputs": [],
   "source": [
    "D_col = f'EBA.{eba}-ALL.D.H'\n",
    "TI_col = f'EBA.{eba}-ALL.TI.H'\n",
    "NG_col = f'EBA.{eba}-ALL.NG.H'"
   ]
  },
  {
   "cell_type": "code",
   "execution_count": null,
   "metadata": {},
   "outputs": [],
   "source": [
    "df_elec[NG_col].head()"
   ]
  },
  {
   "cell_type": "code",
   "execution_count": null,
   "metadata": {},
   "outputs": [],
   "source": [
    "(df_elec[D_col] + df_elec[TI_col]).head()"
   ]
  },
  {
   "cell_type": "markdown",
   "metadata": {},
   "source": [
    "The equation at each node is simply:\n",
    "$$\n",
    "D + TI = NG\n",
    "$$\n"
   ]
  },
  {
   "cell_type": "markdown",
   "metadata": {},
   "source": [
    "### Residuals of this equation per BA"
   ]
  },
  {
   "cell_type": "code",
   "execution_count": null,
   "metadata": {},
   "outputs": [],
   "source": [
    "stats_res = dict()\n",
    "\n",
    "for ba in BAs:\n",
    "\n",
    "    D_col = f'EBA.{ba}-ALL.D.H'\n",
    "    TI_col = f'EBA.{ba}-ALL.TI.H'\n",
    "    NG_col = f'EBA.{ba}-ALL.NG.H'\n",
    "    res = df_elec[D_col] + df_elec[TI_col] - df_elec[NG_col]\n",
    "    mean_res = np.mean(res)\n",
    "    std_res = np.std(res)\n",
    "    \n",
    "    stats_res[ba] = (mean_res, std_res)"
   ]
  },
  {
   "cell_type": "markdown",
   "metadata": {},
   "source": [
    "We see that the above equation satisfied for all BAs in the dataset. \n",
    "\n",
    "For each BA, we see the (mean residual, std of residuals)"
   ]
  },
  {
   "cell_type": "code",
   "execution_count": null,
   "metadata": {},
   "outputs": [],
   "source": [
    "stats_res"
   ]
  },
  {
   "cell_type": "markdown",
   "metadata": {},
   "source": [
    "### Visualize some BAs"
   ]
  },
  {
   "cell_type": "code",
   "execution_count": null,
   "metadata": {},
   "outputs": [],
   "source": [
    "ba = 'CISO'"
   ]
  },
  {
   "cell_type": "code",
   "execution_count": null,
   "metadata": {},
   "outputs": [],
   "source": [
    "D_col = f'EBA.{ba}-ALL.D.H'\n",
    "TI_col = f'EBA.{ba}-ALL.TI.H'\n",
    "NG_col = f'EBA.{ba}-ALL.NG.H'"
   ]
  },
  {
   "cell_type": "code",
   "execution_count": null,
   "metadata": {},
   "outputs": [],
   "source": [
    "plt.plot(df_elec[D_col].values[-100:], label = 'Demand')\n",
    "plt.plot(df_elec[NG_col].values[-100:], label = 'NetGeneration')\n",
    "plt.xlabel(\"Time\")\n",
    "plt.ylabel(\"Energy [units]\")\n",
    "plt.grid()\n"
   ]
  },
  {
   "cell_type": "markdown",
   "metadata": {},
   "source": [
    "# Visualizing MEFs"
   ]
  },
  {
   "cell_type": "markdown",
   "metadata": {},
   "source": [
    "I think the equation for MEF is usually: \n",
    "$$\n",
    " \\Delta E\\propto \\Delta G (MEF)\n",
    "$$\n",
    "(I would have to check), where $\\Delta G$ is the change in generation and $\\Delta E$ is the change in emissions. "
   ]
  },
  {
   "cell_type": "markdown",
   "metadata": {},
   "source": [
    "Let us try to visualize the MEF for one BA in particular"
   ]
  },
  {
   "cell_type": "code",
   "execution_count": null,
   "metadata": {},
   "outputs": [],
   "source": [
    "ba = 'MISO'\n",
    "\n",
    "_ = plot_mef(ba, df_elec, df_co2, which='generation')"
   ]
  },
  {
   "cell_type": "markdown",
   "metadata": {},
   "source": [
    "The slope of the linear regression to the above point cloud is the MEF. "
   ]
  },
  {
   "cell_type": "markdown",
   "metadata": {},
   "source": [
    "However, for some BAs with a lot of renewable generation (e.g. CISO), the MEF is not as well defined. We would have to see how this very value of the MEF changes depending on the time of the day for instance. (as the share of renewables is much different from hour to hour I am guessing). "
   ]
  },
  {
   "cell_type": "code",
   "execution_count": null,
   "metadata": {},
   "outputs": [],
   "source": [
    "ba = 'CISO'\n",
    "\n",
    "_ = plot_mef(ba, df_elec, df_co2, which='generation')"
   ]
  },
  {
   "cell_type": "code",
   "execution_count": null,
   "metadata": {},
   "outputs": [],
   "source": [
    "ba = 'CISO'\n",
    "\n",
    "_ = plot_mef(ba, df_elec, df_co2, which='net_generation')"
   ]
  },
  {
   "cell_type": "code",
   "execution_count": null,
   "metadata": {},
   "outputs": [],
   "source": [
    "NG_col = f'EBA.{ba}-ALL.NG.H'"
   ]
  },
  {
   "cell_type": "code",
   "execution_count": null,
   "metadata": {},
   "outputs": [],
   "source": [
    "WND_col = f'EBA.{ba}-ALL.NG.WND.H'\n",
    "\n",
    "SUN_col = f'EBA.{ba}-ALL.NG.SUN.H'"
   ]
  },
  {
   "cell_type": "code",
   "execution_count": null,
   "metadata": {},
   "outputs": [],
   "source": [
    "df_elec[NG_col] - df_elec[[WND_col, SUN_col]].sum(axis=1)"
   ]
  },
  {
   "cell_type": "code",
   "execution_count": null,
   "metadata": {},
   "outputs": [],
   "source": [
    "df_elec.columns"
   ]
  },
  {
   "cell_type": "markdown",
   "metadata": {},
   "source": [
    "# Demand MEF"
   ]
  },
  {
   "cell_type": "markdown",
   "metadata": {},
   "source": [
    "Here we do the same as above for demand"
   ]
  },
  {
   "cell_type": "markdown",
   "metadata": {},
   "source": [
    "We define the demand_MEF as \n",
    "$$\n",
    " \\Delta E\\propto \\Delta D \n",
    "$$"
   ]
  },
  {
   "cell_type": "markdown",
   "metadata": {},
   "source": [
    "Let us try to visualize the MEF for one BA in particular"
   ]
  },
  {
   "cell_type": "code",
   "execution_count": null,
   "metadata": {},
   "outputs": [],
   "source": [
    "ba = 'MISO'"
   ]
  },
  {
   "cell_type": "code",
   "execution_count": null,
   "metadata": {},
   "outputs": [],
   "source": [
    "ba_, ba_co2 = plot_mef(ba, df_elec, df_co2, which='demand')\n",
    "plt.savefig(os.path.join(DATA_PATH, \"Figures\", f\"ba_demand.png\"), dpi=200)"
   ]
  },
  {
   "cell_type": "code",
   "execution_count": null,
   "metadata": {},
   "outputs": [],
   "source": [
    "ba_, ba_co2 = plot_mef(ba, df_elec, df_co2, which='net_demand')"
   ]
  },
  {
   "cell_type": "code",
   "execution_count": null,
   "metadata": {},
   "outputs": [],
   "source": [
    "ba = 'CISO'"
   ]
  },
  {
   "cell_type": "code",
   "execution_count": null,
   "metadata": {},
   "outputs": [],
   "source": [
    "ba_, ba_co2 = plot_mef(ba, df_elec, df_co2, which='demand')"
   ]
  },
  {
   "cell_type": "code",
   "execution_count": null,
   "metadata": {},
   "outputs": [],
   "source": [
    "ba_, ba_co2 = plot_mef(ba, df_elec, df_co2, which='net_demand')"
   ]
  },
  {
   "cell_type": "markdown",
   "metadata": {},
   "source": [
    "# Plotting some time series"
   ]
  },
  {
   "cell_type": "markdown",
   "metadata": {},
   "source": [
    "units are: \n",
    "- elec: MWh\n",
    "- carbon: kg\n"
   ]
  },
  {
   "cell_type": "code",
   "execution_count": null,
   "metadata": {},
   "outputs": [],
   "source": [
    "col = f'EBA.CISO-ALL.D.H'"
   ]
  },
  {
   "cell_type": "code",
   "execution_count": null,
   "metadata": {},
   "outputs": [],
   "source": [
    "plt.plot(df_elec[col])"
   ]
  },
  {
   "cell_type": "markdown",
   "metadata": {},
   "source": [
    "# Identifying good use cases"
   ]
  },
  {
   "cell_type": "markdown",
   "metadata": {},
   "source": [
    "## high-low availability of sun/wind"
   ]
  },
  {
   "cell_type": "code",
   "execution_count": null,
   "metadata": {},
   "outputs": [],
   "source": [
    "def build_resource_all(df_elec, df_co2):\n",
    "    resources = extract_resources(df_elec)\n",
    "    BAs = extract_BAs(df_co2)\n",
    "    \n",
    "    df_resources = pd.DataFrame(columns=resources, index = df_elec.index)\n",
    "    \n",
    "    for res in resources:\n",
    "        cols_res = []\n",
    "        for ba in BAs:\n",
    "            col_res = f'EBA.{ba}-ALL.NG.{res}.H'\n",
    "            if col_res in df_elec.columns:\n",
    "                cols_res.append(col_res)\n",
    "                \n",
    "        df_resources[res] = df_elec[cols_res].sum(axis=1)\n",
    "    return df_resources"
   ]
  },
  {
   "cell_type": "code",
   "execution_count": null,
   "metadata": {},
   "outputs": [],
   "source": [
    "df_resources = df_resources.loc['2020-07-01':'2020-09-30']"
   ]
  },
  {
   "cell_type": "code",
   "execution_count": null,
   "metadata": {},
   "outputs": [],
   "source": [
    "_, ax = plt.subplots(figsize = (15, 10))\n",
    "for c in df_resources.columns:\n",
    "    ax.plot(df_resources[c], label=c)\n",
    "    \n",
    "plt.legend()"
   ]
  },
  {
   "cell_type": "code",
   "execution_count": null,
   "metadata": {},
   "outputs": [],
   "source": [
    "plt.plot(df_resources.sum(axis=1))"
   ]
  },
  {
   "cell_type": "code",
   "execution_count": null,
   "metadata": {},
   "outputs": [],
   "source": [
    "df_resources.index[df_resources.sum(axis=1).argmax()]"
   ]
  },
  {
   "cell_type": "code",
   "execution_count": null,
   "metadata": {},
   "outputs": [],
   "source": [
    "df_ren = df_resources[['SUN', 'WND']].sum(axis=1)"
   ]
  },
  {
   "cell_type": "code",
   "execution_count": null,
   "metadata": {},
   "outputs": [],
   "source": [
    "plt.figure(figsize = (15, 10))\n",
    "plt.plot(df_ren)"
   ]
  },
  {
   "cell_type": "code",
   "execution_count": null,
   "metadata": {},
   "outputs": [],
   "source": [
    "df_ren.index[df_ren.argmax()]"
   ]
  }
 ],
 "metadata": {
  "kernelspec": {
   "display_name": "Python 3",
   "language": "python",
   "name": "python3"
  },
  "language_info": {
   "codemirror_mode": {
    "name": "ipython",
    "version": 3
   },
   "file_extension": ".py",
   "mimetype": "text/x-python",
   "name": "python",
   "nbconvert_exporter": "python",
   "pygments_lexer": "ipython3",
   "version": "3.7.7"
  },
  "toc": {
   "base_numbering": 1,
   "nav_menu": {},
   "number_sections": true,
   "sideBar": true,
   "skip_h1_title": false,
   "title_cell": "Table of Contents",
   "title_sidebar": "Contents",
   "toc_cell": true,
   "toc_position": {
    "height": "calc(100% - 180px)",
    "left": "10px",
    "top": "150px",
    "width": "195px"
   },
   "toc_section_display": true,
   "toc_window_display": true
  },
  "varInspector": {
   "cols": {
    "lenName": 16,
    "lenType": 16,
    "lenVar": 40
   },
   "kernels_config": {
    "python": {
     "delete_cmd_postfix": "",
     "delete_cmd_prefix": "del ",
     "library": "var_list.py",
     "varRefreshCmd": "print(var_dic_list())"
    },
    "r": {
     "delete_cmd_postfix": ") ",
     "delete_cmd_prefix": "rm(",
     "library": "var_list.r",
     "varRefreshCmd": "cat(var_dic_list()) "
    }
   },
   "types_to_exclude": [
    "module",
    "function",
    "builtin_function_or_method",
    "instance",
    "_Feature"
   ],
   "window_display": false
  }
 },
 "nbformat": 4,
 "nbformat_minor": 5
}
