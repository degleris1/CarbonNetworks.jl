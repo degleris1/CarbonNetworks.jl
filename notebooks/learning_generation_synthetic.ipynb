{
 "cells": [
  {
   "cell_type": "markdown",
   "metadata": {
    "toc": true
   },
   "source": [
    "<h1>Table of Contents<span class=\"tocSkip\"></span></h1>\n",
    "<div class=\"toc\"><ul class=\"toc-item\"><li><span><a href=\"#Make-data\" data-toc-modified-id=\"Make-data-1\"><span class=\"toc-item-num\">1&nbsp;&nbsp;</span>Make data</a></span><ul class=\"toc-item\"><li><span><a href=\"#Make-network\" data-toc-modified-id=\"Make-network-1.1\"><span class=\"toc-item-num\">1.1&nbsp;&nbsp;</span>Make network</a></span><ul class=\"toc-item\"><li><span><a href=\"#Make-cases\" data-toc-modified-id=\"Make-cases-1.1.1\"><span class=\"toc-item-num\">1.1.1&nbsp;&nbsp;</span>Make cases</a></span></li></ul></li></ul></li><li><span><a href=\"#Compute-gradient\" data-toc-modified-id=\"Compute-gradient-2\"><span class=\"toc-item-num\">2&nbsp;&nbsp;</span>Compute gradient</a></span><ul class=\"toc-item\"><li><ul class=\"toc-item\"><li><span><a href=\"#Tasks\" data-toc-modified-id=\"Tasks-2.0.1\"><span class=\"toc-item-num\">2.0.1&nbsp;&nbsp;</span>Tasks</a></span></li></ul></li></ul></li><li><span><a href=\"#Comparing-jacobians\" data-toc-modified-id=\"Comparing-jacobians-3\"><span class=\"toc-item-num\">3&nbsp;&nbsp;</span>Comparing jacobians</a></span></li></ul></div>"
   ]
  },
  {
   "cell_type": "code",
   "execution_count": 1,
   "metadata": {},
   "outputs": [
    {
     "name": "stderr",
     "output_type": "stream",
     "text": [
      "\u001b[32m\u001b[1m  Activating\u001b[22m\u001b[39m environment at `~/.julia/environments/v1.6/Project.toml`\n",
      "┌ Info: Precompiling CarbonNetworks [d5dced0a-5569-40db-8865-1dbf132a76f2]\n",
      "└ @ Base loading.jl:1317\n",
      "\u001b[33m\u001b[1m┌ \u001b[22m\u001b[39m\u001b[33m\u001b[1mWarning: \u001b[22m\u001b[39mPackage CarbonNetworks does not have SparseArrays in its dependencies:\n",
      "\u001b[33m\u001b[1m│ \u001b[22m\u001b[39m- If you have CarbonNetworks checked out for development and have\n",
      "\u001b[33m\u001b[1m│ \u001b[22m\u001b[39m  added SparseArrays as a dependency but haven't updated your primary\n",
      "\u001b[33m\u001b[1m│ \u001b[22m\u001b[39m  environment's manifest file, try `Pkg.resolve()`.\n",
      "\u001b[33m\u001b[1m│ \u001b[22m\u001b[39m- Otherwise you may need to report an issue with CarbonNetworks\n",
      "\u001b[33m\u001b[1m└ \u001b[22m\u001b[39mLoading SparseArrays into CarbonNetworks from project dependency, future warnings for CarbonNetworks are suppressed.\n"
     ]
    },
    {
     "data": {
      "text/plain": [
       "#5 (generic function with 1 method)"
      ]
     },
     "execution_count": 1,
     "metadata": {},
     "output_type": "execute_result"
    }
   ],
   "source": [
    "using Pkg; Pkg.activate()\n",
    "\n",
    "using Distributions, Random\n",
    "using LightGraphs\n",
    "using Convex, ECOS\n",
    "using Plots\n",
    "\n",
    "using Revise\n",
    "using CarbonNetworks\n",
    "\n",
    "ECOS_QUIET = () -> ECOS.Optimizer(verbose=false)"
   ]
  },
  {
   "cell_type": "code",
   "execution_count": 2,
   "metadata": {},
   "outputs": [],
   "source": [
    "using LinearAlgebra"
   ]
  },
  {
   "cell_type": "markdown",
   "metadata": {},
   "source": [
    "# Make data"
   ]
  },
  {
   "cell_type": "markdown",
   "metadata": {},
   "source": [
    "## Make network"
   ]
  },
  {
   "cell_type": "code",
   "execution_count": 152,
   "metadata": {},
   "outputs": [],
   "source": [
    "Random.seed!(2)\n",
    "n = 3\n",
    "\n",
    "# Make graph\n",
    "G = watts_strogatz(n, 2, 0.2)\n",
    "\n",
    "# Convert to incidence matrix\n",
    "A = incidence_matrix(G, oriented=true)\n",
    "m = size(A, 2)\n",
    "\n",
    "# Generate costs\n",
    "f = rand(Exponential(5), n) .+ 2\n",
    "\n",
    "# Generate generation and flow capacities\n",
    "gmax = rand(Gamma(5.0, 5.0), n)\n",
    "pmax = rand(Gamma(1.0, 1.0), m);"
   ]
  },
  {
   "cell_type": "code",
   "execution_count": 154,
   "metadata": {},
   "outputs": [],
   "source": [
    "B = I;"
   ]
  },
  {
   "cell_type": "markdown",
   "metadata": {},
   "source": [
    "### Make cases"
   ]
  },
  {
   "cell_type": "code",
   "execution_count": 155,
   "metadata": {},
   "outputs": [],
   "source": [
    "Random.seed!(3)\n",
    "\n",
    "num_cases = 500\n",
    "\n",
    "cases = []\n",
    "for _ in 1:num_cases\n",
    "    d = rand(Uniform(0.5, 1.0), n) .* gmax\n",
    "    \n",
    "    opf = PowerManagementProblem(f, d, pmax, gmax, A)\n",
    "    solve!(opf, ECOS_QUIET)\n",
    "    \n",
    "    push!(cases, (d=d, g=evaluate(opf.g)))\n",
    "end\n",
    "\n",
    "train_cases = cases[1:400]\n",
    "test_cases = cases[401:end];"
   ]
  },
  {
   "cell_type": "markdown",
   "metadata": {},
   "source": [
    "# Compute gradient\n",
    "\n",
    "We want to solve \n",
    "\n",
    "$$\\text{minimize}_\\theta\\quad L(g^*(\\theta)) + \\frac{\\lambda}{2} \\| f \\|_2^2$$\n",
    "    \n",
    "where $L(g) = \\frac{1}{2} \\| g - g_{\\mathrm{true}} \\|_2^2$ and $g^*(\\theta)$ is the OPF mapping. This gradient of the loss is $\\nabla L(g) = g - g_{\\mathrm{true}}$.\n",
    "\n",
    "### Tasks\n",
    "\n",
    "- [ ] Speed up algorithm via warm starting\n",
    "- [ ] Tune regularization parameters\n",
    "- [ ] Verify that LMPs are similar to true LMPs (since that is what matters)"
   ]
  },
  {
   "cell_type": "code",
   "execution_count": null,
   "metadata": {},
   "outputs": [],
   "source": [
    "# function loss_and_grad(f̂, cases)\n",
    "#     L = 0.0\n",
    "#     df = zeros(n)\n",
    "    \n",
    "#     T = length(cases)\n",
    "#     _∇L = zeros(kkt_dims(n, m))\n",
    "\n",
    "#     for case in cases\n",
    "#         params = (f̂, case.d, pmax, gmax, A)\n",
    "#         opf = PowerManagementProblem(params...)\n",
    "#         solve!(opf, ECOS_QUIET)\n",
    "#         ĝ = evaluate(opf.g)\n",
    "        \n",
    "#         L += (1/2) * norm(ĝ - case.g)^2 / T\n",
    "        \n",
    "#         _∇L[1:n] .+= ĝ - case.g\n",
    "#         df += sensitivity_price(opf, _∇L, params) / T\n",
    "#     end\n",
    "    \n",
    "#     return L, df\n",
    "# end\n",
    "\n",
    "# function stochastic_loss_and_grad(f̂, cases, sample)\n",
    "#     return loss_and_grad(f̂, cases[sample])\n",
    "# end"
   ]
  },
  {
   "cell_type": "code",
   "execution_count": null,
   "metadata": {},
   "outputs": [],
   "source": [
    "Random.seed!(4)\n",
    "\n",
    "# Algorithm parameters\n",
    "step_size = 5.0\n",
    "max_iter = 200\n",
    "batch_size = 2\n",
    "test_batch_size = 2\n",
    "λ = 0.0\n",
    "lag = 100\n",
    "\n",
    "# Initialize estimated costs\n",
    "f̂ = rand(Exponential(5), n) .+ 2\n",
    "\n",
    "train_loss_hist = []\n",
    "test_loss_hist = []\n",
    "grad_hist = []\n",
    "acc_hist = []\n",
    "\n",
    "@time for iter in 1:max_iter\n",
    "    # Evaluate loss and gradient\n",
    "    sample = rand(1:length(train_cases), batch_size)\n",
    "    L, df = stochastic_loss_and_grad(f̂, B, train_cases, pmax, gmax, A, sample)\n",
    "    \n",
    "    push!(train_loss_hist, L)\n",
    "    push!(grad_hist, norm(df))\n",
    "    push!(acc_hist, abs(f̂'f) / (norm(f̂) * norm(f)))\n",
    "    \n",
    "    # Compute test loss\n",
    "    sample = rand(1:length(test_cases), test_batch_size)\n",
    "    L_test, _ = stochastic_loss_and_grad(f̂, B, train_cases, pmax, gmax, A, sample)\n",
    "    push!(test_loss_hist, L_test)\n",
    "    \n",
    "    # Take projected gradient step\n",
    "    η = step_size #* (lag / (lag + sqrt(iter)))\n",
    "    Δ = df + λ*f\n",
    "    #@show norm(Δ)\n",
    "    f̂ = max.(f̂ - η*(Δ/norm(Δ)), 0)\n",
    "end\n",
    "println(\"Completed $(max_iter) iterations.\")"
   ]
  },
  {
   "cell_type": "code",
   "execution_count": null,
   "metadata": {},
   "outputs": [],
   "source": [
    "theme(:default, lw=4, label=nothing)\n",
    "\n",
    "plot(\n",
    "    plot(train_loss_hist, ylabel=\"train loss\"),\n",
    "    plot(test_loss_hist, ylabel=\"test loss\"),\n",
    "    plot(acc_hist, ylabel=\"angle(f, f̂)\"),\n",
    "    layout=(3, 1)\n",
    ")"
   ]
  },
  {
   "cell_type": "code",
   "execution_count": null,
   "metadata": {},
   "outputs": [],
   "source": [
    "@show norm(f̂)\n",
    "@show norm(f)\n",
    "plot(bar(f̂ / norm(f̂)), bar(f/norm(f)), layout=(2, 1))"
   ]
  },
  {
   "cell_type": "code",
   "execution_count": null,
   "metadata": {},
   "outputs": [],
   "source": [
    "merit_order = sortperm(f)\n",
    "est_merit_order = sortperm(f̂)"
   ]
  },
  {
   "cell_type": "code",
   "execution_count": null,
   "metadata": {},
   "outputs": [],
   "source": []
  },
  {
   "cell_type": "markdown",
   "metadata": {},
   "source": [
    "---\n"
   ]
  },
  {
   "cell_type": "code",
   "execution_count": null,
   "metadata": {},
   "outputs": [],
   "source": [
    "Lg, Lp = size(A)"
   ]
  },
  {
   "cell_type": "code",
   "execution_count": null,
   "metadata": {},
   "outputs": [],
   "source": [
    "λpu = rand(Lp);\n",
    "λpl = rand(Lp);\n",
    "λgu = rand(Lg);\n",
    "λgl = rand(Lg);"
   ]
  },
  {
   "cell_type": "code",
   "execution_count": null,
   "metadata": {},
   "outputs": [],
   "source": [
    "K11 = zeros(Lp + Lg, Lp+Lg);\n",
    "K22 = Diagonal(vcat(λpu, λpl, λgu, λgl)); #wrong - you have to take the values\n",
    "K33 = zeros(Lg);\n",
    "\n",
    "K12 = vcat(\n",
    "    hcat(Matrix(I, Lp, Lp), -Matrix(I, Lp, Lp), zeros(Lp, 2*Lg)), \n",
    "    hcat(zeros(Lg, 2*Lp), Matrix(I, Lg, Lg), -Matrix(I, Lg, Lg))\n",
    "    );\n",
    "\n",
    "\n",
    "K13 = vcat(Matrix(I, Lg, Lg), -A');\n",
    "\n",
    "K21 = hcat(\n",
    "    vcat(Diagonal(λpu), -Diagonal(λpl), zeros(2*Lg, Lp)), \n",
    "    vcat(zeros(2*Lp, Lg), Diagonal(λgu), -Diagonal(λgl))\n",
    "    );\n",
    "\n",
    "K = vcat(\n",
    "    hcat(K11, K12, K13), \n",
    "    hcat(K21, K22, zeros(2*(Lp+Lg), Lg)), \n",
    "    hcat(K13', zeros(Lg, 2*(Lp+Lg)+Lg))\n",
    "    );"
   ]
  },
  {
   "cell_type": "markdown",
   "metadata": {},
   "source": [
    "# Comparing jacobians"
   ]
  },
  {
   "cell_type": "code",
   "execution_count": 156,
   "metadata": {},
   "outputs": [],
   "source": [
    "f̂ = rand(Exponential(5), n) .+ 2\n",
    "case = cases[1]\n",
    "params = (f̂, case.d, pmax, gmax, A)\n",
    "opf = PowerManagementProblem(params...)\n",
    "solve!(opf, () -> ECOS.Optimizer(verbose=false), verbose=false)\n",
    "ĝ = evaluate(opf.g);"
   ]
  },
  {
   "cell_type": "code",
   "execution_count": 242,
   "metadata": {},
   "outputs": [],
   "source": [
    "J1, J2 = CarbonNetworks.compare_jacobians(opf, params);"
   ]
  },
  {
   "cell_type": "code",
   "execution_count": 243,
   "metadata": {},
   "outputs": [],
   "source": [
    "J1 = J1';"
   ]
  },
  {
   "cell_type": "code",
   "execution_count": 244,
   "metadata": {},
   "outputs": [
    {
     "data": {
      "text/plain": [
       "32.622906046580304"
      ]
     },
     "execution_count": 244,
     "metadata": {},
     "output_type": "execute_result"
    }
   ],
   "source": [
    "norm(J1 - J2)"
   ]
  },
  {
   "cell_type": "code",
   "execution_count": 234,
   "metadata": {},
   "outputs": [
    {
     "data": {
      "text/plain": [
       "(3, 3)"
      ]
     },
     "execution_count": 234,
     "metadata": {},
     "output_type": "execute_result"
    }
   ],
   "source": [
    "n, m = size(A)"
   ]
  },
  {
   "cell_type": "code",
   "execution_count": 206,
   "metadata": {},
   "outputs": [],
   "source": [
    "#K12\n",
    "JJ1 = J1[1:(m+n), m+n+1:3(m+n)]\n",
    "JJ2 = J2[1:(m+n), m+n+1:3(m+n)];"
   ]
  },
  {
   "cell_type": "code",
   "execution_count": 210,
   "metadata": {},
   "outputs": [],
   "source": [
    "#K13 ==> not symmetric?\n",
    "JJ1 = J1[1:(m+n), 3(m+n)+1:end]\n",
    "JJ2 = J2[1:(m+n), 3(m+n)+1:end];"
   ]
  },
  {
   "cell_type": "code",
   "execution_count": 235,
   "metadata": {},
   "outputs": [],
   "source": [
    "#K21\n",
    "JJ1 = J1[(m+n+1):3(m+n), 1:(m+n)]\n",
    "JJ2 = J2[(m+n+1):3(m+n), 1:(m+n)];"
   ]
  },
  {
   "cell_type": "code",
   "execution_count": 245,
   "metadata": {},
   "outputs": [],
   "source": [
    "#K22\n",
    "JJ1 = J1[(m+n+1):3(m+n), (m+n+1):3(m+n)]\n",
    "JJ2 = J2[(m+n+1):3(m+n), (m+n+1):3(m+n)];"
   ]
  },
  {
   "cell_type": "markdown",
   "metadata": {},
   "source": [
    "A few questions about the structure of the Jacobian: \n",
    "- the central block is not diagonal? \n",
    "- the corner blocks are anti-symmetric?\n",
    "- what is the order in which the derivatives are computed? (i.e. the ordering in the blocks?)"
   ]
  },
  {
   "cell_type": "code",
   "execution_count": 250,
   "metadata": {},
   "outputs": [
    {
     "data": {
      "text/plain": [
       "5×5 Matrix{Float64}:\n",
       " 0.0          0.0         0.0  -0.181415   0.0\n",
       " 0.0          0.0         0.0   0.0       -1.79048\n",
       " 0.0          0.0         0.0   0.0        0.0\n",
       " 2.00502e-8   0.0         0.0   0.0        0.0\n",
       " 0.0         -2.03516e-8  0.0   0.0        0.0"
      ]
     },
     "execution_count": 250,
     "metadata": {},
     "output_type": "execute_result"
    }
   ],
   "source": [
    "JJ1[1:5, 1:5]"
   ]
  },
  {
   "cell_type": "code",
   "execution_count": 256,
   "metadata": {},
   "outputs": [
    {
     "data": {
      "text/plain": [
       "12-element Vector{Float64}:\n",
       "   0.0\n",
       "   0.0\n",
       "   0.0\n",
       "   0.0\n",
       "   0.0\n",
       "   0.0\n",
       " -13.930015241517067\n",
       " -37.38763638200595\n",
       " -32.18299232299253\n",
       "  -0.35941116086532077\n",
       "  -0.2994371120439894\n",
       "  -4.425854530103479"
      ]
     },
     "execution_count": 256,
     "metadata": {},
     "output_type": "execute_result"
    }
   ],
   "source": [
    "diag(JJ1)"
   ]
  },
  {
   "cell_type": "code",
   "execution_count": 251,
   "metadata": {},
   "outputs": [
    {
     "data": {
      "text/plain": [
       "5×5 SparseArrays.SparseMatrixCSC{Float64, Int64} with 5 stored entries:\n",
       " -2.00502e-8   ⋅           ⋅            ⋅          ⋅ \n",
       "   ⋅          2.03516e-8   ⋅            ⋅          ⋅ \n",
       "   ⋅           ⋅          1.62416e-8    ⋅          ⋅ \n",
       "   ⋅           ⋅           ⋅          -0.181415    ⋅ \n",
       "   ⋅           ⋅           ⋅            ⋅        -1.79048"
      ]
     },
     "execution_count": 251,
     "metadata": {},
     "output_type": "execute_result"
    }
   ],
   "source": [
    "JJ2[1:5, 1:5]"
   ]
  },
  {
   "cell_type": "code",
   "execution_count": 211,
   "metadata": {},
   "outputs": [
    {
     "data": {
      "text/plain": [
       "6×3 Matrix{Float64}:\n",
       " 0.0  0.0  0.0\n",
       " 0.0  0.0  0.0\n",
       " 0.0  0.0  0.0\n",
       " 0.0  0.0  0.0\n",
       " 0.0  0.0  0.0\n",
       " 0.0  0.0  0.0"
      ]
     },
     "execution_count": 211,
     "metadata": {},
     "output_type": "execute_result"
    }
   ],
   "source": [
    "JJ1-JJ2"
   ]
  },
  {
   "cell_type": "code",
   "execution_count": 208,
   "metadata": {},
   "outputs": [
    {
     "data": {
      "text/plain": [
       "6×12 SparseArrays.SparseMatrixCSC{Float64, Int64} with 12 stored entries:\n",
       "   ⋅     ⋅     ⋅    ⋅    ⋅    ⋅   -1.0    ⋅     ⋅   1.0   ⋅    ⋅ \n",
       "   ⋅     ⋅     ⋅    ⋅    ⋅    ⋅     ⋅   -1.0    ⋅    ⋅   1.0   ⋅ \n",
       "   ⋅     ⋅     ⋅    ⋅    ⋅    ⋅     ⋅     ⋅   -1.0   ⋅    ⋅   1.0\n",
       " -1.0    ⋅     ⋅   1.0   ⋅    ⋅     ⋅     ⋅     ⋅    ⋅    ⋅    ⋅ \n",
       "   ⋅   -1.0    ⋅    ⋅   1.0   ⋅     ⋅     ⋅     ⋅    ⋅    ⋅    ⋅ \n",
       "   ⋅     ⋅   -1.0   ⋅    ⋅   1.0    ⋅     ⋅     ⋅    ⋅    ⋅    ⋅ "
      ]
     },
     "execution_count": 208,
     "metadata": {},
     "output_type": "execute_result"
    }
   ],
   "source": [
    "JJ2"
   ]
  },
  {
   "cell_type": "code",
   "execution_count": 186,
   "metadata": {},
   "outputs": [
    {
     "data": {
      "text/plain": [
       "0.0"
      ]
     },
     "execution_count": 186,
     "metadata": {},
     "output_type": "execute_result"
    }
   ],
   "source": [
    "maximum(broadcast(abs, JJ1-JJ2))"
   ]
  },
  {
   "cell_type": "code",
   "execution_count": 187,
   "metadata": {},
   "outputs": [
    {
     "data": {
      "text/plain": [
       "6×3 Matrix{Float64}:\n",
       " 0.0  0.0  0.0\n",
       " 0.0  0.0  0.0\n",
       " 0.0  0.0  0.0\n",
       " 0.0  0.0  0.0\n",
       " 0.0  0.0  0.0\n",
       " 0.0  0.0  0.0"
      ]
     },
     "execution_count": 187,
     "metadata": {},
     "output_type": "execute_result"
    }
   ],
   "source": [
    "JJ1-JJ2"
   ]
  },
  {
   "cell_type": "code",
   "execution_count": null,
   "metadata": {},
   "outputs": [],
   "source": []
  }
 ],
 "metadata": {
  "kernelspec": {
   "display_name": "Julia 1.6.0",
   "language": "julia",
   "name": "julia-1.6"
  },
  "language_info": {
   "file_extension": ".jl",
   "mimetype": "application/julia",
   "name": "julia",
   "version": "1.6.0"
  },
  "toc": {
   "base_numbering": 1,
   "nav_menu": {},
   "number_sections": true,
   "sideBar": true,
   "skip_h1_title": false,
   "title_cell": "Table of Contents",
   "title_sidebar": "Contents",
   "toc_cell": true,
   "toc_position": {
    "height": "calc(100% - 180px)",
    "left": "10px",
    "top": "150px",
    "width": "165px"
   },
   "toc_section_display": true,
   "toc_window_display": true
  },
  "varInspector": {
   "cols": {
    "lenName": 16,
    "lenType": 16,
    "lenVar": 40
   },
   "kernels_config": {
    "python": {
     "delete_cmd_postfix": "",
     "delete_cmd_prefix": "del ",
     "library": "var_list.py",
     "varRefreshCmd": "print(var_dic_list())"
    },
    "r": {
     "delete_cmd_postfix": ") ",
     "delete_cmd_prefix": "rm(",
     "library": "var_list.r",
     "varRefreshCmd": "cat(var_dic_list()) "
    }
   },
   "types_to_exclude": [
    "module",
    "function",
    "builtin_function_or_method",
    "instance",
    "_Feature"
   ],
   "window_display": false
  }
 },
 "nbformat": 4,
 "nbformat_minor": 5
}
