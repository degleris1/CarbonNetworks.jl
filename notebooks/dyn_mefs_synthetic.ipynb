{
 "cells": [
  {
   "cell_type": "markdown",
   "id": "amazing-failure",
   "metadata": {
    "toc": true
   },
   "source": [
    "<h1>Table of Contents<span class=\"tocSkip\"></span></h1>\n",
    "<div class=\"toc\"><ul class=\"toc-item\"><li><span><a href=\"#Generate-some-random-data\" data-toc-modified-id=\"Generate-some-random-data-1\"><span class=\"toc-item-num\">1&nbsp;&nbsp;</span>Generate some random data</a></span></li><li><span><a href=\"#Solve-the-carbon-management-problem\" data-toc-modified-id=\"Solve-the-carbon-management-problem-2\"><span class=\"toc-item-num\">2&nbsp;&nbsp;</span>Solve the carbon management problem</a></span></li><li><span><a href=\"#Test-the-dynamic-network\" data-toc-modified-id=\"Test-the-dynamic-network-3\"><span class=\"toc-item-num\">3&nbsp;&nbsp;</span>Test the dynamic network</a></span><ul class=\"toc-item\"><li><span><a href=\"#One-single-timestep,-with-no-battery-capacity\" data-toc-modified-id=\"One-single-timestep,-with-no-battery-capacity-3.1\"><span class=\"toc-item-num\">3.1&nbsp;&nbsp;</span>One single timestep, with no battery capacity</a></span><ul class=\"toc-item\"><li><span><a href=\"#Comparing-with-a-static-network-problem-+-comparing-the-dual-variables\" data-toc-modified-id=\"Comparing-with-a-static-network-problem-+-comparing-the-dual-variables-3.1.1\"><span class=\"toc-item-num\">3.1.1&nbsp;&nbsp;</span>Comparing with a static network problem + comparing the dual variables</a></span></li></ul></li><li><span><a href=\"#Several-timesteps,-with-no-battery-capacity\" data-toc-modified-id=\"Several-timesteps,-with-no-battery-capacity-3.2\"><span class=\"toc-item-num\">3.2&nbsp;&nbsp;</span>Several timesteps, with no battery capacity</a></span><ul class=\"toc-item\"><li><span><a href=\"#Looking-for-indices-where-KKT-\\neq-0\" data-toc-modified-id=\"Looking-for-indices-where-KKT-\\neq-0-3.2.1\"><span class=\"toc-item-num\">3.2.1&nbsp;&nbsp;</span>Looking for indices where <code>KKT \\neq 0</code></a></span></li></ul></li><li><span><a href=\"#Several-timesteps,-with-battery-capacity\" data-toc-modified-id=\"Several-timesteps,-with-battery-capacity-3.3\"><span class=\"toc-item-num\">3.3&nbsp;&nbsp;</span>Several timesteps, with battery capacity</a></span></li><li><span><a href=\"#Several-timesteps,-with-battery-capacity-and-varying-demand\" data-toc-modified-id=\"Several-timesteps,-with-battery-capacity-and-varying-demand-3.4\"><span class=\"toc-item-num\">3.4&nbsp;&nbsp;</span>Several timesteps, with battery capacity and varying demand</a></span></li></ul></li><li><span><a href=\"#Computing-the-KKTs-and-the-Jacobian\" data-toc-modified-id=\"Computing-the-KKTs-and-the-Jacobian-4\"><span class=\"toc-item-num\">4&nbsp;&nbsp;</span>Computing the KKTs and the Jacobian</a></span><ul class=\"toc-item\"><li><span><a href=\"#Figuring-out-the-order-of-constraints/variables\" data-toc-modified-id=\"Figuring-out-the-order-of-constraints/variables-4.1\"><span class=\"toc-item-num\">4.1&nbsp;&nbsp;</span>Figuring out the order of constraints/variables</a></span><ul class=\"toc-item\"><li><span><a href=\"#Looking-for-indices-where-KKT-\\neq-0\" data-toc-modified-id=\"Looking-for-indices-where-KKT-\\neq-0-4.1.1\"><span class=\"toc-item-num\">4.1.1&nbsp;&nbsp;</span>Looking for indices where <code>KKT \\neq 0</code></a></span></li></ul></li><li><span><a href=\"#Test-current-functions\" data-toc-modified-id=\"Test-current-functions-4.2\"><span class=\"toc-item-num\">4.2&nbsp;&nbsp;</span>Test current functions</a></span><ul class=\"toc-item\"><li><span><a href=\"#Primal-variables-extracted-properly?\" data-toc-modified-id=\"Primal-variables-extracted-properly?-4.2.1\"><span class=\"toc-item-num\">4.2.1&nbsp;&nbsp;</span>Primal variables extracted properly?</a></span></li><li><span><a href=\"#Dual-variables-extracted-properly?\" data-toc-modified-id=\"Dual-variables-extracted-properly?-4.2.2\"><span class=\"toc-item-num\">4.2.2&nbsp;&nbsp;</span>Dual variables extracted properly?</a></span></li></ul></li></ul></li><li><span><a href=\"#Sensitivity-demand-checks\" data-toc-modified-id=\"Sensitivity-demand-checks-5\"><span class=\"toc-item-num\">5&nbsp;&nbsp;</span>Sensitivity demand checks</a></span><ul class=\"toc-item\"><li><span><a href=\"#One-timestep---no-storage-capacity\" data-toc-modified-id=\"One-timestep---no-storage-capacity-5.1\"><span class=\"toc-item-num\">5.1&nbsp;&nbsp;</span>One timestep - no storage capacity</a></span><ul class=\"toc-item\"><li><span><a href=\"#Comparing-static-vs-dynamic-mefs\" data-toc-modified-id=\"Comparing-static-vs-dynamic-mefs-5.1.1\"><span class=\"toc-item-num\">5.1.1&nbsp;&nbsp;</span>Comparing static vs dynamic mefs</a></span></li><li><span><a href=\"#Comparing-with-dual-variables\" data-toc-modified-id=\"Comparing-with-dual-variables-5.1.2\"><span class=\"toc-item-num\">5.1.2&nbsp;&nbsp;</span>Comparing with dual variables</a></span></li><li><span><a href=\"#Comparing-solutions\" data-toc-modified-id=\"Comparing-solutions-5.1.3\"><span class=\"toc-item-num\">5.1.3&nbsp;&nbsp;</span>Comparing solutions</a></span></li></ul></li><li><span><a href=\"#Several-timesteps-with-no-storage-capacity\" data-toc-modified-id=\"Several-timesteps-with-no-storage-capacity-5.2\"><span class=\"toc-item-num\">5.2&nbsp;&nbsp;</span>Several timesteps with no storage capacity</a></span><ul class=\"toc-item\"><li><span><a href=\"#Comparing-static-vs-dynamic\" data-toc-modified-id=\"Comparing-static-vs-dynamic-5.2.1\"><span class=\"toc-item-num\">5.2.1&nbsp;&nbsp;</span>Comparing static vs dynamic</a></span></li><li><span><a href=\"#Comparing-with-dual-variables\" data-toc-modified-id=\"Comparing-with-dual-variables-5.2.2\"><span class=\"toc-item-num\">5.2.2&nbsp;&nbsp;</span>Comparing with dual variables</a></span></li><li><span><a href=\"#With-the-compute_mefs-routine\" data-toc-modified-id=\"With-the-compute_mefs-routine-5.2.3\"><span class=\"toc-item-num\">5.2.3&nbsp;&nbsp;</span>With the <code>compute_mefs</code> routine</a></span></li></ul></li></ul></li><li><span><a href=\"#Verifying-sensitivity-computation\" data-toc-modified-id=\"Verifying-sensitivity-computation-6\"><span class=\"toc-item-num\">6&nbsp;&nbsp;</span>Verifying sensitivity computation</a></span><ul class=\"toc-item\"><li><span><a href=\"#Procedure\" data-toc-modified-id=\"Procedure-6.1\"><span class=\"toc-item-num\">6.1&nbsp;&nbsp;</span>Procedure</a></span></li><li><span><a href=\"#Implementation\" data-toc-modified-id=\"Implementation-6.2\"><span class=\"toc-item-num\">6.2&nbsp;&nbsp;</span>Implementation</a></span></li></ul></li><li><span><a href=\"#Plot-results\" data-toc-modified-id=\"Plot-results-7\"><span class=\"toc-item-num\">7&nbsp;&nbsp;</span>Plot results</a></span><ul class=\"toc-item\"><li><span><a href=\"#Plot-demand,-generation,-and-LMPs\" data-toc-modified-id=\"Plot-demand,-generation,-and-LMPs-7.1\"><span class=\"toc-item-num\">7.1&nbsp;&nbsp;</span>Plot demand, generation, and LMPs</a></span></li><li><span><a href=\"#Plot-carbon-LMPs\" data-toc-modified-id=\"Plot-carbon-LMPs-7.2\"><span class=\"toc-item-num\">7.2&nbsp;&nbsp;</span>Plot carbon LMPs</a></span></li></ul></li><li><span><a href=\"#Implicit-diff\" data-toc-modified-id=\"Implicit-diff-8\"><span class=\"toc-item-num\">8&nbsp;&nbsp;</span>Implicit diff</a></span></li><li><span><a href=\"#Compute-MEFs-via-regression\" data-toc-modified-id=\"Compute-MEFs-via-regression-9\"><span class=\"toc-item-num\">9&nbsp;&nbsp;</span>Compute MEFs via regression</a></span></li></ul></div>"
   ]
  },
  {
   "cell_type": "code",
   "execution_count": 1,
   "id": "geological-stranger",
   "metadata": {},
   "outputs": [
    {
     "data": {
      "text/plain": [
       "#1 (generic function with 1 method)"
      ]
     },
     "execution_count": 1,
     "metadata": {},
     "output_type": "execute_result"
    }
   ],
   "source": [
    "using Pkg; Pkg.activate()\n",
    "\n",
    "using Plots\n",
    "using Convex, ECOS  # Convex modeling and solver\n",
    "using Distributions, Random  # Seeds and sampling\n",
    "using LightGraphs  # Generating nice random graphs\n",
    "using GraphPlot, Colors  # For plotting\n",
    "using SparseArrays\n",
    "\n",
    "OPT = () -> ECOS.Optimizer(verbose=false)"
   ]
  },
  {
   "cell_type": "code",
   "execution_count": 2,
   "id": "single-wrist",
   "metadata": {},
   "outputs": [
    {
     "name": "stderr",
     "output_type": "stream",
     "text": [
      "┌ Info: Precompiling CarbonNetworks [d5dced0a-5569-40db-8865-1dbf132a76f2]\n",
      "└ @ Base loading.jl:1317\n",
      "\u001b[33m\u001b[1m┌ \u001b[22m\u001b[39m\u001b[33m\u001b[1mWarning: \u001b[22m\u001b[39mPackage CarbonNetworks does not have Plots in its dependencies:\n",
      "\u001b[33m\u001b[1m│ \u001b[22m\u001b[39m- If you have CarbonNetworks checked out for development and have\n",
      "\u001b[33m\u001b[1m│ \u001b[22m\u001b[39m  added Plots as a dependency but haven't updated your primary\n",
      "\u001b[33m\u001b[1m│ \u001b[22m\u001b[39m  environment's manifest file, try `Pkg.resolve()`.\n",
      "\u001b[33m\u001b[1m│ \u001b[22m\u001b[39m- Otherwise you may need to report an issue with CarbonNetworks\n",
      "\u001b[33m\u001b[1m└ \u001b[22m\u001b[39mLoading Plots into CarbonNetworks from project dependency, future warnings for CarbonNetworks are suppressed.\n"
     ]
    }
   ],
   "source": [
    "using Revise\n",
    "using CarbonNetworks"
   ]
  },
  {
   "cell_type": "markdown",
   "id": "municipal-intervention",
   "metadata": {},
   "source": [
    "# Generate some random data"
   ]
  },
  {
   "cell_type": "code",
   "execution_count": 3,
   "id": "electoral-medline",
   "metadata": {},
   "outputs": [
    {
     "data": {
      "image/svg+xml": [
       "<?xml version=\"1.0\" encoding=\"UTF-8\"?>\n",
       "<svg xmlns=\"http://www.w3.org/2000/svg\"\n",
       "     xmlns:xlink=\"http://www.w3.org/1999/xlink\"\n",
       "     version=\"1.2\"\n",
       "     width=\"141.42mm\" height=\"100mm\" viewBox=\"0 0 141.42 100\"\n",
       "     stroke=\"none\"\n",
       "     fill=\"#000000\"\n",
       "     stroke-width=\"0.3\"\n",
       "     font-size=\"3.88\"\n",
       ">\n",
       "<defs>\n",
       "  <marker id=\"arrow\" markerWidth=\"15\" markerHeight=\"7\" refX=\"5\" refY=\"3.5\" orient=\"auto\" markerUnits=\"strokeWidth\">\n",
       "    <path d=\"M0,0 L15,3.5 L0,7 z\" stroke=\"context-stroke\" fill=\"context-stroke\"/>\n",
       "  </marker>\n",
       "</defs>\n",
       "<g fill=\"#000000\" fill-opacity=\"0.000\" stroke=\"#D3D3D3\" id=\"img-a076a7b6-1\">\n",
       "  <g transform=\"translate(71.19,61.98)\" stroke-width=\"0.31\">\n",
       "    <path fill=\"none\" d=\"M-53.89,26.93 L53.89,-26.93 \" class=\"primitive\"/>\n",
       "  </g>\n",
       "  <g transform=\"translate(63.78,85.01)\" stroke-width=\"1.5\">\n",
       "    <path fill=\"none\" d=\"M-45.35,5.81 L45.35,-5.81 \" class=\"primitive\"/>\n",
       "  </g>\n",
       "  <g transform=\"translate(83.37,20.77)\" stroke-width=\"0.27\">\n",
       "    <path fill=\"none\" d=\"M41.02,10.64 L-41.02,-10.64 \" class=\"primitive\"/>\n",
       "  </g>\n",
       "  <g transform=\"translate(75.68,43.73)\" stroke-width=\"0.36\">\n",
       "    <path fill=\"none\" d=\"M-35.63,-31.34 L35.63,31.34 \" class=\"primitive\"/>\n",
       "  </g>\n",
       "</g>\n",
       "<g stroke=\"#D3D3D3\" id=\"img-a076a7b6-2\">\n",
       "</g>\n",
       "<g font-size=\"4\" stroke=\"#000000\" stroke-opacity=\"0.000\" fill=\"#000000\" id=\"img-a076a7b6-3\">\n",
       "</g>\n",
       "<g stroke-width=\"0\" stroke=\"#000000\" stroke-opacity=\"0.000\" id=\"img-a076a7b6-4\">\n",
       "  <g transform=\"translate(11.79,91.67)\" fill=\"#FF0000\">\n",
       "    <circle cx=\"0\" cy=\"0\" r=\"6.48\" class=\"primitive\"/>\n",
       "  </g>\n",
       "  <g transform=\"translate(129.64,32.77)\" fill=\"#B92300\">\n",
       "    <circle cx=\"0\" cy=\"0\" r=\"5.36\" class=\"primitive\"/>\n",
       "  </g>\n",
       "  <g transform=\"translate(35.44,8.33)\" fill=\"#774400\">\n",
       "    <circle cx=\"0\" cy=\"0\" r=\"7.07\" class=\"primitive\"/>\n",
       "  </g>\n",
       "  <g transform=\"translate(115.13,78.43)\" fill=\"#CE1900\">\n",
       "    <circle cx=\"0\" cy=\"0\" r=\"5.86\" class=\"primitive\"/>\n",
       "  </g>\n",
       "</g>\n",
       "<g font-size=\"4\" stroke=\"#000000\" stroke-opacity=\"0.000\" fill=\"#000000\" id=\"img-a076a7b6-5\">\n",
       "</g>\n",
       "</svg>\n"
      ],
      "text/html": [
       "<?xml version=\"1.0\" encoding=\"UTF-8\"?>\n",
       "<svg xmlns=\"http://www.w3.org/2000/svg\"\n",
       "     xmlns:xlink=\"http://www.w3.org/1999/xlink\"\n",
       "     version=\"1.2\"\n",
       "     width=\"141.42mm\" height=\"100mm\" viewBox=\"0 0 141.42 100\"\n",
       "     stroke=\"none\"\n",
       "     fill=\"#000000\"\n",
       "     stroke-width=\"0.3\"\n",
       "     font-size=\"3.88\"\n",
       "\n",
       "     id=\"img-5c44ebd6\">\n",
       "<defs>\n",
       "  <marker id=\"arrow\" markerWidth=\"15\" markerHeight=\"7\" refX=\"5\" refY=\"3.5\" orient=\"auto\" markerUnits=\"strokeWidth\">\n",
       "    <path d=\"M0,0 L15,3.5 L0,7 z\" stroke=\"context-stroke\" fill=\"context-stroke\"/>\n",
       "  </marker>\n",
       "</defs>\n",
       "<g fill=\"#000000\" fill-opacity=\"0.000\" stroke=\"#D3D3D3\" id=\"img-5c44ebd6-1\">\n",
       "  <g transform=\"translate(71.19,61.98)\" stroke-width=\"0.31\">\n",
       "    <path fill=\"none\" d=\"M-53.89,26.93 L53.89,-26.93 \" class=\"primitive\"/>\n",
       "  </g>\n",
       "  <g transform=\"translate(63.78,85.01)\" stroke-width=\"1.5\">\n",
       "    <path fill=\"none\" d=\"M-45.35,5.81 L45.35,-5.81 \" class=\"primitive\"/>\n",
       "  </g>\n",
       "  <g transform=\"translate(83.37,20.77)\" stroke-width=\"0.27\">\n",
       "    <path fill=\"none\" d=\"M41.02,10.64 L-41.02,-10.64 \" class=\"primitive\"/>\n",
       "  </g>\n",
       "  <g transform=\"translate(75.68,43.73)\" stroke-width=\"0.36\">\n",
       "    <path fill=\"none\" d=\"M-35.63,-31.34 L35.63,31.34 \" class=\"primitive\"/>\n",
       "  </g>\n",
       "</g>\n",
       "<g stroke=\"#D3D3D3\" id=\"img-5c44ebd6-2\">\n",
       "</g>\n",
       "<g font-size=\"4\" stroke=\"#000000\" stroke-opacity=\"0.000\" fill=\"#000000\" id=\"img-5c44ebd6-3\">\n",
       "</g>\n",
       "<g stroke-width=\"0\" stroke=\"#000000\" stroke-opacity=\"0.000\" id=\"img-5c44ebd6-4\">\n",
       "  <g transform=\"translate(11.79,91.67)\" fill=\"#FF0000\">\n",
       "    <circle cx=\"0\" cy=\"0\" r=\"6.48\" class=\"primitive\"/>\n",
       "  </g>\n",
       "  <g transform=\"translate(129.64,32.77)\" fill=\"#B92300\">\n",
       "    <circle cx=\"0\" cy=\"0\" r=\"5.36\" class=\"primitive\"/>\n",
       "  </g>\n",
       "  <g transform=\"translate(35.44,8.33)\" fill=\"#774400\">\n",
       "    <circle cx=\"0\" cy=\"0\" r=\"7.07\" class=\"primitive\"/>\n",
       "  </g>\n",
       "  <g transform=\"translate(115.13,78.43)\" fill=\"#CE1900\">\n",
       "    <circle cx=\"0\" cy=\"0\" r=\"5.86\" class=\"primitive\"/>\n",
       "  </g>\n",
       "</g>\n",
       "<g font-size=\"4\" stroke=\"#000000\" stroke-opacity=\"0.000\" fill=\"#000000\" id=\"img-5c44ebd6-5\">\n",
       "</g>\n",
       "<script> <![CDATA[\n",
       "(function(N){var k=/[\\.\\/]/,L=/\\s*,\\s*/,C=function(a,d){return a-d},a,v,y={n:{}},M=function(){for(var a=0,d=this.length;a<d;a++)if(\"undefined\"!=typeof this[a])return this[a]},A=function(){for(var a=this.length;--a;)if(\"undefined\"!=typeof this[a])return this[a]},w=function(k,d){k=String(k);var f=v,n=Array.prototype.slice.call(arguments,2),u=w.listeners(k),p=0,b,q=[],e={},l=[],r=a;l.firstDefined=M;l.lastDefined=A;a=k;for(var s=v=0,x=u.length;s<x;s++)\"zIndex\"in u[s]&&(q.push(u[s].zIndex),0>u[s].zIndex&&\n",
       "(e[u[s].zIndex]=u[s]));for(q.sort(C);0>q[p];)if(b=e[q[p++] ],l.push(b.apply(d,n)),v)return v=f,l;for(s=0;s<x;s++)if(b=u[s],\"zIndex\"in b)if(b.zIndex==q[p]){l.push(b.apply(d,n));if(v)break;do if(p++,(b=e[q[p] ])&&l.push(b.apply(d,n)),v)break;while(b)}else e[b.zIndex]=b;else if(l.push(b.apply(d,n)),v)break;v=f;a=r;return l};w._events=y;w.listeners=function(a){a=a.split(k);var d=y,f,n,u,p,b,q,e,l=[d],r=[];u=0;for(p=a.length;u<p;u++){e=[];b=0;for(q=l.length;b<q;b++)for(d=l[b].n,f=[d[a[u] ],d[\"*\"] ],n=2;n--;)if(d=\n",
       "f[n])e.push(d),r=r.concat(d.f||[]);l=e}return r};w.on=function(a,d){a=String(a);if(\"function\"!=typeof d)return function(){};for(var f=a.split(L),n=0,u=f.length;n<u;n++)(function(a){a=a.split(k);for(var b=y,f,e=0,l=a.length;e<l;e++)b=b.n,b=b.hasOwnProperty(a[e])&&b[a[e] ]||(b[a[e] ]={n:{}});b.f=b.f||[];e=0;for(l=b.f.length;e<l;e++)if(b.f[e]==d){f=!0;break}!f&&b.f.push(d)})(f[n]);return function(a){+a==+a&&(d.zIndex=+a)}};w.f=function(a){var d=[].slice.call(arguments,1);return function(){w.apply(null,\n",
       "[a,null].concat(d).concat([].slice.call(arguments,0)))}};w.stop=function(){v=1};w.nt=function(k){return k?(new RegExp(\"(?:\\\\.|\\\\/|^)\"+k+\"(?:\\\\.|\\\\/|$)\")).test(a):a};w.nts=function(){return a.split(k)};w.off=w.unbind=function(a,d){if(a){var f=a.split(L);if(1<f.length)for(var n=0,u=f.length;n<u;n++)w.off(f[n],d);else{for(var f=a.split(k),p,b,q,e,l=[y],n=0,u=f.length;n<u;n++)for(e=0;e<l.length;e+=q.length-2){q=[e,1];p=l[e].n;if(\"*\"!=f[n])p[f[n] ]&&q.push(p[f[n] ]);else for(b in p)p.hasOwnProperty(b)&&\n",
       "q.push(p[b]);l.splice.apply(l,q)}n=0;for(u=l.length;n<u;n++)for(p=l[n];p.n;){if(d){if(p.f){e=0;for(f=p.f.length;e<f;e++)if(p.f[e]==d){p.f.splice(e,1);break}!p.f.length&&delete p.f}for(b in p.n)if(p.n.hasOwnProperty(b)&&p.n[b].f){q=p.n[b].f;e=0;for(f=q.length;e<f;e++)if(q[e]==d){q.splice(e,1);break}!q.length&&delete p.n[b].f}}else for(b in delete p.f,p.n)p.n.hasOwnProperty(b)&&p.n[b].f&&delete p.n[b].f;p=p.n}}}else w._events=y={n:{}}};w.once=function(a,d){var f=function(){w.unbind(a,f);return d.apply(this,\n",
       "arguments)};return w.on(a,f)};w.version=\"0.4.2\";w.toString=function(){return\"You are running Eve 0.4.2\"};\"undefined\"!=typeof module&&module.exports?module.exports=w:\"function\"===typeof define&&define.amd?define(\"eve\",[],function(){return w}):N.eve=w})(this);\n",
       "(function(N,k){\"function\"===typeof define&&define.amd?define(\"Snap.svg\",[\"eve\"],function(L){return k(N,L)}):k(N,N.eve)})(this,function(N,k){var L=function(a){var k={},y=N.requestAnimationFrame||N.webkitRequestAnimationFrame||N.mozRequestAnimationFrame||N.oRequestAnimationFrame||N.msRequestAnimationFrame||function(a){setTimeout(a,16)},M=Array.isArray||function(a){return a instanceof Array||\"[object Array]\"==Object.prototype.toString.call(a)},A=0,w=\"M\"+(+new Date).toString(36),z=function(a){if(null==\n",
       "a)return this.s;var b=this.s-a;this.b+=this.dur*b;this.B+=this.dur*b;this.s=a},d=function(a){if(null==a)return this.spd;this.spd=a},f=function(a){if(null==a)return this.dur;this.s=this.s*a/this.dur;this.dur=a},n=function(){delete k[this.id];this.update();a(\"mina.stop.\"+this.id,this)},u=function(){this.pdif||(delete k[this.id],this.update(),this.pdif=this.get()-this.b)},p=function(){this.pdif&&(this.b=this.get()-this.pdif,delete this.pdif,k[this.id]=this)},b=function(){var a;if(M(this.start)){a=[];\n",
       "for(var b=0,e=this.start.length;b<e;b++)a[b]=+this.start[b]+(this.end[b]-this.start[b])*this.easing(this.s)}else a=+this.start+(this.end-this.start)*this.easing(this.s);this.set(a)},q=function(){var l=0,b;for(b in k)if(k.hasOwnProperty(b)){var e=k[b],f=e.get();l++;e.s=(f-e.b)/(e.dur/e.spd);1<=e.s&&(delete k[b],e.s=1,l--,function(b){setTimeout(function(){a(\"mina.finish.\"+b.id,b)})}(e));e.update()}l&&y(q)},e=function(a,r,s,x,G,h,J){a={id:w+(A++).toString(36),start:a,end:r,b:s,s:0,dur:x-s,spd:1,get:G,\n",
       "set:h,easing:J||e.linear,status:z,speed:d,duration:f,stop:n,pause:u,resume:p,update:b};k[a.id]=a;r=0;for(var K in k)if(k.hasOwnProperty(K)&&(r++,2==r))break;1==r&&y(q);return a};e.time=Date.now||function(){return+new Date};e.getById=function(a){return k[a]||null};e.linear=function(a){return a};e.easeout=function(a){return Math.pow(a,1.7)};e.easein=function(a){return Math.pow(a,0.48)};e.easeinout=function(a){if(1==a)return 1;if(0==a)return 0;var b=0.48-a/1.04,e=Math.sqrt(0.1734+b*b);a=e-b;a=Math.pow(Math.abs(a),\n",
       "1/3)*(0>a?-1:1);b=-e-b;b=Math.pow(Math.abs(b),1/3)*(0>b?-1:1);a=a+b+0.5;return 3*(1-a)*a*a+a*a*a};e.backin=function(a){return 1==a?1:a*a*(2.70158*a-1.70158)};e.backout=function(a){if(0==a)return 0;a-=1;return a*a*(2.70158*a+1.70158)+1};e.elastic=function(a){return a==!!a?a:Math.pow(2,-10*a)*Math.sin(2*(a-0.075)*Math.PI/0.3)+1};e.bounce=function(a){a<1/2.75?a*=7.5625*a:a<2/2.75?(a-=1.5/2.75,a=7.5625*a*a+0.75):a<2.5/2.75?(a-=2.25/2.75,a=7.5625*a*a+0.9375):(a-=2.625/2.75,a=7.5625*a*a+0.984375);return a};\n",
       "return N.mina=e}(\"undefined\"==typeof k?function(){}:k),C=function(){function a(c,t){if(c){if(c.tagName)return x(c);if(y(c,\"array\")&&a.set)return a.set.apply(a,c);if(c instanceof e)return c;if(null==t)return c=G.doc.querySelector(c),x(c)}return new s(null==c?\"100%\":c,null==t?\"100%\":t)}function v(c,a){if(a){\"#text\"==c&&(c=G.doc.createTextNode(a.text||\"\"));\"string\"==typeof c&&(c=v(c));if(\"string\"==typeof a)return\"xlink:\"==a.substring(0,6)?c.getAttributeNS(m,a.substring(6)):\"xml:\"==a.substring(0,4)?c.getAttributeNS(la,\n",
       "a.substring(4)):c.getAttribute(a);for(var da in a)if(a[h](da)){var b=J(a[da]);b?\"xlink:\"==da.substring(0,6)?c.setAttributeNS(m,da.substring(6),b):\"xml:\"==da.substring(0,4)?c.setAttributeNS(la,da.substring(4),b):c.setAttribute(da,b):c.removeAttribute(da)}}else c=G.doc.createElementNS(la,c);return c}function y(c,a){a=J.prototype.toLowerCase.call(a);return\"finite\"==a?isFinite(c):\"array\"==a&&(c instanceof Array||Array.isArray&&Array.isArray(c))?!0:\"null\"==a&&null===c||a==typeof c&&null!==c||\"object\"==\n",
       "a&&c===Object(c)||$.call(c).slice(8,-1).toLowerCase()==a}function M(c){if(\"function\"==typeof c||Object(c)!==c)return c;var a=new c.constructor,b;for(b in c)c[h](b)&&(a[b]=M(c[b]));return a}function A(c,a,b){function m(){var e=Array.prototype.slice.call(arguments,0),f=e.join(\"\\u2400\"),d=m.cache=m.cache||{},l=m.count=m.count||[];if(d[h](f)){a:for(var e=l,l=f,B=0,H=e.length;B<H;B++)if(e[B]===l){e.push(e.splice(B,1)[0]);break a}return b?b(d[f]):d[f]}1E3<=l.length&&delete d[l.shift()];l.push(f);d[f]=c.apply(a,\n",
       "e);return b?b(d[f]):d[f]}return m}function w(c,a,b,m,e,f){return null==e?(c-=b,a-=m,c||a?(180*I.atan2(-a,-c)/C+540)%360:0):w(c,a,e,f)-w(b,m,e,f)}function z(c){return c%360*C/180}function d(c){var a=[];c=c.replace(/(?:^|\\s)(\\w+)\\(([^)]+)\\)/g,function(c,b,m){m=m.split(/\\s*,\\s*|\\s+/);\"rotate\"==b&&1==m.length&&m.push(0,0);\"scale\"==b&&(2<m.length?m=m.slice(0,2):2==m.length&&m.push(0,0),1==m.length&&m.push(m[0],0,0));\"skewX\"==b?a.push([\"m\",1,0,I.tan(z(m[0])),1,0,0]):\"skewY\"==b?a.push([\"m\",1,I.tan(z(m[0])),\n",
       "0,1,0,0]):a.push([b.charAt(0)].concat(m));return c});return a}function f(c,t){var b=O(c),m=new a.Matrix;if(b)for(var e=0,f=b.length;e<f;e++){var h=b[e],d=h.length,B=J(h[0]).toLowerCase(),H=h[0]!=B,l=H?m.invert():0,E;\"t\"==B&&2==d?m.translate(h[1],0):\"t\"==B&&3==d?H?(d=l.x(0,0),B=l.y(0,0),H=l.x(h[1],h[2]),l=l.y(h[1],h[2]),m.translate(H-d,l-B)):m.translate(h[1],h[2]):\"r\"==B?2==d?(E=E||t,m.rotate(h[1],E.x+E.width/2,E.y+E.height/2)):4==d&&(H?(H=l.x(h[2],h[3]),l=l.y(h[2],h[3]),m.rotate(h[1],H,l)):m.rotate(h[1],\n",
       "h[2],h[3])):\"s\"==B?2==d||3==d?(E=E||t,m.scale(h[1],h[d-1],E.x+E.width/2,E.y+E.height/2)):4==d?H?(H=l.x(h[2],h[3]),l=l.y(h[2],h[3]),m.scale(h[1],h[1],H,l)):m.scale(h[1],h[1],h[2],h[3]):5==d&&(H?(H=l.x(h[3],h[4]),l=l.y(h[3],h[4]),m.scale(h[1],h[2],H,l)):m.scale(h[1],h[2],h[3],h[4])):\"m\"==B&&7==d&&m.add(h[1],h[2],h[3],h[4],h[5],h[6])}return m}function n(c,t){if(null==t){var m=!0;t=\"linearGradient\"==c.type||\"radialGradient\"==c.type?c.node.getAttribute(\"gradientTransform\"):\"pattern\"==c.type?c.node.getAttribute(\"patternTransform\"):\n",
       "c.node.getAttribute(\"transform\");if(!t)return new a.Matrix;t=d(t)}else t=a._.rgTransform.test(t)?J(t).replace(/\\.{3}|\\u2026/g,c._.transform||aa):d(t),y(t,\"array\")&&(t=a.path?a.path.toString.call(t):J(t)),c._.transform=t;var b=f(t,c.getBBox(1));if(m)return b;c.matrix=b}function u(c){c=c.node.ownerSVGElement&&x(c.node.ownerSVGElement)||c.node.parentNode&&x(c.node.parentNode)||a.select(\"svg\")||a(0,0);var t=c.select(\"defs\"),t=null==t?!1:t.node;t||(t=r(\"defs\",c.node).node);return t}function p(c){return c.node.ownerSVGElement&&\n",
       "x(c.node.ownerSVGElement)||a.select(\"svg\")}function b(c,a,m){function b(c){if(null==c)return aa;if(c==+c)return c;v(B,{width:c});try{return B.getBBox().width}catch(a){return 0}}function h(c){if(null==c)return aa;if(c==+c)return c;v(B,{height:c});try{return B.getBBox().height}catch(a){return 0}}function e(b,B){null==a?d[b]=B(c.attr(b)||0):b==a&&(d=B(null==m?c.attr(b)||0:m))}var f=p(c).node,d={},B=f.querySelector(\".svg---mgr\");B||(B=v(\"rect\"),v(B,{x:-9E9,y:-9E9,width:10,height:10,\"class\":\"svg---mgr\",\n",
       "fill:\"none\"}),f.appendChild(B));switch(c.type){case \"rect\":e(\"rx\",b),e(\"ry\",h);case \"image\":e(\"width\",b),e(\"height\",h);case \"text\":e(\"x\",b);e(\"y\",h);break;case \"circle\":e(\"cx\",b);e(\"cy\",h);e(\"r\",b);break;case \"ellipse\":e(\"cx\",b);e(\"cy\",h);e(\"rx\",b);e(\"ry\",h);break;case \"line\":e(\"x1\",b);e(\"x2\",b);e(\"y1\",h);e(\"y2\",h);break;case \"marker\":e(\"refX\",b);e(\"markerWidth\",b);e(\"refY\",h);e(\"markerHeight\",h);break;case \"radialGradient\":e(\"fx\",b);e(\"fy\",h);break;case \"tspan\":e(\"dx\",b);e(\"dy\",h);break;default:e(a,\n",
       "b)}f.removeChild(B);return d}function q(c){y(c,\"array\")||(c=Array.prototype.slice.call(arguments,0));for(var a=0,b=0,m=this.node;this[a];)delete this[a++];for(a=0;a<c.length;a++)\"set\"==c[a].type?c[a].forEach(function(c){m.appendChild(c.node)}):m.appendChild(c[a].node);for(var h=m.childNodes,a=0;a<h.length;a++)this[b++]=x(h[a]);return this}function e(c){if(c.snap in E)return E[c.snap];var a=this.id=V(),b;try{b=c.ownerSVGElement}catch(m){}this.node=c;b&&(this.paper=new s(b));this.type=c.tagName;this.anims=\n",
       "{};this._={transform:[]};c.snap=a;E[a]=this;\"g\"==this.type&&(this.add=q);if(this.type in{g:1,mask:1,pattern:1})for(var e in s.prototype)s.prototype[h](e)&&(this[e]=s.prototype[e])}function l(c){this.node=c}function r(c,a){var b=v(c);a.appendChild(b);return x(b)}function s(c,a){var b,m,f,d=s.prototype;if(c&&\"svg\"==c.tagName){if(c.snap in E)return E[c.snap];var l=c.ownerDocument;b=new e(c);m=c.getElementsByTagName(\"desc\")[0];f=c.getElementsByTagName(\"defs\")[0];m||(m=v(\"desc\"),m.appendChild(l.createTextNode(\"Created with Snap\")),\n",
       "b.node.appendChild(m));f||(f=v(\"defs\"),b.node.appendChild(f));b.defs=f;for(var ca in d)d[h](ca)&&(b[ca]=d[ca]);b.paper=b.root=b}else b=r(\"svg\",G.doc.body),v(b.node,{height:a,version:1.1,width:c,xmlns:la});return b}function x(c){return!c||c instanceof e||c instanceof l?c:c.tagName&&\"svg\"==c.tagName.toLowerCase()?new s(c):c.tagName&&\"object\"==c.tagName.toLowerCase()&&\"image/svg+xml\"==c.type?new s(c.contentDocument.getElementsByTagName(\"svg\")[0]):new e(c)}a.version=\"0.3.0\";a.toString=function(){return\"Snap v\"+\n",
       "this.version};a._={};var G={win:N,doc:N.document};a._.glob=G;var h=\"hasOwnProperty\",J=String,K=parseFloat,U=parseInt,I=Math,P=I.max,Q=I.min,Y=I.abs,C=I.PI,aa=\"\",$=Object.prototype.toString,F=/^\\s*((#[a-f\\d]{6})|(#[a-f\\d]{3})|rgba?\\(\\s*([\\d\\.]+%?\\s*,\\s*[\\d\\.]+%?\\s*,\\s*[\\d\\.]+%?(?:\\s*,\\s*[\\d\\.]+%?)?)\\s*\\)|hsba?\\(\\s*([\\d\\.]+(?:deg|\\xb0|%)?\\s*,\\s*[\\d\\.]+%?\\s*,\\s*[\\d\\.]+(?:%?\\s*,\\s*[\\d\\.]+)?%?)\\s*\\)|hsla?\\(\\s*([\\d\\.]+(?:deg|\\xb0|%)?\\s*,\\s*[\\d\\.]+%?\\s*,\\s*[\\d\\.]+(?:%?\\s*,\\s*[\\d\\.]+)?%?)\\s*\\))\\s*$/i;a._.separator=\n",
       "RegExp(\"[,\\t\\n\\x0B\\f\\r \\u00a0\\u1680\\u180e\\u2000\\u2001\\u2002\\u2003\\u2004\\u2005\\u2006\\u2007\\u2008\\u2009\\u200a\\u202f\\u205f\\u3000\\u2028\\u2029]+\");var S=RegExp(\"[\\t\\n\\x0B\\f\\r \\u00a0\\u1680\\u180e\\u2000\\u2001\\u2002\\u2003\\u2004\\u2005\\u2006\\u2007\\u2008\\u2009\\u200a\\u202f\\u205f\\u3000\\u2028\\u2029]*,[\\t\\n\\x0B\\f\\r \\u00a0\\u1680\\u180e\\u2000\\u2001\\u2002\\u2003\\u2004\\u2005\\u2006\\u2007\\u2008\\u2009\\u200a\\u202f\\u205f\\u3000\\u2028\\u2029]*\"),X={hs:1,rg:1},W=RegExp(\"([a-z])[\\t\\n\\x0B\\f\\r \\u00a0\\u1680\\u180e\\u2000\\u2001\\u2002\\u2003\\u2004\\u2005\\u2006\\u2007\\u2008\\u2009\\u200a\\u202f\\u205f\\u3000\\u2028\\u2029,]*((-?\\\\d*\\\\.?\\\\d*(?:e[\\\\-+]?\\\\d+)?[\\t\\n\\x0B\\f\\r \\u00a0\\u1680\\u180e\\u2000\\u2001\\u2002\\u2003\\u2004\\u2005\\u2006\\u2007\\u2008\\u2009\\u200a\\u202f\\u205f\\u3000\\u2028\\u2029]*,?[\\t\\n\\x0B\\f\\r \\u00a0\\u1680\\u180e\\u2000\\u2001\\u2002\\u2003\\u2004\\u2005\\u2006\\u2007\\u2008\\u2009\\u200a\\u202f\\u205f\\u3000\\u2028\\u2029]*)+)\",\n",
       "\"ig\"),ma=RegExp(\"([rstm])[\\t\\n\\x0B\\f\\r \\u00a0\\u1680\\u180e\\u2000\\u2001\\u2002\\u2003\\u2004\\u2005\\u2006\\u2007\\u2008\\u2009\\u200a\\u202f\\u205f\\u3000\\u2028\\u2029,]*((-?\\\\d*\\\\.?\\\\d*(?:e[\\\\-+]?\\\\d+)?[\\t\\n\\x0B\\f\\r \\u00a0\\u1680\\u180e\\u2000\\u2001\\u2002\\u2003\\u2004\\u2005\\u2006\\u2007\\u2008\\u2009\\u200a\\u202f\\u205f\\u3000\\u2028\\u2029]*,?[\\t\\n\\x0B\\f\\r \\u00a0\\u1680\\u180e\\u2000\\u2001\\u2002\\u2003\\u2004\\u2005\\u2006\\u2007\\u2008\\u2009\\u200a\\u202f\\u205f\\u3000\\u2028\\u2029]*)+)\",\"ig\"),Z=RegExp(\"(-?\\\\d*\\\\.?\\\\d*(?:e[\\\\-+]?\\\\d+)?)[\\t\\n\\x0B\\f\\r \\u00a0\\u1680\\u180e\\u2000\\u2001\\u2002\\u2003\\u2004\\u2005\\u2006\\u2007\\u2008\\u2009\\u200a\\u202f\\u205f\\u3000\\u2028\\u2029]*,?[\\t\\n\\x0B\\f\\r \\u00a0\\u1680\\u180e\\u2000\\u2001\\u2002\\u2003\\u2004\\u2005\\u2006\\u2007\\u2008\\u2009\\u200a\\u202f\\u205f\\u3000\\u2028\\u2029]*\",\n",
       "\"ig\"),na=0,ba=\"S\"+(+new Date).toString(36),V=function(){return ba+(na++).toString(36)},m=\"http://www.w3.org/1999/xlink\",la=\"http://www.w3.org/2000/svg\",E={},ca=a.url=function(c){return\"url('#\"+c+\"')\"};a._.$=v;a._.id=V;a.format=function(){var c=/\\{([^\\}]+)\\}/g,a=/(?:(?:^|\\.)(.+?)(?=\\[|\\.|$|\\()|\\[('|\")(.+?)\\2\\])(\\(\\))?/g,b=function(c,b,m){var h=m;b.replace(a,function(c,a,b,m,t){a=a||m;h&&(a in h&&(h=h[a]),\"function\"==typeof h&&t&&(h=h()))});return h=(null==h||h==m?c:h)+\"\"};return function(a,m){return J(a).replace(c,\n",
       "function(c,a){return b(c,a,m)})}}();a._.clone=M;a._.cacher=A;a.rad=z;a.deg=function(c){return 180*c/C%360};a.angle=w;a.is=y;a.snapTo=function(c,a,b){b=y(b,\"finite\")?b:10;if(y(c,\"array\"))for(var m=c.length;m--;){if(Y(c[m]-a)<=b)return c[m]}else{c=+c;m=a%c;if(m<b)return a-m;if(m>c-b)return a-m+c}return a};a.getRGB=A(function(c){if(!c||(c=J(c)).indexOf(\"-\")+1)return{r:-1,g:-1,b:-1,hex:\"none\",error:1,toString:ka};if(\"none\"==c)return{r:-1,g:-1,b:-1,hex:\"none\",toString:ka};!X[h](c.toLowerCase().substring(0,\n",
       "2))&&\"#\"!=c.charAt()&&(c=T(c));if(!c)return{r:-1,g:-1,b:-1,hex:\"none\",error:1,toString:ka};var b,m,e,f,d;if(c=c.match(F)){c[2]&&(e=U(c[2].substring(5),16),m=U(c[2].substring(3,5),16),b=U(c[2].substring(1,3),16));c[3]&&(e=U((d=c[3].charAt(3))+d,16),m=U((d=c[3].charAt(2))+d,16),b=U((d=c[3].charAt(1))+d,16));c[4]&&(d=c[4].split(S),b=K(d[0]),\"%\"==d[0].slice(-1)&&(b*=2.55),m=K(d[1]),\"%\"==d[1].slice(-1)&&(m*=2.55),e=K(d[2]),\"%\"==d[2].slice(-1)&&(e*=2.55),\"rgba\"==c[1].toLowerCase().slice(0,4)&&(f=K(d[3])),\n",
       "d[3]&&\"%\"==d[3].slice(-1)&&(f/=100));if(c[5])return d=c[5].split(S),b=K(d[0]),\"%\"==d[0].slice(-1)&&(b/=100),m=K(d[1]),\"%\"==d[1].slice(-1)&&(m/=100),e=K(d[2]),\"%\"==d[2].slice(-1)&&(e/=100),\"deg\"!=d[0].slice(-3)&&\"\\u00b0\"!=d[0].slice(-1)||(b/=360),\"hsba\"==c[1].toLowerCase().slice(0,4)&&(f=K(d[3])),d[3]&&\"%\"==d[3].slice(-1)&&(f/=100),a.hsb2rgb(b,m,e,f);if(c[6])return d=c[6].split(S),b=K(d[0]),\"%\"==d[0].slice(-1)&&(b/=100),m=K(d[1]),\"%\"==d[1].slice(-1)&&(m/=100),e=K(d[2]),\"%\"==d[2].slice(-1)&&(e/=100),\n",
       "\"deg\"!=d[0].slice(-3)&&\"\\u00b0\"!=d[0].slice(-1)||(b/=360),\"hsla\"==c[1].toLowerCase().slice(0,4)&&(f=K(d[3])),d[3]&&\"%\"==d[3].slice(-1)&&(f/=100),a.hsl2rgb(b,m,e,f);b=Q(I.round(b),255);m=Q(I.round(m),255);e=Q(I.round(e),255);f=Q(P(f,0),1);c={r:b,g:m,b:e,toString:ka};c.hex=\"#\"+(16777216|e|m<<8|b<<16).toString(16).slice(1);c.opacity=y(f,\"finite\")?f:1;return c}return{r:-1,g:-1,b:-1,hex:\"none\",error:1,toString:ka}},a);a.hsb=A(function(c,b,m){return a.hsb2rgb(c,b,m).hex});a.hsl=A(function(c,b,m){return a.hsl2rgb(c,\n",
       "b,m).hex});a.rgb=A(function(c,a,b,m){if(y(m,\"finite\")){var e=I.round;return\"rgba(\"+[e(c),e(a),e(b),+m.toFixed(2)]+\")\"}return\"#\"+(16777216|b|a<<8|c<<16).toString(16).slice(1)});var T=function(c){var a=G.doc.getElementsByTagName(\"head\")[0]||G.doc.getElementsByTagName(\"svg\")[0];T=A(function(c){if(\"red\"==c.toLowerCase())return\"rgb(255, 0, 0)\";a.style.color=\"rgb(255, 0, 0)\";a.style.color=c;c=G.doc.defaultView.getComputedStyle(a,aa).getPropertyValue(\"color\");return\"rgb(255, 0, 0)\"==c?null:c});return T(c)},\n",
       "qa=function(){return\"hsb(\"+[this.h,this.s,this.b]+\")\"},ra=function(){return\"hsl(\"+[this.h,this.s,this.l]+\")\"},ka=function(){return 1==this.opacity||null==this.opacity?this.hex:\"rgba(\"+[this.r,this.g,this.b,this.opacity]+\")\"},D=function(c,b,m){null==b&&y(c,\"object\")&&\"r\"in c&&\"g\"in c&&\"b\"in c&&(m=c.b,b=c.g,c=c.r);null==b&&y(c,string)&&(m=a.getRGB(c),c=m.r,b=m.g,m=m.b);if(1<c||1<b||1<m)c/=255,b/=255,m/=255;return[c,b,m]},oa=function(c,b,m,e){c=I.round(255*c);b=I.round(255*b);m=I.round(255*m);c={r:c,\n",
       "g:b,b:m,opacity:y(e,\"finite\")?e:1,hex:a.rgb(c,b,m),toString:ka};y(e,\"finite\")&&(c.opacity=e);return c};a.color=function(c){var b;y(c,\"object\")&&\"h\"in c&&\"s\"in c&&\"b\"in c?(b=a.hsb2rgb(c),c.r=b.r,c.g=b.g,c.b=b.b,c.opacity=1,c.hex=b.hex):y(c,\"object\")&&\"h\"in c&&\"s\"in c&&\"l\"in c?(b=a.hsl2rgb(c),c.r=b.r,c.g=b.g,c.b=b.b,c.opacity=1,c.hex=b.hex):(y(c,\"string\")&&(c=a.getRGB(c)),y(c,\"object\")&&\"r\"in c&&\"g\"in c&&\"b\"in c&&!(\"error\"in c)?(b=a.rgb2hsl(c),c.h=b.h,c.s=b.s,c.l=b.l,b=a.rgb2hsb(c),c.v=b.b):(c={hex:\"none\"},\n",
       "c.r=c.g=c.b=c.h=c.s=c.v=c.l=-1,c.error=1));c.toString=ka;return c};a.hsb2rgb=function(c,a,b,m){y(c,\"object\")&&\"h\"in c&&\"s\"in c&&\"b\"in c&&(b=c.b,a=c.s,c=c.h,m=c.o);var e,h,d;c=360*c%360/60;d=b*a;a=d*(1-Y(c%2-1));b=e=h=b-d;c=~~c;b+=[d,a,0,0,a,d][c];e+=[a,d,d,a,0,0][c];h+=[0,0,a,d,d,a][c];return oa(b,e,h,m)};a.hsl2rgb=function(c,a,b,m){y(c,\"object\")&&\"h\"in c&&\"s\"in c&&\"l\"in c&&(b=c.l,a=c.s,c=c.h);if(1<c||1<a||1<b)c/=360,a/=100,b/=100;var e,h,d;c=360*c%360/60;d=2*a*(0.5>b?b:1-b);a=d*(1-Y(c%2-1));b=e=\n",
       "h=b-d/2;c=~~c;b+=[d,a,0,0,a,d][c];e+=[a,d,d,a,0,0][c];h+=[0,0,a,d,d,a][c];return oa(b,e,h,m)};a.rgb2hsb=function(c,a,b){b=D(c,a,b);c=b[0];a=b[1];b=b[2];var m,e;m=P(c,a,b);e=m-Q(c,a,b);c=((0==e?0:m==c?(a-b)/e:m==a?(b-c)/e+2:(c-a)/e+4)+360)%6*60/360;return{h:c,s:0==e?0:e/m,b:m,toString:qa}};a.rgb2hsl=function(c,a,b){b=D(c,a,b);c=b[0];a=b[1];b=b[2];var m,e,h;m=P(c,a,b);e=Q(c,a,b);h=m-e;c=((0==h?0:m==c?(a-b)/h:m==a?(b-c)/h+2:(c-a)/h+4)+360)%6*60/360;m=(m+e)/2;return{h:c,s:0==h?0:0.5>m?h/(2*m):h/(2-2*\n",
       "m),l:m,toString:ra}};a.parsePathString=function(c){if(!c)return null;var b=a.path(c);if(b.arr)return a.path.clone(b.arr);var m={a:7,c:6,o:2,h:1,l:2,m:2,r:4,q:4,s:4,t:2,v:1,u:3,z:0},e=[];y(c,\"array\")&&y(c[0],\"array\")&&(e=a.path.clone(c));e.length||J(c).replace(W,function(c,a,b){var h=[];c=a.toLowerCase();b.replace(Z,function(c,a){a&&h.push(+a)});\"m\"==c&&2<h.length&&(e.push([a].concat(h.splice(0,2))),c=\"l\",a=\"m\"==a?\"l\":\"L\");\"o\"==c&&1==h.length&&e.push([a,h[0] ]);if(\"r\"==c)e.push([a].concat(h));else for(;h.length>=\n",
       "m[c]&&(e.push([a].concat(h.splice(0,m[c]))),m[c]););});e.toString=a.path.toString;b.arr=a.path.clone(e);return e};var O=a.parseTransformString=function(c){if(!c)return null;var b=[];y(c,\"array\")&&y(c[0],\"array\")&&(b=a.path.clone(c));b.length||J(c).replace(ma,function(c,a,m){var e=[];a.toLowerCase();m.replace(Z,function(c,a){a&&e.push(+a)});b.push([a].concat(e))});b.toString=a.path.toString;return b};a._.svgTransform2string=d;a._.rgTransform=RegExp(\"^[a-z][\\t\\n\\x0B\\f\\r \\u00a0\\u1680\\u180e\\u2000\\u2001\\u2002\\u2003\\u2004\\u2005\\u2006\\u2007\\u2008\\u2009\\u200a\\u202f\\u205f\\u3000\\u2028\\u2029]*-?\\\\.?\\\\d\",\n",
       "\"i\");a._.transform2matrix=f;a._unit2px=b;a._.getSomeDefs=u;a._.getSomeSVG=p;a.select=function(c){return x(G.doc.querySelector(c))};a.selectAll=function(c){c=G.doc.querySelectorAll(c);for(var b=(a.set||Array)(),m=0;m<c.length;m++)b.push(x(c[m]));return b};setInterval(function(){for(var c in E)if(E[h](c)){var a=E[c],b=a.node;(\"svg\"!=a.type&&!b.ownerSVGElement||\"svg\"==a.type&&(!b.parentNode||\"ownerSVGElement\"in b.parentNode&&!b.ownerSVGElement))&&delete E[c]}},1E4);(function(c){function m(c){function a(c,\n",
       "b){var m=v(c.node,b);(m=(m=m&&m.match(d))&&m[2])&&\"#\"==m.charAt()&&(m=m.substring(1))&&(f[m]=(f[m]||[]).concat(function(a){var m={};m[b]=ca(a);v(c.node,m)}))}function b(c){var a=v(c.node,\"xlink:href\");a&&\"#\"==a.charAt()&&(a=a.substring(1))&&(f[a]=(f[a]||[]).concat(function(a){c.attr(\"xlink:href\",\"#\"+a)}))}var e=c.selectAll(\"*\"),h,d=/^\\s*url\\((\"|'|)(.*)\\1\\)\\s*$/;c=[];for(var f={},l=0,E=e.length;l<E;l++){h=e[l];a(h,\"fill\");a(h,\"stroke\");a(h,\"filter\");a(h,\"mask\");a(h,\"clip-path\");b(h);var t=v(h.node,\n",
       "\"id\");t&&(v(h.node,{id:h.id}),c.push({old:t,id:h.id}))}l=0;for(E=c.length;l<E;l++)if(e=f[c[l].old])for(h=0,t=e.length;h<t;h++)e[h](c[l].id)}function e(c,a,b){return function(m){m=m.slice(c,a);1==m.length&&(m=m[0]);return b?b(m):m}}function d(c){return function(){var a=c?\"<\"+this.type:\"\",b=this.node.attributes,m=this.node.childNodes;if(c)for(var e=0,h=b.length;e<h;e++)a+=\" \"+b[e].name+'=\"'+b[e].value.replace(/\"/g,'\\\\\"')+'\"';if(m.length){c&&(a+=\">\");e=0;for(h=m.length;e<h;e++)3==m[e].nodeType?a+=m[e].nodeValue:\n",
       "1==m[e].nodeType&&(a+=x(m[e]).toString());c&&(a+=\"</\"+this.type+\">\")}else c&&(a+=\"/>\");return a}}c.attr=function(c,a){if(!c)return this;if(y(c,\"string\"))if(1<arguments.length){var b={};b[c]=a;c=b}else return k(\"snap.util.getattr.\"+c,this).firstDefined();for(var m in c)c[h](m)&&k(\"snap.util.attr.\"+m,this,c[m]);return this};c.getBBox=function(c){if(!a.Matrix||!a.path)return this.node.getBBox();var b=this,m=new a.Matrix;if(b.removed)return a._.box();for(;\"use\"==b.type;)if(c||(m=m.add(b.transform().localMatrix.translate(b.attr(\"x\")||\n",
       "0,b.attr(\"y\")||0))),b.original)b=b.original;else var e=b.attr(\"xlink:href\"),b=b.original=b.node.ownerDocument.getElementById(e.substring(e.indexOf(\"#\")+1));var e=b._,h=a.path.get[b.type]||a.path.get.deflt;try{if(c)return e.bboxwt=h?a.path.getBBox(b.realPath=h(b)):a._.box(b.node.getBBox()),a._.box(e.bboxwt);b.realPath=h(b);b.matrix=b.transform().localMatrix;e.bbox=a.path.getBBox(a.path.map(b.realPath,m.add(b.matrix)));return a._.box(e.bbox)}catch(d){return a._.box()}};var f=function(){return this.string};\n",
       "c.transform=function(c){var b=this._;if(null==c){var m=this;c=new a.Matrix(this.node.getCTM());for(var e=n(this),h=[e],d=new a.Matrix,l=e.toTransformString(),b=J(e)==J(this.matrix)?J(b.transform):l;\"svg\"!=m.type&&(m=m.parent());)h.push(n(m));for(m=h.length;m--;)d.add(h[m]);return{string:b,globalMatrix:c,totalMatrix:d,localMatrix:e,diffMatrix:c.clone().add(e.invert()),global:c.toTransformString(),total:d.toTransformString(),local:l,toString:f}}c instanceof a.Matrix?this.matrix=c:n(this,c);this.node&&\n",
       "(\"linearGradient\"==this.type||\"radialGradient\"==this.type?v(this.node,{gradientTransform:this.matrix}):\"pattern\"==this.type?v(this.node,{patternTransform:this.matrix}):v(this.node,{transform:this.matrix}));return this};c.parent=function(){return x(this.node.parentNode)};c.append=c.add=function(c){if(c){if(\"set\"==c.type){var a=this;c.forEach(function(c){a.add(c)});return this}c=x(c);this.node.appendChild(c.node);c.paper=this.paper}return this};c.appendTo=function(c){c&&(c=x(c),c.append(this));return this};\n",
       "c.prepend=function(c){if(c){if(\"set\"==c.type){var a=this,b;c.forEach(function(c){b?b.after(c):a.prepend(c);b=c});return this}c=x(c);var m=c.parent();this.node.insertBefore(c.node,this.node.firstChild);this.add&&this.add();c.paper=this.paper;this.parent()&&this.parent().add();m&&m.add()}return this};c.prependTo=function(c){c=x(c);c.prepend(this);return this};c.before=function(c){if(\"set\"==c.type){var a=this;c.forEach(function(c){var b=c.parent();a.node.parentNode.insertBefore(c.node,a.node);b&&b.add()});\n",
       "this.parent().add();return this}c=x(c);var b=c.parent();this.node.parentNode.insertBefore(c.node,this.node);this.parent()&&this.parent().add();b&&b.add();c.paper=this.paper;return this};c.after=function(c){c=x(c);var a=c.parent();this.node.nextSibling?this.node.parentNode.insertBefore(c.node,this.node.nextSibling):this.node.parentNode.appendChild(c.node);this.parent()&&this.parent().add();a&&a.add();c.paper=this.paper;return this};c.insertBefore=function(c){c=x(c);var a=this.parent();c.node.parentNode.insertBefore(this.node,\n",
       "c.node);this.paper=c.paper;a&&a.add();c.parent()&&c.parent().add();return this};c.insertAfter=function(c){c=x(c);var a=this.parent();c.node.parentNode.insertBefore(this.node,c.node.nextSibling);this.paper=c.paper;a&&a.add();c.parent()&&c.parent().add();return this};c.remove=function(){var c=this.parent();this.node.parentNode&&this.node.parentNode.removeChild(this.node);delete this.paper;this.removed=!0;c&&c.add();return this};c.select=function(c){return x(this.node.querySelector(c))};c.selectAll=\n",
       "function(c){c=this.node.querySelectorAll(c);for(var b=(a.set||Array)(),m=0;m<c.length;m++)b.push(x(c[m]));return b};c.asPX=function(c,a){null==a&&(a=this.attr(c));return+b(this,c,a)};c.use=function(){var c,a=this.node.id;a||(a=this.id,v(this.node,{id:a}));c=\"linearGradient\"==this.type||\"radialGradient\"==this.type||\"pattern\"==this.type?r(this.type,this.node.parentNode):r(\"use\",this.node.parentNode);v(c.node,{\"xlink:href\":\"#\"+a});c.original=this;return c};var l=/\\S+/g;c.addClass=function(c){var a=(c||\n",
       "\"\").match(l)||[];c=this.node;var b=c.className.baseVal,m=b.match(l)||[],e,h,d;if(a.length){for(e=0;d=a[e++];)h=m.indexOf(d),~h||m.push(d);a=m.join(\" \");b!=a&&(c.className.baseVal=a)}return this};c.removeClass=function(c){var a=(c||\"\").match(l)||[];c=this.node;var b=c.className.baseVal,m=b.match(l)||[],e,h;if(m.length){for(e=0;h=a[e++];)h=m.indexOf(h),~h&&m.splice(h,1);a=m.join(\" \");b!=a&&(c.className.baseVal=a)}return this};c.hasClass=function(c){return!!~(this.node.className.baseVal.match(l)||[]).indexOf(c)};\n",
       "c.toggleClass=function(c,a){if(null!=a)return a?this.addClass(c):this.removeClass(c);var b=(c||\"\").match(l)||[],m=this.node,e=m.className.baseVal,h=e.match(l)||[],d,f,E;for(d=0;E=b[d++];)f=h.indexOf(E),~f?h.splice(f,1):h.push(E);b=h.join(\" \");e!=b&&(m.className.baseVal=b);return this};c.clone=function(){var c=x(this.node.cloneNode(!0));v(c.node,\"id\")&&v(c.node,{id:c.id});m(c);c.insertAfter(this);return c};c.toDefs=function(){u(this).appendChild(this.node);return this};c.pattern=c.toPattern=function(c,\n",
       "a,b,m){var e=r(\"pattern\",u(this));null==c&&(c=this.getBBox());y(c,\"object\")&&\"x\"in c&&(a=c.y,b=c.width,m=c.height,c=c.x);v(e.node,{x:c,y:a,width:b,height:m,patternUnits:\"userSpaceOnUse\",id:e.id,viewBox:[c,a,b,m].join(\" \")});e.node.appendChild(this.node);return e};c.marker=function(c,a,b,m,e,h){var d=r(\"marker\",u(this));null==c&&(c=this.getBBox());y(c,\"object\")&&\"x\"in c&&(a=c.y,b=c.width,m=c.height,e=c.refX||c.cx,h=c.refY||c.cy,c=c.x);v(d.node,{viewBox:[c,a,b,m].join(\" \"),markerWidth:b,markerHeight:m,\n",
       "orient:\"auto\",refX:e||0,refY:h||0,id:d.id});d.node.appendChild(this.node);return d};var E=function(c,a,b,m){\"function\"!=typeof b||b.length||(m=b,b=L.linear);this.attr=c;this.dur=a;b&&(this.easing=b);m&&(this.callback=m)};a._.Animation=E;a.animation=function(c,a,b,m){return new E(c,a,b,m)};c.inAnim=function(){var c=[],a;for(a in this.anims)this.anims[h](a)&&function(a){c.push({anim:new E(a._attrs,a.dur,a.easing,a._callback),mina:a,curStatus:a.status(),status:function(c){return a.status(c)},stop:function(){a.stop()}})}(this.anims[a]);\n",
       "return c};a.animate=function(c,a,b,m,e,h){\"function\"!=typeof e||e.length||(h=e,e=L.linear);var d=L.time();c=L(c,a,d,d+m,L.time,b,e);h&&k.once(\"mina.finish.\"+c.id,h);return c};c.stop=function(){for(var c=this.inAnim(),a=0,b=c.length;a<b;a++)c[a].stop();return this};c.animate=function(c,a,b,m){\"function\"!=typeof b||b.length||(m=b,b=L.linear);c instanceof E&&(m=c.callback,b=c.easing,a=b.dur,c=c.attr);var d=[],f=[],l={},t,ca,n,T=this,q;for(q in c)if(c[h](q)){T.equal?(n=T.equal(q,J(c[q])),t=n.from,ca=\n",
       "n.to,n=n.f):(t=+T.attr(q),ca=+c[q]);var la=y(t,\"array\")?t.length:1;l[q]=e(d.length,d.length+la,n);d=d.concat(t);f=f.concat(ca)}t=L.time();var p=L(d,f,t,t+a,L.time,function(c){var a={},b;for(b in l)l[h](b)&&(a[b]=l[b](c));T.attr(a)},b);T.anims[p.id]=p;p._attrs=c;p._callback=m;k(\"snap.animcreated.\"+T.id,p);k.once(\"mina.finish.\"+p.id,function(){delete T.anims[p.id];m&&m.call(T)});k.once(\"mina.stop.\"+p.id,function(){delete T.anims[p.id]});return T};var T={};c.data=function(c,b){var m=T[this.id]=T[this.id]||\n",
       "{};if(0==arguments.length)return k(\"snap.data.get.\"+this.id,this,m,null),m;if(1==arguments.length){if(a.is(c,\"object\")){for(var e in c)c[h](e)&&this.data(e,c[e]);return this}k(\"snap.data.get.\"+this.id,this,m[c],c);return m[c]}m[c]=b;k(\"snap.data.set.\"+this.id,this,b,c);return this};c.removeData=function(c){null==c?T[this.id]={}:T[this.id]&&delete T[this.id][c];return this};c.outerSVG=c.toString=d(1);c.innerSVG=d()})(e.prototype);a.parse=function(c){var a=G.doc.createDocumentFragment(),b=!0,m=G.doc.createElement(\"div\");\n",
       "c=J(c);c.match(/^\\s*<\\s*svg(?:\\s|>)/)||(c=\"<svg>\"+c+\"</svg>\",b=!1);m.innerHTML=c;if(c=m.getElementsByTagName(\"svg\")[0])if(b)a=c;else for(;c.firstChild;)a.appendChild(c.firstChild);m.innerHTML=aa;return new l(a)};l.prototype.select=e.prototype.select;l.prototype.selectAll=e.prototype.selectAll;a.fragment=function(){for(var c=Array.prototype.slice.call(arguments,0),b=G.doc.createDocumentFragment(),m=0,e=c.length;m<e;m++){var h=c[m];h.node&&h.node.nodeType&&b.appendChild(h.node);h.nodeType&&b.appendChild(h);\n",
       "\"string\"==typeof h&&b.appendChild(a.parse(h).node)}return new l(b)};a._.make=r;a._.wrap=x;s.prototype.el=function(c,a){var b=r(c,this.node);a&&b.attr(a);return b};k.on(\"snap.util.getattr\",function(){var c=k.nt(),c=c.substring(c.lastIndexOf(\".\")+1),a=c.replace(/[A-Z]/g,function(c){return\"-\"+c.toLowerCase()});return pa[h](a)?this.node.ownerDocument.defaultView.getComputedStyle(this.node,null).getPropertyValue(a):v(this.node,c)});var pa={\"alignment-baseline\":0,\"baseline-shift\":0,clip:0,\"clip-path\":0,\n",
       "\"clip-rule\":0,color:0,\"color-interpolation\":0,\"color-interpolation-filters\":0,\"color-profile\":0,\"color-rendering\":0,cursor:0,direction:0,display:0,\"dominant-baseline\":0,\"enable-background\":0,fill:0,\"fill-opacity\":0,\"fill-rule\":0,filter:0,\"flood-color\":0,\"flood-opacity\":0,font:0,\"font-family\":0,\"font-size\":0,\"font-size-adjust\":0,\"font-stretch\":0,\"font-style\":0,\"font-variant\":0,\"font-weight\":0,\"glyph-orientation-horizontal\":0,\"glyph-orientation-vertical\":0,\"image-rendering\":0,kerning:0,\"letter-spacing\":0,\n",
       "\"lighting-color\":0,marker:0,\"marker-end\":0,\"marker-mid\":0,\"marker-start\":0,mask:0,opacity:0,overflow:0,\"pointer-events\":0,\"shape-rendering\":0,\"stop-color\":0,\"stop-opacity\":0,stroke:0,\"stroke-dasharray\":0,\"stroke-dashoffset\":0,\"stroke-linecap\":0,\"stroke-linejoin\":0,\"stroke-miterlimit\":0,\"stroke-opacity\":0,\"stroke-width\":0,\"text-anchor\":0,\"text-decoration\":0,\"text-rendering\":0,\"unicode-bidi\":0,visibility:0,\"word-spacing\":0,\"writing-mode\":0};k.on(\"snap.util.attr\",function(c){var a=k.nt(),b={},a=a.substring(a.lastIndexOf(\".\")+\n",
       "1);b[a]=c;var m=a.replace(/-(\\w)/gi,function(c,a){return a.toUpperCase()}),a=a.replace(/[A-Z]/g,function(c){return\"-\"+c.toLowerCase()});pa[h](a)?this.node.style[m]=null==c?aa:c:v(this.node,b)});a.ajax=function(c,a,b,m){var e=new XMLHttpRequest,h=V();if(e){if(y(a,\"function\"))m=b,b=a,a=null;else if(y(a,\"object\")){var d=[],f;for(f in a)a.hasOwnProperty(f)&&d.push(encodeURIComponent(f)+\"=\"+encodeURIComponent(a[f]));a=d.join(\"&\")}e.open(a?\"POST\":\"GET\",c,!0);a&&(e.setRequestHeader(\"X-Requested-With\",\"XMLHttpRequest\"),\n",
       "e.setRequestHeader(\"Content-type\",\"application/x-www-form-urlencoded\"));b&&(k.once(\"snap.ajax.\"+h+\".0\",b),k.once(\"snap.ajax.\"+h+\".200\",b),k.once(\"snap.ajax.\"+h+\".304\",b));e.onreadystatechange=function(){4==e.readyState&&k(\"snap.ajax.\"+h+\".\"+e.status,m,e)};if(4==e.readyState)return e;e.send(a);return e}};a.load=function(c,b,m){a.ajax(c,function(c){c=a.parse(c.responseText);m?b.call(m,c):b(c)})};a.getElementByPoint=function(c,a){var b,m,e=G.doc.elementFromPoint(c,a);if(G.win.opera&&\"svg\"==e.tagName){b=\n",
       "e;m=b.getBoundingClientRect();b=b.ownerDocument;var h=b.body,d=b.documentElement;b=m.top+(g.win.pageYOffset||d.scrollTop||h.scrollTop)-(d.clientTop||h.clientTop||0);m=m.left+(g.win.pageXOffset||d.scrollLeft||h.scrollLeft)-(d.clientLeft||h.clientLeft||0);h=e.createSVGRect();h.x=c-m;h.y=a-b;h.width=h.height=1;b=e.getIntersectionList(h,null);b.length&&(e=b[b.length-1])}return e?x(e):null};a.plugin=function(c){c(a,e,s,G,l)};return G.win.Snap=a}();C.plugin(function(a,k,y,M,A){function w(a,d,f,b,q,e){null==\n",
       "d&&\"[object SVGMatrix]\"==z.call(a)?(this.a=a.a,this.b=a.b,this.c=a.c,this.d=a.d,this.e=a.e,this.f=a.f):null!=a?(this.a=+a,this.b=+d,this.c=+f,this.d=+b,this.e=+q,this.f=+e):(this.a=1,this.c=this.b=0,this.d=1,this.f=this.e=0)}var z=Object.prototype.toString,d=String,f=Math;(function(n){function k(a){return a[0]*a[0]+a[1]*a[1]}function p(a){var d=f.sqrt(k(a));a[0]&&(a[0]/=d);a[1]&&(a[1]/=d)}n.add=function(a,d,e,f,n,p){var k=[[],[],[] ],u=[[this.a,this.c,this.e],[this.b,this.d,this.f],[0,0,1] ];d=[[a,\n",
       "e,n],[d,f,p],[0,0,1] ];a&&a instanceof w&&(d=[[a.a,a.c,a.e],[a.b,a.d,a.f],[0,0,1] ]);for(a=0;3>a;a++)for(e=0;3>e;e++){for(f=n=0;3>f;f++)n+=u[a][f]*d[f][e];k[a][e]=n}this.a=k[0][0];this.b=k[1][0];this.c=k[0][1];this.d=k[1][1];this.e=k[0][2];this.f=k[1][2];return this};n.invert=function(){var a=this.a*this.d-this.b*this.c;return new w(this.d/a,-this.b/a,-this.c/a,this.a/a,(this.c*this.f-this.d*this.e)/a,(this.b*this.e-this.a*this.f)/a)};n.clone=function(){return new w(this.a,this.b,this.c,this.d,this.e,\n",
       "this.f)};n.translate=function(a,d){return this.add(1,0,0,1,a,d)};n.scale=function(a,d,e,f){null==d&&(d=a);(e||f)&&this.add(1,0,0,1,e,f);this.add(a,0,0,d,0,0);(e||f)&&this.add(1,0,0,1,-e,-f);return this};n.rotate=function(b,d,e){b=a.rad(b);d=d||0;e=e||0;var l=+f.cos(b).toFixed(9);b=+f.sin(b).toFixed(9);this.add(l,b,-b,l,d,e);return this.add(1,0,0,1,-d,-e)};n.x=function(a,d){return a*this.a+d*this.c+this.e};n.y=function(a,d){return a*this.b+d*this.d+this.f};n.get=function(a){return+this[d.fromCharCode(97+\n",
       "a)].toFixed(4)};n.toString=function(){return\"matrix(\"+[this.get(0),this.get(1),this.get(2),this.get(3),this.get(4),this.get(5)].join()+\")\"};n.offset=function(){return[this.e.toFixed(4),this.f.toFixed(4)]};n.determinant=function(){return this.a*this.d-this.b*this.c};n.split=function(){var b={};b.dx=this.e;b.dy=this.f;var d=[[this.a,this.c],[this.b,this.d] ];b.scalex=f.sqrt(k(d[0]));p(d[0]);b.shear=d[0][0]*d[1][0]+d[0][1]*d[1][1];d[1]=[d[1][0]-d[0][0]*b.shear,d[1][1]-d[0][1]*b.shear];b.scaley=f.sqrt(k(d[1]));\n",
       "p(d[1]);b.shear/=b.scaley;0>this.determinant()&&(b.scalex=-b.scalex);var e=-d[0][1],d=d[1][1];0>d?(b.rotate=a.deg(f.acos(d)),0>e&&(b.rotate=360-b.rotate)):b.rotate=a.deg(f.asin(e));b.isSimple=!+b.shear.toFixed(9)&&(b.scalex.toFixed(9)==b.scaley.toFixed(9)||!b.rotate);b.isSuperSimple=!+b.shear.toFixed(9)&&b.scalex.toFixed(9)==b.scaley.toFixed(9)&&!b.rotate;b.noRotation=!+b.shear.toFixed(9)&&!b.rotate;return b};n.toTransformString=function(a){a=a||this.split();if(+a.shear.toFixed(9))return\"m\"+[this.get(0),\n",
       "this.get(1),this.get(2),this.get(3),this.get(4),this.get(5)];a.scalex=+a.scalex.toFixed(4);a.scaley=+a.scaley.toFixed(4);a.rotate=+a.rotate.toFixed(4);return(a.dx||a.dy?\"t\"+[+a.dx.toFixed(4),+a.dy.toFixed(4)]:\"\")+(1!=a.scalex||1!=a.scaley?\"s\"+[a.scalex,a.scaley,0,0]:\"\")+(a.rotate?\"r\"+[+a.rotate.toFixed(4),0,0]:\"\")}})(w.prototype);a.Matrix=w;a.matrix=function(a,d,f,b,k,e){return new w(a,d,f,b,k,e)}});C.plugin(function(a,v,y,M,A){function w(h){return function(d){k.stop();d instanceof A&&1==d.node.childNodes.length&&\n",
       "(\"radialGradient\"==d.node.firstChild.tagName||\"linearGradient\"==d.node.firstChild.tagName||\"pattern\"==d.node.firstChild.tagName)&&(d=d.node.firstChild,b(this).appendChild(d),d=u(d));if(d instanceof v)if(\"radialGradient\"==d.type||\"linearGradient\"==d.type||\"pattern\"==d.type){d.node.id||e(d.node,{id:d.id});var f=l(d.node.id)}else f=d.attr(h);else f=a.color(d),f.error?(f=a(b(this).ownerSVGElement).gradient(d))?(f.node.id||e(f.node,{id:f.id}),f=l(f.node.id)):f=d:f=r(f);d={};d[h]=f;e(this.node,d);this.node.style[h]=\n",
       "x}}function z(a){k.stop();a==+a&&(a+=\"px\");this.node.style.fontSize=a}function d(a){var b=[];a=a.childNodes;for(var e=0,f=a.length;e<f;e++){var l=a[e];3==l.nodeType&&b.push(l.nodeValue);\"tspan\"==l.tagName&&(1==l.childNodes.length&&3==l.firstChild.nodeType?b.push(l.firstChild.nodeValue):b.push(d(l)))}return b}function f(){k.stop();return this.node.style.fontSize}var n=a._.make,u=a._.wrap,p=a.is,b=a._.getSomeDefs,q=/^url\\(#?([^)]+)\\)$/,e=a._.$,l=a.url,r=String,s=a._.separator,x=\"\";k.on(\"snap.util.attr.mask\",\n",
       "function(a){if(a instanceof v||a instanceof A){k.stop();a instanceof A&&1==a.node.childNodes.length&&(a=a.node.firstChild,b(this).appendChild(a),a=u(a));if(\"mask\"==a.type)var d=a;else d=n(\"mask\",b(this)),d.node.appendChild(a.node);!d.node.id&&e(d.node,{id:d.id});e(this.node,{mask:l(d.id)})}});(function(a){k.on(\"snap.util.attr.clip\",a);k.on(\"snap.util.attr.clip-path\",a);k.on(\"snap.util.attr.clipPath\",a)})(function(a){if(a instanceof v||a instanceof A){k.stop();if(\"clipPath\"==a.type)var d=a;else d=\n",
       "n(\"clipPath\",b(this)),d.node.appendChild(a.node),!d.node.id&&e(d.node,{id:d.id});e(this.node,{\"clip-path\":l(d.id)})}});k.on(\"snap.util.attr.fill\",w(\"fill\"));k.on(\"snap.util.attr.stroke\",w(\"stroke\"));var G=/^([lr])(?:\\(([^)]*)\\))?(.*)$/i;k.on(\"snap.util.grad.parse\",function(a){a=r(a);var b=a.match(G);if(!b)return null;a=b[1];var e=b[2],b=b[3],e=e.split(/\\s*,\\s*/).map(function(a){return+a==a?+a:a});1==e.length&&0==e[0]&&(e=[]);b=b.split(\"-\");b=b.map(function(a){a=a.split(\":\");var b={color:a[0]};a[1]&&\n",
       "(b.offset=parseFloat(a[1]));return b});return{type:a,params:e,stops:b}});k.on(\"snap.util.attr.d\",function(b){k.stop();p(b,\"array\")&&p(b[0],\"array\")&&(b=a.path.toString.call(b));b=r(b);b.match(/[ruo]/i)&&(b=a.path.toAbsolute(b));e(this.node,{d:b})})(-1);k.on(\"snap.util.attr.#text\",function(a){k.stop();a=r(a);for(a=M.doc.createTextNode(a);this.node.firstChild;)this.node.removeChild(this.node.firstChild);this.node.appendChild(a)})(-1);k.on(\"snap.util.attr.path\",function(a){k.stop();this.attr({d:a})})(-1);\n",
       "k.on(\"snap.util.attr.class\",function(a){k.stop();this.node.className.baseVal=a})(-1);k.on(\"snap.util.attr.viewBox\",function(a){a=p(a,\"object\")&&\"x\"in a?[a.x,a.y,a.width,a.height].join(\" \"):p(a,\"array\")?a.join(\" \"):a;e(this.node,{viewBox:a});k.stop()})(-1);k.on(\"snap.util.attr.transform\",function(a){this.transform(a);k.stop()})(-1);k.on(\"snap.util.attr.r\",function(a){\"rect\"==this.type&&(k.stop(),e(this.node,{rx:a,ry:a}))})(-1);k.on(\"snap.util.attr.textpath\",function(a){k.stop();if(\"text\"==this.type){var d,\n",
       "f;if(!a&&this.textPath){for(a=this.textPath;a.node.firstChild;)this.node.appendChild(a.node.firstChild);a.remove();delete this.textPath}else if(p(a,\"string\")?(d=b(this),a=u(d.parentNode).path(a),d.appendChild(a.node),d=a.id,a.attr({id:d})):(a=u(a),a instanceof v&&(d=a.attr(\"id\"),d||(d=a.id,a.attr({id:d})))),d)if(a=this.textPath,f=this.node,a)a.attr({\"xlink:href\":\"#\"+d});else{for(a=e(\"textPath\",{\"xlink:href\":\"#\"+d});f.firstChild;)a.appendChild(f.firstChild);f.appendChild(a);this.textPath=u(a)}}})(-1);\n",
       "k.on(\"snap.util.attr.text\",function(a){if(\"text\"==this.type){for(var b=this.node,d=function(a){var b=e(\"tspan\");if(p(a,\"array\"))for(var f=0;f<a.length;f++)b.appendChild(d(a[f]));else b.appendChild(M.doc.createTextNode(a));b.normalize&&b.normalize();return b};b.firstChild;)b.removeChild(b.firstChild);for(a=d(a);a.firstChild;)b.appendChild(a.firstChild)}k.stop()})(-1);k.on(\"snap.util.attr.fontSize\",z)(-1);k.on(\"snap.util.attr.font-size\",z)(-1);k.on(\"snap.util.getattr.transform\",function(){k.stop();\n",
       "return this.transform()})(-1);k.on(\"snap.util.getattr.textpath\",function(){k.stop();return this.textPath})(-1);(function(){function b(d){return function(){k.stop();var b=M.doc.defaultView.getComputedStyle(this.node,null).getPropertyValue(\"marker-\"+d);return\"none\"==b?b:a(M.doc.getElementById(b.match(q)[1]))}}function d(a){return function(b){k.stop();var d=\"marker\"+a.charAt(0).toUpperCase()+a.substring(1);if(\"\"==b||!b)this.node.style[d]=\"none\";else if(\"marker\"==b.type){var f=b.node.id;f||e(b.node,{id:b.id});\n",
       "this.node.style[d]=l(f)}}}k.on(\"snap.util.getattr.marker-end\",b(\"end\"))(-1);k.on(\"snap.util.getattr.markerEnd\",b(\"end\"))(-1);k.on(\"snap.util.getattr.marker-start\",b(\"start\"))(-1);k.on(\"snap.util.getattr.markerStart\",b(\"start\"))(-1);k.on(\"snap.util.getattr.marker-mid\",b(\"mid\"))(-1);k.on(\"snap.util.getattr.markerMid\",b(\"mid\"))(-1);k.on(\"snap.util.attr.marker-end\",d(\"end\"))(-1);k.on(\"snap.util.attr.markerEnd\",d(\"end\"))(-1);k.on(\"snap.util.attr.marker-start\",d(\"start\"))(-1);k.on(\"snap.util.attr.markerStart\",\n",
       "d(\"start\"))(-1);k.on(\"snap.util.attr.marker-mid\",d(\"mid\"))(-1);k.on(\"snap.util.attr.markerMid\",d(\"mid\"))(-1)})();k.on(\"snap.util.getattr.r\",function(){if(\"rect\"==this.type&&e(this.node,\"rx\")==e(this.node,\"ry\"))return k.stop(),e(this.node,\"rx\")})(-1);k.on(\"snap.util.getattr.text\",function(){if(\"text\"==this.type||\"tspan\"==this.type){k.stop();var a=d(this.node);return 1==a.length?a[0]:a}})(-1);k.on(\"snap.util.getattr.#text\",function(){return this.node.textContent})(-1);k.on(\"snap.util.getattr.viewBox\",\n",
       "function(){k.stop();var b=e(this.node,\"viewBox\");if(b)return b=b.split(s),a._.box(+b[0],+b[1],+b[2],+b[3])})(-1);k.on(\"snap.util.getattr.points\",function(){var a=e(this.node,\"points\");k.stop();if(a)return a.split(s)})(-1);k.on(\"snap.util.getattr.path\",function(){var a=e(this.node,\"d\");k.stop();return a})(-1);k.on(\"snap.util.getattr.class\",function(){return this.node.className.baseVal})(-1);k.on(\"snap.util.getattr.fontSize\",f)(-1);k.on(\"snap.util.getattr.font-size\",f)(-1)});C.plugin(function(a,v,y,\n",
       "M,A){function w(a){return a}function z(a){return function(b){return+b.toFixed(3)+a}}var d={\"+\":function(a,b){return a+b},\"-\":function(a,b){return a-b},\"/\":function(a,b){return a/b},\"*\":function(a,b){return a*b}},f=String,n=/[a-z]+$/i,u=/^\\s*([+\\-\\/*])\\s*=\\s*([\\d.eE+\\-]+)\\s*([^\\d\\s]+)?\\s*$/;k.on(\"snap.util.attr\",function(a){if(a=f(a).match(u)){var b=k.nt(),b=b.substring(b.lastIndexOf(\".\")+1),q=this.attr(b),e={};k.stop();var l=a[3]||\"\",r=q.match(n),s=d[a[1] ];r&&r==l?a=s(parseFloat(q),+a[2]):(q=this.asPX(b),\n",
       "a=s(this.asPX(b),this.asPX(b,a[2]+l)));isNaN(q)||isNaN(a)||(e[b]=a,this.attr(e))}})(-10);k.on(\"snap.util.equal\",function(a,b){var q=f(this.attr(a)||\"\"),e=f(b).match(u);if(e){k.stop();var l=e[3]||\"\",r=q.match(n),s=d[e[1] ];if(r&&r==l)return{from:parseFloat(q),to:s(parseFloat(q),+e[2]),f:z(r)};q=this.asPX(a);return{from:q,to:s(q,this.asPX(a,e[2]+l)),f:w}}})(-10)});C.plugin(function(a,v,y,M,A){var w=y.prototype,z=a.is;w.rect=function(a,d,k,p,b,q){var e;null==q&&(q=b);z(a,\"object\")&&\"[object Object]\"==\n",
       "a?e=a:null!=a&&(e={x:a,y:d,width:k,height:p},null!=b&&(e.rx=b,e.ry=q));return this.el(\"rect\",e)};w.circle=function(a,d,k){var p;z(a,\"object\")&&\"[object Object]\"==a?p=a:null!=a&&(p={cx:a,cy:d,r:k});return this.el(\"circle\",p)};var d=function(){function a(){this.parentNode.removeChild(this)}return function(d,k){var p=M.doc.createElement(\"img\"),b=M.doc.body;p.style.cssText=\"position:absolute;left:-9999em;top:-9999em\";p.onload=function(){k.call(p);p.onload=p.onerror=null;b.removeChild(p)};p.onerror=a;\n",
       "b.appendChild(p);p.src=d}}();w.image=function(f,n,k,p,b){var q=this.el(\"image\");if(z(f,\"object\")&&\"src\"in f)q.attr(f);else if(null!=f){var e={\"xlink:href\":f,preserveAspectRatio:\"none\"};null!=n&&null!=k&&(e.x=n,e.y=k);null!=p&&null!=b?(e.width=p,e.height=b):d(f,function(){a._.$(q.node,{width:this.offsetWidth,height:this.offsetHeight})});a._.$(q.node,e)}return q};w.ellipse=function(a,d,k,p){var b;z(a,\"object\")&&\"[object Object]\"==a?b=a:null!=a&&(b={cx:a,cy:d,rx:k,ry:p});return this.el(\"ellipse\",b)};\n",
       "w.path=function(a){var d;z(a,\"object\")&&!z(a,\"array\")?d=a:a&&(d={d:a});return this.el(\"path\",d)};w.group=w.g=function(a){var d=this.el(\"g\");1==arguments.length&&a&&!a.type?d.attr(a):arguments.length&&d.add(Array.prototype.slice.call(arguments,0));return d};w.svg=function(a,d,k,p,b,q,e,l){var r={};z(a,\"object\")&&null==d?r=a:(null!=a&&(r.x=a),null!=d&&(r.y=d),null!=k&&(r.width=k),null!=p&&(r.height=p),null!=b&&null!=q&&null!=e&&null!=l&&(r.viewBox=[b,q,e,l]));return this.el(\"svg\",r)};w.mask=function(a){var d=\n",
       "this.el(\"mask\");1==arguments.length&&a&&!a.type?d.attr(a):arguments.length&&d.add(Array.prototype.slice.call(arguments,0));return d};w.ptrn=function(a,d,k,p,b,q,e,l){if(z(a,\"object\"))var r=a;else arguments.length?(r={},null!=a&&(r.x=a),null!=d&&(r.y=d),null!=k&&(r.width=k),null!=p&&(r.height=p),null!=b&&null!=q&&null!=e&&null!=l&&(r.viewBox=[b,q,e,l])):r={patternUnits:\"userSpaceOnUse\"};return this.el(\"pattern\",r)};w.use=function(a){return null!=a?(make(\"use\",this.node),a instanceof v&&(a.attr(\"id\")||\n",
       "a.attr({id:ID()}),a=a.attr(\"id\")),this.el(\"use\",{\"xlink:href\":a})):v.prototype.use.call(this)};w.text=function(a,d,k){var p={};z(a,\"object\")?p=a:null!=a&&(p={x:a,y:d,text:k||\"\"});return this.el(\"text\",p)};w.line=function(a,d,k,p){var b={};z(a,\"object\")?b=a:null!=a&&(b={x1:a,x2:k,y1:d,y2:p});return this.el(\"line\",b)};w.polyline=function(a){1<arguments.length&&(a=Array.prototype.slice.call(arguments,0));var d={};z(a,\"object\")&&!z(a,\"array\")?d=a:null!=a&&(d={points:a});return this.el(\"polyline\",d)};\n",
       "w.polygon=function(a){1<arguments.length&&(a=Array.prototype.slice.call(arguments,0));var d={};z(a,\"object\")&&!z(a,\"array\")?d=a:null!=a&&(d={points:a});return this.el(\"polygon\",d)};(function(){function d(){return this.selectAll(\"stop\")}function n(b,d){var f=e(\"stop\"),k={offset:+d+\"%\"};b=a.color(b);k[\"stop-color\"]=b.hex;1>b.opacity&&(k[\"stop-opacity\"]=b.opacity);e(f,k);this.node.appendChild(f);return this}function u(){if(\"linearGradient\"==this.type){var b=e(this.node,\"x1\")||0,d=e(this.node,\"x2\")||\n",
       "1,f=e(this.node,\"y1\")||0,k=e(this.node,\"y2\")||0;return a._.box(b,f,math.abs(d-b),math.abs(k-f))}b=this.node.r||0;return a._.box((this.node.cx||0.5)-b,(this.node.cy||0.5)-b,2*b,2*b)}function p(a,d){function f(a,b){for(var d=(b-u)/(a-w),e=w;e<a;e++)h[e].offset=+(+u+d*(e-w)).toFixed(2);w=a;u=b}var n=k(\"snap.util.grad.parse\",null,d).firstDefined(),p;if(!n)return null;n.params.unshift(a);p=\"l\"==n.type.toLowerCase()?b.apply(0,n.params):q.apply(0,n.params);n.type!=n.type.toLowerCase()&&e(p.node,{gradientUnits:\"userSpaceOnUse\"});\n",
       "var h=n.stops,n=h.length,u=0,w=0;n--;for(var v=0;v<n;v++)\"offset\"in h[v]&&f(v,h[v].offset);h[n].offset=h[n].offset||100;f(n,h[n].offset);for(v=0;v<=n;v++){var y=h[v];p.addStop(y.color,y.offset)}return p}function b(b,k,p,q,w){b=a._.make(\"linearGradient\",b);b.stops=d;b.addStop=n;b.getBBox=u;null!=k&&e(b.node,{x1:k,y1:p,x2:q,y2:w});return b}function q(b,k,p,q,w,h){b=a._.make(\"radialGradient\",b);b.stops=d;b.addStop=n;b.getBBox=u;null!=k&&e(b.node,{cx:k,cy:p,r:q});null!=w&&null!=h&&e(b.node,{fx:w,fy:h});\n",
       "return b}var e=a._.$;w.gradient=function(a){return p(this.defs,a)};w.gradientLinear=function(a,d,e,f){return b(this.defs,a,d,e,f)};w.gradientRadial=function(a,b,d,e,f){return q(this.defs,a,b,d,e,f)};w.toString=function(){var b=this.node.ownerDocument,d=b.createDocumentFragment(),b=b.createElement(\"div\"),e=this.node.cloneNode(!0);d.appendChild(b);b.appendChild(e);a._.$(e,{xmlns:\"http://www.w3.org/2000/svg\"});b=b.innerHTML;d.removeChild(d.firstChild);return b};w.clear=function(){for(var a=this.node.firstChild,\n",
       "b;a;)b=a.nextSibling,\"defs\"!=a.tagName?a.parentNode.removeChild(a):w.clear.call({node:a}),a=b}})()});C.plugin(function(a,k,y,M){function A(a){var b=A.ps=A.ps||{};b[a]?b[a].sleep=100:b[a]={sleep:100};setTimeout(function(){for(var d in b)b[L](d)&&d!=a&&(b[d].sleep--,!b[d].sleep&&delete b[d])});return b[a]}function w(a,b,d,e){null==a&&(a=b=d=e=0);null==b&&(b=a.y,d=a.width,e=a.height,a=a.x);return{x:a,y:b,width:d,w:d,height:e,h:e,x2:a+d,y2:b+e,cx:a+d/2,cy:b+e/2,r1:F.min(d,e)/2,r2:F.max(d,e)/2,r0:F.sqrt(d*\n",
       "d+e*e)/2,path:s(a,b,d,e),vb:[a,b,d,e].join(\" \")}}function z(){return this.join(\",\").replace(N,\"$1\")}function d(a){a=C(a);a.toString=z;return a}function f(a,b,d,h,f,k,l,n,p){if(null==p)return e(a,b,d,h,f,k,l,n);if(0>p||e(a,b,d,h,f,k,l,n)<p)p=void 0;else{var q=0.5,O=1-q,s;for(s=e(a,b,d,h,f,k,l,n,O);0.01<Z(s-p);)q/=2,O+=(s<p?1:-1)*q,s=e(a,b,d,h,f,k,l,n,O);p=O}return u(a,b,d,h,f,k,l,n,p)}function n(b,d){function e(a){return+(+a).toFixed(3)}return a._.cacher(function(a,h,l){a instanceof k&&(a=a.attr(\"d\"));\n",
       "a=I(a);for(var n,p,D,q,O=\"\",s={},c=0,t=0,r=a.length;t<r;t++){D=a[t];if(\"M\"==D[0])n=+D[1],p=+D[2];else{q=f(n,p,D[1],D[2],D[3],D[4],D[5],D[6]);if(c+q>h){if(d&&!s.start){n=f(n,p,D[1],D[2],D[3],D[4],D[5],D[6],h-c);O+=[\"C\"+e(n.start.x),e(n.start.y),e(n.m.x),e(n.m.y),e(n.x),e(n.y)];if(l)return O;s.start=O;O=[\"M\"+e(n.x),e(n.y)+\"C\"+e(n.n.x),e(n.n.y),e(n.end.x),e(n.end.y),e(D[5]),e(D[6])].join();c+=q;n=+D[5];p=+D[6];continue}if(!b&&!d)return n=f(n,p,D[1],D[2],D[3],D[4],D[5],D[6],h-c)}c+=q;n=+D[5];p=+D[6]}O+=\n",
       "D.shift()+D}s.end=O;return n=b?c:d?s:u(n,p,D[0],D[1],D[2],D[3],D[4],D[5],1)},null,a._.clone)}function u(a,b,d,e,h,f,k,l,n){var p=1-n,q=ma(p,3),s=ma(p,2),c=n*n,t=c*n,r=q*a+3*s*n*d+3*p*n*n*h+t*k,q=q*b+3*s*n*e+3*p*n*n*f+t*l,s=a+2*n*(d-a)+c*(h-2*d+a),t=b+2*n*(e-b)+c*(f-2*e+b),x=d+2*n*(h-d)+c*(k-2*h+d),c=e+2*n*(f-e)+c*(l-2*f+e);a=p*a+n*d;b=p*b+n*e;h=p*h+n*k;f=p*f+n*l;l=90-180*F.atan2(s-x,t-c)/S;return{x:r,y:q,m:{x:s,y:t},n:{x:x,y:c},start:{x:a,y:b},end:{x:h,y:f},alpha:l}}function p(b,d,e,h,f,n,k,l){a.is(b,\n",
       "\"array\")||(b=[b,d,e,h,f,n,k,l]);b=U.apply(null,b);return w(b.min.x,b.min.y,b.max.x-b.min.x,b.max.y-b.min.y)}function b(a,b,d){return b>=a.x&&b<=a.x+a.width&&d>=a.y&&d<=a.y+a.height}function q(a,d){a=w(a);d=w(d);return b(d,a.x,a.y)||b(d,a.x2,a.y)||b(d,a.x,a.y2)||b(d,a.x2,a.y2)||b(a,d.x,d.y)||b(a,d.x2,d.y)||b(a,d.x,d.y2)||b(a,d.x2,d.y2)||(a.x<d.x2&&a.x>d.x||d.x<a.x2&&d.x>a.x)&&(a.y<d.y2&&a.y>d.y||d.y<a.y2&&d.y>a.y)}function e(a,b,d,e,h,f,n,k,l){null==l&&(l=1);l=(1<l?1:0>l?0:l)/2;for(var p=[-0.1252,\n",
       "0.1252,-0.3678,0.3678,-0.5873,0.5873,-0.7699,0.7699,-0.9041,0.9041,-0.9816,0.9816],q=[0.2491,0.2491,0.2335,0.2335,0.2032,0.2032,0.1601,0.1601,0.1069,0.1069,0.0472,0.0472],s=0,c=0;12>c;c++)var t=l*p[c]+l,r=t*(t*(-3*a+9*d-9*h+3*n)+6*a-12*d+6*h)-3*a+3*d,t=t*(t*(-3*b+9*e-9*f+3*k)+6*b-12*e+6*f)-3*b+3*e,s=s+q[c]*F.sqrt(r*r+t*t);return l*s}function l(a,b,d){a=I(a);b=I(b);for(var h,f,l,n,k,s,r,O,x,c,t=d?0:[],w=0,v=a.length;w<v;w++)if(x=a[w],\"M\"==x[0])h=k=x[1],f=s=x[2];else{\"C\"==x[0]?(x=[h,f].concat(x.slice(1)),\n",
       "h=x[6],f=x[7]):(x=[h,f,h,f,k,s,k,s],h=k,f=s);for(var G=0,y=b.length;G<y;G++)if(c=b[G],\"M\"==c[0])l=r=c[1],n=O=c[2];else{\"C\"==c[0]?(c=[l,n].concat(c.slice(1)),l=c[6],n=c[7]):(c=[l,n,l,n,r,O,r,O],l=r,n=O);var z;var K=x,B=c;z=d;var H=p(K),J=p(B);if(q(H,J)){for(var H=e.apply(0,K),J=e.apply(0,B),H=~~(H/8),J=~~(J/8),U=[],A=[],F={},M=z?0:[],P=0;P<H+1;P++){var C=u.apply(0,K.concat(P/H));U.push({x:C.x,y:C.y,t:P/H})}for(P=0;P<J+1;P++)C=u.apply(0,B.concat(P/J)),A.push({x:C.x,y:C.y,t:P/J});for(P=0;P<H;P++)for(K=\n",
       "0;K<J;K++){var Q=U[P],L=U[P+1],B=A[K],C=A[K+1],N=0.001>Z(L.x-Q.x)?\"y\":\"x\",S=0.001>Z(C.x-B.x)?\"y\":\"x\",R;R=Q.x;var Y=Q.y,V=L.x,ea=L.y,fa=B.x,ga=B.y,ha=C.x,ia=C.y;if(W(R,V)<X(fa,ha)||X(R,V)>W(fa,ha)||W(Y,ea)<X(ga,ia)||X(Y,ea)>W(ga,ia))R=void 0;else{var $=(R*ea-Y*V)*(fa-ha)-(R-V)*(fa*ia-ga*ha),aa=(R*ea-Y*V)*(ga-ia)-(Y-ea)*(fa*ia-ga*ha),ja=(R-V)*(ga-ia)-(Y-ea)*(fa-ha);if(ja){var $=$/ja,aa=aa/ja,ja=+$.toFixed(2),ba=+aa.toFixed(2);R=ja<+X(R,V).toFixed(2)||ja>+W(R,V).toFixed(2)||ja<+X(fa,ha).toFixed(2)||\n",
       "ja>+W(fa,ha).toFixed(2)||ba<+X(Y,ea).toFixed(2)||ba>+W(Y,ea).toFixed(2)||ba<+X(ga,ia).toFixed(2)||ba>+W(ga,ia).toFixed(2)?void 0:{x:$,y:aa}}else R=void 0}R&&F[R.x.toFixed(4)]!=R.y.toFixed(4)&&(F[R.x.toFixed(4)]=R.y.toFixed(4),Q=Q.t+Z((R[N]-Q[N])/(L[N]-Q[N]))*(L.t-Q.t),B=B.t+Z((R[S]-B[S])/(C[S]-B[S]))*(C.t-B.t),0<=Q&&1>=Q&&0<=B&&1>=B&&(z?M++:M.push({x:R.x,y:R.y,t1:Q,t2:B})))}z=M}else z=z?0:[];if(d)t+=z;else{H=0;for(J=z.length;H<J;H++)z[H].segment1=w,z[H].segment2=G,z[H].bez1=x,z[H].bez2=c;t=t.concat(z)}}}return t}\n",
       "function r(a){var b=A(a);if(b.bbox)return C(b.bbox);if(!a)return w();a=I(a);for(var d=0,e=0,h=[],f=[],l,n=0,k=a.length;n<k;n++)l=a[n],\"M\"==l[0]?(d=l[1],e=l[2],h.push(d),f.push(e)):(d=U(d,e,l[1],l[2],l[3],l[4],l[5],l[6]),h=h.concat(d.min.x,d.max.x),f=f.concat(d.min.y,d.max.y),d=l[5],e=l[6]);a=X.apply(0,h);l=X.apply(0,f);h=W.apply(0,h);f=W.apply(0,f);f=w(a,l,h-a,f-l);b.bbox=C(f);return f}function s(a,b,d,e,h){if(h)return[[\"M\",+a+ +h,b],[\"l\",d-2*h,0],[\"a\",h,h,0,0,1,h,h],[\"l\",0,e-2*h],[\"a\",h,h,0,0,1,\n",
       "-h,h],[\"l\",2*h-d,0],[\"a\",h,h,0,0,1,-h,-h],[\"l\",0,2*h-e],[\"a\",h,h,0,0,1,h,-h],[\"z\"] ];a=[[\"M\",a,b],[\"l\",d,0],[\"l\",0,e],[\"l\",-d,0],[\"z\"] ];a.toString=z;return a}function x(a,b,d,e,h){null==h&&null==e&&(e=d);a=+a;b=+b;d=+d;e=+e;if(null!=h){var f=Math.PI/180,l=a+d*Math.cos(-e*f);a+=d*Math.cos(-h*f);var n=b+d*Math.sin(-e*f);b+=d*Math.sin(-h*f);d=[[\"M\",l,n],[\"A\",d,d,0,+(180<h-e),0,a,b] ]}else d=[[\"M\",a,b],[\"m\",0,-e],[\"a\",d,e,0,1,1,0,2*e],[\"a\",d,e,0,1,1,0,-2*e],[\"z\"] ];d.toString=z;return d}function G(b){var e=\n",
       "A(b);if(e.abs)return d(e.abs);Q(b,\"array\")&&Q(b&&b[0],\"array\")||(b=a.parsePathString(b));if(!b||!b.length)return[[\"M\",0,0] ];var h=[],f=0,l=0,n=0,k=0,p=0;\"M\"==b[0][0]&&(f=+b[0][1],l=+b[0][2],n=f,k=l,p++,h[0]=[\"M\",f,l]);for(var q=3==b.length&&\"M\"==b[0][0]&&\"R\"==b[1][0].toUpperCase()&&\"Z\"==b[2][0].toUpperCase(),s,r,w=p,c=b.length;w<c;w++){h.push(s=[]);r=b[w];p=r[0];if(p!=p.toUpperCase())switch(s[0]=p.toUpperCase(),s[0]){case \"A\":s[1]=r[1];s[2]=r[2];s[3]=r[3];s[4]=r[4];s[5]=r[5];s[6]=+r[6]+f;s[7]=+r[7]+\n",
       "l;break;case \"V\":s[1]=+r[1]+l;break;case \"H\":s[1]=+r[1]+f;break;case \"R\":for(var t=[f,l].concat(r.slice(1)),u=2,v=t.length;u<v;u++)t[u]=+t[u]+f,t[++u]=+t[u]+l;h.pop();h=h.concat(P(t,q));break;case \"O\":h.pop();t=x(f,l,r[1],r[2]);t.push(t[0]);h=h.concat(t);break;case \"U\":h.pop();h=h.concat(x(f,l,r[1],r[2],r[3]));s=[\"U\"].concat(h[h.length-1].slice(-2));break;case \"M\":n=+r[1]+f,k=+r[2]+l;default:for(u=1,v=r.length;u<v;u++)s[u]=+r[u]+(u%2?f:l)}else if(\"R\"==p)t=[f,l].concat(r.slice(1)),h.pop(),h=h.concat(P(t,\n",
       "q)),s=[\"R\"].concat(r.slice(-2));else if(\"O\"==p)h.pop(),t=x(f,l,r[1],r[2]),t.push(t[0]),h=h.concat(t);else if(\"U\"==p)h.pop(),h=h.concat(x(f,l,r[1],r[2],r[3])),s=[\"U\"].concat(h[h.length-1].slice(-2));else for(t=0,u=r.length;t<u;t++)s[t]=r[t];p=p.toUpperCase();if(\"O\"!=p)switch(s[0]){case \"Z\":f=+n;l=+k;break;case \"H\":f=s[1];break;case \"V\":l=s[1];break;case \"M\":n=s[s.length-2],k=s[s.length-1];default:f=s[s.length-2],l=s[s.length-1]}}h.toString=z;e.abs=d(h);return h}function h(a,b,d,e){return[a,b,d,e,d,\n",
       "e]}function J(a,b,d,e,h,f){var l=1/3,n=2/3;return[l*a+n*d,l*b+n*e,l*h+n*d,l*f+n*e,h,f]}function K(b,d,e,h,f,l,n,k,p,s){var r=120*S/180,q=S/180*(+f||0),c=[],t,x=a._.cacher(function(a,b,c){var d=a*F.cos(c)-b*F.sin(c);a=a*F.sin(c)+b*F.cos(c);return{x:d,y:a}});if(s)v=s[0],t=s[1],l=s[2],u=s[3];else{t=x(b,d,-q);b=t.x;d=t.y;t=x(k,p,-q);k=t.x;p=t.y;F.cos(S/180*f);F.sin(S/180*f);t=(b-k)/2;v=(d-p)/2;u=t*t/(e*e)+v*v/(h*h);1<u&&(u=F.sqrt(u),e*=u,h*=u);var u=e*e,w=h*h,u=(l==n?-1:1)*F.sqrt(Z((u*w-u*v*v-w*t*t)/\n",
       "(u*v*v+w*t*t)));l=u*e*v/h+(b+k)/2;var u=u*-h*t/e+(d+p)/2,v=F.asin(((d-u)/h).toFixed(9));t=F.asin(((p-u)/h).toFixed(9));v=b<l?S-v:v;t=k<l?S-t:t;0>v&&(v=2*S+v);0>t&&(t=2*S+t);n&&v>t&&(v-=2*S);!n&&t>v&&(t-=2*S)}if(Z(t-v)>r){var c=t,w=k,G=p;t=v+r*(n&&t>v?1:-1);k=l+e*F.cos(t);p=u+h*F.sin(t);c=K(k,p,e,h,f,0,n,w,G,[t,c,l,u])}l=t-v;f=F.cos(v);r=F.sin(v);n=F.cos(t);t=F.sin(t);l=F.tan(l/4);e=4/3*e*l;l*=4/3*h;h=[b,d];b=[b+e*r,d-l*f];d=[k+e*t,p-l*n];k=[k,p];b[0]=2*h[0]-b[0];b[1]=2*h[1]-b[1];if(s)return[b,d,k].concat(c);\n",
       "c=[b,d,k].concat(c).join().split(\",\");s=[];k=0;for(p=c.length;k<p;k++)s[k]=k%2?x(c[k-1],c[k],q).y:x(c[k],c[k+1],q).x;return s}function U(a,b,d,e,h,f,l,k){for(var n=[],p=[[],[] ],s,r,c,t,q=0;2>q;++q)0==q?(r=6*a-12*d+6*h,s=-3*a+9*d-9*h+3*l,c=3*d-3*a):(r=6*b-12*e+6*f,s=-3*b+9*e-9*f+3*k,c=3*e-3*b),1E-12>Z(s)?1E-12>Z(r)||(s=-c/r,0<s&&1>s&&n.push(s)):(t=r*r-4*c*s,c=F.sqrt(t),0>t||(t=(-r+c)/(2*s),0<t&&1>t&&n.push(t),s=(-r-c)/(2*s),0<s&&1>s&&n.push(s)));for(r=q=n.length;q--;)s=n[q],c=1-s,p[0][q]=c*c*c*a+3*\n",
       "c*c*s*d+3*c*s*s*h+s*s*s*l,p[1][q]=c*c*c*b+3*c*c*s*e+3*c*s*s*f+s*s*s*k;p[0][r]=a;p[1][r]=b;p[0][r+1]=l;p[1][r+1]=k;p[0].length=p[1].length=r+2;return{min:{x:X.apply(0,p[0]),y:X.apply(0,p[1])},max:{x:W.apply(0,p[0]),y:W.apply(0,p[1])}}}function I(a,b){var e=!b&&A(a);if(!b&&e.curve)return d(e.curve);var f=G(a),l=b&&G(b),n={x:0,y:0,bx:0,by:0,X:0,Y:0,qx:null,qy:null},k={x:0,y:0,bx:0,by:0,X:0,Y:0,qx:null,qy:null},p=function(a,b,c){if(!a)return[\"C\",b.x,b.y,b.x,b.y,b.x,b.y];a[0]in{T:1,Q:1}||(b.qx=b.qy=null);\n",
       "switch(a[0]){case \"M\":b.X=a[1];b.Y=a[2];break;case \"A\":a=[\"C\"].concat(K.apply(0,[b.x,b.y].concat(a.slice(1))));break;case \"S\":\"C\"==c||\"S\"==c?(c=2*b.x-b.bx,b=2*b.y-b.by):(c=b.x,b=b.y);a=[\"C\",c,b].concat(a.slice(1));break;case \"T\":\"Q\"==c||\"T\"==c?(b.qx=2*b.x-b.qx,b.qy=2*b.y-b.qy):(b.qx=b.x,b.qy=b.y);a=[\"C\"].concat(J(b.x,b.y,b.qx,b.qy,a[1],a[2]));break;case \"Q\":b.qx=a[1];b.qy=a[2];a=[\"C\"].concat(J(b.x,b.y,a[1],a[2],a[3],a[4]));break;case \"L\":a=[\"C\"].concat(h(b.x,b.y,a[1],a[2]));break;case \"H\":a=[\"C\"].concat(h(b.x,\n",
       "b.y,a[1],b.y));break;case \"V\":a=[\"C\"].concat(h(b.x,b.y,b.x,a[1]));break;case \"Z\":a=[\"C\"].concat(h(b.x,b.y,b.X,b.Y))}return a},s=function(a,b){if(7<a[b].length){a[b].shift();for(var c=a[b];c.length;)q[b]=\"A\",l&&(u[b]=\"A\"),a.splice(b++,0,[\"C\"].concat(c.splice(0,6)));a.splice(b,1);v=W(f.length,l&&l.length||0)}},r=function(a,b,c,d,e){a&&b&&\"M\"==a[e][0]&&\"M\"!=b[e][0]&&(b.splice(e,0,[\"M\",d.x,d.y]),c.bx=0,c.by=0,c.x=a[e][1],c.y=a[e][2],v=W(f.length,l&&l.length||0))},q=[],u=[],c=\"\",t=\"\",x=0,v=W(f.length,\n",
       "l&&l.length||0);for(;x<v;x++){f[x]&&(c=f[x][0]);\"C\"!=c&&(q[x]=c,x&&(t=q[x-1]));f[x]=p(f[x],n,t);\"A\"!=q[x]&&\"C\"==c&&(q[x]=\"C\");s(f,x);l&&(l[x]&&(c=l[x][0]),\"C\"!=c&&(u[x]=c,x&&(t=u[x-1])),l[x]=p(l[x],k,t),\"A\"!=u[x]&&\"C\"==c&&(u[x]=\"C\"),s(l,x));r(f,l,n,k,x);r(l,f,k,n,x);var w=f[x],z=l&&l[x],y=w.length,U=l&&z.length;n.x=w[y-2];n.y=w[y-1];n.bx=$(w[y-4])||n.x;n.by=$(w[y-3])||n.y;k.bx=l&&($(z[U-4])||k.x);k.by=l&&($(z[U-3])||k.y);k.x=l&&z[U-2];k.y=l&&z[U-1]}l||(e.curve=d(f));return l?[f,l]:f}function P(a,\n",
       "b){for(var d=[],e=0,h=a.length;h-2*!b>e;e+=2){var f=[{x:+a[e-2],y:+a[e-1]},{x:+a[e],y:+a[e+1]},{x:+a[e+2],y:+a[e+3]},{x:+a[e+4],y:+a[e+5]}];b?e?h-4==e?f[3]={x:+a[0],y:+a[1]}:h-2==e&&(f[2]={x:+a[0],y:+a[1]},f[3]={x:+a[2],y:+a[3]}):f[0]={x:+a[h-2],y:+a[h-1]}:h-4==e?f[3]=f[2]:e||(f[0]={x:+a[e],y:+a[e+1]});d.push([\"C\",(-f[0].x+6*f[1].x+f[2].x)/6,(-f[0].y+6*f[1].y+f[2].y)/6,(f[1].x+6*f[2].x-f[3].x)/6,(f[1].y+6*f[2].y-f[3].y)/6,f[2].x,f[2].y])}return d}y=k.prototype;var Q=a.is,C=a._.clone,L=\"hasOwnProperty\",\n",
       "N=/,?([a-z]),?/gi,$=parseFloat,F=Math,S=F.PI,X=F.min,W=F.max,ma=F.pow,Z=F.abs;M=n(1);var na=n(),ba=n(0,1),V=a._unit2px;a.path=A;a.path.getTotalLength=M;a.path.getPointAtLength=na;a.path.getSubpath=function(a,b,d){if(1E-6>this.getTotalLength(a)-d)return ba(a,b).end;a=ba(a,d,1);return b?ba(a,b).end:a};y.getTotalLength=function(){if(this.node.getTotalLength)return this.node.getTotalLength()};y.getPointAtLength=function(a){return na(this.attr(\"d\"),a)};y.getSubpath=function(b,d){return a.path.getSubpath(this.attr(\"d\"),\n",
       "b,d)};a._.box=w;a.path.findDotsAtSegment=u;a.path.bezierBBox=p;a.path.isPointInsideBBox=b;a.path.isBBoxIntersect=q;a.path.intersection=function(a,b){return l(a,b)};a.path.intersectionNumber=function(a,b){return l(a,b,1)};a.path.isPointInside=function(a,d,e){var h=r(a);return b(h,d,e)&&1==l(a,[[\"M\",d,e],[\"H\",h.x2+10] ],1)%2};a.path.getBBox=r;a.path.get={path:function(a){return a.attr(\"path\")},circle:function(a){a=V(a);return x(a.cx,a.cy,a.r)},ellipse:function(a){a=V(a);return x(a.cx||0,a.cy||0,a.rx,\n",
       "a.ry)},rect:function(a){a=V(a);return s(a.x||0,a.y||0,a.width,a.height,a.rx,a.ry)},image:function(a){a=V(a);return s(a.x||0,a.y||0,a.width,a.height)},line:function(a){return\"M\"+[a.attr(\"x1\")||0,a.attr(\"y1\")||0,a.attr(\"x2\"),a.attr(\"y2\")]},polyline:function(a){return\"M\"+a.attr(\"points\")},polygon:function(a){return\"M\"+a.attr(\"points\")+\"z\"},deflt:function(a){a=a.node.getBBox();return s(a.x,a.y,a.width,a.height)}};a.path.toRelative=function(b){var e=A(b),h=String.prototype.toLowerCase;if(e.rel)return d(e.rel);\n",
       "a.is(b,\"array\")&&a.is(b&&b[0],\"array\")||(b=a.parsePathString(b));var f=[],l=0,n=0,k=0,p=0,s=0;\"M\"==b[0][0]&&(l=b[0][1],n=b[0][2],k=l,p=n,s++,f.push([\"M\",l,n]));for(var r=b.length;s<r;s++){var q=f[s]=[],x=b[s];if(x[0]!=h.call(x[0]))switch(q[0]=h.call(x[0]),q[0]){case \"a\":q[1]=x[1];q[2]=x[2];q[3]=x[3];q[4]=x[4];q[5]=x[5];q[6]=+(x[6]-l).toFixed(3);q[7]=+(x[7]-n).toFixed(3);break;case \"v\":q[1]=+(x[1]-n).toFixed(3);break;case \"m\":k=x[1],p=x[2];default:for(var c=1,t=x.length;c<t;c++)q[c]=+(x[c]-(c%2?l:\n",
       "n)).toFixed(3)}else for(f[s]=[],\"m\"==x[0]&&(k=x[1]+l,p=x[2]+n),q=0,c=x.length;q<c;q++)f[s][q]=x[q];x=f[s].length;switch(f[s][0]){case \"z\":l=k;n=p;break;case \"h\":l+=+f[s][x-1];break;case \"v\":n+=+f[s][x-1];break;default:l+=+f[s][x-2],n+=+f[s][x-1]}}f.toString=z;e.rel=d(f);return f};a.path.toAbsolute=G;a.path.toCubic=I;a.path.map=function(a,b){if(!b)return a;var d,e,h,f,l,n,k;a=I(a);h=0;for(l=a.length;h<l;h++)for(k=a[h],f=1,n=k.length;f<n;f+=2)d=b.x(k[f],k[f+1]),e=b.y(k[f],k[f+1]),k[f]=d,k[f+1]=e;return a};\n",
       "a.path.toString=z;a.path.clone=d});C.plugin(function(a,v,y,C){var A=Math.max,w=Math.min,z=function(a){this.items=[];this.bindings={};this.length=0;this.type=\"set\";if(a)for(var f=0,n=a.length;f<n;f++)a[f]&&(this[this.items.length]=this.items[this.items.length]=a[f],this.length++)};v=z.prototype;v.push=function(){for(var a,f,n=0,k=arguments.length;n<k;n++)if(a=arguments[n])f=this.items.length,this[f]=this.items[f]=a,this.length++;return this};v.pop=function(){this.length&&delete this[this.length--];\n",
       "return this.items.pop()};v.forEach=function(a,f){for(var n=0,k=this.items.length;n<k&&!1!==a.call(f,this.items[n],n);n++);return this};v.animate=function(d,f,n,u){\"function\"!=typeof n||n.length||(u=n,n=L.linear);d instanceof a._.Animation&&(u=d.callback,n=d.easing,f=n.dur,d=d.attr);var p=arguments;if(a.is(d,\"array\")&&a.is(p[p.length-1],\"array\"))var b=!0;var q,e=function(){q?this.b=q:q=this.b},l=0,r=u&&function(){l++==this.length&&u.call(this)};return this.forEach(function(a,l){k.once(\"snap.animcreated.\"+\n",
       "a.id,e);b?p[l]&&a.animate.apply(a,p[l]):a.animate(d,f,n,r)})};v.remove=function(){for(;this.length;)this.pop().remove();return this};v.bind=function(a,f,k){var u={};if(\"function\"==typeof f)this.bindings[a]=f;else{var p=k||a;this.bindings[a]=function(a){u[p]=a;f.attr(u)}}return this};v.attr=function(a){var f={},k;for(k in a)if(this.bindings[k])this.bindings[k](a[k]);else f[k]=a[k];a=0;for(k=this.items.length;a<k;a++)this.items[a].attr(f);return this};v.clear=function(){for(;this.length;)this.pop()};\n",
       "v.splice=function(a,f,k){a=0>a?A(this.length+a,0):a;f=A(0,w(this.length-a,f));var u=[],p=[],b=[],q;for(q=2;q<arguments.length;q++)b.push(arguments[q]);for(q=0;q<f;q++)p.push(this[a+q]);for(;q<this.length-a;q++)u.push(this[a+q]);var e=b.length;for(q=0;q<e+u.length;q++)this.items[a+q]=this[a+q]=q<e?b[q]:u[q-e];for(q=this.items.length=this.length-=f-e;this[q];)delete this[q++];return new z(p)};v.exclude=function(a){for(var f=0,k=this.length;f<k;f++)if(this[f]==a)return this.splice(f,1),!0;return!1};\n",
       "v.insertAfter=function(a){for(var f=this.items.length;f--;)this.items[f].insertAfter(a);return this};v.getBBox=function(){for(var a=[],f=[],k=[],u=[],p=this.items.length;p--;)if(!this.items[p].removed){var b=this.items[p].getBBox();a.push(b.x);f.push(b.y);k.push(b.x+b.width);u.push(b.y+b.height)}a=w.apply(0,a);f=w.apply(0,f);k=A.apply(0,k);u=A.apply(0,u);return{x:a,y:f,x2:k,y2:u,width:k-a,height:u-f,cx:a+(k-a)/2,cy:f+(u-f)/2}};v.clone=function(a){a=new z;for(var f=0,k=this.items.length;f<k;f++)a.push(this.items[f].clone());\n",
       "return a};v.toString=function(){return\"Snap\\u2018s set\"};v.type=\"set\";a.set=function(){var a=new z;arguments.length&&a.push.apply(a,Array.prototype.slice.call(arguments,0));return a}});C.plugin(function(a,v,y,C){function A(a){var b=a[0];switch(b.toLowerCase()){case \"t\":return[b,0,0];case \"m\":return[b,1,0,0,1,0,0];case \"r\":return 4==a.length?[b,0,a[2],a[3] ]:[b,0];case \"s\":return 5==a.length?[b,1,1,a[3],a[4] ]:3==a.length?[b,1,1]:[b,1]}}function w(b,d,f){d=q(d).replace(/\\.{3}|\\u2026/g,b);b=a.parseTransformString(b)||\n",
       "[];d=a.parseTransformString(d)||[];for(var k=Math.max(b.length,d.length),p=[],v=[],h=0,w,z,y,I;h<k;h++){y=b[h]||A(d[h]);I=d[h]||A(y);if(y[0]!=I[0]||\"r\"==y[0].toLowerCase()&&(y[2]!=I[2]||y[3]!=I[3])||\"s\"==y[0].toLowerCase()&&(y[3]!=I[3]||y[4]!=I[4])){b=a._.transform2matrix(b,f());d=a._.transform2matrix(d,f());p=[[\"m\",b.a,b.b,b.c,b.d,b.e,b.f] ];v=[[\"m\",d.a,d.b,d.c,d.d,d.e,d.f] ];break}p[h]=[];v[h]=[];w=0;for(z=Math.max(y.length,I.length);w<z;w++)w in y&&(p[h][w]=y[w]),w in I&&(v[h][w]=I[w])}return{from:u(p),\n",
       "to:u(v),f:n(p)}}function z(a){return a}function d(a){return function(b){return+b.toFixed(3)+a}}function f(b){return a.rgb(b[0],b[1],b[2])}function n(a){var b=0,d,f,k,n,h,p,q=[];d=0;for(f=a.length;d<f;d++){h=\"[\";p=['\"'+a[d][0]+'\"'];k=1;for(n=a[d].length;k<n;k++)p[k]=\"val[\"+b++ +\"]\";h+=p+\"]\";q[d]=h}return Function(\"val\",\"return Snap.path.toString.call([\"+q+\"])\")}function u(a){for(var b=[],d=0,f=a.length;d<f;d++)for(var k=1,n=a[d].length;k<n;k++)b.push(a[d][k]);return b}var p={},b=/[a-z]+$/i,q=String;\n",
       "p.stroke=p.fill=\"colour\";v.prototype.equal=function(a,b){return k(\"snap.util.equal\",this,a,b).firstDefined()};k.on(\"snap.util.equal\",function(e,k){var r,s;r=q(this.attr(e)||\"\");var x=this;if(r==+r&&k==+k)return{from:+r,to:+k,f:z};if(\"colour\"==p[e])return r=a.color(r),s=a.color(k),{from:[r.r,r.g,r.b,r.opacity],to:[s.r,s.g,s.b,s.opacity],f:f};if(\"transform\"==e||\"gradientTransform\"==e||\"patternTransform\"==e)return k instanceof a.Matrix&&(k=k.toTransformString()),a._.rgTransform.test(k)||(k=a._.svgTransform2string(k)),\n",
       "w(r,k,function(){return x.getBBox(1)});if(\"d\"==e||\"path\"==e)return r=a.path.toCubic(r,k),{from:u(r[0]),to:u(r[1]),f:n(r[0])};if(\"points\"==e)return r=q(r).split(a._.separator),s=q(k).split(a._.separator),{from:r,to:s,f:function(a){return a}};aUnit=r.match(b);s=q(k).match(b);return aUnit&&aUnit==s?{from:parseFloat(r),to:parseFloat(k),f:d(aUnit)}:{from:this.asPX(e),to:this.asPX(e,k),f:z}})});C.plugin(function(a,v,y,C){var A=v.prototype,w=\"createTouch\"in C.doc;v=\"click dblclick mousedown mousemove mouseout mouseover mouseup touchstart touchmove touchend touchcancel\".split(\" \");\n",
       "var z={mousedown:\"touchstart\",mousemove:\"touchmove\",mouseup:\"touchend\"},d=function(a,b){var d=\"y\"==a?\"scrollTop\":\"scrollLeft\",e=b&&b.node?b.node.ownerDocument:C.doc;return e[d in e.documentElement?\"documentElement\":\"body\"][d]},f=function(){this.returnValue=!1},n=function(){return this.originalEvent.preventDefault()},u=function(){this.cancelBubble=!0},p=function(){return this.originalEvent.stopPropagation()},b=function(){if(C.doc.addEventListener)return function(a,b,e,f){var k=w&&z[b]?z[b]:b,l=function(k){var l=\n",
       "d(\"y\",f),q=d(\"x\",f);if(w&&z.hasOwnProperty(b))for(var r=0,u=k.targetTouches&&k.targetTouches.length;r<u;r++)if(k.targetTouches[r].target==a||a.contains(k.targetTouches[r].target)){u=k;k=k.targetTouches[r];k.originalEvent=u;k.preventDefault=n;k.stopPropagation=p;break}return e.call(f,k,k.clientX+q,k.clientY+l)};b!==k&&a.addEventListener(b,l,!1);a.addEventListener(k,l,!1);return function(){b!==k&&a.removeEventListener(b,l,!1);a.removeEventListener(k,l,!1);return!0}};if(C.doc.attachEvent)return function(a,\n",
       "b,e,h){var k=function(a){a=a||h.node.ownerDocument.window.event;var b=d(\"y\",h),k=d(\"x\",h),k=a.clientX+k,b=a.clientY+b;a.preventDefault=a.preventDefault||f;a.stopPropagation=a.stopPropagation||u;return e.call(h,a,k,b)};a.attachEvent(\"on\"+b,k);return function(){a.detachEvent(\"on\"+b,k);return!0}}}(),q=[],e=function(a){for(var b=a.clientX,e=a.clientY,f=d(\"y\"),l=d(\"x\"),n,p=q.length;p--;){n=q[p];if(w)for(var r=a.touches&&a.touches.length,u;r--;){if(u=a.touches[r],u.identifier==n.el._drag.id||n.el.node.contains(u.target)){b=\n",
       "u.clientX;e=u.clientY;(a.originalEvent?a.originalEvent:a).preventDefault();break}}else a.preventDefault();b+=l;e+=f;k(\"snap.drag.move.\"+n.el.id,n.move_scope||n.el,b-n.el._drag.x,e-n.el._drag.y,b,e,a)}},l=function(b){a.unmousemove(e).unmouseup(l);for(var d=q.length,f;d--;)f=q[d],f.el._drag={},k(\"snap.drag.end.\"+f.el.id,f.end_scope||f.start_scope||f.move_scope||f.el,b);q=[]};for(y=v.length;y--;)(function(d){a[d]=A[d]=function(e,f){a.is(e,\"function\")&&(this.events=this.events||[],this.events.push({name:d,\n",
       "f:e,unbind:b(this.node||document,d,e,f||this)}));return this};a[\"un\"+d]=A[\"un\"+d]=function(a){for(var b=this.events||[],e=b.length;e--;)if(b[e].name==d&&(b[e].f==a||!a)){b[e].unbind();b.splice(e,1);!b.length&&delete this.events;break}return this}})(v[y]);A.hover=function(a,b,d,e){return this.mouseover(a,d).mouseout(b,e||d)};A.unhover=function(a,b){return this.unmouseover(a).unmouseout(b)};var r=[];A.drag=function(b,d,f,h,n,p){function u(r,v,w){(r.originalEvent||r).preventDefault();this._drag.x=v;\n",
       "this._drag.y=w;this._drag.id=r.identifier;!q.length&&a.mousemove(e).mouseup(l);q.push({el:this,move_scope:h,start_scope:n,end_scope:p});d&&k.on(\"snap.drag.start.\"+this.id,d);b&&k.on(\"snap.drag.move.\"+this.id,b);f&&k.on(\"snap.drag.end.\"+this.id,f);k(\"snap.drag.start.\"+this.id,n||h||this,v,w,r)}if(!arguments.length){var v;return this.drag(function(a,b){this.attr({transform:v+(v?\"T\":\"t\")+[a,b]})},function(){v=this.transform().local})}this._drag={};r.push({el:this,start:u});this.mousedown(u);return this};\n",
       "A.undrag=function(){for(var b=r.length;b--;)r[b].el==this&&(this.unmousedown(r[b].start),r.splice(b,1),k.unbind(\"snap.drag.*.\"+this.id));!r.length&&a.unmousemove(e).unmouseup(l);return this}});C.plugin(function(a,v,y,C){y=y.prototype;var A=/^\\s*url\\((.+)\\)/,w=String,z=a._.$;a.filter={};y.filter=function(d){var f=this;\"svg\"!=f.type&&(f=f.paper);d=a.parse(w(d));var k=a._.id(),u=z(\"filter\");z(u,{id:k,filterUnits:\"userSpaceOnUse\"});u.appendChild(d.node);f.defs.appendChild(u);return new v(u)};k.on(\"snap.util.getattr.filter\",\n",
       "function(){k.stop();var d=z(this.node,\"filter\");if(d)return(d=w(d).match(A))&&a.select(d[1])});k.on(\"snap.util.attr.filter\",function(d){if(d instanceof v&&\"filter\"==d.type){k.stop();var f=d.node.id;f||(z(d.node,{id:d.id}),f=d.id);z(this.node,{filter:a.url(f)})}d&&\"none\"!=d||(k.stop(),this.node.removeAttribute(\"filter\"))});a.filter.blur=function(d,f){null==d&&(d=2);return a.format('<feGaussianBlur stdDeviation=\"{def}\"/>',{def:null==f?d:[d,f]})};a.filter.blur.toString=function(){return this()};a.filter.shadow=\n",
       "function(d,f,k,u,p){\"string\"==typeof k&&(p=u=k,k=4);\"string\"!=typeof u&&(p=u,u=\"#000\");null==k&&(k=4);null==p&&(p=1);null==d&&(d=0,f=2);null==f&&(f=d);u=a.color(u||\"#000\");return a.format('<feGaussianBlur in=\"SourceAlpha\" stdDeviation=\"{blur}\"/><feOffset dx=\"{dx}\" dy=\"{dy}\" result=\"offsetblur\"/><feFlood flood-color=\"{color}\"/><feComposite in2=\"offsetblur\" operator=\"in\"/><feComponentTransfer><feFuncA type=\"linear\" slope=\"{opacity}\"/></feComponentTransfer><feMerge><feMergeNode/><feMergeNode in=\"SourceGraphic\"/></feMerge>',\n",
       "{color:u,dx:d,dy:f,blur:k,opacity:p})};a.filter.shadow.toString=function(){return this()};a.filter.grayscale=function(d){null==d&&(d=1);return a.format('<feColorMatrix type=\"matrix\" values=\"{a} {b} {c} 0 0 {d} {e} {f} 0 0 {g} {b} {h} 0 0 0 0 0 1 0\"/>',{a:0.2126+0.7874*(1-d),b:0.7152-0.7152*(1-d),c:0.0722-0.0722*(1-d),d:0.2126-0.2126*(1-d),e:0.7152+0.2848*(1-d),f:0.0722-0.0722*(1-d),g:0.2126-0.2126*(1-d),h:0.0722+0.9278*(1-d)})};a.filter.grayscale.toString=function(){return this()};a.filter.sepia=\n",
       "function(d){null==d&&(d=1);return a.format('<feColorMatrix type=\"matrix\" values=\"{a} {b} {c} 0 0 {d} {e} {f} 0 0 {g} {h} {i} 0 0 0 0 0 1 0\"/>',{a:0.393+0.607*(1-d),b:0.769-0.769*(1-d),c:0.189-0.189*(1-d),d:0.349-0.349*(1-d),e:0.686+0.314*(1-d),f:0.168-0.168*(1-d),g:0.272-0.272*(1-d),h:0.534-0.534*(1-d),i:0.131+0.869*(1-d)})};a.filter.sepia.toString=function(){return this()};a.filter.saturate=function(d){null==d&&(d=1);return a.format('<feColorMatrix type=\"saturate\" values=\"{amount}\"/>',{amount:1-\n",
       "d})};a.filter.saturate.toString=function(){return this()};a.filter.hueRotate=function(d){return a.format('<feColorMatrix type=\"hueRotate\" values=\"{angle}\"/>',{angle:d||0})};a.filter.hueRotate.toString=function(){return this()};a.filter.invert=function(d){null==d&&(d=1);return a.format('<feComponentTransfer><feFuncR type=\"table\" tableValues=\"{amount} {amount2}\"/><feFuncG type=\"table\" tableValues=\"{amount} {amount2}\"/><feFuncB type=\"table\" tableValues=\"{amount} {amount2}\"/></feComponentTransfer>',{amount:d,\n",
       "amount2:1-d})};a.filter.invert.toString=function(){return this()};a.filter.brightness=function(d){null==d&&(d=1);return a.format('<feComponentTransfer><feFuncR type=\"linear\" slope=\"{amount}\"/><feFuncG type=\"linear\" slope=\"{amount}\"/><feFuncB type=\"linear\" slope=\"{amount}\"/></feComponentTransfer>',{amount:d})};a.filter.brightness.toString=function(){return this()};a.filter.contrast=function(d){null==d&&(d=1);return a.format('<feComponentTransfer><feFuncR type=\"linear\" slope=\"{amount}\" intercept=\"{amount2}\"/><feFuncG type=\"linear\" slope=\"{amount}\" intercept=\"{amount2}\"/><feFuncB type=\"linear\" slope=\"{amount}\" intercept=\"{amount2}\"/></feComponentTransfer>',\n",
       "{amount:d,amount2:0.5-d/2})};a.filter.contrast.toString=function(){return this()}});return C});\n",
       "\n",
       "]]> </script>\n",
       "</svg>\n"
      ],
      "text/plain": [
       "Compose.Context(BBox{l,t,r,b,w,h = 0.0w,0.0h, 1.0w,1.0h, 1.0w,1.0h}, Compose.UnitBox{Float64, Float64, Float64, Float64}(-1.2, -1.2, 2.4, 2.4, 0.0mm, 0.0mm, 0.0mm, 0.0mm), nothing, nothing, nothing, List([Compose.Context(BBox{l,t,r,b,w,h = 0.0w,0.0h, 1.0w,1.0h, 1.0w,1.0h}, nothing, nothing, nothing, nothing, List([]), List([Compose.Form{Compose.LinePrimitive}(Compose.LinePrimitive[Compose.LinePrimitive{Tuple{Measures.Measure, Measures.Measure}}(Tuple{Measures.Measure, Measures.Measure}[(-0.906466687827947cx, 0.9338996515658169cy), (0.9225854940346055cx, -0.3586985010904498cy)]), Compose.LinePrimitive{Tuple{Measures.Measure, Measures.Measure}}(Tuple{Measures.Measure, Measures.Measure}[(-0.8873002417421076cx, 0.9795916429468774cy), (0.6519802496377521cx, 0.7008493780247045cy)]), Compose.LinePrimitive{Tuple{Measures.Measure, Measures.Measure}}(Tuple{Measures.Measure, Measures.Measure}[(0.9110069630115294cx, -0.44606239207600096cy), (-0.48127305193668224cx, -0.9569402918195365cy)]), Compose.LinePrimitive{Tuple{Measures.Measure, Measures.Measure}}(Tuple{Measures.Measure, Measures.Measure}[(-0.5203028568849692cx, -0.9025779569171113cy), (0.6889987866388546cx, 0.6016786199794028cy)])], Symbol(\"\"))]), List([Compose.Property{Compose.LineWidthPrimitive}(Compose.LineWidthPrimitive[Compose.LineWidthPrimitive(0.3053091637195159mm), Compose.LineWidthPrimitive(1.5mm), Compose.LineWidthPrimitive(0.2744073301456001mm), Compose.LineWidthPrimitive(0.3631567293015869mm)]), Compose.Property{Compose.FillPrimitive}(Compose.FillPrimitive[Compose.FillPrimitive(RGBA{Float64}(0.0,0.0,0.0,0.0))]), Compose.Property{Compose.StrokePrimitive}(Compose.StrokePrimitive[Compose.StrokePrimitive(RGBA{Float64}(0.8274509803921568,0.8274509803921568,0.8274509803921568,1.0))])]), 0, false, false, false, false, nothing, nothing, 0.0, Symbol(\"\")), Compose.Context(BBox{l,t,r,b,w,h = 0.0w,0.0h, 1.0w,1.0h, 1.0w,1.0h}, nothing, nothing, nothing, nothing, List([]), List([]), List([Compose.Property{Compose.LineWidthPrimitive}(Compose.LineWidthPrimitive[Compose.LineWidthPrimitive(0.3053091637195159mm), Compose.LineWidthPrimitive(1.5mm), Compose.LineWidthPrimitive(0.2744073301456001mm), Compose.LineWidthPrimitive(0.3631567293015869mm)]), Compose.Property{Compose.StrokePrimitive}(Compose.StrokePrimitive[Compose.StrokePrimitive(RGBA{Float64}(0.8274509803921568,0.8274509803921568,0.8274509803921568,1.0))])]), 0, false, false, false, false, nothing, nothing, 0.0, Symbol(\"\")), Compose.Context(BBox{l,t,r,b,w,h = 0.0w,0.0h, 1.0w,1.0h, 1.0w,1.0h}, nothing, nothing, nothing, nothing, List([]), List([]), List([Compose.Property{Compose.FontSizePrimitive}(Compose.FontSizePrimitive[Compose.FontSizePrimitive(4.0mm)]), Compose.Property{Compose.StrokePrimitive}(Compose.StrokePrimitive[Compose.StrokePrimitive(RGBA{Float64}(0.0,0.0,0.0,0.0))]), Compose.Property{Compose.FillPrimitive}(Compose.FillPrimitive[Compose.FillPrimitive(RGBA{Float64}(0.0,0.0,0.0,1.0))])]), 0, false, false, false, false, nothing, nothing, 0.0, Symbol(\"\")), Compose.Context(BBox{l,t,r,b,w,h = 0.0w,0.0h, 1.0w,1.0h, 1.0w,1.0h}, nothing, nothing, nothing, nothing, List([]), List([Compose.Form{Compose.CirclePrimitive{Tuple{Measures.Measure, Measures.Measure}, Measures.Measure}}(Compose.CirclePrimitive{Tuple{Measures.Measure, Measures.Measure}, Measures.Measure}[Compose.CirclePrimitive{Tuple{Measures.Measure, Measures.Measure}, Measures.Measure}((-1.0cx, 1.0cy), 0.04581307507512696w), Compose.CirclePrimitive{Tuple{Measures.Measure, Measures.Measure}, Measures.Measure}((1.0cx, -0.4134076277036489cy), 0.037918004733677936w), Compose.CirclePrimitive{Tuple{Measures.Measure, Measures.Measure}, Measures.Measure}((-0.5986223660864178cx, -1.0cy), 0.05w), Compose.CirclePrimitive{Tuple{Measures.Measure, Measures.Measure}, Measures.Measure}((0.7538884595281523cx, 0.6823952201255485cy), 0.041426250975598246w)], Symbol(\"\"))]), List([Compose.Property{Compose.LineWidthPrimitive}(Compose.LineWidthPrimitive[Compose.LineWidthPrimitive(0.0mm)]), Compose.Property{Compose.StrokePrimitive}(Compose.StrokePrimitive[Compose.StrokePrimitive(RGBA{Float64}(0.0,0.0,0.0,0.0))]), Compose.Property{Compose.FillPrimitive}(Compose.FillPrimitive[Compose.FillPrimitive(RGBA{Float64}(1.0,0.0,0.0,1.0)), Compose.FillPrimitive(RGBA{Float64}(0.7254901960784313,0.13725490196078433,0.0,1.0)), Compose.FillPrimitive(RGBA{Float64}(0.4666666666666667,0.26666666666666666,0.0,1.0)), Compose.FillPrimitive(RGBA{Float64}(0.807843137254902,0.09803921568627451,0.0,1.0))])]), 0, false, false, false, false, nothing, nothing, 0.0, Symbol(\"\")), Compose.Context(BBox{l,t,r,b,w,h = 0.0w,0.0h, 1.0w,1.0h, 1.0w,1.0h}, nothing, nothing, nothing, nothing, List([]), List([]), List([Compose.Property{Compose.FontSizePrimitive}(Compose.FontSizePrimitive[Compose.FontSizePrimitive(4.0mm)]), Compose.Property{Compose.StrokePrimitive}(Compose.StrokePrimitive[Compose.StrokePrimitive(RGBA{Float64}(0.0,0.0,0.0,0.0))]), Compose.Property{Compose.FillPrimitive}(Compose.FillPrimitive[Compose.FillPrimitive(RGBA{Float64}(0.0,0.0,0.0,1.0))])]), 0, false, false, false, false, nothing, nothing, 0.0, Symbol(\"\"))]), List([]), List([]), 0, false, false, false, false, nothing, nothing, 0.0, Symbol(\"\"))"
      ]
     },
     "execution_count": 3,
     "metadata": {},
     "output_type": "execute_result"
    }
   ],
   "source": [
    "Random.seed!(2)\n",
    "n = 4#30\n",
    "l = 4#50\n",
    "\n",
    "# Make graph\n",
    "G = watts_strogatz(n, 3, 0.2)\n",
    "\n",
    "# Convert to incidence matrix\n",
    "A = incidence_matrix(G, oriented=true)\n",
    "m = size(A, 2)\n",
    "\n",
    "# Create generator-node mapping\n",
    "node_map = vcat(collect(1:n), rand(1:n, l-n))\n",
    "B = spzeros(n, l)\n",
    "for (gen, node) in enumerate(node_map)\n",
    "    B[node, gen] = 1\n",
    "end\n",
    "\n",
    "# Generate carbon costs\n",
    "cq = zeros(l)\n",
    "cl = rand(Exponential(2), l)\n",
    "\n",
    "# Generate demands\n",
    "d = rand(Bernoulli(0.8), n) .* rand(Gamma(3.0, 3.0), n)\n",
    "\n",
    "# Generate generation and flow capacities\n",
    "gmax = rand(Gamma(4.0, 3.0), l) + (B'd)  # This is just to make the problem easier\n",
    "pmax = rand(Gamma(1.0, 0.1), m)\n",
    "\n",
    "# Plot network\n",
    "c_node = (B*cl) ./ (B*ones(l))\n",
    "nodesize = maximum(d) .+ d\n",
    "nodefillc = weighted_color_mean.((c_node / maximum(c_node)).^0.5, colorant\"red\", colorant\"green\")\n",
    "edgelinewidth = (pmax / maximum(pmax)).^0.5\n",
    "\n",
    "Random.seed!(0)  # I put a seed here so the spring layout doesn't change\n",
    "plt = gplot(G, nodesize=nodesize, nodefillc=nodefillc, edgelinewidth=edgelinewidth)"
   ]
  },
  {
   "cell_type": "markdown",
   "id": "arctic-sessions",
   "metadata": {},
   "source": [
    "# Solve the carbon management problem"
   ]
  },
  {
   "cell_type": "code",
   "execution_count": 4,
   "id": "backed-cycle",
   "metadata": {},
   "outputs": [],
   "source": [
    "cnet = PowerNetwork(cq, cl, pmax, gmax, A, B);"
   ]
  },
  {
   "cell_type": "code",
   "execution_count": 5,
   "id": "documentary-joint",
   "metadata": {},
   "outputs": [],
   "source": [
    "cnet = PowerNetwork(cq, cl, pmax, gmax, A, B);\n",
    "carbon_min = PowerManagementProblem(cnet, d)\n",
    "solve!(carbon_min, OPT, verbose=true);"
   ]
  },
  {
   "cell_type": "markdown",
   "id": "abandoned-tunnel",
   "metadata": {},
   "source": [
    "# Test the dynamic network"
   ]
  },
  {
   "cell_type": "markdown",
   "id": "devoted-printing",
   "metadata": {},
   "source": [
    "## One single timestep, with no battery capacity"
   ]
  },
  {
   "cell_type": "markdown",
   "id": "bottom-pleasure",
   "metadata": {},
   "source": [
    "This should give the same result as above"
   ]
  },
  {
   "cell_type": "code",
   "execution_count": 6,
   "id": "affecting-personal",
   "metadata": {},
   "outputs": [],
   "source": [
    "T = 1\n",
    "\n",
    "cq_dyn = [cq for _ in 1:T]\n",
    "cl_dyn = [cl for _ in 1:T]\n",
    "pmax_dyn = [pmax for _ in 1:T]\n",
    "gmax_dyn = [gmax for _ in 1:T]\n",
    "d_dyn = [d for _ in 1:T]\n",
    "\n",
    "P = rand(Exponential(2), n)\n",
    "C = rand(Exponential(2), n)\n",
    "C = zeros(n)\n",
    ";"
   ]
  },
  {
   "cell_type": "code",
   "execution_count": 7,
   "id": "sustained-causing",
   "metadata": {},
   "outputs": [],
   "source": [
    "dnet = DynamicPowerNetwork(\n",
    "    cq_dyn, cl_dyn, pmax_dyn, gmax_dyn, A, B, P, C\n",
    ")\n",
    "dmin = DynamicPowerManagementProblem(dnet, d_dyn);"
   ]
  },
  {
   "cell_type": "code",
   "execution_count": 8,
   "id": "realistic-learning",
   "metadata": {},
   "outputs": [],
   "source": [
    "solve!(dmin, OPT, verbose=true);"
   ]
  },
  {
   "cell_type": "code",
   "execution_count": 9,
   "id": "certain-container",
   "metadata": {},
   "outputs": [
    {
     "data": {
      "text/plain": [
       "4×1 Matrix{Float64}:\n",
       "  0.016152579671988337\n",
       "  0.38989237677094346\n",
       "  0.01304829018557715\n",
       " -0.022853378201656505"
      ]
     },
     "execution_count": 9,
     "metadata": {},
     "output_type": "execute_result"
    }
   ],
   "source": [
    "dmin.p[1].value"
   ]
  },
  {
   "cell_type": "code",
   "execution_count": 10,
   "id": "asian-tonight",
   "metadata": {},
   "outputs": [
    {
     "data": {
      "text/plain": [
       "4×1 Matrix{Float64}:\n",
       " 7.037740974474209\n",
       " 4.6232222463629284\n",
       " 8.97713921304489\n",
       " 6.241879475983513"
      ]
     },
     "execution_count": 10,
     "metadata": {},
     "output_type": "execute_result"
    }
   ],
   "source": [
    "dmin.g[1].value"
   ]
  },
  {
   "cell_type": "code",
   "execution_count": 11,
   "id": "identified-david",
   "metadata": {},
   "outputs": [
    {
     "data": {
      "text/plain": [
       "4×1 Matrix{Float64}:\n",
       " -4.4392447759973456e-10\n",
       " -2.5799024203658814e-10\n",
       " -1.0898324281757313e-10\n",
       " -3.0323947664080567e-10"
      ]
     },
     "execution_count": 11,
     "metadata": {},
     "output_type": "execute_result"
    }
   ],
   "source": [
    "dmin.s[1].value"
   ]
  },
  {
   "cell_type": "code",
   "execution_count": 12,
   "id": "bearing-calculator",
   "metadata": {},
   "outputs": [
    {
     "data": {
      "text/plain": [
       "44.988627313282755"
      ]
     },
     "execution_count": 12,
     "metadata": {},
     "output_type": "execute_result"
    }
   ],
   "source": [
    "dmin.problem.optval"
   ]
  },
  {
   "cell_type": "markdown",
   "id": "headed-gross",
   "metadata": {},
   "source": [
    "### Comparing with a static network problem + comparing the dual variables"
   ]
  },
  {
   "cell_type": "code",
   "execution_count": 13,
   "id": "sustained-chance",
   "metadata": {},
   "outputs": [],
   "source": [
    "# solution with static network\n",
    "cnet = PowerNetwork(cq_dyn[1], cl_dyn[1], pmax_dyn[1], gmax_dyn[1], A, B);\n",
    "carbon_min = PowerManagementProblem(cnet, d_dyn[1])\n",
    "solve!(carbon_min, OPT, verbose=true);"
   ]
  },
  {
   "cell_type": "code",
   "execution_count": 14,
   "id": "educated-malpractice",
   "metadata": {},
   "outputs": [
    {
     "name": "stdout",
     "output_type": "stream",
     "text": [
      "norm((dmin.g[1]).value - carbon_min.g.value) = 5.60456084534929e-9\n",
      "norm((dmin.p[1]).value - carbon_min.p.value) = 3.7803383136907905e-9\n"
     ]
    }
   ],
   "source": [
    "@show norm(dmin.g[1].value - carbon_min.g.value)\n",
    "@show norm(dmin.p[1].value - carbon_min.p.value);"
   ]
  },
  {
   "cell_type": "code",
   "execution_count": 15,
   "id": "conditional-maine",
   "metadata": {},
   "outputs": [],
   "source": [
    "x = flatten_variables_dyn(dmin);\n",
    "\n",
    "g, p, s, λpl, λpu, λgl, λgu, ν, λdsl, λdsu, λsl, λsu = unflatten_variables_dyn(x, n, m, l, T);"
   ]
  },
  {
   "cell_type": "code",
   "execution_count": 16,
   "id": "beautiful-australia",
   "metadata": {},
   "outputs": [],
   "source": [
    "g_, p_, λpl_, λpu_, λgl_, λgu_, ν_ = unflatten_variables(\n",
    "    flatten_variables(carbon_min), n, m, l\n",
    ");"
   ]
  },
  {
   "cell_type": "code",
   "execution_count": 17,
   "id": "moved-jewelry",
   "metadata": {},
   "outputs": [
    {
     "name": "stdout",
     "output_type": "stream",
     "text": [
      "norm(g[1] - g_) = 5.60456084534929e-9\n",
      "norm(p[1] - p_) = 3.7803383136907905e-9\n",
      "norm(λpl[1] - λpl_) = 1.2605246505784784e-7\n",
      "norm(λpu[1] - λpu_) = 1.2610357250327107e-7\n",
      "norm(λgl[1] - λgl_) = 7.565949670800018e-10\n",
      "norm(λgu[1] - λgu_) = 4.000253893649831e-10\n"
     ]
    },
    {
     "data": {
      "text/plain": [
       "4.000253893649831e-10"
      ]
     },
     "execution_count": 17,
     "metadata": {},
     "output_type": "execute_result"
    }
   ],
   "source": [
    "@show norm(g[1]-g_)\n",
    "@show norm(p[1]-p_)\n",
    "@show norm(λpl[1]-λpl_)\n",
    "@show norm(λpu[1]-λpu_)\n",
    "@show norm(λgl[1]-λgl_)\n",
    "@show norm(λgu[1]-λgu_)"
   ]
  },
  {
   "cell_type": "markdown",
   "id": "worthy-mustang",
   "metadata": {},
   "source": [
    "It seems that for a single timestep we recover exactly the initial problem. "
   ]
  },
  {
   "cell_type": "code",
   "execution_count": 18,
   "id": "former-surgery",
   "metadata": {},
   "outputs": [
    {
     "name": "stdout",
     "output_type": "stream",
     "text": [
      "norm(KKT) = 7.155805224763929e-9\n",
      "sum(abs.(KKT) .> TOL) = 0\n"
     ]
    }
   ],
   "source": [
    "x = flatten_variables_dyn(dmin);\n",
    "KKT = kkt_dyn(x, dnet, d_dyn);\n",
    "TOL = 1e-6;\n",
    "\n",
    "@show norm(KKT)\n",
    "@show sum(abs.(KKT) .> TOL);"
   ]
  },
  {
   "cell_type": "markdown",
   "id": "everyday-prisoner",
   "metadata": {},
   "source": [
    "## Several timesteps, with no battery capacity"
   ]
  },
  {
   "cell_type": "markdown",
   "id": "fiscal-addition",
   "metadata": {},
   "source": [
    "Again, this should be the same as $T$ uncoupled problems. "
   ]
  },
  {
   "cell_type": "code",
   "execution_count": 19,
   "id": "lesbian-recipe",
   "metadata": {},
   "outputs": [],
   "source": [
    "T = 2\n",
    "\n",
    "cq_dyn = [cq for _ in 1:T]\n",
    "cl_dyn = [cl for _ in 1:T]\n",
    "pmax_dyn = [pmax for _ in 1:T]\n",
    "gmax_dyn = [gmax for _ in 1:T]\n",
    "d_dyn = [d for _ in 1:T]\n",
    "\n",
    "P = rand(Exponential(2), n)\n",
    "C = rand(Exponential(2), n)\n",
    "C = zeros(n)\n",
    ";"
   ]
  },
  {
   "cell_type": "code",
   "execution_count": 20,
   "id": "stock-favorite",
   "metadata": {},
   "outputs": [],
   "source": [
    "dnet = DynamicPowerNetwork(\n",
    "    cq_dyn, cl_dyn, pmax_dyn, gmax_dyn, A, B, P, C\n",
    ")\n",
    "dmin = DynamicPowerManagementProblem(dnet, d_dyn);"
   ]
  },
  {
   "cell_type": "code",
   "execution_count": 21,
   "id": "palestinian-surface",
   "metadata": {},
   "outputs": [],
   "source": [
    "solve!(dmin, OPT, verbose=true);"
   ]
  },
  {
   "cell_type": "code",
   "execution_count": 22,
   "id": "cardiac-repository",
   "metadata": {},
   "outputs": [
    {
     "name": "stdout",
     "output_type": "stream",
     "text": [
      "(dmin.p[t]).value = [0.01615257991714614; 0.3898923771678069; 0.013048290660016238; -0.022853378488405726]\n",
      "(dmin.g[t]).value = [7.037740974267857; 4.623222246387303; 8.977139213913254; 6.241879476391493]\n",
      "(dmin.s[t]).value = [-9.819650123815242e-17; 7.351754502406173e-17; 9.486476324952619e-17; 5.826102587964122e-16]\n",
      "(dmin.p[t]).value = [0.01615257991711424; 0.3898923771677877; 0.013048290660011345; -0.022853378488394874]\n",
      "(dmin.g[t]).value = [7.037740973961325; 4.623222246202978; 8.977139213835276; 6.241879476178416]\n",
      "(dmin.s[t]).value = [-3.0658250720545964e-10; -1.842969780775915e-10; -7.796296962432338e-11; -2.1306943951749294e-10]\n"
     ]
    }
   ],
   "source": [
    "for t in 1:T\n",
    "    @show dmin.p[t].value\n",
    "    @show dmin.g[t].value\n",
    "    @show dmin.s[t].value\n",
    "end"
   ]
  },
  {
   "cell_type": "code",
   "execution_count": 23,
   "id": "furnished-burlington",
   "metadata": {},
   "outputs": [],
   "source": [
    "s_vals = zeros(n, T)\n",
    "g_vals = zeros(l, T)\n",
    "for t in 1:T\n",
    "    s_vals[:, t] = dmin.s[t].value\n",
    "    g_vals[:, t] = dmin.g[t].value\n",
    "end"
   ]
  },
  {
   "cell_type": "code",
   "execution_count": 24,
   "id": "unlikely-gather",
   "metadata": {},
   "outputs": [
    {
     "data": {
      "image/svg+xml": [
       "<?xml version=\"1.0\" encoding=\"utf-8\"?>\n",
       "<svg xmlns=\"http://www.w3.org/2000/svg\" xmlns:xlink=\"http://www.w3.org/1999/xlink\" width=\"600\" height=\"400\" viewBox=\"0 0 2400 1600\">\n",
       "<defs>\n",
       "  <clipPath id=\"clip630\">\n",
       "    <rect x=\"0\" y=\"0\" width=\"2400\" height=\"1600\"/>\n",
       "  </clipPath>\n",
       "</defs>\n",
       "<path clip-path=\"url(#clip630)\" d=\"\n",
       "M0 1600 L2400 1600 L2400 0 L0 0  Z\n",
       "  \" fill=\"#ffffff\" fill-rule=\"evenodd\" fill-opacity=\"1\"/>\n",
       "<defs>\n",
       "  <clipPath id=\"clip631\">\n",
       "    <rect x=\"480\" y=\"0\" width=\"1681\" height=\"1600\"/>\n",
       "  </clipPath>\n",
       "</defs>\n",
       "<path clip-path=\"url(#clip630)\" d=\"\n",
       "M368.63 1486.45 L2352.76 1486.45 L2352.76 47.2441 L368.63 47.2441  Z\n",
       "  \" fill=\"#ffffff\" fill-rule=\"evenodd\" fill-opacity=\"1\"/>\n",
       "<defs>\n",
       "  <clipPath id=\"clip632\">\n",
       "    <rect x=\"368\" y=\"47\" width=\"1985\" height=\"1440\"/>\n",
       "  </clipPath>\n",
       "</defs>\n",
       "<polyline clip-path=\"url(#clip632)\" style=\"stroke:#000000; stroke-width:2; stroke-opacity:0.1; fill:none\" points=\"\n",
       "  424.784,1486.45 424.784,47.2441 \n",
       "  \"/>\n",
       "<polyline clip-path=\"url(#clip632)\" style=\"stroke:#000000; stroke-width:2; stroke-opacity:0.1; fill:none\" points=\"\n",
       "  892.739,1486.45 892.739,47.2441 \n",
       "  \"/>\n",
       "<polyline clip-path=\"url(#clip632)\" style=\"stroke:#000000; stroke-width:2; stroke-opacity:0.1; fill:none\" points=\"\n",
       "  1360.69,1486.45 1360.69,47.2441 \n",
       "  \"/>\n",
       "<polyline clip-path=\"url(#clip632)\" style=\"stroke:#000000; stroke-width:2; stroke-opacity:0.1; fill:none\" points=\"\n",
       "  1828.65,1486.45 1828.65,47.2441 \n",
       "  \"/>\n",
       "<polyline clip-path=\"url(#clip632)\" style=\"stroke:#000000; stroke-width:2; stroke-opacity:0.1; fill:none\" points=\"\n",
       "  2296.6,1486.45 2296.6,47.2441 \n",
       "  \"/>\n",
       "<polyline clip-path=\"url(#clip630)\" style=\"stroke:#000000; stroke-width:4; stroke-opacity:1; fill:none\" points=\"\n",
       "  368.63,1486.45 2352.76,1486.45 \n",
       "  \"/>\n",
       "<polyline clip-path=\"url(#clip630)\" style=\"stroke:#000000; stroke-width:4; stroke-opacity:1; fill:none\" points=\"\n",
       "  424.784,1486.45 424.784,1469.18 \n",
       "  \"/>\n",
       "<polyline clip-path=\"url(#clip630)\" style=\"stroke:#000000; stroke-width:4; stroke-opacity:1; fill:none\" points=\"\n",
       "  892.739,1486.45 892.739,1469.18 \n",
       "  \"/>\n",
       "<polyline clip-path=\"url(#clip630)\" style=\"stroke:#000000; stroke-width:4; stroke-opacity:1; fill:none\" points=\"\n",
       "  1360.69,1486.45 1360.69,1469.18 \n",
       "  \"/>\n",
       "<polyline clip-path=\"url(#clip630)\" style=\"stroke:#000000; stroke-width:4; stroke-opacity:1; fill:none\" points=\"\n",
       "  1828.65,1486.45 1828.65,1469.18 \n",
       "  \"/>\n",
       "<polyline clip-path=\"url(#clip630)\" style=\"stroke:#000000; stroke-width:4; stroke-opacity:1; fill:none\" points=\"\n",
       "  2296.6,1486.45 2296.6,1469.18 \n",
       "  \"/>\n",
       "<path clip-path=\"url(#clip630)\" d=\"M 0 0 M376.856 1543.18 L384.495 1543.18 L384.495 1516.82 L376.185 1518.49 L376.185 1514.23 L384.449 1512.56 L389.125 1512.56 L389.125 1543.18 L396.764 1543.18 L396.764 1547.12 L376.856 1547.12 L376.856 1543.18 Z\" fill=\"#000000\" fill-rule=\"evenodd\" fill-opacity=\"1\" /><path clip-path=\"url(#clip630)\" d=\"M 0 0 M406.208 1541.24 L411.092 1541.24 L411.092 1547.12 L406.208 1547.12 L406.208 1541.24 Z\" fill=\"#000000\" fill-rule=\"evenodd\" fill-opacity=\"1\" /><path clip-path=\"url(#clip630)\" d=\"M 0 0 M431.277 1515.64 Q427.666 1515.64 425.838 1519.2 Q424.032 1522.75 424.032 1529.87 Q424.032 1536.98 425.838 1540.55 Q427.666 1544.09 431.277 1544.09 Q434.912 1544.09 436.717 1540.55 Q438.546 1536.98 438.546 1529.87 Q438.546 1522.75 436.717 1519.2 Q434.912 1515.64 431.277 1515.64 M431.277 1511.93 Q437.087 1511.93 440.143 1516.54 Q443.222 1521.12 443.222 1529.87 Q443.222 1538.6 440.143 1543.21 Q437.087 1547.79 431.277 1547.79 Q425.467 1547.79 422.388 1543.21 Q419.333 1538.6 419.333 1529.87 Q419.333 1521.12 422.388 1516.54 Q425.467 1511.93 431.277 1511.93 Z\" fill=\"#000000\" fill-rule=\"evenodd\" fill-opacity=\"1\" /><path clip-path=\"url(#clip630)\" d=\"M 0 0 M461.439 1515.64 Q457.828 1515.64 455.999 1519.2 Q454.194 1522.75 454.194 1529.87 Q454.194 1536.98 455.999 1540.55 Q457.828 1544.09 461.439 1544.09 Q465.073 1544.09 466.879 1540.55 Q468.708 1536.98 468.708 1529.87 Q468.708 1522.75 466.879 1519.2 Q465.073 1515.64 461.439 1515.64 M461.439 1511.93 Q467.249 1511.93 470.305 1516.54 Q473.384 1521.12 473.384 1529.87 Q473.384 1538.6 470.305 1543.21 Q467.249 1547.79 461.439 1547.79 Q455.629 1547.79 452.55 1543.21 Q449.495 1538.6 449.495 1529.87 Q449.495 1521.12 452.55 1516.54 Q455.629 1511.93 461.439 1511.93 Z\" fill=\"#000000\" fill-rule=\"evenodd\" fill-opacity=\"1\" /><path clip-path=\"url(#clip630)\" d=\"M 0 0 M845.308 1543.18 L852.947 1543.18 L852.947 1516.82 L844.637 1518.49 L844.637 1514.23 L852.901 1512.56 L857.577 1512.56 L857.577 1543.18 L865.216 1543.18 L865.216 1547.12 L845.308 1547.12 L845.308 1543.18 Z\" fill=\"#000000\" fill-rule=\"evenodd\" fill-opacity=\"1\" /><path clip-path=\"url(#clip630)\" d=\"M 0 0 M874.66 1541.24 L879.544 1541.24 L879.544 1547.12 L874.66 1547.12 L874.66 1541.24 Z\" fill=\"#000000\" fill-rule=\"evenodd\" fill-opacity=\"1\" /><path clip-path=\"url(#clip630)\" d=\"M 0 0 M893.757 1543.18 L910.076 1543.18 L910.076 1547.12 L888.132 1547.12 L888.132 1543.18 Q890.794 1540.43 895.377 1535.8 Q899.984 1531.15 901.164 1529.81 Q903.41 1527.28 904.289 1525.55 Q905.192 1523.79 905.192 1522.1 Q905.192 1519.34 903.248 1517.61 Q901.326 1515.87 898.225 1515.87 Q896.026 1515.87 893.572 1516.63 Q891.141 1517.4 888.364 1518.95 L888.364 1514.23 Q891.188 1513.09 893.641 1512.51 Q896.095 1511.93 898.132 1511.93 Q903.502 1511.93 906.697 1514.62 Q909.891 1517.31 909.891 1521.8 Q909.891 1523.93 909.081 1525.85 Q908.294 1527.74 906.188 1530.34 Q905.609 1531.01 902.507 1534.23 Q899.405 1537.42 893.757 1543.18 Z\" fill=\"#000000\" fill-rule=\"evenodd\" fill-opacity=\"1\" /><path clip-path=\"url(#clip630)\" d=\"M 0 0 M919.938 1512.56 L938.294 1512.56 L938.294 1516.5 L924.22 1516.5 L924.22 1524.97 Q925.238 1524.62 926.257 1524.46 Q927.275 1524.27 928.294 1524.27 Q934.081 1524.27 937.461 1527.44 Q940.84 1530.62 940.84 1536.03 Q940.84 1541.61 937.368 1544.71 Q933.896 1547.79 927.576 1547.79 Q925.4 1547.79 923.132 1547.42 Q920.887 1547.05 918.479 1546.31 L918.479 1541.61 Q920.563 1542.74 922.785 1543.3 Q925.007 1543.86 927.484 1543.86 Q931.488 1543.86 933.826 1541.75 Q936.164 1539.64 936.164 1536.03 Q936.164 1532.42 933.826 1530.31 Q931.488 1528.21 927.484 1528.21 Q925.609 1528.21 923.734 1528.62 Q921.882 1529.04 919.938 1529.92 L919.938 1512.56 Z\" fill=\"#000000\" fill-rule=\"evenodd\" fill-opacity=\"1\" /><path clip-path=\"url(#clip630)\" d=\"M 0 0 M1312.76 1543.18 L1320.4 1543.18 L1320.4 1516.82 L1312.09 1518.49 L1312.09 1514.23 L1320.36 1512.56 L1325.03 1512.56 L1325.03 1543.18 L1332.67 1543.18 L1332.67 1547.12 L1312.76 1547.12 L1312.76 1543.18 Z\" fill=\"#000000\" fill-rule=\"evenodd\" fill-opacity=\"1\" /><path clip-path=\"url(#clip630)\" d=\"M 0 0 M1342.12 1541.24 L1347 1541.24 L1347 1547.12 L1342.12 1547.12 L1342.12 1541.24 Z\" fill=\"#000000\" fill-rule=\"evenodd\" fill-opacity=\"1\" /><path clip-path=\"url(#clip630)\" d=\"M 0 0 M1357.23 1512.56 L1375.59 1512.56 L1375.59 1516.5 L1361.51 1516.5 L1361.51 1524.97 Q1362.53 1524.62 1363.55 1524.46 Q1364.57 1524.27 1365.59 1524.27 Q1371.38 1524.27 1374.76 1527.44 Q1378.13 1530.62 1378.13 1536.03 Q1378.13 1541.61 1374.66 1544.71 Q1371.19 1547.79 1364.87 1547.79 Q1362.7 1547.79 1360.43 1547.42 Q1358.18 1547.05 1355.77 1546.31 L1355.77 1541.61 Q1357.86 1542.74 1360.08 1543.3 Q1362.3 1543.86 1364.78 1543.86 Q1368.78 1543.86 1371.12 1541.75 Q1373.46 1539.64 1373.46 1536.03 Q1373.46 1532.42 1371.12 1530.31 Q1368.78 1528.21 1364.78 1528.21 Q1362.9 1528.21 1361.03 1528.62 Q1359.18 1529.04 1357.23 1529.92 L1357.23 1512.56 Z\" fill=\"#000000\" fill-rule=\"evenodd\" fill-opacity=\"1\" /><path clip-path=\"url(#clip630)\" d=\"M 0 0 M1397.35 1515.64 Q1393.74 1515.64 1391.91 1519.2 Q1390.1 1522.75 1390.1 1529.87 Q1390.1 1536.98 1391.91 1540.55 Q1393.74 1544.09 1397.35 1544.09 Q1400.98 1544.09 1402.79 1540.55 Q1404.62 1536.98 1404.62 1529.87 Q1404.62 1522.75 1402.79 1519.2 Q1400.98 1515.64 1397.35 1515.64 M1397.35 1511.93 Q1403.16 1511.93 1406.21 1516.54 Q1409.29 1521.12 1409.29 1529.87 Q1409.29 1538.6 1406.21 1543.21 Q1403.16 1547.79 1397.35 1547.79 Q1391.54 1547.79 1388.46 1543.21 Q1385.4 1538.6 1385.4 1529.87 Q1385.4 1521.12 1388.46 1516.54 Q1391.54 1511.93 1397.35 1511.93 Z\" fill=\"#000000\" fill-rule=\"evenodd\" fill-opacity=\"1\" /><path clip-path=\"url(#clip630)\" d=\"M 0 0 M1781.22 1543.18 L1788.86 1543.18 L1788.86 1516.82 L1780.55 1518.49 L1780.55 1514.23 L1788.81 1512.56 L1793.49 1512.56 L1793.49 1543.18 L1801.12 1543.18 L1801.12 1547.12 L1781.22 1547.12 L1781.22 1543.18 Z\" fill=\"#000000\" fill-rule=\"evenodd\" fill-opacity=\"1\" /><path clip-path=\"url(#clip630)\" d=\"M 0 0 M1810.57 1541.24 L1815.45 1541.24 L1815.45 1547.12 L1810.57 1547.12 L1810.57 1541.24 Z\" fill=\"#000000\" fill-rule=\"evenodd\" fill-opacity=\"1\" /><path clip-path=\"url(#clip630)\" d=\"M 0 0 M1824.46 1512.56 L1846.68 1512.56 L1846.68 1514.55 L1834.13 1547.12 L1829.25 1547.12 L1841.05 1516.5 L1824.46 1516.5 L1824.46 1512.56 Z\" fill=\"#000000\" fill-rule=\"evenodd\" fill-opacity=\"1\" /><path clip-path=\"url(#clip630)\" d=\"M 0 0 M1855.85 1512.56 L1874.2 1512.56 L1874.2 1516.5 L1860.13 1516.5 L1860.13 1524.97 Q1861.15 1524.62 1862.17 1524.46 Q1863.18 1524.27 1864.2 1524.27 Q1869.99 1524.27 1873.37 1527.44 Q1876.75 1530.62 1876.75 1536.03 Q1876.75 1541.61 1873.28 1544.71 Q1869.8 1547.79 1863.48 1547.79 Q1861.31 1547.79 1859.04 1547.42 Q1856.8 1547.05 1854.39 1546.31 L1854.39 1541.61 Q1856.47 1542.74 1858.69 1543.3 Q1860.92 1543.86 1863.39 1543.86 Q1867.4 1543.86 1869.73 1541.75 Q1872.07 1539.64 1872.07 1536.03 Q1872.07 1532.42 1869.73 1530.31 Q1867.4 1528.21 1863.39 1528.21 Q1861.52 1528.21 1859.64 1528.62 Q1857.79 1529.04 1855.85 1529.92 L1855.85 1512.56 Z\" fill=\"#000000\" fill-rule=\"evenodd\" fill-opacity=\"1\" /><path clip-path=\"url(#clip630)\" d=\"M 0 0 M2252.76 1543.18 L2269.08 1543.18 L2269.08 1547.12 L2247.13 1547.12 L2247.13 1543.18 Q2249.8 1540.43 2254.38 1535.8 Q2258.99 1531.15 2260.17 1529.81 Q2262.41 1527.28 2263.29 1525.55 Q2264.19 1523.79 2264.19 1522.1 Q2264.19 1519.34 2262.25 1517.61 Q2260.33 1515.87 2257.23 1515.87 Q2255.03 1515.87 2252.57 1516.63 Q2250.14 1517.4 2247.37 1518.95 L2247.37 1514.23 Q2250.19 1513.09 2252.64 1512.51 Q2255.1 1511.93 2257.13 1511.93 Q2262.5 1511.93 2265.7 1514.62 Q2268.89 1517.31 2268.89 1521.8 Q2268.89 1523.93 2268.08 1525.85 Q2267.3 1527.74 2265.19 1530.34 Q2264.61 1531.01 2261.51 1534.23 Q2258.41 1537.42 2252.76 1543.18 Z\" fill=\"#000000\" fill-rule=\"evenodd\" fill-opacity=\"1\" /><path clip-path=\"url(#clip630)\" d=\"M 0 0 M2278.89 1541.24 L2283.78 1541.24 L2283.78 1547.12 L2278.89 1547.12 L2278.89 1541.24 Z\" fill=\"#000000\" fill-rule=\"evenodd\" fill-opacity=\"1\" /><path clip-path=\"url(#clip630)\" d=\"M 0 0 M2303.96 1515.64 Q2300.35 1515.64 2298.52 1519.2 Q2296.72 1522.75 2296.72 1529.87 Q2296.72 1536.98 2298.52 1540.55 Q2300.35 1544.09 2303.96 1544.09 Q2307.6 1544.09 2309.4 1540.55 Q2311.23 1536.98 2311.23 1529.87 Q2311.23 1522.75 2309.4 1519.2 Q2307.6 1515.64 2303.96 1515.64 M2303.96 1511.93 Q2309.77 1511.93 2312.83 1516.54 Q2315.91 1521.12 2315.91 1529.87 Q2315.91 1538.6 2312.83 1543.21 Q2309.77 1547.79 2303.96 1547.79 Q2298.15 1547.79 2295.07 1543.21 Q2292.02 1538.6 2292.02 1529.87 Q2292.02 1521.12 2295.07 1516.54 Q2298.15 1511.93 2303.96 1511.93 Z\" fill=\"#000000\" fill-rule=\"evenodd\" fill-opacity=\"1\" /><path clip-path=\"url(#clip630)\" d=\"M 0 0 M2334.12 1515.64 Q2330.51 1515.64 2328.68 1519.2 Q2326.88 1522.75 2326.88 1529.87 Q2326.88 1536.98 2328.68 1540.55 Q2330.51 1544.09 2334.12 1544.09 Q2337.76 1544.09 2339.56 1540.55 Q2341.39 1536.98 2341.39 1529.87 Q2341.39 1522.75 2339.56 1519.2 Q2337.76 1515.64 2334.12 1515.64 M2334.12 1511.93 Q2339.93 1511.93 2342.99 1516.54 Q2346.07 1521.12 2346.07 1529.87 Q2346.07 1538.6 2342.99 1543.21 Q2339.93 1547.79 2334.12 1547.79 Q2328.31 1547.79 2325.24 1543.21 Q2322.18 1538.6 2322.18 1529.87 Q2322.18 1521.12 2325.24 1516.54 Q2328.31 1511.93 2334.12 1511.93 Z\" fill=\"#000000\" fill-rule=\"evenodd\" fill-opacity=\"1\" /><polyline clip-path=\"url(#clip632)\" style=\"stroke:#000000; stroke-width:2; stroke-opacity:0.1; fill:none\" points=\"\n",
       "  368.63,1416.56 2352.76,1416.56 \n",
       "  \"/>\n",
       "<polyline clip-path=\"url(#clip632)\" style=\"stroke:#000000; stroke-width:2; stroke-opacity:0.1; fill:none\" points=\"\n",
       "  368.63,973.702 2352.76,973.702 \n",
       "  \"/>\n",
       "<polyline clip-path=\"url(#clip632)\" style=\"stroke:#000000; stroke-width:2; stroke-opacity:0.1; fill:none\" points=\"\n",
       "  368.63,530.841 2352.76,530.841 \n",
       "  \"/>\n",
       "<polyline clip-path=\"url(#clip632)\" style=\"stroke:#000000; stroke-width:2; stroke-opacity:0.1; fill:none\" points=\"\n",
       "  368.63,87.9789 2352.76,87.9789 \n",
       "  \"/>\n",
       "<polyline clip-path=\"url(#clip630)\" style=\"stroke:#000000; stroke-width:4; stroke-opacity:1; fill:none\" points=\"\n",
       "  368.63,1486.45 368.63,47.2441 \n",
       "  \"/>\n",
       "<polyline clip-path=\"url(#clip630)\" style=\"stroke:#000000; stroke-width:4; stroke-opacity:1; fill:none\" points=\"\n",
       "  368.63,1416.56 392.439,1416.56 \n",
       "  \"/>\n",
       "<polyline clip-path=\"url(#clip630)\" style=\"stroke:#000000; stroke-width:4; stroke-opacity:1; fill:none\" points=\"\n",
       "  368.63,973.702 392.439,973.702 \n",
       "  \"/>\n",
       "<polyline clip-path=\"url(#clip630)\" style=\"stroke:#000000; stroke-width:4; stroke-opacity:1; fill:none\" points=\"\n",
       "  368.63,530.841 392.439,530.841 \n",
       "  \"/>\n",
       "<polyline clip-path=\"url(#clip630)\" style=\"stroke:#000000; stroke-width:4; stroke-opacity:1; fill:none\" points=\"\n",
       "  368.63,87.9789 392.439,87.9789 \n",
       "  \"/>\n",
       "<path clip-path=\"url(#clip630)\" d=\"M 0 0 M50.9921 1423.46 L80.6679 1423.46 L80.6679 1427.4 L50.9921 1427.4 L50.9921 1423.46 Z\" fill=\"#000000\" fill-rule=\"evenodd\" fill-opacity=\"1\" /><path clip-path=\"url(#clip630)\" d=\"M 0 0 M104.927 1421.66 Q108.283 1422.38 110.158 1424.64 Q112.057 1426.91 112.057 1430.25 Q112.057 1435.36 108.538 1438.16 Q105.02 1440.96 98.5382 1440.96 Q96.3623 1440.96 94.0475 1440.52 Q91.7558 1440.11 89.3021 1439.25 L89.3021 1434.74 Q91.2465 1435.87 93.5613 1436.45 Q95.8761 1437.03 98.3993 1437.03 Q102.797 1437.03 105.089 1435.29 Q107.404 1433.56 107.404 1430.25 Q107.404 1427.19 105.251 1425.48 Q103.121 1423.74 99.3021 1423.74 L95.2743 1423.74 L95.2743 1419.9 L99.4872 1419.9 Q102.936 1419.9 104.765 1418.53 Q106.594 1417.14 106.594 1414.55 Q106.594 1411.89 104.696 1410.48 Q102.821 1409.04 99.3021 1409.04 Q97.3808 1409.04 95.1817 1409.46 Q92.9826 1409.88 90.3438 1410.76 L90.3438 1406.59 Q93.0058 1405.85 95.3206 1405.48 Q97.6585 1405.11 99.7187 1405.11 Q105.043 1405.11 108.145 1407.54 Q111.246 1409.94 111.246 1414.07 Q111.246 1416.94 109.603 1418.93 Q107.959 1420.89 104.927 1421.66 Z\" fill=\"#000000\" fill-rule=\"evenodd\" fill-opacity=\"1\" /><path clip-path=\"url(#clip630)\" d=\"M 0 0 M120.922 1434.41 L125.807 1434.41 L125.807 1440.29 L120.922 1440.29 L120.922 1434.41 Z\" fill=\"#000000\" fill-rule=\"evenodd\" fill-opacity=\"1\" /><path clip-path=\"url(#clip630)\" d=\"M 0 0 M145.992 1408.81 Q142.381 1408.81 140.552 1412.38 Q138.746 1415.92 138.746 1423.05 Q138.746 1430.15 140.552 1433.72 Q142.381 1437.26 145.992 1437.26 Q149.626 1437.26 151.431 1433.72 Q153.26 1430.15 153.26 1423.05 Q153.26 1415.92 151.431 1412.38 Q149.626 1408.81 145.992 1408.81 M145.992 1405.11 Q151.802 1405.11 154.857 1409.71 Q157.936 1414.3 157.936 1423.05 Q157.936 1431.77 154.857 1436.38 Q151.802 1440.96 145.992 1440.96 Q140.181 1440.96 137.103 1436.38 Q134.047 1431.77 134.047 1423.05 Q134.047 1414.3 137.103 1409.71 Q140.181 1405.11 145.992 1405.11 Z\" fill=\"#000000\" fill-rule=\"evenodd\" fill-opacity=\"1\" /><path clip-path=\"url(#clip630)\" d=\"M 0 0 M194.325 1414.83 L183.746 1425.45 L194.325 1436.03 L191.57 1438.83 L180.945 1428.21 L170.32 1438.83 L167.589 1436.03 L178.144 1425.45 L167.589 1414.83 L170.32 1412.03 L180.945 1422.65 L191.57 1412.03 L194.325 1414.83 Z\" fill=\"#000000\" fill-rule=\"evenodd\" fill-opacity=\"1\" /><path clip-path=\"url(#clip630)\" d=\"M 0 0 M206.686 1436.36 L214.325 1436.36 L214.325 1409.99 L206.014 1411.66 L206.014 1407.4 L214.278 1405.73 L218.954 1405.73 L218.954 1436.36 L226.593 1436.36 L226.593 1440.29 L206.686 1440.29 L206.686 1436.36 Z\" fill=\"#000000\" fill-rule=\"evenodd\" fill-opacity=\"1\" /><path clip-path=\"url(#clip630)\" d=\"M 0 0 M246.037 1408.81 Q242.426 1408.81 240.598 1412.38 Q238.792 1415.92 238.792 1423.05 Q238.792 1430.15 240.598 1433.72 Q242.426 1437.26 246.037 1437.26 Q249.672 1437.26 251.477 1433.72 Q253.306 1430.15 253.306 1423.05 Q253.306 1415.92 251.477 1412.38 Q249.672 1408.81 246.037 1408.81 M246.037 1405.11 Q251.848 1405.11 254.903 1409.71 Q257.982 1414.3 257.982 1423.05 Q257.982 1431.77 254.903 1436.38 Q251.848 1440.96 246.037 1440.96 Q240.227 1440.96 237.149 1436.38 Q234.093 1431.77 234.093 1423.05 Q234.093 1414.3 237.149 1409.71 Q240.227 1405.11 246.037 1405.11 Z\" fill=\"#000000\" fill-rule=\"evenodd\" fill-opacity=\"1\" /><path clip-path=\"url(#clip630)\" d=\"M 0 0 M257.982 1399.21 L282.093 1399.21 L282.093 1402.41 L257.982 1402.41 L257.982 1399.21 Z\" fill=\"#000000\" fill-rule=\"evenodd\" fill-opacity=\"1\" /><path clip-path=\"url(#clip630)\" d=\"M 0 0 M290.952 1409.68 L297.158 1409.68 L297.158 1388.26 L290.406 1389.62 L290.406 1386.16 L297.121 1384.8 L300.92 1384.8 L300.92 1409.68 L307.126 1409.68 L307.126 1412.88 L290.952 1412.88 L290.952 1409.68 Z\" fill=\"#000000\" fill-rule=\"evenodd\" fill-opacity=\"1\" /><path clip-path=\"url(#clip630)\" d=\"M 0 0 M322.925 1387.3 Q319.991 1387.3 318.505 1390.2 Q317.038 1393.08 317.038 1398.87 Q317.038 1404.64 318.505 1407.54 Q319.991 1410.42 322.925 1410.42 Q325.878 1410.42 327.345 1407.54 Q328.831 1404.64 328.831 1398.87 Q328.831 1393.08 327.345 1390.2 Q325.878 1387.3 322.925 1387.3 M322.925 1384.29 Q327.646 1384.29 330.128 1388.04 Q332.63 1391.76 332.63 1398.87 Q332.63 1405.96 330.128 1409.7 Q327.646 1413.43 322.925 1413.43 Q318.204 1413.43 315.703 1409.7 Q313.22 1405.96 313.22 1398.87 Q313.22 1391.76 315.703 1388.04 Q318.204 1384.29 322.925 1384.29 Z\" fill=\"#000000\" fill-rule=\"evenodd\" fill-opacity=\"1\" /><path clip-path=\"url(#clip630)\" d=\"M 0 0 M50.9921 980.601 L80.6679 980.601 L80.6679 984.537 L50.9921 984.537 L50.9921 980.601 Z\" fill=\"#000000\" fill-rule=\"evenodd\" fill-opacity=\"1\" /><path clip-path=\"url(#clip630)\" d=\"M 0 0 M94.7882 993.495 L111.108 993.495 L111.108 997.43 L89.1632 997.43 L89.1632 993.495 Q91.8252 990.74 96.4085 986.111 Q101.015 981.458 102.196 980.115 Q104.441 977.592 105.321 975.856 Q106.223 974.097 106.223 972.407 Q106.223 969.652 104.279 967.916 Q102.358 966.18 99.2558 966.18 Q97.0567 966.18 94.603 966.944 Q92.1725 967.708 89.3947 969.259 L89.3947 964.537 Q92.2188 963.402 94.6724 962.824 Q97.1261 962.245 99.1632 962.245 Q104.534 962.245 107.728 964.93 Q110.922 967.615 110.922 972.106 Q110.922 974.236 110.112 976.157 Q109.325 978.055 107.219 980.648 Q106.64 981.319 103.538 984.537 Q100.436 987.731 94.7882 993.495 Z\" fill=\"#000000\" fill-rule=\"evenodd\" fill-opacity=\"1\" /><path clip-path=\"url(#clip630)\" d=\"M 0 0 M120.922 991.55 L125.807 991.55 L125.807 997.43 L120.922 997.43 L120.922 991.55 Z\" fill=\"#000000\" fill-rule=\"evenodd\" fill-opacity=\"1\" /><path clip-path=\"url(#clip630)\" d=\"M 0 0 M145.992 965.949 Q142.381 965.949 140.552 969.514 Q138.746 973.055 138.746 980.185 Q138.746 987.291 140.552 990.856 Q142.381 994.398 145.992 994.398 Q149.626 994.398 151.431 990.856 Q153.26 987.291 153.26 980.185 Q153.26 973.055 151.431 969.514 Q149.626 965.949 145.992 965.949 M145.992 962.245 Q151.802 962.245 154.857 966.852 Q157.936 971.435 157.936 980.185 Q157.936 988.912 154.857 993.518 Q151.802 998.101 145.992 998.101 Q140.181 998.101 137.103 993.518 Q134.047 988.912 134.047 980.185 Q134.047 971.435 137.103 966.852 Q140.181 962.245 145.992 962.245 Z\" fill=\"#000000\" fill-rule=\"evenodd\" fill-opacity=\"1\" /><path clip-path=\"url(#clip630)\" d=\"M 0 0 M194.325 971.967 L183.746 982.592 L194.325 993.171 L191.57 995.972 L180.945 985.347 L170.32 995.972 L167.589 993.171 L178.144 982.592 L167.589 971.967 L170.32 969.166 L180.945 979.791 L191.57 969.166 L194.325 971.967 Z\" fill=\"#000000\" fill-rule=\"evenodd\" fill-opacity=\"1\" /><path clip-path=\"url(#clip630)\" d=\"M 0 0 M206.686 993.495 L214.325 993.495 L214.325 967.129 L206.014 968.796 L206.014 964.537 L214.278 962.87 L218.954 962.87 L218.954 993.495 L226.593 993.495 L226.593 997.43 L206.686 997.43 L206.686 993.495 Z\" fill=\"#000000\" fill-rule=\"evenodd\" fill-opacity=\"1\" /><path clip-path=\"url(#clip630)\" d=\"M 0 0 M246.037 965.949 Q242.426 965.949 240.598 969.514 Q238.792 973.055 238.792 980.185 Q238.792 987.291 240.598 990.856 Q242.426 994.398 246.037 994.398 Q249.672 994.398 251.477 990.856 Q253.306 987.291 253.306 980.185 Q253.306 973.055 251.477 969.514 Q249.672 965.949 246.037 965.949 M246.037 962.245 Q251.848 962.245 254.903 966.852 Q257.982 971.435 257.982 980.185 Q257.982 988.912 254.903 993.518 Q251.848 998.101 246.037 998.101 Q240.227 998.101 237.149 993.518 Q234.093 988.912 234.093 980.185 Q234.093 971.435 237.149 966.852 Q240.227 962.245 246.037 962.245 Z\" fill=\"#000000\" fill-rule=\"evenodd\" fill-opacity=\"1\" /><path clip-path=\"url(#clip630)\" d=\"M 0 0 M257.982 956.346 L282.093 956.346 L282.093 959.544 L257.982 959.544 L257.982 956.346 Z\" fill=\"#000000\" fill-rule=\"evenodd\" fill-opacity=\"1\" /><path clip-path=\"url(#clip630)\" d=\"M 0 0 M290.952 966.822 L297.158 966.822 L297.158 945.4 L290.406 946.754 L290.406 943.294 L297.121 941.94 L300.92 941.94 L300.92 966.822 L307.126 966.822 L307.126 970.02 L290.952 970.02 L290.952 966.822 Z\" fill=\"#000000\" fill-rule=\"evenodd\" fill-opacity=\"1\" /><path clip-path=\"url(#clip630)\" d=\"M 0 0 M322.925 944.441 Q319.991 944.441 318.505 947.338 Q317.038 950.215 317.038 956.008 Q317.038 961.782 318.505 964.678 Q319.991 967.556 322.925 967.556 Q325.878 967.556 327.345 964.678 Q328.831 961.782 328.831 956.008 Q328.831 950.215 327.345 947.338 Q325.878 944.441 322.925 944.441 M322.925 941.432 Q327.646 941.432 330.128 945.175 Q332.63 948.899 332.63 956.008 Q332.63 963.098 330.128 966.841 Q327.646 970.565 322.925 970.565 Q318.204 970.565 315.703 966.841 Q313.22 963.098 313.22 956.008 Q313.22 948.899 315.703 945.175 Q318.204 941.432 322.925 941.432 Z\" fill=\"#000000\" fill-rule=\"evenodd\" fill-opacity=\"1\" /><path clip-path=\"url(#clip630)\" d=\"M 0 0 M50.9921 537.74 L80.6679 537.74 L80.6679 541.675 L50.9921 541.675 L50.9921 537.74 Z\" fill=\"#000000\" fill-rule=\"evenodd\" fill-opacity=\"1\" /><path clip-path=\"url(#clip630)\" d=\"M 0 0 M91.5706 550.633 L99.2095 550.633 L99.2095 524.268 L90.8993 525.934 L90.8993 521.675 L99.1632 520.008 L103.839 520.008 L103.839 550.633 L111.478 550.633 L111.478 554.568 L91.5706 554.568 L91.5706 550.633 Z\" fill=\"#000000\" fill-rule=\"evenodd\" fill-opacity=\"1\" /><path clip-path=\"url(#clip630)\" d=\"M 0 0 M120.922 548.689 L125.807 548.689 L125.807 554.568 L120.922 554.568 L120.922 548.689 Z\" fill=\"#000000\" fill-rule=\"evenodd\" fill-opacity=\"1\" /><path clip-path=\"url(#clip630)\" d=\"M 0 0 M145.992 523.087 Q142.381 523.087 140.552 526.652 Q138.746 530.193 138.746 537.323 Q138.746 544.429 140.552 547.994 Q142.381 551.536 145.992 551.536 Q149.626 551.536 151.431 547.994 Q153.26 544.429 153.26 537.323 Q153.26 530.193 151.431 526.652 Q149.626 523.087 145.992 523.087 M145.992 519.383 Q151.802 519.383 154.857 523.99 Q157.936 528.573 157.936 537.323 Q157.936 546.05 154.857 550.656 Q151.802 555.24 145.992 555.24 Q140.181 555.24 137.103 550.656 Q134.047 546.05 134.047 537.323 Q134.047 528.573 137.103 523.99 Q140.181 519.383 145.992 519.383 Z\" fill=\"#000000\" fill-rule=\"evenodd\" fill-opacity=\"1\" /><path clip-path=\"url(#clip630)\" d=\"M 0 0 M194.325 529.105 L183.746 539.73 L194.325 550.309 L191.57 553.11 L180.945 542.485 L170.32 553.11 L167.589 550.309 L178.144 539.73 L167.589 529.105 L170.32 526.305 L180.945 536.929 L191.57 526.305 L194.325 529.105 Z\" fill=\"#000000\" fill-rule=\"evenodd\" fill-opacity=\"1\" /><path clip-path=\"url(#clip630)\" d=\"M 0 0 M206.686 550.633 L214.325 550.633 L214.325 524.268 L206.014 525.934 L206.014 521.675 L214.278 520.008 L218.954 520.008 L218.954 550.633 L226.593 550.633 L226.593 554.568 L206.686 554.568 L206.686 550.633 Z\" fill=\"#000000\" fill-rule=\"evenodd\" fill-opacity=\"1\" /><path clip-path=\"url(#clip630)\" d=\"M 0 0 M246.037 523.087 Q242.426 523.087 240.598 526.652 Q238.792 530.193 238.792 537.323 Q238.792 544.429 240.598 547.994 Q242.426 551.536 246.037 551.536 Q249.672 551.536 251.477 547.994 Q253.306 544.429 253.306 537.323 Q253.306 530.193 251.477 526.652 Q249.672 523.087 246.037 523.087 M246.037 519.383 Q251.848 519.383 254.903 523.99 Q257.982 528.573 257.982 537.323 Q257.982 546.05 254.903 550.656 Q251.848 555.24 246.037 555.24 Q240.227 555.24 237.149 550.656 Q234.093 546.05 234.093 537.323 Q234.093 528.573 237.149 523.99 Q240.227 519.383 246.037 519.383 Z\" fill=\"#000000\" fill-rule=\"evenodd\" fill-opacity=\"1\" /><path clip-path=\"url(#clip630)\" d=\"M 0 0 M257.982 513.485 L282.093 513.485 L282.093 516.682 L257.982 516.682 L257.982 513.485 Z\" fill=\"#000000\" fill-rule=\"evenodd\" fill-opacity=\"1\" /><path clip-path=\"url(#clip630)\" d=\"M 0 0 M290.952 523.961 L297.158 523.961 L297.158 502.538 L290.406 503.893 L290.406 500.432 L297.121 499.078 L300.92 499.078 L300.92 523.961 L307.126 523.961 L307.126 527.158 L290.952 527.158 L290.952 523.961 Z\" fill=\"#000000\" fill-rule=\"evenodd\" fill-opacity=\"1\" /><path clip-path=\"url(#clip630)\" d=\"M 0 0 M322.925 501.579 Q319.991 501.579 318.505 504.476 Q317.038 507.353 317.038 513.146 Q317.038 518.92 318.505 521.816 Q319.991 524.694 322.925 524.694 Q325.878 524.694 327.345 521.816 Q328.831 518.92 328.831 513.146 Q328.831 507.353 327.345 504.476 Q325.878 501.579 322.925 501.579 M322.925 498.57 Q327.646 498.57 330.128 502.313 Q332.63 506.037 332.63 513.146 Q332.63 520.237 330.128 523.979 Q327.646 527.703 322.925 527.703 Q318.204 527.703 315.703 523.979 Q313.22 520.237 313.22 513.146 Q313.22 506.037 315.703 502.313 Q318.204 498.57 322.925 498.57 Z\" fill=\"#000000\" fill-rule=\"evenodd\" fill-opacity=\"1\" /><path clip-path=\"url(#clip630)\" d=\"M 0 0 M320.685 73.7775 Q317.074 73.7775 315.246 77.3423 Q313.44 80.884 313.44 88.0136 Q313.44 95.12 315.246 98.6848 Q317.074 102.226 320.685 102.226 Q324.32 102.226 326.125 98.6848 Q327.954 95.12 327.954 88.0136 Q327.954 80.884 326.125 77.3423 Q324.32 73.7775 320.685 73.7775 M320.685 70.0739 Q326.496 70.0739 329.551 74.6803 Q332.63 79.2636 332.63 88.0136 Q332.63 96.7404 329.551 101.347 Q326.496 105.93 320.685 105.93 Q314.875 105.93 311.797 101.347 Q308.741 96.7404 308.741 88.0136 Q308.741 79.2636 311.797 74.6803 Q314.875 70.0739 320.685 70.0739 Z\" fill=\"#000000\" fill-rule=\"evenodd\" fill-opacity=\"1\" /><polyline clip-path=\"url(#clip632)\" style=\"stroke:#009af9; stroke-width:4; stroke-opacity:1; fill:none\" points=\"\n",
       "  424.784,87.9793 2296.6,1445.72 \n",
       "  \"/>\n",
       "<polyline clip-path=\"url(#clip632)\" style=\"stroke:#e26f46; stroke-width:4; stroke-opacity:1; fill:none\" points=\"\n",
       "  424.784,87.9785 2296.6,904.16 \n",
       "  \"/>\n",
       "<polyline clip-path=\"url(#clip632)\" style=\"stroke:#3da44d; stroke-width:4; stroke-opacity:1; fill:none\" points=\"\n",
       "  424.784,87.9784 2296.6,433.247 \n",
       "  \"/>\n",
       "<polyline clip-path=\"url(#clip632)\" style=\"stroke:#c271d2; stroke-width:4; stroke-opacity:1; fill:none\" points=\"\n",
       "  424.784,87.9763 2296.6,1031.58 \n",
       "  \"/>\n",
       "<path clip-path=\"url(#clip630)\" d=\"\n",
       "M2012.02 397.618 L2286.62 397.618 L2286.62 95.2176 L2012.02 95.2176  Z\n",
       "  \" fill=\"#ffffff\" fill-rule=\"evenodd\" fill-opacity=\"1\"/>\n",
       "<polyline clip-path=\"url(#clip630)\" style=\"stroke:#000000; stroke-width:4; stroke-opacity:1; fill:none\" points=\"\n",
       "  2012.02,397.618 2286.62,397.618 2286.62,95.2176 2012.02,95.2176 2012.02,397.618 \n",
       "  \"/>\n",
       "<polyline clip-path=\"url(#clip630)\" style=\"stroke:#009af9; stroke-width:4; stroke-opacity:1; fill:none\" points=\"\n",
       "  2034.06,155.698 2166.34,155.698 \n",
       "  \"/>\n",
       "<path clip-path=\"url(#clip630)\" d=\"M 0 0 M2202.23 175.385 Q2200.42 180.015 2198.71 181.427 Q2196.99 182.839 2194.12 182.839 L2190.72 182.839 L2190.72 179.274 L2193.22 179.274 Q2194.98 179.274 2195.95 178.44 Q2196.93 177.607 2198.11 174.505 L2198.87 172.561 L2188.38 147.052 L2192.9 147.052 L2201 167.329 L2209.1 147.052 L2213.61 147.052 L2202.23 175.385 Z\" fill=\"#000000\" fill-rule=\"evenodd\" fill-opacity=\"1\" /><path clip-path=\"url(#clip630)\" d=\"M 0 0 M2220.91 169.042 L2228.55 169.042 L2228.55 142.677 L2220.24 144.343 L2220.24 140.084 L2228.5 138.418 L2233.17 138.418 L2233.17 169.042 L2240.81 169.042 L2240.81 172.978 L2220.91 172.978 L2220.91 169.042 Z\" fill=\"#000000\" fill-rule=\"evenodd\" fill-opacity=\"1\" /><polyline clip-path=\"url(#clip630)\" style=\"stroke:#e26f46; stroke-width:4; stroke-opacity:1; fill:none\" points=\"\n",
       "  2034.06,216.178 2166.34,216.178 \n",
       "  \"/>\n",
       "<path clip-path=\"url(#clip630)\" d=\"M 0 0 M2202.23 235.865 Q2200.42 240.495 2198.71 241.907 Q2196.99 243.319 2194.12 243.319 L2190.72 243.319 L2190.72 239.754 L2193.22 239.754 Q2194.98 239.754 2195.95 238.92 Q2196.93 238.087 2198.11 234.985 L2198.87 233.041 L2188.38 207.532 L2192.9 207.532 L2201 227.809 L2209.1 207.532 L2213.61 207.532 L2202.23 235.865 Z\" fill=\"#000000\" fill-rule=\"evenodd\" fill-opacity=\"1\" /><path clip-path=\"url(#clip630)\" d=\"M 0 0 M2224.12 229.522 L2240.44 229.522 L2240.44 233.458 L2218.5 233.458 L2218.5 229.522 Q2221.16 226.768 2225.74 222.138 Q2230.35 217.485 2231.53 216.143 Q2233.78 213.62 2234.66 211.884 Q2235.56 210.124 2235.56 208.435 Q2235.56 205.68 2233.61 203.944 Q2231.69 202.208 2228.59 202.208 Q2226.39 202.208 2223.94 202.972 Q2221.51 203.735 2218.73 205.286 L2218.73 200.564 Q2221.55 199.43 2224.01 198.851 Q2226.46 198.273 2228.5 198.273 Q2233.87 198.273 2237.06 200.958 Q2240.26 203.643 2240.26 208.134 Q2240.26 210.263 2239.45 212.185 Q2238.66 214.083 2236.55 216.675 Q2235.98 217.347 2232.87 220.564 Q2229.77 223.759 2224.12 229.522 Z\" fill=\"#000000\" fill-rule=\"evenodd\" fill-opacity=\"1\" /><polyline clip-path=\"url(#clip630)\" style=\"stroke:#3da44d; stroke-width:4; stroke-opacity:1; fill:none\" points=\"\n",
       "  2034.06,276.658 2166.34,276.658 \n",
       "  \"/>\n",
       "<path clip-path=\"url(#clip630)\" d=\"M 0 0 M2202.23 296.345 Q2200.42 300.975 2198.71 302.387 Q2196.99 303.799 2194.12 303.799 L2190.72 303.799 L2190.72 300.234 L2193.22 300.234 Q2194.98 300.234 2195.95 299.4 Q2196.93 298.567 2198.11 295.465 L2198.87 293.521 L2188.38 268.012 L2192.9 268.012 L2201 288.289 L2209.1 268.012 L2213.61 268.012 L2202.23 296.345 Z\" fill=\"#000000\" fill-rule=\"evenodd\" fill-opacity=\"1\" /><path clip-path=\"url(#clip630)\" d=\"M 0 0 M2234.26 275.303 Q2237.62 276.021 2239.49 278.289 Q2241.39 280.558 2241.39 283.891 Q2241.39 289.007 2237.87 291.808 Q2234.36 294.609 2227.87 294.609 Q2225.7 294.609 2223.38 294.169 Q2221.09 293.752 2218.64 292.896 L2218.64 288.382 Q2220.58 289.516 2222.9 290.095 Q2225.21 290.674 2227.74 290.674 Q2232.13 290.674 2234.42 288.938 Q2236.74 287.201 2236.74 283.891 Q2236.74 280.836 2234.59 279.123 Q2232.46 277.387 2228.64 277.387 L2224.61 277.387 L2224.61 273.544 L2228.82 273.544 Q2232.27 273.544 2234.1 272.178 Q2235.93 270.79 2235.93 268.197 Q2235.93 265.535 2234.03 264.123 Q2232.16 262.688 2228.64 262.688 Q2226.72 262.688 2224.52 263.104 Q2222.32 263.521 2219.68 264.401 L2219.68 260.234 Q2222.34 259.493 2224.66 259.123 Q2226.99 258.753 2229.05 258.753 Q2234.38 258.753 2237.48 261.183 Q2240.58 263.59 2240.58 267.711 Q2240.58 270.581 2238.94 272.572 Q2237.3 274.54 2234.26 275.303 Z\" fill=\"#000000\" fill-rule=\"evenodd\" fill-opacity=\"1\" /><polyline clip-path=\"url(#clip630)\" style=\"stroke:#c271d2; stroke-width:4; stroke-opacity:1; fill:none\" points=\"\n",
       "  2034.06,337.138 2166.34,337.138 \n",
       "  \"/>\n",
       "<path clip-path=\"url(#clip630)\" d=\"M 0 0 M2202.23 356.825 Q2200.42 361.455 2198.71 362.867 Q2196.99 364.279 2194.12 364.279 L2190.72 364.279 L2190.72 360.714 L2193.22 360.714 Q2194.98 360.714 2195.95 359.88 Q2196.93 359.047 2198.11 355.945 L2198.87 354.001 L2188.38 328.492 L2192.9 328.492 L2201 348.769 L2209.1 328.492 L2213.61 328.492 L2202.23 356.825 Z\" fill=\"#000000\" fill-rule=\"evenodd\" fill-opacity=\"1\" /><path clip-path=\"url(#clip630)\" d=\"M 0 0 M2232.94 323.932 L2221.14 342.381 L2232.94 342.381 L2232.94 323.932 M2231.72 319.858 L2237.6 319.858 L2237.6 342.381 L2242.53 342.381 L2242.53 346.269 L2237.6 346.269 L2237.6 354.418 L2232.94 354.418 L2232.94 346.269 L2217.34 346.269 L2217.34 341.756 L2231.72 319.858 Z\" fill=\"#000000\" fill-rule=\"evenodd\" fill-opacity=\"1\" /></svg>\n"
      ]
     },
     "execution_count": 24,
     "metadata": {},
     "output_type": "execute_result"
    }
   ],
   "source": [
    "plot(s_vals')"
   ]
  },
  {
   "cell_type": "code",
   "execution_count": 25,
   "id": "fitted-failing",
   "metadata": {},
   "outputs": [
    {
     "data": {
      "image/svg+xml": [
       "<?xml version=\"1.0\" encoding=\"utf-8\"?>\n",
       "<svg xmlns=\"http://www.w3.org/2000/svg\" xmlns:xlink=\"http://www.w3.org/1999/xlink\" width=\"600\" height=\"400\" viewBox=\"0 0 2400 1600\">\n",
       "<defs>\n",
       "  <clipPath id=\"clip670\">\n",
       "    <rect x=\"0\" y=\"0\" width=\"2400\" height=\"1600\"/>\n",
       "  </clipPath>\n",
       "</defs>\n",
       "<path clip-path=\"url(#clip670)\" d=\"\n",
       "M0 1600 L2400 1600 L2400 0 L0 0  Z\n",
       "  \" fill=\"#ffffff\" fill-rule=\"evenodd\" fill-opacity=\"1\"/>\n",
       "<defs>\n",
       "  <clipPath id=\"clip671\">\n",
       "    <rect x=\"480\" y=\"0\" width=\"1681\" height=\"1600\"/>\n",
       "  </clipPath>\n",
       "</defs>\n",
       "<path clip-path=\"url(#clip670)\" d=\"\n",
       "M110.858 1486.45 L2352.76 1486.45 L2352.76 47.2441 L110.858 47.2441  Z\n",
       "  \" fill=\"#ffffff\" fill-rule=\"evenodd\" fill-opacity=\"1\"/>\n",
       "<defs>\n",
       "  <clipPath id=\"clip672\">\n",
       "    <rect x=\"110\" y=\"47\" width=\"2243\" height=\"1440\"/>\n",
       "  </clipPath>\n",
       "</defs>\n",
       "<polyline clip-path=\"url(#clip672)\" style=\"stroke:#000000; stroke-width:2; stroke-opacity:0.1; fill:none\" points=\"\n",
       "  174.308,1486.45 174.308,47.2441 \n",
       "  \"/>\n",
       "<polyline clip-path=\"url(#clip672)\" style=\"stroke:#000000; stroke-width:2; stroke-opacity:0.1; fill:none\" points=\"\n",
       "  703.057,1486.45 703.057,47.2441 \n",
       "  \"/>\n",
       "<polyline clip-path=\"url(#clip672)\" style=\"stroke:#000000; stroke-width:2; stroke-opacity:0.1; fill:none\" points=\"\n",
       "  1231.81,1486.45 1231.81,47.2441 \n",
       "  \"/>\n",
       "<polyline clip-path=\"url(#clip672)\" style=\"stroke:#000000; stroke-width:2; stroke-opacity:0.1; fill:none\" points=\"\n",
       "  1760.56,1486.45 1760.56,47.2441 \n",
       "  \"/>\n",
       "<polyline clip-path=\"url(#clip672)\" style=\"stroke:#000000; stroke-width:2; stroke-opacity:0.1; fill:none\" points=\"\n",
       "  2289.31,1486.45 2289.31,47.2441 \n",
       "  \"/>\n",
       "<polyline clip-path=\"url(#clip670)\" style=\"stroke:#000000; stroke-width:4; stroke-opacity:1; fill:none\" points=\"\n",
       "  110.858,1486.45 2352.76,1486.45 \n",
       "  \"/>\n",
       "<polyline clip-path=\"url(#clip670)\" style=\"stroke:#000000; stroke-width:4; stroke-opacity:1; fill:none\" points=\"\n",
       "  174.308,1486.45 174.308,1469.18 \n",
       "  \"/>\n",
       "<polyline clip-path=\"url(#clip670)\" style=\"stroke:#000000; stroke-width:4; stroke-opacity:1; fill:none\" points=\"\n",
       "  703.057,1486.45 703.057,1469.18 \n",
       "  \"/>\n",
       "<polyline clip-path=\"url(#clip670)\" style=\"stroke:#000000; stroke-width:4; stroke-opacity:1; fill:none\" points=\"\n",
       "  1231.81,1486.45 1231.81,1469.18 \n",
       "  \"/>\n",
       "<polyline clip-path=\"url(#clip670)\" style=\"stroke:#000000; stroke-width:4; stroke-opacity:1; fill:none\" points=\"\n",
       "  1760.56,1486.45 1760.56,1469.18 \n",
       "  \"/>\n",
       "<polyline clip-path=\"url(#clip670)\" style=\"stroke:#000000; stroke-width:4; stroke-opacity:1; fill:none\" points=\"\n",
       "  2289.31,1486.45 2289.31,1469.18 \n",
       "  \"/>\n",
       "<path clip-path=\"url(#clip670)\" d=\"M 0 0 M126.38 1543.18 L134.019 1543.18 L134.019 1516.82 L125.708 1518.49 L125.708 1514.23 L133.972 1512.56 L138.648 1512.56 L138.648 1543.18 L146.287 1543.18 L146.287 1547.12 L126.38 1547.12 L126.38 1543.18 Z\" fill=\"#000000\" fill-rule=\"evenodd\" fill-opacity=\"1\" /><path clip-path=\"url(#clip670)\" d=\"M 0 0 M155.731 1541.24 L160.616 1541.24 L160.616 1547.12 L155.731 1547.12 L155.731 1541.24 Z\" fill=\"#000000\" fill-rule=\"evenodd\" fill-opacity=\"1\" /><path clip-path=\"url(#clip670)\" d=\"M 0 0 M180.801 1515.64 Q177.19 1515.64 175.361 1519.2 Q173.555 1522.75 173.555 1529.87 Q173.555 1536.98 175.361 1540.55 Q177.19 1544.09 180.801 1544.09 Q184.435 1544.09 186.24 1540.55 Q188.069 1536.98 188.069 1529.87 Q188.069 1522.75 186.24 1519.2 Q184.435 1515.64 180.801 1515.64 M180.801 1511.93 Q186.611 1511.93 189.666 1516.54 Q192.745 1521.12 192.745 1529.87 Q192.745 1538.6 189.666 1543.21 Q186.611 1547.79 180.801 1547.79 Q174.991 1547.79 171.912 1543.21 Q168.856 1538.6 168.856 1529.87 Q168.856 1521.12 171.912 1516.54 Q174.991 1511.93 180.801 1511.93 Z\" fill=\"#000000\" fill-rule=\"evenodd\" fill-opacity=\"1\" /><path clip-path=\"url(#clip670)\" d=\"M 0 0 M210.963 1515.64 Q207.351 1515.64 205.523 1519.2 Q203.717 1522.75 203.717 1529.87 Q203.717 1536.98 205.523 1540.55 Q207.351 1544.09 210.963 1544.09 Q214.597 1544.09 216.402 1540.55 Q218.231 1536.98 218.231 1529.87 Q218.231 1522.75 216.402 1519.2 Q214.597 1515.64 210.963 1515.64 M210.963 1511.93 Q216.773 1511.93 219.828 1516.54 Q222.907 1521.12 222.907 1529.87 Q222.907 1538.6 219.828 1543.21 Q216.773 1547.79 210.963 1547.79 Q205.152 1547.79 202.074 1543.21 Q199.018 1538.6 199.018 1529.87 Q199.018 1521.12 202.074 1516.54 Q205.152 1511.93 210.963 1511.93 Z\" fill=\"#000000\" fill-rule=\"evenodd\" fill-opacity=\"1\" /><path clip-path=\"url(#clip670)\" d=\"M 0 0 M655.627 1543.18 L663.266 1543.18 L663.266 1516.82 L654.956 1518.49 L654.956 1514.23 L663.22 1512.56 L667.895 1512.56 L667.895 1543.18 L675.534 1543.18 L675.534 1547.12 L655.627 1547.12 L655.627 1543.18 Z\" fill=\"#000000\" fill-rule=\"evenodd\" fill-opacity=\"1\" /><path clip-path=\"url(#clip670)\" d=\"M 0 0 M684.979 1541.24 L689.863 1541.24 L689.863 1547.12 L684.979 1547.12 L684.979 1541.24 Z\" fill=\"#000000\" fill-rule=\"evenodd\" fill-opacity=\"1\" /><path clip-path=\"url(#clip670)\" d=\"M 0 0 M704.076 1543.18 L720.395 1543.18 L720.395 1547.12 L698.451 1547.12 L698.451 1543.18 Q701.113 1540.43 705.696 1535.8 Q710.303 1531.15 711.483 1529.81 Q713.728 1527.28 714.608 1525.55 Q715.511 1523.79 715.511 1522.1 Q715.511 1519.34 713.566 1517.61 Q711.645 1515.87 708.543 1515.87 Q706.344 1515.87 703.891 1516.63 Q701.46 1517.4 698.682 1518.95 L698.682 1514.23 Q701.506 1513.09 703.96 1512.51 Q706.414 1511.93 708.451 1511.93 Q713.821 1511.93 717.016 1514.62 Q720.21 1517.31 720.21 1521.8 Q720.21 1523.93 719.4 1525.85 Q718.613 1527.74 716.506 1530.34 Q715.928 1531.01 712.826 1534.23 Q709.724 1537.42 704.076 1543.18 Z\" fill=\"#000000\" fill-rule=\"evenodd\" fill-opacity=\"1\" /><path clip-path=\"url(#clip670)\" d=\"M 0 0 M730.256 1512.56 L748.613 1512.56 L748.613 1516.5 L734.539 1516.5 L734.539 1524.97 Q735.557 1524.62 736.576 1524.46 Q737.594 1524.27 738.613 1524.27 Q744.4 1524.27 747.779 1527.44 Q751.159 1530.62 751.159 1536.03 Q751.159 1541.61 747.687 1544.71 Q744.214 1547.79 737.895 1547.79 Q735.719 1547.79 733.451 1547.42 Q731.205 1547.05 728.798 1546.31 L728.798 1541.61 Q730.881 1542.74 733.103 1543.3 Q735.326 1543.86 737.802 1543.86 Q741.807 1543.86 744.145 1541.75 Q746.483 1539.64 746.483 1536.03 Q746.483 1532.42 744.145 1530.31 Q741.807 1528.21 737.802 1528.21 Q735.927 1528.21 734.052 1528.62 Q732.201 1529.04 730.256 1529.92 L730.256 1512.56 Z\" fill=\"#000000\" fill-rule=\"evenodd\" fill-opacity=\"1\" /><path clip-path=\"url(#clip670)\" d=\"M 0 0 M1183.88 1543.18 L1191.52 1543.18 L1191.52 1516.82 L1183.21 1518.49 L1183.21 1514.23 L1191.47 1512.56 L1196.15 1512.56 L1196.15 1543.18 L1203.79 1543.18 L1203.79 1547.12 L1183.88 1547.12 L1183.88 1543.18 Z\" fill=\"#000000\" fill-rule=\"evenodd\" fill-opacity=\"1\" /><path clip-path=\"url(#clip670)\" d=\"M 0 0 M1213.23 1541.24 L1218.11 1541.24 L1218.11 1547.12 L1213.23 1547.12 L1213.23 1541.24 Z\" fill=\"#000000\" fill-rule=\"evenodd\" fill-opacity=\"1\" /><path clip-path=\"url(#clip670)\" d=\"M 0 0 M1228.35 1512.56 L1246.7 1512.56 L1246.7 1516.5 L1232.63 1516.5 L1232.63 1524.97 Q1233.65 1524.62 1234.67 1524.46 Q1235.68 1524.27 1236.7 1524.27 Q1242.49 1524.27 1245.87 1527.44 Q1249.25 1530.62 1249.25 1536.03 Q1249.25 1541.61 1245.78 1544.71 Q1242.3 1547.79 1235.99 1547.79 Q1233.81 1547.79 1231.54 1547.42 Q1229.3 1547.05 1226.89 1546.31 L1226.89 1541.61 Q1228.97 1542.74 1231.19 1543.3 Q1233.42 1543.86 1235.89 1543.86 Q1239.9 1543.86 1242.24 1541.75 Q1244.57 1539.64 1244.57 1536.03 Q1244.57 1532.42 1242.24 1530.31 Q1239.9 1528.21 1235.89 1528.21 Q1234.02 1528.21 1232.14 1528.62 Q1230.29 1529.04 1228.35 1529.92 L1228.35 1512.56 Z\" fill=\"#000000\" fill-rule=\"evenodd\" fill-opacity=\"1\" /><path clip-path=\"url(#clip670)\" d=\"M 0 0 M1268.46 1515.64 Q1264.85 1515.64 1263.02 1519.2 Q1261.22 1522.75 1261.22 1529.87 Q1261.22 1536.98 1263.02 1540.55 Q1264.85 1544.09 1268.46 1544.09 Q1272.1 1544.09 1273.9 1540.55 Q1275.73 1536.98 1275.73 1529.87 Q1275.73 1522.75 1273.9 1519.2 Q1272.1 1515.64 1268.46 1515.64 M1268.46 1511.93 Q1274.27 1511.93 1277.33 1516.54 Q1280.41 1521.12 1280.41 1529.87 Q1280.41 1538.6 1277.33 1543.21 Q1274.27 1547.79 1268.46 1547.79 Q1262.65 1547.79 1259.57 1543.21 Q1256.52 1538.6 1256.52 1529.87 Q1256.52 1521.12 1259.57 1516.54 Q1262.65 1511.93 1268.46 1511.93 Z\" fill=\"#000000\" fill-rule=\"evenodd\" fill-opacity=\"1\" /><path clip-path=\"url(#clip670)\" d=\"M 0 0 M1713.13 1543.18 L1720.76 1543.18 L1720.76 1516.82 L1712.45 1518.49 L1712.45 1514.23 L1720.72 1512.56 L1725.39 1512.56 L1725.39 1543.18 L1733.03 1543.18 L1733.03 1547.12 L1713.13 1547.12 L1713.13 1543.18 Z\" fill=\"#000000\" fill-rule=\"evenodd\" fill-opacity=\"1\" /><path clip-path=\"url(#clip670)\" d=\"M 0 0 M1742.48 1541.24 L1747.36 1541.24 L1747.36 1547.12 L1742.48 1547.12 L1742.48 1541.24 Z\" fill=\"#000000\" fill-rule=\"evenodd\" fill-opacity=\"1\" /><path clip-path=\"url(#clip670)\" d=\"M 0 0 M1756.37 1512.56 L1778.59 1512.56 L1778.59 1514.55 L1766.04 1547.12 L1761.16 1547.12 L1772.96 1516.5 L1756.37 1516.5 L1756.37 1512.56 Z\" fill=\"#000000\" fill-rule=\"evenodd\" fill-opacity=\"1\" /><path clip-path=\"url(#clip670)\" d=\"M 0 0 M1787.76 1512.56 L1806.11 1512.56 L1806.11 1516.5 L1792.04 1516.5 L1792.04 1524.97 Q1793.06 1524.62 1794.07 1524.46 Q1795.09 1524.27 1796.11 1524.27 Q1801.9 1524.27 1805.28 1527.44 Q1808.66 1530.62 1808.66 1536.03 Q1808.66 1541.61 1805.19 1544.71 Q1801.71 1547.79 1795.39 1547.79 Q1793.22 1547.79 1790.95 1547.42 Q1788.7 1547.05 1786.3 1546.31 L1786.3 1541.61 Q1788.38 1542.74 1790.6 1543.3 Q1792.82 1543.86 1795.3 1543.86 Q1799.31 1543.86 1801.64 1541.75 Q1803.98 1539.64 1803.98 1536.03 Q1803.98 1532.42 1801.64 1530.31 Q1799.31 1528.21 1795.3 1528.21 Q1793.43 1528.21 1791.55 1528.62 Q1789.7 1529.04 1787.76 1529.92 L1787.76 1512.56 Z\" fill=\"#000000\" fill-rule=\"evenodd\" fill-opacity=\"1\" /><path clip-path=\"url(#clip670)\" d=\"M 0 0 M2245.46 1543.18 L2261.78 1543.18 L2261.78 1547.12 L2239.84 1547.12 L2239.84 1543.18 Q2242.5 1540.43 2247.08 1535.8 Q2251.69 1531.15 2252.87 1529.81 Q2255.12 1527.28 2256 1525.55 Q2256.9 1523.79 2256.9 1522.1 Q2256.9 1519.34 2254.95 1517.61 Q2253.03 1515.87 2249.93 1515.87 Q2247.73 1515.87 2245.28 1516.63 Q2242.85 1517.4 2240.07 1518.95 L2240.07 1514.23 Q2242.89 1513.09 2245.35 1512.51 Q2247.8 1511.93 2249.84 1511.93 Q2255.21 1511.93 2258.4 1514.62 Q2261.6 1517.31 2261.6 1521.8 Q2261.6 1523.93 2260.79 1525.85 Q2260 1527.74 2257.89 1530.34 Q2257.32 1531.01 2254.21 1534.23 Q2251.11 1537.42 2245.46 1543.18 Z\" fill=\"#000000\" fill-rule=\"evenodd\" fill-opacity=\"1\" /><path clip-path=\"url(#clip670)\" d=\"M 0 0 M2271.6 1541.24 L2276.48 1541.24 L2276.48 1547.12 L2271.6 1547.12 L2271.6 1541.24 Z\" fill=\"#000000\" fill-rule=\"evenodd\" fill-opacity=\"1\" /><path clip-path=\"url(#clip670)\" d=\"M 0 0 M2296.67 1515.64 Q2293.06 1515.64 2291.23 1519.2 Q2289.42 1522.75 2289.42 1529.87 Q2289.42 1536.98 2291.23 1540.55 Q2293.06 1544.09 2296.67 1544.09 Q2300.3 1544.09 2302.11 1540.55 Q2303.94 1536.98 2303.94 1529.87 Q2303.94 1522.75 2302.11 1519.2 Q2300.3 1515.64 2296.67 1515.64 M2296.67 1511.93 Q2302.48 1511.93 2305.53 1516.54 Q2308.61 1521.12 2308.61 1529.87 Q2308.61 1538.6 2305.53 1543.21 Q2302.48 1547.79 2296.67 1547.79 Q2290.86 1547.79 2287.78 1543.21 Q2284.72 1538.6 2284.72 1529.87 Q2284.72 1521.12 2287.78 1516.54 Q2290.86 1511.93 2296.67 1511.93 Z\" fill=\"#000000\" fill-rule=\"evenodd\" fill-opacity=\"1\" /><path clip-path=\"url(#clip670)\" d=\"M 0 0 M2326.83 1515.64 Q2323.22 1515.64 2321.39 1519.2 Q2319.58 1522.75 2319.58 1529.87 Q2319.58 1536.98 2321.39 1540.55 Q2323.22 1544.09 2326.83 1544.09 Q2330.46 1544.09 2332.27 1540.55 Q2334.1 1536.98 2334.1 1529.87 Q2334.1 1522.75 2332.27 1519.2 Q2330.46 1515.64 2326.83 1515.64 M2326.83 1511.93 Q2332.64 1511.93 2335.69 1516.54 Q2338.77 1521.12 2338.77 1529.87 Q2338.77 1538.6 2335.69 1543.21 Q2332.64 1547.79 2326.83 1547.79 Q2321.02 1547.79 2317.94 1543.21 Q2314.88 1538.6 2314.88 1529.87 Q2314.88 1521.12 2317.94 1516.54 Q2321.02 1511.93 2326.83 1511.93 Z\" fill=\"#000000\" fill-rule=\"evenodd\" fill-opacity=\"1\" /><polyline clip-path=\"url(#clip672)\" style=\"stroke:#000000; stroke-width:2; stroke-opacity:0.1; fill:none\" points=\"\n",
       "  110.858,1328.22 2352.76,1328.22 \n",
       "  \"/>\n",
       "<polyline clip-path=\"url(#clip672)\" style=\"stroke:#000000; stroke-width:2; stroke-opacity:0.1; fill:none\" points=\"\n",
       "  110.858,1016.38 2352.76,1016.38 \n",
       "  \"/>\n",
       "<polyline clip-path=\"url(#clip672)\" style=\"stroke:#000000; stroke-width:2; stroke-opacity:0.1; fill:none\" points=\"\n",
       "  110.858,704.534 2352.76,704.534 \n",
       "  \"/>\n",
       "<polyline clip-path=\"url(#clip672)\" style=\"stroke:#000000; stroke-width:2; stroke-opacity:0.1; fill:none\" points=\"\n",
       "  110.858,392.69 2352.76,392.69 \n",
       "  \"/>\n",
       "<polyline clip-path=\"url(#clip672)\" style=\"stroke:#000000; stroke-width:2; stroke-opacity:0.1; fill:none\" points=\"\n",
       "  110.858,80.8473 2352.76,80.8473 \n",
       "  \"/>\n",
       "<polyline clip-path=\"url(#clip670)\" style=\"stroke:#000000; stroke-width:4; stroke-opacity:1; fill:none\" points=\"\n",
       "  110.858,1486.45 110.858,47.2441 \n",
       "  \"/>\n",
       "<polyline clip-path=\"url(#clip670)\" style=\"stroke:#000000; stroke-width:4; stroke-opacity:1; fill:none\" points=\"\n",
       "  110.858,1328.22 137.761,1328.22 \n",
       "  \"/>\n",
       "<polyline clip-path=\"url(#clip670)\" style=\"stroke:#000000; stroke-width:4; stroke-opacity:1; fill:none\" points=\"\n",
       "  110.858,1016.38 137.761,1016.38 \n",
       "  \"/>\n",
       "<polyline clip-path=\"url(#clip670)\" style=\"stroke:#000000; stroke-width:4; stroke-opacity:1; fill:none\" points=\"\n",
       "  110.858,704.534 137.761,704.534 \n",
       "  \"/>\n",
       "<polyline clip-path=\"url(#clip670)\" style=\"stroke:#000000; stroke-width:4; stroke-opacity:1; fill:none\" points=\"\n",
       "  110.858,392.69 137.761,392.69 \n",
       "  \"/>\n",
       "<polyline clip-path=\"url(#clip670)\" style=\"stroke:#000000; stroke-width:4; stroke-opacity:1; fill:none\" points=\"\n",
       "  110.858,80.8473 137.761,80.8473 \n",
       "  \"/>\n",
       "<path clip-path=\"url(#clip670)\" d=\"M 0 0 M53.9551 1310.94 L72.3115 1310.94 L72.3115 1314.88 L58.2375 1314.88 L58.2375 1323.35 Q59.256 1323 60.2745 1322.84 Q61.293 1322.65 62.3115 1322.65 Q68.0985 1322.65 71.4781 1325.82 Q74.8577 1329 74.8577 1334.41 Q74.8577 1339.99 71.3855 1343.09 Q67.9133 1346.17 61.5939 1346.17 Q59.418 1346.17 57.1495 1345.8 Q54.9041 1345.43 52.4967 1344.69 L52.4967 1339.99 Q54.5801 1341.13 56.8023 1341.68 Q59.0245 1342.24 61.5013 1342.24 Q65.5059 1342.24 67.8439 1340.13 Q70.1818 1338.02 70.1818 1334.41 Q70.1818 1330.8 67.8439 1328.69 Q65.5059 1326.59 61.5013 1326.59 Q59.6263 1326.59 57.7513 1327 Q55.8995 1327.42 53.9551 1328.3 L53.9551 1310.94 Z\" fill=\"#000000\" fill-rule=\"evenodd\" fill-opacity=\"1\" /><path clip-path=\"url(#clip670)\" d=\"M 0 0 M63.33 1014.51 Q60.1819 1014.51 58.33 1016.67 Q56.5014 1018.82 56.5014 1022.57 Q56.5014 1026.3 58.33 1028.47 Q60.1819 1030.62 63.33 1030.62 Q66.4782 1030.62 68.3068 1028.47 Q70.1587 1026.3 70.1587 1022.57 Q70.1587 1018.82 68.3068 1016.67 Q66.4782 1014.51 63.33 1014.51 M72.6124 999.861 L72.6124 1004.12 Q70.8531 1003.29 69.0476 1002.85 Q67.2652 1002.41 65.5059 1002.41 Q60.8763 1002.41 58.4226 1005.53 Q55.9921 1008.66 55.6449 1014.98 Q57.0106 1012.96 59.0708 1011.9 Q61.131 1010.81 63.6078 1010.81 Q68.8161 1010.81 71.8253 1013.98 Q74.8577 1017.13 74.8577 1022.57 Q74.8577 1027.89 71.7096 1031.11 Q68.5615 1034.33 63.33 1034.33 Q57.3347 1034.33 54.1634 1029.74 Q50.9921 1025.14 50.9921 1016.41 Q50.9921 1008.22 54.881 1003.36 Q58.7699 998.472 65.3208 998.472 Q67.08 998.472 68.8624 998.819 Q70.6679 999.166 72.6124 999.861 Z\" fill=\"#000000\" fill-rule=\"evenodd\" fill-opacity=\"1\" /><path clip-path=\"url(#clip670)\" d=\"M 0 0 M52.6356 687.254 L74.8577 687.254 L74.8577 689.244 L62.3115 721.814 L57.4273 721.814 L69.2328 691.189 L52.6356 691.189 L52.6356 687.254 Z\" fill=\"#000000\" fill-rule=\"evenodd\" fill-opacity=\"1\" /><path clip-path=\"url(#clip670)\" d=\"M 0 0 M63.006 393.559 Q59.6726 393.559 57.7513 395.341 Q55.8532 397.123 55.8532 400.248 Q55.8532 403.373 57.7513 405.156 Q59.6726 406.938 63.006 406.938 Q66.3393 406.938 68.2606 405.156 Q70.1818 403.35 70.1818 400.248 Q70.1818 397.123 68.2606 395.341 Q66.3624 393.559 63.006 393.559 M58.33 391.568 Q55.3208 390.827 53.631 388.767 Q51.9643 386.707 51.9643 383.744 Q51.9643 379.6 54.9041 377.193 Q57.8671 374.786 63.006 374.786 Q68.168 374.786 71.1078 377.193 Q74.0476 379.6 74.0476 383.744 Q74.0476 386.707 72.3578 388.767 Q70.6911 390.827 67.705 391.568 Q71.0846 392.355 72.9596 394.647 Q74.8577 396.938 74.8577 400.248 Q74.8577 405.271 71.7791 407.957 Q68.7235 410.642 63.006 410.642 Q57.2884 410.642 54.2097 407.957 Q51.1542 405.271 51.1542 400.248 Q51.1542 396.938 53.0523 394.647 Q54.9504 392.355 58.33 391.568 M56.6171 384.184 Q56.6171 386.869 58.2838 388.373 Q59.9736 389.878 63.006 389.878 Q66.0152 389.878 67.705 388.373 Q69.418 386.869 69.418 384.184 Q69.418 381.498 67.705 379.994 Q66.0152 378.489 63.006 378.489 Q59.9736 378.489 58.2838 379.994 Q56.6171 381.498 56.6171 384.184 Z\" fill=\"#000000\" fill-rule=\"evenodd\" fill-opacity=\"1\" /><path clip-path=\"url(#clip670)\" d=\"M 0 0 M53.2375 97.4097 L53.2375 93.1505 Q54.9967 93.9838 56.8023 94.4236 Q58.6078 94.8634 60.3439 94.8634 Q64.9735 94.8634 67.4041 91.7616 Q69.8578 88.6366 70.205 82.294 Q68.8624 84.2848 66.8022 85.3496 Q64.7421 86.4144 62.2421 86.4144 Q57.0569 86.4144 54.0245 83.2894 Q51.0153 80.1413 51.0153 74.7015 Q51.0153 69.3775 54.1634 66.1599 Q57.3115 62.9423 62.543 62.9423 Q68.5383 62.9423 71.6865 67.5488 Q74.8577 72.1321 74.8577 80.882 Q74.8577 89.0533 70.9689 93.9375 Q67.1032 98.7986 60.5523 98.7986 Q58.793 98.7986 56.9875 98.4514 Q55.1819 98.1041 53.2375 97.4097 M62.543 82.757 Q65.6911 82.757 67.5198 80.6042 Q69.3717 78.4515 69.3717 74.7015 Q69.3717 70.9747 67.5198 68.8219 Q65.6911 66.646 62.543 66.646 Q59.3949 66.646 57.543 68.8219 Q55.7143 70.9747 55.7143 74.7015 Q55.7143 78.4515 57.543 80.6042 Q59.3949 82.757 62.543 82.757 Z\" fill=\"#000000\" fill-rule=\"evenodd\" fill-opacity=\"1\" /><polyline clip-path=\"url(#clip672)\" style=\"stroke:#009af9; stroke-width:4; stroke-opacity:1; fill:none\" points=\"\n",
       "  174.308,692.764 2289.31,692.764 \n",
       "  \"/>\n",
       "<polyline clip-path=\"url(#clip672)\" style=\"stroke:#e26f46; stroke-width:4; stroke-opacity:1; fill:none\" points=\"\n",
       "  174.308,1445.72 2289.31,1445.72 \n",
       "  \"/>\n",
       "<polyline clip-path=\"url(#clip672)\" style=\"stroke:#3da44d; stroke-width:4; stroke-opacity:1; fill:none\" points=\"\n",
       "  174.308,87.9763 2289.31,87.9763 \n",
       "  \"/>\n",
       "<polyline clip-path=\"url(#clip672)\" style=\"stroke:#c271d2; stroke-width:4; stroke-opacity:1; fill:none\" points=\"\n",
       "  174.308,940.948 2289.31,940.948 \n",
       "  \"/>\n",
       "<path clip-path=\"url(#clip670)\" d=\"\n",
       "M1974.78 397.618 L2278.03 397.618 L2278.03 95.2176 L1974.78 95.2176  Z\n",
       "  \" fill=\"#ffffff\" fill-rule=\"evenodd\" fill-opacity=\"1\"/>\n",
       "<polyline clip-path=\"url(#clip670)\" style=\"stroke:#000000; stroke-width:4; stroke-opacity:1; fill:none\" points=\"\n",
       "  1974.78,397.618 2278.03,397.618 2278.03,95.2176 1974.78,95.2176 1974.78,397.618 \n",
       "  \"/>\n",
       "<polyline clip-path=\"url(#clip670)\" style=\"stroke:#009af9; stroke-width:4; stroke-opacity:1; fill:none\" points=\"\n",
       "  1999.69,155.698 2149.15,155.698 \n",
       "  \"/>\n",
       "<path clip-path=\"url(#clip670)\" d=\"M 0 0 M2187.91 175.385 Q2186.1 180.015 2184.39 181.427 Q2182.67 182.839 2179.8 182.839 L2176.4 182.839 L2176.4 179.274 L2178.9 179.274 Q2180.66 179.274 2181.63 178.44 Q2182.6 177.607 2183.78 174.505 L2184.55 172.561 L2174.06 147.052 L2178.58 147.052 L2186.68 167.329 L2194.78 147.052 L2199.29 147.052 L2187.91 175.385 Z\" fill=\"#000000\" fill-rule=\"evenodd\" fill-opacity=\"1\" /><path clip-path=\"url(#clip670)\" d=\"M 0 0 M2206.59 169.042 L2214.22 169.042 L2214.22 142.677 L2205.91 144.343 L2205.91 140.084 L2214.18 138.418 L2218.85 138.418 L2218.85 169.042 L2226.49 169.042 L2226.49 172.978 L2206.59 172.978 L2206.59 169.042 Z\" fill=\"#000000\" fill-rule=\"evenodd\" fill-opacity=\"1\" /><polyline clip-path=\"url(#clip670)\" style=\"stroke:#e26f46; stroke-width:4; stroke-opacity:1; fill:none\" points=\"\n",
       "  1999.69,216.178 2149.15,216.178 \n",
       "  \"/>\n",
       "<path clip-path=\"url(#clip670)\" d=\"M 0 0 M2187.91 235.865 Q2186.1 240.495 2184.39 241.907 Q2182.67 243.319 2179.8 243.319 L2176.4 243.319 L2176.4 239.754 L2178.9 239.754 Q2180.66 239.754 2181.63 238.92 Q2182.6 238.087 2183.78 234.985 L2184.55 233.041 L2174.06 207.532 L2178.58 207.532 L2186.68 227.809 L2194.78 207.532 L2199.29 207.532 L2187.91 235.865 Z\" fill=\"#000000\" fill-rule=\"evenodd\" fill-opacity=\"1\" /><path clip-path=\"url(#clip670)\" d=\"M 0 0 M2209.8 229.522 L2226.12 229.522 L2226.12 233.458 L2204.18 233.458 L2204.18 229.522 Q2206.84 226.768 2211.42 222.138 Q2216.03 217.485 2217.21 216.143 Q2219.46 213.62 2220.34 211.884 Q2221.24 210.124 2221.24 208.435 Q2221.24 205.68 2219.29 203.944 Q2217.37 202.208 2214.27 202.208 Q2212.07 202.208 2209.62 202.972 Q2207.19 203.735 2204.41 205.286 L2204.41 200.564 Q2207.23 199.43 2209.69 198.851 Q2212.14 198.273 2214.18 198.273 Q2219.55 198.273 2222.74 200.958 Q2225.94 203.643 2225.94 208.134 Q2225.94 210.263 2225.13 212.185 Q2224.34 214.083 2222.23 216.675 Q2221.66 217.347 2218.55 220.564 Q2215.45 223.759 2209.8 229.522 Z\" fill=\"#000000\" fill-rule=\"evenodd\" fill-opacity=\"1\" /><polyline clip-path=\"url(#clip670)\" style=\"stroke:#3da44d; stroke-width:4; stroke-opacity:1; fill:none\" points=\"\n",
       "  1999.69,276.658 2149.15,276.658 \n",
       "  \"/>\n",
       "<path clip-path=\"url(#clip670)\" d=\"M 0 0 M2187.91 296.345 Q2186.1 300.975 2184.39 302.387 Q2182.67 303.799 2179.8 303.799 L2176.4 303.799 L2176.4 300.234 L2178.9 300.234 Q2180.66 300.234 2181.63 299.4 Q2182.6 298.567 2183.78 295.465 L2184.55 293.521 L2174.06 268.012 L2178.58 268.012 L2186.68 288.289 L2194.78 268.012 L2199.29 268.012 L2187.91 296.345 Z\" fill=\"#000000\" fill-rule=\"evenodd\" fill-opacity=\"1\" /><path clip-path=\"url(#clip670)\" d=\"M 0 0 M2219.94 275.303 Q2223.3 276.021 2225.17 278.289 Q2227.07 280.558 2227.07 283.891 Q2227.07 289.007 2223.55 291.808 Q2220.03 294.609 2213.55 294.609 Q2211.38 294.609 2209.06 294.169 Q2206.77 293.752 2204.32 292.896 L2204.32 288.382 Q2206.26 289.516 2208.58 290.095 Q2210.89 290.674 2213.41 290.674 Q2217.81 290.674 2220.1 288.938 Q2222.42 287.201 2222.42 283.891 Q2222.42 280.836 2220.27 279.123 Q2218.14 277.387 2214.32 277.387 L2210.29 277.387 L2210.29 273.544 L2214.5 273.544 Q2217.95 273.544 2219.78 272.178 Q2221.61 270.79 2221.61 268.197 Q2221.61 265.535 2219.71 264.123 Q2217.84 262.688 2214.32 262.688 Q2212.4 262.688 2210.2 263.104 Q2208 263.521 2205.36 264.401 L2205.36 260.234 Q2208.02 259.493 2210.34 259.123 Q2212.67 258.753 2214.73 258.753 Q2220.06 258.753 2223.16 261.183 Q2226.26 263.59 2226.26 267.711 Q2226.26 270.581 2224.62 272.572 Q2222.97 274.54 2219.94 275.303 Z\" fill=\"#000000\" fill-rule=\"evenodd\" fill-opacity=\"1\" /><polyline clip-path=\"url(#clip670)\" style=\"stroke:#c271d2; stroke-width:4; stroke-opacity:1; fill:none\" points=\"\n",
       "  1999.69,337.138 2149.15,337.138 \n",
       "  \"/>\n",
       "<path clip-path=\"url(#clip670)\" d=\"M 0 0 M2187.91 356.825 Q2186.1 361.455 2184.39 362.867 Q2182.67 364.279 2179.8 364.279 L2176.4 364.279 L2176.4 360.714 L2178.9 360.714 Q2180.66 360.714 2181.63 359.88 Q2182.6 359.047 2183.78 355.945 L2184.55 354.001 L2174.06 328.492 L2178.58 328.492 L2186.68 348.769 L2194.78 328.492 L2199.29 328.492 L2187.91 356.825 Z\" fill=\"#000000\" fill-rule=\"evenodd\" fill-opacity=\"1\" /><path clip-path=\"url(#clip670)\" d=\"M 0 0 M2218.62 323.932 L2206.82 342.381 L2218.62 342.381 L2218.62 323.932 M2217.4 319.858 L2223.28 319.858 L2223.28 342.381 L2228.21 342.381 L2228.21 346.269 L2223.28 346.269 L2223.28 354.418 L2218.62 354.418 L2218.62 346.269 L2203.02 346.269 L2203.02 341.756 L2217.4 319.858 Z\" fill=\"#000000\" fill-rule=\"evenodd\" fill-opacity=\"1\" /></svg>\n"
      ]
     },
     "execution_count": 25,
     "metadata": {},
     "output_type": "execute_result"
    }
   ],
   "source": [
    "plot(g_vals')"
   ]
  },
  {
   "cell_type": "code",
   "execution_count": 26,
   "id": "convinced-holly",
   "metadata": {},
   "outputs": [
    {
     "name": "stdout",
     "output_type": "stream",
     "text": [
      "norm(KKT) = 5.9435454514140644e-9\n",
      "sum(abs.(KKT) .> TOL) = 0\n"
     ]
    }
   ],
   "source": [
    "x = flatten_variables_dyn(dmin);\n",
    "KKT = kkt_dyn(x, dnet, d_dyn);\n",
    "TOL=1e-6;\n",
    "\n",
    "@show norm(KKT)\n",
    "@show sum(abs.(KKT).>TOL);"
   ]
  },
  {
   "cell_type": "markdown",
   "id": "split-cheat",
   "metadata": {},
   "source": [
    "### Looking for indices where `KKT \\neq 0`"
   ]
  },
  {
   "cell_type": "code",
   "execution_count": 27,
   "id": "protective-stations",
   "metadata": {},
   "outputs": [],
   "source": [
    "static_length = 3l + 3m + n\n",
    "storage_length = 5n;"
   ]
  },
  {
   "cell_type": "code",
   "execution_count": 28,
   "id": "affecting-scene",
   "metadata": {},
   "outputs": [
    {
     "name": "stdout",
     "output_type": "stream",
     "text": [
      "(t, sum(abs.(KKT[start_stat + 1:start_stat + static_length]) .> TOL)) = (1, 0)\n",
      "(t, sum(abs.(KKT[start_stat + 1:start_stat + static_length]) .> TOL)) = (2, 0)\n"
     ]
    }
   ],
   "source": [
    "# static\n",
    "for t in 1:T\n",
    "    start_stat = (t-1) * static_length\n",
    "    @show t, sum(abs.(KKT[start_stat+1:start_stat + static_length]).> TOL)\n",
    "end"
   ]
  },
  {
   "cell_type": "code",
   "execution_count": 29,
   "id": "focal-mustang",
   "metadata": {},
   "outputs": [
    {
     "name": "stdout",
     "output_type": "stream",
     "text": [
      "(t, sum(abs.(KKT[start_stor + 1:start_stor + storage_length]) .> TOL)) = (1, 0)\n",
      "(t, sum(abs.(KKT[start_stor + 1:start_stor + storage_length]) .> TOL)) = (2, 0)\n"
     ]
    }
   ],
   "source": [
    "# storage\n",
    "for t in 1:T\n",
    "    start_stor = T*static_length + (t-1) * storage_length\n",
    "    @show t, sum(abs.(KKT[start_stor+1:start_stor + storage_length]).> TOL)\n",
    "end"
   ]
  },
  {
   "cell_type": "code",
   "execution_count": 30,
   "id": "unnecessary-apple",
   "metadata": {},
   "outputs": [
    {
     "name": "stdout",
     "output_type": "stream",
     "text": [
      "(k, norm(KKT_st[(k - 1) * n + 1:k * n])) = (1, 1.137640067256873e-15)\n",
      "(k, norm(KKT_st[(k - 1) * n + 1:k * n])) = (2, 1.4664191673399493e-9)\n",
      "(k, norm(KKT_st[(k - 1) * n + 1:k * n])) = (3, 4.743256823487454e-10)\n",
      "(k, norm(KKT_st[(k - 1) * n + 1:k * n])) = (4, 1.758684154860335e-9)\n",
      "(k, norm(KKT_st[(k - 1) * n + 1:k * n])) = (5, 1.7585746691010815e-9)\n"
     ]
    }
   ],
   "source": [
    "t = 2\n",
    "start_stor = T*static_length + (t-1) * storage_length\n",
    "KKT_st = KKT[start_stor+1:start_stor + storage_length]\n",
    "for k in 1:5\n",
    "    @show k, norm(KKT_st[(k-1)*n+1:k*n])\n",
    "end\n"
   ]
  },
  {
   "cell_type": "code",
   "execution_count": 31,
   "id": "explicit-ladder",
   "metadata": {},
   "outputs": [
    {
     "data": {
      "text/plain": [
       "4-element Vector{Float64}:\n",
       " 1.1957824483788422e-9\n",
       " 5.095497418416019e-10\n",
       " 1.7078168784452569e-10\n",
       " 6.570252553572226e-10"
      ]
     },
     "execution_count": 31,
     "metadata": {},
     "output_type": "execute_result"
    }
   ],
   "source": [
    "k=2\n",
    "KKT_st[(k-1)*n+1:k*n]"
   ]
  },
  {
   "cell_type": "code",
   "execution_count": 32,
   "id": "lucky-parallel",
   "metadata": {},
   "outputs": [],
   "source": [
    "x = flatten_variables_dyn(dmin);\n",
    "\n",
    "g, p, s, λpl, λpu, λgl, λgu, ν, λdsl, λdsu, λsl, λsu = unflatten_variables_dyn(x, n, m, l, T);"
   ]
  },
  {
   "cell_type": "markdown",
   "id": "independent-latest",
   "metadata": {},
   "source": [
    "## Several timesteps, with battery capacity"
   ]
  },
  {
   "cell_type": "markdown",
   "id": "julian-raising",
   "metadata": {},
   "source": [
    "Again, this should be the same as $T$ uncoupled problems. "
   ]
  },
  {
   "cell_type": "code",
   "execution_count": 33,
   "id": "patent-reporter",
   "metadata": {},
   "outputs": [],
   "source": [
    "T = 5\n",
    "\n",
    "cq_dyn = [cq for _ in 1:T]\n",
    "cl_dyn = [cl for _ in 1:T]\n",
    "pmax_dyn = [pmax for _ in 1:T]\n",
    "gmax_dyn = [gmax for _ in 1:T]\n",
    "d_dyn = [d for _ in 1:T]\n",
    "\n",
    "P = rand(Exponential(2), n)\n",
    "C = rand(Exponential(2), n)\n",
    ";"
   ]
  },
  {
   "cell_type": "code",
   "execution_count": 34,
   "id": "painful-basketball",
   "metadata": {},
   "outputs": [],
   "source": [
    "dnet = DynamicPowerNetwork(\n",
    "    cq_dyn, cl_dyn, pmax_dyn, gmax_dyn, A, B, P, C\n",
    ")\n",
    "dmin = DynamicPowerManagementProblem(dnet, d_dyn);"
   ]
  },
  {
   "cell_type": "code",
   "execution_count": 35,
   "id": "micro-boundary",
   "metadata": {},
   "outputs": [],
   "source": [
    "solve!(dmin, OPT, verbose=true);"
   ]
  },
  {
   "cell_type": "code",
   "execution_count": 36,
   "id": "canadian-champion",
   "metadata": {},
   "outputs": [],
   "source": [
    "s_vals = zeros(n, T)\n",
    "g_vals = zeros(l, T)\n",
    "for t in 1:T\n",
    "    s_vals[:, t] = dmin.s[t].value\n",
    "    g_vals[:, t] = dmin.g[t].value\n",
    "end"
   ]
  },
  {
   "cell_type": "code",
   "execution_count": 37,
   "id": "behavioral-mauritius",
   "metadata": {},
   "outputs": [
    {
     "data": {
      "image/svg+xml": [
       "<?xml version=\"1.0\" encoding=\"utf-8\"?>\n",
       "<svg xmlns=\"http://www.w3.org/2000/svg\" xmlns:xlink=\"http://www.w3.org/1999/xlink\" width=\"600\" height=\"400\" viewBox=\"0 0 2400 1600\">\n",
       "<defs>\n",
       "  <clipPath id=\"clip710\">\n",
       "    <rect x=\"0\" y=\"0\" width=\"2400\" height=\"1600\"/>\n",
       "  </clipPath>\n",
       "</defs>\n",
       "<path clip-path=\"url(#clip710)\" d=\"\n",
       "M0 1600 L2400 1600 L2400 0 L0 0  Z\n",
       "  \" fill=\"#ffffff\" fill-rule=\"evenodd\" fill-opacity=\"1\"/>\n",
       "<defs>\n",
       "  <clipPath id=\"clip711\">\n",
       "    <rect x=\"480\" y=\"0\" width=\"1681\" height=\"1600\"/>\n",
       "  </clipPath>\n",
       "</defs>\n",
       "<path clip-path=\"url(#clip710)\" d=\"\n",
       "M156.112 1486.45 L2352.76 1486.45 L2352.76 47.2441 L156.112 47.2441  Z\n",
       "  \" fill=\"#ffffff\" fill-rule=\"evenodd\" fill-opacity=\"1\"/>\n",
       "<defs>\n",
       "  <clipPath id=\"clip712\">\n",
       "    <rect x=\"156\" y=\"47\" width=\"2198\" height=\"1440\"/>\n",
       "  </clipPath>\n",
       "</defs>\n",
       "<polyline clip-path=\"url(#clip712)\" style=\"stroke:#000000; stroke-width:2; stroke-opacity:0.1; fill:none\" points=\"\n",
       "  218.281,1486.45 218.281,47.2441 \n",
       "  \"/>\n",
       "<polyline clip-path=\"url(#clip712)\" style=\"stroke:#000000; stroke-width:2; stroke-opacity:0.1; fill:none\" points=\"\n",
       "  736.358,1486.45 736.358,47.2441 \n",
       "  \"/>\n",
       "<polyline clip-path=\"url(#clip712)\" style=\"stroke:#000000; stroke-width:2; stroke-opacity:0.1; fill:none\" points=\"\n",
       "  1254.43,1486.45 1254.43,47.2441 \n",
       "  \"/>\n",
       "<polyline clip-path=\"url(#clip712)\" style=\"stroke:#000000; stroke-width:2; stroke-opacity:0.1; fill:none\" points=\"\n",
       "  1772.51,1486.45 1772.51,47.2441 \n",
       "  \"/>\n",
       "<polyline clip-path=\"url(#clip712)\" style=\"stroke:#000000; stroke-width:2; stroke-opacity:0.1; fill:none\" points=\"\n",
       "  2290.59,1486.45 2290.59,47.2441 \n",
       "  \"/>\n",
       "<polyline clip-path=\"url(#clip710)\" style=\"stroke:#000000; stroke-width:4; stroke-opacity:1; fill:none\" points=\"\n",
       "  156.112,1486.45 2352.76,1486.45 \n",
       "  \"/>\n",
       "<polyline clip-path=\"url(#clip710)\" style=\"stroke:#000000; stroke-width:4; stroke-opacity:1; fill:none\" points=\"\n",
       "  218.281,1486.45 218.281,1469.18 \n",
       "  \"/>\n",
       "<polyline clip-path=\"url(#clip710)\" style=\"stroke:#000000; stroke-width:4; stroke-opacity:1; fill:none\" points=\"\n",
       "  736.358,1486.45 736.358,1469.18 \n",
       "  \"/>\n",
       "<polyline clip-path=\"url(#clip710)\" style=\"stroke:#000000; stroke-width:4; stroke-opacity:1; fill:none\" points=\"\n",
       "  1254.43,1486.45 1254.43,1469.18 \n",
       "  \"/>\n",
       "<polyline clip-path=\"url(#clip710)\" style=\"stroke:#000000; stroke-width:4; stroke-opacity:1; fill:none\" points=\"\n",
       "  1772.51,1486.45 1772.51,1469.18 \n",
       "  \"/>\n",
       "<polyline clip-path=\"url(#clip710)\" style=\"stroke:#000000; stroke-width:4; stroke-opacity:1; fill:none\" points=\"\n",
       "  2290.59,1486.45 2290.59,1469.18 \n",
       "  \"/>\n",
       "<path clip-path=\"url(#clip710)\" d=\"M 0 0 M208.663 1543.18 L216.302 1543.18 L216.302 1516.82 L207.992 1518.49 L207.992 1514.23 L216.256 1512.56 L220.932 1512.56 L220.932 1543.18 L228.571 1543.18 L228.571 1547.12 L208.663 1547.12 L208.663 1543.18 Z\" fill=\"#000000\" fill-rule=\"evenodd\" fill-opacity=\"1\" /><path clip-path=\"url(#clip710)\" d=\"M 0 0 M731.01 1543.18 L747.33 1543.18 L747.33 1547.12 L725.385 1547.12 L725.385 1543.18 Q728.048 1540.43 732.631 1535.8 Q737.237 1531.15 738.418 1529.81 Q740.663 1527.28 741.543 1525.55 Q742.446 1523.79 742.446 1522.1 Q742.446 1519.34 740.501 1517.61 Q738.58 1515.87 735.478 1515.87 Q733.279 1515.87 730.825 1516.63 Q728.395 1517.4 725.617 1518.95 L725.617 1514.23 Q728.441 1513.09 730.895 1512.51 Q733.348 1511.93 735.385 1511.93 Q740.756 1511.93 743.95 1514.62 Q747.145 1517.31 747.145 1521.8 Q747.145 1523.93 746.334 1525.85 Q745.547 1527.74 743.441 1530.34 Q742.862 1531.01 739.76 1534.23 Q736.659 1537.42 731.01 1543.18 Z\" fill=\"#000000\" fill-rule=\"evenodd\" fill-opacity=\"1\" /><path clip-path=\"url(#clip710)\" d=\"M 0 0 M1258.68 1528.49 Q1262.04 1529.2 1263.91 1531.47 Q1265.81 1533.74 1265.81 1537.07 Q1265.81 1542.19 1262.29 1544.99 Q1258.77 1547.79 1252.29 1547.79 Q1250.12 1547.79 1247.8 1547.35 Q1245.51 1546.93 1243.06 1546.08 L1243.06 1541.56 Q1245 1542.7 1247.32 1543.28 Q1249.63 1543.86 1252.15 1543.86 Q1256.55 1543.86 1258.84 1542.12 Q1261.16 1540.38 1261.16 1537.07 Q1261.16 1534.02 1259.01 1532.31 Q1256.88 1530.57 1253.06 1530.57 L1249.03 1530.57 L1249.03 1526.73 L1253.24 1526.73 Q1256.69 1526.73 1258.52 1525.36 Q1260.35 1523.97 1260.35 1521.38 Q1260.35 1518.72 1258.45 1517.31 Q1256.58 1515.87 1253.06 1515.87 Q1251.14 1515.87 1248.94 1516.29 Q1246.74 1516.7 1244.1 1517.58 L1244.1 1513.42 Q1246.76 1512.68 1249.08 1512.31 Q1251.41 1511.93 1253.47 1511.93 Q1258.8 1511.93 1261.9 1514.37 Q1265 1516.77 1265 1520.89 Q1265 1523.76 1263.36 1525.75 Q1261.71 1527.72 1258.68 1528.49 Z\" fill=\"#000000\" fill-rule=\"evenodd\" fill-opacity=\"1\" /><path clip-path=\"url(#clip710)\" d=\"M 0 0 M1775.52 1516.63 L1763.71 1535.08 L1775.52 1535.08 L1775.52 1516.63 M1774.29 1512.56 L1780.17 1512.56 L1780.17 1535.08 L1785.1 1535.08 L1785.1 1538.97 L1780.17 1538.97 L1780.17 1547.12 L1775.52 1547.12 L1775.52 1538.97 L1759.92 1538.97 L1759.92 1534.46 L1774.29 1512.56 Z\" fill=\"#000000\" fill-rule=\"evenodd\" fill-opacity=\"1\" /><path clip-path=\"url(#clip710)\" d=\"M 0 0 M2280.86 1512.56 L2299.22 1512.56 L2299.22 1516.5 L2285.15 1516.5 L2285.15 1524.97 Q2286.17 1524.62 2287.18 1524.46 Q2288.2 1524.27 2289.22 1524.27 Q2295.01 1524.27 2298.39 1527.44 Q2301.77 1530.62 2301.77 1536.03 Q2301.77 1541.61 2298.3 1544.71 Q2294.82 1547.79 2288.5 1547.79 Q2286.33 1547.79 2284.06 1547.42 Q2281.81 1547.05 2279.41 1546.31 L2279.41 1541.61 Q2281.49 1542.74 2283.71 1543.3 Q2285.93 1543.86 2288.41 1543.86 Q2292.42 1543.86 2294.75 1541.75 Q2297.09 1539.64 2297.09 1536.03 Q2297.09 1532.42 2294.75 1530.31 Q2292.42 1528.21 2288.41 1528.21 Q2286.54 1528.21 2284.66 1528.62 Q2282.81 1529.04 2280.86 1529.92 L2280.86 1512.56 Z\" fill=\"#000000\" fill-rule=\"evenodd\" fill-opacity=\"1\" /><polyline clip-path=\"url(#clip712)\" style=\"stroke:#000000; stroke-width:2; stroke-opacity:0.1; fill:none\" points=\"\n",
       "  156.112,1445.72 2352.76,1445.72 \n",
       "  \"/>\n",
       "<polyline clip-path=\"url(#clip712)\" style=\"stroke:#000000; stroke-width:2; stroke-opacity:0.1; fill:none\" points=\"\n",
       "  156.112,1001.51 2352.76,1001.51 \n",
       "  \"/>\n",
       "<polyline clip-path=\"url(#clip712)\" style=\"stroke:#000000; stroke-width:2; stroke-opacity:0.1; fill:none\" points=\"\n",
       "  156.112,557.312 2352.76,557.312 \n",
       "  \"/>\n",
       "<polyline clip-path=\"url(#clip712)\" style=\"stroke:#000000; stroke-width:2; stroke-opacity:0.1; fill:none\" points=\"\n",
       "  156.112,113.111 2352.76,113.111 \n",
       "  \"/>\n",
       "<polyline clip-path=\"url(#clip710)\" style=\"stroke:#000000; stroke-width:4; stroke-opacity:1; fill:none\" points=\"\n",
       "  156.112,1486.45 156.112,47.2441 \n",
       "  \"/>\n",
       "<polyline clip-path=\"url(#clip710)\" style=\"stroke:#000000; stroke-width:4; stroke-opacity:1; fill:none\" points=\"\n",
       "  156.112,1445.72 182.472,1445.72 \n",
       "  \"/>\n",
       "<polyline clip-path=\"url(#clip710)\" style=\"stroke:#000000; stroke-width:4; stroke-opacity:1; fill:none\" points=\"\n",
       "  156.112,1001.51 182.472,1001.51 \n",
       "  \"/>\n",
       "<polyline clip-path=\"url(#clip710)\" style=\"stroke:#000000; stroke-width:4; stroke-opacity:1; fill:none\" points=\"\n",
       "  156.112,557.312 182.472,557.312 \n",
       "  \"/>\n",
       "<polyline clip-path=\"url(#clip710)\" style=\"stroke:#000000; stroke-width:4; stroke-opacity:1; fill:none\" points=\"\n",
       "  156.112,113.111 182.472,113.111 \n",
       "  \"/>\n",
       "<path clip-path=\"url(#clip710)\" d=\"M 0 0 M62.9365 1431.51 Q59.3254 1431.51 57.4967 1435.08 Q55.6912 1438.62 55.6912 1445.75 Q55.6912 1452.86 57.4967 1456.42 Q59.3254 1459.96 62.9365 1459.96 Q66.5707 1459.96 68.3763 1456.42 Q70.205 1452.86 70.205 1445.75 Q70.205 1438.62 68.3763 1435.08 Q66.5707 1431.51 62.9365 1431.51 M62.9365 1427.81 Q68.7467 1427.81 71.8022 1432.42 Q74.8809 1437 74.8809 1445.75 Q74.8809 1454.48 71.8022 1459.08 Q68.7467 1463.67 62.9365 1463.67 Q57.1264 1463.67 54.0477 1459.08 Q50.9921 1454.48 50.9921 1445.75 Q50.9921 1437 54.0477 1432.42 Q57.1264 1427.81 62.9365 1427.81 Z\" fill=\"#000000\" fill-rule=\"evenodd\" fill-opacity=\"1\" /><path clip-path=\"url(#clip710)\" d=\"M 0 0 M83.0984 1457.12 L87.9827 1457.12 L87.9827 1463 L83.0984 1463 L83.0984 1457.12 Z\" fill=\"#000000\" fill-rule=\"evenodd\" fill-opacity=\"1\" /><path clip-path=\"url(#clip710)\" d=\"M 0 0 M108.168 1431.51 Q104.557 1431.51 102.728 1435.08 Q100.922 1438.62 100.922 1445.75 Q100.922 1452.86 102.728 1456.42 Q104.557 1459.96 108.168 1459.96 Q111.802 1459.96 113.608 1456.42 Q115.436 1452.86 115.436 1445.75 Q115.436 1438.62 113.608 1435.08 Q111.802 1431.51 108.168 1431.51 M108.168 1427.81 Q113.978 1427.81 117.033 1432.42 Q120.112 1437 120.112 1445.75 Q120.112 1454.48 117.033 1459.08 Q113.978 1463.67 108.168 1463.67 Q102.358 1463.67 99.2789 1459.08 Q96.2234 1454.48 96.2234 1445.75 Q96.2234 1437 99.2789 1432.42 Q102.358 1427.81 108.168 1427.81 Z\" fill=\"#000000\" fill-rule=\"evenodd\" fill-opacity=\"1\" /><path clip-path=\"url(#clip710)\" d=\"M 0 0 M64.1634 987.313 Q60.5523 987.313 58.7236 990.878 Q56.918 994.419 56.918 1001.55 Q56.918 1008.66 58.7236 1012.22 Q60.5523 1015.76 64.1634 1015.76 Q67.7976 1015.76 69.6031 1012.22 Q71.4318 1008.66 71.4318 1001.55 Q71.4318 994.419 69.6031 990.878 Q67.7976 987.313 64.1634 987.313 M64.1634 983.609 Q69.9735 983.609 73.029 988.216 Q76.1077 992.799 76.1077 1001.55 Q76.1077 1010.28 73.029 1014.88 Q69.9735 1019.47 64.1634 1019.47 Q58.3532 1019.47 55.2745 1014.88 Q52.219 1010.28 52.219 1001.55 Q52.219 992.799 55.2745 988.216 Q58.3532 983.609 64.1634 983.609 Z\" fill=\"#000000\" fill-rule=\"evenodd\" fill-opacity=\"1\" /><path clip-path=\"url(#clip710)\" d=\"M 0 0 M84.3253 1012.91 L89.2095 1012.91 L89.2095 1018.79 L84.3253 1018.79 L84.3253 1012.91 Z\" fill=\"#000000\" fill-rule=\"evenodd\" fill-opacity=\"1\" /><path clip-path=\"url(#clip710)\" d=\"M 0 0 M100.205 1014.86 L107.844 1014.86 L107.844 988.493 L99.5335 990.16 L99.5335 985.901 L107.797 984.234 L112.473 984.234 L112.473 1014.86 L120.112 1014.86 L120.112 1018.79 L100.205 1018.79 L100.205 1014.86 Z\" fill=\"#000000\" fill-rule=\"evenodd\" fill-opacity=\"1\" /><path clip-path=\"url(#clip710)\" d=\"M 0 0 M64.5337 543.111 Q60.9226 543.111 59.0939 546.676 Q57.2884 550.218 57.2884 557.347 Q57.2884 564.454 59.0939 568.018 Q60.9226 571.56 64.5337 571.56 Q68.168 571.56 69.9735 568.018 Q71.8022 564.454 71.8022 557.347 Q71.8022 550.218 69.9735 546.676 Q68.168 543.111 64.5337 543.111 M64.5337 539.407 Q70.3439 539.407 73.3994 544.014 Q76.4781 548.597 76.4781 557.347 Q76.4781 566.074 73.3994 570.68 Q70.3439 575.264 64.5337 575.264 Q58.7236 575.264 55.6449 570.68 Q52.5893 566.074 52.5893 557.347 Q52.5893 548.597 55.6449 544.014 Q58.7236 539.407 64.5337 539.407 Z\" fill=\"#000000\" fill-rule=\"evenodd\" fill-opacity=\"1\" /><path clip-path=\"url(#clip710)\" d=\"M 0 0 M84.6956 568.713 L89.5799 568.713 L89.5799 574.592 L84.6956 574.592 L84.6956 568.713 Z\" fill=\"#000000\" fill-rule=\"evenodd\" fill-opacity=\"1\" /><path clip-path=\"url(#clip710)\" d=\"M 0 0 M103.793 570.657 L120.112 570.657 L120.112 574.592 L98.1678 574.592 L98.1678 570.657 Q100.83 567.903 105.413 563.273 Q110.02 558.62 111.2 557.278 Q113.445 554.755 114.325 553.018 Q115.228 551.259 115.228 549.569 Q115.228 546.815 113.283 545.079 Q111.362 543.343 108.26 543.343 Q106.061 543.343 103.608 544.106 Q101.177 544.87 98.3993 546.421 L98.3993 541.699 Q101.223 540.565 103.677 539.986 Q106.131 539.407 108.168 539.407 Q113.538 539.407 116.733 542.093 Q119.927 544.778 119.927 549.268 Q119.927 551.398 119.117 553.319 Q118.33 555.218 116.223 557.81 Q115.645 558.481 112.543 561.699 Q109.441 564.893 103.793 570.657 Z\" fill=\"#000000\" fill-rule=\"evenodd\" fill-opacity=\"1\" /><path clip-path=\"url(#clip710)\" d=\"M 0 0 M63.5847 98.9095 Q59.9736 98.9095 58.1449 102.474 Q56.3393 106.016 56.3393 113.146 Q56.3393 120.252 58.1449 123.817 Q59.9736 127.358 63.5847 127.358 Q67.2189 127.358 69.0244 123.817 Q70.8531 120.252 70.8531 113.146 Q70.8531 106.016 69.0244 102.474 Q67.2189 98.9095 63.5847 98.9095 M63.5847 95.2058 Q69.3948 95.2058 72.4503 99.8123 Q75.529 104.396 75.529 113.146 Q75.529 121.872 72.4503 126.479 Q69.3948 131.062 63.5847 131.062 Q57.7745 131.062 54.6958 126.479 Q51.6403 121.872 51.6403 113.146 Q51.6403 104.396 54.6958 99.8123 Q57.7745 95.2058 63.5847 95.2058 Z\" fill=\"#000000\" fill-rule=\"evenodd\" fill-opacity=\"1\" /><path clip-path=\"url(#clip710)\" d=\"M 0 0 M83.7466 124.511 L88.6308 124.511 L88.6308 130.391 L83.7466 130.391 L83.7466 124.511 Z\" fill=\"#000000\" fill-rule=\"evenodd\" fill-opacity=\"1\" /><path clip-path=\"url(#clip710)\" d=\"M 0 0 M112.983 111.757 Q116.339 112.474 118.214 114.743 Q120.112 117.011 120.112 120.345 Q120.112 125.46 116.594 128.261 Q113.075 131.062 106.594 131.062 Q104.418 131.062 102.103 130.622 Q99.8113 130.206 97.3576 129.349 L97.3576 124.835 Q99.3021 125.97 101.617 126.548 Q103.932 127.127 106.455 127.127 Q110.853 127.127 113.145 125.391 Q115.459 123.655 115.459 120.345 Q115.459 117.289 113.307 115.576 Q111.177 113.84 107.358 113.84 L103.33 113.84 L103.33 109.997 L107.543 109.997 Q110.992 109.997 112.82 108.632 Q114.649 107.243 114.649 104.65 Q114.649 101.988 112.751 100.576 Q110.876 99.141 107.358 99.141 Q105.436 99.141 103.237 99.5576 Q101.038 99.9743 98.3993 100.854 L98.3993 96.6873 Q101.061 95.9465 103.376 95.5762 Q105.714 95.2058 107.774 95.2058 Q113.098 95.2058 116.2 97.6363 Q119.302 100.044 119.302 104.164 Q119.302 107.034 117.658 109.025 Q116.015 110.993 112.983 111.757 Z\" fill=\"#000000\" fill-rule=\"evenodd\" fill-opacity=\"1\" /><polyline clip-path=\"url(#clip712)\" style=\"stroke:#009af9; stroke-width:4; stroke-opacity:1; fill:none\" points=\"\n",
       "  218.281,1000.5 736.358,749.263 1254.43,752.741 1772.51,1009.67 2290.59,1445.72 \n",
       "  \"/>\n",
       "<polyline clip-path=\"url(#clip712)\" style=\"stroke:#e26f46; stroke-width:4; stroke-opacity:1; fill:none\" points=\"\n",
       "  218.281,296.233 736.358,125.698 1254.43,87.9763 1772.51,202.046 2290.59,1445.72 \n",
       "  \"/>\n",
       "<polyline clip-path=\"url(#clip712)\" style=\"stroke:#3da44d; stroke-width:4; stroke-opacity:1; fill:none\" points=\"\n",
       "  218.281,1189.34 736.358,1029.31 1254.43,1016.15 1772.51,1177.03 2290.59,1445.72 \n",
       "  \"/>\n",
       "<polyline clip-path=\"url(#clip712)\" style=\"stroke:#c271d2; stroke-width:4; stroke-opacity:1; fill:none\" points=\"\n",
       "  218.281,637.263 736.358,561.633 1254.43,532.621 1772.51,555 2290.59,1445.72 \n",
       "  \"/>\n",
       "<path clip-path=\"url(#clip710)\" d=\"\n",
       "M1981.32 397.618 L2279.53 397.618 L2279.53 95.2176 L1981.32 95.2176  Z\n",
       "  \" fill=\"#ffffff\" fill-rule=\"evenodd\" fill-opacity=\"1\"/>\n",
       "<polyline clip-path=\"url(#clip710)\" style=\"stroke:#000000; stroke-width:4; stroke-opacity:1; fill:none\" points=\"\n",
       "  1981.32,397.618 2279.53,397.618 2279.53,95.2176 1981.32,95.2176 1981.32,397.618 \n",
       "  \"/>\n",
       "<polyline clip-path=\"url(#clip710)\" style=\"stroke:#009af9; stroke-width:4; stroke-opacity:1; fill:none\" points=\"\n",
       "  2005.73,155.698 2152.17,155.698 \n",
       "  \"/>\n",
       "<path clip-path=\"url(#clip710)\" d=\"M 0 0 M2190.42 175.385 Q2188.61 180.015 2186.9 181.427 Q2185.19 182.839 2182.32 182.839 L2178.91 182.839 L2178.91 179.274 L2181.41 179.274 Q2183.17 179.274 2184.15 178.44 Q2185.12 177.607 2186.3 174.505 L2187.06 172.561 L2176.58 147.052 L2181.09 147.052 L2189.19 167.329 L2197.29 147.052 L2201.81 147.052 L2190.42 175.385 Z\" fill=\"#000000\" fill-rule=\"evenodd\" fill-opacity=\"1\" /><path clip-path=\"url(#clip710)\" d=\"M 0 0 M2209.1 169.042 L2216.74 169.042 L2216.74 142.677 L2208.43 144.343 L2208.43 140.084 L2216.69 138.418 L2221.37 138.418 L2221.37 169.042 L2229.01 169.042 L2229.01 172.978 L2209.1 172.978 L2209.1 169.042 Z\" fill=\"#000000\" fill-rule=\"evenodd\" fill-opacity=\"1\" /><polyline clip-path=\"url(#clip710)\" style=\"stroke:#e26f46; stroke-width:4; stroke-opacity:1; fill:none\" points=\"\n",
       "  2005.73,216.178 2152.17,216.178 \n",
       "  \"/>\n",
       "<path clip-path=\"url(#clip710)\" d=\"M 0 0 M2190.42 235.865 Q2188.61 240.495 2186.9 241.907 Q2185.19 243.319 2182.32 243.319 L2178.91 243.319 L2178.91 239.754 L2181.41 239.754 Q2183.17 239.754 2184.15 238.92 Q2185.12 238.087 2186.3 234.985 L2187.06 233.041 L2176.58 207.532 L2181.09 207.532 L2189.19 227.809 L2197.29 207.532 L2201.81 207.532 L2190.42 235.865 Z\" fill=\"#000000\" fill-rule=\"evenodd\" fill-opacity=\"1\" /><path clip-path=\"url(#clip710)\" d=\"M 0 0 M2212.32 229.522 L2228.64 229.522 L2228.64 233.458 L2206.69 233.458 L2206.69 229.522 Q2209.35 226.768 2213.94 222.138 Q2218.54 217.485 2219.72 216.143 Q2221.97 213.62 2222.85 211.884 Q2223.75 210.124 2223.75 208.435 Q2223.75 205.68 2221.81 203.944 Q2219.89 202.208 2216.79 202.208 Q2214.59 202.208 2212.13 202.972 Q2209.7 203.735 2206.92 205.286 L2206.92 200.564 Q2209.75 199.43 2212.2 198.851 Q2214.66 198.273 2216.69 198.273 Q2222.06 198.273 2225.26 200.958 Q2228.45 203.643 2228.45 208.134 Q2228.45 210.263 2227.64 212.185 Q2226.85 214.083 2224.75 216.675 Q2224.17 217.347 2221.07 220.564 Q2217.97 223.759 2212.32 229.522 Z\" fill=\"#000000\" fill-rule=\"evenodd\" fill-opacity=\"1\" /><polyline clip-path=\"url(#clip710)\" style=\"stroke:#3da44d; stroke-width:4; stroke-opacity:1; fill:none\" points=\"\n",
       "  2005.73,276.658 2152.17,276.658 \n",
       "  \"/>\n",
       "<path clip-path=\"url(#clip710)\" d=\"M 0 0 M2190.42 296.345 Q2188.61 300.975 2186.9 302.387 Q2185.19 303.799 2182.32 303.799 L2178.91 303.799 L2178.91 300.234 L2181.41 300.234 Q2183.17 300.234 2184.15 299.4 Q2185.12 298.567 2186.3 295.465 L2187.06 293.521 L2176.58 268.012 L2181.09 268.012 L2189.19 288.289 L2197.29 268.012 L2201.81 268.012 L2190.42 296.345 Z\" fill=\"#000000\" fill-rule=\"evenodd\" fill-opacity=\"1\" /><path clip-path=\"url(#clip710)\" d=\"M 0 0 M2222.46 275.303 Q2225.81 276.021 2227.69 278.289 Q2229.59 280.558 2229.59 283.891 Q2229.59 289.007 2226.07 291.808 Q2222.55 294.609 2216.07 294.609 Q2213.89 294.609 2211.58 294.169 Q2209.29 293.752 2206.83 292.896 L2206.83 288.382 Q2208.78 289.516 2211.09 290.095 Q2213.41 290.674 2215.93 290.674 Q2220.33 290.674 2222.62 288.938 Q2224.93 287.201 2224.93 283.891 Q2224.93 280.836 2222.78 279.123 Q2220.65 277.387 2216.83 277.387 L2212.8 277.387 L2212.8 273.544 L2217.02 273.544 Q2220.47 273.544 2222.29 272.178 Q2224.12 270.79 2224.12 268.197 Q2224.12 265.535 2222.22 264.123 Q2220.35 262.688 2216.83 262.688 Q2214.91 262.688 2212.71 263.104 Q2210.51 263.521 2207.87 264.401 L2207.87 260.234 Q2210.54 259.493 2212.85 259.123 Q2215.19 258.753 2217.25 258.753 Q2222.57 258.753 2225.67 261.183 Q2228.78 263.59 2228.78 267.711 Q2228.78 270.581 2227.13 272.572 Q2225.49 274.54 2222.46 275.303 Z\" fill=\"#000000\" fill-rule=\"evenodd\" fill-opacity=\"1\" /><polyline clip-path=\"url(#clip710)\" style=\"stroke:#c271d2; stroke-width:4; stroke-opacity:1; fill:none\" points=\"\n",
       "  2005.73,337.138 2152.17,337.138 \n",
       "  \"/>\n",
       "<path clip-path=\"url(#clip710)\" d=\"M 0 0 M2190.42 356.825 Q2188.61 361.455 2186.9 362.867 Q2185.19 364.279 2182.32 364.279 L2178.91 364.279 L2178.91 360.714 L2181.41 360.714 Q2183.17 360.714 2184.15 359.88 Q2185.12 359.047 2186.3 355.945 L2187.06 354.001 L2176.58 328.492 L2181.09 328.492 L2189.19 348.769 L2197.29 328.492 L2201.81 328.492 L2190.42 356.825 Z\" fill=\"#000000\" fill-rule=\"evenodd\" fill-opacity=\"1\" /><path clip-path=\"url(#clip710)\" d=\"M 0 0 M2221.14 323.932 L2209.33 342.381 L2221.14 342.381 L2221.14 323.932 M2219.91 319.858 L2225.79 319.858 L2225.79 342.381 L2230.72 342.381 L2230.72 346.269 L2225.79 346.269 L2225.79 354.418 L2221.14 354.418 L2221.14 346.269 L2205.54 346.269 L2205.54 341.756 L2219.91 319.858 Z\" fill=\"#000000\" fill-rule=\"evenodd\" fill-opacity=\"1\" /></svg>\n"
      ]
     },
     "execution_count": 37,
     "metadata": {},
     "output_type": "execute_result"
    }
   ],
   "source": [
    "plot(s_vals')"
   ]
  },
  {
   "cell_type": "code",
   "execution_count": 38,
   "id": "responsible-tunisia",
   "metadata": {},
   "outputs": [
    {
     "data": {
      "image/svg+xml": [
       "<?xml version=\"1.0\" encoding=\"utf-8\"?>\n",
       "<svg xmlns=\"http://www.w3.org/2000/svg\" xmlns:xlink=\"http://www.w3.org/1999/xlink\" width=\"600\" height=\"400\" viewBox=\"0 0 2400 1600\">\n",
       "<defs>\n",
       "  <clipPath id=\"clip750\">\n",
       "    <rect x=\"0\" y=\"0\" width=\"2400\" height=\"1600\"/>\n",
       "  </clipPath>\n",
       "</defs>\n",
       "<path clip-path=\"url(#clip750)\" d=\"\n",
       "M0 1600 L2400 1600 L2400 0 L0 0  Z\n",
       "  \" fill=\"#ffffff\" fill-rule=\"evenodd\" fill-opacity=\"1\"/>\n",
       "<defs>\n",
       "  <clipPath id=\"clip751\">\n",
       "    <rect x=\"480\" y=\"0\" width=\"1681\" height=\"1600\"/>\n",
       "  </clipPath>\n",
       "</defs>\n",
       "<path clip-path=\"url(#clip750)\" d=\"\n",
       "M110.858 1486.45 L2352.76 1486.45 L2352.76 47.2441 L110.858 47.2441  Z\n",
       "  \" fill=\"#ffffff\" fill-rule=\"evenodd\" fill-opacity=\"1\"/>\n",
       "<defs>\n",
       "  <clipPath id=\"clip752\">\n",
       "    <rect x=\"110\" y=\"47\" width=\"2243\" height=\"1440\"/>\n",
       "  </clipPath>\n",
       "</defs>\n",
       "<polyline clip-path=\"url(#clip752)\" style=\"stroke:#000000; stroke-width:2; stroke-opacity:0.1; fill:none\" points=\"\n",
       "  174.308,1486.45 174.308,47.2441 \n",
       "  \"/>\n",
       "<polyline clip-path=\"url(#clip752)\" style=\"stroke:#000000; stroke-width:2; stroke-opacity:0.1; fill:none\" points=\"\n",
       "  703.057,1486.45 703.057,47.2441 \n",
       "  \"/>\n",
       "<polyline clip-path=\"url(#clip752)\" style=\"stroke:#000000; stroke-width:2; stroke-opacity:0.1; fill:none\" points=\"\n",
       "  1231.81,1486.45 1231.81,47.2441 \n",
       "  \"/>\n",
       "<polyline clip-path=\"url(#clip752)\" style=\"stroke:#000000; stroke-width:2; stroke-opacity:0.1; fill:none\" points=\"\n",
       "  1760.56,1486.45 1760.56,47.2441 \n",
       "  \"/>\n",
       "<polyline clip-path=\"url(#clip752)\" style=\"stroke:#000000; stroke-width:2; stroke-opacity:0.1; fill:none\" points=\"\n",
       "  2289.31,1486.45 2289.31,47.2441 \n",
       "  \"/>\n",
       "<polyline clip-path=\"url(#clip750)\" style=\"stroke:#000000; stroke-width:4; stroke-opacity:1; fill:none\" points=\"\n",
       "  110.858,1486.45 2352.76,1486.45 \n",
       "  \"/>\n",
       "<polyline clip-path=\"url(#clip750)\" style=\"stroke:#000000; stroke-width:4; stroke-opacity:1; fill:none\" points=\"\n",
       "  174.308,1486.45 174.308,1469.18 \n",
       "  \"/>\n",
       "<polyline clip-path=\"url(#clip750)\" style=\"stroke:#000000; stroke-width:4; stroke-opacity:1; fill:none\" points=\"\n",
       "  703.057,1486.45 703.057,1469.18 \n",
       "  \"/>\n",
       "<polyline clip-path=\"url(#clip750)\" style=\"stroke:#000000; stroke-width:4; stroke-opacity:1; fill:none\" points=\"\n",
       "  1231.81,1486.45 1231.81,1469.18 \n",
       "  \"/>\n",
       "<polyline clip-path=\"url(#clip750)\" style=\"stroke:#000000; stroke-width:4; stroke-opacity:1; fill:none\" points=\"\n",
       "  1760.56,1486.45 1760.56,1469.18 \n",
       "  \"/>\n",
       "<polyline clip-path=\"url(#clip750)\" style=\"stroke:#000000; stroke-width:4; stroke-opacity:1; fill:none\" points=\"\n",
       "  2289.31,1486.45 2289.31,1469.18 \n",
       "  \"/>\n",
       "<path clip-path=\"url(#clip750)\" d=\"M 0 0 M164.69 1543.18 L172.329 1543.18 L172.329 1516.82 L164.018 1518.49 L164.018 1514.23 L172.282 1512.56 L176.958 1512.56 L176.958 1543.18 L184.597 1543.18 L184.597 1547.12 L164.69 1547.12 L164.69 1543.18 Z\" fill=\"#000000\" fill-rule=\"evenodd\" fill-opacity=\"1\" /><path clip-path=\"url(#clip750)\" d=\"M 0 0 M697.71 1543.18 L714.029 1543.18 L714.029 1547.12 L692.085 1547.12 L692.085 1543.18 Q694.747 1540.43 699.33 1535.8 Q703.937 1531.15 705.117 1529.81 Q707.363 1527.28 708.242 1525.55 Q709.145 1523.79 709.145 1522.1 Q709.145 1519.34 707.201 1517.61 Q705.279 1515.87 702.178 1515.87 Q699.979 1515.87 697.525 1516.63 Q695.094 1517.4 692.317 1518.95 L692.317 1514.23 Q695.141 1513.09 697.594 1512.51 Q700.048 1511.93 702.085 1511.93 Q707.455 1511.93 710.65 1514.62 Q713.844 1517.31 713.844 1521.8 Q713.844 1523.93 713.034 1525.85 Q712.247 1527.74 710.141 1530.34 Q709.562 1531.01 706.46 1534.23 Q703.358 1537.42 697.71 1543.18 Z\" fill=\"#000000\" fill-rule=\"evenodd\" fill-opacity=\"1\" /><path clip-path=\"url(#clip750)\" d=\"M 0 0 M1236.05 1528.49 Q1239.41 1529.2 1241.29 1531.47 Q1243.18 1533.74 1243.18 1537.07 Q1243.18 1542.19 1239.67 1544.99 Q1236.15 1547.79 1229.67 1547.79 Q1227.49 1547.79 1225.17 1547.35 Q1222.88 1546.93 1220.43 1546.08 L1220.43 1541.56 Q1222.37 1542.7 1224.69 1543.28 Q1227 1543.86 1229.53 1543.86 Q1233.92 1543.86 1236.22 1542.12 Q1238.53 1540.38 1238.53 1537.07 Q1238.53 1534.02 1236.38 1532.31 Q1234.25 1530.57 1230.43 1530.57 L1226.4 1530.57 L1226.4 1526.73 L1230.61 1526.73 Q1234.06 1526.73 1235.89 1525.36 Q1237.72 1523.97 1237.72 1521.38 Q1237.72 1518.72 1235.82 1517.31 Q1233.95 1515.87 1230.43 1515.87 Q1228.51 1515.87 1226.31 1516.29 Q1224.11 1516.7 1221.47 1517.58 L1221.47 1513.42 Q1224.13 1512.68 1226.45 1512.31 Q1228.79 1511.93 1230.85 1511.93 Q1236.17 1511.93 1239.27 1514.37 Q1242.37 1516.77 1242.37 1520.89 Q1242.37 1523.76 1240.73 1525.75 Q1239.09 1527.72 1236.05 1528.49 Z\" fill=\"#000000\" fill-rule=\"evenodd\" fill-opacity=\"1\" /><path clip-path=\"url(#clip750)\" d=\"M 0 0 M1763.57 1516.63 L1751.76 1535.08 L1763.57 1535.08 L1763.57 1516.63 M1762.34 1512.56 L1768.22 1512.56 L1768.22 1535.08 L1773.15 1535.08 L1773.15 1538.97 L1768.22 1538.97 L1768.22 1547.12 L1763.57 1547.12 L1763.57 1538.97 L1747.96 1538.97 L1747.96 1534.46 L1762.34 1512.56 Z\" fill=\"#000000\" fill-rule=\"evenodd\" fill-opacity=\"1\" /><path clip-path=\"url(#clip750)\" d=\"M 0 0 M2279.58 1512.56 L2297.94 1512.56 L2297.94 1516.5 L2283.87 1516.5 L2283.87 1524.97 Q2284.88 1524.62 2285.9 1524.46 Q2286.92 1524.27 2287.94 1524.27 Q2293.73 1524.27 2297.11 1527.44 Q2300.49 1530.62 2300.49 1536.03 Q2300.49 1541.61 2297.01 1544.71 Q2293.54 1547.79 2287.22 1547.79 Q2285.05 1547.79 2282.78 1547.42 Q2280.53 1547.05 2278.13 1546.31 L2278.13 1541.61 Q2280.21 1542.74 2282.43 1543.3 Q2284.65 1543.86 2287.13 1543.86 Q2291.13 1543.86 2293.47 1541.75 Q2295.81 1539.64 2295.81 1536.03 Q2295.81 1532.42 2293.47 1530.31 Q2291.13 1528.21 2287.13 1528.21 Q2285.26 1528.21 2283.38 1528.62 Q2281.53 1529.04 2279.58 1529.92 L2279.58 1512.56 Z\" fill=\"#000000\" fill-rule=\"evenodd\" fill-opacity=\"1\" /><polyline clip-path=\"url(#clip752)\" style=\"stroke:#000000; stroke-width:2; stroke-opacity:0.1; fill:none\" points=\"\n",
       "  110.858,1255.65 2352.76,1255.65 \n",
       "  \"/>\n",
       "<polyline clip-path=\"url(#clip752)\" style=\"stroke:#000000; stroke-width:2; stroke-opacity:0.1; fill:none\" points=\"\n",
       "  110.858,966.255 2352.76,966.255 \n",
       "  \"/>\n",
       "<polyline clip-path=\"url(#clip752)\" style=\"stroke:#000000; stroke-width:2; stroke-opacity:0.1; fill:none\" points=\"\n",
       "  110.858,676.858 2352.76,676.858 \n",
       "  \"/>\n",
       "<polyline clip-path=\"url(#clip752)\" style=\"stroke:#000000; stroke-width:2; stroke-opacity:0.1; fill:none\" points=\"\n",
       "  110.858,387.461 2352.76,387.461 \n",
       "  \"/>\n",
       "<polyline clip-path=\"url(#clip752)\" style=\"stroke:#000000; stroke-width:2; stroke-opacity:0.1; fill:none\" points=\"\n",
       "  110.858,98.0636 2352.76,98.0636 \n",
       "  \"/>\n",
       "<polyline clip-path=\"url(#clip750)\" style=\"stroke:#000000; stroke-width:4; stroke-opacity:1; fill:none\" points=\"\n",
       "  110.858,1486.45 110.858,47.2441 \n",
       "  \"/>\n",
       "<polyline clip-path=\"url(#clip750)\" style=\"stroke:#000000; stroke-width:4; stroke-opacity:1; fill:none\" points=\"\n",
       "  110.858,1255.65 137.761,1255.65 \n",
       "  \"/>\n",
       "<polyline clip-path=\"url(#clip750)\" style=\"stroke:#000000; stroke-width:4; stroke-opacity:1; fill:none\" points=\"\n",
       "  110.858,966.255 137.761,966.255 \n",
       "  \"/>\n",
       "<polyline clip-path=\"url(#clip750)\" style=\"stroke:#000000; stroke-width:4; stroke-opacity:1; fill:none\" points=\"\n",
       "  110.858,676.858 137.761,676.858 \n",
       "  \"/>\n",
       "<polyline clip-path=\"url(#clip750)\" style=\"stroke:#000000; stroke-width:4; stroke-opacity:1; fill:none\" points=\"\n",
       "  110.858,387.461 137.761,387.461 \n",
       "  \"/>\n",
       "<polyline clip-path=\"url(#clip750)\" style=\"stroke:#000000; stroke-width:4; stroke-opacity:1; fill:none\" points=\"\n",
       "  110.858,98.0636 137.761,98.0636 \n",
       "  \"/>\n",
       "<path clip-path=\"url(#clip750)\" d=\"M 0 0 M53.9551 1238.37 L72.3115 1238.37 L72.3115 1242.31 L58.2375 1242.31 L58.2375 1250.78 Q59.256 1250.43 60.2745 1250.27 Q61.293 1250.09 62.3115 1250.09 Q68.0985 1250.09 71.4781 1253.26 Q74.8577 1256.43 74.8577 1261.84 Q74.8577 1267.42 71.3855 1270.52 Q67.9133 1273.6 61.5939 1273.6 Q59.418 1273.6 57.1495 1273.23 Q54.9041 1272.86 52.4967 1272.12 L52.4967 1267.42 Q54.5801 1268.56 56.8023 1269.11 Q59.0245 1269.67 61.5013 1269.67 Q65.5059 1269.67 67.8439 1267.56 Q70.1818 1265.46 70.1818 1261.84 Q70.1818 1258.23 67.8439 1256.13 Q65.5059 1254.02 61.5013 1254.02 Q59.6263 1254.02 57.7513 1254.44 Q55.8995 1254.85 53.9551 1255.73 L53.9551 1238.37 Z\" fill=\"#000000\" fill-rule=\"evenodd\" fill-opacity=\"1\" /><path clip-path=\"url(#clip750)\" d=\"M 0 0 M63.33 964.392 Q60.1819 964.392 58.33 966.544 Q56.5014 968.697 56.5014 972.447 Q56.5014 976.174 58.33 978.35 Q60.1819 980.503 63.33 980.503 Q66.4782 980.503 68.3068 978.35 Q70.1587 976.174 70.1587 972.447 Q70.1587 968.697 68.3068 966.544 Q66.4782 964.392 63.33 964.392 M72.6124 949.739 L72.6124 953.998 Q70.8531 953.165 69.0476 952.725 Q67.2652 952.285 65.5059 952.285 Q60.8763 952.285 58.4226 955.41 Q55.9921 958.535 55.6449 964.855 Q57.0106 962.841 59.0708 961.776 Q61.131 960.688 63.6078 960.688 Q68.8161 960.688 71.8253 963.859 Q74.8577 967.007 74.8577 972.447 Q74.8577 977.771 71.7096 980.989 Q68.5615 984.206 63.33 984.206 Q57.3347 984.206 54.1634 979.623 Q50.9921 975.017 50.9921 966.29 Q50.9921 958.095 54.881 953.234 Q58.7699 948.35 65.3208 948.35 Q67.08 948.35 68.8624 948.697 Q70.6679 949.045 72.6124 949.739 Z\" fill=\"#000000\" fill-rule=\"evenodd\" fill-opacity=\"1\" /><path clip-path=\"url(#clip750)\" d=\"M 0 0 M52.6356 659.578 L74.8577 659.578 L74.8577 661.569 L62.3115 694.138 L57.4273 694.138 L69.2328 663.513 L52.6356 663.513 L52.6356 659.578 Z\" fill=\"#000000\" fill-rule=\"evenodd\" fill-opacity=\"1\" /><path clip-path=\"url(#clip750)\" d=\"M 0 0 M63.006 388.329 Q59.6726 388.329 57.7513 390.111 Q55.8532 391.894 55.8532 395.019 Q55.8532 398.144 57.7513 399.926 Q59.6726 401.708 63.006 401.708 Q66.3393 401.708 68.2606 399.926 Q70.1818 398.12 70.1818 395.019 Q70.1818 391.894 68.2606 390.111 Q66.3624 388.329 63.006 388.329 M58.33 386.338 Q55.3208 385.597 53.631 383.537 Q51.9643 381.477 51.9643 378.514 Q51.9643 374.371 54.9041 371.963 Q57.8671 369.556 63.006 369.556 Q68.168 369.556 71.1078 371.963 Q74.0476 374.371 74.0476 378.514 Q74.0476 381.477 72.3578 383.537 Q70.6911 385.597 67.705 386.338 Q71.0846 387.125 72.9596 389.417 Q74.8577 391.708 74.8577 395.019 Q74.8577 400.042 71.7791 402.727 Q68.7235 405.412 63.006 405.412 Q57.2884 405.412 54.2097 402.727 Q51.1542 400.042 51.1542 395.019 Q51.1542 391.708 53.0523 389.417 Q54.9504 387.125 58.33 386.338 M56.6171 378.954 Q56.6171 381.639 58.2838 383.144 Q59.9736 384.648 63.006 384.648 Q66.0152 384.648 67.705 383.144 Q69.418 381.639 69.418 378.954 Q69.418 376.269 67.705 374.764 Q66.0152 373.259 63.006 373.259 Q59.9736 373.259 58.2838 374.764 Q56.6171 376.269 56.6171 378.954 Z\" fill=\"#000000\" fill-rule=\"evenodd\" fill-opacity=\"1\" /><path clip-path=\"url(#clip750)\" d=\"M 0 0 M53.2375 114.626 L53.2375 110.367 Q54.9967 111.2 56.8023 111.64 Q58.6078 112.08 60.3439 112.08 Q64.9735 112.08 67.4041 108.978 Q69.8578 105.853 70.205 99.5103 Q68.8624 101.501 66.8022 102.566 Q64.7421 103.631 62.2421 103.631 Q57.0569 103.631 54.0245 100.506 Q51.0153 97.3575 51.0153 91.9178 Q51.0153 86.5937 54.1634 83.3761 Q57.3115 80.1586 62.543 80.1586 Q68.5383 80.1586 71.6865 84.765 Q74.8577 89.3483 74.8577 98.0983 Q74.8577 106.27 70.9689 111.154 Q67.1032 116.015 60.5523 116.015 Q58.793 116.015 56.9875 115.668 Q55.1819 115.32 53.2375 114.626 M62.543 99.9733 Q65.6911 99.9733 67.5198 97.8205 Q69.3717 95.6677 69.3717 91.9178 Q69.3717 88.1909 67.5198 86.0382 Q65.6911 83.8622 62.543 83.8622 Q59.3949 83.8622 57.543 86.0382 Q55.7143 88.1909 55.7143 91.9178 Q55.7143 95.6677 57.543 97.8205 Q59.3949 99.9733 62.543 99.9733 Z\" fill=\"#000000\" fill-rule=\"evenodd\" fill-opacity=\"1\" /><polyline clip-path=\"url(#clip752)\" style=\"stroke:#009af9; stroke-width:4; stroke-opacity:1; fill:none\" points=\"\n",
       "  174.308,636.93 703.057,649.567 1231.81,666.162 1760.56,682.675 2289.31,694.344 \n",
       "  \"/>\n",
       "<polyline clip-path=\"url(#clip752)\" style=\"stroke:#e26f46; stroke-width:4; stroke-opacity:1; fill:none\" points=\"\n",
       "  174.308,1289.8 703.057,1353.58 1231.81,1362.23 1760.56,1372.12 2289.31,1445.72 \n",
       "  \"/>\n",
       "<polyline clip-path=\"url(#clip752)\" style=\"stroke:#3da44d; stroke-width:4; stroke-opacity:1; fill:none\" points=\"\n",
       "  174.308,87.9763 703.057,94.2535 1231.81,103.822 1760.56,115.161 2289.31,122.184 \n",
       "  \"/>\n",
       "<polyline clip-path=\"url(#clip752)\" style=\"stroke:#c271d2; stroke-width:4; stroke-opacity:1; fill:none\" points=\"\n",
       "  174.308,843.585 703.057,891.328 1231.81,894.366 1760.56,897.714 2289.31,954.286 \n",
       "  \"/>\n",
       "<path clip-path=\"url(#clip750)\" d=\"\n",
       "M1974.78 397.618 L2278.03 397.618 L2278.03 95.2176 L1974.78 95.2176  Z\n",
       "  \" fill=\"#ffffff\" fill-rule=\"evenodd\" fill-opacity=\"1\"/>\n",
       "<polyline clip-path=\"url(#clip750)\" style=\"stroke:#000000; stroke-width:4; stroke-opacity:1; fill:none\" points=\"\n",
       "  1974.78,397.618 2278.03,397.618 2278.03,95.2176 1974.78,95.2176 1974.78,397.618 \n",
       "  \"/>\n",
       "<polyline clip-path=\"url(#clip750)\" style=\"stroke:#009af9; stroke-width:4; stroke-opacity:1; fill:none\" points=\"\n",
       "  1999.69,155.698 2149.15,155.698 \n",
       "  \"/>\n",
       "<path clip-path=\"url(#clip750)\" d=\"M 0 0 M2187.91 175.385 Q2186.1 180.015 2184.39 181.427 Q2182.67 182.839 2179.8 182.839 L2176.4 182.839 L2176.4 179.274 L2178.9 179.274 Q2180.66 179.274 2181.63 178.44 Q2182.6 177.607 2183.78 174.505 L2184.55 172.561 L2174.06 147.052 L2178.58 147.052 L2186.68 167.329 L2194.78 147.052 L2199.29 147.052 L2187.91 175.385 Z\" fill=\"#000000\" fill-rule=\"evenodd\" fill-opacity=\"1\" /><path clip-path=\"url(#clip750)\" d=\"M 0 0 M2206.59 169.042 L2214.22 169.042 L2214.22 142.677 L2205.91 144.343 L2205.91 140.084 L2214.18 138.418 L2218.85 138.418 L2218.85 169.042 L2226.49 169.042 L2226.49 172.978 L2206.59 172.978 L2206.59 169.042 Z\" fill=\"#000000\" fill-rule=\"evenodd\" fill-opacity=\"1\" /><polyline clip-path=\"url(#clip750)\" style=\"stroke:#e26f46; stroke-width:4; stroke-opacity:1; fill:none\" points=\"\n",
       "  1999.69,216.178 2149.15,216.178 \n",
       "  \"/>\n",
       "<path clip-path=\"url(#clip750)\" d=\"M 0 0 M2187.91 235.865 Q2186.1 240.495 2184.39 241.907 Q2182.67 243.319 2179.8 243.319 L2176.4 243.319 L2176.4 239.754 L2178.9 239.754 Q2180.66 239.754 2181.63 238.92 Q2182.6 238.087 2183.78 234.985 L2184.55 233.041 L2174.06 207.532 L2178.58 207.532 L2186.68 227.809 L2194.78 207.532 L2199.29 207.532 L2187.91 235.865 Z\" fill=\"#000000\" fill-rule=\"evenodd\" fill-opacity=\"1\" /><path clip-path=\"url(#clip750)\" d=\"M 0 0 M2209.8 229.522 L2226.12 229.522 L2226.12 233.458 L2204.18 233.458 L2204.18 229.522 Q2206.84 226.768 2211.42 222.138 Q2216.03 217.485 2217.21 216.143 Q2219.46 213.62 2220.34 211.884 Q2221.24 210.124 2221.24 208.435 Q2221.24 205.68 2219.29 203.944 Q2217.37 202.208 2214.27 202.208 Q2212.07 202.208 2209.62 202.972 Q2207.19 203.735 2204.41 205.286 L2204.41 200.564 Q2207.23 199.43 2209.69 198.851 Q2212.14 198.273 2214.18 198.273 Q2219.55 198.273 2222.74 200.958 Q2225.94 203.643 2225.94 208.134 Q2225.94 210.263 2225.13 212.185 Q2224.34 214.083 2222.23 216.675 Q2221.66 217.347 2218.55 220.564 Q2215.45 223.759 2209.8 229.522 Z\" fill=\"#000000\" fill-rule=\"evenodd\" fill-opacity=\"1\" /><polyline clip-path=\"url(#clip750)\" style=\"stroke:#3da44d; stroke-width:4; stroke-opacity:1; fill:none\" points=\"\n",
       "  1999.69,276.658 2149.15,276.658 \n",
       "  \"/>\n",
       "<path clip-path=\"url(#clip750)\" d=\"M 0 0 M2187.91 296.345 Q2186.1 300.975 2184.39 302.387 Q2182.67 303.799 2179.8 303.799 L2176.4 303.799 L2176.4 300.234 L2178.9 300.234 Q2180.66 300.234 2181.63 299.4 Q2182.6 298.567 2183.78 295.465 L2184.55 293.521 L2174.06 268.012 L2178.58 268.012 L2186.68 288.289 L2194.78 268.012 L2199.29 268.012 L2187.91 296.345 Z\" fill=\"#000000\" fill-rule=\"evenodd\" fill-opacity=\"1\" /><path clip-path=\"url(#clip750)\" d=\"M 0 0 M2219.94 275.303 Q2223.3 276.021 2225.17 278.289 Q2227.07 280.558 2227.07 283.891 Q2227.07 289.007 2223.55 291.808 Q2220.03 294.609 2213.55 294.609 Q2211.38 294.609 2209.06 294.169 Q2206.77 293.752 2204.32 292.896 L2204.32 288.382 Q2206.26 289.516 2208.58 290.095 Q2210.89 290.674 2213.41 290.674 Q2217.81 290.674 2220.1 288.938 Q2222.42 287.201 2222.42 283.891 Q2222.42 280.836 2220.27 279.123 Q2218.14 277.387 2214.32 277.387 L2210.29 277.387 L2210.29 273.544 L2214.5 273.544 Q2217.95 273.544 2219.78 272.178 Q2221.61 270.79 2221.61 268.197 Q2221.61 265.535 2219.71 264.123 Q2217.84 262.688 2214.32 262.688 Q2212.4 262.688 2210.2 263.104 Q2208 263.521 2205.36 264.401 L2205.36 260.234 Q2208.02 259.493 2210.34 259.123 Q2212.67 258.753 2214.73 258.753 Q2220.06 258.753 2223.16 261.183 Q2226.26 263.59 2226.26 267.711 Q2226.26 270.581 2224.62 272.572 Q2222.97 274.54 2219.94 275.303 Z\" fill=\"#000000\" fill-rule=\"evenodd\" fill-opacity=\"1\" /><polyline clip-path=\"url(#clip750)\" style=\"stroke:#c271d2; stroke-width:4; stroke-opacity:1; fill:none\" points=\"\n",
       "  1999.69,337.138 2149.15,337.138 \n",
       "  \"/>\n",
       "<path clip-path=\"url(#clip750)\" d=\"M 0 0 M2187.91 356.825 Q2186.1 361.455 2184.39 362.867 Q2182.67 364.279 2179.8 364.279 L2176.4 364.279 L2176.4 360.714 L2178.9 360.714 Q2180.66 360.714 2181.63 359.88 Q2182.6 359.047 2183.78 355.945 L2184.55 354.001 L2174.06 328.492 L2178.58 328.492 L2186.68 348.769 L2194.78 328.492 L2199.29 328.492 L2187.91 356.825 Z\" fill=\"#000000\" fill-rule=\"evenodd\" fill-opacity=\"1\" /><path clip-path=\"url(#clip750)\" d=\"M 0 0 M2218.62 323.932 L2206.82 342.381 L2218.62 342.381 L2218.62 323.932 M2217.4 319.858 L2223.28 319.858 L2223.28 342.381 L2228.21 342.381 L2228.21 346.269 L2223.28 346.269 L2223.28 354.418 L2218.62 354.418 L2218.62 346.269 L2203.02 346.269 L2203.02 341.756 L2217.4 319.858 Z\" fill=\"#000000\" fill-rule=\"evenodd\" fill-opacity=\"1\" /></svg>\n"
      ]
     },
     "execution_count": 38,
     "metadata": {},
     "output_type": "execute_result"
    }
   ],
   "source": [
    "plot(g_vals')"
   ]
  },
  {
   "cell_type": "code",
   "execution_count": 39,
   "id": "helpful-northeast",
   "metadata": {},
   "outputs": [
    {
     "name": "stdout",
     "output_type": "stream",
     "text": [
      "norm(KKT) = 6.625506846864668e-9\n",
      "sum(abs.(KKT) .> TOL) = 0\n"
     ]
    }
   ],
   "source": [
    "x = flatten_variables_dyn(dmin);\n",
    "KKT = kkt_dyn(x, dnet, d_dyn);\n",
    "TOL=1e-6;\n",
    "\n",
    "@show norm(KKT)\n",
    "@show sum(abs.(KKT).>TOL);"
   ]
  },
  {
   "cell_type": "markdown",
   "id": "still-wireless",
   "metadata": {},
   "source": [
    "## Several timesteps, with battery capacity and varying demand"
   ]
  },
  {
   "cell_type": "code",
   "execution_count": 40,
   "id": "rental-moderator",
   "metadata": {},
   "outputs": [],
   "source": [
    "T = 4\n",
    "\n",
    "cq_dyn = [cq for _ in 1:T]\n",
    "cl_dyn = [cl for _ in 1:T]\n",
    "pmax_dyn = [pmax for _ in 1:T]\n",
    "gmax_dyn = [gmax for _ in 1:T]\n",
    "d_dyn = [rand(Bernoulli(0.8), n) .* rand(Gamma(2.0, 2.0), n) for _ in 1:T]\n",
    "\n",
    "P = rand(Exponential(2), n)\n",
    "C = rand(Exponential(2), n)\n",
    ";"
   ]
  },
  {
   "cell_type": "code",
   "execution_count": 41,
   "id": "heavy-cancellation",
   "metadata": {},
   "outputs": [],
   "source": [
    "dnet = DynamicPowerNetwork(\n",
    "    cq_dyn, cl_dyn, pmax_dyn, gmax_dyn, A, B, P, C\n",
    ")\n",
    "dmin = DynamicPowerManagementProblem(dnet, d_dyn);"
   ]
  },
  {
   "cell_type": "code",
   "execution_count": 42,
   "id": "designed-argentina",
   "metadata": {},
   "outputs": [],
   "source": [
    "solve!(dmin, OPT, verbose=true);"
   ]
  },
  {
   "cell_type": "code",
   "execution_count": 43,
   "id": "determined-truth",
   "metadata": {},
   "outputs": [],
   "source": [
    "s_vals = zeros(n, T)\n",
    "g_vals = zeros(l, T)\n",
    "for t in 1:T\n",
    "    s_vals[:, t] = dmin.s[t].value\n",
    "    g_vals[:, t] = dmin.g[t].value\n",
    "end"
   ]
  },
  {
   "cell_type": "code",
   "execution_count": 44,
   "id": "powerful-mileage",
   "metadata": {},
   "outputs": [
    {
     "data": {
      "image/svg+xml": [
       "<?xml version=\"1.0\" encoding=\"utf-8\"?>\n",
       "<svg xmlns=\"http://www.w3.org/2000/svg\" xmlns:xlink=\"http://www.w3.org/1999/xlink\" width=\"600\" height=\"400\" viewBox=\"0 0 2400 1600\">\n",
       "<defs>\n",
       "  <clipPath id=\"clip790\">\n",
       "    <rect x=\"0\" y=\"0\" width=\"2400\" height=\"1600\"/>\n",
       "  </clipPath>\n",
       "</defs>\n",
       "<path clip-path=\"url(#clip790)\" d=\"\n",
       "M0 1600 L2400 1600 L2400 0 L0 0  Z\n",
       "  \" fill=\"#ffffff\" fill-rule=\"evenodd\" fill-opacity=\"1\"/>\n",
       "<defs>\n",
       "  <clipPath id=\"clip791\">\n",
       "    <rect x=\"480\" y=\"0\" width=\"1681\" height=\"1600\"/>\n",
       "  </clipPath>\n",
       "</defs>\n",
       "<path clip-path=\"url(#clip790)\" d=\"\n",
       "M219.866 1423.18 L2352.76 1423.18 L2352.76 47.2441 L219.866 47.2441  Z\n",
       "  \" fill=\"#ffffff\" fill-rule=\"evenodd\" fill-opacity=\"1\"/>\n",
       "<defs>\n",
       "  <clipPath id=\"clip792\">\n",
       "    <rect x=\"219\" y=\"47\" width=\"2134\" height=\"1377\"/>\n",
       "  </clipPath>\n",
       "</defs>\n",
       "<polyline clip-path=\"url(#clip792)\" style=\"stroke:#000000; stroke-width:2; stroke-opacity:0.1; fill:none\" points=\"\n",
       "  280.231,1423.18 280.231,47.2441 \n",
       "  \"/>\n",
       "<polyline clip-path=\"url(#clip792)\" style=\"stroke:#000000; stroke-width:2; stroke-opacity:0.1; fill:none\" points=\"\n",
       "  950.951,1423.18 950.951,47.2441 \n",
       "  \"/>\n",
       "<polyline clip-path=\"url(#clip792)\" style=\"stroke:#000000; stroke-width:2; stroke-opacity:0.1; fill:none\" points=\"\n",
       "  1621.67,1423.18 1621.67,47.2441 \n",
       "  \"/>\n",
       "<polyline clip-path=\"url(#clip792)\" style=\"stroke:#000000; stroke-width:2; stroke-opacity:0.1; fill:none\" points=\"\n",
       "  2292.39,1423.18 2292.39,47.2441 \n",
       "  \"/>\n",
       "<polyline clip-path=\"url(#clip790)\" style=\"stroke:#000000; stroke-width:4; stroke-opacity:1; fill:none\" points=\"\n",
       "  219.866,1423.18 2352.76,1423.18 \n",
       "  \"/>\n",
       "<polyline clip-path=\"url(#clip790)\" style=\"stroke:#000000; stroke-width:4; stroke-opacity:1; fill:none\" points=\"\n",
       "  280.231,1423.18 280.231,1406.67 \n",
       "  \"/>\n",
       "<polyline clip-path=\"url(#clip790)\" style=\"stroke:#000000; stroke-width:4; stroke-opacity:1; fill:none\" points=\"\n",
       "  950.951,1423.18 950.951,1406.67 \n",
       "  \"/>\n",
       "<polyline clip-path=\"url(#clip790)\" style=\"stroke:#000000; stroke-width:4; stroke-opacity:1; fill:none\" points=\"\n",
       "  1621.67,1423.18 1621.67,1406.67 \n",
       "  \"/>\n",
       "<polyline clip-path=\"url(#clip790)\" style=\"stroke:#000000; stroke-width:4; stroke-opacity:1; fill:none\" points=\"\n",
       "  2292.39,1423.18 2292.39,1406.67 \n",
       "  \"/>\n",
       "<path clip-path=\"url(#clip790)\" d=\"M 0 0 M270.613 1479.92 L278.252 1479.92 L278.252 1453.55 L269.942 1455.22 L269.942 1450.96 L278.206 1449.29 L282.882 1449.29 L282.882 1479.92 L290.52 1479.92 L290.52 1483.85 L270.613 1483.85 L270.613 1479.92 Z\" fill=\"#000000\" fill-rule=\"evenodd\" fill-opacity=\"1\" /><path clip-path=\"url(#clip790)\" d=\"M 0 0 M945.604 1479.92 L961.923 1479.92 L961.923 1483.85 L939.979 1483.85 L939.979 1479.92 Q942.641 1477.16 947.224 1472.53 Q951.831 1467.88 953.011 1466.54 Q955.257 1464.01 956.136 1462.28 Q957.039 1460.52 957.039 1458.83 Q957.039 1456.07 955.095 1454.34 Q953.173 1452.6 950.071 1452.6 Q947.872 1452.6 945.419 1453.37 Q942.988 1454.13 940.21 1455.68 L940.21 1450.96 Q943.034 1449.82 945.488 1449.25 Q947.942 1448.67 949.979 1448.67 Q955.349 1448.67 958.544 1451.35 Q961.738 1454.04 961.738 1458.53 Q961.738 1460.66 960.928 1462.58 Q960.141 1464.48 958.034 1467.07 Q957.456 1467.74 954.354 1470.96 Q951.252 1474.15 945.604 1479.92 Z\" fill=\"#000000\" fill-rule=\"evenodd\" fill-opacity=\"1\" /><path clip-path=\"url(#clip790)\" d=\"M 0 0 M1625.92 1465.22 Q1629.28 1465.94 1631.15 1468.2 Q1633.05 1470.47 1633.05 1473.81 Q1633.05 1478.92 1629.53 1481.72 Q1626.01 1484.52 1619.53 1484.52 Q1617.35 1484.52 1615.04 1484.08 Q1612.75 1483.67 1610.29 1482.81 L1610.29 1478.3 Q1612.24 1479.43 1614.55 1480.01 Q1616.87 1480.59 1619.39 1480.59 Q1623.79 1480.59 1626.08 1478.85 Q1628.4 1477.12 1628.4 1473.81 Q1628.4 1470.75 1626.24 1469.04 Q1624.11 1467.3 1620.29 1467.3 L1616.27 1467.3 L1616.27 1463.46 L1620.48 1463.46 Q1623.93 1463.46 1625.76 1462.09 Q1627.59 1460.7 1627.59 1458.11 Q1627.59 1455.45 1625.69 1454.04 Q1623.81 1452.6 1620.29 1452.6 Q1618.37 1452.6 1616.17 1453.02 Q1613.97 1453.44 1611.34 1454.31 L1611.34 1450.15 Q1614 1449.41 1616.31 1449.04 Q1618.65 1448.67 1620.71 1448.67 Q1626.03 1448.67 1629.14 1451.1 Q1632.24 1453.5 1632.24 1457.63 Q1632.24 1460.5 1630.59 1462.49 Q1628.95 1464.45 1625.92 1465.22 Z\" fill=\"#000000\" fill-rule=\"evenodd\" fill-opacity=\"1\" /><path clip-path=\"url(#clip790)\" d=\"M 0 0 M2295.4 1453.37 L2283.59 1471.81 L2295.4 1471.81 L2295.4 1453.37 M2294.17 1449.29 L2300.05 1449.29 L2300.05 1471.81 L2304.98 1471.81 L2304.98 1475.7 L2300.05 1475.7 L2300.05 1483.85 L2295.4 1483.85 L2295.4 1475.7 L2279.8 1475.7 L2279.8 1471.19 L2294.17 1449.29 Z\" fill=\"#000000\" fill-rule=\"evenodd\" fill-opacity=\"1\" /><path clip-path=\"url(#clip790)\" d=\"M 0 0 M1137.74 1520.52 L1177.93 1520.52 L1177.93 1525.93 L1161.07 1525.93 L1161.07 1568.04 L1154.6 1568.04 L1154.6 1525.93 L1137.74 1525.93 L1137.74 1520.52 Z\" fill=\"#000000\" fill-rule=\"evenodd\" fill-opacity=\"1\" /><path clip-path=\"url(#clip790)\" d=\"M 0 0 M1181.88 1532.4 L1187.74 1532.4 L1187.74 1568.04 L1181.88 1568.04 L1181.88 1532.4 M1181.88 1518.52 L1187.74 1518.52 L1187.74 1525.93 L1181.88 1525.93 L1181.88 1518.52 Z\" fill=\"#000000\" fill-rule=\"evenodd\" fill-opacity=\"1\" /><path clip-path=\"url(#clip790)\" d=\"M 0 0 M1227.75 1539.24 Q1229.94 1535.29 1233 1533.41 Q1236.05 1531.54 1240.19 1531.54 Q1245.76 1531.54 1248.79 1535.45 Q1251.81 1539.33 1251.81 1546.53 L1251.81 1568.04 L1245.92 1568.04 L1245.92 1546.72 Q1245.92 1541.59 1244.11 1539.11 Q1242.29 1536.63 1238.57 1536.63 Q1234.02 1536.63 1231.38 1539.65 Q1228.73 1542.68 1228.73 1547.9 L1228.73 1568.04 L1222.84 1568.04 L1222.84 1546.72 Q1222.84 1541.56 1221.03 1539.11 Q1219.22 1536.63 1215.43 1536.63 Q1210.94 1536.63 1208.3 1539.68 Q1205.66 1542.71 1205.66 1547.9 L1205.66 1568.04 L1199.77 1568.04 L1199.77 1532.4 L1205.66 1532.4 L1205.66 1537.93 Q1207.66 1534.66 1210.46 1533.1 Q1213.26 1531.54 1217.12 1531.54 Q1221 1531.54 1223.7 1533.51 Q1226.44 1535.48 1227.75 1539.24 Z\" fill=\"#000000\" fill-rule=\"evenodd\" fill-opacity=\"1\" /><path clip-path=\"url(#clip790)\" d=\"M 0 0 M1293.98 1548.76 L1293.98 1551.62 L1267.05 1551.62 Q1267.44 1557.67 1270.68 1560.85 Q1273.96 1564 1279.79 1564 Q1283.16 1564 1286.31 1563.17 Q1289.49 1562.35 1292.61 1560.69 L1292.61 1566.23 Q1289.46 1567.57 1286.15 1568.27 Q1282.84 1568.97 1279.44 1568.97 Q1270.91 1568.97 1265.91 1564 Q1260.94 1559.04 1260.94 1550.57 Q1260.94 1541.82 1265.65 1536.69 Q1270.4 1531.54 1278.42 1531.54 Q1285.61 1531.54 1289.78 1536.18 Q1293.98 1540.8 1293.98 1548.76 M1288.13 1547.04 Q1288.06 1542.23 1285.42 1539.37 Q1282.81 1536.5 1278.48 1536.5 Q1273.58 1536.5 1270.62 1539.27 Q1267.69 1542.04 1267.25 1547.07 L1288.13 1547.04 Z\" fill=\"#000000\" fill-rule=\"evenodd\" fill-opacity=\"1\" /><path clip-path=\"url(#clip790)\" d=\"M 0 0 M1326.32 1533.45 L1326.32 1538.98 Q1323.84 1537.71 1321.16 1537.07 Q1318.49 1536.44 1315.63 1536.44 Q1311.26 1536.44 1309.07 1537.77 Q1306.9 1539.11 1306.9 1541.79 Q1306.9 1543.82 1308.46 1545 Q1310.02 1546.15 1314.73 1547.2 L1316.74 1547.64 Q1322.98 1548.98 1325.59 1551.43 Q1328.23 1553.85 1328.23 1558.21 Q1328.23 1563.17 1324.28 1566.07 Q1320.37 1568.97 1313.49 1568.97 Q1310.63 1568.97 1307.51 1568.39 Q1304.42 1567.85 1300.98 1566.74 L1300.98 1560.69 Q1304.23 1562.38 1307.38 1563.24 Q1310.53 1564.07 1313.62 1564.07 Q1317.76 1564.07 1319.99 1562.66 Q1322.21 1561.23 1322.21 1558.65 Q1322.21 1556.27 1320.59 1554.99 Q1319 1553.72 1313.56 1552.54 L1311.52 1552.07 Q1306.08 1550.92 1303.66 1548.56 Q1301.24 1546.18 1301.24 1542.04 Q1301.24 1537.01 1304.8 1534.27 Q1308.37 1531.54 1314.92 1531.54 Q1318.17 1531.54 1321.04 1532.01 Q1323.9 1532.49 1326.32 1533.45 Z\" fill=\"#000000\" fill-rule=\"evenodd\" fill-opacity=\"1\" /><path clip-path=\"url(#clip790)\" d=\"M 0 0 M1343.35 1522.27 L1343.35 1532.4 L1355.41 1532.4 L1355.41 1536.95 L1343.35 1536.95 L1343.35 1556.3 Q1343.35 1560.66 1344.53 1561.9 Q1345.73 1563.14 1349.4 1563.14 L1355.41 1563.14 L1355.41 1568.04 L1349.4 1568.04 Q1342.62 1568.04 1340.04 1565.53 Q1337.46 1562.98 1337.46 1556.3 L1337.46 1536.95 L1333.16 1536.95 L1333.16 1532.4 L1337.46 1532.4 L1337.46 1522.27 L1343.35 1522.27 Z\" fill=\"#000000\" fill-rule=\"evenodd\" fill-opacity=\"1\" /><path clip-path=\"url(#clip790)\" d=\"M 0 0 M1393.61 1548.76 L1393.61 1551.62 L1366.68 1551.62 Q1367.06 1557.67 1370.31 1560.85 Q1373.58 1564 1379.41 1564 Q1382.78 1564 1385.93 1563.17 Q1389.12 1562.35 1392.24 1560.69 L1392.24 1566.23 Q1389.09 1567.57 1385.78 1568.27 Q1382.47 1568.97 1379.06 1568.97 Q1370.53 1568.97 1365.53 1564 Q1360.57 1559.04 1360.57 1550.57 Q1360.57 1541.82 1365.28 1536.69 Q1370.02 1531.54 1378.04 1531.54 Q1385.23 1531.54 1389.4 1536.18 Q1393.61 1540.8 1393.61 1548.76 M1387.75 1547.04 Q1387.68 1542.23 1385.04 1539.37 Q1382.43 1536.5 1378.1 1536.5 Q1373.2 1536.5 1370.24 1539.27 Q1367.31 1542.04 1366.87 1547.07 L1387.75 1547.04 Z\" fill=\"#000000\" fill-rule=\"evenodd\" fill-opacity=\"1\" /><path clip-path=\"url(#clip790)\" d=\"M 0 0 M1408.88 1562.7 L1408.88 1581.6 L1402.99 1581.6 L1402.99 1532.4 L1408.88 1532.4 L1408.88 1537.81 Q1410.73 1534.62 1413.53 1533.1 Q1416.36 1531.54 1420.28 1531.54 Q1426.77 1531.54 1430.81 1536.69 Q1434.89 1541.85 1434.89 1550.25 Q1434.89 1558.65 1430.81 1563.81 Q1426.77 1568.97 1420.28 1568.97 Q1416.36 1568.97 1413.53 1567.44 Q1410.73 1565.88 1408.88 1562.7 M1428.81 1550.25 Q1428.81 1543.79 1426.13 1540.13 Q1423.49 1536.44 1418.85 1536.44 Q1414.2 1536.44 1411.52 1540.13 Q1408.88 1543.79 1408.88 1550.25 Q1408.88 1556.71 1411.52 1560.4 Q1414.2 1564.07 1418.85 1564.07 Q1423.49 1564.07 1426.13 1560.4 Q1428.81 1556.71 1428.81 1550.25 Z\" fill=\"#000000\" fill-rule=\"evenodd\" fill-opacity=\"1\" /><polyline clip-path=\"url(#clip792)\" style=\"stroke:#000000; stroke-width:2; stroke-opacity:0.1; fill:none\" points=\"\n",
       "  219.866,1384.24 2352.76,1384.24 \n",
       "  \"/>\n",
       "<polyline clip-path=\"url(#clip792)\" style=\"stroke:#000000; stroke-width:2; stroke-opacity:0.1; fill:none\" points=\"\n",
       "  219.866,1038.22 2352.76,1038.22 \n",
       "  \"/>\n",
       "<polyline clip-path=\"url(#clip792)\" style=\"stroke:#000000; stroke-width:2; stroke-opacity:0.1; fill:none\" points=\"\n",
       "  219.866,692.197 2352.76,692.197 \n",
       "  \"/>\n",
       "<polyline clip-path=\"url(#clip792)\" style=\"stroke:#000000; stroke-width:2; stroke-opacity:0.1; fill:none\" points=\"\n",
       "  219.866,346.177 2352.76,346.177 \n",
       "  \"/>\n",
       "<polyline clip-path=\"url(#clip790)\" style=\"stroke:#000000; stroke-width:4; stroke-opacity:1; fill:none\" points=\"\n",
       "  219.866,1423.18 219.866,47.2441 \n",
       "  \"/>\n",
       "<polyline clip-path=\"url(#clip790)\" style=\"stroke:#000000; stroke-width:4; stroke-opacity:1; fill:none\" points=\"\n",
       "  219.866,1384.24 245.461,1384.24 \n",
       "  \"/>\n",
       "<polyline clip-path=\"url(#clip790)\" style=\"stroke:#000000; stroke-width:4; stroke-opacity:1; fill:none\" points=\"\n",
       "  219.866,1038.22 245.461,1038.22 \n",
       "  \"/>\n",
       "<polyline clip-path=\"url(#clip790)\" style=\"stroke:#000000; stroke-width:4; stroke-opacity:1; fill:none\" points=\"\n",
       "  219.866,692.197 245.461,692.197 \n",
       "  \"/>\n",
       "<polyline clip-path=\"url(#clip790)\" style=\"stroke:#000000; stroke-width:4; stroke-opacity:1; fill:none\" points=\"\n",
       "  219.866,346.177 245.461,346.177 \n",
       "  \"/>\n",
       "<path clip-path=\"url(#clip790)\" d=\"M 0 0 M126.691 1370.04 Q123.08 1370.04 121.251 1373.6 Q119.445 1377.14 119.445 1384.27 Q119.445 1391.38 121.251 1394.94 Q123.08 1398.49 126.691 1398.49 Q130.325 1398.49 132.13 1394.94 Q133.959 1391.38 133.959 1384.27 Q133.959 1377.14 132.13 1373.6 Q130.325 1370.04 126.691 1370.04 M126.691 1366.33 Q132.501 1366.33 135.556 1370.94 Q138.635 1375.52 138.635 1384.27 Q138.635 1393 135.556 1397.61 Q132.501 1402.19 126.691 1402.19 Q120.88 1402.19 117.802 1397.61 Q114.746 1393 114.746 1384.27 Q114.746 1375.52 117.802 1370.94 Q120.88 1366.33 126.691 1366.33 Z\" fill=\"#000000\" fill-rule=\"evenodd\" fill-opacity=\"1\" /><path clip-path=\"url(#clip790)\" d=\"M 0 0 M146.853 1395.64 L151.737 1395.64 L151.737 1401.52 L146.853 1401.52 L146.853 1395.64 Z\" fill=\"#000000\" fill-rule=\"evenodd\" fill-opacity=\"1\" /><path clip-path=\"url(#clip790)\" d=\"M 0 0 M171.922 1370.04 Q168.311 1370.04 166.482 1373.6 Q164.677 1377.14 164.677 1384.27 Q164.677 1391.38 166.482 1394.94 Q168.311 1398.49 171.922 1398.49 Q175.556 1398.49 177.362 1394.94 Q179.19 1391.38 179.19 1384.27 Q179.19 1377.14 177.362 1373.6 Q175.556 1370.04 171.922 1370.04 M171.922 1366.33 Q177.732 1366.33 180.788 1370.94 Q183.866 1375.52 183.866 1384.27 Q183.866 1393 180.788 1397.61 Q177.732 1402.19 171.922 1402.19 Q166.112 1402.19 163.033 1397.61 Q159.978 1393 159.978 1384.27 Q159.978 1375.52 163.033 1370.94 Q166.112 1366.33 171.922 1366.33 Z\" fill=\"#000000\" fill-rule=\"evenodd\" fill-opacity=\"1\" /><path clip-path=\"url(#clip790)\" d=\"M 0 0 M128.288 1024.02 Q124.677 1024.02 122.848 1027.58 Q121.043 1031.12 121.043 1038.25 Q121.043 1045.36 122.848 1048.92 Q124.677 1052.47 128.288 1052.47 Q131.922 1052.47 133.728 1048.92 Q135.556 1045.36 135.556 1038.25 Q135.556 1031.12 133.728 1027.58 Q131.922 1024.02 128.288 1024.02 M128.288 1020.31 Q134.098 1020.31 137.154 1024.92 Q140.232 1029.5 140.232 1038.25 Q140.232 1046.98 137.154 1051.59 Q134.098 1056.17 128.288 1056.17 Q122.478 1056.17 119.399 1051.59 Q116.343 1046.98 116.343 1038.25 Q116.343 1029.5 119.399 1024.92 Q122.478 1020.31 128.288 1020.31 Z\" fill=\"#000000\" fill-rule=\"evenodd\" fill-opacity=\"1\" /><path clip-path=\"url(#clip790)\" d=\"M 0 0 M148.45 1049.62 L153.334 1049.62 L153.334 1055.5 L148.45 1055.5 L148.45 1049.62 Z\" fill=\"#000000\" fill-rule=\"evenodd\" fill-opacity=\"1\" /><path clip-path=\"url(#clip790)\" d=\"M 0 0 M167.547 1051.56 L183.866 1051.56 L183.866 1055.5 L161.922 1055.5 L161.922 1051.56 Q164.584 1048.81 169.167 1044.18 Q173.774 1039.53 174.954 1038.18 Q177.2 1035.66 178.079 1033.92 Q178.982 1032.16 178.982 1030.47 Q178.982 1027.72 177.038 1025.98 Q175.116 1024.25 172.014 1024.25 Q169.815 1024.25 167.362 1025.01 Q164.931 1025.78 162.153 1027.33 L162.153 1022.6 Q164.977 1021.47 167.431 1020.89 Q169.885 1020.31 171.922 1020.31 Q177.292 1020.31 180.487 1023 Q183.681 1025.68 183.681 1030.17 Q183.681 1032.3 182.871 1034.22 Q182.084 1036.12 179.977 1038.72 Q179.399 1039.39 176.297 1042.6 Q173.195 1045.8 167.547 1051.56 Z\" fill=\"#000000\" fill-rule=\"evenodd\" fill-opacity=\"1\" /><path clip-path=\"url(#clip790)\" d=\"M 0 0 M126.205 677.996 Q122.593 677.996 120.765 681.561 Q118.959 685.102 118.959 692.232 Q118.959 699.338 120.765 702.903 Q122.593 706.445 126.205 706.445 Q129.839 706.445 131.644 702.903 Q133.473 699.338 133.473 692.232 Q133.473 685.102 131.644 681.561 Q129.839 677.996 126.205 677.996 M126.205 674.292 Q132.015 674.292 135.07 678.899 Q138.149 683.482 138.149 692.232 Q138.149 700.959 135.07 705.565 Q132.015 710.148 126.205 710.148 Q120.394 710.148 117.316 705.565 Q114.26 700.959 114.26 692.232 Q114.26 683.482 117.316 678.899 Q120.394 674.292 126.205 674.292 Z\" fill=\"#000000\" fill-rule=\"evenodd\" fill-opacity=\"1\" /><path clip-path=\"url(#clip790)\" d=\"M 0 0 M146.366 703.598 L151.251 703.598 L151.251 709.477 L146.366 709.477 L146.366 703.598 Z\" fill=\"#000000\" fill-rule=\"evenodd\" fill-opacity=\"1\" /><path clip-path=\"url(#clip790)\" d=\"M 0 0 M174.283 678.991 L162.477 697.44 L174.283 697.44 L174.283 678.991 M173.056 674.917 L178.936 674.917 L178.936 697.44 L183.866 697.44 L183.866 701.329 L178.936 701.329 L178.936 709.477 L174.283 709.477 L174.283 701.329 L158.681 701.329 L158.681 696.815 L173.056 674.917 Z\" fill=\"#000000\" fill-rule=\"evenodd\" fill-opacity=\"1\" /><path clip-path=\"url(#clip790)\" d=\"M 0 0 M126.529 331.975 Q122.918 331.975 121.089 335.54 Q119.283 339.082 119.283 346.211 Q119.283 353.318 121.089 356.883 Q122.918 360.424 126.529 360.424 Q130.163 360.424 131.968 356.883 Q133.797 353.318 133.797 346.211 Q133.797 339.082 131.968 335.54 Q130.163 331.975 126.529 331.975 M126.529 328.272 Q132.339 328.272 135.394 332.878 Q138.473 337.461 138.473 346.211 Q138.473 354.938 135.394 359.545 Q132.339 364.128 126.529 364.128 Q120.718 364.128 117.64 359.545 Q114.584 354.938 114.584 346.211 Q114.584 337.461 117.64 332.878 Q120.718 328.272 126.529 328.272 Z\" fill=\"#000000\" fill-rule=\"evenodd\" fill-opacity=\"1\" /><path clip-path=\"url(#clip790)\" d=\"M 0 0 M146.691 357.577 L151.575 357.577 L151.575 363.457 L146.691 363.457 L146.691 357.577 Z\" fill=\"#000000\" fill-rule=\"evenodd\" fill-opacity=\"1\" /><path clip-path=\"url(#clip790)\" d=\"M 0 0 M172.339 344.313 Q169.19 344.313 167.339 346.466 Q165.51 348.619 165.51 352.369 Q165.51 356.096 167.339 358.271 Q169.19 360.424 172.339 360.424 Q175.487 360.424 177.315 358.271 Q179.167 356.096 179.167 352.369 Q179.167 348.619 177.315 346.466 Q175.487 344.313 172.339 344.313 M181.621 329.66 L181.621 333.92 Q179.862 333.086 178.056 332.647 Q176.274 332.207 174.514 332.207 Q169.885 332.207 167.431 335.332 Q165.001 338.457 164.653 344.776 Q166.019 342.762 168.079 341.697 Q170.139 340.61 172.616 340.61 Q177.825 340.61 180.834 343.781 Q183.866 346.929 183.866 352.369 Q183.866 357.693 180.718 360.91 Q177.57 364.128 172.339 364.128 Q166.343 364.128 163.172 359.545 Q160.001 354.938 160.001 346.211 Q160.001 338.017 163.89 333.156 Q167.778 328.272 174.329 328.272 Q176.089 328.272 177.871 328.619 Q179.676 328.966 181.621 329.66 Z\" fill=\"#000000\" fill-rule=\"evenodd\" fill-opacity=\"1\" /><path clip-path=\"url(#clip790)\" d=\"M 0 0 M18.0438 769.81 L24.314 769.81 Q22.5634 773.47 21.704 776.716 Q20.8447 779.963 20.8447 782.987 Q20.8447 788.238 22.8817 791.103 Q24.9187 793.936 28.6745 793.936 Q31.8255 793.936 33.4488 792.058 Q35.0402 790.148 36.0269 784.864 L36.8226 780.981 Q38.1912 773.788 41.6605 770.382 Q45.098 766.945 50.8908 766.945 Q57.7976 766.945 61.3624 771.592 Q64.9272 776.207 64.9272 785.151 Q64.9272 788.525 64.1633 792.344 Q63.3994 796.132 61.9035 800.206 L55.2831 800.206 Q57.4793 796.291 58.5933 792.535 Q59.7073 788.779 59.7073 785.151 Q59.7073 779.645 57.543 776.653 Q55.3786 773.661 51.3682 773.661 Q47.8671 773.661 45.8937 775.825 Q43.9204 777.958 42.9337 782.859 L42.1698 786.774 Q40.7375 793.967 37.682 797.182 Q34.6264 800.397 29.1837 800.397 Q22.8817 800.397 19.2532 795.973 Q15.6248 791.517 15.6248 783.719 Q15.6248 780.377 16.2295 776.907 Q16.8343 773.438 18.0438 769.81 Z\" fill=\"#000000\" fill-rule=\"evenodd\" fill-opacity=\"1\" /><path clip-path=\"url(#clip790)\" d=\"M 0 0 M20.8447 737.631 Q20.8447 744.633 26.0645 748.771 Q31.2844 752.877 40.2919 752.877 Q49.2675 752.877 54.4874 748.771 Q59.7073 744.633 59.7073 737.631 Q59.7073 730.629 54.4874 726.555 Q49.2675 722.449 40.2919 722.449 Q31.2844 722.449 26.0645 726.555 Q20.8447 730.629 20.8447 737.631 M15.6248 737.631 Q15.6248 727.637 22.3406 721.653 Q29.0246 715.669 40.2919 715.669 Q51.5274 715.669 58.2432 721.653 Q64.9272 727.637 64.9272 737.631 Q64.9272 747.657 58.2432 753.673 Q51.5592 759.656 40.2919 759.656 Q29.0246 759.656 22.3406 753.673 Q15.6248 747.657 15.6248 737.631 Z\" fill=\"#000000\" fill-rule=\"evenodd\" fill-opacity=\"1\" /><path clip-path=\"url(#clip790)\" d=\"M 0 0 M20.1444 670.027 L26.9239 670.027 Q23.9002 673.274 22.4043 676.966 Q20.9083 680.626 20.9083 684.764 Q20.9083 692.912 25.9054 697.241 Q30.8707 701.569 40.2919 701.569 Q49.6813 701.569 54.6784 697.241 Q59.6436 692.912 59.6436 684.764 Q59.6436 680.626 58.1477 676.966 Q56.6518 673.274 53.6281 670.027 L60.3439 670.027 Q62.6355 673.401 63.7814 677.189 Q64.9272 680.944 64.9272 685.146 Q64.9272 695.936 58.3387 702.142 Q51.7183 708.349 40.2919 708.349 Q28.8336 708.349 22.2451 702.142 Q15.6248 695.936 15.6248 685.146 Q15.6248 680.881 16.7706 677.125 Q17.8846 673.337 20.1444 670.027 Z\" fill=\"#000000\" fill-rule=\"evenodd\" fill-opacity=\"1\" /><polyline clip-path=\"url(#clip792)\" style=\"stroke:#009af9; stroke-width:4; stroke-opacity:1; fill:none\" points=\"\n",
       "  280.231,450.007 950.951,194.129 1621.67,86.1857 2292.39,1384.24 \n",
       "  \"/>\n",
       "<polyline clip-path=\"url(#clip792)\" style=\"stroke:#e26f46; stroke-width:4; stroke-opacity:1; fill:none\" points=\"\n",
       "  280.231,904.695 950.951,901.494 1621.67,1381.54 2292.39,1384.24 \n",
       "  \"/>\n",
       "<polyline clip-path=\"url(#clip792)\" style=\"stroke:#3da44d; stroke-width:4; stroke-opacity:1; fill:none\" points=\"\n",
       "  280.231,993.841 950.951,836.449 1621.67,990.414 2292.39,1384.24 \n",
       "  \"/>\n",
       "<polyline clip-path=\"url(#clip792)\" style=\"stroke:#c271d2; stroke-width:4; stroke-opacity:1; fill:none\" points=\"\n",
       "  280.231,555.685 950.951,565.79 1621.67,668.815 2292.39,1384.24 \n",
       "  \"/>\n",
       "<path clip-path=\"url(#clip790)\" d=\"\n",
       "M1990.53 395.509 L2281.66 395.509 L2281.66 93.1086 L1990.53 93.1086  Z\n",
       "  \" fill=\"#ffffff\" fill-rule=\"evenodd\" fill-opacity=\"1\"/>\n",
       "<polyline clip-path=\"url(#clip790)\" style=\"stroke:#000000; stroke-width:4; stroke-opacity:1; fill:none\" points=\"\n",
       "  1990.53,395.509 2281.66,395.509 2281.66,93.1086 1990.53,93.1086 1990.53,395.509 \n",
       "  \"/>\n",
       "<polyline clip-path=\"url(#clip790)\" style=\"stroke:#009af9; stroke-width:4; stroke-opacity:1; fill:none\" points=\"\n",
       "  2014.23,153.589 2156.42,153.589 \n",
       "  \"/>\n",
       "<path clip-path=\"url(#clip790)\" d=\"M 0 0 M2193.96 173.276 Q2192.16 177.906 2190.44 179.318 Q2188.73 180.73 2185.86 180.73 L2182.46 180.73 L2182.46 177.165 L2184.96 177.165 Q2186.72 177.165 2187.69 176.332 Q2188.66 175.498 2189.84 172.396 L2190.6 170.452 L2180.12 144.943 L2184.63 144.943 L2192.73 165.221 L2200.84 144.943 L2205.35 144.943 L2193.96 173.276 Z\" fill=\"#000000\" fill-rule=\"evenodd\" fill-opacity=\"1\" /><path clip-path=\"url(#clip790)\" d=\"M 0 0 M2212.64 166.933 L2220.28 166.933 L2220.28 140.568 L2211.97 142.235 L2211.97 137.975 L2220.23 136.309 L2224.91 136.309 L2224.91 166.933 L2232.55 166.933 L2232.55 170.869 L2212.64 170.869 L2212.64 166.933 Z\" fill=\"#000000\" fill-rule=\"evenodd\" fill-opacity=\"1\" /><polyline clip-path=\"url(#clip790)\" style=\"stroke:#e26f46; stroke-width:4; stroke-opacity:1; fill:none\" points=\"\n",
       "  2014.23,214.069 2156.42,214.069 \n",
       "  \"/>\n",
       "<path clip-path=\"url(#clip790)\" d=\"M 0 0 M2193.96 233.756 Q2192.16 238.386 2190.44 239.798 Q2188.73 241.21 2185.86 241.21 L2182.46 241.21 L2182.46 237.645 L2184.96 237.645 Q2186.72 237.645 2187.69 236.812 Q2188.66 235.978 2189.84 232.876 L2190.6 230.932 L2180.12 205.423 L2184.63 205.423 L2192.73 225.701 L2200.84 205.423 L2205.35 205.423 L2193.96 233.756 Z\" fill=\"#000000\" fill-rule=\"evenodd\" fill-opacity=\"1\" /><path clip-path=\"url(#clip790)\" d=\"M 0 0 M2215.86 227.413 L2232.18 227.413 L2232.18 231.349 L2210.23 231.349 L2210.23 227.413 Q2212.9 224.659 2217.48 220.029 Q2222.09 215.376 2223.27 214.034 Q2225.51 211.511 2226.39 209.775 Q2227.29 208.015 2227.29 206.326 Q2227.29 203.571 2225.35 201.835 Q2223.43 200.099 2220.33 200.099 Q2218.13 200.099 2215.67 200.863 Q2213.24 201.627 2210.47 203.177 L2210.47 198.455 Q2213.29 197.321 2215.74 196.742 Q2218.2 196.164 2220.23 196.164 Q2225.6 196.164 2228.8 198.849 Q2231.99 201.534 2231.99 206.025 Q2231.99 208.154 2231.18 210.076 Q2230.4 211.974 2228.29 214.566 Q2227.71 215.238 2224.61 218.455 Q2221.51 221.65 2215.86 227.413 Z\" fill=\"#000000\" fill-rule=\"evenodd\" fill-opacity=\"1\" /><polyline clip-path=\"url(#clip790)\" style=\"stroke:#3da44d; stroke-width:4; stroke-opacity:1; fill:none\" points=\"\n",
       "  2014.23,274.549 2156.42,274.549 \n",
       "  \"/>\n",
       "<path clip-path=\"url(#clip790)\" d=\"M 0 0 M2193.96 294.236 Q2192.16 298.866 2190.44 300.278 Q2188.73 301.69 2185.86 301.69 L2182.46 301.69 L2182.46 298.125 L2184.96 298.125 Q2186.72 298.125 2187.69 297.292 Q2188.66 296.458 2189.84 293.356 L2190.6 291.412 L2180.12 265.903 L2184.63 265.903 L2192.73 286.181 L2200.84 265.903 L2205.35 265.903 L2193.96 294.236 Z\" fill=\"#000000\" fill-rule=\"evenodd\" fill-opacity=\"1\" /><path clip-path=\"url(#clip790)\" d=\"M 0 0 M2226 273.194 Q2229.35 273.912 2231.23 276.181 Q2233.13 278.449 2233.13 281.782 Q2233.13 286.898 2229.61 289.699 Q2226.09 292.5 2219.61 292.5 Q2217.43 292.5 2215.12 292.06 Q2212.83 291.643 2210.37 290.787 L2210.37 286.273 Q2212.32 287.407 2214.63 287.986 Q2216.95 288.565 2219.47 288.565 Q2223.87 288.565 2226.16 286.829 Q2228.48 285.093 2228.48 281.782 Q2228.48 278.727 2226.32 277.014 Q2224.19 275.278 2220.37 275.278 L2216.35 275.278 L2216.35 271.435 L2220.56 271.435 Q2224.01 271.435 2225.84 270.069 Q2227.66 268.681 2227.66 266.088 Q2227.66 263.426 2225.77 262.014 Q2223.89 260.579 2220.37 260.579 Q2218.45 260.579 2216.25 260.995 Q2214.05 261.412 2211.41 262.292 L2211.41 258.125 Q2214.08 257.384 2216.39 257.014 Q2218.73 256.644 2220.79 256.644 Q2226.11 256.644 2229.22 259.074 Q2232.32 261.482 2232.32 265.602 Q2232.32 268.472 2230.67 270.463 Q2229.03 272.431 2226 273.194 Z\" fill=\"#000000\" fill-rule=\"evenodd\" fill-opacity=\"1\" /><polyline clip-path=\"url(#clip790)\" style=\"stroke:#c271d2; stroke-width:4; stroke-opacity:1; fill:none\" points=\"\n",
       "  2014.23,335.029 2156.42,335.029 \n",
       "  \"/>\n",
       "<path clip-path=\"url(#clip790)\" d=\"M 0 0 M2193.96 354.716 Q2192.16 359.346 2190.44 360.758 Q2188.73 362.17 2185.86 362.17 L2182.46 362.17 L2182.46 358.605 L2184.96 358.605 Q2186.72 358.605 2187.69 357.772 Q2188.66 356.938 2189.84 353.836 L2190.6 351.892 L2180.12 326.383 L2184.63 326.383 L2192.73 346.661 L2200.84 326.383 L2205.35 326.383 L2193.96 354.716 Z\" fill=\"#000000\" fill-rule=\"evenodd\" fill-opacity=\"1\" /><path clip-path=\"url(#clip790)\" d=\"M 0 0 M2224.68 321.823 L2212.87 340.272 L2224.68 340.272 L2224.68 321.823 M2223.45 317.749 L2229.33 317.749 L2229.33 340.272 L2234.26 340.272 L2234.26 344.161 L2229.33 344.161 L2229.33 352.309 L2224.68 352.309 L2224.68 344.161 L2209.08 344.161 L2209.08 339.647 L2223.45 317.749 Z\" fill=\"#000000\" fill-rule=\"evenodd\" fill-opacity=\"1\" /></svg>\n"
      ]
     },
     "execution_count": 44,
     "metadata": {},
     "output_type": "execute_result"
    }
   ],
   "source": [
    "plot(s_vals')\n",
    "xlabel!(\"Timestep\")\n",
    "ylabel!(\"SOC\")"
   ]
  },
  {
   "cell_type": "code",
   "execution_count": 45,
   "id": "special-liechtenstein",
   "metadata": {},
   "outputs": [
    {
     "data": {
      "image/svg+xml": [
       "<?xml version=\"1.0\" encoding=\"utf-8\"?>\n",
       "<svg xmlns=\"http://www.w3.org/2000/svg\" xmlns:xlink=\"http://www.w3.org/1999/xlink\" width=\"600\" height=\"400\" viewBox=\"0 0 2400 1600\">\n",
       "<defs>\n",
       "  <clipPath id=\"clip830\">\n",
       "    <rect x=\"0\" y=\"0\" width=\"2400\" height=\"1600\"/>\n",
       "  </clipPath>\n",
       "</defs>\n",
       "<path clip-path=\"url(#clip830)\" d=\"\n",
       "M0 1600 L2400 1600 L2400 0 L0 0  Z\n",
       "  \" fill=\"#ffffff\" fill-rule=\"evenodd\" fill-opacity=\"1\"/>\n",
       "<defs>\n",
       "  <clipPath id=\"clip831\">\n",
       "    <rect x=\"480\" y=\"0\" width=\"1681\" height=\"1600\"/>\n",
       "  </clipPath>\n",
       "</defs>\n",
       "<path clip-path=\"url(#clip830)\" d=\"\n",
       "M247.459 1423.18 L2352.76 1423.18 L2352.76 47.2441 L247.459 47.2441  Z\n",
       "  \" fill=\"#ffffff\" fill-rule=\"evenodd\" fill-opacity=\"1\"/>\n",
       "<defs>\n",
       "  <clipPath id=\"clip832\">\n",
       "    <rect x=\"247\" y=\"47\" width=\"2106\" height=\"1377\"/>\n",
       "  </clipPath>\n",
       "</defs>\n",
       "<polyline clip-path=\"url(#clip832)\" style=\"stroke:#000000; stroke-width:2; stroke-opacity:0.1; fill:none\" points=\"\n",
       "  307.043,1423.18 307.043,47.2441 \n",
       "  \"/>\n",
       "<polyline clip-path=\"url(#clip832)\" style=\"stroke:#000000; stroke-width:2; stroke-opacity:0.1; fill:none\" points=\"\n",
       "  969.086,1423.18 969.086,47.2441 \n",
       "  \"/>\n",
       "<polyline clip-path=\"url(#clip832)\" style=\"stroke:#000000; stroke-width:2; stroke-opacity:0.1; fill:none\" points=\"\n",
       "  1631.13,1423.18 1631.13,47.2441 \n",
       "  \"/>\n",
       "<polyline clip-path=\"url(#clip832)\" style=\"stroke:#000000; stroke-width:2; stroke-opacity:0.1; fill:none\" points=\"\n",
       "  2293.17,1423.18 2293.17,47.2441 \n",
       "  \"/>\n",
       "<polyline clip-path=\"url(#clip830)\" style=\"stroke:#000000; stroke-width:4; stroke-opacity:1; fill:none\" points=\"\n",
       "  247.459,1423.18 2352.76,1423.18 \n",
       "  \"/>\n",
       "<polyline clip-path=\"url(#clip830)\" style=\"stroke:#000000; stroke-width:4; stroke-opacity:1; fill:none\" points=\"\n",
       "  307.043,1423.18 307.043,1406.67 \n",
       "  \"/>\n",
       "<polyline clip-path=\"url(#clip830)\" style=\"stroke:#000000; stroke-width:4; stroke-opacity:1; fill:none\" points=\"\n",
       "  969.086,1423.18 969.086,1406.67 \n",
       "  \"/>\n",
       "<polyline clip-path=\"url(#clip830)\" style=\"stroke:#000000; stroke-width:4; stroke-opacity:1; fill:none\" points=\"\n",
       "  1631.13,1423.18 1631.13,1406.67 \n",
       "  \"/>\n",
       "<polyline clip-path=\"url(#clip830)\" style=\"stroke:#000000; stroke-width:4; stroke-opacity:1; fill:none\" points=\"\n",
       "  2293.17,1423.18 2293.17,1406.67 \n",
       "  \"/>\n",
       "<path clip-path=\"url(#clip830)\" d=\"M 0 0 M297.425 1479.92 L305.063 1479.92 L305.063 1453.55 L296.753 1455.22 L296.753 1450.96 L305.017 1449.29 L309.693 1449.29 L309.693 1479.92 L317.332 1479.92 L317.332 1483.85 L297.425 1483.85 L297.425 1479.92 Z\" fill=\"#000000\" fill-rule=\"evenodd\" fill-opacity=\"1\" /><path clip-path=\"url(#clip830)\" d=\"M 0 0 M963.739 1479.92 L980.058 1479.92 L980.058 1483.85 L958.114 1483.85 L958.114 1479.92 Q960.776 1477.16 965.359 1472.53 Q969.965 1467.88 971.146 1466.54 Q973.391 1464.01 974.271 1462.28 Q975.174 1460.52 975.174 1458.83 Q975.174 1456.07 973.229 1454.34 Q971.308 1452.6 968.206 1452.6 Q966.007 1452.6 963.553 1453.37 Q961.123 1454.13 958.345 1455.68 L958.345 1450.96 Q961.169 1449.82 963.623 1449.25 Q966.076 1448.67 968.114 1448.67 Q973.484 1448.67 976.678 1451.35 Q979.873 1454.04 979.873 1458.53 Q979.873 1460.66 979.063 1462.58 Q978.276 1464.48 976.169 1467.07 Q975.59 1467.74 972.488 1470.96 Q969.387 1474.15 963.739 1479.92 Z\" fill=\"#000000\" fill-rule=\"evenodd\" fill-opacity=\"1\" /><path clip-path=\"url(#clip830)\" d=\"M 0 0 M1635.38 1465.22 Q1638.73 1465.94 1640.61 1468.2 Q1642.51 1470.47 1642.51 1473.81 Q1642.51 1478.92 1638.99 1481.72 Q1635.47 1484.52 1628.99 1484.52 Q1626.81 1484.52 1624.5 1484.08 Q1622.21 1483.67 1619.75 1482.81 L1619.75 1478.3 Q1621.7 1479.43 1624.01 1480.01 Q1626.33 1480.59 1628.85 1480.59 Q1633.25 1480.59 1635.54 1478.85 Q1637.85 1477.12 1637.85 1473.81 Q1637.85 1470.75 1635.7 1469.04 Q1633.57 1467.3 1629.75 1467.3 L1625.72 1467.3 L1625.72 1463.46 L1629.94 1463.46 Q1633.39 1463.46 1635.21 1462.09 Q1637.04 1460.7 1637.04 1458.11 Q1637.04 1455.45 1635.15 1454.04 Q1633.27 1452.6 1629.75 1452.6 Q1627.83 1452.6 1625.63 1453.02 Q1623.43 1453.44 1620.79 1454.31 L1620.79 1450.15 Q1623.46 1449.41 1625.77 1449.04 Q1628.11 1448.67 1630.17 1448.67 Q1635.49 1448.67 1638.59 1451.1 Q1641.7 1453.5 1641.7 1457.63 Q1641.7 1460.5 1640.05 1462.49 Q1638.41 1464.45 1635.38 1465.22 Z\" fill=\"#000000\" fill-rule=\"evenodd\" fill-opacity=\"1\" /><path clip-path=\"url(#clip830)\" d=\"M 0 0 M2296.18 1453.37 L2284.38 1471.81 L2296.18 1471.81 L2296.18 1453.37 M2294.95 1449.29 L2300.83 1449.29 L2300.83 1471.81 L2305.76 1471.81 L2305.76 1475.7 L2300.83 1475.7 L2300.83 1483.85 L2296.18 1483.85 L2296.18 1475.7 L2280.58 1475.7 L2280.58 1471.19 L2294.95 1449.29 Z\" fill=\"#000000\" fill-rule=\"evenodd\" fill-opacity=\"1\" /><path clip-path=\"url(#clip830)\" d=\"M 0 0 M1151.53 1520.52 L1191.73 1520.52 L1191.73 1525.93 L1174.86 1525.93 L1174.86 1568.04 L1168.4 1568.04 L1168.4 1525.93 L1151.53 1525.93 L1151.53 1520.52 Z\" fill=\"#000000\" fill-rule=\"evenodd\" fill-opacity=\"1\" /><path clip-path=\"url(#clip830)\" d=\"M 0 0 M1195.68 1532.4 L1201.53 1532.4 L1201.53 1568.04 L1195.68 1568.04 L1195.68 1532.4 M1195.68 1518.52 L1201.53 1518.52 L1201.53 1525.93 L1195.68 1525.93 L1195.68 1518.52 Z\" fill=\"#000000\" fill-rule=\"evenodd\" fill-opacity=\"1\" /><path clip-path=\"url(#clip830)\" d=\"M 0 0 M1241.54 1539.24 Q1243.74 1535.29 1246.79 1533.41 Q1249.85 1531.54 1253.99 1531.54 Q1259.56 1531.54 1262.58 1535.45 Q1265.61 1539.33 1265.61 1546.53 L1265.61 1568.04 L1259.72 1568.04 L1259.72 1546.72 Q1259.72 1541.59 1257.9 1539.11 Q1256.09 1536.63 1252.36 1536.63 Q1247.81 1536.63 1245.17 1539.65 Q1242.53 1542.68 1242.53 1547.9 L1242.53 1568.04 L1236.64 1568.04 L1236.64 1546.72 Q1236.64 1541.56 1234.83 1539.11 Q1233.01 1536.63 1229.23 1536.63 Q1224.74 1536.63 1222.1 1539.68 Q1219.45 1542.71 1219.45 1547.9 L1219.45 1568.04 L1213.57 1568.04 L1213.57 1532.4 L1219.45 1532.4 L1219.45 1537.93 Q1221.46 1534.66 1224.26 1533.1 Q1227.06 1531.54 1230.91 1531.54 Q1234.8 1531.54 1237.5 1533.51 Q1240.24 1535.48 1241.54 1539.24 Z\" fill=\"#000000\" fill-rule=\"evenodd\" fill-opacity=\"1\" /><path clip-path=\"url(#clip830)\" d=\"M 0 0 M1307.78 1548.76 L1307.78 1551.62 L1280.85 1551.62 Q1281.23 1557.67 1284.48 1560.85 Q1287.76 1564 1293.58 1564 Q1296.96 1564 1300.11 1563.17 Q1303.29 1562.35 1306.41 1560.69 L1306.41 1566.23 Q1303.26 1567.57 1299.95 1568.27 Q1296.64 1568.97 1293.23 1568.97 Q1284.7 1568.97 1279.71 1564 Q1274.74 1559.04 1274.74 1550.57 Q1274.74 1541.82 1279.45 1536.69 Q1284.19 1531.54 1292.21 1531.54 Q1299.41 1531.54 1303.58 1536.18 Q1307.78 1540.8 1307.78 1548.76 M1301.92 1547.04 Q1301.86 1542.23 1299.22 1539.37 Q1296.61 1536.5 1292.28 1536.5 Q1287.38 1536.5 1284.42 1539.27 Q1281.49 1542.04 1281.04 1547.07 L1301.92 1547.04 Z\" fill=\"#000000\" fill-rule=\"evenodd\" fill-opacity=\"1\" /><path clip-path=\"url(#clip830)\" d=\"M 0 0 M1340.12 1533.45 L1340.12 1538.98 Q1337.63 1537.71 1334.96 1537.07 Q1332.29 1536.44 1329.42 1536.44 Q1325.06 1536.44 1322.86 1537.77 Q1320.7 1539.11 1320.7 1541.79 Q1320.7 1543.82 1322.26 1545 Q1323.82 1546.15 1328.53 1547.2 L1330.54 1547.64 Q1336.77 1548.98 1339.38 1551.43 Q1342.03 1553.85 1342.03 1558.21 Q1342.03 1563.17 1338.08 1566.07 Q1334.16 1568.97 1327.29 1568.97 Q1324.42 1568.97 1321.31 1568.39 Q1318.22 1567.85 1314.78 1566.74 L1314.78 1560.69 Q1318.03 1562.38 1321.18 1563.24 Q1324.33 1564.07 1327.42 1564.07 Q1331.55 1564.07 1333.78 1562.66 Q1336.01 1561.23 1336.01 1558.65 Q1336.01 1556.27 1334.39 1554.99 Q1332.8 1553.72 1327.35 1552.54 L1325.32 1552.07 Q1319.87 1550.92 1317.45 1548.56 Q1315.03 1546.18 1315.03 1542.04 Q1315.03 1537.01 1318.6 1534.27 Q1322.16 1531.54 1328.72 1531.54 Q1331.97 1531.54 1334.83 1532.01 Q1337.7 1532.49 1340.12 1533.45 Z\" fill=\"#000000\" fill-rule=\"evenodd\" fill-opacity=\"1\" /><path clip-path=\"url(#clip830)\" d=\"M 0 0 M1357.14 1522.27 L1357.14 1532.4 L1369.21 1532.4 L1369.21 1536.95 L1357.14 1536.95 L1357.14 1556.3 Q1357.14 1560.66 1358.32 1561.9 Q1359.53 1563.14 1363.19 1563.14 L1369.21 1563.14 L1369.21 1568.04 L1363.19 1568.04 Q1356.41 1568.04 1353.83 1565.53 Q1351.26 1562.98 1351.26 1556.3 L1351.26 1536.95 L1346.96 1536.95 L1346.96 1532.4 L1351.26 1532.4 L1351.26 1522.27 L1357.14 1522.27 Z\" fill=\"#000000\" fill-rule=\"evenodd\" fill-opacity=\"1\" /><path clip-path=\"url(#clip830)\" d=\"M 0 0 M1407.4 1548.76 L1407.4 1551.62 L1380.47 1551.62 Q1380.86 1557.67 1384.1 1560.85 Q1387.38 1564 1393.21 1564 Q1396.58 1564 1399.73 1563.17 Q1402.91 1562.35 1406.03 1560.69 L1406.03 1566.23 Q1402.88 1567.57 1399.57 1568.27 Q1396.26 1568.97 1392.86 1568.97 Q1384.33 1568.97 1379.33 1564 Q1374.36 1559.04 1374.36 1550.57 Q1374.36 1541.82 1379.07 1536.69 Q1383.82 1531.54 1391.84 1531.54 Q1399.03 1531.54 1403.2 1536.18 Q1407.4 1540.8 1407.4 1548.76 M1401.54 1547.04 Q1401.48 1542.23 1398.84 1539.37 Q1396.23 1536.5 1391.9 1536.5 Q1387 1536.5 1384.04 1539.27 Q1381.11 1542.04 1380.67 1547.07 L1401.54 1547.04 Z\" fill=\"#000000\" fill-rule=\"evenodd\" fill-opacity=\"1\" /><path clip-path=\"url(#clip830)\" d=\"M 0 0 M1422.68 1562.7 L1422.68 1581.6 L1416.79 1581.6 L1416.79 1532.4 L1422.68 1532.4 L1422.68 1537.81 Q1424.53 1534.62 1427.33 1533.1 Q1430.16 1531.54 1434.07 1531.54 Q1440.57 1531.54 1444.61 1536.69 Q1448.68 1541.85 1448.68 1550.25 Q1448.68 1558.65 1444.61 1563.81 Q1440.57 1568.97 1434.07 1568.97 Q1430.16 1568.97 1427.33 1567.44 Q1424.53 1565.88 1422.68 1562.7 M1442.6 1550.25 Q1442.6 1543.79 1439.93 1540.13 Q1437.29 1536.44 1432.64 1536.44 Q1427.99 1536.44 1425.32 1540.13 Q1422.68 1543.79 1422.68 1550.25 Q1422.68 1556.71 1425.32 1560.4 Q1427.99 1564.07 1432.64 1564.07 Q1437.29 1564.07 1439.93 1560.4 Q1442.6 1556.71 1442.6 1550.25 Z\" fill=\"#000000\" fill-rule=\"evenodd\" fill-opacity=\"1\" /><polyline clip-path=\"url(#clip832)\" style=\"stroke:#000000; stroke-width:2; stroke-opacity:0.1; fill:none\" points=\"\n",
       "  247.459,1384.41 2352.76,1384.41 \n",
       "  \"/>\n",
       "<polyline clip-path=\"url(#clip832)\" style=\"stroke:#000000; stroke-width:2; stroke-opacity:0.1; fill:none\" points=\"\n",
       "  247.459,1110.86 2352.76,1110.86 \n",
       "  \"/>\n",
       "<polyline clip-path=\"url(#clip832)\" style=\"stroke:#000000; stroke-width:2; stroke-opacity:0.1; fill:none\" points=\"\n",
       "  247.459,837.31 2352.76,837.31 \n",
       "  \"/>\n",
       "<polyline clip-path=\"url(#clip832)\" style=\"stroke:#000000; stroke-width:2; stroke-opacity:0.1; fill:none\" points=\"\n",
       "  247.459,563.761 2352.76,563.761 \n",
       "  \"/>\n",
       "<polyline clip-path=\"url(#clip832)\" style=\"stroke:#000000; stroke-width:2; stroke-opacity:0.1; fill:none\" points=\"\n",
       "  247.459,290.213 2352.76,290.213 \n",
       "  \"/>\n",
       "<polyline clip-path=\"url(#clip830)\" style=\"stroke:#000000; stroke-width:4; stroke-opacity:1; fill:none\" points=\"\n",
       "  247.459,1423.18 247.459,47.2441 \n",
       "  \"/>\n",
       "<polyline clip-path=\"url(#clip830)\" style=\"stroke:#000000; stroke-width:4; stroke-opacity:1; fill:none\" points=\"\n",
       "  247.459,1384.41 272.722,1384.41 \n",
       "  \"/>\n",
       "<polyline clip-path=\"url(#clip830)\" style=\"stroke:#000000; stroke-width:4; stroke-opacity:1; fill:none\" points=\"\n",
       "  247.459,1110.86 272.722,1110.86 \n",
       "  \"/>\n",
       "<polyline clip-path=\"url(#clip830)\" style=\"stroke:#000000; stroke-width:4; stroke-opacity:1; fill:none\" points=\"\n",
       "  247.459,837.31 272.722,837.31 \n",
       "  \"/>\n",
       "<polyline clip-path=\"url(#clip830)\" style=\"stroke:#000000; stroke-width:4; stroke-opacity:1; fill:none\" points=\"\n",
       "  247.459,563.761 272.722,563.761 \n",
       "  \"/>\n",
       "<polyline clip-path=\"url(#clip830)\" style=\"stroke:#000000; stroke-width:4; stroke-opacity:1; fill:none\" points=\"\n",
       "  247.459,290.213 272.722,290.213 \n",
       "  \"/>\n",
       "<path clip-path=\"url(#clip830)\" d=\"M 0 0 M154.283 1370.21 Q150.672 1370.21 148.843 1373.77 Q147.038 1377.31 147.038 1384.44 Q147.038 1391.55 148.843 1395.11 Q150.672 1398.65 154.283 1398.65 Q157.917 1398.65 159.723 1395.11 Q161.552 1391.55 161.552 1384.44 Q161.552 1377.31 159.723 1373.77 Q157.917 1370.21 154.283 1370.21 M154.283 1366.5 Q160.093 1366.5 163.149 1371.11 Q166.227 1375.69 166.227 1384.44 Q166.227 1393.17 163.149 1397.78 Q160.093 1402.36 154.283 1402.36 Q148.473 1402.36 145.394 1397.78 Q142.339 1393.17 142.339 1384.44 Q142.339 1375.69 145.394 1371.11 Q148.473 1366.5 154.283 1366.5 Z\" fill=\"#000000\" fill-rule=\"evenodd\" fill-opacity=\"1\" /><path clip-path=\"url(#clip830)\" d=\"M 0 0 M174.445 1395.81 L179.329 1395.81 L179.329 1401.69 L174.445 1401.69 L174.445 1395.81 Z\" fill=\"#000000\" fill-rule=\"evenodd\" fill-opacity=\"1\" /><path clip-path=\"url(#clip830)\" d=\"M 0 0 M199.514 1370.21 Q195.903 1370.21 194.075 1373.77 Q192.269 1377.31 192.269 1384.44 Q192.269 1391.55 194.075 1395.11 Q195.903 1398.65 199.514 1398.65 Q203.149 1398.65 204.954 1395.11 Q206.783 1391.55 206.783 1384.44 Q206.783 1377.31 204.954 1373.77 Q203.149 1370.21 199.514 1370.21 M199.514 1366.5 Q205.324 1366.5 208.38 1371.11 Q211.459 1375.69 211.459 1384.44 Q211.459 1393.17 208.38 1397.78 Q205.324 1402.36 199.514 1402.36 Q193.704 1402.36 190.625 1397.78 Q187.57 1393.17 187.57 1384.44 Q187.57 1375.69 190.625 1371.11 Q193.704 1366.5 199.514 1366.5 Z\" fill=\"#000000\" fill-rule=\"evenodd\" fill-opacity=\"1\" /><path clip-path=\"url(#clip830)\" d=\"M 0 0 M149.306 1124.2 L165.626 1124.2 L165.626 1128.14 L143.681 1128.14 L143.681 1124.2 Q146.343 1121.45 150.927 1116.82 Q155.533 1112.17 156.714 1110.82 Q158.959 1108.3 159.839 1106.56 Q160.741 1104.81 160.741 1103.12 Q160.741 1100.36 158.797 1098.62 Q156.876 1096.89 153.774 1096.89 Q151.575 1096.89 149.121 1097.65 Q146.691 1098.42 143.913 1099.97 L143.913 1095.25 Q146.737 1094.11 149.191 1093.53 Q151.644 1092.95 153.681 1092.95 Q159.052 1092.95 162.246 1095.64 Q165.44 1098.32 165.44 1102.81 Q165.44 1104.94 164.63 1106.87 Q163.843 1108.76 161.737 1111.36 Q161.158 1112.03 158.056 1115.25 Q154.954 1118.44 149.306 1124.2 Z\" fill=\"#000000\" fill-rule=\"evenodd\" fill-opacity=\"1\" /><path clip-path=\"url(#clip830)\" d=\"M 0 0 M175.44 1122.26 L180.325 1122.26 L180.325 1128.14 L175.44 1128.14 L175.44 1122.26 Z\" fill=\"#000000\" fill-rule=\"evenodd\" fill-opacity=\"1\" /><path clip-path=\"url(#clip830)\" d=\"M 0 0 M190.556 1093.58 L208.912 1093.58 L208.912 1097.51 L194.838 1097.51 L194.838 1105.99 Q195.857 1105.64 196.875 1105.48 Q197.894 1105.29 198.912 1105.29 Q204.699 1105.29 208.079 1108.46 Q211.459 1111.63 211.459 1117.05 Q211.459 1122.63 207.987 1125.73 Q204.514 1128.81 198.195 1128.81 Q196.019 1128.81 193.75 1128.44 Q191.505 1128.07 189.098 1127.33 L189.098 1122.63 Q191.181 1123.76 193.403 1124.32 Q195.625 1124.87 198.102 1124.87 Q202.107 1124.87 204.445 1122.77 Q206.783 1120.66 206.783 1117.05 Q206.783 1113.44 204.445 1111.33 Q202.107 1109.23 198.102 1109.23 Q196.227 1109.23 194.352 1109.64 Q192.5 1110.06 190.556 1110.94 L190.556 1093.58 Z\" fill=\"#000000\" fill-rule=\"evenodd\" fill-opacity=\"1\" /><path clip-path=\"url(#clip830)\" d=\"M 0 0 M144.329 820.03 L162.686 820.03 L162.686 823.965 L148.612 823.965 L148.612 832.437 Q149.63 832.09 150.649 831.928 Q151.667 831.743 152.686 831.743 Q158.473 831.743 161.852 834.914 Q165.232 838.085 165.232 843.502 Q165.232 849.081 161.76 852.183 Q158.288 855.261 151.968 855.261 Q149.792 855.261 147.524 854.891 Q145.279 854.52 142.871 853.78 L142.871 849.081 Q144.954 850.215 147.177 850.771 Q149.399 851.326 151.876 851.326 Q155.88 851.326 158.218 849.22 Q160.556 847.113 160.556 843.502 Q160.556 839.891 158.218 837.784 Q155.88 835.678 151.876 835.678 Q150.001 835.678 148.126 836.095 Q146.274 836.511 144.329 837.391 L144.329 820.03 Z\" fill=\"#000000\" fill-rule=\"evenodd\" fill-opacity=\"1\" /><path clip-path=\"url(#clip830)\" d=\"M 0 0 M174.445 848.71 L179.329 848.71 L179.329 854.59 L174.445 854.59 L174.445 848.71 Z\" fill=\"#000000\" fill-rule=\"evenodd\" fill-opacity=\"1\" /><path clip-path=\"url(#clip830)\" d=\"M 0 0 M199.514 823.109 Q195.903 823.109 194.075 826.673 Q192.269 830.215 192.269 837.345 Q192.269 844.451 194.075 848.016 Q195.903 851.558 199.514 851.558 Q203.149 851.558 204.954 848.016 Q206.783 844.451 206.783 837.345 Q206.783 830.215 204.954 826.673 Q203.149 823.109 199.514 823.109 M199.514 819.405 Q205.324 819.405 208.38 824.011 Q211.459 828.595 211.459 837.345 Q211.459 846.071 208.38 850.678 Q205.324 855.261 199.514 855.261 Q193.704 855.261 190.625 850.678 Q187.57 846.071 187.57 837.345 Q187.57 828.595 190.625 824.011 Q193.704 819.405 199.514 819.405 Z\" fill=\"#000000\" fill-rule=\"evenodd\" fill-opacity=\"1\" /><path clip-path=\"url(#clip830)\" d=\"M 0 0 M144.098 546.481 L166.32 546.481 L166.32 548.472 L153.774 581.041 L148.89 581.041 L160.695 550.416 L144.098 550.416 L144.098 546.481 Z\" fill=\"#000000\" fill-rule=\"evenodd\" fill-opacity=\"1\" /><path clip-path=\"url(#clip830)\" d=\"M 0 0 M175.44 575.162 L180.325 575.162 L180.325 581.041 L175.44 581.041 L175.44 575.162 Z\" fill=\"#000000\" fill-rule=\"evenodd\" fill-opacity=\"1\" /><path clip-path=\"url(#clip830)\" d=\"M 0 0 M190.556 546.481 L208.912 546.481 L208.912 550.416 L194.838 550.416 L194.838 558.889 Q195.857 558.541 196.875 558.379 Q197.894 558.194 198.912 558.194 Q204.699 558.194 208.079 561.365 Q211.459 564.537 211.459 569.953 Q211.459 575.532 207.987 578.634 Q204.514 581.713 198.195 581.713 Q196.019 581.713 193.75 581.342 Q191.505 580.972 189.098 580.231 L189.098 575.532 Q191.181 576.666 193.403 577.222 Q195.625 577.777 198.102 577.777 Q202.107 577.777 204.445 575.671 Q206.783 573.564 206.783 569.953 Q206.783 566.342 204.445 564.236 Q202.107 562.129 198.102 562.129 Q196.227 562.129 194.352 562.546 Q192.5 562.963 190.556 563.842 L190.556 546.481 Z\" fill=\"#000000\" fill-rule=\"evenodd\" fill-opacity=\"1\" /><path clip-path=\"url(#clip830)\" d=\"M 0 0 M114.931 303.558 L122.57 303.558 L122.57 277.192 L114.26 278.859 L114.26 274.599 L122.524 272.933 L127.2 272.933 L127.2 303.558 L134.839 303.558 L134.839 307.493 L114.931 307.493 L114.931 303.558 Z\" fill=\"#000000\" fill-rule=\"evenodd\" fill-opacity=\"1\" /><path clip-path=\"url(#clip830)\" d=\"M 0 0 M154.283 276.011 Q150.672 276.011 148.843 279.576 Q147.038 283.118 147.038 290.247 Q147.038 297.354 148.843 300.919 Q150.672 304.46 154.283 304.46 Q157.917 304.46 159.723 300.919 Q161.552 297.354 161.552 290.247 Q161.552 283.118 159.723 279.576 Q157.917 276.011 154.283 276.011 M154.283 272.308 Q160.093 272.308 163.149 276.914 Q166.227 281.497 166.227 290.247 Q166.227 298.974 163.149 303.581 Q160.093 308.164 154.283 308.164 Q148.473 308.164 145.394 303.581 Q142.339 298.974 142.339 290.247 Q142.339 281.497 145.394 276.914 Q148.473 272.308 154.283 272.308 Z\" fill=\"#000000\" fill-rule=\"evenodd\" fill-opacity=\"1\" /><path clip-path=\"url(#clip830)\" d=\"M 0 0 M174.445 301.613 L179.329 301.613 L179.329 307.493 L174.445 307.493 L174.445 301.613 Z\" fill=\"#000000\" fill-rule=\"evenodd\" fill-opacity=\"1\" /><path clip-path=\"url(#clip830)\" d=\"M 0 0 M199.514 276.011 Q195.903 276.011 194.075 279.576 Q192.269 283.118 192.269 290.247 Q192.269 297.354 194.075 300.919 Q195.903 304.46 199.514 304.46 Q203.149 304.46 204.954 300.919 Q206.783 297.354 206.783 290.247 Q206.783 283.118 204.954 279.576 Q203.149 276.011 199.514 276.011 M199.514 272.308 Q205.324 272.308 208.38 276.914 Q211.459 281.497 211.459 290.247 Q211.459 298.974 208.38 303.581 Q205.324 308.164 199.514 308.164 Q193.704 308.164 190.625 303.581 Q187.57 298.974 187.57 290.247 Q187.57 281.497 190.625 276.914 Q193.704 272.308 199.514 272.308 Z\" fill=\"#000000\" fill-rule=\"evenodd\" fill-opacity=\"1\" /><path clip-path=\"url(#clip830)\" d=\"M 0 0 M45.7664 725.138 Q39.4007 725.138 35.8996 727.78 Q32.3984 730.39 32.3984 735.132 Q32.3984 739.843 35.8996 742.485 Q39.4007 745.095 45.7664 745.095 Q52.1003 745.095 55.6014 742.485 Q59.1026 739.843 59.1026 735.132 Q59.1026 730.39 55.6014 727.78 Q52.1003 725.138 45.7664 725.138 M59.58 719.282 Q68.683 719.282 73.1071 723.324 Q77.5631 727.366 77.5631 735.705 Q77.5631 738.793 77.0857 741.53 Q76.6401 744.267 75.6852 746.845 L69.9879 746.845 Q71.3884 744.267 72.0568 741.753 Q72.7252 739.238 72.7252 736.628 Q72.7252 730.867 69.7015 728.003 Q66.7096 725.138 60.6303 725.138 L57.7339 725.138 Q60.885 726.952 62.4446 729.785 Q64.0042 732.618 64.0042 736.565 Q64.0042 743.121 59.0071 747.132 Q54.01 751.142 45.7664 751.142 Q37.491 751.142 32.4939 747.132 Q27.4968 743.121 27.4968 736.565 Q27.4968 732.618 29.0564 729.785 Q30.616 726.952 33.7671 725.138 L28.3562 725.138 L28.3562 719.282 L59.58 719.282 Z\" fill=\"#000000\" fill-rule=\"evenodd\" fill-opacity=\"1\" /><polyline clip-path=\"url(#clip832)\" style=\"stroke:#009af9; stroke-width:4; stroke-opacity:1; fill:none\" points=\"\n",
       "  307.043,1056.57 969.086,1132.21 1631.13,1212.81 2293.17,86.1857 \n",
       "  \"/>\n",
       "<polyline clip-path=\"url(#clip832)\" style=\"stroke:#e26f46; stroke-width:4; stroke-opacity:1; fill:none\" points=\"\n",
       "  307.043,460.739 969.086,1097.72 1631.13,1258.03 2293.17,1384.24 \n",
       "  \"/>\n",
       "<polyline clip-path=\"url(#clip832)\" style=\"stroke:#3da44d; stroke-width:4; stroke-opacity:1; fill:none\" points=\"\n",
       "  307.043,546.306 969.086,924.039 1631.13,1070.03 2293.17,1034.98 \n",
       "  \"/>\n",
       "<polyline clip-path=\"url(#clip832)\" style=\"stroke:#c271d2; stroke-width:4; stroke-opacity:1; fill:none\" points=\"\n",
       "  307.043,1291.84 969.086,843.67 1631.13,1139.11 2293.17,1143.75 \n",
       "  \"/>\n",
       "<path clip-path=\"url(#clip830)\" d=\"\n",
       "M1994.51 395.509 L2282.58 395.509 L2282.58 93.1086 L1994.51 93.1086  Z\n",
       "  \" fill=\"#ffffff\" fill-rule=\"evenodd\" fill-opacity=\"1\"/>\n",
       "<polyline clip-path=\"url(#clip830)\" style=\"stroke:#000000; stroke-width:4; stroke-opacity:1; fill:none\" points=\"\n",
       "  1994.51,395.509 2282.58,395.509 2282.58,93.1086 1994.51,93.1086 1994.51,395.509 \n",
       "  \"/>\n",
       "<polyline clip-path=\"url(#clip830)\" style=\"stroke:#009af9; stroke-width:4; stroke-opacity:1; fill:none\" points=\"\n",
       "  2017.91,153.589 2158.26,153.589 \n",
       "  \"/>\n",
       "<path clip-path=\"url(#clip830)\" d=\"M 0 0 M2195.49 173.276 Q2193.69 177.906 2191.98 179.318 Q2190.26 180.73 2187.39 180.73 L2183.99 180.73 L2183.99 177.165 L2186.49 177.165 Q2188.25 177.165 2189.22 176.332 Q2190.19 175.498 2191.37 172.396 L2192.14 170.452 L2181.65 144.943 L2186.17 144.943 L2194.27 165.221 L2202.37 144.943 L2206.88 144.943 L2195.49 173.276 Z\" fill=\"#000000\" fill-rule=\"evenodd\" fill-opacity=\"1\" /><path clip-path=\"url(#clip830)\" d=\"M 0 0 M2214.17 166.933 L2221.81 166.933 L2221.81 140.568 L2213.5 142.235 L2213.5 137.975 L2221.77 136.309 L2226.44 136.309 L2226.44 166.933 L2234.08 166.933 L2234.08 170.869 L2214.17 170.869 L2214.17 166.933 Z\" fill=\"#000000\" fill-rule=\"evenodd\" fill-opacity=\"1\" /><polyline clip-path=\"url(#clip830)\" style=\"stroke:#e26f46; stroke-width:4; stroke-opacity:1; fill:none\" points=\"\n",
       "  2017.91,214.069 2158.26,214.069 \n",
       "  \"/>\n",
       "<path clip-path=\"url(#clip830)\" d=\"M 0 0 M2195.49 233.756 Q2193.69 238.386 2191.98 239.798 Q2190.26 241.21 2187.39 241.21 L2183.99 241.21 L2183.99 237.645 L2186.49 237.645 Q2188.25 237.645 2189.22 236.812 Q2190.19 235.978 2191.37 232.876 L2192.14 230.932 L2181.65 205.423 L2186.17 205.423 L2194.27 225.701 L2202.37 205.423 L2206.88 205.423 L2195.49 233.756 Z\" fill=\"#000000\" fill-rule=\"evenodd\" fill-opacity=\"1\" /><path clip-path=\"url(#clip830)\" d=\"M 0 0 M2217.39 227.413 L2233.71 227.413 L2233.71 231.349 L2211.77 231.349 L2211.77 227.413 Q2214.43 224.659 2219.01 220.029 Q2223.62 215.376 2224.8 214.034 Q2227.04 211.511 2227.92 209.775 Q2228.83 208.015 2228.83 206.326 Q2228.83 203.571 2226.88 201.835 Q2224.96 200.099 2221.86 200.099 Q2219.66 200.099 2217.21 200.863 Q2214.78 201.627 2212 203.177 L2212 198.455 Q2214.82 197.321 2217.28 196.742 Q2219.73 196.164 2221.77 196.164 Q2227.14 196.164 2230.33 198.849 Q2233.53 201.534 2233.53 206.025 Q2233.53 208.154 2232.72 210.076 Q2231.93 211.974 2229.82 214.566 Q2229.24 215.238 2226.14 218.455 Q2223.04 221.65 2217.39 227.413 Z\" fill=\"#000000\" fill-rule=\"evenodd\" fill-opacity=\"1\" /><polyline clip-path=\"url(#clip830)\" style=\"stroke:#3da44d; stroke-width:4; stroke-opacity:1; fill:none\" points=\"\n",
       "  2017.91,274.549 2158.26,274.549 \n",
       "  \"/>\n",
       "<path clip-path=\"url(#clip830)\" d=\"M 0 0 M2195.49 294.236 Q2193.69 298.866 2191.98 300.278 Q2190.26 301.69 2187.39 301.69 L2183.99 301.69 L2183.99 298.125 L2186.49 298.125 Q2188.25 298.125 2189.22 297.292 Q2190.19 296.458 2191.37 293.356 L2192.14 291.412 L2181.65 265.903 L2186.17 265.903 L2194.27 286.181 L2202.37 265.903 L2206.88 265.903 L2195.49 294.236 Z\" fill=\"#000000\" fill-rule=\"evenodd\" fill-opacity=\"1\" /><path clip-path=\"url(#clip830)\" d=\"M 0 0 M2227.53 273.194 Q2230.89 273.912 2232.76 276.181 Q2234.66 278.449 2234.66 281.782 Q2234.66 286.898 2231.14 289.699 Q2227.62 292.5 2221.14 292.5 Q2218.97 292.5 2216.65 292.06 Q2214.36 291.643 2211.91 290.787 L2211.91 286.273 Q2213.85 287.407 2216.17 287.986 Q2218.48 288.565 2221 288.565 Q2225.4 288.565 2227.69 286.829 Q2230.01 285.093 2230.01 281.782 Q2230.01 278.727 2227.86 277.014 Q2225.73 275.278 2221.91 275.278 L2217.88 275.278 L2217.88 271.435 L2222.09 271.435 Q2225.54 271.435 2227.37 270.069 Q2229.2 268.681 2229.2 266.088 Q2229.2 263.426 2227.3 262.014 Q2225.42 260.579 2221.91 260.579 Q2219.98 260.579 2217.79 260.995 Q2215.59 261.412 2212.95 262.292 L2212.95 258.125 Q2215.61 257.384 2217.92 257.014 Q2220.26 256.644 2222.32 256.644 Q2227.65 256.644 2230.75 259.074 Q2233.85 261.482 2233.85 265.602 Q2233.85 268.472 2232.21 270.463 Q2230.56 272.431 2227.53 273.194 Z\" fill=\"#000000\" fill-rule=\"evenodd\" fill-opacity=\"1\" /><polyline clip-path=\"url(#clip830)\" style=\"stroke:#c271d2; stroke-width:4; stroke-opacity:1; fill:none\" points=\"\n",
       "  2017.91,335.029 2158.26,335.029 \n",
       "  \"/>\n",
       "<path clip-path=\"url(#clip830)\" d=\"M 0 0 M2195.49 354.716 Q2193.69 359.346 2191.98 360.758 Q2190.26 362.17 2187.39 362.17 L2183.99 362.17 L2183.99 358.605 L2186.49 358.605 Q2188.25 358.605 2189.22 357.772 Q2190.19 356.938 2191.37 353.836 L2192.14 351.892 L2181.65 326.383 L2186.17 326.383 L2194.27 346.661 L2202.37 326.383 L2206.88 326.383 L2195.49 354.716 Z\" fill=\"#000000\" fill-rule=\"evenodd\" fill-opacity=\"1\" /><path clip-path=\"url(#clip830)\" d=\"M 0 0 M2226.21 321.823 L2214.41 340.272 L2226.21 340.272 L2226.21 321.823 M2224.98 317.749 L2230.86 317.749 L2230.86 340.272 L2235.79 340.272 L2235.79 344.161 L2230.86 344.161 L2230.86 352.309 L2226.21 352.309 L2226.21 344.161 L2210.61 344.161 L2210.61 339.647 L2224.98 317.749 Z\" fill=\"#000000\" fill-rule=\"evenodd\" fill-opacity=\"1\" /></svg>\n"
      ]
     },
     "execution_count": 45,
     "metadata": {},
     "output_type": "execute_result"
    }
   ],
   "source": [
    "plot(g_vals')\n",
    "xlabel!(\"Timestep\")\n",
    "ylabel!(\"g\")"
   ]
  },
  {
   "cell_type": "code",
   "execution_count": 46,
   "id": "eastern-liver",
   "metadata": {},
   "outputs": [
    {
     "name": "stdout",
     "output_type": "stream",
     "text": [
      "norm(KKT) = 8.44433344487395e-9\n",
      "sum(abs.(KKT) .> TOL) = 0\n"
     ]
    }
   ],
   "source": [
    "x = flatten_variables_dyn(dmin);\n",
    "KKT = kkt_dyn(x, dnet, d_dyn);\n",
    "TOL=1e-6;\n",
    "\n",
    "@show norm(KKT)\n",
    "@show sum(abs.(KKT).>TOL);"
   ]
  },
  {
   "cell_type": "markdown",
   "id": "involved-outdoors",
   "metadata": {},
   "source": [
    "----"
   ]
  },
  {
   "cell_type": "markdown",
   "id": "through-sword",
   "metadata": {},
   "source": [
    "# Computing the KKTs and the Jacobian"
   ]
  },
  {
   "cell_type": "markdown",
   "id": "durable-qualification",
   "metadata": {},
   "source": [
    "## Figuring out the order of constraints/variables"
   ]
  },
  {
   "cell_type": "markdown",
   "id": "measured-samoa",
   "metadata": {},
   "source": [
    "We need to make sure we **know** the order of variables and of the different constraints if we want to have full control on the differentiation"
   ]
  },
  {
   "cell_type": "markdown",
   "id": "freelance-ottawa",
   "metadata": {},
   "source": [
    "Concretely -- we need to code dynamic equivalent of the flatten & unflatten functions. "
   ]
  },
  {
   "cell_type": "markdown",
   "id": "approved-character",
   "metadata": {},
   "source": [
    "`dmin` is a `PowerManagementProblem` object, that contains the primal variables. Therefore, retrieving them in the right order is relatively easy. However, figuring out the ordering of the constraints seems more difficult, as the problem is build sequentially. "
   ]
  },
  {
   "cell_type": "markdown",
   "id": "absolute-selection",
   "metadata": {},
   "source": [
    "We can probably build also a sequential version of the flatten/unflatten variables."
   ]
  },
  {
   "cell_type": "markdown",
   "id": "bound-doctrine",
   "metadata": {},
   "source": [
    "How many constraints are we supposed to have? \n",
    "- 5 for the static problem for each timestep\n",
    "- 4 for the dynamic problem at each timestep\n",
    "\n",
    "That is 9 per timestep. \n",
    "\n",
    "We have 5 timesteps --> 45"
   ]
  },
  {
   "cell_type": "markdown",
   "id": "emotional-corner",
   "metadata": {},
   "source": [
    "So that makes sense\n"
   ]
  },
  {
   "cell_type": "markdown",
   "id": "potential-sleep",
   "metadata": {},
   "source": [
    "Now, what is their structure. I believe that we first construct the constraints subproblem per sub problem, and then add the storage constraints. So we should have: \n",
    "- 5 x 5 constraints (static)\n",
    "- 4 x 5 constraints (storage)"
   ]
  },
  {
   "cell_type": "code",
   "execution_count": 47,
   "id": "stunning-somerset",
   "metadata": {},
   "outputs": [],
   "source": [
    "x = flatten_variables_dyn(dmin);"
   ]
  },
  {
   "cell_type": "code",
   "execution_count": 48,
   "id": "irish-edition",
   "metadata": {},
   "outputs": [],
   "source": [
    "g, p, s, λpl, λpu, λgl, λgu, ν, λdsl, λdsu, λsl, λsu = unflatten_variables_dyn(x, n, m, l, T);"
   ]
  },
  {
   "cell_type": "code",
   "execution_count": 49,
   "id": "celtic-hamilton",
   "metadata": {},
   "outputs": [
    {
     "name": "stdout",
     "output_type": "stream",
     "text": [
      "norm(KKT) = 8.44433344487395e-9\n",
      "sum(abs.(KKT) .> TOL) = 0\n"
     ]
    }
   ],
   "source": [
    "KKT = kkt_dyn(x, dnet, d_dyn);\n",
    "\n",
    "TOL=1e-6;\n",
    "\n",
    "@show norm(KKT)\n",
    "\n",
    "@show sum(abs.(KKT).>TOL);"
   ]
  },
  {
   "cell_type": "markdown",
   "id": "premium-lesson",
   "metadata": {},
   "source": [
    "### Looking for indices where `KKT \\neq 0`"
   ]
  },
  {
   "cell_type": "code",
   "execution_count": 50,
   "id": "hearing-contribution",
   "metadata": {},
   "outputs": [],
   "source": [
    "static_length = 3l + 3m + n\n",
    "storage_length = 5n;"
   ]
  },
  {
   "cell_type": "code",
   "execution_count": 51,
   "id": "phantom-eagle",
   "metadata": {},
   "outputs": [
    {
     "name": "stdout",
     "output_type": "stream",
     "text": [
      "(t, sum(abs.(KKT[start_stat + 1:start_stat + static_length]) .> TOL)) = (1, 0)\n",
      "(t, sum(abs.(KKT[start_stat + 1:start_stat + static_length]) .> TOL)) = (2, 0)\n",
      "(t, sum(abs.(KKT[start_stat + 1:start_stat + static_length]) .> TOL)) = (3, 0)\n",
      "(t, sum(abs.(KKT[start_stat + 1:start_stat + static_length]) .> TOL)) = (4, 0)\n"
     ]
    }
   ],
   "source": [
    "# static\n",
    "for t in 1:T\n",
    "    start_stat = (t-1) * static_length\n",
    "    @show t, sum(abs.(KKT[start_stat+1:start_stat + static_length]).> TOL)\n",
    "end"
   ]
  },
  {
   "cell_type": "code",
   "execution_count": 52,
   "id": "significant-swing",
   "metadata": {},
   "outputs": [
    {
     "name": "stdout",
     "output_type": "stream",
     "text": [
      "(t, sum(abs.(KKT[start_stor + 1:start_stor + storage_length]) .> TOL)) = (1, 0)\n",
      "(t, sum(abs.(KKT[start_stor + 1:start_stor + storage_length]) .> TOL)) = (2, 0)\n",
      "(t, sum(abs.(KKT[start_stor + 1:start_stor + storage_length]) .> TOL)) = (3, 0)\n",
      "(t, sum(abs.(KKT[start_stor + 1:start_stor + storage_length]) .> TOL)) = (4, 0)\n"
     ]
    }
   ],
   "source": [
    "# storage\n",
    "for t in 1:T\n",
    "    start_stor = T*static_length + (t-1) * storage_length\n",
    "    @show t, sum(abs.(KKT[start_stor+1:start_stor + storage_length]).> TOL)\n",
    "end"
   ]
  },
  {
   "cell_type": "code",
   "execution_count": 53,
   "id": "stretch-sullivan",
   "metadata": {},
   "outputs": [
    {
     "name": "stdout",
     "output_type": "stream",
     "text": [
      "(k, norm(KKT_st[(k - 1) * n + 1:k * n])) = (1, 4.986682538301241e-11)\n",
      "(k, norm(KKT_st[(k - 1) * n + 1:k * n])) = (2, 1.6088618814338815e-9)\n",
      "(k, norm(KKT_st[(k - 1) * n + 1:k * n])) = (3, 1.5984419623023468e-9)\n",
      "(k, norm(KKT_st[(k - 1) * n + 1:k * n])) = (4, 1.6000491424102264e-9)\n",
      "(k, norm(KKT_st[(k - 1) * n + 1:k * n])) = (5, 1.6057642615517532e-9)\n"
     ]
    }
   ],
   "source": [
    "t = 2\n",
    "start_stor = T*static_length + (t-1) * storage_length\n",
    "KKT_st = KKT[start_stor+1:start_stor + storage_length]\n",
    "for k in 1:5\n",
    "    @show k, norm(KKT_st[(k-1)*n+1:k*n])\n",
    "end\n"
   ]
  },
  {
   "cell_type": "markdown",
   "id": "latin-march",
   "metadata": {},
   "source": [
    "## Test current functions"
   ]
  },
  {
   "cell_type": "markdown",
   "id": "lasting-motorcycle",
   "metadata": {},
   "source": [
    "Here below are a few tests for the flatten/unflatten functions"
   ]
  },
  {
   "cell_type": "code",
   "execution_count": 54,
   "id": "fourth-title",
   "metadata": {},
   "outputs": [],
   "source": [
    "x = flatten_variables_dyn(dmin);"
   ]
  },
  {
   "cell_type": "code",
   "execution_count": 55,
   "id": "legendary-retro",
   "metadata": {},
   "outputs": [],
   "source": [
    "g, p, s, λpl, λpu, λgl, λgu, ν, λdsl, λdsu, λsl, λsu = unflatten_variables_dyn(x, n, m, l, T);"
   ]
  },
  {
   "cell_type": "markdown",
   "id": "collaborative-uruguay",
   "metadata": {},
   "source": [
    "### Primal variables extracted properly?"
   ]
  },
  {
   "cell_type": "code",
   "execution_count": 56,
   "id": "integral-church",
   "metadata": {},
   "outputs": [],
   "source": [
    "t = 3;"
   ]
  },
  {
   "cell_type": "code",
   "execution_count": 57,
   "id": "liked-science",
   "metadata": {},
   "outputs": [
    {
     "name": "stdout",
     "output_type": "stream",
     "text": [
      "norm(g[t] - (dmin.g[t]).value) = 0.0\n",
      "norm(p[t] - (dmin.p[t]).value) = 0.0\n",
      "norm(s[t] - (dmin.s[t]).value) = 0.0\n"
     ]
    }
   ],
   "source": [
    "@show norm(g[t] - dmin.g[t].value)\n",
    "@show norm(p[t] - dmin.p[t].value)\n",
    "@show norm(s[t] - dmin.s[t].value);\n",
    "    "
   ]
  },
  {
   "cell_type": "markdown",
   "id": "compliant-belief",
   "metadata": {},
   "source": [
    "### Dual variables extracted properly?"
   ]
  },
  {
   "cell_type": "code",
   "execution_count": 58,
   "id": "derived-employee",
   "metadata": {},
   "outputs": [
    {
     "name": "stdout",
     "output_type": "stream",
     "text": [
      "norm(λpl[t] - (dmin.problem.constraints[start_index + 1]).dual) = 0.0\n",
      "norm(λpu[t] - (dmin.problem.constraints[start_index + 2]).dual) = 0.0\n",
      "norm(λgl[t] - (dmin.problem.constraints[start_index + 3]).dual) = 0.0\n",
      "norm(λgu[t] - (dmin.problem.constraints[start_index + 4]).dual) = 0.0\n",
      "norm(ν[t] - (dmin.problem.constraints[start_index + 5]).dual) = 0.0\n",
      "norm(λsl[t] - (dmin.problem.constraints[start_index + 1]).dual) = 5.090634524973369e-7\n",
      "norm(λsu[t] - (dmin.problem.constraints[start_index + 2]).dual) = 8.699631097740574e-10\n",
      "norm(λdsu[t] - (dmin.problem.constraints[start_index + 3]).dual) = 4.223415404619995e-9\n",
      "norm(λdsl[t] - (dmin.problem.constraints[start_index + 4]).dual) = 1.6744361924506204e-9\n"
     ]
    }
   ],
   "source": [
    "n_constraints_static = 5\n",
    "start_index = (t-1)*n_constraints_static\n",
    "\n",
    "@show norm(λpl[t] - dmin.problem.constraints[start_index+1].dual)\n",
    "@show norm(λpu[t] - dmin.problem.constraints[start_index+2].dual)\n",
    "@show norm(λgl[t] - dmin.problem.constraints[start_index+3].dual)\n",
    "@show norm(λgu[t] - dmin.problem.constraints[start_index+4].dual)\n",
    "@show norm(ν[t] - dmin.problem.constraints[start_index+5].dual)\n",
    "\n",
    "start_index = T*n_constraints_static\n",
    "@show norm(λsl[t] - dmin.problem.constraints[start_index+1].dual)\n",
    "@show norm(λsu[t] - dmin.problem.constraints[start_index+2].dual)\n",
    "@show norm(λdsu[t] - dmin.problem.constraints[start_index+3].dual)\n",
    "@show norm(λdsl[t] - dmin.problem.constraints[start_index+4].dual);"
   ]
  },
  {
   "cell_type": "markdown",
   "id": "fatty-retention",
   "metadata": {},
   "source": [
    "# Sensitivity demand checks"
   ]
  },
  {
   "cell_type": "markdown",
   "id": "amateur-combat",
   "metadata": {},
   "source": [
    "Here we basically test the sensitivity to demand routine. We solve the problem with some linear costs (for which the gradient $\\nabla C$ is very easy to compute). "
   ]
  },
  {
   "cell_type": "markdown",
   "id": "adequate-forest",
   "metadata": {},
   "source": [
    "## One timestep - no storage capacity"
   ]
  },
  {
   "cell_type": "markdown",
   "id": "handy-corps",
   "metadata": {},
   "source": [
    "In this case, there is no storage capacity, so it should behave exactly the same as a static network."
   ]
  },
  {
   "cell_type": "code",
   "execution_count": 59,
   "id": "regulation-circus",
   "metadata": {},
   "outputs": [],
   "source": [
    "T = 1\n",
    "\n",
    "# cq_dyn = [cq for _ in 1:T]\n",
    "cq_dyn = [zeros(l) for _ in 1:T]\n",
    "cl_dyn = [cl for _ in 1:T]\n",
    "pmax_dyn = [pmax for _ in 1:T]\n",
    "gmax_dyn = [gmax for _ in 1:T]\n",
    "d_dyn = Tuple(d for _ in 1:T)\n",
    "\n",
    "P = rand(Exponential(2), n)\n",
    "# C = rand(Exponential(2), n)\n",
    "C = zeros(n)\n",
    ";"
   ]
  },
  {
   "cell_type": "code",
   "execution_count": 60,
   "id": "italic-acceptance",
   "metadata": {},
   "outputs": [],
   "source": [
    "dnet = DynamicPowerNetwork(\n",
    "    cq_dyn, cl_dyn, pmax_dyn, gmax_dyn, A, B, P, C\n",
    ")\n",
    "dmin = DynamicPowerManagementProblem(dnet, d_dyn);"
   ]
  },
  {
   "cell_type": "code",
   "execution_count": 61,
   "id": "opening-stranger",
   "metadata": {},
   "outputs": [],
   "source": [
    "solve!(dmin, OPT, verbose=true);"
   ]
  },
  {
   "cell_type": "code",
   "execution_count": 62,
   "id": "equipped-office",
   "metadata": {},
   "outputs": [],
   "source": [
    "x = flatten_variables_dyn(dmin);"
   ]
  },
  {
   "cell_type": "code",
   "execution_count": 63,
   "id": "hourly-fashion",
   "metadata": {},
   "outputs": [
    {
     "name": "stdout",
     "output_type": "stream",
     "text": [
      "norm(KKT) = 7.1172537432715474e-9\n",
      "sum(abs.(KKT) .> TOL) = 0\n"
     ]
    }
   ],
   "source": [
    "KKT = kkt_dyn(x, dnet, d_dyn);\n",
    "\n",
    "TOL=1e-6;\n",
    "\n",
    "@show norm(KKT);\n",
    "\n",
    "@show sum(abs.(KKT).>TOL);"
   ]
  },
  {
   "cell_type": "markdown",
   "id": "other-surfing",
   "metadata": {},
   "source": [
    "### Comparing static vs dynamic mefs"
   ]
  },
  {
   "cell_type": "code",
   "execution_count": 64,
   "id": "measured-fence",
   "metadata": {},
   "outputs": [
    {
     "data": {
      "text/plain": [
       "1"
      ]
     },
     "execution_count": 64,
     "metadata": {},
     "output_type": "execute_result"
    }
   ],
   "source": [
    "# timestep for which we want to compute the MEFS\n",
    "t = 1"
   ]
  },
  {
   "cell_type": "code",
   "execution_count": 65,
   "id": "right-operator",
   "metadata": {},
   "outputs": [],
   "source": [
    "static_length = 3l+3m+n;"
   ]
  },
  {
   "cell_type": "code",
   "execution_count": 66,
   "id": "numerical-breast",
   "metadata": {},
   "outputs": [],
   "source": [
    "idx = (t-1)*static_length;\n",
    "∇C = zeros(kkt_dims_dyn(n, m, l, T))\n",
    "∇C[idx+1:idx+l] .= cl_dyn[t]\n",
    "# ∇C[1:l] .= cl_dyn[t]\n",
    "mefs_dyn = sensitivity_demand_dyn(dmin, dnet, d_dyn, ∇C, t);"
   ]
  },
  {
   "cell_type": "code",
   "execution_count": 67,
   "id": "accepting-feedback",
   "metadata": {},
   "outputs": [
    {
     "name": "stdout",
     "output_type": "stream",
     "text": [
      "norm(mefs - mefs_dyn) = 0.0\n"
     ]
    },
    {
     "data": {
      "text/plain": [
       "0.0"
      ]
     },
     "execution_count": 67,
     "metadata": {},
     "output_type": "execute_result"
    }
   ],
   "source": [
    "# solution with static network\n",
    "∇C = zeros(kkt_dims(n, m, l))\n",
    "∇C[1:l] .= cl_dyn[t]\n",
    "\n",
    "cnet = PowerNetwork(cq_dyn[t], cl_dyn[t], pmax_dyn[t], gmax_dyn[t], A, B);\n",
    "carbon_min = PowerManagementProblem(cnet, d_dyn[t])\n",
    "solve!(carbon_min, OPT, verbose=true);\n",
    "\n",
    "mefs = sensitivity_demand(carbon_min, ∇C, cnet, d_dyn[t]);\n",
    "\n",
    "@show norm(mefs - mefs_dyn)"
   ]
  },
  {
   "cell_type": "markdown",
   "id": "double-bread",
   "metadata": {},
   "source": [
    "### Comparing with dual variables"
   ]
  },
  {
   "cell_type": "markdown",
   "id": "fabulous-pride",
   "metadata": {},
   "source": [
    "The dual variables $\\nu$ are the ones associated with the continuity equation -- therefore they are the ones telling us about the sensitivity of the problem to demand when the objective is appropriately defined. "
   ]
  },
  {
   "cell_type": "code",
   "execution_count": 68,
   "id": "least-favor",
   "metadata": {},
   "outputs": [],
   "source": [
    "g, p, s, λpl, λpu, λgl, λgu, ν, λdsl, λdsu, λsl, λsu = unflatten_variables_dyn(\n",
    "    flatten_variables_dyn(dmin), n, m, l, T\n",
    ");"
   ]
  },
  {
   "cell_type": "code",
   "execution_count": 69,
   "id": "corresponding-mineral",
   "metadata": {},
   "outputs": [
    {
     "name": "stdout",
     "output_type": "stream",
     "text": [
      "norm(ν[1] - mefs_dyn) = 6.463850088395575e-10\n"
     ]
    },
    {
     "data": {
      "text/plain": [
       "6.463850088395575e-10"
      ]
     },
     "execution_count": 69,
     "metadata": {},
     "output_type": "execute_result"
    }
   ],
   "source": [
    "@show norm(ν[1]-mefs_dyn)"
   ]
  },
  {
   "cell_type": "code",
   "execution_count": 70,
   "id": "partial-accent",
   "metadata": {},
   "outputs": [
    {
     "name": "stdout",
     "output_type": "stream",
     "text": [
      "norm(ν[1] - mefs) = 6.463850088395575e-10\n"
     ]
    },
    {
     "data": {
      "text/plain": [
       "6.463850088395575e-10"
      ]
     },
     "execution_count": 70,
     "metadata": {},
     "output_type": "execute_result"
    }
   ],
   "source": [
    "@show norm(ν[1]-mefs)"
   ]
  },
  {
   "cell_type": "markdown",
   "id": "reasonable-present",
   "metadata": {},
   "source": [
    "### Comparing solutions"
   ]
  },
  {
   "cell_type": "code",
   "execution_count": 71,
   "id": "broken-drunk",
   "metadata": {},
   "outputs": [
    {
     "name": "stdout",
     "output_type": "stream",
     "text": [
      "norm((dmin.g[t]).value - carbon_min.g.value) = 5.6843289338628465e-9\n"
     ]
    },
    {
     "data": {
      "text/plain": [
       "5.6843289338628465e-9"
      ]
     },
     "execution_count": 71,
     "metadata": {},
     "output_type": "execute_result"
    }
   ],
   "source": [
    "@show norm(dmin.g[t].value - carbon_min.g.value)"
   ]
  },
  {
   "cell_type": "markdown",
   "id": "potential-intent",
   "metadata": {},
   "source": [
    "## Several timesteps with no storage capacity"
   ]
  },
  {
   "cell_type": "markdown",
   "id": "foster-participant",
   "metadata": {},
   "source": [
    "In this case, still no storage capacity. So we should have `T` independent timesteps, and the sensitivities should be retrieved by computing the sensitivity with a simple static network on the given timestep `t`."
   ]
  },
  {
   "cell_type": "code",
   "execution_count": 72,
   "id": "obvious-gather",
   "metadata": {},
   "outputs": [],
   "source": [
    "T = 5\n",
    "\n",
    "# cq_dyn = [cq for _ in 1:T]\n",
    "cq_dyn = [zeros(l) for _ in 1:T]\n",
    "cl_dyn = [cl for _ in 1:T]\n",
    "pmax_dyn = [pmax for _ in 1:T]\n",
    "gmax_dyn = [gmax for _ in 1:T]\n",
    "d_dyn = [d for _ in 1:T]\n",
    "\n",
    "P = rand(Exponential(2), n)\n",
    "# C = rand(Exponential(2), n)\n",
    "C = zeros(n)\n",
    ";"
   ]
  },
  {
   "cell_type": "code",
   "execution_count": 73,
   "id": "organizational-bronze",
   "metadata": {},
   "outputs": [],
   "source": [
    "dnet = DynamicPowerNetwork(\n",
    "    cq_dyn, cl_dyn, pmax_dyn, gmax_dyn, A, B, P, C\n",
    ")\n",
    "dmin = DynamicPowerManagementProblem(dnet, d_dyn);"
   ]
  },
  {
   "cell_type": "code",
   "execution_count": 74,
   "id": "floating-addiction",
   "metadata": {},
   "outputs": [],
   "source": [
    "solve!(dmin, OPT, verbose=true);"
   ]
  },
  {
   "cell_type": "code",
   "execution_count": 75,
   "id": "undefined-backup",
   "metadata": {},
   "outputs": [],
   "source": [
    "x = flatten_variables_dyn(dmin);"
   ]
  },
  {
   "cell_type": "code",
   "execution_count": 76,
   "id": "renewable-capture",
   "metadata": {},
   "outputs": [],
   "source": [
    "KKT = kkt_dyn(x, dnet, d_dyn);"
   ]
  },
  {
   "cell_type": "code",
   "execution_count": 77,
   "id": "reasonable-original",
   "metadata": {},
   "outputs": [],
   "source": [
    "TOL=1e-6;"
   ]
  },
  {
   "cell_type": "code",
   "execution_count": 78,
   "id": "confident-award",
   "metadata": {},
   "outputs": [
    {
     "name": "stdout",
     "output_type": "stream",
     "text": [
      "norm(KKT) = 1.1680060010716927e-8\n"
     ]
    }
   ],
   "source": [
    "@show norm(KKT);"
   ]
  },
  {
   "cell_type": "code",
   "execution_count": 79,
   "id": "major-mission",
   "metadata": {},
   "outputs": [
    {
     "name": "stdout",
     "output_type": "stream",
     "text": [
      "sum(abs.(KKT) .> TOL) = 0\n"
     ]
    }
   ],
   "source": [
    "@show sum(abs.(KKT).>TOL);"
   ]
  },
  {
   "cell_type": "markdown",
   "id": "available-newspaper",
   "metadata": {},
   "source": [
    "### Comparing static vs dynamic"
   ]
  },
  {
   "cell_type": "code",
   "execution_count": 80,
   "id": "stunning-factor",
   "metadata": {},
   "outputs": [],
   "source": [
    "static_length = 3l+3m+n;"
   ]
  },
  {
   "cell_type": "code",
   "execution_count": 81,
   "id": "strategic-convertible",
   "metadata": {},
   "outputs": [],
   "source": [
    "# timestep for which we want to compute the MEFS\n",
    "t = 3;"
   ]
  },
  {
   "cell_type": "code",
   "execution_count": 82,
   "id": "imported-context",
   "metadata": {},
   "outputs": [],
   "source": [
    "idx = (t-1)*static_length;\n",
    "∇C = zeros(kkt_dims_dyn(n, m, l, T))\n",
    "∇C[idx+1:idx+l] .= cl_dyn[t]\n",
    "# ∇C[1:l] .= cl_dyn[t]\n",
    "mefs_dyn = sensitivity_demand_dyn(dmin, dnet, d_dyn, ∇C, t);"
   ]
  },
  {
   "cell_type": "code",
   "execution_count": 83,
   "id": "elementary-groove",
   "metadata": {},
   "outputs": [
    {
     "name": "stdout",
     "output_type": "stream",
     "text": [
      "norm(mefs - mefs_dyn) = 5.800048903785458e-12\n"
     ]
    },
    {
     "data": {
      "text/plain": [
       "5.800048903785458e-12"
      ]
     },
     "execution_count": 83,
     "metadata": {},
     "output_type": "execute_result"
    }
   ],
   "source": [
    "# solution with static network\n",
    "∇C = zeros(kkt_dims(n, m, l))\n",
    "∇C[1:l] .= cl_dyn[t]\n",
    "\n",
    "cnet = PowerNetwork(cq_dyn[t], cl_dyn[t], pmax_dyn[t], gmax_dyn[t], A, B);\n",
    "carbon_min = PowerManagementProblem(cnet, d_dyn[t])\n",
    "solve!(carbon_min, OPT, verbose=true);\n",
    "\n",
    "mefs = sensitivity_demand(carbon_min, ∇C, cnet, d_dyn[t]);\n",
    "\n",
    "@show norm(mefs - mefs_dyn)"
   ]
  },
  {
   "cell_type": "markdown",
   "id": "turned-sharing",
   "metadata": {},
   "source": [
    "### Comparing with dual variables"
   ]
  },
  {
   "cell_type": "markdown",
   "id": "harmful-treasure",
   "metadata": {},
   "source": [
    "The dual variables $\\nu$ are the ones associated with the continuity equation -- therefore they are the ones telling us about the sensitivity of the problem to demand when the objective is appropriately defined. "
   ]
  },
  {
   "cell_type": "code",
   "execution_count": 84,
   "id": "surprised-collector",
   "metadata": {},
   "outputs": [],
   "source": [
    "g, p, s, λpl, λpu, λgl, λgu, ν, λdsl, λdsu, λsl, λsu = unflatten_variables_dyn(\n",
    "    flatten_variables_dyn(dmin), n, m, l, T\n",
    ");"
   ]
  },
  {
   "cell_type": "code",
   "execution_count": 85,
   "id": "prime-relative",
   "metadata": {},
   "outputs": [
    {
     "name": "stdout",
     "output_type": "stream",
     "text": [
      "norm(ν[t] - mefs_dyn) = 4.5367540310219583e-10\n"
     ]
    },
    {
     "data": {
      "text/plain": [
       "4.5367540310219583e-10"
      ]
     },
     "execution_count": 85,
     "metadata": {},
     "output_type": "execute_result"
    }
   ],
   "source": [
    "@show norm(ν[t]-mefs_dyn)"
   ]
  },
  {
   "cell_type": "code",
   "execution_count": 86,
   "id": "crucial-preliminary",
   "metadata": {},
   "outputs": [
    {
     "name": "stdout",
     "output_type": "stream",
     "text": [
      "norm(ν[t] - mefs) = 4.584829282655481e-10\n"
     ]
    },
    {
     "data": {
      "text/plain": [
       "4.584829282655481e-10"
      ]
     },
     "execution_count": 86,
     "metadata": {},
     "output_type": "execute_result"
    }
   ],
   "source": [
    "@show norm(ν[t]-mefs)"
   ]
  },
  {
   "cell_type": "markdown",
   "id": "assisted-fifty",
   "metadata": {},
   "source": [
    "### With the `compute_mefs` routine\n"
   ]
  },
  {
   "cell_type": "code",
   "execution_count": 87,
   "id": "statistical-anaheim",
   "metadata": {},
   "outputs": [
    {
     "name": "stdout",
     "output_type": "stream",
     "text": [
      "norm(compute_mefs(dmin, dnet, d_dyn, cl_dyn[t], t) - mefs) = 5.800048903785458e-12\n"
     ]
    },
    {
     "data": {
      "text/plain": [
       "5.800048903785458e-12"
      ]
     },
     "execution_count": 87,
     "metadata": {},
     "output_type": "execute_result"
    }
   ],
   "source": [
    "@show norm(compute_mefs(dmin, dnet, d_dyn, cl_dyn[t], t)-mefs)"
   ]
  },
  {
   "cell_type": "markdown",
   "id": "fluid-arena",
   "metadata": {},
   "source": [
    "---"
   ]
  },
  {
   "cell_type": "markdown",
   "id": "sublime-crossing",
   "metadata": {},
   "source": [
    "# Verifying sensitivity computation\n"
   ]
  },
  {
   "cell_type": "markdown",
   "id": "academic-namibia",
   "metadata": {},
   "source": [
    "## Procedure"
   ]
  },
  {
   "cell_type": "markdown",
   "id": "rising-collar",
   "metadata": {},
   "source": [
    "For any parameter $x$, we have\n",
    "$$\n",
    "z^\\star(x+dx) = z^\\star(x) + \\partial_x z^\\star dx.\n",
    "$$\n",
    "\n",
    "Therefore, the procedure for estimating sensitivity will go as follows: \n",
    "- Fix all parameters of the problem\n",
    "- Solve the optimization problem\n",
    "- Compute the Jacobian\n",
    "- Choose a parameter and disturb it slightly (to first order)\n",
    "- Compute the estimate of the new solution according to the above and, in parallel, compute the optimal solution to the new problem \n",
    "- Repeat this for increasing amounts of perturbation\n",
    "\n",
    "At first order (i.e. for small amounts of perturbation), the resulting curve should be close to linear. We want to investigate whether the two obtained curves are close to each other in this linear regime."
   ]
  },
  {
   "cell_type": "markdown",
   "id": "prospective-cholesterol",
   "metadata": {},
   "source": [
    "This definitely can be functionalized, and may be useful in the future. The structure is completely independent of the details of the code. The only \"issue\" revolves around taking the right derivative and propagating the right vector ($dx$). "
   ]
  },
  {
   "cell_type": "markdown",
   "id": "aquatic-bailey",
   "metadata": {},
   "source": [
    "So basically, the code would look like the following"
   ]
  },
  {
   "cell_type": "markdown",
   "id": "deluxe-astronomy",
   "metadata": {},
   "source": [
    "## Implementation"
   ]
  },
  {
   "cell_type": "code",
   "execution_count": 88,
   "id": "foster-journal",
   "metadata": {},
   "outputs": [],
   "source": [
    "T = 2\n",
    "\n",
    "# cq_dyn = [cq for _ in 1:T]\n",
    "cq_dyn = [zeros(l) for _ in 1:T]\n",
    "cl_dyn = [cl for _ in 1:T]\n",
    "pmax_dyn = [pmax for _ in 1:T]\n",
    "gmax_dyn = [gmax for _ in 1:T]\n",
    "d_dyn = [d for _ in 1:T]\n",
    "\n",
    "P = rand(Exponential(2), n)\n",
    "C = rand(Exponential(2), n)\n",
    "# C = zeros(n)\n",
    ";"
   ]
  },
  {
   "cell_type": "code",
   "execution_count": 89,
   "id": "golden-camel",
   "metadata": {},
   "outputs": [],
   "source": [
    "dnet = DynamicPowerNetwork(\n",
    "    cq_dyn, cl_dyn, pmax_dyn, gmax_dyn, A, B, P, C\n",
    ")\n",
    "dmin = DynamicPowerManagementProblem(dnet, d_dyn);"
   ]
  },
  {
   "cell_type": "code",
   "execution_count": 123,
   "id": "handled-liberal",
   "metadata": {},
   "outputs": [
    {
     "data": {
      "text/plain": [
       "4-element Vector{Float64}:\n",
       " 7.443785931348602\n",
       " 4.620117957127964\n",
       " 8.941237544763911\n",
       " 5.874840477709354"
      ]
     },
     "execution_count": 123,
     "metadata": {},
     "output_type": "execute_result"
    }
   ],
   "source": [
    "d_dyn[1]"
   ]
  },
  {
   "cell_type": "code",
   "execution_count": 130,
   "id": "wanted-acquisition",
   "metadata": {},
   "outputs": [
    {
     "name": "stdout",
     "output_type": "stream",
     "text": [
      "∂V∂d = 0.998920793671275\n",
      "∂V∂d = 1.6562057043910314e-19\n",
      "∂V∂d = 5.213328408569151e-38\n",
      "∂V∂d = 2.7609545390467065e-19\n",
      "unit = 1\n"
     ]
    },
    {
     "data": {
      "image/svg+xml": [
       "<?xml version=\"1.0\" encoding=\"utf-8\"?>\n",
       "<svg xmlns=\"http://www.w3.org/2000/svg\" xmlns:xlink=\"http://www.w3.org/1999/xlink\" width=\"600\" height=\"400\" viewBox=\"0 0 2400 1600\">\n",
       "<defs>\n",
       "  <clipPath id=\"clip070\">\n",
       "    <rect x=\"0\" y=\"0\" width=\"2400\" height=\"1600\"/>\n",
       "  </clipPath>\n",
       "</defs>\n",
       "<path clip-path=\"url(#clip070)\" d=\"\n",
       "M0 1600 L2400 1600 L2400 0 L0 0  Z\n",
       "  \" fill=\"#ffffff\" fill-rule=\"evenodd\" fill-opacity=\"1\"/>\n",
       "<defs>\n",
       "  <clipPath id=\"clip071\">\n",
       "    <rect x=\"480\" y=\"0\" width=\"1681\" height=\"1600\"/>\n",
       "  </clipPath>\n",
       "</defs>\n",
       "<path clip-path=\"url(#clip070)\" d=\"\n",
       "M309.102 623.18 L1167.59 623.18 L1167.59 123.472 L309.102 123.472  Z\n",
       "  \" fill=\"#ffffff\" fill-rule=\"evenodd\" fill-opacity=\"1\"/>\n",
       "<defs>\n",
       "  <clipPath id=\"clip072\">\n",
       "    <rect x=\"309\" y=\"123\" width=\"859\" height=\"501\"/>\n",
       "  </clipPath>\n",
       "</defs>\n",
       "<polyline clip-path=\"url(#clip072)\" style=\"stroke:#000000; stroke-width:2; stroke-opacity:0.1; fill:none\" points=\"\n",
       "  333.399,623.18 333.399,123.472 \n",
       "  \"/>\n",
       "<polyline clip-path=\"url(#clip072)\" style=\"stroke:#000000; stroke-width:2; stroke-opacity:0.1; fill:none\" points=\"\n",
       "  535.873,623.18 535.873,123.472 \n",
       "  \"/>\n",
       "<polyline clip-path=\"url(#clip072)\" style=\"stroke:#000000; stroke-width:2; stroke-opacity:0.1; fill:none\" points=\"\n",
       "  738.348,623.18 738.348,123.472 \n",
       "  \"/>\n",
       "<polyline clip-path=\"url(#clip072)\" style=\"stroke:#000000; stroke-width:2; stroke-opacity:0.1; fill:none\" points=\"\n",
       "  940.822,623.18 940.822,123.472 \n",
       "  \"/>\n",
       "<polyline clip-path=\"url(#clip072)\" style=\"stroke:#000000; stroke-width:2; stroke-opacity:0.1; fill:none\" points=\"\n",
       "  1143.3,623.18 1143.3,123.472 \n",
       "  \"/>\n",
       "<polyline clip-path=\"url(#clip070)\" style=\"stroke:#000000; stroke-width:4; stroke-opacity:1; fill:none\" points=\"\n",
       "  309.102,623.18 1167.59,623.18 \n",
       "  \"/>\n",
       "<polyline clip-path=\"url(#clip070)\" style=\"stroke:#000000; stroke-width:4; stroke-opacity:1; fill:none\" points=\"\n",
       "  333.399,623.18 333.399,617.183 \n",
       "  \"/>\n",
       "<polyline clip-path=\"url(#clip070)\" style=\"stroke:#000000; stroke-width:4; stroke-opacity:1; fill:none\" points=\"\n",
       "  535.873,623.18 535.873,617.183 \n",
       "  \"/>\n",
       "<polyline clip-path=\"url(#clip070)\" style=\"stroke:#000000; stroke-width:4; stroke-opacity:1; fill:none\" points=\"\n",
       "  738.348,623.18 738.348,617.183 \n",
       "  \"/>\n",
       "<polyline clip-path=\"url(#clip070)\" style=\"stroke:#000000; stroke-width:4; stroke-opacity:1; fill:none\" points=\"\n",
       "  940.822,623.18 940.822,617.183 \n",
       "  \"/>\n",
       "<polyline clip-path=\"url(#clip070)\" style=\"stroke:#000000; stroke-width:4; stroke-opacity:1; fill:none\" points=\"\n",
       "  1143.3,623.18 1143.3,617.183 \n",
       "  \"/>\n",
       "<path clip-path=\"url(#clip070)\" d=\"M 0 0 M310.783 652.371 Q307.172 652.371 305.343 655.935 Q303.538 659.477 303.538 666.607 Q303.538 673.713 305.343 677.278 Q307.172 680.819 310.783 680.819 Q314.417 680.819 316.223 677.278 Q318.052 673.713 318.052 666.607 Q318.052 659.477 316.223 655.935 Q314.417 652.371 310.783 652.371 M310.783 648.667 Q316.593 648.667 319.649 653.273 Q322.728 657.857 322.728 666.607 Q322.728 675.333 319.649 679.94 Q316.593 684.523 310.783 684.523 Q304.973 684.523 301.894 679.94 Q298.839 675.333 298.839 666.607 Q298.839 657.857 301.894 653.273 Q304.973 648.667 310.783 648.667 Z\" fill=\"#000000\" fill-rule=\"evenodd\" fill-opacity=\"1\" /><path clip-path=\"url(#clip070)\" d=\"M 0 0 M330.945 677.972 L335.829 677.972 L335.829 683.852 L330.945 683.852 L330.945 677.972 Z\" fill=\"#000000\" fill-rule=\"evenodd\" fill-opacity=\"1\" /><path clip-path=\"url(#clip070)\" d=\"M 0 0 M356.014 652.371 Q352.403 652.371 350.575 655.935 Q348.769 659.477 348.769 666.607 Q348.769 673.713 350.575 677.278 Q352.403 680.819 356.014 680.819 Q359.649 680.819 361.454 677.278 Q363.283 673.713 363.283 666.607 Q363.283 659.477 361.454 655.935 Q359.649 652.371 356.014 652.371 M356.014 648.667 Q361.825 648.667 364.88 653.273 Q367.959 657.857 367.959 666.607 Q367.959 675.333 364.88 679.94 Q361.825 684.523 356.014 684.523 Q350.204 684.523 347.126 679.94 Q344.07 675.333 344.07 666.607 Q344.07 657.857 347.126 653.273 Q350.204 648.667 356.014 648.667 Z\" fill=\"#000000\" fill-rule=\"evenodd\" fill-opacity=\"1\" /><path clip-path=\"url(#clip070)\" d=\"M 0 0 M513.755 652.371 Q510.144 652.371 508.316 655.935 Q506.51 659.477 506.51 666.607 Q506.51 673.713 508.316 677.278 Q510.144 680.819 513.755 680.819 Q517.39 680.819 519.195 677.278 Q521.024 673.713 521.024 666.607 Q521.024 659.477 519.195 655.935 Q517.39 652.371 513.755 652.371 M513.755 648.667 Q519.566 648.667 522.621 653.273 Q525.7 657.857 525.7 666.607 Q525.7 675.333 522.621 679.94 Q519.566 684.523 513.755 684.523 Q507.945 684.523 504.867 679.94 Q501.811 675.333 501.811 666.607 Q501.811 657.857 504.867 653.273 Q507.945 648.667 513.755 648.667 Z\" fill=\"#000000\" fill-rule=\"evenodd\" fill-opacity=\"1\" /><path clip-path=\"url(#clip070)\" d=\"M 0 0 M533.917 677.972 L538.802 677.972 L538.802 683.852 L533.917 683.852 L533.917 677.972 Z\" fill=\"#000000\" fill-rule=\"evenodd\" fill-opacity=\"1\" /><path clip-path=\"url(#clip070)\" d=\"M 0 0 M549.033 649.292 L567.389 649.292 L567.389 653.227 L553.315 653.227 L553.315 661.699 Q554.334 661.352 555.352 661.19 Q556.371 661.005 557.389 661.005 Q563.176 661.005 566.556 664.176 Q569.936 667.347 569.936 672.764 Q569.936 678.343 566.463 681.444 Q562.991 684.523 556.672 684.523 Q554.496 684.523 552.227 684.153 Q549.982 683.782 547.575 683.042 L547.575 678.343 Q549.658 679.477 551.88 680.032 Q554.102 680.588 556.579 680.588 Q560.584 680.588 562.922 678.482 Q565.26 676.375 565.26 672.764 Q565.26 669.153 562.922 667.046 Q560.584 664.94 556.579 664.94 Q554.704 664.94 552.829 665.357 Q550.977 665.773 549.033 666.653 L549.033 649.292 Z\" fill=\"#000000\" fill-rule=\"evenodd\" fill-opacity=\"1\" /><path clip-path=\"url(#clip070)\" d=\"M 0 0 M705.501 679.917 L713.14 679.917 L713.14 653.551 L704.83 655.218 L704.83 650.959 L713.093 649.292 L717.769 649.292 L717.769 679.917 L725.408 679.917 L725.408 683.852 L705.501 683.852 L705.501 679.917 Z\" fill=\"#000000\" fill-rule=\"evenodd\" fill-opacity=\"1\" /><path clip-path=\"url(#clip070)\" d=\"M 0 0 M734.852 677.972 L739.737 677.972 L739.737 683.852 L734.852 683.852 L734.852 677.972 Z\" fill=\"#000000\" fill-rule=\"evenodd\" fill-opacity=\"1\" /><path clip-path=\"url(#clip070)\" d=\"M 0 0 M759.922 652.371 Q756.311 652.371 754.482 655.935 Q752.676 659.477 752.676 666.607 Q752.676 673.713 754.482 677.278 Q756.311 680.819 759.922 680.819 Q763.556 680.819 765.362 677.278 Q767.19 673.713 767.19 666.607 Q767.19 659.477 765.362 655.935 Q763.556 652.371 759.922 652.371 M759.922 648.667 Q765.732 648.667 768.787 653.273 Q771.866 657.857 771.866 666.607 Q771.866 675.333 768.787 679.94 Q765.732 684.523 759.922 684.523 Q754.112 684.523 751.033 679.94 Q747.977 675.333 747.977 666.607 Q747.977 657.857 751.033 653.273 Q754.112 648.667 759.922 648.667 Z\" fill=\"#000000\" fill-rule=\"evenodd\" fill-opacity=\"1\" /><path clip-path=\"url(#clip070)\" d=\"M 0 0 M908.473 679.917 L916.112 679.917 L916.112 653.551 L907.802 655.218 L907.802 650.959 L916.066 649.292 L920.741 649.292 L920.741 679.917 L928.38 679.917 L928.38 683.852 L908.473 683.852 L908.473 679.917 Z\" fill=\"#000000\" fill-rule=\"evenodd\" fill-opacity=\"1\" /><path clip-path=\"url(#clip070)\" d=\"M 0 0 M937.825 677.972 L942.709 677.972 L942.709 683.852 L937.825 683.852 L937.825 677.972 Z\" fill=\"#000000\" fill-rule=\"evenodd\" fill-opacity=\"1\" /><path clip-path=\"url(#clip070)\" d=\"M 0 0 M952.94 649.292 L971.297 649.292 L971.297 653.227 L957.223 653.227 L957.223 661.699 Q958.241 661.352 959.26 661.19 Q960.278 661.005 961.297 661.005 Q967.084 661.005 970.463 664.176 Q973.843 667.347 973.843 672.764 Q973.843 678.343 970.371 681.444 Q966.899 684.523 960.579 684.523 Q958.403 684.523 956.135 684.153 Q953.889 683.782 951.482 683.042 L951.482 678.343 Q953.565 679.477 955.788 680.032 Q958.01 680.588 960.487 680.588 Q964.491 680.588 966.829 678.482 Q969.167 676.375 969.167 672.764 Q969.167 669.153 966.829 667.046 Q964.491 664.94 960.487 664.94 Q958.612 664.94 956.737 665.357 Q954.885 665.773 952.94 666.653 L952.94 649.292 Z\" fill=\"#000000\" fill-rule=\"evenodd\" fill-opacity=\"1\" /><path clip-path=\"url(#clip070)\" d=\"M 0 0 M1114.54 679.917 L1130.85 679.917 L1130.85 683.852 L1108.91 683.852 L1108.91 679.917 Q1111.57 677.162 1116.16 672.532 Q1120.76 667.88 1121.94 666.537 Q1124.19 664.014 1125.07 662.278 Q1125.97 660.519 1125.97 658.829 Q1125.97 656.074 1124.03 654.338 Q1122.1 652.602 1119 652.602 Q1116.8 652.602 1114.35 653.366 Q1111.92 654.13 1109.14 655.681 L1109.14 650.959 Q1111.97 649.824 1114.42 649.246 Q1116.87 648.667 1118.91 648.667 Q1124.28 648.667 1127.48 651.352 Q1130.67 654.037 1130.67 658.528 Q1130.67 660.658 1129.86 662.579 Q1129.07 664.477 1126.97 667.07 Q1126.39 667.741 1123.29 670.958 Q1120.18 674.153 1114.54 679.917 Z\" fill=\"#000000\" fill-rule=\"evenodd\" fill-opacity=\"1\" /><path clip-path=\"url(#clip070)\" d=\"M 0 0 M1140.67 677.972 L1145.55 677.972 L1145.55 683.852 L1140.67 683.852 L1140.67 677.972 Z\" fill=\"#000000\" fill-rule=\"evenodd\" fill-opacity=\"1\" /><path clip-path=\"url(#clip070)\" d=\"M 0 0 M1165.74 652.371 Q1162.13 652.371 1160.3 655.935 Q1158.49 659.477 1158.49 666.607 Q1158.49 673.713 1160.3 677.278 Q1162.13 680.819 1165.74 680.819 Q1169.37 680.819 1171.18 677.278 Q1173.01 673.713 1173.01 666.607 Q1173.01 659.477 1171.18 655.935 Q1169.37 652.371 1165.74 652.371 M1165.74 648.667 Q1171.55 648.667 1174.6 653.273 Q1177.68 657.857 1177.68 666.607 Q1177.68 675.333 1174.6 679.94 Q1171.55 684.523 1165.74 684.523 Q1159.93 684.523 1156.85 679.94 Q1153.79 675.333 1153.79 666.607 Q1153.79 657.857 1156.85 653.273 Q1159.93 648.667 1165.74 648.667 Z\" fill=\"#000000\" fill-rule=\"evenodd\" fill-opacity=\"1\" /><path clip-path=\"url(#clip070)\" d=\"M 0 0 M359.175 737.87 Q358.188 737.297 357.01 737.043 Q355.864 736.756 354.464 736.756 Q349.499 736.756 346.825 740.003 Q344.183 743.218 344.183 749.265 L344.183 768.044 L338.295 768.044 L338.295 732.396 L344.183 732.396 L344.183 737.934 Q346.029 734.688 348.989 733.128 Q351.949 731.537 356.183 731.537 Q356.787 731.537 357.519 731.632 Q358.252 731.696 359.143 731.855 L359.175 737.87 Z\" fill=\"#000000\" fill-rule=\"evenodd\" fill-opacity=\"1\" /><path clip-path=\"url(#clip070)\" d=\"M 0 0 M394.377 748.756 L394.377 751.62 L367.45 751.62 Q367.832 757.668 371.078 760.851 Q374.357 764.002 380.181 764.002 Q383.555 764.002 386.706 763.174 Q389.889 762.347 393.008 760.691 L393.008 766.23 Q389.857 767.566 386.547 768.267 Q383.237 768.967 379.831 768.967 Q371.301 768.967 366.304 764.002 Q361.339 759.036 361.339 750.57 Q361.339 741.817 366.049 736.693 Q370.792 731.537 378.813 731.537 Q386.006 731.537 390.176 736.183 Q394.377 740.799 394.377 748.756 M388.52 747.037 Q388.457 742.231 385.815 739.366 Q383.205 736.502 378.876 736.502 Q373.975 736.502 371.015 739.271 Q368.087 742.04 367.641 747.069 L388.52 747.037 Z\" fill=\"#000000\" fill-rule=\"evenodd\" fill-opacity=\"1\" /><path clip-path=\"url(#clip070)\" d=\"M 0 0 M403.989 718.519 L409.846 718.519 L409.846 768.044 L403.989 768.044 L403.989 718.519 Z\" fill=\"#000000\" fill-rule=\"evenodd\" fill-opacity=\"1\" /><path clip-path=\"url(#clip070)\" d=\"M 0 0 M438.3 750.124 Q431.202 750.124 428.465 751.748 Q425.728 753.371 425.728 757.286 Q425.728 760.405 427.765 762.251 Q429.834 764.065 433.367 764.065 Q438.237 764.065 441.165 760.628 Q444.125 757.158 444.125 751.429 L444.125 750.124 L438.3 750.124 M449.981 747.705 L449.981 768.044 L444.125 768.044 L444.125 762.633 Q442.12 765.88 439.128 767.439 Q436.136 768.967 431.807 768.967 Q426.333 768.967 423.086 765.911 Q419.872 762.824 419.872 757.668 Q419.872 751.652 423.882 748.597 Q427.924 745.541 435.913 745.541 L444.125 745.541 L444.125 744.968 Q444.125 740.926 441.451 738.73 Q438.81 736.502 434.003 736.502 Q430.948 736.502 428.051 737.234 Q425.155 737.966 422.481 739.43 L422.481 734.019 Q425.696 732.778 428.72 732.173 Q431.744 731.537 434.608 731.537 Q442.342 731.537 446.162 735.547 Q449.981 739.557 449.981 747.705 Z\" fill=\"#000000\" fill-rule=\"evenodd\" fill-opacity=\"1\" /><path clip-path=\"url(#clip070)\" d=\"M 0 0 M467.837 722.274 L467.837 732.396 L479.9 732.396 L479.9 736.947 L467.837 736.947 L467.837 756.299 Q467.837 760.66 469.015 761.901 Q470.224 763.142 473.885 763.142 L479.9 763.142 L479.9 768.044 L473.885 768.044 Q467.105 768.044 464.527 765.529 Q461.949 762.983 461.949 756.299 L461.949 736.947 L457.652 736.947 L457.652 732.396 L461.949 732.396 L461.949 722.274 L467.837 722.274 Z\" fill=\"#000000\" fill-rule=\"evenodd\" fill-opacity=\"1\" /><path clip-path=\"url(#clip070)\" d=\"M 0 0 M487.603 732.396 L493.459 732.396 L493.459 768.044 L487.603 768.044 L487.603 732.396 M487.603 718.519 L493.459 718.519 L493.459 725.935 L487.603 725.935 L487.603 718.519 Z\" fill=\"#000000\" fill-rule=\"evenodd\" fill-opacity=\"1\" /><path clip-path=\"url(#clip070)\" d=\"M 0 0 M501.512 732.396 L507.718 732.396 L518.858 762.315 L529.998 732.396 L536.205 732.396 L522.837 768.044 L514.88 768.044 L501.512 732.396 Z\" fill=\"#000000\" fill-rule=\"evenodd\" fill-opacity=\"1\" /><path clip-path=\"url(#clip070)\" d=\"M 0 0 M574.781 748.756 L574.781 751.62 L547.854 751.62 Q548.236 757.668 551.483 760.851 Q554.761 764.002 560.585 764.002 Q563.959 764.002 567.11 763.174 Q570.293 762.347 573.412 760.691 L573.412 766.23 Q570.261 767.566 566.951 768.267 Q563.641 768.967 560.235 768.967 Q551.705 768.967 546.708 764.002 Q541.743 759.036 541.743 750.57 Q541.743 741.817 546.454 736.693 Q551.196 731.537 559.217 731.537 Q566.41 731.537 570.58 736.183 Q574.781 740.799 574.781 748.756 M568.925 747.037 Q568.861 742.231 566.219 739.366 Q563.609 736.502 559.281 736.502 Q554.379 736.502 551.419 739.271 Q548.491 742.04 548.045 747.069 L568.925 747.037 Z\" fill=\"#000000\" fill-rule=\"evenodd\" fill-opacity=\"1\" /><path clip-path=\"url(#clip070)\" d=\"M 0 0 M610.779 762.697 L610.779 781.603 L604.891 781.603 L604.891 732.396 L610.779 732.396 L610.779 737.807 Q612.625 734.624 615.426 733.096 Q618.259 731.537 622.174 731.537 Q628.667 731.537 632.709 736.693 Q636.783 741.849 636.783 750.252 Q636.783 758.654 632.709 763.811 Q628.667 768.967 622.174 768.967 Q618.259 768.967 615.426 767.439 Q612.625 765.88 610.779 762.697 M630.704 750.252 Q630.704 743.791 628.03 740.13 Q625.388 736.438 620.741 736.438 Q616.094 736.438 613.421 740.13 Q610.779 743.791 610.779 750.252 Q610.779 756.713 613.421 760.405 Q616.094 764.065 620.741 764.065 Q625.388 764.065 628.03 760.405 Q630.704 756.713 630.704 750.252 Z\" fill=\"#000000\" fill-rule=\"evenodd\" fill-opacity=\"1\" /><path clip-path=\"url(#clip070)\" d=\"M 0 0 M662.691 750.124 Q655.594 750.124 652.856 751.748 Q650.119 753.371 650.119 757.286 Q650.119 760.405 652.156 762.251 Q654.225 764.065 657.758 764.065 Q662.628 764.065 665.556 760.628 Q668.516 757.158 668.516 751.429 L668.516 750.124 L662.691 750.124 M674.372 747.705 L674.372 768.044 L668.516 768.044 L668.516 762.633 Q666.511 765.88 663.519 767.439 Q660.527 768.967 656.198 768.967 Q650.724 768.967 647.477 765.911 Q644.263 762.824 644.263 757.668 Q644.263 751.652 648.273 748.597 Q652.315 745.541 660.304 745.541 L668.516 745.541 L668.516 744.968 Q668.516 740.926 665.842 738.73 Q663.201 736.502 658.395 736.502 Q655.339 736.502 652.443 737.234 Q649.546 737.966 646.873 739.43 L646.873 734.019 Q650.087 732.778 653.111 732.173 Q656.135 731.537 658.999 731.537 Q666.734 731.537 670.553 735.547 Q674.372 739.557 674.372 747.705 Z\" fill=\"#000000\" fill-rule=\"evenodd\" fill-opacity=\"1\" /><path clip-path=\"url(#clip070)\" d=\"M 0 0 M707.092 737.87 Q706.106 737.297 704.928 737.043 Q703.782 736.756 702.382 736.756 Q697.416 736.756 694.743 740.003 Q692.101 743.218 692.101 749.265 L692.101 768.044 L686.213 768.044 L686.213 732.396 L692.101 732.396 L692.101 737.934 Q693.947 734.688 696.907 733.128 Q699.867 731.537 704.1 731.537 Q704.705 731.537 705.437 731.632 Q706.169 731.696 707.06 731.855 L707.092 737.87 Z\" fill=\"#000000\" fill-rule=\"evenodd\" fill-opacity=\"1\" /><path clip-path=\"url(#clip070)\" d=\"M 0 0 M729.436 750.124 Q722.338 750.124 719.601 751.748 Q716.864 753.371 716.864 757.286 Q716.864 760.405 718.901 762.251 Q720.969 764.065 724.502 764.065 Q729.372 764.065 732.3 760.628 Q735.26 757.158 735.26 751.429 L735.26 750.124 L729.436 750.124 M741.117 747.705 L741.117 768.044 L735.26 768.044 L735.26 762.633 Q733.255 765.88 730.263 767.439 Q727.272 768.967 722.943 768.967 Q717.468 768.967 714.222 765.911 Q711.007 762.824 711.007 757.668 Q711.007 751.652 715.018 748.597 Q719.06 745.541 727.049 745.541 L735.26 745.541 L735.26 744.968 Q735.26 740.926 732.587 738.73 Q729.945 736.502 725.139 736.502 Q722.083 736.502 719.187 737.234 Q716.291 737.966 713.617 739.43 L713.617 734.019 Q716.832 732.778 719.855 732.173 Q722.879 731.537 725.744 731.537 Q733.478 731.537 737.298 735.547 Q741.117 739.557 741.117 747.705 Z\" fill=\"#000000\" fill-rule=\"evenodd\" fill-opacity=\"1\" /><path clip-path=\"url(#clip070)\" d=\"M 0 0 M780.934 739.239 Q783.131 735.292 786.186 733.414 Q789.242 731.537 793.379 731.537 Q798.949 731.537 801.973 735.451 Q804.997 739.335 804.997 746.528 L804.997 768.044 L799.109 768.044 L799.109 746.719 Q799.109 741.594 797.294 739.112 Q795.48 736.629 791.756 736.629 Q787.205 736.629 784.563 739.653 Q781.921 742.677 781.921 747.896 L781.921 768.044 L776.033 768.044 L776.033 746.719 Q776.033 741.563 774.219 739.112 Q772.404 736.629 768.617 736.629 Q764.129 736.629 761.487 739.685 Q758.845 742.708 758.845 747.896 L758.845 768.044 L752.957 768.044 L752.957 732.396 L758.845 732.396 L758.845 737.934 Q760.851 734.656 763.652 733.096 Q766.452 731.537 770.304 731.537 Q774.187 731.537 776.892 733.51 Q779.629 735.483 780.934 739.239 Z\" fill=\"#000000\" fill-rule=\"evenodd\" fill-opacity=\"1\" /><path clip-path=\"url(#clip070)\" d=\"M 0 0 M847.17 748.756 L847.17 751.62 L820.243 751.62 Q820.625 757.668 823.871 760.851 Q827.149 764.002 832.974 764.002 Q836.348 764.002 839.499 763.174 Q842.682 762.347 845.801 760.691 L845.801 766.23 Q842.65 767.566 839.34 768.267 Q836.03 768.967 832.624 768.967 Q824.094 768.967 819.097 764.002 Q814.132 759.036 814.132 750.57 Q814.132 741.817 818.842 736.693 Q823.585 731.537 831.605 731.537 Q838.799 731.537 842.968 736.183 Q847.17 740.799 847.17 748.756 M841.313 747.037 Q841.249 742.231 838.608 739.366 Q835.998 736.502 831.669 736.502 Q826.768 736.502 823.807 739.271 Q820.879 742.04 820.434 747.069 L841.313 747.037 Z\" fill=\"#000000\" fill-rule=\"evenodd\" fill-opacity=\"1\" /><path clip-path=\"url(#clip070)\" d=\"M 0 0 M862.575 722.274 L862.575 732.396 L874.638 732.396 L874.638 736.947 L862.575 736.947 L862.575 756.299 Q862.575 760.66 863.752 761.901 Q864.962 763.142 868.622 763.142 L874.638 763.142 L874.638 768.044 L868.622 768.044 Q861.843 768.044 859.264 765.529 Q856.686 762.983 856.686 756.299 L856.686 736.947 L852.389 736.947 L852.389 732.396 L856.686 732.396 L856.686 722.274 L862.575 722.274 Z\" fill=\"#000000\" fill-rule=\"evenodd\" fill-opacity=\"1\" /><path clip-path=\"url(#clip070)\" d=\"M 0 0 M912.832 748.756 L912.832 751.62 L885.905 751.62 Q886.287 757.668 889.533 760.851 Q892.812 764.002 898.636 764.002 Q902.01 764.002 905.161 763.174 Q908.344 762.347 911.463 760.691 L911.463 766.23 Q908.312 767.566 905.002 768.267 Q901.692 768.967 898.286 768.967 Q889.756 768.967 884.759 764.002 Q879.794 759.036 879.794 750.57 Q879.794 741.817 884.504 736.693 Q889.247 731.537 897.268 731.537 Q904.461 731.537 908.63 736.183 Q912.832 740.799 912.832 748.756 M906.975 747.037 Q906.912 742.231 904.27 739.366 Q901.66 736.502 897.331 736.502 Q892.43 736.502 889.47 739.271 Q886.541 742.04 886.096 747.069 L906.975 747.037 Z\" fill=\"#000000\" fill-rule=\"evenodd\" fill-opacity=\"1\" /><path clip-path=\"url(#clip070)\" d=\"M 0 0 M943.101 737.87 Q942.114 737.297 940.936 737.043 Q939.791 736.756 938.39 736.756 Q933.425 736.756 930.751 740.003 Q928.11 743.218 928.11 749.265 L928.11 768.044 L922.221 768.044 L922.221 732.396 L928.11 732.396 L928.11 737.934 Q929.956 734.688 932.916 733.128 Q935.876 731.537 940.109 731.537 Q940.714 731.537 941.446 731.632 Q942.178 731.696 943.069 731.855 L943.101 737.87 Z\" fill=\"#000000\" fill-rule=\"evenodd\" fill-opacity=\"1\" /><path clip-path=\"url(#clip070)\" d=\"M 0 0 M965.763 732.396 L971.969 732.396 L983.109 762.315 L994.249 732.396 L1000.46 732.396 L987.088 768.044 L979.131 768.044 L965.763 732.396 Z\" fill=\"#000000\" fill-rule=\"evenodd\" fill-opacity=\"1\" /><path clip-path=\"url(#clip070)\" d=\"M 0 0 M1024.74 750.124 Q1017.64 750.124 1014.91 751.748 Q1012.17 753.371 1012.17 757.286 Q1012.17 760.405 1014.21 762.251 Q1016.27 764.065 1019.81 764.065 Q1024.68 764.065 1027.61 760.628 Q1030.57 757.158 1030.57 751.429 L1030.57 750.124 L1024.74 750.124 M1036.42 747.705 L1036.42 768.044 L1030.57 768.044 L1030.57 762.633 Q1028.56 765.88 1025.57 767.439 Q1022.58 768.967 1018.25 768.967 Q1012.77 768.967 1009.53 765.911 Q1006.31 762.824 1006.31 757.668 Q1006.31 751.652 1010.32 748.597 Q1014.36 745.541 1022.35 745.541 L1030.57 745.541 L1030.57 744.968 Q1030.57 740.926 1027.89 738.73 Q1025.25 736.502 1020.44 736.502 Q1017.39 736.502 1014.49 737.234 Q1011.6 737.966 1008.92 739.43 L1008.92 734.019 Q1012.14 732.778 1015.16 732.173 Q1018.18 731.537 1021.05 731.537 Q1028.78 731.537 1032.6 735.547 Q1036.42 739.557 1036.42 747.705 Z\" fill=\"#000000\" fill-rule=\"evenodd\" fill-opacity=\"1\" /><path clip-path=\"url(#clip070)\" d=\"M 0 0 M1048.49 718.519 L1054.34 718.519 L1054.34 768.044 L1048.49 768.044 L1048.49 718.519 Z\" fill=\"#000000\" fill-rule=\"evenodd\" fill-opacity=\"1\" /><path clip-path=\"url(#clip070)\" d=\"M 0 0 M1065.99 753.976 L1065.99 732.396 L1071.85 732.396 L1071.85 753.753 Q1071.85 758.814 1073.82 761.36 Q1075.79 763.874 1079.74 763.874 Q1084.48 763.874 1087.22 760.851 Q1089.99 757.827 1089.99 752.607 L1089.99 732.396 L1095.85 732.396 L1095.85 768.044 L1089.99 768.044 L1089.99 762.569 Q1087.86 765.816 1085.02 767.407 Q1082.22 768.967 1078.5 768.967 Q1072.36 768.967 1069.17 765.147 Q1065.99 761.328 1065.99 753.976 M1080.73 731.537 L1080.73 731.537 Z\" fill=\"#000000\" fill-rule=\"evenodd\" fill-opacity=\"1\" /><path clip-path=\"url(#clip070)\" d=\"M 0 0 M1138.4 748.756 L1138.4 751.62 L1111.47 751.62 Q1111.86 757.668 1115.1 760.851 Q1118.38 764.002 1124.21 764.002 Q1127.58 764.002 1130.73 763.174 Q1133.91 762.347 1137.03 760.691 L1137.03 766.23 Q1133.88 767.566 1130.57 768.267 Q1127.26 768.967 1123.86 768.967 Q1115.32 768.967 1110.33 764.002 Q1105.36 759.036 1105.36 750.57 Q1105.36 741.817 1110.07 736.693 Q1114.82 731.537 1122.84 731.537 Q1130.03 731.537 1134.2 736.183 Q1138.4 740.799 1138.4 748.756 M1132.54 747.037 Q1132.48 742.231 1129.84 739.366 Q1127.23 736.502 1122.9 736.502 Q1118 736.502 1115.04 739.271 Q1112.11 742.04 1111.66 747.069 L1132.54 747.037 Z\" fill=\"#000000\" fill-rule=\"evenodd\" fill-opacity=\"1\" /><polyline clip-path=\"url(#clip072)\" style=\"stroke:#000000; stroke-width:2; stroke-opacity:0.1; fill:none\" points=\"\n",
       "  309.102,606.656 1167.59,606.656 \n",
       "  \"/>\n",
       "<polyline clip-path=\"url(#clip072)\" style=\"stroke:#000000; stroke-width:2; stroke-opacity:0.1; fill:none\" points=\"\n",
       "  309.102,448.158 1167.59,448.158 \n",
       "  \"/>\n",
       "<polyline clip-path=\"url(#clip072)\" style=\"stroke:#000000; stroke-width:2; stroke-opacity:0.1; fill:none\" points=\"\n",
       "  309.102,289.659 1167.59,289.659 \n",
       "  \"/>\n",
       "<polyline clip-path=\"url(#clip072)\" style=\"stroke:#000000; stroke-width:2; stroke-opacity:0.1; fill:none\" points=\"\n",
       "  309.102,131.161 1167.59,131.161 \n",
       "  \"/>\n",
       "<polyline clip-path=\"url(#clip070)\" style=\"stroke:#000000; stroke-width:4; stroke-opacity:1; fill:none\" points=\"\n",
       "  309.102,623.18 309.102,123.472 \n",
       "  \"/>\n",
       "<polyline clip-path=\"url(#clip070)\" style=\"stroke:#000000; stroke-width:4; stroke-opacity:1; fill:none\" points=\"\n",
       "  309.102,606.656 319.404,606.656 \n",
       "  \"/>\n",
       "<polyline clip-path=\"url(#clip070)\" style=\"stroke:#000000; stroke-width:4; stroke-opacity:1; fill:none\" points=\"\n",
       "  309.102,448.158 319.404,448.158 \n",
       "  \"/>\n",
       "<polyline clip-path=\"url(#clip070)\" style=\"stroke:#000000; stroke-width:4; stroke-opacity:1; fill:none\" points=\"\n",
       "  309.102,289.659 319.404,289.659 \n",
       "  \"/>\n",
       "<polyline clip-path=\"url(#clip070)\" style=\"stroke:#000000; stroke-width:4; stroke-opacity:1; fill:none\" points=\"\n",
       "  309.102,131.161 319.404,131.161 \n",
       "  \"/>\n",
       "<path clip-path=\"url(#clip070)\" d=\"M 0 0 M261.158 592.455 Q257.546 592.455 255.718 596.02 Q253.912 599.562 253.912 606.691 Q253.912 613.798 255.718 617.362 Q257.546 620.904 261.158 620.904 Q264.792 620.904 266.597 617.362 Q268.426 613.798 268.426 606.691 Q268.426 599.562 266.597 596.02 Q264.792 592.455 261.158 592.455 M261.158 588.751 Q266.968 588.751 270.023 593.358 Q273.102 597.941 273.102 606.691 Q273.102 615.418 270.023 620.024 Q266.968 624.608 261.158 624.608 Q255.347 624.608 252.269 620.024 Q249.213 615.418 249.213 606.691 Q249.213 597.941 252.269 593.358 Q255.347 588.751 261.158 588.751 Z\" fill=\"#000000\" fill-rule=\"evenodd\" fill-opacity=\"1\" /><path clip-path=\"url(#clip070)\" d=\"M 0 0 M252.199 430.878 L270.556 430.878 L270.556 434.813 L256.482 434.813 L256.482 443.285 Q257.5 442.938 258.519 442.776 Q259.537 442.591 260.556 442.591 Q266.343 442.591 269.722 445.762 Q273.102 448.933 273.102 454.35 Q273.102 459.929 269.63 463.03 Q266.157 466.109 259.838 466.109 Q257.662 466.109 255.394 465.739 Q253.148 465.368 250.741 464.628 L250.741 459.929 Q252.824 461.063 255.046 461.618 Q257.269 462.174 259.745 462.174 Q263.75 462.174 266.088 460.068 Q268.426 457.961 268.426 454.35 Q268.426 450.739 266.088 448.632 Q263.75 446.526 259.745 446.526 Q257.87 446.526 255.996 446.943 Q254.144 447.359 252.199 448.239 L252.199 430.878 Z\" fill=\"#000000\" fill-rule=\"evenodd\" fill-opacity=\"1\" /><path clip-path=\"url(#clip070)\" d=\"M 0 0 M221.806 303.004 L229.445 303.004 L229.445 276.639 L221.135 278.305 L221.135 274.046 L229.398 272.379 L234.074 272.379 L234.074 303.004 L241.713 303.004 L241.713 306.939 L221.806 306.939 L221.806 303.004 Z\" fill=\"#000000\" fill-rule=\"evenodd\" fill-opacity=\"1\" /><path clip-path=\"url(#clip070)\" d=\"M 0 0 M261.158 275.458 Q257.546 275.458 255.718 279.023 Q253.912 282.564 253.912 289.694 Q253.912 296.8 255.718 300.365 Q257.546 303.907 261.158 303.907 Q264.792 303.907 266.597 300.365 Q268.426 296.8 268.426 289.694 Q268.426 282.564 266.597 279.023 Q264.792 275.458 261.158 275.458 M261.158 271.754 Q266.968 271.754 270.023 276.361 Q273.102 280.944 273.102 289.694 Q273.102 298.421 270.023 303.027 Q266.968 307.611 261.158 307.611 Q255.347 307.611 252.269 303.027 Q249.213 298.421 249.213 289.694 Q249.213 280.944 252.269 276.361 Q255.347 271.754 261.158 271.754 Z\" fill=\"#000000\" fill-rule=\"evenodd\" fill-opacity=\"1\" /><path clip-path=\"url(#clip070)\" d=\"M 0 0 M222.801 144.506 L230.44 144.506 L230.44 118.14 L222.13 119.807 L222.13 115.547 L230.394 113.881 L235.07 113.881 L235.07 144.506 L242.709 144.506 L242.709 148.441 L222.801 148.441 L222.801 144.506 Z\" fill=\"#000000\" fill-rule=\"evenodd\" fill-opacity=\"1\" /><path clip-path=\"url(#clip070)\" d=\"M 0 0 M252.199 113.881 L270.556 113.881 L270.556 117.816 L256.482 117.816 L256.482 126.288 Q257.5 125.941 258.519 125.779 Q259.537 125.594 260.556 125.594 Q266.343 125.594 269.722 128.765 Q273.102 131.936 273.102 137.353 Q273.102 142.932 269.63 146.033 Q266.157 149.112 259.838 149.112 Q257.662 149.112 255.394 148.742 Q253.148 148.371 250.741 147.631 L250.741 142.932 Q252.824 144.066 255.046 144.621 Q257.269 145.177 259.745 145.177 Q263.75 145.177 266.088 143.07 Q268.426 140.964 268.426 137.353 Q268.426 133.742 266.088 131.635 Q263.75 129.529 259.745 129.529 Q257.87 129.529 255.996 129.946 Q254.144 130.362 252.199 131.242 L252.199 113.881 Z\" fill=\"#000000\" fill-rule=\"evenodd\" fill-opacity=\"1\" /><path clip-path=\"url(#clip070)\" d=\"M 0 0 M135.231 601.489 L135.231 595.282 L165.149 584.142 L135.231 573.002 L135.231 566.796 L170.879 580.164 L170.879 588.121 L135.231 601.489 Z\" fill=\"#000000\" fill-rule=\"evenodd\" fill-opacity=\"1\" /><path clip-path=\"url(#clip070)\" d=\"M 0 0 M152.959 542.511 Q152.959 549.608 154.582 552.346 Q156.206 555.083 160.121 555.083 Q163.24 555.083 165.086 553.046 Q166.9 550.977 166.9 547.444 Q166.9 542.574 163.463 539.646 Q159.993 536.686 154.264 536.686 L152.959 536.686 L152.959 542.511 M150.54 530.829 L170.879 530.829 L170.879 536.686 L165.468 536.686 Q168.714 538.691 170.274 541.683 Q171.802 544.675 171.802 549.004 Q171.802 554.478 168.746 557.725 Q165.659 560.939 160.502 560.939 Q154.487 560.939 151.431 556.929 Q148.376 552.887 148.376 544.898 L148.376 536.686 L147.803 536.686 Q143.761 536.686 141.565 539.36 Q139.337 542.001 139.337 546.807 Q139.337 549.863 140.069 552.759 Q140.801 555.656 142.265 558.329 L136.854 558.329 Q135.613 555.115 135.008 552.091 Q134.371 549.067 134.371 546.203 Q134.371 538.468 138.382 534.649 Q142.392 530.829 150.54 530.829 Z\" fill=\"#000000\" fill-rule=\"evenodd\" fill-opacity=\"1\" /><path clip-path=\"url(#clip070)\" d=\"M 0 0 M140.705 498.11 Q140.132 499.096 139.878 500.274 Q139.591 501.42 139.591 502.82 Q139.591 507.786 142.838 510.459 Q146.052 513.101 152.1 513.101 L170.879 513.101 L170.879 518.989 L135.231 518.989 L135.231 513.101 L140.769 513.101 Q137.522 511.255 135.963 508.295 Q134.371 505.335 134.371 501.102 Q134.371 500.497 134.467 499.765 Q134.53 499.033 134.69 498.142 L140.705 498.11 Z\" fill=\"#000000\" fill-rule=\"evenodd\" fill-opacity=\"1\" /><path clip-path=\"url(#clip070)\" d=\"M 0 0 M135.231 491.967 L135.231 486.11 L170.879 486.11 L170.879 491.967 L135.231 491.967 M121.353 491.967 L121.353 486.11 L128.769 486.11 L128.769 491.967 L121.353 491.967 Z\" fill=\"#000000\" fill-rule=\"evenodd\" fill-opacity=\"1\" /><path clip-path=\"url(#clip070)\" d=\"M 0 0 M152.959 457.656 Q152.959 464.753 154.582 467.491 Q156.206 470.228 160.121 470.228 Q163.24 470.228 165.086 468.191 Q166.9 466.122 166.9 462.589 Q166.9 457.719 163.463 454.791 Q159.993 451.831 154.264 451.831 L152.959 451.831 L152.959 457.656 M150.54 445.975 L170.879 445.975 L170.879 451.831 L165.468 451.831 Q168.714 453.836 170.274 456.828 Q171.802 459.82 171.802 464.149 Q171.802 469.623 168.746 472.87 Q165.659 476.084 160.502 476.084 Q154.487 476.084 151.431 472.074 Q148.376 468.032 148.376 460.043 L148.376 451.831 L147.803 451.831 Q143.761 451.831 141.565 454.505 Q139.337 457.146 139.337 461.953 Q139.337 465.008 140.069 467.904 Q140.801 470.801 142.265 473.474 L136.854 473.474 Q135.613 470.26 135.008 467.236 Q134.371 464.212 134.371 461.348 Q134.371 453.613 138.382 449.794 Q142.392 445.975 150.54 445.975 Z\" fill=\"#000000\" fill-rule=\"evenodd\" fill-opacity=\"1\" /><path clip-path=\"url(#clip070)\" d=\"M 0 0 M153.086 408.321 Q146.625 408.321 142.965 410.995 Q139.273 413.637 139.273 418.284 Q139.273 422.931 142.965 425.604 Q146.625 428.246 153.086 428.246 Q159.548 428.246 163.24 425.604 Q166.9 422.931 166.9 418.284 Q166.9 413.637 163.24 410.995 Q159.548 408.321 153.086 408.321 M140.641 428.246 Q137.459 426.4 135.931 423.599 Q134.371 420.766 134.371 416.852 Q134.371 410.358 139.527 406.316 Q144.684 402.242 153.086 402.242 Q161.489 402.242 166.645 406.316 Q171.802 410.358 171.802 416.852 Q171.802 420.766 170.274 423.599 Q168.714 426.4 165.531 428.246 L170.879 428.246 L170.879 434.134 L121.353 434.134 L121.353 428.246 L140.641 428.246 Z\" fill=\"#000000\" fill-rule=\"evenodd\" fill-opacity=\"1\" /><path clip-path=\"url(#clip070)\" d=\"M 0 0 M121.353 392.535 L121.353 386.678 L170.879 386.678 L170.879 392.535 L121.353 392.535 Z\" fill=\"#000000\" fill-rule=\"evenodd\" fill-opacity=\"1\" /><path clip-path=\"url(#clip070)\" d=\"M 0 0 M151.59 343.932 L154.455 343.932 L154.455 370.859 Q160.502 370.477 163.685 367.231 Q166.836 363.952 166.836 358.128 Q166.836 354.754 166.009 351.603 Q165.181 348.42 163.526 345.301 L169.064 345.301 Q170.401 348.452 171.101 351.762 Q171.802 355.072 171.802 358.478 Q171.802 367.008 166.836 372.005 Q161.871 376.97 153.405 376.97 Q144.652 376.97 139.527 372.26 Q134.371 367.517 134.371 359.496 Q134.371 352.303 139.018 348.134 Q143.633 343.932 151.59 343.932 M149.872 349.789 Q145.066 349.852 142.201 352.494 Q139.337 355.104 139.337 359.433 Q139.337 364.334 142.106 367.294 Q144.875 370.223 149.904 370.668 L149.872 349.789 Z\" fill=\"#000000\" fill-rule=\"evenodd\" fill-opacity=\"1\" /><path clip-path=\"url(#clip070)\" d=\"M 0 0 M135.231 317.801 L135.231 311.595 L165.149 300.455 L135.231 289.315 L135.231 283.108 L170.879 296.476 L170.879 304.433 L135.231 317.801 Z\" fill=\"#000000\" fill-rule=\"evenodd\" fill-opacity=\"1\" /><path clip-path=\"url(#clip070)\" d=\"M 0 0 M152.959 258.823 Q152.959 265.921 154.582 268.658 Q156.206 271.395 160.121 271.395 Q163.24 271.395 165.086 269.358 Q166.9 267.289 166.9 263.756 Q166.9 258.886 163.463 255.958 Q159.993 252.998 154.264 252.998 L152.959 252.998 L152.959 258.823 M150.54 247.142 L170.879 247.142 L170.879 252.998 L165.468 252.998 Q168.714 255.003 170.274 257.995 Q171.802 260.987 171.802 265.316 Q171.802 270.79 168.746 274.037 Q165.659 277.252 160.502 277.252 Q154.487 277.252 151.431 273.241 Q148.376 269.199 148.376 261.21 L148.376 252.998 L147.803 252.998 Q143.761 252.998 141.565 255.672 Q139.337 258.314 139.337 263.12 Q139.337 266.175 140.069 269.072 Q140.801 271.968 142.265 274.642 L136.854 274.642 Q135.613 271.427 135.008 268.403 Q134.371 265.38 134.371 262.515 Q134.371 254.781 138.382 250.961 Q142.392 247.142 150.54 247.142 Z\" fill=\"#000000\" fill-rule=\"evenodd\" fill-opacity=\"1\" /><path clip-path=\"url(#clip070)\" d=\"M 0 0 M121.353 235.079 L121.353 229.222 L170.879 229.222 L170.879 235.079 L121.353 235.079 Z\" fill=\"#000000\" fill-rule=\"evenodd\" fill-opacity=\"1\" /><path clip-path=\"url(#clip070)\" d=\"M 0 0 M156.81 217.573 L135.231 217.573 L135.231 211.717 L156.588 211.717 Q161.648 211.717 164.195 209.743 Q166.709 207.77 166.709 203.823 Q166.709 199.081 163.685 196.343 Q160.662 193.574 155.442 193.574 L135.231 193.574 L135.231 187.718 L170.879 187.718 L170.879 193.574 L165.404 193.574 Q168.651 195.707 170.242 198.54 Q171.802 201.341 171.802 205.064 Q171.802 211.207 167.982 214.39 Q164.163 217.573 156.81 217.573 M134.371 202.836 L134.371 202.836 Z\" fill=\"#000000\" fill-rule=\"evenodd\" fill-opacity=\"1\" /><path clip-path=\"url(#clip070)\" d=\"M 0 0 M151.59 145.163 L154.455 145.163 L154.455 172.09 Q160.502 171.708 163.685 168.462 Q166.836 165.183 166.836 159.359 Q166.836 155.985 166.009 152.834 Q165.181 149.651 163.526 146.532 L169.064 146.532 Q170.401 149.683 171.101 152.993 Q171.802 156.303 171.802 159.709 Q171.802 168.239 166.836 173.236 Q161.871 178.201 153.405 178.201 Q144.652 178.201 139.527 173.491 Q134.371 168.748 134.371 160.727 Q134.371 153.534 139.018 149.365 Q143.633 145.163 151.59 145.163 M149.872 151.02 Q145.066 151.083 142.201 153.725 Q139.337 156.335 139.337 160.664 Q139.337 165.565 142.106 168.525 Q144.875 171.454 149.904 171.899 L149.872 151.02 Z\" fill=\"#000000\" fill-rule=\"evenodd\" fill-opacity=\"1\" /><path clip-path=\"url(#clip070)\" d=\"M 0 0 M592.9 45.1919 L592.9 72.576 L585.446 72.576 L585.446 45.4349 Q585.446 38.994 582.935 35.7938 Q580.423 32.5936 575.4 32.5936 Q569.364 32.5936 565.881 36.4419 Q562.397 40.2903 562.397 46.9338 L562.397 72.576 L554.903 72.576 L554.903 27.2059 L562.397 27.2059 L562.397 34.2544 Q565.07 30.163 568.676 28.1376 Q572.322 26.1121 577.061 26.1121 Q584.879 26.1121 588.89 30.9732 Q592.9 35.7938 592.9 45.1919 Z\" fill=\"#000000\" fill-rule=\"evenodd\" fill-opacity=\"1\" /><path clip-path=\"url(#clip070)\" d=\"M 0 0 M625.348 32.4315 Q619.353 32.4315 615.869 37.1306 Q612.385 41.7891 612.385 49.9314 Q612.385 58.0738 615.828 62.7728 Q619.312 67.4314 625.348 67.4314 Q631.303 67.4314 634.786 62.7323 Q638.27 58.0333 638.27 49.9314 Q638.27 41.8701 634.786 37.1711 Q631.303 32.4315 625.348 32.4315 M625.348 26.1121 Q635.07 26.1121 640.62 32.4315 Q646.17 38.7509 646.17 49.9314 Q646.17 61.0714 640.62 67.4314 Q635.07 73.7508 625.348 73.7508 Q615.585 73.7508 610.035 67.4314 Q604.526 61.0714 604.526 49.9314 Q604.526 38.7509 610.035 32.4315 Q615.585 26.1121 625.348 26.1121 Z\" fill=\"#000000\" fill-rule=\"evenodd\" fill-opacity=\"1\" /><path clip-path=\"url(#clip070)\" d=\"M 0 0 M688.38 34.0924 L688.38 9.54393 L695.834 9.54393 L695.834 72.576 L688.38 72.576 L688.38 65.7705 Q686.03 69.8214 682.425 71.8063 Q678.86 73.7508 673.837 73.7508 Q665.614 73.7508 660.429 67.1883 Q655.284 60.6258 655.284 49.9314 Q655.284 39.2371 660.429 32.6746 Q665.614 26.1121 673.837 26.1121 Q678.86 26.1121 682.425 28.0971 Q686.03 30.0415 688.38 34.0924 M662.981 49.9314 Q662.981 58.1548 666.343 62.8538 Q669.746 67.5124 675.66 67.5124 Q681.574 67.5124 684.977 62.8538 Q688.38 58.1548 688.38 49.9314 Q688.38 41.7081 684.977 37.0496 Q681.574 32.3505 675.66 32.3505 Q669.746 32.3505 666.343 37.0496 Q662.981 41.7081 662.981 49.9314 Z\" fill=\"#000000\" fill-rule=\"evenodd\" fill-opacity=\"1\" /><path clip-path=\"url(#clip070)\" d=\"M 0 0 M749.994 48.0275 L749.994 51.6733 L715.724 51.6733 Q716.21 59.3701 720.342 63.421 Q724.514 67.4314 731.927 67.4314 Q736.221 67.4314 740.232 66.3781 Q744.282 65.3249 748.252 63.2184 L748.252 70.267 Q744.242 71.9684 740.029 72.8596 Q735.816 73.7508 731.482 73.7508 Q720.625 73.7508 714.265 67.4314 Q707.946 61.1119 707.946 50.3365 Q707.946 39.1965 713.941 32.6746 Q719.977 26.1121 730.185 26.1121 Q739.34 26.1121 744.647 32.0264 Q749.994 37.9003 749.994 48.0275 M742.541 45.84 Q742.46 39.7232 739.097 36.0774 Q735.776 32.4315 730.266 32.4315 Q724.028 32.4315 720.261 35.9558 Q716.534 39.4801 715.967 45.8805 L742.541 45.84 Z\" fill=\"#000000\" fill-rule=\"evenodd\" fill-opacity=\"1\" /><path clip-path=\"url(#clip070)\" d=\"M 0 0 M789.572 34.9026 L841.504 34.9026 L841.504 41.7081 L789.572 41.7081 L789.572 34.9026 M789.572 51.4303 L841.504 51.4303 L841.504 58.3168 L789.572 58.3168 L789.572 51.4303 Z\" fill=\"#000000\" fill-rule=\"evenodd\" fill-opacity=\"1\" /><path clip-path=\"url(#clip070)\" d=\"M 0 0 M886.955 65.6895 L900.323 65.6895 L900.323 19.5497 L885.781 22.4663 L885.781 15.0127 L900.242 12.096 L908.425 12.096 L908.425 65.6895 L921.793 65.6895 L921.793 72.576 L886.955 72.576 L886.955 65.6895 Z\" fill=\"#000000\" fill-rule=\"evenodd\" fill-opacity=\"1\" /><polyline clip-path=\"url(#clip072)\" style=\"stroke:#009af9; stroke-width:8; stroke-opacity:1; fill:none\" points=\"\n",
       "  333.399,602.303 373.894,584.04 414.389,561.31 454.884,537.958 495.378,514.438 535.873,490.879 576.368,467.319 616.863,443.791 657.358,420.278 697.853,396.789 \n",
       "  738.348,373.326 778.843,349.832 819.338,326.427 859.833,303.202 900.327,279.921 940.822,256.462 981.317,232.95 1021.81,209.383 1062.31,185.545 1102.8,161.84 \n",
       "  1143.3,138.197 \n",
       "  \"/>\n",
       "<circle clip-path=\"url(#clip072)\" cx=\"333.399\" cy=\"602.303\" r=\"14\" fill=\"#009af9\" fill-rule=\"evenodd\" fill-opacity=\"1\" stroke=\"#000000\" stroke-opacity=\"1\" stroke-width=\"3.2\"/>\n",
       "<circle clip-path=\"url(#clip072)\" cx=\"373.894\" cy=\"584.04\" r=\"14\" fill=\"#009af9\" fill-rule=\"evenodd\" fill-opacity=\"1\" stroke=\"#000000\" stroke-opacity=\"1\" stroke-width=\"3.2\"/>\n",
       "<circle clip-path=\"url(#clip072)\" cx=\"414.389\" cy=\"561.31\" r=\"14\" fill=\"#009af9\" fill-rule=\"evenodd\" fill-opacity=\"1\" stroke=\"#000000\" stroke-opacity=\"1\" stroke-width=\"3.2\"/>\n",
       "<circle clip-path=\"url(#clip072)\" cx=\"454.884\" cy=\"537.958\" r=\"14\" fill=\"#009af9\" fill-rule=\"evenodd\" fill-opacity=\"1\" stroke=\"#000000\" stroke-opacity=\"1\" stroke-width=\"3.2\"/>\n",
       "<circle clip-path=\"url(#clip072)\" cx=\"495.378\" cy=\"514.438\" r=\"14\" fill=\"#009af9\" fill-rule=\"evenodd\" fill-opacity=\"1\" stroke=\"#000000\" stroke-opacity=\"1\" stroke-width=\"3.2\"/>\n",
       "<circle clip-path=\"url(#clip072)\" cx=\"535.873\" cy=\"490.879\" r=\"14\" fill=\"#009af9\" fill-rule=\"evenodd\" fill-opacity=\"1\" stroke=\"#000000\" stroke-opacity=\"1\" stroke-width=\"3.2\"/>\n",
       "<circle clip-path=\"url(#clip072)\" cx=\"576.368\" cy=\"467.319\" r=\"14\" fill=\"#009af9\" fill-rule=\"evenodd\" fill-opacity=\"1\" stroke=\"#000000\" stroke-opacity=\"1\" stroke-width=\"3.2\"/>\n",
       "<circle clip-path=\"url(#clip072)\" cx=\"616.863\" cy=\"443.791\" r=\"14\" fill=\"#009af9\" fill-rule=\"evenodd\" fill-opacity=\"1\" stroke=\"#000000\" stroke-opacity=\"1\" stroke-width=\"3.2\"/>\n",
       "<circle clip-path=\"url(#clip072)\" cx=\"657.358\" cy=\"420.278\" r=\"14\" fill=\"#009af9\" fill-rule=\"evenodd\" fill-opacity=\"1\" stroke=\"#000000\" stroke-opacity=\"1\" stroke-width=\"3.2\"/>\n",
       "<circle clip-path=\"url(#clip072)\" cx=\"697.853\" cy=\"396.789\" r=\"14\" fill=\"#009af9\" fill-rule=\"evenodd\" fill-opacity=\"1\" stroke=\"#000000\" stroke-opacity=\"1\" stroke-width=\"3.2\"/>\n",
       "<circle clip-path=\"url(#clip072)\" cx=\"738.348\" cy=\"373.326\" r=\"14\" fill=\"#009af9\" fill-rule=\"evenodd\" fill-opacity=\"1\" stroke=\"#000000\" stroke-opacity=\"1\" stroke-width=\"3.2\"/>\n",
       "<circle clip-path=\"url(#clip072)\" cx=\"778.843\" cy=\"349.832\" r=\"14\" fill=\"#009af9\" fill-rule=\"evenodd\" fill-opacity=\"1\" stroke=\"#000000\" stroke-opacity=\"1\" stroke-width=\"3.2\"/>\n",
       "<circle clip-path=\"url(#clip072)\" cx=\"819.338\" cy=\"326.427\" r=\"14\" fill=\"#009af9\" fill-rule=\"evenodd\" fill-opacity=\"1\" stroke=\"#000000\" stroke-opacity=\"1\" stroke-width=\"3.2\"/>\n",
       "<circle clip-path=\"url(#clip072)\" cx=\"859.833\" cy=\"303.202\" r=\"14\" fill=\"#009af9\" fill-rule=\"evenodd\" fill-opacity=\"1\" stroke=\"#000000\" stroke-opacity=\"1\" stroke-width=\"3.2\"/>\n",
       "<circle clip-path=\"url(#clip072)\" cx=\"900.327\" cy=\"279.921\" r=\"14\" fill=\"#009af9\" fill-rule=\"evenodd\" fill-opacity=\"1\" stroke=\"#000000\" stroke-opacity=\"1\" stroke-width=\"3.2\"/>\n",
       "<circle clip-path=\"url(#clip072)\" cx=\"940.822\" cy=\"256.462\" r=\"14\" fill=\"#009af9\" fill-rule=\"evenodd\" fill-opacity=\"1\" stroke=\"#000000\" stroke-opacity=\"1\" stroke-width=\"3.2\"/>\n",
       "<circle clip-path=\"url(#clip072)\" cx=\"981.317\" cy=\"232.95\" r=\"14\" fill=\"#009af9\" fill-rule=\"evenodd\" fill-opacity=\"1\" stroke=\"#000000\" stroke-opacity=\"1\" stroke-width=\"3.2\"/>\n",
       "<circle clip-path=\"url(#clip072)\" cx=\"1021.81\" cy=\"209.383\" r=\"14\" fill=\"#009af9\" fill-rule=\"evenodd\" fill-opacity=\"1\" stroke=\"#000000\" stroke-opacity=\"1\" stroke-width=\"3.2\"/>\n",
       "<circle clip-path=\"url(#clip072)\" cx=\"1062.31\" cy=\"185.545\" r=\"14\" fill=\"#009af9\" fill-rule=\"evenodd\" fill-opacity=\"1\" stroke=\"#000000\" stroke-opacity=\"1\" stroke-width=\"3.2\"/>\n",
       "<circle clip-path=\"url(#clip072)\" cx=\"1102.8\" cy=\"161.84\" r=\"14\" fill=\"#009af9\" fill-rule=\"evenodd\" fill-opacity=\"1\" stroke=\"#000000\" stroke-opacity=\"1\" stroke-width=\"3.2\"/>\n",
       "<circle clip-path=\"url(#clip072)\" cx=\"1143.3\" cy=\"138.197\" r=\"14\" fill=\"#009af9\" fill-rule=\"evenodd\" fill-opacity=\"1\" stroke=\"#000000\" stroke-opacity=\"1\" stroke-width=\"3.2\"/>\n",
       "<polyline clip-path=\"url(#clip072)\" style=\"stroke:#ffa500; stroke-width:8; stroke-opacity:1; fill:none\" stroke-dasharray=\"32, 20\" points=\"\n",
       "  333.399,609.037 373.894,585.466 414.389,561.895 454.884,538.324 495.378,514.753 535.873,491.182 576.368,467.61 616.863,444.039 657.358,420.468 697.853,396.897 \n",
       "  738.348,373.326 778.843,349.755 819.338,326.184 859.833,302.613 900.327,279.042 940.822,255.47 981.317,231.899 1021.81,208.328 1062.31,184.757 1102.8,161.186 \n",
       "  1143.3,137.615 \n",
       "  \"/>\n",
       "<path clip-path=\"url(#clip070)\" d=\"\n",
       "M1494.26 623.18 L2352.76 623.18 L2352.76 123.472 L1494.26 123.472  Z\n",
       "  \" fill=\"#ffffff\" fill-rule=\"evenodd\" fill-opacity=\"1\"/>\n",
       "<defs>\n",
       "  <clipPath id=\"clip073\">\n",
       "    <rect x=\"1494\" y=\"123\" width=\"859\" height=\"501\"/>\n",
       "  </clipPath>\n",
       "</defs>\n",
       "<polyline clip-path=\"url(#clip073)\" style=\"stroke:#000000; stroke-width:2; stroke-opacity:0.1; fill:none\" points=\"\n",
       "  1518.56,623.18 1518.56,123.472 \n",
       "  \"/>\n",
       "<polyline clip-path=\"url(#clip073)\" style=\"stroke:#000000; stroke-width:2; stroke-opacity:0.1; fill:none\" points=\"\n",
       "  1721.04,623.18 1721.04,123.472 \n",
       "  \"/>\n",
       "<polyline clip-path=\"url(#clip073)\" style=\"stroke:#000000; stroke-width:2; stroke-opacity:0.1; fill:none\" points=\"\n",
       "  1923.51,623.18 1923.51,123.472 \n",
       "  \"/>\n",
       "<polyline clip-path=\"url(#clip073)\" style=\"stroke:#000000; stroke-width:2; stroke-opacity:0.1; fill:none\" points=\"\n",
       "  2125.98,623.18 2125.98,123.472 \n",
       "  \"/>\n",
       "<polyline clip-path=\"url(#clip073)\" style=\"stroke:#000000; stroke-width:2; stroke-opacity:0.1; fill:none\" points=\"\n",
       "  2328.46,623.18 2328.46,123.472 \n",
       "  \"/>\n",
       "<polyline clip-path=\"url(#clip070)\" style=\"stroke:#000000; stroke-width:4; stroke-opacity:1; fill:none\" points=\"\n",
       "  1494.26,623.18 2352.76,623.18 \n",
       "  \"/>\n",
       "<polyline clip-path=\"url(#clip070)\" style=\"stroke:#000000; stroke-width:4; stroke-opacity:1; fill:none\" points=\"\n",
       "  1518.56,623.18 1518.56,617.183 \n",
       "  \"/>\n",
       "<polyline clip-path=\"url(#clip070)\" style=\"stroke:#000000; stroke-width:4; stroke-opacity:1; fill:none\" points=\"\n",
       "  1721.04,623.18 1721.04,617.183 \n",
       "  \"/>\n",
       "<polyline clip-path=\"url(#clip070)\" style=\"stroke:#000000; stroke-width:4; stroke-opacity:1; fill:none\" points=\"\n",
       "  1923.51,623.18 1923.51,617.183 \n",
       "  \"/>\n",
       "<polyline clip-path=\"url(#clip070)\" style=\"stroke:#000000; stroke-width:4; stroke-opacity:1; fill:none\" points=\"\n",
       "  2125.98,623.18 2125.98,617.183 \n",
       "  \"/>\n",
       "<polyline clip-path=\"url(#clip070)\" style=\"stroke:#000000; stroke-width:4; stroke-opacity:1; fill:none\" points=\"\n",
       "  2328.46,623.18 2328.46,617.183 \n",
       "  \"/>\n",
       "<path clip-path=\"url(#clip070)\" d=\"M 0 0 M1495.95 652.371 Q1492.33 652.371 1490.51 655.935 Q1488.7 659.477 1488.7 666.607 Q1488.7 673.713 1490.51 677.278 Q1492.33 680.819 1495.95 680.819 Q1499.58 680.819 1501.39 677.278 Q1503.21 673.713 1503.21 666.607 Q1503.21 659.477 1501.39 655.935 Q1499.58 652.371 1495.95 652.371 M1495.95 648.667 Q1501.76 648.667 1504.81 653.273 Q1507.89 657.857 1507.89 666.607 Q1507.89 675.333 1504.81 679.94 Q1501.76 684.523 1495.95 684.523 Q1490.14 684.523 1487.06 679.94 Q1484 675.333 1484 666.607 Q1484 657.857 1487.06 653.273 Q1490.14 648.667 1495.95 648.667 Z\" fill=\"#000000\" fill-rule=\"evenodd\" fill-opacity=\"1\" /><path clip-path=\"url(#clip070)\" d=\"M 0 0 M1516.11 677.972 L1520.99 677.972 L1520.99 683.852 L1516.11 683.852 L1516.11 677.972 Z\" fill=\"#000000\" fill-rule=\"evenodd\" fill-opacity=\"1\" /><path clip-path=\"url(#clip070)\" d=\"M 0 0 M1541.18 652.371 Q1537.57 652.371 1535.74 655.935 Q1533.93 659.477 1533.93 666.607 Q1533.93 673.713 1535.74 677.278 Q1537.57 680.819 1541.18 680.819 Q1544.81 680.819 1546.62 677.278 Q1548.45 673.713 1548.45 666.607 Q1548.45 659.477 1546.62 655.935 Q1544.81 652.371 1541.18 652.371 M1541.18 648.667 Q1546.99 648.667 1550.04 653.273 Q1553.12 657.857 1553.12 666.607 Q1553.12 675.333 1550.04 679.94 Q1546.99 684.523 1541.18 684.523 Q1535.37 684.523 1532.29 679.94 Q1529.23 675.333 1529.23 666.607 Q1529.23 657.857 1532.29 653.273 Q1535.37 648.667 1541.18 648.667 Z\" fill=\"#000000\" fill-rule=\"evenodd\" fill-opacity=\"1\" /><path clip-path=\"url(#clip070)\" d=\"M 0 0 M1698.92 652.371 Q1695.31 652.371 1693.48 655.935 Q1691.67 659.477 1691.67 666.607 Q1691.67 673.713 1693.48 677.278 Q1695.31 680.819 1698.92 680.819 Q1702.55 680.819 1704.36 677.278 Q1706.19 673.713 1706.19 666.607 Q1706.19 659.477 1704.36 655.935 Q1702.55 652.371 1698.92 652.371 M1698.92 648.667 Q1704.73 648.667 1707.78 653.273 Q1710.86 657.857 1710.86 666.607 Q1710.86 675.333 1707.78 679.94 Q1704.73 684.523 1698.92 684.523 Q1693.11 684.523 1690.03 679.94 Q1686.97 675.333 1686.97 666.607 Q1686.97 657.857 1690.03 653.273 Q1693.11 648.667 1698.92 648.667 Z\" fill=\"#000000\" fill-rule=\"evenodd\" fill-opacity=\"1\" /><path clip-path=\"url(#clip070)\" d=\"M 0 0 M1719.08 677.972 L1723.96 677.972 L1723.96 683.852 L1719.08 683.852 L1719.08 677.972 Z\" fill=\"#000000\" fill-rule=\"evenodd\" fill-opacity=\"1\" /><path clip-path=\"url(#clip070)\" d=\"M 0 0 M1734.2 649.292 L1752.55 649.292 L1752.55 653.227 L1738.48 653.227 L1738.48 661.699 Q1739.5 661.352 1740.51 661.19 Q1741.53 661.005 1742.55 661.005 Q1748.34 661.005 1751.72 664.176 Q1755.1 667.347 1755.1 672.764 Q1755.1 678.343 1751.63 681.444 Q1748.15 684.523 1741.83 684.523 Q1739.66 684.523 1737.39 684.153 Q1735.14 683.782 1732.74 683.042 L1732.74 678.343 Q1734.82 679.477 1737.04 680.032 Q1739.26 680.588 1741.74 680.588 Q1745.75 680.588 1748.08 678.482 Q1750.42 676.375 1750.42 672.764 Q1750.42 669.153 1748.08 667.046 Q1745.75 664.94 1741.74 664.94 Q1739.87 664.94 1737.99 665.357 Q1736.14 665.773 1734.2 666.653 L1734.2 649.292 Z\" fill=\"#000000\" fill-rule=\"evenodd\" fill-opacity=\"1\" /><path clip-path=\"url(#clip070)\" d=\"M 0 0 M1890.66 679.917 L1898.3 679.917 L1898.3 653.551 L1889.99 655.218 L1889.99 650.959 L1898.26 649.292 L1902.93 649.292 L1902.93 679.917 L1910.57 679.917 L1910.57 683.852 L1890.66 683.852 L1890.66 679.917 Z\" fill=\"#000000\" fill-rule=\"evenodd\" fill-opacity=\"1\" /><path clip-path=\"url(#clip070)\" d=\"M 0 0 M1920.01 677.972 L1924.9 677.972 L1924.9 683.852 L1920.01 683.852 L1920.01 677.972 Z\" fill=\"#000000\" fill-rule=\"evenodd\" fill-opacity=\"1\" /><path clip-path=\"url(#clip070)\" d=\"M 0 0 M1945.08 652.371 Q1941.47 652.371 1939.64 655.935 Q1937.84 659.477 1937.84 666.607 Q1937.84 673.713 1939.64 677.278 Q1941.47 680.819 1945.08 680.819 Q1948.72 680.819 1950.52 677.278 Q1952.35 673.713 1952.35 666.607 Q1952.35 659.477 1950.52 655.935 Q1948.72 652.371 1945.08 652.371 M1945.08 648.667 Q1950.89 648.667 1953.95 653.273 Q1957.03 657.857 1957.03 666.607 Q1957.03 675.333 1953.95 679.94 Q1950.89 684.523 1945.08 684.523 Q1939.27 684.523 1936.2 679.94 Q1933.14 675.333 1933.14 666.607 Q1933.14 657.857 1936.2 653.273 Q1939.27 648.667 1945.08 648.667 Z\" fill=\"#000000\" fill-rule=\"evenodd\" fill-opacity=\"1\" /><path clip-path=\"url(#clip070)\" d=\"M 0 0 M2093.64 679.917 L2101.27 679.917 L2101.27 653.551 L2092.96 655.218 L2092.96 650.959 L2101.23 649.292 L2105.9 649.292 L2105.9 679.917 L2113.54 679.917 L2113.54 683.852 L2093.64 683.852 L2093.64 679.917 Z\" fill=\"#000000\" fill-rule=\"evenodd\" fill-opacity=\"1\" /><path clip-path=\"url(#clip070)\" d=\"M 0 0 M2122.99 677.972 L2127.87 677.972 L2127.87 683.852 L2122.99 683.852 L2122.99 677.972 Z\" fill=\"#000000\" fill-rule=\"evenodd\" fill-opacity=\"1\" /><path clip-path=\"url(#clip070)\" d=\"M 0 0 M2138.1 649.292 L2156.46 649.292 L2156.46 653.227 L2142.38 653.227 L2142.38 661.699 Q2143.4 661.352 2144.42 661.19 Q2145.44 661.005 2146.46 661.005 Q2152.25 661.005 2155.63 664.176 Q2159.01 667.347 2159.01 672.764 Q2159.01 678.343 2155.53 681.444 Q2152.06 684.523 2145.74 684.523 Q2143.57 684.523 2141.3 684.153 Q2139.05 683.782 2136.64 683.042 L2136.64 678.343 Q2138.73 679.477 2140.95 680.032 Q2143.17 680.588 2145.65 680.588 Q2149.65 680.588 2151.99 678.482 Q2154.33 676.375 2154.33 672.764 Q2154.33 669.153 2151.99 667.046 Q2149.65 664.94 2145.65 664.94 Q2143.77 664.94 2141.9 665.357 Q2140.05 665.773 2138.1 666.653 L2138.1 649.292 Z\" fill=\"#000000\" fill-rule=\"evenodd\" fill-opacity=\"1\" /><path clip-path=\"url(#clip070)\" d=\"M 0 0 M2299.7 679.917 L2316.02 679.917 L2316.02 683.852 L2294.07 683.852 L2294.07 679.917 Q2296.73 677.162 2301.32 672.532 Q2305.92 667.88 2307.1 666.537 Q2309.35 664.014 2310.23 662.278 Q2311.13 660.519 2311.13 658.829 Q2311.13 656.074 2309.19 654.338 Q2307.27 652.602 2304.17 652.602 Q2301.97 652.602 2299.51 653.366 Q2297.08 654.13 2294.3 655.681 L2294.3 650.959 Q2297.13 649.824 2299.58 649.246 Q2302.04 648.667 2304.07 648.667 Q2309.44 648.667 2312.64 651.352 Q2315.83 654.037 2315.83 658.528 Q2315.83 660.658 2315.02 662.579 Q2314.23 664.477 2312.13 667.07 Q2311.55 667.741 2308.45 670.958 Q2305.35 674.153 2299.7 679.917 Z\" fill=\"#000000\" fill-rule=\"evenodd\" fill-opacity=\"1\" /><path clip-path=\"url(#clip070)\" d=\"M 0 0 M2325.83 677.972 L2330.72 677.972 L2330.72 683.852 L2325.83 683.852 L2325.83 677.972 Z\" fill=\"#000000\" fill-rule=\"evenodd\" fill-opacity=\"1\" /><path clip-path=\"url(#clip070)\" d=\"M 0 0 M2350.9 652.371 Q2347.29 652.371 2345.46 655.935 Q2343.66 659.477 2343.66 666.607 Q2343.66 673.713 2345.46 677.278 Q2347.29 680.819 2350.9 680.819 Q2354.54 680.819 2356.34 677.278 Q2358.17 673.713 2358.17 666.607 Q2358.17 659.477 2356.34 655.935 Q2354.54 652.371 2350.9 652.371 M2350.9 648.667 Q2356.71 648.667 2359.77 653.273 Q2362.85 657.857 2362.85 666.607 Q2362.85 675.333 2359.77 679.94 Q2356.71 684.523 2350.9 684.523 Q2345.09 684.523 2342.01 679.94 Q2338.96 675.333 2338.96 666.607 Q2338.96 657.857 2342.01 653.273 Q2345.09 648.667 2350.9 648.667 Z\" fill=\"#000000\" fill-rule=\"evenodd\" fill-opacity=\"1\" /><path clip-path=\"url(#clip070)\" d=\"M 0 0 M1544.34 737.87 Q1543.35 737.297 1542.17 737.043 Q1541.03 736.756 1539.63 736.756 Q1534.66 736.756 1531.99 740.003 Q1529.35 743.218 1529.35 749.265 L1529.35 768.044 L1523.46 768.044 L1523.46 732.396 L1529.35 732.396 L1529.35 737.934 Q1531.19 734.688 1534.15 733.128 Q1537.11 731.537 1541.34 731.537 Q1541.95 731.537 1542.68 731.632 Q1543.41 731.696 1544.3 731.855 L1544.34 737.87 Z\" fill=\"#000000\" fill-rule=\"evenodd\" fill-opacity=\"1\" /><path clip-path=\"url(#clip070)\" d=\"M 0 0 M1579.54 748.756 L1579.54 751.62 L1552.61 751.62 Q1552.99 757.668 1556.24 760.851 Q1559.52 764.002 1565.34 764.002 Q1568.72 764.002 1571.87 763.174 Q1575.05 762.347 1578.17 760.691 L1578.17 766.23 Q1575.02 767.566 1571.71 768.267 Q1568.4 768.967 1564.99 768.967 Q1556.46 768.967 1551.47 764.002 Q1546.5 759.036 1546.5 750.57 Q1546.5 741.817 1551.21 736.693 Q1555.95 731.537 1563.97 731.537 Q1571.17 731.537 1575.34 736.183 Q1579.54 740.799 1579.54 748.756 M1573.68 747.037 Q1573.62 742.231 1570.98 739.366 Q1568.37 736.502 1564.04 736.502 Q1559.14 736.502 1556.18 739.271 Q1553.25 742.04 1552.8 747.069 L1573.68 747.037 Z\" fill=\"#000000\" fill-rule=\"evenodd\" fill-opacity=\"1\" /><path clip-path=\"url(#clip070)\" d=\"M 0 0 M1589.15 718.519 L1595.01 718.519 L1595.01 768.044 L1589.15 768.044 L1589.15 718.519 Z\" fill=\"#000000\" fill-rule=\"evenodd\" fill-opacity=\"1\" /><path clip-path=\"url(#clip070)\" d=\"M 0 0 M1623.46 750.124 Q1616.36 750.124 1613.63 751.748 Q1610.89 753.371 1610.89 757.286 Q1610.89 760.405 1612.93 762.251 Q1615 764.065 1618.53 764.065 Q1623.4 764.065 1626.33 760.628 Q1629.29 757.158 1629.29 751.429 L1629.29 750.124 L1623.46 750.124 M1635.14 747.705 L1635.14 768.044 L1629.29 768.044 L1629.29 762.633 Q1627.28 765.88 1624.29 767.439 Q1621.3 768.967 1616.97 768.967 Q1611.49 768.967 1608.25 765.911 Q1605.03 762.824 1605.03 757.668 Q1605.03 751.652 1609.04 748.597 Q1613.09 745.541 1621.08 745.541 L1629.29 745.541 L1629.29 744.968 Q1629.29 740.926 1626.61 738.73 Q1623.97 736.502 1619.17 736.502 Q1616.11 736.502 1613.21 737.234 Q1610.32 737.966 1607.64 739.43 L1607.64 734.019 Q1610.86 732.778 1613.88 732.173 Q1616.91 731.537 1619.77 731.537 Q1627.5 731.537 1631.32 735.547 Q1635.14 739.557 1635.14 747.705 Z\" fill=\"#000000\" fill-rule=\"evenodd\" fill-opacity=\"1\" /><path clip-path=\"url(#clip070)\" d=\"M 0 0 M1653 722.274 L1653 732.396 L1665.06 732.396 L1665.06 736.947 L1653 736.947 L1653 756.299 Q1653 760.66 1654.18 761.901 Q1655.39 763.142 1659.05 763.142 L1665.06 763.142 L1665.06 768.044 L1659.05 768.044 Q1652.27 768.044 1649.69 765.529 Q1647.11 762.983 1647.11 756.299 L1647.11 736.947 L1642.81 736.947 L1642.81 732.396 L1647.11 732.396 L1647.11 722.274 L1653 722.274 Z\" fill=\"#000000\" fill-rule=\"evenodd\" fill-opacity=\"1\" /><path clip-path=\"url(#clip070)\" d=\"M 0 0 M1672.76 732.396 L1678.62 732.396 L1678.62 768.044 L1672.76 768.044 L1672.76 732.396 M1672.76 718.519 L1678.62 718.519 L1678.62 725.935 L1672.76 725.935 L1672.76 718.519 Z\" fill=\"#000000\" fill-rule=\"evenodd\" fill-opacity=\"1\" /><path clip-path=\"url(#clip070)\" d=\"M 0 0 M1686.67 732.396 L1692.88 732.396 L1704.02 762.315 L1715.16 732.396 L1721.37 732.396 L1708 768.044 L1700.04 768.044 L1686.67 732.396 Z\" fill=\"#000000\" fill-rule=\"evenodd\" fill-opacity=\"1\" /><path clip-path=\"url(#clip070)\" d=\"M 0 0 M1759.94 748.756 L1759.94 751.62 L1733.02 751.62 Q1733.4 757.668 1736.64 760.851 Q1739.92 764.002 1745.75 764.002 Q1749.12 764.002 1752.27 763.174 Q1755.46 762.347 1758.57 760.691 L1758.57 766.23 Q1755.42 767.566 1752.11 768.267 Q1748.8 768.967 1745.4 768.967 Q1736.87 768.967 1731.87 764.002 Q1726.91 759.036 1726.91 750.57 Q1726.91 741.817 1731.62 736.693 Q1736.36 731.537 1744.38 731.537 Q1751.57 731.537 1755.74 736.183 Q1759.94 740.799 1759.94 748.756 M1754.09 747.037 Q1754.02 742.231 1751.38 739.366 Q1748.77 736.502 1744.44 736.502 Q1739.54 736.502 1736.58 739.271 Q1733.65 742.04 1733.21 747.069 L1754.09 747.037 Z\" fill=\"#000000\" fill-rule=\"evenodd\" fill-opacity=\"1\" /><path clip-path=\"url(#clip070)\" d=\"M 0 0 M1795.94 762.697 L1795.94 781.603 L1790.05 781.603 L1790.05 732.396 L1795.94 732.396 L1795.94 737.807 Q1797.79 734.624 1800.59 733.096 Q1803.42 731.537 1807.34 731.537 Q1813.83 731.537 1817.87 736.693 Q1821.95 741.849 1821.95 750.252 Q1821.95 758.654 1817.87 763.811 Q1813.83 768.967 1807.34 768.967 Q1803.42 768.967 1800.59 767.439 Q1797.79 765.88 1795.94 762.697 M1815.87 750.252 Q1815.87 743.791 1813.19 740.13 Q1810.55 736.438 1805.9 736.438 Q1801.26 736.438 1798.58 740.13 Q1795.94 743.791 1795.94 750.252 Q1795.94 756.713 1798.58 760.405 Q1801.26 764.065 1805.9 764.065 Q1810.55 764.065 1813.19 760.405 Q1815.87 756.713 1815.87 750.252 Z\" fill=\"#000000\" fill-rule=\"evenodd\" fill-opacity=\"1\" /><path clip-path=\"url(#clip070)\" d=\"M 0 0 M1847.85 750.124 Q1840.76 750.124 1838.02 751.748 Q1835.28 753.371 1835.28 757.286 Q1835.28 760.405 1837.32 762.251 Q1839.39 764.065 1842.92 764.065 Q1847.79 764.065 1850.72 760.628 Q1853.68 757.158 1853.68 751.429 L1853.68 750.124 L1847.85 750.124 M1859.53 747.705 L1859.53 768.044 L1853.68 768.044 L1853.68 762.633 Q1851.67 765.88 1848.68 767.439 Q1845.69 768.967 1841.36 768.967 Q1835.89 768.967 1832.64 765.911 Q1829.42 762.824 1829.42 757.668 Q1829.42 751.652 1833.44 748.597 Q1837.48 745.541 1845.47 745.541 L1853.68 745.541 L1853.68 744.968 Q1853.68 740.926 1851 738.73 Q1848.36 736.502 1843.56 736.502 Q1840.5 736.502 1837.6 737.234 Q1834.71 737.966 1832.03 739.43 L1832.03 734.019 Q1835.25 732.778 1838.27 732.173 Q1841.3 731.537 1844.16 731.537 Q1851.9 731.537 1855.72 735.547 Q1859.53 739.557 1859.53 747.705 Z\" fill=\"#000000\" fill-rule=\"evenodd\" fill-opacity=\"1\" /><path clip-path=\"url(#clip070)\" d=\"M 0 0 M1892.25 737.87 Q1891.27 737.297 1890.09 737.043 Q1888.94 736.756 1887.54 736.756 Q1882.58 736.756 1879.9 740.003 Q1877.26 743.218 1877.26 749.265 L1877.26 768.044 L1871.37 768.044 L1871.37 732.396 L1877.26 732.396 L1877.26 737.934 Q1879.11 734.688 1882.07 733.128 Q1885.03 731.537 1889.26 731.537 Q1889.87 731.537 1890.6 731.632 Q1891.33 731.696 1892.22 731.855 L1892.25 737.87 Z\" fill=\"#000000\" fill-rule=\"evenodd\" fill-opacity=\"1\" /><path clip-path=\"url(#clip070)\" d=\"M 0 0 M1914.6 750.124 Q1907.5 750.124 1904.76 751.748 Q1902.03 753.371 1902.03 757.286 Q1902.03 760.405 1904.06 762.251 Q1906.13 764.065 1909.66 764.065 Q1914.53 764.065 1917.46 760.628 Q1920.42 757.158 1920.42 751.429 L1920.42 750.124 L1914.6 750.124 M1926.28 747.705 L1926.28 768.044 L1920.42 768.044 L1920.42 762.633 Q1918.42 765.88 1915.43 767.439 Q1912.43 768.967 1908.1 768.967 Q1902.63 768.967 1899.38 765.911 Q1896.17 762.824 1896.17 757.668 Q1896.17 751.652 1900.18 748.597 Q1904.22 745.541 1912.21 745.541 L1920.42 745.541 L1920.42 744.968 Q1920.42 740.926 1917.75 738.73 Q1915.11 736.502 1910.3 736.502 Q1907.25 736.502 1904.35 737.234 Q1901.45 737.966 1898.78 739.43 L1898.78 734.019 Q1901.99 732.778 1905.02 732.173 Q1908.04 731.537 1910.91 731.537 Q1918.64 731.537 1922.46 735.547 Q1926.28 739.557 1926.28 747.705 Z\" fill=\"#000000\" fill-rule=\"evenodd\" fill-opacity=\"1\" /><path clip-path=\"url(#clip070)\" d=\"M 0 0 M1966.1 739.239 Q1968.29 735.292 1971.35 733.414 Q1974.4 731.537 1978.54 731.537 Q1984.11 731.537 1987.14 735.451 Q1990.16 739.335 1990.16 746.528 L1990.16 768.044 L1984.27 768.044 L1984.27 746.719 Q1984.27 741.594 1982.46 739.112 Q1980.64 736.629 1976.92 736.629 Q1972.37 736.629 1969.72 739.653 Q1967.08 742.677 1967.08 747.896 L1967.08 768.044 L1961.19 768.044 L1961.19 746.719 Q1961.19 741.563 1959.38 739.112 Q1957.57 736.629 1953.78 736.629 Q1949.29 736.629 1946.65 739.685 Q1944.01 742.708 1944.01 747.896 L1944.01 768.044 L1938.12 768.044 L1938.12 732.396 L1944.01 732.396 L1944.01 737.934 Q1946.01 734.656 1948.81 733.096 Q1951.61 731.537 1955.47 731.537 Q1959.35 731.537 1962.05 733.51 Q1964.79 735.483 1966.1 739.239 Z\" fill=\"#000000\" fill-rule=\"evenodd\" fill-opacity=\"1\" /><path clip-path=\"url(#clip070)\" d=\"M 0 0 M2032.33 748.756 L2032.33 751.62 L2005.4 751.62 Q2005.79 757.668 2009.03 760.851 Q2012.31 764.002 2018.14 764.002 Q2021.51 764.002 2024.66 763.174 Q2027.84 762.347 2030.96 760.691 L2030.96 766.23 Q2027.81 767.566 2024.5 768.267 Q2021.19 768.967 2017.79 768.967 Q2009.26 768.967 2004.26 764.002 Q1999.29 759.036 1999.29 750.57 Q1999.29 741.817 2004 736.693 Q2008.75 731.537 2016.77 731.537 Q2023.96 731.537 2028.13 736.183 Q2032.33 740.799 2032.33 748.756 M2026.48 747.037 Q2026.41 742.231 2023.77 739.366 Q2021.16 736.502 2016.83 736.502 Q2011.93 736.502 2008.97 739.271 Q2006.04 742.04 2005.6 747.069 L2026.48 747.037 Z\" fill=\"#000000\" fill-rule=\"evenodd\" fill-opacity=\"1\" /><path clip-path=\"url(#clip070)\" d=\"M 0 0 M2047.74 722.274 L2047.74 732.396 L2059.8 732.396 L2059.8 736.947 L2047.74 736.947 L2047.74 756.299 Q2047.74 760.66 2048.91 761.901 Q2050.12 763.142 2053.78 763.142 L2059.8 763.142 L2059.8 768.044 L2053.78 768.044 Q2047 768.044 2044.43 765.529 Q2041.85 762.983 2041.85 756.299 L2041.85 736.947 L2037.55 736.947 L2037.55 732.396 L2041.85 732.396 L2041.85 722.274 L2047.74 722.274 Z\" fill=\"#000000\" fill-rule=\"evenodd\" fill-opacity=\"1\" /><path clip-path=\"url(#clip070)\" d=\"M 0 0 M2097.99 748.756 L2097.99 751.62 L2071.07 751.62 Q2071.45 757.668 2074.7 760.851 Q2077.97 764.002 2083.8 764.002 Q2087.17 764.002 2090.32 763.174 Q2093.51 762.347 2096.63 760.691 L2096.63 766.23 Q2093.47 767.566 2090.16 768.267 Q2086.85 768.967 2083.45 768.967 Q2074.92 768.967 2069.92 764.002 Q2064.96 759.036 2064.96 750.57 Q2064.96 741.817 2069.67 736.693 Q2074.41 731.537 2082.43 731.537 Q2089.62 731.537 2093.79 736.183 Q2097.99 740.799 2097.99 748.756 M2092.14 747.037 Q2092.07 742.231 2089.43 739.366 Q2086.82 736.502 2082.49 736.502 Q2077.59 736.502 2074.63 739.271 Q2071.7 742.04 2071.26 747.069 L2092.14 747.037 Z\" fill=\"#000000\" fill-rule=\"evenodd\" fill-opacity=\"1\" /><path clip-path=\"url(#clip070)\" d=\"M 0 0 M2128.26 737.87 Q2127.28 737.297 2126.1 737.043 Q2124.95 736.756 2123.55 736.756 Q2118.59 736.756 2115.91 740.003 Q2113.27 743.218 2113.27 749.265 L2113.27 768.044 L2107.38 768.044 L2107.38 732.396 L2113.27 732.396 L2113.27 737.934 Q2115.12 734.688 2118.08 733.128 Q2121.04 731.537 2125.27 731.537 Q2125.88 731.537 2126.61 731.632 Q2127.34 731.696 2128.23 731.855 L2128.26 737.87 Z\" fill=\"#000000\" fill-rule=\"evenodd\" fill-opacity=\"1\" /><path clip-path=\"url(#clip070)\" d=\"M 0 0 M2150.92 732.396 L2157.13 732.396 L2168.27 762.315 L2179.41 732.396 L2185.62 732.396 L2172.25 768.044 L2164.29 768.044 L2150.92 732.396 Z\" fill=\"#000000\" fill-rule=\"evenodd\" fill-opacity=\"1\" /><path clip-path=\"url(#clip070)\" d=\"M 0 0 M2209.9 750.124 Q2202.81 750.124 2200.07 751.748 Q2197.33 753.371 2197.33 757.286 Q2197.33 760.405 2199.37 762.251 Q2201.44 764.065 2204.97 764.065 Q2209.84 764.065 2212.77 760.628 Q2215.73 757.158 2215.73 751.429 L2215.73 750.124 L2209.9 750.124 M2221.58 747.705 L2221.58 768.044 L2215.73 768.044 L2215.73 762.633 Q2213.72 765.88 2210.73 767.439 Q2207.74 768.967 2203.41 768.967 Q2197.94 768.967 2194.69 765.911 Q2191.47 762.824 2191.47 757.668 Q2191.47 751.652 2195.48 748.597 Q2199.53 745.541 2207.52 745.541 L2215.73 745.541 L2215.73 744.968 Q2215.73 740.926 2213.05 738.73 Q2210.41 736.502 2205.61 736.502 Q2202.55 736.502 2199.65 737.234 Q2196.76 737.966 2194.08 739.43 L2194.08 734.019 Q2197.3 732.778 2200.32 732.173 Q2203.35 731.537 2206.21 731.537 Q2213.95 731.537 2217.76 735.547 Q2221.58 739.557 2221.58 747.705 Z\" fill=\"#000000\" fill-rule=\"evenodd\" fill-opacity=\"1\" /><path clip-path=\"url(#clip070)\" d=\"M 0 0 M2233.65 718.519 L2239.5 718.519 L2239.5 768.044 L2233.65 768.044 L2233.65 718.519 Z\" fill=\"#000000\" fill-rule=\"evenodd\" fill-opacity=\"1\" /><path clip-path=\"url(#clip070)\" d=\"M 0 0 M2251.15 753.976 L2251.15 732.396 L2257.01 732.396 L2257.01 753.753 Q2257.01 758.814 2258.98 761.36 Q2260.96 763.874 2264.9 763.874 Q2269.65 763.874 2272.38 760.851 Q2275.15 757.827 2275.15 752.607 L2275.15 732.396 L2281.01 732.396 L2281.01 768.044 L2275.15 768.044 L2275.15 762.569 Q2273.02 765.816 2270.19 767.407 Q2267.39 768.967 2263.66 768.967 Q2257.52 768.967 2254.34 765.147 Q2251.15 761.328 2251.15 753.976 M2265.89 731.537 L2265.89 731.537 Z\" fill=\"#000000\" fill-rule=\"evenodd\" fill-opacity=\"1\" /><path clip-path=\"url(#clip070)\" d=\"M 0 0 M2323.56 748.756 L2323.56 751.62 L2296.64 751.62 Q2297.02 757.668 2300.26 760.851 Q2303.54 764.002 2309.37 764.002 Q2312.74 764.002 2315.89 763.174 Q2319.07 762.347 2322.19 760.691 L2322.19 766.23 Q2319.04 767.566 2315.73 768.267 Q2312.42 768.967 2309.02 768.967 Q2300.49 768.967 2295.49 764.002 Q2290.52 759.036 2290.52 750.57 Q2290.52 741.817 2295.24 736.693 Q2299.98 731.537 2308 731.537 Q2315.19 731.537 2319.36 736.183 Q2323.56 740.799 2323.56 748.756 M2317.71 747.037 Q2317.64 742.231 2315 739.366 Q2312.39 736.502 2308.06 736.502 Q2303.16 736.502 2300.2 739.271 Q2297.27 742.04 2296.83 747.069 L2317.71 747.037 Z\" fill=\"#000000\" fill-rule=\"evenodd\" fill-opacity=\"1\" /><polyline clip-path=\"url(#clip073)\" style=\"stroke:#000000; stroke-width:2; stroke-opacity:0.1; fill:none\" points=\"\n",
       "  1494.26,563.708 2352.76,563.708 \n",
       "  \"/>\n",
       "<polyline clip-path=\"url(#clip073)\" style=\"stroke:#000000; stroke-width:2; stroke-opacity:0.1; fill:none\" points=\"\n",
       "  1494.26,467.807 2352.76,467.807 \n",
       "  \"/>\n",
       "<polyline clip-path=\"url(#clip073)\" style=\"stroke:#000000; stroke-width:2; stroke-opacity:0.1; fill:none\" points=\"\n",
       "  1494.26,371.906 2352.76,371.906 \n",
       "  \"/>\n",
       "<polyline clip-path=\"url(#clip073)\" style=\"stroke:#000000; stroke-width:2; stroke-opacity:0.1; fill:none\" points=\"\n",
       "  1494.26,276.005 2352.76,276.005 \n",
       "  \"/>\n",
       "<polyline clip-path=\"url(#clip073)\" style=\"stroke:#000000; stroke-width:2; stroke-opacity:0.1; fill:none\" points=\"\n",
       "  1494.26,180.105 2352.76,180.105 \n",
       "  \"/>\n",
       "<polyline clip-path=\"url(#clip070)\" style=\"stroke:#000000; stroke-width:4; stroke-opacity:1; fill:none\" points=\"\n",
       "  1494.26,623.18 1494.26,123.472 \n",
       "  \"/>\n",
       "<polyline clip-path=\"url(#clip070)\" style=\"stroke:#000000; stroke-width:4; stroke-opacity:1; fill:none\" points=\"\n",
       "  1494.26,563.708 1504.57,563.708 \n",
       "  \"/>\n",
       "<polyline clip-path=\"url(#clip070)\" style=\"stroke:#000000; stroke-width:4; stroke-opacity:1; fill:none\" points=\"\n",
       "  1494.26,467.807 1504.57,467.807 \n",
       "  \"/>\n",
       "<polyline clip-path=\"url(#clip070)\" style=\"stroke:#000000; stroke-width:4; stroke-opacity:1; fill:none\" points=\"\n",
       "  1494.26,371.906 1504.57,371.906 \n",
       "  \"/>\n",
       "<polyline clip-path=\"url(#clip070)\" style=\"stroke:#000000; stroke-width:4; stroke-opacity:1; fill:none\" points=\"\n",
       "  1494.26,276.005 1504.57,276.005 \n",
       "  \"/>\n",
       "<polyline clip-path=\"url(#clip070)\" style=\"stroke:#000000; stroke-width:4; stroke-opacity:1; fill:none\" points=\"\n",
       "  1494.26,180.105 1504.57,180.105 \n",
       "  \"/>\n",
       "<path clip-path=\"url(#clip070)\" d=\"M 0 0 M1329.1 546.428 L1351.32 546.428 L1351.32 548.419 L1338.77 580.988 L1333.89 580.988 L1345.7 550.363 L1329.1 550.363 L1329.1 546.428 Z\" fill=\"#000000\" fill-rule=\"evenodd\" fill-opacity=\"1\" /><path clip-path=\"url(#clip070)\" d=\"M 0 0 M1360.44 575.109 L1365.32 575.109 L1365.32 580.988 L1360.44 580.988 L1360.44 575.109 Z\" fill=\"#000000\" fill-rule=\"evenodd\" fill-opacity=\"1\" /><path clip-path=\"url(#clip070)\" d=\"M 0 0 M1389.68 562.354 Q1393.03 563.072 1394.91 565.34 Q1396.81 567.609 1396.81 570.942 Q1396.81 576.058 1393.29 578.859 Q1389.77 581.66 1383.29 581.66 Q1381.11 581.66 1378.8 581.22 Q1376.51 580.803 1374.05 579.947 L1374.05 575.433 Q1376 576.567 1378.31 577.146 Q1380.63 577.724 1383.15 577.724 Q1387.55 577.724 1389.84 575.988 Q1392.15 574.252 1392.15 570.942 Q1392.15 567.886 1390 566.173 Q1387.87 564.437 1384.05 564.437 L1380.02 564.437 L1380.02 560.595 L1384.24 560.595 Q1387.69 560.595 1389.51 559.229 Q1391.34 557.84 1391.34 555.248 Q1391.34 552.586 1389.44 551.174 Q1387.57 549.738 1384.05 549.738 Q1382.13 549.738 1379.93 550.155 Q1377.73 550.572 1375.09 551.451 L1375.09 547.285 Q1377.76 546.544 1380.07 546.174 Q1382.41 545.803 1384.47 545.803 Q1389.79 545.803 1392.89 548.234 Q1396 550.641 1396 554.762 Q1396 557.632 1394.35 559.623 Q1392.71 561.59 1389.68 562.354 Z\" fill=\"#000000\" fill-rule=\"evenodd\" fill-opacity=\"1\" /><path clip-path=\"url(#clip070)\" d=\"M 0 0 M1405.72 546.428 L1424.07 546.428 L1424.07 550.363 L1410 550.363 L1410 558.836 Q1411.02 558.488 1412.04 558.326 Q1413.06 558.141 1414.07 558.141 Q1419.86 558.141 1423.24 561.312 Q1426.62 564.484 1426.62 569.9 Q1426.62 575.479 1423.15 578.581 Q1419.68 581.66 1413.36 581.66 Q1411.18 581.66 1408.91 581.289 Q1406.67 580.919 1404.26 580.178 L1404.26 575.479 Q1406.34 576.613 1408.57 577.169 Q1410.79 577.724 1413.26 577.724 Q1417.27 577.724 1419.61 575.618 Q1421.94 573.511 1421.94 569.9 Q1421.94 566.289 1419.61 564.183 Q1417.27 562.076 1413.26 562.076 Q1411.39 562.076 1409.51 562.493 Q1407.66 562.91 1405.72 563.789 L1405.72 546.428 Z\" fill=\"#000000\" fill-rule=\"evenodd\" fill-opacity=\"1\" /><path clip-path=\"url(#clip070)\" d=\"M 0 0 M1448.68 550.502 L1436.88 568.951 L1448.68 568.951 L1448.68 550.502 M1447.45 546.428 L1453.33 546.428 L1453.33 568.951 L1458.26 568.951 L1458.26 572.84 L1453.33 572.84 L1453.33 580.988 L1448.68 580.988 L1448.68 572.84 L1433.08 572.84 L1433.08 568.326 L1447.45 546.428 Z\" fill=\"#000000\" fill-rule=\"evenodd\" fill-opacity=\"1\" /><path clip-path=\"url(#clip070)\" d=\"M 0 0 M1329.42 450.527 L1351.64 450.527 L1351.64 452.518 L1339.1 485.087 L1334.21 485.087 L1346.02 454.462 L1329.42 454.462 L1329.42 450.527 Z\" fill=\"#000000\" fill-rule=\"evenodd\" fill-opacity=\"1\" /><path clip-path=\"url(#clip070)\" d=\"M 0 0 M1360.76 479.208 L1365.65 479.208 L1365.65 485.087 L1360.76 485.087 L1360.76 479.208 Z\" fill=\"#000000\" fill-rule=\"evenodd\" fill-opacity=\"1\" /><path clip-path=\"url(#clip070)\" d=\"M 0 0 M1390 466.453 Q1393.36 467.171 1395.23 469.439 Q1397.13 471.708 1397.13 475.041 Q1397.13 480.157 1393.61 482.958 Q1390.09 485.759 1383.61 485.759 Q1381.44 485.759 1379.12 485.319 Q1376.83 484.902 1374.38 484.046 L1374.38 479.532 Q1376.32 480.666 1378.63 481.245 Q1380.95 481.823 1383.47 481.823 Q1387.87 481.823 1390.16 480.087 Q1392.48 478.351 1392.48 475.041 Q1392.48 471.986 1390.32 470.273 Q1388.19 468.536 1384.38 468.536 L1380.35 468.536 L1380.35 464.694 L1384.56 464.694 Q1388.01 464.694 1389.84 463.328 Q1391.67 461.939 1391.67 459.347 Q1391.67 456.685 1389.77 455.273 Q1387.89 453.837 1384.38 453.837 Q1382.45 453.837 1380.26 454.254 Q1378.06 454.671 1375.42 455.55 L1375.42 451.384 Q1378.08 450.643 1380.39 450.273 Q1382.73 449.902 1384.79 449.902 Q1390.12 449.902 1393.22 452.333 Q1396.32 454.74 1396.32 458.861 Q1396.32 461.731 1394.68 463.722 Q1393.03 465.689 1390 466.453 Z\" fill=\"#000000\" fill-rule=\"evenodd\" fill-opacity=\"1\" /><path clip-path=\"url(#clip070)\" d=\"M 0 0 M1406.04 450.527 L1424.4 450.527 L1424.4 454.462 L1410.32 454.462 L1410.32 462.935 Q1411.34 462.587 1412.36 462.425 Q1413.38 462.24 1414.4 462.24 Q1420.19 462.24 1423.57 465.411 Q1426.94 468.583 1426.94 473.999 Q1426.94 479.578 1423.47 482.68 Q1420 485.759 1413.68 485.759 Q1411.51 485.759 1409.24 485.388 Q1406.99 485.018 1404.58 484.277 L1404.58 479.578 Q1406.67 480.712 1408.89 481.268 Q1411.11 481.823 1413.59 481.823 Q1417.59 481.823 1419.93 479.717 Q1422.27 477.61 1422.27 473.999 Q1422.27 470.388 1419.93 468.282 Q1417.59 466.175 1413.59 466.175 Q1411.71 466.175 1409.84 466.592 Q1407.99 467.009 1406.04 467.888 L1406.04 450.527 Z\" fill=\"#000000\" fill-rule=\"evenodd\" fill-opacity=\"1\" /><path clip-path=\"url(#clip070)\" d=\"M 0 0 M1446.74 465.944 Q1443.59 465.944 1441.74 468.097 Q1439.91 470.249 1439.91 473.999 Q1439.91 477.726 1441.74 479.902 Q1443.59 482.055 1446.74 482.055 Q1449.88 482.055 1451.71 479.902 Q1453.56 477.726 1453.56 473.999 Q1453.56 470.249 1451.71 468.097 Q1449.88 465.944 1446.74 465.944 M1456.02 451.291 L1456.02 455.55 Q1454.26 454.717 1452.45 454.277 Q1450.67 453.837 1448.91 453.837 Q1444.28 453.837 1441.83 456.962 Q1439.4 460.087 1439.05 466.407 Q1440.42 464.393 1442.48 463.328 Q1444.54 462.24 1447.01 462.24 Q1452.22 462.24 1455.23 465.411 Q1458.26 468.56 1458.26 473.999 Q1458.26 479.323 1455.12 482.541 Q1451.97 485.759 1446.74 485.759 Q1440.74 485.759 1437.57 481.175 Q1434.4 476.569 1434.4 467.842 Q1434.4 459.648 1438.29 454.787 Q1442.18 449.902 1448.73 449.902 Q1450.49 449.902 1452.27 450.25 Q1454.07 450.597 1456.02 451.291 Z\" fill=\"#000000\" fill-rule=\"evenodd\" fill-opacity=\"1\" /><path clip-path=\"url(#clip070)\" d=\"M 0 0 M1329.68 354.626 L1351.9 354.626 L1351.9 356.617 L1339.35 389.186 L1334.47 389.186 L1346.27 358.562 L1329.68 358.562 L1329.68 354.626 Z\" fill=\"#000000\" fill-rule=\"evenodd\" fill-opacity=\"1\" /><path clip-path=\"url(#clip070)\" d=\"M 0 0 M1361.02 383.307 L1365.9 383.307 L1365.9 389.186 L1361.02 389.186 L1361.02 383.307 Z\" fill=\"#000000\" fill-rule=\"evenodd\" fill-opacity=\"1\" /><path clip-path=\"url(#clip070)\" d=\"M 0 0 M1390.26 370.552 Q1393.61 371.27 1395.49 373.538 Q1397.38 375.807 1397.38 379.14 Q1397.38 384.256 1393.87 387.057 Q1390.35 389.858 1383.87 389.858 Q1381.69 389.858 1379.38 389.418 Q1377.08 389.001 1374.63 388.145 L1374.63 383.631 Q1376.57 384.765 1378.89 385.344 Q1381.2 385.923 1383.73 385.923 Q1388.13 385.923 1390.42 384.186 Q1392.73 382.45 1392.73 379.14 Q1392.73 376.085 1390.58 374.372 Q1388.45 372.636 1384.63 372.636 L1380.6 372.636 L1380.6 368.793 L1384.82 368.793 Q1388.26 368.793 1390.09 367.427 Q1391.92 366.038 1391.92 363.446 Q1391.92 360.784 1390.02 359.372 Q1388.15 357.937 1384.63 357.937 Q1382.71 357.937 1380.51 358.353 Q1378.31 358.77 1375.67 359.65 L1375.67 355.483 Q1378.33 354.742 1380.65 354.372 Q1382.99 354.001 1385.05 354.001 Q1390.37 354.001 1393.47 356.432 Q1396.57 358.839 1396.57 362.96 Q1396.57 365.83 1394.93 367.821 Q1393.29 369.788 1390.26 370.552 Z\" fill=\"#000000\" fill-rule=\"evenodd\" fill-opacity=\"1\" /><path clip-path=\"url(#clip070)\" d=\"M 0 0 M1406.3 354.626 L1424.65 354.626 L1424.65 358.562 L1410.58 358.562 L1410.58 367.034 Q1411.6 366.687 1412.62 366.524 Q1413.63 366.339 1414.65 366.339 Q1420.44 366.339 1423.82 369.511 Q1427.2 372.682 1427.2 378.098 Q1427.2 383.677 1423.73 386.779 Q1420.25 389.858 1413.94 389.858 Q1411.76 389.858 1409.49 389.487 Q1407.25 389.117 1404.84 388.376 L1404.84 383.677 Q1406.92 384.811 1409.14 385.367 Q1411.37 385.923 1413.84 385.923 Q1417.85 385.923 1420.19 383.816 Q1422.52 381.71 1422.52 378.098 Q1422.52 374.487 1420.19 372.381 Q1417.85 370.274 1413.84 370.274 Q1411.97 370.274 1410.09 370.691 Q1408.24 371.108 1406.3 371.987 L1406.3 354.626 Z\" fill=\"#000000\" fill-rule=\"evenodd\" fill-opacity=\"1\" /><path clip-path=\"url(#clip070)\" d=\"M 0 0 M1446.41 372.774 Q1443.08 372.774 1441.16 374.557 Q1439.26 376.339 1439.26 379.464 Q1439.26 382.589 1441.16 384.372 Q1443.08 386.154 1446.41 386.154 Q1449.75 386.154 1451.67 384.372 Q1453.59 382.566 1453.59 379.464 Q1453.59 376.339 1451.67 374.557 Q1449.77 372.774 1446.41 372.774 M1441.74 370.784 Q1438.73 370.043 1437.04 367.983 Q1435.37 365.923 1435.37 362.96 Q1435.37 358.816 1438.31 356.409 Q1441.27 354.001 1446.41 354.001 Q1451.57 354.001 1454.51 356.409 Q1457.45 358.816 1457.45 362.96 Q1457.45 365.923 1455.76 367.983 Q1454.1 370.043 1451.11 370.784 Q1454.49 371.571 1456.37 373.862 Q1458.26 376.154 1458.26 379.464 Q1458.26 384.487 1455.19 387.173 Q1452.13 389.858 1446.41 389.858 Q1440.69 389.858 1437.62 387.173 Q1434.56 384.487 1434.56 379.464 Q1434.56 376.154 1436.46 373.862 Q1438.36 371.571 1441.74 370.784 M1440.02 363.399 Q1440.02 366.085 1441.69 367.589 Q1443.38 369.094 1446.41 369.094 Q1449.42 369.094 1451.11 367.589 Q1452.82 366.085 1452.82 363.399 Q1452.82 360.714 1451.11 359.21 Q1449.42 357.705 1446.41 357.705 Q1443.38 357.705 1441.69 359.21 Q1440.02 360.714 1440.02 363.399 Z\" fill=\"#000000\" fill-rule=\"evenodd\" fill-opacity=\"1\" /><path clip-path=\"url(#clip070)\" d=\"M 0 0 M1329.58 258.725 L1351.81 258.725 L1351.81 260.716 L1339.26 293.285 L1334.38 293.285 L1346.18 262.661 L1329.58 262.661 L1329.58 258.725 Z\" fill=\"#000000\" fill-rule=\"evenodd\" fill-opacity=\"1\" /><path clip-path=\"url(#clip070)\" d=\"M 0 0 M1360.93 287.406 L1365.81 287.406 L1365.81 293.285 L1360.93 293.285 L1360.93 287.406 Z\" fill=\"#000000\" fill-rule=\"evenodd\" fill-opacity=\"1\" /><path clip-path=\"url(#clip070)\" d=\"M 0 0 M1390.16 274.651 Q1393.52 275.369 1395.39 277.637 Q1397.29 279.906 1397.29 283.239 Q1397.29 288.355 1393.77 291.156 Q1390.26 293.957 1383.77 293.957 Q1381.6 293.957 1379.28 293.517 Q1376.99 293.1 1374.54 292.244 L1374.54 287.73 Q1376.48 288.864 1378.8 289.443 Q1381.11 290.022 1383.63 290.022 Q1388.03 290.022 1390.32 288.286 Q1392.64 286.549 1392.64 283.239 Q1392.64 280.184 1390.49 278.471 Q1388.36 276.735 1384.54 276.735 L1380.51 276.735 L1380.51 272.892 L1384.72 272.892 Q1388.17 272.892 1390 271.526 Q1391.83 270.137 1391.83 267.545 Q1391.83 264.883 1389.93 263.471 Q1388.06 262.036 1384.54 262.036 Q1382.62 262.036 1380.42 262.452 Q1378.22 262.869 1375.58 263.749 L1375.58 259.582 Q1378.24 258.841 1380.56 258.471 Q1382.89 258.1 1384.95 258.1 Q1390.28 258.1 1393.38 260.531 Q1396.48 262.938 1396.48 267.059 Q1396.48 269.929 1394.84 271.92 Q1393.19 273.887 1390.16 274.651 Z\" fill=\"#000000\" fill-rule=\"evenodd\" fill-opacity=\"1\" /><path clip-path=\"url(#clip070)\" d=\"M 0 0 M1416.74 274.142 Q1413.59 274.142 1411.74 276.295 Q1409.91 278.448 1409.91 282.198 Q1409.91 285.924 1411.74 288.1 Q1413.59 290.253 1416.74 290.253 Q1419.88 290.253 1421.71 288.1 Q1423.57 285.924 1423.57 282.198 Q1423.57 278.448 1421.71 276.295 Q1419.88 274.142 1416.74 274.142 M1426.02 259.489 L1426.02 263.749 Q1424.26 262.915 1422.45 262.475 Q1420.67 262.036 1418.91 262.036 Q1414.28 262.036 1411.83 265.161 Q1409.4 268.286 1409.05 274.605 Q1410.42 272.591 1412.48 271.526 Q1414.54 270.438 1417.01 270.438 Q1422.22 270.438 1425.23 273.61 Q1428.26 276.758 1428.26 282.198 Q1428.26 287.522 1425.12 290.739 Q1421.97 293.957 1416.74 293.957 Q1410.74 293.957 1407.57 289.373 Q1404.4 284.767 1404.4 276.04 Q1404.4 267.846 1408.29 262.985 Q1412.18 258.1 1418.73 258.1 Q1420.49 258.1 1422.27 258.448 Q1424.07 258.795 1426.02 259.489 Z\" fill=\"#000000\" fill-rule=\"evenodd\" fill-opacity=\"1\" /><path clip-path=\"url(#clip070)\" d=\"M 0 0 M1446.32 261.804 Q1442.71 261.804 1440.88 265.369 Q1439.07 268.911 1439.07 276.04 Q1439.07 283.147 1440.88 286.711 Q1442.71 290.253 1446.32 290.253 Q1449.95 290.253 1451.76 286.711 Q1453.59 283.147 1453.59 276.04 Q1453.59 268.911 1451.76 265.369 Q1449.95 261.804 1446.32 261.804 M1446.32 258.1 Q1452.13 258.1 1455.19 262.707 Q1458.26 267.29 1458.26 276.04 Q1458.26 284.767 1455.19 289.373 Q1452.13 293.957 1446.32 293.957 Q1440.51 293.957 1437.43 289.373 Q1434.38 284.767 1434.38 276.04 Q1434.38 267.29 1437.43 262.707 Q1440.51 258.1 1446.32 258.1 Z\" fill=\"#000000\" fill-rule=\"evenodd\" fill-opacity=\"1\" /><path clip-path=\"url(#clip070)\" d=\"M 0 0 M1331.18 162.825 L1353.4 162.825 L1353.4 164.815 L1340.86 197.385 L1335.97 197.385 L1347.78 166.76 L1331.18 166.76 L1331.18 162.825 Z\" fill=\"#000000\" fill-rule=\"evenodd\" fill-opacity=\"1\" /><path clip-path=\"url(#clip070)\" d=\"M 0 0 M1362.52 191.505 L1367.41 191.505 L1367.41 197.385 L1362.52 197.385 L1362.52 191.505 Z\" fill=\"#000000\" fill-rule=\"evenodd\" fill-opacity=\"1\" /><path clip-path=\"url(#clip070)\" d=\"M 0 0 M1391.76 178.75 Q1395.12 179.468 1396.99 181.736 Q1398.89 184.005 1398.89 187.338 Q1398.89 192.454 1395.37 195.255 Q1391.85 198.056 1385.37 198.056 Q1383.19 198.056 1380.88 197.616 Q1378.59 197.199 1376.13 196.343 L1376.13 191.829 Q1378.08 192.963 1380.39 193.542 Q1382.71 194.121 1385.23 194.121 Q1389.63 194.121 1391.92 192.385 Q1394.24 190.648 1394.24 187.338 Q1394.24 184.283 1392.08 182.57 Q1389.95 180.834 1386.13 180.834 L1382.11 180.834 L1382.11 176.991 L1386.32 176.991 Q1389.77 176.991 1391.6 175.625 Q1393.43 174.237 1393.43 171.644 Q1393.43 168.982 1391.53 167.57 Q1389.65 166.135 1386.13 166.135 Q1384.21 166.135 1382.01 166.551 Q1379.82 166.968 1377.18 167.848 L1377.18 163.681 Q1379.84 162.94 1382.15 162.57 Q1384.49 162.2 1386.55 162.2 Q1391.88 162.2 1394.98 164.63 Q1398.08 167.038 1398.08 171.158 Q1398.08 174.028 1396.44 176.019 Q1394.79 177.987 1391.76 178.75 Z\" fill=\"#000000\" fill-rule=\"evenodd\" fill-opacity=\"1\" /><path clip-path=\"url(#clip070)\" d=\"M 0 0 M1418.33 178.241 Q1415.19 178.241 1413.33 180.394 Q1411.51 182.547 1411.51 186.297 Q1411.51 190.023 1413.33 192.199 Q1415.19 194.352 1418.33 194.352 Q1421.48 194.352 1423.31 192.199 Q1425.16 190.023 1425.16 186.297 Q1425.16 182.547 1423.31 180.394 Q1421.48 178.241 1418.33 178.241 M1427.62 163.588 L1427.62 167.848 Q1425.86 167.014 1424.05 166.575 Q1422.27 166.135 1420.51 166.135 Q1415.88 166.135 1413.43 169.26 Q1411 172.385 1410.65 178.704 Q1412.01 176.69 1414.07 175.625 Q1416.13 174.537 1418.61 174.537 Q1423.82 174.537 1426.83 177.709 Q1429.86 180.857 1429.86 186.297 Q1429.86 191.621 1426.71 194.838 Q1423.57 198.056 1418.33 198.056 Q1412.34 198.056 1409.17 193.473 Q1406 188.866 1406 180.139 Q1406 171.945 1409.88 167.084 Q1413.77 162.2 1420.32 162.2 Q1422.08 162.2 1423.87 162.547 Q1425.67 162.894 1427.62 163.588 Z\" fill=\"#000000\" fill-rule=\"evenodd\" fill-opacity=\"1\" /><path clip-path=\"url(#clip070)\" d=\"M 0 0 M1441.94 193.449 L1458.26 193.449 L1458.26 197.385 L1436.32 197.385 L1436.32 193.449 Q1438.98 190.695 1443.57 186.065 Q1448.17 181.412 1449.35 180.07 Q1451.6 177.547 1452.48 175.811 Q1453.38 174.051 1453.38 172.362 Q1453.38 169.607 1451.44 167.871 Q1449.51 166.135 1446.41 166.135 Q1444.21 166.135 1441.76 166.899 Q1439.33 167.662 1436.55 169.213 L1436.55 164.491 Q1439.38 163.357 1441.83 162.778 Q1444.28 162.2 1446.32 162.2 Q1451.69 162.2 1454.88 164.885 Q1458.08 167.57 1458.08 172.061 Q1458.08 174.19 1457.27 176.112 Q1456.48 178.01 1454.38 180.602 Q1453.8 181.274 1450.69 184.491 Q1447.59 187.686 1441.94 193.449 Z\" fill=\"#000000\" fill-rule=\"evenodd\" fill-opacity=\"1\" /><path clip-path=\"url(#clip070)\" d=\"M 0 0 M1243.19 601.489 L1243.19 595.282 L1273.11 584.142 L1243.19 573.002 L1243.19 566.796 L1278.84 580.164 L1278.84 588.121 L1243.19 601.489 Z\" fill=\"#000000\" fill-rule=\"evenodd\" fill-opacity=\"1\" /><path clip-path=\"url(#clip070)\" d=\"M 0 0 M1260.92 542.511 Q1260.92 549.608 1262.55 552.346 Q1264.17 555.083 1268.08 555.083 Q1271.2 555.083 1273.05 553.046 Q1274.86 550.977 1274.86 547.444 Q1274.86 542.574 1271.43 539.646 Q1267.96 536.686 1262.23 536.686 L1260.92 536.686 L1260.92 542.511 M1258.5 530.829 L1278.84 530.829 L1278.84 536.686 L1273.43 536.686 Q1276.68 538.691 1278.24 541.683 Q1279.77 544.675 1279.77 549.004 Q1279.77 554.478 1276.71 557.725 Q1273.62 560.939 1268.47 560.939 Q1262.45 560.939 1259.39 556.929 Q1256.34 552.887 1256.34 544.898 L1256.34 536.686 L1255.77 536.686 Q1251.72 536.686 1249.53 539.36 Q1247.3 542.001 1247.3 546.807 Q1247.3 549.863 1248.03 552.759 Q1248.76 555.656 1250.23 558.329 L1244.82 558.329 Q1243.58 555.115 1242.97 552.091 Q1242.33 549.067 1242.33 546.203 Q1242.33 538.468 1246.35 534.649 Q1250.36 530.829 1258.5 530.829 Z\" fill=\"#000000\" fill-rule=\"evenodd\" fill-opacity=\"1\" /><path clip-path=\"url(#clip070)\" d=\"M 0 0 M1248.67 498.11 Q1248.1 499.096 1247.84 500.274 Q1247.55 501.42 1247.55 502.82 Q1247.55 507.786 1250.8 510.459 Q1254.02 513.101 1260.06 513.101 L1278.84 513.101 L1278.84 518.989 L1243.19 518.989 L1243.19 513.101 L1248.73 513.101 Q1245.49 511.255 1243.93 508.295 Q1242.33 505.335 1242.33 501.102 Q1242.33 500.497 1242.43 499.765 Q1242.49 499.033 1242.65 498.142 L1248.67 498.11 Z\" fill=\"#000000\" fill-rule=\"evenodd\" fill-opacity=\"1\" /><path clip-path=\"url(#clip070)\" d=\"M 0 0 M1243.19 491.967 L1243.19 486.11 L1278.84 486.11 L1278.84 491.967 L1243.19 491.967 M1229.32 491.967 L1229.32 486.11 L1236.73 486.11 L1236.73 491.967 L1229.32 491.967 Z\" fill=\"#000000\" fill-rule=\"evenodd\" fill-opacity=\"1\" /><path clip-path=\"url(#clip070)\" d=\"M 0 0 M1260.92 457.656 Q1260.92 464.753 1262.55 467.491 Q1264.17 470.228 1268.08 470.228 Q1271.2 470.228 1273.05 468.191 Q1274.86 466.122 1274.86 462.589 Q1274.86 457.719 1271.43 454.791 Q1267.96 451.831 1262.23 451.831 L1260.92 451.831 L1260.92 457.656 M1258.5 445.975 L1278.84 445.975 L1278.84 451.831 L1273.43 451.831 Q1276.68 453.836 1278.24 456.828 Q1279.77 459.82 1279.77 464.149 Q1279.77 469.623 1276.71 472.87 Q1273.62 476.084 1268.47 476.084 Q1262.45 476.084 1259.39 472.074 Q1256.34 468.032 1256.34 460.043 L1256.34 451.831 L1255.77 451.831 Q1251.72 451.831 1249.53 454.505 Q1247.3 457.146 1247.3 461.953 Q1247.3 465.008 1248.03 467.904 Q1248.76 470.801 1250.23 473.474 L1244.82 473.474 Q1243.58 470.26 1242.97 467.236 Q1242.33 464.212 1242.33 461.348 Q1242.33 453.613 1246.35 449.794 Q1250.36 445.975 1258.5 445.975 Z\" fill=\"#000000\" fill-rule=\"evenodd\" fill-opacity=\"1\" /><path clip-path=\"url(#clip070)\" d=\"M 0 0 M1261.05 408.321 Q1254.59 408.321 1250.93 410.995 Q1247.24 413.637 1247.24 418.284 Q1247.24 422.931 1250.93 425.604 Q1254.59 428.246 1261.05 428.246 Q1267.51 428.246 1271.2 425.604 Q1274.86 422.931 1274.86 418.284 Q1274.86 413.637 1271.2 410.995 Q1267.51 408.321 1261.05 408.321 M1248.6 428.246 Q1245.42 426.4 1243.89 423.599 Q1242.33 420.766 1242.33 416.852 Q1242.33 410.358 1247.49 406.316 Q1252.65 402.242 1261.05 402.242 Q1269.45 402.242 1274.61 406.316 Q1279.77 410.358 1279.77 416.852 Q1279.77 420.766 1278.24 423.599 Q1276.68 426.4 1273.49 428.246 L1278.84 428.246 L1278.84 434.134 L1229.32 434.134 L1229.32 428.246 L1248.6 428.246 Z\" fill=\"#000000\" fill-rule=\"evenodd\" fill-opacity=\"1\" /><path clip-path=\"url(#clip070)\" d=\"M 0 0 M1229.32 392.535 L1229.32 386.678 L1278.84 386.678 L1278.84 392.535 L1229.32 392.535 Z\" fill=\"#000000\" fill-rule=\"evenodd\" fill-opacity=\"1\" /><path clip-path=\"url(#clip070)\" d=\"M 0 0 M1259.55 343.932 L1262.42 343.932 L1262.42 370.859 Q1268.47 370.477 1271.65 367.231 Q1274.8 363.952 1274.8 358.128 Q1274.8 354.754 1273.97 351.603 Q1273.14 348.42 1271.49 345.301 L1277.03 345.301 Q1278.36 348.452 1279.06 351.762 Q1279.77 355.072 1279.77 358.478 Q1279.77 367.008 1274.8 372.005 Q1269.83 376.97 1261.37 376.97 Q1252.62 376.97 1247.49 372.26 Q1242.33 367.517 1242.33 359.496 Q1242.33 352.303 1246.98 348.134 Q1251.6 343.932 1259.55 343.932 M1257.84 349.789 Q1253.03 349.852 1250.16 352.494 Q1247.3 355.104 1247.3 359.433 Q1247.3 364.334 1250.07 367.294 Q1252.84 370.223 1257.87 370.668 L1257.84 349.789 Z\" fill=\"#000000\" fill-rule=\"evenodd\" fill-opacity=\"1\" /><path clip-path=\"url(#clip070)\" d=\"M 0 0 M1243.19 317.801 L1243.19 311.595 L1273.11 300.455 L1243.19 289.315 L1243.19 283.108 L1278.84 296.476 L1278.84 304.433 L1243.19 317.801 Z\" fill=\"#000000\" fill-rule=\"evenodd\" fill-opacity=\"1\" /><path clip-path=\"url(#clip070)\" d=\"M 0 0 M1260.92 258.823 Q1260.92 265.921 1262.55 268.658 Q1264.17 271.395 1268.08 271.395 Q1271.2 271.395 1273.05 269.358 Q1274.86 267.289 1274.86 263.756 Q1274.86 258.886 1271.43 255.958 Q1267.96 252.998 1262.23 252.998 L1260.92 252.998 L1260.92 258.823 M1258.5 247.142 L1278.84 247.142 L1278.84 252.998 L1273.43 252.998 Q1276.68 255.003 1278.24 257.995 Q1279.77 260.987 1279.77 265.316 Q1279.77 270.79 1276.71 274.037 Q1273.62 277.252 1268.47 277.252 Q1262.45 277.252 1259.39 273.241 Q1256.34 269.199 1256.34 261.21 L1256.34 252.998 L1255.77 252.998 Q1251.72 252.998 1249.53 255.672 Q1247.3 258.314 1247.3 263.12 Q1247.3 266.175 1248.03 269.072 Q1248.76 271.968 1250.23 274.642 L1244.82 274.642 Q1243.58 271.427 1242.97 268.403 Q1242.33 265.38 1242.33 262.515 Q1242.33 254.781 1246.35 250.961 Q1250.36 247.142 1258.5 247.142 Z\" fill=\"#000000\" fill-rule=\"evenodd\" fill-opacity=\"1\" /><path clip-path=\"url(#clip070)\" d=\"M 0 0 M1229.32 235.079 L1229.32 229.222 L1278.84 229.222 L1278.84 235.079 L1229.32 235.079 Z\" fill=\"#000000\" fill-rule=\"evenodd\" fill-opacity=\"1\" /><path clip-path=\"url(#clip070)\" d=\"M 0 0 M1264.77 217.573 L1243.19 217.573 L1243.19 211.717 L1264.55 211.717 Q1269.61 211.717 1272.16 209.743 Q1274.67 207.77 1274.67 203.823 Q1274.67 199.081 1271.65 196.343 Q1268.63 193.574 1263.41 193.574 L1243.19 193.574 L1243.19 187.718 L1278.84 187.718 L1278.84 193.574 L1273.37 193.574 Q1276.61 195.707 1278.21 198.54 Q1279.77 201.341 1279.77 205.064 Q1279.77 211.207 1275.95 214.39 Q1272.13 217.573 1264.77 217.573 M1242.33 202.836 L1242.33 202.836 Z\" fill=\"#000000\" fill-rule=\"evenodd\" fill-opacity=\"1\" /><path clip-path=\"url(#clip070)\" d=\"M 0 0 M1259.55 145.163 L1262.42 145.163 L1262.42 172.09 Q1268.47 171.708 1271.65 168.462 Q1274.8 165.183 1274.8 159.359 Q1274.8 155.985 1273.97 152.834 Q1273.14 149.651 1271.49 146.532 L1277.03 146.532 Q1278.36 149.683 1279.06 152.993 Q1279.77 156.303 1279.77 159.709 Q1279.77 168.239 1274.8 173.236 Q1269.83 178.201 1261.37 178.201 Q1252.62 178.201 1247.49 173.491 Q1242.33 168.748 1242.33 160.727 Q1242.33 153.534 1246.98 149.365 Q1251.6 145.163 1259.55 145.163 M1257.84 151.02 Q1253.03 151.083 1250.16 153.725 Q1247.3 156.335 1247.3 160.664 Q1247.3 165.565 1250.07 168.525 Q1252.84 171.454 1257.87 171.899 L1257.84 151.02 Z\" fill=\"#000000\" fill-rule=\"evenodd\" fill-opacity=\"1\" /><path clip-path=\"url(#clip070)\" d=\"M 0 0 M1778.39 45.1919 L1778.39 72.576 L1770.93 72.576 L1770.93 45.4349 Q1770.93 38.994 1768.42 35.7938 Q1765.91 32.5936 1760.89 32.5936 Q1754.85 32.5936 1751.37 36.4419 Q1747.88 40.2903 1747.88 46.9338 L1747.88 72.576 L1740.39 72.576 L1740.39 27.2059 L1747.88 27.2059 L1747.88 34.2544 Q1750.56 30.163 1754.16 28.1376 Q1757.81 26.1121 1762.55 26.1121 Q1770.37 26.1121 1774.38 30.9732 Q1778.39 35.7938 1778.39 45.1919 Z\" fill=\"#000000\" fill-rule=\"evenodd\" fill-opacity=\"1\" /><path clip-path=\"url(#clip070)\" d=\"M 0 0 M1810.83 32.4315 Q1804.84 32.4315 1801.35 37.1306 Q1797.87 41.7891 1797.87 49.9314 Q1797.87 58.0738 1801.31 62.7728 Q1804.8 67.4314 1810.83 67.4314 Q1816.79 67.4314 1820.27 62.7323 Q1823.76 58.0333 1823.76 49.9314 Q1823.76 41.8701 1820.27 37.1711 Q1816.79 32.4315 1810.83 32.4315 M1810.83 26.1121 Q1820.56 26.1121 1826.11 32.4315 Q1831.66 38.7509 1831.66 49.9314 Q1831.66 61.0714 1826.11 67.4314 Q1820.56 73.7508 1810.83 73.7508 Q1801.07 73.7508 1795.52 67.4314 Q1790.01 61.0714 1790.01 49.9314 Q1790.01 38.7509 1795.52 32.4315 Q1801.07 26.1121 1810.83 26.1121 Z\" fill=\"#000000\" fill-rule=\"evenodd\" fill-opacity=\"1\" /><path clip-path=\"url(#clip070)\" d=\"M 0 0 M1873.87 34.0924 L1873.87 9.54393 L1881.32 9.54393 L1881.32 72.576 L1873.87 72.576 L1873.87 65.7705 Q1871.52 69.8214 1867.91 71.8063 Q1864.35 73.7508 1859.32 73.7508 Q1851.1 73.7508 1845.91 67.1883 Q1840.77 60.6258 1840.77 49.9314 Q1840.77 39.2371 1845.91 32.6746 Q1851.1 26.1121 1859.32 26.1121 Q1864.35 26.1121 1867.91 28.0971 Q1871.52 30.0415 1873.87 34.0924 M1848.47 49.9314 Q1848.47 58.1548 1851.83 62.8538 Q1855.23 67.5124 1861.15 67.5124 Q1867.06 67.5124 1870.46 62.8538 Q1873.87 58.1548 1873.87 49.9314 Q1873.87 41.7081 1870.46 37.0496 Q1867.06 32.3505 1861.15 32.3505 Q1855.23 32.3505 1851.83 37.0496 Q1848.47 41.7081 1848.47 49.9314 Z\" fill=\"#000000\" fill-rule=\"evenodd\" fill-opacity=\"1\" /><path clip-path=\"url(#clip070)\" d=\"M 0 0 M1935.48 48.0275 L1935.48 51.6733 L1901.21 51.6733 Q1901.7 59.3701 1905.83 63.421 Q1910 67.4314 1917.41 67.4314 Q1921.71 67.4314 1925.72 66.3781 Q1929.77 65.3249 1933.74 63.2184 L1933.74 70.267 Q1929.73 71.9684 1925.52 72.8596 Q1921.3 73.7508 1916.97 73.7508 Q1906.11 73.7508 1899.75 67.4314 Q1893.43 61.1119 1893.43 50.3365 Q1893.43 39.1965 1899.43 32.6746 Q1905.46 26.1121 1915.67 26.1121 Q1924.83 26.1121 1930.13 32.0264 Q1935.48 37.9003 1935.48 48.0275 M1928.03 45.84 Q1927.95 39.7232 1924.58 36.0774 Q1921.26 32.4315 1915.75 32.4315 Q1909.51 32.4315 1905.75 35.9558 Q1902.02 39.4801 1901.45 45.8805 L1928.03 45.84 Z\" fill=\"#000000\" fill-rule=\"evenodd\" fill-opacity=\"1\" /><path clip-path=\"url(#clip070)\" d=\"M 0 0 M1975.06 34.9026 L2026.99 34.9026 L2026.99 41.7081 L1975.06 41.7081 L1975.06 34.9026 M1975.06 51.4303 L2026.99 51.4303 L2026.99 58.3168 L1975.06 58.3168 L1975.06 51.4303 Z\" fill=\"#000000\" fill-rule=\"evenodd\" fill-opacity=\"1\" /><path clip-path=\"url(#clip070)\" d=\"M 0 0 M2078.07 65.6895 L2106.63 65.6895 L2106.63 72.576 L2068.23 72.576 L2068.23 65.6895 Q2072.89 60.8689 2080.91 52.7671 Q2088.97 44.6248 2091.04 42.2752 Q2094.96 37.8598 2096.5 34.8216 Q2098.08 31.7429 2098.08 28.7857 Q2098.08 23.9651 2094.68 20.927 Q2091.32 17.8888 2085.89 17.8888 Q2082.04 17.8888 2077.75 19.2256 Q2073.49 20.5624 2068.63 23.2765 L2068.63 15.0127 Q2073.58 13.0277 2077.87 12.015 Q2082.16 11.0023 2085.73 11.0023 Q2095.13 11.0023 2100.72 15.7013 Q2106.31 20.4004 2106.31 28.2591 Q2106.31 31.9859 2104.89 35.3482 Q2103.51 38.6699 2099.83 43.2069 Q2098.81 44.3817 2093.38 50.0125 Q2087.96 55.6027 2078.07 65.6895 Z\" fill=\"#000000\" fill-rule=\"evenodd\" fill-opacity=\"1\" /><polyline clip-path=\"url(#clip073)\" style=\"stroke:#009af9; stroke-width:8; stroke-opacity:1; fill:none\" points=\"\n",
       "  1518.56,406.57 1559.06,239.151 1599.55,181.407 1640.05,154.265 1680.54,139.402 1721.04,137.615 1761.53,151.218 1802.03,174.991 1842.52,193.724 1883.02,218.845 \n",
       "  1923.51,244.907 1964,264.42 2004.5,279.681 2044.99,309.145 2085.49,363.099 2125.98,428.84 2166.48,508.307 2206.97,609.037 2247.47,590.725 2287.96,574.574 \n",
       "  2328.46,564.193 \n",
       "  \"/>\n",
       "<circle clip-path=\"url(#clip073)\" cx=\"1518.56\" cy=\"406.57\" r=\"14\" fill=\"#009af9\" fill-rule=\"evenodd\" fill-opacity=\"1\" stroke=\"#000000\" stroke-opacity=\"1\" stroke-width=\"3.2\"/>\n",
       "<circle clip-path=\"url(#clip073)\" cx=\"1559.06\" cy=\"239.151\" r=\"14\" fill=\"#009af9\" fill-rule=\"evenodd\" fill-opacity=\"1\" stroke=\"#000000\" stroke-opacity=\"1\" stroke-width=\"3.2\"/>\n",
       "<circle clip-path=\"url(#clip073)\" cx=\"1599.55\" cy=\"181.407\" r=\"14\" fill=\"#009af9\" fill-rule=\"evenodd\" fill-opacity=\"1\" stroke=\"#000000\" stroke-opacity=\"1\" stroke-width=\"3.2\"/>\n",
       "<circle clip-path=\"url(#clip073)\" cx=\"1640.05\" cy=\"154.265\" r=\"14\" fill=\"#009af9\" fill-rule=\"evenodd\" fill-opacity=\"1\" stroke=\"#000000\" stroke-opacity=\"1\" stroke-width=\"3.2\"/>\n",
       "<circle clip-path=\"url(#clip073)\" cx=\"1680.54\" cy=\"139.402\" r=\"14\" fill=\"#009af9\" fill-rule=\"evenodd\" fill-opacity=\"1\" stroke=\"#000000\" stroke-opacity=\"1\" stroke-width=\"3.2\"/>\n",
       "<circle clip-path=\"url(#clip073)\" cx=\"1721.04\" cy=\"137.615\" r=\"14\" fill=\"#009af9\" fill-rule=\"evenodd\" fill-opacity=\"1\" stroke=\"#000000\" stroke-opacity=\"1\" stroke-width=\"3.2\"/>\n",
       "<circle clip-path=\"url(#clip073)\" cx=\"1761.53\" cy=\"151.218\" r=\"14\" fill=\"#009af9\" fill-rule=\"evenodd\" fill-opacity=\"1\" stroke=\"#000000\" stroke-opacity=\"1\" stroke-width=\"3.2\"/>\n",
       "<circle clip-path=\"url(#clip073)\" cx=\"1802.03\" cy=\"174.991\" r=\"14\" fill=\"#009af9\" fill-rule=\"evenodd\" fill-opacity=\"1\" stroke=\"#000000\" stroke-opacity=\"1\" stroke-width=\"3.2\"/>\n",
       "<circle clip-path=\"url(#clip073)\" cx=\"1842.52\" cy=\"193.724\" r=\"14\" fill=\"#009af9\" fill-rule=\"evenodd\" fill-opacity=\"1\" stroke=\"#000000\" stroke-opacity=\"1\" stroke-width=\"3.2\"/>\n",
       "<circle clip-path=\"url(#clip073)\" cx=\"1883.02\" cy=\"218.845\" r=\"14\" fill=\"#009af9\" fill-rule=\"evenodd\" fill-opacity=\"1\" stroke=\"#000000\" stroke-opacity=\"1\" stroke-width=\"3.2\"/>\n",
       "<circle clip-path=\"url(#clip073)\" cx=\"1923.51\" cy=\"244.907\" r=\"14\" fill=\"#009af9\" fill-rule=\"evenodd\" fill-opacity=\"1\" stroke=\"#000000\" stroke-opacity=\"1\" stroke-width=\"3.2\"/>\n",
       "<circle clip-path=\"url(#clip073)\" cx=\"1964\" cy=\"264.42\" r=\"14\" fill=\"#009af9\" fill-rule=\"evenodd\" fill-opacity=\"1\" stroke=\"#000000\" stroke-opacity=\"1\" stroke-width=\"3.2\"/>\n",
       "<circle clip-path=\"url(#clip073)\" cx=\"2004.5\" cy=\"279.681\" r=\"14\" fill=\"#009af9\" fill-rule=\"evenodd\" fill-opacity=\"1\" stroke=\"#000000\" stroke-opacity=\"1\" stroke-width=\"3.2\"/>\n",
       "<circle clip-path=\"url(#clip073)\" cx=\"2044.99\" cy=\"309.145\" r=\"14\" fill=\"#009af9\" fill-rule=\"evenodd\" fill-opacity=\"1\" stroke=\"#000000\" stroke-opacity=\"1\" stroke-width=\"3.2\"/>\n",
       "<circle clip-path=\"url(#clip073)\" cx=\"2085.49\" cy=\"363.099\" r=\"14\" fill=\"#009af9\" fill-rule=\"evenodd\" fill-opacity=\"1\" stroke=\"#000000\" stroke-opacity=\"1\" stroke-width=\"3.2\"/>\n",
       "<circle clip-path=\"url(#clip073)\" cx=\"2125.98\" cy=\"428.84\" r=\"14\" fill=\"#009af9\" fill-rule=\"evenodd\" fill-opacity=\"1\" stroke=\"#000000\" stroke-opacity=\"1\" stroke-width=\"3.2\"/>\n",
       "<circle clip-path=\"url(#clip073)\" cx=\"2166.48\" cy=\"508.307\" r=\"14\" fill=\"#009af9\" fill-rule=\"evenodd\" fill-opacity=\"1\" stroke=\"#000000\" stroke-opacity=\"1\" stroke-width=\"3.2\"/>\n",
       "<circle clip-path=\"url(#clip073)\" cx=\"2206.97\" cy=\"609.037\" r=\"14\" fill=\"#009af9\" fill-rule=\"evenodd\" fill-opacity=\"1\" stroke=\"#000000\" stroke-opacity=\"1\" stroke-width=\"3.2\"/>\n",
       "<circle clip-path=\"url(#clip073)\" cx=\"2247.47\" cy=\"590.725\" r=\"14\" fill=\"#009af9\" fill-rule=\"evenodd\" fill-opacity=\"1\" stroke=\"#000000\" stroke-opacity=\"1\" stroke-width=\"3.2\"/>\n",
       "<circle clip-path=\"url(#clip073)\" cx=\"2287.96\" cy=\"574.574\" r=\"14\" fill=\"#009af9\" fill-rule=\"evenodd\" fill-opacity=\"1\" stroke=\"#000000\" stroke-opacity=\"1\" stroke-width=\"3.2\"/>\n",
       "<circle clip-path=\"url(#clip073)\" cx=\"2328.46\" cy=\"564.193\" r=\"14\" fill=\"#009af9\" fill-rule=\"evenodd\" fill-opacity=\"1\" stroke=\"#000000\" stroke-opacity=\"1\" stroke-width=\"3.2\"/>\n",
       "<polyline clip-path=\"url(#clip073)\" style=\"stroke:#ffa500; stroke-width:8; stroke-opacity:1; fill:none\" stroke-dasharray=\"32, 20\" points=\"\n",
       "  1518.56,244.907 1559.06,244.907 1599.55,244.907 1640.05,244.907 1680.54,244.907 1721.04,244.907 1761.53,244.907 1802.03,244.907 1842.52,244.907 1883.02,244.907 \n",
       "  1923.51,244.907 1964,244.907 2004.5,244.907 2044.99,244.907 2085.49,244.907 2125.98,244.907 2166.48,244.907 2206.97,244.907 2247.47,244.907 2287.96,244.907 \n",
       "  2328.46,244.907 \n",
       "  \"/>\n",
       "<path clip-path=\"url(#clip070)\" d=\"\n",
       "M309.102 1423.18 L1167.59 1423.18 L1167.59 923.472 L309.102 923.472  Z\n",
       "  \" fill=\"#ffffff\" fill-rule=\"evenodd\" fill-opacity=\"1\"/>\n",
       "<defs>\n",
       "  <clipPath id=\"clip074\">\n",
       "    <rect x=\"309\" y=\"923\" width=\"859\" height=\"501\"/>\n",
       "  </clipPath>\n",
       "</defs>\n",
       "<polyline clip-path=\"url(#clip074)\" style=\"stroke:#000000; stroke-width:2; stroke-opacity:0.1; fill:none\" points=\"\n",
       "  333.399,1423.18 333.399,923.472 \n",
       "  \"/>\n",
       "<polyline clip-path=\"url(#clip074)\" style=\"stroke:#000000; stroke-width:2; stroke-opacity:0.1; fill:none\" points=\"\n",
       "  535.873,1423.18 535.873,923.472 \n",
       "  \"/>\n",
       "<polyline clip-path=\"url(#clip074)\" style=\"stroke:#000000; stroke-width:2; stroke-opacity:0.1; fill:none\" points=\"\n",
       "  738.348,1423.18 738.348,923.472 \n",
       "  \"/>\n",
       "<polyline clip-path=\"url(#clip074)\" style=\"stroke:#000000; stroke-width:2; stroke-opacity:0.1; fill:none\" points=\"\n",
       "  940.822,1423.18 940.822,923.472 \n",
       "  \"/>\n",
       "<polyline clip-path=\"url(#clip074)\" style=\"stroke:#000000; stroke-width:2; stroke-opacity:0.1; fill:none\" points=\"\n",
       "  1143.3,1423.18 1143.3,923.472 \n",
       "  \"/>\n",
       "<polyline clip-path=\"url(#clip070)\" style=\"stroke:#000000; stroke-width:4; stroke-opacity:1; fill:none\" points=\"\n",
       "  309.102,1423.18 1167.59,1423.18 \n",
       "  \"/>\n",
       "<polyline clip-path=\"url(#clip070)\" style=\"stroke:#000000; stroke-width:4; stroke-opacity:1; fill:none\" points=\"\n",
       "  333.399,1423.18 333.399,1417.18 \n",
       "  \"/>\n",
       "<polyline clip-path=\"url(#clip070)\" style=\"stroke:#000000; stroke-width:4; stroke-opacity:1; fill:none\" points=\"\n",
       "  535.873,1423.18 535.873,1417.18 \n",
       "  \"/>\n",
       "<polyline clip-path=\"url(#clip070)\" style=\"stroke:#000000; stroke-width:4; stroke-opacity:1; fill:none\" points=\"\n",
       "  738.348,1423.18 738.348,1417.18 \n",
       "  \"/>\n",
       "<polyline clip-path=\"url(#clip070)\" style=\"stroke:#000000; stroke-width:4; stroke-opacity:1; fill:none\" points=\"\n",
       "  940.822,1423.18 940.822,1417.18 \n",
       "  \"/>\n",
       "<polyline clip-path=\"url(#clip070)\" style=\"stroke:#000000; stroke-width:4; stroke-opacity:1; fill:none\" points=\"\n",
       "  1143.3,1423.18 1143.3,1417.18 \n",
       "  \"/>\n",
       "<path clip-path=\"url(#clip070)\" d=\"M 0 0 M310.783 1452.37 Q307.172 1452.37 305.343 1455.94 Q303.538 1459.48 303.538 1466.61 Q303.538 1473.71 305.343 1477.28 Q307.172 1480.82 310.783 1480.82 Q314.417 1480.82 316.223 1477.28 Q318.052 1473.71 318.052 1466.61 Q318.052 1459.48 316.223 1455.94 Q314.417 1452.37 310.783 1452.37 M310.783 1448.67 Q316.593 1448.67 319.649 1453.27 Q322.728 1457.86 322.728 1466.61 Q322.728 1475.33 319.649 1479.94 Q316.593 1484.52 310.783 1484.52 Q304.973 1484.52 301.894 1479.94 Q298.839 1475.33 298.839 1466.61 Q298.839 1457.86 301.894 1453.27 Q304.973 1448.67 310.783 1448.67 Z\" fill=\"#000000\" fill-rule=\"evenodd\" fill-opacity=\"1\" /><path clip-path=\"url(#clip070)\" d=\"M 0 0 M330.945 1477.97 L335.829 1477.97 L335.829 1483.85 L330.945 1483.85 L330.945 1477.97 Z\" fill=\"#000000\" fill-rule=\"evenodd\" fill-opacity=\"1\" /><path clip-path=\"url(#clip070)\" d=\"M 0 0 M356.014 1452.37 Q352.403 1452.37 350.575 1455.94 Q348.769 1459.48 348.769 1466.61 Q348.769 1473.71 350.575 1477.28 Q352.403 1480.82 356.014 1480.82 Q359.649 1480.82 361.454 1477.28 Q363.283 1473.71 363.283 1466.61 Q363.283 1459.48 361.454 1455.94 Q359.649 1452.37 356.014 1452.37 M356.014 1448.67 Q361.825 1448.67 364.88 1453.27 Q367.959 1457.86 367.959 1466.61 Q367.959 1475.33 364.88 1479.94 Q361.825 1484.52 356.014 1484.52 Q350.204 1484.52 347.126 1479.94 Q344.07 1475.33 344.07 1466.61 Q344.07 1457.86 347.126 1453.27 Q350.204 1448.67 356.014 1448.67 Z\" fill=\"#000000\" fill-rule=\"evenodd\" fill-opacity=\"1\" /><path clip-path=\"url(#clip070)\" d=\"M 0 0 M513.755 1452.37 Q510.144 1452.37 508.316 1455.94 Q506.51 1459.48 506.51 1466.61 Q506.51 1473.71 508.316 1477.28 Q510.144 1480.82 513.755 1480.82 Q517.39 1480.82 519.195 1477.28 Q521.024 1473.71 521.024 1466.61 Q521.024 1459.48 519.195 1455.94 Q517.39 1452.37 513.755 1452.37 M513.755 1448.67 Q519.566 1448.67 522.621 1453.27 Q525.7 1457.86 525.7 1466.61 Q525.7 1475.33 522.621 1479.94 Q519.566 1484.52 513.755 1484.52 Q507.945 1484.52 504.867 1479.94 Q501.811 1475.33 501.811 1466.61 Q501.811 1457.86 504.867 1453.27 Q507.945 1448.67 513.755 1448.67 Z\" fill=\"#000000\" fill-rule=\"evenodd\" fill-opacity=\"1\" /><path clip-path=\"url(#clip070)\" d=\"M 0 0 M533.917 1477.97 L538.802 1477.97 L538.802 1483.85 L533.917 1483.85 L533.917 1477.97 Z\" fill=\"#000000\" fill-rule=\"evenodd\" fill-opacity=\"1\" /><path clip-path=\"url(#clip070)\" d=\"M 0 0 M549.033 1449.29 L567.389 1449.29 L567.389 1453.23 L553.315 1453.23 L553.315 1461.7 Q554.334 1461.35 555.352 1461.19 Q556.371 1461 557.389 1461 Q563.176 1461 566.556 1464.18 Q569.936 1467.35 569.936 1472.76 Q569.936 1478.34 566.463 1481.44 Q562.991 1484.52 556.672 1484.52 Q554.496 1484.52 552.227 1484.15 Q549.982 1483.78 547.575 1483.04 L547.575 1478.34 Q549.658 1479.48 551.88 1480.03 Q554.102 1480.59 556.579 1480.59 Q560.584 1480.59 562.922 1478.48 Q565.26 1476.38 565.26 1472.76 Q565.26 1469.15 562.922 1467.05 Q560.584 1464.94 556.579 1464.94 Q554.704 1464.94 552.829 1465.36 Q550.977 1465.77 549.033 1466.65 L549.033 1449.29 Z\" fill=\"#000000\" fill-rule=\"evenodd\" fill-opacity=\"1\" /><path clip-path=\"url(#clip070)\" d=\"M 0 0 M705.501 1479.92 L713.14 1479.92 L713.14 1453.55 L704.83 1455.22 L704.83 1450.96 L713.093 1449.29 L717.769 1449.29 L717.769 1479.92 L725.408 1479.92 L725.408 1483.85 L705.501 1483.85 L705.501 1479.92 Z\" fill=\"#000000\" fill-rule=\"evenodd\" fill-opacity=\"1\" /><path clip-path=\"url(#clip070)\" d=\"M 0 0 M734.852 1477.97 L739.737 1477.97 L739.737 1483.85 L734.852 1483.85 L734.852 1477.97 Z\" fill=\"#000000\" fill-rule=\"evenodd\" fill-opacity=\"1\" /><path clip-path=\"url(#clip070)\" d=\"M 0 0 M759.922 1452.37 Q756.311 1452.37 754.482 1455.94 Q752.676 1459.48 752.676 1466.61 Q752.676 1473.71 754.482 1477.28 Q756.311 1480.82 759.922 1480.82 Q763.556 1480.82 765.362 1477.28 Q767.19 1473.71 767.19 1466.61 Q767.19 1459.48 765.362 1455.94 Q763.556 1452.37 759.922 1452.37 M759.922 1448.67 Q765.732 1448.67 768.787 1453.27 Q771.866 1457.86 771.866 1466.61 Q771.866 1475.33 768.787 1479.94 Q765.732 1484.52 759.922 1484.52 Q754.112 1484.52 751.033 1479.94 Q747.977 1475.33 747.977 1466.61 Q747.977 1457.86 751.033 1453.27 Q754.112 1448.67 759.922 1448.67 Z\" fill=\"#000000\" fill-rule=\"evenodd\" fill-opacity=\"1\" /><path clip-path=\"url(#clip070)\" d=\"M 0 0 M908.473 1479.92 L916.112 1479.92 L916.112 1453.55 L907.802 1455.22 L907.802 1450.96 L916.066 1449.29 L920.741 1449.29 L920.741 1479.92 L928.38 1479.92 L928.38 1483.85 L908.473 1483.85 L908.473 1479.92 Z\" fill=\"#000000\" fill-rule=\"evenodd\" fill-opacity=\"1\" /><path clip-path=\"url(#clip070)\" d=\"M 0 0 M937.825 1477.97 L942.709 1477.97 L942.709 1483.85 L937.825 1483.85 L937.825 1477.97 Z\" fill=\"#000000\" fill-rule=\"evenodd\" fill-opacity=\"1\" /><path clip-path=\"url(#clip070)\" d=\"M 0 0 M952.94 1449.29 L971.297 1449.29 L971.297 1453.23 L957.223 1453.23 L957.223 1461.7 Q958.241 1461.35 959.26 1461.19 Q960.278 1461 961.297 1461 Q967.084 1461 970.463 1464.18 Q973.843 1467.35 973.843 1472.76 Q973.843 1478.34 970.371 1481.44 Q966.899 1484.52 960.579 1484.52 Q958.403 1484.52 956.135 1484.15 Q953.889 1483.78 951.482 1483.04 L951.482 1478.34 Q953.565 1479.48 955.788 1480.03 Q958.01 1480.59 960.487 1480.59 Q964.491 1480.59 966.829 1478.48 Q969.167 1476.38 969.167 1472.76 Q969.167 1469.15 966.829 1467.05 Q964.491 1464.94 960.487 1464.94 Q958.612 1464.94 956.737 1465.36 Q954.885 1465.77 952.94 1466.65 L952.94 1449.29 Z\" fill=\"#000000\" fill-rule=\"evenodd\" fill-opacity=\"1\" /><path clip-path=\"url(#clip070)\" d=\"M 0 0 M1114.54 1479.92 L1130.85 1479.92 L1130.85 1483.85 L1108.91 1483.85 L1108.91 1479.92 Q1111.57 1477.16 1116.16 1472.53 Q1120.76 1467.88 1121.94 1466.54 Q1124.19 1464.01 1125.07 1462.28 Q1125.97 1460.52 1125.97 1458.83 Q1125.97 1456.07 1124.03 1454.34 Q1122.1 1452.6 1119 1452.6 Q1116.8 1452.6 1114.35 1453.37 Q1111.92 1454.13 1109.14 1455.68 L1109.14 1450.96 Q1111.97 1449.82 1114.42 1449.25 Q1116.87 1448.67 1118.91 1448.67 Q1124.28 1448.67 1127.48 1451.35 Q1130.67 1454.04 1130.67 1458.53 Q1130.67 1460.66 1129.86 1462.58 Q1129.07 1464.48 1126.97 1467.07 Q1126.39 1467.74 1123.29 1470.96 Q1120.18 1474.15 1114.54 1479.92 Z\" fill=\"#000000\" fill-rule=\"evenodd\" fill-opacity=\"1\" /><path clip-path=\"url(#clip070)\" d=\"M 0 0 M1140.67 1477.97 L1145.55 1477.97 L1145.55 1483.85 L1140.67 1483.85 L1140.67 1477.97 Z\" fill=\"#000000\" fill-rule=\"evenodd\" fill-opacity=\"1\" /><path clip-path=\"url(#clip070)\" d=\"M 0 0 M1165.74 1452.37 Q1162.13 1452.37 1160.3 1455.94 Q1158.49 1459.48 1158.49 1466.61 Q1158.49 1473.71 1160.3 1477.28 Q1162.13 1480.82 1165.74 1480.82 Q1169.37 1480.82 1171.18 1477.28 Q1173.01 1473.71 1173.01 1466.61 Q1173.01 1459.48 1171.18 1455.94 Q1169.37 1452.37 1165.74 1452.37 M1165.74 1448.67 Q1171.55 1448.67 1174.6 1453.27 Q1177.68 1457.86 1177.68 1466.61 Q1177.68 1475.33 1174.6 1479.94 Q1171.55 1484.52 1165.74 1484.52 Q1159.93 1484.52 1156.85 1479.94 Q1153.79 1475.33 1153.79 1466.61 Q1153.79 1457.86 1156.85 1453.27 Q1159.93 1448.67 1165.74 1448.67 Z\" fill=\"#000000\" fill-rule=\"evenodd\" fill-opacity=\"1\" /><path clip-path=\"url(#clip070)\" d=\"M 0 0 M359.175 1537.87 Q358.188 1537.3 357.01 1537.04 Q355.864 1536.76 354.464 1536.76 Q349.499 1536.76 346.825 1540 Q344.183 1543.22 344.183 1549.27 L344.183 1568.04 L338.295 1568.04 L338.295 1532.4 L344.183 1532.4 L344.183 1537.93 Q346.029 1534.69 348.989 1533.13 Q351.949 1531.54 356.183 1531.54 Q356.787 1531.54 357.519 1531.63 Q358.252 1531.7 359.143 1531.85 L359.175 1537.87 Z\" fill=\"#000000\" fill-rule=\"evenodd\" fill-opacity=\"1\" /><path clip-path=\"url(#clip070)\" d=\"M 0 0 M394.377 1548.76 L394.377 1551.62 L367.45 1551.62 Q367.832 1557.67 371.078 1560.85 Q374.357 1564 380.181 1564 Q383.555 1564 386.706 1563.17 Q389.889 1562.35 393.008 1560.69 L393.008 1566.23 Q389.857 1567.57 386.547 1568.27 Q383.237 1568.97 379.831 1568.97 Q371.301 1568.97 366.304 1564 Q361.339 1559.04 361.339 1550.57 Q361.339 1541.82 366.049 1536.69 Q370.792 1531.54 378.813 1531.54 Q386.006 1531.54 390.176 1536.18 Q394.377 1540.8 394.377 1548.76 M388.52 1547.04 Q388.457 1542.23 385.815 1539.37 Q383.205 1536.5 378.876 1536.5 Q373.975 1536.5 371.015 1539.27 Q368.087 1542.04 367.641 1547.07 L388.52 1547.04 Z\" fill=\"#000000\" fill-rule=\"evenodd\" fill-opacity=\"1\" /><path clip-path=\"url(#clip070)\" d=\"M 0 0 M403.989 1518.52 L409.846 1518.52 L409.846 1568.04 L403.989 1568.04 L403.989 1518.52 Z\" fill=\"#000000\" fill-rule=\"evenodd\" fill-opacity=\"1\" /><path clip-path=\"url(#clip070)\" d=\"M 0 0 M438.3 1550.12 Q431.202 1550.12 428.465 1551.75 Q425.728 1553.37 425.728 1557.29 Q425.728 1560.4 427.765 1562.25 Q429.834 1564.07 433.367 1564.07 Q438.237 1564.07 441.165 1560.63 Q444.125 1557.16 444.125 1551.43 L444.125 1550.12 L438.3 1550.12 M449.981 1547.71 L449.981 1568.04 L444.125 1568.04 L444.125 1562.63 Q442.12 1565.88 439.128 1567.44 Q436.136 1568.97 431.807 1568.97 Q426.333 1568.97 423.086 1565.91 Q419.872 1562.82 419.872 1557.67 Q419.872 1551.65 423.882 1548.6 Q427.924 1545.54 435.913 1545.54 L444.125 1545.54 L444.125 1544.97 Q444.125 1540.93 441.451 1538.73 Q438.81 1536.5 434.003 1536.5 Q430.948 1536.5 428.051 1537.23 Q425.155 1537.97 422.481 1539.43 L422.481 1534.02 Q425.696 1532.78 428.72 1532.17 Q431.744 1531.54 434.608 1531.54 Q442.342 1531.54 446.162 1535.55 Q449.981 1539.56 449.981 1547.71 Z\" fill=\"#000000\" fill-rule=\"evenodd\" fill-opacity=\"1\" /><path clip-path=\"url(#clip070)\" d=\"M 0 0 M467.837 1522.27 L467.837 1532.4 L479.9 1532.4 L479.9 1536.95 L467.837 1536.95 L467.837 1556.3 Q467.837 1560.66 469.015 1561.9 Q470.224 1563.14 473.885 1563.14 L479.9 1563.14 L479.9 1568.04 L473.885 1568.04 Q467.105 1568.04 464.527 1565.53 Q461.949 1562.98 461.949 1556.3 L461.949 1536.95 L457.652 1536.95 L457.652 1532.4 L461.949 1532.4 L461.949 1522.27 L467.837 1522.27 Z\" fill=\"#000000\" fill-rule=\"evenodd\" fill-opacity=\"1\" /><path clip-path=\"url(#clip070)\" d=\"M 0 0 M487.603 1532.4 L493.459 1532.4 L493.459 1568.04 L487.603 1568.04 L487.603 1532.4 M487.603 1518.52 L493.459 1518.52 L493.459 1525.93 L487.603 1525.93 L487.603 1518.52 Z\" fill=\"#000000\" fill-rule=\"evenodd\" fill-opacity=\"1\" /><path clip-path=\"url(#clip070)\" d=\"M 0 0 M501.512 1532.4 L507.718 1532.4 L518.858 1562.31 L529.998 1532.4 L536.205 1532.4 L522.837 1568.04 L514.88 1568.04 L501.512 1532.4 Z\" fill=\"#000000\" fill-rule=\"evenodd\" fill-opacity=\"1\" /><path clip-path=\"url(#clip070)\" d=\"M 0 0 M574.781 1548.76 L574.781 1551.62 L547.854 1551.62 Q548.236 1557.67 551.483 1560.85 Q554.761 1564 560.585 1564 Q563.959 1564 567.11 1563.17 Q570.293 1562.35 573.412 1560.69 L573.412 1566.23 Q570.261 1567.57 566.951 1568.27 Q563.641 1568.97 560.235 1568.97 Q551.705 1568.97 546.708 1564 Q541.743 1559.04 541.743 1550.57 Q541.743 1541.82 546.454 1536.69 Q551.196 1531.54 559.217 1531.54 Q566.41 1531.54 570.58 1536.18 Q574.781 1540.8 574.781 1548.76 M568.925 1547.04 Q568.861 1542.23 566.219 1539.37 Q563.609 1536.5 559.281 1536.5 Q554.379 1536.5 551.419 1539.27 Q548.491 1542.04 548.045 1547.07 L568.925 1547.04 Z\" fill=\"#000000\" fill-rule=\"evenodd\" fill-opacity=\"1\" /><path clip-path=\"url(#clip070)\" d=\"M 0 0 M610.779 1562.7 L610.779 1581.6 L604.891 1581.6 L604.891 1532.4 L610.779 1532.4 L610.779 1537.81 Q612.625 1534.62 615.426 1533.1 Q618.259 1531.54 622.174 1531.54 Q628.667 1531.54 632.709 1536.69 Q636.783 1541.85 636.783 1550.25 Q636.783 1558.65 632.709 1563.81 Q628.667 1568.97 622.174 1568.97 Q618.259 1568.97 615.426 1567.44 Q612.625 1565.88 610.779 1562.7 M630.704 1550.25 Q630.704 1543.79 628.03 1540.13 Q625.388 1536.44 620.741 1536.44 Q616.094 1536.44 613.421 1540.13 Q610.779 1543.79 610.779 1550.25 Q610.779 1556.71 613.421 1560.4 Q616.094 1564.07 620.741 1564.07 Q625.388 1564.07 628.03 1560.4 Q630.704 1556.71 630.704 1550.25 Z\" fill=\"#000000\" fill-rule=\"evenodd\" fill-opacity=\"1\" /><path clip-path=\"url(#clip070)\" d=\"M 0 0 M662.691 1550.12 Q655.594 1550.12 652.856 1551.75 Q650.119 1553.37 650.119 1557.29 Q650.119 1560.4 652.156 1562.25 Q654.225 1564.07 657.758 1564.07 Q662.628 1564.07 665.556 1560.63 Q668.516 1557.16 668.516 1551.43 L668.516 1550.12 L662.691 1550.12 M674.372 1547.71 L674.372 1568.04 L668.516 1568.04 L668.516 1562.63 Q666.511 1565.88 663.519 1567.44 Q660.527 1568.97 656.198 1568.97 Q650.724 1568.97 647.477 1565.91 Q644.263 1562.82 644.263 1557.67 Q644.263 1551.65 648.273 1548.6 Q652.315 1545.54 660.304 1545.54 L668.516 1545.54 L668.516 1544.97 Q668.516 1540.93 665.842 1538.73 Q663.201 1536.5 658.395 1536.5 Q655.339 1536.5 652.443 1537.23 Q649.546 1537.97 646.873 1539.43 L646.873 1534.02 Q650.087 1532.78 653.111 1532.17 Q656.135 1531.54 658.999 1531.54 Q666.734 1531.54 670.553 1535.55 Q674.372 1539.56 674.372 1547.71 Z\" fill=\"#000000\" fill-rule=\"evenodd\" fill-opacity=\"1\" /><path clip-path=\"url(#clip070)\" d=\"M 0 0 M707.092 1537.87 Q706.106 1537.3 704.928 1537.04 Q703.782 1536.76 702.382 1536.76 Q697.416 1536.76 694.743 1540 Q692.101 1543.22 692.101 1549.27 L692.101 1568.04 L686.213 1568.04 L686.213 1532.4 L692.101 1532.4 L692.101 1537.93 Q693.947 1534.69 696.907 1533.13 Q699.867 1531.54 704.1 1531.54 Q704.705 1531.54 705.437 1531.63 Q706.169 1531.7 707.06 1531.85 L707.092 1537.87 Z\" fill=\"#000000\" fill-rule=\"evenodd\" fill-opacity=\"1\" /><path clip-path=\"url(#clip070)\" d=\"M 0 0 M729.436 1550.12 Q722.338 1550.12 719.601 1551.75 Q716.864 1553.37 716.864 1557.29 Q716.864 1560.4 718.901 1562.25 Q720.969 1564.07 724.502 1564.07 Q729.372 1564.07 732.3 1560.63 Q735.26 1557.16 735.26 1551.43 L735.26 1550.12 L729.436 1550.12 M741.117 1547.71 L741.117 1568.04 L735.26 1568.04 L735.26 1562.63 Q733.255 1565.88 730.263 1567.44 Q727.272 1568.97 722.943 1568.97 Q717.468 1568.97 714.222 1565.91 Q711.007 1562.82 711.007 1557.67 Q711.007 1551.65 715.018 1548.6 Q719.06 1545.54 727.049 1545.54 L735.26 1545.54 L735.26 1544.97 Q735.26 1540.93 732.587 1538.73 Q729.945 1536.5 725.139 1536.5 Q722.083 1536.5 719.187 1537.23 Q716.291 1537.97 713.617 1539.43 L713.617 1534.02 Q716.832 1532.78 719.855 1532.17 Q722.879 1531.54 725.744 1531.54 Q733.478 1531.54 737.298 1535.55 Q741.117 1539.56 741.117 1547.71 Z\" fill=\"#000000\" fill-rule=\"evenodd\" fill-opacity=\"1\" /><path clip-path=\"url(#clip070)\" d=\"M 0 0 M780.934 1539.24 Q783.131 1535.29 786.186 1533.41 Q789.242 1531.54 793.379 1531.54 Q798.949 1531.54 801.973 1535.45 Q804.997 1539.33 804.997 1546.53 L804.997 1568.04 L799.109 1568.04 L799.109 1546.72 Q799.109 1541.59 797.294 1539.11 Q795.48 1536.63 791.756 1536.63 Q787.205 1536.63 784.563 1539.65 Q781.921 1542.68 781.921 1547.9 L781.921 1568.04 L776.033 1568.04 L776.033 1546.72 Q776.033 1541.56 774.219 1539.11 Q772.404 1536.63 768.617 1536.63 Q764.129 1536.63 761.487 1539.68 Q758.845 1542.71 758.845 1547.9 L758.845 1568.04 L752.957 1568.04 L752.957 1532.4 L758.845 1532.4 L758.845 1537.93 Q760.851 1534.66 763.652 1533.1 Q766.452 1531.54 770.304 1531.54 Q774.187 1531.54 776.892 1533.51 Q779.629 1535.48 780.934 1539.24 Z\" fill=\"#000000\" fill-rule=\"evenodd\" fill-opacity=\"1\" /><path clip-path=\"url(#clip070)\" d=\"M 0 0 M847.17 1548.76 L847.17 1551.62 L820.243 1551.62 Q820.625 1557.67 823.871 1560.85 Q827.149 1564 832.974 1564 Q836.348 1564 839.499 1563.17 Q842.682 1562.35 845.801 1560.69 L845.801 1566.23 Q842.65 1567.57 839.34 1568.27 Q836.03 1568.97 832.624 1568.97 Q824.094 1568.97 819.097 1564 Q814.132 1559.04 814.132 1550.57 Q814.132 1541.82 818.842 1536.69 Q823.585 1531.54 831.605 1531.54 Q838.799 1531.54 842.968 1536.18 Q847.17 1540.8 847.17 1548.76 M841.313 1547.04 Q841.249 1542.23 838.608 1539.37 Q835.998 1536.5 831.669 1536.5 Q826.768 1536.5 823.807 1539.27 Q820.879 1542.04 820.434 1547.07 L841.313 1547.04 Z\" fill=\"#000000\" fill-rule=\"evenodd\" fill-opacity=\"1\" /><path clip-path=\"url(#clip070)\" d=\"M 0 0 M862.575 1522.27 L862.575 1532.4 L874.638 1532.4 L874.638 1536.95 L862.575 1536.95 L862.575 1556.3 Q862.575 1560.66 863.752 1561.9 Q864.962 1563.14 868.622 1563.14 L874.638 1563.14 L874.638 1568.04 L868.622 1568.04 Q861.843 1568.04 859.264 1565.53 Q856.686 1562.98 856.686 1556.3 L856.686 1536.95 L852.389 1536.95 L852.389 1532.4 L856.686 1532.4 L856.686 1522.27 L862.575 1522.27 Z\" fill=\"#000000\" fill-rule=\"evenodd\" fill-opacity=\"1\" /><path clip-path=\"url(#clip070)\" d=\"M 0 0 M912.832 1548.76 L912.832 1551.62 L885.905 1551.62 Q886.287 1557.67 889.533 1560.85 Q892.812 1564 898.636 1564 Q902.01 1564 905.161 1563.17 Q908.344 1562.35 911.463 1560.69 L911.463 1566.23 Q908.312 1567.57 905.002 1568.27 Q901.692 1568.97 898.286 1568.97 Q889.756 1568.97 884.759 1564 Q879.794 1559.04 879.794 1550.57 Q879.794 1541.82 884.504 1536.69 Q889.247 1531.54 897.268 1531.54 Q904.461 1531.54 908.63 1536.18 Q912.832 1540.8 912.832 1548.76 M906.975 1547.04 Q906.912 1542.23 904.27 1539.37 Q901.66 1536.5 897.331 1536.5 Q892.43 1536.5 889.47 1539.27 Q886.541 1542.04 886.096 1547.07 L906.975 1547.04 Z\" fill=\"#000000\" fill-rule=\"evenodd\" fill-opacity=\"1\" /><path clip-path=\"url(#clip070)\" d=\"M 0 0 M943.101 1537.87 Q942.114 1537.3 940.936 1537.04 Q939.791 1536.76 938.39 1536.76 Q933.425 1536.76 930.751 1540 Q928.11 1543.22 928.11 1549.27 L928.11 1568.04 L922.221 1568.04 L922.221 1532.4 L928.11 1532.4 L928.11 1537.93 Q929.956 1534.69 932.916 1533.13 Q935.876 1531.54 940.109 1531.54 Q940.714 1531.54 941.446 1531.63 Q942.178 1531.7 943.069 1531.85 L943.101 1537.87 Z\" fill=\"#000000\" fill-rule=\"evenodd\" fill-opacity=\"1\" /><path clip-path=\"url(#clip070)\" d=\"M 0 0 M965.763 1532.4 L971.969 1532.4 L983.109 1562.31 L994.249 1532.4 L1000.46 1532.4 L987.088 1568.04 L979.131 1568.04 L965.763 1532.4 Z\" fill=\"#000000\" fill-rule=\"evenodd\" fill-opacity=\"1\" /><path clip-path=\"url(#clip070)\" d=\"M 0 0 M1024.74 1550.12 Q1017.64 1550.12 1014.91 1551.75 Q1012.17 1553.37 1012.17 1557.29 Q1012.17 1560.4 1014.21 1562.25 Q1016.27 1564.07 1019.81 1564.07 Q1024.68 1564.07 1027.61 1560.63 Q1030.57 1557.16 1030.57 1551.43 L1030.57 1550.12 L1024.74 1550.12 M1036.42 1547.71 L1036.42 1568.04 L1030.57 1568.04 L1030.57 1562.63 Q1028.56 1565.88 1025.57 1567.44 Q1022.58 1568.97 1018.25 1568.97 Q1012.77 1568.97 1009.53 1565.91 Q1006.31 1562.82 1006.31 1557.67 Q1006.31 1551.65 1010.32 1548.6 Q1014.36 1545.54 1022.35 1545.54 L1030.57 1545.54 L1030.57 1544.97 Q1030.57 1540.93 1027.89 1538.73 Q1025.25 1536.5 1020.44 1536.5 Q1017.39 1536.5 1014.49 1537.23 Q1011.6 1537.97 1008.92 1539.43 L1008.92 1534.02 Q1012.14 1532.78 1015.16 1532.17 Q1018.18 1531.54 1021.05 1531.54 Q1028.78 1531.54 1032.6 1535.55 Q1036.42 1539.56 1036.42 1547.71 Z\" fill=\"#000000\" fill-rule=\"evenodd\" fill-opacity=\"1\" /><path clip-path=\"url(#clip070)\" d=\"M 0 0 M1048.49 1518.52 L1054.34 1518.52 L1054.34 1568.04 L1048.49 1568.04 L1048.49 1518.52 Z\" fill=\"#000000\" fill-rule=\"evenodd\" fill-opacity=\"1\" /><path clip-path=\"url(#clip070)\" d=\"M 0 0 M1065.99 1553.98 L1065.99 1532.4 L1071.85 1532.4 L1071.85 1553.75 Q1071.85 1558.81 1073.82 1561.36 Q1075.79 1563.87 1079.74 1563.87 Q1084.48 1563.87 1087.22 1560.85 Q1089.99 1557.83 1089.99 1552.61 L1089.99 1532.4 L1095.85 1532.4 L1095.85 1568.04 L1089.99 1568.04 L1089.99 1562.57 Q1087.86 1565.82 1085.02 1567.41 Q1082.22 1568.97 1078.5 1568.97 Q1072.36 1568.97 1069.17 1565.15 Q1065.99 1561.33 1065.99 1553.98 M1080.73 1531.54 L1080.73 1531.54 Z\" fill=\"#000000\" fill-rule=\"evenodd\" fill-opacity=\"1\" /><path clip-path=\"url(#clip070)\" d=\"M 0 0 M1138.4 1548.76 L1138.4 1551.62 L1111.47 1551.62 Q1111.86 1557.67 1115.1 1560.85 Q1118.38 1564 1124.21 1564 Q1127.58 1564 1130.73 1563.17 Q1133.91 1562.35 1137.03 1560.69 L1137.03 1566.23 Q1133.88 1567.57 1130.57 1568.27 Q1127.26 1568.97 1123.86 1568.97 Q1115.32 1568.97 1110.33 1564 Q1105.36 1559.04 1105.36 1550.57 Q1105.36 1541.82 1110.07 1536.69 Q1114.82 1531.54 1122.84 1531.54 Q1130.03 1531.54 1134.2 1536.18 Q1138.4 1540.8 1138.4 1548.76 M1132.54 1547.04 Q1132.48 1542.23 1129.84 1539.37 Q1127.23 1536.5 1122.9 1536.5 Q1118 1536.5 1115.04 1539.27 Q1112.11 1542.04 1111.66 1547.07 L1132.54 1547.04 Z\" fill=\"#000000\" fill-rule=\"evenodd\" fill-opacity=\"1\" /><polyline clip-path=\"url(#clip074)\" style=\"stroke:#000000; stroke-width:2; stroke-opacity:0.1; fill:none\" points=\"\n",
       "  309.102,1414.12 1167.59,1414.12 \n",
       "  \"/>\n",
       "<polyline clip-path=\"url(#clip074)\" style=\"stroke:#000000; stroke-width:2; stroke-opacity:0.1; fill:none\" points=\"\n",
       "  309.102,1308.9 1167.59,1308.9 \n",
       "  \"/>\n",
       "<polyline clip-path=\"url(#clip074)\" style=\"stroke:#000000; stroke-width:2; stroke-opacity:0.1; fill:none\" points=\"\n",
       "  309.102,1203.68 1167.59,1203.68 \n",
       "  \"/>\n",
       "<polyline clip-path=\"url(#clip074)\" style=\"stroke:#000000; stroke-width:2; stroke-opacity:0.1; fill:none\" points=\"\n",
       "  309.102,1098.47 1167.59,1098.47 \n",
       "  \"/>\n",
       "<polyline clip-path=\"url(#clip074)\" style=\"stroke:#000000; stroke-width:2; stroke-opacity:0.1; fill:none\" points=\"\n",
       "  309.102,993.248 1167.59,993.248 \n",
       "  \"/>\n",
       "<polyline clip-path=\"url(#clip070)\" style=\"stroke:#000000; stroke-width:4; stroke-opacity:1; fill:none\" points=\"\n",
       "  309.102,1423.18 309.102,923.472 \n",
       "  \"/>\n",
       "<polyline clip-path=\"url(#clip070)\" style=\"stroke:#000000; stroke-width:4; stroke-opacity:1; fill:none\" points=\"\n",
       "  309.102,1414.12 319.404,1414.12 \n",
       "  \"/>\n",
       "<polyline clip-path=\"url(#clip070)\" style=\"stroke:#000000; stroke-width:4; stroke-opacity:1; fill:none\" points=\"\n",
       "  309.102,1308.9 319.404,1308.9 \n",
       "  \"/>\n",
       "<polyline clip-path=\"url(#clip070)\" style=\"stroke:#000000; stroke-width:4; stroke-opacity:1; fill:none\" points=\"\n",
       "  309.102,1203.68 319.404,1203.68 \n",
       "  \"/>\n",
       "<polyline clip-path=\"url(#clip070)\" style=\"stroke:#000000; stroke-width:4; stroke-opacity:1; fill:none\" points=\"\n",
       "  309.102,1098.47 319.404,1098.47 \n",
       "  \"/>\n",
       "<polyline clip-path=\"url(#clip070)\" style=\"stroke:#000000; stroke-width:4; stroke-opacity:1; fill:none\" points=\"\n",
       "  309.102,993.248 319.404,993.248 \n",
       "  \"/>\n",
       "<path clip-path=\"url(#clip070)\" d=\"M 0 0 M115.256 1396.84 L137.478 1396.84 L137.478 1398.83 L124.931 1431.4 L120.047 1431.4 L131.853 1400.77 L115.256 1400.77 L115.256 1396.84 Z\" fill=\"#000000\" fill-rule=\"evenodd\" fill-opacity=\"1\" /><path clip-path=\"url(#clip070)\" d=\"M 0 0 M146.598 1425.52 L151.482 1425.52 L151.482 1431.4 L146.598 1431.4 L146.598 1425.52 Z\" fill=\"#000000\" fill-rule=\"evenodd\" fill-opacity=\"1\" /><path clip-path=\"url(#clip070)\" d=\"M 0 0 M175.834 1412.76 Q179.19 1413.48 181.065 1415.75 Q182.963 1418.02 182.963 1421.35 Q182.963 1426.47 179.445 1429.27 Q175.926 1432.07 169.445 1432.07 Q167.269 1432.07 164.954 1431.63 Q162.663 1431.21 160.209 1430.36 L160.209 1425.84 Q162.153 1426.98 164.468 1427.55 Q166.783 1428.13 169.306 1428.13 Q173.704 1428.13 175.996 1426.4 Q178.311 1424.66 178.311 1421.35 Q178.311 1418.3 176.158 1416.58 Q174.028 1414.85 170.209 1414.85 L166.181 1414.85 L166.181 1411 L170.394 1411 Q173.843 1411 175.672 1409.64 Q177.501 1408.25 177.501 1405.66 Q177.501 1402.99 175.602 1401.58 Q173.727 1400.15 170.209 1400.15 Q168.288 1400.15 166.089 1400.56 Q163.89 1400.98 161.251 1401.86 L161.251 1397.69 Q163.913 1396.95 166.227 1396.58 Q168.565 1396.21 170.626 1396.21 Q175.95 1396.21 179.051 1398.64 Q182.153 1401.05 182.153 1405.17 Q182.153 1408.04 180.51 1410.03 Q178.866 1412 175.834 1412.76 Z\" fill=\"#000000\" fill-rule=\"evenodd\" fill-opacity=\"1\" /><path clip-path=\"url(#clip070)\" d=\"M 0 0 M191.875 1396.84 L210.232 1396.84 L210.232 1400.77 L196.158 1400.77 L196.158 1409.24 Q197.176 1408.9 198.195 1408.74 Q199.213 1408.55 200.232 1408.55 Q206.019 1408.55 209.399 1411.72 Q212.778 1414.89 212.778 1420.31 Q212.778 1425.89 209.306 1428.99 Q205.834 1432.07 199.514 1432.07 Q197.338 1432.07 195.07 1431.7 Q192.825 1431.33 190.417 1430.59 L190.417 1425.89 Q192.5 1427.02 194.723 1427.58 Q196.945 1428.13 199.422 1428.13 Q203.426 1428.13 205.764 1426.03 Q208.102 1423.92 208.102 1420.31 Q208.102 1416.7 205.764 1414.59 Q203.426 1412.49 199.422 1412.49 Q197.547 1412.49 195.672 1412.9 Q193.82 1413.32 191.875 1414.2 L191.875 1396.84 Z\" fill=\"#000000\" fill-rule=\"evenodd\" fill-opacity=\"1\" /><path clip-path=\"url(#clip070)\" d=\"M 0 0 M226.019 1427.46 L242.338 1427.46 L242.338 1431.4 L220.394 1431.4 L220.394 1427.46 Q223.056 1424.71 227.639 1420.08 Q232.246 1415.43 233.426 1414.08 Q235.672 1411.56 236.551 1409.82 Q237.454 1408.06 237.454 1406.37 Q237.454 1403.62 235.51 1401.88 Q233.588 1400.15 230.486 1400.15 Q228.287 1400.15 225.834 1400.91 Q223.403 1401.68 220.625 1403.23 L220.625 1398.5 Q223.449 1397.37 225.903 1396.79 Q228.357 1396.21 230.394 1396.21 Q235.764 1396.21 238.959 1398.9 Q242.153 1401.58 242.153 1406.07 Q242.153 1408.2 241.343 1410.12 Q240.556 1412.02 238.449 1414.62 Q237.871 1415.29 234.769 1418.5 Q231.667 1421.7 226.019 1427.46 Z\" fill=\"#000000\" fill-rule=\"evenodd\" fill-opacity=\"1\" /><path clip-path=\"url(#clip070)\" d=\"M 0 0 M252.199 1396.84 L270.556 1396.84 L270.556 1400.77 L256.482 1400.77 L256.482 1409.24 Q257.5 1408.9 258.519 1408.74 Q259.537 1408.55 260.556 1408.55 Q266.343 1408.55 269.722 1411.72 Q273.102 1414.89 273.102 1420.31 Q273.102 1425.89 269.63 1428.99 Q266.157 1432.07 259.838 1432.07 Q257.662 1432.07 255.394 1431.7 Q253.148 1431.33 250.741 1430.59 L250.741 1425.89 Q252.824 1427.02 255.046 1427.58 Q257.269 1428.13 259.745 1428.13 Q263.75 1428.13 266.088 1426.03 Q268.426 1423.92 268.426 1420.31 Q268.426 1416.7 266.088 1414.59 Q263.75 1412.49 259.745 1412.49 Q257.87 1412.49 255.996 1412.9 Q254.144 1413.32 252.199 1414.2 L252.199 1396.84 Z\" fill=\"#000000\" fill-rule=\"evenodd\" fill-opacity=\"1\" /><path clip-path=\"url(#clip070)\" d=\"M 0 0 M114.26 1291.62 L136.482 1291.62 L136.482 1293.61 L123.936 1326.18 L119.052 1326.18 L130.857 1295.56 L114.26 1295.56 L114.26 1291.62 Z\" fill=\"#000000\" fill-rule=\"evenodd\" fill-opacity=\"1\" /><path clip-path=\"url(#clip070)\" d=\"M 0 0 M145.603 1320.3 L150.487 1320.3 L150.487 1326.18 L145.603 1326.18 L145.603 1320.3 Z\" fill=\"#000000\" fill-rule=\"evenodd\" fill-opacity=\"1\" /><path clip-path=\"url(#clip070)\" d=\"M 0 0 M174.839 1307.55 Q178.195 1308.26 180.07 1310.53 Q181.968 1312.8 181.968 1316.13 Q181.968 1321.25 178.45 1324.05 Q174.931 1326.85 168.45 1326.85 Q166.274 1326.85 163.959 1326.41 Q161.667 1325.99 159.214 1325.14 L159.214 1320.62 Q161.158 1321.76 163.473 1322.34 Q165.788 1322.92 168.311 1322.92 Q172.709 1322.92 175.001 1321.18 Q177.315 1319.44 177.315 1316.13 Q177.315 1313.08 175.163 1311.37 Q173.033 1309.63 169.214 1309.63 L165.186 1309.63 L165.186 1305.79 L169.399 1305.79 Q172.848 1305.79 174.677 1304.42 Q176.505 1303.03 176.505 1300.44 Q176.505 1297.78 174.607 1296.37 Q172.732 1294.93 169.214 1294.93 Q167.292 1294.93 165.093 1295.35 Q162.894 1295.76 160.255 1296.64 L160.255 1292.48 Q162.917 1291.74 165.232 1291.37 Q167.57 1291 169.63 1291 Q174.954 1291 178.056 1293.43 Q181.158 1295.83 181.158 1299.95 Q181.158 1302.82 179.514 1304.81 Q177.871 1306.78 174.839 1307.55 Z\" fill=\"#000000\" fill-rule=\"evenodd\" fill-opacity=\"1\" /><path clip-path=\"url(#clip070)\" d=\"M 0 0 M190.88 1291.62 L209.237 1291.62 L209.237 1295.56 L195.163 1295.56 L195.163 1304.03 Q196.181 1303.68 197.2 1303.52 Q198.218 1303.33 199.237 1303.33 Q205.024 1303.33 208.403 1306.5 Q211.783 1309.68 211.783 1315.09 Q211.783 1320.67 208.311 1323.77 Q204.838 1326.85 198.519 1326.85 Q196.343 1326.85 194.075 1326.48 Q191.829 1326.11 189.422 1325.37 L189.422 1320.67 Q191.505 1321.81 193.727 1322.36 Q195.95 1322.92 198.426 1322.92 Q202.431 1322.92 204.769 1320.81 Q207.107 1318.7 207.107 1315.09 Q207.107 1311.48 204.769 1309.37 Q202.431 1307.27 198.426 1307.27 Q196.551 1307.27 194.676 1307.68 Q192.825 1308.1 190.88 1308.98 L190.88 1291.62 Z\" fill=\"#000000\" fill-rule=\"evenodd\" fill-opacity=\"1\" /><path clip-path=\"url(#clip070)\" d=\"M 0 0 M221.042 1291.62 L239.398 1291.62 L239.398 1295.56 L225.324 1295.56 L225.324 1304.03 Q226.343 1303.68 227.361 1303.52 Q228.38 1303.33 229.398 1303.33 Q235.185 1303.33 238.565 1306.5 Q241.945 1309.68 241.945 1315.09 Q241.945 1320.67 238.472 1323.77 Q235 1326.85 228.681 1326.85 Q226.505 1326.85 224.236 1326.48 Q221.991 1326.11 219.584 1325.37 L219.584 1320.67 Q221.667 1321.81 223.889 1322.36 Q226.111 1322.92 228.588 1322.92 Q232.593 1322.92 234.931 1320.81 Q237.269 1318.7 237.269 1315.09 Q237.269 1311.48 234.931 1309.37 Q232.593 1307.27 228.588 1307.27 Q226.713 1307.27 224.838 1307.68 Q222.986 1308.1 221.042 1308.98 L221.042 1291.62 Z\" fill=\"#000000\" fill-rule=\"evenodd\" fill-opacity=\"1\" /><path clip-path=\"url(#clip070)\" d=\"M 0 0 M261.158 1294.7 Q257.546 1294.7 255.718 1298.26 Q253.912 1301.81 253.912 1308.93 Q253.912 1316.04 255.718 1319.61 Q257.546 1323.15 261.158 1323.15 Q264.792 1323.15 266.597 1319.61 Q268.426 1316.04 268.426 1308.93 Q268.426 1301.81 266.597 1298.26 Q264.792 1294.7 261.158 1294.7 M261.158 1291 Q266.968 1291 270.023 1295.6 Q273.102 1300.18 273.102 1308.93 Q273.102 1317.66 270.023 1322.27 Q266.968 1326.85 261.158 1326.85 Q255.347 1326.85 252.269 1322.27 Q249.213 1317.66 249.213 1308.93 Q249.213 1300.18 252.269 1295.6 Q255.347 1291 261.158 1291 Z\" fill=\"#000000\" fill-rule=\"evenodd\" fill-opacity=\"1\" /><path clip-path=\"url(#clip070)\" d=\"M 0 0 M115.256 1186.4 L137.478 1186.4 L137.478 1188.39 L124.931 1220.96 L120.047 1220.96 L131.853 1190.34 L115.256 1190.34 L115.256 1186.4 Z\" fill=\"#000000\" fill-rule=\"evenodd\" fill-opacity=\"1\" /><path clip-path=\"url(#clip070)\" d=\"M 0 0 M146.598 1215.08 L151.482 1215.08 L151.482 1220.96 L146.598 1220.96 L146.598 1215.08 Z\" fill=\"#000000\" fill-rule=\"evenodd\" fill-opacity=\"1\" /><path clip-path=\"url(#clip070)\" d=\"M 0 0 M175.834 1202.33 Q179.19 1203.05 181.065 1205.31 Q182.963 1207.58 182.963 1210.92 Q182.963 1216.03 179.445 1218.83 Q175.926 1221.63 169.445 1221.63 Q167.269 1221.63 164.954 1221.19 Q162.663 1220.78 160.209 1219.92 L160.209 1215.41 Q162.153 1216.54 164.468 1217.12 Q166.783 1217.7 169.306 1217.7 Q173.704 1217.7 175.996 1215.96 Q178.311 1214.23 178.311 1210.92 Q178.311 1207.86 176.158 1206.15 Q174.028 1204.41 170.209 1204.41 L166.181 1204.41 L166.181 1200.57 L170.394 1200.57 Q173.843 1200.57 175.672 1199.2 Q177.501 1197.81 177.501 1195.22 Q177.501 1192.56 175.602 1191.15 Q173.727 1189.71 170.209 1189.71 Q168.288 1189.71 166.089 1190.13 Q163.89 1190.55 161.251 1191.43 L161.251 1187.26 Q163.913 1186.52 166.227 1186.15 Q168.565 1185.78 170.626 1185.78 Q175.95 1185.78 179.051 1188.21 Q182.153 1190.62 182.153 1194.74 Q182.153 1197.61 180.51 1199.6 Q178.866 1201.56 175.834 1202.33 Z\" fill=\"#000000\" fill-rule=\"evenodd\" fill-opacity=\"1\" /><path clip-path=\"url(#clip070)\" d=\"M 0 0 M191.875 1186.4 L210.232 1186.4 L210.232 1190.34 L196.158 1190.34 L196.158 1198.81 Q197.176 1198.46 198.195 1198.3 Q199.213 1198.12 200.232 1198.12 Q206.019 1198.12 209.399 1201.29 Q212.778 1204.46 212.778 1209.87 Q212.778 1215.45 209.306 1218.56 Q205.834 1221.63 199.514 1221.63 Q197.338 1221.63 195.07 1221.26 Q192.825 1220.89 190.417 1220.15 L190.417 1215.45 Q192.5 1216.59 194.723 1217.14 Q196.945 1217.7 199.422 1217.7 Q203.426 1217.7 205.764 1215.59 Q208.102 1213.49 208.102 1209.87 Q208.102 1206.26 205.764 1204.16 Q203.426 1202.05 199.422 1202.05 Q197.547 1202.05 195.672 1202.47 Q193.82 1202.88 191.875 1203.76 L191.875 1186.4 Z\" fill=\"#000000\" fill-rule=\"evenodd\" fill-opacity=\"1\" /><path clip-path=\"url(#clip070)\" d=\"M 0 0 M220.811 1186.4 L243.033 1186.4 L243.033 1188.39 L230.486 1220.96 L225.602 1220.96 L237.408 1190.34 L220.811 1190.34 L220.811 1186.4 Z\" fill=\"#000000\" fill-rule=\"evenodd\" fill-opacity=\"1\" /><path clip-path=\"url(#clip070)\" d=\"M 0 0 M252.199 1186.4 L270.556 1186.4 L270.556 1190.34 L256.482 1190.34 L256.482 1198.81 Q257.5 1198.46 258.519 1198.3 Q259.537 1198.12 260.556 1198.12 Q266.343 1198.12 269.722 1201.29 Q273.102 1204.46 273.102 1209.87 Q273.102 1215.45 269.63 1218.56 Q266.157 1221.63 259.838 1221.63 Q257.662 1221.63 255.394 1221.26 Q253.148 1220.89 250.741 1220.15 L250.741 1215.45 Q252.824 1216.59 255.046 1217.14 Q257.269 1217.7 259.745 1217.7 Q263.75 1217.7 266.088 1215.59 Q268.426 1213.49 268.426 1209.87 Q268.426 1206.26 266.088 1204.16 Q263.75 1202.05 259.745 1202.05 Q257.87 1202.05 255.996 1202.47 Q254.144 1202.88 252.199 1203.76 L252.199 1186.4 Z\" fill=\"#000000\" fill-rule=\"evenodd\" fill-opacity=\"1\" /><path clip-path=\"url(#clip070)\" d=\"M 0 0 M114.26 1081.19 L136.482 1081.19 L136.482 1083.18 L123.936 1115.75 L119.052 1115.75 L130.857 1085.12 L114.26 1085.12 L114.26 1081.19 Z\" fill=\"#000000\" fill-rule=\"evenodd\" fill-opacity=\"1\" /><path clip-path=\"url(#clip070)\" d=\"M 0 0 M145.603 1109.87 L150.487 1109.87 L150.487 1115.75 L145.603 1115.75 L145.603 1109.87 Z\" fill=\"#000000\" fill-rule=\"evenodd\" fill-opacity=\"1\" /><path clip-path=\"url(#clip070)\" d=\"M 0 0 M174.839 1097.11 Q178.195 1097.83 180.07 1100.1 Q181.968 1102.37 181.968 1105.7 Q181.968 1110.81 178.45 1113.62 Q174.931 1116.42 168.45 1116.42 Q166.274 1116.42 163.959 1115.98 Q161.667 1115.56 159.214 1114.7 L159.214 1110.19 Q161.158 1111.32 163.473 1111.9 Q165.788 1112.48 168.311 1112.48 Q172.709 1112.48 175.001 1110.75 Q177.315 1109.01 177.315 1105.7 Q177.315 1102.64 175.163 1100.93 Q173.033 1099.19 169.214 1099.19 L165.186 1099.19 L165.186 1095.35 L169.399 1095.35 Q172.848 1095.35 174.677 1093.99 Q176.505 1092.6 176.505 1090 Q176.505 1087.34 174.607 1085.93 Q172.732 1084.5 169.214 1084.5 Q167.292 1084.5 165.093 1084.91 Q162.894 1085.33 160.255 1086.21 L160.255 1082.04 Q162.917 1081.3 165.232 1080.93 Q167.57 1080.56 169.63 1080.56 Q174.954 1080.56 178.056 1082.99 Q181.158 1085.4 181.158 1089.52 Q181.158 1092.39 179.514 1094.38 Q177.871 1096.35 174.839 1097.11 Z\" fill=\"#000000\" fill-rule=\"evenodd\" fill-opacity=\"1\" /><path clip-path=\"url(#clip070)\" d=\"M 0 0 M201.412 1096.6 Q198.264 1096.6 196.412 1098.75 Q194.584 1100.91 194.584 1104.66 Q194.584 1108.38 196.412 1110.56 Q198.264 1112.71 201.412 1112.71 Q204.561 1112.71 206.389 1110.56 Q208.241 1108.38 208.241 1104.66 Q208.241 1100.91 206.389 1098.75 Q204.561 1096.6 201.412 1096.6 M210.695 1081.95 L210.695 1086.21 Q208.936 1085.38 207.13 1084.94 Q205.348 1084.5 203.588 1084.5 Q198.959 1084.5 196.505 1087.62 Q194.075 1090.75 193.727 1097.06 Q195.093 1095.05 197.153 1093.99 Q199.213 1092.9 201.69 1092.9 Q206.899 1092.9 209.908 1096.07 Q212.94 1099.22 212.94 1104.66 Q212.94 1109.98 209.792 1113.2 Q206.644 1116.42 201.412 1116.42 Q195.417 1116.42 192.246 1111.83 Q189.075 1107.23 189.075 1098.5 Q189.075 1090.31 192.963 1085.44 Q196.852 1080.56 203.403 1080.56 Q205.162 1080.56 206.945 1080.91 Q208.75 1081.25 210.695 1081.95 Z\" fill=\"#000000\" fill-rule=\"evenodd\" fill-opacity=\"1\" /><path clip-path=\"url(#clip070)\" d=\"M 0 0 M230.996 1084.26 Q227.385 1084.26 225.556 1087.83 Q223.75 1091.37 223.75 1098.5 Q223.75 1105.61 225.556 1109.17 Q227.385 1112.71 230.996 1112.71 Q234.63 1112.71 236.435 1109.17 Q238.264 1105.61 238.264 1098.5 Q238.264 1091.37 236.435 1087.83 Q234.63 1084.26 230.996 1084.26 M230.996 1080.56 Q236.806 1080.56 239.861 1085.17 Q242.94 1089.75 242.94 1098.5 Q242.94 1107.23 239.861 1111.83 Q236.806 1116.42 230.996 1116.42 Q225.185 1116.42 222.107 1111.83 Q219.051 1107.23 219.051 1098.5 Q219.051 1089.75 222.107 1085.17 Q225.185 1080.56 230.996 1080.56 Z\" fill=\"#000000\" fill-rule=\"evenodd\" fill-opacity=\"1\" /><path clip-path=\"url(#clip070)\" d=\"M 0 0 M261.158 1084.26 Q257.546 1084.26 255.718 1087.83 Q253.912 1091.37 253.912 1098.5 Q253.912 1105.61 255.718 1109.17 Q257.546 1112.71 261.158 1112.71 Q264.792 1112.71 266.597 1109.17 Q268.426 1105.61 268.426 1098.5 Q268.426 1091.37 266.597 1087.83 Q264.792 1084.26 261.158 1084.26 M261.158 1080.56 Q266.968 1080.56 270.023 1085.17 Q273.102 1089.75 273.102 1098.5 Q273.102 1107.23 270.023 1111.83 Q266.968 1116.42 261.158 1116.42 Q255.347 1116.42 252.269 1111.83 Q249.213 1107.23 249.213 1098.5 Q249.213 1089.75 252.269 1085.17 Q255.347 1080.56 261.158 1080.56 Z\" fill=\"#000000\" fill-rule=\"evenodd\" fill-opacity=\"1\" /><path clip-path=\"url(#clip070)\" d=\"M 0 0 M115.256 975.968 L137.478 975.968 L137.478 977.959 L124.931 1010.53 L120.047 1010.53 L131.853 979.903 L115.256 979.903 L115.256 975.968 Z\" fill=\"#000000\" fill-rule=\"evenodd\" fill-opacity=\"1\" /><path clip-path=\"url(#clip070)\" d=\"M 0 0 M146.598 1004.65 L151.482 1004.65 L151.482 1010.53 L146.598 1010.53 L146.598 1004.65 Z\" fill=\"#000000\" fill-rule=\"evenodd\" fill-opacity=\"1\" /><path clip-path=\"url(#clip070)\" d=\"M 0 0 M175.834 991.894 Q179.19 992.611 181.065 994.88 Q182.963 997.148 182.963 1000.48 Q182.963 1005.6 179.445 1008.4 Q175.926 1011.2 169.445 1011.2 Q167.269 1011.2 164.954 1010.76 Q162.663 1010.34 160.209 1009.49 L160.209 1004.97 Q162.153 1006.11 164.468 1006.69 Q166.783 1007.26 169.306 1007.26 Q173.704 1007.26 175.996 1005.53 Q178.311 1003.79 178.311 1000.48 Q178.311 997.426 176.158 995.713 Q174.028 993.977 170.209 993.977 L166.181 993.977 L166.181 990.135 L170.394 990.135 Q173.843 990.135 175.672 988.769 Q177.501 987.38 177.501 984.787 Q177.501 982.125 175.602 980.713 Q173.727 979.278 170.209 979.278 Q168.288 979.278 166.089 979.695 Q163.89 980.112 161.251 980.991 L161.251 976.825 Q163.913 976.084 166.227 975.713 Q168.565 975.343 170.626 975.343 Q175.95 975.343 179.051 977.774 Q182.153 980.181 182.153 984.301 Q182.153 987.172 180.51 989.162 Q178.866 991.13 175.834 991.894 Z\" fill=\"#000000\" fill-rule=\"evenodd\" fill-opacity=\"1\" /><path clip-path=\"url(#clip070)\" d=\"M 0 0 M202.408 991.385 Q199.26 991.385 197.408 993.537 Q195.579 995.69 195.579 999.44 Q195.579 1003.17 197.408 1005.34 Q199.26 1007.5 202.408 1007.5 Q205.556 1007.5 207.385 1005.34 Q209.237 1003.17 209.237 999.44 Q209.237 995.69 207.385 993.537 Q205.556 991.385 202.408 991.385 M211.69 976.732 L211.69 980.991 Q209.931 980.158 208.125 979.718 Q206.343 979.278 204.584 979.278 Q199.954 979.278 197.5 982.403 Q195.07 985.528 194.723 991.848 Q196.088 989.834 198.149 988.769 Q200.209 987.681 202.686 987.681 Q207.894 987.681 210.903 990.852 Q213.936 994 213.936 999.44 Q213.936 1004.76 210.787 1007.98 Q207.639 1011.2 202.408 1011.2 Q196.412 1011.2 193.241 1006.62 Q190.07 1002.01 190.07 993.283 Q190.07 985.088 193.959 980.227 Q197.848 975.343 204.399 975.343 Q206.158 975.343 207.94 975.69 Q209.746 976.037 211.69 976.732 Z\" fill=\"#000000\" fill-rule=\"evenodd\" fill-opacity=\"1\" /><path clip-path=\"url(#clip070)\" d=\"M 0 0 M226.019 1006.59 L242.338 1006.59 L242.338 1010.53 L220.394 1010.53 L220.394 1006.59 Q223.056 1003.84 227.639 999.209 Q232.246 994.556 233.426 993.213 Q235.672 990.69 236.551 988.954 Q237.454 987.195 237.454 985.505 Q237.454 982.75 235.51 981.014 Q233.588 979.278 230.486 979.278 Q228.287 979.278 225.834 980.042 Q223.403 980.806 220.625 982.357 L220.625 977.635 Q223.449 976.5 225.903 975.922 Q228.357 975.343 230.394 975.343 Q235.764 975.343 238.959 978.028 Q242.153 980.713 242.153 985.204 Q242.153 987.334 241.343 989.255 Q240.556 991.153 238.449 993.746 Q237.871 994.417 234.769 997.635 Q231.667 1000.83 226.019 1006.59 Z\" fill=\"#000000\" fill-rule=\"evenodd\" fill-opacity=\"1\" /><path clip-path=\"url(#clip070)\" d=\"M 0 0 M252.199 975.968 L270.556 975.968 L270.556 979.903 L256.482 979.903 L256.482 988.375 Q257.5 988.028 258.519 987.866 Q259.537 987.681 260.556 987.681 Q266.343 987.681 269.722 990.852 Q273.102 994.024 273.102 999.44 Q273.102 1005.02 269.63 1008.12 Q266.157 1011.2 259.838 1011.2 Q257.662 1011.2 255.394 1010.83 Q253.148 1010.46 250.741 1009.72 L250.741 1005.02 Q252.824 1006.15 255.046 1006.71 Q257.269 1007.26 259.745 1007.26 Q263.75 1007.26 266.088 1005.16 Q268.426 1003.05 268.426 999.44 Q268.426 995.829 266.088 993.723 Q263.75 991.616 259.745 991.616 Q257.87 991.616 255.996 992.033 Q254.144 992.449 252.199 993.329 L252.199 975.968 Z\" fill=\"#000000\" fill-rule=\"evenodd\" fill-opacity=\"1\" /><path clip-path=\"url(#clip070)\" d=\"M 0 0 M28.3562 1401.49 L28.3562 1395.28 L58.275 1384.14 L28.3562 1373 L28.3562 1366.8 L64.0042 1380.16 L64.0042 1388.12 L28.3562 1401.49 Z\" fill=\"#000000\" fill-rule=\"evenodd\" fill-opacity=\"1\" /><path clip-path=\"url(#clip070)\" d=\"M 0 0 M46.0847 1342.51 Q46.0847 1349.61 47.7079 1352.35 Q49.3312 1355.08 53.2461 1355.08 Q56.3653 1355.08 58.2114 1353.05 Q60.0256 1350.98 60.0256 1347.44 Q60.0256 1342.57 56.5881 1339.65 Q53.1188 1336.69 47.3897 1336.69 L46.0847 1336.69 L46.0847 1342.51 M43.6657 1330.83 L64.0042 1330.83 L64.0042 1336.69 L58.5933 1336.69 Q61.8398 1338.69 63.3994 1341.68 Q64.9272 1344.67 64.9272 1349 Q64.9272 1354.48 61.8716 1357.72 Q58.7843 1360.94 53.6281 1360.94 Q47.6125 1360.94 44.5569 1356.93 Q41.5014 1352.89 41.5014 1344.9 L41.5014 1336.69 L40.9285 1336.69 Q36.8862 1336.69 34.6901 1339.36 Q32.4621 1342 32.4621 1346.81 Q32.4621 1349.86 33.1941 1352.76 Q33.9262 1355.66 35.3903 1358.33 L29.9795 1358.33 Q28.7381 1355.11 28.1334 1352.09 Q27.4968 1349.07 27.4968 1346.2 Q27.4968 1338.47 31.5072 1334.65 Q35.5176 1330.83 43.6657 1330.83 Z\" fill=\"#000000\" fill-rule=\"evenodd\" fill-opacity=\"1\" /><path clip-path=\"url(#clip070)\" d=\"M 0 0 M33.8307 1298.11 Q33.2578 1299.1 33.0032 1300.27 Q32.7167 1301.42 32.7167 1302.82 Q32.7167 1307.79 35.9632 1310.46 Q39.1779 1313.1 45.2253 1313.1 L64.0042 1313.1 L64.0042 1318.99 L28.3562 1318.99 L28.3562 1313.1 L33.8944 1313.1 Q30.6479 1311.25 29.0883 1308.29 Q27.4968 1305.33 27.4968 1301.1 Q27.4968 1300.5 27.5923 1299.76 Q27.656 1299.03 27.8151 1298.14 L33.8307 1298.11 Z\" fill=\"#000000\" fill-rule=\"evenodd\" fill-opacity=\"1\" /><path clip-path=\"url(#clip070)\" d=\"M 0 0 M28.3562 1291.97 L28.3562 1286.11 L64.0042 1286.11 L64.0042 1291.97 L28.3562 1291.97 M14.479 1291.97 L14.479 1286.11 L21.895 1286.11 L21.895 1291.97 L14.479 1291.97 Z\" fill=\"#000000\" fill-rule=\"evenodd\" fill-opacity=\"1\" /><path clip-path=\"url(#clip070)\" d=\"M 0 0 M46.0847 1257.66 Q46.0847 1264.75 47.7079 1267.49 Q49.3312 1270.23 53.2461 1270.23 Q56.3653 1270.23 58.2114 1268.19 Q60.0256 1266.12 60.0256 1262.59 Q60.0256 1257.72 56.5881 1254.79 Q53.1188 1251.83 47.3897 1251.83 L46.0847 1251.83 L46.0847 1257.66 M43.6657 1245.97 L64.0042 1245.97 L64.0042 1251.83 L58.5933 1251.83 Q61.8398 1253.84 63.3994 1256.83 Q64.9272 1259.82 64.9272 1264.15 Q64.9272 1269.62 61.8716 1272.87 Q58.7843 1276.08 53.6281 1276.08 Q47.6125 1276.08 44.5569 1272.07 Q41.5014 1268.03 41.5014 1260.04 L41.5014 1251.83 L40.9285 1251.83 Q36.8862 1251.83 34.6901 1254.5 Q32.4621 1257.15 32.4621 1261.95 Q32.4621 1265.01 33.1941 1267.9 Q33.9262 1270.8 35.3903 1273.47 L29.9795 1273.47 Q28.7381 1270.26 28.1334 1267.24 Q27.4968 1264.21 27.4968 1261.35 Q27.4968 1253.61 31.5072 1249.79 Q35.5176 1245.97 43.6657 1245.97 Z\" fill=\"#000000\" fill-rule=\"evenodd\" fill-opacity=\"1\" /><path clip-path=\"url(#clip070)\" d=\"M 0 0 M46.212 1208.32 Q39.7508 1208.32 36.0905 1211 Q32.3984 1213.64 32.3984 1218.28 Q32.3984 1222.93 36.0905 1225.6 Q39.7508 1228.25 46.212 1228.25 Q52.6732 1228.25 56.3653 1225.6 Q60.0256 1222.93 60.0256 1218.28 Q60.0256 1213.64 56.3653 1211 Q52.6732 1208.32 46.212 1208.32 M33.7671 1228.25 Q30.5842 1226.4 29.0564 1223.6 Q27.4968 1220.77 27.4968 1216.85 Q27.4968 1210.36 32.6531 1206.32 Q37.8093 1202.24 46.212 1202.24 Q54.6147 1202.24 59.771 1206.32 Q64.9272 1210.36 64.9272 1216.85 Q64.9272 1220.77 63.3994 1223.6 Q61.8398 1226.4 58.657 1228.25 L64.0042 1228.25 L64.0042 1234.13 L14.479 1234.13 L14.479 1228.25 L33.7671 1228.25 Z\" fill=\"#000000\" fill-rule=\"evenodd\" fill-opacity=\"1\" /><path clip-path=\"url(#clip070)\" d=\"M 0 0 M14.479 1192.53 L14.479 1186.68 L64.0042 1186.68 L64.0042 1192.53 L14.479 1192.53 Z\" fill=\"#000000\" fill-rule=\"evenodd\" fill-opacity=\"1\" /><path clip-path=\"url(#clip070)\" d=\"M 0 0 M44.7161 1143.93 L47.5806 1143.93 L47.5806 1170.86 Q53.6281 1170.48 56.8109 1167.23 Q59.9619 1163.95 59.9619 1158.13 Q59.9619 1154.75 59.1344 1151.6 Q58.3069 1148.42 56.6518 1145.3 L62.1899 1145.3 Q63.5267 1148.45 64.227 1151.76 Q64.9272 1155.07 64.9272 1158.48 Q64.9272 1167.01 59.9619 1172.01 Q54.9967 1176.97 46.5303 1176.97 Q37.7774 1176.97 32.6531 1172.26 Q27.4968 1167.52 27.4968 1159.5 Q27.4968 1152.3 32.1438 1148.13 Q36.7589 1143.93 44.7161 1143.93 M42.9973 1149.79 Q38.1912 1149.85 35.3266 1152.49 Q32.4621 1155.1 32.4621 1159.43 Q32.4621 1164.33 35.2312 1167.29 Q38.0002 1170.22 43.0292 1170.67 L42.9973 1149.79 Z\" fill=\"#000000\" fill-rule=\"evenodd\" fill-opacity=\"1\" /><path clip-path=\"url(#clip070)\" d=\"M 0 0 M28.3562 1117.8 L28.3562 1111.59 L58.275 1100.45 L28.3562 1089.31 L28.3562 1083.11 L64.0042 1096.48 L64.0042 1104.43 L28.3562 1117.8 Z\" fill=\"#000000\" fill-rule=\"evenodd\" fill-opacity=\"1\" /><path clip-path=\"url(#clip070)\" d=\"M 0 0 M46.0847 1058.82 Q46.0847 1065.92 47.7079 1068.66 Q49.3312 1071.4 53.2461 1071.4 Q56.3653 1071.4 58.2114 1069.36 Q60.0256 1067.29 60.0256 1063.76 Q60.0256 1058.89 56.5881 1055.96 Q53.1188 1053 47.3897 1053 L46.0847 1053 L46.0847 1058.82 M43.6657 1047.14 L64.0042 1047.14 L64.0042 1053 L58.5933 1053 Q61.8398 1055 63.3994 1058 Q64.9272 1060.99 64.9272 1065.32 Q64.9272 1070.79 61.8716 1074.04 Q58.7843 1077.25 53.6281 1077.25 Q47.6125 1077.25 44.5569 1073.24 Q41.5014 1069.2 41.5014 1061.21 L41.5014 1053 L40.9285 1053 Q36.8862 1053 34.6901 1055.67 Q32.4621 1058.31 32.4621 1063.12 Q32.4621 1066.18 33.1941 1069.07 Q33.9262 1071.97 35.3903 1074.64 L29.9795 1074.64 Q28.7381 1071.43 28.1334 1068.4 Q27.4968 1065.38 27.4968 1062.51 Q27.4968 1054.78 31.5072 1050.96 Q35.5176 1047.14 43.6657 1047.14 Z\" fill=\"#000000\" fill-rule=\"evenodd\" fill-opacity=\"1\" /><path clip-path=\"url(#clip070)\" d=\"M 0 0 M14.479 1035.08 L14.479 1029.22 L64.0042 1029.22 L64.0042 1035.08 L14.479 1035.08 Z\" fill=\"#000000\" fill-rule=\"evenodd\" fill-opacity=\"1\" /><path clip-path=\"url(#clip070)\" d=\"M 0 0 M49.9359 1017.57 L28.3562 1017.57 L28.3562 1011.72 L49.7131 1011.72 Q54.7739 1011.72 57.3202 1009.74 Q59.8346 1007.77 59.8346 1003.82 Q59.8346 999.081 56.8109 996.343 Q53.7872 993.574 48.5673 993.574 L28.3562 993.574 L28.3562 987.718 L64.0042 987.718 L64.0042 993.574 L58.5296 993.574 Q61.7762 995.707 63.3676 998.54 Q64.9272 1001.34 64.9272 1005.06 Q64.9272 1011.21 61.1078 1014.39 Q57.2883 1017.57 49.9359 1017.57 M27.4968 1002.84 L27.4968 1002.84 Z\" fill=\"#000000\" fill-rule=\"evenodd\" fill-opacity=\"1\" /><path clip-path=\"url(#clip070)\" d=\"M 0 0 M44.7161 945.163 L47.5806 945.163 L47.5806 972.09 Q53.6281 971.708 56.8109 968.462 Q59.9619 965.183 59.9619 959.359 Q59.9619 955.985 59.1344 952.834 Q58.3069 949.651 56.6518 946.532 L62.1899 946.532 Q63.5267 949.683 64.227 952.993 Q64.9272 956.303 64.9272 959.709 Q64.9272 968.239 59.9619 973.236 Q54.9967 978.201 46.5303 978.201 Q37.7774 978.201 32.6531 973.491 Q27.4968 968.748 27.4968 960.727 Q27.4968 953.534 32.1438 949.365 Q36.7589 945.163 44.7161 945.163 M42.9973 951.02 Q38.1912 951.083 35.3266 953.725 Q32.4621 956.335 32.4621 960.664 Q32.4621 965.565 35.2312 968.525 Q38.0002 971.454 43.0292 971.899 L42.9973 951.02 Z\" fill=\"#000000\" fill-rule=\"evenodd\" fill-opacity=\"1\" /><path clip-path=\"url(#clip070)\" d=\"M 0 0 M592.394 845.192 L592.394 872.576 L584.94 872.576 L584.94 845.435 Q584.94 838.994 582.429 835.794 Q579.917 832.594 574.894 832.594 Q568.858 832.594 565.374 836.442 Q561.89 840.29 561.89 846.934 L561.89 872.576 L554.396 872.576 L554.396 827.206 L561.89 827.206 L561.89 834.254 Q564.564 830.163 568.169 828.138 Q571.815 826.112 576.555 826.112 Q584.373 826.112 588.383 830.973 Q592.394 835.794 592.394 845.192 Z\" fill=\"#000000\" fill-rule=\"evenodd\" fill-opacity=\"1\" /><path clip-path=\"url(#clip070)\" d=\"M 0 0 M624.842 832.432 Q618.846 832.432 615.362 837.131 Q611.879 841.789 611.879 849.931 Q611.879 858.074 615.322 862.773 Q618.806 867.431 624.842 867.431 Q630.796 867.431 634.28 862.732 Q637.764 858.033 637.764 849.931 Q637.764 841.87 634.28 837.171 Q630.796 832.432 624.842 832.432 M624.842 826.112 Q634.564 826.112 640.113 832.432 Q645.663 838.751 645.663 849.931 Q645.663 861.071 640.113 867.431 Q634.564 873.751 624.842 873.751 Q615.079 873.751 609.529 867.431 Q604.02 861.071 604.02 849.931 Q604.02 838.751 609.529 832.432 Q615.079 826.112 624.842 826.112 Z\" fill=\"#000000\" fill-rule=\"evenodd\" fill-opacity=\"1\" /><path clip-path=\"url(#clip070)\" d=\"M 0 0 M687.874 834.092 L687.874 809.544 L695.327 809.544 L695.327 872.576 L687.874 872.576 L687.874 865.77 Q685.524 869.821 681.919 871.806 Q678.354 873.751 673.331 873.751 Q665.107 873.751 659.922 867.188 Q654.778 860.626 654.778 849.931 Q654.778 839.237 659.922 832.675 Q665.107 826.112 673.331 826.112 Q678.354 826.112 681.919 828.097 Q685.524 830.042 687.874 834.092 M662.474 849.931 Q662.474 858.155 665.837 862.854 Q669.239 867.512 675.154 867.512 Q681.068 867.512 684.471 862.854 Q687.874 858.155 687.874 849.931 Q687.874 841.708 684.471 837.05 Q681.068 832.351 675.154 832.351 Q669.239 832.351 665.837 837.05 Q662.474 841.708 662.474 849.931 Z\" fill=\"#000000\" fill-rule=\"evenodd\" fill-opacity=\"1\" /><path clip-path=\"url(#clip070)\" d=\"M 0 0 M749.488 848.028 L749.488 851.673 L715.217 851.673 Q715.703 859.37 719.835 863.421 Q724.008 867.431 731.421 867.431 Q735.715 867.431 739.725 866.378 Q743.776 865.325 747.746 863.218 L747.746 870.267 Q743.736 871.968 739.523 872.86 Q735.31 873.751 730.975 873.751 Q720.119 873.751 713.759 867.431 Q707.439 861.112 707.439 850.337 Q707.439 839.197 713.435 832.675 Q719.471 826.112 729.679 826.112 Q738.834 826.112 744.141 832.026 Q749.488 837.9 749.488 848.028 M742.034 845.84 Q741.953 839.723 738.591 836.077 Q735.269 832.432 729.76 832.432 Q723.522 832.432 719.754 835.956 Q716.027 839.48 715.46 845.881 L742.034 845.84 Z\" fill=\"#000000\" fill-rule=\"evenodd\" fill-opacity=\"1\" /><path clip-path=\"url(#clip070)\" d=\"M 0 0 M789.065 834.903 L840.998 834.903 L840.998 841.708 L789.065 841.708 L789.065 834.903 M789.065 851.43 L840.998 851.43 L840.998 858.317 L789.065 858.317 L789.065 851.43 Z\" fill=\"#000000\" fill-rule=\"evenodd\" fill-opacity=\"1\" /><path clip-path=\"url(#clip070)\" d=\"M 0 0 M909.823 839.966 Q915.696 841.222 918.978 845.192 Q922.299 849.162 922.299 854.995 Q922.299 863.948 916.142 868.849 Q909.985 873.751 898.642 873.751 Q894.834 873.751 890.783 872.981 Q886.773 872.252 882.479 870.753 L882.479 862.854 Q885.882 864.839 889.933 865.851 Q893.984 866.864 898.399 866.864 Q906.096 866.864 910.106 863.826 Q914.157 860.788 914.157 854.995 Q914.157 849.648 910.39 846.65 Q906.663 843.612 899.979 843.612 L892.93 843.612 L892.93 836.888 L900.303 836.888 Q906.339 836.888 909.539 834.498 Q912.739 832.067 912.739 827.53 Q912.739 822.871 909.418 820.4 Q906.136 817.889 899.979 817.889 Q896.617 817.889 892.768 818.618 Q888.92 819.347 884.302 820.886 L884.302 813.595 Q888.96 812.299 893.011 811.65 Q897.103 811.002 900.708 811.002 Q910.025 811.002 915.453 815.256 Q920.882 819.469 920.882 826.679 Q920.882 831.702 918.005 835.186 Q915.129 838.629 909.823 839.966 Z\" fill=\"#000000\" fill-rule=\"evenodd\" fill-opacity=\"1\" /><polyline clip-path=\"url(#clip074)\" style=\"stroke:#009af9; stroke-width:8; stroke-opacity:1; fill:none\" points=\"\n",
       "  333.399,1337.7 373.894,1346.23 414.389,1281.35 454.884,1270.22 495.378,1110.25 535.873,937.615 576.368,948.021 616.863,974.806 657.358,1005.91 697.853,1049.66 \n",
       "  738.348,1071.17 778.843,1085.98 819.338,1101.84 859.833,1114.17 900.327,1126.03 940.822,1138.13 981.317,1150.58 1021.81,1163.89 1062.31,1234.69 1102.8,1409.04 \n",
       "  1143.3,1388.04 \n",
       "  \"/>\n",
       "<circle clip-path=\"url(#clip074)\" cx=\"333.399\" cy=\"1337.7\" r=\"14\" fill=\"#009af9\" fill-rule=\"evenodd\" fill-opacity=\"1\" stroke=\"#000000\" stroke-opacity=\"1\" stroke-width=\"3.2\"/>\n",
       "<circle clip-path=\"url(#clip074)\" cx=\"373.894\" cy=\"1346.23\" r=\"14\" fill=\"#009af9\" fill-rule=\"evenodd\" fill-opacity=\"1\" stroke=\"#000000\" stroke-opacity=\"1\" stroke-width=\"3.2\"/>\n",
       "<circle clip-path=\"url(#clip074)\" cx=\"414.389\" cy=\"1281.35\" r=\"14\" fill=\"#009af9\" fill-rule=\"evenodd\" fill-opacity=\"1\" stroke=\"#000000\" stroke-opacity=\"1\" stroke-width=\"3.2\"/>\n",
       "<circle clip-path=\"url(#clip074)\" cx=\"454.884\" cy=\"1270.22\" r=\"14\" fill=\"#009af9\" fill-rule=\"evenodd\" fill-opacity=\"1\" stroke=\"#000000\" stroke-opacity=\"1\" stroke-width=\"3.2\"/>\n",
       "<circle clip-path=\"url(#clip074)\" cx=\"495.378\" cy=\"1110.25\" r=\"14\" fill=\"#009af9\" fill-rule=\"evenodd\" fill-opacity=\"1\" stroke=\"#000000\" stroke-opacity=\"1\" stroke-width=\"3.2\"/>\n",
       "<circle clip-path=\"url(#clip074)\" cx=\"535.873\" cy=\"937.615\" r=\"14\" fill=\"#009af9\" fill-rule=\"evenodd\" fill-opacity=\"1\" stroke=\"#000000\" stroke-opacity=\"1\" stroke-width=\"3.2\"/>\n",
       "<circle clip-path=\"url(#clip074)\" cx=\"576.368\" cy=\"948.021\" r=\"14\" fill=\"#009af9\" fill-rule=\"evenodd\" fill-opacity=\"1\" stroke=\"#000000\" stroke-opacity=\"1\" stroke-width=\"3.2\"/>\n",
       "<circle clip-path=\"url(#clip074)\" cx=\"616.863\" cy=\"974.806\" r=\"14\" fill=\"#009af9\" fill-rule=\"evenodd\" fill-opacity=\"1\" stroke=\"#000000\" stroke-opacity=\"1\" stroke-width=\"3.2\"/>\n",
       "<circle clip-path=\"url(#clip074)\" cx=\"657.358\" cy=\"1005.91\" r=\"14\" fill=\"#009af9\" fill-rule=\"evenodd\" fill-opacity=\"1\" stroke=\"#000000\" stroke-opacity=\"1\" stroke-width=\"3.2\"/>\n",
       "<circle clip-path=\"url(#clip074)\" cx=\"697.853\" cy=\"1049.66\" r=\"14\" fill=\"#009af9\" fill-rule=\"evenodd\" fill-opacity=\"1\" stroke=\"#000000\" stroke-opacity=\"1\" stroke-width=\"3.2\"/>\n",
       "<circle clip-path=\"url(#clip074)\" cx=\"738.348\" cy=\"1071.17\" r=\"14\" fill=\"#009af9\" fill-rule=\"evenodd\" fill-opacity=\"1\" stroke=\"#000000\" stroke-opacity=\"1\" stroke-width=\"3.2\"/>\n",
       "<circle clip-path=\"url(#clip074)\" cx=\"778.843\" cy=\"1085.98\" r=\"14\" fill=\"#009af9\" fill-rule=\"evenodd\" fill-opacity=\"1\" stroke=\"#000000\" stroke-opacity=\"1\" stroke-width=\"3.2\"/>\n",
       "<circle clip-path=\"url(#clip074)\" cx=\"819.338\" cy=\"1101.84\" r=\"14\" fill=\"#009af9\" fill-rule=\"evenodd\" fill-opacity=\"1\" stroke=\"#000000\" stroke-opacity=\"1\" stroke-width=\"3.2\"/>\n",
       "<circle clip-path=\"url(#clip074)\" cx=\"859.833\" cy=\"1114.17\" r=\"14\" fill=\"#009af9\" fill-rule=\"evenodd\" fill-opacity=\"1\" stroke=\"#000000\" stroke-opacity=\"1\" stroke-width=\"3.2\"/>\n",
       "<circle clip-path=\"url(#clip074)\" cx=\"900.327\" cy=\"1126.03\" r=\"14\" fill=\"#009af9\" fill-rule=\"evenodd\" fill-opacity=\"1\" stroke=\"#000000\" stroke-opacity=\"1\" stroke-width=\"3.2\"/>\n",
       "<circle clip-path=\"url(#clip074)\" cx=\"940.822\" cy=\"1138.13\" r=\"14\" fill=\"#009af9\" fill-rule=\"evenodd\" fill-opacity=\"1\" stroke=\"#000000\" stroke-opacity=\"1\" stroke-width=\"3.2\"/>\n",
       "<circle clip-path=\"url(#clip074)\" cx=\"981.317\" cy=\"1150.58\" r=\"14\" fill=\"#009af9\" fill-rule=\"evenodd\" fill-opacity=\"1\" stroke=\"#000000\" stroke-opacity=\"1\" stroke-width=\"3.2\"/>\n",
       "<circle clip-path=\"url(#clip074)\" cx=\"1021.81\" cy=\"1163.89\" r=\"14\" fill=\"#009af9\" fill-rule=\"evenodd\" fill-opacity=\"1\" stroke=\"#000000\" stroke-opacity=\"1\" stroke-width=\"3.2\"/>\n",
       "<circle clip-path=\"url(#clip074)\" cx=\"1062.31\" cy=\"1234.69\" r=\"14\" fill=\"#009af9\" fill-rule=\"evenodd\" fill-opacity=\"1\" stroke=\"#000000\" stroke-opacity=\"1\" stroke-width=\"3.2\"/>\n",
       "<circle clip-path=\"url(#clip074)\" cx=\"1102.8\" cy=\"1409.04\" r=\"14\" fill=\"#009af9\" fill-rule=\"evenodd\" fill-opacity=\"1\" stroke=\"#000000\" stroke-opacity=\"1\" stroke-width=\"3.2\"/>\n",
       "<circle clip-path=\"url(#clip074)\" cx=\"1143.3\" cy=\"1388.04\" r=\"14\" fill=\"#009af9\" fill-rule=\"evenodd\" fill-opacity=\"1\" stroke=\"#000000\" stroke-opacity=\"1\" stroke-width=\"3.2\"/>\n",
       "<polyline clip-path=\"url(#clip074)\" style=\"stroke:#ffa500; stroke-width:8; stroke-opacity:1; fill:none\" stroke-dasharray=\"32, 20\" points=\"\n",
       "  333.399,1071.17 373.894,1071.17 414.389,1071.17 454.884,1071.17 495.378,1071.17 535.873,1071.17 576.368,1071.17 616.863,1071.17 657.358,1071.17 697.853,1071.17 \n",
       "  738.348,1071.17 778.843,1071.17 819.338,1071.17 859.833,1071.17 900.327,1071.17 940.822,1071.17 981.317,1071.17 1021.81,1071.17 1062.31,1071.17 1102.8,1071.17 \n",
       "  1143.3,1071.17 \n",
       "  \"/>\n",
       "<path clip-path=\"url(#clip070)\" d=\"\n",
       "M1494.26 1423.18 L2352.76 1423.18 L2352.76 923.472 L1494.26 923.472  Z\n",
       "  \" fill=\"#ffffff\" fill-rule=\"evenodd\" fill-opacity=\"1\"/>\n",
       "<defs>\n",
       "  <clipPath id=\"clip075\">\n",
       "    <rect x=\"1494\" y=\"923\" width=\"859\" height=\"501\"/>\n",
       "  </clipPath>\n",
       "</defs>\n",
       "<polyline clip-path=\"url(#clip075)\" style=\"stroke:#000000; stroke-width:2; stroke-opacity:0.1; fill:none\" points=\"\n",
       "  1518.56,1423.18 1518.56,923.472 \n",
       "  \"/>\n",
       "<polyline clip-path=\"url(#clip075)\" style=\"stroke:#000000; stroke-width:2; stroke-opacity:0.1; fill:none\" points=\"\n",
       "  1721.04,1423.18 1721.04,923.472 \n",
       "  \"/>\n",
       "<polyline clip-path=\"url(#clip075)\" style=\"stroke:#000000; stroke-width:2; stroke-opacity:0.1; fill:none\" points=\"\n",
       "  1923.51,1423.18 1923.51,923.472 \n",
       "  \"/>\n",
       "<polyline clip-path=\"url(#clip075)\" style=\"stroke:#000000; stroke-width:2; stroke-opacity:0.1; fill:none\" points=\"\n",
       "  2125.98,1423.18 2125.98,923.472 \n",
       "  \"/>\n",
       "<polyline clip-path=\"url(#clip075)\" style=\"stroke:#000000; stroke-width:2; stroke-opacity:0.1; fill:none\" points=\"\n",
       "  2328.46,1423.18 2328.46,923.472 \n",
       "  \"/>\n",
       "<polyline clip-path=\"url(#clip070)\" style=\"stroke:#000000; stroke-width:4; stroke-opacity:1; fill:none\" points=\"\n",
       "  1494.26,1423.18 2352.76,1423.18 \n",
       "  \"/>\n",
       "<polyline clip-path=\"url(#clip070)\" style=\"stroke:#000000; stroke-width:4; stroke-opacity:1; fill:none\" points=\"\n",
       "  1518.56,1423.18 1518.56,1417.18 \n",
       "  \"/>\n",
       "<polyline clip-path=\"url(#clip070)\" style=\"stroke:#000000; stroke-width:4; stroke-opacity:1; fill:none\" points=\"\n",
       "  1721.04,1423.18 1721.04,1417.18 \n",
       "  \"/>\n",
       "<polyline clip-path=\"url(#clip070)\" style=\"stroke:#000000; stroke-width:4; stroke-opacity:1; fill:none\" points=\"\n",
       "  1923.51,1423.18 1923.51,1417.18 \n",
       "  \"/>\n",
       "<polyline clip-path=\"url(#clip070)\" style=\"stroke:#000000; stroke-width:4; stroke-opacity:1; fill:none\" points=\"\n",
       "  2125.98,1423.18 2125.98,1417.18 \n",
       "  \"/>\n",
       "<polyline clip-path=\"url(#clip070)\" style=\"stroke:#000000; stroke-width:4; stroke-opacity:1; fill:none\" points=\"\n",
       "  2328.46,1423.18 2328.46,1417.18 \n",
       "  \"/>\n",
       "<path clip-path=\"url(#clip070)\" d=\"M 0 0 M1495.95 1452.37 Q1492.33 1452.37 1490.51 1455.94 Q1488.7 1459.48 1488.7 1466.61 Q1488.7 1473.71 1490.51 1477.28 Q1492.33 1480.82 1495.95 1480.82 Q1499.58 1480.82 1501.39 1477.28 Q1503.21 1473.71 1503.21 1466.61 Q1503.21 1459.48 1501.39 1455.94 Q1499.58 1452.37 1495.95 1452.37 M1495.95 1448.67 Q1501.76 1448.67 1504.81 1453.27 Q1507.89 1457.86 1507.89 1466.61 Q1507.89 1475.33 1504.81 1479.94 Q1501.76 1484.52 1495.95 1484.52 Q1490.14 1484.52 1487.06 1479.94 Q1484 1475.33 1484 1466.61 Q1484 1457.86 1487.06 1453.27 Q1490.14 1448.67 1495.95 1448.67 Z\" fill=\"#000000\" fill-rule=\"evenodd\" fill-opacity=\"1\" /><path clip-path=\"url(#clip070)\" d=\"M 0 0 M1516.11 1477.97 L1520.99 1477.97 L1520.99 1483.85 L1516.11 1483.85 L1516.11 1477.97 Z\" fill=\"#000000\" fill-rule=\"evenodd\" fill-opacity=\"1\" /><path clip-path=\"url(#clip070)\" d=\"M 0 0 M1541.18 1452.37 Q1537.57 1452.37 1535.74 1455.94 Q1533.93 1459.48 1533.93 1466.61 Q1533.93 1473.71 1535.74 1477.28 Q1537.57 1480.82 1541.18 1480.82 Q1544.81 1480.82 1546.62 1477.28 Q1548.45 1473.71 1548.45 1466.61 Q1548.45 1459.48 1546.62 1455.94 Q1544.81 1452.37 1541.18 1452.37 M1541.18 1448.67 Q1546.99 1448.67 1550.04 1453.27 Q1553.12 1457.86 1553.12 1466.61 Q1553.12 1475.33 1550.04 1479.94 Q1546.99 1484.52 1541.18 1484.52 Q1535.37 1484.52 1532.29 1479.94 Q1529.23 1475.33 1529.23 1466.61 Q1529.23 1457.86 1532.29 1453.27 Q1535.37 1448.67 1541.18 1448.67 Z\" fill=\"#000000\" fill-rule=\"evenodd\" fill-opacity=\"1\" /><path clip-path=\"url(#clip070)\" d=\"M 0 0 M1698.92 1452.37 Q1695.31 1452.37 1693.48 1455.94 Q1691.67 1459.48 1691.67 1466.61 Q1691.67 1473.71 1693.48 1477.28 Q1695.31 1480.82 1698.92 1480.82 Q1702.55 1480.82 1704.36 1477.28 Q1706.19 1473.71 1706.19 1466.61 Q1706.19 1459.48 1704.36 1455.94 Q1702.55 1452.37 1698.92 1452.37 M1698.92 1448.67 Q1704.73 1448.67 1707.78 1453.27 Q1710.86 1457.86 1710.86 1466.61 Q1710.86 1475.33 1707.78 1479.94 Q1704.73 1484.52 1698.92 1484.52 Q1693.11 1484.52 1690.03 1479.94 Q1686.97 1475.33 1686.97 1466.61 Q1686.97 1457.86 1690.03 1453.27 Q1693.11 1448.67 1698.92 1448.67 Z\" fill=\"#000000\" fill-rule=\"evenodd\" fill-opacity=\"1\" /><path clip-path=\"url(#clip070)\" d=\"M 0 0 M1719.08 1477.97 L1723.96 1477.97 L1723.96 1483.85 L1719.08 1483.85 L1719.08 1477.97 Z\" fill=\"#000000\" fill-rule=\"evenodd\" fill-opacity=\"1\" /><path clip-path=\"url(#clip070)\" d=\"M 0 0 M1734.2 1449.29 L1752.55 1449.29 L1752.55 1453.23 L1738.48 1453.23 L1738.48 1461.7 Q1739.5 1461.35 1740.51 1461.19 Q1741.53 1461 1742.55 1461 Q1748.34 1461 1751.72 1464.18 Q1755.1 1467.35 1755.1 1472.76 Q1755.1 1478.34 1751.63 1481.44 Q1748.15 1484.52 1741.83 1484.52 Q1739.66 1484.52 1737.39 1484.15 Q1735.14 1483.78 1732.74 1483.04 L1732.74 1478.34 Q1734.82 1479.48 1737.04 1480.03 Q1739.26 1480.59 1741.74 1480.59 Q1745.75 1480.59 1748.08 1478.48 Q1750.42 1476.38 1750.42 1472.76 Q1750.42 1469.15 1748.08 1467.05 Q1745.75 1464.94 1741.74 1464.94 Q1739.87 1464.94 1737.99 1465.36 Q1736.14 1465.77 1734.2 1466.65 L1734.2 1449.29 Z\" fill=\"#000000\" fill-rule=\"evenodd\" fill-opacity=\"1\" /><path clip-path=\"url(#clip070)\" d=\"M 0 0 M1890.66 1479.92 L1898.3 1479.92 L1898.3 1453.55 L1889.99 1455.22 L1889.99 1450.96 L1898.26 1449.29 L1902.93 1449.29 L1902.93 1479.92 L1910.57 1479.92 L1910.57 1483.85 L1890.66 1483.85 L1890.66 1479.92 Z\" fill=\"#000000\" fill-rule=\"evenodd\" fill-opacity=\"1\" /><path clip-path=\"url(#clip070)\" d=\"M 0 0 M1920.01 1477.97 L1924.9 1477.97 L1924.9 1483.85 L1920.01 1483.85 L1920.01 1477.97 Z\" fill=\"#000000\" fill-rule=\"evenodd\" fill-opacity=\"1\" /><path clip-path=\"url(#clip070)\" d=\"M 0 0 M1945.08 1452.37 Q1941.47 1452.37 1939.64 1455.94 Q1937.84 1459.48 1937.84 1466.61 Q1937.84 1473.71 1939.64 1477.28 Q1941.47 1480.82 1945.08 1480.82 Q1948.72 1480.82 1950.52 1477.28 Q1952.35 1473.71 1952.35 1466.61 Q1952.35 1459.48 1950.52 1455.94 Q1948.72 1452.37 1945.08 1452.37 M1945.08 1448.67 Q1950.89 1448.67 1953.95 1453.27 Q1957.03 1457.86 1957.03 1466.61 Q1957.03 1475.33 1953.95 1479.94 Q1950.89 1484.52 1945.08 1484.52 Q1939.27 1484.52 1936.2 1479.94 Q1933.14 1475.33 1933.14 1466.61 Q1933.14 1457.86 1936.2 1453.27 Q1939.27 1448.67 1945.08 1448.67 Z\" fill=\"#000000\" fill-rule=\"evenodd\" fill-opacity=\"1\" /><path clip-path=\"url(#clip070)\" d=\"M 0 0 M2093.64 1479.92 L2101.27 1479.92 L2101.27 1453.55 L2092.96 1455.22 L2092.96 1450.96 L2101.23 1449.29 L2105.9 1449.29 L2105.9 1479.92 L2113.54 1479.92 L2113.54 1483.85 L2093.64 1483.85 L2093.64 1479.92 Z\" fill=\"#000000\" fill-rule=\"evenodd\" fill-opacity=\"1\" /><path clip-path=\"url(#clip070)\" d=\"M 0 0 M2122.99 1477.97 L2127.87 1477.97 L2127.87 1483.85 L2122.99 1483.85 L2122.99 1477.97 Z\" fill=\"#000000\" fill-rule=\"evenodd\" fill-opacity=\"1\" /><path clip-path=\"url(#clip070)\" d=\"M 0 0 M2138.1 1449.29 L2156.46 1449.29 L2156.46 1453.23 L2142.38 1453.23 L2142.38 1461.7 Q2143.4 1461.35 2144.42 1461.19 Q2145.44 1461 2146.46 1461 Q2152.25 1461 2155.63 1464.18 Q2159.01 1467.35 2159.01 1472.76 Q2159.01 1478.34 2155.53 1481.44 Q2152.06 1484.52 2145.74 1484.52 Q2143.57 1484.52 2141.3 1484.15 Q2139.05 1483.78 2136.64 1483.04 L2136.64 1478.34 Q2138.73 1479.48 2140.95 1480.03 Q2143.17 1480.59 2145.65 1480.59 Q2149.65 1480.59 2151.99 1478.48 Q2154.33 1476.38 2154.33 1472.76 Q2154.33 1469.15 2151.99 1467.05 Q2149.65 1464.94 2145.65 1464.94 Q2143.77 1464.94 2141.9 1465.36 Q2140.05 1465.77 2138.1 1466.65 L2138.1 1449.29 Z\" fill=\"#000000\" fill-rule=\"evenodd\" fill-opacity=\"1\" /><path clip-path=\"url(#clip070)\" d=\"M 0 0 M2299.7 1479.92 L2316.02 1479.92 L2316.02 1483.85 L2294.07 1483.85 L2294.07 1479.92 Q2296.73 1477.16 2301.32 1472.53 Q2305.92 1467.88 2307.1 1466.54 Q2309.35 1464.01 2310.23 1462.28 Q2311.13 1460.52 2311.13 1458.83 Q2311.13 1456.07 2309.19 1454.34 Q2307.27 1452.6 2304.17 1452.6 Q2301.97 1452.6 2299.51 1453.37 Q2297.08 1454.13 2294.3 1455.68 L2294.3 1450.96 Q2297.13 1449.82 2299.58 1449.25 Q2302.04 1448.67 2304.07 1448.67 Q2309.44 1448.67 2312.64 1451.35 Q2315.83 1454.04 2315.83 1458.53 Q2315.83 1460.66 2315.02 1462.58 Q2314.23 1464.48 2312.13 1467.07 Q2311.55 1467.74 2308.45 1470.96 Q2305.35 1474.15 2299.7 1479.92 Z\" fill=\"#000000\" fill-rule=\"evenodd\" fill-opacity=\"1\" /><path clip-path=\"url(#clip070)\" d=\"M 0 0 M2325.83 1477.97 L2330.72 1477.97 L2330.72 1483.85 L2325.83 1483.85 L2325.83 1477.97 Z\" fill=\"#000000\" fill-rule=\"evenodd\" fill-opacity=\"1\" /><path clip-path=\"url(#clip070)\" d=\"M 0 0 M2350.9 1452.37 Q2347.29 1452.37 2345.46 1455.94 Q2343.66 1459.48 2343.66 1466.61 Q2343.66 1473.71 2345.46 1477.28 Q2347.29 1480.82 2350.9 1480.82 Q2354.54 1480.82 2356.34 1477.28 Q2358.17 1473.71 2358.17 1466.61 Q2358.17 1459.48 2356.34 1455.94 Q2354.54 1452.37 2350.9 1452.37 M2350.9 1448.67 Q2356.71 1448.67 2359.77 1453.27 Q2362.85 1457.86 2362.85 1466.61 Q2362.85 1475.33 2359.77 1479.94 Q2356.71 1484.52 2350.9 1484.52 Q2345.09 1484.52 2342.01 1479.94 Q2338.96 1475.33 2338.96 1466.61 Q2338.96 1457.86 2342.01 1453.27 Q2345.09 1448.67 2350.9 1448.67 Z\" fill=\"#000000\" fill-rule=\"evenodd\" fill-opacity=\"1\" /><path clip-path=\"url(#clip070)\" d=\"M 0 0 M1544.34 1537.87 Q1543.35 1537.3 1542.17 1537.04 Q1541.03 1536.76 1539.63 1536.76 Q1534.66 1536.76 1531.99 1540 Q1529.35 1543.22 1529.35 1549.27 L1529.35 1568.04 L1523.46 1568.04 L1523.46 1532.4 L1529.35 1532.4 L1529.35 1537.93 Q1531.19 1534.69 1534.15 1533.13 Q1537.11 1531.54 1541.34 1531.54 Q1541.95 1531.54 1542.68 1531.63 Q1543.41 1531.7 1544.3 1531.85 L1544.34 1537.87 Z\" fill=\"#000000\" fill-rule=\"evenodd\" fill-opacity=\"1\" /><path clip-path=\"url(#clip070)\" d=\"M 0 0 M1579.54 1548.76 L1579.54 1551.62 L1552.61 1551.62 Q1552.99 1557.67 1556.24 1560.85 Q1559.52 1564 1565.34 1564 Q1568.72 1564 1571.87 1563.17 Q1575.05 1562.35 1578.17 1560.69 L1578.17 1566.23 Q1575.02 1567.57 1571.71 1568.27 Q1568.4 1568.97 1564.99 1568.97 Q1556.46 1568.97 1551.47 1564 Q1546.5 1559.04 1546.5 1550.57 Q1546.5 1541.82 1551.21 1536.69 Q1555.95 1531.54 1563.97 1531.54 Q1571.17 1531.54 1575.34 1536.18 Q1579.54 1540.8 1579.54 1548.76 M1573.68 1547.04 Q1573.62 1542.23 1570.98 1539.37 Q1568.37 1536.5 1564.04 1536.5 Q1559.14 1536.5 1556.18 1539.27 Q1553.25 1542.04 1552.8 1547.07 L1573.68 1547.04 Z\" fill=\"#000000\" fill-rule=\"evenodd\" fill-opacity=\"1\" /><path clip-path=\"url(#clip070)\" d=\"M 0 0 M1589.15 1518.52 L1595.01 1518.52 L1595.01 1568.04 L1589.15 1568.04 L1589.15 1518.52 Z\" fill=\"#000000\" fill-rule=\"evenodd\" fill-opacity=\"1\" /><path clip-path=\"url(#clip070)\" d=\"M 0 0 M1623.46 1550.12 Q1616.36 1550.12 1613.63 1551.75 Q1610.89 1553.37 1610.89 1557.29 Q1610.89 1560.4 1612.93 1562.25 Q1615 1564.07 1618.53 1564.07 Q1623.4 1564.07 1626.33 1560.63 Q1629.29 1557.16 1629.29 1551.43 L1629.29 1550.12 L1623.46 1550.12 M1635.14 1547.71 L1635.14 1568.04 L1629.29 1568.04 L1629.29 1562.63 Q1627.28 1565.88 1624.29 1567.44 Q1621.3 1568.97 1616.97 1568.97 Q1611.49 1568.97 1608.25 1565.91 Q1605.03 1562.82 1605.03 1557.67 Q1605.03 1551.65 1609.04 1548.6 Q1613.09 1545.54 1621.08 1545.54 L1629.29 1545.54 L1629.29 1544.97 Q1629.29 1540.93 1626.61 1538.73 Q1623.97 1536.5 1619.17 1536.5 Q1616.11 1536.5 1613.21 1537.23 Q1610.32 1537.97 1607.64 1539.43 L1607.64 1534.02 Q1610.86 1532.78 1613.88 1532.17 Q1616.91 1531.54 1619.77 1531.54 Q1627.5 1531.54 1631.32 1535.55 Q1635.14 1539.56 1635.14 1547.71 Z\" fill=\"#000000\" fill-rule=\"evenodd\" fill-opacity=\"1\" /><path clip-path=\"url(#clip070)\" d=\"M 0 0 M1653 1522.27 L1653 1532.4 L1665.06 1532.4 L1665.06 1536.95 L1653 1536.95 L1653 1556.3 Q1653 1560.66 1654.18 1561.9 Q1655.39 1563.14 1659.05 1563.14 L1665.06 1563.14 L1665.06 1568.04 L1659.05 1568.04 Q1652.27 1568.04 1649.69 1565.53 Q1647.11 1562.98 1647.11 1556.3 L1647.11 1536.95 L1642.81 1536.95 L1642.81 1532.4 L1647.11 1532.4 L1647.11 1522.27 L1653 1522.27 Z\" fill=\"#000000\" fill-rule=\"evenodd\" fill-opacity=\"1\" /><path clip-path=\"url(#clip070)\" d=\"M 0 0 M1672.76 1532.4 L1678.62 1532.4 L1678.62 1568.04 L1672.76 1568.04 L1672.76 1532.4 M1672.76 1518.52 L1678.62 1518.52 L1678.62 1525.93 L1672.76 1525.93 L1672.76 1518.52 Z\" fill=\"#000000\" fill-rule=\"evenodd\" fill-opacity=\"1\" /><path clip-path=\"url(#clip070)\" d=\"M 0 0 M1686.67 1532.4 L1692.88 1532.4 L1704.02 1562.31 L1715.16 1532.4 L1721.37 1532.4 L1708 1568.04 L1700.04 1568.04 L1686.67 1532.4 Z\" fill=\"#000000\" fill-rule=\"evenodd\" fill-opacity=\"1\" /><path clip-path=\"url(#clip070)\" d=\"M 0 0 M1759.94 1548.76 L1759.94 1551.62 L1733.02 1551.62 Q1733.4 1557.67 1736.64 1560.85 Q1739.92 1564 1745.75 1564 Q1749.12 1564 1752.27 1563.17 Q1755.46 1562.35 1758.57 1560.69 L1758.57 1566.23 Q1755.42 1567.57 1752.11 1568.27 Q1748.8 1568.97 1745.4 1568.97 Q1736.87 1568.97 1731.87 1564 Q1726.91 1559.04 1726.91 1550.57 Q1726.91 1541.82 1731.62 1536.69 Q1736.36 1531.54 1744.38 1531.54 Q1751.57 1531.54 1755.74 1536.18 Q1759.94 1540.8 1759.94 1548.76 M1754.09 1547.04 Q1754.02 1542.23 1751.38 1539.37 Q1748.77 1536.5 1744.44 1536.5 Q1739.54 1536.5 1736.58 1539.27 Q1733.65 1542.04 1733.21 1547.07 L1754.09 1547.04 Z\" fill=\"#000000\" fill-rule=\"evenodd\" fill-opacity=\"1\" /><path clip-path=\"url(#clip070)\" d=\"M 0 0 M1795.94 1562.7 L1795.94 1581.6 L1790.05 1581.6 L1790.05 1532.4 L1795.94 1532.4 L1795.94 1537.81 Q1797.79 1534.62 1800.59 1533.1 Q1803.42 1531.54 1807.34 1531.54 Q1813.83 1531.54 1817.87 1536.69 Q1821.95 1541.85 1821.95 1550.25 Q1821.95 1558.65 1817.87 1563.81 Q1813.83 1568.97 1807.34 1568.97 Q1803.42 1568.97 1800.59 1567.44 Q1797.79 1565.88 1795.94 1562.7 M1815.87 1550.25 Q1815.87 1543.79 1813.19 1540.13 Q1810.55 1536.44 1805.9 1536.44 Q1801.26 1536.44 1798.58 1540.13 Q1795.94 1543.79 1795.94 1550.25 Q1795.94 1556.71 1798.58 1560.4 Q1801.26 1564.07 1805.9 1564.07 Q1810.55 1564.07 1813.19 1560.4 Q1815.87 1556.71 1815.87 1550.25 Z\" fill=\"#000000\" fill-rule=\"evenodd\" fill-opacity=\"1\" /><path clip-path=\"url(#clip070)\" d=\"M 0 0 M1847.85 1550.12 Q1840.76 1550.12 1838.02 1551.75 Q1835.28 1553.37 1835.28 1557.29 Q1835.28 1560.4 1837.32 1562.25 Q1839.39 1564.07 1842.92 1564.07 Q1847.79 1564.07 1850.72 1560.63 Q1853.68 1557.16 1853.68 1551.43 L1853.68 1550.12 L1847.85 1550.12 M1859.53 1547.71 L1859.53 1568.04 L1853.68 1568.04 L1853.68 1562.63 Q1851.67 1565.88 1848.68 1567.44 Q1845.69 1568.97 1841.36 1568.97 Q1835.89 1568.97 1832.64 1565.91 Q1829.42 1562.82 1829.42 1557.67 Q1829.42 1551.65 1833.44 1548.6 Q1837.48 1545.54 1845.47 1545.54 L1853.68 1545.54 L1853.68 1544.97 Q1853.68 1540.93 1851 1538.73 Q1848.36 1536.5 1843.56 1536.5 Q1840.5 1536.5 1837.6 1537.23 Q1834.71 1537.97 1832.03 1539.43 L1832.03 1534.02 Q1835.25 1532.78 1838.27 1532.17 Q1841.3 1531.54 1844.16 1531.54 Q1851.9 1531.54 1855.72 1535.55 Q1859.53 1539.56 1859.53 1547.71 Z\" fill=\"#000000\" fill-rule=\"evenodd\" fill-opacity=\"1\" /><path clip-path=\"url(#clip070)\" d=\"M 0 0 M1892.25 1537.87 Q1891.27 1537.3 1890.09 1537.04 Q1888.94 1536.76 1887.54 1536.76 Q1882.58 1536.76 1879.9 1540 Q1877.26 1543.22 1877.26 1549.27 L1877.26 1568.04 L1871.37 1568.04 L1871.37 1532.4 L1877.26 1532.4 L1877.26 1537.93 Q1879.11 1534.69 1882.07 1533.13 Q1885.03 1531.54 1889.26 1531.54 Q1889.87 1531.54 1890.6 1531.63 Q1891.33 1531.7 1892.22 1531.85 L1892.25 1537.87 Z\" fill=\"#000000\" fill-rule=\"evenodd\" fill-opacity=\"1\" /><path clip-path=\"url(#clip070)\" d=\"M 0 0 M1914.6 1550.12 Q1907.5 1550.12 1904.76 1551.75 Q1902.03 1553.37 1902.03 1557.29 Q1902.03 1560.4 1904.06 1562.25 Q1906.13 1564.07 1909.66 1564.07 Q1914.53 1564.07 1917.46 1560.63 Q1920.42 1557.16 1920.42 1551.43 L1920.42 1550.12 L1914.6 1550.12 M1926.28 1547.71 L1926.28 1568.04 L1920.42 1568.04 L1920.42 1562.63 Q1918.42 1565.88 1915.43 1567.44 Q1912.43 1568.97 1908.1 1568.97 Q1902.63 1568.97 1899.38 1565.91 Q1896.17 1562.82 1896.17 1557.67 Q1896.17 1551.65 1900.18 1548.6 Q1904.22 1545.54 1912.21 1545.54 L1920.42 1545.54 L1920.42 1544.97 Q1920.42 1540.93 1917.75 1538.73 Q1915.11 1536.5 1910.3 1536.5 Q1907.25 1536.5 1904.35 1537.23 Q1901.45 1537.97 1898.78 1539.43 L1898.78 1534.02 Q1901.99 1532.78 1905.02 1532.17 Q1908.04 1531.54 1910.91 1531.54 Q1918.64 1531.54 1922.46 1535.55 Q1926.28 1539.56 1926.28 1547.71 Z\" fill=\"#000000\" fill-rule=\"evenodd\" fill-opacity=\"1\" /><path clip-path=\"url(#clip070)\" d=\"M 0 0 M1966.1 1539.24 Q1968.29 1535.29 1971.35 1533.41 Q1974.4 1531.54 1978.54 1531.54 Q1984.11 1531.54 1987.14 1535.45 Q1990.16 1539.33 1990.16 1546.53 L1990.16 1568.04 L1984.27 1568.04 L1984.27 1546.72 Q1984.27 1541.59 1982.46 1539.11 Q1980.64 1536.63 1976.92 1536.63 Q1972.37 1536.63 1969.72 1539.65 Q1967.08 1542.68 1967.08 1547.9 L1967.08 1568.04 L1961.19 1568.04 L1961.19 1546.72 Q1961.19 1541.56 1959.38 1539.11 Q1957.57 1536.63 1953.78 1536.63 Q1949.29 1536.63 1946.65 1539.68 Q1944.01 1542.71 1944.01 1547.9 L1944.01 1568.04 L1938.12 1568.04 L1938.12 1532.4 L1944.01 1532.4 L1944.01 1537.93 Q1946.01 1534.66 1948.81 1533.1 Q1951.61 1531.54 1955.47 1531.54 Q1959.35 1531.54 1962.05 1533.51 Q1964.79 1535.48 1966.1 1539.24 Z\" fill=\"#000000\" fill-rule=\"evenodd\" fill-opacity=\"1\" /><path clip-path=\"url(#clip070)\" d=\"M 0 0 M2032.33 1548.76 L2032.33 1551.62 L2005.4 1551.62 Q2005.79 1557.67 2009.03 1560.85 Q2012.31 1564 2018.14 1564 Q2021.51 1564 2024.66 1563.17 Q2027.84 1562.35 2030.96 1560.69 L2030.96 1566.23 Q2027.81 1567.57 2024.5 1568.27 Q2021.19 1568.97 2017.79 1568.97 Q2009.26 1568.97 2004.26 1564 Q1999.29 1559.04 1999.29 1550.57 Q1999.29 1541.82 2004 1536.69 Q2008.75 1531.54 2016.77 1531.54 Q2023.96 1531.54 2028.13 1536.18 Q2032.33 1540.8 2032.33 1548.76 M2026.48 1547.04 Q2026.41 1542.23 2023.77 1539.37 Q2021.16 1536.5 2016.83 1536.5 Q2011.93 1536.5 2008.97 1539.27 Q2006.04 1542.04 2005.6 1547.07 L2026.48 1547.04 Z\" fill=\"#000000\" fill-rule=\"evenodd\" fill-opacity=\"1\" /><path clip-path=\"url(#clip070)\" d=\"M 0 0 M2047.74 1522.27 L2047.74 1532.4 L2059.8 1532.4 L2059.8 1536.95 L2047.74 1536.95 L2047.74 1556.3 Q2047.74 1560.66 2048.91 1561.9 Q2050.12 1563.14 2053.78 1563.14 L2059.8 1563.14 L2059.8 1568.04 L2053.78 1568.04 Q2047 1568.04 2044.43 1565.53 Q2041.85 1562.98 2041.85 1556.3 L2041.85 1536.95 L2037.55 1536.95 L2037.55 1532.4 L2041.85 1532.4 L2041.85 1522.27 L2047.74 1522.27 Z\" fill=\"#000000\" fill-rule=\"evenodd\" fill-opacity=\"1\" /><path clip-path=\"url(#clip070)\" d=\"M 0 0 M2097.99 1548.76 L2097.99 1551.62 L2071.07 1551.62 Q2071.45 1557.67 2074.7 1560.85 Q2077.97 1564 2083.8 1564 Q2087.17 1564 2090.32 1563.17 Q2093.51 1562.35 2096.63 1560.69 L2096.63 1566.23 Q2093.47 1567.57 2090.16 1568.27 Q2086.85 1568.97 2083.45 1568.97 Q2074.92 1568.97 2069.92 1564 Q2064.96 1559.04 2064.96 1550.57 Q2064.96 1541.82 2069.67 1536.69 Q2074.41 1531.54 2082.43 1531.54 Q2089.62 1531.54 2093.79 1536.18 Q2097.99 1540.8 2097.99 1548.76 M2092.14 1547.04 Q2092.07 1542.23 2089.43 1539.37 Q2086.82 1536.5 2082.49 1536.5 Q2077.59 1536.5 2074.63 1539.27 Q2071.7 1542.04 2071.26 1547.07 L2092.14 1547.04 Z\" fill=\"#000000\" fill-rule=\"evenodd\" fill-opacity=\"1\" /><path clip-path=\"url(#clip070)\" d=\"M 0 0 M2128.26 1537.87 Q2127.28 1537.3 2126.1 1537.04 Q2124.95 1536.76 2123.55 1536.76 Q2118.59 1536.76 2115.91 1540 Q2113.27 1543.22 2113.27 1549.27 L2113.27 1568.04 L2107.38 1568.04 L2107.38 1532.4 L2113.27 1532.4 L2113.27 1537.93 Q2115.12 1534.69 2118.08 1533.13 Q2121.04 1531.54 2125.27 1531.54 Q2125.88 1531.54 2126.61 1531.63 Q2127.34 1531.7 2128.23 1531.85 L2128.26 1537.87 Z\" fill=\"#000000\" fill-rule=\"evenodd\" fill-opacity=\"1\" /><path clip-path=\"url(#clip070)\" d=\"M 0 0 M2150.92 1532.4 L2157.13 1532.4 L2168.27 1562.31 L2179.41 1532.4 L2185.62 1532.4 L2172.25 1568.04 L2164.29 1568.04 L2150.92 1532.4 Z\" fill=\"#000000\" fill-rule=\"evenodd\" fill-opacity=\"1\" /><path clip-path=\"url(#clip070)\" d=\"M 0 0 M2209.9 1550.12 Q2202.81 1550.12 2200.07 1551.75 Q2197.33 1553.37 2197.33 1557.29 Q2197.33 1560.4 2199.37 1562.25 Q2201.44 1564.07 2204.97 1564.07 Q2209.84 1564.07 2212.77 1560.63 Q2215.73 1557.16 2215.73 1551.43 L2215.73 1550.12 L2209.9 1550.12 M2221.58 1547.71 L2221.58 1568.04 L2215.73 1568.04 L2215.73 1562.63 Q2213.72 1565.88 2210.73 1567.44 Q2207.74 1568.97 2203.41 1568.97 Q2197.94 1568.97 2194.69 1565.91 Q2191.47 1562.82 2191.47 1557.67 Q2191.47 1551.65 2195.48 1548.6 Q2199.53 1545.54 2207.52 1545.54 L2215.73 1545.54 L2215.73 1544.97 Q2215.73 1540.93 2213.05 1538.73 Q2210.41 1536.5 2205.61 1536.5 Q2202.55 1536.5 2199.65 1537.23 Q2196.76 1537.97 2194.08 1539.43 L2194.08 1534.02 Q2197.3 1532.78 2200.32 1532.17 Q2203.35 1531.54 2206.21 1531.54 Q2213.95 1531.54 2217.76 1535.55 Q2221.58 1539.56 2221.58 1547.71 Z\" fill=\"#000000\" fill-rule=\"evenodd\" fill-opacity=\"1\" /><path clip-path=\"url(#clip070)\" d=\"M 0 0 M2233.65 1518.52 L2239.5 1518.52 L2239.5 1568.04 L2233.65 1568.04 L2233.65 1518.52 Z\" fill=\"#000000\" fill-rule=\"evenodd\" fill-opacity=\"1\" /><path clip-path=\"url(#clip070)\" d=\"M 0 0 M2251.15 1553.98 L2251.15 1532.4 L2257.01 1532.4 L2257.01 1553.75 Q2257.01 1558.81 2258.98 1561.36 Q2260.96 1563.87 2264.9 1563.87 Q2269.65 1563.87 2272.38 1560.85 Q2275.15 1557.83 2275.15 1552.61 L2275.15 1532.4 L2281.01 1532.4 L2281.01 1568.04 L2275.15 1568.04 L2275.15 1562.57 Q2273.02 1565.82 2270.19 1567.41 Q2267.39 1568.97 2263.66 1568.97 Q2257.52 1568.97 2254.34 1565.15 Q2251.15 1561.33 2251.15 1553.98 M2265.89 1531.54 L2265.89 1531.54 Z\" fill=\"#000000\" fill-rule=\"evenodd\" fill-opacity=\"1\" /><path clip-path=\"url(#clip070)\" d=\"M 0 0 M2323.56 1548.76 L2323.56 1551.62 L2296.64 1551.62 Q2297.02 1557.67 2300.26 1560.85 Q2303.54 1564 2309.37 1564 Q2312.74 1564 2315.89 1563.17 Q2319.07 1562.35 2322.19 1560.69 L2322.19 1566.23 Q2319.04 1567.57 2315.73 1568.27 Q2312.42 1568.97 2309.02 1568.97 Q2300.49 1568.97 2295.49 1564 Q2290.52 1559.04 2290.52 1550.57 Q2290.52 1541.82 2295.24 1536.69 Q2299.98 1531.54 2308 1531.54 Q2315.19 1531.54 2319.36 1536.18 Q2323.56 1540.8 2323.56 1548.76 M2317.71 1547.04 Q2317.64 1542.23 2315 1539.37 Q2312.39 1536.5 2308.06 1536.5 Q2303.16 1536.5 2300.2 1539.27 Q2297.27 1542.04 2296.83 1547.07 L2317.71 1547.04 Z\" fill=\"#000000\" fill-rule=\"evenodd\" fill-opacity=\"1\" /><polyline clip-path=\"url(#clip075)\" style=\"stroke:#000000; stroke-width:2; stroke-opacity:0.1; fill:none\" points=\"\n",
       "  1494.26,1382.29 2352.76,1382.29 \n",
       "  \"/>\n",
       "<polyline clip-path=\"url(#clip075)\" style=\"stroke:#000000; stroke-width:2; stroke-opacity:0.1; fill:none\" points=\"\n",
       "  1494.26,1284.12 2352.76,1284.12 \n",
       "  \"/>\n",
       "<polyline clip-path=\"url(#clip075)\" style=\"stroke:#000000; stroke-width:2; stroke-opacity:0.1; fill:none\" points=\"\n",
       "  1494.26,1185.95 2352.76,1185.95 \n",
       "  \"/>\n",
       "<polyline clip-path=\"url(#clip075)\" style=\"stroke:#000000; stroke-width:2; stroke-opacity:0.1; fill:none\" points=\"\n",
       "  1494.26,1087.78 2352.76,1087.78 \n",
       "  \"/>\n",
       "<polyline clip-path=\"url(#clip075)\" style=\"stroke:#000000; stroke-width:2; stroke-opacity:0.1; fill:none\" points=\"\n",
       "  1494.26,989.608 2352.76,989.608 \n",
       "  \"/>\n",
       "<polyline clip-path=\"url(#clip070)\" style=\"stroke:#000000; stroke-width:4; stroke-opacity:1; fill:none\" points=\"\n",
       "  1494.26,1423.18 1494.26,923.472 \n",
       "  \"/>\n",
       "<polyline clip-path=\"url(#clip070)\" style=\"stroke:#000000; stroke-width:4; stroke-opacity:1; fill:none\" points=\"\n",
       "  1494.26,1382.29 1504.57,1382.29 \n",
       "  \"/>\n",
       "<polyline clip-path=\"url(#clip070)\" style=\"stroke:#000000; stroke-width:4; stroke-opacity:1; fill:none\" points=\"\n",
       "  1494.26,1284.12 1504.57,1284.12 \n",
       "  \"/>\n",
       "<polyline clip-path=\"url(#clip070)\" style=\"stroke:#000000; stroke-width:4; stroke-opacity:1; fill:none\" points=\"\n",
       "  1494.26,1185.95 1504.57,1185.95 \n",
       "  \"/>\n",
       "<polyline clip-path=\"url(#clip070)\" style=\"stroke:#000000; stroke-width:4; stroke-opacity:1; fill:none\" points=\"\n",
       "  1494.26,1087.78 1504.57,1087.78 \n",
       "  \"/>\n",
       "<polyline clip-path=\"url(#clip070)\" style=\"stroke:#000000; stroke-width:4; stroke-opacity:1; fill:none\" points=\"\n",
       "  1494.26,989.608 1504.57,989.608 \n",
       "  \"/>\n",
       "<path clip-path=\"url(#clip070)\" d=\"M 0 0 M1330.23 1365.01 L1352.45 1365.01 L1352.45 1367 L1339.91 1399.57 L1335.02 1399.57 L1346.83 1368.95 L1330.23 1368.95 L1330.23 1365.01 Z\" fill=\"#000000\" fill-rule=\"evenodd\" fill-opacity=\"1\" /><path clip-path=\"url(#clip070)\" d=\"M 0 0 M1361.57 1393.69 L1366.46 1393.69 L1366.46 1399.57 L1361.57 1399.57 L1361.57 1393.69 Z\" fill=\"#000000\" fill-rule=\"evenodd\" fill-opacity=\"1\" /><path clip-path=\"url(#clip070)\" d=\"M 0 0 M1390.81 1380.94 Q1394.17 1381.65 1396.04 1383.92 Q1397.94 1386.19 1397.94 1389.53 Q1397.94 1394.64 1394.42 1397.44 Q1390.9 1400.24 1384.42 1400.24 Q1382.25 1400.24 1379.93 1399.8 Q1377.64 1399.39 1375.19 1398.53 L1375.19 1394.02 Q1377.13 1395.15 1379.44 1395.73 Q1381.76 1396.31 1384.28 1396.31 Q1388.68 1396.31 1390.97 1394.57 Q1393.29 1392.84 1393.29 1389.53 Q1393.29 1386.47 1391.13 1384.76 Q1389.01 1383.02 1385.19 1383.02 L1381.16 1383.02 L1381.16 1379.18 L1385.37 1379.18 Q1388.82 1379.18 1390.65 1377.81 Q1392.48 1376.42 1392.48 1373.83 Q1392.48 1371.17 1390.58 1369.76 Q1388.7 1368.32 1385.19 1368.32 Q1383.26 1368.32 1381.07 1368.74 Q1378.87 1369.16 1376.23 1370.03 L1376.23 1365.87 Q1378.89 1365.13 1381.2 1364.76 Q1383.54 1364.39 1385.6 1364.39 Q1390.93 1364.39 1394.03 1366.82 Q1397.13 1369.22 1397.13 1373.34 Q1397.13 1376.22 1395.49 1378.21 Q1393.84 1380.17 1390.81 1380.94 Z\" fill=\"#000000\" fill-rule=\"evenodd\" fill-opacity=\"1\" /><path clip-path=\"url(#clip070)\" d=\"M 0 0 M1406.85 1365.01 L1425.21 1365.01 L1425.21 1368.95 L1411.13 1368.95 L1411.13 1377.42 Q1412.15 1377.07 1413.17 1376.91 Q1414.19 1376.72 1415.21 1376.72 Q1421 1376.72 1424.38 1379.9 Q1427.75 1383.07 1427.75 1388.48 Q1427.75 1394.06 1424.28 1397.16 Q1420.81 1400.24 1414.49 1400.24 Q1412.32 1400.24 1410.05 1399.87 Q1407.8 1399.5 1405.39 1398.76 L1405.39 1394.06 Q1407.48 1395.2 1409.7 1395.75 Q1411.92 1396.31 1414.4 1396.31 Q1418.4 1396.31 1420.74 1394.2 Q1423.08 1392.09 1423.08 1388.48 Q1423.08 1384.87 1420.74 1382.77 Q1418.4 1380.66 1414.4 1380.66 Q1412.52 1380.66 1410.65 1381.08 Q1408.8 1381.49 1406.85 1382.37 L1406.85 1365.01 Z\" fill=\"#000000\" fill-rule=\"evenodd\" fill-opacity=\"1\" /><path clip-path=\"url(#clip070)\" d=\"M 0 0 M1451.13 1380.94 Q1454.49 1381.65 1456.37 1383.92 Q1458.26 1386.19 1458.26 1389.53 Q1458.26 1394.64 1454.75 1397.44 Q1451.23 1400.24 1444.75 1400.24 Q1442.57 1400.24 1440.25 1399.8 Q1437.96 1399.39 1435.51 1398.53 L1435.51 1394.02 Q1437.45 1395.15 1439.77 1395.73 Q1442.08 1396.31 1444.61 1396.31 Q1449 1396.31 1451.3 1394.57 Q1453.61 1392.84 1453.61 1389.53 Q1453.61 1386.47 1451.46 1384.76 Q1449.33 1383.02 1445.51 1383.02 L1441.48 1383.02 L1441.48 1379.18 L1445.69 1379.18 Q1449.14 1379.18 1450.97 1377.81 Q1452.8 1376.42 1452.8 1373.83 Q1452.8 1371.17 1450.9 1369.76 Q1449.03 1368.32 1445.51 1368.32 Q1443.59 1368.32 1441.39 1368.74 Q1439.19 1369.16 1436.55 1370.03 L1436.55 1365.87 Q1439.21 1365.13 1441.53 1364.76 Q1443.87 1364.39 1445.93 1364.39 Q1451.25 1364.39 1454.35 1366.82 Q1457.45 1369.22 1457.45 1373.34 Q1457.45 1376.22 1455.81 1378.21 Q1454.17 1380.17 1451.13 1380.94 Z\" fill=\"#000000\" fill-rule=\"evenodd\" fill-opacity=\"1\" /><path clip-path=\"url(#clip070)\" d=\"M 0 0 M1329.42 1266.84 L1351.64 1266.84 L1351.64 1268.83 L1339.1 1301.4 L1334.21 1301.4 L1346.02 1270.78 L1329.42 1270.78 L1329.42 1266.84 Z\" fill=\"#000000\" fill-rule=\"evenodd\" fill-opacity=\"1\" /><path clip-path=\"url(#clip070)\" d=\"M 0 0 M1360.76 1295.52 L1365.65 1295.52 L1365.65 1301.4 L1360.76 1301.4 L1360.76 1295.52 Z\" fill=\"#000000\" fill-rule=\"evenodd\" fill-opacity=\"1\" /><path clip-path=\"url(#clip070)\" d=\"M 0 0 M1390 1282.77 Q1393.36 1283.48 1395.23 1285.75 Q1397.13 1288.02 1397.13 1291.35 Q1397.13 1296.47 1393.61 1299.27 Q1390.09 1302.07 1383.61 1302.07 Q1381.44 1302.07 1379.12 1301.63 Q1376.83 1301.22 1374.38 1300.36 L1374.38 1295.85 Q1376.32 1296.98 1378.63 1297.56 Q1380.95 1298.14 1383.47 1298.14 Q1387.87 1298.14 1390.16 1296.4 Q1392.48 1294.66 1392.48 1291.35 Q1392.48 1288.3 1390.32 1286.59 Q1388.19 1284.85 1384.38 1284.85 L1380.35 1284.85 L1380.35 1281.01 L1384.56 1281.01 Q1388.01 1281.01 1389.84 1279.64 Q1391.67 1278.25 1391.67 1275.66 Q1391.67 1273 1389.77 1271.59 Q1387.89 1270.15 1384.38 1270.15 Q1382.45 1270.15 1380.26 1270.57 Q1378.06 1270.98 1375.42 1271.86 L1375.42 1267.7 Q1378.08 1266.96 1380.39 1266.59 Q1382.73 1266.22 1384.79 1266.22 Q1390.12 1266.22 1393.22 1268.65 Q1396.32 1271.05 1396.32 1275.17 Q1396.32 1278.04 1394.68 1280.04 Q1393.03 1282 1390 1282.77 Z\" fill=\"#000000\" fill-rule=\"evenodd\" fill-opacity=\"1\" /><path clip-path=\"url(#clip070)\" d=\"M 0 0 M1406.04 1266.84 L1424.4 1266.84 L1424.4 1270.78 L1410.32 1270.78 L1410.32 1279.25 Q1411.34 1278.9 1412.36 1278.74 Q1413.38 1278.55 1414.4 1278.55 Q1420.19 1278.55 1423.57 1281.72 Q1426.94 1284.9 1426.94 1290.31 Q1426.94 1295.89 1423.47 1298.99 Q1420 1302.07 1413.68 1302.07 Q1411.51 1302.07 1409.24 1301.7 Q1406.99 1301.33 1404.58 1300.59 L1404.58 1295.89 Q1406.67 1297.03 1408.89 1297.58 Q1411.11 1298.14 1413.59 1298.14 Q1417.59 1298.14 1419.93 1296.03 Q1422.27 1293.92 1422.27 1290.31 Q1422.27 1286.7 1419.93 1284.6 Q1417.59 1282.49 1413.59 1282.49 Q1411.71 1282.49 1409.84 1282.91 Q1407.99 1283.32 1406.04 1284.2 L1406.04 1266.84 Z\" fill=\"#000000\" fill-rule=\"evenodd\" fill-opacity=\"1\" /><path clip-path=\"url(#clip070)\" d=\"M 0 0 M1446.74 1282.26 Q1443.59 1282.26 1441.74 1284.41 Q1439.91 1286.56 1439.91 1290.31 Q1439.91 1294.04 1441.74 1296.22 Q1443.59 1298.37 1446.74 1298.37 Q1449.88 1298.37 1451.71 1296.22 Q1453.56 1294.04 1453.56 1290.31 Q1453.56 1286.56 1451.71 1284.41 Q1449.88 1282.26 1446.74 1282.26 M1456.02 1267.6 L1456.02 1271.86 Q1454.26 1271.03 1452.45 1270.59 Q1450.67 1270.15 1448.91 1270.15 Q1444.28 1270.15 1441.83 1273.28 Q1439.4 1276.4 1439.05 1282.72 Q1440.42 1280.71 1442.48 1279.64 Q1444.54 1278.55 1447.01 1278.55 Q1452.22 1278.55 1455.23 1281.72 Q1458.26 1284.87 1458.26 1290.31 Q1458.26 1295.64 1455.12 1298.85 Q1451.97 1302.07 1446.74 1302.07 Q1440.74 1302.07 1437.57 1297.49 Q1434.4 1292.88 1434.4 1284.16 Q1434.4 1275.96 1438.29 1271.1 Q1442.18 1266.22 1448.73 1266.22 Q1450.49 1266.22 1452.27 1266.56 Q1454.07 1266.91 1456.02 1267.6 Z\" fill=\"#000000\" fill-rule=\"evenodd\" fill-opacity=\"1\" /><path clip-path=\"url(#clip070)\" d=\"M 0 0 M1329.77 1168.67 L1351.99 1168.67 L1351.99 1170.66 L1339.45 1203.23 L1334.56 1203.23 L1346.37 1172.6 L1329.77 1172.6 L1329.77 1168.67 Z\" fill=\"#000000\" fill-rule=\"evenodd\" fill-opacity=\"1\" /><path clip-path=\"url(#clip070)\" d=\"M 0 0 M1361.11 1197.35 L1366 1197.35 L1366 1203.23 L1361.11 1203.23 L1361.11 1197.35 Z\" fill=\"#000000\" fill-rule=\"evenodd\" fill-opacity=\"1\" /><path clip-path=\"url(#clip070)\" d=\"M 0 0 M1390.35 1184.6 Q1393.7 1185.31 1395.58 1187.58 Q1397.48 1189.85 1397.48 1193.18 Q1397.48 1198.3 1393.96 1201.1 Q1390.44 1203.9 1383.96 1203.9 Q1381.78 1203.9 1379.47 1203.46 Q1377.18 1203.04 1374.72 1202.19 L1374.72 1197.67 Q1376.67 1198.81 1378.98 1199.39 Q1381.3 1199.97 1383.82 1199.97 Q1388.22 1199.97 1390.51 1198.23 Q1392.82 1196.49 1392.82 1193.18 Q1392.82 1190.13 1390.67 1188.42 Q1388.54 1186.68 1384.72 1186.68 L1380.69 1186.68 L1380.69 1182.84 L1384.91 1182.84 Q1388.36 1182.84 1390.19 1181.47 Q1392.01 1180.08 1392.01 1177.49 Q1392.01 1174.83 1390.12 1173.42 Q1388.24 1171.98 1384.72 1171.98 Q1382.8 1171.98 1380.6 1172.4 Q1378.4 1172.81 1375.76 1173.69 L1375.76 1169.53 Q1378.43 1168.79 1380.74 1168.42 Q1383.08 1168.04 1385.14 1168.04 Q1390.46 1168.04 1393.57 1170.48 Q1396.67 1172.88 1396.67 1177 Q1396.67 1179.87 1395.02 1181.86 Q1393.38 1183.83 1390.35 1184.6 Z\" fill=\"#000000\" fill-rule=\"evenodd\" fill-opacity=\"1\" /><path clip-path=\"url(#clip070)\" d=\"M 0 0 M1406.39 1168.67 L1424.75 1168.67 L1424.75 1172.6 L1410.67 1172.6 L1410.67 1181.08 Q1411.69 1180.73 1412.71 1180.57 Q1413.73 1180.38 1414.75 1180.38 Q1420.53 1180.38 1423.91 1183.55 Q1427.29 1186.73 1427.29 1192.14 Q1427.29 1197.72 1423.82 1200.82 Q1420.35 1203.9 1414.03 1203.9 Q1411.85 1203.9 1409.58 1203.53 Q1407.34 1203.16 1404.93 1202.42 L1404.93 1197.72 Q1407.01 1198.85 1409.24 1199.41 Q1411.46 1199.97 1413.94 1199.97 Q1417.94 1199.97 1420.28 1197.86 Q1422.62 1195.75 1422.62 1192.14 Q1422.62 1188.53 1420.28 1186.42 Q1417.94 1184.32 1413.94 1184.32 Q1412.06 1184.32 1410.19 1184.73 Q1408.33 1185.15 1406.39 1186.03 L1406.39 1168.67 Z\" fill=\"#000000\" fill-rule=\"evenodd\" fill-opacity=\"1\" /><path clip-path=\"url(#clip070)\" d=\"M 0 0 M1436.64 1202.51 L1436.64 1198.25 Q1438.4 1199.09 1440.21 1199.53 Q1442.01 1199.97 1443.75 1199.97 Q1448.38 1199.97 1450.81 1196.86 Q1453.26 1193.74 1453.61 1187.4 Q1452.27 1189.39 1450.21 1190.45 Q1448.15 1191.52 1445.65 1191.52 Q1440.46 1191.52 1437.43 1188.39 Q1434.42 1185.24 1434.42 1179.8 Q1434.42 1174.48 1437.57 1171.26 Q1440.72 1168.04 1445.95 1168.04 Q1451.94 1168.04 1455.09 1172.65 Q1458.26 1177.23 1458.26 1185.98 Q1458.26 1194.16 1454.38 1199.04 Q1450.51 1203.9 1443.96 1203.9 Q1442.2 1203.9 1440.39 1203.55 Q1438.59 1203.21 1436.64 1202.51 M1445.95 1187.86 Q1449.1 1187.86 1450.93 1185.71 Q1452.78 1183.55 1452.78 1179.8 Q1452.78 1176.08 1450.93 1173.92 Q1449.1 1171.75 1445.95 1171.75 Q1442.8 1171.75 1440.95 1173.92 Q1439.12 1176.08 1439.12 1179.8 Q1439.12 1183.55 1440.95 1185.71 Q1442.8 1187.86 1445.95 1187.86 Z\" fill=\"#000000\" fill-rule=\"evenodd\" fill-opacity=\"1\" /><path clip-path=\"url(#clip070)\" d=\"M 0 0 M1331.18 1070.5 L1353.4 1070.5 L1353.4 1072.49 L1340.86 1105.06 L1335.97 1105.06 L1347.78 1074.43 L1331.18 1074.43 L1331.18 1070.5 Z\" fill=\"#000000\" fill-rule=\"evenodd\" fill-opacity=\"1\" /><path clip-path=\"url(#clip070)\" d=\"M 0 0 M1362.52 1099.18 L1367.41 1099.18 L1367.41 1105.06 L1362.52 1105.06 L1362.52 1099.18 Z\" fill=\"#000000\" fill-rule=\"evenodd\" fill-opacity=\"1\" /><path clip-path=\"url(#clip070)\" d=\"M 0 0 M1391.76 1086.42 Q1395.12 1087.14 1396.99 1089.41 Q1398.89 1091.68 1398.89 1095.01 Q1398.89 1100.13 1395.37 1102.93 Q1391.85 1105.73 1385.37 1105.73 Q1383.19 1105.73 1380.88 1105.29 Q1378.59 1104.87 1376.13 1104.02 L1376.13 1099.5 Q1378.08 1100.64 1380.39 1101.22 Q1382.71 1101.8 1385.23 1101.8 Q1389.63 1101.8 1391.92 1100.06 Q1394.24 1098.32 1394.24 1095.01 Q1394.24 1091.96 1392.08 1090.24 Q1389.95 1088.51 1386.13 1088.51 L1382.11 1088.51 L1382.11 1084.67 L1386.32 1084.67 Q1389.77 1084.67 1391.6 1083.3 Q1393.43 1081.91 1393.43 1079.32 Q1393.43 1076.66 1391.53 1075.24 Q1389.65 1073.81 1386.13 1073.81 Q1384.21 1073.81 1382.01 1074.23 Q1379.82 1074.64 1377.18 1075.52 L1377.18 1071.36 Q1379.84 1070.61 1382.15 1070.24 Q1384.49 1069.87 1386.55 1069.87 Q1391.88 1069.87 1394.98 1072.3 Q1398.08 1074.71 1398.08 1078.83 Q1398.08 1081.7 1396.44 1083.69 Q1394.79 1085.66 1391.76 1086.42 Z\" fill=\"#000000\" fill-rule=\"evenodd\" fill-opacity=\"1\" /><path clip-path=\"url(#clip070)\" d=\"M 0 0 M1418.33 1085.92 Q1415.19 1085.92 1413.33 1088.07 Q1411.51 1090.22 1411.51 1093.97 Q1411.51 1097.7 1413.33 1099.87 Q1415.19 1102.03 1418.33 1102.03 Q1421.48 1102.03 1423.31 1099.87 Q1425.16 1097.7 1425.16 1093.97 Q1425.16 1090.22 1423.31 1088.07 Q1421.48 1085.92 1418.33 1085.92 M1427.62 1071.26 L1427.62 1075.52 Q1425.86 1074.69 1424.05 1074.25 Q1422.27 1073.81 1420.51 1073.81 Q1415.88 1073.81 1413.43 1076.93 Q1411 1080.06 1410.65 1086.38 Q1412.01 1084.36 1414.07 1083.3 Q1416.13 1082.21 1418.61 1082.21 Q1423.82 1082.21 1426.83 1085.38 Q1429.86 1088.53 1429.86 1093.97 Q1429.86 1099.3 1426.71 1102.51 Q1423.57 1105.73 1418.33 1105.73 Q1412.34 1105.73 1409.17 1101.15 Q1406 1096.54 1406 1087.81 Q1406 1079.62 1409.88 1074.76 Q1413.77 1069.87 1420.32 1069.87 Q1422.08 1069.87 1423.87 1070.22 Q1425.67 1070.57 1427.62 1071.26 Z\" fill=\"#000000\" fill-rule=\"evenodd\" fill-opacity=\"1\" /><path clip-path=\"url(#clip070)\" d=\"M 0 0 M1441.94 1101.12 L1458.26 1101.12 L1458.26 1105.06 L1436.32 1105.06 L1436.32 1101.12 Q1438.98 1098.37 1443.57 1093.74 Q1448.17 1089.09 1449.35 1087.74 Q1451.6 1085.22 1452.48 1083.48 Q1453.38 1081.73 1453.38 1080.04 Q1453.38 1077.28 1451.44 1075.55 Q1449.51 1073.81 1446.41 1073.81 Q1444.21 1073.81 1441.76 1074.57 Q1439.33 1075.34 1436.55 1076.89 L1436.55 1072.17 Q1439.38 1071.03 1441.83 1070.45 Q1444.28 1069.87 1446.32 1069.87 Q1451.69 1069.87 1454.88 1072.56 Q1458.08 1075.24 1458.08 1079.73 Q1458.08 1081.86 1457.27 1083.79 Q1456.48 1085.68 1454.38 1088.28 Q1453.8 1088.95 1450.69 1092.17 Q1447.59 1095.36 1441.94 1101.12 Z\" fill=\"#000000\" fill-rule=\"evenodd\" fill-opacity=\"1\" /><path clip-path=\"url(#clip070)\" d=\"M 0 0 M1330.58 972.328 L1352.8 972.328 L1352.8 974.319 L1340.26 1006.89 L1335.37 1006.89 L1347.18 976.263 L1330.58 976.263 L1330.58 972.328 Z\" fill=\"#000000\" fill-rule=\"evenodd\" fill-opacity=\"1\" /><path clip-path=\"url(#clip070)\" d=\"M 0 0 M1361.92 1001.01 L1366.81 1001.01 L1366.81 1006.89 L1361.92 1006.89 L1361.92 1001.01 Z\" fill=\"#000000\" fill-rule=\"evenodd\" fill-opacity=\"1\" /><path clip-path=\"url(#clip070)\" d=\"M 0 0 M1391.16 988.254 Q1394.51 988.971 1396.39 991.24 Q1398.29 993.508 1398.29 996.842 Q1398.29 1001.96 1394.77 1004.76 Q1391.25 1007.56 1384.77 1007.56 Q1382.59 1007.56 1380.28 1007.12 Q1377.99 1006.7 1375.53 1005.85 L1375.53 1001.33 Q1377.48 1002.47 1379.79 1003.05 Q1382.11 1003.62 1384.63 1003.62 Q1389.03 1003.62 1391.32 1001.89 Q1393.63 1000.15 1393.63 996.842 Q1393.63 993.786 1391.48 992.073 Q1389.35 990.337 1385.53 990.337 L1381.51 990.337 L1381.51 986.495 L1385.72 986.495 Q1389.17 986.495 1391 985.129 Q1392.82 983.74 1392.82 981.147 Q1392.82 978.485 1390.93 977.073 Q1389.05 975.638 1385.53 975.638 Q1383.61 975.638 1381.41 976.055 Q1379.21 976.472 1376.57 977.351 L1376.57 973.184 Q1379.24 972.444 1381.55 972.073 Q1383.89 971.703 1385.95 971.703 Q1391.27 971.703 1394.38 974.134 Q1397.48 976.541 1397.48 980.661 Q1397.48 983.532 1395.83 985.522 Q1394.19 987.49 1391.16 988.254 Z\" fill=\"#000000\" fill-rule=\"evenodd\" fill-opacity=\"1\" /><path clip-path=\"url(#clip070)\" d=\"M 0 0 M1417.73 987.745 Q1414.58 987.745 1412.73 989.897 Q1410.9 992.05 1410.9 995.8 Q1410.9 999.527 1412.73 1001.7 Q1414.58 1003.86 1417.73 1003.86 Q1420.88 1003.86 1422.71 1001.7 Q1424.56 999.527 1424.56 995.8 Q1424.56 992.05 1422.71 989.897 Q1420.88 987.745 1417.73 987.745 M1427.01 973.092 L1427.01 977.351 Q1425.25 976.518 1423.45 976.078 Q1421.67 975.638 1419.91 975.638 Q1415.28 975.638 1412.82 978.763 Q1410.39 981.888 1410.05 988.208 Q1411.41 986.194 1413.47 985.129 Q1415.53 984.041 1418.01 984.041 Q1423.22 984.041 1426.23 987.212 Q1429.26 990.36 1429.26 995.8 Q1429.26 1001.12 1426.11 1004.34 Q1422.96 1007.56 1417.73 1007.56 Q1411.74 1007.56 1408.57 1002.98 Q1405.39 998.37 1405.39 989.643 Q1405.39 981.448 1409.28 976.587 Q1413.17 971.703 1419.72 971.703 Q1421.48 971.703 1423.26 972.05 Q1425.07 972.397 1427.01 973.092 Z\" fill=\"#000000\" fill-rule=\"evenodd\" fill-opacity=\"1\" /><path clip-path=\"url(#clip070)\" d=\"M 0 0 M1437.36 972.328 L1455.72 972.328 L1455.72 976.263 L1441.64 976.263 L1441.64 984.735 Q1442.66 984.388 1443.68 984.226 Q1444.7 984.041 1445.72 984.041 Q1451.5 984.041 1454.88 987.212 Q1458.26 990.383 1458.26 995.8 Q1458.26 1001.38 1454.79 1004.48 Q1451.32 1007.56 1445 1007.56 Q1442.82 1007.56 1440.56 1007.19 Q1438.31 1006.82 1435.9 1006.08 L1435.9 1001.38 Q1437.99 1002.51 1440.21 1003.07 Q1442.43 1003.62 1444.91 1003.62 Q1448.91 1003.62 1451.25 1001.52 Q1453.59 999.411 1453.59 995.8 Q1453.59 992.189 1451.25 990.083 Q1448.91 987.976 1444.91 987.976 Q1443.03 987.976 1441.16 988.393 Q1439.31 988.809 1437.36 989.689 L1437.36 972.328 Z\" fill=\"#000000\" fill-rule=\"evenodd\" fill-opacity=\"1\" /><path clip-path=\"url(#clip070)\" d=\"M 0 0 M1243.52 1401.49 L1243.52 1395.28 L1273.44 1384.14 L1243.52 1373 L1243.52 1366.8 L1279.17 1380.16 L1279.17 1388.12 L1243.52 1401.49 Z\" fill=\"#000000\" fill-rule=\"evenodd\" fill-opacity=\"1\" /><path clip-path=\"url(#clip070)\" d=\"M 0 0 M1261.25 1342.51 Q1261.25 1349.61 1262.87 1352.35 Q1264.49 1355.08 1268.41 1355.08 Q1271.53 1355.08 1273.37 1353.05 Q1275.19 1350.98 1275.19 1347.44 Q1275.19 1342.57 1271.75 1339.65 Q1268.28 1336.69 1262.55 1336.69 L1261.25 1336.69 L1261.25 1342.51 M1258.83 1330.83 L1279.17 1330.83 L1279.17 1336.69 L1273.76 1336.69 Q1277 1338.69 1278.56 1341.68 Q1280.09 1344.67 1280.09 1349 Q1280.09 1354.48 1277.03 1357.72 Q1273.95 1360.94 1268.79 1360.94 Q1262.77 1360.94 1259.72 1356.93 Q1256.66 1352.89 1256.66 1344.9 L1256.66 1336.69 L1256.09 1336.69 Q1252.05 1336.69 1249.85 1339.36 Q1247.62 1342 1247.62 1346.81 Q1247.62 1349.86 1248.36 1352.76 Q1249.09 1355.66 1250.55 1358.33 L1245.14 1358.33 Q1243.9 1355.11 1243.3 1352.09 Q1242.66 1349.07 1242.66 1346.2 Q1242.66 1338.47 1246.67 1334.65 Q1250.68 1330.83 1258.83 1330.83 Z\" fill=\"#000000\" fill-rule=\"evenodd\" fill-opacity=\"1\" /><path clip-path=\"url(#clip070)\" d=\"M 0 0 M1248.99 1298.11 Q1248.42 1299.1 1248.17 1300.27 Q1247.88 1301.42 1247.88 1302.82 Q1247.88 1307.79 1251.13 1310.46 Q1254.34 1313.1 1260.39 1313.1 L1279.17 1313.1 L1279.17 1318.99 L1243.52 1318.99 L1243.52 1313.1 L1249.06 1313.1 Q1245.81 1311.25 1244.25 1308.29 Q1242.66 1305.33 1242.66 1301.1 Q1242.66 1300.5 1242.75 1299.76 Q1242.82 1299.03 1242.98 1298.14 L1248.99 1298.11 Z\" fill=\"#000000\" fill-rule=\"evenodd\" fill-opacity=\"1\" /><path clip-path=\"url(#clip070)\" d=\"M 0 0 M1243.52 1291.97 L1243.52 1286.11 L1279.17 1286.11 L1279.17 1291.97 L1243.52 1291.97 M1229.64 1291.97 L1229.64 1286.11 L1237.06 1286.11 L1237.06 1291.97 L1229.64 1291.97 Z\" fill=\"#000000\" fill-rule=\"evenodd\" fill-opacity=\"1\" /><path clip-path=\"url(#clip070)\" d=\"M 0 0 M1261.25 1257.66 Q1261.25 1264.75 1262.87 1267.49 Q1264.49 1270.23 1268.41 1270.23 Q1271.53 1270.23 1273.37 1268.19 Q1275.19 1266.12 1275.19 1262.59 Q1275.19 1257.72 1271.75 1254.79 Q1268.28 1251.83 1262.55 1251.83 L1261.25 1251.83 L1261.25 1257.66 M1258.83 1245.97 L1279.17 1245.97 L1279.17 1251.83 L1273.76 1251.83 Q1277 1253.84 1278.56 1256.83 Q1280.09 1259.82 1280.09 1264.15 Q1280.09 1269.62 1277.03 1272.87 Q1273.95 1276.08 1268.79 1276.08 Q1262.77 1276.08 1259.72 1272.07 Q1256.66 1268.03 1256.66 1260.04 L1256.66 1251.83 L1256.09 1251.83 Q1252.05 1251.83 1249.85 1254.5 Q1247.62 1257.15 1247.62 1261.95 Q1247.62 1265.01 1248.36 1267.9 Q1249.09 1270.8 1250.55 1273.47 L1245.14 1273.47 Q1243.9 1270.26 1243.3 1267.24 Q1242.66 1264.21 1242.66 1261.35 Q1242.66 1253.61 1246.67 1249.79 Q1250.68 1245.97 1258.83 1245.97 Z\" fill=\"#000000\" fill-rule=\"evenodd\" fill-opacity=\"1\" /><path clip-path=\"url(#clip070)\" d=\"M 0 0 M1261.37 1208.32 Q1254.91 1208.32 1251.25 1211 Q1247.56 1213.64 1247.56 1218.28 Q1247.56 1222.93 1251.25 1225.6 Q1254.91 1228.25 1261.37 1228.25 Q1267.84 1228.25 1271.53 1225.6 Q1275.19 1222.93 1275.19 1218.28 Q1275.19 1213.64 1271.53 1211 Q1267.84 1208.32 1261.37 1208.32 M1248.93 1228.25 Q1245.75 1226.4 1244.22 1223.6 Q1242.66 1220.77 1242.66 1216.85 Q1242.66 1210.36 1247.82 1206.32 Q1252.97 1202.24 1261.37 1202.24 Q1269.78 1202.24 1274.93 1206.32 Q1280.09 1210.36 1280.09 1216.85 Q1280.09 1220.77 1278.56 1223.6 Q1277 1226.4 1273.82 1228.25 L1279.17 1228.25 L1279.17 1234.13 L1229.64 1234.13 L1229.64 1228.25 L1248.93 1228.25 Z\" fill=\"#000000\" fill-rule=\"evenodd\" fill-opacity=\"1\" /><path clip-path=\"url(#clip070)\" d=\"M 0 0 M1229.64 1192.53 L1229.64 1186.68 L1279.17 1186.68 L1279.17 1192.53 L1229.64 1192.53 Z\" fill=\"#000000\" fill-rule=\"evenodd\" fill-opacity=\"1\" /><path clip-path=\"url(#clip070)\" d=\"M 0 0 M1259.88 1143.93 L1262.74 1143.93 L1262.74 1170.86 Q1268.79 1170.48 1271.97 1167.23 Q1275.12 1163.95 1275.12 1158.13 Q1275.12 1154.75 1274.3 1151.6 Q1273.47 1148.42 1271.81 1145.3 L1277.35 1145.3 Q1278.69 1148.45 1279.39 1151.76 Q1280.09 1155.07 1280.09 1158.48 Q1280.09 1167.01 1275.12 1172.01 Q1270.16 1176.97 1261.69 1176.97 Q1252.94 1176.97 1247.82 1172.26 Q1242.66 1167.52 1242.66 1159.5 Q1242.66 1152.3 1247.31 1148.13 Q1251.92 1143.93 1259.88 1143.93 M1258.16 1149.79 Q1253.35 1149.85 1250.49 1152.49 Q1247.62 1155.1 1247.62 1159.43 Q1247.62 1164.33 1250.39 1167.29 Q1253.16 1170.22 1258.19 1170.67 L1258.16 1149.79 Z\" fill=\"#000000\" fill-rule=\"evenodd\" fill-opacity=\"1\" /><path clip-path=\"url(#clip070)\" d=\"M 0 0 M1243.52 1117.8 L1243.52 1111.59 L1273.44 1100.45 L1243.52 1089.31 L1243.52 1083.11 L1279.17 1096.48 L1279.17 1104.43 L1243.52 1117.8 Z\" fill=\"#000000\" fill-rule=\"evenodd\" fill-opacity=\"1\" /><path clip-path=\"url(#clip070)\" d=\"M 0 0 M1261.25 1058.82 Q1261.25 1065.92 1262.87 1068.66 Q1264.49 1071.4 1268.41 1071.4 Q1271.53 1071.4 1273.37 1069.36 Q1275.19 1067.29 1275.19 1063.76 Q1275.19 1058.89 1271.75 1055.96 Q1268.28 1053 1262.55 1053 L1261.25 1053 L1261.25 1058.82 M1258.83 1047.14 L1279.17 1047.14 L1279.17 1053 L1273.76 1053 Q1277 1055 1278.56 1058 Q1280.09 1060.99 1280.09 1065.32 Q1280.09 1070.79 1277.03 1074.04 Q1273.95 1077.25 1268.79 1077.25 Q1262.77 1077.25 1259.72 1073.24 Q1256.66 1069.2 1256.66 1061.21 L1256.66 1053 L1256.09 1053 Q1252.05 1053 1249.85 1055.67 Q1247.62 1058.31 1247.62 1063.12 Q1247.62 1066.18 1248.36 1069.07 Q1249.09 1071.97 1250.55 1074.64 L1245.14 1074.64 Q1243.9 1071.43 1243.3 1068.4 Q1242.66 1065.38 1242.66 1062.51 Q1242.66 1054.78 1246.67 1050.96 Q1250.68 1047.14 1258.83 1047.14 Z\" fill=\"#000000\" fill-rule=\"evenodd\" fill-opacity=\"1\" /><path clip-path=\"url(#clip070)\" d=\"M 0 0 M1229.64 1035.08 L1229.64 1029.22 L1279.17 1029.22 L1279.17 1035.08 L1229.64 1035.08 Z\" fill=\"#000000\" fill-rule=\"evenodd\" fill-opacity=\"1\" /><path clip-path=\"url(#clip070)\" d=\"M 0 0 M1265.1 1017.57 L1243.52 1017.57 L1243.52 1011.72 L1264.88 1011.72 Q1269.94 1011.72 1272.48 1009.74 Q1275 1007.77 1275 1003.82 Q1275 999.081 1271.97 996.343 Q1268.95 993.574 1263.73 993.574 L1243.52 993.574 L1243.52 987.718 L1279.17 987.718 L1279.17 993.574 L1273.69 993.574 Q1276.94 995.707 1278.53 998.54 Q1280.09 1001.34 1280.09 1005.06 Q1280.09 1011.21 1276.27 1014.39 Q1272.45 1017.57 1265.1 1017.57 M1242.66 1002.84 L1242.66 1002.84 Z\" fill=\"#000000\" fill-rule=\"evenodd\" fill-opacity=\"1\" /><path clip-path=\"url(#clip070)\" d=\"M 0 0 M1259.88 945.163 L1262.74 945.163 L1262.74 972.09 Q1268.79 971.708 1271.97 968.462 Q1275.12 965.183 1275.12 959.359 Q1275.12 955.985 1274.3 952.834 Q1273.47 949.651 1271.81 946.532 L1277.35 946.532 Q1278.69 949.683 1279.39 952.993 Q1280.09 956.303 1280.09 959.709 Q1280.09 968.239 1275.12 973.236 Q1270.16 978.201 1261.69 978.201 Q1252.94 978.201 1247.82 973.491 Q1242.66 968.748 1242.66 960.727 Q1242.66 953.534 1247.31 949.365 Q1251.92 945.163 1259.88 945.163 M1258.16 951.02 Q1253.35 951.083 1250.49 953.725 Q1247.62 956.335 1247.62 960.664 Q1247.62 965.565 1250.39 968.525 Q1253.16 971.454 1258.19 971.899 L1258.16 951.02 Z\" fill=\"#000000\" fill-rule=\"evenodd\" fill-opacity=\"1\" /><path clip-path=\"url(#clip070)\" d=\"M 0 0 M1776.56 845.192 L1776.56 872.576 L1769.11 872.576 L1769.11 845.435 Q1769.11 838.994 1766.6 835.794 Q1764.09 832.594 1759.06 832.594 Q1753.03 832.594 1749.54 836.442 Q1746.06 840.29 1746.06 846.934 L1746.06 872.576 L1738.57 872.576 L1738.57 827.206 L1746.06 827.206 L1746.06 834.254 Q1748.73 830.163 1752.34 828.138 Q1755.98 826.112 1760.72 826.112 Q1768.54 826.112 1772.55 830.973 Q1776.56 835.794 1776.56 845.192 Z\" fill=\"#000000\" fill-rule=\"evenodd\" fill-opacity=\"1\" /><path clip-path=\"url(#clip070)\" d=\"M 0 0 M1809.01 832.432 Q1803.02 832.432 1799.53 837.131 Q1796.05 841.789 1796.05 849.931 Q1796.05 858.074 1799.49 862.773 Q1802.98 867.431 1809.01 867.431 Q1814.97 867.431 1818.45 862.732 Q1821.93 858.033 1821.93 849.931 Q1821.93 841.87 1818.45 837.171 Q1814.97 832.432 1809.01 832.432 M1809.01 826.112 Q1818.73 826.112 1824.28 832.432 Q1829.83 838.751 1829.83 849.931 Q1829.83 861.071 1824.28 867.431 Q1818.73 873.751 1809.01 873.751 Q1799.25 873.751 1793.7 867.431 Q1788.19 861.071 1788.19 849.931 Q1788.19 838.751 1793.7 832.432 Q1799.25 826.112 1809.01 826.112 Z\" fill=\"#000000\" fill-rule=\"evenodd\" fill-opacity=\"1\" /><path clip-path=\"url(#clip070)\" d=\"M 0 0 M1872.04 834.092 L1872.04 809.544 L1879.5 809.544 L1879.5 872.576 L1872.04 872.576 L1872.04 865.77 Q1869.69 869.821 1866.09 871.806 Q1862.52 873.751 1857.5 873.751 Q1849.28 873.751 1844.09 867.188 Q1838.95 860.626 1838.95 849.931 Q1838.95 839.237 1844.09 832.675 Q1849.28 826.112 1857.5 826.112 Q1862.52 826.112 1866.09 828.097 Q1869.69 830.042 1872.04 834.092 M1846.64 849.931 Q1846.64 858.155 1850.01 862.854 Q1853.41 867.512 1859.32 867.512 Q1865.24 867.512 1868.64 862.854 Q1872.04 858.155 1872.04 849.931 Q1872.04 841.708 1868.64 837.05 Q1865.24 832.351 1859.32 832.351 Q1853.41 832.351 1850.01 837.05 Q1846.64 841.708 1846.64 849.931 Z\" fill=\"#000000\" fill-rule=\"evenodd\" fill-opacity=\"1\" /><path clip-path=\"url(#clip070)\" d=\"M 0 0 M1933.66 848.028 L1933.66 851.673 L1899.39 851.673 Q1899.87 859.37 1904 863.421 Q1908.18 867.431 1915.59 867.431 Q1919.88 867.431 1923.89 866.378 Q1927.95 865.325 1931.92 863.218 L1931.92 870.267 Q1927.91 871.968 1923.69 872.86 Q1919.48 873.751 1915.14 873.751 Q1904.29 873.751 1897.93 867.431 Q1891.61 861.112 1891.61 850.337 Q1891.61 839.197 1897.6 832.675 Q1903.64 826.112 1913.85 826.112 Q1923 826.112 1928.31 832.026 Q1933.66 837.9 1933.66 848.028 M1926.2 845.84 Q1926.12 839.723 1922.76 836.077 Q1919.44 832.432 1913.93 832.432 Q1907.69 832.432 1903.92 835.956 Q1900.2 839.48 1899.63 845.881 L1926.2 845.84 Z\" fill=\"#000000\" fill-rule=\"evenodd\" fill-opacity=\"1\" /><path clip-path=\"url(#clip070)\" d=\"M 0 0 M1973.23 834.903 L2025.17 834.903 L2025.17 841.708 L1973.23 841.708 L1973.23 834.903 M1973.23 851.43 L2025.17 851.43 L2025.17 858.317 L1973.23 858.317 L1973.23 851.43 Z\" fill=\"#000000\" fill-rule=\"evenodd\" fill-opacity=\"1\" /><path clip-path=\"url(#clip070)\" d=\"M 0 0 M2091.68 819.226 L2071.02 851.511 L2091.68 851.511 L2091.68 819.226 M2089.54 812.096 L2099.83 812.096 L2099.83 851.511 L2108.45 851.511 L2108.45 858.317 L2099.83 858.317 L2099.83 872.576 L2091.68 872.576 L2091.68 858.317 L2064.38 858.317 L2064.38 850.418 L2089.54 812.096 Z\" fill=\"#000000\" fill-rule=\"evenodd\" fill-opacity=\"1\" /><polyline clip-path=\"url(#clip075)\" style=\"stroke:#009af9; stroke-width:8; stroke-opacity:1; fill:none\" points=\"\n",
       "  1518.56,1000.64 1559.06,972.935 1599.55,949.823 1640.05,937.615 1680.54,939.025 1721.04,968.671 1761.53,997.407 1802.03,1027.68 1842.52,1062.76 1883.02,1099.82 \n",
       "  1923.51,1132 1964,1177.25 2004.5,1232.78 2044.99,1299 2085.49,1341.44 2125.98,1395.24 2166.48,1393.1 2206.97,1390 2247.47,1388.2 2287.96,1395.52 \n",
       "  2328.46,1409.04 \n",
       "  \"/>\n",
       "<circle clip-path=\"url(#clip075)\" cx=\"1518.56\" cy=\"1000.64\" r=\"14\" fill=\"#009af9\" fill-rule=\"evenodd\" fill-opacity=\"1\" stroke=\"#000000\" stroke-opacity=\"1\" stroke-width=\"3.2\"/>\n",
       "<circle clip-path=\"url(#clip075)\" cx=\"1559.06\" cy=\"972.935\" r=\"14\" fill=\"#009af9\" fill-rule=\"evenodd\" fill-opacity=\"1\" stroke=\"#000000\" stroke-opacity=\"1\" stroke-width=\"3.2\"/>\n",
       "<circle clip-path=\"url(#clip075)\" cx=\"1599.55\" cy=\"949.823\" r=\"14\" fill=\"#009af9\" fill-rule=\"evenodd\" fill-opacity=\"1\" stroke=\"#000000\" stroke-opacity=\"1\" stroke-width=\"3.2\"/>\n",
       "<circle clip-path=\"url(#clip075)\" cx=\"1640.05\" cy=\"937.615\" r=\"14\" fill=\"#009af9\" fill-rule=\"evenodd\" fill-opacity=\"1\" stroke=\"#000000\" stroke-opacity=\"1\" stroke-width=\"3.2\"/>\n",
       "<circle clip-path=\"url(#clip075)\" cx=\"1680.54\" cy=\"939.025\" r=\"14\" fill=\"#009af9\" fill-rule=\"evenodd\" fill-opacity=\"1\" stroke=\"#000000\" stroke-opacity=\"1\" stroke-width=\"3.2\"/>\n",
       "<circle clip-path=\"url(#clip075)\" cx=\"1721.04\" cy=\"968.671\" r=\"14\" fill=\"#009af9\" fill-rule=\"evenodd\" fill-opacity=\"1\" stroke=\"#000000\" stroke-opacity=\"1\" stroke-width=\"3.2\"/>\n",
       "<circle clip-path=\"url(#clip075)\" cx=\"1761.53\" cy=\"997.407\" r=\"14\" fill=\"#009af9\" fill-rule=\"evenodd\" fill-opacity=\"1\" stroke=\"#000000\" stroke-opacity=\"1\" stroke-width=\"3.2\"/>\n",
       "<circle clip-path=\"url(#clip075)\" cx=\"1802.03\" cy=\"1027.68\" r=\"14\" fill=\"#009af9\" fill-rule=\"evenodd\" fill-opacity=\"1\" stroke=\"#000000\" stroke-opacity=\"1\" stroke-width=\"3.2\"/>\n",
       "<circle clip-path=\"url(#clip075)\" cx=\"1842.52\" cy=\"1062.76\" r=\"14\" fill=\"#009af9\" fill-rule=\"evenodd\" fill-opacity=\"1\" stroke=\"#000000\" stroke-opacity=\"1\" stroke-width=\"3.2\"/>\n",
       "<circle clip-path=\"url(#clip075)\" cx=\"1883.02\" cy=\"1099.82\" r=\"14\" fill=\"#009af9\" fill-rule=\"evenodd\" fill-opacity=\"1\" stroke=\"#000000\" stroke-opacity=\"1\" stroke-width=\"3.2\"/>\n",
       "<circle clip-path=\"url(#clip075)\" cx=\"1923.51\" cy=\"1132\" r=\"14\" fill=\"#009af9\" fill-rule=\"evenodd\" fill-opacity=\"1\" stroke=\"#000000\" stroke-opacity=\"1\" stroke-width=\"3.2\"/>\n",
       "<circle clip-path=\"url(#clip075)\" cx=\"1964\" cy=\"1177.25\" r=\"14\" fill=\"#009af9\" fill-rule=\"evenodd\" fill-opacity=\"1\" stroke=\"#000000\" stroke-opacity=\"1\" stroke-width=\"3.2\"/>\n",
       "<circle clip-path=\"url(#clip075)\" cx=\"2004.5\" cy=\"1232.78\" r=\"14\" fill=\"#009af9\" fill-rule=\"evenodd\" fill-opacity=\"1\" stroke=\"#000000\" stroke-opacity=\"1\" stroke-width=\"3.2\"/>\n",
       "<circle clip-path=\"url(#clip075)\" cx=\"2044.99\" cy=\"1299\" r=\"14\" fill=\"#009af9\" fill-rule=\"evenodd\" fill-opacity=\"1\" stroke=\"#000000\" stroke-opacity=\"1\" stroke-width=\"3.2\"/>\n",
       "<circle clip-path=\"url(#clip075)\" cx=\"2085.49\" cy=\"1341.44\" r=\"14\" fill=\"#009af9\" fill-rule=\"evenodd\" fill-opacity=\"1\" stroke=\"#000000\" stroke-opacity=\"1\" stroke-width=\"3.2\"/>\n",
       "<circle clip-path=\"url(#clip075)\" cx=\"2125.98\" cy=\"1395.24\" r=\"14\" fill=\"#009af9\" fill-rule=\"evenodd\" fill-opacity=\"1\" stroke=\"#000000\" stroke-opacity=\"1\" stroke-width=\"3.2\"/>\n",
       "<circle clip-path=\"url(#clip075)\" cx=\"2166.48\" cy=\"1393.1\" r=\"14\" fill=\"#009af9\" fill-rule=\"evenodd\" fill-opacity=\"1\" stroke=\"#000000\" stroke-opacity=\"1\" stroke-width=\"3.2\"/>\n",
       "<circle clip-path=\"url(#clip075)\" cx=\"2206.97\" cy=\"1390\" r=\"14\" fill=\"#009af9\" fill-rule=\"evenodd\" fill-opacity=\"1\" stroke=\"#000000\" stroke-opacity=\"1\" stroke-width=\"3.2\"/>\n",
       "<circle clip-path=\"url(#clip075)\" cx=\"2247.47\" cy=\"1388.2\" r=\"14\" fill=\"#009af9\" fill-rule=\"evenodd\" fill-opacity=\"1\" stroke=\"#000000\" stroke-opacity=\"1\" stroke-width=\"3.2\"/>\n",
       "<circle clip-path=\"url(#clip075)\" cx=\"2287.96\" cy=\"1395.52\" r=\"14\" fill=\"#009af9\" fill-rule=\"evenodd\" fill-opacity=\"1\" stroke=\"#000000\" stroke-opacity=\"1\" stroke-width=\"3.2\"/>\n",
       "<circle clip-path=\"url(#clip075)\" cx=\"2328.46\" cy=\"1409.04\" r=\"14\" fill=\"#009af9\" fill-rule=\"evenodd\" fill-opacity=\"1\" stroke=\"#000000\" stroke-opacity=\"1\" stroke-width=\"3.2\"/>\n",
       "<polyline clip-path=\"url(#clip075)\" style=\"stroke:#ffa500; stroke-width:8; stroke-opacity:1; fill:none\" stroke-dasharray=\"32, 20\" points=\"\n",
       "  1518.56,1132 1559.06,1132 1599.55,1132 1640.05,1132 1680.54,1132 1721.04,1132 1761.53,1132 1802.03,1132 1842.52,1132 1883.02,1132 \n",
       "  1923.51,1132 1964,1132 2004.5,1132 2044.99,1132 2085.49,1132 2125.98,1132 2166.48,1132 2206.97,1132 2247.47,1132 2287.96,1132 \n",
       "  2328.46,1132 \n",
       "  \"/>\n",
       "</svg>\n"
      ]
     },
     "execution_count": 130,
     "metadata": {},
     "output_type": "execute_result"
    }
   ],
   "source": [
    "node = 1\n",
    "t = 1\n",
    "varName = 'g'\n",
    "unit = 1\n",
    "npoints = 10\n",
    "rel_inc = 1e-1\n",
    "\n",
    "plts = []\n",
    "for node in 1:n\n",
    "    subplt = plot_sensitivity_check(dnet, d_dyn, node, t; varName=varName, unit=unit, \n",
    "        npoints=npoints, rel_inc=rel_inc)\n",
    "    plot!(subplt, legend=false, title=\"node = $node\")\n",
    "    push!(plts, subplt)\n",
    "end\n",
    "\n",
    "@show unit\n",
    "plot(plts..., )"
   ]
  },
  {
   "cell_type": "code",
   "execution_count": 131,
   "id": "legal-north",
   "metadata": {},
   "outputs": [],
   "source": [
    "## plot_sensitivity_check(dnet, d_dyn, node, t; varName=varName, unit=unit, npoints=npoints, rel_inc=rel_inc)"
   ]
  },
  {
   "cell_type": "code",
   "execution_count": 92,
   "id": "returning-outside",
   "metadata": {},
   "outputs": [],
   "source": [
    "solve!(dmin, OPT)"
   ]
  },
  {
   "cell_type": "code",
   "execution_count": 93,
   "id": "specialized-champion",
   "metadata": {},
   "outputs": [
    {
     "data": {
      "text/plain": [
       "4×1 Matrix{Float64}:\n",
       " 7.360648551517557\n",
       " 5.188127017757075\n",
       " 9.092551197013341\n",
       " 6.884838091727627"
      ]
     },
     "execution_count": 93,
     "metadata": {},
     "output_type": "execute_result"
    }
   ],
   "source": [
    "dmin.g[t].value"
   ]
  },
  {
   "cell_type": "markdown",
   "id": "elementary-storm",
   "metadata": {},
   "source": [
    "---"
   ]
  },
  {
   "cell_type": "markdown",
   "id": "mysterious-survivor",
   "metadata": {},
   "source": [
    "# Plot results\n",
    "\n",
    "`GraphPlot` is only for making simple plots. To do more advanced things (like the plot in the carbon accounting paper), we'll need to draw the graph manually.\n",
    "\n",
    "For now, I'm going to make some simple diagnostic plots."
   ]
  },
  {
   "cell_type": "markdown",
   "id": "sufficient-communications",
   "metadata": {},
   "source": [
    "## Plot demand, generation, and LMPs\n",
    "\n",
    "Here, the LMPs are carbon LMPs."
   ]
  },
  {
   "cell_type": "code",
   "execution_count": null,
   "id": "relative-partition",
   "metadata": {},
   "outputs": [],
   "source": [
    "λ = get_lmps(carbon_min)  # <-- LMPs\n",
    "\n",
    "# Fancy colors\n",
    "gradient = cgrad(:inferno)\n",
    "lmp_colors = [get(gradient, λi/maximum(λ)) for λi in λ]\n",
    "\n",
    "\n",
    "plt1 = bar(d, label=nothing, c=:blue, ylabel=\"demand\")\n",
    "plt2 = bar(evaluate(carbon_min.g), label=nothing, c=:green, ylabel=\"generation\")\n",
    "plt3 = sticks(λ, label=nothing, ylabel=\"carbon LMP\", xlabel=\"node\")\n",
    "scatter!(plt3, λ, c=lmp_colors, label=nothing)\n",
    "\n",
    "plot(plt1, plt2, plt3, layout=(3, 1))"
   ]
  },
  {
   "cell_type": "markdown",
   "id": "russian-argentina",
   "metadata": {},
   "source": [
    "## Plot carbon LMPs\n",
    "\n",
    "Brighter is more carbon intensive. At the bright nodes (orange and yellow), increasing / decreasing demand has the greatest effect on total emissions."
   ]
  },
  {
   "cell_type": "code",
   "execution_count": null,
   "id": "needed-tactics",
   "metadata": {},
   "outputs": [],
   "source": [
    "Random.seed!(0)  # <-- For the node layout consistency\n",
    "plt = gplot(G, nodesize=nodesize, nodefillc=lmp_colors, edgelinewidth=edgelinewidth)"
   ]
  },
  {
   "cell_type": "markdown",
   "id": "dominican-wells",
   "metadata": {},
   "source": [
    "# Implicit diff"
   ]
  },
  {
   "cell_type": "code",
   "execution_count": null,
   "id": "opening-guitar",
   "metadata": {},
   "outputs": [],
   "source": [
    "using CarbonNetworks: kkt, flatten_variables\n",
    "\n",
    "Random.seed!(4)\n",
    "\n",
    "fq = 3 .+ rand(Exponential(3), l)  # generate monetary costs\n",
    "fl = 3 .+ rand(Exponential(3), l)\n",
    "\n",
    "# Solve cost minimization problem\n",
    "net = PowerNetwork(fq, fl, pmax, gmax, A, B)\n",
    "opf = PowerManagementProblem(net, d)\n",
    "solve!(opf, OPT, verbose=true)\n",
    "\n",
    "kkt_resid = kkt(flatten_variables(opf), net, d)\n",
    "@show norm(kkt_resid)"
   ]
  },
  {
   "cell_type": "code",
   "execution_count": null,
   "id": "related-snapshot",
   "metadata": {},
   "outputs": [],
   "source": [
    "sum(abs, evaluate(opf.p)) / sum(d)"
   ]
  },
  {
   "cell_type": "code",
   "execution_count": null,
   "id": "bearing-marketplace",
   "metadata": {},
   "outputs": [],
   "source": [
    "∇C = zeros(kkt_dims(n, m, l))\n",
    "∇C[1:l] .= cl\n",
    "\n",
    "mefs = sensitivity_demand(opf, ∇C, net, d)\n",
    "\n",
    "theme(:default, legend=false)\n",
    "plt1a = bar(evaluate(carbon_min.g), title=\"carbon min generation\", color=:green)\n",
    "plt1b = bar(get_lmps(carbon_min), title=\"carbon min LMP\", color=:yellow)\n",
    "plt2a = bar(evaluate(opf.g), title=\"opf generation\", color=:green)\n",
    "plt2b = bar(mefs, title=\"marginal emission factors\", color=:yellow)\n",
    "plot(plt1a, plt1b, plt2a, plt2b, layout=(2, 2), size=(700, 400))"
   ]
  },
  {
   "cell_type": "markdown",
   "id": "coordinate-shark",
   "metadata": {},
   "source": [
    "# Compute MEFs via regression"
   ]
  },
  {
   "cell_type": "code",
   "execution_count": null,
   "id": "smooth-lloyd",
   "metadata": {},
   "outputs": [],
   "source": [
    "using CarbonNetworks: solve_pmp\n",
    "\n",
    "Random.seed!(14)\n",
    "\n",
    "num_cases = 1000\n",
    "ϵ = 0.05\n",
    "\n",
    "d_hidden = rand(Uniform(0.3, 0.7), n) .* (B*gmax)\n",
    "\n",
    "flows = []\n",
    "cases = []\n",
    "for _ in 1:num_cases\n",
    "    d_hidden *= rand(Uniform(0.95, 1.05))\n",
    "    d_obs = d_hidden + ϵ*randn(n)\n",
    "    \n",
    "    g, pmp, _ = solve_pmp(fq, fl, d_obs, pmax, gmax, A, B)\n",
    "    if Int(pmp.problem.status) ∉ [1, 7]\n",
    "        @show pmp.problem.status\n",
    "    end\n",
    "    \n",
    "    push!(cases, (d=d_obs, g=g, pmp=pmp))\n",
    "    push!(flows, sum(abs, evaluate(pmp.p)) / sum(g))\n",
    "end"
   ]
  },
  {
   "cell_type": "code",
   "execution_count": null,
   "id": "dependent-longitude",
   "metadata": {},
   "outputs": [],
   "source": [
    "Random.seed!(41)\n",
    "inds = sample(1:n, 5, replace=false)\n",
    "\n",
    "theme(:default, label=nothing, lw=4)\n",
    "plot([d[i] for (d, g) in cases, i in inds], labels=inds')"
   ]
  },
  {
   "cell_type": "code",
   "execution_count": null,
   "id": "developed-piano",
   "metadata": {},
   "outputs": [],
   "source": [
    "E = [B * (cl .* g) for (d, g) in cases]\n",
    "\n",
    "Δd = hcat([cases[t].d - cases[t-1].d for t in 2:num_cases]...)\n",
    "ΔE = hcat([E[t] - E[t-1] for t in 2:num_cases]...);"
   ]
  },
  {
   "cell_type": "code",
   "execution_count": null,
   "id": "packed-modification",
   "metadata": {},
   "outputs": [],
   "source": [
    "theme(:default, label=nothing)\n",
    "\n",
    "plts = []\n",
    "for i in 1:n\n",
    "    μi = Δd[i, :] \\ ΔE[i, :]\n",
    "    ΔE_est = Δd[i, :] * μi\n",
    "    correlation = cor(ΔE_est, ΔE[i, :])\n",
    "\n",
    "    #@show correlation\n",
    "    #@show μi\n",
    "\n",
    "    μi_diffs = []\n",
    "\n",
    "    for case in cases[1:100]\n",
    "        params = (fq, fl, case.d, pmax, gmax, A)\n",
    "        ∇C = zeros(kkt_dims(n, m, l))\n",
    "        ∇C[1:l] .= cl\n",
    "\n",
    "        mefs = sensitivity_demand(case.pmp, ∇C, net, case.d)\n",
    "        push!(μi_diffs, mefs[i])\n",
    "    end\n",
    "    μi_diff = mean(μi_diffs)\n",
    "\n",
    "    #@show μi_diff\n",
    "    @show i, minimum(μi_diffs), maximum(μi_diffs)\n",
    "    # println()\n",
    "\n",
    "    x_coords = Δd[i, :]\n",
    "    \n",
    "    label = (i > 1) ? nothing : \"mean mef\"\n",
    "    label2 = (i > 1) ? nothing : \"max mef\"\n",
    "    \n",
    "    sim_mean = μi_diff*x_coords\n",
    "    sim_max = maximum(μi_diffs)*x_coords\n",
    "    sim_min = minimum(μi_diffs)*x_coords\n",
    "\n",
    "    plt = scatter(x_coords, ΔE[i, :], xlabel=\"Δd\", ylabel=\"ΔE\", ms=2, title=\"$i\")\n",
    "    plot!(plt, x_coords, ΔE_est, lw=2) #, label=\"r2=$(round(correlation, digits=2))\", legend=:topleft)\n",
    "    plot!(plt, x_coords, sim_mean, lw=2, label=label, legend=:topleft, color=:Green)\n",
    "    plot!(plt, x_coords, maximum(μi_diffs)*x_coords, lw=2, label=label2, color=:Cyan, ls=:dot)\n",
    "    plot!(plt, x_coords, minimum(μi_diffs)*x_coords, lw=2, label=label2, color=:Cyan, ls=:dot)\n",
    "    push!(plts, plt)\n",
    "end\n",
    "\n",
    "plot(plts..., layout=(2, 5), size=(900, 450))"
   ]
  },
  {
   "cell_type": "code",
   "execution_count": null,
   "id": "professional-houston",
   "metadata": {},
   "outputs": [],
   "source": [
    "edges_15 = findall(x -> x != 0, A[15, :])\n",
    "edges_16 = findall(x -> x != 0, A[16, :])\n",
    "@show edges_15 edges_16\n",
    "\n",
    "#heatmap(Matrix(neighbors), c=:grays, yflip=true)\n",
    "plot()\n",
    "bar(pmax)\n",
    "bar!(evaluate(cases[100].pmp.p), xticks=([30 34 40], [30, 34, 40]))\n"
   ]
  }
 ],
 "metadata": {
  "kernelspec": {
   "display_name": "Julia 1.6.0",
   "language": "julia",
   "name": "julia-1.6"
  },
  "language_info": {
   "file_extension": ".jl",
   "mimetype": "application/julia",
   "name": "julia",
   "version": "1.6.1"
  },
  "toc": {
   "base_numbering": 1,
   "nav_menu": {},
   "number_sections": true,
   "sideBar": true,
   "skip_h1_title": false,
   "title_cell": "Table of Contents",
   "title_sidebar": "Contents",
   "toc_cell": true,
   "toc_position": {
    "height": "calc(100% - 180px)",
    "left": "10px",
    "top": "150px",
    "width": "165px"
   },
   "toc_section_display": true,
   "toc_window_display": true
  },
  "varInspector": {
   "cols": {
    "lenName": 16,
    "lenType": 16,
    "lenVar": 40
   },
   "kernels_config": {
    "python": {
     "delete_cmd_postfix": "",
     "delete_cmd_prefix": "del ",
     "library": "var_list.py",
     "varRefreshCmd": "print(var_dic_list())"
    },
    "r": {
     "delete_cmd_postfix": ") ",
     "delete_cmd_prefix": "rm(",
     "library": "var_list.r",
     "varRefreshCmd": "cat(var_dic_list()) "
    }
   },
   "types_to_exclude": [
    "module",
    "function",
    "builtin_function_or_method",
    "instance",
    "_Feature"
   ],
   "window_display": false
  }
 },
 "nbformat": 4,
 "nbformat_minor": 5
}
