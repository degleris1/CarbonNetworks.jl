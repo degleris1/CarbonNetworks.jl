{
 "cells": [
  {
   "cell_type": "markdown",
   "metadata": {
    "toc": true
   },
   "source": [
    "<h1>Table of Contents<span class=\"tocSkip\"></span></h1>\n",
    "<div class=\"toc\"><ul class=\"toc-item\"><li><span><a href=\"#Generate-some-random-data\" data-toc-modified-id=\"Generate-some-random-data-1\"><span class=\"toc-item-num\">1&nbsp;&nbsp;</span>Generate some random data</a></span></li><li><span><a href=\"#Solve-the-carbon-management-problem\" data-toc-modified-id=\"Solve-the-carbon-management-problem-2\"><span class=\"toc-item-num\">2&nbsp;&nbsp;</span>Solve the carbon management problem</a></span></li><li><span><a href=\"#Test-the-dynamic-network\" data-toc-modified-id=\"Test-the-dynamic-network-3\"><span class=\"toc-item-num\">3&nbsp;&nbsp;</span>Test the dynamic network</a></span><ul class=\"toc-item\"><li><span><a href=\"#One-single-timestep,-with-no-battery-capacity\" data-toc-modified-id=\"One-single-timestep,-with-no-battery-capacity-3.1\"><span class=\"toc-item-num\">3.1&nbsp;&nbsp;</span>One single timestep, with no battery capacity</a></span></li><li><span><a href=\"#Several-timesteps,-with-no-battery-capacity\" data-toc-modified-id=\"Several-timesteps,-with-no-battery-capacity-3.2\"><span class=\"toc-item-num\">3.2&nbsp;&nbsp;</span>Several timesteps, with no battery capacity</a></span></li><li><span><a href=\"#Several-timesteps,-with-battery-capacity\" data-toc-modified-id=\"Several-timesteps,-with-battery-capacity-3.3\"><span class=\"toc-item-num\">3.3&nbsp;&nbsp;</span>Several timesteps, with battery capacity</a></span></li><li><span><a href=\"#Several-timesteps,-with-battery-capacity-and-varying-demand\" data-toc-modified-id=\"Several-timesteps,-with-battery-capacity-and-varying-demand-3.4\"><span class=\"toc-item-num\">3.4&nbsp;&nbsp;</span>Several timesteps, with battery capacity and varying demand</a></span></li></ul></li><li><span><a href=\"#Computing-the-KKTs-and-the-Jacobian\" data-toc-modified-id=\"Computing-the-KKTs-and-the-Jacobian-4\"><span class=\"toc-item-num\">4&nbsp;&nbsp;</span>Computing the KKTs and the Jacobian</a></span><ul class=\"toc-item\"><li><span><a href=\"#Figuring-out-the-order-of-constraints/variables\" data-toc-modified-id=\"Figuring-out-the-order-of-constraints/variables-4.1\"><span class=\"toc-item-num\">4.1&nbsp;&nbsp;</span>Figuring out the order of constraints/variables</a></span></li></ul></li><li><span><a href=\"#Sensitivity-demand-checks\" data-toc-modified-id=\"Sensitivity-demand-checks-5\"><span class=\"toc-item-num\">5&nbsp;&nbsp;</span>Sensitivity demand checks</a></span><ul class=\"toc-item\"><li><span><a href=\"#One-timestep\" data-toc-modified-id=\"One-timestep-5.1\"><span class=\"toc-item-num\">5.1&nbsp;&nbsp;</span>One timestep</a></span><ul class=\"toc-item\"><li><span><a href=\"#Comparing-static-vs-dynamic\" data-toc-modified-id=\"Comparing-static-vs-dynamic-5.1.1\"><span class=\"toc-item-num\">5.1.1&nbsp;&nbsp;</span>Comparing static vs dynamic</a></span></li><li><span><a href=\"#Comparing-with-dual-variables\" data-toc-modified-id=\"Comparing-with-dual-variables-5.1.2\"><span class=\"toc-item-num\">5.1.2&nbsp;&nbsp;</span>Comparing with dual variables</a></span></li></ul></li><li><span><a href=\"#Several-timesteps-with-no-storage-capacity\" data-toc-modified-id=\"Several-timesteps-with-no-storage-capacity-5.2\"><span class=\"toc-item-num\">5.2&nbsp;&nbsp;</span>Several timesteps with no storage capacity</a></span><ul class=\"toc-item\"><li><span><a href=\"#Comparing-static-vs-dynamic\" data-toc-modified-id=\"Comparing-static-vs-dynamic-5.2.1\"><span class=\"toc-item-num\">5.2.1&nbsp;&nbsp;</span>Comparing static vs dynamic</a></span></li><li><span><a href=\"#Comparing-with-dual-variables\" data-toc-modified-id=\"Comparing-with-dual-variables-5.2.2\"><span class=\"toc-item-num\">5.2.2&nbsp;&nbsp;</span>Comparing with dual variables</a></span></li></ul></li></ul></li><li><span><a href=\"#Plot-results\" data-toc-modified-id=\"Plot-results-6\"><span class=\"toc-item-num\">6&nbsp;&nbsp;</span>Plot results</a></span><ul class=\"toc-item\"><li><span><a href=\"#Plot-demand,-generation,-and-LMPs\" data-toc-modified-id=\"Plot-demand,-generation,-and-LMPs-6.1\"><span class=\"toc-item-num\">6.1&nbsp;&nbsp;</span>Plot demand, generation, and LMPs</a></span></li><li><span><a href=\"#Plot-carbon-LMPs\" data-toc-modified-id=\"Plot-carbon-LMPs-6.2\"><span class=\"toc-item-num\">6.2&nbsp;&nbsp;</span>Plot carbon LMPs</a></span></li></ul></li><li><span><a href=\"#Implicit-diff\" data-toc-modified-id=\"Implicit-diff-7\"><span class=\"toc-item-num\">7&nbsp;&nbsp;</span>Implicit diff</a></span></li><li><span><a href=\"#Compute-MEFs-via-regression\" data-toc-modified-id=\"Compute-MEFs-via-regression-8\"><span class=\"toc-item-num\">8&nbsp;&nbsp;</span>Compute MEFs via regression</a></span></li></ul></div>"
   ]
  },
  {
   "cell_type": "code",
<<<<<<< Updated upstream
   "execution_count": 241,
=======
   "execution_count": 1,
<<<<<<< Updated upstream
<<<<<<< Updated upstream
>>>>>>> Stashed changes
=======
>>>>>>> Stashed changes
=======
>>>>>>> Stashed changes
   "metadata": {},
   "outputs": [
    {
     "name": "stderr",
     "output_type": "stream",
     "text": [
      "\u001b[32m\u001b[1m  Activating\u001b[22m\u001b[39m environment at `~/.julia/environments/v1.6/Project.toml`\n"
     ]
    },
    {
     "data": {
      "text/plain": [
<<<<<<< Updated upstream
<<<<<<< Updated upstream
<<<<<<< Updated upstream
       "#179 (generic function with 1 method)"
=======
       "#5 (generic function with 1 method)"
>>>>>>> Stashed changes
=======
       "#5 (generic function with 1 method)"
>>>>>>> Stashed changes
=======
       "#5 (generic function with 1 method)"
>>>>>>> Stashed changes
      ]
     },
     "execution_count": 241,
     "metadata": {},
     "output_type": "execute_result"
    }
   ],
   "source": [
    "using Pkg; Pkg.activate()\n",
    "\n",
    "using Plots\n",
    "using Convex, ECOS  # Convex modeling and solver\n",
    "using Distributions, Random  # Seeds and sampling\n",
    "using LightGraphs  # Generating nice random graphs\n",
    "using GraphPlot, Colors  # For plotting\n",
    "using SparseArrays\n",
    "\n",
    "OPT = () -> ECOS.Optimizer(verbose=false)"
   ]
  },
  {
   "cell_type": "code",
<<<<<<< Updated upstream
   "execution_count": 242,
=======
   "execution_count": 2,
<<<<<<< Updated upstream
<<<<<<< Updated upstream
>>>>>>> Stashed changes
=======
>>>>>>> Stashed changes
=======
>>>>>>> Stashed changes
   "metadata": {},
   "outputs": [],
   "source": [
    "using Revise\n",
    "using CarbonNetworks"
   ]
  },
  {
   "cell_type": "markdown",
   "metadata": {},
   "source": [
    "# Generate some random data"
   ]
  },
  {
   "cell_type": "code",
<<<<<<< Updated upstream
   "execution_count": 243,
=======
   "execution_count": 3,
<<<<<<< Updated upstream
<<<<<<< Updated upstream
>>>>>>> Stashed changes
=======
>>>>>>> Stashed changes
=======
>>>>>>> Stashed changes
   "metadata": {},
   "outputs": [
    {
     "data": {
      "image/svg+xml": [
       "<?xml version=\"1.0\" encoding=\"UTF-8\"?>\n",
       "<svg xmlns=\"http://www.w3.org/2000/svg\"\n",
       "     xmlns:xlink=\"http://www.w3.org/1999/xlink\"\n",
       "     version=\"1.2\"\n",
       "     width=\"141.42mm\" height=\"100mm\" viewBox=\"0 0 141.42 100\"\n",
       "     stroke=\"none\"\n",
       "     fill=\"#000000\"\n",
       "     stroke-width=\"0.3\"\n",
       "     font-size=\"3.88\"\n",
       ">\n",
       "<defs>\n",
       "  <marker id=\"arrow\" markerWidth=\"15\" markerHeight=\"7\" refX=\"5\" refY=\"3.5\" orient=\"auto\" markerUnits=\"strokeWidth\">\n",
       "    <path d=\"M0,0 L15,3.5 L0,7 z\" stroke=\"context-stroke\" fill=\"context-stroke\"/>\n",
       "  </marker>\n",
       "</defs>\n",
<<<<<<< Updated upstream
<<<<<<< Updated upstream
<<<<<<< Updated upstream
       "<g fill=\"#000000\" fill-opacity=\"0.000\" stroke=\"#D3D3D3\" id=\"img-a920c63f-1\">\n",
=======
       "<g fill=\"#000000\" fill-opacity=\"0.000\" stroke=\"#D3D3D3\" id=\"img-97b03919-1\">\n",
>>>>>>> Stashed changes
=======
       "<g fill=\"#000000\" fill-opacity=\"0.000\" stroke=\"#D3D3D3\" id=\"img-97b03919-1\">\n",
>>>>>>> Stashed changes
=======
       "<g fill=\"#000000\" fill-opacity=\"0.000\" stroke=\"#D3D3D3\" id=\"img-97b03919-1\">\n",
>>>>>>> Stashed changes
       "  <g transform=\"translate(68.66,78.06)\" stroke-width=\"0.38\">\n",
       "    <path fill=\"none\" d=\"M5.25,-1.16 L-5.25,1.16 \" class=\"primitive\"/>\n",
       "  </g>\n",
       "  <g transform=\"translate(76.38,71.46)\" stroke-width=\"0.55\">\n",
       "    <path fill=\"none\" d=\"M-0.97,4.21 L0.97,-4.21 \" class=\"primitive\"/>\n",
       "  </g>\n",
       "  <g transform=\"translate(77.72,80.65)\" stroke-width=\"0.17\">\n",
       "    <path fill=\"none\" d=\"M-1.98,-3.17 L1.98,3.17 \" class=\"primitive\"/>\n",
       "  </g>\n",
       "  <g transform=\"translate(54.68,79.14)\" stroke-width=\"0.32\">\n",
       "    <path fill=\"none\" d=\"M5.32,0.34 L-5.32,-0.34 \" class=\"primitive\"/>\n",
       "  </g>\n",
       "  <g transform=\"translate(42,76.35)\" stroke-width=\"0.28\">\n",
       "    <path fill=\"none\" d=\"M4.29,1.75 L-4.29,-1.75 \" class=\"primitive\"/>\n",
       "  </g>\n",
       "  <g transform=\"translate(28.97,73.64)\" stroke-width=\"0.16\">\n",
       "    <path fill=\"none\" d=\"M6.24,0.39 L-6.24,-0.39 \" class=\"primitive\"/>\n",
       "  </g>\n",
       "  <g transform=\"translate(15.71,69.99)\" stroke-width=\"0.1\">\n",
       "    <path fill=\"none\" d=\"M2.85,1.92 L-2.85,-1.92 \" class=\"primitive\"/>\n",
       "  </g>\n",
       "  <g transform=\"translate(18.19,75.83)\" stroke-width=\"0.46\">\n",
       "    <path fill=\"none\" d=\"M0.96,-1.23 L-0.96,1.23 \" class=\"primitive\"/>\n",
       "  </g>\n",
       "  <g transform=\"translate(13.6,64.21)\" stroke-width=\"0.17\">\n",
       "    <path fill=\"none\" d=\"M-1.25,2.15 L1.25,-2.15 \" class=\"primitive\"/>\n",
       "  </g>\n",
       "  <g transform=\"translate(21.65,59.95)\" stroke-width=\"0.14\">\n",
       "    <path fill=\"none\" d=\"M-4.99,0.98 L4.99,-0.98 \" class=\"primitive\"/>\n",
       "  </g>\n",
       "  <g transform=\"translate(36.38,59.19)\" stroke-width=\"0.04\">\n",
       "    <path fill=\"none\" d=\"M-5.99,-0.44 L5.99,0.44 \" class=\"primitive\"/>\n",
       "  </g>\n",
       "  <g transform=\"translate(52.2,61.12)\" stroke-width=\"0.22\">\n",
       "    <path fill=\"none\" d=\"M-6.19,-1.05 L6.19,1.05 \" class=\"primitive\"/>\n",
       "  </g>\n",
       "  <g transform=\"translate(69.49,64.32)\" stroke-width=\"0.14\">\n",
       "    <path fill=\"none\" d=\"M-6.38,-1.29 L6.38,1.29 \" class=\"primitive\"/>\n",
       "  </g>\n",
       "  <g transform=\"translate(84.96,61.78)\" stroke-width=\"0.25\">\n",
       "    <path fill=\"none\" d=\"M-5.89,3.37 L5.89,-3.37 \" class=\"primitive\"/>\n",
       "  </g>\n",
       "  <g transform=\"translate(87.23,53.79)\" stroke-width=\"0.17\">\n",
       "    <path fill=\"none\" d=\"M-3.8,-2.89 L3.8,2.89 \" class=\"primitive\"/>\n",
       "  </g>\n",
       "  <g transform=\"translate(76.98,47.06)\" stroke-width=\"0.12\">\n",
       "    <path fill=\"none\" d=\"M4.19,2.36 L-4.19,-2.36 \" class=\"primitive\"/>\n",
       "  </g>\n",
       "  <g transform=\"translate(102.56,56.81)\" stroke-width=\"0.08\">\n",
       "    <path fill=\"none\" d=\"M-8.52,0.66 L8.52,-0.66 \" class=\"primitive\"/>\n",
       "  </g>\n",
       "  <g transform=\"translate(110.79,11.56)\" stroke-width=\"0.52\">\n",
       "    <path fill=\"none\" d=\"M-0.87,-1.6 L0.87,1.6 \" class=\"primitive\"/>\n",
       "  </g>\n",
       "  <g transform=\"translate(115.41,17.19)\" stroke-width=\"0.44\">\n",
       "    <path fill=\"none\" d=\"M-2.48,-2.38 L2.48,2.38 \" class=\"primitive\"/>\n",
       "  </g>\n",
       "  <g transform=\"translate(121.75,24.44)\" stroke-width=\"0.2\">\n",
       "    <path fill=\"none\" d=\"M-2.19,-2.98 L2.19,2.98 \" class=\"primitive\"/>\n",
       "  </g>\n",
       "  <g transform=\"translate(125.19,32.66)\" stroke-width=\"0.16\">\n",
       "    <path fill=\"none\" d=\"M-0.34,-3.01 L0.34,3.01 \" class=\"primitive\"/>\n",
       "  </g>\n",
       "  <g transform=\"translate(123.17,26.93)\" stroke-width=\"0.54\">\n",
       "    <path fill=\"none\" d=\"M0.58,0.57 L-0.58,-0.57 \" class=\"primitive\"/>\n",
       "  </g>\n",
       "  <g transform=\"translate(123.52,42.49)\" stroke-width=\"0.13\">\n",
       "    <path fill=\"none\" d=\"M1.4,-3.12 L-1.4,3.12 \" class=\"primitive\"/>\n",
       "  </g>\n",
       "  <g transform=\"translate(117.56,51.19)\" stroke-width=\"0.53\">\n",
       "    <path fill=\"none\" d=\"M3.19,-3.52 L-3.19,3.52 \" class=\"primitive\"/>\n",
       "  </g>\n",
       "  <g transform=\"translate(118.7,59.89)\" stroke-width=\"0.24\">\n",
       "    <path fill=\"none\" d=\"M-3.98,-2.84 L3.98,2.84 \" class=\"primitive\"/>\n",
       "  </g>\n",
       "  <g transform=\"translate(65.37,41.8)\" stroke-width=\"0.52\">\n",
       "    <path fill=\"none\" d=\"M-3.97,-1.37 L3.97,1.37 \" class=\"primitive\"/>\n",
       "  </g>\n",
       "  <g transform=\"translate(128.74,75.31)\" stroke-width=\"0.09\">\n",
       "    <path fill=\"none\" d=\"M-0.6,2.48 L0.6,-2.48 \" class=\"primitive\"/>\n",
       "  </g>\n",
       "  <g transform=\"translate(126.8,67.63)\" stroke-width=\"0.46\">\n",
       "    <path fill=\"none\" d=\"M2.05,2.87 L-2.05,-2.87 \" class=\"primitive\"/>\n",
       "  </g>\n",
       "  <g transform=\"translate(18.95,80.32)\" stroke-width=\"0.06\">\n",
       "    <path fill=\"none\" d=\"M1.34,1.03 L-1.34,-1.03 \" class=\"primitive\"/>\n",
       "  </g>\n",
       "  <g transform=\"translate(82.6,88.74)\" stroke-width=\"0.18\">\n",
       "    <path fill=\"none\" d=\"M1.18,2.04 L-1.18,-2.04 \" class=\"primitive\"/>\n",
       "  </g>\n",
       "</g>\n",
<<<<<<< Updated upstream
<<<<<<< Updated upstream
<<<<<<< Updated upstream
       "<g stroke=\"#D3D3D3\" id=\"img-a920c63f-2\">\n",
       "</g>\n",
       "<g font-size=\"4\" stroke=\"#000000\" stroke-opacity=\"0.000\" fill=\"#000000\" id=\"img-a920c63f-3\">\n",
       "</g>\n",
       "<g stroke-width=\"0\" stroke=\"#000000\" stroke-opacity=\"0.000\" id=\"img-a920c63f-4\">\n",
=======
=======
>>>>>>> Stashed changes
       "<g stroke=\"#D3D3D3\" id=\"img-97b03919-2\">\n",
       "</g>\n",
       "<g font-size=\"4\" stroke=\"#000000\" stroke-opacity=\"0.000\" fill=\"#000000\" id=\"img-97b03919-3\">\n",
       "</g>\n",
       "<g stroke-width=\"0\" stroke=\"#000000\" stroke-opacity=\"0.000\" id=\"img-97b03919-4\">\n",
<<<<<<< Updated upstream
>>>>>>> Stashed changes
=======
>>>>>>> Stashed changes
=======
       "<g stroke=\"#D3D3D3\" id=\"img-97b03919-2\">\n",
       "</g>\n",
       "<g font-size=\"4\" stroke=\"#000000\" stroke-opacity=\"0.000\" fill=\"#000000\" id=\"img-97b03919-3\">\n",
       "</g>\n",
       "<g stroke-width=\"0\" stroke=\"#000000\" stroke-opacity=\"0.000\" id=\"img-97b03919-4\">\n",
>>>>>>> Stashed changes
       "  <g transform=\"translate(75.19,76.61)\" fill=\"#B02800\">\n",
       "    <circle cx=\"0\" cy=\"0\" r=\"1.29\" class=\"primitive\"/>\n",
       "  </g>\n",
       "  <g transform=\"translate(61.74,79.59)\" fill=\"#823F00\">\n",
       "    <circle cx=\"0\" cy=\"0\" r=\"1.68\" class=\"primitive\"/>\n",
       "  </g>\n",
       "  <g transform=\"translate(47.71,78.69)\" fill=\"#A42E00\">\n",
       "    <circle cx=\"0\" cy=\"0\" r=\"1.59\" class=\"primitive\"/>\n",
       "  </g>\n",
       "  <g transform=\"translate(36.55,74.12)\" fill=\"#764500\">\n",
       "    <circle cx=\"0\" cy=\"0\" r=\"1.29\" class=\"primitive\"/>\n",
       "  </g>\n",
       "  <g transform=\"translate(20.31,73.09)\" fill=\"#A32E00\">\n",
       "    <circle cx=\"0\" cy=\"0\" r=\"2.33\" class=\"primitive\"/>\n",
       "  </g>\n",
       "  <g transform=\"translate(11.79,67.34)\" fill=\"#147600\">\n",
       "    <circle cx=\"0\" cy=\"0\" r=\"1.42\" class=\"primitive\"/>\n",
       "  </g>\n",
       "  <g transform=\"translate(15.36,61.18)\" fill=\"#A82C00\">\n",
       "    <circle cx=\"0\" cy=\"0\" r=\"1.29\" class=\"primitive\"/>\n",
       "  </g>\n",
       "  <g transform=\"translate(28.48,58.6)\" fill=\"#FF0000\">\n",
       "    <circle cx=\"0\" cy=\"0\" r=\"1.84\" class=\"primitive\"/>\n",
       "  </g>\n",
       "  <g transform=\"translate(44.21,59.77)\" fill=\"#724700\">\n",
       "    <circle cx=\"0\" cy=\"0\" r=\"1.78\" class=\"primitive\"/>\n",
       "  </g>\n",
       "  <g transform=\"translate(60.76,62.57)\" fill=\"#236E00\">\n",
       "    <circle cx=\"0\" cy=\"0\" r=\"2.34\" class=\"primitive\"/>\n",
       "  </g>\n",
       "  <g transform=\"translate(77.64,65.96)\" fill=\"#406000\">\n",
       "    <circle cx=\"0\" cy=\"0\" r=\"1.76\" class=\"primitive\"/>\n",
       "  </g>\n",
       "  <g transform=\"translate(82.38,50.1)\" fill=\"#F30600\">\n",
       "    <circle cx=\"0\" cy=\"0\" r=\"1.48\" class=\"primitive\"/>\n",
       "  </g>\n",
       "  <g transform=\"translate(92.25,57.61)\" fill=\"#4F5800\">\n",
       "    <circle cx=\"0\" cy=\"0\" r=\"1.73\" class=\"primitive\"/>\n",
       "  </g>\n",
       "  <g transform=\"translate(109.04,8.33)\" fill=\"#8D3900\">\n",
       "    <circle cx=\"0\" cy=\"0\" r=\"2.36\" class=\"primitive\"/>\n",
       "  </g>\n",
       "  <g transform=\"translate(112.13,14.05)\" fill=\"#C11F00\">\n",
       "    <circle cx=\"0\" cy=\"0\" r=\"1.29\" class=\"primitive\"/>\n",
       "  </g>\n",
       "  <g transform=\"translate(118.83,20.47)\" fill=\"#843E00\">\n",
       "    <circle cx=\"0\" cy=\"0\" r=\"1.52\" class=\"primitive\"/>\n",
       "  </g>\n",
       "  <g transform=\"translate(124.71,28.47)\" fill=\"#684C00\">\n",
       "    <circle cx=\"0\" cy=\"0\" r=\"1.61\" class=\"primitive\"/>\n",
       "  </g>\n",
       "  <g transform=\"translate(125.74,37.56)\" fill=\"#AB2A00\">\n",
       "    <circle cx=\"0\" cy=\"0\" r=\"2.58\" class=\"primitive\"/>\n",
       "  </g>\n",
       "  <g transform=\"translate(121.63,46.71)\" fill=\"#9C3200\">\n",
       "    <circle cx=\"0\" cy=\"0\" r=\"1.57\" class=\"primitive\"/>\n",
       "  </g>\n",
       "  <g transform=\"translate(113.21,55.98)\" fill=\"#913700\">\n",
       "    <circle cx=\"0\" cy=\"0\" r=\"2.05\" class=\"primitive\"/>\n",
       "  </g>\n",
       "  <g transform=\"translate(59.63,39.82)\" fill=\"#D21700\">\n",
       "    <circle cx=\"0\" cy=\"0\" r=\"1.89\" class=\"primitive\"/>\n",
       "  </g>\n",
       "  <g transform=\"translate(127.92,78.73)\" fill=\"#6A4B00\">\n",
       "    <circle cx=\"0\" cy=\"0\" r=\"1.29\" class=\"primitive\"/>\n",
       "  </g>\n",
       "  <g transform=\"translate(129.64,71.61)\" fill=\"#624F00\">\n",
       "    <circle cx=\"0\" cy=\"0\" r=\"1.68\" class=\"primitive\"/>\n",
       "  </g>\n",
       "  <g transform=\"translate(123.93,63.63)\" fill=\"#605000\">\n",
       "    <circle cx=\"0\" cy=\"0\" r=\"1.72\" class=\"primitive\"/>\n",
       "  </g>\n",
       "  <g transform=\"translate(71.19,43.8)\" fill=\"#425F00\">\n",
       "    <circle cx=\"0\" cy=\"0\" r=\"1.97\" class=\"primitive\"/>\n",
       "  </g>\n",
       "  <g transform=\"translate(21.46,82.25)\" fill=\"#CA1B00\">\n",
       "    <circle cx=\"0\" cy=\"0\" r=\"1.66\" class=\"primitive\"/>\n",
       "  </g>\n",
       "  <g transform=\"translate(16.3,78.27)\" fill=\"#2F6800\">\n",
       "    <circle cx=\"0\" cy=\"0\" r=\"1.87\" class=\"primitive\"/>\n",
       "  </g>\n",
       "  <g transform=\"translate(121.67,25.44)\" fill=\"#D41600\">\n",
       "    <circle cx=\"0\" cy=\"0\" r=\"1.53\" class=\"primitive\"/>\n",
       "  </g>\n",
       "  <g transform=\"translate(84.28,91.67)\" fill=\"#BF2000\">\n",
       "    <circle cx=\"0\" cy=\"0\" r=\"1.29\" class=\"primitive\"/>\n",
       "  </g>\n",
       "  <g transform=\"translate(80.59,85.26)\" fill=\"#3F6000\">\n",
       "    <circle cx=\"0\" cy=\"0\" r=\"2.12\" class=\"primitive\"/>\n",
       "  </g>\n",
       "</g>\n",
<<<<<<< Updated upstream
<<<<<<< Updated upstream
<<<<<<< Updated upstream
       "<g font-size=\"4\" stroke=\"#000000\" stroke-opacity=\"0.000\" fill=\"#000000\" id=\"img-a920c63f-5\">\n",
=======
       "<g font-size=\"4\" stroke=\"#000000\" stroke-opacity=\"0.000\" fill=\"#000000\" id=\"img-97b03919-5\">\n",
>>>>>>> Stashed changes
=======
       "<g font-size=\"4\" stroke=\"#000000\" stroke-opacity=\"0.000\" fill=\"#000000\" id=\"img-97b03919-5\">\n",
>>>>>>> Stashed changes
=======
       "<g font-size=\"4\" stroke=\"#000000\" stroke-opacity=\"0.000\" fill=\"#000000\" id=\"img-97b03919-5\">\n",
>>>>>>> Stashed changes
       "</g>\n",
       "</svg>\n"
      ],
      "text/html": [
       "<?xml version=\"1.0\" encoding=\"UTF-8\"?>\n",
       "<svg xmlns=\"http://www.w3.org/2000/svg\"\n",
       "     xmlns:xlink=\"http://www.w3.org/1999/xlink\"\n",
       "     version=\"1.2\"\n",
       "     width=\"141.42mm\" height=\"100mm\" viewBox=\"0 0 141.42 100\"\n",
       "     stroke=\"none\"\n",
       "     fill=\"#000000\"\n",
       "     stroke-width=\"0.3\"\n",
       "     font-size=\"3.88\"\n",
       "\n",
<<<<<<< Updated upstream
<<<<<<< Updated upstream
<<<<<<< Updated upstream
       "     id=\"img-9b6002fa\">\n",
=======
       "     id=\"img-0c2d414a\">\n",
>>>>>>> Stashed changes
=======
       "     id=\"img-0c2d414a\">\n",
>>>>>>> Stashed changes
=======
       "     id=\"img-0c2d414a\">\n",
>>>>>>> Stashed changes
       "<defs>\n",
       "  <marker id=\"arrow\" markerWidth=\"15\" markerHeight=\"7\" refX=\"5\" refY=\"3.5\" orient=\"auto\" markerUnits=\"strokeWidth\">\n",
       "    <path d=\"M0,0 L15,3.5 L0,7 z\" stroke=\"context-stroke\" fill=\"context-stroke\"/>\n",
       "  </marker>\n",
       "</defs>\n",
<<<<<<< Updated upstream
<<<<<<< Updated upstream
<<<<<<< Updated upstream
       "<g fill=\"#000000\" fill-opacity=\"0.000\" stroke=\"#D3D3D3\" id=\"img-9b6002fa-1\">\n",
=======
       "<g fill=\"#000000\" fill-opacity=\"0.000\" stroke=\"#D3D3D3\" id=\"img-0c2d414a-1\">\n",
>>>>>>> Stashed changes
=======
       "<g fill=\"#000000\" fill-opacity=\"0.000\" stroke=\"#D3D3D3\" id=\"img-0c2d414a-1\">\n",
>>>>>>> Stashed changes
=======
       "<g fill=\"#000000\" fill-opacity=\"0.000\" stroke=\"#D3D3D3\" id=\"img-0c2d414a-1\">\n",
>>>>>>> Stashed changes
       "  <g transform=\"translate(68.66,78.06)\" stroke-width=\"0.38\">\n",
       "    <path fill=\"none\" d=\"M5.25,-1.16 L-5.25,1.16 \" class=\"primitive\"/>\n",
       "  </g>\n",
       "  <g transform=\"translate(76.38,71.46)\" stroke-width=\"0.55\">\n",
       "    <path fill=\"none\" d=\"M-0.97,4.21 L0.97,-4.21 \" class=\"primitive\"/>\n",
       "  </g>\n",
       "  <g transform=\"translate(77.72,80.65)\" stroke-width=\"0.17\">\n",
       "    <path fill=\"none\" d=\"M-1.98,-3.17 L1.98,3.17 \" class=\"primitive\"/>\n",
       "  </g>\n",
       "  <g transform=\"translate(54.68,79.14)\" stroke-width=\"0.32\">\n",
       "    <path fill=\"none\" d=\"M5.32,0.34 L-5.32,-0.34 \" class=\"primitive\"/>\n",
       "  </g>\n",
       "  <g transform=\"translate(42,76.35)\" stroke-width=\"0.28\">\n",
       "    <path fill=\"none\" d=\"M4.29,1.75 L-4.29,-1.75 \" class=\"primitive\"/>\n",
       "  </g>\n",
       "  <g transform=\"translate(28.97,73.64)\" stroke-width=\"0.16\">\n",
       "    <path fill=\"none\" d=\"M6.24,0.39 L-6.24,-0.39 \" class=\"primitive\"/>\n",
       "  </g>\n",
       "  <g transform=\"translate(15.71,69.99)\" stroke-width=\"0.1\">\n",
       "    <path fill=\"none\" d=\"M2.85,1.92 L-2.85,-1.92 \" class=\"primitive\"/>\n",
       "  </g>\n",
       "  <g transform=\"translate(18.19,75.83)\" stroke-width=\"0.46\">\n",
       "    <path fill=\"none\" d=\"M0.96,-1.23 L-0.96,1.23 \" class=\"primitive\"/>\n",
       "  </g>\n",
       "  <g transform=\"translate(13.6,64.21)\" stroke-width=\"0.17\">\n",
       "    <path fill=\"none\" d=\"M-1.25,2.15 L1.25,-2.15 \" class=\"primitive\"/>\n",
       "  </g>\n",
       "  <g transform=\"translate(21.65,59.95)\" stroke-width=\"0.14\">\n",
       "    <path fill=\"none\" d=\"M-4.99,0.98 L4.99,-0.98 \" class=\"primitive\"/>\n",
       "  </g>\n",
       "  <g transform=\"translate(36.38,59.19)\" stroke-width=\"0.04\">\n",
       "    <path fill=\"none\" d=\"M-5.99,-0.44 L5.99,0.44 \" class=\"primitive\"/>\n",
       "  </g>\n",
       "  <g transform=\"translate(52.2,61.12)\" stroke-width=\"0.22\">\n",
       "    <path fill=\"none\" d=\"M-6.19,-1.05 L6.19,1.05 \" class=\"primitive\"/>\n",
       "  </g>\n",
       "  <g transform=\"translate(69.49,64.32)\" stroke-width=\"0.14\">\n",
       "    <path fill=\"none\" d=\"M-6.38,-1.29 L6.38,1.29 \" class=\"primitive\"/>\n",
       "  </g>\n",
       "  <g transform=\"translate(84.96,61.78)\" stroke-width=\"0.25\">\n",
       "    <path fill=\"none\" d=\"M-5.89,3.37 L5.89,-3.37 \" class=\"primitive\"/>\n",
       "  </g>\n",
       "  <g transform=\"translate(87.23,53.79)\" stroke-width=\"0.17\">\n",
       "    <path fill=\"none\" d=\"M-3.8,-2.89 L3.8,2.89 \" class=\"primitive\"/>\n",
       "  </g>\n",
       "  <g transform=\"translate(76.98,47.06)\" stroke-width=\"0.12\">\n",
       "    <path fill=\"none\" d=\"M4.19,2.36 L-4.19,-2.36 \" class=\"primitive\"/>\n",
       "  </g>\n",
       "  <g transform=\"translate(102.56,56.81)\" stroke-width=\"0.08\">\n",
       "    <path fill=\"none\" d=\"M-8.52,0.66 L8.52,-0.66 \" class=\"primitive\"/>\n",
       "  </g>\n",
       "  <g transform=\"translate(110.79,11.56)\" stroke-width=\"0.52\">\n",
       "    <path fill=\"none\" d=\"M-0.87,-1.6 L0.87,1.6 \" class=\"primitive\"/>\n",
       "  </g>\n",
       "  <g transform=\"translate(115.41,17.19)\" stroke-width=\"0.44\">\n",
       "    <path fill=\"none\" d=\"M-2.48,-2.38 L2.48,2.38 \" class=\"primitive\"/>\n",
       "  </g>\n",
       "  <g transform=\"translate(121.75,24.44)\" stroke-width=\"0.2\">\n",
       "    <path fill=\"none\" d=\"M-2.19,-2.98 L2.19,2.98 \" class=\"primitive\"/>\n",
       "  </g>\n",
       "  <g transform=\"translate(125.19,32.66)\" stroke-width=\"0.16\">\n",
       "    <path fill=\"none\" d=\"M-0.34,-3.01 L0.34,3.01 \" class=\"primitive\"/>\n",
       "  </g>\n",
       "  <g transform=\"translate(123.17,26.93)\" stroke-width=\"0.54\">\n",
       "    <path fill=\"none\" d=\"M0.58,0.57 L-0.58,-0.57 \" class=\"primitive\"/>\n",
       "  </g>\n",
       "  <g transform=\"translate(123.52,42.49)\" stroke-width=\"0.13\">\n",
       "    <path fill=\"none\" d=\"M1.4,-3.12 L-1.4,3.12 \" class=\"primitive\"/>\n",
       "  </g>\n",
       "  <g transform=\"translate(117.56,51.19)\" stroke-width=\"0.53\">\n",
       "    <path fill=\"none\" d=\"M3.19,-3.52 L-3.19,3.52 \" class=\"primitive\"/>\n",
       "  </g>\n",
       "  <g transform=\"translate(118.7,59.89)\" stroke-width=\"0.24\">\n",
       "    <path fill=\"none\" d=\"M-3.98,-2.84 L3.98,2.84 \" class=\"primitive\"/>\n",
       "  </g>\n",
       "  <g transform=\"translate(65.37,41.8)\" stroke-width=\"0.52\">\n",
       "    <path fill=\"none\" d=\"M-3.97,-1.37 L3.97,1.37 \" class=\"primitive\"/>\n",
       "  </g>\n",
       "  <g transform=\"translate(128.74,75.31)\" stroke-width=\"0.09\">\n",
       "    <path fill=\"none\" d=\"M-0.6,2.48 L0.6,-2.48 \" class=\"primitive\"/>\n",
       "  </g>\n",
       "  <g transform=\"translate(126.8,67.63)\" stroke-width=\"0.46\">\n",
       "    <path fill=\"none\" d=\"M2.05,2.87 L-2.05,-2.87 \" class=\"primitive\"/>\n",
       "  </g>\n",
       "  <g transform=\"translate(18.95,80.32)\" stroke-width=\"0.06\">\n",
       "    <path fill=\"none\" d=\"M1.34,1.03 L-1.34,-1.03 \" class=\"primitive\"/>\n",
       "  </g>\n",
       "  <g transform=\"translate(82.6,88.74)\" stroke-width=\"0.18\">\n",
       "    <path fill=\"none\" d=\"M1.18,2.04 L-1.18,-2.04 \" class=\"primitive\"/>\n",
       "  </g>\n",
       "</g>\n",
<<<<<<< Updated upstream
<<<<<<< Updated upstream
<<<<<<< Updated upstream
       "<g stroke=\"#D3D3D3\" id=\"img-9b6002fa-2\">\n",
       "</g>\n",
       "<g font-size=\"4\" stroke=\"#000000\" stroke-opacity=\"0.000\" fill=\"#000000\" id=\"img-9b6002fa-3\">\n",
       "</g>\n",
       "<g stroke-width=\"0\" stroke=\"#000000\" stroke-opacity=\"0.000\" id=\"img-9b6002fa-4\">\n",
=======
=======
>>>>>>> Stashed changes
       "<g stroke=\"#D3D3D3\" id=\"img-0c2d414a-2\">\n",
       "</g>\n",
       "<g font-size=\"4\" stroke=\"#000000\" stroke-opacity=\"0.000\" fill=\"#000000\" id=\"img-0c2d414a-3\">\n",
       "</g>\n",
       "<g stroke-width=\"0\" stroke=\"#000000\" stroke-opacity=\"0.000\" id=\"img-0c2d414a-4\">\n",
<<<<<<< Updated upstream
>>>>>>> Stashed changes
=======
       "<g stroke=\"#D3D3D3\" id=\"img-0c2d414a-2\">\n",
       "</g>\n",
       "<g font-size=\"4\" stroke=\"#000000\" stroke-opacity=\"0.000\" fill=\"#000000\" id=\"img-0c2d414a-3\">\n",
       "</g>\n",
       "<g stroke-width=\"0\" stroke=\"#000000\" stroke-opacity=\"0.000\" id=\"img-0c2d414a-4\">\n",
>>>>>>> Stashed changes
=======
>>>>>>> Stashed changes
       "  <g transform=\"translate(75.19,76.61)\" fill=\"#B02800\">\n",
       "    <circle cx=\"0\" cy=\"0\" r=\"1.29\" class=\"primitive\"/>\n",
       "  </g>\n",
       "  <g transform=\"translate(61.74,79.59)\" fill=\"#823F00\">\n",
       "    <circle cx=\"0\" cy=\"0\" r=\"1.68\" class=\"primitive\"/>\n",
       "  </g>\n",
       "  <g transform=\"translate(47.71,78.69)\" fill=\"#A42E00\">\n",
       "    <circle cx=\"0\" cy=\"0\" r=\"1.59\" class=\"primitive\"/>\n",
       "  </g>\n",
       "  <g transform=\"translate(36.55,74.12)\" fill=\"#764500\">\n",
       "    <circle cx=\"0\" cy=\"0\" r=\"1.29\" class=\"primitive\"/>\n",
       "  </g>\n",
       "  <g transform=\"translate(20.31,73.09)\" fill=\"#A32E00\">\n",
       "    <circle cx=\"0\" cy=\"0\" r=\"2.33\" class=\"primitive\"/>\n",
       "  </g>\n",
       "  <g transform=\"translate(11.79,67.34)\" fill=\"#147600\">\n",
       "    <circle cx=\"0\" cy=\"0\" r=\"1.42\" class=\"primitive\"/>\n",
       "  </g>\n",
       "  <g transform=\"translate(15.36,61.18)\" fill=\"#A82C00\">\n",
       "    <circle cx=\"0\" cy=\"0\" r=\"1.29\" class=\"primitive\"/>\n",
       "  </g>\n",
       "  <g transform=\"translate(28.48,58.6)\" fill=\"#FF0000\">\n",
       "    <circle cx=\"0\" cy=\"0\" r=\"1.84\" class=\"primitive\"/>\n",
       "  </g>\n",
       "  <g transform=\"translate(44.21,59.77)\" fill=\"#724700\">\n",
       "    <circle cx=\"0\" cy=\"0\" r=\"1.78\" class=\"primitive\"/>\n",
       "  </g>\n",
       "  <g transform=\"translate(60.76,62.57)\" fill=\"#236E00\">\n",
       "    <circle cx=\"0\" cy=\"0\" r=\"2.34\" class=\"primitive\"/>\n",
       "  </g>\n",
       "  <g transform=\"translate(77.64,65.96)\" fill=\"#406000\">\n",
       "    <circle cx=\"0\" cy=\"0\" r=\"1.76\" class=\"primitive\"/>\n",
       "  </g>\n",
       "  <g transform=\"translate(82.38,50.1)\" fill=\"#F30600\">\n",
       "    <circle cx=\"0\" cy=\"0\" r=\"1.48\" class=\"primitive\"/>\n",
       "  </g>\n",
       "  <g transform=\"translate(92.25,57.61)\" fill=\"#4F5800\">\n",
       "    <circle cx=\"0\" cy=\"0\" r=\"1.73\" class=\"primitive\"/>\n",
       "  </g>\n",
       "  <g transform=\"translate(109.04,8.33)\" fill=\"#8D3900\">\n",
       "    <circle cx=\"0\" cy=\"0\" r=\"2.36\" class=\"primitive\"/>\n",
       "  </g>\n",
       "  <g transform=\"translate(112.13,14.05)\" fill=\"#C11F00\">\n",
       "    <circle cx=\"0\" cy=\"0\" r=\"1.29\" class=\"primitive\"/>\n",
       "  </g>\n",
       "  <g transform=\"translate(118.83,20.47)\" fill=\"#843E00\">\n",
       "    <circle cx=\"0\" cy=\"0\" r=\"1.52\" class=\"primitive\"/>\n",
       "  </g>\n",
       "  <g transform=\"translate(124.71,28.47)\" fill=\"#684C00\">\n",
       "    <circle cx=\"0\" cy=\"0\" r=\"1.61\" class=\"primitive\"/>\n",
       "  </g>\n",
       "  <g transform=\"translate(125.74,37.56)\" fill=\"#AB2A00\">\n",
       "    <circle cx=\"0\" cy=\"0\" r=\"2.58\" class=\"primitive\"/>\n",
       "  </g>\n",
       "  <g transform=\"translate(121.63,46.71)\" fill=\"#9C3200\">\n",
       "    <circle cx=\"0\" cy=\"0\" r=\"1.57\" class=\"primitive\"/>\n",
       "  </g>\n",
       "  <g transform=\"translate(113.21,55.98)\" fill=\"#913700\">\n",
       "    <circle cx=\"0\" cy=\"0\" r=\"2.05\" class=\"primitive\"/>\n",
       "  </g>\n",
       "  <g transform=\"translate(59.63,39.82)\" fill=\"#D21700\">\n",
       "    <circle cx=\"0\" cy=\"0\" r=\"1.89\" class=\"primitive\"/>\n",
       "  </g>\n",
       "  <g transform=\"translate(127.92,78.73)\" fill=\"#6A4B00\">\n",
       "    <circle cx=\"0\" cy=\"0\" r=\"1.29\" class=\"primitive\"/>\n",
       "  </g>\n",
       "  <g transform=\"translate(129.64,71.61)\" fill=\"#624F00\">\n",
       "    <circle cx=\"0\" cy=\"0\" r=\"1.68\" class=\"primitive\"/>\n",
       "  </g>\n",
       "  <g transform=\"translate(123.93,63.63)\" fill=\"#605000\">\n",
       "    <circle cx=\"0\" cy=\"0\" r=\"1.72\" class=\"primitive\"/>\n",
       "  </g>\n",
       "  <g transform=\"translate(71.19,43.8)\" fill=\"#425F00\">\n",
       "    <circle cx=\"0\" cy=\"0\" r=\"1.97\" class=\"primitive\"/>\n",
       "  </g>\n",
       "  <g transform=\"translate(21.46,82.25)\" fill=\"#CA1B00\">\n",
       "    <circle cx=\"0\" cy=\"0\" r=\"1.66\" class=\"primitive\"/>\n",
       "  </g>\n",
       "  <g transform=\"translate(16.3,78.27)\" fill=\"#2F6800\">\n",
       "    <circle cx=\"0\" cy=\"0\" r=\"1.87\" class=\"primitive\"/>\n",
       "  </g>\n",
       "  <g transform=\"translate(121.67,25.44)\" fill=\"#D41600\">\n",
       "    <circle cx=\"0\" cy=\"0\" r=\"1.53\" class=\"primitive\"/>\n",
       "  </g>\n",
       "  <g transform=\"translate(84.28,91.67)\" fill=\"#BF2000\">\n",
       "    <circle cx=\"0\" cy=\"0\" r=\"1.29\" class=\"primitive\"/>\n",
       "  </g>\n",
       "  <g transform=\"translate(80.59,85.26)\" fill=\"#3F6000\">\n",
       "    <circle cx=\"0\" cy=\"0\" r=\"2.12\" class=\"primitive\"/>\n",
       "  </g>\n",
       "</g>\n",
<<<<<<< Updated upstream
<<<<<<< Updated upstream
<<<<<<< Updated upstream
       "<g font-size=\"4\" stroke=\"#000000\" stroke-opacity=\"0.000\" fill=\"#000000\" id=\"img-9b6002fa-5\">\n",
=======
       "<g font-size=\"4\" stroke=\"#000000\" stroke-opacity=\"0.000\" fill=\"#000000\" id=\"img-0c2d414a-5\">\n",
>>>>>>> Stashed changes
=======
       "<g font-size=\"4\" stroke=\"#000000\" stroke-opacity=\"0.000\" fill=\"#000000\" id=\"img-0c2d414a-5\">\n",
>>>>>>> Stashed changes
=======
       "<g font-size=\"4\" stroke=\"#000000\" stroke-opacity=\"0.000\" fill=\"#000000\" id=\"img-0c2d414a-5\">\n",
>>>>>>> Stashed changes
       "</g>\n",
       "<script> <![CDATA[\n",
       "(function(N){var k=/[\\.\\/]/,L=/\\s*,\\s*/,C=function(a,d){return a-d},a,v,y={n:{}},M=function(){for(var a=0,d=this.length;a<d;a++)if(\"undefined\"!=typeof this[a])return this[a]},A=function(){for(var a=this.length;--a;)if(\"undefined\"!=typeof this[a])return this[a]},w=function(k,d){k=String(k);var f=v,n=Array.prototype.slice.call(arguments,2),u=w.listeners(k),p=0,b,q=[],e={},l=[],r=a;l.firstDefined=M;l.lastDefined=A;a=k;for(var s=v=0,x=u.length;s<x;s++)\"zIndex\"in u[s]&&(q.push(u[s].zIndex),0>u[s].zIndex&&\n",
       "(e[u[s].zIndex]=u[s]));for(q.sort(C);0>q[p];)if(b=e[q[p++] ],l.push(b.apply(d,n)),v)return v=f,l;for(s=0;s<x;s++)if(b=u[s],\"zIndex\"in b)if(b.zIndex==q[p]){l.push(b.apply(d,n));if(v)break;do if(p++,(b=e[q[p] ])&&l.push(b.apply(d,n)),v)break;while(b)}else e[b.zIndex]=b;else if(l.push(b.apply(d,n)),v)break;v=f;a=r;return l};w._events=y;w.listeners=function(a){a=a.split(k);var d=y,f,n,u,p,b,q,e,l=[d],r=[];u=0;for(p=a.length;u<p;u++){e=[];b=0;for(q=l.length;b<q;b++)for(d=l[b].n,f=[d[a[u] ],d[\"*\"] ],n=2;n--;)if(d=\n",
       "f[n])e.push(d),r=r.concat(d.f||[]);l=e}return r};w.on=function(a,d){a=String(a);if(\"function\"!=typeof d)return function(){};for(var f=a.split(L),n=0,u=f.length;n<u;n++)(function(a){a=a.split(k);for(var b=y,f,e=0,l=a.length;e<l;e++)b=b.n,b=b.hasOwnProperty(a[e])&&b[a[e] ]||(b[a[e] ]={n:{}});b.f=b.f||[];e=0;for(l=b.f.length;e<l;e++)if(b.f[e]==d){f=!0;break}!f&&b.f.push(d)})(f[n]);return function(a){+a==+a&&(d.zIndex=+a)}};w.f=function(a){var d=[].slice.call(arguments,1);return function(){w.apply(null,\n",
       "[a,null].concat(d).concat([].slice.call(arguments,0)))}};w.stop=function(){v=1};w.nt=function(k){return k?(new RegExp(\"(?:\\\\.|\\\\/|^)\"+k+\"(?:\\\\.|\\\\/|$)\")).test(a):a};w.nts=function(){return a.split(k)};w.off=w.unbind=function(a,d){if(a){var f=a.split(L);if(1<f.length)for(var n=0,u=f.length;n<u;n++)w.off(f[n],d);else{for(var f=a.split(k),p,b,q,e,l=[y],n=0,u=f.length;n<u;n++)for(e=0;e<l.length;e+=q.length-2){q=[e,1];p=l[e].n;if(\"*\"!=f[n])p[f[n] ]&&q.push(p[f[n] ]);else for(b in p)p.hasOwnProperty(b)&&\n",
       "q.push(p[b]);l.splice.apply(l,q)}n=0;for(u=l.length;n<u;n++)for(p=l[n];p.n;){if(d){if(p.f){e=0;for(f=p.f.length;e<f;e++)if(p.f[e]==d){p.f.splice(e,1);break}!p.f.length&&delete p.f}for(b in p.n)if(p.n.hasOwnProperty(b)&&p.n[b].f){q=p.n[b].f;e=0;for(f=q.length;e<f;e++)if(q[e]==d){q.splice(e,1);break}!q.length&&delete p.n[b].f}}else for(b in delete p.f,p.n)p.n.hasOwnProperty(b)&&p.n[b].f&&delete p.n[b].f;p=p.n}}}else w._events=y={n:{}}};w.once=function(a,d){var f=function(){w.unbind(a,f);return d.apply(this,\n",
       "arguments)};return w.on(a,f)};w.version=\"0.4.2\";w.toString=function(){return\"You are running Eve 0.4.2\"};\"undefined\"!=typeof module&&module.exports?module.exports=w:\"function\"===typeof define&&define.amd?define(\"eve\",[],function(){return w}):N.eve=w})(this);\n",
       "(function(N,k){\"function\"===typeof define&&define.amd?define(\"Snap.svg\",[\"eve\"],function(L){return k(N,L)}):k(N,N.eve)})(this,function(N,k){var L=function(a){var k={},y=N.requestAnimationFrame||N.webkitRequestAnimationFrame||N.mozRequestAnimationFrame||N.oRequestAnimationFrame||N.msRequestAnimationFrame||function(a){setTimeout(a,16)},M=Array.isArray||function(a){return a instanceof Array||\"[object Array]\"==Object.prototype.toString.call(a)},A=0,w=\"M\"+(+new Date).toString(36),z=function(a){if(null==\n",
       "a)return this.s;var b=this.s-a;this.b+=this.dur*b;this.B+=this.dur*b;this.s=a},d=function(a){if(null==a)return this.spd;this.spd=a},f=function(a){if(null==a)return this.dur;this.s=this.s*a/this.dur;this.dur=a},n=function(){delete k[this.id];this.update();a(\"mina.stop.\"+this.id,this)},u=function(){this.pdif||(delete k[this.id],this.update(),this.pdif=this.get()-this.b)},p=function(){this.pdif&&(this.b=this.get()-this.pdif,delete this.pdif,k[this.id]=this)},b=function(){var a;if(M(this.start)){a=[];\n",
       "for(var b=0,e=this.start.length;b<e;b++)a[b]=+this.start[b]+(this.end[b]-this.start[b])*this.easing(this.s)}else a=+this.start+(this.end-this.start)*this.easing(this.s);this.set(a)},q=function(){var l=0,b;for(b in k)if(k.hasOwnProperty(b)){var e=k[b],f=e.get();l++;e.s=(f-e.b)/(e.dur/e.spd);1<=e.s&&(delete k[b],e.s=1,l--,function(b){setTimeout(function(){a(\"mina.finish.\"+b.id,b)})}(e));e.update()}l&&y(q)},e=function(a,r,s,x,G,h,J){a={id:w+(A++).toString(36),start:a,end:r,b:s,s:0,dur:x-s,spd:1,get:G,\n",
       "set:h,easing:J||e.linear,status:z,speed:d,duration:f,stop:n,pause:u,resume:p,update:b};k[a.id]=a;r=0;for(var K in k)if(k.hasOwnProperty(K)&&(r++,2==r))break;1==r&&y(q);return a};e.time=Date.now||function(){return+new Date};e.getById=function(a){return k[a]||null};e.linear=function(a){return a};e.easeout=function(a){return Math.pow(a,1.7)};e.easein=function(a){return Math.pow(a,0.48)};e.easeinout=function(a){if(1==a)return 1;if(0==a)return 0;var b=0.48-a/1.04,e=Math.sqrt(0.1734+b*b);a=e-b;a=Math.pow(Math.abs(a),\n",
       "1/3)*(0>a?-1:1);b=-e-b;b=Math.pow(Math.abs(b),1/3)*(0>b?-1:1);a=a+b+0.5;return 3*(1-a)*a*a+a*a*a};e.backin=function(a){return 1==a?1:a*a*(2.70158*a-1.70158)};e.backout=function(a){if(0==a)return 0;a-=1;return a*a*(2.70158*a+1.70158)+1};e.elastic=function(a){return a==!!a?a:Math.pow(2,-10*a)*Math.sin(2*(a-0.075)*Math.PI/0.3)+1};e.bounce=function(a){a<1/2.75?a*=7.5625*a:a<2/2.75?(a-=1.5/2.75,a=7.5625*a*a+0.75):a<2.5/2.75?(a-=2.25/2.75,a=7.5625*a*a+0.9375):(a-=2.625/2.75,a=7.5625*a*a+0.984375);return a};\n",
       "return N.mina=e}(\"undefined\"==typeof k?function(){}:k),C=function(){function a(c,t){if(c){if(c.tagName)return x(c);if(y(c,\"array\")&&a.set)return a.set.apply(a,c);if(c instanceof e)return c;if(null==t)return c=G.doc.querySelector(c),x(c)}return new s(null==c?\"100%\":c,null==t?\"100%\":t)}function v(c,a){if(a){\"#text\"==c&&(c=G.doc.createTextNode(a.text||\"\"));\"string\"==typeof c&&(c=v(c));if(\"string\"==typeof a)return\"xlink:\"==a.substring(0,6)?c.getAttributeNS(m,a.substring(6)):\"xml:\"==a.substring(0,4)?c.getAttributeNS(la,\n",
       "a.substring(4)):c.getAttribute(a);for(var da in a)if(a[h](da)){var b=J(a[da]);b?\"xlink:\"==da.substring(0,6)?c.setAttributeNS(m,da.substring(6),b):\"xml:\"==da.substring(0,4)?c.setAttributeNS(la,da.substring(4),b):c.setAttribute(da,b):c.removeAttribute(da)}}else c=G.doc.createElementNS(la,c);return c}function y(c,a){a=J.prototype.toLowerCase.call(a);return\"finite\"==a?isFinite(c):\"array\"==a&&(c instanceof Array||Array.isArray&&Array.isArray(c))?!0:\"null\"==a&&null===c||a==typeof c&&null!==c||\"object\"==\n",
       "a&&c===Object(c)||$.call(c).slice(8,-1).toLowerCase()==a}function M(c){if(\"function\"==typeof c||Object(c)!==c)return c;var a=new c.constructor,b;for(b in c)c[h](b)&&(a[b]=M(c[b]));return a}function A(c,a,b){function m(){var e=Array.prototype.slice.call(arguments,0),f=e.join(\"\\u2400\"),d=m.cache=m.cache||{},l=m.count=m.count||[];if(d[h](f)){a:for(var e=l,l=f,B=0,H=e.length;B<H;B++)if(e[B]===l){e.push(e.splice(B,1)[0]);break a}return b?b(d[f]):d[f]}1E3<=l.length&&delete d[l.shift()];l.push(f);d[f]=c.apply(a,\n",
       "e);return b?b(d[f]):d[f]}return m}function w(c,a,b,m,e,f){return null==e?(c-=b,a-=m,c||a?(180*I.atan2(-a,-c)/C+540)%360:0):w(c,a,e,f)-w(b,m,e,f)}function z(c){return c%360*C/180}function d(c){var a=[];c=c.replace(/(?:^|\\s)(\\w+)\\(([^)]+)\\)/g,function(c,b,m){m=m.split(/\\s*,\\s*|\\s+/);\"rotate\"==b&&1==m.length&&m.push(0,0);\"scale\"==b&&(2<m.length?m=m.slice(0,2):2==m.length&&m.push(0,0),1==m.length&&m.push(m[0],0,0));\"skewX\"==b?a.push([\"m\",1,0,I.tan(z(m[0])),1,0,0]):\"skewY\"==b?a.push([\"m\",1,I.tan(z(m[0])),\n",
       "0,1,0,0]):a.push([b.charAt(0)].concat(m));return c});return a}function f(c,t){var b=O(c),m=new a.Matrix;if(b)for(var e=0,f=b.length;e<f;e++){var h=b[e],d=h.length,B=J(h[0]).toLowerCase(),H=h[0]!=B,l=H?m.invert():0,E;\"t\"==B&&2==d?m.translate(h[1],0):\"t\"==B&&3==d?H?(d=l.x(0,0),B=l.y(0,0),H=l.x(h[1],h[2]),l=l.y(h[1],h[2]),m.translate(H-d,l-B)):m.translate(h[1],h[2]):\"r\"==B?2==d?(E=E||t,m.rotate(h[1],E.x+E.width/2,E.y+E.height/2)):4==d&&(H?(H=l.x(h[2],h[3]),l=l.y(h[2],h[3]),m.rotate(h[1],H,l)):m.rotate(h[1],\n",
       "h[2],h[3])):\"s\"==B?2==d||3==d?(E=E||t,m.scale(h[1],h[d-1],E.x+E.width/2,E.y+E.height/2)):4==d?H?(H=l.x(h[2],h[3]),l=l.y(h[2],h[3]),m.scale(h[1],h[1],H,l)):m.scale(h[1],h[1],h[2],h[3]):5==d&&(H?(H=l.x(h[3],h[4]),l=l.y(h[3],h[4]),m.scale(h[1],h[2],H,l)):m.scale(h[1],h[2],h[3],h[4])):\"m\"==B&&7==d&&m.add(h[1],h[2],h[3],h[4],h[5],h[6])}return m}function n(c,t){if(null==t){var m=!0;t=\"linearGradient\"==c.type||\"radialGradient\"==c.type?c.node.getAttribute(\"gradientTransform\"):\"pattern\"==c.type?c.node.getAttribute(\"patternTransform\"):\n",
       "c.node.getAttribute(\"transform\");if(!t)return new a.Matrix;t=d(t)}else t=a._.rgTransform.test(t)?J(t).replace(/\\.{3}|\\u2026/g,c._.transform||aa):d(t),y(t,\"array\")&&(t=a.path?a.path.toString.call(t):J(t)),c._.transform=t;var b=f(t,c.getBBox(1));if(m)return b;c.matrix=b}function u(c){c=c.node.ownerSVGElement&&x(c.node.ownerSVGElement)||c.node.parentNode&&x(c.node.parentNode)||a.select(\"svg\")||a(0,0);var t=c.select(\"defs\"),t=null==t?!1:t.node;t||(t=r(\"defs\",c.node).node);return t}function p(c){return c.node.ownerSVGElement&&\n",
       "x(c.node.ownerSVGElement)||a.select(\"svg\")}function b(c,a,m){function b(c){if(null==c)return aa;if(c==+c)return c;v(B,{width:c});try{return B.getBBox().width}catch(a){return 0}}function h(c){if(null==c)return aa;if(c==+c)return c;v(B,{height:c});try{return B.getBBox().height}catch(a){return 0}}function e(b,B){null==a?d[b]=B(c.attr(b)||0):b==a&&(d=B(null==m?c.attr(b)||0:m))}var f=p(c).node,d={},B=f.querySelector(\".svg---mgr\");B||(B=v(\"rect\"),v(B,{x:-9E9,y:-9E9,width:10,height:10,\"class\":\"svg---mgr\",\n",
       "fill:\"none\"}),f.appendChild(B));switch(c.type){case \"rect\":e(\"rx\",b),e(\"ry\",h);case \"image\":e(\"width\",b),e(\"height\",h);case \"text\":e(\"x\",b);e(\"y\",h);break;case \"circle\":e(\"cx\",b);e(\"cy\",h);e(\"r\",b);break;case \"ellipse\":e(\"cx\",b);e(\"cy\",h);e(\"rx\",b);e(\"ry\",h);break;case \"line\":e(\"x1\",b);e(\"x2\",b);e(\"y1\",h);e(\"y2\",h);break;case \"marker\":e(\"refX\",b);e(\"markerWidth\",b);e(\"refY\",h);e(\"markerHeight\",h);break;case \"radialGradient\":e(\"fx\",b);e(\"fy\",h);break;case \"tspan\":e(\"dx\",b);e(\"dy\",h);break;default:e(a,\n",
       "b)}f.removeChild(B);return d}function q(c){y(c,\"array\")||(c=Array.prototype.slice.call(arguments,0));for(var a=0,b=0,m=this.node;this[a];)delete this[a++];for(a=0;a<c.length;a++)\"set\"==c[a].type?c[a].forEach(function(c){m.appendChild(c.node)}):m.appendChild(c[a].node);for(var h=m.childNodes,a=0;a<h.length;a++)this[b++]=x(h[a]);return this}function e(c){if(c.snap in E)return E[c.snap];var a=this.id=V(),b;try{b=c.ownerSVGElement}catch(m){}this.node=c;b&&(this.paper=new s(b));this.type=c.tagName;this.anims=\n",
       "{};this._={transform:[]};c.snap=a;E[a]=this;\"g\"==this.type&&(this.add=q);if(this.type in{g:1,mask:1,pattern:1})for(var e in s.prototype)s.prototype[h](e)&&(this[e]=s.prototype[e])}function l(c){this.node=c}function r(c,a){var b=v(c);a.appendChild(b);return x(b)}function s(c,a){var b,m,f,d=s.prototype;if(c&&\"svg\"==c.tagName){if(c.snap in E)return E[c.snap];var l=c.ownerDocument;b=new e(c);m=c.getElementsByTagName(\"desc\")[0];f=c.getElementsByTagName(\"defs\")[0];m||(m=v(\"desc\"),m.appendChild(l.createTextNode(\"Created with Snap\")),\n",
       "b.node.appendChild(m));f||(f=v(\"defs\"),b.node.appendChild(f));b.defs=f;for(var ca in d)d[h](ca)&&(b[ca]=d[ca]);b.paper=b.root=b}else b=r(\"svg\",G.doc.body),v(b.node,{height:a,version:1.1,width:c,xmlns:la});return b}function x(c){return!c||c instanceof e||c instanceof l?c:c.tagName&&\"svg\"==c.tagName.toLowerCase()?new s(c):c.tagName&&\"object\"==c.tagName.toLowerCase()&&\"image/svg+xml\"==c.type?new s(c.contentDocument.getElementsByTagName(\"svg\")[0]):new e(c)}a.version=\"0.3.0\";a.toString=function(){return\"Snap v\"+\n",
       "this.version};a._={};var G={win:N,doc:N.document};a._.glob=G;var h=\"hasOwnProperty\",J=String,K=parseFloat,U=parseInt,I=Math,P=I.max,Q=I.min,Y=I.abs,C=I.PI,aa=\"\",$=Object.prototype.toString,F=/^\\s*((#[a-f\\d]{6})|(#[a-f\\d]{3})|rgba?\\(\\s*([\\d\\.]+%?\\s*,\\s*[\\d\\.]+%?\\s*,\\s*[\\d\\.]+%?(?:\\s*,\\s*[\\d\\.]+%?)?)\\s*\\)|hsba?\\(\\s*([\\d\\.]+(?:deg|\\xb0|%)?\\s*,\\s*[\\d\\.]+%?\\s*,\\s*[\\d\\.]+(?:%?\\s*,\\s*[\\d\\.]+)?%?)\\s*\\)|hsla?\\(\\s*([\\d\\.]+(?:deg|\\xb0|%)?\\s*,\\s*[\\d\\.]+%?\\s*,\\s*[\\d\\.]+(?:%?\\s*,\\s*[\\d\\.]+)?%?)\\s*\\))\\s*$/i;a._.separator=\n",
       "RegExp(\"[,\\t\\n\\x0B\\f\\r \\u00a0\\u1680\\u180e\\u2000\\u2001\\u2002\\u2003\\u2004\\u2005\\u2006\\u2007\\u2008\\u2009\\u200a\\u202f\\u205f\\u3000\\u2028\\u2029]+\");var S=RegExp(\"[\\t\\n\\x0B\\f\\r \\u00a0\\u1680\\u180e\\u2000\\u2001\\u2002\\u2003\\u2004\\u2005\\u2006\\u2007\\u2008\\u2009\\u200a\\u202f\\u205f\\u3000\\u2028\\u2029]*,[\\t\\n\\x0B\\f\\r \\u00a0\\u1680\\u180e\\u2000\\u2001\\u2002\\u2003\\u2004\\u2005\\u2006\\u2007\\u2008\\u2009\\u200a\\u202f\\u205f\\u3000\\u2028\\u2029]*\"),X={hs:1,rg:1},W=RegExp(\"([a-z])[\\t\\n\\x0B\\f\\r \\u00a0\\u1680\\u180e\\u2000\\u2001\\u2002\\u2003\\u2004\\u2005\\u2006\\u2007\\u2008\\u2009\\u200a\\u202f\\u205f\\u3000\\u2028\\u2029,]*((-?\\\\d*\\\\.?\\\\d*(?:e[\\\\-+]?\\\\d+)?[\\t\\n\\x0B\\f\\r \\u00a0\\u1680\\u180e\\u2000\\u2001\\u2002\\u2003\\u2004\\u2005\\u2006\\u2007\\u2008\\u2009\\u200a\\u202f\\u205f\\u3000\\u2028\\u2029]*,?[\\t\\n\\x0B\\f\\r \\u00a0\\u1680\\u180e\\u2000\\u2001\\u2002\\u2003\\u2004\\u2005\\u2006\\u2007\\u2008\\u2009\\u200a\\u202f\\u205f\\u3000\\u2028\\u2029]*)+)\",\n",
       "\"ig\"),ma=RegExp(\"([rstm])[\\t\\n\\x0B\\f\\r \\u00a0\\u1680\\u180e\\u2000\\u2001\\u2002\\u2003\\u2004\\u2005\\u2006\\u2007\\u2008\\u2009\\u200a\\u202f\\u205f\\u3000\\u2028\\u2029,]*((-?\\\\d*\\\\.?\\\\d*(?:e[\\\\-+]?\\\\d+)?[\\t\\n\\x0B\\f\\r \\u00a0\\u1680\\u180e\\u2000\\u2001\\u2002\\u2003\\u2004\\u2005\\u2006\\u2007\\u2008\\u2009\\u200a\\u202f\\u205f\\u3000\\u2028\\u2029]*,?[\\t\\n\\x0B\\f\\r \\u00a0\\u1680\\u180e\\u2000\\u2001\\u2002\\u2003\\u2004\\u2005\\u2006\\u2007\\u2008\\u2009\\u200a\\u202f\\u205f\\u3000\\u2028\\u2029]*)+)\",\"ig\"),Z=RegExp(\"(-?\\\\d*\\\\.?\\\\d*(?:e[\\\\-+]?\\\\d+)?)[\\t\\n\\x0B\\f\\r \\u00a0\\u1680\\u180e\\u2000\\u2001\\u2002\\u2003\\u2004\\u2005\\u2006\\u2007\\u2008\\u2009\\u200a\\u202f\\u205f\\u3000\\u2028\\u2029]*,?[\\t\\n\\x0B\\f\\r \\u00a0\\u1680\\u180e\\u2000\\u2001\\u2002\\u2003\\u2004\\u2005\\u2006\\u2007\\u2008\\u2009\\u200a\\u202f\\u205f\\u3000\\u2028\\u2029]*\",\n",
       "\"ig\"),na=0,ba=\"S\"+(+new Date).toString(36),V=function(){return ba+(na++).toString(36)},m=\"http://www.w3.org/1999/xlink\",la=\"http://www.w3.org/2000/svg\",E={},ca=a.url=function(c){return\"url('#\"+c+\"')\"};a._.$=v;a._.id=V;a.format=function(){var c=/\\{([^\\}]+)\\}/g,a=/(?:(?:^|\\.)(.+?)(?=\\[|\\.|$|\\()|\\[('|\")(.+?)\\2\\])(\\(\\))?/g,b=function(c,b,m){var h=m;b.replace(a,function(c,a,b,m,t){a=a||m;h&&(a in h&&(h=h[a]),\"function\"==typeof h&&t&&(h=h()))});return h=(null==h||h==m?c:h)+\"\"};return function(a,m){return J(a).replace(c,\n",
       "function(c,a){return b(c,a,m)})}}();a._.clone=M;a._.cacher=A;a.rad=z;a.deg=function(c){return 180*c/C%360};a.angle=w;a.is=y;a.snapTo=function(c,a,b){b=y(b,\"finite\")?b:10;if(y(c,\"array\"))for(var m=c.length;m--;){if(Y(c[m]-a)<=b)return c[m]}else{c=+c;m=a%c;if(m<b)return a-m;if(m>c-b)return a-m+c}return a};a.getRGB=A(function(c){if(!c||(c=J(c)).indexOf(\"-\")+1)return{r:-1,g:-1,b:-1,hex:\"none\",error:1,toString:ka};if(\"none\"==c)return{r:-1,g:-1,b:-1,hex:\"none\",toString:ka};!X[h](c.toLowerCase().substring(0,\n",
       "2))&&\"#\"!=c.charAt()&&(c=T(c));if(!c)return{r:-1,g:-1,b:-1,hex:\"none\",error:1,toString:ka};var b,m,e,f,d;if(c=c.match(F)){c[2]&&(e=U(c[2].substring(5),16),m=U(c[2].substring(3,5),16),b=U(c[2].substring(1,3),16));c[3]&&(e=U((d=c[3].charAt(3))+d,16),m=U((d=c[3].charAt(2))+d,16),b=U((d=c[3].charAt(1))+d,16));c[4]&&(d=c[4].split(S),b=K(d[0]),\"%\"==d[0].slice(-1)&&(b*=2.55),m=K(d[1]),\"%\"==d[1].slice(-1)&&(m*=2.55),e=K(d[2]),\"%\"==d[2].slice(-1)&&(e*=2.55),\"rgba\"==c[1].toLowerCase().slice(0,4)&&(f=K(d[3])),\n",
       "d[3]&&\"%\"==d[3].slice(-1)&&(f/=100));if(c[5])return d=c[5].split(S),b=K(d[0]),\"%\"==d[0].slice(-1)&&(b/=100),m=K(d[1]),\"%\"==d[1].slice(-1)&&(m/=100),e=K(d[2]),\"%\"==d[2].slice(-1)&&(e/=100),\"deg\"!=d[0].slice(-3)&&\"\\u00b0\"!=d[0].slice(-1)||(b/=360),\"hsba\"==c[1].toLowerCase().slice(0,4)&&(f=K(d[3])),d[3]&&\"%\"==d[3].slice(-1)&&(f/=100),a.hsb2rgb(b,m,e,f);if(c[6])return d=c[6].split(S),b=K(d[0]),\"%\"==d[0].slice(-1)&&(b/=100),m=K(d[1]),\"%\"==d[1].slice(-1)&&(m/=100),e=K(d[2]),\"%\"==d[2].slice(-1)&&(e/=100),\n",
       "\"deg\"!=d[0].slice(-3)&&\"\\u00b0\"!=d[0].slice(-1)||(b/=360),\"hsla\"==c[1].toLowerCase().slice(0,4)&&(f=K(d[3])),d[3]&&\"%\"==d[3].slice(-1)&&(f/=100),a.hsl2rgb(b,m,e,f);b=Q(I.round(b),255);m=Q(I.round(m),255);e=Q(I.round(e),255);f=Q(P(f,0),1);c={r:b,g:m,b:e,toString:ka};c.hex=\"#\"+(16777216|e|m<<8|b<<16).toString(16).slice(1);c.opacity=y(f,\"finite\")?f:1;return c}return{r:-1,g:-1,b:-1,hex:\"none\",error:1,toString:ka}},a);a.hsb=A(function(c,b,m){return a.hsb2rgb(c,b,m).hex});a.hsl=A(function(c,b,m){return a.hsl2rgb(c,\n",
       "b,m).hex});a.rgb=A(function(c,a,b,m){if(y(m,\"finite\")){var e=I.round;return\"rgba(\"+[e(c),e(a),e(b),+m.toFixed(2)]+\")\"}return\"#\"+(16777216|b|a<<8|c<<16).toString(16).slice(1)});var T=function(c){var a=G.doc.getElementsByTagName(\"head\")[0]||G.doc.getElementsByTagName(\"svg\")[0];T=A(function(c){if(\"red\"==c.toLowerCase())return\"rgb(255, 0, 0)\";a.style.color=\"rgb(255, 0, 0)\";a.style.color=c;c=G.doc.defaultView.getComputedStyle(a,aa).getPropertyValue(\"color\");return\"rgb(255, 0, 0)\"==c?null:c});return T(c)},\n",
       "qa=function(){return\"hsb(\"+[this.h,this.s,this.b]+\")\"},ra=function(){return\"hsl(\"+[this.h,this.s,this.l]+\")\"},ka=function(){return 1==this.opacity||null==this.opacity?this.hex:\"rgba(\"+[this.r,this.g,this.b,this.opacity]+\")\"},D=function(c,b,m){null==b&&y(c,\"object\")&&\"r\"in c&&\"g\"in c&&\"b\"in c&&(m=c.b,b=c.g,c=c.r);null==b&&y(c,string)&&(m=a.getRGB(c),c=m.r,b=m.g,m=m.b);if(1<c||1<b||1<m)c/=255,b/=255,m/=255;return[c,b,m]},oa=function(c,b,m,e){c=I.round(255*c);b=I.round(255*b);m=I.round(255*m);c={r:c,\n",
       "g:b,b:m,opacity:y(e,\"finite\")?e:1,hex:a.rgb(c,b,m),toString:ka};y(e,\"finite\")&&(c.opacity=e);return c};a.color=function(c){var b;y(c,\"object\")&&\"h\"in c&&\"s\"in c&&\"b\"in c?(b=a.hsb2rgb(c),c.r=b.r,c.g=b.g,c.b=b.b,c.opacity=1,c.hex=b.hex):y(c,\"object\")&&\"h\"in c&&\"s\"in c&&\"l\"in c?(b=a.hsl2rgb(c),c.r=b.r,c.g=b.g,c.b=b.b,c.opacity=1,c.hex=b.hex):(y(c,\"string\")&&(c=a.getRGB(c)),y(c,\"object\")&&\"r\"in c&&\"g\"in c&&\"b\"in c&&!(\"error\"in c)?(b=a.rgb2hsl(c),c.h=b.h,c.s=b.s,c.l=b.l,b=a.rgb2hsb(c),c.v=b.b):(c={hex:\"none\"},\n",
       "c.r=c.g=c.b=c.h=c.s=c.v=c.l=-1,c.error=1));c.toString=ka;return c};a.hsb2rgb=function(c,a,b,m){y(c,\"object\")&&\"h\"in c&&\"s\"in c&&\"b\"in c&&(b=c.b,a=c.s,c=c.h,m=c.o);var e,h,d;c=360*c%360/60;d=b*a;a=d*(1-Y(c%2-1));b=e=h=b-d;c=~~c;b+=[d,a,0,0,a,d][c];e+=[a,d,d,a,0,0][c];h+=[0,0,a,d,d,a][c];return oa(b,e,h,m)};a.hsl2rgb=function(c,a,b,m){y(c,\"object\")&&\"h\"in c&&\"s\"in c&&\"l\"in c&&(b=c.l,a=c.s,c=c.h);if(1<c||1<a||1<b)c/=360,a/=100,b/=100;var e,h,d;c=360*c%360/60;d=2*a*(0.5>b?b:1-b);a=d*(1-Y(c%2-1));b=e=\n",
       "h=b-d/2;c=~~c;b+=[d,a,0,0,a,d][c];e+=[a,d,d,a,0,0][c];h+=[0,0,a,d,d,a][c];return oa(b,e,h,m)};a.rgb2hsb=function(c,a,b){b=D(c,a,b);c=b[0];a=b[1];b=b[2];var m,e;m=P(c,a,b);e=m-Q(c,a,b);c=((0==e?0:m==c?(a-b)/e:m==a?(b-c)/e+2:(c-a)/e+4)+360)%6*60/360;return{h:c,s:0==e?0:e/m,b:m,toString:qa}};a.rgb2hsl=function(c,a,b){b=D(c,a,b);c=b[0];a=b[1];b=b[2];var m,e,h;m=P(c,a,b);e=Q(c,a,b);h=m-e;c=((0==h?0:m==c?(a-b)/h:m==a?(b-c)/h+2:(c-a)/h+4)+360)%6*60/360;m=(m+e)/2;return{h:c,s:0==h?0:0.5>m?h/(2*m):h/(2-2*\n",
       "m),l:m,toString:ra}};a.parsePathString=function(c){if(!c)return null;var b=a.path(c);if(b.arr)return a.path.clone(b.arr);var m={a:7,c:6,o:2,h:1,l:2,m:2,r:4,q:4,s:4,t:2,v:1,u:3,z:0},e=[];y(c,\"array\")&&y(c[0],\"array\")&&(e=a.path.clone(c));e.length||J(c).replace(W,function(c,a,b){var h=[];c=a.toLowerCase();b.replace(Z,function(c,a){a&&h.push(+a)});\"m\"==c&&2<h.length&&(e.push([a].concat(h.splice(0,2))),c=\"l\",a=\"m\"==a?\"l\":\"L\");\"o\"==c&&1==h.length&&e.push([a,h[0] ]);if(\"r\"==c)e.push([a].concat(h));else for(;h.length>=\n",
       "m[c]&&(e.push([a].concat(h.splice(0,m[c]))),m[c]););});e.toString=a.path.toString;b.arr=a.path.clone(e);return e};var O=a.parseTransformString=function(c){if(!c)return null;var b=[];y(c,\"array\")&&y(c[0],\"array\")&&(b=a.path.clone(c));b.length||J(c).replace(ma,function(c,a,m){var e=[];a.toLowerCase();m.replace(Z,function(c,a){a&&e.push(+a)});b.push([a].concat(e))});b.toString=a.path.toString;return b};a._.svgTransform2string=d;a._.rgTransform=RegExp(\"^[a-z][\\t\\n\\x0B\\f\\r \\u00a0\\u1680\\u180e\\u2000\\u2001\\u2002\\u2003\\u2004\\u2005\\u2006\\u2007\\u2008\\u2009\\u200a\\u202f\\u205f\\u3000\\u2028\\u2029]*-?\\\\.?\\\\d\",\n",
       "\"i\");a._.transform2matrix=f;a._unit2px=b;a._.getSomeDefs=u;a._.getSomeSVG=p;a.select=function(c){return x(G.doc.querySelector(c))};a.selectAll=function(c){c=G.doc.querySelectorAll(c);for(var b=(a.set||Array)(),m=0;m<c.length;m++)b.push(x(c[m]));return b};setInterval(function(){for(var c in E)if(E[h](c)){var a=E[c],b=a.node;(\"svg\"!=a.type&&!b.ownerSVGElement||\"svg\"==a.type&&(!b.parentNode||\"ownerSVGElement\"in b.parentNode&&!b.ownerSVGElement))&&delete E[c]}},1E4);(function(c){function m(c){function a(c,\n",
       "b){var m=v(c.node,b);(m=(m=m&&m.match(d))&&m[2])&&\"#\"==m.charAt()&&(m=m.substring(1))&&(f[m]=(f[m]||[]).concat(function(a){var m={};m[b]=ca(a);v(c.node,m)}))}function b(c){var a=v(c.node,\"xlink:href\");a&&\"#\"==a.charAt()&&(a=a.substring(1))&&(f[a]=(f[a]||[]).concat(function(a){c.attr(\"xlink:href\",\"#\"+a)}))}var e=c.selectAll(\"*\"),h,d=/^\\s*url\\((\"|'|)(.*)\\1\\)\\s*$/;c=[];for(var f={},l=0,E=e.length;l<E;l++){h=e[l];a(h,\"fill\");a(h,\"stroke\");a(h,\"filter\");a(h,\"mask\");a(h,\"clip-path\");b(h);var t=v(h.node,\n",
       "\"id\");t&&(v(h.node,{id:h.id}),c.push({old:t,id:h.id}))}l=0;for(E=c.length;l<E;l++)if(e=f[c[l].old])for(h=0,t=e.length;h<t;h++)e[h](c[l].id)}function e(c,a,b){return function(m){m=m.slice(c,a);1==m.length&&(m=m[0]);return b?b(m):m}}function d(c){return function(){var a=c?\"<\"+this.type:\"\",b=this.node.attributes,m=this.node.childNodes;if(c)for(var e=0,h=b.length;e<h;e++)a+=\" \"+b[e].name+'=\"'+b[e].value.replace(/\"/g,'\\\\\"')+'\"';if(m.length){c&&(a+=\">\");e=0;for(h=m.length;e<h;e++)3==m[e].nodeType?a+=m[e].nodeValue:\n",
       "1==m[e].nodeType&&(a+=x(m[e]).toString());c&&(a+=\"</\"+this.type+\">\")}else c&&(a+=\"/>\");return a}}c.attr=function(c,a){if(!c)return this;if(y(c,\"string\"))if(1<arguments.length){var b={};b[c]=a;c=b}else return k(\"snap.util.getattr.\"+c,this).firstDefined();for(var m in c)c[h](m)&&k(\"snap.util.attr.\"+m,this,c[m]);return this};c.getBBox=function(c){if(!a.Matrix||!a.path)return this.node.getBBox();var b=this,m=new a.Matrix;if(b.removed)return a._.box();for(;\"use\"==b.type;)if(c||(m=m.add(b.transform().localMatrix.translate(b.attr(\"x\")||\n",
       "0,b.attr(\"y\")||0))),b.original)b=b.original;else var e=b.attr(\"xlink:href\"),b=b.original=b.node.ownerDocument.getElementById(e.substring(e.indexOf(\"#\")+1));var e=b._,h=a.path.get[b.type]||a.path.get.deflt;try{if(c)return e.bboxwt=h?a.path.getBBox(b.realPath=h(b)):a._.box(b.node.getBBox()),a._.box(e.bboxwt);b.realPath=h(b);b.matrix=b.transform().localMatrix;e.bbox=a.path.getBBox(a.path.map(b.realPath,m.add(b.matrix)));return a._.box(e.bbox)}catch(d){return a._.box()}};var f=function(){return this.string};\n",
       "c.transform=function(c){var b=this._;if(null==c){var m=this;c=new a.Matrix(this.node.getCTM());for(var e=n(this),h=[e],d=new a.Matrix,l=e.toTransformString(),b=J(e)==J(this.matrix)?J(b.transform):l;\"svg\"!=m.type&&(m=m.parent());)h.push(n(m));for(m=h.length;m--;)d.add(h[m]);return{string:b,globalMatrix:c,totalMatrix:d,localMatrix:e,diffMatrix:c.clone().add(e.invert()),global:c.toTransformString(),total:d.toTransformString(),local:l,toString:f}}c instanceof a.Matrix?this.matrix=c:n(this,c);this.node&&\n",
       "(\"linearGradient\"==this.type||\"radialGradient\"==this.type?v(this.node,{gradientTransform:this.matrix}):\"pattern\"==this.type?v(this.node,{patternTransform:this.matrix}):v(this.node,{transform:this.matrix}));return this};c.parent=function(){return x(this.node.parentNode)};c.append=c.add=function(c){if(c){if(\"set\"==c.type){var a=this;c.forEach(function(c){a.add(c)});return this}c=x(c);this.node.appendChild(c.node);c.paper=this.paper}return this};c.appendTo=function(c){c&&(c=x(c),c.append(this));return this};\n",
       "c.prepend=function(c){if(c){if(\"set\"==c.type){var a=this,b;c.forEach(function(c){b?b.after(c):a.prepend(c);b=c});return this}c=x(c);var m=c.parent();this.node.insertBefore(c.node,this.node.firstChild);this.add&&this.add();c.paper=this.paper;this.parent()&&this.parent().add();m&&m.add()}return this};c.prependTo=function(c){c=x(c);c.prepend(this);return this};c.before=function(c){if(\"set\"==c.type){var a=this;c.forEach(function(c){var b=c.parent();a.node.parentNode.insertBefore(c.node,a.node);b&&b.add()});\n",
       "this.parent().add();return this}c=x(c);var b=c.parent();this.node.parentNode.insertBefore(c.node,this.node);this.parent()&&this.parent().add();b&&b.add();c.paper=this.paper;return this};c.after=function(c){c=x(c);var a=c.parent();this.node.nextSibling?this.node.parentNode.insertBefore(c.node,this.node.nextSibling):this.node.parentNode.appendChild(c.node);this.parent()&&this.parent().add();a&&a.add();c.paper=this.paper;return this};c.insertBefore=function(c){c=x(c);var a=this.parent();c.node.parentNode.insertBefore(this.node,\n",
       "c.node);this.paper=c.paper;a&&a.add();c.parent()&&c.parent().add();return this};c.insertAfter=function(c){c=x(c);var a=this.parent();c.node.parentNode.insertBefore(this.node,c.node.nextSibling);this.paper=c.paper;a&&a.add();c.parent()&&c.parent().add();return this};c.remove=function(){var c=this.parent();this.node.parentNode&&this.node.parentNode.removeChild(this.node);delete this.paper;this.removed=!0;c&&c.add();return this};c.select=function(c){return x(this.node.querySelector(c))};c.selectAll=\n",
       "function(c){c=this.node.querySelectorAll(c);for(var b=(a.set||Array)(),m=0;m<c.length;m++)b.push(x(c[m]));return b};c.asPX=function(c,a){null==a&&(a=this.attr(c));return+b(this,c,a)};c.use=function(){var c,a=this.node.id;a||(a=this.id,v(this.node,{id:a}));c=\"linearGradient\"==this.type||\"radialGradient\"==this.type||\"pattern\"==this.type?r(this.type,this.node.parentNode):r(\"use\",this.node.parentNode);v(c.node,{\"xlink:href\":\"#\"+a});c.original=this;return c};var l=/\\S+/g;c.addClass=function(c){var a=(c||\n",
       "\"\").match(l)||[];c=this.node;var b=c.className.baseVal,m=b.match(l)||[],e,h,d;if(a.length){for(e=0;d=a[e++];)h=m.indexOf(d),~h||m.push(d);a=m.join(\" \");b!=a&&(c.className.baseVal=a)}return this};c.removeClass=function(c){var a=(c||\"\").match(l)||[];c=this.node;var b=c.className.baseVal,m=b.match(l)||[],e,h;if(m.length){for(e=0;h=a[e++];)h=m.indexOf(h),~h&&m.splice(h,1);a=m.join(\" \");b!=a&&(c.className.baseVal=a)}return this};c.hasClass=function(c){return!!~(this.node.className.baseVal.match(l)||[]).indexOf(c)};\n",
       "c.toggleClass=function(c,a){if(null!=a)return a?this.addClass(c):this.removeClass(c);var b=(c||\"\").match(l)||[],m=this.node,e=m.className.baseVal,h=e.match(l)||[],d,f,E;for(d=0;E=b[d++];)f=h.indexOf(E),~f?h.splice(f,1):h.push(E);b=h.join(\" \");e!=b&&(m.className.baseVal=b);return this};c.clone=function(){var c=x(this.node.cloneNode(!0));v(c.node,\"id\")&&v(c.node,{id:c.id});m(c);c.insertAfter(this);return c};c.toDefs=function(){u(this).appendChild(this.node);return this};c.pattern=c.toPattern=function(c,\n",
       "a,b,m){var e=r(\"pattern\",u(this));null==c&&(c=this.getBBox());y(c,\"object\")&&\"x\"in c&&(a=c.y,b=c.width,m=c.height,c=c.x);v(e.node,{x:c,y:a,width:b,height:m,patternUnits:\"userSpaceOnUse\",id:e.id,viewBox:[c,a,b,m].join(\" \")});e.node.appendChild(this.node);return e};c.marker=function(c,a,b,m,e,h){var d=r(\"marker\",u(this));null==c&&(c=this.getBBox());y(c,\"object\")&&\"x\"in c&&(a=c.y,b=c.width,m=c.height,e=c.refX||c.cx,h=c.refY||c.cy,c=c.x);v(d.node,{viewBox:[c,a,b,m].join(\" \"),markerWidth:b,markerHeight:m,\n",
       "orient:\"auto\",refX:e||0,refY:h||0,id:d.id});d.node.appendChild(this.node);return d};var E=function(c,a,b,m){\"function\"!=typeof b||b.length||(m=b,b=L.linear);this.attr=c;this.dur=a;b&&(this.easing=b);m&&(this.callback=m)};a._.Animation=E;a.animation=function(c,a,b,m){return new E(c,a,b,m)};c.inAnim=function(){var c=[],a;for(a in this.anims)this.anims[h](a)&&function(a){c.push({anim:new E(a._attrs,a.dur,a.easing,a._callback),mina:a,curStatus:a.status(),status:function(c){return a.status(c)},stop:function(){a.stop()}})}(this.anims[a]);\n",
       "return c};a.animate=function(c,a,b,m,e,h){\"function\"!=typeof e||e.length||(h=e,e=L.linear);var d=L.time();c=L(c,a,d,d+m,L.time,b,e);h&&k.once(\"mina.finish.\"+c.id,h);return c};c.stop=function(){for(var c=this.inAnim(),a=0,b=c.length;a<b;a++)c[a].stop();return this};c.animate=function(c,a,b,m){\"function\"!=typeof b||b.length||(m=b,b=L.linear);c instanceof E&&(m=c.callback,b=c.easing,a=b.dur,c=c.attr);var d=[],f=[],l={},t,ca,n,T=this,q;for(q in c)if(c[h](q)){T.equal?(n=T.equal(q,J(c[q])),t=n.from,ca=\n",
       "n.to,n=n.f):(t=+T.attr(q),ca=+c[q]);var la=y(t,\"array\")?t.length:1;l[q]=e(d.length,d.length+la,n);d=d.concat(t);f=f.concat(ca)}t=L.time();var p=L(d,f,t,t+a,L.time,function(c){var a={},b;for(b in l)l[h](b)&&(a[b]=l[b](c));T.attr(a)},b);T.anims[p.id]=p;p._attrs=c;p._callback=m;k(\"snap.animcreated.\"+T.id,p);k.once(\"mina.finish.\"+p.id,function(){delete T.anims[p.id];m&&m.call(T)});k.once(\"mina.stop.\"+p.id,function(){delete T.anims[p.id]});return T};var T={};c.data=function(c,b){var m=T[this.id]=T[this.id]||\n",
       "{};if(0==arguments.length)return k(\"snap.data.get.\"+this.id,this,m,null),m;if(1==arguments.length){if(a.is(c,\"object\")){for(var e in c)c[h](e)&&this.data(e,c[e]);return this}k(\"snap.data.get.\"+this.id,this,m[c],c);return m[c]}m[c]=b;k(\"snap.data.set.\"+this.id,this,b,c);return this};c.removeData=function(c){null==c?T[this.id]={}:T[this.id]&&delete T[this.id][c];return this};c.outerSVG=c.toString=d(1);c.innerSVG=d()})(e.prototype);a.parse=function(c){var a=G.doc.createDocumentFragment(),b=!0,m=G.doc.createElement(\"div\");\n",
       "c=J(c);c.match(/^\\s*<\\s*svg(?:\\s|>)/)||(c=\"<svg>\"+c+\"</svg>\",b=!1);m.innerHTML=c;if(c=m.getElementsByTagName(\"svg\")[0])if(b)a=c;else for(;c.firstChild;)a.appendChild(c.firstChild);m.innerHTML=aa;return new l(a)};l.prototype.select=e.prototype.select;l.prototype.selectAll=e.prototype.selectAll;a.fragment=function(){for(var c=Array.prototype.slice.call(arguments,0),b=G.doc.createDocumentFragment(),m=0,e=c.length;m<e;m++){var h=c[m];h.node&&h.node.nodeType&&b.appendChild(h.node);h.nodeType&&b.appendChild(h);\n",
       "\"string\"==typeof h&&b.appendChild(a.parse(h).node)}return new l(b)};a._.make=r;a._.wrap=x;s.prototype.el=function(c,a){var b=r(c,this.node);a&&b.attr(a);return b};k.on(\"snap.util.getattr\",function(){var c=k.nt(),c=c.substring(c.lastIndexOf(\".\")+1),a=c.replace(/[A-Z]/g,function(c){return\"-\"+c.toLowerCase()});return pa[h](a)?this.node.ownerDocument.defaultView.getComputedStyle(this.node,null).getPropertyValue(a):v(this.node,c)});var pa={\"alignment-baseline\":0,\"baseline-shift\":0,clip:0,\"clip-path\":0,\n",
       "\"clip-rule\":0,color:0,\"color-interpolation\":0,\"color-interpolation-filters\":0,\"color-profile\":0,\"color-rendering\":0,cursor:0,direction:0,display:0,\"dominant-baseline\":0,\"enable-background\":0,fill:0,\"fill-opacity\":0,\"fill-rule\":0,filter:0,\"flood-color\":0,\"flood-opacity\":0,font:0,\"font-family\":0,\"font-size\":0,\"font-size-adjust\":0,\"font-stretch\":0,\"font-style\":0,\"font-variant\":0,\"font-weight\":0,\"glyph-orientation-horizontal\":0,\"glyph-orientation-vertical\":0,\"image-rendering\":0,kerning:0,\"letter-spacing\":0,\n",
       "\"lighting-color\":0,marker:0,\"marker-end\":0,\"marker-mid\":0,\"marker-start\":0,mask:0,opacity:0,overflow:0,\"pointer-events\":0,\"shape-rendering\":0,\"stop-color\":0,\"stop-opacity\":0,stroke:0,\"stroke-dasharray\":0,\"stroke-dashoffset\":0,\"stroke-linecap\":0,\"stroke-linejoin\":0,\"stroke-miterlimit\":0,\"stroke-opacity\":0,\"stroke-width\":0,\"text-anchor\":0,\"text-decoration\":0,\"text-rendering\":0,\"unicode-bidi\":0,visibility:0,\"word-spacing\":0,\"writing-mode\":0};k.on(\"snap.util.attr\",function(c){var a=k.nt(),b={},a=a.substring(a.lastIndexOf(\".\")+\n",
       "1);b[a]=c;var m=a.replace(/-(\\w)/gi,function(c,a){return a.toUpperCase()}),a=a.replace(/[A-Z]/g,function(c){return\"-\"+c.toLowerCase()});pa[h](a)?this.node.style[m]=null==c?aa:c:v(this.node,b)});a.ajax=function(c,a,b,m){var e=new XMLHttpRequest,h=V();if(e){if(y(a,\"function\"))m=b,b=a,a=null;else if(y(a,\"object\")){var d=[],f;for(f in a)a.hasOwnProperty(f)&&d.push(encodeURIComponent(f)+\"=\"+encodeURIComponent(a[f]));a=d.join(\"&\")}e.open(a?\"POST\":\"GET\",c,!0);a&&(e.setRequestHeader(\"X-Requested-With\",\"XMLHttpRequest\"),\n",
       "e.setRequestHeader(\"Content-type\",\"application/x-www-form-urlencoded\"));b&&(k.once(\"snap.ajax.\"+h+\".0\",b),k.once(\"snap.ajax.\"+h+\".200\",b),k.once(\"snap.ajax.\"+h+\".304\",b));e.onreadystatechange=function(){4==e.readyState&&k(\"snap.ajax.\"+h+\".\"+e.status,m,e)};if(4==e.readyState)return e;e.send(a);return e}};a.load=function(c,b,m){a.ajax(c,function(c){c=a.parse(c.responseText);m?b.call(m,c):b(c)})};a.getElementByPoint=function(c,a){var b,m,e=G.doc.elementFromPoint(c,a);if(G.win.opera&&\"svg\"==e.tagName){b=\n",
       "e;m=b.getBoundingClientRect();b=b.ownerDocument;var h=b.body,d=b.documentElement;b=m.top+(g.win.pageYOffset||d.scrollTop||h.scrollTop)-(d.clientTop||h.clientTop||0);m=m.left+(g.win.pageXOffset||d.scrollLeft||h.scrollLeft)-(d.clientLeft||h.clientLeft||0);h=e.createSVGRect();h.x=c-m;h.y=a-b;h.width=h.height=1;b=e.getIntersectionList(h,null);b.length&&(e=b[b.length-1])}return e?x(e):null};a.plugin=function(c){c(a,e,s,G,l)};return G.win.Snap=a}();C.plugin(function(a,k,y,M,A){function w(a,d,f,b,q,e){null==\n",
       "d&&\"[object SVGMatrix]\"==z.call(a)?(this.a=a.a,this.b=a.b,this.c=a.c,this.d=a.d,this.e=a.e,this.f=a.f):null!=a?(this.a=+a,this.b=+d,this.c=+f,this.d=+b,this.e=+q,this.f=+e):(this.a=1,this.c=this.b=0,this.d=1,this.f=this.e=0)}var z=Object.prototype.toString,d=String,f=Math;(function(n){function k(a){return a[0]*a[0]+a[1]*a[1]}function p(a){var d=f.sqrt(k(a));a[0]&&(a[0]/=d);a[1]&&(a[1]/=d)}n.add=function(a,d,e,f,n,p){var k=[[],[],[] ],u=[[this.a,this.c,this.e],[this.b,this.d,this.f],[0,0,1] ];d=[[a,\n",
       "e,n],[d,f,p],[0,0,1] ];a&&a instanceof w&&(d=[[a.a,a.c,a.e],[a.b,a.d,a.f],[0,0,1] ]);for(a=0;3>a;a++)for(e=0;3>e;e++){for(f=n=0;3>f;f++)n+=u[a][f]*d[f][e];k[a][e]=n}this.a=k[0][0];this.b=k[1][0];this.c=k[0][1];this.d=k[1][1];this.e=k[0][2];this.f=k[1][2];return this};n.invert=function(){var a=this.a*this.d-this.b*this.c;return new w(this.d/a,-this.b/a,-this.c/a,this.a/a,(this.c*this.f-this.d*this.e)/a,(this.b*this.e-this.a*this.f)/a)};n.clone=function(){return new w(this.a,this.b,this.c,this.d,this.e,\n",
       "this.f)};n.translate=function(a,d){return this.add(1,0,0,1,a,d)};n.scale=function(a,d,e,f){null==d&&(d=a);(e||f)&&this.add(1,0,0,1,e,f);this.add(a,0,0,d,0,0);(e||f)&&this.add(1,0,0,1,-e,-f);return this};n.rotate=function(b,d,e){b=a.rad(b);d=d||0;e=e||0;var l=+f.cos(b).toFixed(9);b=+f.sin(b).toFixed(9);this.add(l,b,-b,l,d,e);return this.add(1,0,0,1,-d,-e)};n.x=function(a,d){return a*this.a+d*this.c+this.e};n.y=function(a,d){return a*this.b+d*this.d+this.f};n.get=function(a){return+this[d.fromCharCode(97+\n",
       "a)].toFixed(4)};n.toString=function(){return\"matrix(\"+[this.get(0),this.get(1),this.get(2),this.get(3),this.get(4),this.get(5)].join()+\")\"};n.offset=function(){return[this.e.toFixed(4),this.f.toFixed(4)]};n.determinant=function(){return this.a*this.d-this.b*this.c};n.split=function(){var b={};b.dx=this.e;b.dy=this.f;var d=[[this.a,this.c],[this.b,this.d] ];b.scalex=f.sqrt(k(d[0]));p(d[0]);b.shear=d[0][0]*d[1][0]+d[0][1]*d[1][1];d[1]=[d[1][0]-d[0][0]*b.shear,d[1][1]-d[0][1]*b.shear];b.scaley=f.sqrt(k(d[1]));\n",
       "p(d[1]);b.shear/=b.scaley;0>this.determinant()&&(b.scalex=-b.scalex);var e=-d[0][1],d=d[1][1];0>d?(b.rotate=a.deg(f.acos(d)),0>e&&(b.rotate=360-b.rotate)):b.rotate=a.deg(f.asin(e));b.isSimple=!+b.shear.toFixed(9)&&(b.scalex.toFixed(9)==b.scaley.toFixed(9)||!b.rotate);b.isSuperSimple=!+b.shear.toFixed(9)&&b.scalex.toFixed(9)==b.scaley.toFixed(9)&&!b.rotate;b.noRotation=!+b.shear.toFixed(9)&&!b.rotate;return b};n.toTransformString=function(a){a=a||this.split();if(+a.shear.toFixed(9))return\"m\"+[this.get(0),\n",
       "this.get(1),this.get(2),this.get(3),this.get(4),this.get(5)];a.scalex=+a.scalex.toFixed(4);a.scaley=+a.scaley.toFixed(4);a.rotate=+a.rotate.toFixed(4);return(a.dx||a.dy?\"t\"+[+a.dx.toFixed(4),+a.dy.toFixed(4)]:\"\")+(1!=a.scalex||1!=a.scaley?\"s\"+[a.scalex,a.scaley,0,0]:\"\")+(a.rotate?\"r\"+[+a.rotate.toFixed(4),0,0]:\"\")}})(w.prototype);a.Matrix=w;a.matrix=function(a,d,f,b,k,e){return new w(a,d,f,b,k,e)}});C.plugin(function(a,v,y,M,A){function w(h){return function(d){k.stop();d instanceof A&&1==d.node.childNodes.length&&\n",
       "(\"radialGradient\"==d.node.firstChild.tagName||\"linearGradient\"==d.node.firstChild.tagName||\"pattern\"==d.node.firstChild.tagName)&&(d=d.node.firstChild,b(this).appendChild(d),d=u(d));if(d instanceof v)if(\"radialGradient\"==d.type||\"linearGradient\"==d.type||\"pattern\"==d.type){d.node.id||e(d.node,{id:d.id});var f=l(d.node.id)}else f=d.attr(h);else f=a.color(d),f.error?(f=a(b(this).ownerSVGElement).gradient(d))?(f.node.id||e(f.node,{id:f.id}),f=l(f.node.id)):f=d:f=r(f);d={};d[h]=f;e(this.node,d);this.node.style[h]=\n",
       "x}}function z(a){k.stop();a==+a&&(a+=\"px\");this.node.style.fontSize=a}function d(a){var b=[];a=a.childNodes;for(var e=0,f=a.length;e<f;e++){var l=a[e];3==l.nodeType&&b.push(l.nodeValue);\"tspan\"==l.tagName&&(1==l.childNodes.length&&3==l.firstChild.nodeType?b.push(l.firstChild.nodeValue):b.push(d(l)))}return b}function f(){k.stop();return this.node.style.fontSize}var n=a._.make,u=a._.wrap,p=a.is,b=a._.getSomeDefs,q=/^url\\(#?([^)]+)\\)$/,e=a._.$,l=a.url,r=String,s=a._.separator,x=\"\";k.on(\"snap.util.attr.mask\",\n",
       "function(a){if(a instanceof v||a instanceof A){k.stop();a instanceof A&&1==a.node.childNodes.length&&(a=a.node.firstChild,b(this).appendChild(a),a=u(a));if(\"mask\"==a.type)var d=a;else d=n(\"mask\",b(this)),d.node.appendChild(a.node);!d.node.id&&e(d.node,{id:d.id});e(this.node,{mask:l(d.id)})}});(function(a){k.on(\"snap.util.attr.clip\",a);k.on(\"snap.util.attr.clip-path\",a);k.on(\"snap.util.attr.clipPath\",a)})(function(a){if(a instanceof v||a instanceof A){k.stop();if(\"clipPath\"==a.type)var d=a;else d=\n",
       "n(\"clipPath\",b(this)),d.node.appendChild(a.node),!d.node.id&&e(d.node,{id:d.id});e(this.node,{\"clip-path\":l(d.id)})}});k.on(\"snap.util.attr.fill\",w(\"fill\"));k.on(\"snap.util.attr.stroke\",w(\"stroke\"));var G=/^([lr])(?:\\(([^)]*)\\))?(.*)$/i;k.on(\"snap.util.grad.parse\",function(a){a=r(a);var b=a.match(G);if(!b)return null;a=b[1];var e=b[2],b=b[3],e=e.split(/\\s*,\\s*/).map(function(a){return+a==a?+a:a});1==e.length&&0==e[0]&&(e=[]);b=b.split(\"-\");b=b.map(function(a){a=a.split(\":\");var b={color:a[0]};a[1]&&\n",
       "(b.offset=parseFloat(a[1]));return b});return{type:a,params:e,stops:b}});k.on(\"snap.util.attr.d\",function(b){k.stop();p(b,\"array\")&&p(b[0],\"array\")&&(b=a.path.toString.call(b));b=r(b);b.match(/[ruo]/i)&&(b=a.path.toAbsolute(b));e(this.node,{d:b})})(-1);k.on(\"snap.util.attr.#text\",function(a){k.stop();a=r(a);for(a=M.doc.createTextNode(a);this.node.firstChild;)this.node.removeChild(this.node.firstChild);this.node.appendChild(a)})(-1);k.on(\"snap.util.attr.path\",function(a){k.stop();this.attr({d:a})})(-1);\n",
       "k.on(\"snap.util.attr.class\",function(a){k.stop();this.node.className.baseVal=a})(-1);k.on(\"snap.util.attr.viewBox\",function(a){a=p(a,\"object\")&&\"x\"in a?[a.x,a.y,a.width,a.height].join(\" \"):p(a,\"array\")?a.join(\" \"):a;e(this.node,{viewBox:a});k.stop()})(-1);k.on(\"snap.util.attr.transform\",function(a){this.transform(a);k.stop()})(-1);k.on(\"snap.util.attr.r\",function(a){\"rect\"==this.type&&(k.stop(),e(this.node,{rx:a,ry:a}))})(-1);k.on(\"snap.util.attr.textpath\",function(a){k.stop();if(\"text\"==this.type){var d,\n",
       "f;if(!a&&this.textPath){for(a=this.textPath;a.node.firstChild;)this.node.appendChild(a.node.firstChild);a.remove();delete this.textPath}else if(p(a,\"string\")?(d=b(this),a=u(d.parentNode).path(a),d.appendChild(a.node),d=a.id,a.attr({id:d})):(a=u(a),a instanceof v&&(d=a.attr(\"id\"),d||(d=a.id,a.attr({id:d})))),d)if(a=this.textPath,f=this.node,a)a.attr({\"xlink:href\":\"#\"+d});else{for(a=e(\"textPath\",{\"xlink:href\":\"#\"+d});f.firstChild;)a.appendChild(f.firstChild);f.appendChild(a);this.textPath=u(a)}}})(-1);\n",
       "k.on(\"snap.util.attr.text\",function(a){if(\"text\"==this.type){for(var b=this.node,d=function(a){var b=e(\"tspan\");if(p(a,\"array\"))for(var f=0;f<a.length;f++)b.appendChild(d(a[f]));else b.appendChild(M.doc.createTextNode(a));b.normalize&&b.normalize();return b};b.firstChild;)b.removeChild(b.firstChild);for(a=d(a);a.firstChild;)b.appendChild(a.firstChild)}k.stop()})(-1);k.on(\"snap.util.attr.fontSize\",z)(-1);k.on(\"snap.util.attr.font-size\",z)(-1);k.on(\"snap.util.getattr.transform\",function(){k.stop();\n",
       "return this.transform()})(-1);k.on(\"snap.util.getattr.textpath\",function(){k.stop();return this.textPath})(-1);(function(){function b(d){return function(){k.stop();var b=M.doc.defaultView.getComputedStyle(this.node,null).getPropertyValue(\"marker-\"+d);return\"none\"==b?b:a(M.doc.getElementById(b.match(q)[1]))}}function d(a){return function(b){k.stop();var d=\"marker\"+a.charAt(0).toUpperCase()+a.substring(1);if(\"\"==b||!b)this.node.style[d]=\"none\";else if(\"marker\"==b.type){var f=b.node.id;f||e(b.node,{id:b.id});\n",
       "this.node.style[d]=l(f)}}}k.on(\"snap.util.getattr.marker-end\",b(\"end\"))(-1);k.on(\"snap.util.getattr.markerEnd\",b(\"end\"))(-1);k.on(\"snap.util.getattr.marker-start\",b(\"start\"))(-1);k.on(\"snap.util.getattr.markerStart\",b(\"start\"))(-1);k.on(\"snap.util.getattr.marker-mid\",b(\"mid\"))(-1);k.on(\"snap.util.getattr.markerMid\",b(\"mid\"))(-1);k.on(\"snap.util.attr.marker-end\",d(\"end\"))(-1);k.on(\"snap.util.attr.markerEnd\",d(\"end\"))(-1);k.on(\"snap.util.attr.marker-start\",d(\"start\"))(-1);k.on(\"snap.util.attr.markerStart\",\n",
       "d(\"start\"))(-1);k.on(\"snap.util.attr.marker-mid\",d(\"mid\"))(-1);k.on(\"snap.util.attr.markerMid\",d(\"mid\"))(-1)})();k.on(\"snap.util.getattr.r\",function(){if(\"rect\"==this.type&&e(this.node,\"rx\")==e(this.node,\"ry\"))return k.stop(),e(this.node,\"rx\")})(-1);k.on(\"snap.util.getattr.text\",function(){if(\"text\"==this.type||\"tspan\"==this.type){k.stop();var a=d(this.node);return 1==a.length?a[0]:a}})(-1);k.on(\"snap.util.getattr.#text\",function(){return this.node.textContent})(-1);k.on(\"snap.util.getattr.viewBox\",\n",
       "function(){k.stop();var b=e(this.node,\"viewBox\");if(b)return b=b.split(s),a._.box(+b[0],+b[1],+b[2],+b[3])})(-1);k.on(\"snap.util.getattr.points\",function(){var a=e(this.node,\"points\");k.stop();if(a)return a.split(s)})(-1);k.on(\"snap.util.getattr.path\",function(){var a=e(this.node,\"d\");k.stop();return a})(-1);k.on(\"snap.util.getattr.class\",function(){return this.node.className.baseVal})(-1);k.on(\"snap.util.getattr.fontSize\",f)(-1);k.on(\"snap.util.getattr.font-size\",f)(-1)});C.plugin(function(a,v,y,\n",
       "M,A){function w(a){return a}function z(a){return function(b){return+b.toFixed(3)+a}}var d={\"+\":function(a,b){return a+b},\"-\":function(a,b){return a-b},\"/\":function(a,b){return a/b},\"*\":function(a,b){return a*b}},f=String,n=/[a-z]+$/i,u=/^\\s*([+\\-\\/*])\\s*=\\s*([\\d.eE+\\-]+)\\s*([^\\d\\s]+)?\\s*$/;k.on(\"snap.util.attr\",function(a){if(a=f(a).match(u)){var b=k.nt(),b=b.substring(b.lastIndexOf(\".\")+1),q=this.attr(b),e={};k.stop();var l=a[3]||\"\",r=q.match(n),s=d[a[1] ];r&&r==l?a=s(parseFloat(q),+a[2]):(q=this.asPX(b),\n",
       "a=s(this.asPX(b),this.asPX(b,a[2]+l)));isNaN(q)||isNaN(a)||(e[b]=a,this.attr(e))}})(-10);k.on(\"snap.util.equal\",function(a,b){var q=f(this.attr(a)||\"\"),e=f(b).match(u);if(e){k.stop();var l=e[3]||\"\",r=q.match(n),s=d[e[1] ];if(r&&r==l)return{from:parseFloat(q),to:s(parseFloat(q),+e[2]),f:z(r)};q=this.asPX(a);return{from:q,to:s(q,this.asPX(a,e[2]+l)),f:w}}})(-10)});C.plugin(function(a,v,y,M,A){var w=y.prototype,z=a.is;w.rect=function(a,d,k,p,b,q){var e;null==q&&(q=b);z(a,\"object\")&&\"[object Object]\"==\n",
       "a?e=a:null!=a&&(e={x:a,y:d,width:k,height:p},null!=b&&(e.rx=b,e.ry=q));return this.el(\"rect\",e)};w.circle=function(a,d,k){var p;z(a,\"object\")&&\"[object Object]\"==a?p=a:null!=a&&(p={cx:a,cy:d,r:k});return this.el(\"circle\",p)};var d=function(){function a(){this.parentNode.removeChild(this)}return function(d,k){var p=M.doc.createElement(\"img\"),b=M.doc.body;p.style.cssText=\"position:absolute;left:-9999em;top:-9999em\";p.onload=function(){k.call(p);p.onload=p.onerror=null;b.removeChild(p)};p.onerror=a;\n",
       "b.appendChild(p);p.src=d}}();w.image=function(f,n,k,p,b){var q=this.el(\"image\");if(z(f,\"object\")&&\"src\"in f)q.attr(f);else if(null!=f){var e={\"xlink:href\":f,preserveAspectRatio:\"none\"};null!=n&&null!=k&&(e.x=n,e.y=k);null!=p&&null!=b?(e.width=p,e.height=b):d(f,function(){a._.$(q.node,{width:this.offsetWidth,height:this.offsetHeight})});a._.$(q.node,e)}return q};w.ellipse=function(a,d,k,p){var b;z(a,\"object\")&&\"[object Object]\"==a?b=a:null!=a&&(b={cx:a,cy:d,rx:k,ry:p});return this.el(\"ellipse\",b)};\n",
       "w.path=function(a){var d;z(a,\"object\")&&!z(a,\"array\")?d=a:a&&(d={d:a});return this.el(\"path\",d)};w.group=w.g=function(a){var d=this.el(\"g\");1==arguments.length&&a&&!a.type?d.attr(a):arguments.length&&d.add(Array.prototype.slice.call(arguments,0));return d};w.svg=function(a,d,k,p,b,q,e,l){var r={};z(a,\"object\")&&null==d?r=a:(null!=a&&(r.x=a),null!=d&&(r.y=d),null!=k&&(r.width=k),null!=p&&(r.height=p),null!=b&&null!=q&&null!=e&&null!=l&&(r.viewBox=[b,q,e,l]));return this.el(\"svg\",r)};w.mask=function(a){var d=\n",
       "this.el(\"mask\");1==arguments.length&&a&&!a.type?d.attr(a):arguments.length&&d.add(Array.prototype.slice.call(arguments,0));return d};w.ptrn=function(a,d,k,p,b,q,e,l){if(z(a,\"object\"))var r=a;else arguments.length?(r={},null!=a&&(r.x=a),null!=d&&(r.y=d),null!=k&&(r.width=k),null!=p&&(r.height=p),null!=b&&null!=q&&null!=e&&null!=l&&(r.viewBox=[b,q,e,l])):r={patternUnits:\"userSpaceOnUse\"};return this.el(\"pattern\",r)};w.use=function(a){return null!=a?(make(\"use\",this.node),a instanceof v&&(a.attr(\"id\")||\n",
       "a.attr({id:ID()}),a=a.attr(\"id\")),this.el(\"use\",{\"xlink:href\":a})):v.prototype.use.call(this)};w.text=function(a,d,k){var p={};z(a,\"object\")?p=a:null!=a&&(p={x:a,y:d,text:k||\"\"});return this.el(\"text\",p)};w.line=function(a,d,k,p){var b={};z(a,\"object\")?b=a:null!=a&&(b={x1:a,x2:k,y1:d,y2:p});return this.el(\"line\",b)};w.polyline=function(a){1<arguments.length&&(a=Array.prototype.slice.call(arguments,0));var d={};z(a,\"object\")&&!z(a,\"array\")?d=a:null!=a&&(d={points:a});return this.el(\"polyline\",d)};\n",
       "w.polygon=function(a){1<arguments.length&&(a=Array.prototype.slice.call(arguments,0));var d={};z(a,\"object\")&&!z(a,\"array\")?d=a:null!=a&&(d={points:a});return this.el(\"polygon\",d)};(function(){function d(){return this.selectAll(\"stop\")}function n(b,d){var f=e(\"stop\"),k={offset:+d+\"%\"};b=a.color(b);k[\"stop-color\"]=b.hex;1>b.opacity&&(k[\"stop-opacity\"]=b.opacity);e(f,k);this.node.appendChild(f);return this}function u(){if(\"linearGradient\"==this.type){var b=e(this.node,\"x1\")||0,d=e(this.node,\"x2\")||\n",
       "1,f=e(this.node,\"y1\")||0,k=e(this.node,\"y2\")||0;return a._.box(b,f,math.abs(d-b),math.abs(k-f))}b=this.node.r||0;return a._.box((this.node.cx||0.5)-b,(this.node.cy||0.5)-b,2*b,2*b)}function p(a,d){function f(a,b){for(var d=(b-u)/(a-w),e=w;e<a;e++)h[e].offset=+(+u+d*(e-w)).toFixed(2);w=a;u=b}var n=k(\"snap.util.grad.parse\",null,d).firstDefined(),p;if(!n)return null;n.params.unshift(a);p=\"l\"==n.type.toLowerCase()?b.apply(0,n.params):q.apply(0,n.params);n.type!=n.type.toLowerCase()&&e(p.node,{gradientUnits:\"userSpaceOnUse\"});\n",
       "var h=n.stops,n=h.length,u=0,w=0;n--;for(var v=0;v<n;v++)\"offset\"in h[v]&&f(v,h[v].offset);h[n].offset=h[n].offset||100;f(n,h[n].offset);for(v=0;v<=n;v++){var y=h[v];p.addStop(y.color,y.offset)}return p}function b(b,k,p,q,w){b=a._.make(\"linearGradient\",b);b.stops=d;b.addStop=n;b.getBBox=u;null!=k&&e(b.node,{x1:k,y1:p,x2:q,y2:w});return b}function q(b,k,p,q,w,h){b=a._.make(\"radialGradient\",b);b.stops=d;b.addStop=n;b.getBBox=u;null!=k&&e(b.node,{cx:k,cy:p,r:q});null!=w&&null!=h&&e(b.node,{fx:w,fy:h});\n",
       "return b}var e=a._.$;w.gradient=function(a){return p(this.defs,a)};w.gradientLinear=function(a,d,e,f){return b(this.defs,a,d,e,f)};w.gradientRadial=function(a,b,d,e,f){return q(this.defs,a,b,d,e,f)};w.toString=function(){var b=this.node.ownerDocument,d=b.createDocumentFragment(),b=b.createElement(\"div\"),e=this.node.cloneNode(!0);d.appendChild(b);b.appendChild(e);a._.$(e,{xmlns:\"http://www.w3.org/2000/svg\"});b=b.innerHTML;d.removeChild(d.firstChild);return b};w.clear=function(){for(var a=this.node.firstChild,\n",
       "b;a;)b=a.nextSibling,\"defs\"!=a.tagName?a.parentNode.removeChild(a):w.clear.call({node:a}),a=b}})()});C.plugin(function(a,k,y,M){function A(a){var b=A.ps=A.ps||{};b[a]?b[a].sleep=100:b[a]={sleep:100};setTimeout(function(){for(var d in b)b[L](d)&&d!=a&&(b[d].sleep--,!b[d].sleep&&delete b[d])});return b[a]}function w(a,b,d,e){null==a&&(a=b=d=e=0);null==b&&(b=a.y,d=a.width,e=a.height,a=a.x);return{x:a,y:b,width:d,w:d,height:e,h:e,x2:a+d,y2:b+e,cx:a+d/2,cy:b+e/2,r1:F.min(d,e)/2,r2:F.max(d,e)/2,r0:F.sqrt(d*\n",
       "d+e*e)/2,path:s(a,b,d,e),vb:[a,b,d,e].join(\" \")}}function z(){return this.join(\",\").replace(N,\"$1\")}function d(a){a=C(a);a.toString=z;return a}function f(a,b,d,h,f,k,l,n,p){if(null==p)return e(a,b,d,h,f,k,l,n);if(0>p||e(a,b,d,h,f,k,l,n)<p)p=void 0;else{var q=0.5,O=1-q,s;for(s=e(a,b,d,h,f,k,l,n,O);0.01<Z(s-p);)q/=2,O+=(s<p?1:-1)*q,s=e(a,b,d,h,f,k,l,n,O);p=O}return u(a,b,d,h,f,k,l,n,p)}function n(b,d){function e(a){return+(+a).toFixed(3)}return a._.cacher(function(a,h,l){a instanceof k&&(a=a.attr(\"d\"));\n",
       "a=I(a);for(var n,p,D,q,O=\"\",s={},c=0,t=0,r=a.length;t<r;t++){D=a[t];if(\"M\"==D[0])n=+D[1],p=+D[2];else{q=f(n,p,D[1],D[2],D[3],D[4],D[5],D[6]);if(c+q>h){if(d&&!s.start){n=f(n,p,D[1],D[2],D[3],D[4],D[5],D[6],h-c);O+=[\"C\"+e(n.start.x),e(n.start.y),e(n.m.x),e(n.m.y),e(n.x),e(n.y)];if(l)return O;s.start=O;O=[\"M\"+e(n.x),e(n.y)+\"C\"+e(n.n.x),e(n.n.y),e(n.end.x),e(n.end.y),e(D[5]),e(D[6])].join();c+=q;n=+D[5];p=+D[6];continue}if(!b&&!d)return n=f(n,p,D[1],D[2],D[3],D[4],D[5],D[6],h-c)}c+=q;n=+D[5];p=+D[6]}O+=\n",
       "D.shift()+D}s.end=O;return n=b?c:d?s:u(n,p,D[0],D[1],D[2],D[3],D[4],D[5],1)},null,a._.clone)}function u(a,b,d,e,h,f,k,l,n){var p=1-n,q=ma(p,3),s=ma(p,2),c=n*n,t=c*n,r=q*a+3*s*n*d+3*p*n*n*h+t*k,q=q*b+3*s*n*e+3*p*n*n*f+t*l,s=a+2*n*(d-a)+c*(h-2*d+a),t=b+2*n*(e-b)+c*(f-2*e+b),x=d+2*n*(h-d)+c*(k-2*h+d),c=e+2*n*(f-e)+c*(l-2*f+e);a=p*a+n*d;b=p*b+n*e;h=p*h+n*k;f=p*f+n*l;l=90-180*F.atan2(s-x,t-c)/S;return{x:r,y:q,m:{x:s,y:t},n:{x:x,y:c},start:{x:a,y:b},end:{x:h,y:f},alpha:l}}function p(b,d,e,h,f,n,k,l){a.is(b,\n",
       "\"array\")||(b=[b,d,e,h,f,n,k,l]);b=U.apply(null,b);return w(b.min.x,b.min.y,b.max.x-b.min.x,b.max.y-b.min.y)}function b(a,b,d){return b>=a.x&&b<=a.x+a.width&&d>=a.y&&d<=a.y+a.height}function q(a,d){a=w(a);d=w(d);return b(d,a.x,a.y)||b(d,a.x2,a.y)||b(d,a.x,a.y2)||b(d,a.x2,a.y2)||b(a,d.x,d.y)||b(a,d.x2,d.y)||b(a,d.x,d.y2)||b(a,d.x2,d.y2)||(a.x<d.x2&&a.x>d.x||d.x<a.x2&&d.x>a.x)&&(a.y<d.y2&&a.y>d.y||d.y<a.y2&&d.y>a.y)}function e(a,b,d,e,h,f,n,k,l){null==l&&(l=1);l=(1<l?1:0>l?0:l)/2;for(var p=[-0.1252,\n",
       "0.1252,-0.3678,0.3678,-0.5873,0.5873,-0.7699,0.7699,-0.9041,0.9041,-0.9816,0.9816],q=[0.2491,0.2491,0.2335,0.2335,0.2032,0.2032,0.1601,0.1601,0.1069,0.1069,0.0472,0.0472],s=0,c=0;12>c;c++)var t=l*p[c]+l,r=t*(t*(-3*a+9*d-9*h+3*n)+6*a-12*d+6*h)-3*a+3*d,t=t*(t*(-3*b+9*e-9*f+3*k)+6*b-12*e+6*f)-3*b+3*e,s=s+q[c]*F.sqrt(r*r+t*t);return l*s}function l(a,b,d){a=I(a);b=I(b);for(var h,f,l,n,k,s,r,O,x,c,t=d?0:[],w=0,v=a.length;w<v;w++)if(x=a[w],\"M\"==x[0])h=k=x[1],f=s=x[2];else{\"C\"==x[0]?(x=[h,f].concat(x.slice(1)),\n",
       "h=x[6],f=x[7]):(x=[h,f,h,f,k,s,k,s],h=k,f=s);for(var G=0,y=b.length;G<y;G++)if(c=b[G],\"M\"==c[0])l=r=c[1],n=O=c[2];else{\"C\"==c[0]?(c=[l,n].concat(c.slice(1)),l=c[6],n=c[7]):(c=[l,n,l,n,r,O,r,O],l=r,n=O);var z;var K=x,B=c;z=d;var H=p(K),J=p(B);if(q(H,J)){for(var H=e.apply(0,K),J=e.apply(0,B),H=~~(H/8),J=~~(J/8),U=[],A=[],F={},M=z?0:[],P=0;P<H+1;P++){var C=u.apply(0,K.concat(P/H));U.push({x:C.x,y:C.y,t:P/H})}for(P=0;P<J+1;P++)C=u.apply(0,B.concat(P/J)),A.push({x:C.x,y:C.y,t:P/J});for(P=0;P<H;P++)for(K=\n",
       "0;K<J;K++){var Q=U[P],L=U[P+1],B=A[K],C=A[K+1],N=0.001>Z(L.x-Q.x)?\"y\":\"x\",S=0.001>Z(C.x-B.x)?\"y\":\"x\",R;R=Q.x;var Y=Q.y,V=L.x,ea=L.y,fa=B.x,ga=B.y,ha=C.x,ia=C.y;if(W(R,V)<X(fa,ha)||X(R,V)>W(fa,ha)||W(Y,ea)<X(ga,ia)||X(Y,ea)>W(ga,ia))R=void 0;else{var $=(R*ea-Y*V)*(fa-ha)-(R-V)*(fa*ia-ga*ha),aa=(R*ea-Y*V)*(ga-ia)-(Y-ea)*(fa*ia-ga*ha),ja=(R-V)*(ga-ia)-(Y-ea)*(fa-ha);if(ja){var $=$/ja,aa=aa/ja,ja=+$.toFixed(2),ba=+aa.toFixed(2);R=ja<+X(R,V).toFixed(2)||ja>+W(R,V).toFixed(2)||ja<+X(fa,ha).toFixed(2)||\n",
       "ja>+W(fa,ha).toFixed(2)||ba<+X(Y,ea).toFixed(2)||ba>+W(Y,ea).toFixed(2)||ba<+X(ga,ia).toFixed(2)||ba>+W(ga,ia).toFixed(2)?void 0:{x:$,y:aa}}else R=void 0}R&&F[R.x.toFixed(4)]!=R.y.toFixed(4)&&(F[R.x.toFixed(4)]=R.y.toFixed(4),Q=Q.t+Z((R[N]-Q[N])/(L[N]-Q[N]))*(L.t-Q.t),B=B.t+Z((R[S]-B[S])/(C[S]-B[S]))*(C.t-B.t),0<=Q&&1>=Q&&0<=B&&1>=B&&(z?M++:M.push({x:R.x,y:R.y,t1:Q,t2:B})))}z=M}else z=z?0:[];if(d)t+=z;else{H=0;for(J=z.length;H<J;H++)z[H].segment1=w,z[H].segment2=G,z[H].bez1=x,z[H].bez2=c;t=t.concat(z)}}}return t}\n",
       "function r(a){var b=A(a);if(b.bbox)return C(b.bbox);if(!a)return w();a=I(a);for(var d=0,e=0,h=[],f=[],l,n=0,k=a.length;n<k;n++)l=a[n],\"M\"==l[0]?(d=l[1],e=l[2],h.push(d),f.push(e)):(d=U(d,e,l[1],l[2],l[3],l[4],l[5],l[6]),h=h.concat(d.min.x,d.max.x),f=f.concat(d.min.y,d.max.y),d=l[5],e=l[6]);a=X.apply(0,h);l=X.apply(0,f);h=W.apply(0,h);f=W.apply(0,f);f=w(a,l,h-a,f-l);b.bbox=C(f);return f}function s(a,b,d,e,h){if(h)return[[\"M\",+a+ +h,b],[\"l\",d-2*h,0],[\"a\",h,h,0,0,1,h,h],[\"l\",0,e-2*h],[\"a\",h,h,0,0,1,\n",
       "-h,h],[\"l\",2*h-d,0],[\"a\",h,h,0,0,1,-h,-h],[\"l\",0,2*h-e],[\"a\",h,h,0,0,1,h,-h],[\"z\"] ];a=[[\"M\",a,b],[\"l\",d,0],[\"l\",0,e],[\"l\",-d,0],[\"z\"] ];a.toString=z;return a}function x(a,b,d,e,h){null==h&&null==e&&(e=d);a=+a;b=+b;d=+d;e=+e;if(null!=h){var f=Math.PI/180,l=a+d*Math.cos(-e*f);a+=d*Math.cos(-h*f);var n=b+d*Math.sin(-e*f);b+=d*Math.sin(-h*f);d=[[\"M\",l,n],[\"A\",d,d,0,+(180<h-e),0,a,b] ]}else d=[[\"M\",a,b],[\"m\",0,-e],[\"a\",d,e,0,1,1,0,2*e],[\"a\",d,e,0,1,1,0,-2*e],[\"z\"] ];d.toString=z;return d}function G(b){var e=\n",
       "A(b);if(e.abs)return d(e.abs);Q(b,\"array\")&&Q(b&&b[0],\"array\")||(b=a.parsePathString(b));if(!b||!b.length)return[[\"M\",0,0] ];var h=[],f=0,l=0,n=0,k=0,p=0;\"M\"==b[0][0]&&(f=+b[0][1],l=+b[0][2],n=f,k=l,p++,h[0]=[\"M\",f,l]);for(var q=3==b.length&&\"M\"==b[0][0]&&\"R\"==b[1][0].toUpperCase()&&\"Z\"==b[2][0].toUpperCase(),s,r,w=p,c=b.length;w<c;w++){h.push(s=[]);r=b[w];p=r[0];if(p!=p.toUpperCase())switch(s[0]=p.toUpperCase(),s[0]){case \"A\":s[1]=r[1];s[2]=r[2];s[3]=r[3];s[4]=r[4];s[5]=r[5];s[6]=+r[6]+f;s[7]=+r[7]+\n",
       "l;break;case \"V\":s[1]=+r[1]+l;break;case \"H\":s[1]=+r[1]+f;break;case \"R\":for(var t=[f,l].concat(r.slice(1)),u=2,v=t.length;u<v;u++)t[u]=+t[u]+f,t[++u]=+t[u]+l;h.pop();h=h.concat(P(t,q));break;case \"O\":h.pop();t=x(f,l,r[1],r[2]);t.push(t[0]);h=h.concat(t);break;case \"U\":h.pop();h=h.concat(x(f,l,r[1],r[2],r[3]));s=[\"U\"].concat(h[h.length-1].slice(-2));break;case \"M\":n=+r[1]+f,k=+r[2]+l;default:for(u=1,v=r.length;u<v;u++)s[u]=+r[u]+(u%2?f:l)}else if(\"R\"==p)t=[f,l].concat(r.slice(1)),h.pop(),h=h.concat(P(t,\n",
       "q)),s=[\"R\"].concat(r.slice(-2));else if(\"O\"==p)h.pop(),t=x(f,l,r[1],r[2]),t.push(t[0]),h=h.concat(t);else if(\"U\"==p)h.pop(),h=h.concat(x(f,l,r[1],r[2],r[3])),s=[\"U\"].concat(h[h.length-1].slice(-2));else for(t=0,u=r.length;t<u;t++)s[t]=r[t];p=p.toUpperCase();if(\"O\"!=p)switch(s[0]){case \"Z\":f=+n;l=+k;break;case \"H\":f=s[1];break;case \"V\":l=s[1];break;case \"M\":n=s[s.length-2],k=s[s.length-1];default:f=s[s.length-2],l=s[s.length-1]}}h.toString=z;e.abs=d(h);return h}function h(a,b,d,e){return[a,b,d,e,d,\n",
       "e]}function J(a,b,d,e,h,f){var l=1/3,n=2/3;return[l*a+n*d,l*b+n*e,l*h+n*d,l*f+n*e,h,f]}function K(b,d,e,h,f,l,n,k,p,s){var r=120*S/180,q=S/180*(+f||0),c=[],t,x=a._.cacher(function(a,b,c){var d=a*F.cos(c)-b*F.sin(c);a=a*F.sin(c)+b*F.cos(c);return{x:d,y:a}});if(s)v=s[0],t=s[1],l=s[2],u=s[3];else{t=x(b,d,-q);b=t.x;d=t.y;t=x(k,p,-q);k=t.x;p=t.y;F.cos(S/180*f);F.sin(S/180*f);t=(b-k)/2;v=(d-p)/2;u=t*t/(e*e)+v*v/(h*h);1<u&&(u=F.sqrt(u),e*=u,h*=u);var u=e*e,w=h*h,u=(l==n?-1:1)*F.sqrt(Z((u*w-u*v*v-w*t*t)/\n",
       "(u*v*v+w*t*t)));l=u*e*v/h+(b+k)/2;var u=u*-h*t/e+(d+p)/2,v=F.asin(((d-u)/h).toFixed(9));t=F.asin(((p-u)/h).toFixed(9));v=b<l?S-v:v;t=k<l?S-t:t;0>v&&(v=2*S+v);0>t&&(t=2*S+t);n&&v>t&&(v-=2*S);!n&&t>v&&(t-=2*S)}if(Z(t-v)>r){var c=t,w=k,G=p;t=v+r*(n&&t>v?1:-1);k=l+e*F.cos(t);p=u+h*F.sin(t);c=K(k,p,e,h,f,0,n,w,G,[t,c,l,u])}l=t-v;f=F.cos(v);r=F.sin(v);n=F.cos(t);t=F.sin(t);l=F.tan(l/4);e=4/3*e*l;l*=4/3*h;h=[b,d];b=[b+e*r,d-l*f];d=[k+e*t,p-l*n];k=[k,p];b[0]=2*h[0]-b[0];b[1]=2*h[1]-b[1];if(s)return[b,d,k].concat(c);\n",
       "c=[b,d,k].concat(c).join().split(\",\");s=[];k=0;for(p=c.length;k<p;k++)s[k]=k%2?x(c[k-1],c[k],q).y:x(c[k],c[k+1],q).x;return s}function U(a,b,d,e,h,f,l,k){for(var n=[],p=[[],[] ],s,r,c,t,q=0;2>q;++q)0==q?(r=6*a-12*d+6*h,s=-3*a+9*d-9*h+3*l,c=3*d-3*a):(r=6*b-12*e+6*f,s=-3*b+9*e-9*f+3*k,c=3*e-3*b),1E-12>Z(s)?1E-12>Z(r)||(s=-c/r,0<s&&1>s&&n.push(s)):(t=r*r-4*c*s,c=F.sqrt(t),0>t||(t=(-r+c)/(2*s),0<t&&1>t&&n.push(t),s=(-r-c)/(2*s),0<s&&1>s&&n.push(s)));for(r=q=n.length;q--;)s=n[q],c=1-s,p[0][q]=c*c*c*a+3*\n",
       "c*c*s*d+3*c*s*s*h+s*s*s*l,p[1][q]=c*c*c*b+3*c*c*s*e+3*c*s*s*f+s*s*s*k;p[0][r]=a;p[1][r]=b;p[0][r+1]=l;p[1][r+1]=k;p[0].length=p[1].length=r+2;return{min:{x:X.apply(0,p[0]),y:X.apply(0,p[1])},max:{x:W.apply(0,p[0]),y:W.apply(0,p[1])}}}function I(a,b){var e=!b&&A(a);if(!b&&e.curve)return d(e.curve);var f=G(a),l=b&&G(b),n={x:0,y:0,bx:0,by:0,X:0,Y:0,qx:null,qy:null},k={x:0,y:0,bx:0,by:0,X:0,Y:0,qx:null,qy:null},p=function(a,b,c){if(!a)return[\"C\",b.x,b.y,b.x,b.y,b.x,b.y];a[0]in{T:1,Q:1}||(b.qx=b.qy=null);\n",
       "switch(a[0]){case \"M\":b.X=a[1];b.Y=a[2];break;case \"A\":a=[\"C\"].concat(K.apply(0,[b.x,b.y].concat(a.slice(1))));break;case \"S\":\"C\"==c||\"S\"==c?(c=2*b.x-b.bx,b=2*b.y-b.by):(c=b.x,b=b.y);a=[\"C\",c,b].concat(a.slice(1));break;case \"T\":\"Q\"==c||\"T\"==c?(b.qx=2*b.x-b.qx,b.qy=2*b.y-b.qy):(b.qx=b.x,b.qy=b.y);a=[\"C\"].concat(J(b.x,b.y,b.qx,b.qy,a[1],a[2]));break;case \"Q\":b.qx=a[1];b.qy=a[2];a=[\"C\"].concat(J(b.x,b.y,a[1],a[2],a[3],a[4]));break;case \"L\":a=[\"C\"].concat(h(b.x,b.y,a[1],a[2]));break;case \"H\":a=[\"C\"].concat(h(b.x,\n",
       "b.y,a[1],b.y));break;case \"V\":a=[\"C\"].concat(h(b.x,b.y,b.x,a[1]));break;case \"Z\":a=[\"C\"].concat(h(b.x,b.y,b.X,b.Y))}return a},s=function(a,b){if(7<a[b].length){a[b].shift();for(var c=a[b];c.length;)q[b]=\"A\",l&&(u[b]=\"A\"),a.splice(b++,0,[\"C\"].concat(c.splice(0,6)));a.splice(b,1);v=W(f.length,l&&l.length||0)}},r=function(a,b,c,d,e){a&&b&&\"M\"==a[e][0]&&\"M\"!=b[e][0]&&(b.splice(e,0,[\"M\",d.x,d.y]),c.bx=0,c.by=0,c.x=a[e][1],c.y=a[e][2],v=W(f.length,l&&l.length||0))},q=[],u=[],c=\"\",t=\"\",x=0,v=W(f.length,\n",
       "l&&l.length||0);for(;x<v;x++){f[x]&&(c=f[x][0]);\"C\"!=c&&(q[x]=c,x&&(t=q[x-1]));f[x]=p(f[x],n,t);\"A\"!=q[x]&&\"C\"==c&&(q[x]=\"C\");s(f,x);l&&(l[x]&&(c=l[x][0]),\"C\"!=c&&(u[x]=c,x&&(t=u[x-1])),l[x]=p(l[x],k,t),\"A\"!=u[x]&&\"C\"==c&&(u[x]=\"C\"),s(l,x));r(f,l,n,k,x);r(l,f,k,n,x);var w=f[x],z=l&&l[x],y=w.length,U=l&&z.length;n.x=w[y-2];n.y=w[y-1];n.bx=$(w[y-4])||n.x;n.by=$(w[y-3])||n.y;k.bx=l&&($(z[U-4])||k.x);k.by=l&&($(z[U-3])||k.y);k.x=l&&z[U-2];k.y=l&&z[U-1]}l||(e.curve=d(f));return l?[f,l]:f}function P(a,\n",
       "b){for(var d=[],e=0,h=a.length;h-2*!b>e;e+=2){var f=[{x:+a[e-2],y:+a[e-1]},{x:+a[e],y:+a[e+1]},{x:+a[e+2],y:+a[e+3]},{x:+a[e+4],y:+a[e+5]}];b?e?h-4==e?f[3]={x:+a[0],y:+a[1]}:h-2==e&&(f[2]={x:+a[0],y:+a[1]},f[3]={x:+a[2],y:+a[3]}):f[0]={x:+a[h-2],y:+a[h-1]}:h-4==e?f[3]=f[2]:e||(f[0]={x:+a[e],y:+a[e+1]});d.push([\"C\",(-f[0].x+6*f[1].x+f[2].x)/6,(-f[0].y+6*f[1].y+f[2].y)/6,(f[1].x+6*f[2].x-f[3].x)/6,(f[1].y+6*f[2].y-f[3].y)/6,f[2].x,f[2].y])}return d}y=k.prototype;var Q=a.is,C=a._.clone,L=\"hasOwnProperty\",\n",
       "N=/,?([a-z]),?/gi,$=parseFloat,F=Math,S=F.PI,X=F.min,W=F.max,ma=F.pow,Z=F.abs;M=n(1);var na=n(),ba=n(0,1),V=a._unit2px;a.path=A;a.path.getTotalLength=M;a.path.getPointAtLength=na;a.path.getSubpath=function(a,b,d){if(1E-6>this.getTotalLength(a)-d)return ba(a,b).end;a=ba(a,d,1);return b?ba(a,b).end:a};y.getTotalLength=function(){if(this.node.getTotalLength)return this.node.getTotalLength()};y.getPointAtLength=function(a){return na(this.attr(\"d\"),a)};y.getSubpath=function(b,d){return a.path.getSubpath(this.attr(\"d\"),\n",
       "b,d)};a._.box=w;a.path.findDotsAtSegment=u;a.path.bezierBBox=p;a.path.isPointInsideBBox=b;a.path.isBBoxIntersect=q;a.path.intersection=function(a,b){return l(a,b)};a.path.intersectionNumber=function(a,b){return l(a,b,1)};a.path.isPointInside=function(a,d,e){var h=r(a);return b(h,d,e)&&1==l(a,[[\"M\",d,e],[\"H\",h.x2+10] ],1)%2};a.path.getBBox=r;a.path.get={path:function(a){return a.attr(\"path\")},circle:function(a){a=V(a);return x(a.cx,a.cy,a.r)},ellipse:function(a){a=V(a);return x(a.cx||0,a.cy||0,a.rx,\n",
       "a.ry)},rect:function(a){a=V(a);return s(a.x||0,a.y||0,a.width,a.height,a.rx,a.ry)},image:function(a){a=V(a);return s(a.x||0,a.y||0,a.width,a.height)},line:function(a){return\"M\"+[a.attr(\"x1\")||0,a.attr(\"y1\")||0,a.attr(\"x2\"),a.attr(\"y2\")]},polyline:function(a){return\"M\"+a.attr(\"points\")},polygon:function(a){return\"M\"+a.attr(\"points\")+\"z\"},deflt:function(a){a=a.node.getBBox();return s(a.x,a.y,a.width,a.height)}};a.path.toRelative=function(b){var e=A(b),h=String.prototype.toLowerCase;if(e.rel)return d(e.rel);\n",
       "a.is(b,\"array\")&&a.is(b&&b[0],\"array\")||(b=a.parsePathString(b));var f=[],l=0,n=0,k=0,p=0,s=0;\"M\"==b[0][0]&&(l=b[0][1],n=b[0][2],k=l,p=n,s++,f.push([\"M\",l,n]));for(var r=b.length;s<r;s++){var q=f[s]=[],x=b[s];if(x[0]!=h.call(x[0]))switch(q[0]=h.call(x[0]),q[0]){case \"a\":q[1]=x[1];q[2]=x[2];q[3]=x[3];q[4]=x[4];q[5]=x[5];q[6]=+(x[6]-l).toFixed(3);q[7]=+(x[7]-n).toFixed(3);break;case \"v\":q[1]=+(x[1]-n).toFixed(3);break;case \"m\":k=x[1],p=x[2];default:for(var c=1,t=x.length;c<t;c++)q[c]=+(x[c]-(c%2?l:\n",
       "n)).toFixed(3)}else for(f[s]=[],\"m\"==x[0]&&(k=x[1]+l,p=x[2]+n),q=0,c=x.length;q<c;q++)f[s][q]=x[q];x=f[s].length;switch(f[s][0]){case \"z\":l=k;n=p;break;case \"h\":l+=+f[s][x-1];break;case \"v\":n+=+f[s][x-1];break;default:l+=+f[s][x-2],n+=+f[s][x-1]}}f.toString=z;e.rel=d(f);return f};a.path.toAbsolute=G;a.path.toCubic=I;a.path.map=function(a,b){if(!b)return a;var d,e,h,f,l,n,k;a=I(a);h=0;for(l=a.length;h<l;h++)for(k=a[h],f=1,n=k.length;f<n;f+=2)d=b.x(k[f],k[f+1]),e=b.y(k[f],k[f+1]),k[f]=d,k[f+1]=e;return a};\n",
       "a.path.toString=z;a.path.clone=d});C.plugin(function(a,v,y,C){var A=Math.max,w=Math.min,z=function(a){this.items=[];this.bindings={};this.length=0;this.type=\"set\";if(a)for(var f=0,n=a.length;f<n;f++)a[f]&&(this[this.items.length]=this.items[this.items.length]=a[f],this.length++)};v=z.prototype;v.push=function(){for(var a,f,n=0,k=arguments.length;n<k;n++)if(a=arguments[n])f=this.items.length,this[f]=this.items[f]=a,this.length++;return this};v.pop=function(){this.length&&delete this[this.length--];\n",
       "return this.items.pop()};v.forEach=function(a,f){for(var n=0,k=this.items.length;n<k&&!1!==a.call(f,this.items[n],n);n++);return this};v.animate=function(d,f,n,u){\"function\"!=typeof n||n.length||(u=n,n=L.linear);d instanceof a._.Animation&&(u=d.callback,n=d.easing,f=n.dur,d=d.attr);var p=arguments;if(a.is(d,\"array\")&&a.is(p[p.length-1],\"array\"))var b=!0;var q,e=function(){q?this.b=q:q=this.b},l=0,r=u&&function(){l++==this.length&&u.call(this)};return this.forEach(function(a,l){k.once(\"snap.animcreated.\"+\n",
       "a.id,e);b?p[l]&&a.animate.apply(a,p[l]):a.animate(d,f,n,r)})};v.remove=function(){for(;this.length;)this.pop().remove();return this};v.bind=function(a,f,k){var u={};if(\"function\"==typeof f)this.bindings[a]=f;else{var p=k||a;this.bindings[a]=function(a){u[p]=a;f.attr(u)}}return this};v.attr=function(a){var f={},k;for(k in a)if(this.bindings[k])this.bindings[k](a[k]);else f[k]=a[k];a=0;for(k=this.items.length;a<k;a++)this.items[a].attr(f);return this};v.clear=function(){for(;this.length;)this.pop()};\n",
       "v.splice=function(a,f,k){a=0>a?A(this.length+a,0):a;f=A(0,w(this.length-a,f));var u=[],p=[],b=[],q;for(q=2;q<arguments.length;q++)b.push(arguments[q]);for(q=0;q<f;q++)p.push(this[a+q]);for(;q<this.length-a;q++)u.push(this[a+q]);var e=b.length;for(q=0;q<e+u.length;q++)this.items[a+q]=this[a+q]=q<e?b[q]:u[q-e];for(q=this.items.length=this.length-=f-e;this[q];)delete this[q++];return new z(p)};v.exclude=function(a){for(var f=0,k=this.length;f<k;f++)if(this[f]==a)return this.splice(f,1),!0;return!1};\n",
       "v.insertAfter=function(a){for(var f=this.items.length;f--;)this.items[f].insertAfter(a);return this};v.getBBox=function(){for(var a=[],f=[],k=[],u=[],p=this.items.length;p--;)if(!this.items[p].removed){var b=this.items[p].getBBox();a.push(b.x);f.push(b.y);k.push(b.x+b.width);u.push(b.y+b.height)}a=w.apply(0,a);f=w.apply(0,f);k=A.apply(0,k);u=A.apply(0,u);return{x:a,y:f,x2:k,y2:u,width:k-a,height:u-f,cx:a+(k-a)/2,cy:f+(u-f)/2}};v.clone=function(a){a=new z;for(var f=0,k=this.items.length;f<k;f++)a.push(this.items[f].clone());\n",
       "return a};v.toString=function(){return\"Snap\\u2018s set\"};v.type=\"set\";a.set=function(){var a=new z;arguments.length&&a.push.apply(a,Array.prototype.slice.call(arguments,0));return a}});C.plugin(function(a,v,y,C){function A(a){var b=a[0];switch(b.toLowerCase()){case \"t\":return[b,0,0];case \"m\":return[b,1,0,0,1,0,0];case \"r\":return 4==a.length?[b,0,a[2],a[3] ]:[b,0];case \"s\":return 5==a.length?[b,1,1,a[3],a[4] ]:3==a.length?[b,1,1]:[b,1]}}function w(b,d,f){d=q(d).replace(/\\.{3}|\\u2026/g,b);b=a.parseTransformString(b)||\n",
       "[];d=a.parseTransformString(d)||[];for(var k=Math.max(b.length,d.length),p=[],v=[],h=0,w,z,y,I;h<k;h++){y=b[h]||A(d[h]);I=d[h]||A(y);if(y[0]!=I[0]||\"r\"==y[0].toLowerCase()&&(y[2]!=I[2]||y[3]!=I[3])||\"s\"==y[0].toLowerCase()&&(y[3]!=I[3]||y[4]!=I[4])){b=a._.transform2matrix(b,f());d=a._.transform2matrix(d,f());p=[[\"m\",b.a,b.b,b.c,b.d,b.e,b.f] ];v=[[\"m\",d.a,d.b,d.c,d.d,d.e,d.f] ];break}p[h]=[];v[h]=[];w=0;for(z=Math.max(y.length,I.length);w<z;w++)w in y&&(p[h][w]=y[w]),w in I&&(v[h][w]=I[w])}return{from:u(p),\n",
       "to:u(v),f:n(p)}}function z(a){return a}function d(a){return function(b){return+b.toFixed(3)+a}}function f(b){return a.rgb(b[0],b[1],b[2])}function n(a){var b=0,d,f,k,n,h,p,q=[];d=0;for(f=a.length;d<f;d++){h=\"[\";p=['\"'+a[d][0]+'\"'];k=1;for(n=a[d].length;k<n;k++)p[k]=\"val[\"+b++ +\"]\";h+=p+\"]\";q[d]=h}return Function(\"val\",\"return Snap.path.toString.call([\"+q+\"])\")}function u(a){for(var b=[],d=0,f=a.length;d<f;d++)for(var k=1,n=a[d].length;k<n;k++)b.push(a[d][k]);return b}var p={},b=/[a-z]+$/i,q=String;\n",
       "p.stroke=p.fill=\"colour\";v.prototype.equal=function(a,b){return k(\"snap.util.equal\",this,a,b).firstDefined()};k.on(\"snap.util.equal\",function(e,k){var r,s;r=q(this.attr(e)||\"\");var x=this;if(r==+r&&k==+k)return{from:+r,to:+k,f:z};if(\"colour\"==p[e])return r=a.color(r),s=a.color(k),{from:[r.r,r.g,r.b,r.opacity],to:[s.r,s.g,s.b,s.opacity],f:f};if(\"transform\"==e||\"gradientTransform\"==e||\"patternTransform\"==e)return k instanceof a.Matrix&&(k=k.toTransformString()),a._.rgTransform.test(k)||(k=a._.svgTransform2string(k)),\n",
       "w(r,k,function(){return x.getBBox(1)});if(\"d\"==e||\"path\"==e)return r=a.path.toCubic(r,k),{from:u(r[0]),to:u(r[1]),f:n(r[0])};if(\"points\"==e)return r=q(r).split(a._.separator),s=q(k).split(a._.separator),{from:r,to:s,f:function(a){return a}};aUnit=r.match(b);s=q(k).match(b);return aUnit&&aUnit==s?{from:parseFloat(r),to:parseFloat(k),f:d(aUnit)}:{from:this.asPX(e),to:this.asPX(e,k),f:z}})});C.plugin(function(a,v,y,C){var A=v.prototype,w=\"createTouch\"in C.doc;v=\"click dblclick mousedown mousemove mouseout mouseover mouseup touchstart touchmove touchend touchcancel\".split(\" \");\n",
       "var z={mousedown:\"touchstart\",mousemove:\"touchmove\",mouseup:\"touchend\"},d=function(a,b){var d=\"y\"==a?\"scrollTop\":\"scrollLeft\",e=b&&b.node?b.node.ownerDocument:C.doc;return e[d in e.documentElement?\"documentElement\":\"body\"][d]},f=function(){this.returnValue=!1},n=function(){return this.originalEvent.preventDefault()},u=function(){this.cancelBubble=!0},p=function(){return this.originalEvent.stopPropagation()},b=function(){if(C.doc.addEventListener)return function(a,b,e,f){var k=w&&z[b]?z[b]:b,l=function(k){var l=\n",
       "d(\"y\",f),q=d(\"x\",f);if(w&&z.hasOwnProperty(b))for(var r=0,u=k.targetTouches&&k.targetTouches.length;r<u;r++)if(k.targetTouches[r].target==a||a.contains(k.targetTouches[r].target)){u=k;k=k.targetTouches[r];k.originalEvent=u;k.preventDefault=n;k.stopPropagation=p;break}return e.call(f,k,k.clientX+q,k.clientY+l)};b!==k&&a.addEventListener(b,l,!1);a.addEventListener(k,l,!1);return function(){b!==k&&a.removeEventListener(b,l,!1);a.removeEventListener(k,l,!1);return!0}};if(C.doc.attachEvent)return function(a,\n",
       "b,e,h){var k=function(a){a=a||h.node.ownerDocument.window.event;var b=d(\"y\",h),k=d(\"x\",h),k=a.clientX+k,b=a.clientY+b;a.preventDefault=a.preventDefault||f;a.stopPropagation=a.stopPropagation||u;return e.call(h,a,k,b)};a.attachEvent(\"on\"+b,k);return function(){a.detachEvent(\"on\"+b,k);return!0}}}(),q=[],e=function(a){for(var b=a.clientX,e=a.clientY,f=d(\"y\"),l=d(\"x\"),n,p=q.length;p--;){n=q[p];if(w)for(var r=a.touches&&a.touches.length,u;r--;){if(u=a.touches[r],u.identifier==n.el._drag.id||n.el.node.contains(u.target)){b=\n",
       "u.clientX;e=u.clientY;(a.originalEvent?a.originalEvent:a).preventDefault();break}}else a.preventDefault();b+=l;e+=f;k(\"snap.drag.move.\"+n.el.id,n.move_scope||n.el,b-n.el._drag.x,e-n.el._drag.y,b,e,a)}},l=function(b){a.unmousemove(e).unmouseup(l);for(var d=q.length,f;d--;)f=q[d],f.el._drag={},k(\"snap.drag.end.\"+f.el.id,f.end_scope||f.start_scope||f.move_scope||f.el,b);q=[]};for(y=v.length;y--;)(function(d){a[d]=A[d]=function(e,f){a.is(e,\"function\")&&(this.events=this.events||[],this.events.push({name:d,\n",
       "f:e,unbind:b(this.node||document,d,e,f||this)}));return this};a[\"un\"+d]=A[\"un\"+d]=function(a){for(var b=this.events||[],e=b.length;e--;)if(b[e].name==d&&(b[e].f==a||!a)){b[e].unbind();b.splice(e,1);!b.length&&delete this.events;break}return this}})(v[y]);A.hover=function(a,b,d,e){return this.mouseover(a,d).mouseout(b,e||d)};A.unhover=function(a,b){return this.unmouseover(a).unmouseout(b)};var r=[];A.drag=function(b,d,f,h,n,p){function u(r,v,w){(r.originalEvent||r).preventDefault();this._drag.x=v;\n",
       "this._drag.y=w;this._drag.id=r.identifier;!q.length&&a.mousemove(e).mouseup(l);q.push({el:this,move_scope:h,start_scope:n,end_scope:p});d&&k.on(\"snap.drag.start.\"+this.id,d);b&&k.on(\"snap.drag.move.\"+this.id,b);f&&k.on(\"snap.drag.end.\"+this.id,f);k(\"snap.drag.start.\"+this.id,n||h||this,v,w,r)}if(!arguments.length){var v;return this.drag(function(a,b){this.attr({transform:v+(v?\"T\":\"t\")+[a,b]})},function(){v=this.transform().local})}this._drag={};r.push({el:this,start:u});this.mousedown(u);return this};\n",
       "A.undrag=function(){for(var b=r.length;b--;)r[b].el==this&&(this.unmousedown(r[b].start),r.splice(b,1),k.unbind(\"snap.drag.*.\"+this.id));!r.length&&a.unmousemove(e).unmouseup(l);return this}});C.plugin(function(a,v,y,C){y=y.prototype;var A=/^\\s*url\\((.+)\\)/,w=String,z=a._.$;a.filter={};y.filter=function(d){var f=this;\"svg\"!=f.type&&(f=f.paper);d=a.parse(w(d));var k=a._.id(),u=z(\"filter\");z(u,{id:k,filterUnits:\"userSpaceOnUse\"});u.appendChild(d.node);f.defs.appendChild(u);return new v(u)};k.on(\"snap.util.getattr.filter\",\n",
       "function(){k.stop();var d=z(this.node,\"filter\");if(d)return(d=w(d).match(A))&&a.select(d[1])});k.on(\"snap.util.attr.filter\",function(d){if(d instanceof v&&\"filter\"==d.type){k.stop();var f=d.node.id;f||(z(d.node,{id:d.id}),f=d.id);z(this.node,{filter:a.url(f)})}d&&\"none\"!=d||(k.stop(),this.node.removeAttribute(\"filter\"))});a.filter.blur=function(d,f){null==d&&(d=2);return a.format('<feGaussianBlur stdDeviation=\"{def}\"/>',{def:null==f?d:[d,f]})};a.filter.blur.toString=function(){return this()};a.filter.shadow=\n",
       "function(d,f,k,u,p){\"string\"==typeof k&&(p=u=k,k=4);\"string\"!=typeof u&&(p=u,u=\"#000\");null==k&&(k=4);null==p&&(p=1);null==d&&(d=0,f=2);null==f&&(f=d);u=a.color(u||\"#000\");return a.format('<feGaussianBlur in=\"SourceAlpha\" stdDeviation=\"{blur}\"/><feOffset dx=\"{dx}\" dy=\"{dy}\" result=\"offsetblur\"/><feFlood flood-color=\"{color}\"/><feComposite in2=\"offsetblur\" operator=\"in\"/><feComponentTransfer><feFuncA type=\"linear\" slope=\"{opacity}\"/></feComponentTransfer><feMerge><feMergeNode/><feMergeNode in=\"SourceGraphic\"/></feMerge>',\n",
       "{color:u,dx:d,dy:f,blur:k,opacity:p})};a.filter.shadow.toString=function(){return this()};a.filter.grayscale=function(d){null==d&&(d=1);return a.format('<feColorMatrix type=\"matrix\" values=\"{a} {b} {c} 0 0 {d} {e} {f} 0 0 {g} {b} {h} 0 0 0 0 0 1 0\"/>',{a:0.2126+0.7874*(1-d),b:0.7152-0.7152*(1-d),c:0.0722-0.0722*(1-d),d:0.2126-0.2126*(1-d),e:0.7152+0.2848*(1-d),f:0.0722-0.0722*(1-d),g:0.2126-0.2126*(1-d),h:0.0722+0.9278*(1-d)})};a.filter.grayscale.toString=function(){return this()};a.filter.sepia=\n",
       "function(d){null==d&&(d=1);return a.format('<feColorMatrix type=\"matrix\" values=\"{a} {b} {c} 0 0 {d} {e} {f} 0 0 {g} {h} {i} 0 0 0 0 0 1 0\"/>',{a:0.393+0.607*(1-d),b:0.769-0.769*(1-d),c:0.189-0.189*(1-d),d:0.349-0.349*(1-d),e:0.686+0.314*(1-d),f:0.168-0.168*(1-d),g:0.272-0.272*(1-d),h:0.534-0.534*(1-d),i:0.131+0.869*(1-d)})};a.filter.sepia.toString=function(){return this()};a.filter.saturate=function(d){null==d&&(d=1);return a.format('<feColorMatrix type=\"saturate\" values=\"{amount}\"/>',{amount:1-\n",
       "d})};a.filter.saturate.toString=function(){return this()};a.filter.hueRotate=function(d){return a.format('<feColorMatrix type=\"hueRotate\" values=\"{angle}\"/>',{angle:d||0})};a.filter.hueRotate.toString=function(){return this()};a.filter.invert=function(d){null==d&&(d=1);return a.format('<feComponentTransfer><feFuncR type=\"table\" tableValues=\"{amount} {amount2}\"/><feFuncG type=\"table\" tableValues=\"{amount} {amount2}\"/><feFuncB type=\"table\" tableValues=\"{amount} {amount2}\"/></feComponentTransfer>',{amount:d,\n",
       "amount2:1-d})};a.filter.invert.toString=function(){return this()};a.filter.brightness=function(d){null==d&&(d=1);return a.format('<feComponentTransfer><feFuncR type=\"linear\" slope=\"{amount}\"/><feFuncG type=\"linear\" slope=\"{amount}\"/><feFuncB type=\"linear\" slope=\"{amount}\"/></feComponentTransfer>',{amount:d})};a.filter.brightness.toString=function(){return this()};a.filter.contrast=function(d){null==d&&(d=1);return a.format('<feComponentTransfer><feFuncR type=\"linear\" slope=\"{amount}\" intercept=\"{amount2}\"/><feFuncG type=\"linear\" slope=\"{amount}\" intercept=\"{amount2}\"/><feFuncB type=\"linear\" slope=\"{amount}\" intercept=\"{amount2}\"/></feComponentTransfer>',\n",
       "{amount:d,amount2:0.5-d/2})};a.filter.contrast.toString=function(){return this()}});return C});\n",
       "\n",
       "]]> </script>\n",
       "</svg>\n"
      ],
      "text/plain": [
       "Compose.Context(BBox{l,t,r,b,w,h = 0.0w,0.0h, 1.0w,1.0h, 1.0w,1.0h}, Compose.UnitBox{Float64, Float64, Float64, Float64}(-1.2, -1.2, 2.4, 2.4, 0.0mm, 0.0mm, 0.0mm, 0.0mm), nothing, nothing, nothing, List([Compose.Context(BBox{l,t,r,b,w,h = 0.0w,0.0h, 1.0w,1.0h, 1.0w,1.0h}, nothing, nothing, nothing, nothing, List([]), List([Compose.Form{Compose.LinePrimitive}(Compose.LinePrimitive[Compose.LinePrimitive{Tuple{Measures.Measure, Measures.Measure}}(Tuple{Measures.Measure, Measures.Measure}[(0.05427000683171565cx, 0.6454589316190427cy), (-0.12403737688274902cx, 0.7013720964576942cy)]), Compose.LinePrimitive{Tuple{Measures.Measure, Measures.Measure}}(Tuple{Measures.Measure, Measures.Measure}[(0.07971486485488813cx, 0.6161054203837351cy), (0.11265146704168774cx, 0.4138779625096874cy)]), Compose.LinePrimitive{Tuple{Measures.Measure, Measures.Measure}}(Tuple{Measures.Measure, Measures.Measure}[(0.0852684585448718cx, 0.6595058380329616cy), (0.1525773076437754cx, 0.8118663927179927cy)]), Compose.LinePrimitive{Tuple{Measures.Measure, Measures.Measure}}(Tuple{Measures.Measure, Measures.Measure}[(-0.18184051147534963cx, 0.7075504281859679cy), (-0.3623273690437092cx, 0.6910982636441613cy)]), Compose.LinePrimitive{Tuple{Measures.Measure, Measures.Measure}}(Tuple{Measures.Measure, Measures.Measure}[(-0.4145659932274656cx, 0.6744920974519848cy), (-0.5600406261313619cx, 0.5902937021040077cy)]), Compose.LinePrimitive{Tuple{Measures.Measure, Measures.Measure}}(Tuple{Measures.Measure, Measures.Measure}[(-0.6025236809318385cx, 0.57682916616968cy), (-0.8142872072458863cx, 0.5578951188534744cy)]), Compose.LinePrimitive{Tuple{Measures.Measure, Measures.Measure}}(Tuple{Measures.Measure, Measures.Measure}[(-0.8850533727640073cx, 0.5258112110282485cy), (-0.9817802478877223cx, 0.4334809480446665cy)]), Compose.LinePrimitive{Tuple{Measures.Measure, Measures.Measure}}(Tuple{Measures.Measure, Measures.Measure}[(-0.8750831262697873cx, 0.5903112271018107cy), (-0.9075899827486725cx, 0.6495437288471191cy)]), Compose.LinePrimitive{Tuple{Measures.Measure, Measures.Measure}}(Tuple{Measures.Measure, Measures.Measure}[(-0.9904358227236556cx, 0.3927879937673488cy), (-0.9480104832942033cx, 0.2894264492657921cy)]), Compose.LinePrimitive{Tuple{Measures.Measure, Measures.Measure}}(Tuple{Measures.Measure, Measures.Measure}[(-0.9173544613489132cx, 0.26220973379450613cy), (-0.7479752980638327cx, 0.2151923428131642cy)])  …  Compose.LinePrimitive{Tuple{Measures.Measure, Measures.Measure}}(Tuple{Measures.Measure, Measures.Measure}[(0.918716614635116cx, -0.4884148380809275cy), (0.9302460604097741cx, -0.34401887544496534cy)]), Compose.LinePrimitive{Tuple{Measures.Measure, Measures.Measure}}(Tuple{Measures.Measure, Measures.Measure}[(0.900028687225336cx, -0.5398916321864826cy), (0.8805113119012115cx, -0.5674159602206926cy)]), Compose.LinePrimitive{Tuple{Measures.Measure, Measures.Measure}}(Tuple{Measures.Measure, Measures.Measure}[(0.9200428843332393cx, -0.25502419817842353cy), (0.8724488929363557cx, -0.1054047487442381cy)]), Compose.LinePrimitive{Tuple{Measures.Measure, Measures.Measure}}(Tuple{Measures.Measure, Measures.Measure}[(0.849107622512272cx, -0.05571945080194596cy), (0.7408543156877665cx, 0.11302724272538706cy)]), Compose.LinePrimitive{Tuple{Measures.Measure, Measures.Measure}}(Tuple{Measures.Measure, Measures.Measure}[(0.7468205711479905cx, 0.16937978160090555cy), (0.8818506937880245cx, 0.3055081741461667cy)]), Compose.LinePrimitive{Tuple{Measures.Measure, Measures.Measure}}(Tuple{Measures.Measure, Measures.Measure}[(-0.15802630334885903cx, -0.2296150154213619cy), (-0.0232955224885538cx, -0.16402544305794442cy)]), Compose.LinePrimitive{Tuple{Measures.Measure, Measures.Measure}}(Tuple{Measures.Measure, Measures.Measure}[(0.9746974216938513cx, 0.6670179620299712cy), (0.9950183136312238cx, 0.5478453625758704cy)]), Compose.LinePrimitive{Tuple{Measures.Measure, Measures.Measure}}(Tuple{Measures.Measure, Measures.Measure}[(0.9866380622791153cx, 0.4921761939963197cy), (0.9169440692105163cx, 0.35419641284929787cy)]), Compose.LinePrimitive{Tuple{Measures.Measure, Measures.Measure}}(Tuple{Measures.Measure, Measures.Measure}[(-0.85565889971475cx, 0.7524651351143944cy), (-0.9011759439161646cx, 0.7027859822792885cy)]), Compose.LinePrimitive{Tuple{Measures.Measure, Measures.Measure}}(Tuple{Measures.Measure, Measures.Measure}[(0.22173754131251555cx, 0.97886198438817cy), (0.18184607222668994cx, 0.8808505694033165cy)])], Symbol(\"\"))]), List([Compose.Property{Compose.LineWidthPrimitive}(Compose.LineWidthPrimitive[Compose.LineWidthPrimitive(0.3760253080187975mm), Compose.LineWidthPrimitive(0.5477225575051661mm), Compose.LineWidthPrimitive(0.16800984318150936mm), Compose.LineWidthPrimitive(0.316921958379886mm), Compose.LineWidthPrimitive(0.27696651001515826mm), Compose.LineWidthPrimitive(0.1635725446238305mm), Compose.LineWidthPrimitive(0.10352781103997712mm), Compose.LineWidthPrimitive(0.46204249319753715mm), Compose.LineWidthPrimitive(0.17460201775555734mm), Compose.LineWidthPrimitive(0.13947562467690294mm)  …  Compose.LineWidthPrimitive(0.1622731732460348mm), Compose.LineWidthPrimitive(0.5380087401079903mm), Compose.LineWidthPrimitive(0.1297018425465528mm), Compose.LineWidthPrimitive(0.5300184207391838mm), Compose.LineWidthPrimitive(0.2399161400661613mm), Compose.LineWidthPrimitive(0.5246155291237641mm), Compose.LineWidthPrimitive(0.08950434338935392mm), Compose.LineWidthPrimitive(0.46395110544721735mm), Compose.LineWidthPrimitive(0.060529403444521186mm), Compose.LineWidthPrimitive(0.17707387157194132mm)]), Compose.Property{Compose.FillPrimitive}(Compose.FillPrimitive[Compose.FillPrimitive(RGBA{Float64}(0.0,0.0,0.0,0.0))]), Compose.Property{Compose.StrokePrimitive}(Compose.StrokePrimitive[Compose.StrokePrimitive(RGBA{Float64}(0.8274509803921568,0.8274509803921568,0.8274509803921568,1.0))])]), 0, false, false, false, false, nothing, nothing, 0.0, Symbol(\"\")), Compose.Context(BBox{l,t,r,b,w,h = 0.0w,0.0h, 1.0w,1.0h, 1.0w,1.0h}, nothing, nothing, nothing, nothing, List([]), List([]), List([Compose.Property{Compose.LineWidthPrimitive}(Compose.LineWidthPrimitive[Compose.LineWidthPrimitive(0.3760253080187975mm), Compose.LineWidthPrimitive(0.5477225575051661mm), Compose.LineWidthPrimitive(0.16800984318150936mm), Compose.LineWidthPrimitive(0.316921958379886mm), Compose.LineWidthPrimitive(0.27696651001515826mm), Compose.LineWidthPrimitive(0.1635725446238305mm), Compose.LineWidthPrimitive(0.10352781103997712mm), Compose.LineWidthPrimitive(0.46204249319753715mm), Compose.LineWidthPrimitive(0.17460201775555734mm), Compose.LineWidthPrimitive(0.13947562467690294mm)  …  Compose.LineWidthPrimitive(0.1622731732460348mm), Compose.LineWidthPrimitive(0.5380087401079903mm), Compose.LineWidthPrimitive(0.1297018425465528mm), Compose.LineWidthPrimitive(0.5300184207391838mm), Compose.LineWidthPrimitive(0.2399161400661613mm), Compose.LineWidthPrimitive(0.5246155291237641mm), Compose.LineWidthPrimitive(0.08950434338935392mm), Compose.LineWidthPrimitive(0.46395110544721735mm), Compose.LineWidthPrimitive(0.060529403444521186mm), Compose.LineWidthPrimitive(0.17707387157194132mm)]), Compose.Property{Compose.StrokePrimitive}(Compose.StrokePrimitive[Compose.StrokePrimitive(RGBA{Float64}(0.8274509803921568,0.8274509803921568,0.8274509803921568,1.0))])]), 0, false, false, false, false, nothing, nothing, 0.0, Symbol(\"\")), Compose.Context(BBox{l,t,r,b,w,h = 0.0w,0.0h, 1.0w,1.0h, 1.0w,1.0h}, nothing, nothing, nothing, nothing, List([]), List([]), List([Compose.Property{Compose.FontSizePrimitive}(Compose.FontSizePrimitive[Compose.FontSizePrimitive(4.0mm)]), Compose.Property{Compose.StrokePrimitive}(Compose.StrokePrimitive[Compose.StrokePrimitive(RGBA{Float64}(0.0,0.0,0.0,0.0))]), Compose.Property{Compose.FillPrimitive}(Compose.FillPrimitive[Compose.FillPrimitive(RGBA{Float64}(0.0,0.0,0.0,1.0))])]), 0, false, false, false, false, nothing, nothing, 0.0, Symbol(\"\")), Compose.Context(BBox{l,t,r,b,w,h = 0.0w,0.0h, 1.0w,1.0h, 1.0w,1.0h}, nothing, nothing, nothing, nothing, List([]), List([Compose.Form{Compose.CirclePrimitive{Tuple{Measures.Measure, Measures.Measure}, Measures.Measure}}(Compose.CirclePrimitive{Tuple{Measures.Measure, Measures.Measure}, Measures.Measure}[Compose.CirclePrimitive{Tuple{Measures.Measure, Measures.Measure}, Measures.Measure}((0.07604624249652558cx, 0.6386303963731796cy), 0.009128709291752768w), Compose.CirclePrimitive{Tuple{Measures.Measure, Measures.Measure}, Measures.Measure}((-0.15232114613418302cx, 0.7102412471314894cy), 0.011856700632083758w), Compose.CirclePrimitive{Tuple{Measures.Measure, Measures.Measure}, Measures.Measure}((-0.390276274400159cx, 0.6885505989782532cy), 0.0112259122096956w), Compose.CirclePrimitive{Tuple{Measures.Measure, Measures.Measure}, Measures.Measure}((-0.5797925872914882cx, 0.578861582280362cy), 0.009128709291752768w), Compose.CirclePrimitive{Tuple{Measures.Measure, Measures.Measure}, Measures.Measure}((-0.8552815806352936cx, 0.5542297595776653cy), 0.016463163769875597w), Compose.CirclePrimitive{Tuple{Measures.Measure, Measures.Measure}, Measures.Measure}((-1.0cx, 0.4160893544273738cy), 0.010075132916895175w), Compose.CirclePrimitive{Tuple{Measures.Measure, Measures.Measure}, Measures.Measure}((-0.9393447322127336cx, 0.2683139389572726cy), 0.009128709291752768w), Compose.CirclePrimitive{Tuple{Measures.Measure, Measures.Measure}, Measures.Measure}((-0.7166311075149463cx, 0.20649161461585774cy), 0.013011754392568606w), Compose.CirclePrimitive{Tuple{Measures.Measure, Measures.Measure}, Measures.Measure}((-0.4497394051459471cx, 0.2344587398522351cy), 0.01260101324576788w), Compose.CirclePrimitive{Tuple{Measures.Measure, Measures.Measure}, Measures.Measure}((-0.16881774681420647cx, 0.3015750308582321cy), 0.016568038203769248w)  …  Compose.CirclePrimitive{Tuple{Measures.Measure, Measures.Measure}, Measures.Measure}((-0.1880453085476591cx, -0.24422885274340622cy), 0.01335487874539196w), Compose.CirclePrimitive{Tuple{Measures.Measure, Measures.Measure}, Measures.Measure}((0.9708613029475213cx, 0.6895150179773033cy), 0.009128709291752768w), Compose.CirclePrimitive{Tuple{Measures.Measure, Measures.Measure}, Measures.Measure}((1.0cx, 0.5186300842277647cy), 0.011854785956965347w), Compose.CirclePrimitive{Tuple{Measures.Measure, Measures.Measure}, Measures.Measure}((0.9032464611732063cx, 0.3270779643860935cy), 0.012152594541053371w), Compose.CirclePrimitive{Tuple{Measures.Measure, Measures.Measure}, Measures.Measure}((0.008077624849889276cx, -0.14875238292659598cy), 0.01395731057013746w), Compose.CirclePrimitive{Tuple{Measures.Measure, Measures.Measure}, Measures.Measure}((-0.8358931166408994cx, 0.7740383144686209cy), 0.011703594305833709w), Compose.CirclePrimitive{Tuple{Measures.Measure, Measures.Measure}, Measures.Measure}((-0.923460999297687cx, 0.6784631666909458cy), 0.013195290381053658w), Compose.CirclePrimitive{Tuple{Measures.Measure, Measures.Measure}, Measures.Measure}((0.864831410248103cx, -0.5895285009428488cy), 0.010843053245577449w), Compose.CirclePrimitive{Tuple{Measures.Measure, Measures.Measure}, Measures.Measure}((0.2303408912023761cx, 1.0cy), 0.009128709291752768w), Compose.CirclePrimitive{Tuple{Measures.Measure, Measures.Measure}, Measures.Measure}((0.16771976490922902cx, 0.8461429138462744cy), 0.01498892344469679w)], Symbol(\"\"))]), List([Compose.Property{Compose.LineWidthPrimitive}(Compose.LineWidthPrimitive[Compose.LineWidthPrimitive(0.0mm)]), Compose.Property{Compose.StrokePrimitive}(Compose.StrokePrimitive[Compose.StrokePrimitive(RGBA{Float64}(0.0,0.0,0.0,0.0))]), Compose.Property{Compose.FillPrimitive}(Compose.FillPrimitive[Compose.FillPrimitive(RGBA{Float64}(0.6901960784313725,0.1568627450980392,0.0,1.0)), Compose.FillPrimitive(RGBA{Float64}(0.5098039215686274,0.24705882352941178,0.0,1.0)), Compose.FillPrimitive(RGBA{Float64}(0.6431372549019608,0.1803921568627451,0.0,1.0)), Compose.FillPrimitive(RGBA{Float64}(0.4627450980392157,0.27058823529411763,0.0,1.0)), Compose.FillPrimitive(RGBA{Float64}(0.6392156862745098,0.1803921568627451,0.0,1.0)), Compose.FillPrimitive(RGBA{Float64}(0.0784313725490196,0.4627450980392157,0.0,1.0)), Compose.FillPrimitive(RGBA{Float64}(0.6588235294117647,0.17254901960784313,0.0,1.0)), Compose.FillPrimitive(RGBA{Float64}(1.0,0.0,0.0,1.0)), Compose.FillPrimitive(RGBA{Float64}(0.4470588235294118,0.2784313725490196,0.0,1.0)), Compose.FillPrimitive(RGBA{Float64}(0.13725490196078433,0.43137254901960786,0.0,1.0))  …  Compose.FillPrimitive(RGBA{Float64}(0.8235294117647058,0.09019607843137255,0.0,1.0)), Compose.FillPrimitive(RGBA{Float64}(0.41568627450980394,0.29411764705882354,0.0,1.0)), Compose.FillPrimitive(RGBA{Float64}(0.3843137254901961,0.30980392156862746,0.0,1.0)), Compose.FillPrimitive(RGBA{Float64}(0.3764705882352941,0.3137254901960784,0.0,1.0)), Compose.FillPrimitive(RGBA{Float64}(0.25882352941176473,0.37254901960784315,0.0,1.0)), Compose.FillPrimitive(RGBA{Float64}(0.792156862745098,0.10588235294117647,0.0,1.0)), Compose.FillPrimitive(RGBA{Float64}(0.1843137254901961,0.40784313725490196,0.0,1.0)), Compose.FillPrimitive(RGBA{Float64}(0.8313725490196079,0.08627450980392157,0.0,1.0)), Compose.FillPrimitive(RGBA{Float64}(0.7490196078431373,0.12549019607843137,0.0,1.0)), Compose.FillPrimitive(RGBA{Float64}(0.24705882352941178,0.3764705882352941,0.0,1.0))])]), 0, false, false, false, false, nothing, nothing, 0.0, Symbol(\"\")), Compose.Context(BBox{l,t,r,b,w,h = 0.0w,0.0h, 1.0w,1.0h, 1.0w,1.0h}, nothing, nothing, nothing, nothing, List([]), List([]), List([Compose.Property{Compose.FontSizePrimitive}(Compose.FontSizePrimitive[Compose.FontSizePrimitive(4.0mm)]), Compose.Property{Compose.StrokePrimitive}(Compose.StrokePrimitive[Compose.StrokePrimitive(RGBA{Float64}(0.0,0.0,0.0,0.0))]), Compose.Property{Compose.FillPrimitive}(Compose.FillPrimitive[Compose.FillPrimitive(RGBA{Float64}(0.0,0.0,0.0,1.0))])]), 0, false, false, false, false, nothing, nothing, 0.0, Symbol(\"\"))]), List([]), List([]), 0, false, false, false, false, nothing, nothing, 0.0, Symbol(\"\"))"
      ]
     },
     "execution_count": 243,
     "metadata": {},
     "output_type": "execute_result"
    }
   ],
   "source": [
    "Random.seed!(2)\n",
    "n = 30\n",
    "l = 50\n",
    "\n",
    "# Make graph\n",
    "G = watts_strogatz(n, 3, 0.2)\n",
    "\n",
    "# Convert to incidence matrix\n",
    "A = incidence_matrix(G, oriented=true)\n",
    "m = size(A, 2)\n",
    "\n",
    "# Create generator-node mapping\n",
    "node_map = vcat(collect(1:n), rand(1:n, l-n))\n",
    "B = spzeros(n, l)\n",
    "for (gen, node) in enumerate(node_map)\n",
    "    B[node, gen] = 1\n",
    "end\n",
    "\n",
    "# Generate carbon costs\n",
    "cq = zeros(l)\n",
    "cl = rand(Exponential(2), l)\n",
    "\n",
    "# Generate demands\n",
    "d = rand(Bernoulli(0.8), n) .* rand(Gamma(3.0, 3.0), n)\n",
    "\n",
    "# Generate generation and flow capacities\n",
    "gmax = rand(Gamma(4.0, 3.0), l) + (B'd)  # This is just to make the problem easier\n",
    "pmax = rand(Gamma(1.0, 0.1), m)\n",
    "\n",
    "# Plot network\n",
    "c_node = (B*cl) ./ (B*ones(l))\n",
    "nodesize = maximum(d) .+ d\n",
    "nodefillc = weighted_color_mean.((c_node / maximum(c_node)).^0.5, colorant\"red\", colorant\"green\")\n",
    "edgelinewidth = (pmax / maximum(pmax)).^0.5\n",
    "\n",
    "Random.seed!(0)  # I put a seed here so the spring layout doesn't change\n",
    "plt = gplot(G, nodesize=nodesize, nodefillc=nodefillc, edgelinewidth=edgelinewidth)"
   ]
  },
  {
   "cell_type": "markdown",
   "metadata": {},
   "source": [
    "# Solve the carbon management problem"
   ]
  },
  {
   "cell_type": "code",
<<<<<<< Updated upstream
<<<<<<< Updated upstream
<<<<<<< Updated upstream
   "execution_count": 162,
=======
   "execution_count": 4,
>>>>>>> Stashed changes
=======
   "execution_count": 4,
>>>>>>> Stashed changes
=======
   "execution_count": 4,
>>>>>>> Stashed changes
   "metadata": {},
   "outputs": [],
   "source": [
    "cnet = PowerNetwork(cq, cl, pmax, gmax, A, B);"
   ]
  },
  {
   "cell_type": "code",
<<<<<<< Updated upstream
<<<<<<< Updated upstream
<<<<<<< Updated upstream
   "execution_count": 163,
=======
   "execution_count": 5,
>>>>>>> Stashed changes
=======
   "execution_count": 5,
>>>>>>> Stashed changes
=======
   "execution_count": 5,
>>>>>>> Stashed changes
   "metadata": {},
   "outputs": [],
   "source": [
    "cnet = PowerNetwork(cq, cl, pmax, gmax, A, B);\n",
    "carbon_min = PowerManagementProblem(cnet, d)\n",
    "solve!(carbon_min, OPT, verbose=true);"
   ]
  },
  {
   "cell_type": "code",
   "execution_count": 6,
   "metadata": {},
   "outputs": [
    {
     "data": {
      "text/plain": [
       "30×1 Matrix{Float64}:\n",
       " -0.16597744511557513\n",
       "  0.1328426437792081\n",
       "  0.03313479934069753\n",
       "  0.11790159002078544\n",
       " -0.031407647375217396\n",
       " -0.03140768002107798\n",
       "  0.012581403467989862\n",
       "  0.25059874222554773\n",
       " -0.02283555564061762\n",
       " -0.022835561723984016\n",
       "  0.0014853643878272587\n",
       "  0.05806065078478432\n",
       " -0.02361544579384509\n",
       "  ⋮\n",
       "  0.23091698527954466\n",
       "  0.046770960727422116\n",
       " -0.030910676358373253\n",
       " -0.3397767928942893\n",
       "  0.019747275597601012\n",
       "  0.3297592438478506\n",
       " -0.06756689520880971\n",
       "  0.3230705239465128\n",
       " -0.009403785986263458\n",
       "  0.2526732057656037\n",
       "  0.0043007866010394335\n",
       " -1.6467552388315258e-11"
      ]
     },
     "execution_count": 6,
     "metadata": {},
     "output_type": "execute_result"
    }
   ],
   "source": [
    "carbon_min.p.value"
   ]
  },
  {
   "cell_type": "code",
   "execution_count": 7,
   "metadata": {},
   "outputs": [
    {
     "data": {
      "text/plain": [
       "50×1 Matrix{Float64}:\n",
       "  2.0222868109878213e-9\n",
       "  4.67245157643491e-10\n",
       " -1.3264023801109067e-10\n",
       "  1.482468764026492e-9\n",
       " 17.497495832410124\n",
       "  2.331272549487383\n",
       "  5.8919296778096664e-9\n",
       "  9.39525669580665\n",
       "  9.098218635503958e-10\n",
       " 18.1281665027639\n",
       "  8.101763391088808\n",
       "  3.18074976200005\n",
       "  7.556409101278798\n",
       "  ⋮\n",
       "  7.350200872188582e-10\n",
       " -1.303536465135923e-10\n",
       "  8.366617279468397\n",
       "  6.333743351265078\n",
       "  2.8242647961389072e-9\n",
       "  0.009403776193871836\n",
       "  3.6618965446997153e-10\n",
       " -2.6588421407449536e-11\n",
       "  2.276601179764184e-9\n",
       "  5.317859487775999e-9\n",
       "  4.8376048118410175e-9\n",
       "  3.776505394326444e-9"
      ]
     },
     "execution_count": 7,
     "metadata": {},
     "output_type": "execute_result"
    }
   ],
   "source": [
    "carbon_min.g.value"
   ]
  },
  {
   "cell_type": "code",
   "execution_count": 8,
   "metadata": {},
   "outputs": [
    {
     "data": {
      "text/plain": [
       "283.741874146353"
      ]
     },
     "execution_count": 8,
     "metadata": {},
     "output_type": "execute_result"
    }
   ],
   "source": [
    "carbon_min.problem.optval"
   ]
  },
  {
   "cell_type": "code",
   "execution_count": 9,
   "metadata": {},
   "outputs": [
    {
     "data": {
      "text/plain": [
       "30×1 Matrix{Float64}:\n",
       " -2.888492957295875e-14\n",
       "  0.0\n",
       "  8.881784197001252e-16\n",
       " -7.993977156911617e-14\n",
       " -7.105427357601002e-15\n",
       "  4.440892098500626e-15\n",
       " -6.282702246736007e-13\n",
       " -1.0658141036401503e-14\n",
       "  0.0\n",
       "  0.0\n",
       " -1.7763568394002505e-15\n",
       " -7.549516567451064e-15\n",
       " -8.881784197001252e-16\n",
       "  ⋮\n",
       " -8.881784197001252e-16\n",
       " -5.329070518200751e-15\n",
       " -7.105427357601002e-15\n",
       "  1.1557282908469801e-12\n",
       " -1.7763568394002505e-15\n",
       " -1.7763568394002505e-15\n",
       " -1.7763568394002505e-15\n",
       " -3.552713678800501e-15\n",
       "  0.0\n",
       " -2.6645352591003757e-15\n",
       "  1.0115625817267229e-14\n",
       "  0.0"
      ]
     },
     "execution_count": 9,
     "metadata": {},
     "output_type": "execute_result"
    }
   ],
   "source": [
    "# checking continuity\n",
    "\n",
    "A*carbon_min.p.value - B*carbon_min.g.value + d"
   ]
  },
  {
   "cell_type": "markdown",
   "metadata": {},
   "source": [
    "# Test the dynamic network"
   ]
  },
  {
   "cell_type": "markdown",
   "metadata": {},
   "source": [
    "## One single timestep, with no battery capacity"
   ]
  },
  {
   "cell_type": "markdown",
   "metadata": {},
   "source": [
    "This should give the same result as above"
   ]
  },
  {
   "cell_type": "code",
   "execution_count": 10,
   "metadata": {},
   "outputs": [],
   "source": [
    "T = 1\n",
    "\n",
    "cq_dyn = [cq for _ in 1:T]\n",
    "cl_dyn = [cl for _ in 1:T]\n",
    "pmax_dyn = [pmax for _ in 1:T]\n",
    "gmax_dyn = [gmax for _ in 1:T]\n",
    "d_dyn = [d for _ in 1:T]\n",
    "\n",
    "P = rand(Exponential(2), n)\n",
    "C = rand(Exponential(2), n)\n",
    "C = zeros(n)\n",
    ";"
   ]
  },
  {
   "cell_type": "code",
   "execution_count": 11,
   "metadata": {},
   "outputs": [],
   "source": [
    "dnet = DynamicPowerNetwork(\n",
    "    cq_dyn, cl_dyn, pmax_dyn, gmax_dyn, A, B, P, C\n",
    ")\n",
    "dmin = DynamicPowerManagementProblem(dnet, d_dyn);"
   ]
  },
  {
   "cell_type": "code",
   "execution_count": 12,
   "metadata": {},
   "outputs": [],
   "source": [
    "solve!(dmin, OPT, verbose=true);"
   ]
  },
  {
   "cell_type": "code",
   "execution_count": 13,
   "metadata": {},
   "outputs": [
    {
     "data": {
      "text/plain": [
       "30×1 Matrix{Float64}:\n",
       " -0.16597746710033923\n",
       "  0.132842661101411\n",
       "  0.033134804871184115\n",
       "  0.1179015963044886\n",
       " -0.031407662662177684\n",
       " -0.031407680497331766\n",
       "  0.012581403833175771\n",
       "  0.2505987427057563\n",
       " -0.022835558084308476\n",
       " -0.022835561352775022\n",
       "  0.0014853640382804887\n",
       "  0.05806065821934756\n",
       " -0.02361545203065828\n",
       "  ⋮\n",
       "  0.23091699318723055\n",
       "  0.04677096150714629\n",
       " -0.030910676434444277\n",
       " -0.33977679308512276\n",
       "  0.019747278835864215\n",
       "  0.32975924394193457\n",
       " -0.06756689661447723\n",
       "  0.3230705237305934\n",
       " -0.009403791383327934\n",
       "  0.2526732817766193\n",
       "  0.004300786398550183\n",
       "  9.218581547327288e-13"
      ]
     },
     "execution_count": 13,
     "metadata": {},
     "output_type": "execute_result"
    }
   ],
   "source": [
    "dmin.p[1].value"
   ]
  },
  {
   "cell_type": "code",
   "execution_count": 14,
   "metadata": {},
   "outputs": [
    {
     "data": {
      "text/plain": [
       "50×1 Matrix{Float64}:\n",
       "  1.0735065039031846e-9\n",
       "  2.2217100402771265e-10\n",
       " -9.936393395154732e-11\n",
       "  7.75962577550244e-10\n",
       " 17.49749583139332\n",
       "  2.3312725522873086\n",
       "  3.215734367522324e-9\n",
       "  9.395256696809813\n",
       "  4.6356311983871156e-10\n",
       " 18.128166516405383\n",
       "  8.10176339197671\n",
       "  3.1807497619550453\n",
       "  7.55640910451984\n",
       "  ⋮\n",
       "  3.6719982836201344e-10\n",
       " -9.952899778636467e-11\n",
       "  8.36661727204827\n",
       "  6.333743323125045\n",
       "  1.473946586263675e-9\n",
       "  0.009403786111358685\n",
       "  1.6559696921713582e-10\n",
       " -4.275090359141923e-11\n",
       "  1.2308218496533127e-9\n",
       "  2.8871591063666796e-9\n",
       "  2.6285251291592886e-9\n",
       "  2.0374257063257826e-9"
      ]
     },
     "execution_count": 14,
     "metadata": {},
     "output_type": "execute_result"
    }
   ],
   "source": [
    "dmin.g[1].value"
   ]
  },
  {
   "cell_type": "code",
   "execution_count": 15,
   "metadata": {},
   "outputs": [
    {
     "data": {
      "text/plain": [
       "30×1 Matrix{Float64}:\n",
       " -9.73048680229247e-11\n",
       " -1.170022989893236e-10\n",
       " -5.087485565334279e-11\n",
       " -4.836304646079725e-11\n",
       " -4.014618395219639e-10\n",
       " -8.982147033143034e-12\n",
       " -9.136877807791716e-12\n",
       " -7.676448233205655e-10\n",
       " -8.254354572789296e-11\n",
       " -2.998454622327205e-11\n",
       " -9.785943420599236e-11\n",
       " -7.700026533747988e-10\n",
       " -5.2942545455177925e-11\n",
       "  ⋮\n",
       " -4.903960502144992e-10\n",
       " -9.759501370538015e-13\n",
       " -6.841366560661969e-10\n",
       " -1.383583053997316e-10\n",
       " -2.2380842164990962e-10\n",
       " -2.21182558761919e-10\n",
       " -1.0528321653600061e-10\n",
       " -6.567621277682978e-10\n",
       " -5.320698177272418e-11\n",
       " -5.094041079865015e-10\n",
       " -2.1483091135549005e-11\n",
       " -2.2094638922779295e-11"
      ]
     },
     "execution_count": 15,
     "metadata": {},
     "output_type": "execute_result"
    }
   ],
   "source": [
    "dmin.s[1].value"
   ]
  },
  {
   "cell_type": "markdown",
   "metadata": {},
   "source": [
    "## Several timesteps, with no battery capacity"
   ]
  },
  {
   "cell_type": "markdown",
   "metadata": {},
   "source": [
    "Again, this should be the same as $T$ uncoupled problems. "
   ]
  },
  {
   "cell_type": "code",
   "execution_count": 16,
   "metadata": {},
   "outputs": [],
   "source": [
    "T = 5\n",
    "\n",
    "cq_dyn = [cq for _ in 1:T]\n",
    "cl_dyn = [cl for _ in 1:T]\n",
    "pmax_dyn = [pmax for _ in 1:T]\n",
    "gmax_dyn = [gmax for _ in 1:T]\n",
    "d_dyn = [d for _ in 1:T]\n",
    "\n",
    "P = rand(Exponential(2), n)\n",
    "C = rand(Exponential(2), n)\n",
    "C = zeros(n)\n",
    ";"
   ]
  },
  {
   "cell_type": "code",
   "execution_count": 17,
   "metadata": {},
   "outputs": [],
   "source": [
    "dnet = DynamicPowerNetwork(\n",
    "    cq_dyn, cl_dyn, pmax_dyn, gmax_dyn, A, B, P, C\n",
    ")\n",
    "dmin = DynamicPowerManagementProblem(dnet, d_dyn);"
   ]
  },
  {
   "cell_type": "code",
   "execution_count": 18,
   "metadata": {},
   "outputs": [],
   "source": [
    "solve!(dmin, OPT, verbose=true);"
   ]
  },
  {
   "cell_type": "code",
   "execution_count": 19,
   "metadata": {},
   "outputs": [
    {
     "name": "stdout",
     "output_type": "stream",
     "text": [
      "(dmin.p[t]).value = [-0.16597746405993213; 0.13284265891939304; 0.03313480423977917; 0.11790159555503077; -0.03140766111840514; -0.03140768059987682; 0.012581403952238368; 0.2505987428074907; -0.022835558308611337; -0.02283556158121059; 0.0014853642635185476; 0.05806065730804622; -0.02361545130056872; 0.0748784797228519; 0.03325238310635019; 0.016653638115385828; 0.0072779995553461044; 0.23091699516290282; 0.23091699217691908; 0.04677096156495812; -0.03091067659553008; -0.33977679322960436; 0.0197472785374028; 0.32975924410073737; -0.06756689658035578; 0.3230705239355698; -0.009403790749667275; 0.2526732709822066; 0.004300786601723412; 1.4066244109058082e-10]\n",
      "(dmin.g[t]).value = [1.052663311708202e-9; 1.19548143594118e-10; -2.0885422239158653e-10; 7.204780868291287e-10; 17.49749583149425; 2.3312725526396334; 3.453259970230735e-9; 9.395256697053298; 3.8107597932050475e-10; 18.12816651479391; 8.101763391921226; 3.1807497622676153; 7.556409104427256; 18.152658797393055; 1.7403085187669197e-10; 4.192388633736186; 5.8302425928673385; 22.093969148042202; 4.4092801700741; 5.137709314046815e-10; 9.928865827047176; 3.968067791049263e-9; 6.350900663425683; 7.520514821360543; 12.053053102906212; 6.241912850839377; 10.119702858040515; 3.818917099896654; -1.4064236503069593e-10; 14.248973318472842; 3.2483325954850125e-11; 2.515148831901156e-9; 13.500036478527747; 1.0444908075105905e-9; -2.3216750148308308e-10; 1.848789474751426e-8; 7.690622818334553e-10; 5.236750985308387; 2.731698102796662e-10; -2.142319607594533e-10; 8.366617273349634; 6.3337433271342585; 1.5085325145102447e-9; 0.009403785272144525; 5.186000029049012e-11; -1.5181280106155263e-10; 1.2980382936910048e-9; 3.07159153499787e-9; 2.8122065090954603e-9; 2.1206332856310693e-9]\n",
      "(dmin.s[1]).value = [-2.3441334342279253e-17; 1.0413438362161618e-18; -1.0930083455011054e-18; 3.810865513383138e-17; 5.653459585654401e-19; 6.300538276429406e-18; -3.4264796889911623e-16; -3.051056880473878e-16; -2.2809585841473665e-17; -2.519008435804589e-17; -9.947672085774727e-18; 1.6333128226800044e-16; 4.768152203456774e-19; -1.6109678527382156e-16; 6.156255217485352e-17; -4.676511375616856e-18; -1.7213764229100148e-17; -6.136154403834318e-18; -1.1080198388820745e-16; -4.019938664143557e-18; -1.0207077074620486e-16; -2.735874676974901e-16; -6.677382747267696e-18; 5.505437138591509e-18; -5.427880771500815e-17; -1.0704463643199396e-16; -3.352710759053049e-17; -1.845221921120474e-17; -6.58357548701264e-17; -1.1198916696949906e-17]\n",
      "(dmin.p[t]).value = [-0.1659774640599303; 0.13284265891938277; 0.03313480423977997; 0.11790159555503242; -0.03140766111841344; -0.031407680599876135; 0.012581403952241013; 0.25059874280748523; -0.022835558308764426; -0.022835561581218307; 0.00148536426351733; 0.058060657308040296; -0.023615451300568177; 0.07487847972285187; 0.03325238310634883; 0.016653638115380155; 0.007277999555350137; 0.23091699516263556; 0.23091699217664263; 0.04677096156495295; -0.030910676595536857; -0.3397767932296024; 0.019747278537406928; 0.32975924410073576; -0.06756689658035532; 0.323070523935571; -0.009403790749591282; 0.25267327098221465; 0.004300786601722465; 1.406619667452733e-10]\n",
      "(dmin.g[t]).value = [1.0526703270073808e-9; 1.195480148992704e-10; -2.0885447987748647e-10; 7.204796519927145e-10; 17.49749583149425; 2.3312725526397893; 3.453113672382972e-9; 9.39525669705329; 3.810749880204861e-10; 18.128166514793907; 8.101763391921216; 3.1807497622676224; 7.556409104427244; 18.152658797393322; 1.7403243029841677e-10; 4.1923886337359155; 5.830242592867329; 22.09396914804219; 4.409280170074105; 5.137708414799882e-10; 9.928865827047174; 3.968085405448743e-9; 6.350900663425751; 7.52051482136055; 12.05305310290621; 6.2419128508393795; 10.119702858040508; 3.8189170998966553; -1.4064200621364385e-10; 14.248973318472821; 3.248367260716684e-11; 2.5151556726718027e-9; 13.500036478527747; 1.0444942751985334e-9; -2.3216724742462932e-10; 1.8487883309605933e-8; 7.690630658946364e-10; 5.236750985308398; 2.731706907359192e-10; -2.1423196594197246e-10; 8.366617273349641; 6.3337433271342585; 1.508533771827216e-9; 0.009403785272049296; 5.1860841788740563e-11; -1.5181220512289807e-10; 1.2980431006864176e-9; 3.071610984571891e-9; 2.812213722236035e-9; 2.1206395914905615e-9]\n",
      "(dmin.s[1]).value = [-2.3441334342279253e-17; 1.0413438362161618e-18; -1.0930083455011054e-18; 3.810865513383138e-17; 5.653459585654401e-19; 6.300538276429406e-18; -3.4264796889911623e-16; -3.051056880473878e-16; -2.2809585841473665e-17; -2.519008435804589e-17; -9.947672085774727e-18; 1.6333128226800044e-16; 4.768152203456774e-19; -1.6109678527382156e-16; 6.156255217485352e-17; -4.676511375616856e-18; -1.7213764229100148e-17; -6.136154403834318e-18; -1.1080198388820745e-16; -4.019938664143557e-18; -1.0207077074620486e-16; -2.735874676974901e-16; -6.677382747267696e-18; 5.505437138591509e-18; -5.427880771500815e-17; -1.0704463643199396e-16; -3.352710759053049e-17; -1.845221921120474e-17; -6.58357548701264e-17; -1.1198916696949906e-17]\n",
      "(dmin.p[t]).value = [-0.16597746405992939; 0.13284265891935187; 0.033134804239783475; 0.11790159555503424; -0.031407661118431095; -0.03140768059987282; 0.012581403952248209; 0.250598742807472; -0.022835558309158826; -0.02283556158123737; 0.001485364263513743; 0.05806065730802716; -0.023615451300567213; 0.07487847972285214; 0.03325238310634177; 0.016653638115362173; 0.007277999555362978; 0.23091699516222827; 0.23091699217622685; 0.046770961564939324; -0.030910676595581898; -0.3397767932295964; 0.019747278537423973; 0.32975924410073254; -0.06756689658035446; 0.3230705239355734; -0.00940379074942542; 0.25267327098224307; 0.00430078660171952; 1.4066051598942064e-10]\n",
      "(dmin.g[t]).value = [1.0526943443130811e-9; 1.19547849515057e-10; -2.0885499827065785e-10; 7.204843285024828e-10; 17.497495831494255; 2.3312725526401907; 3.4527354162310343e-9; 9.39525669705334; 3.810732418532163e-10; 18.12816651479389; 8.101763391921187; 3.1807497622676473; 7.5564091044272095; 18.152658797393734; 1.7403674019417277e-10; 4.192388633735512; 5.830242592867326; 22.093969148042127; 4.409280170074126; 5.137693067919991e-10; 9.928865827047174; 3.968124836077556e-9; 6.350900663425888; 7.52051482136058; 12.05305310290619; 6.241912850839381; 10.11970285804049; 3.818917099896662; -1.406407549165933e-10; 14.248973318472771; 3.248366755107538e-11; 2.5151736634838427e-9; 13.500036478527756; 1.0445033885041399e-9; -2.3216652747008726e-10; 1.8487854824915292e-8; 7.690652267831694e-10; 5.236750985308419; 2.7317338186843294e-10; -2.142322098488963e-10; 8.366617273349652; 6.3337433271342585; 1.5085335871061326e-9; 0.009403785271851164; 5.186377325512058e-11; -1.5180993528735834e-10; 1.297975611525239e-9; 3.0716610970738437e-9; 2.8122169787702862e-9; 2.1206530263069613e-9]\n",
      "(dmin.s[1]).value = [-2.3441334342279253e-17; 1.0413438362161618e-18; -1.0930083455011054e-18; 3.810865513383138e-17; 5.653459585654401e-19; 6.300538276429406e-18; -3.4264796889911623e-16; -3.051056880473878e-16; -2.2809585841473665e-17; -2.519008435804589e-17; -9.947672085774727e-18; 1.6333128226800044e-16; 4.768152203456774e-19; -1.6109678527382156e-16; 6.156255217485352e-17; -4.676511375616856e-18; -1.7213764229100148e-17; -6.136154403834318e-18; -1.1080198388820745e-16; -4.019938664143557e-18; -1.0207077074620486e-16; -2.735874676974901e-16; -6.677382747267696e-18; 5.505437138591509e-18; -5.427880771500815e-17; -1.0704463643199396e-16; -3.352710759053049e-17; -1.845221921120474e-17; -6.58357548701264e-17; -1.1198916696949906e-17]\n",
      "(dmin.p[t]).value = [-0.16597746405994174; 0.1328426589192702; 0.0331348042397992; 0.11790159555503119; -0.03140766111840445; -0.03140768059986101; 0.012581403952264775; 0.2505987428074464; -0.022835558309947247; -0.022835561581268215; 0.0014853642635013478; 0.0580606573080057; -0.02361545130056643; 0.07487847972285364; 0.03325238310630899; 0.016653638115307366; 0.0072779995554198154; 0.2309169951627461; 0.23091699217680334; 0.04677096156491343; -0.030910676595761015; -0.33977679322958315; 0.01974727853748613; 0.3297592441007276; -0.06756689658035543; 0.323070523935575; -0.009403790749017716; 0.25267327098234355; 0.004300786601711377; 1.4065299524643368e-10]\n",
      "(dmin.g[t]).value = [1.0527643522896193e-9; 1.1954886497945338e-10; -2.0885543140289858e-10; 7.20495785358179e-10; 17.497495831494273; 2.3312725526409954; 3.451971786527216e-9; 9.39525669705371; 3.8107236016191944e-10; 18.128166514793868; 8.101763391921104; 3.1807497622677317; 7.556409104427092; 18.15265879739321; 1.7404481715605916e-10; 4.1923886337361145; 5.830242592867381; 22.09396914804189; 4.409280170074192; 5.137608058097351e-10; 9.928865827047169; 3.968379935438645e-9; 6.350900663426195; 7.5205148213606785; 12.053053102906139; 6.241912850839385; 10.119702858040455; 3.818917099896673; -1.406349799492658e-10; 14.248973318472673; 3.24838190998287e-11; 2.515232388909031e-9; 13.500036478527818; 1.0445305741359202e-9; -2.3216492506902574e-10; 1.8487849403361038e-8; 7.690706949379264e-10; 5.236750985308389; 2.7317980412844936e-10; -2.142329912792627e-10; 8.36661727334966; 6.333743327134247; 1.5085803193408427e-9; 0.009403785271248796; 5.1872654655046994e-11; -1.518022018369099e-10; 1.2975917754051678e-9; 3.0717698258063278e-9; 2.812142035002764e-9; 2.120683415315013e-9]\n",
      "(dmin.s[1]).value = [-2.3441334342279253e-17; 1.0413438362161618e-18; -1.0930083455011054e-18; 3.810865513383138e-17; 5.653459585654401e-19; 6.300538276429406e-18; -3.4264796889911623e-16; -3.051056880473878e-16; -2.2809585841473665e-17; -2.519008435804589e-17; -9.947672085774727e-18; 1.6333128226800044e-16; 4.768152203456774e-19; -1.6109678527382156e-16; 6.156255217485352e-17; -4.676511375616856e-18; -1.7213764229100148e-17; -6.136154403834318e-18; -1.1080198388820745e-16; -4.019938664143557e-18; -1.0207077074620486e-16; -2.735874676974901e-16; -6.677382747267696e-18; 5.505437138591509e-18; -5.427880771500815e-17; -1.0704463643199396e-16; -3.352710759053049e-17; -1.845221921120474e-17; -6.58357548701264e-17; -1.1198916696949906e-17]\n"
     ]
    },
    {
     "name": "stdout",
     "output_type": "stream",
     "text": [
      "(dmin.p[t]).value = [-0.16597746406015942; 0.13284265877810386; 0.03313480423983749; 0.11790159555504129; -0.03140766104838471; -0.031407680599837236; 0.01258140395230037; 0.25059874280740146; -0.022835558298352477; -0.02283556158129747; 0.0014853642634831915; 0.05806065730798906; -0.023615451300569523; 0.07487847972286353; 0.03325238310616764; 0.016653638115146155; 0.007277999556041898; 0.23091699571892266; 0.23091699218002693; 0.04677096156489754; -0.03091067659625662; -0.33977679322956233; 0.019747278537676872; 0.32975924410071916; -0.06756689658035278; 0.32307052393556285; -0.00940379076589513; 0.25267327098247844; 0.004300786601690598; 1.1013405639132021e-10]\n",
      "(dmin.g[t]).value = [1.0528212971344376e-9; 1.1955884890571524e-10; -2.0885453257191576e-10; 7.205038343666923e-10; 17.4974958309095; 2.3312725526163707; 3.450038358665159e-9; 9.395256695904209; 3.8108134981294676e-10; 18.128166514750383; 8.101763391638004; 3.1807497612063402; 7.556409104349647; 18.152658796254094; 1.7405776728773361e-10; 4.192388633204639; 5.8302425927189026; 22.093969147284465; 4.409280169385077; 5.137937119332404e-10; 9.928865826100685; 3.9656244378447455e-9; 6.350900663082551; 7.520514821042898; 12.053053102753706; 6.241912849921386; 10.119702857963485; 3.818917099173564; -1.4061294844047129e-10; 14.24897331841005; 3.2501437472414874e-11; 2.515428161492164e-9; 13.500036478526981; 1.0446301671740364e-9; -2.3216432658290433e-10; 1.848800517447041e-8; 7.690850987374878e-10; 5.236750985165002; 2.731815453436596e-10; -2.142311596675026e-10; 8.366617273226861; 6.333743326964447; 1.5086788145858871e-9; 0.009403785092144554; 5.1883367254707436e-11; -1.5178996832616989e-10; 1.2962687548199807e-9; 3.0719937171800332e-9; 2.8118476650252383e-9; 2.1207784568408297e-9]\n",
      "(dmin.s[1]).value = [-2.3441334342279253e-17; 1.0413438362161618e-18; -1.0930083455011054e-18; 3.810865513383138e-17; 5.653459585654401e-19; 6.300538276429406e-18; -3.4264796889911623e-16; -3.051056880473878e-16; -2.2809585841473665e-17; -2.519008435804589e-17; -9.947672085774727e-18; 1.6333128226800044e-16; 4.768152203456774e-19; -1.6109678527382156e-16; 6.156255217485352e-17; -4.676511375616856e-18; -1.7213764229100148e-17; -6.136154403834318e-18; -1.1080198388820745e-16; -4.019938664143557e-18; -1.0207077074620486e-16; -2.735874676974901e-16; -6.677382747267696e-18; 5.505437138591509e-18; -5.427880771500815e-17; -1.0704463643199396e-16; -3.352710759053049e-17; -1.845221921120474e-17; -6.58357548701264e-17; -1.1198916696949906e-17]\n"
     ]
    }
   ],
   "source": [
    "for t in 1:T\n",
    "    @show dmin.p[t].value\n",
    "    @show dmin.g[t].value\n",
    "    @show dmin.s[1].value\n",
    "end"
   ]
  },
  {
   "cell_type": "code",
<<<<<<< Updated upstream
<<<<<<< Updated upstream
<<<<<<< Updated upstream
   "execution_count": 21,
=======
   "execution_count": 20,
>>>>>>> Stashed changes
=======
   "execution_count": 20,
>>>>>>> Stashed changes
=======
   "execution_count": 20,
>>>>>>> Stashed changes
   "metadata": {},
   "outputs": [],
   "source": [
    "s_vals = zeros(n, T)\n",
    "g_vals = zeros(l, T)\n",
    "for t in 1:T\n",
    "    s_vals[:, t] = dmin.s[t].value\n",
    "    g_vals[:, t] = dmin.g[t].value\n",
    "end"
   ]
  },
  {
   "cell_type": "code",
<<<<<<< Updated upstream
<<<<<<< Updated upstream
<<<<<<< Updated upstream
   "execution_count": 22,
=======
   "execution_count": 21,
>>>>>>> Stashed changes
=======
   "execution_count": 21,
>>>>>>> Stashed changes
=======
   "execution_count": 21,
>>>>>>> Stashed changes
   "metadata": {},
   "outputs": [
    {
     "data": {
      "image/svg+xml": [
       "<?xml version=\"1.0\" encoding=\"utf-8\"?>\n",
       "<svg xmlns=\"http://www.w3.org/2000/svg\" xmlns:xlink=\"http://www.w3.org/1999/xlink\" width=\"600\" height=\"400\" viewBox=\"0 0 2400 1600\">\n",
       "<defs>\n",
       "  <clipPath id=\"clip190\">\n",
       "    <rect x=\"0\" y=\"0\" width=\"2400\" height=\"1600\"/>\n",
       "  </clipPath>\n",
       "</defs>\n",
       "<path clip-path=\"url(#clip190)\" d=\"\n",
       "M0 1600 L2400 1600 L2400 0 L0 0  Z\n",
       "  \" fill=\"#ffffff\" fill-rule=\"evenodd\" fill-opacity=\"1\"/>\n",
       "<defs>\n",
       "  <clipPath id=\"clip191\">\n",
       "    <rect x=\"480\" y=\"0\" width=\"1681\" height=\"1600\"/>\n",
       "  </clipPath>\n",
       "</defs>\n",
       "<path clip-path=\"url(#clip190)\" d=\"\n",
       "M398.792 1486.45 L2352.76 1486.45 L2352.76 47.2441 L398.792 47.2441  Z\n",
       "  \" fill=\"#ffffff\" fill-rule=\"evenodd\" fill-opacity=\"1\"/>\n",
       "<defs>\n",
       "  <clipPath id=\"clip192\">\n",
       "    <rect x=\"398\" y=\"47\" width=\"1955\" height=\"1440\"/>\n",
       "  </clipPath>\n",
       "</defs>\n",
       "<polyline clip-path=\"url(#clip192)\" style=\"stroke:#000000; stroke-linecap:butt; stroke-linejoin:round; stroke-width:2; stroke-opacity:0.1; fill:none\" points=\"\n",
       "  454.093,1486.45 454.093,47.2441 \n",
       "  \"/>\n",
       "<polyline clip-path=\"url(#clip192)\" style=\"stroke:#000000; stroke-linecap:butt; stroke-linejoin:round; stroke-width:2; stroke-opacity:0.1; fill:none\" points=\"\n",
       "  914.933,1486.45 914.933,47.2441 \n",
       "  \"/>\n",
       "<polyline clip-path=\"url(#clip192)\" style=\"stroke:#000000; stroke-linecap:butt; stroke-linejoin:round; stroke-width:2; stroke-opacity:0.1; fill:none\" points=\"\n",
       "  1375.77,1486.45 1375.77,47.2441 \n",
       "  \"/>\n",
       "<polyline clip-path=\"url(#clip192)\" style=\"stroke:#000000; stroke-linecap:butt; stroke-linejoin:round; stroke-width:2; stroke-opacity:0.1; fill:none\" points=\"\n",
       "  1836.61,1486.45 1836.61,47.2441 \n",
       "  \"/>\n",
       "<polyline clip-path=\"url(#clip192)\" style=\"stroke:#000000; stroke-linecap:butt; stroke-linejoin:round; stroke-width:2; stroke-opacity:0.1; fill:none\" points=\"\n",
       "  2297.46,1486.45 2297.46,47.2441 \n",
       "  \"/>\n",
       "<polyline clip-path=\"url(#clip190)\" style=\"stroke:#000000; stroke-linecap:butt; stroke-linejoin:round; stroke-width:4; stroke-opacity:1; fill:none\" points=\"\n",
       "  398.792,1486.45 2352.76,1486.45 \n",
       "  \"/>\n",
       "<polyline clip-path=\"url(#clip190)\" style=\"stroke:#000000; stroke-linecap:butt; stroke-linejoin:round; stroke-width:4; stroke-opacity:1; fill:none\" points=\"\n",
       "  454.093,1486.45 454.093,1469.18 \n",
       "  \"/>\n",
       "<polyline clip-path=\"url(#clip190)\" style=\"stroke:#000000; stroke-linecap:butt; stroke-linejoin:round; stroke-width:4; stroke-opacity:1; fill:none\" points=\"\n",
       "  914.933,1486.45 914.933,1469.18 \n",
       "  \"/>\n",
       "<polyline clip-path=\"url(#clip190)\" style=\"stroke:#000000; stroke-linecap:butt; stroke-linejoin:round; stroke-width:4; stroke-opacity:1; fill:none\" points=\"\n",
       "  1375.77,1486.45 1375.77,1469.18 \n",
       "  \"/>\n",
       "<polyline clip-path=\"url(#clip190)\" style=\"stroke:#000000; stroke-linecap:butt; stroke-linejoin:round; stroke-width:4; stroke-opacity:1; fill:none\" points=\"\n",
       "  1836.61,1486.45 1836.61,1469.18 \n",
       "  \"/>\n",
       "<polyline clip-path=\"url(#clip190)\" style=\"stroke:#000000; stroke-linecap:butt; stroke-linejoin:round; stroke-width:4; stroke-opacity:1; fill:none\" points=\"\n",
       "  2297.46,1486.45 2297.46,1469.18 \n",
       "  \"/>\n",
       "<path clip-path=\"url(#clip190)\" d=\"M444.475 1543.18 L452.113 1543.18 L452.113 1516.82 L443.803 1518.49 L443.803 1514.23 L452.067 1512.56 L456.743 1512.56 L456.743 1543.18 L464.382 1543.18 L464.382 1547.12 L444.475 1547.12 L444.475 1543.18 Z\" fill=\"#000000\" fill-rule=\"evenodd\" fill-opacity=\"1\" /><path clip-path=\"url(#clip190)\" d=\"M909.586 1543.18 L925.905 1543.18 L925.905 1547.12 L903.961 1547.12 L903.961 1543.18 Q906.623 1540.43 911.206 1535.8 Q915.813 1531.15 916.993 1529.81 Q919.239 1527.28 920.118 1525.55 Q921.021 1523.79 921.021 1522.1 Q921.021 1519.34 919.077 1517.61 Q917.155 1515.87 914.054 1515.87 Q911.854 1515.87 909.401 1516.63 Q906.97 1517.4 904.192 1518.95 L904.192 1514.23 Q907.017 1513.09 909.47 1512.51 Q911.924 1511.93 913.961 1511.93 Q919.331 1511.93 922.526 1514.62 Q925.72 1517.31 925.72 1521.8 Q925.72 1523.93 924.91 1525.85 Q924.123 1527.74 922.016 1530.34 Q921.438 1531.01 918.336 1534.23 Q915.234 1537.42 909.586 1543.18 Z\" fill=\"#000000\" fill-rule=\"evenodd\" fill-opacity=\"1\" /><path clip-path=\"url(#clip190)\" d=\"M1380.02 1528.49 Q1383.38 1529.2 1385.25 1531.47 Q1387.15 1533.74 1387.15 1537.07 Q1387.15 1542.19 1383.63 1544.99 Q1380.11 1547.79 1373.63 1547.79 Q1371.46 1547.79 1369.14 1547.35 Q1366.85 1546.93 1364.4 1546.08 L1364.4 1541.56 Q1366.34 1542.7 1368.66 1543.28 Q1370.97 1543.86 1373.49 1543.86 Q1377.89 1543.86 1380.18 1542.12 Q1382.5 1540.38 1382.5 1537.07 Q1382.5 1534.02 1380.35 1532.31 Q1378.22 1530.57 1374.4 1530.57 L1370.37 1530.57 L1370.37 1526.73 L1374.58 1526.73 Q1378.03 1526.73 1379.86 1525.36 Q1381.69 1523.97 1381.69 1521.38 Q1381.69 1518.72 1379.79 1517.31 Q1377.91 1515.87 1374.4 1515.87 Q1372.48 1515.87 1370.28 1516.29 Q1368.08 1516.7 1365.44 1517.58 L1365.44 1513.42 Q1368.1 1512.68 1370.42 1512.31 Q1372.75 1511.93 1374.81 1511.93 Q1380.14 1511.93 1383.24 1514.37 Q1386.34 1516.77 1386.34 1520.89 Q1386.34 1523.76 1384.7 1525.75 Q1383.05 1527.72 1380.02 1528.49 Z\" fill=\"#000000\" fill-rule=\"evenodd\" fill-opacity=\"1\" /><path clip-path=\"url(#clip190)\" d=\"M1839.62 1516.63 L1827.82 1535.08 L1839.62 1535.08 L1839.62 1516.63 M1838.4 1512.56 L1844.28 1512.56 L1844.28 1535.08 L1849.21 1535.08 L1849.21 1538.97 L1844.28 1538.97 L1844.28 1547.12 L1839.62 1547.12 L1839.62 1538.97 L1824.02 1538.97 L1824.02 1534.46 L1838.4 1512.56 Z\" fill=\"#000000\" fill-rule=\"evenodd\" fill-opacity=\"1\" /><path clip-path=\"url(#clip190)\" d=\"M2287.73 1512.56 L2306.09 1512.56 L2306.09 1516.5 L2292.02 1516.5 L2292.02 1524.97 Q2293.03 1524.62 2294.05 1524.46 Q2295.07 1524.27 2296.09 1524.27 Q2301.88 1524.27 2305.26 1527.44 Q2308.64 1530.62 2308.64 1536.03 Q2308.64 1541.61 2305.16 1544.71 Q2301.69 1547.79 2295.37 1547.79 Q2293.2 1547.79 2290.93 1547.42 Q2288.68 1547.05 2286.27 1546.31 L2286.27 1541.61 Q2288.36 1542.74 2290.58 1543.3 Q2292.8 1543.86 2295.28 1543.86 Q2299.28 1543.86 2301.62 1541.75 Q2303.96 1539.64 2303.96 1536.03 Q2303.96 1532.42 2301.62 1530.31 Q2299.28 1528.21 2295.28 1528.21 Q2293.4 1528.21 2291.53 1528.62 Q2289.68 1529.04 2287.73 1529.92 L2287.73 1512.56 Z\" fill=\"#000000\" fill-rule=\"evenodd\" fill-opacity=\"1\" /><polyline clip-path=\"url(#clip192)\" style=\"stroke:#000000; stroke-linecap:butt; stroke-linejoin:round; stroke-width:2; stroke-opacity:0.1; fill:none\" points=\"\n",
       "  398.792,1267.81 2352.76,1267.81 \n",
       "  \"/>\n",
       "<polyline clip-path=\"url(#clip192)\" style=\"stroke:#000000; stroke-linecap:butt; stroke-linejoin:round; stroke-width:2; stroke-opacity:0.1; fill:none\" points=\"\n",
       "  398.792,972.885 2352.76,972.885 \n",
       "  \"/>\n",
       "<polyline clip-path=\"url(#clip192)\" style=\"stroke:#000000; stroke-linecap:butt; stroke-linejoin:round; stroke-width:2; stroke-opacity:0.1; fill:none\" points=\"\n",
       "  398.792,677.961 2352.76,677.961 \n",
       "  \"/>\n",
       "<polyline clip-path=\"url(#clip192)\" style=\"stroke:#000000; stroke-linecap:butt; stroke-linejoin:round; stroke-width:2; stroke-opacity:0.1; fill:none\" points=\"\n",
       "  398.792,383.038 2352.76,383.038 \n",
       "  \"/>\n",
       "<polyline clip-path=\"url(#clip192)\" style=\"stroke:#000000; stroke-linecap:butt; stroke-linejoin:round; stroke-width:2; stroke-opacity:0.1; fill:none\" points=\"\n",
       "  398.792,88.1144 2352.76,88.1144 \n",
       "  \"/>\n",
       "<polyline clip-path=\"url(#clip190)\" style=\"stroke:#000000; stroke-linecap:butt; stroke-linejoin:round; stroke-width:4; stroke-opacity:1; fill:none\" points=\"\n",
       "  398.792,1486.45 398.792,47.2441 \n",
       "  \"/>\n",
       "<polyline clip-path=\"url(#clip190)\" style=\"stroke:#000000; stroke-linecap:butt; stroke-linejoin:round; stroke-width:4; stroke-opacity:1; fill:none\" points=\"\n",
       "  398.792,1267.81 422.239,1267.81 \n",
       "  \"/>\n",
       "<polyline clip-path=\"url(#clip190)\" style=\"stroke:#000000; stroke-linecap:butt; stroke-linejoin:round; stroke-width:4; stroke-opacity:1; fill:none\" points=\"\n",
       "  398.792,972.885 422.239,972.885 \n",
       "  \"/>\n",
       "<polyline clip-path=\"url(#clip190)\" style=\"stroke:#000000; stroke-linecap:butt; stroke-linejoin:round; stroke-width:4; stroke-opacity:1; fill:none\" points=\"\n",
       "  398.792,677.961 422.239,677.961 \n",
       "  \"/>\n",
       "<polyline clip-path=\"url(#clip190)\" style=\"stroke:#000000; stroke-linecap:butt; stroke-linejoin:round; stroke-width:4; stroke-opacity:1; fill:none\" points=\"\n",
       "  398.792,383.038 422.239,383.038 \n",
       "  \"/>\n",
       "<polyline clip-path=\"url(#clip190)\" style=\"stroke:#000000; stroke-linecap:butt; stroke-linejoin:round; stroke-width:4; stroke-opacity:1; fill:none\" points=\"\n",
       "  398.792,88.1144 422.239,88.1144 \n",
       "  \"/>\n",
       "<path clip-path=\"url(#clip190)\" d=\"M75.6491 1274.71 L105.325 1274.71 L105.325 1278.64 L75.6491 1278.64 L75.6491 1274.71 Z\" fill=\"#000000\" fill-rule=\"evenodd\" fill-opacity=\"1\" /><path clip-path=\"url(#clip190)\" d=\"M116.228 1287.6 L123.866 1287.6 L123.866 1261.23 L115.556 1262.9 L115.556 1258.64 L123.82 1256.98 L128.496 1256.98 L128.496 1287.6 L136.135 1287.6 L136.135 1291.54 L116.228 1291.54 L116.228 1287.6 Z\" fill=\"#000000\" fill-rule=\"evenodd\" fill-opacity=\"1\" /><path clip-path=\"url(#clip190)\" d=\"M145.579 1285.66 L150.464 1285.66 L150.464 1291.54 L145.579 1291.54 L145.579 1285.66 Z\" fill=\"#000000\" fill-rule=\"evenodd\" fill-opacity=\"1\" /><path clip-path=\"url(#clip190)\" d=\"M170.649 1260.05 Q167.038 1260.05 165.209 1263.62 Q163.403 1267.16 163.403 1274.29 Q163.403 1281.4 165.209 1284.96 Q167.038 1288.5 170.649 1288.5 Q174.283 1288.5 176.088 1284.96 Q177.917 1281.4 177.917 1274.29 Q177.917 1267.16 176.088 1263.62 Q174.283 1260.05 170.649 1260.05 M170.649 1256.35 Q176.459 1256.35 179.514 1260.96 Q182.593 1265.54 182.593 1274.29 Q182.593 1283.02 179.514 1287.62 Q176.459 1292.21 170.649 1292.21 Q164.838 1292.21 161.76 1287.62 Q158.704 1283.02 158.704 1274.29 Q158.704 1265.54 161.76 1260.96 Q164.838 1256.35 170.649 1256.35 Z\" fill=\"#000000\" fill-rule=\"evenodd\" fill-opacity=\"1\" /><path clip-path=\"url(#clip190)\" d=\"M200.81 1260.05 Q197.199 1260.05 195.371 1263.62 Q193.565 1267.16 193.565 1274.29 Q193.565 1281.4 195.371 1284.96 Q197.199 1288.5 200.81 1288.5 Q204.445 1288.5 206.25 1284.96 Q208.079 1281.4 208.079 1274.29 Q208.079 1267.16 206.25 1263.62 Q204.445 1260.05 200.81 1260.05 M200.81 1256.35 Q206.621 1256.35 209.676 1260.96 Q212.755 1265.54 212.755 1274.29 Q212.755 1283.02 209.676 1287.62 Q206.621 1292.21 200.81 1292.21 Q195 1292.21 191.922 1287.62 Q188.866 1283.02 188.866 1274.29 Q188.866 1265.54 191.922 1260.96 Q195 1256.35 200.81 1256.35 Z\" fill=\"#000000\" fill-rule=\"evenodd\" fill-opacity=\"1\" /><path clip-path=\"url(#clip190)\" d=\"M249.144 1266.07 L238.565 1276.7 L249.144 1287.28 L246.389 1290.08 L235.764 1279.45 L225.139 1290.08 L222.408 1287.28 L232.963 1276.7 L222.408 1266.07 L225.139 1263.27 L235.764 1273.9 L246.389 1263.27 L249.144 1266.07 Z\" fill=\"#000000\" fill-rule=\"evenodd\" fill-opacity=\"1\" /><path clip-path=\"url(#clip190)\" d=\"M261.505 1287.6 L269.143 1287.6 L269.143 1261.23 L260.833 1262.9 L260.833 1258.64 L269.097 1256.98 L273.773 1256.98 L273.773 1287.6 L281.412 1287.6 L281.412 1291.54 L261.505 1291.54 L261.505 1287.6 Z\" fill=\"#000000\" fill-rule=\"evenodd\" fill-opacity=\"1\" /><path clip-path=\"url(#clip190)\" d=\"M300.856 1260.05 Q297.245 1260.05 295.416 1263.62 Q293.611 1267.16 293.611 1274.29 Q293.611 1281.4 295.416 1284.96 Q297.245 1288.5 300.856 1288.5 Q304.49 1288.5 306.296 1284.96 Q308.125 1281.4 308.125 1274.29 Q308.125 1267.16 306.296 1263.62 Q304.49 1260.05 300.856 1260.05 M300.856 1256.35 Q306.666 1256.35 309.722 1260.96 Q312.801 1265.54 312.801 1274.29 Q312.801 1283.02 309.722 1287.62 Q306.666 1292.21 300.856 1292.21 Q295.046 1292.21 291.967 1287.62 Q288.912 1283.02 288.912 1274.29 Q288.912 1265.54 291.967 1260.96 Q295.046 1256.35 300.856 1256.35 Z\" fill=\"#000000\" fill-rule=\"evenodd\" fill-opacity=\"1\" /><path clip-path=\"url(#clip190)\" d=\"M312.801 1250.45 L336.912 1250.45 L336.912 1253.65 L312.801 1253.65 L312.801 1250.45 Z\" fill=\"#000000\" fill-rule=\"evenodd\" fill-opacity=\"1\" /><path clip-path=\"url(#clip190)\" d=\"M345.225 1263.54 L345.225 1260.08 Q346.655 1260.76 348.122 1261.12 Q349.589 1261.47 350.999 1261.47 Q354.761 1261.47 356.736 1258.95 Q358.729 1256.41 359.011 1251.26 Q357.92 1252.88 356.247 1253.74 Q354.573 1254.61 352.541 1254.61 Q348.328 1254.61 345.865 1252.07 Q343.42 1249.51 343.42 1245.09 Q343.42 1240.77 345.978 1238.15 Q348.535 1235.54 352.786 1235.54 Q357.657 1235.54 360.215 1239.28 Q362.792 1243 362.792 1250.11 Q362.792 1256.75 359.632 1260.72 Q356.491 1264.67 351.168 1264.67 Q349.739 1264.67 348.272 1264.39 Q346.805 1264.11 345.225 1263.54 M352.786 1251.64 Q355.344 1251.64 356.83 1249.89 Q358.334 1248.14 358.334 1245.09 Q358.334 1242.06 356.83 1240.31 Q355.344 1238.55 352.786 1238.55 Q350.228 1238.55 348.723 1240.31 Q347.238 1242.06 347.238 1245.09 Q347.238 1248.14 348.723 1249.89 Q350.228 1251.64 352.786 1251.64 Z\" fill=\"#000000\" fill-rule=\"evenodd\" fill-opacity=\"1\" /><path clip-path=\"url(#clip190)\" d=\"M50.9921 979.784 L80.6679 979.784 L80.6679 983.719 L50.9921 983.719 L50.9921 979.784 Z\" fill=\"#000000\" fill-rule=\"evenodd\" fill-opacity=\"1\" /><path clip-path=\"url(#clip190)\" d=\"M89.5799 962.052 L111.802 962.052 L111.802 964.043 L99.2558 996.612 L94.3715 996.612 L106.177 965.987 L89.5799 965.987 L89.5799 962.052 Z\" fill=\"#000000\" fill-rule=\"evenodd\" fill-opacity=\"1\" /><path clip-path=\"url(#clip190)\" d=\"M120.922 990.733 L125.807 990.733 L125.807 996.612 L120.922 996.612 L120.922 990.733 Z\" fill=\"#000000\" fill-rule=\"evenodd\" fill-opacity=\"1\" /><path clip-path=\"url(#clip190)\" d=\"M136.038 962.052 L154.394 962.052 L154.394 965.987 L140.32 965.987 L140.32 974.46 Q141.339 974.112 142.357 973.95 Q143.376 973.765 144.394 973.765 Q150.181 973.765 153.561 976.936 Q156.941 980.108 156.941 985.524 Q156.941 991.103 153.468 994.205 Q149.996 997.283 143.677 997.283 Q141.501 997.283 139.232 996.913 Q136.987 996.543 134.58 995.802 L134.58 991.103 Q136.663 992.237 138.885 992.793 Q141.107 993.348 143.584 993.348 Q147.589 993.348 149.927 991.242 Q152.265 989.135 152.265 985.524 Q152.265 981.913 149.927 979.807 Q147.589 977.7 143.584 977.7 Q141.709 977.7 139.834 978.117 Q137.982 978.534 136.038 979.413 L136.038 962.052 Z\" fill=\"#000000\" fill-rule=\"evenodd\" fill-opacity=\"1\" /><path clip-path=\"url(#clip190)\" d=\"M176.153 965.131 Q172.542 965.131 170.714 968.696 Q168.908 972.237 168.908 979.367 Q168.908 986.473 170.714 990.038 Q172.542 993.58 176.153 993.58 Q179.788 993.58 181.593 990.038 Q183.422 986.473 183.422 979.367 Q183.422 972.237 181.593 968.696 Q179.788 965.131 176.153 965.131 M176.153 961.427 Q181.964 961.427 185.019 966.034 Q188.098 970.617 188.098 979.367 Q188.098 988.094 185.019 992.7 Q181.964 997.283 176.153 997.283 Q170.343 997.283 167.265 992.7 Q164.209 988.094 164.209 979.367 Q164.209 970.617 167.265 966.034 Q170.343 961.427 176.153 961.427 Z\" fill=\"#000000\" fill-rule=\"evenodd\" fill-opacity=\"1\" /><path clip-path=\"url(#clip190)\" d=\"M224.487 971.149 L213.908 981.774 L224.487 992.353 L221.732 995.154 L211.107 984.529 L200.482 995.154 L197.751 992.353 L208.306 981.774 L197.751 971.149 L200.482 968.348 L211.107 978.973 L221.732 968.348 L224.487 971.149 Z\" fill=\"#000000\" fill-rule=\"evenodd\" fill-opacity=\"1\" /><path clip-path=\"url(#clip190)\" d=\"M236.848 992.677 L244.486 992.677 L244.486 966.311 L236.176 967.978 L236.176 963.719 L244.44 962.052 L249.116 962.052 L249.116 992.677 L256.755 992.677 L256.755 996.612 L236.848 996.612 L236.848 992.677 Z\" fill=\"#000000\" fill-rule=\"evenodd\" fill-opacity=\"1\" /><path clip-path=\"url(#clip190)\" d=\"M276.199 965.131 Q272.588 965.131 270.759 968.696 Q268.954 972.237 268.954 979.367 Q268.954 986.473 270.759 990.038 Q272.588 993.58 276.199 993.58 Q279.833 993.58 281.639 990.038 Q283.468 986.473 283.468 979.367 Q283.468 972.237 281.639 968.696 Q279.833 965.131 276.199 965.131 M276.199 961.427 Q282.009 961.427 285.065 966.034 Q288.144 970.617 288.144 979.367 Q288.144 988.094 285.065 992.7 Q282.009 997.283 276.199 997.283 Q270.389 997.283 267.31 992.7 Q264.255 988.094 264.255 979.367 Q264.255 970.617 267.31 966.034 Q270.389 961.427 276.199 961.427 Z\" fill=\"#000000\" fill-rule=\"evenodd\" fill-opacity=\"1\" /><path clip-path=\"url(#clip190)\" d=\"M288.144 955.529 L312.255 955.529 L312.255 958.726 L288.144 958.726 L288.144 955.529 Z\" fill=\"#000000\" fill-rule=\"evenodd\" fill-opacity=\"1\" /><path clip-path=\"url(#clip190)\" d=\"M321.114 966.004 L327.32 966.004 L327.32 944.582 L320.568 945.937 L320.568 942.476 L327.283 941.122 L331.082 941.122 L331.082 966.004 L337.288 966.004 L337.288 969.202 L321.114 969.202 L321.114 966.004 Z\" fill=\"#000000\" fill-rule=\"evenodd\" fill-opacity=\"1\" /><path clip-path=\"url(#clip190)\" d=\"M353.087 943.623 Q350.153 943.623 348.667 946.52 Q347.2 949.397 347.2 955.19 Q347.2 960.964 348.667 963.86 Q350.153 966.738 353.087 966.738 Q356.04 966.738 357.507 963.86 Q358.993 960.964 358.993 955.19 Q358.993 949.397 357.507 946.52 Q356.04 943.623 353.087 943.623 M353.087 940.614 Q357.808 940.614 360.29 944.357 Q362.792 948.081 362.792 955.19 Q362.792 962.281 360.29 966.023 Q357.808 969.747 353.087 969.747 Q348.366 969.747 345.865 966.023 Q343.382 962.281 343.382 955.19 Q343.382 948.081 345.865 944.357 Q348.366 940.614 353.087 940.614 Z\" fill=\"#000000\" fill-rule=\"evenodd\" fill-opacity=\"1\" /><path clip-path=\"url(#clip190)\" d=\"M50.9921 684.86 L80.6679 684.86 L80.6679 688.795 L50.9921 688.795 L50.9921 684.86 Z\" fill=\"#000000\" fill-rule=\"evenodd\" fill-opacity=\"1\" /><path clip-path=\"url(#clip190)\" d=\"M90.8067 667.129 L109.163 667.129 L109.163 671.064 L95.0891 671.064 L95.0891 679.536 Q96.1076 679.189 97.1261 679.027 Q98.1447 678.842 99.1632 678.842 Q104.95 678.842 108.33 682.013 Q111.709 685.184 111.709 690.601 Q111.709 696.18 108.237 699.281 Q104.765 702.36 98.4456 702.36 Q96.2697 702.36 94.0012 701.99 Q91.7558 701.619 89.3484 700.879 L89.3484 696.18 Q91.4317 697.314 93.6539 697.869 Q95.8761 698.425 98.353 698.425 Q102.358 698.425 104.696 696.318 Q107.033 694.212 107.033 690.601 Q107.033 686.99 104.696 684.883 Q102.358 682.777 98.353 682.777 Q96.478 682.777 94.603 683.194 Q92.7512 683.61 90.8067 684.49 L90.8067 667.129 Z\" fill=\"#000000\" fill-rule=\"evenodd\" fill-opacity=\"1\" /><path clip-path=\"url(#clip190)\" d=\"M120.922 695.809 L125.807 695.809 L125.807 701.689 L120.922 701.689 L120.922 695.809 Z\" fill=\"#000000\" fill-rule=\"evenodd\" fill-opacity=\"1\" /><path clip-path=\"url(#clip190)\" d=\"M145.992 670.207 Q142.381 670.207 140.552 673.772 Q138.746 677.314 138.746 684.444 Q138.746 691.55 140.552 695.115 Q142.381 698.656 145.992 698.656 Q149.626 698.656 151.431 695.115 Q153.26 691.55 153.26 684.444 Q153.26 677.314 151.431 673.772 Q149.626 670.207 145.992 670.207 M145.992 666.504 Q151.802 666.504 154.857 671.11 Q157.936 675.694 157.936 684.444 Q157.936 693.17 154.857 697.777 Q151.802 702.36 145.992 702.36 Q140.181 702.36 137.103 697.777 Q134.047 693.17 134.047 684.444 Q134.047 675.694 137.103 671.11 Q140.181 666.504 145.992 666.504 Z\" fill=\"#000000\" fill-rule=\"evenodd\" fill-opacity=\"1\" /><path clip-path=\"url(#clip190)\" d=\"M176.153 670.207 Q172.542 670.207 170.714 673.772 Q168.908 677.314 168.908 684.444 Q168.908 691.55 170.714 695.115 Q172.542 698.656 176.153 698.656 Q179.788 698.656 181.593 695.115 Q183.422 691.55 183.422 684.444 Q183.422 677.314 181.593 673.772 Q179.788 670.207 176.153 670.207 M176.153 666.504 Q181.964 666.504 185.019 671.11 Q188.098 675.694 188.098 684.444 Q188.098 693.17 185.019 697.777 Q181.964 702.36 176.153 702.36 Q170.343 702.36 167.265 697.777 Q164.209 693.17 164.209 684.444 Q164.209 675.694 167.265 671.11 Q170.343 666.504 176.153 666.504 Z\" fill=\"#000000\" fill-rule=\"evenodd\" fill-opacity=\"1\" /><path clip-path=\"url(#clip190)\" d=\"M224.487 676.226 L213.908 686.851 L224.487 697.43 L221.732 700.23 L211.107 689.606 L200.482 700.23 L197.751 697.43 L208.306 686.851 L197.751 676.226 L200.482 673.425 L211.107 684.05 L221.732 673.425 L224.487 676.226 Z\" fill=\"#000000\" fill-rule=\"evenodd\" fill-opacity=\"1\" /><path clip-path=\"url(#clip190)\" d=\"M236.848 697.754 L244.486 697.754 L244.486 671.388 L236.176 673.055 L236.176 668.795 L244.44 667.129 L249.116 667.129 L249.116 697.754 L256.755 697.754 L256.755 701.689 L236.848 701.689 L236.848 697.754 Z\" fill=\"#000000\" fill-rule=\"evenodd\" fill-opacity=\"1\" /><path clip-path=\"url(#clip190)\" d=\"M276.199 670.207 Q272.588 670.207 270.759 673.772 Q268.954 677.314 268.954 684.444 Q268.954 691.55 270.759 695.115 Q272.588 698.656 276.199 698.656 Q279.833 698.656 281.639 695.115 Q283.468 691.55 283.468 684.444 Q283.468 677.314 281.639 673.772 Q279.833 670.207 276.199 670.207 M276.199 666.504 Q282.009 666.504 285.065 671.11 Q288.144 675.694 288.144 684.444 Q288.144 693.17 285.065 697.777 Q282.009 702.36 276.199 702.36 Q270.389 702.36 267.31 697.777 Q264.255 693.17 264.255 684.444 Q264.255 675.694 267.31 671.11 Q270.389 666.504 276.199 666.504 Z\" fill=\"#000000\" fill-rule=\"evenodd\" fill-opacity=\"1\" /><path clip-path=\"url(#clip190)\" d=\"M288.144 660.605 L312.255 660.605 L312.255 663.802 L288.144 663.802 L288.144 660.605 Z\" fill=\"#000000\" fill-rule=\"evenodd\" fill-opacity=\"1\" /><path clip-path=\"url(#clip190)\" d=\"M321.114 671.081 L327.32 671.081 L327.32 649.659 L320.568 651.013 L320.568 647.553 L327.283 646.198 L331.082 646.198 L331.082 671.081 L337.288 671.081 L337.288 674.278 L321.114 674.278 L321.114 671.081 Z\" fill=\"#000000\" fill-rule=\"evenodd\" fill-opacity=\"1\" /><path clip-path=\"url(#clip190)\" d=\"M353.087 648.7 Q350.153 648.7 348.667 651.596 Q347.2 654.474 347.2 660.267 Q347.2 666.041 348.667 668.937 Q350.153 671.815 353.087 671.815 Q356.04 671.815 357.507 668.937 Q358.993 666.041 358.993 660.267 Q358.993 654.474 357.507 651.596 Q356.04 648.7 353.087 648.7 M353.087 645.691 Q357.808 645.691 360.29 649.433 Q362.792 653.157 362.792 660.267 Q362.792 667.357 360.29 671.1 Q357.808 674.824 353.087 674.824 Q348.366 674.824 345.865 671.1 Q343.382 667.357 343.382 660.267 Q343.382 653.157 345.865 649.433 Q348.366 645.691 353.087 645.691 Z\" fill=\"#000000\" fill-rule=\"evenodd\" fill-opacity=\"1\" /><path clip-path=\"url(#clip190)\" d=\"M50.9921 389.937 L80.6679 389.937 L80.6679 393.872 L50.9921 393.872 L50.9921 389.937 Z\" fill=\"#000000\" fill-rule=\"evenodd\" fill-opacity=\"1\" /><path clip-path=\"url(#clip190)\" d=\"M94.7882 402.83 L111.108 402.83 L111.108 406.765 L89.1632 406.765 L89.1632 402.83 Q91.8252 400.076 96.4085 395.446 Q101.015 390.793 102.196 389.451 Q104.441 386.928 105.321 385.191 Q106.223 383.432 106.223 381.742 Q106.223 378.988 104.279 377.252 Q102.358 375.516 99.2558 375.516 Q97.0567 375.516 94.603 376.279 Q92.1725 377.043 89.3947 378.594 L89.3947 373.872 Q92.2188 372.738 94.6724 372.159 Q97.1261 371.58 99.1632 371.58 Q104.534 371.58 107.728 374.266 Q110.922 376.951 110.922 381.441 Q110.922 383.571 110.112 385.492 Q109.325 387.39 107.219 389.983 Q106.64 390.654 103.538 393.872 Q100.436 397.066 94.7882 402.83 Z\" fill=\"#000000\" fill-rule=\"evenodd\" fill-opacity=\"1\" /><path clip-path=\"url(#clip190)\" d=\"M120.922 400.886 L125.807 400.886 L125.807 406.765 L120.922 406.765 L120.922 400.886 Z\" fill=\"#000000\" fill-rule=\"evenodd\" fill-opacity=\"1\" /><path clip-path=\"url(#clip190)\" d=\"M136.038 372.205 L154.394 372.205 L154.394 376.141 L140.32 376.141 L140.32 384.613 Q141.339 384.266 142.357 384.103 Q143.376 383.918 144.394 383.918 Q150.181 383.918 153.561 387.09 Q156.941 390.261 156.941 395.677 Q156.941 401.256 153.468 404.358 Q149.996 407.437 143.677 407.437 Q141.501 407.437 139.232 407.066 Q136.987 406.696 134.58 405.955 L134.58 401.256 Q136.663 402.39 138.885 402.946 Q141.107 403.502 143.584 403.502 Q147.589 403.502 149.927 401.395 Q152.265 399.289 152.265 395.677 Q152.265 392.066 149.927 389.96 Q147.589 387.853 143.584 387.853 Q141.709 387.853 139.834 388.27 Q137.982 388.687 136.038 389.566 L136.038 372.205 Z\" fill=\"#000000\" fill-rule=\"evenodd\" fill-opacity=\"1\" /><path clip-path=\"url(#clip190)\" d=\"M176.153 375.284 Q172.542 375.284 170.714 378.849 Q168.908 382.391 168.908 389.52 Q168.908 396.627 170.714 400.191 Q172.542 403.733 176.153 403.733 Q179.788 403.733 181.593 400.191 Q183.422 396.627 183.422 389.52 Q183.422 382.391 181.593 378.849 Q179.788 375.284 176.153 375.284 M176.153 371.58 Q181.964 371.58 185.019 376.187 Q188.098 380.77 188.098 389.52 Q188.098 398.247 185.019 402.853 Q181.964 407.437 176.153 407.437 Q170.343 407.437 167.265 402.853 Q164.209 398.247 164.209 389.52 Q164.209 380.77 167.265 376.187 Q170.343 371.58 176.153 371.58 Z\" fill=\"#000000\" fill-rule=\"evenodd\" fill-opacity=\"1\" /><path clip-path=\"url(#clip190)\" d=\"M224.487 381.303 L213.908 391.928 L224.487 402.506 L221.732 405.307 L211.107 394.682 L200.482 405.307 L197.751 402.506 L208.306 391.928 L197.751 381.303 L200.482 378.502 L211.107 389.127 L221.732 378.502 L224.487 381.303 Z\" fill=\"#000000\" fill-rule=\"evenodd\" fill-opacity=\"1\" /><path clip-path=\"url(#clip190)\" d=\"M236.848 402.83 L244.486 402.83 L244.486 376.465 L236.176 378.131 L236.176 373.872 L244.44 372.205 L249.116 372.205 L249.116 402.83 L256.755 402.83 L256.755 406.765 L236.848 406.765 L236.848 402.83 Z\" fill=\"#000000\" fill-rule=\"evenodd\" fill-opacity=\"1\" /><path clip-path=\"url(#clip190)\" d=\"M276.199 375.284 Q272.588 375.284 270.759 378.849 Q268.954 382.391 268.954 389.52 Q268.954 396.627 270.759 400.191 Q272.588 403.733 276.199 403.733 Q279.833 403.733 281.639 400.191 Q283.468 396.627 283.468 389.52 Q283.468 382.391 281.639 378.849 Q279.833 375.284 276.199 375.284 M276.199 371.58 Q282.009 371.58 285.065 376.187 Q288.144 380.77 288.144 389.52 Q288.144 398.247 285.065 402.853 Q282.009 407.437 276.199 407.437 Q270.389 407.437 267.31 402.853 Q264.255 398.247 264.255 389.52 Q264.255 380.77 267.31 376.187 Q270.389 371.58 276.199 371.58 Z\" fill=\"#000000\" fill-rule=\"evenodd\" fill-opacity=\"1\" /><path clip-path=\"url(#clip190)\" d=\"M288.144 365.682 L312.255 365.682 L312.255 368.879 L288.144 368.879 L288.144 365.682 Z\" fill=\"#000000\" fill-rule=\"evenodd\" fill-opacity=\"1\" /><path clip-path=\"url(#clip190)\" d=\"M321.114 376.158 L327.32 376.158 L327.32 354.736 L320.568 356.09 L320.568 352.629 L327.283 351.275 L331.082 351.275 L331.082 376.158 L337.288 376.158 L337.288 379.355 L321.114 379.355 L321.114 376.158 Z\" fill=\"#000000\" fill-rule=\"evenodd\" fill-opacity=\"1\" /><path clip-path=\"url(#clip190)\" d=\"M353.087 353.776 Q350.153 353.776 348.667 356.673 Q347.2 359.55 347.2 365.343 Q347.2 371.117 348.667 374.014 Q350.153 376.891 353.087 376.891 Q356.04 376.891 357.507 374.014 Q358.993 371.117 358.993 365.343 Q358.993 359.55 357.507 356.673 Q356.04 353.776 353.087 353.776 M353.087 350.767 Q357.808 350.767 360.29 354.51 Q362.792 358.234 362.792 365.343 Q362.792 372.434 360.29 376.176 Q357.808 379.9 353.087 379.9 Q348.366 379.9 345.865 376.176 Q343.382 372.434 343.382 365.343 Q343.382 358.234 345.865 354.51 Q348.366 350.767 353.087 350.767 Z\" fill=\"#000000\" fill-rule=\"evenodd\" fill-opacity=\"1\" /><path clip-path=\"url(#clip190)\" d=\"M350.847 73.9131 Q347.236 73.9131 345.408 77.4779 Q343.602 81.0195 343.602 88.1491 Q343.602 95.2556 345.408 98.8204 Q347.236 102.362 350.847 102.362 Q354.482 102.362 356.287 98.8204 Q358.116 95.2556 358.116 88.1491 Q358.116 81.0195 356.287 77.4779 Q354.482 73.9131 350.847 73.9131 M350.847 70.2094 Q356.657 70.2094 359.713 74.8159 Q362.792 79.3992 362.792 88.1491 Q362.792 96.8759 359.713 101.482 Q356.657 106.066 350.847 106.066 Q345.037 106.066 341.958 101.482 Q338.903 96.8759 338.903 88.1491 Q338.903 79.3992 341.958 74.8159 Q345.037 70.2094 350.847 70.2094 Z\" fill=\"#000000\" fill-rule=\"evenodd\" fill-opacity=\"1\" /><polyline clip-path=\"url(#clip192)\" style=\"stroke:#009af9; stroke-linecap:butt; stroke-linejoin:round; stroke-width:4; stroke-opacity:1; fill:none\" points=\"\n",
       "  454.093,88.1144 914.933,88.1145 1375.77,88.1148 1836.61,88.1159 2297.46,254.78 \n",
       "  \"/>\n",
       "<polyline clip-path=\"url(#clip192)\" style=\"stroke:#e26f46; stroke-linecap:butt; stroke-linejoin:round; stroke-width:4; stroke-opacity:1; fill:none\" points=\"\n",
       "  454.093,88.1144 914.933,88.1144 1375.77,88.1145 1836.61,88.1148 2297.46,288.147 \n",
       "  \"/>\n",
       "<polyline clip-path=\"url(#clip192)\" style=\"stroke:#3da44d; stroke-linecap:butt; stroke-linejoin:round; stroke-width:4; stroke-opacity:1; fill:none\" points=\"\n",
       "  454.093,88.1144 914.933,88.1144 1375.77,88.1145 1836.61,88.1147 2297.46,174.678 \n",
       "  \"/>\n",
       "<polyline clip-path=\"url(#clip192)\" style=\"stroke:#c271d2; stroke-linecap:butt; stroke-linejoin:round; stroke-width:4; stroke-opacity:1; fill:none\" points=\"\n",
       "  454.093,88.1143 914.933,88.1143 1375.77,88.1144 1836.61,88.1172 2297.46,170.498 \n",
       "  \"/>\n",
       "<polyline clip-path=\"url(#clip192)\" style=\"stroke:#ac8d18; stroke-linecap:butt; stroke-linejoin:round; stroke-width:4; stroke-opacity:1; fill:none\" points=\"\n",
       "  454.093,88.1144 914.933,88.1146 1375.77,88.1156 1836.61,88.1189 2297.46,777.99 \n",
       "  \"/>\n",
       "<polyline clip-path=\"url(#clip192)\" style=\"stroke:#00a9ad; stroke-linecap:butt; stroke-linejoin:round; stroke-width:4; stroke-opacity:1; fill:none\" points=\"\n",
       "  454.093,88.1144 914.933,88.1144 1375.77,88.1144 1836.61,88.1147 2297.46,103.529 \n",
       "  \"/>\n",
       "<polyline clip-path=\"url(#clip192)\" style=\"stroke:#ed5d92; stroke-linecap:butt; stroke-linejoin:round; stroke-width:4; stroke-opacity:1; fill:none\" points=\"\n",
       "  454.093,88.1148 914.933,88.1154 1375.77,88.1163 1836.61,88.1142 2297.46,104.097 \n",
       "  \"/>\n",
       "<polyline clip-path=\"url(#clip192)\" style=\"stroke:#c68125; stroke-linecap:butt; stroke-linejoin:round; stroke-width:4; stroke-opacity:1; fill:none\" points=\"\n",
       "  454.093,88.1148 914.933,88.1152 1375.77,88.1157 1836.61,88.1103 2297.46,1445.72 \n",
       "  \"/>\n",
       "<polyline clip-path=\"url(#clip192)\" style=\"stroke:#00a98d; stroke-linecap:butt; stroke-linejoin:round; stroke-width:4; stroke-opacity:1; fill:none\" points=\"\n",
       "  454.093,88.1144 914.933,88.1145 1375.77,88.1148 1836.61,88.1153 2297.46,232.971 \n",
       "  \"/>\n",
       "<polyline clip-path=\"url(#clip192)\" style=\"stroke:#8e971d; stroke-linecap:butt; stroke-linejoin:round; stroke-width:4; stroke-opacity:1; fill:none\" points=\"\n",
       "  454.093,88.1144 914.933,88.1145 1375.77,88.1145 1836.61,88.1145 2297.46,139.395 \n",
       "  \"/>\n",
       "<polyline clip-path=\"url(#clip192)\" style=\"stroke:#00a8cb; stroke-linecap:butt; stroke-linejoin:round; stroke-width:4; stroke-opacity:1; fill:none\" points=\"\n",
       "  454.093,88.1144 914.933,88.1144 1375.77,88.1144 1836.61,88.1146 2297.46,255.537 \n",
       "  \"/>\n",
       "<polyline clip-path=\"url(#clip192)\" style=\"stroke:#9b7fe8; stroke-linecap:butt; stroke-linejoin:round; stroke-width:4; stroke-opacity:1; fill:none\" points=\"\n",
       "  454.093,88.1142 914.933,88.1138 1375.77,88.1131 1836.61,88.1165 2297.46,1340.59 \n",
       "  \"/>\n",
       "<polyline clip-path=\"url(#clip192)\" style=\"stroke:#608cf6; stroke-linecap:butt; stroke-linejoin:round; stroke-width:4; stroke-opacity:1; fill:none\" points=\"\n",
       "  454.093,88.1144 914.933,88.1144 1375.77,88.1144 1836.61,88.1146 2297.46,178.475 \n",
       "  \"/>\n",
       "<polyline clip-path=\"url(#clip192)\" style=\"stroke:#f05f73; stroke-linecap:butt; stroke-linejoin:round; stroke-width:4; stroke-opacity:1; fill:none\" points=\"\n",
       "  454.093,88.1146 914.933,88.1148 1375.77,88.1149 1836.61,88.1147 2297.46,775.805 \n",
       "  \"/>\n",
       "<polyline clip-path=\"url(#clip192)\" style=\"stroke:#dd64b5; stroke-linecap:butt; stroke-linejoin:round; stroke-width:4; stroke-opacity:1; fill:none\" points=\"\n",
       "  454.093,88.1143 914.933,88.1146 1375.77,88.1157 1836.61,88.126 2297.46,740.783 \n",
       "  \"/>\n",
       "<polyline clip-path=\"url(#clip192)\" style=\"stroke:#6b9e32; stroke-linecap:butt; stroke-linejoin:round; stroke-width:4; stroke-opacity:1; fill:none\" points=\"\n",
       "  454.093,88.1144 914.933,88.1144 1375.77,88.1146 1836.61,88.1155 2297.46,718.916 \n",
       "  \"/>\n",
       "<polyline clip-path=\"url(#clip192)\" style=\"stroke:#009af9; stroke-linecap:butt; stroke-linejoin:round; stroke-width:4; stroke-opacity:1; fill:none\" points=\"\n",
       "  454.093,88.1144 914.933,88.1145 1375.77,88.1146 1836.61,88.1151 2297.46,263.467 \n",
       "  \"/>\n",
       "<polyline clip-path=\"url(#clip192)\" style=\"stroke:#e26f46; stroke-linecap:butt; stroke-linejoin:round; stroke-width:4; stroke-opacity:1; fill:none\" points=\"\n",
       "  454.093,88.1144 914.933,88.1145 1375.77,88.1145 1836.61,88.1139 2297.46,980.828 \n",
       "  \"/>\n",
       "<polyline clip-path=\"url(#clip192)\" style=\"stroke:#3da44d; stroke-linecap:butt; stroke-linejoin:round; stroke-width:4; stroke-opacity:1; fill:none\" points=\"\n",
       "  454.093,88.1145 914.933,88.1147 1375.77,88.1146 1836.61,88.1148 2297.46,901.296 \n",
       "  \"/>\n",
       "<polyline clip-path=\"url(#clip192)\" style=\"stroke:#c271d2; stroke-linecap:butt; stroke-linejoin:round; stroke-width:4; stroke-opacity:1; fill:none\" points=\"\n",
       "  454.093,88.1144 914.933,88.1144 1375.77,88.1144 1836.61,88.1145 2297.46,89.7821 \n",
       "  \"/>\n",
       "<polyline clip-path=\"url(#clip192)\" style=\"stroke:#ac8d18; stroke-linecap:butt; stroke-linejoin:round; stroke-width:4; stroke-opacity:1; fill:none\" points=\"\n",
       "  454.093,88.1145 914.933,88.1148 1375.77,88.1149 1836.61,88.1148 2297.46,1204.69 \n",
       "  \"/>\n",
       "<polyline clip-path=\"url(#clip192)\" style=\"stroke:#00a9ad; stroke-linecap:butt; stroke-linejoin:round; stroke-width:4; stroke-opacity:1; fill:none\" points=\"\n",
       "  454.093,88.1147 914.933,88.1156 1375.77,88.1084 1836.61,87.9763 2297.46,322.161 \n",
       "  \"/>\n",
       "<polyline clip-path=\"url(#clip192)\" style=\"stroke:#ed5d92; stroke-linecap:butt; stroke-linejoin:round; stroke-width:4; stroke-opacity:1; fill:none\" points=\"\n",
       "  454.093,88.1144 914.933,88.1144 1375.77,88.1144 1836.61,88.1143 2297.46,473.441 \n",
       "  \"/>\n",
       "<polyline clip-path=\"url(#clip192)\" style=\"stroke:#c68125; stroke-linecap:butt; stroke-linejoin:round; stroke-width:4; stroke-opacity:1; fill:none\" points=\"\n",
       "  454.093,88.1144 914.933,88.1144 1375.77,88.1145 1836.61,88.1146 2297.46,463.161 \n",
       "  \"/>\n",
       "<polyline clip-path=\"url(#clip192)\" style=\"stroke:#00a98d; stroke-linecap:butt; stroke-linejoin:round; stroke-width:4; stroke-opacity:1; fill:none\" points=\"\n",
       "  454.093,88.1145 914.933,88.1145 1375.77,88.1146 1836.61,88.1147 2297.46,267.734 \n",
       "  \"/>\n",
       "<polyline clip-path=\"url(#clip192)\" style=\"stroke:#8e971d; stroke-linecap:butt; stroke-linejoin:round; stroke-width:4; stroke-opacity:1; fill:none\" points=\"\n",
       "  454.093,88.1145 914.933,88.1145 1375.77,88.1145 1836.61,88.1192 2297.46,1171.11 \n",
       "  \"/>\n",
       "<polyline clip-path=\"url(#clip192)\" style=\"stroke:#00a8cb; stroke-linecap:butt; stroke-linejoin:round; stroke-width:4; stroke-opacity:1; fill:none\" points=\"\n",
       "  454.093,88.1144 914.933,88.1145 1375.77,88.1145 1836.61,88.1146 2297.46,178.842 \n",
       "  \"/>\n",
       "<polyline clip-path=\"url(#clip192)\" style=\"stroke:#9b7fe8; stroke-linecap:butt; stroke-linejoin:round; stroke-width:4; stroke-opacity:1; fill:none\" points=\"\n",
       "  454.093,88.1144 914.933,88.1144 1375.77,88.1146 1836.61,88.1159 2297.46,941.169 \n",
       "  \"/>\n",
       "<polyline clip-path=\"url(#clip192)\" style=\"stroke:#608cf6; stroke-linecap:butt; stroke-linejoin:round; stroke-width:4; stroke-opacity:1; fill:none\" points=\"\n",
       "  454.093,88.1145 914.933,88.1145 1375.77,88.1143 1836.61,88.1153 2297.46,124.092 \n",
       "  \"/>\n",
       "<polyline clip-path=\"url(#clip192)\" style=\"stroke:#f05f73; stroke-linecap:butt; stroke-linejoin:round; stroke-width:4; stroke-opacity:1; fill:none\" points=\"\n",
       "  454.093,88.1144 914.933,88.1144 1375.77,88.1145 1836.61,88.1146 2297.46,125.77 \n",
       "  \"/>\n",
       "<path clip-path=\"url(#clip190)\" d=\"\n",
       "M1986.21 1970.1 L2287.62 1970.1 L2287.62 95.2176 L1986.21 95.2176  Z\n",
       "  \" fill=\"#ffffff\" fill-rule=\"evenodd\" fill-opacity=\"1\"/>\n",
       "<polyline clip-path=\"url(#clip190)\" style=\"stroke:#000000; stroke-linecap:butt; stroke-linejoin:round; stroke-width:4; stroke-opacity:1; fill:none\" points=\"\n",
       "  1986.21,1970.1 2287.62,1970.1 2287.62,95.2176 1986.21,95.2176 1986.21,1970.1 \n",
       "  \"/>\n",
       "<polyline clip-path=\"url(#clip190)\" style=\"stroke:#009af9; stroke-linecap:butt; stroke-linejoin:round; stroke-width:4; stroke-opacity:1; fill:none\" points=\"\n",
       "  2007.92,155.698 2138.19,155.698 \n",
       "  \"/>\n",
       "<path clip-path=\"url(#clip190)\" d=\"M2173.74 175.385 Q2171.93 180.015 2170.22 181.427 Q2168.51 182.839 2165.64 182.839 L2162.24 182.839 L2162.24 179.274 L2164.74 179.274 Q2166.49 179.274 2167.47 178.44 Q2168.44 177.607 2169.62 174.505 L2170.38 172.561 L2159.9 147.052 L2164.41 147.052 L2172.51 167.329 L2180.61 147.052 L2185.13 147.052 L2173.74 175.385 Z\" fill=\"#000000\" fill-rule=\"evenodd\" fill-opacity=\"1\" /><path clip-path=\"url(#clip190)\" d=\"M2192.42 169.042 L2200.06 169.042 L2200.06 142.677 L2191.75 144.343 L2191.75 140.084 L2200.01 138.418 L2204.69 138.418 L2204.69 169.042 L2212.33 169.042 L2212.33 172.978 L2192.42 172.978 L2192.42 169.042 Z\" fill=\"#000000\" fill-rule=\"evenodd\" fill-opacity=\"1\" /><polyline clip-path=\"url(#clip190)\" style=\"stroke:#e26f46; stroke-linecap:butt; stroke-linejoin:round; stroke-width:4; stroke-opacity:1; fill:none\" points=\"\n",
       "  2007.92,216.178 2138.19,216.178 \n",
       "  \"/>\n",
       "<path clip-path=\"url(#clip190)\" d=\"M2173.74 235.865 Q2171.93 240.495 2170.22 241.907 Q2168.51 243.319 2165.64 243.319 L2162.24 243.319 L2162.24 239.754 L2164.74 239.754 Q2166.49 239.754 2167.47 238.92 Q2168.44 238.087 2169.62 234.985 L2170.38 233.041 L2159.9 207.532 L2164.41 207.532 L2172.51 227.809 L2180.61 207.532 L2185.13 207.532 L2173.74 235.865 Z\" fill=\"#000000\" fill-rule=\"evenodd\" fill-opacity=\"1\" /><path clip-path=\"url(#clip190)\" d=\"M2195.64 229.522 L2211.96 229.522 L2211.96 233.458 L2190.01 233.458 L2190.01 229.522 Q2192.67 226.768 2197.26 222.138 Q2201.86 217.485 2203.05 216.143 Q2205.29 213.62 2206.17 211.884 Q2207.07 210.124 2207.07 208.435 Q2207.07 205.68 2205.13 203.944 Q2203.21 202.208 2200.11 202.208 Q2197.91 202.208 2195.45 202.972 Q2193.02 203.735 2190.24 205.286 L2190.24 200.564 Q2193.07 199.43 2195.52 198.851 Q2197.98 198.273 2200.01 198.273 Q2205.38 198.273 2208.58 200.958 Q2211.77 203.643 2211.77 208.134 Q2211.77 210.263 2210.96 212.185 Q2210.17 214.083 2208.07 216.675 Q2207.49 217.347 2204.39 220.564 Q2201.29 223.759 2195.64 229.522 Z\" fill=\"#000000\" fill-rule=\"evenodd\" fill-opacity=\"1\" /><polyline clip-path=\"url(#clip190)\" style=\"stroke:#3da44d; stroke-linecap:butt; stroke-linejoin:round; stroke-width:4; stroke-opacity:1; fill:none\" points=\"\n",
       "  2007.92,276.658 2138.19,276.658 \n",
       "  \"/>\n",
       "<path clip-path=\"url(#clip190)\" d=\"M2173.74 296.345 Q2171.93 300.975 2170.22 302.387 Q2168.51 303.799 2165.64 303.799 L2162.24 303.799 L2162.24 300.234 L2164.74 300.234 Q2166.49 300.234 2167.47 299.4 Q2168.44 298.567 2169.62 295.465 L2170.38 293.521 L2159.9 268.012 L2164.41 268.012 L2172.51 288.289 L2180.61 268.012 L2185.13 268.012 L2173.74 296.345 Z\" fill=\"#000000\" fill-rule=\"evenodd\" fill-opacity=\"1\" /><path clip-path=\"url(#clip190)\" d=\"M2205.78 275.303 Q2209.13 276.021 2211.01 278.289 Q2212.91 280.558 2212.91 283.891 Q2212.91 289.007 2209.39 291.808 Q2205.87 294.609 2199.39 294.609 Q2197.21 294.609 2194.9 294.169 Q2192.61 293.752 2190.15 292.896 L2190.15 288.382 Q2192.1 289.516 2194.41 290.095 Q2196.73 290.674 2199.25 290.674 Q2203.65 290.674 2205.94 288.938 Q2208.25 287.201 2208.25 283.891 Q2208.25 280.836 2206.1 279.123 Q2203.97 277.387 2200.15 277.387 L2196.12 277.387 L2196.12 273.544 L2200.34 273.544 Q2203.79 273.544 2205.61 272.178 Q2207.44 270.79 2207.44 268.197 Q2207.44 265.535 2205.55 264.123 Q2203.67 262.688 2200.15 262.688 Q2198.23 262.688 2196.03 263.104 Q2193.83 263.521 2191.19 264.401 L2191.19 260.234 Q2193.86 259.493 2196.17 259.123 Q2198.51 258.753 2200.57 258.753 Q2205.89 258.753 2208.99 261.183 Q2212.1 263.59 2212.1 267.711 Q2212.1 270.581 2210.45 272.572 Q2208.81 274.54 2205.78 275.303 Z\" fill=\"#000000\" fill-rule=\"evenodd\" fill-opacity=\"1\" /><polyline clip-path=\"url(#clip190)\" style=\"stroke:#c271d2; stroke-linecap:butt; stroke-linejoin:round; stroke-width:4; stroke-opacity:1; fill:none\" points=\"\n",
       "  2007.92,337.138 2138.19,337.138 \n",
       "  \"/>\n",
       "<path clip-path=\"url(#clip190)\" d=\"M2173.74 356.825 Q2171.93 361.455 2170.22 362.867 Q2168.51 364.279 2165.64 364.279 L2162.24 364.279 L2162.24 360.714 L2164.74 360.714 Q2166.49 360.714 2167.47 359.88 Q2168.44 359.047 2169.62 355.945 L2170.38 354.001 L2159.9 328.492 L2164.41 328.492 L2172.51 348.769 L2180.61 328.492 L2185.13 328.492 L2173.74 356.825 Z\" fill=\"#000000\" fill-rule=\"evenodd\" fill-opacity=\"1\" /><path clip-path=\"url(#clip190)\" d=\"M2204.46 323.932 L2192.65 342.381 L2204.46 342.381 L2204.46 323.932 M2203.23 319.858 L2209.11 319.858 L2209.11 342.381 L2214.04 342.381 L2214.04 346.269 L2209.11 346.269 L2209.11 354.418 L2204.46 354.418 L2204.46 346.269 L2188.86 346.269 L2188.86 341.756 L2203.23 319.858 Z\" fill=\"#000000\" fill-rule=\"evenodd\" fill-opacity=\"1\" /><polyline clip-path=\"url(#clip190)\" style=\"stroke:#ac8d18; stroke-linecap:butt; stroke-linejoin:round; stroke-width:4; stroke-opacity:1; fill:none\" points=\"\n",
       "  2007.92,397.618 2138.19,397.618 \n",
       "  \"/>\n",
       "<path clip-path=\"url(#clip190)\" d=\"M2173.74 417.305 Q2171.93 421.935 2170.22 423.347 Q2168.51 424.759 2165.64 424.759 L2162.24 424.759 L2162.24 421.194 L2164.74 421.194 Q2166.49 421.194 2167.47 420.36 Q2168.44 419.527 2169.62 416.425 L2170.38 414.481 L2159.9 388.972 L2164.41 388.972 L2172.51 409.249 L2180.61 388.972 L2185.13 388.972 L2173.74 417.305 Z\" fill=\"#000000\" fill-rule=\"evenodd\" fill-opacity=\"1\" /><path clip-path=\"url(#clip190)\" d=\"M2191.66 380.338 L2210.01 380.338 L2210.01 384.273 L2195.94 384.273 L2195.94 392.745 Q2196.96 392.398 2197.98 392.236 Q2198.99 392.05 2200.01 392.05 Q2205.8 392.05 2209.18 395.222 Q2212.56 398.393 2212.56 403.81 Q2212.56 409.388 2209.09 412.49 Q2205.61 415.569 2199.3 415.569 Q2197.12 415.569 2194.85 415.198 Q2192.61 414.828 2190.2 414.087 L2190.2 409.388 Q2192.28 410.523 2194.5 411.078 Q2196.73 411.634 2199.2 411.634 Q2203.21 411.634 2205.55 409.527 Q2207.88 407.421 2207.88 403.81 Q2207.88 400.199 2205.55 398.092 Q2203.21 395.986 2199.2 395.986 Q2197.33 395.986 2195.45 396.402 Q2193.6 396.819 2191.66 397.699 L2191.66 380.338 Z\" fill=\"#000000\" fill-rule=\"evenodd\" fill-opacity=\"1\" /><polyline clip-path=\"url(#clip190)\" style=\"stroke:#00a9ad; stroke-linecap:butt; stroke-linejoin:round; stroke-width:4; stroke-opacity:1; fill:none\" points=\"\n",
       "  2007.92,458.098 2138.19,458.098 \n",
       "  \"/>\n",
       "<path clip-path=\"url(#clip190)\" d=\"M2173.74 477.785 Q2171.93 482.415 2170.22 483.827 Q2168.51 485.239 2165.64 485.239 L2162.24 485.239 L2162.24 481.674 L2164.74 481.674 Q2166.49 481.674 2167.47 480.84 Q2168.44 480.007 2169.62 476.905 L2170.38 474.961 L2159.9 449.452 L2164.41 449.452 L2172.51 469.729 L2180.61 449.452 L2185.13 449.452 L2173.74 477.785 Z\" fill=\"#000000\" fill-rule=\"evenodd\" fill-opacity=\"1\" /><path clip-path=\"url(#clip190)\" d=\"M2202.19 456.234 Q2199.04 456.234 2197.19 458.387 Q2195.36 460.54 2195.36 464.29 Q2195.36 468.016 2197.19 470.192 Q2199.04 472.345 2202.19 472.345 Q2205.34 472.345 2207.17 470.192 Q2209.02 468.016 2209.02 464.29 Q2209.02 460.54 2207.17 458.387 Q2205.34 456.234 2202.19 456.234 M2211.47 441.581 L2211.47 445.841 Q2209.71 445.007 2207.91 444.568 Q2206.12 444.128 2204.36 444.128 Q2199.73 444.128 2197.28 447.253 Q2194.85 450.378 2194.5 456.697 Q2195.87 454.683 2197.93 453.618 Q2199.99 452.53 2202.47 452.53 Q2207.67 452.53 2210.68 455.702 Q2213.72 458.85 2213.72 464.29 Q2213.72 469.614 2210.57 472.831 Q2207.42 476.049 2202.19 476.049 Q2196.19 476.049 2193.02 471.466 Q2189.85 466.859 2189.85 458.132 Q2189.85 449.938 2193.74 445.077 Q2197.63 440.193 2204.18 440.193 Q2205.94 440.193 2207.72 440.54 Q2209.53 440.887 2211.47 441.581 Z\" fill=\"#000000\" fill-rule=\"evenodd\" fill-opacity=\"1\" /><polyline clip-path=\"url(#clip190)\" style=\"stroke:#ed5d92; stroke-linecap:butt; stroke-linejoin:round; stroke-width:4; stroke-opacity:1; fill:none\" points=\"\n",
       "  2007.92,518.578 2138.19,518.578 \n",
       "  \"/>\n",
       "<path clip-path=\"url(#clip190)\" d=\"M2173.74 538.265 Q2171.93 542.895 2170.22 544.307 Q2168.51 545.719 2165.64 545.719 L2162.24 545.719 L2162.24 542.154 L2164.74 542.154 Q2166.49 542.154 2167.47 541.32 Q2168.44 540.487 2169.62 537.385 L2170.38 535.441 L2159.9 509.932 L2164.41 509.932 L2172.51 530.209 L2180.61 509.932 L2185.13 509.932 L2173.74 538.265 Z\" fill=\"#000000\" fill-rule=\"evenodd\" fill-opacity=\"1\" /><path clip-path=\"url(#clip190)\" d=\"M2190.43 501.298 L2212.65 501.298 L2212.65 503.288 L2200.11 535.858 L2195.22 535.858 L2207.03 505.233 L2190.43 505.233 L2190.43 501.298 Z\" fill=\"#000000\" fill-rule=\"evenodd\" fill-opacity=\"1\" /><polyline clip-path=\"url(#clip190)\" style=\"stroke:#c68125; stroke-linecap:butt; stroke-linejoin:round; stroke-width:4; stroke-opacity:1; fill:none\" points=\"\n",
       "  2007.92,579.058 2138.19,579.058 \n",
       "  \"/>\n",
       "<path clip-path=\"url(#clip190)\" d=\"M2173.74 598.745 Q2171.93 603.375 2170.22 604.787 Q2168.51 606.199 2165.64 606.199 L2162.24 606.199 L2162.24 602.634 L2164.74 602.634 Q2166.49 602.634 2167.47 601.8 Q2168.44 600.967 2169.62 597.865 L2170.38 595.921 L2159.9 570.412 L2164.41 570.412 L2172.51 590.689 L2180.61 570.412 L2185.13 570.412 L2173.74 598.745 Z\" fill=\"#000000\" fill-rule=\"evenodd\" fill-opacity=\"1\" /><path clip-path=\"url(#clip190)\" d=\"M2201.61 579.926 Q2198.28 579.926 2196.36 581.708 Q2194.46 583.49 2194.46 586.615 Q2194.46 589.74 2196.36 591.523 Q2198.28 593.305 2201.61 593.305 Q2204.94 593.305 2206.86 591.523 Q2208.79 589.717 2208.79 586.615 Q2208.79 583.49 2206.86 581.708 Q2204.97 579.926 2201.61 579.926 M2196.93 577.935 Q2193.92 577.194 2192.24 575.134 Q2190.57 573.074 2190.57 570.111 Q2190.57 565.967 2193.51 563.56 Q2196.47 561.153 2201.61 561.153 Q2206.77 561.153 2209.71 563.56 Q2212.65 565.967 2212.65 570.111 Q2212.65 573.074 2210.96 575.134 Q2209.3 577.194 2206.31 577.935 Q2209.69 578.722 2211.56 581.014 Q2213.46 583.305 2213.46 586.615 Q2213.46 591.639 2210.38 594.324 Q2207.33 597.009 2201.61 597.009 Q2195.89 597.009 2192.81 594.324 Q2189.76 591.639 2189.76 586.615 Q2189.76 583.305 2191.66 581.014 Q2193.55 578.722 2196.93 577.935 M2195.22 570.551 Q2195.22 573.236 2196.89 574.74 Q2198.58 576.245 2201.61 576.245 Q2204.62 576.245 2206.31 574.74 Q2208.02 573.236 2208.02 570.551 Q2208.02 567.865 2206.31 566.361 Q2204.62 564.856 2201.61 564.856 Q2198.58 564.856 2196.89 566.361 Q2195.22 567.865 2195.22 570.551 Z\" fill=\"#000000\" fill-rule=\"evenodd\" fill-opacity=\"1\" /><polyline clip-path=\"url(#clip190)\" style=\"stroke:#00a98d; stroke-linecap:butt; stroke-linejoin:round; stroke-width:4; stroke-opacity:1; fill:none\" points=\"\n",
       "  2007.92,639.538 2138.19,639.538 \n",
       "  \"/>\n",
       "<path clip-path=\"url(#clip190)\" d=\"M2173.74 659.225 Q2171.93 663.855 2170.22 665.267 Q2168.51 666.679 2165.64 666.679 L2162.24 666.679 L2162.24 663.114 L2164.74 663.114 Q2166.49 663.114 2167.47 662.28 Q2168.44 661.447 2169.62 658.345 L2170.38 656.401 L2159.9 630.892 L2164.41 630.892 L2172.51 651.169 L2180.61 630.892 L2185.13 630.892 L2173.74 659.225 Z\" fill=\"#000000\" fill-rule=\"evenodd\" fill-opacity=\"1\" /><path clip-path=\"url(#clip190)\" d=\"M2191.75 656.1 L2191.75 651.841 Q2193.51 652.674 2195.31 653.114 Q2197.12 653.554 2198.86 653.554 Q2203.48 653.554 2205.92 650.452 Q2208.37 647.327 2208.72 640.984 Q2207.37 642.975 2205.31 644.04 Q2203.25 645.105 2200.75 645.105 Q2195.57 645.105 2192.54 641.98 Q2189.53 638.832 2189.53 633.392 Q2189.53 628.068 2192.67 624.85 Q2195.82 621.633 2201.05 621.633 Q2207.05 621.633 2210.2 626.239 Q2213.37 630.822 2213.37 639.572 Q2213.37 647.744 2209.48 652.628 Q2205.61 657.489 2199.06 657.489 Q2197.3 657.489 2195.5 657.142 Q2193.69 656.794 2191.75 656.1 M2201.05 641.447 Q2204.2 641.447 2206.03 639.294 Q2207.88 637.142 2207.88 633.392 Q2207.88 629.665 2206.03 627.512 Q2204.2 625.336 2201.05 625.336 Q2197.91 625.336 2196.05 627.512 Q2194.23 629.665 2194.23 633.392 Q2194.23 637.142 2196.05 639.294 Q2197.91 641.447 2201.05 641.447 Z\" fill=\"#000000\" fill-rule=\"evenodd\" fill-opacity=\"1\" /><polyline clip-path=\"url(#clip190)\" style=\"stroke:#8e971d; stroke-linecap:butt; stroke-linejoin:round; stroke-width:4; stroke-opacity:1; fill:none\" points=\"\n",
       "  2007.92,700.018 2138.19,700.018 \n",
       "  \"/>\n",
       "<path clip-path=\"url(#clip190)\" d=\"M2173.74 719.705 Q2171.93 724.335 2170.22 725.747 Q2168.51 727.159 2165.64 727.159 L2162.24 727.159 L2162.24 723.594 L2164.74 723.594 Q2166.49 723.594 2167.47 722.76 Q2168.44 721.927 2169.62 718.825 L2170.38 716.881 L2159.9 691.372 L2164.41 691.372 L2172.51 711.649 L2180.61 691.372 L2185.13 691.372 L2173.74 719.705 Z\" fill=\"#000000\" fill-rule=\"evenodd\" fill-opacity=\"1\" /><path clip-path=\"url(#clip190)\" d=\"M2192.42 713.362 L2200.06 713.362 L2200.06 686.997 L2191.75 688.663 L2191.75 684.404 L2200.01 682.738 L2204.69 682.738 L2204.69 713.362 L2212.33 713.362 L2212.33 717.298 L2192.42 717.298 L2192.42 713.362 Z\" fill=\"#000000\" fill-rule=\"evenodd\" fill-opacity=\"1\" /><path clip-path=\"url(#clip190)\" d=\"M2231.77 685.816 Q2228.16 685.816 2226.33 689.381 Q2224.53 692.923 2224.53 700.052 Q2224.53 707.159 2226.33 710.724 Q2228.16 714.265 2231.77 714.265 Q2235.41 714.265 2237.21 710.724 Q2239.04 707.159 2239.04 700.052 Q2239.04 692.923 2237.21 689.381 Q2235.41 685.816 2231.77 685.816 M2231.77 682.113 Q2237.58 682.113 2240.64 686.719 Q2243.72 691.302 2243.72 700.052 Q2243.72 708.779 2240.64 713.386 Q2237.58 717.969 2231.77 717.969 Q2225.96 717.969 2222.88 713.386 Q2219.83 708.779 2219.83 700.052 Q2219.83 691.302 2222.88 686.719 Q2225.96 682.113 2231.77 682.113 Z\" fill=\"#000000\" fill-rule=\"evenodd\" fill-opacity=\"1\" /><polyline clip-path=\"url(#clip190)\" style=\"stroke:#00a8cb; stroke-linecap:butt; stroke-linejoin:round; stroke-width:4; stroke-opacity:1; fill:none\" points=\"\n",
       "  2007.92,760.498 2138.19,760.498 \n",
       "  \"/>\n",
       "<path clip-path=\"url(#clip190)\" d=\"M2173.74 780.185 Q2171.93 784.815 2170.22 786.227 Q2168.51 787.639 2165.64 787.639 L2162.24 787.639 L2162.24 784.074 L2164.74 784.074 Q2166.49 784.074 2167.47 783.24 Q2168.44 782.407 2169.62 779.305 L2170.38 777.361 L2159.9 751.852 L2164.41 751.852 L2172.51 772.129 L2180.61 751.852 L2185.13 751.852 L2173.74 780.185 Z\" fill=\"#000000\" fill-rule=\"evenodd\" fill-opacity=\"1\" /><path clip-path=\"url(#clip190)\" d=\"M2192.42 773.842 L2200.06 773.842 L2200.06 747.477 L2191.75 749.143 L2191.75 744.884 L2200.01 743.218 L2204.69 743.218 L2204.69 773.842 L2212.33 773.842 L2212.33 777.778 L2192.42 777.778 L2192.42 773.842 Z\" fill=\"#000000\" fill-rule=\"evenodd\" fill-opacity=\"1\" /><path clip-path=\"url(#clip190)\" d=\"M2222.58 773.842 L2230.22 773.842 L2230.22 747.477 L2221.91 749.143 L2221.91 744.884 L2230.17 743.218 L2234.85 743.218 L2234.85 773.842 L2242.49 773.842 L2242.49 777.778 L2222.58 777.778 L2222.58 773.842 Z\" fill=\"#000000\" fill-rule=\"evenodd\" fill-opacity=\"1\" /><polyline clip-path=\"url(#clip190)\" style=\"stroke:#9b7fe8; stroke-linecap:butt; stroke-linejoin:round; stroke-width:4; stroke-opacity:1; fill:none\" points=\"\n",
       "  2007.92,820.978 2138.19,820.978 \n",
       "  \"/>\n",
       "<path clip-path=\"url(#clip190)\" d=\"M2173.74 840.665 Q2171.93 845.295 2170.22 846.707 Q2168.51 848.119 2165.64 848.119 L2162.24 848.119 L2162.24 844.554 L2164.74 844.554 Q2166.49 844.554 2167.47 843.72 Q2168.44 842.887 2169.62 839.785 L2170.38 837.841 L2159.9 812.332 L2164.41 812.332 L2172.51 832.609 L2180.61 812.332 L2185.13 812.332 L2173.74 840.665 Z\" fill=\"#000000\" fill-rule=\"evenodd\" fill-opacity=\"1\" /><path clip-path=\"url(#clip190)\" d=\"M2192.42 834.322 L2200.06 834.322 L2200.06 807.957 L2191.75 809.623 L2191.75 805.364 L2200.01 803.698 L2204.69 803.698 L2204.69 834.322 L2212.33 834.322 L2212.33 838.258 L2192.42 838.258 L2192.42 834.322 Z\" fill=\"#000000\" fill-rule=\"evenodd\" fill-opacity=\"1\" /><path clip-path=\"url(#clip190)\" d=\"M2225.8 834.322 L2242.12 834.322 L2242.12 838.258 L2220.17 838.258 L2220.17 834.322 Q2222.84 831.568 2227.42 826.938 Q2232.03 822.285 2233.21 820.943 Q2235.45 818.42 2236.33 816.684 Q2237.23 814.924 2237.23 813.235 Q2237.23 810.48 2235.29 808.744 Q2233.37 807.008 2230.27 807.008 Q2228.07 807.008 2225.61 807.772 Q2223.18 808.535 2220.41 810.086 L2220.41 805.364 Q2223.23 804.23 2225.68 803.651 Q2228.14 803.073 2230.17 803.073 Q2235.54 803.073 2238.74 805.758 Q2241.93 808.443 2241.93 812.934 Q2241.93 815.063 2241.12 816.985 Q2240.34 818.883 2238.23 821.475 Q2237.65 822.147 2234.55 825.364 Q2231.45 828.559 2225.8 834.322 Z\" fill=\"#000000\" fill-rule=\"evenodd\" fill-opacity=\"1\" /><polyline clip-path=\"url(#clip190)\" style=\"stroke:#608cf6; stroke-linecap:butt; stroke-linejoin:round; stroke-width:4; stroke-opacity:1; fill:none\" points=\"\n",
       "  2007.92,881.458 2138.19,881.458 \n",
       "  \"/>\n",
       "<path clip-path=\"url(#clip190)\" d=\"M2173.74 901.145 Q2171.93 905.775 2170.22 907.187 Q2168.51 908.599 2165.64 908.599 L2162.24 908.599 L2162.24 905.034 L2164.74 905.034 Q2166.49 905.034 2167.47 904.2 Q2168.44 903.367 2169.62 900.265 L2170.38 898.321 L2159.9 872.812 L2164.41 872.812 L2172.51 893.089 L2180.61 872.812 L2185.13 872.812 L2173.74 901.145 Z\" fill=\"#000000\" fill-rule=\"evenodd\" fill-opacity=\"1\" /><path clip-path=\"url(#clip190)\" d=\"M2192.42 894.802 L2200.06 894.802 L2200.06 868.437 L2191.75 870.103 L2191.75 865.844 L2200.01 864.178 L2204.69 864.178 L2204.69 894.802 L2212.33 894.802 L2212.33 898.738 L2192.42 898.738 L2192.42 894.802 Z\" fill=\"#000000\" fill-rule=\"evenodd\" fill-opacity=\"1\" /><path clip-path=\"url(#clip190)\" d=\"M2235.94 880.103 Q2239.29 880.821 2241.17 883.089 Q2243.07 885.358 2243.07 888.691 Q2243.07 893.807 2239.55 896.608 Q2236.03 899.409 2229.55 899.409 Q2227.37 899.409 2225.06 898.969 Q2222.77 898.552 2220.31 897.696 L2220.31 893.182 Q2222.26 894.316 2224.57 894.895 Q2226.89 895.474 2229.41 895.474 Q2233.81 895.474 2236.1 893.738 Q2238.42 892.001 2238.42 888.691 Q2238.42 885.636 2236.26 883.923 Q2234.13 882.187 2230.31 882.187 L2226.29 882.187 L2226.29 878.344 L2230.5 878.344 Q2233.95 878.344 2235.78 876.978 Q2237.61 875.59 2237.61 872.997 Q2237.61 870.335 2235.71 868.923 Q2233.83 867.488 2230.31 867.488 Q2228.39 867.488 2226.19 867.904 Q2223.99 868.321 2221.36 869.201 L2221.36 865.034 Q2224.02 864.293 2226.33 863.923 Q2228.67 863.553 2230.73 863.553 Q2236.05 863.553 2239.16 865.983 Q2242.26 868.39 2242.26 872.511 Q2242.26 875.381 2240.61 877.372 Q2238.97 879.34 2235.94 880.103 Z\" fill=\"#000000\" fill-rule=\"evenodd\" fill-opacity=\"1\" /><polyline clip-path=\"url(#clip190)\" style=\"stroke:#f05f73; stroke-linecap:butt; stroke-linejoin:round; stroke-width:4; stroke-opacity:1; fill:none\" points=\"\n",
       "  2007.92,941.938 2138.19,941.938 \n",
       "  \"/>\n",
       "<path clip-path=\"url(#clip190)\" d=\"M2173.74 961.625 Q2171.93 966.255 2170.22 967.667 Q2168.51 969.079 2165.64 969.079 L2162.24 969.079 L2162.24 965.514 L2164.74 965.514 Q2166.49 965.514 2167.47 964.68 Q2168.44 963.847 2169.62 960.745 L2170.38 958.801 L2159.9 933.292 L2164.41 933.292 L2172.51 953.569 L2180.61 933.292 L2185.13 933.292 L2173.74 961.625 Z\" fill=\"#000000\" fill-rule=\"evenodd\" fill-opacity=\"1\" /><path clip-path=\"url(#clip190)\" d=\"M2192.42 955.282 L2200.06 955.282 L2200.06 928.917 L2191.75 930.583 L2191.75 926.324 L2200.01 924.658 L2204.69 924.658 L2204.69 955.282 L2212.33 955.282 L2212.33 959.218 L2192.42 959.218 L2192.42 955.282 Z\" fill=\"#000000\" fill-rule=\"evenodd\" fill-opacity=\"1\" /><path clip-path=\"url(#clip190)\" d=\"M2234.62 928.732 L2222.81 947.181 L2234.62 947.181 L2234.62 928.732 M2233.39 924.658 L2239.27 924.658 L2239.27 947.181 L2244.2 947.181 L2244.2 951.069 L2239.27 951.069 L2239.27 959.218 L2234.62 959.218 L2234.62 951.069 L2219.02 951.069 L2219.02 946.556 L2233.39 924.658 Z\" fill=\"#000000\" fill-rule=\"evenodd\" fill-opacity=\"1\" /><polyline clip-path=\"url(#clip190)\" style=\"stroke:#dd64b5; stroke-linecap:butt; stroke-linejoin:round; stroke-width:4; stroke-opacity:1; fill:none\" points=\"\n",
       "  2007.92,1002.42 2138.19,1002.42 \n",
       "  \"/>\n",
       "<path clip-path=\"url(#clip190)\" d=\"M2173.74 1022.1 Q2171.93 1026.73 2170.22 1028.15 Q2168.51 1029.56 2165.64 1029.56 L2162.24 1029.56 L2162.24 1025.99 L2164.74 1025.99 Q2166.49 1025.99 2167.47 1025.16 Q2168.44 1024.33 2169.62 1021.23 L2170.38 1019.28 L2159.9 993.772 L2164.41 993.772 L2172.51 1014.05 L2180.61 993.772 L2185.13 993.772 L2173.74 1022.1 Z\" fill=\"#000000\" fill-rule=\"evenodd\" fill-opacity=\"1\" /><path clip-path=\"url(#clip190)\" d=\"M2192.42 1015.76 L2200.06 1015.76 L2200.06 989.397 L2191.75 991.063 L2191.75 986.804 L2200.01 985.138 L2204.69 985.138 L2204.69 1015.76 L2212.33 1015.76 L2212.33 1019.7 L2192.42 1019.7 L2192.42 1015.76 Z\" fill=\"#000000\" fill-rule=\"evenodd\" fill-opacity=\"1\" /><path clip-path=\"url(#clip190)\" d=\"M2221.82 985.138 L2240.17 985.138 L2240.17 989.073 L2226.1 989.073 L2226.1 997.545 Q2227.12 997.198 2228.14 997.036 Q2229.16 996.85 2230.17 996.85 Q2235.96 996.85 2239.34 1000.02 Q2242.72 1003.19 2242.72 1008.61 Q2242.72 1014.19 2239.25 1017.29 Q2235.78 1020.37 2229.46 1020.37 Q2227.28 1020.37 2225.01 1020 Q2222.77 1019.63 2220.36 1018.89 L2220.36 1014.19 Q2222.44 1015.32 2224.67 1015.88 Q2226.89 1016.43 2229.36 1016.43 Q2233.37 1016.43 2235.71 1014.33 Q2238.04 1012.22 2238.04 1008.61 Q2238.04 1005 2235.71 1002.89 Q2233.37 1000.79 2229.36 1000.79 Q2227.49 1000.79 2225.61 1001.2 Q2223.76 1001.62 2221.82 1002.5 L2221.82 985.138 Z\" fill=\"#000000\" fill-rule=\"evenodd\" fill-opacity=\"1\" /><polyline clip-path=\"url(#clip190)\" style=\"stroke:#6b9e32; stroke-linecap:butt; stroke-linejoin:round; stroke-width:4; stroke-opacity:1; fill:none\" points=\"\n",
       "  2007.92,1062.9 2138.19,1062.9 \n",
       "  \"/>\n",
       "<path clip-path=\"url(#clip190)\" d=\"M2173.74 1082.58 Q2171.93 1087.21 2170.22 1088.63 Q2168.51 1090.04 2165.64 1090.04 L2162.24 1090.04 L2162.24 1086.47 L2164.74 1086.47 Q2166.49 1086.47 2167.47 1085.64 Q2168.44 1084.81 2169.62 1081.71 L2170.38 1079.76 L2159.9 1054.25 L2164.41 1054.25 L2172.51 1074.53 L2180.61 1054.25 L2185.13 1054.25 L2173.74 1082.58 Z\" fill=\"#000000\" fill-rule=\"evenodd\" fill-opacity=\"1\" /><path clip-path=\"url(#clip190)\" d=\"M2192.42 1076.24 L2200.06 1076.24 L2200.06 1049.88 L2191.75 1051.54 L2191.75 1047.28 L2200.01 1045.62 L2204.69 1045.62 L2204.69 1076.24 L2212.33 1076.24 L2212.33 1080.18 L2192.42 1080.18 L2192.42 1076.24 Z\" fill=\"#000000\" fill-rule=\"evenodd\" fill-opacity=\"1\" /><path clip-path=\"url(#clip190)\" d=\"M2232.35 1061.03 Q2229.2 1061.03 2227.35 1063.19 Q2225.52 1065.34 2225.52 1069.09 Q2225.52 1072.82 2227.35 1074.99 Q2229.2 1077.15 2232.35 1077.15 Q2235.5 1077.15 2237.33 1074.99 Q2239.18 1072.82 2239.18 1069.09 Q2239.18 1065.34 2237.33 1063.19 Q2235.5 1061.03 2232.35 1061.03 M2241.63 1046.38 L2241.63 1050.64 Q2239.87 1049.81 2238.07 1049.37 Q2236.29 1048.93 2234.53 1048.93 Q2229.9 1048.93 2227.44 1052.05 Q2225.01 1055.18 2224.67 1061.5 Q2226.03 1059.48 2228.09 1058.42 Q2230.15 1057.33 2232.63 1057.33 Q2237.84 1057.33 2240.85 1060.5 Q2243.88 1063.65 2243.88 1069.09 Q2243.88 1074.41 2240.73 1077.63 Q2237.58 1080.85 2232.35 1080.85 Q2226.36 1080.85 2223.18 1076.27 Q2220.01 1071.66 2220.01 1062.93 Q2220.01 1054.74 2223.9 1049.88 Q2227.79 1044.99 2234.34 1044.99 Q2236.1 1044.99 2237.88 1045.34 Q2239.69 1045.69 2241.63 1046.38 Z\" fill=\"#000000\" fill-rule=\"evenodd\" fill-opacity=\"1\" /><polyline clip-path=\"url(#clip190)\" style=\"stroke:#009af9; stroke-linecap:butt; stroke-linejoin:round; stroke-width:4; stroke-opacity:1; fill:none\" points=\"\n",
       "  2007.92,1123.38 2138.19,1123.38 \n",
       "  \"/>\n",
       "<path clip-path=\"url(#clip190)\" d=\"M2173.74 1143.06 Q2171.93 1147.69 2170.22 1149.11 Q2168.51 1150.52 2165.64 1150.52 L2162.24 1150.52 L2162.24 1146.95 L2164.74 1146.95 Q2166.49 1146.95 2167.47 1146.12 Q2168.44 1145.29 2169.62 1142.19 L2170.38 1140.24 L2159.9 1114.73 L2164.41 1114.73 L2172.51 1135.01 L2180.61 1114.73 L2185.13 1114.73 L2173.74 1143.06 Z\" fill=\"#000000\" fill-rule=\"evenodd\" fill-opacity=\"1\" /><path clip-path=\"url(#clip190)\" d=\"M2192.42 1136.72 L2200.06 1136.72 L2200.06 1110.36 L2191.75 1112.02 L2191.75 1107.76 L2200.01 1106.1 L2204.69 1106.1 L2204.69 1136.72 L2212.33 1136.72 L2212.33 1140.66 L2192.42 1140.66 L2192.42 1136.72 Z\" fill=\"#000000\" fill-rule=\"evenodd\" fill-opacity=\"1\" /><path clip-path=\"url(#clip190)\" d=\"M2220.59 1106.1 L2242.81 1106.1 L2242.81 1108.09 L2230.27 1140.66 L2225.38 1140.66 L2237.19 1110.03 L2220.59 1110.03 L2220.59 1106.1 Z\" fill=\"#000000\" fill-rule=\"evenodd\" fill-opacity=\"1\" /><polyline clip-path=\"url(#clip190)\" style=\"stroke:#e26f46; stroke-linecap:butt; stroke-linejoin:round; stroke-width:4; stroke-opacity:1; fill:none\" points=\"\n",
       "  2007.92,1183.86 2138.19,1183.86 \n",
       "  \"/>\n",
       "<path clip-path=\"url(#clip190)\" d=\"M2173.74 1203.54 Q2171.93 1208.17 2170.22 1209.59 Q2168.51 1211 2165.64 1211 L2162.24 1211 L2162.24 1207.43 L2164.74 1207.43 Q2166.49 1207.43 2167.47 1206.6 Q2168.44 1205.77 2169.62 1202.67 L2170.38 1200.72 L2159.9 1175.21 L2164.41 1175.21 L2172.51 1195.49 L2180.61 1175.21 L2185.13 1175.21 L2173.74 1203.54 Z\" fill=\"#000000\" fill-rule=\"evenodd\" fill-opacity=\"1\" /><path clip-path=\"url(#clip190)\" d=\"M2192.42 1197.2 L2200.06 1197.2 L2200.06 1170.84 L2191.75 1172.5 L2191.75 1168.24 L2200.01 1166.58 L2204.69 1166.58 L2204.69 1197.2 L2212.33 1197.2 L2212.33 1201.14 L2192.42 1201.14 L2192.42 1197.2 Z\" fill=\"#000000\" fill-rule=\"evenodd\" fill-opacity=\"1\" /><path clip-path=\"url(#clip190)\" d=\"M2231.77 1184.73 Q2228.44 1184.73 2226.52 1186.51 Q2224.62 1188.29 2224.62 1191.42 Q2224.62 1194.54 2226.52 1196.32 Q2228.44 1198.11 2231.77 1198.11 Q2235.11 1198.11 2237.03 1196.32 Q2238.95 1194.52 2238.95 1191.42 Q2238.95 1188.29 2237.03 1186.51 Q2235.13 1184.73 2231.77 1184.73 M2227.1 1182.73 Q2224.09 1181.99 2222.4 1179.93 Q2220.73 1177.87 2220.73 1174.91 Q2220.73 1170.77 2223.67 1168.36 Q2226.63 1165.95 2231.77 1165.95 Q2236.93 1165.95 2239.87 1168.36 Q2242.81 1170.77 2242.81 1174.91 Q2242.81 1177.87 2241.12 1179.93 Q2239.46 1181.99 2236.47 1182.73 Q2239.85 1183.52 2241.73 1185.81 Q2243.62 1188.11 2243.62 1191.42 Q2243.62 1196.44 2240.54 1199.12 Q2237.49 1201.81 2231.77 1201.81 Q2226.05 1201.81 2222.98 1199.12 Q2219.92 1196.44 2219.92 1191.42 Q2219.92 1188.11 2221.82 1185.81 Q2223.72 1183.52 2227.1 1182.73 M2225.38 1175.35 Q2225.38 1178.04 2227.05 1179.54 Q2228.74 1181.05 2231.77 1181.05 Q2234.78 1181.05 2236.47 1179.54 Q2238.18 1178.04 2238.18 1175.35 Q2238.18 1172.67 2236.47 1171.16 Q2234.78 1169.66 2231.77 1169.66 Q2228.74 1169.66 2227.05 1171.16 Q2225.38 1172.67 2225.38 1175.35 Z\" fill=\"#000000\" fill-rule=\"evenodd\" fill-opacity=\"1\" /><polyline clip-path=\"url(#clip190)\" style=\"stroke:#3da44d; stroke-linecap:butt; stroke-linejoin:round; stroke-width:4; stroke-opacity:1; fill:none\" points=\"\n",
       "  2007.92,1244.34 2138.19,1244.34 \n",
       "  \"/>\n",
       "<path clip-path=\"url(#clip190)\" d=\"M2173.74 1264.02 Q2171.93 1268.65 2170.22 1270.07 Q2168.51 1271.48 2165.64 1271.48 L2162.24 1271.48 L2162.24 1267.91 L2164.74 1267.91 Q2166.49 1267.91 2167.47 1267.08 Q2168.44 1266.25 2169.62 1263.15 L2170.38 1261.2 L2159.9 1235.69 L2164.41 1235.69 L2172.51 1255.97 L2180.61 1235.69 L2185.13 1235.69 L2173.74 1264.02 Z\" fill=\"#000000\" fill-rule=\"evenodd\" fill-opacity=\"1\" /><path clip-path=\"url(#clip190)\" d=\"M2192.42 1257.68 L2200.06 1257.68 L2200.06 1231.32 L2191.75 1232.98 L2191.75 1228.72 L2200.01 1227.06 L2204.69 1227.06 L2204.69 1257.68 L2212.33 1257.68 L2212.33 1261.62 L2192.42 1261.62 L2192.42 1257.68 Z\" fill=\"#000000\" fill-rule=\"evenodd\" fill-opacity=\"1\" /><path clip-path=\"url(#clip190)\" d=\"M2221.91 1260.9 L2221.91 1256.64 Q2223.67 1257.47 2225.48 1257.91 Q2227.28 1258.35 2229.02 1258.35 Q2233.65 1258.35 2236.08 1255.25 Q2238.53 1252.13 2238.88 1245.78 Q2237.54 1247.78 2235.48 1248.84 Q2233.42 1249.9 2230.92 1249.9 Q2225.73 1249.9 2222.7 1246.78 Q2219.69 1243.63 2219.69 1238.19 Q2219.69 1232.87 2222.84 1229.65 Q2225.98 1226.43 2231.22 1226.43 Q2237.21 1226.43 2240.36 1231.04 Q2243.53 1235.62 2243.53 1244.37 Q2243.53 1252.54 2239.64 1257.43 Q2235.78 1262.29 2229.23 1262.29 Q2227.47 1262.29 2225.66 1261.94 Q2223.86 1261.59 2221.91 1260.9 M2231.22 1246.25 Q2234.36 1246.25 2236.19 1244.09 Q2238.04 1241.94 2238.04 1238.19 Q2238.04 1234.46 2236.19 1232.31 Q2234.36 1230.14 2231.22 1230.14 Q2228.07 1230.14 2226.22 1232.31 Q2224.39 1234.46 2224.39 1238.19 Q2224.39 1241.94 2226.22 1244.09 Q2228.07 1246.25 2231.22 1246.25 Z\" fill=\"#000000\" fill-rule=\"evenodd\" fill-opacity=\"1\" /><polyline clip-path=\"url(#clip190)\" style=\"stroke:#c271d2; stroke-linecap:butt; stroke-linejoin:round; stroke-width:4; stroke-opacity:1; fill:none\" points=\"\n",
       "  2007.92,1304.82 2138.19,1304.82 \n",
       "  \"/>\n",
       "<path clip-path=\"url(#clip190)\" d=\"M2173.74 1324.5 Q2171.93 1329.13 2170.22 1330.55 Q2168.51 1331.96 2165.64 1331.96 L2162.24 1331.96 L2162.24 1328.39 L2164.74 1328.39 Q2166.49 1328.39 2167.47 1327.56 Q2168.44 1326.73 2169.62 1323.63 L2170.38 1321.68 L2159.9 1296.17 L2164.41 1296.17 L2172.51 1316.45 L2180.61 1296.17 L2185.13 1296.17 L2173.74 1324.5 Z\" fill=\"#000000\" fill-rule=\"evenodd\" fill-opacity=\"1\" /><path clip-path=\"url(#clip190)\" d=\"M2195.64 1318.16 L2211.96 1318.16 L2211.96 1322.1 L2190.01 1322.1 L2190.01 1318.16 Q2192.67 1315.41 2197.26 1310.78 Q2201.86 1306.13 2203.05 1304.78 Q2205.29 1302.26 2206.17 1300.52 Q2207.07 1298.76 2207.07 1297.07 Q2207.07 1294.32 2205.13 1292.58 Q2203.21 1290.85 2200.11 1290.85 Q2197.91 1290.85 2195.45 1291.61 Q2193.02 1292.38 2190.24 1293.93 L2190.24 1289.2 Q2193.07 1288.07 2195.52 1287.49 Q2197.98 1286.91 2200.01 1286.91 Q2205.38 1286.91 2208.58 1289.6 Q2211.77 1292.28 2211.77 1296.77 Q2211.77 1298.9 2210.96 1300.82 Q2210.17 1302.72 2208.07 1305.32 Q2207.49 1305.99 2204.39 1309.2 Q2201.29 1312.4 2195.64 1318.16 Z\" fill=\"#000000\" fill-rule=\"evenodd\" fill-opacity=\"1\" /><path clip-path=\"url(#clip190)\" d=\"M2231.77 1290.62 Q2228.16 1290.62 2226.33 1294.18 Q2224.53 1297.72 2224.53 1304.85 Q2224.53 1311.96 2226.33 1315.52 Q2228.16 1319.07 2231.77 1319.07 Q2235.41 1319.07 2237.21 1315.52 Q2239.04 1311.96 2239.04 1304.85 Q2239.04 1297.72 2237.21 1294.18 Q2235.41 1290.62 2231.77 1290.62 M2231.77 1286.91 Q2237.58 1286.91 2240.64 1291.52 Q2243.72 1296.1 2243.72 1304.85 Q2243.72 1313.58 2240.64 1318.19 Q2237.58 1322.77 2231.77 1322.77 Q2225.96 1322.77 2222.88 1318.19 Q2219.83 1313.58 2219.83 1304.85 Q2219.83 1296.1 2222.88 1291.52 Q2225.96 1286.91 2231.77 1286.91 Z\" fill=\"#000000\" fill-rule=\"evenodd\" fill-opacity=\"1\" /><polyline clip-path=\"url(#clip190)\" style=\"stroke:#ac8d18; stroke-linecap:butt; stroke-linejoin:round; stroke-width:4; stroke-opacity:1; fill:none\" points=\"\n",
       "  2007.92,1365.3 2138.19,1365.3 \n",
       "  \"/>\n",
       "<path clip-path=\"url(#clip190)\" d=\"M2173.74 1384.98 Q2171.93 1389.61 2170.22 1391.03 Q2168.51 1392.44 2165.64 1392.44 L2162.24 1392.44 L2162.24 1388.87 L2164.74 1388.87 Q2166.49 1388.87 2167.47 1388.04 Q2168.44 1387.21 2169.62 1384.11 L2170.38 1382.16 L2159.9 1356.65 L2164.41 1356.65 L2172.51 1376.93 L2180.61 1356.65 L2185.13 1356.65 L2173.74 1384.98 Z\" fill=\"#000000\" fill-rule=\"evenodd\" fill-opacity=\"1\" /><path clip-path=\"url(#clip190)\" d=\"M2195.64 1378.64 L2211.96 1378.64 L2211.96 1382.58 L2190.01 1382.58 L2190.01 1378.64 Q2192.67 1375.89 2197.26 1371.26 Q2201.86 1366.61 2203.05 1365.26 Q2205.29 1362.74 2206.17 1361 Q2207.07 1359.24 2207.07 1357.55 Q2207.07 1354.8 2205.13 1353.06 Q2203.21 1351.33 2200.11 1351.33 Q2197.91 1351.33 2195.45 1352.09 Q2193.02 1352.86 2190.24 1354.41 L2190.24 1349.68 Q2193.07 1348.55 2195.52 1347.97 Q2197.98 1347.39 2200.01 1347.39 Q2205.38 1347.39 2208.58 1350.08 Q2211.77 1352.76 2211.77 1357.25 Q2211.77 1359.38 2210.96 1361.3 Q2210.17 1363.2 2208.07 1365.8 Q2207.49 1366.47 2204.39 1369.68 Q2201.29 1372.88 2195.64 1378.64 Z\" fill=\"#000000\" fill-rule=\"evenodd\" fill-opacity=\"1\" /><path clip-path=\"url(#clip190)\" d=\"M2222.58 1378.64 L2230.22 1378.64 L2230.22 1352.28 L2221.91 1353.94 L2221.91 1349.68 L2230.17 1348.02 L2234.85 1348.02 L2234.85 1378.64 L2242.49 1378.64 L2242.49 1382.58 L2222.58 1382.58 L2222.58 1378.64 Z\" fill=\"#000000\" fill-rule=\"evenodd\" fill-opacity=\"1\" /><polyline clip-path=\"url(#clip190)\" style=\"stroke:#00a9ad; stroke-linecap:butt; stroke-linejoin:round; stroke-width:4; stroke-opacity:1; fill:none\" points=\"\n",
       "  2007.92,1425.78 2138.19,1425.78 \n",
       "  \"/>\n",
       "<path clip-path=\"url(#clip190)\" d=\"M2173.74 1445.46 Q2171.93 1450.09 2170.22 1451.51 Q2168.51 1452.92 2165.64 1452.92 L2162.24 1452.92 L2162.24 1449.35 L2164.74 1449.35 Q2166.49 1449.35 2167.47 1448.52 Q2168.44 1447.69 2169.62 1444.59 L2170.38 1442.64 L2159.9 1417.13 L2164.41 1417.13 L2172.51 1437.41 L2180.61 1417.13 L2185.13 1417.13 L2173.74 1445.46 Z\" fill=\"#000000\" fill-rule=\"evenodd\" fill-opacity=\"1\" /><path clip-path=\"url(#clip190)\" d=\"M2195.64 1439.12 L2211.96 1439.12 L2211.96 1443.06 L2190.01 1443.06 L2190.01 1439.12 Q2192.67 1436.37 2197.26 1431.74 Q2201.86 1427.09 2203.05 1425.74 Q2205.29 1423.22 2206.17 1421.48 Q2207.07 1419.72 2207.07 1418.03 Q2207.07 1415.28 2205.13 1413.54 Q2203.21 1411.81 2200.11 1411.81 Q2197.91 1411.81 2195.45 1412.57 Q2193.02 1413.34 2190.24 1414.89 L2190.24 1410.16 Q2193.07 1409.03 2195.52 1408.45 Q2197.98 1407.87 2200.01 1407.87 Q2205.38 1407.87 2208.58 1410.56 Q2211.77 1413.24 2211.77 1417.73 Q2211.77 1419.86 2210.96 1421.78 Q2210.17 1423.68 2208.07 1426.28 Q2207.49 1426.95 2204.39 1430.16 Q2201.29 1433.36 2195.64 1439.12 Z\" fill=\"#000000\" fill-rule=\"evenodd\" fill-opacity=\"1\" /><path clip-path=\"url(#clip190)\" d=\"M2225.8 1439.12 L2242.12 1439.12 L2242.12 1443.06 L2220.17 1443.06 L2220.17 1439.12 Q2222.84 1436.37 2227.42 1431.74 Q2232.03 1427.09 2233.21 1425.74 Q2235.45 1423.22 2236.33 1421.48 Q2237.23 1419.72 2237.23 1418.03 Q2237.23 1415.28 2235.29 1413.54 Q2233.37 1411.81 2230.27 1411.81 Q2228.07 1411.81 2225.61 1412.57 Q2223.18 1413.34 2220.41 1414.89 L2220.41 1410.16 Q2223.23 1409.03 2225.68 1408.45 Q2228.14 1407.87 2230.17 1407.87 Q2235.54 1407.87 2238.74 1410.56 Q2241.93 1413.24 2241.93 1417.73 Q2241.93 1419.86 2241.12 1421.78 Q2240.34 1423.68 2238.23 1426.28 Q2237.65 1426.95 2234.55 1430.16 Q2231.45 1433.36 2225.8 1439.12 Z\" fill=\"#000000\" fill-rule=\"evenodd\" fill-opacity=\"1\" /><polyline clip-path=\"url(#clip190)\" style=\"stroke:#ed5d92; stroke-linecap:butt; stroke-linejoin:round; stroke-width:4; stroke-opacity:1; fill:none\" points=\"\n",
       "  2007.92,1486.26 2138.19,1486.26 \n",
       "  \"/>\n",
       "<path clip-path=\"url(#clip190)\" d=\"M2173.74 1505.94 Q2171.93 1510.57 2170.22 1511.99 Q2168.51 1513.4 2165.64 1513.4 L2162.24 1513.4 L2162.24 1509.83 L2164.74 1509.83 Q2166.49 1509.83 2167.47 1509 Q2168.44 1508.17 2169.62 1505.07 L2170.38 1503.12 L2159.9 1477.61 L2164.41 1477.61 L2172.51 1497.89 L2180.61 1477.61 L2185.13 1477.61 L2173.74 1505.94 Z\" fill=\"#000000\" fill-rule=\"evenodd\" fill-opacity=\"1\" /><path clip-path=\"url(#clip190)\" d=\"M2195.64 1499.6 L2211.96 1499.6 L2211.96 1503.54 L2190.01 1503.54 L2190.01 1499.6 Q2192.67 1496.85 2197.26 1492.22 Q2201.86 1487.57 2203.05 1486.22 Q2205.29 1483.7 2206.17 1481.96 Q2207.07 1480.2 2207.07 1478.51 Q2207.07 1475.76 2205.13 1474.02 Q2203.21 1472.29 2200.11 1472.29 Q2197.91 1472.29 2195.45 1473.05 Q2193.02 1473.82 2190.24 1475.37 L2190.24 1470.64 Q2193.07 1469.51 2195.52 1468.93 Q2197.98 1468.35 2200.01 1468.35 Q2205.38 1468.35 2208.58 1471.04 Q2211.77 1473.72 2211.77 1478.21 Q2211.77 1480.34 2210.96 1482.26 Q2210.17 1484.16 2208.07 1486.76 Q2207.49 1487.43 2204.39 1490.64 Q2201.29 1493.84 2195.64 1499.6 Z\" fill=\"#000000\" fill-rule=\"evenodd\" fill-opacity=\"1\" /><path clip-path=\"url(#clip190)\" d=\"M2235.94 1484.9 Q2239.29 1485.62 2241.17 1487.89 Q2243.07 1490.16 2243.07 1493.49 Q2243.07 1498.61 2239.55 1501.41 Q2236.03 1504.21 2229.55 1504.21 Q2227.37 1504.21 2225.06 1503.77 Q2222.77 1503.35 2220.31 1502.5 L2220.31 1497.98 Q2222.26 1499.12 2224.57 1499.69 Q2226.89 1500.27 2229.41 1500.27 Q2233.81 1500.27 2236.1 1498.54 Q2238.42 1496.8 2238.42 1493.49 Q2238.42 1490.44 2236.26 1488.72 Q2234.13 1486.99 2230.31 1486.99 L2226.29 1486.99 L2226.29 1483.14 L2230.5 1483.14 Q2233.95 1483.14 2235.78 1481.78 Q2237.61 1480.39 2237.61 1477.8 Q2237.61 1475.13 2235.71 1473.72 Q2233.83 1472.29 2230.31 1472.29 Q2228.39 1472.29 2226.19 1472.7 Q2223.99 1473.12 2221.36 1474 L2221.36 1469.83 Q2224.02 1469.09 2226.33 1468.72 Q2228.67 1468.35 2230.73 1468.35 Q2236.05 1468.35 2239.16 1470.78 Q2242.26 1473.19 2242.26 1477.31 Q2242.26 1480.18 2240.61 1482.17 Q2238.97 1484.14 2235.94 1484.9 Z\" fill=\"#000000\" fill-rule=\"evenodd\" fill-opacity=\"1\" /><polyline clip-path=\"url(#clip190)\" style=\"stroke:#c68125; stroke-linecap:butt; stroke-linejoin:round; stroke-width:4; stroke-opacity:1; fill:none\" points=\"\n",
       "  2007.92,1546.74 2138.19,1546.74 \n",
       "  \"/>\n",
       "<path clip-path=\"url(#clip190)\" d=\"M2173.74 1566.42 Q2171.93 1571.05 2170.22 1572.47 Q2168.51 1573.88 2165.64 1573.88 L2162.24 1573.88 L2162.24 1570.31 L2164.74 1570.31 Q2166.49 1570.31 2167.47 1569.48 Q2168.44 1568.65 2169.62 1565.55 L2170.38 1563.6 L2159.9 1538.09 L2164.41 1538.09 L2172.51 1558.37 L2180.61 1538.09 L2185.13 1538.09 L2173.74 1566.42 Z\" fill=\"#000000\" fill-rule=\"evenodd\" fill-opacity=\"1\" /><path clip-path=\"url(#clip190)\" d=\"M2195.64 1560.08 L2211.96 1560.08 L2211.96 1564.02 L2190.01 1564.02 L2190.01 1560.08 Q2192.67 1557.33 2197.26 1552.7 Q2201.86 1548.05 2203.05 1546.7 Q2205.29 1544.18 2206.17 1542.44 Q2207.07 1540.68 2207.07 1538.99 Q2207.07 1536.24 2205.13 1534.5 Q2203.21 1532.77 2200.11 1532.77 Q2197.91 1532.77 2195.45 1533.53 Q2193.02 1534.3 2190.24 1535.85 L2190.24 1531.12 Q2193.07 1529.99 2195.52 1529.41 Q2197.98 1528.83 2200.01 1528.83 Q2205.38 1528.83 2208.58 1531.52 Q2211.77 1534.2 2211.77 1538.69 Q2211.77 1540.82 2210.96 1542.74 Q2210.17 1544.64 2208.07 1547.24 Q2207.49 1547.91 2204.39 1551.12 Q2201.29 1554.32 2195.64 1560.08 Z\" fill=\"#000000\" fill-rule=\"evenodd\" fill-opacity=\"1\" /><path clip-path=\"url(#clip190)\" d=\"M2234.62 1533.53 L2222.81 1551.98 L2234.62 1551.98 L2234.62 1533.53 M2233.39 1529.46 L2239.27 1529.46 L2239.27 1551.98 L2244.2 1551.98 L2244.2 1555.87 L2239.27 1555.87 L2239.27 1564.02 L2234.62 1564.02 L2234.62 1555.87 L2219.02 1555.87 L2219.02 1551.36 L2233.39 1529.46 Z\" fill=\"#000000\" fill-rule=\"evenodd\" fill-opacity=\"1\" /><polyline clip-path=\"url(#clip190)\" style=\"stroke:#00a98d; stroke-linecap:butt; stroke-linejoin:round; stroke-width:4; stroke-opacity:1; fill:none\" points=\"\n",
       "  2007.92,1607.22 2138.19,1607.22 \n",
       "  \"/>\n",
       "<path clip-path=\"url(#clip190)\" d=\"M2173.74 1626.9 Q2171.93 1631.53 2170.22 1632.95 Q2168.51 1634.36 2165.64 1634.36 L2162.24 1634.36 L2162.24 1630.79 L2164.74 1630.79 Q2166.49 1630.79 2167.47 1629.96 Q2168.44 1629.13 2169.62 1626.03 L2170.38 1624.08 L2159.9 1598.57 L2164.41 1598.57 L2172.51 1618.85 L2180.61 1598.57 L2185.13 1598.57 L2173.74 1626.9 Z\" fill=\"#000000\" fill-rule=\"evenodd\" fill-opacity=\"1\" /><path clip-path=\"url(#clip190)\" d=\"M2195.64 1620.56 L2211.96 1620.56 L2211.96 1624.5 L2190.01 1624.5 L2190.01 1620.56 Q2192.67 1617.81 2197.26 1613.18 Q2201.86 1608.53 2203.05 1607.18 Q2205.29 1604.66 2206.17 1602.92 Q2207.07 1601.16 2207.07 1599.47 Q2207.07 1596.72 2205.13 1594.98 Q2203.21 1593.25 2200.11 1593.25 Q2197.91 1593.25 2195.45 1594.01 Q2193.02 1594.78 2190.24 1596.33 L2190.24 1591.6 Q2193.07 1590.47 2195.52 1589.89 Q2197.98 1589.31 2200.01 1589.31 Q2205.38 1589.31 2208.58 1592 Q2211.77 1594.68 2211.77 1599.17 Q2211.77 1601.3 2210.96 1603.22 Q2210.17 1605.12 2208.07 1607.72 Q2207.49 1608.39 2204.39 1611.6 Q2201.29 1614.8 2195.64 1620.56 Z\" fill=\"#000000\" fill-rule=\"evenodd\" fill-opacity=\"1\" /><path clip-path=\"url(#clip190)\" d=\"M2221.82 1589.94 L2240.17 1589.94 L2240.17 1593.87 L2226.1 1593.87 L2226.1 1602.34 Q2227.12 1602 2228.14 1601.84 Q2229.16 1601.65 2230.17 1601.65 Q2235.96 1601.65 2239.34 1604.82 Q2242.72 1607.99 2242.72 1613.41 Q2242.72 1618.99 2239.25 1622.09 Q2235.78 1625.17 2229.46 1625.17 Q2227.28 1625.17 2225.01 1624.8 Q2222.77 1624.43 2220.36 1623.69 L2220.36 1618.99 Q2222.44 1620.12 2224.67 1620.68 Q2226.89 1621.23 2229.36 1621.23 Q2233.37 1621.23 2235.71 1619.13 Q2238.04 1617.02 2238.04 1613.41 Q2238.04 1609.8 2235.71 1607.69 Q2233.37 1605.59 2229.36 1605.59 Q2227.49 1605.59 2225.61 1606 Q2223.76 1606.42 2221.82 1607.3 L2221.82 1589.94 Z\" fill=\"#000000\" fill-rule=\"evenodd\" fill-opacity=\"1\" /><polyline clip-path=\"url(#clip190)\" style=\"stroke:#8e971d; stroke-linecap:butt; stroke-linejoin:round; stroke-width:4; stroke-opacity:1; fill:none\" points=\"\n",
       "  2007.92,1667.7 2138.19,1667.7 \n",
       "  \"/>\n",
       "<path clip-path=\"url(#clip190)\" d=\"M2173.74 1687.38 Q2171.93 1692.01 2170.22 1693.43 Q2168.51 1694.84 2165.64 1694.84 L2162.24 1694.84 L2162.24 1691.27 L2164.74 1691.27 Q2166.49 1691.27 2167.47 1690.44 Q2168.44 1689.61 2169.62 1686.51 L2170.38 1684.56 L2159.9 1659.05 L2164.41 1659.05 L2172.51 1679.33 L2180.61 1659.05 L2185.13 1659.05 L2173.74 1687.38 Z\" fill=\"#000000\" fill-rule=\"evenodd\" fill-opacity=\"1\" /><path clip-path=\"url(#clip190)\" d=\"M2195.64 1681.04 L2211.96 1681.04 L2211.96 1684.98 L2190.01 1684.98 L2190.01 1681.04 Q2192.67 1678.29 2197.26 1673.66 Q2201.86 1669.01 2203.05 1667.66 Q2205.29 1665.14 2206.17 1663.4 Q2207.07 1661.64 2207.07 1659.95 Q2207.07 1657.2 2205.13 1655.46 Q2203.21 1653.73 2200.11 1653.73 Q2197.91 1653.73 2195.45 1654.49 Q2193.02 1655.26 2190.24 1656.81 L2190.24 1652.08 Q2193.07 1650.95 2195.52 1650.37 Q2197.98 1649.79 2200.01 1649.79 Q2205.38 1649.79 2208.58 1652.48 Q2211.77 1655.16 2211.77 1659.65 Q2211.77 1661.78 2210.96 1663.7 Q2210.17 1665.6 2208.07 1668.2 Q2207.49 1668.87 2204.39 1672.08 Q2201.29 1675.28 2195.64 1681.04 Z\" fill=\"#000000\" fill-rule=\"evenodd\" fill-opacity=\"1\" /><path clip-path=\"url(#clip190)\" d=\"M2232.35 1665.83 Q2229.2 1665.83 2227.35 1667.99 Q2225.52 1670.14 2225.52 1673.89 Q2225.52 1677.62 2227.35 1679.79 Q2229.2 1681.95 2232.35 1681.95 Q2235.5 1681.95 2237.33 1679.79 Q2239.18 1677.62 2239.18 1673.89 Q2239.18 1670.14 2237.33 1667.99 Q2235.5 1665.83 2232.35 1665.83 M2241.63 1651.18 L2241.63 1655.44 Q2239.87 1654.61 2238.07 1654.17 Q2236.29 1653.73 2234.53 1653.73 Q2229.9 1653.73 2227.44 1656.85 Q2225.01 1659.98 2224.67 1666.3 Q2226.03 1664.28 2228.09 1663.22 Q2230.15 1662.13 2232.63 1662.13 Q2237.84 1662.13 2240.85 1665.3 Q2243.88 1668.45 2243.88 1673.89 Q2243.88 1679.21 2240.73 1682.43 Q2237.58 1685.65 2232.35 1685.65 Q2226.36 1685.65 2223.18 1681.07 Q2220.01 1676.46 2220.01 1667.73 Q2220.01 1659.54 2223.9 1654.68 Q2227.79 1649.79 2234.34 1649.79 Q2236.1 1649.79 2237.88 1650.14 Q2239.69 1650.49 2241.63 1651.18 Z\" fill=\"#000000\" fill-rule=\"evenodd\" fill-opacity=\"1\" /><polyline clip-path=\"url(#clip190)\" style=\"stroke:#00a8cb; stroke-linecap:butt; stroke-linejoin:round; stroke-width:4; stroke-opacity:1; fill:none\" points=\"\n",
       "  2007.92,1728.18 2138.19,1728.18 \n",
       "  \"/>\n",
       "<path clip-path=\"url(#clip190)\" d=\"M2173.74 1747.86 Q2171.93 1752.49 2170.22 1753.91 Q2168.51 1755.32 2165.64 1755.32 L2162.24 1755.32 L2162.24 1751.75 L2164.74 1751.75 Q2166.49 1751.75 2167.47 1750.92 Q2168.44 1750.09 2169.62 1746.99 L2170.38 1745.04 L2159.9 1719.53 L2164.41 1719.53 L2172.51 1739.81 L2180.61 1719.53 L2185.13 1719.53 L2173.74 1747.86 Z\" fill=\"#000000\" fill-rule=\"evenodd\" fill-opacity=\"1\" /><path clip-path=\"url(#clip190)\" d=\"M2195.64 1741.52 L2211.96 1741.52 L2211.96 1745.46 L2190.01 1745.46 L2190.01 1741.52 Q2192.67 1738.77 2197.26 1734.14 Q2201.86 1729.49 2203.05 1728.14 Q2205.29 1725.62 2206.17 1723.88 Q2207.07 1722.12 2207.07 1720.43 Q2207.07 1717.68 2205.13 1715.94 Q2203.21 1714.21 2200.11 1714.21 Q2197.91 1714.21 2195.45 1714.97 Q2193.02 1715.74 2190.24 1717.29 L2190.24 1712.56 Q2193.07 1711.43 2195.52 1710.85 Q2197.98 1710.27 2200.01 1710.27 Q2205.38 1710.27 2208.58 1712.96 Q2211.77 1715.64 2211.77 1720.13 Q2211.77 1722.26 2210.96 1724.18 Q2210.17 1726.08 2208.07 1728.68 Q2207.49 1729.35 2204.39 1732.56 Q2201.29 1735.76 2195.64 1741.52 Z\" fill=\"#000000\" fill-rule=\"evenodd\" fill-opacity=\"1\" /><path clip-path=\"url(#clip190)\" d=\"M2220.59 1710.9 L2242.81 1710.9 L2242.81 1712.89 L2230.27 1745.46 L2225.38 1745.46 L2237.19 1714.83 L2220.59 1714.83 L2220.59 1710.9 Z\" fill=\"#000000\" fill-rule=\"evenodd\" fill-opacity=\"1\" /><polyline clip-path=\"url(#clip190)\" style=\"stroke:#9b7fe8; stroke-linecap:butt; stroke-linejoin:round; stroke-width:4; stroke-opacity:1; fill:none\" points=\"\n",
       "  2007.92,1788.66 2138.19,1788.66 \n",
       "  \"/>\n",
       "<path clip-path=\"url(#clip190)\" d=\"M2173.74 1808.34 Q2171.93 1812.97 2170.22 1814.39 Q2168.51 1815.8 2165.64 1815.8 L2162.24 1815.8 L2162.24 1812.23 L2164.74 1812.23 Q2166.49 1812.23 2167.47 1811.4 Q2168.44 1810.57 2169.62 1807.47 L2170.38 1805.52 L2159.9 1780.01 L2164.41 1780.01 L2172.51 1800.29 L2180.61 1780.01 L2185.13 1780.01 L2173.74 1808.34 Z\" fill=\"#000000\" fill-rule=\"evenodd\" fill-opacity=\"1\" /><path clip-path=\"url(#clip190)\" d=\"M2195.64 1802 L2211.96 1802 L2211.96 1805.94 L2190.01 1805.94 L2190.01 1802 Q2192.67 1799.25 2197.26 1794.62 Q2201.86 1789.97 2203.05 1788.62 Q2205.29 1786.1 2206.17 1784.36 Q2207.07 1782.6 2207.07 1780.91 Q2207.07 1778.16 2205.13 1776.42 Q2203.21 1774.69 2200.11 1774.69 Q2197.91 1774.69 2195.45 1775.45 Q2193.02 1776.22 2190.24 1777.77 L2190.24 1773.04 Q2193.07 1771.91 2195.52 1771.33 Q2197.98 1770.75 2200.01 1770.75 Q2205.38 1770.75 2208.58 1773.44 Q2211.77 1776.12 2211.77 1780.61 Q2211.77 1782.74 2210.96 1784.66 Q2210.17 1786.56 2208.07 1789.16 Q2207.49 1789.83 2204.39 1793.04 Q2201.29 1796.24 2195.64 1802 Z\" fill=\"#000000\" fill-rule=\"evenodd\" fill-opacity=\"1\" /><path clip-path=\"url(#clip190)\" d=\"M2231.77 1789.53 Q2228.44 1789.53 2226.52 1791.31 Q2224.62 1793.09 2224.62 1796.22 Q2224.62 1799.34 2226.52 1801.12 Q2228.44 1802.91 2231.77 1802.91 Q2235.11 1802.91 2237.03 1801.12 Q2238.95 1799.32 2238.95 1796.22 Q2238.95 1793.09 2237.03 1791.31 Q2235.13 1789.53 2231.77 1789.53 M2227.1 1787.53 Q2224.09 1786.79 2222.4 1784.73 Q2220.73 1782.67 2220.73 1779.71 Q2220.73 1775.57 2223.67 1773.16 Q2226.63 1770.75 2231.77 1770.75 Q2236.93 1770.75 2239.87 1773.16 Q2242.81 1775.57 2242.81 1779.71 Q2242.81 1782.67 2241.12 1784.73 Q2239.46 1786.79 2236.47 1787.53 Q2239.85 1788.32 2241.73 1790.61 Q2243.62 1792.91 2243.62 1796.22 Q2243.62 1801.24 2240.54 1803.92 Q2237.49 1806.61 2231.77 1806.61 Q2226.05 1806.61 2222.98 1803.92 Q2219.92 1801.24 2219.92 1796.22 Q2219.92 1792.91 2221.82 1790.61 Q2223.72 1788.32 2227.1 1787.53 M2225.38 1780.15 Q2225.38 1782.84 2227.05 1784.34 Q2228.74 1785.85 2231.77 1785.85 Q2234.78 1785.85 2236.47 1784.34 Q2238.18 1782.84 2238.18 1780.15 Q2238.18 1777.47 2236.47 1775.96 Q2234.78 1774.46 2231.77 1774.46 Q2228.74 1774.46 2227.05 1775.96 Q2225.38 1777.47 2225.38 1780.15 Z\" fill=\"#000000\" fill-rule=\"evenodd\" fill-opacity=\"1\" /><polyline clip-path=\"url(#clip190)\" style=\"stroke:#608cf6; stroke-linecap:butt; stroke-linejoin:round; stroke-width:4; stroke-opacity:1; fill:none\" points=\"\n",
       "  2007.92,1849.14 2138.19,1849.14 \n",
       "  \"/>\n",
       "<path clip-path=\"url(#clip190)\" d=\"M2173.74 1868.82 Q2171.93 1873.45 2170.22 1874.87 Q2168.51 1876.28 2165.64 1876.28 L2162.24 1876.28 L2162.24 1872.71 L2164.74 1872.71 Q2166.49 1872.71 2167.47 1871.88 Q2168.44 1871.05 2169.62 1867.95 L2170.38 1866 L2159.9 1840.49 L2164.41 1840.49 L2172.51 1860.77 L2180.61 1840.49 L2185.13 1840.49 L2173.74 1868.82 Z\" fill=\"#000000\" fill-rule=\"evenodd\" fill-opacity=\"1\" /><path clip-path=\"url(#clip190)\" d=\"M2195.64 1862.48 L2211.96 1862.48 L2211.96 1866.42 L2190.01 1866.42 L2190.01 1862.48 Q2192.67 1859.73 2197.26 1855.1 Q2201.86 1850.45 2203.05 1849.1 Q2205.29 1846.58 2206.17 1844.84 Q2207.07 1843.08 2207.07 1841.39 Q2207.07 1838.64 2205.13 1836.9 Q2203.21 1835.17 2200.11 1835.17 Q2197.91 1835.17 2195.45 1835.93 Q2193.02 1836.7 2190.24 1838.25 L2190.24 1833.52 Q2193.07 1832.39 2195.52 1831.81 Q2197.98 1831.23 2200.01 1831.23 Q2205.38 1831.23 2208.58 1833.92 Q2211.77 1836.6 2211.77 1841.09 Q2211.77 1843.22 2210.96 1845.14 Q2210.17 1847.04 2208.07 1849.64 Q2207.49 1850.31 2204.39 1853.52 Q2201.29 1856.72 2195.64 1862.48 Z\" fill=\"#000000\" fill-rule=\"evenodd\" fill-opacity=\"1\" /><path clip-path=\"url(#clip190)\" d=\"M2221.91 1865.7 L2221.91 1861.44 Q2223.67 1862.27 2225.48 1862.71 Q2227.28 1863.15 2229.02 1863.15 Q2233.65 1863.15 2236.08 1860.05 Q2238.53 1856.93 2238.88 1850.58 Q2237.54 1852.58 2235.48 1853.64 Q2233.42 1854.7 2230.92 1854.7 Q2225.73 1854.7 2222.7 1851.58 Q2219.69 1848.43 2219.69 1842.99 Q2219.69 1837.67 2222.84 1834.45 Q2225.98 1831.23 2231.22 1831.23 Q2237.21 1831.23 2240.36 1835.84 Q2243.53 1840.42 2243.53 1849.17 Q2243.53 1857.34 2239.64 1862.23 Q2235.78 1867.09 2229.23 1867.09 Q2227.47 1867.09 2225.66 1866.74 Q2223.86 1866.39 2221.91 1865.7 M2231.22 1851.05 Q2234.36 1851.05 2236.19 1848.89 Q2238.04 1846.74 2238.04 1842.99 Q2238.04 1839.26 2236.19 1837.11 Q2234.36 1834.94 2231.22 1834.94 Q2228.07 1834.94 2226.22 1837.11 Q2224.39 1839.26 2224.39 1842.99 Q2224.39 1846.74 2226.22 1848.89 Q2228.07 1851.05 2231.22 1851.05 Z\" fill=\"#000000\" fill-rule=\"evenodd\" fill-opacity=\"1\" /><polyline clip-path=\"url(#clip190)\" style=\"stroke:#f05f73; stroke-linecap:butt; stroke-linejoin:round; stroke-width:4; stroke-opacity:1; fill:none\" points=\"\n",
       "  2007.92,1909.62 2138.19,1909.62 \n",
       "  \"/>\n",
       "<path clip-path=\"url(#clip190)\" d=\"M2173.74 1929.3 Q2171.93 1933.93 2170.22 1935.35 Q2168.51 1936.76 2165.64 1936.76 L2162.24 1936.76 L2162.24 1933.19 L2164.74 1933.19 Q2166.49 1933.19 2167.47 1932.36 Q2168.44 1931.53 2169.62 1928.43 L2170.38 1926.48 L2159.9 1900.97 L2164.41 1900.97 L2172.51 1921.25 L2180.61 1900.97 L2185.13 1900.97 L2173.74 1929.3 Z\" fill=\"#000000\" fill-rule=\"evenodd\" fill-opacity=\"1\" /><path clip-path=\"url(#clip190)\" d=\"M2205.78 1908.26 Q2209.13 1908.98 2211.01 1911.25 Q2212.91 1913.52 2212.91 1916.85 Q2212.91 1921.97 2209.39 1924.77 Q2205.87 1927.57 2199.39 1927.57 Q2197.21 1927.57 2194.9 1927.13 Q2192.61 1926.71 2190.15 1925.86 L2190.15 1921.34 Q2192.1 1922.48 2194.41 1923.05 Q2196.73 1923.63 2199.25 1923.63 Q2203.65 1923.63 2205.94 1921.9 Q2208.25 1920.16 2208.25 1916.85 Q2208.25 1913.8 2206.1 1912.08 Q2203.97 1910.35 2200.15 1910.35 L2196.12 1910.35 L2196.12 1906.5 L2200.34 1906.5 Q2203.79 1906.5 2205.61 1905.14 Q2207.44 1903.75 2207.44 1901.16 Q2207.44 1898.49 2205.55 1897.08 Q2203.67 1895.65 2200.15 1895.65 Q2198.23 1895.65 2196.03 1896.06 Q2193.83 1896.48 2191.19 1897.36 L2191.19 1893.19 Q2193.86 1892.45 2196.17 1892.08 Q2198.51 1891.71 2200.57 1891.71 Q2205.89 1891.71 2208.99 1894.14 Q2212.1 1896.55 2212.1 1900.67 Q2212.1 1903.54 2210.45 1905.53 Q2208.81 1907.5 2205.78 1908.26 Z\" fill=\"#000000\" fill-rule=\"evenodd\" fill-opacity=\"1\" /><path clip-path=\"url(#clip190)\" d=\"M2231.77 1895.42 Q2228.16 1895.42 2226.33 1898.98 Q2224.53 1902.52 2224.53 1909.65 Q2224.53 1916.76 2226.33 1920.32 Q2228.16 1923.87 2231.77 1923.87 Q2235.41 1923.87 2237.21 1920.32 Q2239.04 1916.76 2239.04 1909.65 Q2239.04 1902.52 2237.21 1898.98 Q2235.41 1895.42 2231.77 1895.42 M2231.77 1891.71 Q2237.58 1891.71 2240.64 1896.32 Q2243.72 1900.9 2243.72 1909.65 Q2243.72 1918.38 2240.64 1922.99 Q2237.58 1927.57 2231.77 1927.57 Q2225.96 1927.57 2222.88 1922.99 Q2219.83 1918.38 2219.83 1909.65 Q2219.83 1900.9 2222.88 1896.32 Q2225.96 1891.71 2231.77 1891.71 Z\" fill=\"#000000\" fill-rule=\"evenodd\" fill-opacity=\"1\" /></svg>\n"
      ]
     },
     "execution_count": 21,
     "metadata": {},
     "output_type": "execute_result"
    }
   ],
   "source": [
    "plot(s_vals')"
   ]
  },
  {
   "cell_type": "code",
<<<<<<< Updated upstream
<<<<<<< Updated upstream
<<<<<<< Updated upstream
   "execution_count": 23,
=======
   "execution_count": 22,
>>>>>>> Stashed changes
=======
   "execution_count": 22,
>>>>>>> Stashed changes
=======
   "execution_count": 22,
>>>>>>> Stashed changes
   "metadata": {},
   "outputs": [
    {
     "data": {
      "image/svg+xml": [
       "<?xml version=\"1.0\" encoding=\"utf-8\"?>\n",
       "<svg xmlns=\"http://www.w3.org/2000/svg\" xmlns:xlink=\"http://www.w3.org/1999/xlink\" width=\"600\" height=\"400\" viewBox=\"0 0 2400 1600\">\n",
       "<defs>\n",
       "  <clipPath id=\"clip230\">\n",
       "    <rect x=\"0\" y=\"0\" width=\"2400\" height=\"1600\"/>\n",
       "  </clipPath>\n",
       "</defs>\n",
       "<path clip-path=\"url(#clip230)\" d=\"\n",
       "M0 1600 L2400 1600 L2400 0 L0 0  Z\n",
       "  \" fill=\"#ffffff\" fill-rule=\"evenodd\" fill-opacity=\"1\"/>\n",
       "<defs>\n",
       "  <clipPath id=\"clip231\">\n",
       "    <rect x=\"480\" y=\"0\" width=\"1681\" height=\"1600\"/>\n",
       "  </clipPath>\n",
       "</defs>\n",
       "<path clip-path=\"url(#clip230)\" d=\"\n",
       "M140.696 1486.45 L2352.76 1486.45 L2352.76 47.2441 L140.696 47.2441  Z\n",
       "  \" fill=\"#ffffff\" fill-rule=\"evenodd\" fill-opacity=\"1\"/>\n",
       "<defs>\n",
       "  <clipPath id=\"clip232\">\n",
       "    <rect x=\"140\" y=\"47\" width=\"2213\" height=\"1440\"/>\n",
       "  </clipPath>\n",
       "</defs>\n",
       "<polyline clip-path=\"url(#clip232)\" style=\"stroke:#000000; stroke-linecap:butt; stroke-linejoin:round; stroke-width:2; stroke-opacity:0.1; fill:none\" points=\"\n",
       "  203.301,1486.45 203.301,47.2441 \n",
       "  \"/>\n",
       "<polyline clip-path=\"url(#clip232)\" style=\"stroke:#000000; stroke-linecap:butt; stroke-linejoin:round; stroke-width:2; stroke-opacity:0.1; fill:none\" points=\"\n",
       "  725.013,1486.45 725.013,47.2441 \n",
       "  \"/>\n",
       "<polyline clip-path=\"url(#clip232)\" style=\"stroke:#000000; stroke-linecap:butt; stroke-linejoin:round; stroke-width:2; stroke-opacity:0.1; fill:none\" points=\"\n",
       "  1246.73,1486.45 1246.73,47.2441 \n",
       "  \"/>\n",
       "<polyline clip-path=\"url(#clip232)\" style=\"stroke:#000000; stroke-linecap:butt; stroke-linejoin:round; stroke-width:2; stroke-opacity:0.1; fill:none\" points=\"\n",
       "  1768.44,1486.45 1768.44,47.2441 \n",
       "  \"/>\n",
       "<polyline clip-path=\"url(#clip232)\" style=\"stroke:#000000; stroke-linecap:butt; stroke-linejoin:round; stroke-width:2; stroke-opacity:0.1; fill:none\" points=\"\n",
       "  2290.15,1486.45 2290.15,47.2441 \n",
       "  \"/>\n",
       "<polyline clip-path=\"url(#clip230)\" style=\"stroke:#000000; stroke-linecap:butt; stroke-linejoin:round; stroke-width:4; stroke-opacity:1; fill:none\" points=\"\n",
       "  140.696,1486.45 2352.76,1486.45 \n",
       "  \"/>\n",
       "<polyline clip-path=\"url(#clip230)\" style=\"stroke:#000000; stroke-linecap:butt; stroke-linejoin:round; stroke-width:4; stroke-opacity:1; fill:none\" points=\"\n",
       "  203.301,1486.45 203.301,1469.18 \n",
       "  \"/>\n",
       "<polyline clip-path=\"url(#clip230)\" style=\"stroke:#000000; stroke-linecap:butt; stroke-linejoin:round; stroke-width:4; stroke-opacity:1; fill:none\" points=\"\n",
       "  725.013,1486.45 725.013,1469.18 \n",
       "  \"/>\n",
       "<polyline clip-path=\"url(#clip230)\" style=\"stroke:#000000; stroke-linecap:butt; stroke-linejoin:round; stroke-width:4; stroke-opacity:1; fill:none\" points=\"\n",
       "  1246.73,1486.45 1246.73,1469.18 \n",
       "  \"/>\n",
       "<polyline clip-path=\"url(#clip230)\" style=\"stroke:#000000; stroke-linecap:butt; stroke-linejoin:round; stroke-width:4; stroke-opacity:1; fill:none\" points=\"\n",
       "  1768.44,1486.45 1768.44,1469.18 \n",
       "  \"/>\n",
       "<polyline clip-path=\"url(#clip230)\" style=\"stroke:#000000; stroke-linecap:butt; stroke-linejoin:round; stroke-width:4; stroke-opacity:1; fill:none\" points=\"\n",
       "  2290.15,1486.45 2290.15,1469.18 \n",
       "  \"/>\n",
       "<path clip-path=\"url(#clip230)\" d=\"M193.683 1543.18 L201.322 1543.18 L201.322 1516.82 L193.012 1518.49 L193.012 1514.23 L201.276 1512.56 L205.951 1512.56 L205.951 1543.18 L213.59 1543.18 L213.59 1547.12 L193.683 1547.12 L193.683 1543.18 Z\" fill=\"#000000\" fill-rule=\"evenodd\" fill-opacity=\"1\" /><path clip-path=\"url(#clip230)\" d=\"M719.666 1543.18 L735.986 1543.18 L735.986 1547.12 L714.041 1547.12 L714.041 1543.18 Q716.703 1540.43 721.287 1535.8 Q725.893 1531.15 727.074 1529.81 Q729.319 1527.28 730.199 1525.55 Q731.101 1523.79 731.101 1522.1 Q731.101 1519.34 729.157 1517.61 Q727.236 1515.87 724.134 1515.87 Q721.935 1515.87 719.481 1516.63 Q717.05 1517.4 714.273 1518.95 L714.273 1514.23 Q717.097 1513.09 719.55 1512.51 Q722.004 1511.93 724.041 1511.93 Q729.411 1511.93 732.606 1514.62 Q735.8 1517.31 735.8 1521.8 Q735.8 1523.93 734.99 1525.85 Q734.203 1527.74 732.097 1530.34 Q731.518 1531.01 728.416 1534.23 Q725.314 1537.42 719.666 1543.18 Z\" fill=\"#000000\" fill-rule=\"evenodd\" fill-opacity=\"1\" /><path clip-path=\"url(#clip230)\" d=\"M1250.97 1528.49 Q1254.33 1529.2 1256.2 1531.47 Q1258.1 1533.74 1258.1 1537.07 Q1258.1 1542.19 1254.58 1544.99 Q1251.07 1547.79 1244.58 1547.79 Q1242.41 1547.79 1240.09 1547.35 Q1237.8 1546.93 1235.35 1546.08 L1235.35 1541.56 Q1237.29 1542.7 1239.61 1543.28 Q1241.92 1543.86 1244.45 1543.86 Q1248.84 1543.86 1251.14 1542.12 Q1253.45 1540.38 1253.45 1537.07 Q1253.45 1534.02 1251.3 1532.31 Q1249.17 1530.57 1245.35 1530.57 L1241.32 1530.57 L1241.32 1526.73 L1245.53 1526.73 Q1248.98 1526.73 1250.81 1525.36 Q1252.64 1523.97 1252.64 1521.38 Q1252.64 1518.72 1250.74 1517.31 Q1248.87 1515.87 1245.35 1515.87 Q1243.43 1515.87 1241.23 1516.29 Q1239.03 1516.7 1236.39 1517.58 L1236.39 1513.42 Q1239.05 1512.68 1241.37 1512.31 Q1243.7 1511.93 1245.77 1511.93 Q1251.09 1511.93 1254.19 1514.37 Q1257.29 1516.77 1257.29 1520.89 Q1257.29 1523.76 1255.65 1525.75 Q1254.01 1527.72 1250.97 1528.49 Z\" fill=\"#000000\" fill-rule=\"evenodd\" fill-opacity=\"1\" /><path clip-path=\"url(#clip230)\" d=\"M1771.45 1516.63 L1759.64 1535.08 L1771.45 1535.08 L1771.45 1516.63 M1770.22 1512.56 L1776.1 1512.56 L1776.1 1535.08 L1781.03 1535.08 L1781.03 1538.97 L1776.1 1538.97 L1776.1 1547.12 L1771.45 1547.12 L1771.45 1538.97 L1755.85 1538.97 L1755.85 1534.46 L1770.22 1512.56 Z\" fill=\"#000000\" fill-rule=\"evenodd\" fill-opacity=\"1\" /><path clip-path=\"url(#clip230)\" d=\"M2280.43 1512.56 L2298.78 1512.56 L2298.78 1516.5 L2284.71 1516.5 L2284.71 1524.97 Q2285.73 1524.62 2286.75 1524.46 Q2287.77 1524.27 2288.78 1524.27 Q2294.57 1524.27 2297.95 1527.44 Q2301.33 1530.62 2301.33 1536.03 Q2301.33 1541.61 2297.86 1544.71 Q2294.39 1547.79 2288.07 1547.79 Q2285.89 1547.79 2283.62 1547.42 Q2281.38 1547.05 2278.97 1546.31 L2278.97 1541.61 Q2281.05 1542.74 2283.28 1543.3 Q2285.5 1543.86 2287.97 1543.86 Q2291.98 1543.86 2294.32 1541.75 Q2296.66 1539.64 2296.66 1536.03 Q2296.66 1532.42 2294.32 1530.31 Q2291.98 1528.21 2287.97 1528.21 Q2286.1 1528.21 2284.22 1528.62 Q2282.37 1529.04 2280.43 1529.92 L2280.43 1512.56 Z\" fill=\"#000000\" fill-rule=\"evenodd\" fill-opacity=\"1\" /><polyline clip-path=\"url(#clip232)\" style=\"stroke:#000000; stroke-linecap:butt; stroke-linejoin:round; stroke-width:2; stroke-opacity:0.1; fill:none\" points=\"\n",
       "  140.696,1445.72 2352.76,1445.72 \n",
       "  \"/>\n",
       "<polyline clip-path=\"url(#clip232)\" style=\"stroke:#000000; stroke-linecap:butt; stroke-linejoin:round; stroke-width:2; stroke-opacity:0.1; fill:none\" points=\"\n",
       "  140.696,1138.45 2352.76,1138.45 \n",
       "  \"/>\n",
       "<polyline clip-path=\"url(#clip232)\" style=\"stroke:#000000; stroke-linecap:butt; stroke-linejoin:round; stroke-width:2; stroke-opacity:0.1; fill:none\" points=\"\n",
       "  140.696,831.186 2352.76,831.186 \n",
       "  \"/>\n",
       "<polyline clip-path=\"url(#clip232)\" style=\"stroke:#000000; stroke-linecap:butt; stroke-linejoin:round; stroke-width:2; stroke-opacity:0.1; fill:none\" points=\"\n",
       "  140.696,523.922 2352.76,523.922 \n",
       "  \"/>\n",
       "<polyline clip-path=\"url(#clip232)\" style=\"stroke:#000000; stroke-linecap:butt; stroke-linejoin:round; stroke-width:2; stroke-opacity:0.1; fill:none\" points=\"\n",
       "  140.696,216.657 2352.76,216.657 \n",
       "  \"/>\n",
       "<polyline clip-path=\"url(#clip230)\" style=\"stroke:#000000; stroke-linecap:butt; stroke-linejoin:round; stroke-width:4; stroke-opacity:1; fill:none\" points=\"\n",
       "  140.696,1486.45 140.696,47.2441 \n",
       "  \"/>\n",
       "<polyline clip-path=\"url(#clip230)\" style=\"stroke:#000000; stroke-linecap:butt; stroke-linejoin:round; stroke-width:4; stroke-opacity:1; fill:none\" points=\"\n",
       "  140.696,1445.72 167.24,1445.72 \n",
       "  \"/>\n",
       "<polyline clip-path=\"url(#clip230)\" style=\"stroke:#000000; stroke-linecap:butt; stroke-linejoin:round; stroke-width:4; stroke-opacity:1; fill:none\" points=\"\n",
       "  140.696,1138.45 167.24,1138.45 \n",
       "  \"/>\n",
       "<polyline clip-path=\"url(#clip230)\" style=\"stroke:#000000; stroke-linecap:butt; stroke-linejoin:round; stroke-width:4; stroke-opacity:1; fill:none\" points=\"\n",
       "  140.696,831.186 167.24,831.186 \n",
       "  \"/>\n",
       "<polyline clip-path=\"url(#clip230)\" style=\"stroke:#000000; stroke-linecap:butt; stroke-linejoin:round; stroke-width:4; stroke-opacity:1; fill:none\" points=\"\n",
       "  140.696,523.922 167.24,523.922 \n",
       "  \"/>\n",
       "<polyline clip-path=\"url(#clip230)\" style=\"stroke:#000000; stroke-linecap:butt; stroke-linejoin:round; stroke-width:4; stroke-opacity:1; fill:none\" points=\"\n",
       "  140.696,216.657 167.24,216.657 \n",
       "  \"/>\n",
       "<path clip-path=\"url(#clip230)\" d=\"M92.7512 1431.51 Q89.1401 1431.51 87.3114 1435.08 Q85.5058 1438.62 85.5058 1445.75 Q85.5058 1452.86 87.3114 1456.42 Q89.1401 1459.96 92.7512 1459.96 Q96.3854 1459.96 98.1909 1456.42 Q100.02 1452.86 100.02 1445.75 Q100.02 1438.62 98.1909 1435.08 Q96.3854 1431.51 92.7512 1431.51 M92.7512 1427.81 Q98.5613 1427.81 101.617 1432.42 Q104.696 1437 104.696 1445.75 Q104.696 1454.48 101.617 1459.08 Q98.5613 1463.67 92.7512 1463.67 Q86.941 1463.67 83.8623 1459.08 Q80.8068 1454.48 80.8068 1445.75 Q80.8068 1437 83.8623 1432.42 Q86.941 1427.81 92.7512 1427.81 Z\" fill=\"#000000\" fill-rule=\"evenodd\" fill-opacity=\"1\" /><path clip-path=\"url(#clip230)\" d=\"M83.7929 1121.17 L102.149 1121.17 L102.149 1125.11 L88.0753 1125.11 L88.0753 1133.58 Q89.0938 1133.23 90.1123 1133.07 Q91.1308 1132.88 92.1493 1132.88 Q97.9363 1132.88 101.316 1136.06 Q104.696 1139.23 104.696 1144.64 Q104.696 1150.22 101.223 1153.32 Q97.7511 1156.4 91.4317 1156.4 Q89.2558 1156.4 86.9873 1156.03 Q84.7419 1155.66 82.3346 1154.92 L82.3346 1150.22 Q84.4179 1151.36 86.6401 1151.91 Q88.8623 1152.47 91.3391 1152.47 Q95.3437 1152.47 97.6817 1150.36 Q100.02 1148.25 100.02 1144.64 Q100.02 1141.03 97.6817 1138.93 Q95.3437 1136.82 91.3391 1136.82 Q89.4641 1136.82 87.5892 1137.24 Q85.7373 1137.65 83.7929 1138.53 L83.7929 1121.17 Z\" fill=\"#000000\" fill-rule=\"evenodd\" fill-opacity=\"1\" /><path clip-path=\"url(#clip230)\" d=\"M53.3995 844.531 L61.0384 844.531 L61.0384 818.166 L52.7282 819.832 L52.7282 815.573 L60.9921 813.906 L65.668 813.906 L65.668 844.531 L73.3068 844.531 L73.3068 848.466 L53.3995 848.466 L53.3995 844.531 Z\" fill=\"#000000\" fill-rule=\"evenodd\" fill-opacity=\"1\" /><path clip-path=\"url(#clip230)\" d=\"M92.7512 816.985 Q89.1401 816.985 87.3114 820.55 Q85.5058 824.091 85.5058 831.221 Q85.5058 838.327 87.3114 841.892 Q89.1401 845.434 92.7512 845.434 Q96.3854 845.434 98.1909 841.892 Q100.02 838.327 100.02 831.221 Q100.02 824.091 98.1909 820.55 Q96.3854 816.985 92.7512 816.985 M92.7512 813.281 Q98.5613 813.281 101.617 817.888 Q104.696 822.471 104.696 831.221 Q104.696 839.948 101.617 844.554 Q98.5613 849.138 92.7512 849.138 Q86.941 849.138 83.8623 844.554 Q80.8068 839.948 80.8068 831.221 Q80.8068 822.471 83.8623 817.888 Q86.941 813.281 92.7512 813.281 Z\" fill=\"#000000\" fill-rule=\"evenodd\" fill-opacity=\"1\" /><path clip-path=\"url(#clip230)\" d=\"M54.3949 537.266 L62.0337 537.266 L62.0337 510.901 L53.7236 512.567 L53.7236 508.308 L61.9874 506.642 L66.6633 506.642 L66.6633 537.266 L74.3022 537.266 L74.3022 541.202 L54.3949 541.202 L54.3949 537.266 Z\" fill=\"#000000\" fill-rule=\"evenodd\" fill-opacity=\"1\" /><path clip-path=\"url(#clip230)\" d=\"M83.7929 506.642 L102.149 506.642 L102.149 510.577 L88.0753 510.577 L88.0753 519.049 Q89.0938 518.702 90.1123 518.54 Q91.1308 518.354 92.1493 518.354 Q97.9363 518.354 101.316 521.526 Q104.696 524.697 104.696 530.114 Q104.696 535.692 101.223 538.794 Q97.7511 541.873 91.4317 541.873 Q89.2558 541.873 86.9873 541.502 Q84.7419 541.132 82.3346 540.391 L82.3346 535.692 Q84.4179 536.827 86.6401 537.382 Q88.8623 537.938 91.3391 537.938 Q95.3437 537.938 97.6817 535.831 Q100.02 533.725 100.02 530.114 Q100.02 526.503 97.6817 524.396 Q95.3437 522.29 91.3391 522.29 Q89.4641 522.29 87.5892 522.706 Q85.7373 523.123 83.7929 524.003 L83.7929 506.642 Z\" fill=\"#000000\" fill-rule=\"evenodd\" fill-opacity=\"1\" /><path clip-path=\"url(#clip230)\" d=\"M56.6171 230.002 L72.9365 230.002 L72.9365 233.937 L50.9921 233.937 L50.9921 230.002 Q53.6541 227.247 58.2375 222.617 Q62.8439 217.965 64.0245 216.622 Q66.2698 214.099 67.1494 212.363 Q68.0522 210.604 68.0522 208.914 Q68.0522 206.159 66.1078 204.423 Q64.1865 202.687 61.0847 202.687 Q58.8856 202.687 56.4319 203.451 Q54.0014 204.215 51.2236 205.766 L51.2236 201.044 Q54.0477 199.909 56.5014 199.331 Q58.955 198.752 60.9921 198.752 Q66.3624 198.752 69.5568 201.437 Q72.7513 204.122 72.7513 208.613 Q72.7513 210.743 71.9411 212.664 Q71.1541 214.562 69.0476 217.155 Q68.4689 217.826 65.367 221.043 Q62.2652 224.238 56.6171 230.002 Z\" fill=\"#000000\" fill-rule=\"evenodd\" fill-opacity=\"1\" /><path clip-path=\"url(#clip230)\" d=\"M92.7512 202.456 Q89.1401 202.456 87.3114 206.02 Q85.5058 209.562 85.5058 216.692 Q85.5058 223.798 87.3114 227.363 Q89.1401 230.904 92.7512 230.904 Q96.3854 230.904 98.1909 227.363 Q100.02 223.798 100.02 216.692 Q100.02 209.562 98.1909 206.02 Q96.3854 202.456 92.7512 202.456 M92.7512 198.752 Q98.5613 198.752 101.617 203.358 Q104.696 207.942 104.696 216.692 Q104.696 225.418 101.617 230.025 Q98.5613 234.608 92.7512 234.608 Q86.941 234.608 83.8623 230.025 Q80.8068 225.418 80.8068 216.692 Q80.8068 207.942 83.8623 203.358 Q86.941 198.752 92.7512 198.752 Z\" fill=\"#000000\" fill-rule=\"evenodd\" fill-opacity=\"1\" /><polyline clip-path=\"url(#clip232)\" style=\"stroke:#009af9; stroke-linecap:butt; stroke-linejoin:round; stroke-width:4; stroke-opacity:1; fill:none\" points=\"\n",
       "  203.301,1445.72 725.013,1445.72 1246.73,1445.72 1768.44,1445.72 2290.15,1445.72 \n",
       "  \"/>\n",
       "<polyline clip-path=\"url(#clip232)\" style=\"stroke:#e26f46; stroke-linecap:butt; stroke-linejoin:round; stroke-width:4; stroke-opacity:1; fill:none\" points=\"\n",
       "  203.301,1445.72 725.013,1445.72 1246.73,1445.72 1768.44,1445.72 2290.15,1445.72 \n",
       "  \"/>\n",
       "<polyline clip-path=\"url(#clip232)\" style=\"stroke:#3da44d; stroke-linecap:butt; stroke-linejoin:round; stroke-width:4; stroke-opacity:1; fill:none\" points=\"\n",
       "  203.301,1445.72 725.013,1445.72 1246.73,1445.72 1768.44,1445.72 2290.15,1445.72 \n",
       "  \"/>\n",
       "<polyline clip-path=\"url(#clip232)\" style=\"stroke:#c271d2; stroke-linecap:butt; stroke-linejoin:round; stroke-width:4; stroke-opacity:1; fill:none\" points=\"\n",
       "  203.301,1445.72 725.013,1445.72 1246.73,1445.72 1768.44,1445.72 2290.15,1445.72 \n",
       "  \"/>\n",
       "<polyline clip-path=\"url(#clip232)\" style=\"stroke:#ac8d18; stroke-linecap:butt; stroke-linejoin:round; stroke-width:4; stroke-opacity:1; fill:none\" points=\"\n",
       "  203.301,370.443 725.013,370.443 1246.73,370.443 1768.44,370.443 2290.15,370.443 \n",
       "  \"/>\n",
       "<polyline clip-path=\"url(#clip232)\" style=\"stroke:#00a9ad; stroke-linecap:butt; stroke-linejoin:round; stroke-width:4; stroke-opacity:1; fill:none\" points=\"\n",
       "  203.301,1302.45 725.013,1302.45 1246.73,1302.45 1768.44,1302.45 2290.15,1302.45 \n",
       "  \"/>\n",
       "<polyline clip-path=\"url(#clip232)\" style=\"stroke:#ed5d92; stroke-linecap:butt; stroke-linejoin:round; stroke-width:4; stroke-opacity:1; fill:none\" points=\"\n",
       "  203.301,1445.72 725.013,1445.72 1246.73,1445.72 1768.44,1445.72 2290.15,1445.72 \n",
       "  \"/>\n",
       "<polyline clip-path=\"url(#clip232)\" style=\"stroke:#c68125; stroke-linecap:butt; stroke-linejoin:round; stroke-width:4; stroke-opacity:1; fill:none\" points=\"\n",
       "  203.301,868.35 725.013,868.35 1246.73,868.35 1768.44,868.35 2290.15,868.35 \n",
       "  \"/>\n",
       "<polyline clip-path=\"url(#clip232)\" style=\"stroke:#00a98d; stroke-linecap:butt; stroke-linejoin:round; stroke-width:4; stroke-opacity:1; fill:none\" points=\"\n",
       "  203.301,1445.72 725.013,1445.72 1246.73,1445.72 1768.44,1445.72 2290.15,1445.72 \n",
       "  \"/>\n",
       "<polyline clip-path=\"url(#clip232)\" style=\"stroke:#8e971d; stroke-linecap:butt; stroke-linejoin:round; stroke-width:4; stroke-opacity:1; fill:none\" points=\"\n",
       "  203.301,331.687 725.013,331.687 1246.73,331.687 1768.44,331.687 2290.15,331.687 \n",
       "  \"/>\n",
       "<polyline clip-path=\"url(#clip232)\" style=\"stroke:#00a8cb; stroke-linecap:butt; stroke-linejoin:round; stroke-width:4; stroke-opacity:1; fill:none\" points=\"\n",
       "  203.301,947.838 725.013,947.838 1246.73,947.838 1768.44,947.838 2290.15,947.838 \n",
       "  \"/>\n",
       "<polyline clip-path=\"url(#clip232)\" style=\"stroke:#9b7fe8; stroke-linecap:butt; stroke-linejoin:round; stroke-width:4; stroke-opacity:1; fill:none\" points=\"\n",
       "  203.301,1250.25 725.013,1250.25 1246.73,1250.25 1768.44,1250.25 2290.15,1250.25 \n",
       "  \"/>\n",
       "<polyline clip-path=\"url(#clip232)\" style=\"stroke:#608cf6; stroke-linecap:butt; stroke-linejoin:round; stroke-width:4; stroke-opacity:1; fill:none\" points=\"\n",
       "  203.301,981.352 725.013,981.352 1246.73,981.352 1768.44,981.352 2290.15,981.352 \n",
       "  \"/>\n",
       "<polyline clip-path=\"url(#clip232)\" style=\"stroke:#f05f73; stroke-linecap:butt; stroke-linejoin:round; stroke-width:4; stroke-opacity:1; fill:none\" points=\"\n",
       "  203.301,330.181 725.013,330.181 1246.73,330.181 1768.44,330.181 2290.15,330.181 \n",
       "  \"/>\n",
       "<polyline clip-path=\"url(#clip232)\" style=\"stroke:#dd64b5; stroke-linecap:butt; stroke-linejoin:round; stroke-width:4; stroke-opacity:1; fill:none\" points=\"\n",
       "  203.301,1445.72 725.013,1445.72 1246.73,1445.72 1768.44,1445.72 2290.15,1445.72 \n",
       "  \"/>\n",
       "<polyline clip-path=\"url(#clip232)\" style=\"stroke:#6b9e32; stroke-linecap:butt; stroke-linejoin:round; stroke-width:4; stroke-opacity:1; fill:none\" points=\"\n",
       "  203.301,1188.08 725.013,1188.08 1246.73,1188.08 1768.44,1188.08 2290.15,1188.08 \n",
       "  \"/>\n",
       "<polyline clip-path=\"url(#clip232)\" style=\"stroke:#009af9; stroke-linecap:butt; stroke-linejoin:round; stroke-width:4; stroke-opacity:1; fill:none\" points=\"\n",
       "  203.301,1087.43 725.013,1087.43 1246.73,1087.43 1768.44,1087.43 2290.15,1087.43 \n",
       "  \"/>\n",
       "<polyline clip-path=\"url(#clip232)\" style=\"stroke:#e26f46; stroke-linecap:butt; stroke-linejoin:round; stroke-width:4; stroke-opacity:1; fill:none\" points=\"\n",
       "  203.301,87.9763 725.013,87.9763 1246.73,87.9763 1768.44,87.9763 2290.15,87.9763 \n",
       "  \"/>\n",
       "<polyline clip-path=\"url(#clip232)\" style=\"stroke:#3da44d; stroke-linecap:butt; stroke-linejoin:round; stroke-width:4; stroke-opacity:1; fill:none\" points=\"\n",
       "  203.301,1174.75 725.013,1174.75 1246.73,1174.75 1768.44,1174.75 2290.15,1174.75 \n",
       "  \"/>\n",
       "<polyline clip-path=\"url(#clip232)\" style=\"stroke:#c271d2; stroke-linecap:butt; stroke-linejoin:round; stroke-width:4; stroke-opacity:1; fill:none\" points=\"\n",
       "  203.301,1445.72 725.013,1445.72 1246.73,1445.72 1768.44,1445.72 2290.15,1445.72 \n",
       "  \"/>\n",
       "<polyline clip-path=\"url(#clip232)\" style=\"stroke:#ac8d18; stroke-linecap:butt; stroke-linejoin:round; stroke-width:4; stroke-opacity:1; fill:none\" points=\"\n",
       "  203.301,835.558 725.013,835.558 1246.73,835.558 1768.44,835.558 2290.15,835.558 \n",
       "  \"/>\n",
       "<polyline clip-path=\"url(#clip232)\" style=\"stroke:#00a9ad; stroke-linecap:butt; stroke-linejoin:round; stroke-width:4; stroke-opacity:1; fill:none\" points=\"\n",
       "  203.301,1445.72 725.013,1445.72 1246.73,1445.72 1768.44,1445.72 2290.15,1445.72 \n",
       "  \"/>\n",
       "<polyline clip-path=\"url(#clip232)\" style=\"stroke:#ed5d92; stroke-linecap:butt; stroke-linejoin:round; stroke-width:4; stroke-opacity:1; fill:none\" points=\"\n",
       "  203.301,1055.43 725.013,1055.43 1246.73,1055.43 1768.44,1055.43 2290.15,1055.43 \n",
       "  \"/>\n",
       "<polyline clip-path=\"url(#clip232)\" style=\"stroke:#c68125; stroke-linecap:butt; stroke-linejoin:round; stroke-width:4; stroke-opacity:1; fill:none\" points=\"\n",
       "  203.301,983.558 725.013,983.558 1246.73,983.558 1768.44,983.558 2290.15,983.558 \n",
       "  \"/>\n",
       "<polyline clip-path=\"url(#clip232)\" style=\"stroke:#00a98d; stroke-linecap:butt; stroke-linejoin:round; stroke-width:4; stroke-opacity:1; fill:none\" points=\"\n",
       "  203.301,705.02 725.013,705.02 1246.73,705.02 1768.44,705.02 2290.15,705.02 \n",
       "  \"/>\n",
       "<polyline clip-path=\"url(#clip232)\" style=\"stroke:#8e971d; stroke-linecap:butt; stroke-linejoin:round; stroke-width:4; stroke-opacity:1; fill:none\" points=\"\n",
       "  203.301,1062.13 725.013,1062.13 1246.73,1062.13 1768.44,1062.13 2290.15,1062.13 \n",
       "  \"/>\n",
       "<polyline clip-path=\"url(#clip232)\" style=\"stroke:#00a8cb; stroke-linecap:butt; stroke-linejoin:round; stroke-width:4; stroke-opacity:1; fill:none\" points=\"\n",
       "  203.301,823.83 725.013,823.83 1246.73,823.83 1768.44,823.83 2290.15,823.83 \n",
       "  \"/>\n",
       "<polyline clip-path=\"url(#clip232)\" style=\"stroke:#9b7fe8; stroke-linecap:butt; stroke-linejoin:round; stroke-width:4; stroke-opacity:1; fill:none\" points=\"\n",
       "  203.301,1211.03 725.013,1211.03 1246.73,1211.03 1768.44,1211.03 2290.15,1211.03 \n",
       "  \"/>\n",
       "<polyline clip-path=\"url(#clip232)\" style=\"stroke:#608cf6; stroke-linecap:butt; stroke-linejoin:round; stroke-width:4; stroke-opacity:1; fill:none\" points=\"\n",
       "  203.301,1445.72 725.013,1445.72 1246.73,1445.72 1768.44,1445.72 2290.15,1445.72 \n",
       "  \"/>\n",
       "<polyline clip-path=\"url(#clip232)\" style=\"stroke:#f05f73; stroke-linecap:butt; stroke-linejoin:round; stroke-width:4; stroke-opacity:1; fill:none\" points=\"\n",
       "  203.301,570.074 725.013,570.074 1246.73,570.074 1768.44,570.074 2290.15,570.074 \n",
       "  \"/>\n",
       "<polyline clip-path=\"url(#clip232)\" style=\"stroke:#dd64b5; stroke-linecap:butt; stroke-linejoin:round; stroke-width:4; stroke-opacity:1; fill:none\" points=\"\n",
       "  203.301,1445.72 725.013,1445.72 1246.73,1445.72 1768.44,1445.72 2290.15,1445.72 \n",
       "  \"/>\n",
       "<polyline clip-path=\"url(#clip232)\" style=\"stroke:#6b9e32; stroke-linecap:butt; stroke-linejoin:round; stroke-width:4; stroke-opacity:1; fill:none\" points=\"\n",
       "  203.301,1445.72 725.013,1445.72 1246.73,1445.72 1768.44,1445.72 2290.15,1445.72 \n",
       "  \"/>\n",
       "<polyline clip-path=\"url(#clip232)\" style=\"stroke:#009af9; stroke-linecap:butt; stroke-linejoin:round; stroke-width:4; stroke-opacity:1; fill:none\" points=\"\n",
       "  203.301,616.099 725.013,616.099 1246.73,616.099 1768.44,616.099 2290.15,616.099 \n",
       "  \"/>\n",
       "<polyline clip-path=\"url(#clip232)\" style=\"stroke:#e26f46; stroke-linecap:butt; stroke-linejoin:round; stroke-width:4; stroke-opacity:1; fill:none\" points=\"\n",
       "  203.301,1445.72 725.013,1445.72 1246.73,1445.72 1768.44,1445.72 2290.15,1445.72 \n",
       "  \"/>\n",
       "<polyline clip-path=\"url(#clip232)\" style=\"stroke:#3da44d; stroke-linecap:butt; stroke-linejoin:round; stroke-width:4; stroke-opacity:1; fill:none\" points=\"\n",
       "  203.301,1445.72 725.013,1445.72 1246.73,1445.72 1768.44,1445.72 2290.15,1445.72 \n",
       "  \"/>\n",
       "<polyline clip-path=\"url(#clip232)\" style=\"stroke:#c271d2; stroke-linecap:butt; stroke-linejoin:round; stroke-width:4; stroke-opacity:1; fill:none\" points=\"\n",
       "  203.301,1445.72 725.013,1445.72 1246.73,1445.72 1768.44,1445.72 2290.15,1445.72 \n",
       "  \"/>\n",
       "<polyline clip-path=\"url(#clip232)\" style=\"stroke:#ac8d18; stroke-linecap:butt; stroke-linejoin:round; stroke-width:4; stroke-opacity:1; fill:none\" points=\"\n",
       "  203.301,1445.72 725.013,1445.72 1246.73,1445.72 1768.44,1445.72 2290.15,1445.72 \n",
       "  \"/>\n",
       "<polyline clip-path=\"url(#clip232)\" style=\"stroke:#00a9ad; stroke-linecap:butt; stroke-linejoin:round; stroke-width:4; stroke-opacity:1; fill:none\" points=\"\n",
       "  203.301,1123.9 725.013,1123.9 1246.73,1123.9 1768.44,1123.9 2290.15,1123.9 \n",
       "  \"/>\n",
       "<polyline clip-path=\"url(#clip232)\" style=\"stroke:#ed5d92; stroke-linecap:butt; stroke-linejoin:round; stroke-width:4; stroke-opacity:1; fill:none\" points=\"\n",
       "  203.301,1445.72 725.013,1445.72 1246.73,1445.72 1768.44,1445.72 2290.15,1445.72 \n",
       "  \"/>\n",
       "<polyline clip-path=\"url(#clip232)\" style=\"stroke:#c68125; stroke-linecap:butt; stroke-linejoin:round; stroke-width:4; stroke-opacity:1; fill:none\" points=\"\n",
       "  203.301,1445.72 725.013,1445.72 1246.73,1445.72 1768.44,1445.72 2290.15,1445.72 \n",
       "  \"/>\n",
       "<polyline clip-path=\"url(#clip232)\" style=\"stroke:#00a98d; stroke-linecap:butt; stroke-linejoin:round; stroke-width:4; stroke-opacity:1; fill:none\" points=\"\n",
       "  203.301,931.562 725.013,931.562 1246.73,931.562 1768.44,931.562 2290.15,931.562 \n",
       "  \"/>\n",
       "<polyline clip-path=\"url(#clip232)\" style=\"stroke:#8e971d; stroke-linecap:butt; stroke-linejoin:round; stroke-width:4; stroke-opacity:1; fill:none\" points=\"\n",
       "  203.301,1056.49 725.013,1056.49 1246.73,1056.49 1768.44,1056.49 2290.15,1056.49 \n",
       "  \"/>\n",
       "<polyline clip-path=\"url(#clip232)\" style=\"stroke:#00a8cb; stroke-linecap:butt; stroke-linejoin:round; stroke-width:4; stroke-opacity:1; fill:none\" points=\"\n",
       "  203.301,1445.72 725.013,1445.72 1246.73,1445.72 1768.44,1445.72 2290.15,1445.72 \n",
       "  \"/>\n",
       "<polyline clip-path=\"url(#clip232)\" style=\"stroke:#9b7fe8; stroke-linecap:butt; stroke-linejoin:round; stroke-width:4; stroke-opacity:1; fill:none\" points=\"\n",
       "  203.301,1445.14 725.013,1445.14 1246.73,1445.14 1768.44,1445.14 2290.15,1445.14 \n",
       "  \"/>\n",
       "<polyline clip-path=\"url(#clip232)\" style=\"stroke:#608cf6; stroke-linecap:butt; stroke-linejoin:round; stroke-width:4; stroke-opacity:1; fill:none\" points=\"\n",
       "  203.301,1445.72 725.013,1445.72 1246.73,1445.72 1768.44,1445.72 2290.15,1445.72 \n",
       "  \"/>\n",
       "<polyline clip-path=\"url(#clip232)\" style=\"stroke:#f05f73; stroke-linecap:butt; stroke-linejoin:round; stroke-width:4; stroke-opacity:1; fill:none\" points=\"\n",
       "  203.301,1445.72 725.013,1445.72 1246.73,1445.72 1768.44,1445.72 2290.15,1445.72 \n",
       "  \"/>\n",
       "<polyline clip-path=\"url(#clip232)\" style=\"stroke:#dd64b5; stroke-linecap:butt; stroke-linejoin:round; stroke-width:4; stroke-opacity:1; fill:none\" points=\"\n",
       "  203.301,1445.72 725.013,1445.72 1246.73,1445.72 1768.44,1445.72 2290.15,1445.72 \n",
       "  \"/>\n",
       "<polyline clip-path=\"url(#clip232)\" style=\"stroke:#6b9e32; stroke-linecap:butt; stroke-linejoin:round; stroke-width:4; stroke-opacity:1; fill:none\" points=\"\n",
       "  203.301,1445.72 725.013,1445.72 1246.73,1445.72 1768.44,1445.72 2290.15,1445.72 \n",
       "  \"/>\n",
       "<polyline clip-path=\"url(#clip232)\" style=\"stroke:#009af9; stroke-linecap:butt; stroke-linejoin:round; stroke-width:4; stroke-opacity:1; fill:none\" points=\"\n",
       "  203.301,1445.72 725.013,1445.72 1246.73,1445.72 1768.44,1445.72 2290.15,1445.72 \n",
       "  \"/>\n",
       "<polyline clip-path=\"url(#clip232)\" style=\"stroke:#e26f46; stroke-linecap:butt; stroke-linejoin:round; stroke-width:4; stroke-opacity:1; fill:none\" points=\"\n",
       "  203.301,1445.72 725.013,1445.72 1246.73,1445.72 1768.44,1445.72 2290.15,1445.72 \n",
       "  \"/>\n",
       "<path clip-path=\"url(#clip230)\" d=\"\n",
       "M1948.93 3179.7 L2279.02 3179.7 L2279.02 95.2176 L1948.93 95.2176  Z\n",
       "  \" fill=\"#ffffff\" fill-rule=\"evenodd\" fill-opacity=\"1\"/>\n",
       "<polyline clip-path=\"url(#clip230)\" style=\"stroke:#000000; stroke-linecap:butt; stroke-linejoin:round; stroke-width:4; stroke-opacity:1; fill:none\" points=\"\n",
       "  1948.93,3179.7 2279.02,3179.7 2279.02,95.2176 1948.93,95.2176 1948.93,3179.7 \n",
       "  \"/>\n",
       "<polyline clip-path=\"url(#clip230)\" style=\"stroke:#009af9; stroke-linecap:butt; stroke-linejoin:round; stroke-width:4; stroke-opacity:1; fill:none\" points=\"\n",
       "  1973.51,155.698 2120.98,155.698 \n",
       "  \"/>\n",
       "<path clip-path=\"url(#clip230)\" d=\"M2159.4 175.385 Q2157.6 180.015 2155.88 181.427 Q2154.17 182.839 2151.3 182.839 L2147.9 182.839 L2147.9 179.274 L2150.4 179.274 Q2152.16 179.274 2153.13 178.44 Q2154.1 177.607 2155.28 174.505 L2156.04 172.561 L2145.56 147.052 L2150.07 147.052 L2158.17 167.329 L2166.28 147.052 L2170.79 147.052 L2159.4 175.385 Z\" fill=\"#000000\" fill-rule=\"evenodd\" fill-opacity=\"1\" /><path clip-path=\"url(#clip230)\" d=\"M2178.08 169.042 L2185.72 169.042 L2185.72 142.677 L2177.41 144.343 L2177.41 140.084 L2185.67 138.418 L2190.35 138.418 L2190.35 169.042 L2197.99 169.042 L2197.99 172.978 L2178.08 172.978 L2178.08 169.042 Z\" fill=\"#000000\" fill-rule=\"evenodd\" fill-opacity=\"1\" /><polyline clip-path=\"url(#clip230)\" style=\"stroke:#e26f46; stroke-linecap:butt; stroke-linejoin:round; stroke-width:4; stroke-opacity:1; fill:none\" points=\"\n",
       "  1973.51,216.178 2120.98,216.178 \n",
       "  \"/>\n",
       "<path clip-path=\"url(#clip230)\" d=\"M2159.4 235.865 Q2157.6 240.495 2155.88 241.907 Q2154.17 243.319 2151.3 243.319 L2147.9 243.319 L2147.9 239.754 L2150.4 239.754 Q2152.16 239.754 2153.13 238.92 Q2154.1 238.087 2155.28 234.985 L2156.04 233.041 L2145.56 207.532 L2150.07 207.532 L2158.17 227.809 L2166.28 207.532 L2170.79 207.532 L2159.4 235.865 Z\" fill=\"#000000\" fill-rule=\"evenodd\" fill-opacity=\"1\" /><path clip-path=\"url(#clip230)\" d=\"M2181.3 229.522 L2197.62 229.522 L2197.62 233.458 L2175.67 233.458 L2175.67 229.522 Q2178.34 226.768 2182.92 222.138 Q2187.53 217.485 2188.71 216.143 Q2190.95 213.62 2191.83 211.884 Q2192.73 210.124 2192.73 208.435 Q2192.73 205.68 2190.79 203.944 Q2188.87 202.208 2185.77 202.208 Q2183.57 202.208 2181.11 202.972 Q2178.68 203.735 2175.91 205.286 L2175.91 200.564 Q2178.73 199.43 2181.18 198.851 Q2183.64 198.273 2185.67 198.273 Q2191.04 198.273 2194.24 200.958 Q2197.43 203.643 2197.43 208.134 Q2197.43 210.263 2196.62 212.185 Q2195.84 214.083 2193.73 216.675 Q2193.15 217.347 2190.05 220.564 Q2186.95 223.759 2181.3 229.522 Z\" fill=\"#000000\" fill-rule=\"evenodd\" fill-opacity=\"1\" /><polyline clip-path=\"url(#clip230)\" style=\"stroke:#3da44d; stroke-linecap:butt; stroke-linejoin:round; stroke-width:4; stroke-opacity:1; fill:none\" points=\"\n",
       "  1973.51,276.658 2120.98,276.658 \n",
       "  \"/>\n",
       "<path clip-path=\"url(#clip230)\" d=\"M2159.4 296.345 Q2157.6 300.975 2155.88 302.387 Q2154.17 303.799 2151.3 303.799 L2147.9 303.799 L2147.9 300.234 L2150.4 300.234 Q2152.16 300.234 2153.13 299.4 Q2154.1 298.567 2155.28 295.465 L2156.04 293.521 L2145.56 268.012 L2150.07 268.012 L2158.17 288.289 L2166.28 268.012 L2170.79 268.012 L2159.4 296.345 Z\" fill=\"#000000\" fill-rule=\"evenodd\" fill-opacity=\"1\" /><path clip-path=\"url(#clip230)\" d=\"M2191.44 275.303 Q2194.79 276.021 2196.67 278.289 Q2198.57 280.558 2198.57 283.891 Q2198.57 289.007 2195.05 291.808 Q2191.53 294.609 2185.05 294.609 Q2182.87 294.609 2180.56 294.169 Q2178.27 293.752 2175.81 292.896 L2175.81 288.382 Q2177.76 289.516 2180.07 290.095 Q2182.39 290.674 2184.91 290.674 Q2189.31 290.674 2191.6 288.938 Q2193.91 287.201 2193.91 283.891 Q2193.91 280.836 2191.76 279.123 Q2189.63 277.387 2185.81 277.387 L2181.79 277.387 L2181.79 273.544 L2186 273.544 Q2189.45 273.544 2191.28 272.178 Q2193.1 270.79 2193.1 268.197 Q2193.1 265.535 2191.21 264.123 Q2189.33 262.688 2185.81 262.688 Q2183.89 262.688 2181.69 263.104 Q2179.49 263.521 2176.85 264.401 L2176.85 260.234 Q2179.52 259.493 2181.83 259.123 Q2184.17 258.753 2186.23 258.753 Q2191.55 258.753 2194.66 261.183 Q2197.76 263.59 2197.76 267.711 Q2197.76 270.581 2196.11 272.572 Q2194.47 274.54 2191.44 275.303 Z\" fill=\"#000000\" fill-rule=\"evenodd\" fill-opacity=\"1\" /><polyline clip-path=\"url(#clip230)\" style=\"stroke:#c271d2; stroke-linecap:butt; stroke-linejoin:round; stroke-width:4; stroke-opacity:1; fill:none\" points=\"\n",
       "  1973.51,337.138 2120.98,337.138 \n",
       "  \"/>\n",
       "<path clip-path=\"url(#clip230)\" d=\"M2159.4 356.825 Q2157.6 361.455 2155.88 362.867 Q2154.17 364.279 2151.3 364.279 L2147.9 364.279 L2147.9 360.714 L2150.4 360.714 Q2152.16 360.714 2153.13 359.88 Q2154.1 359.047 2155.28 355.945 L2156.04 354.001 L2145.56 328.492 L2150.07 328.492 L2158.17 348.769 L2166.28 328.492 L2170.79 328.492 L2159.4 356.825 Z\" fill=\"#000000\" fill-rule=\"evenodd\" fill-opacity=\"1\" /><path clip-path=\"url(#clip230)\" d=\"M2190.12 323.932 L2178.31 342.381 L2190.12 342.381 L2190.12 323.932 M2188.89 319.858 L2194.77 319.858 L2194.77 342.381 L2199.7 342.381 L2199.7 346.269 L2194.77 346.269 L2194.77 354.418 L2190.12 354.418 L2190.12 346.269 L2174.52 346.269 L2174.52 341.756 L2188.89 319.858 Z\" fill=\"#000000\" fill-rule=\"evenodd\" fill-opacity=\"1\" /><polyline clip-path=\"url(#clip230)\" style=\"stroke:#ac8d18; stroke-linecap:butt; stroke-linejoin:round; stroke-width:4; stroke-opacity:1; fill:none\" points=\"\n",
       "  1973.51,397.618 2120.98,397.618 \n",
       "  \"/>\n",
       "<path clip-path=\"url(#clip230)\" d=\"M2159.4 417.305 Q2157.6 421.935 2155.88 423.347 Q2154.17 424.759 2151.3 424.759 L2147.9 424.759 L2147.9 421.194 L2150.4 421.194 Q2152.16 421.194 2153.13 420.36 Q2154.1 419.527 2155.28 416.425 L2156.04 414.481 L2145.56 388.972 L2150.07 388.972 L2158.17 409.249 L2166.28 388.972 L2170.79 388.972 L2159.4 417.305 Z\" fill=\"#000000\" fill-rule=\"evenodd\" fill-opacity=\"1\" /><path clip-path=\"url(#clip230)\" d=\"M2177.32 380.338 L2195.67 380.338 L2195.67 384.273 L2181.6 384.273 L2181.6 392.745 Q2182.62 392.398 2183.64 392.236 Q2184.66 392.05 2185.67 392.05 Q2191.46 392.05 2194.84 395.222 Q2198.22 398.393 2198.22 403.81 Q2198.22 409.388 2194.75 412.49 Q2191.28 415.569 2184.96 415.569 Q2182.78 415.569 2180.51 415.198 Q2178.27 414.828 2175.86 414.087 L2175.86 409.388 Q2177.94 410.523 2180.16 411.078 Q2182.39 411.634 2184.86 411.634 Q2188.87 411.634 2191.21 409.527 Q2193.54 407.421 2193.54 403.81 Q2193.54 400.199 2191.21 398.092 Q2188.87 395.986 2184.86 395.986 Q2182.99 395.986 2181.11 396.402 Q2179.26 396.819 2177.32 397.699 L2177.32 380.338 Z\" fill=\"#000000\" fill-rule=\"evenodd\" fill-opacity=\"1\" /><polyline clip-path=\"url(#clip230)\" style=\"stroke:#00a9ad; stroke-linecap:butt; stroke-linejoin:round; stroke-width:4; stroke-opacity:1; fill:none\" points=\"\n",
       "  1973.51,458.098 2120.98,458.098 \n",
       "  \"/>\n",
       "<path clip-path=\"url(#clip230)\" d=\"M2159.4 477.785 Q2157.6 482.415 2155.88 483.827 Q2154.17 485.239 2151.3 485.239 L2147.9 485.239 L2147.9 481.674 L2150.4 481.674 Q2152.16 481.674 2153.13 480.84 Q2154.1 480.007 2155.28 476.905 L2156.04 474.961 L2145.56 449.452 L2150.07 449.452 L2158.17 469.729 L2166.28 449.452 L2170.79 449.452 L2159.4 477.785 Z\" fill=\"#000000\" fill-rule=\"evenodd\" fill-opacity=\"1\" /><path clip-path=\"url(#clip230)\" d=\"M2187.85 456.234 Q2184.7 456.234 2182.85 458.387 Q2181.02 460.54 2181.02 464.29 Q2181.02 468.016 2182.85 470.192 Q2184.7 472.345 2187.85 472.345 Q2191 472.345 2192.83 470.192 Q2194.68 468.016 2194.68 464.29 Q2194.68 460.54 2192.83 458.387 Q2191 456.234 2187.85 456.234 M2197.13 441.581 L2197.13 445.841 Q2195.37 445.007 2193.57 444.568 Q2191.79 444.128 2190.03 444.128 Q2185.4 444.128 2182.94 447.253 Q2180.51 450.378 2180.16 456.697 Q2181.53 454.683 2183.59 453.618 Q2185.65 452.53 2188.13 452.53 Q2193.34 452.53 2196.35 455.702 Q2199.38 458.85 2199.38 464.29 Q2199.38 469.614 2196.23 472.831 Q2193.08 476.049 2187.85 476.049 Q2181.85 476.049 2178.68 471.466 Q2175.51 466.859 2175.51 458.132 Q2175.51 449.938 2179.4 445.077 Q2183.29 440.193 2189.84 440.193 Q2191.6 440.193 2193.38 440.54 Q2195.19 440.887 2197.13 441.581 Z\" fill=\"#000000\" fill-rule=\"evenodd\" fill-opacity=\"1\" /><polyline clip-path=\"url(#clip230)\" style=\"stroke:#ed5d92; stroke-linecap:butt; stroke-linejoin:round; stroke-width:4; stroke-opacity:1; fill:none\" points=\"\n",
       "  1973.51,518.578 2120.98,518.578 \n",
       "  \"/>\n",
       "<path clip-path=\"url(#clip230)\" d=\"M2159.4 538.265 Q2157.6 542.895 2155.88 544.307 Q2154.17 545.719 2151.3 545.719 L2147.9 545.719 L2147.9 542.154 L2150.4 542.154 Q2152.16 542.154 2153.13 541.32 Q2154.1 540.487 2155.28 537.385 L2156.04 535.441 L2145.56 509.932 L2150.07 509.932 L2158.17 530.209 L2166.28 509.932 L2170.79 509.932 L2159.4 538.265 Z\" fill=\"#000000\" fill-rule=\"evenodd\" fill-opacity=\"1\" /><path clip-path=\"url(#clip230)\" d=\"M2176.09 501.298 L2198.31 501.298 L2198.31 503.288 L2185.77 535.858 L2180.88 535.858 L2192.69 505.233 L2176.09 505.233 L2176.09 501.298 Z\" fill=\"#000000\" fill-rule=\"evenodd\" fill-opacity=\"1\" /><polyline clip-path=\"url(#clip230)\" style=\"stroke:#c68125; stroke-linecap:butt; stroke-linejoin:round; stroke-width:4; stroke-opacity:1; fill:none\" points=\"\n",
       "  1973.51,579.058 2120.98,579.058 \n",
       "  \"/>\n",
       "<path clip-path=\"url(#clip230)\" d=\"M2159.4 598.745 Q2157.6 603.375 2155.88 604.787 Q2154.17 606.199 2151.3 606.199 L2147.9 606.199 L2147.9 602.634 L2150.4 602.634 Q2152.16 602.634 2153.13 601.8 Q2154.1 600.967 2155.28 597.865 L2156.04 595.921 L2145.56 570.412 L2150.07 570.412 L2158.17 590.689 L2166.28 570.412 L2170.79 570.412 L2159.4 598.745 Z\" fill=\"#000000\" fill-rule=\"evenodd\" fill-opacity=\"1\" /><path clip-path=\"url(#clip230)\" d=\"M2187.27 579.926 Q2183.94 579.926 2182.02 581.708 Q2180.12 583.49 2180.12 586.615 Q2180.12 589.74 2182.02 591.523 Q2183.94 593.305 2187.27 593.305 Q2190.6 593.305 2192.53 591.523 Q2194.45 589.717 2194.45 586.615 Q2194.45 583.49 2192.53 581.708 Q2190.63 579.926 2187.27 579.926 M2182.6 577.935 Q2179.59 577.194 2177.9 575.134 Q2176.23 573.074 2176.23 570.111 Q2176.23 565.967 2179.17 563.56 Q2182.13 561.153 2187.27 561.153 Q2192.43 561.153 2195.37 563.56 Q2198.31 565.967 2198.31 570.111 Q2198.31 573.074 2196.62 575.134 Q2194.96 577.194 2191.97 577.935 Q2195.35 578.722 2197.22 581.014 Q2199.12 583.305 2199.12 586.615 Q2199.12 591.639 2196.04 594.324 Q2192.99 597.009 2187.27 597.009 Q2181.55 597.009 2178.48 594.324 Q2175.42 591.639 2175.42 586.615 Q2175.42 583.305 2177.32 581.014 Q2179.22 578.722 2182.6 577.935 M2180.88 570.551 Q2180.88 573.236 2182.55 574.74 Q2184.24 576.245 2187.27 576.245 Q2190.28 576.245 2191.97 574.74 Q2193.68 573.236 2193.68 570.551 Q2193.68 567.865 2191.97 566.361 Q2190.28 564.856 2187.27 564.856 Q2184.24 564.856 2182.55 566.361 Q2180.88 567.865 2180.88 570.551 Z\" fill=\"#000000\" fill-rule=\"evenodd\" fill-opacity=\"1\" /><polyline clip-path=\"url(#clip230)\" style=\"stroke:#00a98d; stroke-linecap:butt; stroke-linejoin:round; stroke-width:4; stroke-opacity:1; fill:none\" points=\"\n",
       "  1973.51,639.538 2120.98,639.538 \n",
       "  \"/>\n",
       "<path clip-path=\"url(#clip230)\" d=\"M2159.4 659.225 Q2157.6 663.855 2155.88 665.267 Q2154.17 666.679 2151.3 666.679 L2147.9 666.679 L2147.9 663.114 L2150.4 663.114 Q2152.16 663.114 2153.13 662.28 Q2154.1 661.447 2155.28 658.345 L2156.04 656.401 L2145.56 630.892 L2150.07 630.892 L2158.17 651.169 L2166.28 630.892 L2170.79 630.892 L2159.4 659.225 Z\" fill=\"#000000\" fill-rule=\"evenodd\" fill-opacity=\"1\" /><path clip-path=\"url(#clip230)\" d=\"M2177.41 656.1 L2177.41 651.841 Q2179.17 652.674 2180.98 653.114 Q2182.78 653.554 2184.52 653.554 Q2189.15 653.554 2191.58 650.452 Q2194.03 647.327 2194.38 640.984 Q2193.04 642.975 2190.97 644.04 Q2188.91 645.105 2186.41 645.105 Q2181.23 645.105 2178.2 641.98 Q2175.19 638.832 2175.19 633.392 Q2175.19 628.068 2178.34 624.85 Q2181.48 621.633 2186.72 621.633 Q2192.71 621.633 2195.86 626.239 Q2199.03 630.822 2199.03 639.572 Q2199.03 647.744 2195.14 652.628 Q2191.28 657.489 2184.73 657.489 Q2182.97 657.489 2181.16 657.142 Q2179.35 656.794 2177.41 656.1 M2186.72 641.447 Q2189.86 641.447 2191.69 639.294 Q2193.54 637.142 2193.54 633.392 Q2193.54 629.665 2191.69 627.512 Q2189.86 625.336 2186.72 625.336 Q2183.57 625.336 2181.72 627.512 Q2179.89 629.665 2179.89 633.392 Q2179.89 637.142 2181.72 639.294 Q2183.57 641.447 2186.72 641.447 Z\" fill=\"#000000\" fill-rule=\"evenodd\" fill-opacity=\"1\" /><polyline clip-path=\"url(#clip230)\" style=\"stroke:#8e971d; stroke-linecap:butt; stroke-linejoin:round; stroke-width:4; stroke-opacity:1; fill:none\" points=\"\n",
       "  1973.51,700.018 2120.98,700.018 \n",
       "  \"/>\n",
       "<path clip-path=\"url(#clip230)\" d=\"M2159.4 719.705 Q2157.6 724.335 2155.88 725.747 Q2154.17 727.159 2151.3 727.159 L2147.9 727.159 L2147.9 723.594 L2150.4 723.594 Q2152.16 723.594 2153.13 722.76 Q2154.1 721.927 2155.28 718.825 L2156.04 716.881 L2145.56 691.372 L2150.07 691.372 L2158.17 711.649 L2166.28 691.372 L2170.79 691.372 L2159.4 719.705 Z\" fill=\"#000000\" fill-rule=\"evenodd\" fill-opacity=\"1\" /><path clip-path=\"url(#clip230)\" d=\"M2178.08 713.362 L2185.72 713.362 L2185.72 686.997 L2177.41 688.663 L2177.41 684.404 L2185.67 682.738 L2190.35 682.738 L2190.35 713.362 L2197.99 713.362 L2197.99 717.298 L2178.08 717.298 L2178.08 713.362 Z\" fill=\"#000000\" fill-rule=\"evenodd\" fill-opacity=\"1\" /><path clip-path=\"url(#clip230)\" d=\"M2217.43 685.816 Q2213.82 685.816 2211.99 689.381 Q2210.19 692.923 2210.19 700.052 Q2210.19 707.159 2211.99 710.724 Q2213.82 714.265 2217.43 714.265 Q2221.07 714.265 2222.87 710.724 Q2224.7 707.159 2224.7 700.052 Q2224.7 692.923 2222.87 689.381 Q2221.07 685.816 2217.43 685.816 M2217.43 682.113 Q2223.24 682.113 2226.3 686.719 Q2229.38 691.302 2229.38 700.052 Q2229.38 708.779 2226.3 713.386 Q2223.24 717.969 2217.43 717.969 Q2211.62 717.969 2208.54 713.386 Q2205.49 708.779 2205.49 700.052 Q2205.49 691.302 2208.54 686.719 Q2211.62 682.113 2217.43 682.113 Z\" fill=\"#000000\" fill-rule=\"evenodd\" fill-opacity=\"1\" /><polyline clip-path=\"url(#clip230)\" style=\"stroke:#00a8cb; stroke-linecap:butt; stroke-linejoin:round; stroke-width:4; stroke-opacity:1; fill:none\" points=\"\n",
       "  1973.51,760.498 2120.98,760.498 \n",
       "  \"/>\n",
       "<path clip-path=\"url(#clip230)\" d=\"M2159.4 780.185 Q2157.6 784.815 2155.88 786.227 Q2154.17 787.639 2151.3 787.639 L2147.9 787.639 L2147.9 784.074 L2150.4 784.074 Q2152.16 784.074 2153.13 783.24 Q2154.1 782.407 2155.28 779.305 L2156.04 777.361 L2145.56 751.852 L2150.07 751.852 L2158.17 772.129 L2166.28 751.852 L2170.79 751.852 L2159.4 780.185 Z\" fill=\"#000000\" fill-rule=\"evenodd\" fill-opacity=\"1\" /><path clip-path=\"url(#clip230)\" d=\"M2178.08 773.842 L2185.72 773.842 L2185.72 747.477 L2177.41 749.143 L2177.41 744.884 L2185.67 743.218 L2190.35 743.218 L2190.35 773.842 L2197.99 773.842 L2197.99 777.778 L2178.08 777.778 L2178.08 773.842 Z\" fill=\"#000000\" fill-rule=\"evenodd\" fill-opacity=\"1\" /><path clip-path=\"url(#clip230)\" d=\"M2208.24 773.842 L2215.88 773.842 L2215.88 747.477 L2207.57 749.143 L2207.57 744.884 L2215.84 743.218 L2220.51 743.218 L2220.51 773.842 L2228.15 773.842 L2228.15 777.778 L2208.24 777.778 L2208.24 773.842 Z\" fill=\"#000000\" fill-rule=\"evenodd\" fill-opacity=\"1\" /><polyline clip-path=\"url(#clip230)\" style=\"stroke:#9b7fe8; stroke-linecap:butt; stroke-linejoin:round; stroke-width:4; stroke-opacity:1; fill:none\" points=\"\n",
       "  1973.51,820.978 2120.98,820.978 \n",
       "  \"/>\n",
       "<path clip-path=\"url(#clip230)\" d=\"M2159.4 840.665 Q2157.6 845.295 2155.88 846.707 Q2154.17 848.119 2151.3 848.119 L2147.9 848.119 L2147.9 844.554 L2150.4 844.554 Q2152.16 844.554 2153.13 843.72 Q2154.1 842.887 2155.28 839.785 L2156.04 837.841 L2145.56 812.332 L2150.07 812.332 L2158.17 832.609 L2166.28 812.332 L2170.79 812.332 L2159.4 840.665 Z\" fill=\"#000000\" fill-rule=\"evenodd\" fill-opacity=\"1\" /><path clip-path=\"url(#clip230)\" d=\"M2178.08 834.322 L2185.72 834.322 L2185.72 807.957 L2177.41 809.623 L2177.41 805.364 L2185.67 803.698 L2190.35 803.698 L2190.35 834.322 L2197.99 834.322 L2197.99 838.258 L2178.08 838.258 L2178.08 834.322 Z\" fill=\"#000000\" fill-rule=\"evenodd\" fill-opacity=\"1\" /><path clip-path=\"url(#clip230)\" d=\"M2211.46 834.322 L2227.78 834.322 L2227.78 838.258 L2205.84 838.258 L2205.84 834.322 Q2208.5 831.568 2213.08 826.938 Q2217.69 822.285 2218.87 820.943 Q2221.11 818.42 2221.99 816.684 Q2222.9 814.924 2222.9 813.235 Q2222.9 810.48 2220.95 808.744 Q2219.03 807.008 2215.93 807.008 Q2213.73 807.008 2211.28 807.772 Q2208.85 808.535 2206.07 810.086 L2206.07 805.364 Q2208.89 804.23 2211.35 803.651 Q2213.8 803.073 2215.84 803.073 Q2221.21 803.073 2224.4 805.758 Q2227.6 808.443 2227.6 812.934 Q2227.6 815.063 2226.78 816.985 Q2226 818.883 2223.89 821.475 Q2223.31 822.147 2220.21 825.364 Q2217.11 828.559 2211.46 834.322 Z\" fill=\"#000000\" fill-rule=\"evenodd\" fill-opacity=\"1\" /><polyline clip-path=\"url(#clip230)\" style=\"stroke:#608cf6; stroke-linecap:butt; stroke-linejoin:round; stroke-width:4; stroke-opacity:1; fill:none\" points=\"\n",
       "  1973.51,881.458 2120.98,881.458 \n",
       "  \"/>\n",
       "<path clip-path=\"url(#clip230)\" d=\"M2159.4 901.145 Q2157.6 905.775 2155.88 907.187 Q2154.17 908.599 2151.3 908.599 L2147.9 908.599 L2147.9 905.034 L2150.4 905.034 Q2152.16 905.034 2153.13 904.2 Q2154.1 903.367 2155.28 900.265 L2156.04 898.321 L2145.56 872.812 L2150.07 872.812 L2158.17 893.089 L2166.28 872.812 L2170.79 872.812 L2159.4 901.145 Z\" fill=\"#000000\" fill-rule=\"evenodd\" fill-opacity=\"1\" /><path clip-path=\"url(#clip230)\" d=\"M2178.08 894.802 L2185.72 894.802 L2185.72 868.437 L2177.41 870.103 L2177.41 865.844 L2185.67 864.178 L2190.35 864.178 L2190.35 894.802 L2197.99 894.802 L2197.99 898.738 L2178.08 898.738 L2178.08 894.802 Z\" fill=\"#000000\" fill-rule=\"evenodd\" fill-opacity=\"1\" /><path clip-path=\"url(#clip230)\" d=\"M2221.6 880.103 Q2224.96 880.821 2226.83 883.089 Q2228.73 885.358 2228.73 888.691 Q2228.73 893.807 2225.21 896.608 Q2221.69 899.409 2215.21 899.409 Q2213.04 899.409 2210.72 898.969 Q2208.43 898.552 2205.97 897.696 L2205.97 893.182 Q2207.92 894.316 2210.23 894.895 Q2212.55 895.474 2215.07 895.474 Q2219.47 895.474 2221.76 893.738 Q2224.08 892.001 2224.08 888.691 Q2224.08 885.636 2221.92 883.923 Q2219.79 882.187 2215.97 882.187 L2211.95 882.187 L2211.95 878.344 L2216.16 878.344 Q2219.61 878.344 2221.44 876.978 Q2223.27 875.59 2223.27 872.997 Q2223.27 870.335 2221.37 868.923 Q2219.49 867.488 2215.97 867.488 Q2214.05 867.488 2211.85 867.904 Q2209.66 868.321 2207.02 869.201 L2207.02 865.034 Q2209.68 864.293 2211.99 863.923 Q2214.33 863.553 2216.39 863.553 Q2221.72 863.553 2224.82 865.983 Q2227.92 868.39 2227.92 872.511 Q2227.92 875.381 2226.28 877.372 Q2224.63 879.34 2221.6 880.103 Z\" fill=\"#000000\" fill-rule=\"evenodd\" fill-opacity=\"1\" /><polyline clip-path=\"url(#clip230)\" style=\"stroke:#f05f73; stroke-linecap:butt; stroke-linejoin:round; stroke-width:4; stroke-opacity:1; fill:none\" points=\"\n",
       "  1973.51,941.938 2120.98,941.938 \n",
       "  \"/>\n",
       "<path clip-path=\"url(#clip230)\" d=\"M2159.4 961.625 Q2157.6 966.255 2155.88 967.667 Q2154.17 969.079 2151.3 969.079 L2147.9 969.079 L2147.9 965.514 L2150.4 965.514 Q2152.16 965.514 2153.13 964.68 Q2154.1 963.847 2155.28 960.745 L2156.04 958.801 L2145.56 933.292 L2150.07 933.292 L2158.17 953.569 L2166.28 933.292 L2170.79 933.292 L2159.4 961.625 Z\" fill=\"#000000\" fill-rule=\"evenodd\" fill-opacity=\"1\" /><path clip-path=\"url(#clip230)\" d=\"M2178.08 955.282 L2185.72 955.282 L2185.72 928.917 L2177.41 930.583 L2177.41 926.324 L2185.67 924.658 L2190.35 924.658 L2190.35 955.282 L2197.99 955.282 L2197.99 959.218 L2178.08 959.218 L2178.08 955.282 Z\" fill=\"#000000\" fill-rule=\"evenodd\" fill-opacity=\"1\" /><path clip-path=\"url(#clip230)\" d=\"M2220.28 928.732 L2208.47 947.181 L2220.28 947.181 L2220.28 928.732 M2219.05 924.658 L2224.93 924.658 L2224.93 947.181 L2229.86 947.181 L2229.86 951.069 L2224.93 951.069 L2224.93 959.218 L2220.28 959.218 L2220.28 951.069 L2204.68 951.069 L2204.68 946.556 L2219.05 924.658 Z\" fill=\"#000000\" fill-rule=\"evenodd\" fill-opacity=\"1\" /><polyline clip-path=\"url(#clip230)\" style=\"stroke:#dd64b5; stroke-linecap:butt; stroke-linejoin:round; stroke-width:4; stroke-opacity:1; fill:none\" points=\"\n",
       "  1973.51,1002.42 2120.98,1002.42 \n",
       "  \"/>\n",
       "<path clip-path=\"url(#clip230)\" d=\"M2159.4 1022.1 Q2157.6 1026.73 2155.88 1028.15 Q2154.17 1029.56 2151.3 1029.56 L2147.9 1029.56 L2147.9 1025.99 L2150.4 1025.99 Q2152.16 1025.99 2153.13 1025.16 Q2154.1 1024.33 2155.28 1021.23 L2156.04 1019.28 L2145.56 993.772 L2150.07 993.772 L2158.17 1014.05 L2166.28 993.772 L2170.79 993.772 L2159.4 1022.1 Z\" fill=\"#000000\" fill-rule=\"evenodd\" fill-opacity=\"1\" /><path clip-path=\"url(#clip230)\" d=\"M2178.08 1015.76 L2185.72 1015.76 L2185.72 989.397 L2177.41 991.063 L2177.41 986.804 L2185.67 985.138 L2190.35 985.138 L2190.35 1015.76 L2197.99 1015.76 L2197.99 1019.7 L2178.08 1019.7 L2178.08 1015.76 Z\" fill=\"#000000\" fill-rule=\"evenodd\" fill-opacity=\"1\" /><path clip-path=\"url(#clip230)\" d=\"M2207.48 985.138 L2225.84 985.138 L2225.84 989.073 L2211.76 989.073 L2211.76 997.545 Q2212.78 997.198 2213.8 997.036 Q2214.82 996.85 2215.84 996.85 Q2221.62 996.85 2225 1000.02 Q2228.38 1003.19 2228.38 1008.61 Q2228.38 1014.19 2224.91 1017.29 Q2221.44 1020.37 2215.12 1020.37 Q2212.94 1020.37 2210.67 1020 Q2208.43 1019.63 2206.02 1018.89 L2206.02 1014.19 Q2208.1 1015.32 2210.33 1015.88 Q2212.55 1016.43 2215.03 1016.43 Q2219.03 1016.43 2221.37 1014.33 Q2223.71 1012.22 2223.71 1008.61 Q2223.71 1005 2221.37 1002.89 Q2219.03 1000.79 2215.03 1000.79 Q2213.15 1000.79 2211.28 1001.2 Q2209.42 1001.62 2207.48 1002.5 L2207.48 985.138 Z\" fill=\"#000000\" fill-rule=\"evenodd\" fill-opacity=\"1\" /><polyline clip-path=\"url(#clip230)\" style=\"stroke:#6b9e32; stroke-linecap:butt; stroke-linejoin:round; stroke-width:4; stroke-opacity:1; fill:none\" points=\"\n",
       "  1973.51,1062.9 2120.98,1062.9 \n",
       "  \"/>\n",
       "<path clip-path=\"url(#clip230)\" d=\"M2159.4 1082.58 Q2157.6 1087.21 2155.88 1088.63 Q2154.17 1090.04 2151.3 1090.04 L2147.9 1090.04 L2147.9 1086.47 L2150.4 1086.47 Q2152.16 1086.47 2153.13 1085.64 Q2154.1 1084.81 2155.28 1081.71 L2156.04 1079.76 L2145.56 1054.25 L2150.07 1054.25 L2158.17 1074.53 L2166.28 1054.25 L2170.79 1054.25 L2159.4 1082.58 Z\" fill=\"#000000\" fill-rule=\"evenodd\" fill-opacity=\"1\" /><path clip-path=\"url(#clip230)\" d=\"M2178.08 1076.24 L2185.72 1076.24 L2185.72 1049.88 L2177.41 1051.54 L2177.41 1047.28 L2185.67 1045.62 L2190.35 1045.62 L2190.35 1076.24 L2197.99 1076.24 L2197.99 1080.18 L2178.08 1080.18 L2178.08 1076.24 Z\" fill=\"#000000\" fill-rule=\"evenodd\" fill-opacity=\"1\" /><path clip-path=\"url(#clip230)\" d=\"M2218.01 1061.03 Q2214.86 1061.03 2213.01 1063.19 Q2211.18 1065.34 2211.18 1069.09 Q2211.18 1072.82 2213.01 1074.99 Q2214.86 1077.15 2218.01 1077.15 Q2221.16 1077.15 2222.99 1074.99 Q2224.84 1072.82 2224.84 1069.09 Q2224.84 1065.34 2222.99 1063.19 Q2221.16 1061.03 2218.01 1061.03 M2227.29 1046.38 L2227.29 1050.64 Q2225.53 1049.81 2223.73 1049.37 Q2221.95 1048.93 2220.19 1048.93 Q2215.56 1048.93 2213.1 1052.05 Q2210.67 1055.18 2210.33 1061.5 Q2211.69 1059.48 2213.75 1058.42 Q2215.81 1057.33 2218.29 1057.33 Q2223.5 1057.33 2226.51 1060.5 Q2229.54 1063.65 2229.54 1069.09 Q2229.54 1074.41 2226.39 1077.63 Q2223.24 1080.85 2218.01 1080.85 Q2212.02 1080.85 2208.85 1076.27 Q2205.67 1071.66 2205.67 1062.93 Q2205.67 1054.74 2209.56 1049.88 Q2213.45 1044.99 2220 1044.99 Q2221.76 1044.99 2223.54 1045.34 Q2225.35 1045.69 2227.29 1046.38 Z\" fill=\"#000000\" fill-rule=\"evenodd\" fill-opacity=\"1\" /><polyline clip-path=\"url(#clip230)\" style=\"stroke:#009af9; stroke-linecap:butt; stroke-linejoin:round; stroke-width:4; stroke-opacity:1; fill:none\" points=\"\n",
       "  1973.51,1123.38 2120.98,1123.38 \n",
       "  \"/>\n",
       "<path clip-path=\"url(#clip230)\" d=\"M2159.4 1143.06 Q2157.6 1147.69 2155.88 1149.11 Q2154.17 1150.52 2151.3 1150.52 L2147.9 1150.52 L2147.9 1146.95 L2150.4 1146.95 Q2152.16 1146.95 2153.13 1146.12 Q2154.1 1145.29 2155.28 1142.19 L2156.04 1140.24 L2145.56 1114.73 L2150.07 1114.73 L2158.17 1135.01 L2166.28 1114.73 L2170.79 1114.73 L2159.4 1143.06 Z\" fill=\"#000000\" fill-rule=\"evenodd\" fill-opacity=\"1\" /><path clip-path=\"url(#clip230)\" d=\"M2178.08 1136.72 L2185.72 1136.72 L2185.72 1110.36 L2177.41 1112.02 L2177.41 1107.76 L2185.67 1106.1 L2190.35 1106.1 L2190.35 1136.72 L2197.99 1136.72 L2197.99 1140.66 L2178.08 1140.66 L2178.08 1136.72 Z\" fill=\"#000000\" fill-rule=\"evenodd\" fill-opacity=\"1\" /><path clip-path=\"url(#clip230)\" d=\"M2206.25 1106.1 L2228.47 1106.1 L2228.47 1108.09 L2215.93 1140.66 L2211.04 1140.66 L2222.85 1110.03 L2206.25 1110.03 L2206.25 1106.1 Z\" fill=\"#000000\" fill-rule=\"evenodd\" fill-opacity=\"1\" /><polyline clip-path=\"url(#clip230)\" style=\"stroke:#e26f46; stroke-linecap:butt; stroke-linejoin:round; stroke-width:4; stroke-opacity:1; fill:none\" points=\"\n",
       "  1973.51,1183.86 2120.98,1183.86 \n",
       "  \"/>\n",
       "<path clip-path=\"url(#clip230)\" d=\"M2159.4 1203.54 Q2157.6 1208.17 2155.88 1209.59 Q2154.17 1211 2151.3 1211 L2147.9 1211 L2147.9 1207.43 L2150.4 1207.43 Q2152.16 1207.43 2153.13 1206.6 Q2154.1 1205.77 2155.28 1202.67 L2156.04 1200.72 L2145.56 1175.21 L2150.07 1175.21 L2158.17 1195.49 L2166.28 1175.21 L2170.79 1175.21 L2159.4 1203.54 Z\" fill=\"#000000\" fill-rule=\"evenodd\" fill-opacity=\"1\" /><path clip-path=\"url(#clip230)\" d=\"M2178.08 1197.2 L2185.72 1197.2 L2185.72 1170.84 L2177.41 1172.5 L2177.41 1168.24 L2185.67 1166.58 L2190.35 1166.58 L2190.35 1197.2 L2197.99 1197.2 L2197.99 1201.14 L2178.08 1201.14 L2178.08 1197.2 Z\" fill=\"#000000\" fill-rule=\"evenodd\" fill-opacity=\"1\" /><path clip-path=\"url(#clip230)\" d=\"M2217.43 1184.73 Q2214.1 1184.73 2212.18 1186.51 Q2210.28 1188.29 2210.28 1191.42 Q2210.28 1194.54 2212.18 1196.32 Q2214.1 1198.11 2217.43 1198.11 Q2220.77 1198.11 2222.69 1196.32 Q2224.61 1194.52 2224.61 1191.42 Q2224.61 1188.29 2222.69 1186.51 Q2220.79 1184.73 2217.43 1184.73 M2212.76 1182.73 Q2209.75 1181.99 2208.06 1179.93 Q2206.39 1177.87 2206.39 1174.91 Q2206.39 1170.77 2209.33 1168.36 Q2212.29 1165.95 2217.43 1165.95 Q2222.6 1165.95 2225.53 1168.36 Q2228.47 1170.77 2228.47 1174.91 Q2228.47 1177.87 2226.78 1179.93 Q2225.12 1181.99 2222.13 1182.73 Q2225.51 1183.52 2227.39 1185.81 Q2229.28 1188.11 2229.28 1191.42 Q2229.28 1196.44 2226.21 1199.12 Q2223.15 1201.81 2217.43 1201.81 Q2211.72 1201.81 2208.64 1199.12 Q2205.58 1196.44 2205.58 1191.42 Q2205.58 1188.11 2207.48 1185.81 Q2209.38 1183.52 2212.76 1182.73 M2211.04 1175.35 Q2211.04 1178.04 2212.71 1179.54 Q2214.4 1181.05 2217.43 1181.05 Q2220.44 1181.05 2222.13 1179.54 Q2223.85 1178.04 2223.85 1175.35 Q2223.85 1172.67 2222.13 1171.16 Q2220.44 1169.66 2217.43 1169.66 Q2214.4 1169.66 2212.71 1171.16 Q2211.04 1172.67 2211.04 1175.35 Z\" fill=\"#000000\" fill-rule=\"evenodd\" fill-opacity=\"1\" /><polyline clip-path=\"url(#clip230)\" style=\"stroke:#3da44d; stroke-linecap:butt; stroke-linejoin:round; stroke-width:4; stroke-opacity:1; fill:none\" points=\"\n",
       "  1973.51,1244.34 2120.98,1244.34 \n",
       "  \"/>\n",
       "<path clip-path=\"url(#clip230)\" d=\"M2159.4 1264.02 Q2157.6 1268.65 2155.88 1270.07 Q2154.17 1271.48 2151.3 1271.48 L2147.9 1271.48 L2147.9 1267.91 L2150.4 1267.91 Q2152.16 1267.91 2153.13 1267.08 Q2154.1 1266.25 2155.28 1263.15 L2156.04 1261.2 L2145.56 1235.69 L2150.07 1235.69 L2158.17 1255.97 L2166.28 1235.69 L2170.79 1235.69 L2159.4 1264.02 Z\" fill=\"#000000\" fill-rule=\"evenodd\" fill-opacity=\"1\" /><path clip-path=\"url(#clip230)\" d=\"M2178.08 1257.68 L2185.72 1257.68 L2185.72 1231.32 L2177.41 1232.98 L2177.41 1228.72 L2185.67 1227.06 L2190.35 1227.06 L2190.35 1257.68 L2197.99 1257.68 L2197.99 1261.62 L2178.08 1261.62 L2178.08 1257.68 Z\" fill=\"#000000\" fill-rule=\"evenodd\" fill-opacity=\"1\" /><path clip-path=\"url(#clip230)\" d=\"M2207.57 1260.9 L2207.57 1256.64 Q2209.33 1257.47 2211.14 1257.91 Q2212.94 1258.35 2214.68 1258.35 Q2219.31 1258.35 2221.74 1255.25 Q2224.19 1252.13 2224.54 1245.78 Q2223.2 1247.78 2221.14 1248.84 Q2219.08 1249.9 2216.58 1249.9 Q2211.39 1249.9 2208.36 1246.78 Q2205.35 1243.63 2205.35 1238.19 Q2205.35 1232.87 2208.5 1229.65 Q2211.65 1226.43 2216.88 1226.43 Q2222.87 1226.43 2226.02 1231.04 Q2229.19 1235.62 2229.19 1244.37 Q2229.19 1252.54 2225.3 1257.43 Q2221.44 1262.29 2214.89 1262.29 Q2213.13 1262.29 2211.32 1261.94 Q2209.52 1261.59 2207.57 1260.9 M2216.88 1246.25 Q2220.03 1246.25 2221.85 1244.09 Q2223.71 1241.94 2223.71 1238.19 Q2223.71 1234.46 2221.85 1232.31 Q2220.03 1230.14 2216.88 1230.14 Q2213.73 1230.14 2211.88 1232.31 Q2210.05 1234.46 2210.05 1238.19 Q2210.05 1241.94 2211.88 1244.09 Q2213.73 1246.25 2216.88 1246.25 Z\" fill=\"#000000\" fill-rule=\"evenodd\" fill-opacity=\"1\" /><polyline clip-path=\"url(#clip230)\" style=\"stroke:#c271d2; stroke-linecap:butt; stroke-linejoin:round; stroke-width:4; stroke-opacity:1; fill:none\" points=\"\n",
       "  1973.51,1304.82 2120.98,1304.82 \n",
       "  \"/>\n",
       "<path clip-path=\"url(#clip230)\" d=\"M2159.4 1324.5 Q2157.6 1329.13 2155.88 1330.55 Q2154.17 1331.96 2151.3 1331.96 L2147.9 1331.96 L2147.9 1328.39 L2150.4 1328.39 Q2152.16 1328.39 2153.13 1327.56 Q2154.1 1326.73 2155.28 1323.63 L2156.04 1321.68 L2145.56 1296.17 L2150.07 1296.17 L2158.17 1316.45 L2166.28 1296.17 L2170.79 1296.17 L2159.4 1324.5 Z\" fill=\"#000000\" fill-rule=\"evenodd\" fill-opacity=\"1\" /><path clip-path=\"url(#clip230)\" d=\"M2181.3 1318.16 L2197.62 1318.16 L2197.62 1322.1 L2175.67 1322.1 L2175.67 1318.16 Q2178.34 1315.41 2182.92 1310.78 Q2187.53 1306.13 2188.71 1304.78 Q2190.95 1302.26 2191.83 1300.52 Q2192.73 1298.76 2192.73 1297.07 Q2192.73 1294.32 2190.79 1292.58 Q2188.87 1290.85 2185.77 1290.85 Q2183.57 1290.85 2181.11 1291.61 Q2178.68 1292.38 2175.91 1293.93 L2175.91 1289.2 Q2178.73 1288.07 2181.18 1287.49 Q2183.64 1286.91 2185.67 1286.91 Q2191.04 1286.91 2194.24 1289.6 Q2197.43 1292.28 2197.43 1296.77 Q2197.43 1298.9 2196.62 1300.82 Q2195.84 1302.72 2193.73 1305.32 Q2193.15 1305.99 2190.05 1309.2 Q2186.95 1312.4 2181.3 1318.16 Z\" fill=\"#000000\" fill-rule=\"evenodd\" fill-opacity=\"1\" /><path clip-path=\"url(#clip230)\" d=\"M2217.43 1290.62 Q2213.82 1290.62 2211.99 1294.18 Q2210.19 1297.72 2210.19 1304.85 Q2210.19 1311.96 2211.99 1315.52 Q2213.82 1319.07 2217.43 1319.07 Q2221.07 1319.07 2222.87 1315.52 Q2224.7 1311.96 2224.7 1304.85 Q2224.7 1297.72 2222.87 1294.18 Q2221.07 1290.62 2217.43 1290.62 M2217.43 1286.91 Q2223.24 1286.91 2226.3 1291.52 Q2229.38 1296.1 2229.38 1304.85 Q2229.38 1313.58 2226.3 1318.19 Q2223.24 1322.77 2217.43 1322.77 Q2211.62 1322.77 2208.54 1318.19 Q2205.49 1313.58 2205.49 1304.85 Q2205.49 1296.1 2208.54 1291.52 Q2211.62 1286.91 2217.43 1286.91 Z\" fill=\"#000000\" fill-rule=\"evenodd\" fill-opacity=\"1\" /><polyline clip-path=\"url(#clip230)\" style=\"stroke:#ac8d18; stroke-linecap:butt; stroke-linejoin:round; stroke-width:4; stroke-opacity:1; fill:none\" points=\"\n",
       "  1973.51,1365.3 2120.98,1365.3 \n",
       "  \"/>\n",
       "<path clip-path=\"url(#clip230)\" d=\"M2159.4 1384.98 Q2157.6 1389.61 2155.88 1391.03 Q2154.17 1392.44 2151.3 1392.44 L2147.9 1392.44 L2147.9 1388.87 L2150.4 1388.87 Q2152.16 1388.87 2153.13 1388.04 Q2154.1 1387.21 2155.28 1384.11 L2156.04 1382.16 L2145.56 1356.65 L2150.07 1356.65 L2158.17 1376.93 L2166.28 1356.65 L2170.79 1356.65 L2159.4 1384.98 Z\" fill=\"#000000\" fill-rule=\"evenodd\" fill-opacity=\"1\" /><path clip-path=\"url(#clip230)\" d=\"M2181.3 1378.64 L2197.62 1378.64 L2197.62 1382.58 L2175.67 1382.58 L2175.67 1378.64 Q2178.34 1375.89 2182.92 1371.26 Q2187.53 1366.61 2188.71 1365.26 Q2190.95 1362.74 2191.83 1361 Q2192.73 1359.24 2192.73 1357.55 Q2192.73 1354.8 2190.79 1353.06 Q2188.87 1351.33 2185.77 1351.33 Q2183.57 1351.33 2181.11 1352.09 Q2178.68 1352.86 2175.91 1354.41 L2175.91 1349.68 Q2178.73 1348.55 2181.18 1347.97 Q2183.64 1347.39 2185.67 1347.39 Q2191.04 1347.39 2194.24 1350.08 Q2197.43 1352.76 2197.43 1357.25 Q2197.43 1359.38 2196.62 1361.3 Q2195.84 1363.2 2193.73 1365.8 Q2193.15 1366.47 2190.05 1369.68 Q2186.95 1372.88 2181.3 1378.64 Z\" fill=\"#000000\" fill-rule=\"evenodd\" fill-opacity=\"1\" /><path clip-path=\"url(#clip230)\" d=\"M2208.24 1378.64 L2215.88 1378.64 L2215.88 1352.28 L2207.57 1353.94 L2207.57 1349.68 L2215.84 1348.02 L2220.51 1348.02 L2220.51 1378.64 L2228.15 1378.64 L2228.15 1382.58 L2208.24 1382.58 L2208.24 1378.64 Z\" fill=\"#000000\" fill-rule=\"evenodd\" fill-opacity=\"1\" /><polyline clip-path=\"url(#clip230)\" style=\"stroke:#00a9ad; stroke-linecap:butt; stroke-linejoin:round; stroke-width:4; stroke-opacity:1; fill:none\" points=\"\n",
       "  1973.51,1425.78 2120.98,1425.78 \n",
       "  \"/>\n",
       "<path clip-path=\"url(#clip230)\" d=\"M2159.4 1445.46 Q2157.6 1450.09 2155.88 1451.51 Q2154.17 1452.92 2151.3 1452.92 L2147.9 1452.92 L2147.9 1449.35 L2150.4 1449.35 Q2152.16 1449.35 2153.13 1448.52 Q2154.1 1447.69 2155.28 1444.59 L2156.04 1442.64 L2145.56 1417.13 L2150.07 1417.13 L2158.17 1437.41 L2166.28 1417.13 L2170.79 1417.13 L2159.4 1445.46 Z\" fill=\"#000000\" fill-rule=\"evenodd\" fill-opacity=\"1\" /><path clip-path=\"url(#clip230)\" d=\"M2181.3 1439.12 L2197.62 1439.12 L2197.62 1443.06 L2175.67 1443.06 L2175.67 1439.12 Q2178.34 1436.37 2182.92 1431.74 Q2187.53 1427.09 2188.71 1425.74 Q2190.95 1423.22 2191.83 1421.48 Q2192.73 1419.72 2192.73 1418.03 Q2192.73 1415.28 2190.79 1413.54 Q2188.87 1411.81 2185.77 1411.81 Q2183.57 1411.81 2181.11 1412.57 Q2178.68 1413.34 2175.91 1414.89 L2175.91 1410.16 Q2178.73 1409.03 2181.18 1408.45 Q2183.64 1407.87 2185.67 1407.87 Q2191.04 1407.87 2194.24 1410.56 Q2197.43 1413.24 2197.43 1417.73 Q2197.43 1419.86 2196.62 1421.78 Q2195.84 1423.68 2193.73 1426.28 Q2193.15 1426.95 2190.05 1430.16 Q2186.95 1433.36 2181.3 1439.12 Z\" fill=\"#000000\" fill-rule=\"evenodd\" fill-opacity=\"1\" /><path clip-path=\"url(#clip230)\" d=\"M2211.46 1439.12 L2227.78 1439.12 L2227.78 1443.06 L2205.84 1443.06 L2205.84 1439.12 Q2208.5 1436.37 2213.08 1431.74 Q2217.69 1427.09 2218.87 1425.74 Q2221.11 1423.22 2221.99 1421.48 Q2222.9 1419.72 2222.9 1418.03 Q2222.9 1415.28 2220.95 1413.54 Q2219.03 1411.81 2215.93 1411.81 Q2213.73 1411.81 2211.28 1412.57 Q2208.85 1413.34 2206.07 1414.89 L2206.07 1410.16 Q2208.89 1409.03 2211.35 1408.45 Q2213.8 1407.87 2215.84 1407.87 Q2221.21 1407.87 2224.4 1410.56 Q2227.6 1413.24 2227.6 1417.73 Q2227.6 1419.86 2226.78 1421.78 Q2226 1423.68 2223.89 1426.28 Q2223.31 1426.95 2220.21 1430.16 Q2217.11 1433.36 2211.46 1439.12 Z\" fill=\"#000000\" fill-rule=\"evenodd\" fill-opacity=\"1\" /><polyline clip-path=\"url(#clip230)\" style=\"stroke:#ed5d92; stroke-linecap:butt; stroke-linejoin:round; stroke-width:4; stroke-opacity:1; fill:none\" points=\"\n",
       "  1973.51,1486.26 2120.98,1486.26 \n",
       "  \"/>\n",
       "<path clip-path=\"url(#clip230)\" d=\"M2159.4 1505.94 Q2157.6 1510.57 2155.88 1511.99 Q2154.17 1513.4 2151.3 1513.4 L2147.9 1513.4 L2147.9 1509.83 L2150.4 1509.83 Q2152.16 1509.83 2153.13 1509 Q2154.1 1508.17 2155.28 1505.07 L2156.04 1503.12 L2145.56 1477.61 L2150.07 1477.61 L2158.17 1497.89 L2166.28 1477.61 L2170.79 1477.61 L2159.4 1505.94 Z\" fill=\"#000000\" fill-rule=\"evenodd\" fill-opacity=\"1\" /><path clip-path=\"url(#clip230)\" d=\"M2181.3 1499.6 L2197.62 1499.6 L2197.62 1503.54 L2175.67 1503.54 L2175.67 1499.6 Q2178.34 1496.85 2182.92 1492.22 Q2187.53 1487.57 2188.71 1486.22 Q2190.95 1483.7 2191.83 1481.96 Q2192.73 1480.2 2192.73 1478.51 Q2192.73 1475.76 2190.79 1474.02 Q2188.87 1472.29 2185.77 1472.29 Q2183.57 1472.29 2181.11 1473.05 Q2178.68 1473.82 2175.91 1475.37 L2175.91 1470.64 Q2178.73 1469.51 2181.18 1468.93 Q2183.64 1468.35 2185.67 1468.35 Q2191.04 1468.35 2194.24 1471.04 Q2197.43 1473.72 2197.43 1478.21 Q2197.43 1480.34 2196.62 1482.26 Q2195.84 1484.16 2193.73 1486.76 Q2193.15 1487.43 2190.05 1490.64 Q2186.95 1493.84 2181.3 1499.6 Z\" fill=\"#000000\" fill-rule=\"evenodd\" fill-opacity=\"1\" /><path clip-path=\"url(#clip230)\" d=\"M2221.6 1484.9 Q2224.96 1485.62 2226.83 1487.89 Q2228.73 1490.16 2228.73 1493.49 Q2228.73 1498.61 2225.21 1501.41 Q2221.69 1504.21 2215.21 1504.21 Q2213.04 1504.21 2210.72 1503.77 Q2208.43 1503.35 2205.97 1502.5 L2205.97 1497.98 Q2207.92 1499.12 2210.23 1499.69 Q2212.55 1500.27 2215.07 1500.27 Q2219.47 1500.27 2221.76 1498.54 Q2224.08 1496.8 2224.08 1493.49 Q2224.08 1490.44 2221.92 1488.72 Q2219.79 1486.99 2215.97 1486.99 L2211.95 1486.99 L2211.95 1483.14 L2216.16 1483.14 Q2219.61 1483.14 2221.44 1481.78 Q2223.27 1480.39 2223.27 1477.8 Q2223.27 1475.13 2221.37 1473.72 Q2219.49 1472.29 2215.97 1472.29 Q2214.05 1472.29 2211.85 1472.7 Q2209.66 1473.12 2207.02 1474 L2207.02 1469.83 Q2209.68 1469.09 2211.99 1468.72 Q2214.33 1468.35 2216.39 1468.35 Q2221.72 1468.35 2224.82 1470.78 Q2227.92 1473.19 2227.92 1477.31 Q2227.92 1480.18 2226.28 1482.17 Q2224.63 1484.14 2221.6 1484.9 Z\" fill=\"#000000\" fill-rule=\"evenodd\" fill-opacity=\"1\" /><polyline clip-path=\"url(#clip230)\" style=\"stroke:#c68125; stroke-linecap:butt; stroke-linejoin:round; stroke-width:4; stroke-opacity:1; fill:none\" points=\"\n",
       "  1973.51,1546.74 2120.98,1546.74 \n",
       "  \"/>\n",
       "<path clip-path=\"url(#clip230)\" d=\"M2159.4 1566.42 Q2157.6 1571.05 2155.88 1572.47 Q2154.17 1573.88 2151.3 1573.88 L2147.9 1573.88 L2147.9 1570.31 L2150.4 1570.31 Q2152.16 1570.31 2153.13 1569.48 Q2154.1 1568.65 2155.28 1565.55 L2156.04 1563.6 L2145.56 1538.09 L2150.07 1538.09 L2158.17 1558.37 L2166.28 1538.09 L2170.79 1538.09 L2159.4 1566.42 Z\" fill=\"#000000\" fill-rule=\"evenodd\" fill-opacity=\"1\" /><path clip-path=\"url(#clip230)\" d=\"M2181.3 1560.08 L2197.62 1560.08 L2197.62 1564.02 L2175.67 1564.02 L2175.67 1560.08 Q2178.34 1557.33 2182.92 1552.7 Q2187.53 1548.05 2188.71 1546.7 Q2190.95 1544.18 2191.83 1542.44 Q2192.73 1540.68 2192.73 1538.99 Q2192.73 1536.24 2190.79 1534.5 Q2188.87 1532.77 2185.77 1532.77 Q2183.57 1532.77 2181.11 1533.53 Q2178.68 1534.3 2175.91 1535.85 L2175.91 1531.12 Q2178.73 1529.99 2181.18 1529.41 Q2183.64 1528.83 2185.67 1528.83 Q2191.04 1528.83 2194.24 1531.52 Q2197.43 1534.2 2197.43 1538.69 Q2197.43 1540.82 2196.62 1542.74 Q2195.84 1544.64 2193.73 1547.24 Q2193.15 1547.91 2190.05 1551.12 Q2186.95 1554.32 2181.3 1560.08 Z\" fill=\"#000000\" fill-rule=\"evenodd\" fill-opacity=\"1\" /><path clip-path=\"url(#clip230)\" d=\"M2220.28 1533.53 L2208.47 1551.98 L2220.28 1551.98 L2220.28 1533.53 M2219.05 1529.46 L2224.93 1529.46 L2224.93 1551.98 L2229.86 1551.98 L2229.86 1555.87 L2224.93 1555.87 L2224.93 1564.02 L2220.28 1564.02 L2220.28 1555.87 L2204.68 1555.87 L2204.68 1551.36 L2219.05 1529.46 Z\" fill=\"#000000\" fill-rule=\"evenodd\" fill-opacity=\"1\" /><polyline clip-path=\"url(#clip230)\" style=\"stroke:#00a98d; stroke-linecap:butt; stroke-linejoin:round; stroke-width:4; stroke-opacity:1; fill:none\" points=\"\n",
       "  1973.51,1607.22 2120.98,1607.22 \n",
       "  \"/>\n",
       "<path clip-path=\"url(#clip230)\" d=\"M2159.4 1626.9 Q2157.6 1631.53 2155.88 1632.95 Q2154.17 1634.36 2151.3 1634.36 L2147.9 1634.36 L2147.9 1630.79 L2150.4 1630.79 Q2152.16 1630.79 2153.13 1629.96 Q2154.1 1629.13 2155.28 1626.03 L2156.04 1624.08 L2145.56 1598.57 L2150.07 1598.57 L2158.17 1618.85 L2166.28 1598.57 L2170.79 1598.57 L2159.4 1626.9 Z\" fill=\"#000000\" fill-rule=\"evenodd\" fill-opacity=\"1\" /><path clip-path=\"url(#clip230)\" d=\"M2181.3 1620.56 L2197.62 1620.56 L2197.62 1624.5 L2175.67 1624.5 L2175.67 1620.56 Q2178.34 1617.81 2182.92 1613.18 Q2187.53 1608.53 2188.71 1607.18 Q2190.95 1604.66 2191.83 1602.92 Q2192.73 1601.16 2192.73 1599.47 Q2192.73 1596.72 2190.79 1594.98 Q2188.87 1593.25 2185.77 1593.25 Q2183.57 1593.25 2181.11 1594.01 Q2178.68 1594.78 2175.91 1596.33 L2175.91 1591.6 Q2178.73 1590.47 2181.18 1589.89 Q2183.64 1589.31 2185.67 1589.31 Q2191.04 1589.31 2194.24 1592 Q2197.43 1594.68 2197.43 1599.17 Q2197.43 1601.3 2196.62 1603.22 Q2195.84 1605.12 2193.73 1607.72 Q2193.15 1608.39 2190.05 1611.6 Q2186.95 1614.8 2181.3 1620.56 Z\" fill=\"#000000\" fill-rule=\"evenodd\" fill-opacity=\"1\" /><path clip-path=\"url(#clip230)\" d=\"M2207.48 1589.94 L2225.84 1589.94 L2225.84 1593.87 L2211.76 1593.87 L2211.76 1602.34 Q2212.78 1602 2213.8 1601.84 Q2214.82 1601.65 2215.84 1601.65 Q2221.62 1601.65 2225 1604.82 Q2228.38 1607.99 2228.38 1613.41 Q2228.38 1618.99 2224.91 1622.09 Q2221.44 1625.17 2215.12 1625.17 Q2212.94 1625.17 2210.67 1624.8 Q2208.43 1624.43 2206.02 1623.69 L2206.02 1618.99 Q2208.1 1620.12 2210.33 1620.68 Q2212.55 1621.23 2215.03 1621.23 Q2219.03 1621.23 2221.37 1619.13 Q2223.71 1617.02 2223.71 1613.41 Q2223.71 1609.8 2221.37 1607.69 Q2219.03 1605.59 2215.03 1605.59 Q2213.15 1605.59 2211.28 1606 Q2209.42 1606.42 2207.48 1607.3 L2207.48 1589.94 Z\" fill=\"#000000\" fill-rule=\"evenodd\" fill-opacity=\"1\" /><polyline clip-path=\"url(#clip230)\" style=\"stroke:#8e971d; stroke-linecap:butt; stroke-linejoin:round; stroke-width:4; stroke-opacity:1; fill:none\" points=\"\n",
       "  1973.51,1667.7 2120.98,1667.7 \n",
       "  \"/>\n",
       "<path clip-path=\"url(#clip230)\" d=\"M2159.4 1687.38 Q2157.6 1692.01 2155.88 1693.43 Q2154.17 1694.84 2151.3 1694.84 L2147.9 1694.84 L2147.9 1691.27 L2150.4 1691.27 Q2152.16 1691.27 2153.13 1690.44 Q2154.1 1689.61 2155.28 1686.51 L2156.04 1684.56 L2145.56 1659.05 L2150.07 1659.05 L2158.17 1679.33 L2166.28 1659.05 L2170.79 1659.05 L2159.4 1687.38 Z\" fill=\"#000000\" fill-rule=\"evenodd\" fill-opacity=\"1\" /><path clip-path=\"url(#clip230)\" d=\"M2181.3 1681.04 L2197.62 1681.04 L2197.62 1684.98 L2175.67 1684.98 L2175.67 1681.04 Q2178.34 1678.29 2182.92 1673.66 Q2187.53 1669.01 2188.71 1667.66 Q2190.95 1665.14 2191.83 1663.4 Q2192.73 1661.64 2192.73 1659.95 Q2192.73 1657.2 2190.79 1655.46 Q2188.87 1653.73 2185.77 1653.73 Q2183.57 1653.73 2181.11 1654.49 Q2178.68 1655.26 2175.91 1656.81 L2175.91 1652.08 Q2178.73 1650.95 2181.18 1650.37 Q2183.64 1649.79 2185.67 1649.79 Q2191.04 1649.79 2194.24 1652.48 Q2197.43 1655.16 2197.43 1659.65 Q2197.43 1661.78 2196.62 1663.7 Q2195.84 1665.6 2193.73 1668.2 Q2193.15 1668.87 2190.05 1672.08 Q2186.95 1675.28 2181.3 1681.04 Z\" fill=\"#000000\" fill-rule=\"evenodd\" fill-opacity=\"1\" /><path clip-path=\"url(#clip230)\" d=\"M2218.01 1665.83 Q2214.86 1665.83 2213.01 1667.99 Q2211.18 1670.14 2211.18 1673.89 Q2211.18 1677.62 2213.01 1679.79 Q2214.86 1681.95 2218.01 1681.95 Q2221.16 1681.95 2222.99 1679.79 Q2224.84 1677.62 2224.84 1673.89 Q2224.84 1670.14 2222.99 1667.99 Q2221.16 1665.83 2218.01 1665.83 M2227.29 1651.18 L2227.29 1655.44 Q2225.53 1654.61 2223.73 1654.17 Q2221.95 1653.73 2220.19 1653.73 Q2215.56 1653.73 2213.1 1656.85 Q2210.67 1659.98 2210.33 1666.3 Q2211.69 1664.28 2213.75 1663.22 Q2215.81 1662.13 2218.29 1662.13 Q2223.5 1662.13 2226.51 1665.3 Q2229.54 1668.45 2229.54 1673.89 Q2229.54 1679.21 2226.39 1682.43 Q2223.24 1685.65 2218.01 1685.65 Q2212.02 1685.65 2208.85 1681.07 Q2205.67 1676.46 2205.67 1667.73 Q2205.67 1659.54 2209.56 1654.68 Q2213.45 1649.79 2220 1649.79 Q2221.76 1649.79 2223.54 1650.14 Q2225.35 1650.49 2227.29 1651.18 Z\" fill=\"#000000\" fill-rule=\"evenodd\" fill-opacity=\"1\" /><polyline clip-path=\"url(#clip230)\" style=\"stroke:#00a8cb; stroke-linecap:butt; stroke-linejoin:round; stroke-width:4; stroke-opacity:1; fill:none\" points=\"\n",
       "  1973.51,1728.18 2120.98,1728.18 \n",
       "  \"/>\n",
       "<path clip-path=\"url(#clip230)\" d=\"M2159.4 1747.86 Q2157.6 1752.49 2155.88 1753.91 Q2154.17 1755.32 2151.3 1755.32 L2147.9 1755.32 L2147.9 1751.75 L2150.4 1751.75 Q2152.16 1751.75 2153.13 1750.92 Q2154.1 1750.09 2155.28 1746.99 L2156.04 1745.04 L2145.56 1719.53 L2150.07 1719.53 L2158.17 1739.81 L2166.28 1719.53 L2170.79 1719.53 L2159.4 1747.86 Z\" fill=\"#000000\" fill-rule=\"evenodd\" fill-opacity=\"1\" /><path clip-path=\"url(#clip230)\" d=\"M2181.3 1741.52 L2197.62 1741.52 L2197.62 1745.46 L2175.67 1745.46 L2175.67 1741.52 Q2178.34 1738.77 2182.92 1734.14 Q2187.53 1729.49 2188.71 1728.14 Q2190.95 1725.62 2191.83 1723.88 Q2192.73 1722.12 2192.73 1720.43 Q2192.73 1717.68 2190.79 1715.94 Q2188.87 1714.21 2185.77 1714.21 Q2183.57 1714.21 2181.11 1714.97 Q2178.68 1715.74 2175.91 1717.29 L2175.91 1712.56 Q2178.73 1711.43 2181.18 1710.85 Q2183.64 1710.27 2185.67 1710.27 Q2191.04 1710.27 2194.24 1712.96 Q2197.43 1715.64 2197.43 1720.13 Q2197.43 1722.26 2196.62 1724.18 Q2195.84 1726.08 2193.73 1728.68 Q2193.15 1729.35 2190.05 1732.56 Q2186.95 1735.76 2181.3 1741.52 Z\" fill=\"#000000\" fill-rule=\"evenodd\" fill-opacity=\"1\" /><path clip-path=\"url(#clip230)\" d=\"M2206.25 1710.9 L2228.47 1710.9 L2228.47 1712.89 L2215.93 1745.46 L2211.04 1745.46 L2222.85 1714.83 L2206.25 1714.83 L2206.25 1710.9 Z\" fill=\"#000000\" fill-rule=\"evenodd\" fill-opacity=\"1\" /><polyline clip-path=\"url(#clip230)\" style=\"stroke:#9b7fe8; stroke-linecap:butt; stroke-linejoin:round; stroke-width:4; stroke-opacity:1; fill:none\" points=\"\n",
       "  1973.51,1788.66 2120.98,1788.66 \n",
       "  \"/>\n",
       "<path clip-path=\"url(#clip230)\" d=\"M2159.4 1808.34 Q2157.6 1812.97 2155.88 1814.39 Q2154.17 1815.8 2151.3 1815.8 L2147.9 1815.8 L2147.9 1812.23 L2150.4 1812.23 Q2152.16 1812.23 2153.13 1811.4 Q2154.1 1810.57 2155.28 1807.47 L2156.04 1805.52 L2145.56 1780.01 L2150.07 1780.01 L2158.17 1800.29 L2166.28 1780.01 L2170.79 1780.01 L2159.4 1808.34 Z\" fill=\"#000000\" fill-rule=\"evenodd\" fill-opacity=\"1\" /><path clip-path=\"url(#clip230)\" d=\"M2181.3 1802 L2197.62 1802 L2197.62 1805.94 L2175.67 1805.94 L2175.67 1802 Q2178.34 1799.25 2182.92 1794.62 Q2187.53 1789.97 2188.71 1788.62 Q2190.95 1786.1 2191.83 1784.36 Q2192.73 1782.6 2192.73 1780.91 Q2192.73 1778.16 2190.79 1776.42 Q2188.87 1774.69 2185.77 1774.69 Q2183.57 1774.69 2181.11 1775.45 Q2178.68 1776.22 2175.91 1777.77 L2175.91 1773.04 Q2178.73 1771.91 2181.18 1771.33 Q2183.64 1770.75 2185.67 1770.75 Q2191.04 1770.75 2194.24 1773.44 Q2197.43 1776.12 2197.43 1780.61 Q2197.43 1782.74 2196.62 1784.66 Q2195.84 1786.56 2193.73 1789.16 Q2193.15 1789.83 2190.05 1793.04 Q2186.95 1796.24 2181.3 1802 Z\" fill=\"#000000\" fill-rule=\"evenodd\" fill-opacity=\"1\" /><path clip-path=\"url(#clip230)\" d=\"M2217.43 1789.53 Q2214.1 1789.53 2212.18 1791.31 Q2210.28 1793.09 2210.28 1796.22 Q2210.28 1799.34 2212.18 1801.12 Q2214.1 1802.91 2217.43 1802.91 Q2220.77 1802.91 2222.69 1801.12 Q2224.61 1799.32 2224.61 1796.22 Q2224.61 1793.09 2222.69 1791.31 Q2220.79 1789.53 2217.43 1789.53 M2212.76 1787.53 Q2209.75 1786.79 2208.06 1784.73 Q2206.39 1782.67 2206.39 1779.71 Q2206.39 1775.57 2209.33 1773.16 Q2212.29 1770.75 2217.43 1770.75 Q2222.6 1770.75 2225.53 1773.16 Q2228.47 1775.57 2228.47 1779.71 Q2228.47 1782.67 2226.78 1784.73 Q2225.12 1786.79 2222.13 1787.53 Q2225.51 1788.32 2227.39 1790.61 Q2229.28 1792.91 2229.28 1796.22 Q2229.28 1801.24 2226.21 1803.92 Q2223.15 1806.61 2217.43 1806.61 Q2211.72 1806.61 2208.64 1803.92 Q2205.58 1801.24 2205.58 1796.22 Q2205.58 1792.91 2207.48 1790.61 Q2209.38 1788.32 2212.76 1787.53 M2211.04 1780.15 Q2211.04 1782.84 2212.71 1784.34 Q2214.4 1785.85 2217.43 1785.85 Q2220.44 1785.85 2222.13 1784.34 Q2223.85 1782.84 2223.85 1780.15 Q2223.85 1777.47 2222.13 1775.96 Q2220.44 1774.46 2217.43 1774.46 Q2214.4 1774.46 2212.71 1775.96 Q2211.04 1777.47 2211.04 1780.15 Z\" fill=\"#000000\" fill-rule=\"evenodd\" fill-opacity=\"1\" /><polyline clip-path=\"url(#clip230)\" style=\"stroke:#608cf6; stroke-linecap:butt; stroke-linejoin:round; stroke-width:4; stroke-opacity:1; fill:none\" points=\"\n",
       "  1973.51,1849.14 2120.98,1849.14 \n",
       "  \"/>\n",
       "<path clip-path=\"url(#clip230)\" d=\"M2159.4 1868.82 Q2157.6 1873.45 2155.88 1874.87 Q2154.17 1876.28 2151.3 1876.28 L2147.9 1876.28 L2147.9 1872.71 L2150.4 1872.71 Q2152.16 1872.71 2153.13 1871.88 Q2154.1 1871.05 2155.28 1867.95 L2156.04 1866 L2145.56 1840.49 L2150.07 1840.49 L2158.17 1860.77 L2166.28 1840.49 L2170.79 1840.49 L2159.4 1868.82 Z\" fill=\"#000000\" fill-rule=\"evenodd\" fill-opacity=\"1\" /><path clip-path=\"url(#clip230)\" d=\"M2181.3 1862.48 L2197.62 1862.48 L2197.62 1866.42 L2175.67 1866.42 L2175.67 1862.48 Q2178.34 1859.73 2182.92 1855.1 Q2187.53 1850.45 2188.71 1849.1 Q2190.95 1846.58 2191.83 1844.84 Q2192.73 1843.08 2192.73 1841.39 Q2192.73 1838.64 2190.79 1836.9 Q2188.87 1835.17 2185.77 1835.17 Q2183.57 1835.17 2181.11 1835.93 Q2178.68 1836.7 2175.91 1838.25 L2175.91 1833.52 Q2178.73 1832.39 2181.18 1831.81 Q2183.64 1831.23 2185.67 1831.23 Q2191.04 1831.23 2194.24 1833.92 Q2197.43 1836.6 2197.43 1841.09 Q2197.43 1843.22 2196.62 1845.14 Q2195.84 1847.04 2193.73 1849.64 Q2193.15 1850.31 2190.05 1853.52 Q2186.95 1856.72 2181.3 1862.48 Z\" fill=\"#000000\" fill-rule=\"evenodd\" fill-opacity=\"1\" /><path clip-path=\"url(#clip230)\" d=\"M2207.57 1865.7 L2207.57 1861.44 Q2209.33 1862.27 2211.14 1862.71 Q2212.94 1863.15 2214.68 1863.15 Q2219.31 1863.15 2221.74 1860.05 Q2224.19 1856.93 2224.54 1850.58 Q2223.2 1852.58 2221.14 1853.64 Q2219.08 1854.7 2216.58 1854.7 Q2211.39 1854.7 2208.36 1851.58 Q2205.35 1848.43 2205.35 1842.99 Q2205.35 1837.67 2208.5 1834.45 Q2211.65 1831.23 2216.88 1831.23 Q2222.87 1831.23 2226.02 1835.84 Q2229.19 1840.42 2229.19 1849.17 Q2229.19 1857.34 2225.3 1862.23 Q2221.44 1867.09 2214.89 1867.09 Q2213.13 1867.09 2211.32 1866.74 Q2209.52 1866.39 2207.57 1865.7 M2216.88 1851.05 Q2220.03 1851.05 2221.85 1848.89 Q2223.71 1846.74 2223.71 1842.99 Q2223.71 1839.26 2221.85 1837.11 Q2220.03 1834.94 2216.88 1834.94 Q2213.73 1834.94 2211.88 1837.11 Q2210.05 1839.26 2210.05 1842.99 Q2210.05 1846.74 2211.88 1848.89 Q2213.73 1851.05 2216.88 1851.05 Z\" fill=\"#000000\" fill-rule=\"evenodd\" fill-opacity=\"1\" /><polyline clip-path=\"url(#clip230)\" style=\"stroke:#f05f73; stroke-linecap:butt; stroke-linejoin:round; stroke-width:4; stroke-opacity:1; fill:none\" points=\"\n",
       "  1973.51,1909.62 2120.98,1909.62 \n",
       "  \"/>\n",
       "<path clip-path=\"url(#clip230)\" d=\"M2159.4 1929.3 Q2157.6 1933.93 2155.88 1935.35 Q2154.17 1936.76 2151.3 1936.76 L2147.9 1936.76 L2147.9 1933.19 L2150.4 1933.19 Q2152.16 1933.19 2153.13 1932.36 Q2154.1 1931.53 2155.28 1928.43 L2156.04 1926.48 L2145.56 1900.97 L2150.07 1900.97 L2158.17 1921.25 L2166.28 1900.97 L2170.79 1900.97 L2159.4 1929.3 Z\" fill=\"#000000\" fill-rule=\"evenodd\" fill-opacity=\"1\" /><path clip-path=\"url(#clip230)\" d=\"M2191.44 1908.26 Q2194.79 1908.98 2196.67 1911.25 Q2198.57 1913.52 2198.57 1916.85 Q2198.57 1921.97 2195.05 1924.77 Q2191.53 1927.57 2185.05 1927.57 Q2182.87 1927.57 2180.56 1927.13 Q2178.27 1926.71 2175.81 1925.86 L2175.81 1921.34 Q2177.76 1922.48 2180.07 1923.05 Q2182.39 1923.63 2184.91 1923.63 Q2189.31 1923.63 2191.6 1921.9 Q2193.91 1920.16 2193.91 1916.85 Q2193.91 1913.8 2191.76 1912.08 Q2189.63 1910.35 2185.81 1910.35 L2181.79 1910.35 L2181.79 1906.5 L2186 1906.5 Q2189.45 1906.5 2191.28 1905.14 Q2193.1 1903.75 2193.1 1901.16 Q2193.1 1898.49 2191.21 1897.08 Q2189.33 1895.65 2185.81 1895.65 Q2183.89 1895.65 2181.69 1896.06 Q2179.49 1896.48 2176.85 1897.36 L2176.85 1893.19 Q2179.52 1892.45 2181.83 1892.08 Q2184.17 1891.71 2186.23 1891.71 Q2191.55 1891.71 2194.66 1894.14 Q2197.76 1896.55 2197.76 1900.67 Q2197.76 1903.54 2196.11 1905.53 Q2194.47 1907.5 2191.44 1908.26 Z\" fill=\"#000000\" fill-rule=\"evenodd\" fill-opacity=\"1\" /><path clip-path=\"url(#clip230)\" d=\"M2217.43 1895.42 Q2213.82 1895.42 2211.99 1898.98 Q2210.19 1902.52 2210.19 1909.65 Q2210.19 1916.76 2211.99 1920.32 Q2213.82 1923.87 2217.43 1923.87 Q2221.07 1923.87 2222.87 1920.32 Q2224.7 1916.76 2224.7 1909.65 Q2224.7 1902.52 2222.87 1898.98 Q2221.07 1895.42 2217.43 1895.42 M2217.43 1891.71 Q2223.24 1891.71 2226.3 1896.32 Q2229.38 1900.9 2229.38 1909.65 Q2229.38 1918.38 2226.3 1922.99 Q2223.24 1927.57 2217.43 1927.57 Q2211.62 1927.57 2208.54 1922.99 Q2205.49 1918.38 2205.49 1909.65 Q2205.49 1900.9 2208.54 1896.32 Q2211.62 1891.71 2217.43 1891.71 Z\" fill=\"#000000\" fill-rule=\"evenodd\" fill-opacity=\"1\" /><polyline clip-path=\"url(#clip230)\" style=\"stroke:#dd64b5; stroke-linecap:butt; stroke-linejoin:round; stroke-width:4; stroke-opacity:1; fill:none\" points=\"\n",
       "  1973.51,1970.1 2120.98,1970.1 \n",
       "  \"/>\n",
       "<path clip-path=\"url(#clip230)\" d=\"M2159.4 1989.78 Q2157.6 1994.41 2155.88 1995.83 Q2154.17 1997.24 2151.3 1997.24 L2147.9 1997.24 L2147.9 1993.67 L2150.4 1993.67 Q2152.16 1993.67 2153.13 1992.84 Q2154.1 1992.01 2155.28 1988.91 L2156.04 1986.96 L2145.56 1961.45 L2150.07 1961.45 L2158.17 1981.73 L2166.28 1961.45 L2170.79 1961.45 L2159.4 1989.78 Z\" fill=\"#000000\" fill-rule=\"evenodd\" fill-opacity=\"1\" /><path clip-path=\"url(#clip230)\" d=\"M2191.44 1968.74 Q2194.79 1969.46 2196.67 1971.73 Q2198.57 1974 2198.57 1977.33 Q2198.57 1982.45 2195.05 1985.25 Q2191.53 1988.05 2185.05 1988.05 Q2182.87 1988.05 2180.56 1987.61 Q2178.27 1987.19 2175.81 1986.34 L2175.81 1981.82 Q2177.76 1982.96 2180.07 1983.53 Q2182.39 1984.11 2184.91 1984.11 Q2189.31 1984.11 2191.6 1982.38 Q2193.91 1980.64 2193.91 1977.33 Q2193.91 1974.28 2191.76 1972.56 Q2189.63 1970.83 2185.81 1970.83 L2181.79 1970.83 L2181.79 1966.98 L2186 1966.98 Q2189.45 1966.98 2191.28 1965.62 Q2193.1 1964.23 2193.1 1961.64 Q2193.1 1958.97 2191.21 1957.56 Q2189.33 1956.13 2185.81 1956.13 Q2183.89 1956.13 2181.69 1956.54 Q2179.49 1956.96 2176.85 1957.84 L2176.85 1953.67 Q2179.52 1952.93 2181.83 1952.56 Q2184.17 1952.19 2186.23 1952.19 Q2191.55 1952.19 2194.66 1954.62 Q2197.76 1957.03 2197.76 1961.15 Q2197.76 1964.02 2196.11 1966.01 Q2194.47 1967.98 2191.44 1968.74 Z\" fill=\"#000000\" fill-rule=\"evenodd\" fill-opacity=\"1\" /><path clip-path=\"url(#clip230)\" d=\"M2208.24 1983.44 L2215.88 1983.44 L2215.88 1957.08 L2207.57 1958.74 L2207.57 1954.48 L2215.84 1952.82 L2220.51 1952.82 L2220.51 1983.44 L2228.15 1983.44 L2228.15 1987.38 L2208.24 1987.38 L2208.24 1983.44 Z\" fill=\"#000000\" fill-rule=\"evenodd\" fill-opacity=\"1\" /><polyline clip-path=\"url(#clip230)\" style=\"stroke:#6b9e32; stroke-linecap:butt; stroke-linejoin:round; stroke-width:4; stroke-opacity:1; fill:none\" points=\"\n",
       "  1973.51,2030.58 2120.98,2030.58 \n",
       "  \"/>\n",
       "<path clip-path=\"url(#clip230)\" d=\"M2159.4 2050.26 Q2157.6 2054.89 2155.88 2056.31 Q2154.17 2057.72 2151.3 2057.72 L2147.9 2057.72 L2147.9 2054.15 L2150.4 2054.15 Q2152.16 2054.15 2153.13 2053.32 Q2154.1 2052.49 2155.28 2049.39 L2156.04 2047.44 L2145.56 2021.93 L2150.07 2021.93 L2158.17 2042.21 L2166.28 2021.93 L2170.79 2021.93 L2159.4 2050.26 Z\" fill=\"#000000\" fill-rule=\"evenodd\" fill-opacity=\"1\" /><path clip-path=\"url(#clip230)\" d=\"M2191.44 2029.22 Q2194.79 2029.94 2196.67 2032.21 Q2198.57 2034.48 2198.57 2037.81 Q2198.57 2042.93 2195.05 2045.73 Q2191.53 2048.53 2185.05 2048.53 Q2182.87 2048.53 2180.56 2048.09 Q2178.27 2047.67 2175.81 2046.82 L2175.81 2042.3 Q2177.76 2043.44 2180.07 2044.01 Q2182.39 2044.59 2184.91 2044.59 Q2189.31 2044.59 2191.6 2042.86 Q2193.91 2041.12 2193.91 2037.81 Q2193.91 2034.76 2191.76 2033.04 Q2189.63 2031.31 2185.81 2031.31 L2181.79 2031.31 L2181.79 2027.46 L2186 2027.46 Q2189.45 2027.46 2191.28 2026.1 Q2193.1 2024.71 2193.1 2022.12 Q2193.1 2019.45 2191.21 2018.04 Q2189.33 2016.61 2185.81 2016.61 Q2183.89 2016.61 2181.69 2017.02 Q2179.49 2017.44 2176.85 2018.32 L2176.85 2014.15 Q2179.52 2013.41 2181.83 2013.04 Q2184.17 2012.67 2186.23 2012.67 Q2191.55 2012.67 2194.66 2015.1 Q2197.76 2017.51 2197.76 2021.63 Q2197.76 2024.5 2196.11 2026.49 Q2194.47 2028.46 2191.44 2029.22 Z\" fill=\"#000000\" fill-rule=\"evenodd\" fill-opacity=\"1\" /><path clip-path=\"url(#clip230)\" d=\"M2211.46 2043.92 L2227.78 2043.92 L2227.78 2047.86 L2205.84 2047.86 L2205.84 2043.92 Q2208.5 2041.17 2213.08 2036.54 Q2217.69 2031.89 2218.87 2030.54 Q2221.11 2028.02 2221.99 2026.28 Q2222.9 2024.52 2222.9 2022.83 Q2222.9 2020.08 2220.95 2018.34 Q2219.03 2016.61 2215.93 2016.61 Q2213.73 2016.61 2211.28 2017.37 Q2208.85 2018.14 2206.07 2019.69 L2206.07 2014.96 Q2208.89 2013.83 2211.35 2013.25 Q2213.8 2012.67 2215.84 2012.67 Q2221.21 2012.67 2224.4 2015.36 Q2227.6 2018.04 2227.6 2022.53 Q2227.6 2024.66 2226.78 2026.58 Q2226 2028.48 2223.89 2031.08 Q2223.31 2031.75 2220.21 2034.96 Q2217.11 2038.16 2211.46 2043.92 Z\" fill=\"#000000\" fill-rule=\"evenodd\" fill-opacity=\"1\" /><polyline clip-path=\"url(#clip230)\" style=\"stroke:#009af9; stroke-linecap:butt; stroke-linejoin:round; stroke-width:4; stroke-opacity:1; fill:none\" points=\"\n",
       "  1973.51,2091.06 2120.98,2091.06 \n",
       "  \"/>\n",
       "<path clip-path=\"url(#clip230)\" d=\"M2159.4 2110.74 Q2157.6 2115.37 2155.88 2116.79 Q2154.17 2118.2 2151.3 2118.2 L2147.9 2118.2 L2147.9 2114.63 L2150.4 2114.63 Q2152.16 2114.63 2153.13 2113.8 Q2154.1 2112.97 2155.28 2109.87 L2156.04 2107.92 L2145.56 2082.41 L2150.07 2082.41 L2158.17 2102.69 L2166.28 2082.41 L2170.79 2082.41 L2159.4 2110.74 Z\" fill=\"#000000\" fill-rule=\"evenodd\" fill-opacity=\"1\" /><path clip-path=\"url(#clip230)\" d=\"M2191.44 2089.7 Q2194.79 2090.42 2196.67 2092.69 Q2198.57 2094.96 2198.57 2098.29 Q2198.57 2103.41 2195.05 2106.21 Q2191.53 2109.01 2185.05 2109.01 Q2182.87 2109.01 2180.56 2108.57 Q2178.27 2108.15 2175.81 2107.3 L2175.81 2102.78 Q2177.76 2103.92 2180.07 2104.49 Q2182.39 2105.07 2184.91 2105.07 Q2189.31 2105.07 2191.6 2103.34 Q2193.91 2101.6 2193.91 2098.29 Q2193.91 2095.24 2191.76 2093.52 Q2189.63 2091.79 2185.81 2091.79 L2181.79 2091.79 L2181.79 2087.94 L2186 2087.94 Q2189.45 2087.94 2191.28 2086.58 Q2193.1 2085.19 2193.1 2082.6 Q2193.1 2079.93 2191.21 2078.52 Q2189.33 2077.09 2185.81 2077.09 Q2183.89 2077.09 2181.69 2077.5 Q2179.49 2077.92 2176.85 2078.8 L2176.85 2074.63 Q2179.52 2073.89 2181.83 2073.52 Q2184.17 2073.15 2186.23 2073.15 Q2191.55 2073.15 2194.66 2075.58 Q2197.76 2077.99 2197.76 2082.11 Q2197.76 2084.98 2196.11 2086.97 Q2194.47 2088.94 2191.44 2089.7 Z\" fill=\"#000000\" fill-rule=\"evenodd\" fill-opacity=\"1\" /><path clip-path=\"url(#clip230)\" d=\"M2221.6 2089.7 Q2224.96 2090.42 2226.83 2092.69 Q2228.73 2094.96 2228.73 2098.29 Q2228.73 2103.41 2225.21 2106.21 Q2221.69 2109.01 2215.21 2109.01 Q2213.04 2109.01 2210.72 2108.57 Q2208.43 2108.15 2205.97 2107.3 L2205.97 2102.78 Q2207.92 2103.92 2210.23 2104.49 Q2212.55 2105.07 2215.07 2105.07 Q2219.47 2105.07 2221.76 2103.34 Q2224.08 2101.6 2224.08 2098.29 Q2224.08 2095.24 2221.92 2093.52 Q2219.79 2091.79 2215.97 2091.79 L2211.95 2091.79 L2211.95 2087.94 L2216.16 2087.94 Q2219.61 2087.94 2221.44 2086.58 Q2223.27 2085.19 2223.27 2082.6 Q2223.27 2079.93 2221.37 2078.52 Q2219.49 2077.09 2215.97 2077.09 Q2214.05 2077.09 2211.85 2077.5 Q2209.66 2077.92 2207.02 2078.8 L2207.02 2074.63 Q2209.68 2073.89 2211.99 2073.52 Q2214.33 2073.15 2216.39 2073.15 Q2221.72 2073.15 2224.82 2075.58 Q2227.92 2077.99 2227.92 2082.11 Q2227.92 2084.98 2226.28 2086.97 Q2224.63 2088.94 2221.6 2089.7 Z\" fill=\"#000000\" fill-rule=\"evenodd\" fill-opacity=\"1\" /><polyline clip-path=\"url(#clip230)\" style=\"stroke:#e26f46; stroke-linecap:butt; stroke-linejoin:round; stroke-width:4; stroke-opacity:1; fill:none\" points=\"\n",
       "  1973.51,2151.54 2120.98,2151.54 \n",
       "  \"/>\n",
       "<path clip-path=\"url(#clip230)\" d=\"M2159.4 2171.22 Q2157.6 2175.85 2155.88 2177.27 Q2154.17 2178.68 2151.3 2178.68 L2147.9 2178.68 L2147.9 2175.11 L2150.4 2175.11 Q2152.16 2175.11 2153.13 2174.28 Q2154.1 2173.45 2155.28 2170.35 L2156.04 2168.4 L2145.56 2142.89 L2150.07 2142.89 L2158.17 2163.17 L2166.28 2142.89 L2170.79 2142.89 L2159.4 2171.22 Z\" fill=\"#000000\" fill-rule=\"evenodd\" fill-opacity=\"1\" /><path clip-path=\"url(#clip230)\" d=\"M2191.44 2150.18 Q2194.79 2150.9 2196.67 2153.17 Q2198.57 2155.44 2198.57 2158.77 Q2198.57 2163.89 2195.05 2166.69 Q2191.53 2169.49 2185.05 2169.49 Q2182.87 2169.49 2180.56 2169.05 Q2178.27 2168.63 2175.81 2167.78 L2175.81 2163.26 Q2177.76 2164.4 2180.07 2164.97 Q2182.39 2165.55 2184.91 2165.55 Q2189.31 2165.55 2191.6 2163.82 Q2193.91 2162.08 2193.91 2158.77 Q2193.91 2155.72 2191.76 2154 Q2189.63 2152.27 2185.81 2152.27 L2181.79 2152.27 L2181.79 2148.42 L2186 2148.42 Q2189.45 2148.42 2191.28 2147.06 Q2193.1 2145.67 2193.1 2143.08 Q2193.1 2140.41 2191.21 2139 Q2189.33 2137.57 2185.81 2137.57 Q2183.89 2137.57 2181.69 2137.98 Q2179.49 2138.4 2176.85 2139.28 L2176.85 2135.11 Q2179.52 2134.37 2181.83 2134 Q2184.17 2133.63 2186.23 2133.63 Q2191.55 2133.63 2194.66 2136.06 Q2197.76 2138.47 2197.76 2142.59 Q2197.76 2145.46 2196.11 2147.45 Q2194.47 2149.42 2191.44 2150.18 Z\" fill=\"#000000\" fill-rule=\"evenodd\" fill-opacity=\"1\" /><path clip-path=\"url(#clip230)\" d=\"M2220.28 2138.33 L2208.47 2156.78 L2220.28 2156.78 L2220.28 2138.33 M2219.05 2134.26 L2224.93 2134.26 L2224.93 2156.78 L2229.86 2156.78 L2229.86 2160.67 L2224.93 2160.67 L2224.93 2168.82 L2220.28 2168.82 L2220.28 2160.67 L2204.68 2160.67 L2204.68 2156.16 L2219.05 2134.26 Z\" fill=\"#000000\" fill-rule=\"evenodd\" fill-opacity=\"1\" /><polyline clip-path=\"url(#clip230)\" style=\"stroke:#3da44d; stroke-linecap:butt; stroke-linejoin:round; stroke-width:4; stroke-opacity:1; fill:none\" points=\"\n",
       "  1973.51,2212.02 2120.98,2212.02 \n",
       "  \"/>\n",
       "<path clip-path=\"url(#clip230)\" d=\"M2159.4 2231.7 Q2157.6 2236.33 2155.88 2237.75 Q2154.17 2239.16 2151.3 2239.16 L2147.9 2239.16 L2147.9 2235.59 L2150.4 2235.59 Q2152.16 2235.59 2153.13 2234.76 Q2154.1 2233.93 2155.28 2230.83 L2156.04 2228.88 L2145.56 2203.37 L2150.07 2203.37 L2158.17 2223.65 L2166.28 2203.37 L2170.79 2203.37 L2159.4 2231.7 Z\" fill=\"#000000\" fill-rule=\"evenodd\" fill-opacity=\"1\" /><path clip-path=\"url(#clip230)\" d=\"M2191.44 2210.66 Q2194.79 2211.38 2196.67 2213.65 Q2198.57 2215.92 2198.57 2219.25 Q2198.57 2224.37 2195.05 2227.17 Q2191.53 2229.97 2185.05 2229.97 Q2182.87 2229.97 2180.56 2229.53 Q2178.27 2229.11 2175.81 2228.26 L2175.81 2223.74 Q2177.76 2224.88 2180.07 2225.45 Q2182.39 2226.03 2184.91 2226.03 Q2189.31 2226.03 2191.6 2224.3 Q2193.91 2222.56 2193.91 2219.25 Q2193.91 2216.2 2191.76 2214.48 Q2189.63 2212.75 2185.81 2212.75 L2181.79 2212.75 L2181.79 2208.9 L2186 2208.9 Q2189.45 2208.9 2191.28 2207.54 Q2193.1 2206.15 2193.1 2203.56 Q2193.1 2200.89 2191.21 2199.48 Q2189.33 2198.05 2185.81 2198.05 Q2183.89 2198.05 2181.69 2198.46 Q2179.49 2198.88 2176.85 2199.76 L2176.85 2195.59 Q2179.52 2194.85 2181.83 2194.48 Q2184.17 2194.11 2186.23 2194.11 Q2191.55 2194.11 2194.66 2196.54 Q2197.76 2198.95 2197.76 2203.07 Q2197.76 2205.94 2196.11 2207.93 Q2194.47 2209.9 2191.44 2210.66 Z\" fill=\"#000000\" fill-rule=\"evenodd\" fill-opacity=\"1\" /><path clip-path=\"url(#clip230)\" d=\"M2207.48 2194.74 L2225.84 2194.74 L2225.84 2198.67 L2211.76 2198.67 L2211.76 2207.14 Q2212.78 2206.8 2213.8 2206.64 Q2214.82 2206.45 2215.84 2206.45 Q2221.62 2206.45 2225 2209.62 Q2228.38 2212.79 2228.38 2218.21 Q2228.38 2223.79 2224.91 2226.89 Q2221.44 2229.97 2215.12 2229.97 Q2212.94 2229.97 2210.67 2229.6 Q2208.43 2229.23 2206.02 2228.49 L2206.02 2223.79 Q2208.1 2224.92 2210.33 2225.48 Q2212.55 2226.03 2215.03 2226.03 Q2219.03 2226.03 2221.37 2223.93 Q2223.71 2221.82 2223.71 2218.21 Q2223.71 2214.6 2221.37 2212.49 Q2219.03 2210.39 2215.03 2210.39 Q2213.15 2210.39 2211.28 2210.8 Q2209.42 2211.22 2207.48 2212.1 L2207.48 2194.74 Z\" fill=\"#000000\" fill-rule=\"evenodd\" fill-opacity=\"1\" /><polyline clip-path=\"url(#clip230)\" style=\"stroke:#c271d2; stroke-linecap:butt; stroke-linejoin:round; stroke-width:4; stroke-opacity:1; fill:none\" points=\"\n",
       "  1973.51,2272.5 2120.98,2272.5 \n",
       "  \"/>\n",
       "<path clip-path=\"url(#clip230)\" d=\"M2159.4 2292.18 Q2157.6 2296.81 2155.88 2298.23 Q2154.17 2299.64 2151.3 2299.64 L2147.9 2299.64 L2147.9 2296.07 L2150.4 2296.07 Q2152.16 2296.07 2153.13 2295.24 Q2154.1 2294.41 2155.28 2291.31 L2156.04 2289.36 L2145.56 2263.85 L2150.07 2263.85 L2158.17 2284.13 L2166.28 2263.85 L2170.79 2263.85 L2159.4 2292.18 Z\" fill=\"#000000\" fill-rule=\"evenodd\" fill-opacity=\"1\" /><path clip-path=\"url(#clip230)\" d=\"M2191.44 2271.14 Q2194.79 2271.86 2196.67 2274.13 Q2198.57 2276.4 2198.57 2279.73 Q2198.57 2284.85 2195.05 2287.65 Q2191.53 2290.45 2185.05 2290.45 Q2182.87 2290.45 2180.56 2290.01 Q2178.27 2289.59 2175.81 2288.74 L2175.81 2284.22 Q2177.76 2285.36 2180.07 2285.93 Q2182.39 2286.51 2184.91 2286.51 Q2189.31 2286.51 2191.6 2284.78 Q2193.91 2283.04 2193.91 2279.73 Q2193.91 2276.68 2191.76 2274.96 Q2189.63 2273.23 2185.81 2273.23 L2181.79 2273.23 L2181.79 2269.38 L2186 2269.38 Q2189.45 2269.38 2191.28 2268.02 Q2193.1 2266.63 2193.1 2264.04 Q2193.1 2261.37 2191.21 2259.96 Q2189.33 2258.53 2185.81 2258.53 Q2183.89 2258.53 2181.69 2258.94 Q2179.49 2259.36 2176.85 2260.24 L2176.85 2256.07 Q2179.52 2255.33 2181.83 2254.96 Q2184.17 2254.59 2186.23 2254.59 Q2191.55 2254.59 2194.66 2257.02 Q2197.76 2259.43 2197.76 2263.55 Q2197.76 2266.42 2196.11 2268.41 Q2194.47 2270.38 2191.44 2271.14 Z\" fill=\"#000000\" fill-rule=\"evenodd\" fill-opacity=\"1\" /><path clip-path=\"url(#clip230)\" d=\"M2218.01 2270.63 Q2214.86 2270.63 2213.01 2272.79 Q2211.18 2274.94 2211.18 2278.69 Q2211.18 2282.42 2213.01 2284.59 Q2214.86 2286.75 2218.01 2286.75 Q2221.16 2286.75 2222.99 2284.59 Q2224.84 2282.42 2224.84 2278.69 Q2224.84 2274.94 2222.99 2272.79 Q2221.16 2270.63 2218.01 2270.63 M2227.29 2255.98 L2227.29 2260.24 Q2225.53 2259.41 2223.73 2258.97 Q2221.95 2258.53 2220.19 2258.53 Q2215.56 2258.53 2213.1 2261.65 Q2210.67 2264.78 2210.33 2271.1 Q2211.69 2269.08 2213.75 2268.02 Q2215.81 2266.93 2218.29 2266.93 Q2223.5 2266.93 2226.51 2270.1 Q2229.54 2273.25 2229.54 2278.69 Q2229.54 2284.01 2226.39 2287.23 Q2223.24 2290.45 2218.01 2290.45 Q2212.02 2290.45 2208.85 2285.87 Q2205.67 2281.26 2205.67 2272.53 Q2205.67 2264.34 2209.56 2259.48 Q2213.45 2254.59 2220 2254.59 Q2221.76 2254.59 2223.54 2254.94 Q2225.35 2255.29 2227.29 2255.98 Z\" fill=\"#000000\" fill-rule=\"evenodd\" fill-opacity=\"1\" /><polyline clip-path=\"url(#clip230)\" style=\"stroke:#ac8d18; stroke-linecap:butt; stroke-linejoin:round; stroke-width:4; stroke-opacity:1; fill:none\" points=\"\n",
       "  1973.51,2332.98 2120.98,2332.98 \n",
       "  \"/>\n",
       "<path clip-path=\"url(#clip230)\" d=\"M2159.4 2352.66 Q2157.6 2357.29 2155.88 2358.71 Q2154.17 2360.12 2151.3 2360.12 L2147.9 2360.12 L2147.9 2356.55 L2150.4 2356.55 Q2152.16 2356.55 2153.13 2355.72 Q2154.1 2354.89 2155.28 2351.79 L2156.04 2349.84 L2145.56 2324.33 L2150.07 2324.33 L2158.17 2344.61 L2166.28 2324.33 L2170.79 2324.33 L2159.4 2352.66 Z\" fill=\"#000000\" fill-rule=\"evenodd\" fill-opacity=\"1\" /><path clip-path=\"url(#clip230)\" d=\"M2191.44 2331.62 Q2194.79 2332.34 2196.67 2334.61 Q2198.57 2336.88 2198.57 2340.21 Q2198.57 2345.33 2195.05 2348.13 Q2191.53 2350.93 2185.05 2350.93 Q2182.87 2350.93 2180.56 2350.49 Q2178.27 2350.07 2175.81 2349.22 L2175.81 2344.7 Q2177.76 2345.84 2180.07 2346.41 Q2182.39 2346.99 2184.91 2346.99 Q2189.31 2346.99 2191.6 2345.26 Q2193.91 2343.52 2193.91 2340.21 Q2193.91 2337.16 2191.76 2335.44 Q2189.63 2333.71 2185.81 2333.71 L2181.79 2333.71 L2181.79 2329.86 L2186 2329.86 Q2189.45 2329.86 2191.28 2328.5 Q2193.1 2327.11 2193.1 2324.52 Q2193.1 2321.85 2191.21 2320.44 Q2189.33 2319.01 2185.81 2319.01 Q2183.89 2319.01 2181.69 2319.42 Q2179.49 2319.84 2176.85 2320.72 L2176.85 2316.55 Q2179.52 2315.81 2181.83 2315.44 Q2184.17 2315.07 2186.23 2315.07 Q2191.55 2315.07 2194.66 2317.5 Q2197.76 2319.91 2197.76 2324.03 Q2197.76 2326.9 2196.11 2328.89 Q2194.47 2330.86 2191.44 2331.62 Z\" fill=\"#000000\" fill-rule=\"evenodd\" fill-opacity=\"1\" /><path clip-path=\"url(#clip230)\" d=\"M2206.25 2315.7 L2228.47 2315.7 L2228.47 2317.69 L2215.93 2350.26 L2211.04 2350.26 L2222.85 2319.63 L2206.25 2319.63 L2206.25 2315.7 Z\" fill=\"#000000\" fill-rule=\"evenodd\" fill-opacity=\"1\" /><polyline clip-path=\"url(#clip230)\" style=\"stroke:#00a9ad; stroke-linecap:butt; stroke-linejoin:round; stroke-width:4; stroke-opacity:1; fill:none\" points=\"\n",
       "  1973.51,2393.46 2120.98,2393.46 \n",
       "  \"/>\n",
       "<path clip-path=\"url(#clip230)\" d=\"M2159.4 2413.14 Q2157.6 2417.77 2155.88 2419.19 Q2154.17 2420.6 2151.3 2420.6 L2147.9 2420.6 L2147.9 2417.03 L2150.4 2417.03 Q2152.16 2417.03 2153.13 2416.2 Q2154.1 2415.37 2155.28 2412.27 L2156.04 2410.32 L2145.56 2384.81 L2150.07 2384.81 L2158.17 2405.09 L2166.28 2384.81 L2170.79 2384.81 L2159.4 2413.14 Z\" fill=\"#000000\" fill-rule=\"evenodd\" fill-opacity=\"1\" /><path clip-path=\"url(#clip230)\" d=\"M2191.44 2392.1 Q2194.79 2392.82 2196.67 2395.09 Q2198.57 2397.36 2198.57 2400.69 Q2198.57 2405.81 2195.05 2408.61 Q2191.53 2411.41 2185.05 2411.41 Q2182.87 2411.41 2180.56 2410.97 Q2178.27 2410.55 2175.81 2409.7 L2175.81 2405.18 Q2177.76 2406.32 2180.07 2406.89 Q2182.39 2407.47 2184.91 2407.47 Q2189.31 2407.47 2191.6 2405.74 Q2193.91 2404 2193.91 2400.69 Q2193.91 2397.64 2191.76 2395.92 Q2189.63 2394.19 2185.81 2394.19 L2181.79 2394.19 L2181.79 2390.34 L2186 2390.34 Q2189.45 2390.34 2191.28 2388.98 Q2193.1 2387.59 2193.1 2385 Q2193.1 2382.33 2191.21 2380.92 Q2189.33 2379.49 2185.81 2379.49 Q2183.89 2379.49 2181.69 2379.9 Q2179.49 2380.32 2176.85 2381.2 L2176.85 2377.03 Q2179.52 2376.29 2181.83 2375.92 Q2184.17 2375.55 2186.23 2375.55 Q2191.55 2375.55 2194.66 2377.98 Q2197.76 2380.39 2197.76 2384.51 Q2197.76 2387.38 2196.11 2389.37 Q2194.47 2391.34 2191.44 2392.1 Z\" fill=\"#000000\" fill-rule=\"evenodd\" fill-opacity=\"1\" /><path clip-path=\"url(#clip230)\" d=\"M2217.43 2394.33 Q2214.1 2394.33 2212.18 2396.11 Q2210.28 2397.89 2210.28 2401.02 Q2210.28 2404.14 2212.18 2405.92 Q2214.1 2407.71 2217.43 2407.71 Q2220.77 2407.71 2222.69 2405.92 Q2224.61 2404.12 2224.61 2401.02 Q2224.61 2397.89 2222.69 2396.11 Q2220.79 2394.33 2217.43 2394.33 M2212.76 2392.33 Q2209.75 2391.59 2208.06 2389.53 Q2206.39 2387.47 2206.39 2384.51 Q2206.39 2380.37 2209.33 2377.96 Q2212.29 2375.55 2217.43 2375.55 Q2222.6 2375.55 2225.53 2377.96 Q2228.47 2380.37 2228.47 2384.51 Q2228.47 2387.47 2226.78 2389.53 Q2225.12 2391.59 2222.13 2392.33 Q2225.51 2393.12 2227.39 2395.41 Q2229.28 2397.71 2229.28 2401.02 Q2229.28 2406.04 2226.21 2408.72 Q2223.15 2411.41 2217.43 2411.41 Q2211.72 2411.41 2208.64 2408.72 Q2205.58 2406.04 2205.58 2401.02 Q2205.58 2397.71 2207.48 2395.41 Q2209.38 2393.12 2212.76 2392.33 M2211.04 2384.95 Q2211.04 2387.64 2212.71 2389.14 Q2214.4 2390.65 2217.43 2390.65 Q2220.44 2390.65 2222.13 2389.14 Q2223.85 2387.64 2223.85 2384.95 Q2223.85 2382.27 2222.13 2380.76 Q2220.44 2379.26 2217.43 2379.26 Q2214.4 2379.26 2212.71 2380.76 Q2211.04 2382.27 2211.04 2384.95 Z\" fill=\"#000000\" fill-rule=\"evenodd\" fill-opacity=\"1\" /><polyline clip-path=\"url(#clip230)\" style=\"stroke:#ed5d92; stroke-linecap:butt; stroke-linejoin:round; stroke-width:4; stroke-opacity:1; fill:none\" points=\"\n",
       "  1973.51,2453.94 2120.98,2453.94 \n",
       "  \"/>\n",
       "<path clip-path=\"url(#clip230)\" d=\"M2159.4 2473.62 Q2157.6 2478.25 2155.88 2479.67 Q2154.17 2481.08 2151.3 2481.08 L2147.9 2481.08 L2147.9 2477.51 L2150.4 2477.51 Q2152.16 2477.51 2153.13 2476.68 Q2154.1 2475.85 2155.28 2472.75 L2156.04 2470.8 L2145.56 2445.29 L2150.07 2445.29 L2158.17 2465.57 L2166.28 2445.29 L2170.79 2445.29 L2159.4 2473.62 Z\" fill=\"#000000\" fill-rule=\"evenodd\" fill-opacity=\"1\" /><path clip-path=\"url(#clip230)\" d=\"M2191.44 2452.58 Q2194.79 2453.3 2196.67 2455.57 Q2198.57 2457.84 2198.57 2461.17 Q2198.57 2466.29 2195.05 2469.09 Q2191.53 2471.89 2185.05 2471.89 Q2182.87 2471.89 2180.56 2471.45 Q2178.27 2471.03 2175.81 2470.18 L2175.81 2465.66 Q2177.76 2466.8 2180.07 2467.37 Q2182.39 2467.95 2184.91 2467.95 Q2189.31 2467.95 2191.6 2466.22 Q2193.91 2464.48 2193.91 2461.17 Q2193.91 2458.12 2191.76 2456.4 Q2189.63 2454.67 2185.81 2454.67 L2181.79 2454.67 L2181.79 2450.82 L2186 2450.82 Q2189.45 2450.82 2191.28 2449.46 Q2193.1 2448.07 2193.1 2445.48 Q2193.1 2442.81 2191.21 2441.4 Q2189.33 2439.97 2185.81 2439.97 Q2183.89 2439.97 2181.69 2440.38 Q2179.49 2440.8 2176.85 2441.68 L2176.85 2437.51 Q2179.52 2436.77 2181.83 2436.4 Q2184.17 2436.03 2186.23 2436.03 Q2191.55 2436.03 2194.66 2438.46 Q2197.76 2440.87 2197.76 2444.99 Q2197.76 2447.86 2196.11 2449.85 Q2194.47 2451.82 2191.44 2452.58 Z\" fill=\"#000000\" fill-rule=\"evenodd\" fill-opacity=\"1\" /><path clip-path=\"url(#clip230)\" d=\"M2207.57 2470.5 L2207.57 2466.24 Q2209.33 2467.07 2211.14 2467.51 Q2212.94 2467.95 2214.68 2467.95 Q2219.31 2467.95 2221.74 2464.85 Q2224.19 2461.73 2224.54 2455.38 Q2223.2 2457.38 2221.14 2458.44 Q2219.08 2459.5 2216.58 2459.5 Q2211.39 2459.5 2208.36 2456.38 Q2205.35 2453.23 2205.35 2447.79 Q2205.35 2442.47 2208.5 2439.25 Q2211.65 2436.03 2216.88 2436.03 Q2222.87 2436.03 2226.02 2440.64 Q2229.19 2445.22 2229.19 2453.97 Q2229.19 2462.14 2225.3 2467.03 Q2221.44 2471.89 2214.89 2471.89 Q2213.13 2471.89 2211.32 2471.54 Q2209.52 2471.19 2207.57 2470.5 M2216.88 2455.85 Q2220.03 2455.85 2221.85 2453.69 Q2223.71 2451.54 2223.71 2447.79 Q2223.71 2444.06 2221.85 2441.91 Q2220.03 2439.74 2216.88 2439.74 Q2213.73 2439.74 2211.88 2441.91 Q2210.05 2444.06 2210.05 2447.79 Q2210.05 2451.54 2211.88 2453.69 Q2213.73 2455.85 2216.88 2455.85 Z\" fill=\"#000000\" fill-rule=\"evenodd\" fill-opacity=\"1\" /><polyline clip-path=\"url(#clip230)\" style=\"stroke:#c68125; stroke-linecap:butt; stroke-linejoin:round; stroke-width:4; stroke-opacity:1; fill:none\" points=\"\n",
       "  1973.51,2514.42 2120.98,2514.42 \n",
       "  \"/>\n",
       "<path clip-path=\"url(#clip230)\" d=\"M2159.4 2534.1 Q2157.6 2538.73 2155.88 2540.15 Q2154.17 2541.56 2151.3 2541.56 L2147.9 2541.56 L2147.9 2537.99 L2150.4 2537.99 Q2152.16 2537.99 2153.13 2537.16 Q2154.1 2536.33 2155.28 2533.23 L2156.04 2531.28 L2145.56 2505.77 L2150.07 2505.77 L2158.17 2526.05 L2166.28 2505.77 L2170.79 2505.77 L2159.4 2534.1 Z\" fill=\"#000000\" fill-rule=\"evenodd\" fill-opacity=\"1\" /><path clip-path=\"url(#clip230)\" d=\"M2190.12 2501.21 L2178.31 2519.66 L2190.12 2519.66 L2190.12 2501.21 M2188.89 2497.14 L2194.77 2497.14 L2194.77 2519.66 L2199.7 2519.66 L2199.7 2523.55 L2194.77 2523.55 L2194.77 2531.7 L2190.12 2531.7 L2190.12 2523.55 L2174.52 2523.55 L2174.52 2519.04 L2188.89 2497.14 Z\" fill=\"#000000\" fill-rule=\"evenodd\" fill-opacity=\"1\" /><path clip-path=\"url(#clip230)\" d=\"M2217.43 2500.22 Q2213.82 2500.22 2211.99 2503.78 Q2210.19 2507.32 2210.19 2514.45 Q2210.19 2521.56 2211.99 2525.12 Q2213.82 2528.67 2217.43 2528.67 Q2221.07 2528.67 2222.87 2525.12 Q2224.7 2521.56 2224.7 2514.45 Q2224.7 2507.32 2222.87 2503.78 Q2221.07 2500.22 2217.43 2500.22 M2217.43 2496.51 Q2223.24 2496.51 2226.3 2501.12 Q2229.38 2505.7 2229.38 2514.45 Q2229.38 2523.18 2226.3 2527.79 Q2223.24 2532.37 2217.43 2532.37 Q2211.62 2532.37 2208.54 2527.79 Q2205.49 2523.18 2205.49 2514.45 Q2205.49 2505.7 2208.54 2501.12 Q2211.62 2496.51 2217.43 2496.51 Z\" fill=\"#000000\" fill-rule=\"evenodd\" fill-opacity=\"1\" /><polyline clip-path=\"url(#clip230)\" style=\"stroke:#00a98d; stroke-linecap:butt; stroke-linejoin:round; stroke-width:4; stroke-opacity:1; fill:none\" points=\"\n",
       "  1973.51,2574.9 2120.98,2574.9 \n",
       "  \"/>\n",
       "<path clip-path=\"url(#clip230)\" d=\"M2159.4 2594.58 Q2157.6 2599.21 2155.88 2600.63 Q2154.17 2602.04 2151.3 2602.04 L2147.9 2602.04 L2147.9 2598.47 L2150.4 2598.47 Q2152.16 2598.47 2153.13 2597.64 Q2154.1 2596.81 2155.28 2593.71 L2156.04 2591.76 L2145.56 2566.25 L2150.07 2566.25 L2158.17 2586.53 L2166.28 2566.25 L2170.79 2566.25 L2159.4 2594.58 Z\" fill=\"#000000\" fill-rule=\"evenodd\" fill-opacity=\"1\" /><path clip-path=\"url(#clip230)\" d=\"M2190.12 2561.69 L2178.31 2580.14 L2190.12 2580.14 L2190.12 2561.69 M2188.89 2557.62 L2194.77 2557.62 L2194.77 2580.14 L2199.7 2580.14 L2199.7 2584.03 L2194.77 2584.03 L2194.77 2592.18 L2190.12 2592.18 L2190.12 2584.03 L2174.52 2584.03 L2174.52 2579.52 L2188.89 2557.62 Z\" fill=\"#000000\" fill-rule=\"evenodd\" fill-opacity=\"1\" /><path clip-path=\"url(#clip230)\" d=\"M2208.24 2588.24 L2215.88 2588.24 L2215.88 2561.88 L2207.57 2563.54 L2207.57 2559.28 L2215.84 2557.62 L2220.51 2557.62 L2220.51 2588.24 L2228.15 2588.24 L2228.15 2592.18 L2208.24 2592.18 L2208.24 2588.24 Z\" fill=\"#000000\" fill-rule=\"evenodd\" fill-opacity=\"1\" /><polyline clip-path=\"url(#clip230)\" style=\"stroke:#8e971d; stroke-linecap:butt; stroke-linejoin:round; stroke-width:4; stroke-opacity:1; fill:none\" points=\"\n",
       "  1973.51,2635.38 2120.98,2635.38 \n",
       "  \"/>\n",
       "<path clip-path=\"url(#clip230)\" d=\"M2159.4 2655.06 Q2157.6 2659.69 2155.88 2661.11 Q2154.17 2662.52 2151.3 2662.52 L2147.9 2662.52 L2147.9 2658.95 L2150.4 2658.95 Q2152.16 2658.95 2153.13 2658.12 Q2154.1 2657.29 2155.28 2654.19 L2156.04 2652.24 L2145.56 2626.73 L2150.07 2626.73 L2158.17 2647.01 L2166.28 2626.73 L2170.79 2626.73 L2159.4 2655.06 Z\" fill=\"#000000\" fill-rule=\"evenodd\" fill-opacity=\"1\" /><path clip-path=\"url(#clip230)\" d=\"M2190.12 2622.17 L2178.31 2640.62 L2190.12 2640.62 L2190.12 2622.17 M2188.89 2618.1 L2194.77 2618.1 L2194.77 2640.62 L2199.7 2640.62 L2199.7 2644.51 L2194.77 2644.51 L2194.77 2652.66 L2190.12 2652.66 L2190.12 2644.51 L2174.52 2644.51 L2174.52 2640 L2188.89 2618.1 Z\" fill=\"#000000\" fill-rule=\"evenodd\" fill-opacity=\"1\" /><path clip-path=\"url(#clip230)\" d=\"M2211.46 2648.72 L2227.78 2648.72 L2227.78 2652.66 L2205.84 2652.66 L2205.84 2648.72 Q2208.5 2645.97 2213.08 2641.34 Q2217.69 2636.69 2218.87 2635.34 Q2221.11 2632.82 2221.99 2631.08 Q2222.9 2629.32 2222.9 2627.63 Q2222.9 2624.88 2220.95 2623.14 Q2219.03 2621.41 2215.93 2621.41 Q2213.73 2621.41 2211.28 2622.17 Q2208.85 2622.94 2206.07 2624.49 L2206.07 2619.76 Q2208.89 2618.63 2211.35 2618.05 Q2213.8 2617.47 2215.84 2617.47 Q2221.21 2617.47 2224.4 2620.16 Q2227.6 2622.84 2227.6 2627.33 Q2227.6 2629.46 2226.78 2631.38 Q2226 2633.28 2223.89 2635.88 Q2223.31 2636.55 2220.21 2639.76 Q2217.11 2642.96 2211.46 2648.72 Z\" fill=\"#000000\" fill-rule=\"evenodd\" fill-opacity=\"1\" /><polyline clip-path=\"url(#clip230)\" style=\"stroke:#00a8cb; stroke-linecap:butt; stroke-linejoin:round; stroke-width:4; stroke-opacity:1; fill:none\" points=\"\n",
       "  1973.51,2695.86 2120.98,2695.86 \n",
       "  \"/>\n",
       "<path clip-path=\"url(#clip230)\" d=\"M2159.4 2715.54 Q2157.6 2720.17 2155.88 2721.59 Q2154.17 2723 2151.3 2723 L2147.9 2723 L2147.9 2719.43 L2150.4 2719.43 Q2152.16 2719.43 2153.13 2718.6 Q2154.1 2717.77 2155.28 2714.67 L2156.04 2712.72 L2145.56 2687.21 L2150.07 2687.21 L2158.17 2707.49 L2166.28 2687.21 L2170.79 2687.21 L2159.4 2715.54 Z\" fill=\"#000000\" fill-rule=\"evenodd\" fill-opacity=\"1\" /><path clip-path=\"url(#clip230)\" d=\"M2190.12 2682.65 L2178.31 2701.1 L2190.12 2701.1 L2190.12 2682.65 M2188.89 2678.58 L2194.77 2678.58 L2194.77 2701.1 L2199.7 2701.1 L2199.7 2704.99 L2194.77 2704.99 L2194.77 2713.14 L2190.12 2713.14 L2190.12 2704.99 L2174.52 2704.99 L2174.52 2700.48 L2188.89 2678.58 Z\" fill=\"#000000\" fill-rule=\"evenodd\" fill-opacity=\"1\" /><path clip-path=\"url(#clip230)\" d=\"M2221.6 2694.5 Q2224.96 2695.22 2226.83 2697.49 Q2228.73 2699.76 2228.73 2703.09 Q2228.73 2708.21 2225.21 2711.01 Q2221.69 2713.81 2215.21 2713.81 Q2213.04 2713.81 2210.72 2713.37 Q2208.43 2712.95 2205.97 2712.1 L2205.97 2707.58 Q2207.92 2708.72 2210.23 2709.29 Q2212.55 2709.87 2215.07 2709.87 Q2219.47 2709.87 2221.76 2708.14 Q2224.08 2706.4 2224.08 2703.09 Q2224.08 2700.04 2221.92 2698.32 Q2219.79 2696.59 2215.97 2696.59 L2211.95 2696.59 L2211.95 2692.74 L2216.16 2692.74 Q2219.61 2692.74 2221.44 2691.38 Q2223.27 2689.99 2223.27 2687.4 Q2223.27 2684.73 2221.37 2683.32 Q2219.49 2681.89 2215.97 2681.89 Q2214.05 2681.89 2211.85 2682.3 Q2209.66 2682.72 2207.02 2683.6 L2207.02 2679.43 Q2209.68 2678.69 2211.99 2678.32 Q2214.33 2677.95 2216.39 2677.95 Q2221.72 2677.95 2224.82 2680.38 Q2227.92 2682.79 2227.92 2686.91 Q2227.92 2689.78 2226.28 2691.77 Q2224.63 2693.74 2221.6 2694.5 Z\" fill=\"#000000\" fill-rule=\"evenodd\" fill-opacity=\"1\" /><polyline clip-path=\"url(#clip230)\" style=\"stroke:#9b7fe8; stroke-linecap:butt; stroke-linejoin:round; stroke-width:4; stroke-opacity:1; fill:none\" points=\"\n",
       "  1973.51,2756.34 2120.98,2756.34 \n",
       "  \"/>\n",
       "<path clip-path=\"url(#clip230)\" d=\"M2159.4 2776.02 Q2157.6 2780.65 2155.88 2782.07 Q2154.17 2783.48 2151.3 2783.48 L2147.9 2783.48 L2147.9 2779.91 L2150.4 2779.91 Q2152.16 2779.91 2153.13 2779.08 Q2154.1 2778.25 2155.28 2775.15 L2156.04 2773.2 L2145.56 2747.69 L2150.07 2747.69 L2158.17 2767.97 L2166.28 2747.69 L2170.79 2747.69 L2159.4 2776.02 Z\" fill=\"#000000\" fill-rule=\"evenodd\" fill-opacity=\"1\" /><path clip-path=\"url(#clip230)\" d=\"M2190.12 2743.13 L2178.31 2761.58 L2190.12 2761.58 L2190.12 2743.13 M2188.89 2739.06 L2194.77 2739.06 L2194.77 2761.58 L2199.7 2761.58 L2199.7 2765.47 L2194.77 2765.47 L2194.77 2773.62 L2190.12 2773.62 L2190.12 2765.47 L2174.52 2765.47 L2174.52 2760.96 L2188.89 2739.06 Z\" fill=\"#000000\" fill-rule=\"evenodd\" fill-opacity=\"1\" /><path clip-path=\"url(#clip230)\" d=\"M2220.28 2743.13 L2208.47 2761.58 L2220.28 2761.58 L2220.28 2743.13 M2219.05 2739.06 L2224.93 2739.06 L2224.93 2761.58 L2229.86 2761.58 L2229.86 2765.47 L2224.93 2765.47 L2224.93 2773.62 L2220.28 2773.62 L2220.28 2765.47 L2204.68 2765.47 L2204.68 2760.96 L2219.05 2739.06 Z\" fill=\"#000000\" fill-rule=\"evenodd\" fill-opacity=\"1\" /><polyline clip-path=\"url(#clip230)\" style=\"stroke:#608cf6; stroke-linecap:butt; stroke-linejoin:round; stroke-width:4; stroke-opacity:1; fill:none\" points=\"\n",
       "  1973.51,2816.82 2120.98,2816.82 \n",
       "  \"/>\n",
       "<path clip-path=\"url(#clip230)\" d=\"M2159.4 2836.5 Q2157.6 2841.13 2155.88 2842.55 Q2154.17 2843.96 2151.3 2843.96 L2147.9 2843.96 L2147.9 2840.39 L2150.4 2840.39 Q2152.16 2840.39 2153.13 2839.56 Q2154.1 2838.73 2155.28 2835.63 L2156.04 2833.68 L2145.56 2808.17 L2150.07 2808.17 L2158.17 2828.45 L2166.28 2808.17 L2170.79 2808.17 L2159.4 2836.5 Z\" fill=\"#000000\" fill-rule=\"evenodd\" fill-opacity=\"1\" /><path clip-path=\"url(#clip230)\" d=\"M2190.12 2803.61 L2178.31 2822.06 L2190.12 2822.06 L2190.12 2803.61 M2188.89 2799.54 L2194.77 2799.54 L2194.77 2822.06 L2199.7 2822.06 L2199.7 2825.95 L2194.77 2825.95 L2194.77 2834.1 L2190.12 2834.1 L2190.12 2825.95 L2174.52 2825.95 L2174.52 2821.44 L2188.89 2799.54 Z\" fill=\"#000000\" fill-rule=\"evenodd\" fill-opacity=\"1\" /><path clip-path=\"url(#clip230)\" d=\"M2207.48 2799.54 L2225.84 2799.54 L2225.84 2803.47 L2211.76 2803.47 L2211.76 2811.94 Q2212.78 2811.6 2213.8 2811.44 Q2214.82 2811.25 2215.84 2811.25 Q2221.62 2811.25 2225 2814.42 Q2228.38 2817.59 2228.38 2823.01 Q2228.38 2828.59 2224.91 2831.69 Q2221.44 2834.77 2215.12 2834.77 Q2212.94 2834.77 2210.67 2834.4 Q2208.43 2834.03 2206.02 2833.29 L2206.02 2828.59 Q2208.1 2829.72 2210.33 2830.28 Q2212.55 2830.83 2215.03 2830.83 Q2219.03 2830.83 2221.37 2828.73 Q2223.71 2826.62 2223.71 2823.01 Q2223.71 2819.4 2221.37 2817.29 Q2219.03 2815.19 2215.03 2815.19 Q2213.15 2815.19 2211.28 2815.6 Q2209.42 2816.02 2207.48 2816.9 L2207.48 2799.54 Z\" fill=\"#000000\" fill-rule=\"evenodd\" fill-opacity=\"1\" /><polyline clip-path=\"url(#clip230)\" style=\"stroke:#f05f73; stroke-linecap:butt; stroke-linejoin:round; stroke-width:4; stroke-opacity:1; fill:none\" points=\"\n",
       "  1973.51,2877.3 2120.98,2877.3 \n",
       "  \"/>\n",
       "<path clip-path=\"url(#clip230)\" d=\"M2159.4 2896.98 Q2157.6 2901.61 2155.88 2903.03 Q2154.17 2904.44 2151.3 2904.44 L2147.9 2904.44 L2147.9 2900.87 L2150.4 2900.87 Q2152.16 2900.87 2153.13 2900.04 Q2154.1 2899.21 2155.28 2896.11 L2156.04 2894.16 L2145.56 2868.65 L2150.07 2868.65 L2158.17 2888.93 L2166.28 2868.65 L2170.79 2868.65 L2159.4 2896.98 Z\" fill=\"#000000\" fill-rule=\"evenodd\" fill-opacity=\"1\" /><path clip-path=\"url(#clip230)\" d=\"M2190.12 2864.09 L2178.31 2882.54 L2190.12 2882.54 L2190.12 2864.09 M2188.89 2860.02 L2194.77 2860.02 L2194.77 2882.54 L2199.7 2882.54 L2199.7 2886.43 L2194.77 2886.43 L2194.77 2894.58 L2190.12 2894.58 L2190.12 2886.43 L2174.52 2886.43 L2174.52 2881.92 L2188.89 2860.02 Z\" fill=\"#000000\" fill-rule=\"evenodd\" fill-opacity=\"1\" /><path clip-path=\"url(#clip230)\" d=\"M2218.01 2875.43 Q2214.86 2875.43 2213.01 2877.59 Q2211.18 2879.74 2211.18 2883.49 Q2211.18 2887.22 2213.01 2889.39 Q2214.86 2891.55 2218.01 2891.55 Q2221.16 2891.55 2222.99 2889.39 Q2224.84 2887.22 2224.84 2883.49 Q2224.84 2879.74 2222.99 2877.59 Q2221.16 2875.43 2218.01 2875.43 M2227.29 2860.78 L2227.29 2865.04 Q2225.53 2864.21 2223.73 2863.77 Q2221.95 2863.33 2220.19 2863.33 Q2215.56 2863.33 2213.1 2866.45 Q2210.67 2869.58 2210.33 2875.9 Q2211.69 2873.88 2213.75 2872.82 Q2215.81 2871.73 2218.29 2871.73 Q2223.5 2871.73 2226.51 2874.9 Q2229.54 2878.05 2229.54 2883.49 Q2229.54 2888.81 2226.39 2892.03 Q2223.24 2895.25 2218.01 2895.25 Q2212.02 2895.25 2208.85 2890.67 Q2205.67 2886.06 2205.67 2877.33 Q2205.67 2869.14 2209.56 2864.28 Q2213.45 2859.39 2220 2859.39 Q2221.76 2859.39 2223.54 2859.74 Q2225.35 2860.09 2227.29 2860.78 Z\" fill=\"#000000\" fill-rule=\"evenodd\" fill-opacity=\"1\" /><polyline clip-path=\"url(#clip230)\" style=\"stroke:#dd64b5; stroke-linecap:butt; stroke-linejoin:round; stroke-width:4; stroke-opacity:1; fill:none\" points=\"\n",
       "  1973.51,2937.78 2120.98,2937.78 \n",
       "  \"/>\n",
       "<path clip-path=\"url(#clip230)\" d=\"M2159.4 2957.46 Q2157.6 2962.09 2155.88 2963.51 Q2154.17 2964.92 2151.3 2964.92 L2147.9 2964.92 L2147.9 2961.35 L2150.4 2961.35 Q2152.16 2961.35 2153.13 2960.52 Q2154.1 2959.69 2155.28 2956.59 L2156.04 2954.64 L2145.56 2929.13 L2150.07 2929.13 L2158.17 2949.41 L2166.28 2929.13 L2170.79 2929.13 L2159.4 2957.46 Z\" fill=\"#000000\" fill-rule=\"evenodd\" fill-opacity=\"1\" /><path clip-path=\"url(#clip230)\" d=\"M2190.12 2924.57 L2178.31 2943.02 L2190.12 2943.02 L2190.12 2924.57 M2188.89 2920.5 L2194.77 2920.5 L2194.77 2943.02 L2199.7 2943.02 L2199.7 2946.91 L2194.77 2946.91 L2194.77 2955.06 L2190.12 2955.06 L2190.12 2946.91 L2174.52 2946.91 L2174.52 2942.4 L2188.89 2920.5 Z\" fill=\"#000000\" fill-rule=\"evenodd\" fill-opacity=\"1\" /><path clip-path=\"url(#clip230)\" d=\"M2206.25 2920.5 L2228.47 2920.5 L2228.47 2922.49 L2215.93 2955.06 L2211.04 2955.06 L2222.85 2924.43 L2206.25 2924.43 L2206.25 2920.5 Z\" fill=\"#000000\" fill-rule=\"evenodd\" fill-opacity=\"1\" /><polyline clip-path=\"url(#clip230)\" style=\"stroke:#6b9e32; stroke-linecap:butt; stroke-linejoin:round; stroke-width:4; stroke-opacity:1; fill:none\" points=\"\n",
       "  1973.51,2998.26 2120.98,2998.26 \n",
       "  \"/>\n",
       "<path clip-path=\"url(#clip230)\" d=\"M2159.4 3017.94 Q2157.6 3022.57 2155.88 3023.99 Q2154.17 3025.4 2151.3 3025.4 L2147.9 3025.4 L2147.9 3021.83 L2150.4 3021.83 Q2152.16 3021.83 2153.13 3021 Q2154.1 3020.17 2155.28 3017.07 L2156.04 3015.12 L2145.56 2989.61 L2150.07 2989.61 L2158.17 3009.89 L2166.28 2989.61 L2170.79 2989.61 L2159.4 3017.94 Z\" fill=\"#000000\" fill-rule=\"evenodd\" fill-opacity=\"1\" /><path clip-path=\"url(#clip230)\" d=\"M2190.12 2985.05 L2178.31 3003.5 L2190.12 3003.5 L2190.12 2985.05 M2188.89 2980.98 L2194.77 2980.98 L2194.77 3003.5 L2199.7 3003.5 L2199.7 3007.39 L2194.77 3007.39 L2194.77 3015.54 L2190.12 3015.54 L2190.12 3007.39 L2174.52 3007.39 L2174.52 3002.88 L2188.89 2980.98 Z\" fill=\"#000000\" fill-rule=\"evenodd\" fill-opacity=\"1\" /><path clip-path=\"url(#clip230)\" d=\"M2217.43 2999.13 Q2214.1 2999.13 2212.18 3000.91 Q2210.28 3002.69 2210.28 3005.82 Q2210.28 3008.94 2212.18 3010.72 Q2214.1 3012.51 2217.43 3012.51 Q2220.77 3012.51 2222.69 3010.72 Q2224.61 3008.92 2224.61 3005.82 Q2224.61 3002.69 2222.69 3000.91 Q2220.79 2999.13 2217.43 2999.13 M2212.76 2997.13 Q2209.75 2996.39 2208.06 2994.33 Q2206.39 2992.27 2206.39 2989.31 Q2206.39 2985.17 2209.33 2982.76 Q2212.29 2980.35 2217.43 2980.35 Q2222.6 2980.35 2225.53 2982.76 Q2228.47 2985.17 2228.47 2989.31 Q2228.47 2992.27 2226.78 2994.33 Q2225.12 2996.39 2222.13 2997.13 Q2225.51 2997.92 2227.39 3000.21 Q2229.28 3002.51 2229.28 3005.82 Q2229.28 3010.84 2226.21 3013.52 Q2223.15 3016.21 2217.43 3016.21 Q2211.72 3016.21 2208.64 3013.52 Q2205.58 3010.84 2205.58 3005.82 Q2205.58 3002.51 2207.48 3000.21 Q2209.38 2997.92 2212.76 2997.13 M2211.04 2989.75 Q2211.04 2992.44 2212.71 2993.94 Q2214.4 2995.45 2217.43 2995.45 Q2220.44 2995.45 2222.13 2993.94 Q2223.85 2992.44 2223.85 2989.75 Q2223.85 2987.07 2222.13 2985.56 Q2220.44 2984.06 2217.43 2984.06 Q2214.4 2984.06 2212.71 2985.56 Q2211.04 2987.07 2211.04 2989.75 Z\" fill=\"#000000\" fill-rule=\"evenodd\" fill-opacity=\"1\" /><polyline clip-path=\"url(#clip230)\" style=\"stroke:#009af9; stroke-linecap:butt; stroke-linejoin:round; stroke-width:4; stroke-opacity:1; fill:none\" points=\"\n",
       "  1973.51,3058.74 2120.98,3058.74 \n",
       "  \"/>\n",
       "<path clip-path=\"url(#clip230)\" d=\"M2159.4 3078.42 Q2157.6 3083.05 2155.88 3084.47 Q2154.17 3085.88 2151.3 3085.88 L2147.9 3085.88 L2147.9 3082.31 L2150.4 3082.31 Q2152.16 3082.31 2153.13 3081.48 Q2154.1 3080.65 2155.28 3077.55 L2156.04 3075.6 L2145.56 3050.09 L2150.07 3050.09 L2158.17 3070.37 L2166.28 3050.09 L2170.79 3050.09 L2159.4 3078.42 Z\" fill=\"#000000\" fill-rule=\"evenodd\" fill-opacity=\"1\" /><path clip-path=\"url(#clip230)\" d=\"M2190.12 3045.53 L2178.31 3063.98 L2190.12 3063.98 L2190.12 3045.53 M2188.89 3041.46 L2194.77 3041.46 L2194.77 3063.98 L2199.7 3063.98 L2199.7 3067.87 L2194.77 3067.87 L2194.77 3076.02 L2190.12 3076.02 L2190.12 3067.87 L2174.52 3067.87 L2174.52 3063.36 L2188.89 3041.46 Z\" fill=\"#000000\" fill-rule=\"evenodd\" fill-opacity=\"1\" /><path clip-path=\"url(#clip230)\" d=\"M2207.57 3075.3 L2207.57 3071.04 Q2209.33 3071.87 2211.14 3072.31 Q2212.94 3072.75 2214.68 3072.75 Q2219.31 3072.75 2221.74 3069.65 Q2224.19 3066.53 2224.54 3060.18 Q2223.2 3062.18 2221.14 3063.24 Q2219.08 3064.3 2216.58 3064.3 Q2211.39 3064.3 2208.36 3061.18 Q2205.35 3058.03 2205.35 3052.59 Q2205.35 3047.27 2208.5 3044.05 Q2211.65 3040.83 2216.88 3040.83 Q2222.87 3040.83 2226.02 3045.44 Q2229.19 3050.02 2229.19 3058.77 Q2229.19 3066.94 2225.3 3071.83 Q2221.44 3076.69 2214.89 3076.69 Q2213.13 3076.69 2211.32 3076.34 Q2209.52 3075.99 2207.57 3075.3 M2216.88 3060.65 Q2220.03 3060.65 2221.85 3058.49 Q2223.71 3056.34 2223.71 3052.59 Q2223.71 3048.86 2221.85 3046.71 Q2220.03 3044.54 2216.88 3044.54 Q2213.73 3044.54 2211.88 3046.71 Q2210.05 3048.86 2210.05 3052.59 Q2210.05 3056.34 2211.88 3058.49 Q2213.73 3060.65 2216.88 3060.65 Z\" fill=\"#000000\" fill-rule=\"evenodd\" fill-opacity=\"1\" /><polyline clip-path=\"url(#clip230)\" style=\"stroke:#e26f46; stroke-linecap:butt; stroke-linejoin:round; stroke-width:4; stroke-opacity:1; fill:none\" points=\"\n",
       "  1973.51,3119.22 2120.98,3119.22 \n",
       "  \"/>\n",
       "<path clip-path=\"url(#clip230)\" d=\"M2159.4 3138.9 Q2157.6 3143.53 2155.88 3144.95 Q2154.17 3146.36 2151.3 3146.36 L2147.9 3146.36 L2147.9 3142.79 L2150.4 3142.79 Q2152.16 3142.79 2153.13 3141.96 Q2154.1 3141.13 2155.28 3138.03 L2156.04 3136.08 L2145.56 3110.57 L2150.07 3110.57 L2158.17 3130.85 L2166.28 3110.57 L2170.79 3110.57 L2159.4 3138.9 Z\" fill=\"#000000\" fill-rule=\"evenodd\" fill-opacity=\"1\" /><path clip-path=\"url(#clip230)\" d=\"M2177.32 3101.94 L2195.67 3101.94 L2195.67 3105.87 L2181.6 3105.87 L2181.6 3114.34 Q2182.62 3114 2183.64 3113.84 Q2184.66 3113.65 2185.67 3113.65 Q2191.46 3113.65 2194.84 3116.82 Q2198.22 3119.99 2198.22 3125.41 Q2198.22 3130.99 2194.75 3134.09 Q2191.28 3137.17 2184.96 3137.17 Q2182.78 3137.17 2180.51 3136.8 Q2178.27 3136.43 2175.86 3135.69 L2175.86 3130.99 Q2177.94 3132.12 2180.16 3132.68 Q2182.39 3133.23 2184.86 3133.23 Q2188.87 3133.23 2191.21 3131.13 Q2193.54 3129.02 2193.54 3125.41 Q2193.54 3121.8 2191.21 3119.69 Q2188.87 3117.59 2184.86 3117.59 Q2182.99 3117.59 2181.11 3118 Q2179.26 3118.42 2177.32 3119.3 L2177.32 3101.94 Z\" fill=\"#000000\" fill-rule=\"evenodd\" fill-opacity=\"1\" /><path clip-path=\"url(#clip230)\" d=\"M2217.43 3105.02 Q2213.82 3105.02 2211.99 3108.58 Q2210.19 3112.12 2210.19 3119.25 Q2210.19 3126.36 2211.99 3129.92 Q2213.82 3133.47 2217.43 3133.47 Q2221.07 3133.47 2222.87 3129.92 Q2224.7 3126.36 2224.7 3119.25 Q2224.7 3112.12 2222.87 3108.58 Q2221.07 3105.02 2217.43 3105.02 M2217.43 3101.31 Q2223.24 3101.31 2226.3 3105.92 Q2229.38 3110.5 2229.38 3119.25 Q2229.38 3127.98 2226.3 3132.59 Q2223.24 3137.17 2217.43 3137.17 Q2211.62 3137.17 2208.54 3132.59 Q2205.49 3127.98 2205.49 3119.25 Q2205.49 3110.5 2208.54 3105.92 Q2211.62 3101.31 2217.43 3101.31 Z\" fill=\"#000000\" fill-rule=\"evenodd\" fill-opacity=\"1\" /></svg>\n"
      ]
     },
     "execution_count": 22,
     "metadata": {},
     "output_type": "execute_result"
    }
   ],
   "source": [
    "plot(g_vals')"
   ]
  },
  {
   "cell_type": "markdown",
   "metadata": {},
   "source": [
    "## Several timesteps, with battery capacity"
   ]
  },
  {
   "cell_type": "markdown",
   "metadata": {},
   "source": [
    "Again, this should be the same as $T$ uncoupled problems. "
   ]
  },
  {
   "cell_type": "code",
<<<<<<< Updated upstream
<<<<<<< Updated upstream
<<<<<<< Updated upstream
   "execution_count": 24,
=======
   "execution_count": 23,
>>>>>>> Stashed changes
=======
   "execution_count": 23,
>>>>>>> Stashed changes
=======
   "execution_count": 23,
>>>>>>> Stashed changes
   "metadata": {},
   "outputs": [],
   "source": [
    "T = 5\n",
    "\n",
    "cq_dyn = [cq for _ in 1:T]\n",
    "cl_dyn = [cl for _ in 1:T]\n",
    "pmax_dyn = [pmax for _ in 1:T]\n",
    "gmax_dyn = [gmax for _ in 1:T]\n",
    "d_dyn = [d for _ in 1:T]\n",
    "\n",
    "P = rand(Exponential(2), n)\n",
    "C = rand(Exponential(2), n)\n",
    ";"
   ]
  },
  {
   "cell_type": "code",
<<<<<<< Updated upstream
<<<<<<< Updated upstream
<<<<<<< Updated upstream
   "execution_count": 25,
=======
   "execution_count": 24,
>>>>>>> Stashed changes
=======
   "execution_count": 24,
>>>>>>> Stashed changes
=======
   "execution_count": 24,
>>>>>>> Stashed changes
   "metadata": {},
   "outputs": [],
   "source": [
    "dnet = DynamicPowerNetwork(\n",
    "    cq_dyn, cl_dyn, pmax_dyn, gmax_dyn, A, B, P, C\n",
    ")\n",
    "dmin = DynamicPowerManagementProblem(dnet, d_dyn);"
   ]
  },
  {
   "cell_type": "code",
<<<<<<< Updated upstream
<<<<<<< Updated upstream
<<<<<<< Updated upstream
   "execution_count": 26,
=======
   "execution_count": 25,
>>>>>>> Stashed changes
=======
   "execution_count": 25,
>>>>>>> Stashed changes
=======
   "execution_count": 25,
>>>>>>> Stashed changes
   "metadata": {},
   "outputs": [],
   "source": [
    "solve!(dmin, OPT, verbose=true);"
   ]
  },
  {
   "cell_type": "code",
<<<<<<< Updated upstream
<<<<<<< Updated upstream
<<<<<<< Updated upstream
   "execution_count": 28,
=======
   "execution_count": 26,
>>>>>>> Stashed changes
=======
   "execution_count": 26,
>>>>>>> Stashed changes
=======
   "execution_count": 26,
>>>>>>> Stashed changes
   "metadata": {},
   "outputs": [],
   "source": [
    "s_vals = zeros(n, T)\n",
    "g_vals = zeros(l, T)\n",
    "for t in 1:T\n",
    "    s_vals[:, t] = dmin.s[t].value\n",
    "    g_vals[:, t] = dmin.g[t].value\n",
    "end"
   ]
  },
  {
   "cell_type": "code",
<<<<<<< Updated upstream
<<<<<<< Updated upstream
<<<<<<< Updated upstream
   "execution_count": 29,
=======
   "execution_count": 27,
>>>>>>> Stashed changes
=======
   "execution_count": 27,
>>>>>>> Stashed changes
=======
   "execution_count": 27,
>>>>>>> Stashed changes
   "metadata": {},
   "outputs": [
    {
     "data": {
      "image/svg+xml": [
       "<?xml version=\"1.0\" encoding=\"utf-8\"?>\n",
       "<svg xmlns=\"http://www.w3.org/2000/svg\" xmlns:xlink=\"http://www.w3.org/1999/xlink\" width=\"600\" height=\"400\" viewBox=\"0 0 2400 1600\">\n",
       "<defs>\n",
       "  <clipPath id=\"clip270\">\n",
       "    <rect x=\"0\" y=\"0\" width=\"2400\" height=\"1600\"/>\n",
       "  </clipPath>\n",
       "</defs>\n",
       "<path clip-path=\"url(#clip270)\" d=\"\n",
       "M0 1600 L2400 1600 L2400 0 L0 0  Z\n",
       "  \" fill=\"#ffffff\" fill-rule=\"evenodd\" fill-opacity=\"1\"/>\n",
       "<defs>\n",
       "  <clipPath id=\"clip271\">\n",
       "    <rect x=\"480\" y=\"0\" width=\"1681\" height=\"1600\"/>\n",
       "  </clipPath>\n",
       "</defs>\n",
       "<path clip-path=\"url(#clip270)\" d=\"\n",
       "M156.112 1486.45 L2352.76 1486.45 L2352.76 47.2441 L156.112 47.2441  Z\n",
       "  \" fill=\"#ffffff\" fill-rule=\"evenodd\" fill-opacity=\"1\"/>\n",
       "<defs>\n",
       "  <clipPath id=\"clip272\">\n",
       "    <rect x=\"156\" y=\"47\" width=\"2198\" height=\"1440\"/>\n",
       "  </clipPath>\n",
       "</defs>\n",
       "<polyline clip-path=\"url(#clip272)\" style=\"stroke:#000000; stroke-linecap:butt; stroke-linejoin:round; stroke-width:2; stroke-opacity:0.1; fill:none\" points=\"\n",
       "  218.281,1486.45 218.281,47.2441 \n",
       "  \"/>\n",
       "<polyline clip-path=\"url(#clip272)\" style=\"stroke:#000000; stroke-linecap:butt; stroke-linejoin:round; stroke-width:2; stroke-opacity:0.1; fill:none\" points=\"\n",
       "  736.358,1486.45 736.358,47.2441 \n",
       "  \"/>\n",
       "<polyline clip-path=\"url(#clip272)\" style=\"stroke:#000000; stroke-linecap:butt; stroke-linejoin:round; stroke-width:2; stroke-opacity:0.1; fill:none\" points=\"\n",
       "  1254.43,1486.45 1254.43,47.2441 \n",
       "  \"/>\n",
       "<polyline clip-path=\"url(#clip272)\" style=\"stroke:#000000; stroke-linecap:butt; stroke-linejoin:round; stroke-width:2; stroke-opacity:0.1; fill:none\" points=\"\n",
       "  1772.51,1486.45 1772.51,47.2441 \n",
       "  \"/>\n",
       "<polyline clip-path=\"url(#clip272)\" style=\"stroke:#000000; stroke-linecap:butt; stroke-linejoin:round; stroke-width:2; stroke-opacity:0.1; fill:none\" points=\"\n",
       "  2290.59,1486.45 2290.59,47.2441 \n",
       "  \"/>\n",
       "<polyline clip-path=\"url(#clip270)\" style=\"stroke:#000000; stroke-linecap:butt; stroke-linejoin:round; stroke-width:4; stroke-opacity:1; fill:none\" points=\"\n",
       "  156.112,1486.45 2352.76,1486.45 \n",
       "  \"/>\n",
       "<polyline clip-path=\"url(#clip270)\" style=\"stroke:#000000; stroke-linecap:butt; stroke-linejoin:round; stroke-width:4; stroke-opacity:1; fill:none\" points=\"\n",
       "  218.281,1486.45 218.281,1469.18 \n",
       "  \"/>\n",
       "<polyline clip-path=\"url(#clip270)\" style=\"stroke:#000000; stroke-linecap:butt; stroke-linejoin:round; stroke-width:4; stroke-opacity:1; fill:none\" points=\"\n",
       "  736.358,1486.45 736.358,1469.18 \n",
       "  \"/>\n",
       "<polyline clip-path=\"url(#clip270)\" style=\"stroke:#000000; stroke-linecap:butt; stroke-linejoin:round; stroke-width:4; stroke-opacity:1; fill:none\" points=\"\n",
       "  1254.43,1486.45 1254.43,1469.18 \n",
       "  \"/>\n",
       "<polyline clip-path=\"url(#clip270)\" style=\"stroke:#000000; stroke-linecap:butt; stroke-linejoin:round; stroke-width:4; stroke-opacity:1; fill:none\" points=\"\n",
       "  1772.51,1486.45 1772.51,1469.18 \n",
       "  \"/>\n",
       "<polyline clip-path=\"url(#clip270)\" style=\"stroke:#000000; stroke-linecap:butt; stroke-linejoin:round; stroke-width:4; stroke-opacity:1; fill:none\" points=\"\n",
       "  2290.59,1486.45 2290.59,1469.18 \n",
       "  \"/>\n",
       "<path clip-path=\"url(#clip270)\" d=\"M208.663 1543.18 L216.302 1543.18 L216.302 1516.82 L207.992 1518.49 L207.992 1514.23 L216.256 1512.56 L220.932 1512.56 L220.932 1543.18 L228.571 1543.18 L228.571 1547.12 L208.663 1547.12 L208.663 1543.18 Z\" fill=\"#000000\" fill-rule=\"evenodd\" fill-opacity=\"1\" /><path clip-path=\"url(#clip270)\" d=\"M731.01 1543.18 L747.33 1543.18 L747.33 1547.12 L725.385 1547.12 L725.385 1543.18 Q728.048 1540.43 732.631 1535.8 Q737.237 1531.15 738.418 1529.81 Q740.663 1527.28 741.543 1525.55 Q742.446 1523.79 742.446 1522.1 Q742.446 1519.34 740.501 1517.61 Q738.58 1515.87 735.478 1515.87 Q733.279 1515.87 730.825 1516.63 Q728.395 1517.4 725.617 1518.95 L725.617 1514.23 Q728.441 1513.09 730.895 1512.51 Q733.348 1511.93 735.385 1511.93 Q740.756 1511.93 743.95 1514.62 Q747.145 1517.31 747.145 1521.8 Q747.145 1523.93 746.334 1525.85 Q745.547 1527.74 743.441 1530.34 Q742.862 1531.01 739.76 1534.23 Q736.659 1537.42 731.01 1543.18 Z\" fill=\"#000000\" fill-rule=\"evenodd\" fill-opacity=\"1\" /><path clip-path=\"url(#clip270)\" d=\"M1258.68 1528.49 Q1262.04 1529.2 1263.91 1531.47 Q1265.81 1533.74 1265.81 1537.07 Q1265.81 1542.19 1262.29 1544.99 Q1258.77 1547.79 1252.29 1547.79 Q1250.12 1547.79 1247.8 1547.35 Q1245.51 1546.93 1243.06 1546.08 L1243.06 1541.56 Q1245 1542.7 1247.32 1543.28 Q1249.63 1543.86 1252.15 1543.86 Q1256.55 1543.86 1258.84 1542.12 Q1261.16 1540.38 1261.16 1537.07 Q1261.16 1534.02 1259.01 1532.31 Q1256.88 1530.57 1253.06 1530.57 L1249.03 1530.57 L1249.03 1526.73 L1253.24 1526.73 Q1256.69 1526.73 1258.52 1525.36 Q1260.35 1523.97 1260.35 1521.38 Q1260.35 1518.72 1258.45 1517.31 Q1256.58 1515.87 1253.06 1515.87 Q1251.14 1515.87 1248.94 1516.29 Q1246.74 1516.7 1244.1 1517.58 L1244.1 1513.42 Q1246.76 1512.68 1249.08 1512.31 Q1251.41 1511.93 1253.47 1511.93 Q1258.8 1511.93 1261.9 1514.37 Q1265 1516.77 1265 1520.89 Q1265 1523.76 1263.36 1525.75 Q1261.71 1527.72 1258.68 1528.49 Z\" fill=\"#000000\" fill-rule=\"evenodd\" fill-opacity=\"1\" /><path clip-path=\"url(#clip270)\" d=\"M1775.52 1516.63 L1763.71 1535.08 L1775.52 1535.08 L1775.52 1516.63 M1774.29 1512.56 L1780.17 1512.56 L1780.17 1535.08 L1785.1 1535.08 L1785.1 1538.97 L1780.17 1538.97 L1780.17 1547.12 L1775.52 1547.12 L1775.52 1538.97 L1759.92 1538.97 L1759.92 1534.46 L1774.29 1512.56 Z\" fill=\"#000000\" fill-rule=\"evenodd\" fill-opacity=\"1\" /><path clip-path=\"url(#clip270)\" d=\"M2280.86 1512.56 L2299.22 1512.56 L2299.22 1516.5 L2285.15 1516.5 L2285.15 1524.97 Q2286.17 1524.62 2287.18 1524.46 Q2288.2 1524.27 2289.22 1524.27 Q2295.01 1524.27 2298.39 1527.44 Q2301.77 1530.62 2301.77 1536.03 Q2301.77 1541.61 2298.3 1544.71 Q2294.82 1547.79 2288.5 1547.79 Q2286.33 1547.79 2284.06 1547.42 Q2281.81 1547.05 2279.41 1546.31 L2279.41 1541.61 Q2281.49 1542.74 2283.71 1543.3 Q2285.93 1543.86 2288.41 1543.86 Q2292.42 1543.86 2294.75 1541.75 Q2297.09 1539.64 2297.09 1536.03 Q2297.09 1532.42 2294.75 1530.31 Q2292.42 1528.21 2288.41 1528.21 Q2286.54 1528.21 2284.66 1528.62 Q2282.81 1529.04 2280.86 1529.92 L2280.86 1512.56 Z\" fill=\"#000000\" fill-rule=\"evenodd\" fill-opacity=\"1\" /><polyline clip-path=\"url(#clip272)\" style=\"stroke:#000000; stroke-linecap:butt; stroke-linejoin:round; stroke-width:2; stroke-opacity:0.1; fill:none\" points=\"\n",
       "  156.112,1445.72 2352.76,1445.72 \n",
       "  \"/>\n",
       "<polyline clip-path=\"url(#clip272)\" style=\"stroke:#000000; stroke-linecap:butt; stroke-linejoin:round; stroke-width:2; stroke-opacity:0.1; fill:none\" points=\"\n",
       "  156.112,1080.19 2352.76,1080.19 \n",
       "  \"/>\n",
       "<polyline clip-path=\"url(#clip272)\" style=\"stroke:#000000; stroke-linecap:butt; stroke-linejoin:round; stroke-width:2; stroke-opacity:0.1; fill:none\" points=\"\n",
       "  156.112,714.661 2352.76,714.661 \n",
       "  \"/>\n",
       "<polyline clip-path=\"url(#clip272)\" style=\"stroke:#000000; stroke-linecap:butt; stroke-linejoin:round; stroke-width:2; stroke-opacity:0.1; fill:none\" points=\"\n",
       "  156.112,349.133 2352.76,349.133 \n",
       "  \"/>\n",
       "<polyline clip-path=\"url(#clip270)\" style=\"stroke:#000000; stroke-linecap:butt; stroke-linejoin:round; stroke-width:4; stroke-opacity:1; fill:none\" points=\"\n",
       "  156.112,1486.45 156.112,47.2441 \n",
       "  \"/>\n",
       "<polyline clip-path=\"url(#clip270)\" style=\"stroke:#000000; stroke-linecap:butt; stroke-linejoin:round; stroke-width:4; stroke-opacity:1; fill:none\" points=\"\n",
       "  156.112,1445.72 182.472,1445.72 \n",
       "  \"/>\n",
       "<polyline clip-path=\"url(#clip270)\" style=\"stroke:#000000; stroke-linecap:butt; stroke-linejoin:round; stroke-width:4; stroke-opacity:1; fill:none\" points=\"\n",
       "  156.112,1080.19 182.472,1080.19 \n",
       "  \"/>\n",
       "<polyline clip-path=\"url(#clip270)\" style=\"stroke:#000000; stroke-linecap:butt; stroke-linejoin:round; stroke-width:4; stroke-opacity:1; fill:none\" points=\"\n",
       "  156.112,714.661 182.472,714.661 \n",
       "  \"/>\n",
       "<polyline clip-path=\"url(#clip270)\" style=\"stroke:#000000; stroke-linecap:butt; stroke-linejoin:round; stroke-width:4; stroke-opacity:1; fill:none\" points=\"\n",
       "  156.112,349.133 182.472,349.133 \n",
       "  \"/>\n",
       "<path clip-path=\"url(#clip270)\" d=\"M62.9365 1431.51 Q59.3254 1431.51 57.4967 1435.08 Q55.6912 1438.62 55.6912 1445.75 Q55.6912 1452.86 57.4967 1456.42 Q59.3254 1459.96 62.9365 1459.96 Q66.5707 1459.96 68.3763 1456.42 Q70.205 1452.86 70.205 1445.75 Q70.205 1438.62 68.3763 1435.08 Q66.5707 1431.51 62.9365 1431.51 M62.9365 1427.81 Q68.7467 1427.81 71.8022 1432.42 Q74.8809 1437 74.8809 1445.75 Q74.8809 1454.48 71.8022 1459.08 Q68.7467 1463.67 62.9365 1463.67 Q57.1264 1463.67 54.0477 1459.08 Q50.9921 1454.48 50.9921 1445.75 Q50.9921 1437 54.0477 1432.42 Q57.1264 1427.81 62.9365 1427.81 Z\" fill=\"#000000\" fill-rule=\"evenodd\" fill-opacity=\"1\" /><path clip-path=\"url(#clip270)\" d=\"M83.0984 1457.12 L87.9827 1457.12 L87.9827 1463 L83.0984 1463 L83.0984 1457.12 Z\" fill=\"#000000\" fill-rule=\"evenodd\" fill-opacity=\"1\" /><path clip-path=\"url(#clip270)\" d=\"M108.168 1431.51 Q104.557 1431.51 102.728 1435.08 Q100.922 1438.62 100.922 1445.75 Q100.922 1452.86 102.728 1456.42 Q104.557 1459.96 108.168 1459.96 Q111.802 1459.96 113.608 1456.42 Q115.436 1452.86 115.436 1445.75 Q115.436 1438.62 113.608 1435.08 Q111.802 1431.51 108.168 1431.51 M108.168 1427.81 Q113.978 1427.81 117.033 1432.42 Q120.112 1437 120.112 1445.75 Q120.112 1454.48 117.033 1459.08 Q113.978 1463.67 108.168 1463.67 Q102.358 1463.67 99.2789 1459.08 Q96.2234 1454.48 96.2234 1445.75 Q96.2234 1437 99.2789 1432.42 Q102.358 1427.81 108.168 1427.81 Z\" fill=\"#000000\" fill-rule=\"evenodd\" fill-opacity=\"1\" /><path clip-path=\"url(#clip270)\" d=\"M63.9319 1065.99 Q60.3208 1065.99 58.4921 1069.55 Q56.6865 1073.09 56.6865 1080.22 Q56.6865 1087.33 58.4921 1090.89 Q60.3208 1094.44 63.9319 1094.44 Q67.5661 1094.44 69.3717 1090.89 Q71.2004 1087.33 71.2004 1080.22 Q71.2004 1073.09 69.3717 1069.55 Q67.5661 1065.99 63.9319 1065.99 M63.9319 1062.28 Q69.742 1062.28 72.7976 1066.89 Q75.8763 1071.47 75.8763 1080.22 Q75.8763 1088.95 72.7976 1093.56 Q69.742 1098.14 63.9319 1098.14 Q58.1217 1098.14 55.043 1093.56 Q51.9875 1088.95 51.9875 1080.22 Q51.9875 1071.47 55.043 1066.89 Q58.1217 1062.28 63.9319 1062.28 Z\" fill=\"#000000\" fill-rule=\"evenodd\" fill-opacity=\"1\" /><path clip-path=\"url(#clip270)\" d=\"M84.0938 1091.59 L88.978 1091.59 L88.978 1097.47 L84.0938 1097.47 L84.0938 1091.59 Z\" fill=\"#000000\" fill-rule=\"evenodd\" fill-opacity=\"1\" /><path clip-path=\"url(#clip270)\" d=\"M99.2095 1062.91 L117.566 1062.91 L117.566 1066.84 L103.492 1066.84 L103.492 1075.32 Q104.51 1074.97 105.529 1074.81 Q106.547 1074.62 107.566 1074.62 Q113.353 1074.62 116.733 1077.79 Q120.112 1080.96 120.112 1086.38 Q120.112 1091.96 116.64 1095.06 Q113.168 1098.14 106.848 1098.14 Q104.672 1098.14 102.404 1097.77 Q100.159 1097.4 97.7511 1096.66 L97.7511 1091.96 Q99.8345 1093.09 102.057 1093.65 Q104.279 1094.2 106.756 1094.2 Q110.76 1094.2 113.098 1092.1 Q115.436 1089.99 115.436 1086.38 Q115.436 1082.77 113.098 1080.66 Q110.76 1078.56 106.756 1078.56 Q104.881 1078.56 103.006 1078.97 Q101.154 1079.39 99.2095 1080.27 L99.2095 1062.91 Z\" fill=\"#000000\" fill-rule=\"evenodd\" fill-opacity=\"1\" /><path clip-path=\"url(#clip270)\" d=\"M53.7467 728.006 L61.3856 728.006 L61.3856 701.64 L53.0754 703.307 L53.0754 699.048 L61.3393 697.381 L66.0152 697.381 L66.0152 728.006 L73.654 728.006 L73.654 731.941 L53.7467 731.941 L53.7467 728.006 Z\" fill=\"#000000\" fill-rule=\"evenodd\" fill-opacity=\"1\" /><path clip-path=\"url(#clip270)\" d=\"M83.0984 726.061 L87.9827 726.061 L87.9827 731.941 L83.0984 731.941 L83.0984 726.061 Z\" fill=\"#000000\" fill-rule=\"evenodd\" fill-opacity=\"1\" /><path clip-path=\"url(#clip270)\" d=\"M108.168 700.46 Q104.557 700.46 102.728 704.024 Q100.922 707.566 100.922 714.696 Q100.922 721.802 102.728 725.367 Q104.557 728.908 108.168 728.908 Q111.802 728.908 113.608 725.367 Q115.436 721.802 115.436 714.696 Q115.436 707.566 113.608 704.024 Q111.802 700.46 108.168 700.46 M108.168 696.756 Q113.978 696.756 117.033 701.362 Q120.112 705.946 120.112 714.696 Q120.112 723.422 117.033 728.029 Q113.978 732.612 108.168 732.612 Q102.358 732.612 99.2789 728.029 Q96.2234 723.422 96.2234 714.696 Q96.2234 705.946 99.2789 701.362 Q102.358 696.756 108.168 696.756 Z\" fill=\"#000000\" fill-rule=\"evenodd\" fill-opacity=\"1\" /><path clip-path=\"url(#clip270)\" d=\"M54.7421 362.478 L62.381 362.478 L62.381 336.113 L54.0708 337.779 L54.0708 333.52 L62.3347 331.853 L67.0106 331.853 L67.0106 362.478 L74.6494 362.478 L74.6494 366.413 L54.7421 366.413 L54.7421 362.478 Z\" fill=\"#000000\" fill-rule=\"evenodd\" fill-opacity=\"1\" /><path clip-path=\"url(#clip270)\" d=\"M84.0938 360.534 L88.978 360.534 L88.978 366.413 L84.0938 366.413 L84.0938 360.534 Z\" fill=\"#000000\" fill-rule=\"evenodd\" fill-opacity=\"1\" /><path clip-path=\"url(#clip270)\" d=\"M99.2095 331.853 L117.566 331.853 L117.566 335.789 L103.492 335.789 L103.492 344.261 Q104.51 343.914 105.529 343.752 Q106.547 343.566 107.566 343.566 Q113.353 343.566 116.733 346.738 Q120.112 349.909 120.112 355.326 Q120.112 360.904 116.64 364.006 Q113.168 367.085 106.848 367.085 Q104.672 367.085 102.404 366.714 Q100.159 366.344 97.7511 365.603 L97.7511 360.904 Q99.8345 362.039 102.057 362.594 Q104.279 363.15 106.756 363.15 Q110.76 363.15 113.098 361.043 Q115.436 358.937 115.436 355.326 Q115.436 351.714 113.098 349.608 Q110.76 347.502 106.756 347.502 Q104.881 347.502 103.006 347.918 Q101.154 348.335 99.2095 349.214 L99.2095 331.853 Z\" fill=\"#000000\" fill-rule=\"evenodd\" fill-opacity=\"1\" /><polyline clip-path=\"url(#clip272)\" style=\"stroke:#009af9; stroke-linecap:butt; stroke-linejoin:round; stroke-width:4; stroke-opacity:1; fill:none\" points=\"\n",
       "  218.281,1338.42 736.358,1267.06 1254.43,1238.49 1772.51,1276.23 2290.59,1445.72 \n",
       "  \"/>\n",
       "<polyline clip-path=\"url(#clip272)\" style=\"stroke:#e26f46; stroke-linecap:butt; stroke-linejoin:round; stroke-width:4; stroke-opacity:1; fill:none\" points=\"\n",
       "  218.281,1413.53 736.358,1412.69 1254.43,1412.65 1772.51,1413.39 2290.59,1445.72 \n",
       "  \"/>\n",
       "<polyline clip-path=\"url(#clip272)\" style=\"stroke:#3da44d; stroke-linecap:butt; stroke-linejoin:round; stroke-width:4; stroke-opacity:1; fill:none\" points=\"\n",
       "  218.281,1185.04 736.358,1141.92 1254.43,1141.7 1772.51,1184.58 2290.59,1445.72 \n",
       "  \"/>\n",
       "<polyline clip-path=\"url(#clip272)\" style=\"stroke:#c271d2; stroke-linecap:butt; stroke-linejoin:round; stroke-width:4; stroke-opacity:1; fill:none\" points=\"\n",
       "  218.281,1415.57 736.358,1394.18 1254.43,1385.45 1772.51,1398.67 2290.59,1445.72 \n",
       "  \"/>\n",
       "<polyline clip-path=\"url(#clip272)\" style=\"stroke:#ac8d18; stroke-linecap:butt; stroke-linejoin:round; stroke-width:4; stroke-opacity:1; fill:none\" points=\"\n",
       "  218.281,803.814 736.358,621.029 1254.43,619.625 1772.51,801.523 2290.59,1445.72 \n",
       "  \"/>\n",
       "<polyline clip-path=\"url(#clip272)\" style=\"stroke:#00a9ad; stroke-linecap:butt; stroke-linejoin:round; stroke-width:4; stroke-opacity:1; fill:none\" points=\"\n",
       "  218.281,1067.22 736.358,860.461 1254.43,857.656 1772.51,1061.75 2290.59,1445.72 \n",
       "  \"/>\n",
       "<polyline clip-path=\"url(#clip272)\" style=\"stroke:#ed5d92; stroke-linecap:butt; stroke-linejoin:round; stroke-width:4; stroke-opacity:1; fill:none\" points=\"\n",
       "  218.281,1438.96 736.358,1433.82 1254.43,1430.77 1772.51,1431.61 2290.59,1445.72 \n",
       "  \"/>\n",
       "<polyline clip-path=\"url(#clip272)\" style=\"stroke:#c68125; stroke-linecap:butt; stroke-linejoin:round; stroke-width:4; stroke-opacity:1; fill:none\" points=\"\n",
       "  218.281,1150.89 736.358,1146.65 1254.43,1142.56 1772.51,1135.94 2290.59,1445.72 \n",
       "  \"/>\n",
       "<polyline clip-path=\"url(#clip272)\" style=\"stroke:#00a98d; stroke-linecap:butt; stroke-linejoin:round; stroke-width:4; stroke-opacity:1; fill:none\" points=\"\n",
       "  218.281,983.726 736.358,816.302 1254.43,816.08 1772.51,984.229 2290.59,1445.72 \n",
       "  \"/>\n",
       "<polyline clip-path=\"url(#clip272)\" style=\"stroke:#8e971d; stroke-linecap:butt; stroke-linejoin:round; stroke-width:4; stroke-opacity:1; fill:none\" points=\"\n",
       "  218.281,1339.14 736.358,1338.92 1254.43,1338.79 1772.51,1338.78 2290.59,1445.72 \n",
       "  \"/>\n",
       "<polyline clip-path=\"url(#clip272)\" style=\"stroke:#00a8cb; stroke-linecap:butt; stroke-linejoin:round; stroke-width:4; stroke-opacity:1; fill:none\" points=\"\n",
       "  218.281,971.207 736.358,722.425 1254.43,722.226 1772.51,970.027 2290.59,1445.72 \n",
       "  \"/>\n",
       "<polyline clip-path=\"url(#clip272)\" style=\"stroke:#9b7fe8; stroke-linecap:butt; stroke-linejoin:round; stroke-width:4; stroke-opacity:1; fill:none\" points=\"\n",
       "  218.281,1222.88 736.358,1217.77 1254.43,1216.9 1772.51,1218.45 2290.59,1445.72 \n",
       "  \"/>\n",
       "<polyline clip-path=\"url(#clip272)\" style=\"stroke:#608cf6; stroke-linecap:butt; stroke-linejoin:round; stroke-width:4; stroke-opacity:1; fill:none\" points=\"\n",
       "  218.281,916.023 736.358,772.542 1254.43,771.755 1772.51,914.361 2290.59,1445.72 \n",
       "  \"/>\n",
       "<polyline clip-path=\"url(#clip272)\" style=\"stroke:#f05f73; stroke-linecap:butt; stroke-linejoin:round; stroke-width:4; stroke-opacity:1; fill:none\" points=\"\n",
       "  218.281,1067.41 736.358,971.145 1254.43,969.197 1772.51,1063.49 2290.59,1445.72 \n",
       "  \"/>\n",
       "<polyline clip-path=\"url(#clip272)\" style=\"stroke:#dd64b5; stroke-linecap:butt; stroke-linejoin:round; stroke-width:4; stroke-opacity:1; fill:none\" points=\"\n",
       "  218.281,1350.96 736.358,1347.21 1254.43,1367.57 1772.51,1401.45 2290.59,1445.72 \n",
       "  \"/>\n",
       "<polyline clip-path=\"url(#clip272)\" style=\"stroke:#6b9e32; stroke-linecap:butt; stroke-linejoin:round; stroke-width:4; stroke-opacity:1; fill:none\" points=\"\n",
       "  218.281,241.723 736.358,87.9763 1254.43,91.7676 1772.51,292.971 2290.59,1445.72 \n",
       "  \"/>\n",
       "<polyline clip-path=\"url(#clip272)\" style=\"stroke:#009af9; stroke-linecap:butt; stroke-linejoin:round; stroke-width:4; stroke-opacity:1; fill:none\" points=\"\n",
       "  218.281,938.995 736.358,927.477 1254.43,926.051 1772.51,934.493 2290.59,1445.72 \n",
       "  \"/>\n",
       "<polyline clip-path=\"url(#clip272)\" style=\"stroke:#e26f46; stroke-linecap:butt; stroke-linejoin:round; stroke-width:4; stroke-opacity:1; fill:none\" points=\"\n",
       "  218.281,732.579 736.358,695.302 1254.43,692.667 1772.51,722.354 2290.59,1445.72 \n",
       "  \"/>\n",
       "<polyline clip-path=\"url(#clip272)\" style=\"stroke:#3da44d; stroke-linecap:butt; stroke-linejoin:round; stroke-width:4; stroke-opacity:1; fill:none\" points=\"\n",
       "  218.281,604.847 736.358,363.262 1254.43,364.146 1772.51,611.623 2290.59,1445.72 \n",
       "  \"/>\n",
       "<polyline clip-path=\"url(#clip272)\" style=\"stroke:#c271d2; stroke-linecap:butt; stroke-linejoin:round; stroke-width:4; stroke-opacity:1; fill:none\" points=\"\n",
       "  218.281,1053.28 736.358,940.16 1254.43,939.574 1772.51,1051.87 2290.59,1445.72 \n",
       "  \"/>\n",
       "<polyline clip-path=\"url(#clip272)\" style=\"stroke:#ac8d18; stroke-linecap:butt; stroke-linejoin:round; stroke-width:4; stroke-opacity:1; fill:none\" points=\"\n",
       "  218.281,1122.44 736.358,1117.36 1254.43,1116.42 1772.51,1117.84 2290.59,1445.72 \n",
       "  \"/>\n",
       "<polyline clip-path=\"url(#clip272)\" style=\"stroke:#00a9ad; stroke-linecap:butt; stroke-linejoin:round; stroke-width:4; stroke-opacity:1; fill:none\" points=\"\n",
       "  218.281,1434.33 736.358,1434.25 1254.43,1436.8 1772.51,1440.74 2290.59,1445.72 \n",
       "  \"/>\n",
       "<polyline clip-path=\"url(#clip272)\" style=\"stroke:#ed5d92; stroke-linecap:butt; stroke-linejoin:round; stroke-width:4; stroke-opacity:1; fill:none\" points=\"\n",
       "  218.281,1403.73 736.358,1379.16 1254.43,1379.07 1772.51,1403.48 2290.59,1445.72 \n",
       "  \"/>\n",
       "<polyline clip-path=\"url(#clip272)\" style=\"stroke:#c68125; stroke-linecap:butt; stroke-linejoin:round; stroke-width:4; stroke-opacity:1; fill:none\" points=\"\n",
       "  218.281,1388.61 736.358,1388.35 1254.43,1388.3 1772.51,1388.38 2290.59,1445.72 \n",
       "  \"/>\n",
       "<polyline clip-path=\"url(#clip272)\" style=\"stroke:#00a98d; stroke-linecap:butt; stroke-linejoin:round; stroke-width:4; stroke-opacity:1; fill:none\" points=\"\n",
       "  218.281,1424.79 736.358,1424.76 1254.43,1424.73 1772.51,1424.68 2290.59,1445.72 \n",
       "  \"/>\n",
       "<polyline clip-path=\"url(#clip272)\" style=\"stroke:#8e971d; stroke-linecap:butt; stroke-linejoin:round; stroke-width:4; stroke-opacity:1; fill:none\" points=\"\n",
       "  218.281,1084.12 736.358,962.91 1254.43,962.077 1772.51,1083.1 2290.59,1445.72 \n",
       "  \"/>\n",
       "<polyline clip-path=\"url(#clip272)\" style=\"stroke:#00a8cb; stroke-linecap:butt; stroke-linejoin:round; stroke-width:4; stroke-opacity:1; fill:none\" points=\"\n",
       "  218.281,1066.65 736.358,975.581 1254.43,974.672 1772.51,1064.24 2290.59,1445.72 \n",
       "  \"/>\n",
       "<polyline clip-path=\"url(#clip272)\" style=\"stroke:#9b7fe8; stroke-linecap:butt; stroke-linejoin:round; stroke-width:4; stroke-opacity:1; fill:none\" points=\"\n",
       "  218.281,1132.32 736.358,1127.38 1254.43,1126.19 1772.51,1127.7 2290.59,1445.72 \n",
       "  \"/>\n",
       "<polyline clip-path=\"url(#clip272)\" style=\"stroke:#608cf6; stroke-linecap:butt; stroke-linejoin:round; stroke-width:4; stroke-opacity:1; fill:none\" points=\"\n",
       "  218.281,1428.1 736.358,1417.92 1254.43,1417.81 1772.51,1427.93 2290.59,1445.72 \n",
       "  \"/>\n",
       "<polyline clip-path=\"url(#clip272)\" style=\"stroke:#f05f73; stroke-linecap:butt; stroke-linejoin:round; stroke-width:4; stroke-opacity:1; fill:none\" points=\"\n",
       "  218.281,1285.26 736.358,1280.87 1254.43,1280.77 1772.51,1284.97 2290.59,1445.72 \n",
       "  \"/>\n",
       "<path clip-path=\"url(#clip270)\" d=\"\n",
       "M1951.16 1970.1 L2279.53 1970.1 L2279.53 95.2176 L1951.16 95.2176  Z\n",
       "  \" fill=\"#ffffff\" fill-rule=\"evenodd\" fill-opacity=\"1\"/>\n",
       "<polyline clip-path=\"url(#clip270)\" style=\"stroke:#000000; stroke-linecap:butt; stroke-linejoin:round; stroke-width:4; stroke-opacity:1; fill:none\" points=\"\n",
       "  1951.16,1970.1 2279.53,1970.1 2279.53,95.2176 1951.16,95.2176 1951.16,1970.1 \n",
       "  \"/>\n",
       "<polyline clip-path=\"url(#clip270)\" style=\"stroke:#009af9; stroke-linecap:butt; stroke-linejoin:round; stroke-width:4; stroke-opacity:1; fill:none\" points=\"\n",
       "  1975.56,155.698 2122.01,155.698 \n",
       "  \"/>\n",
       "<path clip-path=\"url(#clip270)\" d=\"M2160.26 175.385 Q2158.45 180.015 2156.74 181.427 Q2155.03 182.839 2152.16 182.839 L2148.75 182.839 L2148.75 179.274 L2151.25 179.274 Q2153.01 179.274 2153.98 178.44 Q2154.96 177.607 2156.14 174.505 L2156.9 172.561 L2146.42 147.052 L2150.93 147.052 L2159.03 167.329 L2167.13 147.052 L2171.65 147.052 L2160.26 175.385 Z\" fill=\"#000000\" fill-rule=\"evenodd\" fill-opacity=\"1\" /><path clip-path=\"url(#clip270)\" d=\"M2178.94 169.042 L2186.58 169.042 L2186.58 142.677 L2178.27 144.343 L2178.27 140.084 L2186.53 138.418 L2191.21 138.418 L2191.21 169.042 L2198.85 169.042 L2198.85 172.978 L2178.94 172.978 L2178.94 169.042 Z\" fill=\"#000000\" fill-rule=\"evenodd\" fill-opacity=\"1\" /><polyline clip-path=\"url(#clip270)\" style=\"stroke:#e26f46; stroke-linecap:butt; stroke-linejoin:round; stroke-width:4; stroke-opacity:1; fill:none\" points=\"\n",
       "  1975.56,216.178 2122.01,216.178 \n",
       "  \"/>\n",
       "<path clip-path=\"url(#clip270)\" d=\"M2160.26 235.865 Q2158.45 240.495 2156.74 241.907 Q2155.03 243.319 2152.16 243.319 L2148.75 243.319 L2148.75 239.754 L2151.25 239.754 Q2153.01 239.754 2153.98 238.92 Q2154.96 238.087 2156.14 234.985 L2156.9 233.041 L2146.42 207.532 L2150.93 207.532 L2159.03 227.809 L2167.13 207.532 L2171.65 207.532 L2160.26 235.865 Z\" fill=\"#000000\" fill-rule=\"evenodd\" fill-opacity=\"1\" /><path clip-path=\"url(#clip270)\" d=\"M2182.16 229.522 L2198.47 229.522 L2198.47 233.458 L2176.53 233.458 L2176.53 229.522 Q2179.19 226.768 2183.78 222.138 Q2188.38 217.485 2189.56 216.143 Q2191.81 213.62 2192.69 211.884 Q2193.59 210.124 2193.59 208.435 Q2193.59 205.68 2191.65 203.944 Q2189.72 202.208 2186.62 202.208 Q2184.42 202.208 2181.97 202.972 Q2179.54 203.735 2176.76 205.286 L2176.76 200.564 Q2179.59 199.43 2182.04 198.851 Q2184.49 198.273 2186.53 198.273 Q2191.9 198.273 2195.1 200.958 Q2198.29 203.643 2198.29 208.134 Q2198.29 210.263 2197.48 212.185 Q2196.69 214.083 2194.59 216.675 Q2194.01 217.347 2190.91 220.564 Q2187.8 223.759 2182.16 229.522 Z\" fill=\"#000000\" fill-rule=\"evenodd\" fill-opacity=\"1\" /><polyline clip-path=\"url(#clip270)\" style=\"stroke:#3da44d; stroke-linecap:butt; stroke-linejoin:round; stroke-width:4; stroke-opacity:1; fill:none\" points=\"\n",
       "  1975.56,276.658 2122.01,276.658 \n",
       "  \"/>\n",
       "<path clip-path=\"url(#clip270)\" d=\"M2160.26 296.345 Q2158.45 300.975 2156.74 302.387 Q2155.03 303.799 2152.16 303.799 L2148.75 303.799 L2148.75 300.234 L2151.25 300.234 Q2153.01 300.234 2153.98 299.4 Q2154.96 298.567 2156.14 295.465 L2156.9 293.521 L2146.42 268.012 L2150.93 268.012 L2159.03 288.289 L2167.13 268.012 L2171.65 268.012 L2160.26 296.345 Z\" fill=\"#000000\" fill-rule=\"evenodd\" fill-opacity=\"1\" /><path clip-path=\"url(#clip270)\" d=\"M2192.29 275.303 Q2195.65 276.021 2197.53 278.289 Q2199.42 280.558 2199.42 283.891 Q2199.42 289.007 2195.91 291.808 Q2192.39 294.609 2185.91 294.609 Q2183.73 294.609 2181.41 294.169 Q2179.12 293.752 2176.67 292.896 L2176.67 288.382 Q2178.61 289.516 2180.93 290.095 Q2183.24 290.674 2185.77 290.674 Q2190.16 290.674 2192.46 288.938 Q2194.77 287.201 2194.77 283.891 Q2194.77 280.836 2192.62 279.123 Q2190.49 277.387 2186.67 277.387 L2182.64 277.387 L2182.64 273.544 L2186.85 273.544 Q2190.3 273.544 2192.13 272.178 Q2193.96 270.79 2193.96 268.197 Q2193.96 265.535 2192.06 264.123 Q2190.19 262.688 2186.67 262.688 Q2184.75 262.688 2182.55 263.104 Q2180.35 263.521 2177.71 264.401 L2177.71 260.234 Q2180.37 259.493 2182.69 259.123 Q2185.03 258.753 2187.09 258.753 Q2192.41 258.753 2195.51 261.183 Q2198.61 263.59 2198.61 267.711 Q2198.61 270.581 2196.97 272.572 Q2195.33 274.54 2192.29 275.303 Z\" fill=\"#000000\" fill-rule=\"evenodd\" fill-opacity=\"1\" /><polyline clip-path=\"url(#clip270)\" style=\"stroke:#c271d2; stroke-linecap:butt; stroke-linejoin:round; stroke-width:4; stroke-opacity:1; fill:none\" points=\"\n",
       "  1975.56,337.138 2122.01,337.138 \n",
       "  \"/>\n",
       "<path clip-path=\"url(#clip270)\" d=\"M2160.26 356.825 Q2158.45 361.455 2156.74 362.867 Q2155.03 364.279 2152.16 364.279 L2148.75 364.279 L2148.75 360.714 L2151.25 360.714 Q2153.01 360.714 2153.98 359.88 Q2154.96 359.047 2156.14 355.945 L2156.9 354.001 L2146.42 328.492 L2150.93 328.492 L2159.03 348.769 L2167.13 328.492 L2171.65 328.492 L2160.26 356.825 Z\" fill=\"#000000\" fill-rule=\"evenodd\" fill-opacity=\"1\" /><path clip-path=\"url(#clip270)\" d=\"M2190.97 323.932 L2179.17 342.381 L2190.97 342.381 L2190.97 323.932 M2189.75 319.858 L2195.63 319.858 L2195.63 342.381 L2200.56 342.381 L2200.56 346.269 L2195.63 346.269 L2195.63 354.418 L2190.97 354.418 L2190.97 346.269 L2175.37 346.269 L2175.37 341.756 L2189.75 319.858 Z\" fill=\"#000000\" fill-rule=\"evenodd\" fill-opacity=\"1\" /><polyline clip-path=\"url(#clip270)\" style=\"stroke:#ac8d18; stroke-linecap:butt; stroke-linejoin:round; stroke-width:4; stroke-opacity:1; fill:none\" points=\"\n",
       "  1975.56,397.618 2122.01,397.618 \n",
       "  \"/>\n",
       "<path clip-path=\"url(#clip270)\" d=\"M2160.26 417.305 Q2158.45 421.935 2156.74 423.347 Q2155.03 424.759 2152.16 424.759 L2148.75 424.759 L2148.75 421.194 L2151.25 421.194 Q2153.01 421.194 2153.98 420.36 Q2154.96 419.527 2156.14 416.425 L2156.9 414.481 L2146.42 388.972 L2150.93 388.972 L2159.03 409.249 L2167.13 388.972 L2171.65 388.972 L2160.26 417.305 Z\" fill=\"#000000\" fill-rule=\"evenodd\" fill-opacity=\"1\" /><path clip-path=\"url(#clip270)\" d=\"M2178.17 380.338 L2196.53 380.338 L2196.53 384.273 L2182.46 384.273 L2182.46 392.745 Q2183.48 392.398 2184.49 392.236 Q2185.51 392.05 2186.53 392.05 Q2192.32 392.05 2195.7 395.222 Q2199.08 398.393 2199.08 403.81 Q2199.08 409.388 2195.6 412.49 Q2192.13 415.569 2185.81 415.569 Q2183.64 415.569 2181.37 415.198 Q2179.12 414.828 2176.72 414.087 L2176.72 409.388 Q2178.8 410.523 2181.02 411.078 Q2183.24 411.634 2185.72 411.634 Q2189.72 411.634 2192.06 409.527 Q2194.4 407.421 2194.4 403.81 Q2194.4 400.199 2192.06 398.092 Q2189.72 395.986 2185.72 395.986 Q2183.85 395.986 2181.97 396.402 Q2180.12 396.819 2178.17 397.699 L2178.17 380.338 Z\" fill=\"#000000\" fill-rule=\"evenodd\" fill-opacity=\"1\" /><polyline clip-path=\"url(#clip270)\" style=\"stroke:#00a9ad; stroke-linecap:butt; stroke-linejoin:round; stroke-width:4; stroke-opacity:1; fill:none\" points=\"\n",
       "  1975.56,458.098 2122.01,458.098 \n",
       "  \"/>\n",
       "<path clip-path=\"url(#clip270)\" d=\"M2160.26 477.785 Q2158.45 482.415 2156.74 483.827 Q2155.03 485.239 2152.16 485.239 L2148.75 485.239 L2148.75 481.674 L2151.25 481.674 Q2153.01 481.674 2153.98 480.84 Q2154.96 480.007 2156.14 476.905 L2156.9 474.961 L2146.42 449.452 L2150.93 449.452 L2159.03 469.729 L2167.13 449.452 L2171.65 449.452 L2160.26 477.785 Z\" fill=\"#000000\" fill-rule=\"evenodd\" fill-opacity=\"1\" /><path clip-path=\"url(#clip270)\" d=\"M2188.71 456.234 Q2185.56 456.234 2183.71 458.387 Q2181.88 460.54 2181.88 464.29 Q2181.88 468.016 2183.71 470.192 Q2185.56 472.345 2188.71 472.345 Q2191.85 472.345 2193.68 470.192 Q2195.54 468.016 2195.54 464.29 Q2195.54 460.54 2193.68 458.387 Q2191.85 456.234 2188.71 456.234 M2197.99 441.581 L2197.99 445.841 Q2196.23 445.007 2194.42 444.568 Q2192.64 444.128 2190.88 444.128 Q2186.25 444.128 2183.8 447.253 Q2181.37 450.378 2181.02 456.697 Q2182.39 454.683 2184.45 453.618 Q2186.51 452.53 2188.98 452.53 Q2194.19 452.53 2197.2 455.702 Q2200.23 458.85 2200.23 464.29 Q2200.23 469.614 2197.09 472.831 Q2193.94 476.049 2188.71 476.049 Q2182.71 476.049 2179.54 471.466 Q2176.37 466.859 2176.37 458.132 Q2176.37 449.938 2180.26 445.077 Q2184.15 440.193 2190.7 440.193 Q2192.46 440.193 2194.24 440.54 Q2196.04 440.887 2197.99 441.581 Z\" fill=\"#000000\" fill-rule=\"evenodd\" fill-opacity=\"1\" /><polyline clip-path=\"url(#clip270)\" style=\"stroke:#ed5d92; stroke-linecap:butt; stroke-linejoin:round; stroke-width:4; stroke-opacity:1; fill:none\" points=\"\n",
       "  1975.56,518.578 2122.01,518.578 \n",
       "  \"/>\n",
       "<path clip-path=\"url(#clip270)\" d=\"M2160.26 538.265 Q2158.45 542.895 2156.74 544.307 Q2155.03 545.719 2152.16 545.719 L2148.75 545.719 L2148.75 542.154 L2151.25 542.154 Q2153.01 542.154 2153.98 541.32 Q2154.96 540.487 2156.14 537.385 L2156.9 535.441 L2146.42 509.932 L2150.93 509.932 L2159.03 530.209 L2167.13 509.932 L2171.65 509.932 L2160.26 538.265 Z\" fill=\"#000000\" fill-rule=\"evenodd\" fill-opacity=\"1\" /><path clip-path=\"url(#clip270)\" d=\"M2176.95 501.298 L2199.17 501.298 L2199.17 503.288 L2186.62 535.858 L2181.74 535.858 L2193.54 505.233 L2176.95 505.233 L2176.95 501.298 Z\" fill=\"#000000\" fill-rule=\"evenodd\" fill-opacity=\"1\" /><polyline clip-path=\"url(#clip270)\" style=\"stroke:#c68125; stroke-linecap:butt; stroke-linejoin:round; stroke-width:4; stroke-opacity:1; fill:none\" points=\"\n",
       "  1975.56,579.058 2122.01,579.058 \n",
       "  \"/>\n",
       "<path clip-path=\"url(#clip270)\" d=\"M2160.26 598.745 Q2158.45 603.375 2156.74 604.787 Q2155.03 606.199 2152.16 606.199 L2148.75 606.199 L2148.75 602.634 L2151.25 602.634 Q2153.01 602.634 2153.98 601.8 Q2154.96 600.967 2156.14 597.865 L2156.9 595.921 L2146.42 570.412 L2150.93 570.412 L2159.03 590.689 L2167.13 570.412 L2171.65 570.412 L2160.26 598.745 Z\" fill=\"#000000\" fill-rule=\"evenodd\" fill-opacity=\"1\" /><path clip-path=\"url(#clip270)\" d=\"M2188.13 579.926 Q2184.79 579.926 2182.87 581.708 Q2180.98 583.49 2180.98 586.615 Q2180.98 589.74 2182.87 591.523 Q2184.79 593.305 2188.13 593.305 Q2191.46 593.305 2193.38 591.523 Q2195.3 589.717 2195.3 586.615 Q2195.3 583.49 2193.38 581.708 Q2191.48 579.926 2188.13 579.926 M2183.45 577.935 Q2180.44 577.194 2178.75 575.134 Q2177.09 573.074 2177.09 570.111 Q2177.09 565.967 2180.03 563.56 Q2182.99 561.153 2188.13 561.153 Q2193.29 561.153 2196.23 563.56 Q2199.17 565.967 2199.17 570.111 Q2199.17 573.074 2197.48 575.134 Q2195.81 577.194 2192.83 577.935 Q2196.21 578.722 2198.08 581.014 Q2199.98 583.305 2199.98 586.615 Q2199.98 591.639 2196.9 594.324 Q2193.85 597.009 2188.13 597.009 Q2182.41 597.009 2179.33 594.324 Q2176.28 591.639 2176.28 586.615 Q2176.28 583.305 2178.17 581.014 Q2180.07 578.722 2183.45 577.935 M2181.74 570.551 Q2181.74 573.236 2183.41 574.74 Q2185.1 576.245 2188.13 576.245 Q2191.14 576.245 2192.83 574.74 Q2194.54 573.236 2194.54 570.551 Q2194.54 567.865 2192.83 566.361 Q2191.14 564.856 2188.13 564.856 Q2185.1 564.856 2183.41 566.361 Q2181.74 567.865 2181.74 570.551 Z\" fill=\"#000000\" fill-rule=\"evenodd\" fill-opacity=\"1\" /><polyline clip-path=\"url(#clip270)\" style=\"stroke:#00a98d; stroke-linecap:butt; stroke-linejoin:round; stroke-width:4; stroke-opacity:1; fill:none\" points=\"\n",
       "  1975.56,639.538 2122.01,639.538 \n",
       "  \"/>\n",
       "<path clip-path=\"url(#clip270)\" d=\"M2160.26 659.225 Q2158.45 663.855 2156.74 665.267 Q2155.03 666.679 2152.16 666.679 L2148.75 666.679 L2148.75 663.114 L2151.25 663.114 Q2153.01 663.114 2153.98 662.28 Q2154.96 661.447 2156.14 658.345 L2156.9 656.401 L2146.42 630.892 L2150.93 630.892 L2159.03 651.169 L2167.13 630.892 L2171.65 630.892 L2160.26 659.225 Z\" fill=\"#000000\" fill-rule=\"evenodd\" fill-opacity=\"1\" /><path clip-path=\"url(#clip270)\" d=\"M2178.27 656.1 L2178.27 651.841 Q2180.03 652.674 2181.83 653.114 Q2183.64 653.554 2185.37 653.554 Q2190 653.554 2192.43 650.452 Q2194.89 647.327 2195.23 640.984 Q2193.89 642.975 2191.83 644.04 Q2189.77 645.105 2187.27 645.105 Q2182.09 645.105 2179.05 641.98 Q2176.04 638.832 2176.04 633.392 Q2176.04 628.068 2179.19 624.85 Q2182.34 621.633 2187.57 621.633 Q2193.57 621.633 2196.72 626.239 Q2199.89 630.822 2199.89 639.572 Q2199.89 647.744 2196 652.628 Q2192.13 657.489 2185.58 657.489 Q2183.82 657.489 2182.02 657.142 Q2180.21 656.794 2178.27 656.1 M2187.57 641.447 Q2190.72 641.447 2192.55 639.294 Q2194.4 637.142 2194.4 633.392 Q2194.4 629.665 2192.55 627.512 Q2190.72 625.336 2187.57 625.336 Q2184.42 625.336 2182.57 627.512 Q2180.74 629.665 2180.74 633.392 Q2180.74 637.142 2182.57 639.294 Q2184.42 641.447 2187.57 641.447 Z\" fill=\"#000000\" fill-rule=\"evenodd\" fill-opacity=\"1\" /><polyline clip-path=\"url(#clip270)\" style=\"stroke:#8e971d; stroke-linecap:butt; stroke-linejoin:round; stroke-width:4; stroke-opacity:1; fill:none\" points=\"\n",
       "  1975.56,700.018 2122.01,700.018 \n",
       "  \"/>\n",
       "<path clip-path=\"url(#clip270)\" d=\"M2160.26 719.705 Q2158.45 724.335 2156.74 725.747 Q2155.03 727.159 2152.16 727.159 L2148.75 727.159 L2148.75 723.594 L2151.25 723.594 Q2153.01 723.594 2153.98 722.76 Q2154.96 721.927 2156.14 718.825 L2156.9 716.881 L2146.42 691.372 L2150.93 691.372 L2159.03 711.649 L2167.13 691.372 L2171.65 691.372 L2160.26 719.705 Z\" fill=\"#000000\" fill-rule=\"evenodd\" fill-opacity=\"1\" /><path clip-path=\"url(#clip270)\" d=\"M2178.94 713.362 L2186.58 713.362 L2186.58 686.997 L2178.27 688.663 L2178.27 684.404 L2186.53 682.738 L2191.21 682.738 L2191.21 713.362 L2198.85 713.362 L2198.85 717.298 L2178.94 717.298 L2178.94 713.362 Z\" fill=\"#000000\" fill-rule=\"evenodd\" fill-opacity=\"1\" /><path clip-path=\"url(#clip270)\" d=\"M2218.29 685.816 Q2214.68 685.816 2212.85 689.381 Q2211.04 692.923 2211.04 700.052 Q2211.04 707.159 2212.85 710.724 Q2214.68 714.265 2218.29 714.265 Q2221.92 714.265 2223.73 710.724 Q2225.56 707.159 2225.56 700.052 Q2225.56 692.923 2223.73 689.381 Q2221.92 685.816 2218.29 685.816 M2218.29 682.113 Q2224.1 682.113 2227.16 686.719 Q2230.23 691.302 2230.23 700.052 Q2230.23 708.779 2227.16 713.386 Q2224.1 717.969 2218.29 717.969 Q2212.48 717.969 2209.4 713.386 Q2206.35 708.779 2206.35 700.052 Q2206.35 691.302 2209.4 686.719 Q2212.48 682.113 2218.29 682.113 Z\" fill=\"#000000\" fill-rule=\"evenodd\" fill-opacity=\"1\" /><polyline clip-path=\"url(#clip270)\" style=\"stroke:#00a8cb; stroke-linecap:butt; stroke-linejoin:round; stroke-width:4; stroke-opacity:1; fill:none\" points=\"\n",
       "  1975.56,760.498 2122.01,760.498 \n",
       "  \"/>\n",
       "<path clip-path=\"url(#clip270)\" d=\"M2160.26 780.185 Q2158.45 784.815 2156.74 786.227 Q2155.03 787.639 2152.16 787.639 L2148.75 787.639 L2148.75 784.074 L2151.25 784.074 Q2153.01 784.074 2153.98 783.24 Q2154.96 782.407 2156.14 779.305 L2156.9 777.361 L2146.42 751.852 L2150.93 751.852 L2159.03 772.129 L2167.13 751.852 L2171.65 751.852 L2160.26 780.185 Z\" fill=\"#000000\" fill-rule=\"evenodd\" fill-opacity=\"1\" /><path clip-path=\"url(#clip270)\" d=\"M2178.94 773.842 L2186.58 773.842 L2186.58 747.477 L2178.27 749.143 L2178.27 744.884 L2186.53 743.218 L2191.21 743.218 L2191.21 773.842 L2198.85 773.842 L2198.85 777.778 L2178.94 777.778 L2178.94 773.842 Z\" fill=\"#000000\" fill-rule=\"evenodd\" fill-opacity=\"1\" /><path clip-path=\"url(#clip270)\" d=\"M2209.1 773.842 L2216.74 773.842 L2216.74 747.477 L2208.43 749.143 L2208.43 744.884 L2216.69 743.218 L2221.37 743.218 L2221.37 773.842 L2229.01 773.842 L2229.01 777.778 L2209.1 777.778 L2209.1 773.842 Z\" fill=\"#000000\" fill-rule=\"evenodd\" fill-opacity=\"1\" /><polyline clip-path=\"url(#clip270)\" style=\"stroke:#9b7fe8; stroke-linecap:butt; stroke-linejoin:round; stroke-width:4; stroke-opacity:1; fill:none\" points=\"\n",
       "  1975.56,820.978 2122.01,820.978 \n",
       "  \"/>\n",
       "<path clip-path=\"url(#clip270)\" d=\"M2160.26 840.665 Q2158.45 845.295 2156.74 846.707 Q2155.03 848.119 2152.16 848.119 L2148.75 848.119 L2148.75 844.554 L2151.25 844.554 Q2153.01 844.554 2153.98 843.72 Q2154.96 842.887 2156.14 839.785 L2156.9 837.841 L2146.42 812.332 L2150.93 812.332 L2159.03 832.609 L2167.13 812.332 L2171.65 812.332 L2160.26 840.665 Z\" fill=\"#000000\" fill-rule=\"evenodd\" fill-opacity=\"1\" /><path clip-path=\"url(#clip270)\" d=\"M2178.94 834.322 L2186.58 834.322 L2186.58 807.957 L2178.27 809.623 L2178.27 805.364 L2186.53 803.698 L2191.21 803.698 L2191.21 834.322 L2198.85 834.322 L2198.85 838.258 L2178.94 838.258 L2178.94 834.322 Z\" fill=\"#000000\" fill-rule=\"evenodd\" fill-opacity=\"1\" /><path clip-path=\"url(#clip270)\" d=\"M2212.32 834.322 L2228.64 834.322 L2228.64 838.258 L2206.69 838.258 L2206.69 834.322 Q2209.35 831.568 2213.94 826.938 Q2218.54 822.285 2219.72 820.943 Q2221.97 818.42 2222.85 816.684 Q2223.75 814.924 2223.75 813.235 Q2223.75 810.48 2221.81 808.744 Q2219.89 807.008 2216.79 807.008 Q2214.59 807.008 2212.13 807.772 Q2209.7 808.535 2206.92 810.086 L2206.92 805.364 Q2209.75 804.23 2212.2 803.651 Q2214.66 803.073 2216.69 803.073 Q2222.06 803.073 2225.26 805.758 Q2228.45 808.443 2228.45 812.934 Q2228.45 815.063 2227.64 816.985 Q2226.85 818.883 2224.75 821.475 Q2224.17 822.147 2221.07 825.364 Q2217.97 828.559 2212.32 834.322 Z\" fill=\"#000000\" fill-rule=\"evenodd\" fill-opacity=\"1\" /><polyline clip-path=\"url(#clip270)\" style=\"stroke:#608cf6; stroke-linecap:butt; stroke-linejoin:round; stroke-width:4; stroke-opacity:1; fill:none\" points=\"\n",
       "  1975.56,881.458 2122.01,881.458 \n",
       "  \"/>\n",
       "<path clip-path=\"url(#clip270)\" d=\"M2160.26 901.145 Q2158.45 905.775 2156.74 907.187 Q2155.03 908.599 2152.16 908.599 L2148.75 908.599 L2148.75 905.034 L2151.25 905.034 Q2153.01 905.034 2153.98 904.2 Q2154.96 903.367 2156.14 900.265 L2156.9 898.321 L2146.42 872.812 L2150.93 872.812 L2159.03 893.089 L2167.13 872.812 L2171.65 872.812 L2160.26 901.145 Z\" fill=\"#000000\" fill-rule=\"evenodd\" fill-opacity=\"1\" /><path clip-path=\"url(#clip270)\" d=\"M2178.94 894.802 L2186.58 894.802 L2186.58 868.437 L2178.27 870.103 L2178.27 865.844 L2186.53 864.178 L2191.21 864.178 L2191.21 894.802 L2198.85 894.802 L2198.85 898.738 L2178.94 898.738 L2178.94 894.802 Z\" fill=\"#000000\" fill-rule=\"evenodd\" fill-opacity=\"1\" /><path clip-path=\"url(#clip270)\" d=\"M2222.46 880.103 Q2225.81 880.821 2227.69 883.089 Q2229.59 885.358 2229.59 888.691 Q2229.59 893.807 2226.07 896.608 Q2222.55 899.409 2216.07 899.409 Q2213.89 899.409 2211.58 898.969 Q2209.29 898.552 2206.83 897.696 L2206.83 893.182 Q2208.78 894.316 2211.09 894.895 Q2213.41 895.474 2215.93 895.474 Q2220.33 895.474 2222.62 893.738 Q2224.93 892.001 2224.93 888.691 Q2224.93 885.636 2222.78 883.923 Q2220.65 882.187 2216.83 882.187 L2212.8 882.187 L2212.8 878.344 L2217.02 878.344 Q2220.47 878.344 2222.29 876.978 Q2224.12 875.59 2224.12 872.997 Q2224.12 870.335 2222.22 868.923 Q2220.35 867.488 2216.83 867.488 Q2214.91 867.488 2212.71 867.904 Q2210.51 868.321 2207.87 869.201 L2207.87 865.034 Q2210.54 864.293 2212.85 863.923 Q2215.19 863.553 2217.25 863.553 Q2222.57 863.553 2225.67 865.983 Q2228.78 868.39 2228.78 872.511 Q2228.78 875.381 2227.13 877.372 Q2225.49 879.34 2222.46 880.103 Z\" fill=\"#000000\" fill-rule=\"evenodd\" fill-opacity=\"1\" /><polyline clip-path=\"url(#clip270)\" style=\"stroke:#f05f73; stroke-linecap:butt; stroke-linejoin:round; stroke-width:4; stroke-opacity:1; fill:none\" points=\"\n",
       "  1975.56,941.938 2122.01,941.938 \n",
       "  \"/>\n",
       "<path clip-path=\"url(#clip270)\" d=\"M2160.26 961.625 Q2158.45 966.255 2156.74 967.667 Q2155.03 969.079 2152.16 969.079 L2148.75 969.079 L2148.75 965.514 L2151.25 965.514 Q2153.01 965.514 2153.98 964.68 Q2154.96 963.847 2156.14 960.745 L2156.9 958.801 L2146.42 933.292 L2150.93 933.292 L2159.03 953.569 L2167.13 933.292 L2171.65 933.292 L2160.26 961.625 Z\" fill=\"#000000\" fill-rule=\"evenodd\" fill-opacity=\"1\" /><path clip-path=\"url(#clip270)\" d=\"M2178.94 955.282 L2186.58 955.282 L2186.58 928.917 L2178.27 930.583 L2178.27 926.324 L2186.53 924.658 L2191.21 924.658 L2191.21 955.282 L2198.85 955.282 L2198.85 959.218 L2178.94 959.218 L2178.94 955.282 Z\" fill=\"#000000\" fill-rule=\"evenodd\" fill-opacity=\"1\" /><path clip-path=\"url(#clip270)\" d=\"M2221.14 928.732 L2209.33 947.181 L2221.14 947.181 L2221.14 928.732 M2219.91 924.658 L2225.79 924.658 L2225.79 947.181 L2230.72 947.181 L2230.72 951.069 L2225.79 951.069 L2225.79 959.218 L2221.14 959.218 L2221.14 951.069 L2205.54 951.069 L2205.54 946.556 L2219.91 924.658 Z\" fill=\"#000000\" fill-rule=\"evenodd\" fill-opacity=\"1\" /><polyline clip-path=\"url(#clip270)\" style=\"stroke:#dd64b5; stroke-linecap:butt; stroke-linejoin:round; stroke-width:4; stroke-opacity:1; fill:none\" points=\"\n",
       "  1975.56,1002.42 2122.01,1002.42 \n",
       "  \"/>\n",
       "<path clip-path=\"url(#clip270)\" d=\"M2160.26 1022.1 Q2158.45 1026.73 2156.74 1028.15 Q2155.03 1029.56 2152.16 1029.56 L2148.75 1029.56 L2148.75 1025.99 L2151.25 1025.99 Q2153.01 1025.99 2153.98 1025.16 Q2154.96 1024.33 2156.14 1021.23 L2156.9 1019.28 L2146.42 993.772 L2150.93 993.772 L2159.03 1014.05 L2167.13 993.772 L2171.65 993.772 L2160.26 1022.1 Z\" fill=\"#000000\" fill-rule=\"evenodd\" fill-opacity=\"1\" /><path clip-path=\"url(#clip270)\" d=\"M2178.94 1015.76 L2186.58 1015.76 L2186.58 989.397 L2178.27 991.063 L2178.27 986.804 L2186.53 985.138 L2191.21 985.138 L2191.21 1015.76 L2198.85 1015.76 L2198.85 1019.7 L2178.94 1019.7 L2178.94 1015.76 Z\" fill=\"#000000\" fill-rule=\"evenodd\" fill-opacity=\"1\" /><path clip-path=\"url(#clip270)\" d=\"M2208.34 985.138 L2226.69 985.138 L2226.69 989.073 L2212.62 989.073 L2212.62 997.545 Q2213.64 997.198 2214.66 997.036 Q2215.67 996.85 2216.69 996.85 Q2222.48 996.85 2225.86 1000.02 Q2229.24 1003.19 2229.24 1008.61 Q2229.24 1014.19 2225.77 1017.29 Q2222.29 1020.37 2215.97 1020.37 Q2213.8 1020.37 2211.53 1020 Q2209.29 1019.63 2206.88 1018.89 L2206.88 1014.19 Q2208.96 1015.32 2211.18 1015.88 Q2213.41 1016.43 2215.88 1016.43 Q2219.89 1016.43 2222.22 1014.33 Q2224.56 1012.22 2224.56 1008.61 Q2224.56 1005 2222.22 1002.89 Q2219.89 1000.79 2215.88 1000.79 Q2214.01 1000.79 2212.13 1001.2 Q2210.28 1001.62 2208.34 1002.5 L2208.34 985.138 Z\" fill=\"#000000\" fill-rule=\"evenodd\" fill-opacity=\"1\" /><polyline clip-path=\"url(#clip270)\" style=\"stroke:#6b9e32; stroke-linecap:butt; stroke-linejoin:round; stroke-width:4; stroke-opacity:1; fill:none\" points=\"\n",
       "  1975.56,1062.9 2122.01,1062.9 \n",
       "  \"/>\n",
       "<path clip-path=\"url(#clip270)\" d=\"M2160.26 1082.58 Q2158.45 1087.21 2156.74 1088.63 Q2155.03 1090.04 2152.16 1090.04 L2148.75 1090.04 L2148.75 1086.47 L2151.25 1086.47 Q2153.01 1086.47 2153.98 1085.64 Q2154.96 1084.81 2156.14 1081.71 L2156.9 1079.76 L2146.42 1054.25 L2150.93 1054.25 L2159.03 1074.53 L2167.13 1054.25 L2171.65 1054.25 L2160.26 1082.58 Z\" fill=\"#000000\" fill-rule=\"evenodd\" fill-opacity=\"1\" /><path clip-path=\"url(#clip270)\" d=\"M2178.94 1076.24 L2186.58 1076.24 L2186.58 1049.88 L2178.27 1051.54 L2178.27 1047.28 L2186.53 1045.62 L2191.21 1045.62 L2191.21 1076.24 L2198.85 1076.24 L2198.85 1080.18 L2178.94 1080.18 L2178.94 1076.24 Z\" fill=\"#000000\" fill-rule=\"evenodd\" fill-opacity=\"1\" /><path clip-path=\"url(#clip270)\" d=\"M2218.87 1061.03 Q2215.72 1061.03 2213.87 1063.19 Q2212.04 1065.34 2212.04 1069.09 Q2212.04 1072.82 2213.87 1074.99 Q2215.72 1077.15 2218.87 1077.15 Q2222.02 1077.15 2223.85 1074.99 Q2225.7 1072.82 2225.7 1069.09 Q2225.7 1065.34 2223.85 1063.19 Q2222.02 1061.03 2218.87 1061.03 M2228.15 1046.38 L2228.15 1050.64 Q2226.39 1049.81 2224.59 1049.37 Q2222.8 1048.93 2221.04 1048.93 Q2216.41 1048.93 2213.96 1052.05 Q2211.53 1055.18 2211.18 1061.5 Q2212.55 1059.48 2214.61 1058.42 Q2216.67 1057.33 2219.15 1057.33 Q2224.35 1057.33 2227.36 1060.5 Q2230.4 1063.65 2230.4 1069.09 Q2230.4 1074.41 2227.25 1077.63 Q2224.1 1080.85 2218.87 1080.85 Q2212.87 1080.85 2209.7 1076.27 Q2206.53 1071.66 2206.53 1062.93 Q2206.53 1054.74 2210.42 1049.88 Q2214.31 1044.99 2220.86 1044.99 Q2222.62 1044.99 2224.4 1045.34 Q2226.21 1045.69 2228.15 1046.38 Z\" fill=\"#000000\" fill-rule=\"evenodd\" fill-opacity=\"1\" /><polyline clip-path=\"url(#clip270)\" style=\"stroke:#009af9; stroke-linecap:butt; stroke-linejoin:round; stroke-width:4; stroke-opacity:1; fill:none\" points=\"\n",
       "  1975.56,1123.38 2122.01,1123.38 \n",
       "  \"/>\n",
       "<path clip-path=\"url(#clip270)\" d=\"M2160.26 1143.06 Q2158.45 1147.69 2156.74 1149.11 Q2155.03 1150.52 2152.16 1150.52 L2148.75 1150.52 L2148.75 1146.95 L2151.25 1146.95 Q2153.01 1146.95 2153.98 1146.12 Q2154.96 1145.29 2156.14 1142.19 L2156.9 1140.24 L2146.42 1114.73 L2150.93 1114.73 L2159.03 1135.01 L2167.13 1114.73 L2171.65 1114.73 L2160.26 1143.06 Z\" fill=\"#000000\" fill-rule=\"evenodd\" fill-opacity=\"1\" /><path clip-path=\"url(#clip270)\" d=\"M2178.94 1136.72 L2186.58 1136.72 L2186.58 1110.36 L2178.27 1112.02 L2178.27 1107.76 L2186.53 1106.1 L2191.21 1106.1 L2191.21 1136.72 L2198.85 1136.72 L2198.85 1140.66 L2178.94 1140.66 L2178.94 1136.72 Z\" fill=\"#000000\" fill-rule=\"evenodd\" fill-opacity=\"1\" /><path clip-path=\"url(#clip270)\" d=\"M2207.11 1106.1 L2229.33 1106.1 L2229.33 1108.09 L2216.79 1140.66 L2211.9 1140.66 L2223.71 1110.03 L2207.11 1110.03 L2207.11 1106.1 Z\" fill=\"#000000\" fill-rule=\"evenodd\" fill-opacity=\"1\" /><polyline clip-path=\"url(#clip270)\" style=\"stroke:#e26f46; stroke-linecap:butt; stroke-linejoin:round; stroke-width:4; stroke-opacity:1; fill:none\" points=\"\n",
       "  1975.56,1183.86 2122.01,1183.86 \n",
       "  \"/>\n",
       "<path clip-path=\"url(#clip270)\" d=\"M2160.26 1203.54 Q2158.45 1208.17 2156.74 1209.59 Q2155.03 1211 2152.16 1211 L2148.75 1211 L2148.75 1207.43 L2151.25 1207.43 Q2153.01 1207.43 2153.98 1206.6 Q2154.96 1205.77 2156.14 1202.67 L2156.9 1200.72 L2146.42 1175.21 L2150.93 1175.21 L2159.03 1195.49 L2167.13 1175.21 L2171.65 1175.21 L2160.26 1203.54 Z\" fill=\"#000000\" fill-rule=\"evenodd\" fill-opacity=\"1\" /><path clip-path=\"url(#clip270)\" d=\"M2178.94 1197.2 L2186.58 1197.2 L2186.58 1170.84 L2178.27 1172.5 L2178.27 1168.24 L2186.53 1166.58 L2191.21 1166.58 L2191.21 1197.2 L2198.85 1197.2 L2198.85 1201.14 L2178.94 1201.14 L2178.94 1197.2 Z\" fill=\"#000000\" fill-rule=\"evenodd\" fill-opacity=\"1\" /><path clip-path=\"url(#clip270)\" d=\"M2218.29 1184.73 Q2214.96 1184.73 2213.04 1186.51 Q2211.14 1188.29 2211.14 1191.42 Q2211.14 1194.54 2213.04 1196.32 Q2214.96 1198.11 2218.29 1198.11 Q2221.62 1198.11 2223.54 1196.32 Q2225.47 1194.52 2225.47 1191.42 Q2225.47 1188.29 2223.54 1186.51 Q2221.65 1184.73 2218.29 1184.73 M2213.61 1182.73 Q2210.6 1181.99 2208.91 1179.93 Q2207.25 1177.87 2207.25 1174.91 Q2207.25 1170.77 2210.19 1168.36 Q2213.15 1165.95 2218.29 1165.95 Q2223.45 1165.95 2226.39 1168.36 Q2229.33 1170.77 2229.33 1174.91 Q2229.33 1177.87 2227.64 1179.93 Q2225.97 1181.99 2222.99 1182.73 Q2226.37 1183.52 2228.24 1185.81 Q2230.14 1188.11 2230.14 1191.42 Q2230.14 1196.44 2227.06 1199.12 Q2224.01 1201.81 2218.29 1201.81 Q2212.57 1201.81 2209.49 1199.12 Q2206.44 1196.44 2206.44 1191.42 Q2206.44 1188.11 2208.34 1185.81 Q2210.23 1183.52 2213.61 1182.73 M2211.9 1175.35 Q2211.9 1178.04 2213.57 1179.54 Q2215.26 1181.05 2218.29 1181.05 Q2221.3 1181.05 2222.99 1179.54 Q2224.7 1178.04 2224.7 1175.35 Q2224.7 1172.67 2222.99 1171.16 Q2221.3 1169.66 2218.29 1169.66 Q2215.26 1169.66 2213.57 1171.16 Q2211.9 1172.67 2211.9 1175.35 Z\" fill=\"#000000\" fill-rule=\"evenodd\" fill-opacity=\"1\" /><polyline clip-path=\"url(#clip270)\" style=\"stroke:#3da44d; stroke-linecap:butt; stroke-linejoin:round; stroke-width:4; stroke-opacity:1; fill:none\" points=\"\n",
       "  1975.56,1244.34 2122.01,1244.34 \n",
       "  \"/>\n",
       "<path clip-path=\"url(#clip270)\" d=\"M2160.26 1264.02 Q2158.45 1268.65 2156.74 1270.07 Q2155.03 1271.48 2152.16 1271.48 L2148.75 1271.48 L2148.75 1267.91 L2151.25 1267.91 Q2153.01 1267.91 2153.98 1267.08 Q2154.96 1266.25 2156.14 1263.15 L2156.9 1261.2 L2146.42 1235.69 L2150.93 1235.69 L2159.03 1255.97 L2167.13 1235.69 L2171.65 1235.69 L2160.26 1264.02 Z\" fill=\"#000000\" fill-rule=\"evenodd\" fill-opacity=\"1\" /><path clip-path=\"url(#clip270)\" d=\"M2178.94 1257.68 L2186.58 1257.68 L2186.58 1231.32 L2178.27 1232.98 L2178.27 1228.72 L2186.53 1227.06 L2191.21 1227.06 L2191.21 1257.68 L2198.85 1257.68 L2198.85 1261.62 L2178.94 1261.62 L2178.94 1257.68 Z\" fill=\"#000000\" fill-rule=\"evenodd\" fill-opacity=\"1\" /><path clip-path=\"url(#clip270)\" d=\"M2208.43 1260.9 L2208.43 1256.64 Q2210.19 1257.47 2211.99 1257.91 Q2213.8 1258.35 2215.54 1258.35 Q2220.16 1258.35 2222.6 1255.25 Q2225.05 1252.13 2225.4 1245.78 Q2224.05 1247.78 2221.99 1248.84 Q2219.93 1249.9 2217.43 1249.9 Q2212.25 1249.9 2209.22 1246.78 Q2206.21 1243.63 2206.21 1238.19 Q2206.21 1232.87 2209.35 1229.65 Q2212.5 1226.43 2217.73 1226.43 Q2223.73 1226.43 2226.88 1231.04 Q2230.05 1235.62 2230.05 1244.37 Q2230.05 1252.54 2226.16 1257.43 Q2222.29 1262.29 2215.74 1262.29 Q2213.98 1262.29 2212.18 1261.94 Q2210.37 1261.59 2208.43 1260.9 M2217.73 1246.25 Q2220.88 1246.25 2222.71 1244.09 Q2224.56 1241.94 2224.56 1238.19 Q2224.56 1234.46 2222.71 1232.31 Q2220.88 1230.14 2217.73 1230.14 Q2214.59 1230.14 2212.73 1232.31 Q2210.91 1234.46 2210.91 1238.19 Q2210.91 1241.94 2212.73 1244.09 Q2214.59 1246.25 2217.73 1246.25 Z\" fill=\"#000000\" fill-rule=\"evenodd\" fill-opacity=\"1\" /><polyline clip-path=\"url(#clip270)\" style=\"stroke:#c271d2; stroke-linecap:butt; stroke-linejoin:round; stroke-width:4; stroke-opacity:1; fill:none\" points=\"\n",
       "  1975.56,1304.82 2122.01,1304.82 \n",
       "  \"/>\n",
       "<path clip-path=\"url(#clip270)\" d=\"M2160.26 1324.5 Q2158.45 1329.13 2156.74 1330.55 Q2155.03 1331.96 2152.16 1331.96 L2148.75 1331.96 L2148.75 1328.39 L2151.25 1328.39 Q2153.01 1328.39 2153.98 1327.56 Q2154.96 1326.73 2156.14 1323.63 L2156.9 1321.68 L2146.42 1296.17 L2150.93 1296.17 L2159.03 1316.45 L2167.13 1296.17 L2171.65 1296.17 L2160.26 1324.5 Z\" fill=\"#000000\" fill-rule=\"evenodd\" fill-opacity=\"1\" /><path clip-path=\"url(#clip270)\" d=\"M2182.16 1318.16 L2198.47 1318.16 L2198.47 1322.1 L2176.53 1322.1 L2176.53 1318.16 Q2179.19 1315.41 2183.78 1310.78 Q2188.38 1306.13 2189.56 1304.78 Q2191.81 1302.26 2192.69 1300.52 Q2193.59 1298.76 2193.59 1297.07 Q2193.59 1294.32 2191.65 1292.58 Q2189.72 1290.85 2186.62 1290.85 Q2184.42 1290.85 2181.97 1291.61 Q2179.54 1292.38 2176.76 1293.93 L2176.76 1289.2 Q2179.59 1288.07 2182.04 1287.49 Q2184.49 1286.91 2186.53 1286.91 Q2191.9 1286.91 2195.1 1289.6 Q2198.29 1292.28 2198.29 1296.77 Q2198.29 1298.9 2197.48 1300.82 Q2196.69 1302.72 2194.59 1305.32 Q2194.01 1305.99 2190.91 1309.2 Q2187.8 1312.4 2182.16 1318.16 Z\" fill=\"#000000\" fill-rule=\"evenodd\" fill-opacity=\"1\" /><path clip-path=\"url(#clip270)\" d=\"M2218.29 1290.62 Q2214.68 1290.62 2212.85 1294.18 Q2211.04 1297.72 2211.04 1304.85 Q2211.04 1311.96 2212.85 1315.52 Q2214.68 1319.07 2218.29 1319.07 Q2221.92 1319.07 2223.73 1315.52 Q2225.56 1311.96 2225.56 1304.85 Q2225.56 1297.72 2223.73 1294.18 Q2221.92 1290.62 2218.29 1290.62 M2218.29 1286.91 Q2224.1 1286.91 2227.16 1291.52 Q2230.23 1296.1 2230.23 1304.85 Q2230.23 1313.58 2227.16 1318.19 Q2224.1 1322.77 2218.29 1322.77 Q2212.48 1322.77 2209.4 1318.19 Q2206.35 1313.58 2206.35 1304.85 Q2206.35 1296.1 2209.4 1291.52 Q2212.48 1286.91 2218.29 1286.91 Z\" fill=\"#000000\" fill-rule=\"evenodd\" fill-opacity=\"1\" /><polyline clip-path=\"url(#clip270)\" style=\"stroke:#ac8d18; stroke-linecap:butt; stroke-linejoin:round; stroke-width:4; stroke-opacity:1; fill:none\" points=\"\n",
       "  1975.56,1365.3 2122.01,1365.3 \n",
       "  \"/>\n",
       "<path clip-path=\"url(#clip270)\" d=\"M2160.26 1384.98 Q2158.45 1389.61 2156.74 1391.03 Q2155.03 1392.44 2152.16 1392.44 L2148.75 1392.44 L2148.75 1388.87 L2151.25 1388.87 Q2153.01 1388.87 2153.98 1388.04 Q2154.96 1387.21 2156.14 1384.11 L2156.9 1382.16 L2146.42 1356.65 L2150.93 1356.65 L2159.03 1376.93 L2167.13 1356.65 L2171.65 1356.65 L2160.26 1384.98 Z\" fill=\"#000000\" fill-rule=\"evenodd\" fill-opacity=\"1\" /><path clip-path=\"url(#clip270)\" d=\"M2182.16 1378.64 L2198.47 1378.64 L2198.47 1382.58 L2176.53 1382.58 L2176.53 1378.64 Q2179.19 1375.89 2183.78 1371.26 Q2188.38 1366.61 2189.56 1365.26 Q2191.81 1362.74 2192.69 1361 Q2193.59 1359.24 2193.59 1357.55 Q2193.59 1354.8 2191.65 1353.06 Q2189.72 1351.33 2186.62 1351.33 Q2184.42 1351.33 2181.97 1352.09 Q2179.54 1352.86 2176.76 1354.41 L2176.76 1349.68 Q2179.59 1348.55 2182.04 1347.97 Q2184.49 1347.39 2186.53 1347.39 Q2191.9 1347.39 2195.1 1350.08 Q2198.29 1352.76 2198.29 1357.25 Q2198.29 1359.38 2197.48 1361.3 Q2196.69 1363.2 2194.59 1365.8 Q2194.01 1366.47 2190.91 1369.68 Q2187.8 1372.88 2182.16 1378.64 Z\" fill=\"#000000\" fill-rule=\"evenodd\" fill-opacity=\"1\" /><path clip-path=\"url(#clip270)\" d=\"M2209.1 1378.64 L2216.74 1378.64 L2216.74 1352.28 L2208.43 1353.94 L2208.43 1349.68 L2216.69 1348.02 L2221.37 1348.02 L2221.37 1378.64 L2229.01 1378.64 L2229.01 1382.58 L2209.1 1382.58 L2209.1 1378.64 Z\" fill=\"#000000\" fill-rule=\"evenodd\" fill-opacity=\"1\" /><polyline clip-path=\"url(#clip270)\" style=\"stroke:#00a9ad; stroke-linecap:butt; stroke-linejoin:round; stroke-width:4; stroke-opacity:1; fill:none\" points=\"\n",
       "  1975.56,1425.78 2122.01,1425.78 \n",
       "  \"/>\n",
       "<path clip-path=\"url(#clip270)\" d=\"M2160.26 1445.46 Q2158.45 1450.09 2156.74 1451.51 Q2155.03 1452.92 2152.16 1452.92 L2148.75 1452.92 L2148.75 1449.35 L2151.25 1449.35 Q2153.01 1449.35 2153.98 1448.52 Q2154.96 1447.69 2156.14 1444.59 L2156.9 1442.64 L2146.42 1417.13 L2150.93 1417.13 L2159.03 1437.41 L2167.13 1417.13 L2171.65 1417.13 L2160.26 1445.46 Z\" fill=\"#000000\" fill-rule=\"evenodd\" fill-opacity=\"1\" /><path clip-path=\"url(#clip270)\" d=\"M2182.16 1439.12 L2198.47 1439.12 L2198.47 1443.06 L2176.53 1443.06 L2176.53 1439.12 Q2179.19 1436.37 2183.78 1431.74 Q2188.38 1427.09 2189.56 1425.74 Q2191.81 1423.22 2192.69 1421.48 Q2193.59 1419.72 2193.59 1418.03 Q2193.59 1415.28 2191.65 1413.54 Q2189.72 1411.81 2186.62 1411.81 Q2184.42 1411.81 2181.97 1412.57 Q2179.54 1413.34 2176.76 1414.89 L2176.76 1410.16 Q2179.59 1409.03 2182.04 1408.45 Q2184.49 1407.87 2186.53 1407.87 Q2191.9 1407.87 2195.1 1410.56 Q2198.29 1413.24 2198.29 1417.73 Q2198.29 1419.86 2197.48 1421.78 Q2196.69 1423.68 2194.59 1426.28 Q2194.01 1426.95 2190.91 1430.16 Q2187.8 1433.36 2182.16 1439.12 Z\" fill=\"#000000\" fill-rule=\"evenodd\" fill-opacity=\"1\" /><path clip-path=\"url(#clip270)\" d=\"M2212.32 1439.12 L2228.64 1439.12 L2228.64 1443.06 L2206.69 1443.06 L2206.69 1439.12 Q2209.35 1436.37 2213.94 1431.74 Q2218.54 1427.09 2219.72 1425.74 Q2221.97 1423.22 2222.85 1421.48 Q2223.75 1419.72 2223.75 1418.03 Q2223.75 1415.28 2221.81 1413.54 Q2219.89 1411.81 2216.79 1411.81 Q2214.59 1411.81 2212.13 1412.57 Q2209.7 1413.34 2206.92 1414.89 L2206.92 1410.16 Q2209.75 1409.03 2212.2 1408.45 Q2214.66 1407.87 2216.69 1407.87 Q2222.06 1407.87 2225.26 1410.56 Q2228.45 1413.24 2228.45 1417.73 Q2228.45 1419.86 2227.64 1421.78 Q2226.85 1423.68 2224.75 1426.28 Q2224.17 1426.95 2221.07 1430.16 Q2217.97 1433.36 2212.32 1439.12 Z\" fill=\"#000000\" fill-rule=\"evenodd\" fill-opacity=\"1\" /><polyline clip-path=\"url(#clip270)\" style=\"stroke:#ed5d92; stroke-linecap:butt; stroke-linejoin:round; stroke-width:4; stroke-opacity:1; fill:none\" points=\"\n",
       "  1975.56,1486.26 2122.01,1486.26 \n",
       "  \"/>\n",
       "<path clip-path=\"url(#clip270)\" d=\"M2160.26 1505.94 Q2158.45 1510.57 2156.74 1511.99 Q2155.03 1513.4 2152.16 1513.4 L2148.75 1513.4 L2148.75 1509.83 L2151.25 1509.83 Q2153.01 1509.83 2153.98 1509 Q2154.96 1508.17 2156.14 1505.07 L2156.9 1503.12 L2146.42 1477.61 L2150.93 1477.61 L2159.03 1497.89 L2167.13 1477.61 L2171.65 1477.61 L2160.26 1505.94 Z\" fill=\"#000000\" fill-rule=\"evenodd\" fill-opacity=\"1\" /><path clip-path=\"url(#clip270)\" d=\"M2182.16 1499.6 L2198.47 1499.6 L2198.47 1503.54 L2176.53 1503.54 L2176.53 1499.6 Q2179.19 1496.85 2183.78 1492.22 Q2188.38 1487.57 2189.56 1486.22 Q2191.81 1483.7 2192.69 1481.96 Q2193.59 1480.2 2193.59 1478.51 Q2193.59 1475.76 2191.65 1474.02 Q2189.72 1472.29 2186.62 1472.29 Q2184.42 1472.29 2181.97 1473.05 Q2179.54 1473.82 2176.76 1475.37 L2176.76 1470.64 Q2179.59 1469.51 2182.04 1468.93 Q2184.49 1468.35 2186.53 1468.35 Q2191.9 1468.35 2195.1 1471.04 Q2198.29 1473.72 2198.29 1478.21 Q2198.29 1480.34 2197.48 1482.26 Q2196.69 1484.16 2194.59 1486.76 Q2194.01 1487.43 2190.91 1490.64 Q2187.8 1493.84 2182.16 1499.6 Z\" fill=\"#000000\" fill-rule=\"evenodd\" fill-opacity=\"1\" /><path clip-path=\"url(#clip270)\" d=\"M2222.46 1484.9 Q2225.81 1485.62 2227.69 1487.89 Q2229.59 1490.16 2229.59 1493.49 Q2229.59 1498.61 2226.07 1501.41 Q2222.55 1504.21 2216.07 1504.21 Q2213.89 1504.21 2211.58 1503.77 Q2209.29 1503.35 2206.83 1502.5 L2206.83 1497.98 Q2208.78 1499.12 2211.09 1499.69 Q2213.41 1500.27 2215.93 1500.27 Q2220.33 1500.27 2222.62 1498.54 Q2224.93 1496.8 2224.93 1493.49 Q2224.93 1490.44 2222.78 1488.72 Q2220.65 1486.99 2216.83 1486.99 L2212.8 1486.99 L2212.8 1483.14 L2217.02 1483.14 Q2220.47 1483.14 2222.29 1481.78 Q2224.12 1480.39 2224.12 1477.8 Q2224.12 1475.13 2222.22 1473.72 Q2220.35 1472.29 2216.83 1472.29 Q2214.91 1472.29 2212.71 1472.7 Q2210.51 1473.12 2207.87 1474 L2207.87 1469.83 Q2210.54 1469.09 2212.85 1468.72 Q2215.19 1468.35 2217.25 1468.35 Q2222.57 1468.35 2225.67 1470.78 Q2228.78 1473.19 2228.78 1477.31 Q2228.78 1480.18 2227.13 1482.17 Q2225.49 1484.14 2222.46 1484.9 Z\" fill=\"#000000\" fill-rule=\"evenodd\" fill-opacity=\"1\" /><polyline clip-path=\"url(#clip270)\" style=\"stroke:#c68125; stroke-linecap:butt; stroke-linejoin:round; stroke-width:4; stroke-opacity:1; fill:none\" points=\"\n",
       "  1975.56,1546.74 2122.01,1546.74 \n",
       "  \"/>\n",
       "<path clip-path=\"url(#clip270)\" d=\"M2160.26 1566.42 Q2158.45 1571.05 2156.74 1572.47 Q2155.03 1573.88 2152.16 1573.88 L2148.75 1573.88 L2148.75 1570.31 L2151.25 1570.31 Q2153.01 1570.31 2153.98 1569.48 Q2154.96 1568.65 2156.14 1565.55 L2156.9 1563.6 L2146.42 1538.09 L2150.93 1538.09 L2159.03 1558.37 L2167.13 1538.09 L2171.65 1538.09 L2160.26 1566.42 Z\" fill=\"#000000\" fill-rule=\"evenodd\" fill-opacity=\"1\" /><path clip-path=\"url(#clip270)\" d=\"M2182.16 1560.08 L2198.47 1560.08 L2198.47 1564.02 L2176.53 1564.02 L2176.53 1560.08 Q2179.19 1557.33 2183.78 1552.7 Q2188.38 1548.05 2189.56 1546.7 Q2191.81 1544.18 2192.69 1542.44 Q2193.59 1540.68 2193.59 1538.99 Q2193.59 1536.24 2191.65 1534.5 Q2189.72 1532.77 2186.62 1532.77 Q2184.42 1532.77 2181.97 1533.53 Q2179.54 1534.3 2176.76 1535.85 L2176.76 1531.12 Q2179.59 1529.99 2182.04 1529.41 Q2184.49 1528.83 2186.53 1528.83 Q2191.9 1528.83 2195.1 1531.52 Q2198.29 1534.2 2198.29 1538.69 Q2198.29 1540.82 2197.48 1542.74 Q2196.69 1544.64 2194.59 1547.24 Q2194.01 1547.91 2190.91 1551.12 Q2187.8 1554.32 2182.16 1560.08 Z\" fill=\"#000000\" fill-rule=\"evenodd\" fill-opacity=\"1\" /><path clip-path=\"url(#clip270)\" d=\"M2221.14 1533.53 L2209.33 1551.98 L2221.14 1551.98 L2221.14 1533.53 M2219.91 1529.46 L2225.79 1529.46 L2225.79 1551.98 L2230.72 1551.98 L2230.72 1555.87 L2225.79 1555.87 L2225.79 1564.02 L2221.14 1564.02 L2221.14 1555.87 L2205.54 1555.87 L2205.54 1551.36 L2219.91 1529.46 Z\" fill=\"#000000\" fill-rule=\"evenodd\" fill-opacity=\"1\" /><polyline clip-path=\"url(#clip270)\" style=\"stroke:#00a98d; stroke-linecap:butt; stroke-linejoin:round; stroke-width:4; stroke-opacity:1; fill:none\" points=\"\n",
       "  1975.56,1607.22 2122.01,1607.22 \n",
       "  \"/>\n",
       "<path clip-path=\"url(#clip270)\" d=\"M2160.26 1626.9 Q2158.45 1631.53 2156.74 1632.95 Q2155.03 1634.36 2152.16 1634.36 L2148.75 1634.36 L2148.75 1630.79 L2151.25 1630.79 Q2153.01 1630.79 2153.98 1629.96 Q2154.96 1629.13 2156.14 1626.03 L2156.9 1624.08 L2146.42 1598.57 L2150.93 1598.57 L2159.03 1618.85 L2167.13 1598.57 L2171.65 1598.57 L2160.26 1626.9 Z\" fill=\"#000000\" fill-rule=\"evenodd\" fill-opacity=\"1\" /><path clip-path=\"url(#clip270)\" d=\"M2182.16 1620.56 L2198.47 1620.56 L2198.47 1624.5 L2176.53 1624.5 L2176.53 1620.56 Q2179.19 1617.81 2183.78 1613.18 Q2188.38 1608.53 2189.56 1607.18 Q2191.81 1604.66 2192.69 1602.92 Q2193.59 1601.16 2193.59 1599.47 Q2193.59 1596.72 2191.65 1594.98 Q2189.72 1593.25 2186.62 1593.25 Q2184.42 1593.25 2181.97 1594.01 Q2179.54 1594.78 2176.76 1596.33 L2176.76 1591.6 Q2179.59 1590.47 2182.04 1589.89 Q2184.49 1589.31 2186.53 1589.31 Q2191.9 1589.31 2195.1 1592 Q2198.29 1594.68 2198.29 1599.17 Q2198.29 1601.3 2197.48 1603.22 Q2196.69 1605.12 2194.59 1607.72 Q2194.01 1608.39 2190.91 1611.6 Q2187.8 1614.8 2182.16 1620.56 Z\" fill=\"#000000\" fill-rule=\"evenodd\" fill-opacity=\"1\" /><path clip-path=\"url(#clip270)\" d=\"M2208.34 1589.94 L2226.69 1589.94 L2226.69 1593.87 L2212.62 1593.87 L2212.62 1602.34 Q2213.64 1602 2214.66 1601.84 Q2215.67 1601.65 2216.69 1601.65 Q2222.48 1601.65 2225.86 1604.82 Q2229.24 1607.99 2229.24 1613.41 Q2229.24 1618.99 2225.77 1622.09 Q2222.29 1625.17 2215.97 1625.17 Q2213.8 1625.17 2211.53 1624.8 Q2209.29 1624.43 2206.88 1623.69 L2206.88 1618.99 Q2208.96 1620.12 2211.18 1620.68 Q2213.41 1621.23 2215.88 1621.23 Q2219.89 1621.23 2222.22 1619.13 Q2224.56 1617.02 2224.56 1613.41 Q2224.56 1609.8 2222.22 1607.69 Q2219.89 1605.59 2215.88 1605.59 Q2214.01 1605.59 2212.13 1606 Q2210.28 1606.42 2208.34 1607.3 L2208.34 1589.94 Z\" fill=\"#000000\" fill-rule=\"evenodd\" fill-opacity=\"1\" /><polyline clip-path=\"url(#clip270)\" style=\"stroke:#8e971d; stroke-linecap:butt; stroke-linejoin:round; stroke-width:4; stroke-opacity:1; fill:none\" points=\"\n",
       "  1975.56,1667.7 2122.01,1667.7 \n",
       "  \"/>\n",
       "<path clip-path=\"url(#clip270)\" d=\"M2160.26 1687.38 Q2158.45 1692.01 2156.74 1693.43 Q2155.03 1694.84 2152.16 1694.84 L2148.75 1694.84 L2148.75 1691.27 L2151.25 1691.27 Q2153.01 1691.27 2153.98 1690.44 Q2154.96 1689.61 2156.14 1686.51 L2156.9 1684.56 L2146.42 1659.05 L2150.93 1659.05 L2159.03 1679.33 L2167.13 1659.05 L2171.65 1659.05 L2160.26 1687.38 Z\" fill=\"#000000\" fill-rule=\"evenodd\" fill-opacity=\"1\" /><path clip-path=\"url(#clip270)\" d=\"M2182.16 1681.04 L2198.47 1681.04 L2198.47 1684.98 L2176.53 1684.98 L2176.53 1681.04 Q2179.19 1678.29 2183.78 1673.66 Q2188.38 1669.01 2189.56 1667.66 Q2191.81 1665.14 2192.69 1663.4 Q2193.59 1661.64 2193.59 1659.95 Q2193.59 1657.2 2191.65 1655.46 Q2189.72 1653.73 2186.62 1653.73 Q2184.42 1653.73 2181.97 1654.49 Q2179.54 1655.26 2176.76 1656.81 L2176.76 1652.08 Q2179.59 1650.95 2182.04 1650.37 Q2184.49 1649.79 2186.53 1649.79 Q2191.9 1649.79 2195.1 1652.48 Q2198.29 1655.16 2198.29 1659.65 Q2198.29 1661.78 2197.48 1663.7 Q2196.69 1665.6 2194.59 1668.2 Q2194.01 1668.87 2190.91 1672.08 Q2187.8 1675.28 2182.16 1681.04 Z\" fill=\"#000000\" fill-rule=\"evenodd\" fill-opacity=\"1\" /><path clip-path=\"url(#clip270)\" d=\"M2218.87 1665.83 Q2215.72 1665.83 2213.87 1667.99 Q2212.04 1670.14 2212.04 1673.89 Q2212.04 1677.62 2213.87 1679.79 Q2215.72 1681.95 2218.87 1681.95 Q2222.02 1681.95 2223.85 1679.79 Q2225.7 1677.62 2225.7 1673.89 Q2225.7 1670.14 2223.85 1667.99 Q2222.02 1665.83 2218.87 1665.83 M2228.15 1651.18 L2228.15 1655.44 Q2226.39 1654.61 2224.59 1654.17 Q2222.8 1653.73 2221.04 1653.73 Q2216.41 1653.73 2213.96 1656.85 Q2211.53 1659.98 2211.18 1666.3 Q2212.55 1664.28 2214.61 1663.22 Q2216.67 1662.13 2219.15 1662.13 Q2224.35 1662.13 2227.36 1665.3 Q2230.4 1668.45 2230.4 1673.89 Q2230.4 1679.21 2227.25 1682.43 Q2224.1 1685.65 2218.87 1685.65 Q2212.87 1685.65 2209.7 1681.07 Q2206.53 1676.46 2206.53 1667.73 Q2206.53 1659.54 2210.42 1654.68 Q2214.31 1649.79 2220.86 1649.79 Q2222.62 1649.79 2224.4 1650.14 Q2226.21 1650.49 2228.15 1651.18 Z\" fill=\"#000000\" fill-rule=\"evenodd\" fill-opacity=\"1\" /><polyline clip-path=\"url(#clip270)\" style=\"stroke:#00a8cb; stroke-linecap:butt; stroke-linejoin:round; stroke-width:4; stroke-opacity:1; fill:none\" points=\"\n",
       "  1975.56,1728.18 2122.01,1728.18 \n",
       "  \"/>\n",
       "<path clip-path=\"url(#clip270)\" d=\"M2160.26 1747.86 Q2158.45 1752.49 2156.74 1753.91 Q2155.03 1755.32 2152.16 1755.32 L2148.75 1755.32 L2148.75 1751.75 L2151.25 1751.75 Q2153.01 1751.75 2153.98 1750.92 Q2154.96 1750.09 2156.14 1746.99 L2156.9 1745.04 L2146.42 1719.53 L2150.93 1719.53 L2159.03 1739.81 L2167.13 1719.53 L2171.65 1719.53 L2160.26 1747.86 Z\" fill=\"#000000\" fill-rule=\"evenodd\" fill-opacity=\"1\" /><path clip-path=\"url(#clip270)\" d=\"M2182.16 1741.52 L2198.47 1741.52 L2198.47 1745.46 L2176.53 1745.46 L2176.53 1741.52 Q2179.19 1738.77 2183.78 1734.14 Q2188.38 1729.49 2189.56 1728.14 Q2191.81 1725.62 2192.69 1723.88 Q2193.59 1722.12 2193.59 1720.43 Q2193.59 1717.68 2191.65 1715.94 Q2189.72 1714.21 2186.62 1714.21 Q2184.42 1714.21 2181.97 1714.97 Q2179.54 1715.74 2176.76 1717.29 L2176.76 1712.56 Q2179.59 1711.43 2182.04 1710.85 Q2184.49 1710.27 2186.53 1710.27 Q2191.9 1710.27 2195.1 1712.96 Q2198.29 1715.64 2198.29 1720.13 Q2198.29 1722.26 2197.48 1724.18 Q2196.69 1726.08 2194.59 1728.68 Q2194.01 1729.35 2190.91 1732.56 Q2187.8 1735.76 2182.16 1741.52 Z\" fill=\"#000000\" fill-rule=\"evenodd\" fill-opacity=\"1\" /><path clip-path=\"url(#clip270)\" d=\"M2207.11 1710.9 L2229.33 1710.9 L2229.33 1712.89 L2216.79 1745.46 L2211.9 1745.46 L2223.71 1714.83 L2207.11 1714.83 L2207.11 1710.9 Z\" fill=\"#000000\" fill-rule=\"evenodd\" fill-opacity=\"1\" /><polyline clip-path=\"url(#clip270)\" style=\"stroke:#9b7fe8; stroke-linecap:butt; stroke-linejoin:round; stroke-width:4; stroke-opacity:1; fill:none\" points=\"\n",
       "  1975.56,1788.66 2122.01,1788.66 \n",
       "  \"/>\n",
       "<path clip-path=\"url(#clip270)\" d=\"M2160.26 1808.34 Q2158.45 1812.97 2156.74 1814.39 Q2155.03 1815.8 2152.16 1815.8 L2148.75 1815.8 L2148.75 1812.23 L2151.25 1812.23 Q2153.01 1812.23 2153.98 1811.4 Q2154.96 1810.57 2156.14 1807.47 L2156.9 1805.52 L2146.42 1780.01 L2150.93 1780.01 L2159.03 1800.29 L2167.13 1780.01 L2171.65 1780.01 L2160.26 1808.34 Z\" fill=\"#000000\" fill-rule=\"evenodd\" fill-opacity=\"1\" /><path clip-path=\"url(#clip270)\" d=\"M2182.16 1802 L2198.47 1802 L2198.47 1805.94 L2176.53 1805.94 L2176.53 1802 Q2179.19 1799.25 2183.78 1794.62 Q2188.38 1789.97 2189.56 1788.62 Q2191.81 1786.1 2192.69 1784.36 Q2193.59 1782.6 2193.59 1780.91 Q2193.59 1778.16 2191.65 1776.42 Q2189.72 1774.69 2186.62 1774.69 Q2184.42 1774.69 2181.97 1775.45 Q2179.54 1776.22 2176.76 1777.77 L2176.76 1773.04 Q2179.59 1771.91 2182.04 1771.33 Q2184.49 1770.75 2186.53 1770.75 Q2191.9 1770.75 2195.1 1773.44 Q2198.29 1776.12 2198.29 1780.61 Q2198.29 1782.74 2197.48 1784.66 Q2196.69 1786.56 2194.59 1789.16 Q2194.01 1789.83 2190.91 1793.04 Q2187.8 1796.24 2182.16 1802 Z\" fill=\"#000000\" fill-rule=\"evenodd\" fill-opacity=\"1\" /><path clip-path=\"url(#clip270)\" d=\"M2218.29 1789.53 Q2214.96 1789.53 2213.04 1791.31 Q2211.14 1793.09 2211.14 1796.22 Q2211.14 1799.34 2213.04 1801.12 Q2214.96 1802.91 2218.29 1802.91 Q2221.62 1802.91 2223.54 1801.12 Q2225.47 1799.32 2225.47 1796.22 Q2225.47 1793.09 2223.54 1791.31 Q2221.65 1789.53 2218.29 1789.53 M2213.61 1787.53 Q2210.6 1786.79 2208.91 1784.73 Q2207.25 1782.67 2207.25 1779.71 Q2207.25 1775.57 2210.19 1773.16 Q2213.15 1770.75 2218.29 1770.75 Q2223.45 1770.75 2226.39 1773.16 Q2229.33 1775.57 2229.33 1779.71 Q2229.33 1782.67 2227.64 1784.73 Q2225.97 1786.79 2222.99 1787.53 Q2226.37 1788.32 2228.24 1790.61 Q2230.14 1792.91 2230.14 1796.22 Q2230.14 1801.24 2227.06 1803.92 Q2224.01 1806.61 2218.29 1806.61 Q2212.57 1806.61 2209.49 1803.92 Q2206.44 1801.24 2206.44 1796.22 Q2206.44 1792.91 2208.34 1790.61 Q2210.23 1788.32 2213.61 1787.53 M2211.9 1780.15 Q2211.9 1782.84 2213.57 1784.34 Q2215.26 1785.85 2218.29 1785.85 Q2221.3 1785.85 2222.99 1784.34 Q2224.7 1782.84 2224.7 1780.15 Q2224.7 1777.47 2222.99 1775.96 Q2221.3 1774.46 2218.29 1774.46 Q2215.26 1774.46 2213.57 1775.96 Q2211.9 1777.47 2211.9 1780.15 Z\" fill=\"#000000\" fill-rule=\"evenodd\" fill-opacity=\"1\" /><polyline clip-path=\"url(#clip270)\" style=\"stroke:#608cf6; stroke-linecap:butt; stroke-linejoin:round; stroke-width:4; stroke-opacity:1; fill:none\" points=\"\n",
       "  1975.56,1849.14 2122.01,1849.14 \n",
       "  \"/>\n",
       "<path clip-path=\"url(#clip270)\" d=\"M2160.26 1868.82 Q2158.45 1873.45 2156.74 1874.87 Q2155.03 1876.28 2152.16 1876.28 L2148.75 1876.28 L2148.75 1872.71 L2151.25 1872.71 Q2153.01 1872.71 2153.98 1871.88 Q2154.96 1871.05 2156.14 1867.95 L2156.9 1866 L2146.42 1840.49 L2150.93 1840.49 L2159.03 1860.77 L2167.13 1840.49 L2171.65 1840.49 L2160.26 1868.82 Z\" fill=\"#000000\" fill-rule=\"evenodd\" fill-opacity=\"1\" /><path clip-path=\"url(#clip270)\" d=\"M2182.16 1862.48 L2198.47 1862.48 L2198.47 1866.42 L2176.53 1866.42 L2176.53 1862.48 Q2179.19 1859.73 2183.78 1855.1 Q2188.38 1850.45 2189.56 1849.1 Q2191.81 1846.58 2192.69 1844.84 Q2193.59 1843.08 2193.59 1841.39 Q2193.59 1838.64 2191.65 1836.9 Q2189.72 1835.17 2186.62 1835.17 Q2184.42 1835.17 2181.97 1835.93 Q2179.54 1836.7 2176.76 1838.25 L2176.76 1833.52 Q2179.59 1832.39 2182.04 1831.81 Q2184.49 1831.23 2186.53 1831.23 Q2191.9 1831.23 2195.1 1833.92 Q2198.29 1836.6 2198.29 1841.09 Q2198.29 1843.22 2197.48 1845.14 Q2196.69 1847.04 2194.59 1849.64 Q2194.01 1850.31 2190.91 1853.52 Q2187.8 1856.72 2182.16 1862.48 Z\" fill=\"#000000\" fill-rule=\"evenodd\" fill-opacity=\"1\" /><path clip-path=\"url(#clip270)\" d=\"M2208.43 1865.7 L2208.43 1861.44 Q2210.19 1862.27 2211.99 1862.71 Q2213.8 1863.15 2215.54 1863.15 Q2220.16 1863.15 2222.6 1860.05 Q2225.05 1856.93 2225.4 1850.58 Q2224.05 1852.58 2221.99 1853.64 Q2219.93 1854.7 2217.43 1854.7 Q2212.25 1854.7 2209.22 1851.58 Q2206.21 1848.43 2206.21 1842.99 Q2206.21 1837.67 2209.35 1834.45 Q2212.5 1831.23 2217.73 1831.23 Q2223.73 1831.23 2226.88 1835.84 Q2230.05 1840.42 2230.05 1849.17 Q2230.05 1857.34 2226.16 1862.23 Q2222.29 1867.09 2215.74 1867.09 Q2213.98 1867.09 2212.18 1866.74 Q2210.37 1866.39 2208.43 1865.7 M2217.73 1851.05 Q2220.88 1851.05 2222.71 1848.89 Q2224.56 1846.74 2224.56 1842.99 Q2224.56 1839.26 2222.71 1837.11 Q2220.88 1834.94 2217.73 1834.94 Q2214.59 1834.94 2212.73 1837.11 Q2210.91 1839.26 2210.91 1842.99 Q2210.91 1846.74 2212.73 1848.89 Q2214.59 1851.05 2217.73 1851.05 Z\" fill=\"#000000\" fill-rule=\"evenodd\" fill-opacity=\"1\" /><polyline clip-path=\"url(#clip270)\" style=\"stroke:#f05f73; stroke-linecap:butt; stroke-linejoin:round; stroke-width:4; stroke-opacity:1; fill:none\" points=\"\n",
       "  1975.56,1909.62 2122.01,1909.62 \n",
       "  \"/>\n",
       "<path clip-path=\"url(#clip270)\" d=\"M2160.26 1929.3 Q2158.45 1933.93 2156.74 1935.35 Q2155.03 1936.76 2152.16 1936.76 L2148.75 1936.76 L2148.75 1933.19 L2151.25 1933.19 Q2153.01 1933.19 2153.98 1932.36 Q2154.96 1931.53 2156.14 1928.43 L2156.9 1926.48 L2146.42 1900.97 L2150.93 1900.97 L2159.03 1921.25 L2167.13 1900.97 L2171.65 1900.97 L2160.26 1929.3 Z\" fill=\"#000000\" fill-rule=\"evenodd\" fill-opacity=\"1\" /><path clip-path=\"url(#clip270)\" d=\"M2192.29 1908.26 Q2195.65 1908.98 2197.53 1911.25 Q2199.42 1913.52 2199.42 1916.85 Q2199.42 1921.97 2195.91 1924.77 Q2192.39 1927.57 2185.91 1927.57 Q2183.73 1927.57 2181.41 1927.13 Q2179.12 1926.71 2176.67 1925.86 L2176.67 1921.34 Q2178.61 1922.48 2180.93 1923.05 Q2183.24 1923.63 2185.77 1923.63 Q2190.16 1923.63 2192.46 1921.9 Q2194.77 1920.16 2194.77 1916.85 Q2194.77 1913.8 2192.62 1912.08 Q2190.49 1910.35 2186.67 1910.35 L2182.64 1910.35 L2182.64 1906.5 L2186.85 1906.5 Q2190.3 1906.5 2192.13 1905.14 Q2193.96 1903.75 2193.96 1901.16 Q2193.96 1898.49 2192.06 1897.08 Q2190.19 1895.65 2186.67 1895.65 Q2184.75 1895.65 2182.55 1896.06 Q2180.35 1896.48 2177.71 1897.36 L2177.71 1893.19 Q2180.37 1892.45 2182.69 1892.08 Q2185.03 1891.71 2187.09 1891.71 Q2192.41 1891.71 2195.51 1894.14 Q2198.61 1896.55 2198.61 1900.67 Q2198.61 1903.54 2196.97 1905.53 Q2195.33 1907.5 2192.29 1908.26 Z\" fill=\"#000000\" fill-rule=\"evenodd\" fill-opacity=\"1\" /><path clip-path=\"url(#clip270)\" d=\"M2218.29 1895.42 Q2214.68 1895.42 2212.85 1898.98 Q2211.04 1902.52 2211.04 1909.65 Q2211.04 1916.76 2212.85 1920.32 Q2214.68 1923.87 2218.29 1923.87 Q2221.92 1923.87 2223.73 1920.32 Q2225.56 1916.76 2225.56 1909.65 Q2225.56 1902.52 2223.73 1898.98 Q2221.92 1895.42 2218.29 1895.42 M2218.29 1891.71 Q2224.1 1891.71 2227.16 1896.32 Q2230.23 1900.9 2230.23 1909.65 Q2230.23 1918.38 2227.16 1922.99 Q2224.1 1927.57 2218.29 1927.57 Q2212.48 1927.57 2209.4 1922.99 Q2206.35 1918.38 2206.35 1909.65 Q2206.35 1900.9 2209.4 1896.32 Q2212.48 1891.71 2218.29 1891.71 Z\" fill=\"#000000\" fill-rule=\"evenodd\" fill-opacity=\"1\" /></svg>\n"
      ]
     },
     "execution_count": 27,
     "metadata": {},
     "output_type": "execute_result"
    }
   ],
   "source": [
    "plot(s_vals')"
   ]
  },
  {
   "cell_type": "code",
<<<<<<< Updated upstream
<<<<<<< Updated upstream
<<<<<<< Updated upstream
   "execution_count": 30,
=======
   "execution_count": 28,
>>>>>>> Stashed changes
=======
   "execution_count": 28,
>>>>>>> Stashed changes
=======
   "execution_count": 28,
>>>>>>> Stashed changes
   "metadata": {},
   "outputs": [
    {
     "data": {
      "image/svg+xml": [
       "<?xml version=\"1.0\" encoding=\"utf-8\"?>\n",
       "<svg xmlns=\"http://www.w3.org/2000/svg\" xmlns:xlink=\"http://www.w3.org/1999/xlink\" width=\"600\" height=\"400\" viewBox=\"0 0 2400 1600\">\n",
       "<defs>\n",
       "  <clipPath id=\"clip310\">\n",
       "    <rect x=\"0\" y=\"0\" width=\"2400\" height=\"1600\"/>\n",
       "  </clipPath>\n",
       "</defs>\n",
       "<path clip-path=\"url(#clip310)\" d=\"\n",
       "M0 1600 L2400 1600 L2400 0 L0 0  Z\n",
       "  \" fill=\"#ffffff\" fill-rule=\"evenodd\" fill-opacity=\"1\"/>\n",
       "<defs>\n",
       "  <clipPath id=\"clip311\">\n",
       "    <rect x=\"480\" y=\"0\" width=\"1681\" height=\"1600\"/>\n",
       "  </clipPath>\n",
       "</defs>\n",
       "<path clip-path=\"url(#clip310)\" d=\"\n",
       "M140.696 1486.45 L2352.76 1486.45 L2352.76 47.2441 L140.696 47.2441  Z\n",
       "  \" fill=\"#ffffff\" fill-rule=\"evenodd\" fill-opacity=\"1\"/>\n",
       "<defs>\n",
       "  <clipPath id=\"clip312\">\n",
       "    <rect x=\"140\" y=\"47\" width=\"2213\" height=\"1440\"/>\n",
       "  </clipPath>\n",
       "</defs>\n",
       "<polyline clip-path=\"url(#clip312)\" style=\"stroke:#000000; stroke-linecap:butt; stroke-linejoin:round; stroke-width:2; stroke-opacity:0.1; fill:none\" points=\"\n",
       "  203.301,1486.45 203.301,47.2441 \n",
       "  \"/>\n",
       "<polyline clip-path=\"url(#clip312)\" style=\"stroke:#000000; stroke-linecap:butt; stroke-linejoin:round; stroke-width:2; stroke-opacity:0.1; fill:none\" points=\"\n",
       "  725.013,1486.45 725.013,47.2441 \n",
       "  \"/>\n",
       "<polyline clip-path=\"url(#clip312)\" style=\"stroke:#000000; stroke-linecap:butt; stroke-linejoin:round; stroke-width:2; stroke-opacity:0.1; fill:none\" points=\"\n",
       "  1246.73,1486.45 1246.73,47.2441 \n",
       "  \"/>\n",
       "<polyline clip-path=\"url(#clip312)\" style=\"stroke:#000000; stroke-linecap:butt; stroke-linejoin:round; stroke-width:2; stroke-opacity:0.1; fill:none\" points=\"\n",
       "  1768.44,1486.45 1768.44,47.2441 \n",
       "  \"/>\n",
       "<polyline clip-path=\"url(#clip312)\" style=\"stroke:#000000; stroke-linecap:butt; stroke-linejoin:round; stroke-width:2; stroke-opacity:0.1; fill:none\" points=\"\n",
       "  2290.15,1486.45 2290.15,47.2441 \n",
       "  \"/>\n",
       "<polyline clip-path=\"url(#clip310)\" style=\"stroke:#000000; stroke-linecap:butt; stroke-linejoin:round; stroke-width:4; stroke-opacity:1; fill:none\" points=\"\n",
       "  140.696,1486.45 2352.76,1486.45 \n",
       "  \"/>\n",
       "<polyline clip-path=\"url(#clip310)\" style=\"stroke:#000000; stroke-linecap:butt; stroke-linejoin:round; stroke-width:4; stroke-opacity:1; fill:none\" points=\"\n",
       "  203.301,1486.45 203.301,1469.18 \n",
       "  \"/>\n",
       "<polyline clip-path=\"url(#clip310)\" style=\"stroke:#000000; stroke-linecap:butt; stroke-linejoin:round; stroke-width:4; stroke-opacity:1; fill:none\" points=\"\n",
       "  725.013,1486.45 725.013,1469.18 \n",
       "  \"/>\n",
       "<polyline clip-path=\"url(#clip310)\" style=\"stroke:#000000; stroke-linecap:butt; stroke-linejoin:round; stroke-width:4; stroke-opacity:1; fill:none\" points=\"\n",
       "  1246.73,1486.45 1246.73,1469.18 \n",
       "  \"/>\n",
       "<polyline clip-path=\"url(#clip310)\" style=\"stroke:#000000; stroke-linecap:butt; stroke-linejoin:round; stroke-width:4; stroke-opacity:1; fill:none\" points=\"\n",
       "  1768.44,1486.45 1768.44,1469.18 \n",
       "  \"/>\n",
       "<polyline clip-path=\"url(#clip310)\" style=\"stroke:#000000; stroke-linecap:butt; stroke-linejoin:round; stroke-width:4; stroke-opacity:1; fill:none\" points=\"\n",
       "  2290.15,1486.45 2290.15,1469.18 \n",
       "  \"/>\n",
       "<path clip-path=\"url(#clip310)\" d=\"M193.683 1543.18 L201.322 1543.18 L201.322 1516.82 L193.012 1518.49 L193.012 1514.23 L201.276 1512.56 L205.951 1512.56 L205.951 1543.18 L213.59 1543.18 L213.59 1547.12 L193.683 1547.12 L193.683 1543.18 Z\" fill=\"#000000\" fill-rule=\"evenodd\" fill-opacity=\"1\" /><path clip-path=\"url(#clip310)\" d=\"M719.666 1543.18 L735.986 1543.18 L735.986 1547.12 L714.041 1547.12 L714.041 1543.18 Q716.703 1540.43 721.287 1535.8 Q725.893 1531.15 727.074 1529.81 Q729.319 1527.28 730.199 1525.55 Q731.101 1523.79 731.101 1522.1 Q731.101 1519.34 729.157 1517.61 Q727.236 1515.87 724.134 1515.87 Q721.935 1515.87 719.481 1516.63 Q717.05 1517.4 714.273 1518.95 L714.273 1514.23 Q717.097 1513.09 719.55 1512.51 Q722.004 1511.93 724.041 1511.93 Q729.411 1511.93 732.606 1514.62 Q735.8 1517.31 735.8 1521.8 Q735.8 1523.93 734.99 1525.85 Q734.203 1527.74 732.097 1530.34 Q731.518 1531.01 728.416 1534.23 Q725.314 1537.42 719.666 1543.18 Z\" fill=\"#000000\" fill-rule=\"evenodd\" fill-opacity=\"1\" /><path clip-path=\"url(#clip310)\" d=\"M1250.97 1528.49 Q1254.33 1529.2 1256.2 1531.47 Q1258.1 1533.74 1258.1 1537.07 Q1258.1 1542.19 1254.58 1544.99 Q1251.07 1547.79 1244.58 1547.79 Q1242.41 1547.79 1240.09 1547.35 Q1237.8 1546.93 1235.35 1546.08 L1235.35 1541.56 Q1237.29 1542.7 1239.61 1543.28 Q1241.92 1543.86 1244.45 1543.86 Q1248.84 1543.86 1251.14 1542.12 Q1253.45 1540.38 1253.45 1537.07 Q1253.45 1534.02 1251.3 1532.31 Q1249.17 1530.57 1245.35 1530.57 L1241.32 1530.57 L1241.32 1526.73 L1245.53 1526.73 Q1248.98 1526.73 1250.81 1525.36 Q1252.64 1523.97 1252.64 1521.38 Q1252.64 1518.72 1250.74 1517.31 Q1248.87 1515.87 1245.35 1515.87 Q1243.43 1515.87 1241.23 1516.29 Q1239.03 1516.7 1236.39 1517.58 L1236.39 1513.42 Q1239.05 1512.68 1241.37 1512.31 Q1243.7 1511.93 1245.77 1511.93 Q1251.09 1511.93 1254.19 1514.37 Q1257.29 1516.77 1257.29 1520.89 Q1257.29 1523.76 1255.65 1525.75 Q1254.01 1527.72 1250.97 1528.49 Z\" fill=\"#000000\" fill-rule=\"evenodd\" fill-opacity=\"1\" /><path clip-path=\"url(#clip310)\" d=\"M1771.45 1516.63 L1759.64 1535.08 L1771.45 1535.08 L1771.45 1516.63 M1770.22 1512.56 L1776.1 1512.56 L1776.1 1535.08 L1781.03 1535.08 L1781.03 1538.97 L1776.1 1538.97 L1776.1 1547.12 L1771.45 1547.12 L1771.45 1538.97 L1755.85 1538.97 L1755.85 1534.46 L1770.22 1512.56 Z\" fill=\"#000000\" fill-rule=\"evenodd\" fill-opacity=\"1\" /><path clip-path=\"url(#clip310)\" d=\"M2280.43 1512.56 L2298.78 1512.56 L2298.78 1516.5 L2284.71 1516.5 L2284.71 1524.97 Q2285.73 1524.62 2286.75 1524.46 Q2287.77 1524.27 2288.78 1524.27 Q2294.57 1524.27 2297.95 1527.44 Q2301.33 1530.62 2301.33 1536.03 Q2301.33 1541.61 2297.86 1544.71 Q2294.39 1547.79 2288.07 1547.79 Q2285.89 1547.79 2283.62 1547.42 Q2281.38 1547.05 2278.97 1546.31 L2278.97 1541.61 Q2281.05 1542.74 2283.28 1543.3 Q2285.5 1543.86 2287.97 1543.86 Q2291.98 1543.86 2294.32 1541.75 Q2296.66 1539.64 2296.66 1536.03 Q2296.66 1532.42 2294.32 1530.31 Q2291.98 1528.21 2287.97 1528.21 Q2286.1 1528.21 2284.22 1528.62 Q2282.37 1529.04 2280.43 1529.92 L2280.43 1512.56 Z\" fill=\"#000000\" fill-rule=\"evenodd\" fill-opacity=\"1\" /><polyline clip-path=\"url(#clip312)\" style=\"stroke:#000000; stroke-linecap:butt; stroke-linejoin:round; stroke-width:2; stroke-opacity:0.1; fill:none\" points=\"\n",
       "  140.696,1445.72 2352.76,1445.72 \n",
       "  \"/>\n",
       "<polyline clip-path=\"url(#clip312)\" style=\"stroke:#000000; stroke-linecap:butt; stroke-linejoin:round; stroke-width:2; stroke-opacity:0.1; fill:none\" points=\"\n",
       "  140.696,1151.44 2352.76,1151.44 \n",
       "  \"/>\n",
       "<polyline clip-path=\"url(#clip312)\" style=\"stroke:#000000; stroke-linecap:butt; stroke-linejoin:round; stroke-width:2; stroke-opacity:0.1; fill:none\" points=\"\n",
       "  140.696,857.172 2352.76,857.172 \n",
       "  \"/>\n",
       "<polyline clip-path=\"url(#clip312)\" style=\"stroke:#000000; stroke-linecap:butt; stroke-linejoin:round; stroke-width:2; stroke-opacity:0.1; fill:none\" points=\"\n",
       "  140.696,562.9 2352.76,562.9 \n",
       "  \"/>\n",
       "<polyline clip-path=\"url(#clip312)\" style=\"stroke:#000000; stroke-linecap:butt; stroke-linejoin:round; stroke-width:2; stroke-opacity:0.1; fill:none\" points=\"\n",
       "  140.696,268.627 2352.76,268.627 \n",
       "  \"/>\n",
       "<polyline clip-path=\"url(#clip310)\" style=\"stroke:#000000; stroke-linecap:butt; stroke-linejoin:round; stroke-width:4; stroke-opacity:1; fill:none\" points=\"\n",
       "  140.696,1486.45 140.696,47.2441 \n",
       "  \"/>\n",
       "<polyline clip-path=\"url(#clip310)\" style=\"stroke:#000000; stroke-linecap:butt; stroke-linejoin:round; stroke-width:4; stroke-opacity:1; fill:none\" points=\"\n",
       "  140.696,1445.72 167.24,1445.72 \n",
       "  \"/>\n",
       "<polyline clip-path=\"url(#clip310)\" style=\"stroke:#000000; stroke-linecap:butt; stroke-linejoin:round; stroke-width:4; stroke-opacity:1; fill:none\" points=\"\n",
       "  140.696,1151.44 167.24,1151.44 \n",
       "  \"/>\n",
       "<polyline clip-path=\"url(#clip310)\" style=\"stroke:#000000; stroke-linecap:butt; stroke-linejoin:round; stroke-width:4; stroke-opacity:1; fill:none\" points=\"\n",
       "  140.696,857.172 167.24,857.172 \n",
       "  \"/>\n",
       "<polyline clip-path=\"url(#clip310)\" style=\"stroke:#000000; stroke-linecap:butt; stroke-linejoin:round; stroke-width:4; stroke-opacity:1; fill:none\" points=\"\n",
       "  140.696,562.9 167.24,562.9 \n",
       "  \"/>\n",
       "<polyline clip-path=\"url(#clip310)\" style=\"stroke:#000000; stroke-linecap:butt; stroke-linejoin:round; stroke-width:4; stroke-opacity:1; fill:none\" points=\"\n",
       "  140.696,268.627 167.24,268.627 \n",
       "  \"/>\n",
       "<path clip-path=\"url(#clip310)\" d=\"M92.7512 1431.51 Q89.1401 1431.51 87.3114 1435.08 Q85.5058 1438.62 85.5058 1445.75 Q85.5058 1452.86 87.3114 1456.42 Q89.1401 1459.96 92.7512 1459.96 Q96.3854 1459.96 98.1909 1456.42 Q100.02 1452.86 100.02 1445.75 Q100.02 1438.62 98.1909 1435.08 Q96.3854 1431.51 92.7512 1431.51 M92.7512 1427.81 Q98.5613 1427.81 101.617 1432.42 Q104.696 1437 104.696 1445.75 Q104.696 1454.48 101.617 1459.08 Q98.5613 1463.67 92.7512 1463.67 Q86.941 1463.67 83.8623 1459.08 Q80.8068 1454.48 80.8068 1445.75 Q80.8068 1437 83.8623 1432.42 Q86.941 1427.81 92.7512 1427.81 Z\" fill=\"#000000\" fill-rule=\"evenodd\" fill-opacity=\"1\" /><path clip-path=\"url(#clip310)\" d=\"M83.7929 1134.16 L102.149 1134.16 L102.149 1138.1 L88.0753 1138.1 L88.0753 1146.57 Q89.0938 1146.22 90.1123 1146.06 Q91.1308 1145.88 92.1493 1145.88 Q97.9363 1145.88 101.316 1149.05 Q104.696 1152.22 104.696 1157.64 Q104.696 1163.21 101.223 1166.32 Q97.7511 1169.39 91.4317 1169.39 Q89.2558 1169.39 86.9873 1169.02 Q84.7419 1168.65 82.3346 1167.91 L82.3346 1163.21 Q84.4179 1164.35 86.6401 1164.9 Q88.8623 1165.46 91.3391 1165.46 Q95.3437 1165.46 97.6817 1163.35 Q100.02 1161.25 100.02 1157.64 Q100.02 1154.02 97.6817 1151.92 Q95.3437 1149.81 91.3391 1149.81 Q89.4641 1149.81 87.5892 1150.23 Q85.7373 1150.65 83.7929 1151.52 L83.7929 1134.16 Z\" fill=\"#000000\" fill-rule=\"evenodd\" fill-opacity=\"1\" /><path clip-path=\"url(#clip310)\" d=\"M53.3995 870.516 L61.0384 870.516 L61.0384 844.151 L52.7282 845.817 L52.7282 841.558 L60.9921 839.892 L65.668 839.892 L65.668 870.516 L73.3068 870.516 L73.3068 874.452 L53.3995 874.452 L53.3995 870.516 Z\" fill=\"#000000\" fill-rule=\"evenodd\" fill-opacity=\"1\" /><path clip-path=\"url(#clip310)\" d=\"M92.7512 842.97 Q89.1401 842.97 87.3114 846.535 Q85.5058 850.077 85.5058 857.206 Q85.5058 864.313 87.3114 867.878 Q89.1401 871.419 92.7512 871.419 Q96.3854 871.419 98.1909 867.878 Q100.02 864.313 100.02 857.206 Q100.02 850.077 98.1909 846.535 Q96.3854 842.97 92.7512 842.97 M92.7512 839.267 Q98.5613 839.267 101.617 843.873 Q104.696 848.456 104.696 857.206 Q104.696 865.933 101.617 870.54 Q98.5613 875.123 92.7512 875.123 Q86.941 875.123 83.8623 870.54 Q80.8068 865.933 80.8068 857.206 Q80.8068 848.456 83.8623 843.873 Q86.941 839.267 92.7512 839.267 Z\" fill=\"#000000\" fill-rule=\"evenodd\" fill-opacity=\"1\" /><path clip-path=\"url(#clip310)\" d=\"M54.3949 576.244 L62.0337 576.244 L62.0337 549.879 L53.7236 551.545 L53.7236 547.286 L61.9874 545.62 L66.6633 545.62 L66.6633 576.244 L74.3022 576.244 L74.3022 580.18 L54.3949 580.18 L54.3949 576.244 Z\" fill=\"#000000\" fill-rule=\"evenodd\" fill-opacity=\"1\" /><path clip-path=\"url(#clip310)\" d=\"M83.7929 545.62 L102.149 545.62 L102.149 549.555 L88.0753 549.555 L88.0753 558.027 Q89.0938 557.68 90.1123 557.518 Q91.1308 557.332 92.1493 557.332 Q97.9363 557.332 101.316 560.504 Q104.696 563.675 104.696 569.092 Q104.696 574.67 101.223 577.772 Q97.7511 580.851 91.4317 580.851 Q89.2558 580.851 86.9873 580.48 Q84.7419 580.11 82.3346 579.369 L82.3346 574.67 Q84.4179 575.805 86.6401 576.36 Q88.8623 576.916 91.3391 576.916 Q95.3437 576.916 97.6817 574.809 Q100.02 572.703 100.02 569.092 Q100.02 565.481 97.6817 563.374 Q95.3437 561.268 91.3391 561.268 Q89.4641 561.268 87.5892 561.684 Q85.7373 562.101 83.7929 562.981 L83.7929 545.62 Z\" fill=\"#000000\" fill-rule=\"evenodd\" fill-opacity=\"1\" /><path clip-path=\"url(#clip310)\" d=\"M56.6171 281.972 L72.9365 281.972 L72.9365 285.907 L50.9921 285.907 L50.9921 281.972 Q53.6541 279.218 58.2375 274.588 Q62.8439 269.935 64.0245 268.593 Q66.2698 266.07 67.1494 264.333 Q68.0522 262.574 68.0522 260.884 Q68.0522 258.13 66.1078 256.394 Q64.1865 254.658 61.0847 254.658 Q58.8856 254.658 56.4319 255.422 Q54.0014 256.185 51.2236 257.736 L51.2236 253.014 Q54.0477 251.88 56.5014 251.301 Q58.955 250.722 60.9921 250.722 Q66.3624 250.722 69.5568 253.408 Q72.7513 256.093 72.7513 260.584 Q72.7513 262.713 71.9411 264.634 Q71.1541 266.533 69.0476 269.125 Q68.4689 269.796 65.367 273.014 Q62.2652 276.208 56.6171 281.972 Z\" fill=\"#000000\" fill-rule=\"evenodd\" fill-opacity=\"1\" /><path clip-path=\"url(#clip310)\" d=\"M92.7512 254.426 Q89.1401 254.426 87.3114 257.991 Q85.5058 261.533 85.5058 268.662 Q85.5058 275.769 87.3114 279.333 Q89.1401 282.875 92.7512 282.875 Q96.3854 282.875 98.1909 279.333 Q100.02 275.769 100.02 268.662 Q100.02 261.533 98.1909 257.991 Q96.3854 254.426 92.7512 254.426 M92.7512 250.722 Q98.5613 250.722 101.617 255.329 Q104.696 259.912 104.696 268.662 Q104.696 277.389 101.617 281.995 Q98.5613 286.579 92.7512 286.579 Q86.941 286.579 83.8623 281.995 Q80.8068 277.389 80.8068 268.662 Q80.8068 259.912 83.8623 255.329 Q86.941 250.722 92.7512 250.722 Z\" fill=\"#000000\" fill-rule=\"evenodd\" fill-opacity=\"1\" /><polyline clip-path=\"url(#clip312)\" style=\"stroke:#009af9; stroke-linecap:butt; stroke-linejoin:round; stroke-width:4; stroke-opacity:1; fill:none\" points=\"\n",
       "  203.301,1445.72 725.013,1445.72 1246.73,1445.72 1768.44,1445.72 2290.15,1445.72 \n",
       "  \"/>\n",
       "<polyline clip-path=\"url(#clip312)\" style=\"stroke:#e26f46; stroke-linecap:butt; stroke-linejoin:round; stroke-width:4; stroke-opacity:1; fill:none\" points=\"\n",
       "  203.301,1445.72 725.013,1445.72 1246.73,1445.72 1768.44,1445.72 2290.15,1445.72 \n",
       "  \"/>\n",
       "<polyline clip-path=\"url(#clip312)\" style=\"stroke:#3da44d; stroke-linecap:butt; stroke-linejoin:round; stroke-width:4; stroke-opacity:1; fill:none\" points=\"\n",
       "  203.301,1445.72 725.013,1445.72 1246.73,1445.72 1768.44,1445.72 2290.15,1445.72 \n",
       "  \"/>\n",
       "<polyline clip-path=\"url(#clip312)\" style=\"stroke:#c271d2; stroke-linecap:butt; stroke-linejoin:round; stroke-width:4; stroke-opacity:1; fill:none\" points=\"\n",
       "  203.301,1445.72 725.013,1445.72 1246.73,1445.72 1768.44,1445.72 2290.15,1445.72 \n",
       "  \"/>\n",
       "<polyline clip-path=\"url(#clip312)\" style=\"stroke:#ac8d18; stroke-linecap:butt; stroke-linejoin:round; stroke-width:4; stroke-opacity:1; fill:none\" points=\"\n",
       "  203.301,364.234 725.013,401.196 1246.73,415.798 1768.44,430.555 2290.15,467.772 \n",
       "  \"/>\n",
       "<polyline clip-path=\"url(#clip312)\" style=\"stroke:#00a9ad; stroke-linecap:butt; stroke-linejoin:round; stroke-width:4; stroke-opacity:1; fill:none\" points=\"\n",
       "  203.301,1277.49 725.013,1291.45 1246.73,1308.04 1768.44,1325.01 2290.15,1340.56 \n",
       "  \"/>\n",
       "<polyline clip-path=\"url(#clip312)\" style=\"stroke:#ed5d92; stroke-linecap:butt; stroke-linejoin:round; stroke-width:4; stroke-opacity:1; fill:none\" points=\"\n",
       "  203.301,1445.72 725.013,1445.72 1246.73,1445.72 1768.44,1445.72 2290.15,1445.72 \n",
       "  \"/>\n",
       "<polyline clip-path=\"url(#clip312)\" style=\"stroke:#c68125; stroke-linecap:butt; stroke-linejoin:round; stroke-width:4; stroke-opacity:1; fill:none\" points=\"\n",
       "  203.301,869.028 725.013,892.422 1246.73,892.434 1768.44,892.23 2290.15,917.703 \n",
       "  \"/>\n",
       "<polyline clip-path=\"url(#clip312)\" style=\"stroke:#00a98d; stroke-linecap:butt; stroke-linejoin:round; stroke-width:4; stroke-opacity:1; fill:none\" points=\"\n",
       "  203.301,1445.72 725.013,1445.72 1246.73,1445.72 1768.44,1445.72 2290.15,1445.72 \n",
       "  \"/>\n",
       "<polyline clip-path=\"url(#clip312)\" style=\"stroke:#8e971d; stroke-linecap:butt; stroke-linejoin:round; stroke-width:4; stroke-opacity:1; fill:none\" points=\"\n",
       "  203.301,370.213 725.013,378.776 1246.73,378.782 1768.44,378.792 2290.15,387.402 \n",
       "  \"/>\n",
       "<polyline clip-path=\"url(#clip312)\" style=\"stroke:#00a8cb; stroke-linecap:butt; stroke-linejoin:round; stroke-width:4; stroke-opacity:1; fill:none\" points=\"\n",
       "  203.301,922.053 725.013,943.118 1246.73,966.575 1768.44,991.879 2290.15,1020.83 \n",
       "  \"/>\n",
       "<polyline clip-path=\"url(#clip312)\" style=\"stroke:#9b7fe8; stroke-linecap:butt; stroke-linejoin:round; stroke-width:4; stroke-opacity:1; fill:none\" points=\"\n",
       "  203.301,1240.57 725.013,1258.1 1246.73,1258.44 1768.44,1258.64 2290.15,1276.81 \n",
       "  \"/>\n",
       "<polyline clip-path=\"url(#clip312)\" style=\"stroke:#608cf6; stroke-linecap:butt; stroke-linejoin:round; stroke-width:4; stroke-opacity:1; fill:none\" points=\"\n",
       "  203.301,958.344 725.013,989.437 1246.73,1000.92 1768.44,1012.47 2290.15,1043.76 \n",
       "  \"/>\n",
       "<polyline clip-path=\"url(#clip312)\" style=\"stroke:#f05f73; stroke-linecap:butt; stroke-linejoin:round; stroke-width:4; stroke-opacity:1; fill:none\" points=\"\n",
       "  203.301,339.267 725.013,369.3 1246.73,378.834 1768.44,387.669 2290.15,411.688 \n",
       "  \"/>\n",
       "<polyline clip-path=\"url(#clip312)\" style=\"stroke:#dd64b5; stroke-linecap:butt; stroke-linejoin:round; stroke-width:4; stroke-opacity:1; fill:none\" points=\"\n",
       "  203.301,1445.72 725.013,1445.72 1246.73,1445.72 1768.44,1445.72 2290.15,1445.72 \n",
       "  \"/>\n",
       "<polyline clip-path=\"url(#clip312)\" style=\"stroke:#6b9e32; stroke-linecap:butt; stroke-linejoin:round; stroke-width:4; stroke-opacity:1; fill:none\" points=\"\n",
       "  203.301,1102.05 725.013,1186.6 1246.73,1199.28 1768.44,1215.17 2290.15,1291.78 \n",
       "  \"/>\n",
       "<polyline clip-path=\"url(#clip312)\" style=\"stroke:#009af9; stroke-linecap:butt; stroke-linejoin:round; stroke-width:4; stroke-opacity:1; fill:none\" points=\"\n",
       "  203.301,1061.79 725.013,1101.65 1246.73,1102.47 1768.44,1103.26 2290.15,1143.74 \n",
       "  \"/>\n",
       "<polyline clip-path=\"url(#clip312)\" style=\"stroke:#e26f46; stroke-linecap:butt; stroke-linejoin:round; stroke-width:4; stroke-opacity:1; fill:none\" points=\"\n",
       "  203.301,87.9763 725.013,142.387 1246.73,145.176 1768.44,147.778 2290.15,203.623 \n",
       "  \"/>\n",
       "<polyline clip-path=\"url(#clip312)\" style=\"stroke:#3da44d; stroke-linecap:butt; stroke-linejoin:round; stroke-width:4; stroke-opacity:1; fill:none\" points=\"\n",
       "  203.301,1118.51 725.013,1166.76 1246.73,1186.28 1768.44,1206.13 2290.15,1253.36 \n",
       "  \"/>\n",
       "<polyline clip-path=\"url(#clip312)\" style=\"stroke:#c271d2; stroke-linecap:butt; stroke-linejoin:round; stroke-width:4; stroke-opacity:1; fill:none\" points=\"\n",
       "  203.301,1445.72 725.013,1445.72 1246.73,1445.72 1768.44,1445.72 2290.15,1445.72 \n",
       "  \"/>\n",
       "<polyline clip-path=\"url(#clip312)\" style=\"stroke:#ac8d18; stroke-linecap:butt; stroke-linejoin:round; stroke-width:4; stroke-opacity:1; fill:none\" points=\"\n",
       "  203.301,835.332 725.013,860.949 1246.73,861.283 1768.44,861.472 2290.15,887.754 \n",
       "  \"/>\n",
       "<polyline clip-path=\"url(#clip312)\" style=\"stroke:#00a9ad; stroke-linecap:butt; stroke-linejoin:round; stroke-width:4; stroke-opacity:1; fill:none\" points=\"\n",
       "  203.301,1445.72 725.013,1445.72 1246.73,1445.72 1768.44,1445.72 2290.15,1445.72 \n",
       "  \"/>\n",
       "<polyline clip-path=\"url(#clip312)\" style=\"stroke:#ed5d92; stroke-linecap:butt; stroke-linejoin:round; stroke-width:4; stroke-opacity:1; fill:none\" points=\"\n",
       "  203.301,1068.56 725.013,1069.96 1246.73,1071.93 1768.44,1073.9 2290.15,1075.34 \n",
       "  \"/>\n",
       "<polyline clip-path=\"url(#clip312)\" style=\"stroke:#c68125; stroke-linecap:butt; stroke-linejoin:round; stroke-width:4; stroke-opacity:1; fill:none\" points=\"\n",
       "  203.301,998.503 725.013,1003.08 1246.73,1003.1 1768.44,1003.11 2290.15,1007.72 \n",
       "  \"/>\n",
       "<polyline clip-path=\"url(#clip312)\" style=\"stroke:#00a98d; stroke-linecap:butt; stroke-linejoin:round; stroke-width:4; stroke-opacity:1; fill:none\" points=\"\n",
       "  203.301,734.656 725.013,736.338 1246.73,736.338 1768.44,736.337 2290.15,738.034 \n",
       "  \"/>\n",
       "<polyline clip-path=\"url(#clip312)\" style=\"stroke:#8e971d; stroke-linecap:butt; stroke-linejoin:round; stroke-width:4; stroke-opacity:1; fill:none\" points=\"\n",
       "  203.301,1049.24 725.013,1068.59 1246.73,1078.28 1768.44,1088.09 2290.15,1107.54 \n",
       "  \"/>\n",
       "<polyline clip-path=\"url(#clip312)\" style=\"stroke:#00a8cb; stroke-linecap:butt; stroke-linejoin:round; stroke-width:4; stroke-opacity:1; fill:none\" points=\"\n",
       "  203.301,819.609 725.013,842.795 1246.73,850.053 1768.44,857.337 2290.15,880.838 \n",
       "  \"/>\n",
       "<polyline clip-path=\"url(#clip312)\" style=\"stroke:#9b7fe8; stroke-linecap:butt; stroke-linejoin:round; stroke-width:4; stroke-opacity:1; fill:none\" points=\"\n",
       "  203.301,1195.73 725.013,1220.56 1246.73,1220.86 1768.44,1221.08 2290.15,1246.56 \n",
       "  \"/>\n",
       "<polyline clip-path=\"url(#clip312)\" style=\"stroke:#608cf6; stroke-linecap:butt; stroke-linejoin:round; stroke-width:4; stroke-opacity:1; fill:none\" points=\"\n",
       "  203.301,1445.72 725.013,1445.72 1246.73,1445.72 1768.44,1445.72 2290.15,1445.72 \n",
       "  \"/>\n",
       "<polyline clip-path=\"url(#clip312)\" style=\"stroke:#f05f73; stroke-linecap:butt; stroke-linejoin:round; stroke-width:4; stroke-opacity:1; fill:none\" points=\"\n",
       "  203.301,592.765 725.013,605.927 1246.73,607.085 1768.44,608.253 2290.15,621.473 \n",
       "  \"/>\n",
       "<polyline clip-path=\"url(#clip312)\" style=\"stroke:#dd64b5; stroke-linecap:butt; stroke-linejoin:round; stroke-width:4; stroke-opacity:1; fill:none\" points=\"\n",
       "  203.301,1445.72 725.013,1445.72 1246.73,1445.72 1768.44,1445.72 2290.15,1445.72 \n",
       "  \"/>\n",
       "<polyline clip-path=\"url(#clip312)\" style=\"stroke:#6b9e32; stroke-linecap:butt; stroke-linejoin:round; stroke-width:4; stroke-opacity:1; fill:none\" points=\"\n",
       "  203.301,1445.72 725.013,1445.72 1246.73,1445.72 1768.44,1445.72 2290.15,1445.72 \n",
       "  \"/>\n",
       "<polyline clip-path=\"url(#clip312)\" style=\"stroke:#009af9; stroke-linecap:butt; stroke-linejoin:round; stroke-width:4; stroke-opacity:1; fill:none\" points=\"\n",
       "  203.301,619.586 725.013,642.072 1246.73,651.132 1768.44,660.219 2290.15,682.886 \n",
       "  \"/>\n",
       "<polyline clip-path=\"url(#clip312)\" style=\"stroke:#e26f46; stroke-linecap:butt; stroke-linejoin:round; stroke-width:4; stroke-opacity:1; fill:none\" points=\"\n",
       "  203.301,1445.72 725.013,1445.72 1246.73,1445.72 1768.44,1445.72 2290.15,1445.72 \n",
       "  \"/>\n",
       "<polyline clip-path=\"url(#clip312)\" style=\"stroke:#3da44d; stroke-linecap:butt; stroke-linejoin:round; stroke-width:4; stroke-opacity:1; fill:none\" points=\"\n",
       "  203.301,1445.72 725.013,1445.72 1246.73,1445.72 1768.44,1445.72 2290.15,1445.72 \n",
       "  \"/>\n",
       "<polyline clip-path=\"url(#clip312)\" style=\"stroke:#c271d2; stroke-linecap:butt; stroke-linejoin:round; stroke-width:4; stroke-opacity:1; fill:none\" points=\"\n",
       "  203.301,1445.72 725.013,1445.72 1246.73,1445.72 1768.44,1445.72 2290.15,1445.72 \n",
       "  \"/>\n",
       "<polyline clip-path=\"url(#clip312)\" style=\"stroke:#ac8d18; stroke-linecap:butt; stroke-linejoin:round; stroke-width:4; stroke-opacity:1; fill:none\" points=\"\n",
       "  203.301,1445.72 725.013,1445.72 1246.73,1445.72 1768.44,1445.72 2290.15,1445.72 \n",
       "  \"/>\n",
       "<polyline clip-path=\"url(#clip312)\" style=\"stroke:#00a9ad; stroke-linecap:butt; stroke-linejoin:round; stroke-width:4; stroke-opacity:1; fill:none\" points=\"\n",
       "  203.301,1114.1 725.013,1132.32 1246.73,1136.79 1768.44,1142.03 2290.15,1162.32 \n",
       "  \"/>\n",
       "<polyline clip-path=\"url(#clip312)\" style=\"stroke:#ed5d92; stroke-linecap:butt; stroke-linejoin:round; stroke-width:4; stroke-opacity:1; fill:none\" points=\"\n",
       "  203.301,1445.72 725.013,1445.72 1246.73,1445.72 1768.44,1445.72 2290.15,1445.72 \n",
       "  \"/>\n",
       "<polyline clip-path=\"url(#clip312)\" style=\"stroke:#c68125; stroke-linecap:butt; stroke-linejoin:round; stroke-width:4; stroke-opacity:1; fill:none\" points=\"\n",
       "  203.301,1445.72 725.013,1445.72 1246.73,1445.72 1768.44,1445.72 2290.15,1445.72 \n",
       "  \"/>\n",
       "<polyline clip-path=\"url(#clip312)\" style=\"stroke:#00a98d; stroke-linecap:butt; stroke-linejoin:round; stroke-width:4; stroke-opacity:1; fill:none\" points=\"\n",
       "  203.301,916.11 725.013,939.825 1246.73,953.285 1768.44,966.84 2290.15,990.456 \n",
       "  \"/>\n",
       "<polyline clip-path=\"url(#clip312)\" style=\"stroke:#8e971d; stroke-linecap:butt; stroke-linejoin:round; stroke-width:4; stroke-opacity:1; fill:none\" points=\"\n",
       "  203.301,1070.36 725.013,1072.88 1246.73,1072.94 1768.44,1073.01 2290.15,1075.55 \n",
       "  \"/>\n",
       "<polyline clip-path=\"url(#clip312)\" style=\"stroke:#00a8cb; stroke-linecap:butt; stroke-linejoin:round; stroke-width:4; stroke-opacity:1; fill:none\" points=\"\n",
       "  203.301,1445.72 725.013,1445.72 1246.73,1445.72 1768.44,1445.72 2290.15,1445.72 \n",
       "  \"/>\n",
       "<polyline clip-path=\"url(#clip312)\" style=\"stroke:#9b7fe8; stroke-linecap:butt; stroke-linejoin:round; stroke-width:4; stroke-opacity:1; fill:none\" points=\"\n",
       "  203.301,1444.25 725.013,1445.16 1246.73,1445.37 1768.44,1445.48 2290.15,1445.56 \n",
       "  \"/>\n",
       "<polyline clip-path=\"url(#clip312)\" style=\"stroke:#608cf6; stroke-linecap:butt; stroke-linejoin:round; stroke-width:4; stroke-opacity:1; fill:none\" points=\"\n",
       "  203.301,1445.72 725.013,1445.72 1246.73,1445.72 1768.44,1445.72 2290.15,1445.72 \n",
       "  \"/>\n",
       "<polyline clip-path=\"url(#clip312)\" style=\"stroke:#f05f73; stroke-linecap:butt; stroke-linejoin:round; stroke-width:4; stroke-opacity:1; fill:none\" points=\"\n",
       "  203.301,1445.72 725.013,1445.72 1246.73,1445.72 1768.44,1445.72 2290.15,1445.72 \n",
       "  \"/>\n",
       "<polyline clip-path=\"url(#clip312)\" style=\"stroke:#dd64b5; stroke-linecap:butt; stroke-linejoin:round; stroke-width:4; stroke-opacity:1; fill:none\" points=\"\n",
       "  203.301,1445.72 725.013,1445.72 1246.73,1445.72 1768.44,1445.72 2290.15,1445.72 \n",
       "  \"/>\n",
       "<polyline clip-path=\"url(#clip312)\" style=\"stroke:#6b9e32; stroke-linecap:butt; stroke-linejoin:round; stroke-width:4; stroke-opacity:1; fill:none\" points=\"\n",
       "  203.301,1445.72 725.013,1445.72 1246.73,1445.72 1768.44,1445.72 2290.15,1445.72 \n",
       "  \"/>\n",
       "<polyline clip-path=\"url(#clip312)\" style=\"stroke:#009af9; stroke-linecap:butt; stroke-linejoin:round; stroke-width:4; stroke-opacity:1; fill:none\" points=\"\n",
       "  203.301,1445.72 725.013,1445.72 1246.73,1445.72 1768.44,1445.72 2290.15,1445.72 \n",
       "  \"/>\n",
       "<polyline clip-path=\"url(#clip312)\" style=\"stroke:#e26f46; stroke-linecap:butt; stroke-linejoin:round; stroke-width:4; stroke-opacity:1; fill:none\" points=\"\n",
       "  203.301,1445.72 725.013,1445.72 1246.73,1445.72 1768.44,1445.72 2290.15,1445.72 \n",
       "  \"/>\n",
       "<path clip-path=\"url(#clip310)\" d=\"\n",
       "M1948.93 3179.7 L2279.02 3179.7 L2279.02 95.2176 L1948.93 95.2176  Z\n",
       "  \" fill=\"#ffffff\" fill-rule=\"evenodd\" fill-opacity=\"1\"/>\n",
       "<polyline clip-path=\"url(#clip310)\" style=\"stroke:#000000; stroke-linecap:butt; stroke-linejoin:round; stroke-width:4; stroke-opacity:1; fill:none\" points=\"\n",
       "  1948.93,3179.7 2279.02,3179.7 2279.02,95.2176 1948.93,95.2176 1948.93,3179.7 \n",
       "  \"/>\n",
       "<polyline clip-path=\"url(#clip310)\" style=\"stroke:#009af9; stroke-linecap:butt; stroke-linejoin:round; stroke-width:4; stroke-opacity:1; fill:none\" points=\"\n",
       "  1973.51,155.698 2120.98,155.698 \n",
       "  \"/>\n",
       "<path clip-path=\"url(#clip310)\" d=\"M2159.4 175.385 Q2157.6 180.015 2155.88 181.427 Q2154.17 182.839 2151.3 182.839 L2147.9 182.839 L2147.9 179.274 L2150.4 179.274 Q2152.16 179.274 2153.13 178.44 Q2154.1 177.607 2155.28 174.505 L2156.04 172.561 L2145.56 147.052 L2150.07 147.052 L2158.17 167.329 L2166.28 147.052 L2170.79 147.052 L2159.4 175.385 Z\" fill=\"#000000\" fill-rule=\"evenodd\" fill-opacity=\"1\" /><path clip-path=\"url(#clip310)\" d=\"M2178.08 169.042 L2185.72 169.042 L2185.72 142.677 L2177.41 144.343 L2177.41 140.084 L2185.67 138.418 L2190.35 138.418 L2190.35 169.042 L2197.99 169.042 L2197.99 172.978 L2178.08 172.978 L2178.08 169.042 Z\" fill=\"#000000\" fill-rule=\"evenodd\" fill-opacity=\"1\" /><polyline clip-path=\"url(#clip310)\" style=\"stroke:#e26f46; stroke-linecap:butt; stroke-linejoin:round; stroke-width:4; stroke-opacity:1; fill:none\" points=\"\n",
       "  1973.51,216.178 2120.98,216.178 \n",
       "  \"/>\n",
       "<path clip-path=\"url(#clip310)\" d=\"M2159.4 235.865 Q2157.6 240.495 2155.88 241.907 Q2154.17 243.319 2151.3 243.319 L2147.9 243.319 L2147.9 239.754 L2150.4 239.754 Q2152.16 239.754 2153.13 238.92 Q2154.1 238.087 2155.28 234.985 L2156.04 233.041 L2145.56 207.532 L2150.07 207.532 L2158.17 227.809 L2166.28 207.532 L2170.79 207.532 L2159.4 235.865 Z\" fill=\"#000000\" fill-rule=\"evenodd\" fill-opacity=\"1\" /><path clip-path=\"url(#clip310)\" d=\"M2181.3 229.522 L2197.62 229.522 L2197.62 233.458 L2175.67 233.458 L2175.67 229.522 Q2178.34 226.768 2182.92 222.138 Q2187.53 217.485 2188.71 216.143 Q2190.95 213.62 2191.83 211.884 Q2192.73 210.124 2192.73 208.435 Q2192.73 205.68 2190.79 203.944 Q2188.87 202.208 2185.77 202.208 Q2183.57 202.208 2181.11 202.972 Q2178.68 203.735 2175.91 205.286 L2175.91 200.564 Q2178.73 199.43 2181.18 198.851 Q2183.64 198.273 2185.67 198.273 Q2191.04 198.273 2194.24 200.958 Q2197.43 203.643 2197.43 208.134 Q2197.43 210.263 2196.62 212.185 Q2195.84 214.083 2193.73 216.675 Q2193.15 217.347 2190.05 220.564 Q2186.95 223.759 2181.3 229.522 Z\" fill=\"#000000\" fill-rule=\"evenodd\" fill-opacity=\"1\" /><polyline clip-path=\"url(#clip310)\" style=\"stroke:#3da44d; stroke-linecap:butt; stroke-linejoin:round; stroke-width:4; stroke-opacity:1; fill:none\" points=\"\n",
       "  1973.51,276.658 2120.98,276.658 \n",
       "  \"/>\n",
       "<path clip-path=\"url(#clip310)\" d=\"M2159.4 296.345 Q2157.6 300.975 2155.88 302.387 Q2154.17 303.799 2151.3 303.799 L2147.9 303.799 L2147.9 300.234 L2150.4 300.234 Q2152.16 300.234 2153.13 299.4 Q2154.1 298.567 2155.28 295.465 L2156.04 293.521 L2145.56 268.012 L2150.07 268.012 L2158.17 288.289 L2166.28 268.012 L2170.79 268.012 L2159.4 296.345 Z\" fill=\"#000000\" fill-rule=\"evenodd\" fill-opacity=\"1\" /><path clip-path=\"url(#clip310)\" d=\"M2191.44 275.303 Q2194.79 276.021 2196.67 278.289 Q2198.57 280.558 2198.57 283.891 Q2198.57 289.007 2195.05 291.808 Q2191.53 294.609 2185.05 294.609 Q2182.87 294.609 2180.56 294.169 Q2178.27 293.752 2175.81 292.896 L2175.81 288.382 Q2177.76 289.516 2180.07 290.095 Q2182.39 290.674 2184.91 290.674 Q2189.31 290.674 2191.6 288.938 Q2193.91 287.201 2193.91 283.891 Q2193.91 280.836 2191.76 279.123 Q2189.63 277.387 2185.81 277.387 L2181.79 277.387 L2181.79 273.544 L2186 273.544 Q2189.45 273.544 2191.28 272.178 Q2193.1 270.79 2193.1 268.197 Q2193.1 265.535 2191.21 264.123 Q2189.33 262.688 2185.81 262.688 Q2183.89 262.688 2181.69 263.104 Q2179.49 263.521 2176.85 264.401 L2176.85 260.234 Q2179.52 259.493 2181.83 259.123 Q2184.17 258.753 2186.23 258.753 Q2191.55 258.753 2194.66 261.183 Q2197.76 263.59 2197.76 267.711 Q2197.76 270.581 2196.11 272.572 Q2194.47 274.54 2191.44 275.303 Z\" fill=\"#000000\" fill-rule=\"evenodd\" fill-opacity=\"1\" /><polyline clip-path=\"url(#clip310)\" style=\"stroke:#c271d2; stroke-linecap:butt; stroke-linejoin:round; stroke-width:4; stroke-opacity:1; fill:none\" points=\"\n",
       "  1973.51,337.138 2120.98,337.138 \n",
       "  \"/>\n",
       "<path clip-path=\"url(#clip310)\" d=\"M2159.4 356.825 Q2157.6 361.455 2155.88 362.867 Q2154.17 364.279 2151.3 364.279 L2147.9 364.279 L2147.9 360.714 L2150.4 360.714 Q2152.16 360.714 2153.13 359.88 Q2154.1 359.047 2155.28 355.945 L2156.04 354.001 L2145.56 328.492 L2150.07 328.492 L2158.17 348.769 L2166.28 328.492 L2170.79 328.492 L2159.4 356.825 Z\" fill=\"#000000\" fill-rule=\"evenodd\" fill-opacity=\"1\" /><path clip-path=\"url(#clip310)\" d=\"M2190.12 323.932 L2178.31 342.381 L2190.12 342.381 L2190.12 323.932 M2188.89 319.858 L2194.77 319.858 L2194.77 342.381 L2199.7 342.381 L2199.7 346.269 L2194.77 346.269 L2194.77 354.418 L2190.12 354.418 L2190.12 346.269 L2174.52 346.269 L2174.52 341.756 L2188.89 319.858 Z\" fill=\"#000000\" fill-rule=\"evenodd\" fill-opacity=\"1\" /><polyline clip-path=\"url(#clip310)\" style=\"stroke:#ac8d18; stroke-linecap:butt; stroke-linejoin:round; stroke-width:4; stroke-opacity:1; fill:none\" points=\"\n",
       "  1973.51,397.618 2120.98,397.618 \n",
       "  \"/>\n",
       "<path clip-path=\"url(#clip310)\" d=\"M2159.4 417.305 Q2157.6 421.935 2155.88 423.347 Q2154.17 424.759 2151.3 424.759 L2147.9 424.759 L2147.9 421.194 L2150.4 421.194 Q2152.16 421.194 2153.13 420.36 Q2154.1 419.527 2155.28 416.425 L2156.04 414.481 L2145.56 388.972 L2150.07 388.972 L2158.17 409.249 L2166.28 388.972 L2170.79 388.972 L2159.4 417.305 Z\" fill=\"#000000\" fill-rule=\"evenodd\" fill-opacity=\"1\" /><path clip-path=\"url(#clip310)\" d=\"M2177.32 380.338 L2195.67 380.338 L2195.67 384.273 L2181.6 384.273 L2181.6 392.745 Q2182.62 392.398 2183.64 392.236 Q2184.66 392.05 2185.67 392.05 Q2191.46 392.05 2194.84 395.222 Q2198.22 398.393 2198.22 403.81 Q2198.22 409.388 2194.75 412.49 Q2191.28 415.569 2184.96 415.569 Q2182.78 415.569 2180.51 415.198 Q2178.27 414.828 2175.86 414.087 L2175.86 409.388 Q2177.94 410.523 2180.16 411.078 Q2182.39 411.634 2184.86 411.634 Q2188.87 411.634 2191.21 409.527 Q2193.54 407.421 2193.54 403.81 Q2193.54 400.199 2191.21 398.092 Q2188.87 395.986 2184.86 395.986 Q2182.99 395.986 2181.11 396.402 Q2179.26 396.819 2177.32 397.699 L2177.32 380.338 Z\" fill=\"#000000\" fill-rule=\"evenodd\" fill-opacity=\"1\" /><polyline clip-path=\"url(#clip310)\" style=\"stroke:#00a9ad; stroke-linecap:butt; stroke-linejoin:round; stroke-width:4; stroke-opacity:1; fill:none\" points=\"\n",
       "  1973.51,458.098 2120.98,458.098 \n",
       "  \"/>\n",
       "<path clip-path=\"url(#clip310)\" d=\"M2159.4 477.785 Q2157.6 482.415 2155.88 483.827 Q2154.17 485.239 2151.3 485.239 L2147.9 485.239 L2147.9 481.674 L2150.4 481.674 Q2152.16 481.674 2153.13 480.84 Q2154.1 480.007 2155.28 476.905 L2156.04 474.961 L2145.56 449.452 L2150.07 449.452 L2158.17 469.729 L2166.28 449.452 L2170.79 449.452 L2159.4 477.785 Z\" fill=\"#000000\" fill-rule=\"evenodd\" fill-opacity=\"1\" /><path clip-path=\"url(#clip310)\" d=\"M2187.85 456.234 Q2184.7 456.234 2182.85 458.387 Q2181.02 460.54 2181.02 464.29 Q2181.02 468.016 2182.85 470.192 Q2184.7 472.345 2187.85 472.345 Q2191 472.345 2192.83 470.192 Q2194.68 468.016 2194.68 464.29 Q2194.68 460.54 2192.83 458.387 Q2191 456.234 2187.85 456.234 M2197.13 441.581 L2197.13 445.841 Q2195.37 445.007 2193.57 444.568 Q2191.79 444.128 2190.03 444.128 Q2185.4 444.128 2182.94 447.253 Q2180.51 450.378 2180.16 456.697 Q2181.53 454.683 2183.59 453.618 Q2185.65 452.53 2188.13 452.53 Q2193.34 452.53 2196.35 455.702 Q2199.38 458.85 2199.38 464.29 Q2199.38 469.614 2196.23 472.831 Q2193.08 476.049 2187.85 476.049 Q2181.85 476.049 2178.68 471.466 Q2175.51 466.859 2175.51 458.132 Q2175.51 449.938 2179.4 445.077 Q2183.29 440.193 2189.84 440.193 Q2191.6 440.193 2193.38 440.54 Q2195.19 440.887 2197.13 441.581 Z\" fill=\"#000000\" fill-rule=\"evenodd\" fill-opacity=\"1\" /><polyline clip-path=\"url(#clip310)\" style=\"stroke:#ed5d92; stroke-linecap:butt; stroke-linejoin:round; stroke-width:4; stroke-opacity:1; fill:none\" points=\"\n",
       "  1973.51,518.578 2120.98,518.578 \n",
       "  \"/>\n",
       "<path clip-path=\"url(#clip310)\" d=\"M2159.4 538.265 Q2157.6 542.895 2155.88 544.307 Q2154.17 545.719 2151.3 545.719 L2147.9 545.719 L2147.9 542.154 L2150.4 542.154 Q2152.16 542.154 2153.13 541.32 Q2154.1 540.487 2155.28 537.385 L2156.04 535.441 L2145.56 509.932 L2150.07 509.932 L2158.17 530.209 L2166.28 509.932 L2170.79 509.932 L2159.4 538.265 Z\" fill=\"#000000\" fill-rule=\"evenodd\" fill-opacity=\"1\" /><path clip-path=\"url(#clip310)\" d=\"M2176.09 501.298 L2198.31 501.298 L2198.31 503.288 L2185.77 535.858 L2180.88 535.858 L2192.69 505.233 L2176.09 505.233 L2176.09 501.298 Z\" fill=\"#000000\" fill-rule=\"evenodd\" fill-opacity=\"1\" /><polyline clip-path=\"url(#clip310)\" style=\"stroke:#c68125; stroke-linecap:butt; stroke-linejoin:round; stroke-width:4; stroke-opacity:1; fill:none\" points=\"\n",
       "  1973.51,579.058 2120.98,579.058 \n",
       "  \"/>\n",
       "<path clip-path=\"url(#clip310)\" d=\"M2159.4 598.745 Q2157.6 603.375 2155.88 604.787 Q2154.17 606.199 2151.3 606.199 L2147.9 606.199 L2147.9 602.634 L2150.4 602.634 Q2152.16 602.634 2153.13 601.8 Q2154.1 600.967 2155.28 597.865 L2156.04 595.921 L2145.56 570.412 L2150.07 570.412 L2158.17 590.689 L2166.28 570.412 L2170.79 570.412 L2159.4 598.745 Z\" fill=\"#000000\" fill-rule=\"evenodd\" fill-opacity=\"1\" /><path clip-path=\"url(#clip310)\" d=\"M2187.27 579.926 Q2183.94 579.926 2182.02 581.708 Q2180.12 583.49 2180.12 586.615 Q2180.12 589.74 2182.02 591.523 Q2183.94 593.305 2187.27 593.305 Q2190.6 593.305 2192.53 591.523 Q2194.45 589.717 2194.45 586.615 Q2194.45 583.49 2192.53 581.708 Q2190.63 579.926 2187.27 579.926 M2182.6 577.935 Q2179.59 577.194 2177.9 575.134 Q2176.23 573.074 2176.23 570.111 Q2176.23 565.967 2179.17 563.56 Q2182.13 561.153 2187.27 561.153 Q2192.43 561.153 2195.37 563.56 Q2198.31 565.967 2198.31 570.111 Q2198.31 573.074 2196.62 575.134 Q2194.96 577.194 2191.97 577.935 Q2195.35 578.722 2197.22 581.014 Q2199.12 583.305 2199.12 586.615 Q2199.12 591.639 2196.04 594.324 Q2192.99 597.009 2187.27 597.009 Q2181.55 597.009 2178.48 594.324 Q2175.42 591.639 2175.42 586.615 Q2175.42 583.305 2177.32 581.014 Q2179.22 578.722 2182.6 577.935 M2180.88 570.551 Q2180.88 573.236 2182.55 574.74 Q2184.24 576.245 2187.27 576.245 Q2190.28 576.245 2191.97 574.74 Q2193.68 573.236 2193.68 570.551 Q2193.68 567.865 2191.97 566.361 Q2190.28 564.856 2187.27 564.856 Q2184.24 564.856 2182.55 566.361 Q2180.88 567.865 2180.88 570.551 Z\" fill=\"#000000\" fill-rule=\"evenodd\" fill-opacity=\"1\" /><polyline clip-path=\"url(#clip310)\" style=\"stroke:#00a98d; stroke-linecap:butt; stroke-linejoin:round; stroke-width:4; stroke-opacity:1; fill:none\" points=\"\n",
       "  1973.51,639.538 2120.98,639.538 \n",
       "  \"/>\n",
       "<path clip-path=\"url(#clip310)\" d=\"M2159.4 659.225 Q2157.6 663.855 2155.88 665.267 Q2154.17 666.679 2151.3 666.679 L2147.9 666.679 L2147.9 663.114 L2150.4 663.114 Q2152.16 663.114 2153.13 662.28 Q2154.1 661.447 2155.28 658.345 L2156.04 656.401 L2145.56 630.892 L2150.07 630.892 L2158.17 651.169 L2166.28 630.892 L2170.79 630.892 L2159.4 659.225 Z\" fill=\"#000000\" fill-rule=\"evenodd\" fill-opacity=\"1\" /><path clip-path=\"url(#clip310)\" d=\"M2177.41 656.1 L2177.41 651.841 Q2179.17 652.674 2180.98 653.114 Q2182.78 653.554 2184.52 653.554 Q2189.15 653.554 2191.58 650.452 Q2194.03 647.327 2194.38 640.984 Q2193.04 642.975 2190.97 644.04 Q2188.91 645.105 2186.41 645.105 Q2181.23 645.105 2178.2 641.98 Q2175.19 638.832 2175.19 633.392 Q2175.19 628.068 2178.34 624.85 Q2181.48 621.633 2186.72 621.633 Q2192.71 621.633 2195.86 626.239 Q2199.03 630.822 2199.03 639.572 Q2199.03 647.744 2195.14 652.628 Q2191.28 657.489 2184.73 657.489 Q2182.97 657.489 2181.16 657.142 Q2179.35 656.794 2177.41 656.1 M2186.72 641.447 Q2189.86 641.447 2191.69 639.294 Q2193.54 637.142 2193.54 633.392 Q2193.54 629.665 2191.69 627.512 Q2189.86 625.336 2186.72 625.336 Q2183.57 625.336 2181.72 627.512 Q2179.89 629.665 2179.89 633.392 Q2179.89 637.142 2181.72 639.294 Q2183.57 641.447 2186.72 641.447 Z\" fill=\"#000000\" fill-rule=\"evenodd\" fill-opacity=\"1\" /><polyline clip-path=\"url(#clip310)\" style=\"stroke:#8e971d; stroke-linecap:butt; stroke-linejoin:round; stroke-width:4; stroke-opacity:1; fill:none\" points=\"\n",
       "  1973.51,700.018 2120.98,700.018 \n",
       "  \"/>\n",
       "<path clip-path=\"url(#clip310)\" d=\"M2159.4 719.705 Q2157.6 724.335 2155.88 725.747 Q2154.17 727.159 2151.3 727.159 L2147.9 727.159 L2147.9 723.594 L2150.4 723.594 Q2152.16 723.594 2153.13 722.76 Q2154.1 721.927 2155.28 718.825 L2156.04 716.881 L2145.56 691.372 L2150.07 691.372 L2158.17 711.649 L2166.28 691.372 L2170.79 691.372 L2159.4 719.705 Z\" fill=\"#000000\" fill-rule=\"evenodd\" fill-opacity=\"1\" /><path clip-path=\"url(#clip310)\" d=\"M2178.08 713.362 L2185.72 713.362 L2185.72 686.997 L2177.41 688.663 L2177.41 684.404 L2185.67 682.738 L2190.35 682.738 L2190.35 713.362 L2197.99 713.362 L2197.99 717.298 L2178.08 717.298 L2178.08 713.362 Z\" fill=\"#000000\" fill-rule=\"evenodd\" fill-opacity=\"1\" /><path clip-path=\"url(#clip310)\" d=\"M2217.43 685.816 Q2213.82 685.816 2211.99 689.381 Q2210.19 692.923 2210.19 700.052 Q2210.19 707.159 2211.99 710.724 Q2213.82 714.265 2217.43 714.265 Q2221.07 714.265 2222.87 710.724 Q2224.7 707.159 2224.7 700.052 Q2224.7 692.923 2222.87 689.381 Q2221.07 685.816 2217.43 685.816 M2217.43 682.113 Q2223.24 682.113 2226.3 686.719 Q2229.38 691.302 2229.38 700.052 Q2229.38 708.779 2226.3 713.386 Q2223.24 717.969 2217.43 717.969 Q2211.62 717.969 2208.54 713.386 Q2205.49 708.779 2205.49 700.052 Q2205.49 691.302 2208.54 686.719 Q2211.62 682.113 2217.43 682.113 Z\" fill=\"#000000\" fill-rule=\"evenodd\" fill-opacity=\"1\" /><polyline clip-path=\"url(#clip310)\" style=\"stroke:#00a8cb; stroke-linecap:butt; stroke-linejoin:round; stroke-width:4; stroke-opacity:1; fill:none\" points=\"\n",
       "  1973.51,760.498 2120.98,760.498 \n",
       "  \"/>\n",
       "<path clip-path=\"url(#clip310)\" d=\"M2159.4 780.185 Q2157.6 784.815 2155.88 786.227 Q2154.17 787.639 2151.3 787.639 L2147.9 787.639 L2147.9 784.074 L2150.4 784.074 Q2152.16 784.074 2153.13 783.24 Q2154.1 782.407 2155.28 779.305 L2156.04 777.361 L2145.56 751.852 L2150.07 751.852 L2158.17 772.129 L2166.28 751.852 L2170.79 751.852 L2159.4 780.185 Z\" fill=\"#000000\" fill-rule=\"evenodd\" fill-opacity=\"1\" /><path clip-path=\"url(#clip310)\" d=\"M2178.08 773.842 L2185.72 773.842 L2185.72 747.477 L2177.41 749.143 L2177.41 744.884 L2185.67 743.218 L2190.35 743.218 L2190.35 773.842 L2197.99 773.842 L2197.99 777.778 L2178.08 777.778 L2178.08 773.842 Z\" fill=\"#000000\" fill-rule=\"evenodd\" fill-opacity=\"1\" /><path clip-path=\"url(#clip310)\" d=\"M2208.24 773.842 L2215.88 773.842 L2215.88 747.477 L2207.57 749.143 L2207.57 744.884 L2215.84 743.218 L2220.51 743.218 L2220.51 773.842 L2228.15 773.842 L2228.15 777.778 L2208.24 777.778 L2208.24 773.842 Z\" fill=\"#000000\" fill-rule=\"evenodd\" fill-opacity=\"1\" /><polyline clip-path=\"url(#clip310)\" style=\"stroke:#9b7fe8; stroke-linecap:butt; stroke-linejoin:round; stroke-width:4; stroke-opacity:1; fill:none\" points=\"\n",
       "  1973.51,820.978 2120.98,820.978 \n",
       "  \"/>\n",
       "<path clip-path=\"url(#clip310)\" d=\"M2159.4 840.665 Q2157.6 845.295 2155.88 846.707 Q2154.17 848.119 2151.3 848.119 L2147.9 848.119 L2147.9 844.554 L2150.4 844.554 Q2152.16 844.554 2153.13 843.72 Q2154.1 842.887 2155.28 839.785 L2156.04 837.841 L2145.56 812.332 L2150.07 812.332 L2158.17 832.609 L2166.28 812.332 L2170.79 812.332 L2159.4 840.665 Z\" fill=\"#000000\" fill-rule=\"evenodd\" fill-opacity=\"1\" /><path clip-path=\"url(#clip310)\" d=\"M2178.08 834.322 L2185.72 834.322 L2185.72 807.957 L2177.41 809.623 L2177.41 805.364 L2185.67 803.698 L2190.35 803.698 L2190.35 834.322 L2197.99 834.322 L2197.99 838.258 L2178.08 838.258 L2178.08 834.322 Z\" fill=\"#000000\" fill-rule=\"evenodd\" fill-opacity=\"1\" /><path clip-path=\"url(#clip310)\" d=\"M2211.46 834.322 L2227.78 834.322 L2227.78 838.258 L2205.84 838.258 L2205.84 834.322 Q2208.5 831.568 2213.08 826.938 Q2217.69 822.285 2218.87 820.943 Q2221.11 818.42 2221.99 816.684 Q2222.9 814.924 2222.9 813.235 Q2222.9 810.48 2220.95 808.744 Q2219.03 807.008 2215.93 807.008 Q2213.73 807.008 2211.28 807.772 Q2208.85 808.535 2206.07 810.086 L2206.07 805.364 Q2208.89 804.23 2211.35 803.651 Q2213.8 803.073 2215.84 803.073 Q2221.21 803.073 2224.4 805.758 Q2227.6 808.443 2227.6 812.934 Q2227.6 815.063 2226.78 816.985 Q2226 818.883 2223.89 821.475 Q2223.31 822.147 2220.21 825.364 Q2217.11 828.559 2211.46 834.322 Z\" fill=\"#000000\" fill-rule=\"evenodd\" fill-opacity=\"1\" /><polyline clip-path=\"url(#clip310)\" style=\"stroke:#608cf6; stroke-linecap:butt; stroke-linejoin:round; stroke-width:4; stroke-opacity:1; fill:none\" points=\"\n",
       "  1973.51,881.458 2120.98,881.458 \n",
       "  \"/>\n",
       "<path clip-path=\"url(#clip310)\" d=\"M2159.4 901.145 Q2157.6 905.775 2155.88 907.187 Q2154.17 908.599 2151.3 908.599 L2147.9 908.599 L2147.9 905.034 L2150.4 905.034 Q2152.16 905.034 2153.13 904.2 Q2154.1 903.367 2155.28 900.265 L2156.04 898.321 L2145.56 872.812 L2150.07 872.812 L2158.17 893.089 L2166.28 872.812 L2170.79 872.812 L2159.4 901.145 Z\" fill=\"#000000\" fill-rule=\"evenodd\" fill-opacity=\"1\" /><path clip-path=\"url(#clip310)\" d=\"M2178.08 894.802 L2185.72 894.802 L2185.72 868.437 L2177.41 870.103 L2177.41 865.844 L2185.67 864.178 L2190.35 864.178 L2190.35 894.802 L2197.99 894.802 L2197.99 898.738 L2178.08 898.738 L2178.08 894.802 Z\" fill=\"#000000\" fill-rule=\"evenodd\" fill-opacity=\"1\" /><path clip-path=\"url(#clip310)\" d=\"M2221.6 880.103 Q2224.96 880.821 2226.83 883.089 Q2228.73 885.358 2228.73 888.691 Q2228.73 893.807 2225.21 896.608 Q2221.69 899.409 2215.21 899.409 Q2213.04 899.409 2210.72 898.969 Q2208.43 898.552 2205.97 897.696 L2205.97 893.182 Q2207.92 894.316 2210.23 894.895 Q2212.55 895.474 2215.07 895.474 Q2219.47 895.474 2221.76 893.738 Q2224.08 892.001 2224.08 888.691 Q2224.08 885.636 2221.92 883.923 Q2219.79 882.187 2215.97 882.187 L2211.95 882.187 L2211.95 878.344 L2216.16 878.344 Q2219.61 878.344 2221.44 876.978 Q2223.27 875.59 2223.27 872.997 Q2223.27 870.335 2221.37 868.923 Q2219.49 867.488 2215.97 867.488 Q2214.05 867.488 2211.85 867.904 Q2209.66 868.321 2207.02 869.201 L2207.02 865.034 Q2209.68 864.293 2211.99 863.923 Q2214.33 863.553 2216.39 863.553 Q2221.72 863.553 2224.82 865.983 Q2227.92 868.39 2227.92 872.511 Q2227.92 875.381 2226.28 877.372 Q2224.63 879.34 2221.6 880.103 Z\" fill=\"#000000\" fill-rule=\"evenodd\" fill-opacity=\"1\" /><polyline clip-path=\"url(#clip310)\" style=\"stroke:#f05f73; stroke-linecap:butt; stroke-linejoin:round; stroke-width:4; stroke-opacity:1; fill:none\" points=\"\n",
       "  1973.51,941.938 2120.98,941.938 \n",
       "  \"/>\n",
       "<path clip-path=\"url(#clip310)\" d=\"M2159.4 961.625 Q2157.6 966.255 2155.88 967.667 Q2154.17 969.079 2151.3 969.079 L2147.9 969.079 L2147.9 965.514 L2150.4 965.514 Q2152.16 965.514 2153.13 964.68 Q2154.1 963.847 2155.28 960.745 L2156.04 958.801 L2145.56 933.292 L2150.07 933.292 L2158.17 953.569 L2166.28 933.292 L2170.79 933.292 L2159.4 961.625 Z\" fill=\"#000000\" fill-rule=\"evenodd\" fill-opacity=\"1\" /><path clip-path=\"url(#clip310)\" d=\"M2178.08 955.282 L2185.72 955.282 L2185.72 928.917 L2177.41 930.583 L2177.41 926.324 L2185.67 924.658 L2190.35 924.658 L2190.35 955.282 L2197.99 955.282 L2197.99 959.218 L2178.08 959.218 L2178.08 955.282 Z\" fill=\"#000000\" fill-rule=\"evenodd\" fill-opacity=\"1\" /><path clip-path=\"url(#clip310)\" d=\"M2220.28 928.732 L2208.47 947.181 L2220.28 947.181 L2220.28 928.732 M2219.05 924.658 L2224.93 924.658 L2224.93 947.181 L2229.86 947.181 L2229.86 951.069 L2224.93 951.069 L2224.93 959.218 L2220.28 959.218 L2220.28 951.069 L2204.68 951.069 L2204.68 946.556 L2219.05 924.658 Z\" fill=\"#000000\" fill-rule=\"evenodd\" fill-opacity=\"1\" /><polyline clip-path=\"url(#clip310)\" style=\"stroke:#dd64b5; stroke-linecap:butt; stroke-linejoin:round; stroke-width:4; stroke-opacity:1; fill:none\" points=\"\n",
       "  1973.51,1002.42 2120.98,1002.42 \n",
       "  \"/>\n",
       "<path clip-path=\"url(#clip310)\" d=\"M2159.4 1022.1 Q2157.6 1026.73 2155.88 1028.15 Q2154.17 1029.56 2151.3 1029.56 L2147.9 1029.56 L2147.9 1025.99 L2150.4 1025.99 Q2152.16 1025.99 2153.13 1025.16 Q2154.1 1024.33 2155.28 1021.23 L2156.04 1019.28 L2145.56 993.772 L2150.07 993.772 L2158.17 1014.05 L2166.28 993.772 L2170.79 993.772 L2159.4 1022.1 Z\" fill=\"#000000\" fill-rule=\"evenodd\" fill-opacity=\"1\" /><path clip-path=\"url(#clip310)\" d=\"M2178.08 1015.76 L2185.72 1015.76 L2185.72 989.397 L2177.41 991.063 L2177.41 986.804 L2185.67 985.138 L2190.35 985.138 L2190.35 1015.76 L2197.99 1015.76 L2197.99 1019.7 L2178.08 1019.7 L2178.08 1015.76 Z\" fill=\"#000000\" fill-rule=\"evenodd\" fill-opacity=\"1\" /><path clip-path=\"url(#clip310)\" d=\"M2207.48 985.138 L2225.84 985.138 L2225.84 989.073 L2211.76 989.073 L2211.76 997.545 Q2212.78 997.198 2213.8 997.036 Q2214.82 996.85 2215.84 996.85 Q2221.62 996.85 2225 1000.02 Q2228.38 1003.19 2228.38 1008.61 Q2228.38 1014.19 2224.91 1017.29 Q2221.44 1020.37 2215.12 1020.37 Q2212.94 1020.37 2210.67 1020 Q2208.43 1019.63 2206.02 1018.89 L2206.02 1014.19 Q2208.1 1015.32 2210.33 1015.88 Q2212.55 1016.43 2215.03 1016.43 Q2219.03 1016.43 2221.37 1014.33 Q2223.71 1012.22 2223.71 1008.61 Q2223.71 1005 2221.37 1002.89 Q2219.03 1000.79 2215.03 1000.79 Q2213.15 1000.79 2211.28 1001.2 Q2209.42 1001.62 2207.48 1002.5 L2207.48 985.138 Z\" fill=\"#000000\" fill-rule=\"evenodd\" fill-opacity=\"1\" /><polyline clip-path=\"url(#clip310)\" style=\"stroke:#6b9e32; stroke-linecap:butt; stroke-linejoin:round; stroke-width:4; stroke-opacity:1; fill:none\" points=\"\n",
       "  1973.51,1062.9 2120.98,1062.9 \n",
       "  \"/>\n",
       "<path clip-path=\"url(#clip310)\" d=\"M2159.4 1082.58 Q2157.6 1087.21 2155.88 1088.63 Q2154.17 1090.04 2151.3 1090.04 L2147.9 1090.04 L2147.9 1086.47 L2150.4 1086.47 Q2152.16 1086.47 2153.13 1085.64 Q2154.1 1084.81 2155.28 1081.71 L2156.04 1079.76 L2145.56 1054.25 L2150.07 1054.25 L2158.17 1074.53 L2166.28 1054.25 L2170.79 1054.25 L2159.4 1082.58 Z\" fill=\"#000000\" fill-rule=\"evenodd\" fill-opacity=\"1\" /><path clip-path=\"url(#clip310)\" d=\"M2178.08 1076.24 L2185.72 1076.24 L2185.72 1049.88 L2177.41 1051.54 L2177.41 1047.28 L2185.67 1045.62 L2190.35 1045.62 L2190.35 1076.24 L2197.99 1076.24 L2197.99 1080.18 L2178.08 1080.18 L2178.08 1076.24 Z\" fill=\"#000000\" fill-rule=\"evenodd\" fill-opacity=\"1\" /><path clip-path=\"url(#clip310)\" d=\"M2218.01 1061.03 Q2214.86 1061.03 2213.01 1063.19 Q2211.18 1065.34 2211.18 1069.09 Q2211.18 1072.82 2213.01 1074.99 Q2214.86 1077.15 2218.01 1077.15 Q2221.16 1077.15 2222.99 1074.99 Q2224.84 1072.82 2224.84 1069.09 Q2224.84 1065.34 2222.99 1063.19 Q2221.16 1061.03 2218.01 1061.03 M2227.29 1046.38 L2227.29 1050.64 Q2225.53 1049.81 2223.73 1049.37 Q2221.95 1048.93 2220.19 1048.93 Q2215.56 1048.93 2213.1 1052.05 Q2210.67 1055.18 2210.33 1061.5 Q2211.69 1059.48 2213.75 1058.42 Q2215.81 1057.33 2218.29 1057.33 Q2223.5 1057.33 2226.51 1060.5 Q2229.54 1063.65 2229.54 1069.09 Q2229.54 1074.41 2226.39 1077.63 Q2223.24 1080.85 2218.01 1080.85 Q2212.02 1080.85 2208.85 1076.27 Q2205.67 1071.66 2205.67 1062.93 Q2205.67 1054.74 2209.56 1049.88 Q2213.45 1044.99 2220 1044.99 Q2221.76 1044.99 2223.54 1045.34 Q2225.35 1045.69 2227.29 1046.38 Z\" fill=\"#000000\" fill-rule=\"evenodd\" fill-opacity=\"1\" /><polyline clip-path=\"url(#clip310)\" style=\"stroke:#009af9; stroke-linecap:butt; stroke-linejoin:round; stroke-width:4; stroke-opacity:1; fill:none\" points=\"\n",
       "  1973.51,1123.38 2120.98,1123.38 \n",
       "  \"/>\n",
       "<path clip-path=\"url(#clip310)\" d=\"M2159.4 1143.06 Q2157.6 1147.69 2155.88 1149.11 Q2154.17 1150.52 2151.3 1150.52 L2147.9 1150.52 L2147.9 1146.95 L2150.4 1146.95 Q2152.16 1146.95 2153.13 1146.12 Q2154.1 1145.29 2155.28 1142.19 L2156.04 1140.24 L2145.56 1114.73 L2150.07 1114.73 L2158.17 1135.01 L2166.28 1114.73 L2170.79 1114.73 L2159.4 1143.06 Z\" fill=\"#000000\" fill-rule=\"evenodd\" fill-opacity=\"1\" /><path clip-path=\"url(#clip310)\" d=\"M2178.08 1136.72 L2185.72 1136.72 L2185.72 1110.36 L2177.41 1112.02 L2177.41 1107.76 L2185.67 1106.1 L2190.35 1106.1 L2190.35 1136.72 L2197.99 1136.72 L2197.99 1140.66 L2178.08 1140.66 L2178.08 1136.72 Z\" fill=\"#000000\" fill-rule=\"evenodd\" fill-opacity=\"1\" /><path clip-path=\"url(#clip310)\" d=\"M2206.25 1106.1 L2228.47 1106.1 L2228.47 1108.09 L2215.93 1140.66 L2211.04 1140.66 L2222.85 1110.03 L2206.25 1110.03 L2206.25 1106.1 Z\" fill=\"#000000\" fill-rule=\"evenodd\" fill-opacity=\"1\" /><polyline clip-path=\"url(#clip310)\" style=\"stroke:#e26f46; stroke-linecap:butt; stroke-linejoin:round; stroke-width:4; stroke-opacity:1; fill:none\" points=\"\n",
       "  1973.51,1183.86 2120.98,1183.86 \n",
       "  \"/>\n",
       "<path clip-path=\"url(#clip310)\" d=\"M2159.4 1203.54 Q2157.6 1208.17 2155.88 1209.59 Q2154.17 1211 2151.3 1211 L2147.9 1211 L2147.9 1207.43 L2150.4 1207.43 Q2152.16 1207.43 2153.13 1206.6 Q2154.1 1205.77 2155.28 1202.67 L2156.04 1200.72 L2145.56 1175.21 L2150.07 1175.21 L2158.17 1195.49 L2166.28 1175.21 L2170.79 1175.21 L2159.4 1203.54 Z\" fill=\"#000000\" fill-rule=\"evenodd\" fill-opacity=\"1\" /><path clip-path=\"url(#clip310)\" d=\"M2178.08 1197.2 L2185.72 1197.2 L2185.72 1170.84 L2177.41 1172.5 L2177.41 1168.24 L2185.67 1166.58 L2190.35 1166.58 L2190.35 1197.2 L2197.99 1197.2 L2197.99 1201.14 L2178.08 1201.14 L2178.08 1197.2 Z\" fill=\"#000000\" fill-rule=\"evenodd\" fill-opacity=\"1\" /><path clip-path=\"url(#clip310)\" d=\"M2217.43 1184.73 Q2214.1 1184.73 2212.18 1186.51 Q2210.28 1188.29 2210.28 1191.42 Q2210.28 1194.54 2212.18 1196.32 Q2214.1 1198.11 2217.43 1198.11 Q2220.77 1198.11 2222.69 1196.32 Q2224.61 1194.52 2224.61 1191.42 Q2224.61 1188.29 2222.69 1186.51 Q2220.79 1184.73 2217.43 1184.73 M2212.76 1182.73 Q2209.75 1181.99 2208.06 1179.93 Q2206.39 1177.87 2206.39 1174.91 Q2206.39 1170.77 2209.33 1168.36 Q2212.29 1165.95 2217.43 1165.95 Q2222.6 1165.95 2225.53 1168.36 Q2228.47 1170.77 2228.47 1174.91 Q2228.47 1177.87 2226.78 1179.93 Q2225.12 1181.99 2222.13 1182.73 Q2225.51 1183.52 2227.39 1185.81 Q2229.28 1188.11 2229.28 1191.42 Q2229.28 1196.44 2226.21 1199.12 Q2223.15 1201.81 2217.43 1201.81 Q2211.72 1201.81 2208.64 1199.12 Q2205.58 1196.44 2205.58 1191.42 Q2205.58 1188.11 2207.48 1185.81 Q2209.38 1183.52 2212.76 1182.73 M2211.04 1175.35 Q2211.04 1178.04 2212.71 1179.54 Q2214.4 1181.05 2217.43 1181.05 Q2220.44 1181.05 2222.13 1179.54 Q2223.85 1178.04 2223.85 1175.35 Q2223.85 1172.67 2222.13 1171.16 Q2220.44 1169.66 2217.43 1169.66 Q2214.4 1169.66 2212.71 1171.16 Q2211.04 1172.67 2211.04 1175.35 Z\" fill=\"#000000\" fill-rule=\"evenodd\" fill-opacity=\"1\" /><polyline clip-path=\"url(#clip310)\" style=\"stroke:#3da44d; stroke-linecap:butt; stroke-linejoin:round; stroke-width:4; stroke-opacity:1; fill:none\" points=\"\n",
       "  1973.51,1244.34 2120.98,1244.34 \n",
       "  \"/>\n",
       "<path clip-path=\"url(#clip310)\" d=\"M2159.4 1264.02 Q2157.6 1268.65 2155.88 1270.07 Q2154.17 1271.48 2151.3 1271.48 L2147.9 1271.48 L2147.9 1267.91 L2150.4 1267.91 Q2152.16 1267.91 2153.13 1267.08 Q2154.1 1266.25 2155.28 1263.15 L2156.04 1261.2 L2145.56 1235.69 L2150.07 1235.69 L2158.17 1255.97 L2166.28 1235.69 L2170.79 1235.69 L2159.4 1264.02 Z\" fill=\"#000000\" fill-rule=\"evenodd\" fill-opacity=\"1\" /><path clip-path=\"url(#clip310)\" d=\"M2178.08 1257.68 L2185.72 1257.68 L2185.72 1231.32 L2177.41 1232.98 L2177.41 1228.72 L2185.67 1227.06 L2190.35 1227.06 L2190.35 1257.68 L2197.99 1257.68 L2197.99 1261.62 L2178.08 1261.62 L2178.08 1257.68 Z\" fill=\"#000000\" fill-rule=\"evenodd\" fill-opacity=\"1\" /><path clip-path=\"url(#clip310)\" d=\"M2207.57 1260.9 L2207.57 1256.64 Q2209.33 1257.47 2211.14 1257.91 Q2212.94 1258.35 2214.68 1258.35 Q2219.31 1258.35 2221.74 1255.25 Q2224.19 1252.13 2224.54 1245.78 Q2223.2 1247.78 2221.14 1248.84 Q2219.08 1249.9 2216.58 1249.9 Q2211.39 1249.9 2208.36 1246.78 Q2205.35 1243.63 2205.35 1238.19 Q2205.35 1232.87 2208.5 1229.65 Q2211.65 1226.43 2216.88 1226.43 Q2222.87 1226.43 2226.02 1231.04 Q2229.19 1235.62 2229.19 1244.37 Q2229.19 1252.54 2225.3 1257.43 Q2221.44 1262.29 2214.89 1262.29 Q2213.13 1262.29 2211.32 1261.94 Q2209.52 1261.59 2207.57 1260.9 M2216.88 1246.25 Q2220.03 1246.25 2221.85 1244.09 Q2223.71 1241.94 2223.71 1238.19 Q2223.71 1234.46 2221.85 1232.31 Q2220.03 1230.14 2216.88 1230.14 Q2213.73 1230.14 2211.88 1232.31 Q2210.05 1234.46 2210.05 1238.19 Q2210.05 1241.94 2211.88 1244.09 Q2213.73 1246.25 2216.88 1246.25 Z\" fill=\"#000000\" fill-rule=\"evenodd\" fill-opacity=\"1\" /><polyline clip-path=\"url(#clip310)\" style=\"stroke:#c271d2; stroke-linecap:butt; stroke-linejoin:round; stroke-width:4; stroke-opacity:1; fill:none\" points=\"\n",
       "  1973.51,1304.82 2120.98,1304.82 \n",
       "  \"/>\n",
       "<path clip-path=\"url(#clip310)\" d=\"M2159.4 1324.5 Q2157.6 1329.13 2155.88 1330.55 Q2154.17 1331.96 2151.3 1331.96 L2147.9 1331.96 L2147.9 1328.39 L2150.4 1328.39 Q2152.16 1328.39 2153.13 1327.56 Q2154.1 1326.73 2155.28 1323.63 L2156.04 1321.68 L2145.56 1296.17 L2150.07 1296.17 L2158.17 1316.45 L2166.28 1296.17 L2170.79 1296.17 L2159.4 1324.5 Z\" fill=\"#000000\" fill-rule=\"evenodd\" fill-opacity=\"1\" /><path clip-path=\"url(#clip310)\" d=\"M2181.3 1318.16 L2197.62 1318.16 L2197.62 1322.1 L2175.67 1322.1 L2175.67 1318.16 Q2178.34 1315.41 2182.92 1310.78 Q2187.53 1306.13 2188.71 1304.78 Q2190.95 1302.26 2191.83 1300.52 Q2192.73 1298.76 2192.73 1297.07 Q2192.73 1294.32 2190.79 1292.58 Q2188.87 1290.85 2185.77 1290.85 Q2183.57 1290.85 2181.11 1291.61 Q2178.68 1292.38 2175.91 1293.93 L2175.91 1289.2 Q2178.73 1288.07 2181.18 1287.49 Q2183.64 1286.91 2185.67 1286.91 Q2191.04 1286.91 2194.24 1289.6 Q2197.43 1292.28 2197.43 1296.77 Q2197.43 1298.9 2196.62 1300.82 Q2195.84 1302.72 2193.73 1305.32 Q2193.15 1305.99 2190.05 1309.2 Q2186.95 1312.4 2181.3 1318.16 Z\" fill=\"#000000\" fill-rule=\"evenodd\" fill-opacity=\"1\" /><path clip-path=\"url(#clip310)\" d=\"M2217.43 1290.62 Q2213.82 1290.62 2211.99 1294.18 Q2210.19 1297.72 2210.19 1304.85 Q2210.19 1311.96 2211.99 1315.52 Q2213.82 1319.07 2217.43 1319.07 Q2221.07 1319.07 2222.87 1315.52 Q2224.7 1311.96 2224.7 1304.85 Q2224.7 1297.72 2222.87 1294.18 Q2221.07 1290.62 2217.43 1290.62 M2217.43 1286.91 Q2223.24 1286.91 2226.3 1291.52 Q2229.38 1296.1 2229.38 1304.85 Q2229.38 1313.58 2226.3 1318.19 Q2223.24 1322.77 2217.43 1322.77 Q2211.62 1322.77 2208.54 1318.19 Q2205.49 1313.58 2205.49 1304.85 Q2205.49 1296.1 2208.54 1291.52 Q2211.62 1286.91 2217.43 1286.91 Z\" fill=\"#000000\" fill-rule=\"evenodd\" fill-opacity=\"1\" /><polyline clip-path=\"url(#clip310)\" style=\"stroke:#ac8d18; stroke-linecap:butt; stroke-linejoin:round; stroke-width:4; stroke-opacity:1; fill:none\" points=\"\n",
       "  1973.51,1365.3 2120.98,1365.3 \n",
       "  \"/>\n",
       "<path clip-path=\"url(#clip310)\" d=\"M2159.4 1384.98 Q2157.6 1389.61 2155.88 1391.03 Q2154.17 1392.44 2151.3 1392.44 L2147.9 1392.44 L2147.9 1388.87 L2150.4 1388.87 Q2152.16 1388.87 2153.13 1388.04 Q2154.1 1387.21 2155.28 1384.11 L2156.04 1382.16 L2145.56 1356.65 L2150.07 1356.65 L2158.17 1376.93 L2166.28 1356.65 L2170.79 1356.65 L2159.4 1384.98 Z\" fill=\"#000000\" fill-rule=\"evenodd\" fill-opacity=\"1\" /><path clip-path=\"url(#clip310)\" d=\"M2181.3 1378.64 L2197.62 1378.64 L2197.62 1382.58 L2175.67 1382.58 L2175.67 1378.64 Q2178.34 1375.89 2182.92 1371.26 Q2187.53 1366.61 2188.71 1365.26 Q2190.95 1362.74 2191.83 1361 Q2192.73 1359.24 2192.73 1357.55 Q2192.73 1354.8 2190.79 1353.06 Q2188.87 1351.33 2185.77 1351.33 Q2183.57 1351.33 2181.11 1352.09 Q2178.68 1352.86 2175.91 1354.41 L2175.91 1349.68 Q2178.73 1348.55 2181.18 1347.97 Q2183.64 1347.39 2185.67 1347.39 Q2191.04 1347.39 2194.24 1350.08 Q2197.43 1352.76 2197.43 1357.25 Q2197.43 1359.38 2196.62 1361.3 Q2195.84 1363.2 2193.73 1365.8 Q2193.15 1366.47 2190.05 1369.68 Q2186.95 1372.88 2181.3 1378.64 Z\" fill=\"#000000\" fill-rule=\"evenodd\" fill-opacity=\"1\" /><path clip-path=\"url(#clip310)\" d=\"M2208.24 1378.64 L2215.88 1378.64 L2215.88 1352.28 L2207.57 1353.94 L2207.57 1349.68 L2215.84 1348.02 L2220.51 1348.02 L2220.51 1378.64 L2228.15 1378.64 L2228.15 1382.58 L2208.24 1382.58 L2208.24 1378.64 Z\" fill=\"#000000\" fill-rule=\"evenodd\" fill-opacity=\"1\" /><polyline clip-path=\"url(#clip310)\" style=\"stroke:#00a9ad; stroke-linecap:butt; stroke-linejoin:round; stroke-width:4; stroke-opacity:1; fill:none\" points=\"\n",
       "  1973.51,1425.78 2120.98,1425.78 \n",
       "  \"/>\n",
       "<path clip-path=\"url(#clip310)\" d=\"M2159.4 1445.46 Q2157.6 1450.09 2155.88 1451.51 Q2154.17 1452.92 2151.3 1452.92 L2147.9 1452.92 L2147.9 1449.35 L2150.4 1449.35 Q2152.16 1449.35 2153.13 1448.52 Q2154.1 1447.69 2155.28 1444.59 L2156.04 1442.64 L2145.56 1417.13 L2150.07 1417.13 L2158.17 1437.41 L2166.28 1417.13 L2170.79 1417.13 L2159.4 1445.46 Z\" fill=\"#000000\" fill-rule=\"evenodd\" fill-opacity=\"1\" /><path clip-path=\"url(#clip310)\" d=\"M2181.3 1439.12 L2197.62 1439.12 L2197.62 1443.06 L2175.67 1443.06 L2175.67 1439.12 Q2178.34 1436.37 2182.92 1431.74 Q2187.53 1427.09 2188.71 1425.74 Q2190.95 1423.22 2191.83 1421.48 Q2192.73 1419.72 2192.73 1418.03 Q2192.73 1415.28 2190.79 1413.54 Q2188.87 1411.81 2185.77 1411.81 Q2183.57 1411.81 2181.11 1412.57 Q2178.68 1413.34 2175.91 1414.89 L2175.91 1410.16 Q2178.73 1409.03 2181.18 1408.45 Q2183.64 1407.87 2185.67 1407.87 Q2191.04 1407.87 2194.24 1410.56 Q2197.43 1413.24 2197.43 1417.73 Q2197.43 1419.86 2196.62 1421.78 Q2195.84 1423.68 2193.73 1426.28 Q2193.15 1426.95 2190.05 1430.16 Q2186.95 1433.36 2181.3 1439.12 Z\" fill=\"#000000\" fill-rule=\"evenodd\" fill-opacity=\"1\" /><path clip-path=\"url(#clip310)\" d=\"M2211.46 1439.12 L2227.78 1439.12 L2227.78 1443.06 L2205.84 1443.06 L2205.84 1439.12 Q2208.5 1436.37 2213.08 1431.74 Q2217.69 1427.09 2218.87 1425.74 Q2221.11 1423.22 2221.99 1421.48 Q2222.9 1419.72 2222.9 1418.03 Q2222.9 1415.28 2220.95 1413.54 Q2219.03 1411.81 2215.93 1411.81 Q2213.73 1411.81 2211.28 1412.57 Q2208.85 1413.34 2206.07 1414.89 L2206.07 1410.16 Q2208.89 1409.03 2211.35 1408.45 Q2213.8 1407.87 2215.84 1407.87 Q2221.21 1407.87 2224.4 1410.56 Q2227.6 1413.24 2227.6 1417.73 Q2227.6 1419.86 2226.78 1421.78 Q2226 1423.68 2223.89 1426.28 Q2223.31 1426.95 2220.21 1430.16 Q2217.11 1433.36 2211.46 1439.12 Z\" fill=\"#000000\" fill-rule=\"evenodd\" fill-opacity=\"1\" /><polyline clip-path=\"url(#clip310)\" style=\"stroke:#ed5d92; stroke-linecap:butt; stroke-linejoin:round; stroke-width:4; stroke-opacity:1; fill:none\" points=\"\n",
       "  1973.51,1486.26 2120.98,1486.26 \n",
       "  \"/>\n",
       "<path clip-path=\"url(#clip310)\" d=\"M2159.4 1505.94 Q2157.6 1510.57 2155.88 1511.99 Q2154.17 1513.4 2151.3 1513.4 L2147.9 1513.4 L2147.9 1509.83 L2150.4 1509.83 Q2152.16 1509.83 2153.13 1509 Q2154.1 1508.17 2155.28 1505.07 L2156.04 1503.12 L2145.56 1477.61 L2150.07 1477.61 L2158.17 1497.89 L2166.28 1477.61 L2170.79 1477.61 L2159.4 1505.94 Z\" fill=\"#000000\" fill-rule=\"evenodd\" fill-opacity=\"1\" /><path clip-path=\"url(#clip310)\" d=\"M2181.3 1499.6 L2197.62 1499.6 L2197.62 1503.54 L2175.67 1503.54 L2175.67 1499.6 Q2178.34 1496.85 2182.92 1492.22 Q2187.53 1487.57 2188.71 1486.22 Q2190.95 1483.7 2191.83 1481.96 Q2192.73 1480.2 2192.73 1478.51 Q2192.73 1475.76 2190.79 1474.02 Q2188.87 1472.29 2185.77 1472.29 Q2183.57 1472.29 2181.11 1473.05 Q2178.68 1473.82 2175.91 1475.37 L2175.91 1470.64 Q2178.73 1469.51 2181.18 1468.93 Q2183.64 1468.35 2185.67 1468.35 Q2191.04 1468.35 2194.24 1471.04 Q2197.43 1473.72 2197.43 1478.21 Q2197.43 1480.34 2196.62 1482.26 Q2195.84 1484.16 2193.73 1486.76 Q2193.15 1487.43 2190.05 1490.64 Q2186.95 1493.84 2181.3 1499.6 Z\" fill=\"#000000\" fill-rule=\"evenodd\" fill-opacity=\"1\" /><path clip-path=\"url(#clip310)\" d=\"M2221.6 1484.9 Q2224.96 1485.62 2226.83 1487.89 Q2228.73 1490.16 2228.73 1493.49 Q2228.73 1498.61 2225.21 1501.41 Q2221.69 1504.21 2215.21 1504.21 Q2213.04 1504.21 2210.72 1503.77 Q2208.43 1503.35 2205.97 1502.5 L2205.97 1497.98 Q2207.92 1499.12 2210.23 1499.69 Q2212.55 1500.27 2215.07 1500.27 Q2219.47 1500.27 2221.76 1498.54 Q2224.08 1496.8 2224.08 1493.49 Q2224.08 1490.44 2221.92 1488.72 Q2219.79 1486.99 2215.97 1486.99 L2211.95 1486.99 L2211.95 1483.14 L2216.16 1483.14 Q2219.61 1483.14 2221.44 1481.78 Q2223.27 1480.39 2223.27 1477.8 Q2223.27 1475.13 2221.37 1473.72 Q2219.49 1472.29 2215.97 1472.29 Q2214.05 1472.29 2211.85 1472.7 Q2209.66 1473.12 2207.02 1474 L2207.02 1469.83 Q2209.68 1469.09 2211.99 1468.72 Q2214.33 1468.35 2216.39 1468.35 Q2221.72 1468.35 2224.82 1470.78 Q2227.92 1473.19 2227.92 1477.31 Q2227.92 1480.18 2226.28 1482.17 Q2224.63 1484.14 2221.6 1484.9 Z\" fill=\"#000000\" fill-rule=\"evenodd\" fill-opacity=\"1\" /><polyline clip-path=\"url(#clip310)\" style=\"stroke:#c68125; stroke-linecap:butt; stroke-linejoin:round; stroke-width:4; stroke-opacity:1; fill:none\" points=\"\n",
       "  1973.51,1546.74 2120.98,1546.74 \n",
       "  \"/>\n",
       "<path clip-path=\"url(#clip310)\" d=\"M2159.4 1566.42 Q2157.6 1571.05 2155.88 1572.47 Q2154.17 1573.88 2151.3 1573.88 L2147.9 1573.88 L2147.9 1570.31 L2150.4 1570.31 Q2152.16 1570.31 2153.13 1569.48 Q2154.1 1568.65 2155.28 1565.55 L2156.04 1563.6 L2145.56 1538.09 L2150.07 1538.09 L2158.17 1558.37 L2166.28 1538.09 L2170.79 1538.09 L2159.4 1566.42 Z\" fill=\"#000000\" fill-rule=\"evenodd\" fill-opacity=\"1\" /><path clip-path=\"url(#clip310)\" d=\"M2181.3 1560.08 L2197.62 1560.08 L2197.62 1564.02 L2175.67 1564.02 L2175.67 1560.08 Q2178.34 1557.33 2182.92 1552.7 Q2187.53 1548.05 2188.71 1546.7 Q2190.95 1544.18 2191.83 1542.44 Q2192.73 1540.68 2192.73 1538.99 Q2192.73 1536.24 2190.79 1534.5 Q2188.87 1532.77 2185.77 1532.77 Q2183.57 1532.77 2181.11 1533.53 Q2178.68 1534.3 2175.91 1535.85 L2175.91 1531.12 Q2178.73 1529.99 2181.18 1529.41 Q2183.64 1528.83 2185.67 1528.83 Q2191.04 1528.83 2194.24 1531.52 Q2197.43 1534.2 2197.43 1538.69 Q2197.43 1540.82 2196.62 1542.74 Q2195.84 1544.64 2193.73 1547.24 Q2193.15 1547.91 2190.05 1551.12 Q2186.95 1554.32 2181.3 1560.08 Z\" fill=\"#000000\" fill-rule=\"evenodd\" fill-opacity=\"1\" /><path clip-path=\"url(#clip310)\" d=\"M2220.28 1533.53 L2208.47 1551.98 L2220.28 1551.98 L2220.28 1533.53 M2219.05 1529.46 L2224.93 1529.46 L2224.93 1551.98 L2229.86 1551.98 L2229.86 1555.87 L2224.93 1555.87 L2224.93 1564.02 L2220.28 1564.02 L2220.28 1555.87 L2204.68 1555.87 L2204.68 1551.36 L2219.05 1529.46 Z\" fill=\"#000000\" fill-rule=\"evenodd\" fill-opacity=\"1\" /><polyline clip-path=\"url(#clip310)\" style=\"stroke:#00a98d; stroke-linecap:butt; stroke-linejoin:round; stroke-width:4; stroke-opacity:1; fill:none\" points=\"\n",
       "  1973.51,1607.22 2120.98,1607.22 \n",
       "  \"/>\n",
       "<path clip-path=\"url(#clip310)\" d=\"M2159.4 1626.9 Q2157.6 1631.53 2155.88 1632.95 Q2154.17 1634.36 2151.3 1634.36 L2147.9 1634.36 L2147.9 1630.79 L2150.4 1630.79 Q2152.16 1630.79 2153.13 1629.96 Q2154.1 1629.13 2155.28 1626.03 L2156.04 1624.08 L2145.56 1598.57 L2150.07 1598.57 L2158.17 1618.85 L2166.28 1598.57 L2170.79 1598.57 L2159.4 1626.9 Z\" fill=\"#000000\" fill-rule=\"evenodd\" fill-opacity=\"1\" /><path clip-path=\"url(#clip310)\" d=\"M2181.3 1620.56 L2197.62 1620.56 L2197.62 1624.5 L2175.67 1624.5 L2175.67 1620.56 Q2178.34 1617.81 2182.92 1613.18 Q2187.53 1608.53 2188.71 1607.18 Q2190.95 1604.66 2191.83 1602.92 Q2192.73 1601.16 2192.73 1599.47 Q2192.73 1596.72 2190.79 1594.98 Q2188.87 1593.25 2185.77 1593.25 Q2183.57 1593.25 2181.11 1594.01 Q2178.68 1594.78 2175.91 1596.33 L2175.91 1591.6 Q2178.73 1590.47 2181.18 1589.89 Q2183.64 1589.31 2185.67 1589.31 Q2191.04 1589.31 2194.24 1592 Q2197.43 1594.68 2197.43 1599.17 Q2197.43 1601.3 2196.62 1603.22 Q2195.84 1605.12 2193.73 1607.72 Q2193.15 1608.39 2190.05 1611.6 Q2186.95 1614.8 2181.3 1620.56 Z\" fill=\"#000000\" fill-rule=\"evenodd\" fill-opacity=\"1\" /><path clip-path=\"url(#clip310)\" d=\"M2207.48 1589.94 L2225.84 1589.94 L2225.84 1593.87 L2211.76 1593.87 L2211.76 1602.34 Q2212.78 1602 2213.8 1601.84 Q2214.82 1601.65 2215.84 1601.65 Q2221.62 1601.65 2225 1604.82 Q2228.38 1607.99 2228.38 1613.41 Q2228.38 1618.99 2224.91 1622.09 Q2221.44 1625.17 2215.12 1625.17 Q2212.94 1625.17 2210.67 1624.8 Q2208.43 1624.43 2206.02 1623.69 L2206.02 1618.99 Q2208.1 1620.12 2210.33 1620.68 Q2212.55 1621.23 2215.03 1621.23 Q2219.03 1621.23 2221.37 1619.13 Q2223.71 1617.02 2223.71 1613.41 Q2223.71 1609.8 2221.37 1607.69 Q2219.03 1605.59 2215.03 1605.59 Q2213.15 1605.59 2211.28 1606 Q2209.42 1606.42 2207.48 1607.3 L2207.48 1589.94 Z\" fill=\"#000000\" fill-rule=\"evenodd\" fill-opacity=\"1\" /><polyline clip-path=\"url(#clip310)\" style=\"stroke:#8e971d; stroke-linecap:butt; stroke-linejoin:round; stroke-width:4; stroke-opacity:1; fill:none\" points=\"\n",
       "  1973.51,1667.7 2120.98,1667.7 \n",
       "  \"/>\n",
       "<path clip-path=\"url(#clip310)\" d=\"M2159.4 1687.38 Q2157.6 1692.01 2155.88 1693.43 Q2154.17 1694.84 2151.3 1694.84 L2147.9 1694.84 L2147.9 1691.27 L2150.4 1691.27 Q2152.16 1691.27 2153.13 1690.44 Q2154.1 1689.61 2155.28 1686.51 L2156.04 1684.56 L2145.56 1659.05 L2150.07 1659.05 L2158.17 1679.33 L2166.28 1659.05 L2170.79 1659.05 L2159.4 1687.38 Z\" fill=\"#000000\" fill-rule=\"evenodd\" fill-opacity=\"1\" /><path clip-path=\"url(#clip310)\" d=\"M2181.3 1681.04 L2197.62 1681.04 L2197.62 1684.98 L2175.67 1684.98 L2175.67 1681.04 Q2178.34 1678.29 2182.92 1673.66 Q2187.53 1669.01 2188.71 1667.66 Q2190.95 1665.14 2191.83 1663.4 Q2192.73 1661.64 2192.73 1659.95 Q2192.73 1657.2 2190.79 1655.46 Q2188.87 1653.73 2185.77 1653.73 Q2183.57 1653.73 2181.11 1654.49 Q2178.68 1655.26 2175.91 1656.81 L2175.91 1652.08 Q2178.73 1650.95 2181.18 1650.37 Q2183.64 1649.79 2185.67 1649.79 Q2191.04 1649.79 2194.24 1652.48 Q2197.43 1655.16 2197.43 1659.65 Q2197.43 1661.78 2196.62 1663.7 Q2195.84 1665.6 2193.73 1668.2 Q2193.15 1668.87 2190.05 1672.08 Q2186.95 1675.28 2181.3 1681.04 Z\" fill=\"#000000\" fill-rule=\"evenodd\" fill-opacity=\"1\" /><path clip-path=\"url(#clip310)\" d=\"M2218.01 1665.83 Q2214.86 1665.83 2213.01 1667.99 Q2211.18 1670.14 2211.18 1673.89 Q2211.18 1677.62 2213.01 1679.79 Q2214.86 1681.95 2218.01 1681.95 Q2221.16 1681.95 2222.99 1679.79 Q2224.84 1677.62 2224.84 1673.89 Q2224.84 1670.14 2222.99 1667.99 Q2221.16 1665.83 2218.01 1665.83 M2227.29 1651.18 L2227.29 1655.44 Q2225.53 1654.61 2223.73 1654.17 Q2221.95 1653.73 2220.19 1653.73 Q2215.56 1653.73 2213.1 1656.85 Q2210.67 1659.98 2210.33 1666.3 Q2211.69 1664.28 2213.75 1663.22 Q2215.81 1662.13 2218.29 1662.13 Q2223.5 1662.13 2226.51 1665.3 Q2229.54 1668.45 2229.54 1673.89 Q2229.54 1679.21 2226.39 1682.43 Q2223.24 1685.65 2218.01 1685.65 Q2212.02 1685.65 2208.85 1681.07 Q2205.67 1676.46 2205.67 1667.73 Q2205.67 1659.54 2209.56 1654.68 Q2213.45 1649.79 2220 1649.79 Q2221.76 1649.79 2223.54 1650.14 Q2225.35 1650.49 2227.29 1651.18 Z\" fill=\"#000000\" fill-rule=\"evenodd\" fill-opacity=\"1\" /><polyline clip-path=\"url(#clip310)\" style=\"stroke:#00a8cb; stroke-linecap:butt; stroke-linejoin:round; stroke-width:4; stroke-opacity:1; fill:none\" points=\"\n",
       "  1973.51,1728.18 2120.98,1728.18 \n",
       "  \"/>\n",
       "<path clip-path=\"url(#clip310)\" d=\"M2159.4 1747.86 Q2157.6 1752.49 2155.88 1753.91 Q2154.17 1755.32 2151.3 1755.32 L2147.9 1755.32 L2147.9 1751.75 L2150.4 1751.75 Q2152.16 1751.75 2153.13 1750.92 Q2154.1 1750.09 2155.28 1746.99 L2156.04 1745.04 L2145.56 1719.53 L2150.07 1719.53 L2158.17 1739.81 L2166.28 1719.53 L2170.79 1719.53 L2159.4 1747.86 Z\" fill=\"#000000\" fill-rule=\"evenodd\" fill-opacity=\"1\" /><path clip-path=\"url(#clip310)\" d=\"M2181.3 1741.52 L2197.62 1741.52 L2197.62 1745.46 L2175.67 1745.46 L2175.67 1741.52 Q2178.34 1738.77 2182.92 1734.14 Q2187.53 1729.49 2188.71 1728.14 Q2190.95 1725.62 2191.83 1723.88 Q2192.73 1722.12 2192.73 1720.43 Q2192.73 1717.68 2190.79 1715.94 Q2188.87 1714.21 2185.77 1714.21 Q2183.57 1714.21 2181.11 1714.97 Q2178.68 1715.74 2175.91 1717.29 L2175.91 1712.56 Q2178.73 1711.43 2181.18 1710.85 Q2183.64 1710.27 2185.67 1710.27 Q2191.04 1710.27 2194.24 1712.96 Q2197.43 1715.64 2197.43 1720.13 Q2197.43 1722.26 2196.62 1724.18 Q2195.84 1726.08 2193.73 1728.68 Q2193.15 1729.35 2190.05 1732.56 Q2186.95 1735.76 2181.3 1741.52 Z\" fill=\"#000000\" fill-rule=\"evenodd\" fill-opacity=\"1\" /><path clip-path=\"url(#clip310)\" d=\"M2206.25 1710.9 L2228.47 1710.9 L2228.47 1712.89 L2215.93 1745.46 L2211.04 1745.46 L2222.85 1714.83 L2206.25 1714.83 L2206.25 1710.9 Z\" fill=\"#000000\" fill-rule=\"evenodd\" fill-opacity=\"1\" /><polyline clip-path=\"url(#clip310)\" style=\"stroke:#9b7fe8; stroke-linecap:butt; stroke-linejoin:round; stroke-width:4; stroke-opacity:1; fill:none\" points=\"\n",
       "  1973.51,1788.66 2120.98,1788.66 \n",
       "  \"/>\n",
       "<path clip-path=\"url(#clip310)\" d=\"M2159.4 1808.34 Q2157.6 1812.97 2155.88 1814.39 Q2154.17 1815.8 2151.3 1815.8 L2147.9 1815.8 L2147.9 1812.23 L2150.4 1812.23 Q2152.16 1812.23 2153.13 1811.4 Q2154.1 1810.57 2155.28 1807.47 L2156.04 1805.52 L2145.56 1780.01 L2150.07 1780.01 L2158.17 1800.29 L2166.28 1780.01 L2170.79 1780.01 L2159.4 1808.34 Z\" fill=\"#000000\" fill-rule=\"evenodd\" fill-opacity=\"1\" /><path clip-path=\"url(#clip310)\" d=\"M2181.3 1802 L2197.62 1802 L2197.62 1805.94 L2175.67 1805.94 L2175.67 1802 Q2178.34 1799.25 2182.92 1794.62 Q2187.53 1789.97 2188.71 1788.62 Q2190.95 1786.1 2191.83 1784.36 Q2192.73 1782.6 2192.73 1780.91 Q2192.73 1778.16 2190.79 1776.42 Q2188.87 1774.69 2185.77 1774.69 Q2183.57 1774.69 2181.11 1775.45 Q2178.68 1776.22 2175.91 1777.77 L2175.91 1773.04 Q2178.73 1771.91 2181.18 1771.33 Q2183.64 1770.75 2185.67 1770.75 Q2191.04 1770.75 2194.24 1773.44 Q2197.43 1776.12 2197.43 1780.61 Q2197.43 1782.74 2196.62 1784.66 Q2195.84 1786.56 2193.73 1789.16 Q2193.15 1789.83 2190.05 1793.04 Q2186.95 1796.24 2181.3 1802 Z\" fill=\"#000000\" fill-rule=\"evenodd\" fill-opacity=\"1\" /><path clip-path=\"url(#clip310)\" d=\"M2217.43 1789.53 Q2214.1 1789.53 2212.18 1791.31 Q2210.28 1793.09 2210.28 1796.22 Q2210.28 1799.34 2212.18 1801.12 Q2214.1 1802.91 2217.43 1802.91 Q2220.77 1802.91 2222.69 1801.12 Q2224.61 1799.32 2224.61 1796.22 Q2224.61 1793.09 2222.69 1791.31 Q2220.79 1789.53 2217.43 1789.53 M2212.76 1787.53 Q2209.75 1786.79 2208.06 1784.73 Q2206.39 1782.67 2206.39 1779.71 Q2206.39 1775.57 2209.33 1773.16 Q2212.29 1770.75 2217.43 1770.75 Q2222.6 1770.75 2225.53 1773.16 Q2228.47 1775.57 2228.47 1779.71 Q2228.47 1782.67 2226.78 1784.73 Q2225.12 1786.79 2222.13 1787.53 Q2225.51 1788.32 2227.39 1790.61 Q2229.28 1792.91 2229.28 1796.22 Q2229.28 1801.24 2226.21 1803.92 Q2223.15 1806.61 2217.43 1806.61 Q2211.72 1806.61 2208.64 1803.92 Q2205.58 1801.24 2205.58 1796.22 Q2205.58 1792.91 2207.48 1790.61 Q2209.38 1788.32 2212.76 1787.53 M2211.04 1780.15 Q2211.04 1782.84 2212.71 1784.34 Q2214.4 1785.85 2217.43 1785.85 Q2220.44 1785.85 2222.13 1784.34 Q2223.85 1782.84 2223.85 1780.15 Q2223.85 1777.47 2222.13 1775.96 Q2220.44 1774.46 2217.43 1774.46 Q2214.4 1774.46 2212.71 1775.96 Q2211.04 1777.47 2211.04 1780.15 Z\" fill=\"#000000\" fill-rule=\"evenodd\" fill-opacity=\"1\" /><polyline clip-path=\"url(#clip310)\" style=\"stroke:#608cf6; stroke-linecap:butt; stroke-linejoin:round; stroke-width:4; stroke-opacity:1; fill:none\" points=\"\n",
       "  1973.51,1849.14 2120.98,1849.14 \n",
       "  \"/>\n",
       "<path clip-path=\"url(#clip310)\" d=\"M2159.4 1868.82 Q2157.6 1873.45 2155.88 1874.87 Q2154.17 1876.28 2151.3 1876.28 L2147.9 1876.28 L2147.9 1872.71 L2150.4 1872.71 Q2152.16 1872.71 2153.13 1871.88 Q2154.1 1871.05 2155.28 1867.95 L2156.04 1866 L2145.56 1840.49 L2150.07 1840.49 L2158.17 1860.77 L2166.28 1840.49 L2170.79 1840.49 L2159.4 1868.82 Z\" fill=\"#000000\" fill-rule=\"evenodd\" fill-opacity=\"1\" /><path clip-path=\"url(#clip310)\" d=\"M2181.3 1862.48 L2197.62 1862.48 L2197.62 1866.42 L2175.67 1866.42 L2175.67 1862.48 Q2178.34 1859.73 2182.92 1855.1 Q2187.53 1850.45 2188.71 1849.1 Q2190.95 1846.58 2191.83 1844.84 Q2192.73 1843.08 2192.73 1841.39 Q2192.73 1838.64 2190.79 1836.9 Q2188.87 1835.17 2185.77 1835.17 Q2183.57 1835.17 2181.11 1835.93 Q2178.68 1836.7 2175.91 1838.25 L2175.91 1833.52 Q2178.73 1832.39 2181.18 1831.81 Q2183.64 1831.23 2185.67 1831.23 Q2191.04 1831.23 2194.24 1833.92 Q2197.43 1836.6 2197.43 1841.09 Q2197.43 1843.22 2196.62 1845.14 Q2195.84 1847.04 2193.73 1849.64 Q2193.15 1850.31 2190.05 1853.52 Q2186.95 1856.72 2181.3 1862.48 Z\" fill=\"#000000\" fill-rule=\"evenodd\" fill-opacity=\"1\" /><path clip-path=\"url(#clip310)\" d=\"M2207.57 1865.7 L2207.57 1861.44 Q2209.33 1862.27 2211.14 1862.71 Q2212.94 1863.15 2214.68 1863.15 Q2219.31 1863.15 2221.74 1860.05 Q2224.19 1856.93 2224.54 1850.58 Q2223.2 1852.58 2221.14 1853.64 Q2219.08 1854.7 2216.58 1854.7 Q2211.39 1854.7 2208.36 1851.58 Q2205.35 1848.43 2205.35 1842.99 Q2205.35 1837.67 2208.5 1834.45 Q2211.65 1831.23 2216.88 1831.23 Q2222.87 1831.23 2226.02 1835.84 Q2229.19 1840.42 2229.19 1849.17 Q2229.19 1857.34 2225.3 1862.23 Q2221.44 1867.09 2214.89 1867.09 Q2213.13 1867.09 2211.32 1866.74 Q2209.52 1866.39 2207.57 1865.7 M2216.88 1851.05 Q2220.03 1851.05 2221.85 1848.89 Q2223.71 1846.74 2223.71 1842.99 Q2223.71 1839.26 2221.85 1837.11 Q2220.03 1834.94 2216.88 1834.94 Q2213.73 1834.94 2211.88 1837.11 Q2210.05 1839.26 2210.05 1842.99 Q2210.05 1846.74 2211.88 1848.89 Q2213.73 1851.05 2216.88 1851.05 Z\" fill=\"#000000\" fill-rule=\"evenodd\" fill-opacity=\"1\" /><polyline clip-path=\"url(#clip310)\" style=\"stroke:#f05f73; stroke-linecap:butt; stroke-linejoin:round; stroke-width:4; stroke-opacity:1; fill:none\" points=\"\n",
       "  1973.51,1909.62 2120.98,1909.62 \n",
       "  \"/>\n",
       "<path clip-path=\"url(#clip310)\" d=\"M2159.4 1929.3 Q2157.6 1933.93 2155.88 1935.35 Q2154.17 1936.76 2151.3 1936.76 L2147.9 1936.76 L2147.9 1933.19 L2150.4 1933.19 Q2152.16 1933.19 2153.13 1932.36 Q2154.1 1931.53 2155.28 1928.43 L2156.04 1926.48 L2145.56 1900.97 L2150.07 1900.97 L2158.17 1921.25 L2166.28 1900.97 L2170.79 1900.97 L2159.4 1929.3 Z\" fill=\"#000000\" fill-rule=\"evenodd\" fill-opacity=\"1\" /><path clip-path=\"url(#clip310)\" d=\"M2191.44 1908.26 Q2194.79 1908.98 2196.67 1911.25 Q2198.57 1913.52 2198.57 1916.85 Q2198.57 1921.97 2195.05 1924.77 Q2191.53 1927.57 2185.05 1927.57 Q2182.87 1927.57 2180.56 1927.13 Q2178.27 1926.71 2175.81 1925.86 L2175.81 1921.34 Q2177.76 1922.48 2180.07 1923.05 Q2182.39 1923.63 2184.91 1923.63 Q2189.31 1923.63 2191.6 1921.9 Q2193.91 1920.16 2193.91 1916.85 Q2193.91 1913.8 2191.76 1912.08 Q2189.63 1910.35 2185.81 1910.35 L2181.79 1910.35 L2181.79 1906.5 L2186 1906.5 Q2189.45 1906.5 2191.28 1905.14 Q2193.1 1903.75 2193.1 1901.16 Q2193.1 1898.49 2191.21 1897.08 Q2189.33 1895.65 2185.81 1895.65 Q2183.89 1895.65 2181.69 1896.06 Q2179.49 1896.48 2176.85 1897.36 L2176.85 1893.19 Q2179.52 1892.45 2181.83 1892.08 Q2184.17 1891.71 2186.23 1891.71 Q2191.55 1891.71 2194.66 1894.14 Q2197.76 1896.55 2197.76 1900.67 Q2197.76 1903.54 2196.11 1905.53 Q2194.47 1907.5 2191.44 1908.26 Z\" fill=\"#000000\" fill-rule=\"evenodd\" fill-opacity=\"1\" /><path clip-path=\"url(#clip310)\" d=\"M2217.43 1895.42 Q2213.82 1895.42 2211.99 1898.98 Q2210.19 1902.52 2210.19 1909.65 Q2210.19 1916.76 2211.99 1920.32 Q2213.82 1923.87 2217.43 1923.87 Q2221.07 1923.87 2222.87 1920.32 Q2224.7 1916.76 2224.7 1909.65 Q2224.7 1902.52 2222.87 1898.98 Q2221.07 1895.42 2217.43 1895.42 M2217.43 1891.71 Q2223.24 1891.71 2226.3 1896.32 Q2229.38 1900.9 2229.38 1909.65 Q2229.38 1918.38 2226.3 1922.99 Q2223.24 1927.57 2217.43 1927.57 Q2211.62 1927.57 2208.54 1922.99 Q2205.49 1918.38 2205.49 1909.65 Q2205.49 1900.9 2208.54 1896.32 Q2211.62 1891.71 2217.43 1891.71 Z\" fill=\"#000000\" fill-rule=\"evenodd\" fill-opacity=\"1\" /><polyline clip-path=\"url(#clip310)\" style=\"stroke:#dd64b5; stroke-linecap:butt; stroke-linejoin:round; stroke-width:4; stroke-opacity:1; fill:none\" points=\"\n",
       "  1973.51,1970.1 2120.98,1970.1 \n",
       "  \"/>\n",
       "<path clip-path=\"url(#clip310)\" d=\"M2159.4 1989.78 Q2157.6 1994.41 2155.88 1995.83 Q2154.17 1997.24 2151.3 1997.24 L2147.9 1997.24 L2147.9 1993.67 L2150.4 1993.67 Q2152.16 1993.67 2153.13 1992.84 Q2154.1 1992.01 2155.28 1988.91 L2156.04 1986.96 L2145.56 1961.45 L2150.07 1961.45 L2158.17 1981.73 L2166.28 1961.45 L2170.79 1961.45 L2159.4 1989.78 Z\" fill=\"#000000\" fill-rule=\"evenodd\" fill-opacity=\"1\" /><path clip-path=\"url(#clip310)\" d=\"M2191.44 1968.74 Q2194.79 1969.46 2196.67 1971.73 Q2198.57 1974 2198.57 1977.33 Q2198.57 1982.45 2195.05 1985.25 Q2191.53 1988.05 2185.05 1988.05 Q2182.87 1988.05 2180.56 1987.61 Q2178.27 1987.19 2175.81 1986.34 L2175.81 1981.82 Q2177.76 1982.96 2180.07 1983.53 Q2182.39 1984.11 2184.91 1984.11 Q2189.31 1984.11 2191.6 1982.38 Q2193.91 1980.64 2193.91 1977.33 Q2193.91 1974.28 2191.76 1972.56 Q2189.63 1970.83 2185.81 1970.83 L2181.79 1970.83 L2181.79 1966.98 L2186 1966.98 Q2189.45 1966.98 2191.28 1965.62 Q2193.1 1964.23 2193.1 1961.64 Q2193.1 1958.97 2191.21 1957.56 Q2189.33 1956.13 2185.81 1956.13 Q2183.89 1956.13 2181.69 1956.54 Q2179.49 1956.96 2176.85 1957.84 L2176.85 1953.67 Q2179.52 1952.93 2181.83 1952.56 Q2184.17 1952.19 2186.23 1952.19 Q2191.55 1952.19 2194.66 1954.62 Q2197.76 1957.03 2197.76 1961.15 Q2197.76 1964.02 2196.11 1966.01 Q2194.47 1967.98 2191.44 1968.74 Z\" fill=\"#000000\" fill-rule=\"evenodd\" fill-opacity=\"1\" /><path clip-path=\"url(#clip310)\" d=\"M2208.24 1983.44 L2215.88 1983.44 L2215.88 1957.08 L2207.57 1958.74 L2207.57 1954.48 L2215.84 1952.82 L2220.51 1952.82 L2220.51 1983.44 L2228.15 1983.44 L2228.15 1987.38 L2208.24 1987.38 L2208.24 1983.44 Z\" fill=\"#000000\" fill-rule=\"evenodd\" fill-opacity=\"1\" /><polyline clip-path=\"url(#clip310)\" style=\"stroke:#6b9e32; stroke-linecap:butt; stroke-linejoin:round; stroke-width:4; stroke-opacity:1; fill:none\" points=\"\n",
       "  1973.51,2030.58 2120.98,2030.58 \n",
       "  \"/>\n",
       "<path clip-path=\"url(#clip310)\" d=\"M2159.4 2050.26 Q2157.6 2054.89 2155.88 2056.31 Q2154.17 2057.72 2151.3 2057.72 L2147.9 2057.72 L2147.9 2054.15 L2150.4 2054.15 Q2152.16 2054.15 2153.13 2053.32 Q2154.1 2052.49 2155.28 2049.39 L2156.04 2047.44 L2145.56 2021.93 L2150.07 2021.93 L2158.17 2042.21 L2166.28 2021.93 L2170.79 2021.93 L2159.4 2050.26 Z\" fill=\"#000000\" fill-rule=\"evenodd\" fill-opacity=\"1\" /><path clip-path=\"url(#clip310)\" d=\"M2191.44 2029.22 Q2194.79 2029.94 2196.67 2032.21 Q2198.57 2034.48 2198.57 2037.81 Q2198.57 2042.93 2195.05 2045.73 Q2191.53 2048.53 2185.05 2048.53 Q2182.87 2048.53 2180.56 2048.09 Q2178.27 2047.67 2175.81 2046.82 L2175.81 2042.3 Q2177.76 2043.44 2180.07 2044.01 Q2182.39 2044.59 2184.91 2044.59 Q2189.31 2044.59 2191.6 2042.86 Q2193.91 2041.12 2193.91 2037.81 Q2193.91 2034.76 2191.76 2033.04 Q2189.63 2031.31 2185.81 2031.31 L2181.79 2031.31 L2181.79 2027.46 L2186 2027.46 Q2189.45 2027.46 2191.28 2026.1 Q2193.1 2024.71 2193.1 2022.12 Q2193.1 2019.45 2191.21 2018.04 Q2189.33 2016.61 2185.81 2016.61 Q2183.89 2016.61 2181.69 2017.02 Q2179.49 2017.44 2176.85 2018.32 L2176.85 2014.15 Q2179.52 2013.41 2181.83 2013.04 Q2184.17 2012.67 2186.23 2012.67 Q2191.55 2012.67 2194.66 2015.1 Q2197.76 2017.51 2197.76 2021.63 Q2197.76 2024.5 2196.11 2026.49 Q2194.47 2028.46 2191.44 2029.22 Z\" fill=\"#000000\" fill-rule=\"evenodd\" fill-opacity=\"1\" /><path clip-path=\"url(#clip310)\" d=\"M2211.46 2043.92 L2227.78 2043.92 L2227.78 2047.86 L2205.84 2047.86 L2205.84 2043.92 Q2208.5 2041.17 2213.08 2036.54 Q2217.69 2031.89 2218.87 2030.54 Q2221.11 2028.02 2221.99 2026.28 Q2222.9 2024.52 2222.9 2022.83 Q2222.9 2020.08 2220.95 2018.34 Q2219.03 2016.61 2215.93 2016.61 Q2213.73 2016.61 2211.28 2017.37 Q2208.85 2018.14 2206.07 2019.69 L2206.07 2014.96 Q2208.89 2013.83 2211.35 2013.25 Q2213.8 2012.67 2215.84 2012.67 Q2221.21 2012.67 2224.4 2015.36 Q2227.6 2018.04 2227.6 2022.53 Q2227.6 2024.66 2226.78 2026.58 Q2226 2028.48 2223.89 2031.08 Q2223.31 2031.75 2220.21 2034.96 Q2217.11 2038.16 2211.46 2043.92 Z\" fill=\"#000000\" fill-rule=\"evenodd\" fill-opacity=\"1\" /><polyline clip-path=\"url(#clip310)\" style=\"stroke:#009af9; stroke-linecap:butt; stroke-linejoin:round; stroke-width:4; stroke-opacity:1; fill:none\" points=\"\n",
       "  1973.51,2091.06 2120.98,2091.06 \n",
       "  \"/>\n",
       "<path clip-path=\"url(#clip310)\" d=\"M2159.4 2110.74 Q2157.6 2115.37 2155.88 2116.79 Q2154.17 2118.2 2151.3 2118.2 L2147.9 2118.2 L2147.9 2114.63 L2150.4 2114.63 Q2152.16 2114.63 2153.13 2113.8 Q2154.1 2112.97 2155.28 2109.87 L2156.04 2107.92 L2145.56 2082.41 L2150.07 2082.41 L2158.17 2102.69 L2166.28 2082.41 L2170.79 2082.41 L2159.4 2110.74 Z\" fill=\"#000000\" fill-rule=\"evenodd\" fill-opacity=\"1\" /><path clip-path=\"url(#clip310)\" d=\"M2191.44 2089.7 Q2194.79 2090.42 2196.67 2092.69 Q2198.57 2094.96 2198.57 2098.29 Q2198.57 2103.41 2195.05 2106.21 Q2191.53 2109.01 2185.05 2109.01 Q2182.87 2109.01 2180.56 2108.57 Q2178.27 2108.15 2175.81 2107.3 L2175.81 2102.78 Q2177.76 2103.92 2180.07 2104.49 Q2182.39 2105.07 2184.91 2105.07 Q2189.31 2105.07 2191.6 2103.34 Q2193.91 2101.6 2193.91 2098.29 Q2193.91 2095.24 2191.76 2093.52 Q2189.63 2091.79 2185.81 2091.79 L2181.79 2091.79 L2181.79 2087.94 L2186 2087.94 Q2189.45 2087.94 2191.28 2086.58 Q2193.1 2085.19 2193.1 2082.6 Q2193.1 2079.93 2191.21 2078.52 Q2189.33 2077.09 2185.81 2077.09 Q2183.89 2077.09 2181.69 2077.5 Q2179.49 2077.92 2176.85 2078.8 L2176.85 2074.63 Q2179.52 2073.89 2181.83 2073.52 Q2184.17 2073.15 2186.23 2073.15 Q2191.55 2073.15 2194.66 2075.58 Q2197.76 2077.99 2197.76 2082.11 Q2197.76 2084.98 2196.11 2086.97 Q2194.47 2088.94 2191.44 2089.7 Z\" fill=\"#000000\" fill-rule=\"evenodd\" fill-opacity=\"1\" /><path clip-path=\"url(#clip310)\" d=\"M2221.6 2089.7 Q2224.96 2090.42 2226.83 2092.69 Q2228.73 2094.96 2228.73 2098.29 Q2228.73 2103.41 2225.21 2106.21 Q2221.69 2109.01 2215.21 2109.01 Q2213.04 2109.01 2210.72 2108.57 Q2208.43 2108.15 2205.97 2107.3 L2205.97 2102.78 Q2207.92 2103.92 2210.23 2104.49 Q2212.55 2105.07 2215.07 2105.07 Q2219.47 2105.07 2221.76 2103.34 Q2224.08 2101.6 2224.08 2098.29 Q2224.08 2095.24 2221.92 2093.52 Q2219.79 2091.79 2215.97 2091.79 L2211.95 2091.79 L2211.95 2087.94 L2216.16 2087.94 Q2219.61 2087.94 2221.44 2086.58 Q2223.27 2085.19 2223.27 2082.6 Q2223.27 2079.93 2221.37 2078.52 Q2219.49 2077.09 2215.97 2077.09 Q2214.05 2077.09 2211.85 2077.5 Q2209.66 2077.92 2207.02 2078.8 L2207.02 2074.63 Q2209.68 2073.89 2211.99 2073.52 Q2214.33 2073.15 2216.39 2073.15 Q2221.72 2073.15 2224.82 2075.58 Q2227.92 2077.99 2227.92 2082.11 Q2227.92 2084.98 2226.28 2086.97 Q2224.63 2088.94 2221.6 2089.7 Z\" fill=\"#000000\" fill-rule=\"evenodd\" fill-opacity=\"1\" /><polyline clip-path=\"url(#clip310)\" style=\"stroke:#e26f46; stroke-linecap:butt; stroke-linejoin:round; stroke-width:4; stroke-opacity:1; fill:none\" points=\"\n",
       "  1973.51,2151.54 2120.98,2151.54 \n",
       "  \"/>\n",
       "<path clip-path=\"url(#clip310)\" d=\"M2159.4 2171.22 Q2157.6 2175.85 2155.88 2177.27 Q2154.17 2178.68 2151.3 2178.68 L2147.9 2178.68 L2147.9 2175.11 L2150.4 2175.11 Q2152.16 2175.11 2153.13 2174.28 Q2154.1 2173.45 2155.28 2170.35 L2156.04 2168.4 L2145.56 2142.89 L2150.07 2142.89 L2158.17 2163.17 L2166.28 2142.89 L2170.79 2142.89 L2159.4 2171.22 Z\" fill=\"#000000\" fill-rule=\"evenodd\" fill-opacity=\"1\" /><path clip-path=\"url(#clip310)\" d=\"M2191.44 2150.18 Q2194.79 2150.9 2196.67 2153.17 Q2198.57 2155.44 2198.57 2158.77 Q2198.57 2163.89 2195.05 2166.69 Q2191.53 2169.49 2185.05 2169.49 Q2182.87 2169.49 2180.56 2169.05 Q2178.27 2168.63 2175.81 2167.78 L2175.81 2163.26 Q2177.76 2164.4 2180.07 2164.97 Q2182.39 2165.55 2184.91 2165.55 Q2189.31 2165.55 2191.6 2163.82 Q2193.91 2162.08 2193.91 2158.77 Q2193.91 2155.72 2191.76 2154 Q2189.63 2152.27 2185.81 2152.27 L2181.79 2152.27 L2181.79 2148.42 L2186 2148.42 Q2189.45 2148.42 2191.28 2147.06 Q2193.1 2145.67 2193.1 2143.08 Q2193.1 2140.41 2191.21 2139 Q2189.33 2137.57 2185.81 2137.57 Q2183.89 2137.57 2181.69 2137.98 Q2179.49 2138.4 2176.85 2139.28 L2176.85 2135.11 Q2179.52 2134.37 2181.83 2134 Q2184.17 2133.63 2186.23 2133.63 Q2191.55 2133.63 2194.66 2136.06 Q2197.76 2138.47 2197.76 2142.59 Q2197.76 2145.46 2196.11 2147.45 Q2194.47 2149.42 2191.44 2150.18 Z\" fill=\"#000000\" fill-rule=\"evenodd\" fill-opacity=\"1\" /><path clip-path=\"url(#clip310)\" d=\"M2220.28 2138.33 L2208.47 2156.78 L2220.28 2156.78 L2220.28 2138.33 M2219.05 2134.26 L2224.93 2134.26 L2224.93 2156.78 L2229.86 2156.78 L2229.86 2160.67 L2224.93 2160.67 L2224.93 2168.82 L2220.28 2168.82 L2220.28 2160.67 L2204.68 2160.67 L2204.68 2156.16 L2219.05 2134.26 Z\" fill=\"#000000\" fill-rule=\"evenodd\" fill-opacity=\"1\" /><polyline clip-path=\"url(#clip310)\" style=\"stroke:#3da44d; stroke-linecap:butt; stroke-linejoin:round; stroke-width:4; stroke-opacity:1; fill:none\" points=\"\n",
       "  1973.51,2212.02 2120.98,2212.02 \n",
       "  \"/>\n",
       "<path clip-path=\"url(#clip310)\" d=\"M2159.4 2231.7 Q2157.6 2236.33 2155.88 2237.75 Q2154.17 2239.16 2151.3 2239.16 L2147.9 2239.16 L2147.9 2235.59 L2150.4 2235.59 Q2152.16 2235.59 2153.13 2234.76 Q2154.1 2233.93 2155.28 2230.83 L2156.04 2228.88 L2145.56 2203.37 L2150.07 2203.37 L2158.17 2223.65 L2166.28 2203.37 L2170.79 2203.37 L2159.4 2231.7 Z\" fill=\"#000000\" fill-rule=\"evenodd\" fill-opacity=\"1\" /><path clip-path=\"url(#clip310)\" d=\"M2191.44 2210.66 Q2194.79 2211.38 2196.67 2213.65 Q2198.57 2215.92 2198.57 2219.25 Q2198.57 2224.37 2195.05 2227.17 Q2191.53 2229.97 2185.05 2229.97 Q2182.87 2229.97 2180.56 2229.53 Q2178.27 2229.11 2175.81 2228.26 L2175.81 2223.74 Q2177.76 2224.88 2180.07 2225.45 Q2182.39 2226.03 2184.91 2226.03 Q2189.31 2226.03 2191.6 2224.3 Q2193.91 2222.56 2193.91 2219.25 Q2193.91 2216.2 2191.76 2214.48 Q2189.63 2212.75 2185.81 2212.75 L2181.79 2212.75 L2181.79 2208.9 L2186 2208.9 Q2189.45 2208.9 2191.28 2207.54 Q2193.1 2206.15 2193.1 2203.56 Q2193.1 2200.89 2191.21 2199.48 Q2189.33 2198.05 2185.81 2198.05 Q2183.89 2198.05 2181.69 2198.46 Q2179.49 2198.88 2176.85 2199.76 L2176.85 2195.59 Q2179.52 2194.85 2181.83 2194.48 Q2184.17 2194.11 2186.23 2194.11 Q2191.55 2194.11 2194.66 2196.54 Q2197.76 2198.95 2197.76 2203.07 Q2197.76 2205.94 2196.11 2207.93 Q2194.47 2209.9 2191.44 2210.66 Z\" fill=\"#000000\" fill-rule=\"evenodd\" fill-opacity=\"1\" /><path clip-path=\"url(#clip310)\" d=\"M2207.48 2194.74 L2225.84 2194.74 L2225.84 2198.67 L2211.76 2198.67 L2211.76 2207.14 Q2212.78 2206.8 2213.8 2206.64 Q2214.82 2206.45 2215.84 2206.45 Q2221.62 2206.45 2225 2209.62 Q2228.38 2212.79 2228.38 2218.21 Q2228.38 2223.79 2224.91 2226.89 Q2221.44 2229.97 2215.12 2229.97 Q2212.94 2229.97 2210.67 2229.6 Q2208.43 2229.23 2206.02 2228.49 L2206.02 2223.79 Q2208.1 2224.92 2210.33 2225.48 Q2212.55 2226.03 2215.03 2226.03 Q2219.03 2226.03 2221.37 2223.93 Q2223.71 2221.82 2223.71 2218.21 Q2223.71 2214.6 2221.37 2212.49 Q2219.03 2210.39 2215.03 2210.39 Q2213.15 2210.39 2211.28 2210.8 Q2209.42 2211.22 2207.48 2212.1 L2207.48 2194.74 Z\" fill=\"#000000\" fill-rule=\"evenodd\" fill-opacity=\"1\" /><polyline clip-path=\"url(#clip310)\" style=\"stroke:#c271d2; stroke-linecap:butt; stroke-linejoin:round; stroke-width:4; stroke-opacity:1; fill:none\" points=\"\n",
       "  1973.51,2272.5 2120.98,2272.5 \n",
       "  \"/>\n",
       "<path clip-path=\"url(#clip310)\" d=\"M2159.4 2292.18 Q2157.6 2296.81 2155.88 2298.23 Q2154.17 2299.64 2151.3 2299.64 L2147.9 2299.64 L2147.9 2296.07 L2150.4 2296.07 Q2152.16 2296.07 2153.13 2295.24 Q2154.1 2294.41 2155.28 2291.31 L2156.04 2289.36 L2145.56 2263.85 L2150.07 2263.85 L2158.17 2284.13 L2166.28 2263.85 L2170.79 2263.85 L2159.4 2292.18 Z\" fill=\"#000000\" fill-rule=\"evenodd\" fill-opacity=\"1\" /><path clip-path=\"url(#clip310)\" d=\"M2191.44 2271.14 Q2194.79 2271.86 2196.67 2274.13 Q2198.57 2276.4 2198.57 2279.73 Q2198.57 2284.85 2195.05 2287.65 Q2191.53 2290.45 2185.05 2290.45 Q2182.87 2290.45 2180.56 2290.01 Q2178.27 2289.59 2175.81 2288.74 L2175.81 2284.22 Q2177.76 2285.36 2180.07 2285.93 Q2182.39 2286.51 2184.91 2286.51 Q2189.31 2286.51 2191.6 2284.78 Q2193.91 2283.04 2193.91 2279.73 Q2193.91 2276.68 2191.76 2274.96 Q2189.63 2273.23 2185.81 2273.23 L2181.79 2273.23 L2181.79 2269.38 L2186 2269.38 Q2189.45 2269.38 2191.28 2268.02 Q2193.1 2266.63 2193.1 2264.04 Q2193.1 2261.37 2191.21 2259.96 Q2189.33 2258.53 2185.81 2258.53 Q2183.89 2258.53 2181.69 2258.94 Q2179.49 2259.36 2176.85 2260.24 L2176.85 2256.07 Q2179.52 2255.33 2181.83 2254.96 Q2184.17 2254.59 2186.23 2254.59 Q2191.55 2254.59 2194.66 2257.02 Q2197.76 2259.43 2197.76 2263.55 Q2197.76 2266.42 2196.11 2268.41 Q2194.47 2270.38 2191.44 2271.14 Z\" fill=\"#000000\" fill-rule=\"evenodd\" fill-opacity=\"1\" /><path clip-path=\"url(#clip310)\" d=\"M2218.01 2270.63 Q2214.86 2270.63 2213.01 2272.79 Q2211.18 2274.94 2211.18 2278.69 Q2211.18 2282.42 2213.01 2284.59 Q2214.86 2286.75 2218.01 2286.75 Q2221.16 2286.75 2222.99 2284.59 Q2224.84 2282.42 2224.84 2278.69 Q2224.84 2274.94 2222.99 2272.79 Q2221.16 2270.63 2218.01 2270.63 M2227.29 2255.98 L2227.29 2260.24 Q2225.53 2259.41 2223.73 2258.97 Q2221.95 2258.53 2220.19 2258.53 Q2215.56 2258.53 2213.1 2261.65 Q2210.67 2264.78 2210.33 2271.1 Q2211.69 2269.08 2213.75 2268.02 Q2215.81 2266.93 2218.29 2266.93 Q2223.5 2266.93 2226.51 2270.1 Q2229.54 2273.25 2229.54 2278.69 Q2229.54 2284.01 2226.39 2287.23 Q2223.24 2290.45 2218.01 2290.45 Q2212.02 2290.45 2208.85 2285.87 Q2205.67 2281.26 2205.67 2272.53 Q2205.67 2264.34 2209.56 2259.48 Q2213.45 2254.59 2220 2254.59 Q2221.76 2254.59 2223.54 2254.94 Q2225.35 2255.29 2227.29 2255.98 Z\" fill=\"#000000\" fill-rule=\"evenodd\" fill-opacity=\"1\" /><polyline clip-path=\"url(#clip310)\" style=\"stroke:#ac8d18; stroke-linecap:butt; stroke-linejoin:round; stroke-width:4; stroke-opacity:1; fill:none\" points=\"\n",
       "  1973.51,2332.98 2120.98,2332.98 \n",
       "  \"/>\n",
       "<path clip-path=\"url(#clip310)\" d=\"M2159.4 2352.66 Q2157.6 2357.29 2155.88 2358.71 Q2154.17 2360.12 2151.3 2360.12 L2147.9 2360.12 L2147.9 2356.55 L2150.4 2356.55 Q2152.16 2356.55 2153.13 2355.72 Q2154.1 2354.89 2155.28 2351.79 L2156.04 2349.84 L2145.56 2324.33 L2150.07 2324.33 L2158.17 2344.61 L2166.28 2324.33 L2170.79 2324.33 L2159.4 2352.66 Z\" fill=\"#000000\" fill-rule=\"evenodd\" fill-opacity=\"1\" /><path clip-path=\"url(#clip310)\" d=\"M2191.44 2331.62 Q2194.79 2332.34 2196.67 2334.61 Q2198.57 2336.88 2198.57 2340.21 Q2198.57 2345.33 2195.05 2348.13 Q2191.53 2350.93 2185.05 2350.93 Q2182.87 2350.93 2180.56 2350.49 Q2178.27 2350.07 2175.81 2349.22 L2175.81 2344.7 Q2177.76 2345.84 2180.07 2346.41 Q2182.39 2346.99 2184.91 2346.99 Q2189.31 2346.99 2191.6 2345.26 Q2193.91 2343.52 2193.91 2340.21 Q2193.91 2337.16 2191.76 2335.44 Q2189.63 2333.71 2185.81 2333.71 L2181.79 2333.71 L2181.79 2329.86 L2186 2329.86 Q2189.45 2329.86 2191.28 2328.5 Q2193.1 2327.11 2193.1 2324.52 Q2193.1 2321.85 2191.21 2320.44 Q2189.33 2319.01 2185.81 2319.01 Q2183.89 2319.01 2181.69 2319.42 Q2179.49 2319.84 2176.85 2320.72 L2176.85 2316.55 Q2179.52 2315.81 2181.83 2315.44 Q2184.17 2315.07 2186.23 2315.07 Q2191.55 2315.07 2194.66 2317.5 Q2197.76 2319.91 2197.76 2324.03 Q2197.76 2326.9 2196.11 2328.89 Q2194.47 2330.86 2191.44 2331.62 Z\" fill=\"#000000\" fill-rule=\"evenodd\" fill-opacity=\"1\" /><path clip-path=\"url(#clip310)\" d=\"M2206.25 2315.7 L2228.47 2315.7 L2228.47 2317.69 L2215.93 2350.26 L2211.04 2350.26 L2222.85 2319.63 L2206.25 2319.63 L2206.25 2315.7 Z\" fill=\"#000000\" fill-rule=\"evenodd\" fill-opacity=\"1\" /><polyline clip-path=\"url(#clip310)\" style=\"stroke:#00a9ad; stroke-linecap:butt; stroke-linejoin:round; stroke-width:4; stroke-opacity:1; fill:none\" points=\"\n",
       "  1973.51,2393.46 2120.98,2393.46 \n",
       "  \"/>\n",
       "<path clip-path=\"url(#clip310)\" d=\"M2159.4 2413.14 Q2157.6 2417.77 2155.88 2419.19 Q2154.17 2420.6 2151.3 2420.6 L2147.9 2420.6 L2147.9 2417.03 L2150.4 2417.03 Q2152.16 2417.03 2153.13 2416.2 Q2154.1 2415.37 2155.28 2412.27 L2156.04 2410.32 L2145.56 2384.81 L2150.07 2384.81 L2158.17 2405.09 L2166.28 2384.81 L2170.79 2384.81 L2159.4 2413.14 Z\" fill=\"#000000\" fill-rule=\"evenodd\" fill-opacity=\"1\" /><path clip-path=\"url(#clip310)\" d=\"M2191.44 2392.1 Q2194.79 2392.82 2196.67 2395.09 Q2198.57 2397.36 2198.57 2400.69 Q2198.57 2405.81 2195.05 2408.61 Q2191.53 2411.41 2185.05 2411.41 Q2182.87 2411.41 2180.56 2410.97 Q2178.27 2410.55 2175.81 2409.7 L2175.81 2405.18 Q2177.76 2406.32 2180.07 2406.89 Q2182.39 2407.47 2184.91 2407.47 Q2189.31 2407.47 2191.6 2405.74 Q2193.91 2404 2193.91 2400.69 Q2193.91 2397.64 2191.76 2395.92 Q2189.63 2394.19 2185.81 2394.19 L2181.79 2394.19 L2181.79 2390.34 L2186 2390.34 Q2189.45 2390.34 2191.28 2388.98 Q2193.1 2387.59 2193.1 2385 Q2193.1 2382.33 2191.21 2380.92 Q2189.33 2379.49 2185.81 2379.49 Q2183.89 2379.49 2181.69 2379.9 Q2179.49 2380.32 2176.85 2381.2 L2176.85 2377.03 Q2179.52 2376.29 2181.83 2375.92 Q2184.17 2375.55 2186.23 2375.55 Q2191.55 2375.55 2194.66 2377.98 Q2197.76 2380.39 2197.76 2384.51 Q2197.76 2387.38 2196.11 2389.37 Q2194.47 2391.34 2191.44 2392.1 Z\" fill=\"#000000\" fill-rule=\"evenodd\" fill-opacity=\"1\" /><path clip-path=\"url(#clip310)\" d=\"M2217.43 2394.33 Q2214.1 2394.33 2212.18 2396.11 Q2210.28 2397.89 2210.28 2401.02 Q2210.28 2404.14 2212.18 2405.92 Q2214.1 2407.71 2217.43 2407.71 Q2220.77 2407.71 2222.69 2405.92 Q2224.61 2404.12 2224.61 2401.02 Q2224.61 2397.89 2222.69 2396.11 Q2220.79 2394.33 2217.43 2394.33 M2212.76 2392.33 Q2209.75 2391.59 2208.06 2389.53 Q2206.39 2387.47 2206.39 2384.51 Q2206.39 2380.37 2209.33 2377.96 Q2212.29 2375.55 2217.43 2375.55 Q2222.6 2375.55 2225.53 2377.96 Q2228.47 2380.37 2228.47 2384.51 Q2228.47 2387.47 2226.78 2389.53 Q2225.12 2391.59 2222.13 2392.33 Q2225.51 2393.12 2227.39 2395.41 Q2229.28 2397.71 2229.28 2401.02 Q2229.28 2406.04 2226.21 2408.72 Q2223.15 2411.41 2217.43 2411.41 Q2211.72 2411.41 2208.64 2408.72 Q2205.58 2406.04 2205.58 2401.02 Q2205.58 2397.71 2207.48 2395.41 Q2209.38 2393.12 2212.76 2392.33 M2211.04 2384.95 Q2211.04 2387.64 2212.71 2389.14 Q2214.4 2390.65 2217.43 2390.65 Q2220.44 2390.65 2222.13 2389.14 Q2223.85 2387.64 2223.85 2384.95 Q2223.85 2382.27 2222.13 2380.76 Q2220.44 2379.26 2217.43 2379.26 Q2214.4 2379.26 2212.71 2380.76 Q2211.04 2382.27 2211.04 2384.95 Z\" fill=\"#000000\" fill-rule=\"evenodd\" fill-opacity=\"1\" /><polyline clip-path=\"url(#clip310)\" style=\"stroke:#ed5d92; stroke-linecap:butt; stroke-linejoin:round; stroke-width:4; stroke-opacity:1; fill:none\" points=\"\n",
       "  1973.51,2453.94 2120.98,2453.94 \n",
       "  \"/>\n",
       "<path clip-path=\"url(#clip310)\" d=\"M2159.4 2473.62 Q2157.6 2478.25 2155.88 2479.67 Q2154.17 2481.08 2151.3 2481.08 L2147.9 2481.08 L2147.9 2477.51 L2150.4 2477.51 Q2152.16 2477.51 2153.13 2476.68 Q2154.1 2475.85 2155.28 2472.75 L2156.04 2470.8 L2145.56 2445.29 L2150.07 2445.29 L2158.17 2465.57 L2166.28 2445.29 L2170.79 2445.29 L2159.4 2473.62 Z\" fill=\"#000000\" fill-rule=\"evenodd\" fill-opacity=\"1\" /><path clip-path=\"url(#clip310)\" d=\"M2191.44 2452.58 Q2194.79 2453.3 2196.67 2455.57 Q2198.57 2457.84 2198.57 2461.17 Q2198.57 2466.29 2195.05 2469.09 Q2191.53 2471.89 2185.05 2471.89 Q2182.87 2471.89 2180.56 2471.45 Q2178.27 2471.03 2175.81 2470.18 L2175.81 2465.66 Q2177.76 2466.8 2180.07 2467.37 Q2182.39 2467.95 2184.91 2467.95 Q2189.31 2467.95 2191.6 2466.22 Q2193.91 2464.48 2193.91 2461.17 Q2193.91 2458.12 2191.76 2456.4 Q2189.63 2454.67 2185.81 2454.67 L2181.79 2454.67 L2181.79 2450.82 L2186 2450.82 Q2189.45 2450.82 2191.28 2449.46 Q2193.1 2448.07 2193.1 2445.48 Q2193.1 2442.81 2191.21 2441.4 Q2189.33 2439.97 2185.81 2439.97 Q2183.89 2439.97 2181.69 2440.38 Q2179.49 2440.8 2176.85 2441.68 L2176.85 2437.51 Q2179.52 2436.77 2181.83 2436.4 Q2184.17 2436.03 2186.23 2436.03 Q2191.55 2436.03 2194.66 2438.46 Q2197.76 2440.87 2197.76 2444.99 Q2197.76 2447.86 2196.11 2449.85 Q2194.47 2451.82 2191.44 2452.58 Z\" fill=\"#000000\" fill-rule=\"evenodd\" fill-opacity=\"1\" /><path clip-path=\"url(#clip310)\" d=\"M2207.57 2470.5 L2207.57 2466.24 Q2209.33 2467.07 2211.14 2467.51 Q2212.94 2467.95 2214.68 2467.95 Q2219.31 2467.95 2221.74 2464.85 Q2224.19 2461.73 2224.54 2455.38 Q2223.2 2457.38 2221.14 2458.44 Q2219.08 2459.5 2216.58 2459.5 Q2211.39 2459.5 2208.36 2456.38 Q2205.35 2453.23 2205.35 2447.79 Q2205.35 2442.47 2208.5 2439.25 Q2211.65 2436.03 2216.88 2436.03 Q2222.87 2436.03 2226.02 2440.64 Q2229.19 2445.22 2229.19 2453.97 Q2229.19 2462.14 2225.3 2467.03 Q2221.44 2471.89 2214.89 2471.89 Q2213.13 2471.89 2211.32 2471.54 Q2209.52 2471.19 2207.57 2470.5 M2216.88 2455.85 Q2220.03 2455.85 2221.85 2453.69 Q2223.71 2451.54 2223.71 2447.79 Q2223.71 2444.06 2221.85 2441.91 Q2220.03 2439.74 2216.88 2439.74 Q2213.73 2439.74 2211.88 2441.91 Q2210.05 2444.06 2210.05 2447.79 Q2210.05 2451.54 2211.88 2453.69 Q2213.73 2455.85 2216.88 2455.85 Z\" fill=\"#000000\" fill-rule=\"evenodd\" fill-opacity=\"1\" /><polyline clip-path=\"url(#clip310)\" style=\"stroke:#c68125; stroke-linecap:butt; stroke-linejoin:round; stroke-width:4; stroke-opacity:1; fill:none\" points=\"\n",
       "  1973.51,2514.42 2120.98,2514.42 \n",
       "  \"/>\n",
       "<path clip-path=\"url(#clip310)\" d=\"M2159.4 2534.1 Q2157.6 2538.73 2155.88 2540.15 Q2154.17 2541.56 2151.3 2541.56 L2147.9 2541.56 L2147.9 2537.99 L2150.4 2537.99 Q2152.16 2537.99 2153.13 2537.16 Q2154.1 2536.33 2155.28 2533.23 L2156.04 2531.28 L2145.56 2505.77 L2150.07 2505.77 L2158.17 2526.05 L2166.28 2505.77 L2170.79 2505.77 L2159.4 2534.1 Z\" fill=\"#000000\" fill-rule=\"evenodd\" fill-opacity=\"1\" /><path clip-path=\"url(#clip310)\" d=\"M2190.12 2501.21 L2178.31 2519.66 L2190.12 2519.66 L2190.12 2501.21 M2188.89 2497.14 L2194.77 2497.14 L2194.77 2519.66 L2199.7 2519.66 L2199.7 2523.55 L2194.77 2523.55 L2194.77 2531.7 L2190.12 2531.7 L2190.12 2523.55 L2174.52 2523.55 L2174.52 2519.04 L2188.89 2497.14 Z\" fill=\"#000000\" fill-rule=\"evenodd\" fill-opacity=\"1\" /><path clip-path=\"url(#clip310)\" d=\"M2217.43 2500.22 Q2213.82 2500.22 2211.99 2503.78 Q2210.19 2507.32 2210.19 2514.45 Q2210.19 2521.56 2211.99 2525.12 Q2213.82 2528.67 2217.43 2528.67 Q2221.07 2528.67 2222.87 2525.12 Q2224.7 2521.56 2224.7 2514.45 Q2224.7 2507.32 2222.87 2503.78 Q2221.07 2500.22 2217.43 2500.22 M2217.43 2496.51 Q2223.24 2496.51 2226.3 2501.12 Q2229.38 2505.7 2229.38 2514.45 Q2229.38 2523.18 2226.3 2527.79 Q2223.24 2532.37 2217.43 2532.37 Q2211.62 2532.37 2208.54 2527.79 Q2205.49 2523.18 2205.49 2514.45 Q2205.49 2505.7 2208.54 2501.12 Q2211.62 2496.51 2217.43 2496.51 Z\" fill=\"#000000\" fill-rule=\"evenodd\" fill-opacity=\"1\" /><polyline clip-path=\"url(#clip310)\" style=\"stroke:#00a98d; stroke-linecap:butt; stroke-linejoin:round; stroke-width:4; stroke-opacity:1; fill:none\" points=\"\n",
       "  1973.51,2574.9 2120.98,2574.9 \n",
       "  \"/>\n",
       "<path clip-path=\"url(#clip310)\" d=\"M2159.4 2594.58 Q2157.6 2599.21 2155.88 2600.63 Q2154.17 2602.04 2151.3 2602.04 L2147.9 2602.04 L2147.9 2598.47 L2150.4 2598.47 Q2152.16 2598.47 2153.13 2597.64 Q2154.1 2596.81 2155.28 2593.71 L2156.04 2591.76 L2145.56 2566.25 L2150.07 2566.25 L2158.17 2586.53 L2166.28 2566.25 L2170.79 2566.25 L2159.4 2594.58 Z\" fill=\"#000000\" fill-rule=\"evenodd\" fill-opacity=\"1\" /><path clip-path=\"url(#clip310)\" d=\"M2190.12 2561.69 L2178.31 2580.14 L2190.12 2580.14 L2190.12 2561.69 M2188.89 2557.62 L2194.77 2557.62 L2194.77 2580.14 L2199.7 2580.14 L2199.7 2584.03 L2194.77 2584.03 L2194.77 2592.18 L2190.12 2592.18 L2190.12 2584.03 L2174.52 2584.03 L2174.52 2579.52 L2188.89 2557.62 Z\" fill=\"#000000\" fill-rule=\"evenodd\" fill-opacity=\"1\" /><path clip-path=\"url(#clip310)\" d=\"M2208.24 2588.24 L2215.88 2588.24 L2215.88 2561.88 L2207.57 2563.54 L2207.57 2559.28 L2215.84 2557.62 L2220.51 2557.62 L2220.51 2588.24 L2228.15 2588.24 L2228.15 2592.18 L2208.24 2592.18 L2208.24 2588.24 Z\" fill=\"#000000\" fill-rule=\"evenodd\" fill-opacity=\"1\" /><polyline clip-path=\"url(#clip310)\" style=\"stroke:#8e971d; stroke-linecap:butt; stroke-linejoin:round; stroke-width:4; stroke-opacity:1; fill:none\" points=\"\n",
       "  1973.51,2635.38 2120.98,2635.38 \n",
       "  \"/>\n",
       "<path clip-path=\"url(#clip310)\" d=\"M2159.4 2655.06 Q2157.6 2659.69 2155.88 2661.11 Q2154.17 2662.52 2151.3 2662.52 L2147.9 2662.52 L2147.9 2658.95 L2150.4 2658.95 Q2152.16 2658.95 2153.13 2658.12 Q2154.1 2657.29 2155.28 2654.19 L2156.04 2652.24 L2145.56 2626.73 L2150.07 2626.73 L2158.17 2647.01 L2166.28 2626.73 L2170.79 2626.73 L2159.4 2655.06 Z\" fill=\"#000000\" fill-rule=\"evenodd\" fill-opacity=\"1\" /><path clip-path=\"url(#clip310)\" d=\"M2190.12 2622.17 L2178.31 2640.62 L2190.12 2640.62 L2190.12 2622.17 M2188.89 2618.1 L2194.77 2618.1 L2194.77 2640.62 L2199.7 2640.62 L2199.7 2644.51 L2194.77 2644.51 L2194.77 2652.66 L2190.12 2652.66 L2190.12 2644.51 L2174.52 2644.51 L2174.52 2640 L2188.89 2618.1 Z\" fill=\"#000000\" fill-rule=\"evenodd\" fill-opacity=\"1\" /><path clip-path=\"url(#clip310)\" d=\"M2211.46 2648.72 L2227.78 2648.72 L2227.78 2652.66 L2205.84 2652.66 L2205.84 2648.72 Q2208.5 2645.97 2213.08 2641.34 Q2217.69 2636.69 2218.87 2635.34 Q2221.11 2632.82 2221.99 2631.08 Q2222.9 2629.32 2222.9 2627.63 Q2222.9 2624.88 2220.95 2623.14 Q2219.03 2621.41 2215.93 2621.41 Q2213.73 2621.41 2211.28 2622.17 Q2208.85 2622.94 2206.07 2624.49 L2206.07 2619.76 Q2208.89 2618.63 2211.35 2618.05 Q2213.8 2617.47 2215.84 2617.47 Q2221.21 2617.47 2224.4 2620.16 Q2227.6 2622.84 2227.6 2627.33 Q2227.6 2629.46 2226.78 2631.38 Q2226 2633.28 2223.89 2635.88 Q2223.31 2636.55 2220.21 2639.76 Q2217.11 2642.96 2211.46 2648.72 Z\" fill=\"#000000\" fill-rule=\"evenodd\" fill-opacity=\"1\" /><polyline clip-path=\"url(#clip310)\" style=\"stroke:#00a8cb; stroke-linecap:butt; stroke-linejoin:round; stroke-width:4; stroke-opacity:1; fill:none\" points=\"\n",
       "  1973.51,2695.86 2120.98,2695.86 \n",
       "  \"/>\n",
       "<path clip-path=\"url(#clip310)\" d=\"M2159.4 2715.54 Q2157.6 2720.17 2155.88 2721.59 Q2154.17 2723 2151.3 2723 L2147.9 2723 L2147.9 2719.43 L2150.4 2719.43 Q2152.16 2719.43 2153.13 2718.6 Q2154.1 2717.77 2155.28 2714.67 L2156.04 2712.72 L2145.56 2687.21 L2150.07 2687.21 L2158.17 2707.49 L2166.28 2687.21 L2170.79 2687.21 L2159.4 2715.54 Z\" fill=\"#000000\" fill-rule=\"evenodd\" fill-opacity=\"1\" /><path clip-path=\"url(#clip310)\" d=\"M2190.12 2682.65 L2178.31 2701.1 L2190.12 2701.1 L2190.12 2682.65 M2188.89 2678.58 L2194.77 2678.58 L2194.77 2701.1 L2199.7 2701.1 L2199.7 2704.99 L2194.77 2704.99 L2194.77 2713.14 L2190.12 2713.14 L2190.12 2704.99 L2174.52 2704.99 L2174.52 2700.48 L2188.89 2678.58 Z\" fill=\"#000000\" fill-rule=\"evenodd\" fill-opacity=\"1\" /><path clip-path=\"url(#clip310)\" d=\"M2221.6 2694.5 Q2224.96 2695.22 2226.83 2697.49 Q2228.73 2699.76 2228.73 2703.09 Q2228.73 2708.21 2225.21 2711.01 Q2221.69 2713.81 2215.21 2713.81 Q2213.04 2713.81 2210.72 2713.37 Q2208.43 2712.95 2205.97 2712.1 L2205.97 2707.58 Q2207.92 2708.72 2210.23 2709.29 Q2212.55 2709.87 2215.07 2709.87 Q2219.47 2709.87 2221.76 2708.14 Q2224.08 2706.4 2224.08 2703.09 Q2224.08 2700.04 2221.92 2698.32 Q2219.79 2696.59 2215.97 2696.59 L2211.95 2696.59 L2211.95 2692.74 L2216.16 2692.74 Q2219.61 2692.74 2221.44 2691.38 Q2223.27 2689.99 2223.27 2687.4 Q2223.27 2684.73 2221.37 2683.32 Q2219.49 2681.89 2215.97 2681.89 Q2214.05 2681.89 2211.85 2682.3 Q2209.66 2682.72 2207.02 2683.6 L2207.02 2679.43 Q2209.68 2678.69 2211.99 2678.32 Q2214.33 2677.95 2216.39 2677.95 Q2221.72 2677.95 2224.82 2680.38 Q2227.92 2682.79 2227.92 2686.91 Q2227.92 2689.78 2226.28 2691.77 Q2224.63 2693.74 2221.6 2694.5 Z\" fill=\"#000000\" fill-rule=\"evenodd\" fill-opacity=\"1\" /><polyline clip-path=\"url(#clip310)\" style=\"stroke:#9b7fe8; stroke-linecap:butt; stroke-linejoin:round; stroke-width:4; stroke-opacity:1; fill:none\" points=\"\n",
       "  1973.51,2756.34 2120.98,2756.34 \n",
       "  \"/>\n",
       "<path clip-path=\"url(#clip310)\" d=\"M2159.4 2776.02 Q2157.6 2780.65 2155.88 2782.07 Q2154.17 2783.48 2151.3 2783.48 L2147.9 2783.48 L2147.9 2779.91 L2150.4 2779.91 Q2152.16 2779.91 2153.13 2779.08 Q2154.1 2778.25 2155.28 2775.15 L2156.04 2773.2 L2145.56 2747.69 L2150.07 2747.69 L2158.17 2767.97 L2166.28 2747.69 L2170.79 2747.69 L2159.4 2776.02 Z\" fill=\"#000000\" fill-rule=\"evenodd\" fill-opacity=\"1\" /><path clip-path=\"url(#clip310)\" d=\"M2190.12 2743.13 L2178.31 2761.58 L2190.12 2761.58 L2190.12 2743.13 M2188.89 2739.06 L2194.77 2739.06 L2194.77 2761.58 L2199.7 2761.58 L2199.7 2765.47 L2194.77 2765.47 L2194.77 2773.62 L2190.12 2773.62 L2190.12 2765.47 L2174.52 2765.47 L2174.52 2760.96 L2188.89 2739.06 Z\" fill=\"#000000\" fill-rule=\"evenodd\" fill-opacity=\"1\" /><path clip-path=\"url(#clip310)\" d=\"M2220.28 2743.13 L2208.47 2761.58 L2220.28 2761.58 L2220.28 2743.13 M2219.05 2739.06 L2224.93 2739.06 L2224.93 2761.58 L2229.86 2761.58 L2229.86 2765.47 L2224.93 2765.47 L2224.93 2773.62 L2220.28 2773.62 L2220.28 2765.47 L2204.68 2765.47 L2204.68 2760.96 L2219.05 2739.06 Z\" fill=\"#000000\" fill-rule=\"evenodd\" fill-opacity=\"1\" /><polyline clip-path=\"url(#clip310)\" style=\"stroke:#608cf6; stroke-linecap:butt; stroke-linejoin:round; stroke-width:4; stroke-opacity:1; fill:none\" points=\"\n",
       "  1973.51,2816.82 2120.98,2816.82 \n",
       "  \"/>\n",
       "<path clip-path=\"url(#clip310)\" d=\"M2159.4 2836.5 Q2157.6 2841.13 2155.88 2842.55 Q2154.17 2843.96 2151.3 2843.96 L2147.9 2843.96 L2147.9 2840.39 L2150.4 2840.39 Q2152.16 2840.39 2153.13 2839.56 Q2154.1 2838.73 2155.28 2835.63 L2156.04 2833.68 L2145.56 2808.17 L2150.07 2808.17 L2158.17 2828.45 L2166.28 2808.17 L2170.79 2808.17 L2159.4 2836.5 Z\" fill=\"#000000\" fill-rule=\"evenodd\" fill-opacity=\"1\" /><path clip-path=\"url(#clip310)\" d=\"M2190.12 2803.61 L2178.31 2822.06 L2190.12 2822.06 L2190.12 2803.61 M2188.89 2799.54 L2194.77 2799.54 L2194.77 2822.06 L2199.7 2822.06 L2199.7 2825.95 L2194.77 2825.95 L2194.77 2834.1 L2190.12 2834.1 L2190.12 2825.95 L2174.52 2825.95 L2174.52 2821.44 L2188.89 2799.54 Z\" fill=\"#000000\" fill-rule=\"evenodd\" fill-opacity=\"1\" /><path clip-path=\"url(#clip310)\" d=\"M2207.48 2799.54 L2225.84 2799.54 L2225.84 2803.47 L2211.76 2803.47 L2211.76 2811.94 Q2212.78 2811.6 2213.8 2811.44 Q2214.82 2811.25 2215.84 2811.25 Q2221.62 2811.25 2225 2814.42 Q2228.38 2817.59 2228.38 2823.01 Q2228.38 2828.59 2224.91 2831.69 Q2221.44 2834.77 2215.12 2834.77 Q2212.94 2834.77 2210.67 2834.4 Q2208.43 2834.03 2206.02 2833.29 L2206.02 2828.59 Q2208.1 2829.72 2210.33 2830.28 Q2212.55 2830.83 2215.03 2830.83 Q2219.03 2830.83 2221.37 2828.73 Q2223.71 2826.62 2223.71 2823.01 Q2223.71 2819.4 2221.37 2817.29 Q2219.03 2815.19 2215.03 2815.19 Q2213.15 2815.19 2211.28 2815.6 Q2209.42 2816.02 2207.48 2816.9 L2207.48 2799.54 Z\" fill=\"#000000\" fill-rule=\"evenodd\" fill-opacity=\"1\" /><polyline clip-path=\"url(#clip310)\" style=\"stroke:#f05f73; stroke-linecap:butt; stroke-linejoin:round; stroke-width:4; stroke-opacity:1; fill:none\" points=\"\n",
       "  1973.51,2877.3 2120.98,2877.3 \n",
       "  \"/>\n",
       "<path clip-path=\"url(#clip310)\" d=\"M2159.4 2896.98 Q2157.6 2901.61 2155.88 2903.03 Q2154.17 2904.44 2151.3 2904.44 L2147.9 2904.44 L2147.9 2900.87 L2150.4 2900.87 Q2152.16 2900.87 2153.13 2900.04 Q2154.1 2899.21 2155.28 2896.11 L2156.04 2894.16 L2145.56 2868.65 L2150.07 2868.65 L2158.17 2888.93 L2166.28 2868.65 L2170.79 2868.65 L2159.4 2896.98 Z\" fill=\"#000000\" fill-rule=\"evenodd\" fill-opacity=\"1\" /><path clip-path=\"url(#clip310)\" d=\"M2190.12 2864.09 L2178.31 2882.54 L2190.12 2882.54 L2190.12 2864.09 M2188.89 2860.02 L2194.77 2860.02 L2194.77 2882.54 L2199.7 2882.54 L2199.7 2886.43 L2194.77 2886.43 L2194.77 2894.58 L2190.12 2894.58 L2190.12 2886.43 L2174.52 2886.43 L2174.52 2881.92 L2188.89 2860.02 Z\" fill=\"#000000\" fill-rule=\"evenodd\" fill-opacity=\"1\" /><path clip-path=\"url(#clip310)\" d=\"M2218.01 2875.43 Q2214.86 2875.43 2213.01 2877.59 Q2211.18 2879.74 2211.18 2883.49 Q2211.18 2887.22 2213.01 2889.39 Q2214.86 2891.55 2218.01 2891.55 Q2221.16 2891.55 2222.99 2889.39 Q2224.84 2887.22 2224.84 2883.49 Q2224.84 2879.74 2222.99 2877.59 Q2221.16 2875.43 2218.01 2875.43 M2227.29 2860.78 L2227.29 2865.04 Q2225.53 2864.21 2223.73 2863.77 Q2221.95 2863.33 2220.19 2863.33 Q2215.56 2863.33 2213.1 2866.45 Q2210.67 2869.58 2210.33 2875.9 Q2211.69 2873.88 2213.75 2872.82 Q2215.81 2871.73 2218.29 2871.73 Q2223.5 2871.73 2226.51 2874.9 Q2229.54 2878.05 2229.54 2883.49 Q2229.54 2888.81 2226.39 2892.03 Q2223.24 2895.25 2218.01 2895.25 Q2212.02 2895.25 2208.85 2890.67 Q2205.67 2886.06 2205.67 2877.33 Q2205.67 2869.14 2209.56 2864.28 Q2213.45 2859.39 2220 2859.39 Q2221.76 2859.39 2223.54 2859.74 Q2225.35 2860.09 2227.29 2860.78 Z\" fill=\"#000000\" fill-rule=\"evenodd\" fill-opacity=\"1\" /><polyline clip-path=\"url(#clip310)\" style=\"stroke:#dd64b5; stroke-linecap:butt; stroke-linejoin:round; stroke-width:4; stroke-opacity:1; fill:none\" points=\"\n",
       "  1973.51,2937.78 2120.98,2937.78 \n",
       "  \"/>\n",
       "<path clip-path=\"url(#clip310)\" d=\"M2159.4 2957.46 Q2157.6 2962.09 2155.88 2963.51 Q2154.17 2964.92 2151.3 2964.92 L2147.9 2964.92 L2147.9 2961.35 L2150.4 2961.35 Q2152.16 2961.35 2153.13 2960.52 Q2154.1 2959.69 2155.28 2956.59 L2156.04 2954.64 L2145.56 2929.13 L2150.07 2929.13 L2158.17 2949.41 L2166.28 2929.13 L2170.79 2929.13 L2159.4 2957.46 Z\" fill=\"#000000\" fill-rule=\"evenodd\" fill-opacity=\"1\" /><path clip-path=\"url(#clip310)\" d=\"M2190.12 2924.57 L2178.31 2943.02 L2190.12 2943.02 L2190.12 2924.57 M2188.89 2920.5 L2194.77 2920.5 L2194.77 2943.02 L2199.7 2943.02 L2199.7 2946.91 L2194.77 2946.91 L2194.77 2955.06 L2190.12 2955.06 L2190.12 2946.91 L2174.52 2946.91 L2174.52 2942.4 L2188.89 2920.5 Z\" fill=\"#000000\" fill-rule=\"evenodd\" fill-opacity=\"1\" /><path clip-path=\"url(#clip310)\" d=\"M2206.25 2920.5 L2228.47 2920.5 L2228.47 2922.49 L2215.93 2955.06 L2211.04 2955.06 L2222.85 2924.43 L2206.25 2924.43 L2206.25 2920.5 Z\" fill=\"#000000\" fill-rule=\"evenodd\" fill-opacity=\"1\" /><polyline clip-path=\"url(#clip310)\" style=\"stroke:#6b9e32; stroke-linecap:butt; stroke-linejoin:round; stroke-width:4; stroke-opacity:1; fill:none\" points=\"\n",
       "  1973.51,2998.26 2120.98,2998.26 \n",
       "  \"/>\n",
       "<path clip-path=\"url(#clip310)\" d=\"M2159.4 3017.94 Q2157.6 3022.57 2155.88 3023.99 Q2154.17 3025.4 2151.3 3025.4 L2147.9 3025.4 L2147.9 3021.83 L2150.4 3021.83 Q2152.16 3021.83 2153.13 3021 Q2154.1 3020.17 2155.28 3017.07 L2156.04 3015.12 L2145.56 2989.61 L2150.07 2989.61 L2158.17 3009.89 L2166.28 2989.61 L2170.79 2989.61 L2159.4 3017.94 Z\" fill=\"#000000\" fill-rule=\"evenodd\" fill-opacity=\"1\" /><path clip-path=\"url(#clip310)\" d=\"M2190.12 2985.05 L2178.31 3003.5 L2190.12 3003.5 L2190.12 2985.05 M2188.89 2980.98 L2194.77 2980.98 L2194.77 3003.5 L2199.7 3003.5 L2199.7 3007.39 L2194.77 3007.39 L2194.77 3015.54 L2190.12 3015.54 L2190.12 3007.39 L2174.52 3007.39 L2174.52 3002.88 L2188.89 2980.98 Z\" fill=\"#000000\" fill-rule=\"evenodd\" fill-opacity=\"1\" /><path clip-path=\"url(#clip310)\" d=\"M2217.43 2999.13 Q2214.1 2999.13 2212.18 3000.91 Q2210.28 3002.69 2210.28 3005.82 Q2210.28 3008.94 2212.18 3010.72 Q2214.1 3012.51 2217.43 3012.51 Q2220.77 3012.51 2222.69 3010.72 Q2224.61 3008.92 2224.61 3005.82 Q2224.61 3002.69 2222.69 3000.91 Q2220.79 2999.13 2217.43 2999.13 M2212.76 2997.13 Q2209.75 2996.39 2208.06 2994.33 Q2206.39 2992.27 2206.39 2989.31 Q2206.39 2985.17 2209.33 2982.76 Q2212.29 2980.35 2217.43 2980.35 Q2222.6 2980.35 2225.53 2982.76 Q2228.47 2985.17 2228.47 2989.31 Q2228.47 2992.27 2226.78 2994.33 Q2225.12 2996.39 2222.13 2997.13 Q2225.51 2997.92 2227.39 3000.21 Q2229.28 3002.51 2229.28 3005.82 Q2229.28 3010.84 2226.21 3013.52 Q2223.15 3016.21 2217.43 3016.21 Q2211.72 3016.21 2208.64 3013.52 Q2205.58 3010.84 2205.58 3005.82 Q2205.58 3002.51 2207.48 3000.21 Q2209.38 2997.92 2212.76 2997.13 M2211.04 2989.75 Q2211.04 2992.44 2212.71 2993.94 Q2214.4 2995.45 2217.43 2995.45 Q2220.44 2995.45 2222.13 2993.94 Q2223.85 2992.44 2223.85 2989.75 Q2223.85 2987.07 2222.13 2985.56 Q2220.44 2984.06 2217.43 2984.06 Q2214.4 2984.06 2212.71 2985.56 Q2211.04 2987.07 2211.04 2989.75 Z\" fill=\"#000000\" fill-rule=\"evenodd\" fill-opacity=\"1\" /><polyline clip-path=\"url(#clip310)\" style=\"stroke:#009af9; stroke-linecap:butt; stroke-linejoin:round; stroke-width:4; stroke-opacity:1; fill:none\" points=\"\n",
       "  1973.51,3058.74 2120.98,3058.74 \n",
       "  \"/>\n",
       "<path clip-path=\"url(#clip310)\" d=\"M2159.4 3078.42 Q2157.6 3083.05 2155.88 3084.47 Q2154.17 3085.88 2151.3 3085.88 L2147.9 3085.88 L2147.9 3082.31 L2150.4 3082.31 Q2152.16 3082.31 2153.13 3081.48 Q2154.1 3080.65 2155.28 3077.55 L2156.04 3075.6 L2145.56 3050.09 L2150.07 3050.09 L2158.17 3070.37 L2166.28 3050.09 L2170.79 3050.09 L2159.4 3078.42 Z\" fill=\"#000000\" fill-rule=\"evenodd\" fill-opacity=\"1\" /><path clip-path=\"url(#clip310)\" d=\"M2190.12 3045.53 L2178.31 3063.98 L2190.12 3063.98 L2190.12 3045.53 M2188.89 3041.46 L2194.77 3041.46 L2194.77 3063.98 L2199.7 3063.98 L2199.7 3067.87 L2194.77 3067.87 L2194.77 3076.02 L2190.12 3076.02 L2190.12 3067.87 L2174.52 3067.87 L2174.52 3063.36 L2188.89 3041.46 Z\" fill=\"#000000\" fill-rule=\"evenodd\" fill-opacity=\"1\" /><path clip-path=\"url(#clip310)\" d=\"M2207.57 3075.3 L2207.57 3071.04 Q2209.33 3071.87 2211.14 3072.31 Q2212.94 3072.75 2214.68 3072.75 Q2219.31 3072.75 2221.74 3069.65 Q2224.19 3066.53 2224.54 3060.18 Q2223.2 3062.18 2221.14 3063.24 Q2219.08 3064.3 2216.58 3064.3 Q2211.39 3064.3 2208.36 3061.18 Q2205.35 3058.03 2205.35 3052.59 Q2205.35 3047.27 2208.5 3044.05 Q2211.65 3040.83 2216.88 3040.83 Q2222.87 3040.83 2226.02 3045.44 Q2229.19 3050.02 2229.19 3058.77 Q2229.19 3066.94 2225.3 3071.83 Q2221.44 3076.69 2214.89 3076.69 Q2213.13 3076.69 2211.32 3076.34 Q2209.52 3075.99 2207.57 3075.3 M2216.88 3060.65 Q2220.03 3060.65 2221.85 3058.49 Q2223.71 3056.34 2223.71 3052.59 Q2223.71 3048.86 2221.85 3046.71 Q2220.03 3044.54 2216.88 3044.54 Q2213.73 3044.54 2211.88 3046.71 Q2210.05 3048.86 2210.05 3052.59 Q2210.05 3056.34 2211.88 3058.49 Q2213.73 3060.65 2216.88 3060.65 Z\" fill=\"#000000\" fill-rule=\"evenodd\" fill-opacity=\"1\" /><polyline clip-path=\"url(#clip310)\" style=\"stroke:#e26f46; stroke-linecap:butt; stroke-linejoin:round; stroke-width:4; stroke-opacity:1; fill:none\" points=\"\n",
       "  1973.51,3119.22 2120.98,3119.22 \n",
       "  \"/>\n",
       "<path clip-path=\"url(#clip310)\" d=\"M2159.4 3138.9 Q2157.6 3143.53 2155.88 3144.95 Q2154.17 3146.36 2151.3 3146.36 L2147.9 3146.36 L2147.9 3142.79 L2150.4 3142.79 Q2152.16 3142.79 2153.13 3141.96 Q2154.1 3141.13 2155.28 3138.03 L2156.04 3136.08 L2145.56 3110.57 L2150.07 3110.57 L2158.17 3130.85 L2166.28 3110.57 L2170.79 3110.57 L2159.4 3138.9 Z\" fill=\"#000000\" fill-rule=\"evenodd\" fill-opacity=\"1\" /><path clip-path=\"url(#clip310)\" d=\"M2177.32 3101.94 L2195.67 3101.94 L2195.67 3105.87 L2181.6 3105.87 L2181.6 3114.34 Q2182.62 3114 2183.64 3113.84 Q2184.66 3113.65 2185.67 3113.65 Q2191.46 3113.65 2194.84 3116.82 Q2198.22 3119.99 2198.22 3125.41 Q2198.22 3130.99 2194.75 3134.09 Q2191.28 3137.17 2184.96 3137.17 Q2182.78 3137.17 2180.51 3136.8 Q2178.27 3136.43 2175.86 3135.69 L2175.86 3130.99 Q2177.94 3132.12 2180.16 3132.68 Q2182.39 3133.23 2184.86 3133.23 Q2188.87 3133.23 2191.21 3131.13 Q2193.54 3129.02 2193.54 3125.41 Q2193.54 3121.8 2191.21 3119.69 Q2188.87 3117.59 2184.86 3117.59 Q2182.99 3117.59 2181.11 3118 Q2179.26 3118.42 2177.32 3119.3 L2177.32 3101.94 Z\" fill=\"#000000\" fill-rule=\"evenodd\" fill-opacity=\"1\" /><path clip-path=\"url(#clip310)\" d=\"M2217.43 3105.02 Q2213.82 3105.02 2211.99 3108.58 Q2210.19 3112.12 2210.19 3119.25 Q2210.19 3126.36 2211.99 3129.92 Q2213.82 3133.47 2217.43 3133.47 Q2221.07 3133.47 2222.87 3129.92 Q2224.7 3126.36 2224.7 3119.25 Q2224.7 3112.12 2222.87 3108.58 Q2221.07 3105.02 2217.43 3105.02 M2217.43 3101.31 Q2223.24 3101.31 2226.3 3105.92 Q2229.38 3110.5 2229.38 3119.25 Q2229.38 3127.98 2226.3 3132.59 Q2223.24 3137.17 2217.43 3137.17 Q2211.62 3137.17 2208.54 3132.59 Q2205.49 3127.98 2205.49 3119.25 Q2205.49 3110.5 2208.54 3105.92 Q2211.62 3101.31 2217.43 3101.31 Z\" fill=\"#000000\" fill-rule=\"evenodd\" fill-opacity=\"1\" /></svg>\n"
      ]
     },
     "execution_count": 28,
     "metadata": {},
     "output_type": "execute_result"
    }
   ],
   "source": [
    "plot(g_vals')"
   ]
  },
  {
   "cell_type": "markdown",
   "metadata": {},
   "source": [
    "## Several timesteps, with battery capacity and varying demand"
   ]
  },
  {
   "cell_type": "markdown",
   "metadata": {},
   "source": [
    "Again, this should be the same as $T$ uncoupled problems. "
   ]
  },
  {
   "cell_type": "code",
<<<<<<< Updated upstream
<<<<<<< Updated upstream
<<<<<<< Updated upstream
   "execution_count": 37,
=======
   "execution_count": 35,
>>>>>>> Stashed changes
=======
   "execution_count": 35,
>>>>>>> Stashed changes
=======
   "execution_count": 35,
>>>>>>> Stashed changes
   "metadata": {},
   "outputs": [],
   "source": [
    "T = 15\n",
    "\n",
    "cq_dyn = [cq for _ in 1:T]\n",
    "cl_dyn = [cl for _ in 1:T]\n",
    "pmax_dyn = [pmax for _ in 1:T]\n",
    "gmax_dyn = [gmax for _ in 1:T]\n",
    "d_dyn = [rand(Bernoulli(0.8), n) .* rand(Gamma(2.0, 2.0), n) for _ in 1:T]\n",
    "\n",
    "P = rand(Exponential(2), n)\n",
    "C = rand(Exponential(2), n)\n",
    ";"
   ]
  },
  {
   "cell_type": "code",
<<<<<<< Updated upstream
<<<<<<< Updated upstream
<<<<<<< Updated upstream
   "execution_count": 38,
=======
   "execution_count": 36,
>>>>>>> Stashed changes
=======
   "execution_count": 36,
>>>>>>> Stashed changes
=======
   "execution_count": 36,
>>>>>>> Stashed changes
   "metadata": {},
   "outputs": [],
   "source": [
    "dnet = DynamicPowerNetwork(\n",
    "    cq_dyn, cl_dyn, pmax_dyn, gmax_dyn, A, B, P, C\n",
    ")\n",
    "dmin = DynamicPowerManagementProblem(dnet, d_dyn);"
   ]
  },
  {
   "cell_type": "code",
<<<<<<< Updated upstream
<<<<<<< Updated upstream
<<<<<<< Updated upstream
   "execution_count": 39,
=======
   "execution_count": 37,
>>>>>>> Stashed changes
=======
   "execution_count": 37,
>>>>>>> Stashed changes
=======
   "execution_count": 37,
>>>>>>> Stashed changes
   "metadata": {},
   "outputs": [],
   "source": [
    "solve!(dmin, OPT, verbose=true);"
   ]
  },
  {
   "cell_type": "code",
<<<<<<< Updated upstream
<<<<<<< Updated upstream
<<<<<<< Updated upstream
   "execution_count": 40,
=======
   "execution_count": 38,
>>>>>>> Stashed changes
=======
   "execution_count": 38,
>>>>>>> Stashed changes
=======
   "execution_count": 38,
>>>>>>> Stashed changes
   "metadata": {},
   "outputs": [],
   "source": [
    "s_vals = zeros(n, T)\n",
    "g_vals = zeros(l, T)\n",
    "for t in 1:T\n",
    "    s_vals[:, t] = dmin.s[t].value\n",
    "    g_vals[:, t] = dmin.g[t].value\n",
    "end"
   ]
  },
  {
   "cell_type": "code",
<<<<<<< Updated upstream
<<<<<<< Updated upstream
<<<<<<< Updated upstream
   "execution_count": 41,
=======
   "execution_count": 39,
>>>>>>> Stashed changes
=======
   "execution_count": 39,
>>>>>>> Stashed changes
=======
   "execution_count": 39,
>>>>>>> Stashed changes
   "metadata": {},
   "outputs": [
    {
     "data": {
      "image/svg+xml": [
       "<?xml version=\"1.0\" encoding=\"utf-8\"?>\n",
       "<svg xmlns=\"http://www.w3.org/2000/svg\" xmlns:xlink=\"http://www.w3.org/1999/xlink\" width=\"600\" height=\"400\" viewBox=\"0 0 2400 1600\">\n",
       "<defs>\n",
       "  <clipPath id=\"clip430\">\n",
       "    <rect x=\"0\" y=\"0\" width=\"2400\" height=\"1600\"/>\n",
       "  </clipPath>\n",
       "</defs>\n",
       "<path clip-path=\"url(#clip430)\" d=\"\n",
       "M0 1600 L2400 1600 L2400 0 L0 0  Z\n",
       "  \" fill=\"#ffffff\" fill-rule=\"evenodd\" fill-opacity=\"1\"/>\n",
       "<defs>\n",
       "  <clipPath id=\"clip431\">\n",
       "    <rect x=\"480\" y=\"0\" width=\"1681\" height=\"1600\"/>\n",
       "  </clipPath>\n",
       "</defs>\n",
       "<path clip-path=\"url(#clip430)\" d=\"\n",
       "M174.149 1423.18 L2352.76 1423.18 L2352.76 47.2441 L174.149 47.2441  Z\n",
       "  \" fill=\"#ffffff\" fill-rule=\"evenodd\" fill-opacity=\"1\"/>\n",
       "<defs>\n",
       "  <clipPath id=\"clip432\">\n",
       "    <rect x=\"174\" y=\"47\" width=\"2180\" height=\"1377\"/>\n",
       "  </clipPath>\n",
       "</defs>\n",
       "<polyline clip-path=\"url(#clip432)\" style=\"stroke:#000000; stroke-linecap:butt; stroke-linejoin:round; stroke-width:2; stroke-opacity:0.1; fill:none\" points=\"\n",
       "  382.614,1423.18 382.614,47.2441 \n",
       "  \"/>\n",
       "<polyline clip-path=\"url(#clip432)\" style=\"stroke:#000000; stroke-linecap:butt; stroke-linejoin:round; stroke-width:2; stroke-opacity:0.1; fill:none\" points=\"\n",
       "  676.227,1423.18 676.227,47.2441 \n",
       "  \"/>\n",
       "<polyline clip-path=\"url(#clip432)\" style=\"stroke:#000000; stroke-linecap:butt; stroke-linejoin:round; stroke-width:2; stroke-opacity:0.1; fill:none\" points=\"\n",
       "  969.84,1423.18 969.84,47.2441 \n",
       "  \"/>\n",
       "<polyline clip-path=\"url(#clip432)\" style=\"stroke:#000000; stroke-linecap:butt; stroke-linejoin:round; stroke-width:2; stroke-opacity:0.1; fill:none\" points=\"\n",
       "  1263.45,1423.18 1263.45,47.2441 \n",
       "  \"/>\n",
       "<polyline clip-path=\"url(#clip432)\" style=\"stroke:#000000; stroke-linecap:butt; stroke-linejoin:round; stroke-width:2; stroke-opacity:0.1; fill:none\" points=\"\n",
       "  1557.07,1423.18 1557.07,47.2441 \n",
       "  \"/>\n",
       "<polyline clip-path=\"url(#clip432)\" style=\"stroke:#000000; stroke-linecap:butt; stroke-linejoin:round; stroke-width:2; stroke-opacity:0.1; fill:none\" points=\"\n",
       "  1850.68,1423.18 1850.68,47.2441 \n",
       "  \"/>\n",
       "<polyline clip-path=\"url(#clip432)\" style=\"stroke:#000000; stroke-linecap:butt; stroke-linejoin:round; stroke-width:2; stroke-opacity:0.1; fill:none\" points=\"\n",
       "  2144.29,1423.18 2144.29,47.2441 \n",
       "  \"/>\n",
       "<polyline clip-path=\"url(#clip430)\" style=\"stroke:#000000; stroke-linecap:butt; stroke-linejoin:round; stroke-width:4; stroke-opacity:1; fill:none\" points=\"\n",
       "  174.149,1423.18 2352.76,1423.18 \n",
       "  \"/>\n",
       "<polyline clip-path=\"url(#clip430)\" style=\"stroke:#000000; stroke-linecap:butt; stroke-linejoin:round; stroke-width:4; stroke-opacity:1; fill:none\" points=\"\n",
       "  382.614,1423.18 382.614,1406.67 \n",
       "  \"/>\n",
       "<polyline clip-path=\"url(#clip430)\" style=\"stroke:#000000; stroke-linecap:butt; stroke-linejoin:round; stroke-width:4; stroke-opacity:1; fill:none\" points=\"\n",
       "  676.227,1423.18 676.227,1406.67 \n",
       "  \"/>\n",
       "<polyline clip-path=\"url(#clip430)\" style=\"stroke:#000000; stroke-linecap:butt; stroke-linejoin:round; stroke-width:4; stroke-opacity:1; fill:none\" points=\"\n",
       "  969.84,1423.18 969.84,1406.67 \n",
       "  \"/>\n",
       "<polyline clip-path=\"url(#clip430)\" style=\"stroke:#000000; stroke-linecap:butt; stroke-linejoin:round; stroke-width:4; stroke-opacity:1; fill:none\" points=\"\n",
       "  1263.45,1423.18 1263.45,1406.67 \n",
       "  \"/>\n",
       "<polyline clip-path=\"url(#clip430)\" style=\"stroke:#000000; stroke-linecap:butt; stroke-linejoin:round; stroke-width:4; stroke-opacity:1; fill:none\" points=\"\n",
       "  1557.07,1423.18 1557.07,1406.67 \n",
       "  \"/>\n",
       "<polyline clip-path=\"url(#clip430)\" style=\"stroke:#000000; stroke-linecap:butt; stroke-linejoin:round; stroke-width:4; stroke-opacity:1; fill:none\" points=\"\n",
       "  1850.68,1423.18 1850.68,1406.67 \n",
       "  \"/>\n",
       "<polyline clip-path=\"url(#clip430)\" style=\"stroke:#000000; stroke-linecap:butt; stroke-linejoin:round; stroke-width:4; stroke-opacity:1; fill:none\" points=\"\n",
       "  2144.29,1423.18 2144.29,1406.67 \n",
       "  \"/>\n",
       "<path clip-path=\"url(#clip430)\" d=\"M377.267 1479.92 L393.586 1479.92 L393.586 1483.85 L371.642 1483.85 L371.642 1479.92 Q374.304 1477.16 378.887 1472.53 Q383.494 1467.88 384.674 1466.54 Q386.92 1464.01 387.799 1462.28 Q388.702 1460.52 388.702 1458.83 Q388.702 1456.07 386.758 1454.34 Q384.836 1452.6 381.734 1452.6 Q379.535 1452.6 377.082 1453.37 Q374.651 1454.13 371.873 1455.68 L371.873 1450.96 Q374.697 1449.82 377.151 1449.25 Q379.605 1448.67 381.642 1448.67 Q387.012 1448.67 390.207 1451.35 Q393.401 1454.04 393.401 1458.53 Q393.401 1460.66 392.591 1462.58 Q391.804 1464.48 389.697 1467.07 Q389.119 1467.74 386.017 1470.96 Q382.915 1474.15 377.267 1479.92 Z\" fill=\"#000000\" fill-rule=\"evenodd\" fill-opacity=\"1\" /><path clip-path=\"url(#clip430)\" d=\"M679.236 1453.37 L667.431 1471.81 L679.236 1471.81 L679.236 1453.37 M678.009 1449.29 L683.889 1449.29 L683.889 1471.81 L688.819 1471.81 L688.819 1475.7 L683.889 1475.7 L683.889 1483.85 L679.236 1483.85 L679.236 1475.7 L663.634 1475.7 L663.634 1471.19 L678.009 1449.29 Z\" fill=\"#000000\" fill-rule=\"evenodd\" fill-opacity=\"1\" /><path clip-path=\"url(#clip430)\" d=\"M970.245 1464.71 Q967.097 1464.71 965.245 1466.86 Q963.416 1469.01 963.416 1472.76 Q963.416 1476.49 965.245 1478.67 Q967.097 1480.82 970.245 1480.82 Q973.393 1480.82 975.222 1478.67 Q977.073 1476.49 977.073 1472.76 Q977.073 1469.01 975.222 1466.86 Q973.393 1464.71 970.245 1464.71 M979.527 1450.06 L979.527 1454.31 Q977.768 1453.48 975.962 1453.04 Q974.18 1452.6 972.421 1452.6 Q967.791 1452.6 965.337 1455.73 Q962.907 1458.85 962.56 1465.17 Q963.925 1463.16 965.985 1462.09 Q968.046 1461 970.522 1461 Q975.731 1461 978.74 1464.18 Q981.772 1467.32 981.772 1472.76 Q981.772 1478.09 978.624 1481.31 Q975.476 1484.52 970.245 1484.52 Q964.249 1484.52 961.078 1479.94 Q957.907 1475.33 957.907 1466.61 Q957.907 1458.41 961.796 1453.55 Q965.685 1448.67 972.235 1448.67 Q973.995 1448.67 975.777 1449.01 Q977.583 1449.36 979.527 1450.06 Z\" fill=\"#000000\" fill-rule=\"evenodd\" fill-opacity=\"1\" /><path clip-path=\"url(#clip430)\" d=\"M1263.45 1467.44 Q1260.12 1467.44 1258.2 1469.22 Q1256.3 1471 1256.3 1474.13 Q1256.3 1477.25 1258.2 1479.04 Q1260.12 1480.82 1263.45 1480.82 Q1266.79 1480.82 1268.71 1479.04 Q1270.63 1477.23 1270.63 1474.13 Q1270.63 1471 1268.71 1469.22 Q1266.81 1467.44 1263.45 1467.44 M1258.78 1465.45 Q1255.77 1464.71 1254.08 1462.65 Q1252.41 1460.59 1252.41 1457.63 Q1252.41 1453.48 1255.35 1451.07 Q1258.31 1448.67 1263.45 1448.67 Q1268.61 1448.67 1271.55 1451.07 Q1274.49 1453.48 1274.49 1457.63 Q1274.49 1460.59 1272.8 1462.65 Q1271.14 1464.71 1268.15 1465.45 Q1271.53 1466.24 1273.41 1468.53 Q1275.3 1470.82 1275.3 1474.13 Q1275.3 1479.15 1272.23 1481.84 Q1269.17 1484.52 1263.45 1484.52 Q1257.73 1484.52 1254.66 1481.84 Q1251.6 1479.15 1251.6 1474.13 Q1251.6 1470.82 1253.5 1468.53 Q1255.4 1466.24 1258.78 1465.45 M1257.06 1458.06 Q1257.06 1460.75 1258.73 1462.25 Q1260.42 1463.76 1263.45 1463.76 Q1266.46 1463.76 1268.15 1462.25 Q1269.86 1460.75 1269.86 1458.06 Q1269.86 1455.38 1268.15 1453.88 Q1266.46 1452.37 1263.45 1452.37 Q1260.42 1452.37 1258.73 1453.88 Q1257.06 1455.38 1257.06 1458.06 Z\" fill=\"#000000\" fill-rule=\"evenodd\" fill-opacity=\"1\" /><path clip-path=\"url(#clip430)\" d=\"M1531.75 1479.92 L1539.39 1479.92 L1539.39 1453.55 L1531.08 1455.22 L1531.08 1450.96 L1539.35 1449.29 L1544.02 1449.29 L1544.02 1479.92 L1551.66 1479.92 L1551.66 1483.85 L1531.75 1483.85 L1531.75 1479.92 Z\" fill=\"#000000\" fill-rule=\"evenodd\" fill-opacity=\"1\" /><path clip-path=\"url(#clip430)\" d=\"M1571.1 1452.37 Q1567.49 1452.37 1565.66 1455.94 Q1563.86 1459.48 1563.86 1466.61 Q1563.86 1473.71 1565.66 1477.28 Q1567.49 1480.82 1571.1 1480.82 Q1574.74 1480.82 1576.54 1477.28 Q1578.37 1473.71 1578.37 1466.61 Q1578.37 1459.48 1576.54 1455.94 Q1574.74 1452.37 1571.1 1452.37 M1571.1 1448.67 Q1576.91 1448.67 1579.97 1453.27 Q1583.05 1457.86 1583.05 1466.61 Q1583.05 1475.33 1579.97 1479.94 Q1576.91 1484.52 1571.1 1484.52 Q1565.29 1484.52 1562.22 1479.94 Q1559.16 1475.33 1559.16 1466.61 Q1559.16 1457.86 1562.22 1453.27 Q1565.29 1448.67 1571.1 1448.67 Z\" fill=\"#000000\" fill-rule=\"evenodd\" fill-opacity=\"1\" /><path clip-path=\"url(#clip430)\" d=\"M1826.16 1479.92 L1833.8 1479.92 L1833.8 1453.55 L1825.49 1455.22 L1825.49 1450.96 L1833.76 1449.29 L1838.43 1449.29 L1838.43 1479.92 L1846.07 1479.92 L1846.07 1483.85 L1826.16 1483.85 L1826.16 1479.92 Z\" fill=\"#000000\" fill-rule=\"evenodd\" fill-opacity=\"1\" /><path clip-path=\"url(#clip430)\" d=\"M1859.54 1479.92 L1875.86 1479.92 L1875.86 1483.85 L1853.92 1483.85 L1853.92 1479.92 Q1856.58 1477.16 1861.16 1472.53 Q1865.77 1467.88 1866.95 1466.54 Q1869.2 1464.01 1870.08 1462.28 Q1870.98 1460.52 1870.98 1458.83 Q1870.98 1456.07 1869.03 1454.34 Q1867.11 1452.6 1864.01 1452.6 Q1861.81 1452.6 1859.36 1453.37 Q1856.93 1454.13 1854.15 1455.68 L1854.15 1450.96 Q1856.97 1449.82 1859.43 1449.25 Q1861.88 1448.67 1863.92 1448.67 Q1869.29 1448.67 1872.48 1451.35 Q1875.68 1454.04 1875.68 1458.53 Q1875.68 1460.66 1874.87 1462.58 Q1874.08 1464.48 1871.97 1467.07 Q1871.4 1467.74 1868.29 1470.96 Q1865.19 1474.15 1859.54 1479.92 Z\" fill=\"#000000\" fill-rule=\"evenodd\" fill-opacity=\"1\" /><path clip-path=\"url(#clip430)\" d=\"M2118.74 1479.92 L2126.37 1479.92 L2126.37 1453.55 L2118.06 1455.22 L2118.06 1450.96 L2126.33 1449.29 L2131 1449.29 L2131 1479.92 L2138.64 1479.92 L2138.64 1483.85 L2118.74 1483.85 L2118.74 1479.92 Z\" fill=\"#000000\" fill-rule=\"evenodd\" fill-opacity=\"1\" /><path clip-path=\"url(#clip430)\" d=\"M2160.93 1453.37 L2149.13 1471.81 L2160.93 1471.81 L2160.93 1453.37 M2159.71 1449.29 L2165.59 1449.29 L2165.59 1471.81 L2170.52 1471.81 L2170.52 1475.7 L2165.59 1475.7 L2165.59 1483.85 L2160.93 1483.85 L2160.93 1475.7 L2145.33 1475.7 L2145.33 1471.19 L2159.71 1449.29 Z\" fill=\"#000000\" fill-rule=\"evenodd\" fill-opacity=\"1\" /><path clip-path=\"url(#clip430)\" d=\"M1114.88 1520.52 L1155.08 1520.52 L1155.08 1525.93 L1138.21 1525.93 L1138.21 1568.04 L1131.75 1568.04 L1131.75 1525.93 L1114.88 1525.93 L1114.88 1520.52 Z\" fill=\"#000000\" fill-rule=\"evenodd\" fill-opacity=\"1\" /><path clip-path=\"url(#clip430)\" d=\"M1159.02 1532.4 L1164.88 1532.4 L1164.88 1568.04 L1159.02 1568.04 L1159.02 1532.4 M1159.02 1518.52 L1164.88 1518.52 L1164.88 1525.93 L1159.02 1525.93 L1159.02 1518.52 Z\" fill=\"#000000\" fill-rule=\"evenodd\" fill-opacity=\"1\" /><path clip-path=\"url(#clip430)\" d=\"M1204.89 1539.24 Q1207.08 1535.29 1210.14 1533.41 Q1213.2 1531.54 1217.33 1531.54 Q1222.9 1531.54 1225.93 1535.45 Q1228.95 1539.33 1228.95 1546.53 L1228.95 1568.04 L1223.06 1568.04 L1223.06 1546.72 Q1223.06 1541.59 1221.25 1539.11 Q1219.43 1536.63 1215.71 1536.63 Q1211.16 1536.63 1208.52 1539.65 Q1205.87 1542.68 1205.87 1547.9 L1205.87 1568.04 L1199.99 1568.04 L1199.99 1546.72 Q1199.99 1541.56 1198.17 1539.11 Q1196.36 1536.63 1192.57 1536.63 Q1188.08 1536.63 1185.44 1539.68 Q1182.8 1542.71 1182.8 1547.9 L1182.8 1568.04 L1176.91 1568.04 L1176.91 1532.4 L1182.8 1532.4 L1182.8 1537.93 Q1184.8 1534.66 1187.61 1533.1 Q1190.41 1531.54 1194.26 1531.54 Q1198.14 1531.54 1200.85 1533.51 Q1203.58 1535.48 1204.89 1539.24 Z\" fill=\"#000000\" fill-rule=\"evenodd\" fill-opacity=\"1\" /><path clip-path=\"url(#clip430)\" d=\"M1271.12 1548.76 L1271.12 1551.62 L1244.2 1551.62 Q1244.58 1557.67 1247.82 1560.85 Q1251.1 1564 1256.93 1564 Q1260.3 1564 1263.45 1563.17 Q1266.64 1562.35 1269.75 1560.69 L1269.75 1566.23 Q1266.6 1567.57 1263.29 1568.27 Q1259.98 1568.97 1256.58 1568.97 Q1248.05 1568.97 1243.05 1564 Q1238.09 1559.04 1238.09 1550.57 Q1238.09 1541.82 1242.8 1536.69 Q1247.54 1531.54 1255.56 1531.54 Q1262.75 1531.54 1266.92 1536.18 Q1271.12 1540.8 1271.12 1548.76 M1265.27 1547.04 Q1265.2 1542.23 1262.56 1539.37 Q1259.95 1536.5 1255.62 1536.5 Q1250.72 1536.5 1247.76 1539.27 Q1244.83 1542.04 1244.39 1547.07 L1265.27 1547.04 Z\" fill=\"#000000\" fill-rule=\"evenodd\" fill-opacity=\"1\" /><path clip-path=\"url(#clip430)\" d=\"M1303.46 1533.45 L1303.46 1538.98 Q1300.98 1537.71 1298.3 1537.07 Q1295.63 1536.44 1292.77 1536.44 Q1288.41 1536.44 1286.21 1537.77 Q1284.05 1539.11 1284.05 1541.79 Q1284.05 1543.82 1285.61 1545 Q1287.16 1546.15 1291.88 1547.2 L1293.88 1547.64 Q1300.12 1548.98 1302.73 1551.43 Q1305.37 1553.85 1305.37 1558.21 Q1305.37 1563.17 1301.42 1566.07 Q1297.51 1568.97 1290.63 1568.97 Q1287.77 1568.97 1284.65 1568.39 Q1281.56 1567.85 1278.13 1566.74 L1278.13 1560.69 Q1281.37 1562.38 1284.52 1563.24 Q1287.67 1564.07 1290.76 1564.07 Q1294.9 1564.07 1297.13 1562.66 Q1299.35 1561.23 1299.35 1558.65 Q1299.35 1556.27 1297.73 1554.99 Q1296.14 1553.72 1290.7 1552.54 L1288.66 1552.07 Q1283.22 1550.92 1280.8 1548.56 Q1278.38 1546.18 1278.38 1542.04 Q1278.38 1537.01 1281.94 1534.27 Q1285.51 1531.54 1292.07 1531.54 Q1295.31 1531.54 1298.18 1532.01 Q1301.04 1532.49 1303.46 1533.45 Z\" fill=\"#000000\" fill-rule=\"evenodd\" fill-opacity=\"1\" /><path clip-path=\"url(#clip430)\" d=\"M1320.49 1522.27 L1320.49 1532.4 L1332.55 1532.4 L1332.55 1536.95 L1320.49 1536.95 L1320.49 1556.3 Q1320.49 1560.66 1321.67 1561.9 Q1322.88 1563.14 1326.54 1563.14 L1332.55 1563.14 L1332.55 1568.04 L1326.54 1568.04 Q1319.76 1568.04 1317.18 1565.53 Q1314.6 1562.98 1314.6 1556.3 L1314.6 1536.95 L1310.3 1536.95 L1310.3 1532.4 L1314.6 1532.4 L1314.6 1522.27 L1320.49 1522.27 Z\" fill=\"#000000\" fill-rule=\"evenodd\" fill-opacity=\"1\" /><path clip-path=\"url(#clip430)\" d=\"M1370.75 1548.76 L1370.75 1551.62 L1343.82 1551.62 Q1344.2 1557.67 1347.45 1560.85 Q1350.73 1564 1356.55 1564 Q1359.92 1564 1363.08 1563.17 Q1366.26 1562.35 1369.38 1560.69 L1369.38 1566.23 Q1366.23 1567.57 1362.92 1568.27 Q1359.61 1568.97 1356.2 1568.97 Q1347.67 1568.97 1342.67 1564 Q1337.71 1559.04 1337.71 1550.57 Q1337.71 1541.82 1342.42 1536.69 Q1347.16 1531.54 1355.18 1531.54 Q1362.38 1531.54 1366.55 1536.18 Q1370.75 1540.8 1370.75 1548.76 M1364.89 1547.04 Q1364.83 1542.23 1362.18 1539.37 Q1359.57 1536.5 1355.25 1536.5 Q1350.34 1536.5 1347.38 1539.27 Q1344.46 1542.04 1344.01 1547.07 L1364.89 1547.04 Z\" fill=\"#000000\" fill-rule=\"evenodd\" fill-opacity=\"1\" /><path clip-path=\"url(#clip430)\" d=\"M1386.02 1562.7 L1386.02 1581.6 L1380.14 1581.6 L1380.14 1532.4 L1386.02 1532.4 L1386.02 1537.81 Q1387.87 1534.62 1390.67 1533.1 Q1393.5 1531.54 1397.42 1531.54 Q1403.91 1531.54 1407.95 1536.69 Q1412.03 1541.85 1412.03 1550.25 Q1412.03 1558.65 1407.95 1563.81 Q1403.91 1568.97 1397.42 1568.97 Q1393.5 1568.97 1390.67 1567.44 Q1387.87 1565.88 1386.02 1562.7 M1405.95 1550.25 Q1405.95 1543.79 1403.28 1540.13 Q1400.63 1536.44 1395.99 1536.44 Q1391.34 1536.44 1388.67 1540.13 Q1386.02 1543.79 1386.02 1550.25 Q1386.02 1556.71 1388.67 1560.4 Q1391.34 1564.07 1395.99 1564.07 Q1400.63 1564.07 1403.28 1560.4 Q1405.95 1556.71 1405.95 1550.25 Z\" fill=\"#000000\" fill-rule=\"evenodd\" fill-opacity=\"1\" /><polyline clip-path=\"url(#clip432)\" style=\"stroke:#000000; stroke-linecap:butt; stroke-linejoin:round; stroke-width:2; stroke-opacity:0.1; fill:none\" points=\"\n",
       "  174.149,1384.24 2352.76,1384.24 \n",
       "  \"/>\n",
       "<polyline clip-path=\"url(#clip432)\" style=\"stroke:#000000; stroke-linecap:butt; stroke-linejoin:round; stroke-width:2; stroke-opacity:0.1; fill:none\" points=\"\n",
       "  174.149,1025.62 2352.76,1025.62 \n",
       "  \"/>\n",
       "<polyline clip-path=\"url(#clip432)\" style=\"stroke:#000000; stroke-linecap:butt; stroke-linejoin:round; stroke-width:2; stroke-opacity:0.1; fill:none\" points=\"\n",
       "  174.149,667.002 2352.76,667.002 \n",
       "  \"/>\n",
       "<polyline clip-path=\"url(#clip432)\" style=\"stroke:#000000; stroke-linecap:butt; stroke-linejoin:round; stroke-width:2; stroke-opacity:0.1; fill:none\" points=\"\n",
       "  174.149,308.384 2352.76,308.384 \n",
       "  \"/>\n",
       "<polyline clip-path=\"url(#clip430)\" style=\"stroke:#000000; stroke-linecap:butt; stroke-linejoin:round; stroke-width:4; stroke-opacity:1; fill:none\" points=\"\n",
       "  174.149,1423.18 174.149,47.2441 \n",
       "  \"/>\n",
       "<polyline clip-path=\"url(#clip430)\" style=\"stroke:#000000; stroke-linecap:butt; stroke-linejoin:round; stroke-width:4; stroke-opacity:1; fill:none\" points=\"\n",
       "  174.149,1384.24 200.292,1384.24 \n",
       "  \"/>\n",
       "<polyline clip-path=\"url(#clip430)\" style=\"stroke:#000000; stroke-linecap:butt; stroke-linejoin:round; stroke-width:4; stroke-opacity:1; fill:none\" points=\"\n",
       "  174.149,1025.62 200.292,1025.62 \n",
       "  \"/>\n",
       "<polyline clip-path=\"url(#clip430)\" style=\"stroke:#000000; stroke-linecap:butt; stroke-linejoin:round; stroke-width:4; stroke-opacity:1; fill:none\" points=\"\n",
       "  174.149,667.002 200.292,667.002 \n",
       "  \"/>\n",
       "<polyline clip-path=\"url(#clip430)\" style=\"stroke:#000000; stroke-linecap:butt; stroke-linejoin:round; stroke-width:4; stroke-opacity:1; fill:none\" points=\"\n",
       "  174.149,308.384 200.292,308.384 \n",
       "  \"/>\n",
       "<path clip-path=\"url(#clip430)\" d=\"M126.205 1370.04 Q122.593 1370.04 120.765 1373.6 Q118.959 1377.14 118.959 1384.27 Q118.959 1391.38 120.765 1394.94 Q122.593 1398.49 126.205 1398.49 Q129.839 1398.49 131.644 1394.94 Q133.473 1391.38 133.473 1384.27 Q133.473 1377.14 131.644 1373.6 Q129.839 1370.04 126.205 1370.04 M126.205 1366.33 Q132.015 1366.33 135.07 1370.94 Q138.149 1375.52 138.149 1384.27 Q138.149 1393 135.07 1397.61 Q132.015 1402.19 126.205 1402.19 Q120.394 1402.19 117.316 1397.61 Q114.26 1393 114.26 1384.27 Q114.26 1375.52 117.316 1370.94 Q120.394 1366.33 126.205 1366.33 Z\" fill=\"#000000\" fill-rule=\"evenodd\" fill-opacity=\"1\" /><path clip-path=\"url(#clip430)\" d=\"M118.242 1038.97 L125.88 1038.97 L125.88 1012.6 L117.57 1014.27 L117.57 1010.01 L125.834 1008.34 L130.51 1008.34 L130.51 1038.97 L138.149 1038.97 L138.149 1042.9 L118.242 1042.9 L118.242 1038.97 Z\" fill=\"#000000\" fill-rule=\"evenodd\" fill-opacity=\"1\" /><path clip-path=\"url(#clip430)\" d=\"M121.83 680.347 L138.149 680.347 L138.149 684.282 L116.205 684.282 L116.205 680.347 Q118.867 677.592 123.45 672.963 Q128.056 668.31 129.237 666.967 Q131.482 664.444 132.362 662.708 Q133.265 660.949 133.265 659.259 Q133.265 656.504 131.32 654.768 Q129.399 653.032 126.297 653.032 Q124.098 653.032 121.644 653.796 Q119.214 654.56 116.436 656.111 L116.436 651.389 Q119.26 650.255 121.714 649.676 Q124.168 649.097 126.205 649.097 Q131.575 649.097 134.769 651.782 Q137.964 654.467 137.964 658.958 Q137.964 661.088 137.154 663.009 Q136.367 664.907 134.26 667.5 Q133.681 668.171 130.58 671.389 Q127.478 674.583 121.83 680.347 Z\" fill=\"#000000\" fill-rule=\"evenodd\" fill-opacity=\"1\" /><path clip-path=\"url(#clip430)\" d=\"M131.019 307.03 Q134.376 307.747 136.251 310.016 Q138.149 312.284 138.149 315.618 Q138.149 320.733 134.63 323.534 Q131.112 326.335 124.63 326.335 Q122.455 326.335 120.14 325.896 Q117.848 325.479 115.394 324.622 L115.394 320.109 Q117.339 321.243 119.654 321.821 Q121.968 322.4 124.492 322.4 Q128.89 322.4 131.181 320.664 Q133.496 318.928 133.496 315.618 Q133.496 312.562 131.343 310.849 Q129.214 309.113 125.394 309.113 L121.367 309.113 L121.367 305.271 L125.58 305.271 Q129.029 305.271 130.857 303.905 Q132.686 302.516 132.686 299.923 Q132.686 297.261 130.788 295.849 Q128.913 294.414 125.394 294.414 Q123.473 294.414 121.274 294.831 Q119.075 295.248 116.436 296.127 L116.436 291.961 Q119.098 291.22 121.413 290.849 Q123.751 290.479 125.811 290.479 Q131.135 290.479 134.237 292.91 Q137.339 295.317 137.339 299.437 Q137.339 302.308 135.695 304.298 Q134.052 306.266 131.019 307.03 Z\" fill=\"#000000\" fill-rule=\"evenodd\" fill-opacity=\"1\" /><path clip-path=\"url(#clip430)\" d=\"M18.0438 769.81 L24.314 769.81 Q22.5634 773.47 21.704 776.716 Q20.8447 779.963 20.8447 782.987 Q20.8447 788.238 22.8817 791.103 Q24.9187 793.936 28.6745 793.936 Q31.8255 793.936 33.4488 792.058 Q35.0402 790.148 36.0269 784.864 L36.8226 780.981 Q38.1912 773.788 41.6605 770.382 Q45.098 766.945 50.8908 766.945 Q57.7976 766.945 61.3624 771.592 Q64.9272 776.207 64.9272 785.151 Q64.9272 788.525 64.1633 792.344 Q63.3994 796.132 61.9035 800.206 L55.2831 800.206 Q57.4793 796.291 58.5933 792.535 Q59.7073 788.779 59.7073 785.151 Q59.7073 779.645 57.543 776.653 Q55.3786 773.661 51.3682 773.661 Q47.8671 773.661 45.8937 775.825 Q43.9204 777.958 42.9337 782.859 L42.1698 786.774 Q40.7375 793.967 37.682 797.182 Q34.6264 800.397 29.1837 800.397 Q22.8817 800.397 19.2532 795.973 Q15.6248 791.517 15.6248 783.719 Q15.6248 780.377 16.2295 776.907 Q16.8343 773.438 18.0438 769.81 Z\" fill=\"#000000\" fill-rule=\"evenodd\" fill-opacity=\"1\" /><path clip-path=\"url(#clip430)\" d=\"M20.8447 737.631 Q20.8447 744.633 26.0645 748.771 Q31.2844 752.877 40.2919 752.877 Q49.2675 752.877 54.4874 748.771 Q59.7073 744.633 59.7073 737.631 Q59.7073 730.629 54.4874 726.555 Q49.2675 722.449 40.2919 722.449 Q31.2844 722.449 26.0645 726.555 Q20.8447 730.629 20.8447 737.631 M15.6248 737.631 Q15.6248 727.637 22.3406 721.653 Q29.0246 715.669 40.2919 715.669 Q51.5274 715.669 58.2432 721.653 Q64.9272 727.637 64.9272 737.631 Q64.9272 747.657 58.2432 753.673 Q51.5592 759.656 40.2919 759.656 Q29.0246 759.656 22.3406 753.673 Q15.6248 747.657 15.6248 737.631 Z\" fill=\"#000000\" fill-rule=\"evenodd\" fill-opacity=\"1\" /><path clip-path=\"url(#clip430)\" d=\"M20.1444 670.027 L26.9239 670.027 Q23.9002 673.274 22.4043 676.966 Q20.9083 680.626 20.9083 684.764 Q20.9083 692.912 25.9054 697.241 Q30.8707 701.569 40.2919 701.569 Q49.6813 701.569 54.6784 697.241 Q59.6436 692.912 59.6436 684.764 Q59.6436 680.626 58.1477 676.966 Q56.6518 673.274 53.6281 670.027 L60.3439 670.027 Q62.6355 673.401 63.7814 677.189 Q64.9272 680.944 64.9272 685.146 Q64.9272 695.936 58.3387 702.142 Q51.7183 708.349 40.2919 708.349 Q28.8336 708.349 22.2451 702.142 Q15.6248 695.936 15.6248 685.146 Q15.6248 680.881 16.7706 677.125 Q17.8846 673.337 20.1444 670.027 Z\" fill=\"#000000\" fill-rule=\"evenodd\" fill-opacity=\"1\" /><polyline clip-path=\"url(#clip432)\" style=\"stroke:#009af9; stroke-linecap:butt; stroke-linejoin:round; stroke-width:4; stroke-opacity:1; fill:none\" points=\"\n",
       "  235.808,1340.99 382.614,1311.16 529.42,1291.08 676.227,1228.43 823.033,1165.78 969.84,1170.11 1116.65,1172.31 1263.45,1234.96 1410.26,1250.02 1557.07,1272.63 \n",
       "  1703.87,1302.22 1850.68,1339.87 1997.48,1384.24 2144.29,1321.59 2291.1,1384.24 \n",
       "  \"/>\n",
       "<polyline clip-path=\"url(#clip432)\" style=\"stroke:#e26f46; stroke-linecap:butt; stroke-linejoin:round; stroke-width:4; stroke-opacity:1; fill:none\" points=\"\n",
       "  235.808,942.397 382.614,1028.29 529.42,1004.55 676.227,1033.37 823.033,970.29 969.84,1022.62 1116.65,983.073 1263.45,1075.85 1410.26,965.487 1557.07,1056.16 \n",
       "  1703.87,944.532 1850.68,986.997 1997.48,1182.12 2144.29,848.514 2291.1,1384.24 \n",
       "  \"/>\n",
       "<polyline clip-path=\"url(#clip432)\" style=\"stroke:#3da44d; stroke-linecap:butt; stroke-linejoin:round; stroke-width:4; stroke-opacity:1; fill:none\" points=\"\n",
       "  235.808,1284.29 382.614,1234.75 529.42,1226.83 676.227,1219.45 823.033,1219.09 969.84,1219.57 1116.65,1223.91 1263.45,1217.26 1410.26,1223.85 1557.07,1232.21 \n",
       "  1703.87,1240.65 1850.68,1283.62 1997.48,1254.47 2144.29,1242.38 2291.1,1384.24 \n",
       "  \"/>\n",
       "<polyline clip-path=\"url(#clip432)\" style=\"stroke:#c271d2; stroke-linecap:butt; stroke-linejoin:round; stroke-width:4; stroke-opacity:1; fill:none\" points=\"\n",
       "  235.808,1373.29 382.614,1373.29 529.42,1384.24 676.227,1384.24 823.033,1373.29 969.84,1378.75 1116.65,1378.72 1263.45,1378.75 1410.26,1378.77 1557.07,1378.77 \n",
       "  1703.87,1378.76 1850.68,1378.76 1997.48,1378.74 2144.29,1378.72 2291.1,1384.24 \n",
       "  \"/>\n",
       "<polyline clip-path=\"url(#clip432)\" style=\"stroke:#ac8d18; stroke-linecap:butt; stroke-linejoin:round; stroke-width:4; stroke-opacity:1; fill:none\" points=\"\n",
       "  235.808,1261.08 382.614,1312.63 529.42,1314.22 676.227,1319.79 823.033,1310.67 969.84,1314.31 1116.65,1314.96 1263.45,1316.39 1410.26,1312.7 1557.07,1321.45 \n",
       "  1703.87,1373.17 1850.68,1255.96 1997.48,1333.16 2144.29,1293.34 2291.1,1384.24 \n",
       "  \"/>\n",
       "<polyline clip-path=\"url(#clip432)\" style=\"stroke:#00a9ad; stroke-linecap:butt; stroke-linejoin:round; stroke-width:4; stroke-opacity:1; fill:none\" points=\"\n",
       "  235.808,1187.23 382.614,985.97 529.42,941.693 676.227,945.428 823.033,918.267 969.84,916.85 1116.65,932.087 1263.45,903.102 1410.26,928.267 1557.07,932.622 \n",
       "  1703.87,978.166 1850.68,1022.71 1997.48,1037.64 2144.29,1185.72 2291.1,1384.24 \n",
       "  \"/>\n",
       "<polyline clip-path=\"url(#clip432)\" style=\"stroke:#ed5d92; stroke-linecap:butt; stroke-linejoin:round; stroke-width:4; stroke-opacity:1; fill:none\" points=\"\n",
       "  235.808,1304.44 382.614,925.779 529.42,598.638 676.227,595.479 823.033,503.092 969.84,1025.16 1116.65,830.282 1263.45,621.598 1410.26,443.696 1557.07,1140.37 \n",
       "  1703.87,963.755 1850.68,928.69 1997.48,1002.47 2144.29,966.978 2291.1,1384.24 \n",
       "  \"/>\n",
       "<polyline clip-path=\"url(#clip432)\" style=\"stroke:#c68125; stroke-linecap:butt; stroke-linejoin:round; stroke-width:4; stroke-opacity:1; fill:none\" points=\"\n",
       "  235.808,1092.65 382.614,1008.37 529.42,959.796 676.227,940.825 823.033,964.325 969.84,918.725 1116.65,989.391 1263.45,1131.04 1410.26,864.775 1557.07,1053.95 \n",
       "  1703.87,813.924 1850.68,957.55 1997.48,1032.73 2144.29,1137.06 2291.1,1384.24 \n",
       "  \"/>\n",
       "<polyline clip-path=\"url(#clip432)\" style=\"stroke:#00a98d; stroke-linecap:butt; stroke-linejoin:round; stroke-width:4; stroke-opacity:1; fill:none\" points=\"\n",
       "  235.808,1312.64 382.614,1311.35 529.42,1313.64 676.227,1347.18 823.033,1277.05 969.84,1348.81 1116.65,1281.15 1263.45,1302.3 1410.26,1314.59 1557.07,1309.09 \n",
       "  1703.87,1312.42 1850.68,1360.29 1997.48,1312.46 2144.29,1264.86 2291.1,1384.24 \n",
       "  \"/>\n",
       "<polyline clip-path=\"url(#clip432)\" style=\"stroke:#8e971d; stroke-linecap:butt; stroke-linejoin:round; stroke-width:4; stroke-opacity:1; fill:none\" points=\"\n",
       "  235.808,1135.53 382.614,1056.07 529.42,975.898 676.227,986.643 823.033,1006.47 969.84,1021.37 1116.65,1087.5 1263.45,891.998 1410.26,989.594 1557.07,1012.76 \n",
       "  1703.87,965.518 1850.68,1006.56 1997.48,1031.94 2144.29,1125.68 2291.1,1384.24 \n",
       "  \"/>\n",
       "<polyline clip-path=\"url(#clip432)\" style=\"stroke:#00a8cb; stroke-linecap:butt; stroke-linejoin:round; stroke-width:4; stroke-opacity:1; fill:none\" points=\"\n",
       "  235.808,1328.45 382.614,1330.74 529.42,1326.14 676.227,1341.73 823.033,1318.1 969.84,1338.05 1116.65,1317.95 1263.45,1329.14 1410.26,1326.49 1557.07,1328.58 \n",
       "  1703.87,1329.87 1850.68,1329.21 1997.48,1328.44 2144.29,1349.43 2291.1,1384.24 \n",
       "  \"/>\n",
       "<polyline clip-path=\"url(#clip432)\" style=\"stroke:#9b7fe8; stroke-linecap:butt; stroke-linejoin:round; stroke-width:4; stroke-opacity:1; fill:none\" points=\"\n",
       "  235.808,1361.26 382.614,1343.12 529.42,1317.27 676.227,1306.98 823.033,1298.75 969.84,1296.34 1116.65,1297.4 1263.45,1303.15 1410.26,1312.72 1557.07,1325.12 \n",
       "  1703.87,1341.4 1850.68,1360.77 1997.48,1384.24 2144.29,1380.98 2291.1,1384.24 \n",
       "  \"/>\n",
       "<polyline clip-path=\"url(#clip432)\" style=\"stroke:#608cf6; stroke-linecap:butt; stroke-linejoin:round; stroke-width:4; stroke-opacity:1; fill:none\" points=\"\n",
       "  235.808,1301.35 382.614,1225.16 529.42,1161.15 676.227,1190.2 823.033,1136.37 969.84,1182.03 1116.65,1133.63 1263.45,1084.44 1410.26,1124.57 1557.07,1150.36 \n",
       "  1703.87,1186.13 1850.68,1234.01 1997.48,1197.3 2144.29,1280.09 2291.1,1384.24 \n",
       "  \"/>\n",
       "<polyline clip-path=\"url(#clip432)\" style=\"stroke:#f05f73; stroke-linecap:butt; stroke-linejoin:round; stroke-width:4; stroke-opacity:1; fill:none\" points=\"\n",
       "  235.808,1343.99 382.614,1330.43 529.42,1338.92 676.227,1335.17 823.033,1345.4 969.84,1341.78 1116.65,1325.55 1263.45,1344.51 1410.26,1330.15 1557.07,1338.03 \n",
       "  1703.87,1336.79 1850.68,1337.92 1997.48,1336.11 2144.29,1347.91 2291.1,1384.24 \n",
       "  \"/>\n",
       "<polyline clip-path=\"url(#clip432)\" style=\"stroke:#dd64b5; stroke-linecap:butt; stroke-linejoin:round; stroke-width:4; stroke-opacity:1; fill:none\" points=\"\n",
       "  235.808,1334.68 382.614,1290.45 529.42,1311.23 676.227,1314.11 823.033,1311.97 969.84,1384.24 1116.65,1239.39 1263.45,1314.56 1410.26,1309.1 1557.07,1320.61 \n",
       "  1703.87,1302.5 1850.68,1311.4 1997.48,1318.74 2144.29,1301.15 2291.1,1384.24 \n",
       "  \"/>\n",
       "<polyline clip-path=\"url(#clip432)\" style=\"stroke:#6b9e32; stroke-linecap:butt; stroke-linejoin:round; stroke-width:4; stroke-opacity:1; fill:none\" points=\"\n",
       "  235.808,1125.49 382.614,927.147 529.42,752.962 676.227,691.372 823.033,636.42 969.84,461.668 1116.65,502.609 1263.45,347.655 1410.26,425.243 1557.07,504.348 \n",
       "  1703.87,549.349 1850.68,710.169 1997.48,899.537 2144.29,1114.91 2291.1,1384.24 \n",
       "  \"/>\n",
       "<polyline clip-path=\"url(#clip432)\" style=\"stroke:#009af9; stroke-linecap:butt; stroke-linejoin:round; stroke-width:4; stroke-opacity:1; fill:none\" points=\"\n",
       "  235.808,1045.24 382.614,901.224 529.42,922.618 676.227,974.368 823.033,652.598 969.84,1213.16 1116.65,985.033 1263.45,934.659 1410.26,934.159 1557.07,899.323 \n",
       "  1703.87,966.578 1850.68,852.538 1997.48,1048.41 2144.29,1158.52 2291.1,1384.24 \n",
       "  \"/>\n",
       "<polyline clip-path=\"url(#clip432)\" style=\"stroke:#e26f46; stroke-linecap:butt; stroke-linejoin:round; stroke-width:4; stroke-opacity:1; fill:none\" points=\"\n",
       "  235.808,1277.88 382.614,1169.31 529.42,1066.26 676.227,1020.3 823.033,1002.72 969.84,960.833 1116.65,979.941 1263.45,1032.13 1410.26,953.568 1557.07,1029.08 \n",
       "  1703.87,1102.88 1850.68,1198.3 1997.48,1305.63 2144.29,1258.74 2291.1,1384.24 \n",
       "  \"/>\n",
       "<polyline clip-path=\"url(#clip432)\" style=\"stroke:#3da44d; stroke-linecap:butt; stroke-linejoin:round; stroke-width:4; stroke-opacity:1; fill:none\" points=\"\n",
       "  235.808,1335.23 382.614,1263.55 529.42,1191.87 676.227,1162.47 823.033,1156.93 969.84,1152.07 1116.65,1160.75 1263.45,1182.58 1410.26,1211.81 1557.07,1247.88 \n",
       "  1703.87,1290.25 1850.68,1338.69 1997.48,1267.02 2144.29,1324.24 2291.1,1384.24 \n",
       "  \"/>\n",
       "<polyline clip-path=\"url(#clip432)\" style=\"stroke:#c271d2; stroke-linecap:butt; stroke-linejoin:round; stroke-width:4; stroke-opacity:1; fill:none\" points=\"\n",
       "  235.808,1256.74 382.614,1277.71 529.42,1291.67 676.227,1249.6 823.033,1275.41 969.84,1293.58 1116.65,1271.4 1263.45,1250 1410.26,1268.16 1557.07,1291.28 \n",
       "  1703.87,1249.71 1850.68,1267.94 1997.48,1270.23 2144.29,1271.41 2291.1,1384.24 \n",
       "  \"/>\n",
       "<polyline clip-path=\"url(#clip432)\" style=\"stroke:#ac8d18; stroke-linecap:butt; stroke-linejoin:round; stroke-width:4; stroke-opacity:1; fill:none\" points=\"\n",
       "  235.808,1381.33 382.614,1376.77 529.42,1376.38 676.227,1377.21 823.033,1379.08 969.84,1374.52 1116.65,1377.46 1263.45,1380.68 1410.26,1384.24 1557.07,1380.88 \n",
       "  1703.87,1378.1 1850.68,1375.9 1997.48,1380.46 2144.29,1381.38 2291.1,1384.24 \n",
       "  \"/>\n",
       "<polyline clip-path=\"url(#clip432)\" style=\"stroke:#00a9ad; stroke-linecap:butt; stroke-linejoin:round; stroke-width:4; stroke-opacity:1; fill:none\" points=\"\n",
       "  235.808,949.66 382.614,587.068 529.42,473.12 676.227,848.572 823.033,1083.37 969.84,741.369 1116.65,839.323 1263.45,920.08 1410.26,658.701 1557.07,823.677 \n",
       "  1703.87,840.139 1850.68,599.522 1997.48,682.441 2144.29,933.396 2291.1,1384.24 \n",
       "  \"/>\n",
       "<polyline clip-path=\"url(#clip432)\" style=\"stroke:#ed5d92; stroke-linecap:butt; stroke-linejoin:round; stroke-width:4; stroke-opacity:1; fill:none\" points=\"\n",
       "  235.808,1068.41 382.614,839.287 529.42,847.846 676.227,545.982 823.033,676.812 969.84,396.321 1116.65,626.515 1263.45,357.179 1410.26,86.1857 1557.07,355.644 \n",
       "  1703.87,492.882 1850.68,503.135 1997.48,764.873 2144.29,1072.77 2291.1,1384.24 \n",
       "  \"/>\n",
       "<polyline clip-path=\"url(#clip432)\" style=\"stroke:#c68125; stroke-linecap:butt; stroke-linejoin:round; stroke-width:4; stroke-opacity:1; fill:none\" points=\"\n",
       "  235.808,1339.45 382.614,1337.69 529.42,1340 676.227,1349.61 823.033,1338.9 969.84,1328.64 1116.65,1348.97 1263.45,1338.71 1410.26,1328.18 1557.07,1340.68 \n",
       "  1703.87,1335.61 1850.68,1348.9 1997.48,1328.47 2144.29,1338.88 2291.1,1384.24 \n",
       "  \"/>\n",
       "<polyline clip-path=\"url(#clip432)\" style=\"stroke:#00a98d; stroke-linecap:butt; stroke-linejoin:round; stroke-width:4; stroke-opacity:1; fill:none\" points=\"\n",
       "  235.808,1043.58 382.614,1012.61 529.42,991.747 676.227,1055.41 823.033,1046.76 969.84,1126.61 1116.65,939.529 1263.45,1163.77 1410.26,1037.7 1557.07,1027.5 \n",
       "  1703.87,933.28 1850.68,1092.6 1997.48,945.549 2144.29,1109.55 2291.1,1384.24 \n",
       "  \"/>\n",
       "<polyline clip-path=\"url(#clip432)\" style=\"stroke:#8e971d; stroke-linecap:butt; stroke-linejoin:round; stroke-width:4; stroke-opacity:1; fill:none\" points=\"\n",
       "  235.808,1301.47 382.614,1252.89 529.42,1211.23 676.227,1204.33 823.033,1207.58 969.84,1138.74 1116.65,1165.09 1263.45,1190.61 1410.26,1222.74 1557.07,1160.61 \n",
       "  1703.87,1213.27 1850.68,1257.57 1997.48,1207.44 2144.29,1290.21 2291.1,1384.24 \n",
       "  \"/>\n",
       "<polyline clip-path=\"url(#clip432)\" style=\"stroke:#00a8cb; stroke-linecap:butt; stroke-linejoin:round; stroke-width:4; stroke-opacity:1; fill:none\" points=\"\n",
       "  235.808,998.736 382.614,950.239 529.42,853.784 676.227,934.55 823.033,867.477 969.84,971.945 1116.65,861.748 1263.45,662.033 1410.26,779.919 1557.07,892.554 \n",
       "  1703.87,869.54 1850.68,989.805 1997.48,770.412 2144.29,1019.24 2291.1,1384.24 \n",
       "  \"/>\n",
       "<polyline clip-path=\"url(#clip432)\" style=\"stroke:#9b7fe8; stroke-linecap:butt; stroke-linejoin:round; stroke-width:4; stroke-opacity:1; fill:none\" points=\"\n",
       "  235.808,1231.73 382.614,1292.82 529.42,1068.99 676.227,1293.38 823.033,1073.6 969.84,1155.8 1116.65,1141.02 1263.45,1229.63 1410.26,1121.98 1557.07,1209.67 \n",
       "  1703.87,1195.4 1850.68,1173.93 1997.48,1181.53 2144.29,1384.24 2291.1,1384.24 \n",
       "  \"/>\n",
       "<polyline clip-path=\"url(#clip432)\" style=\"stroke:#608cf6; stroke-linecap:butt; stroke-linejoin:round; stroke-width:4; stroke-opacity:1; fill:none\" points=\"\n",
       "  235.808,1124.37 382.614,1028.96 529.42,929.503 676.227,935.599 823.033,932.883 969.84,904.779 1116.65,1041.18 1263.45,802.66 1410.26,844.555 1557.07,929.65 \n",
       "  1703.87,971.921 1850.68,1087.29 1997.48,1065.59 2144.29,1044.29 2291.1,1384.24 \n",
       "  \"/>\n",
       "<polyline clip-path=\"url(#clip432)\" style=\"stroke:#f05f73; stroke-linecap:butt; stroke-linejoin:round; stroke-width:4; stroke-opacity:1; fill:none\" points=\"\n",
       "  235.808,1223.52 382.614,1082.97 529.42,989.443 676.227,853.832 823.033,820.188 969.84,804.804 1116.65,808.372 1263.45,699.956 1410.26,746.976 1557.07,783.886 \n",
       "  1703.87,864.36 1850.68,954.045 1997.48,1077.33 2144.29,1216.74 2291.1,1384.24 \n",
       "  \"/>\n",
       "<path clip-path=\"url(#clip430)\" d=\"\n",
       "M1953.76 1967.99 L2280.14 1967.99 L2280.14 93.1086 L1953.76 93.1086  Z\n",
       "  \" fill=\"#ffffff\" fill-rule=\"evenodd\" fill-opacity=\"1\"/>\n",
       "<polyline clip-path=\"url(#clip430)\" style=\"stroke:#000000; stroke-linecap:butt; stroke-linejoin:round; stroke-width:4; stroke-opacity:1; fill:none\" points=\"\n",
       "  1953.76,1967.99 2280.14,1967.99 2280.14,93.1086 1953.76,93.1086 1953.76,1967.99 \n",
       "  \"/>\n",
       "<polyline clip-path=\"url(#clip430)\" style=\"stroke:#009af9; stroke-linecap:butt; stroke-linejoin:round; stroke-width:4; stroke-opacity:1; fill:none\" points=\"\n",
       "  1977.97,153.589 2123.21,153.589 \n",
       "  \"/>\n",
       "<path clip-path=\"url(#clip430)\" d=\"M2161.26 173.276 Q2159.45 177.906 2157.74 179.318 Q2156.03 180.73 2153.16 180.73 L2149.76 180.73 L2149.76 177.165 L2152.26 177.165 Q2154.01 177.165 2154.99 176.332 Q2155.96 175.498 2157.14 172.396 L2157.9 170.452 L2147.42 144.943 L2151.93 144.943 L2160.03 165.221 L2168.13 144.943 L2172.65 144.943 L2161.26 173.276 Z\" fill=\"#000000\" fill-rule=\"evenodd\" fill-opacity=\"1\" /><path clip-path=\"url(#clip430)\" d=\"M2179.94 166.933 L2187.58 166.933 L2187.58 140.568 L2179.27 142.235 L2179.27 137.975 L2187.53 136.309 L2192.21 136.309 L2192.21 166.933 L2199.85 166.933 L2199.85 170.869 L2179.94 170.869 L2179.94 166.933 Z\" fill=\"#000000\" fill-rule=\"evenodd\" fill-opacity=\"1\" /><polyline clip-path=\"url(#clip430)\" style=\"stroke:#e26f46; stroke-linecap:butt; stroke-linejoin:round; stroke-width:4; stroke-opacity:1; fill:none\" points=\"\n",
       "  1977.97,214.069 2123.21,214.069 \n",
       "  \"/>\n",
       "<path clip-path=\"url(#clip430)\" d=\"M2161.26 233.756 Q2159.45 238.386 2157.74 239.798 Q2156.03 241.21 2153.16 241.21 L2149.76 241.21 L2149.76 237.645 L2152.26 237.645 Q2154.01 237.645 2154.99 236.812 Q2155.96 235.978 2157.14 232.876 L2157.9 230.932 L2147.42 205.423 L2151.93 205.423 L2160.03 225.701 L2168.13 205.423 L2172.65 205.423 L2161.26 233.756 Z\" fill=\"#000000\" fill-rule=\"evenodd\" fill-opacity=\"1\" /><path clip-path=\"url(#clip430)\" d=\"M2183.16 227.413 L2199.48 227.413 L2199.48 231.349 L2177.53 231.349 L2177.53 227.413 Q2180.19 224.659 2184.78 220.029 Q2189.38 215.376 2190.56 214.034 Q2192.81 211.511 2193.69 209.775 Q2194.59 208.015 2194.59 206.326 Q2194.59 203.571 2192.65 201.835 Q2190.73 200.099 2187.63 200.099 Q2185.43 200.099 2182.97 200.863 Q2180.54 201.627 2177.76 203.177 L2177.76 198.455 Q2180.59 197.321 2183.04 196.742 Q2185.5 196.164 2187.53 196.164 Q2192.9 196.164 2196.1 198.849 Q2199.29 201.534 2199.29 206.025 Q2199.29 208.154 2198.48 210.076 Q2197.69 211.974 2195.59 214.566 Q2195.01 215.238 2191.91 218.455 Q2188.81 221.65 2183.16 227.413 Z\" fill=\"#000000\" fill-rule=\"evenodd\" fill-opacity=\"1\" /><polyline clip-path=\"url(#clip430)\" style=\"stroke:#3da44d; stroke-linecap:butt; stroke-linejoin:round; stroke-width:4; stroke-opacity:1; fill:none\" points=\"\n",
       "  1977.97,274.549 2123.21,274.549 \n",
       "  \"/>\n",
       "<path clip-path=\"url(#clip430)\" d=\"M2161.26 294.236 Q2159.45 298.866 2157.74 300.278 Q2156.03 301.69 2153.16 301.69 L2149.76 301.69 L2149.76 298.125 L2152.26 298.125 Q2154.01 298.125 2154.99 297.292 Q2155.96 296.458 2157.14 293.356 L2157.9 291.412 L2147.42 265.903 L2151.93 265.903 L2160.03 286.181 L2168.13 265.903 L2172.65 265.903 L2161.26 294.236 Z\" fill=\"#000000\" fill-rule=\"evenodd\" fill-opacity=\"1\" /><path clip-path=\"url(#clip430)\" d=\"M2193.3 273.194 Q2196.65 273.912 2198.53 276.181 Q2200.43 278.449 2200.43 281.782 Q2200.43 286.898 2196.91 289.699 Q2193.39 292.5 2186.91 292.5 Q2184.73 292.5 2182.42 292.06 Q2180.13 291.643 2177.67 290.787 L2177.67 286.273 Q2179.62 287.407 2181.93 287.986 Q2184.25 288.565 2186.77 288.565 Q2191.17 288.565 2193.46 286.829 Q2195.77 285.093 2195.77 281.782 Q2195.77 278.727 2193.62 277.014 Q2191.49 275.278 2187.67 275.278 L2183.64 275.278 L2183.64 271.435 L2187.86 271.435 Q2191.31 271.435 2193.13 270.069 Q2194.96 268.681 2194.96 266.088 Q2194.96 263.426 2193.06 262.014 Q2191.19 260.579 2187.67 260.579 Q2185.75 260.579 2183.55 260.995 Q2181.35 261.412 2178.71 262.292 L2178.71 258.125 Q2181.38 257.384 2183.69 257.014 Q2186.03 256.644 2188.09 256.644 Q2193.41 256.644 2196.51 259.074 Q2199.62 261.482 2199.62 265.602 Q2199.62 268.472 2197.97 270.463 Q2196.33 272.431 2193.3 273.194 Z\" fill=\"#000000\" fill-rule=\"evenodd\" fill-opacity=\"1\" /><polyline clip-path=\"url(#clip430)\" style=\"stroke:#c271d2; stroke-linecap:butt; stroke-linejoin:round; stroke-width:4; stroke-opacity:1; fill:none\" points=\"\n",
       "  1977.97,335.029 2123.21,335.029 \n",
       "  \"/>\n",
       "<path clip-path=\"url(#clip430)\" d=\"M2161.26 354.716 Q2159.45 359.346 2157.74 360.758 Q2156.03 362.17 2153.16 362.17 L2149.76 362.17 L2149.76 358.605 L2152.26 358.605 Q2154.01 358.605 2154.99 357.772 Q2155.96 356.938 2157.14 353.836 L2157.9 351.892 L2147.42 326.383 L2151.93 326.383 L2160.03 346.661 L2168.13 326.383 L2172.65 326.383 L2161.26 354.716 Z\" fill=\"#000000\" fill-rule=\"evenodd\" fill-opacity=\"1\" /><path clip-path=\"url(#clip430)\" d=\"M2191.98 321.823 L2180.17 340.272 L2191.98 340.272 L2191.98 321.823 M2190.75 317.749 L2196.63 317.749 L2196.63 340.272 L2201.56 340.272 L2201.56 344.161 L2196.63 344.161 L2196.63 352.309 L2191.98 352.309 L2191.98 344.161 L2176.38 344.161 L2176.38 339.647 L2190.75 317.749 Z\" fill=\"#000000\" fill-rule=\"evenodd\" fill-opacity=\"1\" /><polyline clip-path=\"url(#clip430)\" style=\"stroke:#ac8d18; stroke-linecap:butt; stroke-linejoin:round; stroke-width:4; stroke-opacity:1; fill:none\" points=\"\n",
       "  1977.97,395.509 2123.21,395.509 \n",
       "  \"/>\n",
       "<path clip-path=\"url(#clip430)\" d=\"M2161.26 415.196 Q2159.45 419.826 2157.74 421.238 Q2156.03 422.65 2153.16 422.65 L2149.76 422.65 L2149.76 419.085 L2152.26 419.085 Q2154.01 419.085 2154.99 418.252 Q2155.96 417.418 2157.14 414.316 L2157.9 412.372 L2147.42 386.863 L2151.93 386.863 L2160.03 407.141 L2168.13 386.863 L2172.65 386.863 L2161.26 415.196 Z\" fill=\"#000000\" fill-rule=\"evenodd\" fill-opacity=\"1\" /><path clip-path=\"url(#clip430)\" d=\"M2179.18 378.229 L2197.53 378.229 L2197.53 382.164 L2183.46 382.164 L2183.46 390.636 Q2184.48 390.289 2185.5 390.127 Q2186.51 389.942 2187.53 389.942 Q2193.32 389.942 2196.7 393.113 Q2200.08 396.284 2200.08 401.701 Q2200.08 407.279 2196.61 410.381 Q2193.13 413.46 2186.82 413.46 Q2184.64 413.46 2182.37 413.09 Q2180.13 412.719 2177.72 411.978 L2177.72 407.279 Q2179.8 408.414 2182.02 408.969 Q2184.25 409.525 2186.72 409.525 Q2190.73 409.525 2193.06 407.418 Q2195.4 405.312 2195.4 401.701 Q2195.4 398.09 2193.06 395.983 Q2190.73 393.877 2186.72 393.877 Q2184.85 393.877 2182.97 394.293 Q2181.12 394.71 2179.18 395.59 L2179.18 378.229 Z\" fill=\"#000000\" fill-rule=\"evenodd\" fill-opacity=\"1\" /><polyline clip-path=\"url(#clip430)\" style=\"stroke:#00a9ad; stroke-linecap:butt; stroke-linejoin:round; stroke-width:4; stroke-opacity:1; fill:none\" points=\"\n",
       "  1977.97,455.989 2123.21,455.989 \n",
       "  \"/>\n",
       "<path clip-path=\"url(#clip430)\" d=\"M2161.26 475.676 Q2159.45 480.306 2157.74 481.718 Q2156.03 483.13 2153.16 483.13 L2149.76 483.13 L2149.76 479.565 L2152.26 479.565 Q2154.01 479.565 2154.99 478.732 Q2155.96 477.898 2157.14 474.796 L2157.9 472.852 L2147.42 447.343 L2151.93 447.343 L2160.03 467.621 L2168.13 447.343 L2172.65 447.343 L2161.26 475.676 Z\" fill=\"#000000\" fill-rule=\"evenodd\" fill-opacity=\"1\" /><path clip-path=\"url(#clip430)\" d=\"M2189.71 454.125 Q2186.56 454.125 2184.71 456.278 Q2182.88 458.431 2182.88 462.181 Q2182.88 465.908 2184.71 468.083 Q2186.56 470.236 2189.71 470.236 Q2192.86 470.236 2194.69 468.083 Q2196.54 465.908 2196.54 462.181 Q2196.54 458.431 2194.69 456.278 Q2192.86 454.125 2189.71 454.125 M2198.99 439.473 L2198.99 443.732 Q2197.23 442.898 2195.43 442.459 Q2193.64 442.019 2191.88 442.019 Q2187.25 442.019 2184.8 445.144 Q2182.37 448.269 2182.02 454.588 Q2183.39 452.574 2185.45 451.509 Q2187.51 450.422 2189.99 450.422 Q2195.19 450.422 2198.2 453.593 Q2201.24 456.741 2201.24 462.181 Q2201.24 467.505 2198.09 470.722 Q2194.94 473.94 2189.71 473.94 Q2183.71 473.94 2180.54 469.357 Q2177.37 464.75 2177.37 456.023 Q2177.37 447.829 2181.26 442.968 Q2185.15 438.084 2191.7 438.084 Q2193.46 438.084 2195.24 438.431 Q2197.05 438.778 2198.99 439.473 Z\" fill=\"#000000\" fill-rule=\"evenodd\" fill-opacity=\"1\" /><polyline clip-path=\"url(#clip430)\" style=\"stroke:#ed5d92; stroke-linecap:butt; stroke-linejoin:round; stroke-width:4; stroke-opacity:1; fill:none\" points=\"\n",
       "  1977.97,516.469 2123.21,516.469 \n",
       "  \"/>\n",
       "<path clip-path=\"url(#clip430)\" d=\"M2161.26 536.156 Q2159.45 540.786 2157.74 542.198 Q2156.03 543.61 2153.16 543.61 L2149.76 543.61 L2149.76 540.045 L2152.26 540.045 Q2154.01 540.045 2154.99 539.212 Q2155.96 538.378 2157.14 535.276 L2157.9 533.332 L2147.42 507.823 L2151.93 507.823 L2160.03 528.101 L2168.13 507.823 L2172.65 507.823 L2161.26 536.156 Z\" fill=\"#000000\" fill-rule=\"evenodd\" fill-opacity=\"1\" /><path clip-path=\"url(#clip430)\" d=\"M2177.95 499.189 L2200.17 499.189 L2200.17 501.179 L2187.63 533.749 L2182.74 533.749 L2194.55 503.124 L2177.95 503.124 L2177.95 499.189 Z\" fill=\"#000000\" fill-rule=\"evenodd\" fill-opacity=\"1\" /><polyline clip-path=\"url(#clip430)\" style=\"stroke:#c68125; stroke-linecap:butt; stroke-linejoin:round; stroke-width:4; stroke-opacity:1; fill:none\" points=\"\n",
       "  1977.97,576.949 2123.21,576.949 \n",
       "  \"/>\n",
       "<path clip-path=\"url(#clip430)\" d=\"M2161.26 596.636 Q2159.45 601.266 2157.74 602.678 Q2156.03 604.09 2153.16 604.09 L2149.76 604.09 L2149.76 600.525 L2152.26 600.525 Q2154.01 600.525 2154.99 599.692 Q2155.96 598.858 2157.14 595.756 L2157.9 593.812 L2147.42 568.303 L2151.93 568.303 L2160.03 588.581 L2168.13 568.303 L2172.65 568.303 L2161.26 596.636 Z\" fill=\"#000000\" fill-rule=\"evenodd\" fill-opacity=\"1\" /><path clip-path=\"url(#clip430)\" d=\"M2189.13 577.817 Q2185.8 577.817 2183.88 579.599 Q2181.98 581.381 2181.98 584.506 Q2181.98 587.631 2183.88 589.414 Q2185.8 591.196 2189.13 591.196 Q2192.46 591.196 2194.38 589.414 Q2196.31 587.608 2196.31 584.506 Q2196.31 581.381 2194.38 579.599 Q2192.49 577.817 2189.13 577.817 M2184.45 575.826 Q2181.44 575.085 2179.75 573.025 Q2178.09 570.965 2178.09 568.002 Q2178.09 563.858 2181.03 561.451 Q2183.99 559.044 2189.13 559.044 Q2194.29 559.044 2197.23 561.451 Q2200.17 563.858 2200.17 568.002 Q2200.17 570.965 2198.48 573.025 Q2196.81 575.085 2193.83 575.826 Q2197.21 576.613 2199.08 578.905 Q2200.98 581.196 2200.98 584.506 Q2200.98 589.53 2197.9 592.215 Q2194.85 594.9 2189.13 594.9 Q2183.41 594.9 2180.33 592.215 Q2177.28 589.53 2177.28 584.506 Q2177.28 581.196 2179.18 578.905 Q2181.07 576.613 2184.45 575.826 M2182.74 568.442 Q2182.74 571.127 2184.41 572.632 Q2186.1 574.136 2189.13 574.136 Q2192.14 574.136 2193.83 572.632 Q2195.54 571.127 2195.54 568.442 Q2195.54 565.757 2193.83 564.252 Q2192.14 562.747 2189.13 562.747 Q2186.1 562.747 2184.41 564.252 Q2182.74 565.757 2182.74 568.442 Z\" fill=\"#000000\" fill-rule=\"evenodd\" fill-opacity=\"1\" /><polyline clip-path=\"url(#clip430)\" style=\"stroke:#00a98d; stroke-linecap:butt; stroke-linejoin:round; stroke-width:4; stroke-opacity:1; fill:none\" points=\"\n",
       "  1977.97,637.429 2123.21,637.429 \n",
       "  \"/>\n",
       "<path clip-path=\"url(#clip430)\" d=\"M2161.26 657.116 Q2159.45 661.746 2157.74 663.158 Q2156.03 664.57 2153.16 664.57 L2149.76 664.57 L2149.76 661.005 L2152.26 661.005 Q2154.01 661.005 2154.99 660.172 Q2155.96 659.338 2157.14 656.236 L2157.9 654.292 L2147.42 628.783 L2151.93 628.783 L2160.03 649.061 L2168.13 628.783 L2172.65 628.783 L2161.26 657.116 Z\" fill=\"#000000\" fill-rule=\"evenodd\" fill-opacity=\"1\" /><path clip-path=\"url(#clip430)\" d=\"M2179.27 653.991 L2179.27 649.732 Q2181.03 650.565 2182.83 651.005 Q2184.64 651.445 2186.38 651.445 Q2191 651.445 2193.44 648.343 Q2195.89 645.218 2196.24 638.875 Q2194.89 640.866 2192.83 641.931 Q2190.77 642.996 2188.27 642.996 Q2183.09 642.996 2180.06 639.871 Q2177.05 636.723 2177.05 631.283 Q2177.05 625.959 2180.19 622.741 Q2183.34 619.524 2188.57 619.524 Q2194.57 619.524 2197.72 624.13 Q2200.89 628.713 2200.89 637.463 Q2200.89 645.635 2197 650.519 Q2193.13 655.38 2186.58 655.38 Q2184.82 655.38 2183.02 655.033 Q2181.21 654.685 2179.27 653.991 M2188.57 639.338 Q2191.72 639.338 2193.55 637.186 Q2195.4 635.033 2195.4 631.283 Q2195.4 627.556 2193.55 625.403 Q2191.72 623.227 2188.57 623.227 Q2185.43 623.227 2183.57 625.403 Q2181.75 627.556 2181.75 631.283 Q2181.75 635.033 2183.57 637.186 Q2185.43 639.338 2188.57 639.338 Z\" fill=\"#000000\" fill-rule=\"evenodd\" fill-opacity=\"1\" /><polyline clip-path=\"url(#clip430)\" style=\"stroke:#8e971d; stroke-linecap:butt; stroke-linejoin:round; stroke-width:4; stroke-opacity:1; fill:none\" points=\"\n",
       "  1977.97,697.909 2123.21,697.909 \n",
       "  \"/>\n",
       "<path clip-path=\"url(#clip430)\" d=\"M2161.26 717.596 Q2159.45 722.226 2157.74 723.638 Q2156.03 725.05 2153.16 725.05 L2149.76 725.05 L2149.76 721.485 L2152.26 721.485 Q2154.01 721.485 2154.99 720.652 Q2155.96 719.818 2157.14 716.716 L2157.9 714.772 L2147.42 689.263 L2151.93 689.263 L2160.03 709.541 L2168.13 689.263 L2172.65 689.263 L2161.26 717.596 Z\" fill=\"#000000\" fill-rule=\"evenodd\" fill-opacity=\"1\" /><path clip-path=\"url(#clip430)\" d=\"M2179.94 711.253 L2187.58 711.253 L2187.58 684.888 L2179.27 686.555 L2179.27 682.295 L2187.53 680.629 L2192.21 680.629 L2192.21 711.253 L2199.85 711.253 L2199.85 715.189 L2179.94 715.189 L2179.94 711.253 Z\" fill=\"#000000\" fill-rule=\"evenodd\" fill-opacity=\"1\" /><path clip-path=\"url(#clip430)\" d=\"M2219.29 683.707 Q2215.68 683.707 2213.85 687.272 Q2212.05 690.814 2212.05 697.943 Q2212.05 705.05 2213.85 708.615 Q2215.68 712.156 2219.29 712.156 Q2222.93 712.156 2224.73 708.615 Q2226.56 705.05 2226.56 697.943 Q2226.56 690.814 2224.73 687.272 Q2222.93 683.707 2219.29 683.707 M2219.29 680.004 Q2225.1 680.004 2228.16 684.61 Q2231.24 689.193 2231.24 697.943 Q2231.24 706.67 2228.16 711.277 Q2225.1 715.86 2219.29 715.86 Q2213.48 715.86 2210.4 711.277 Q2207.35 706.67 2207.35 697.943 Q2207.35 689.193 2210.4 684.61 Q2213.48 680.004 2219.29 680.004 Z\" fill=\"#000000\" fill-rule=\"evenodd\" fill-opacity=\"1\" /><polyline clip-path=\"url(#clip430)\" style=\"stroke:#00a8cb; stroke-linecap:butt; stroke-linejoin:round; stroke-width:4; stroke-opacity:1; fill:none\" points=\"\n",
       "  1977.97,758.389 2123.21,758.389 \n",
       "  \"/>\n",
       "<path clip-path=\"url(#clip430)\" d=\"M2161.26 778.076 Q2159.45 782.706 2157.74 784.118 Q2156.03 785.53 2153.16 785.53 L2149.76 785.53 L2149.76 781.965 L2152.26 781.965 Q2154.01 781.965 2154.99 781.132 Q2155.96 780.298 2157.14 777.196 L2157.9 775.252 L2147.42 749.743 L2151.93 749.743 L2160.03 770.021 L2168.13 749.743 L2172.65 749.743 L2161.26 778.076 Z\" fill=\"#000000\" fill-rule=\"evenodd\" fill-opacity=\"1\" /><path clip-path=\"url(#clip430)\" d=\"M2179.94 771.733 L2187.58 771.733 L2187.58 745.368 L2179.27 747.035 L2179.27 742.775 L2187.53 741.109 L2192.21 741.109 L2192.21 771.733 L2199.85 771.733 L2199.85 775.669 L2179.94 775.669 L2179.94 771.733 Z\" fill=\"#000000\" fill-rule=\"evenodd\" fill-opacity=\"1\" /><path clip-path=\"url(#clip430)\" d=\"M2210.1 771.733 L2217.74 771.733 L2217.74 745.368 L2209.43 747.035 L2209.43 742.775 L2217.69 741.109 L2222.37 741.109 L2222.37 771.733 L2230.01 771.733 L2230.01 775.669 L2210.1 775.669 L2210.1 771.733 Z\" fill=\"#000000\" fill-rule=\"evenodd\" fill-opacity=\"1\" /><polyline clip-path=\"url(#clip430)\" style=\"stroke:#9b7fe8; stroke-linecap:butt; stroke-linejoin:round; stroke-width:4; stroke-opacity:1; fill:none\" points=\"\n",
       "  1977.97,818.869 2123.21,818.869 \n",
       "  \"/>\n",
       "<path clip-path=\"url(#clip430)\" d=\"M2161.26 838.556 Q2159.45 843.186 2157.74 844.598 Q2156.03 846.01 2153.16 846.01 L2149.76 846.01 L2149.76 842.445 L2152.26 842.445 Q2154.01 842.445 2154.99 841.612 Q2155.96 840.778 2157.14 837.676 L2157.9 835.732 L2147.42 810.223 L2151.93 810.223 L2160.03 830.501 L2168.13 810.223 L2172.65 810.223 L2161.26 838.556 Z\" fill=\"#000000\" fill-rule=\"evenodd\" fill-opacity=\"1\" /><path clip-path=\"url(#clip430)\" d=\"M2179.94 832.213 L2187.58 832.213 L2187.58 805.848 L2179.27 807.515 L2179.27 803.255 L2187.53 801.589 L2192.21 801.589 L2192.21 832.213 L2199.85 832.213 L2199.85 836.149 L2179.94 836.149 L2179.94 832.213 Z\" fill=\"#000000\" fill-rule=\"evenodd\" fill-opacity=\"1\" /><path clip-path=\"url(#clip430)\" d=\"M2213.32 832.213 L2229.64 832.213 L2229.64 836.149 L2207.69 836.149 L2207.69 832.213 Q2210.36 829.459 2214.94 824.829 Q2219.55 820.176 2220.73 818.834 Q2222.97 816.311 2223.85 814.575 Q2224.75 812.815 2224.75 811.126 Q2224.75 808.371 2222.81 806.635 Q2220.89 804.899 2217.79 804.899 Q2215.59 804.899 2213.13 805.663 Q2210.7 806.427 2207.93 807.977 L2207.93 803.255 Q2210.75 802.121 2213.2 801.542 Q2215.66 800.964 2217.69 800.964 Q2223.06 800.964 2226.26 803.649 Q2229.45 806.334 2229.45 810.825 Q2229.45 812.954 2228.64 814.876 Q2227.86 816.774 2225.75 819.366 Q2225.17 820.038 2222.07 823.255 Q2218.97 826.45 2213.32 832.213 Z\" fill=\"#000000\" fill-rule=\"evenodd\" fill-opacity=\"1\" /><polyline clip-path=\"url(#clip430)\" style=\"stroke:#608cf6; stroke-linecap:butt; stroke-linejoin:round; stroke-width:4; stroke-opacity:1; fill:none\" points=\"\n",
       "  1977.97,879.349 2123.21,879.349 \n",
       "  \"/>\n",
       "<path clip-path=\"url(#clip430)\" d=\"M2161.26 899.036 Q2159.45 903.666 2157.74 905.078 Q2156.03 906.49 2153.16 906.49 L2149.76 906.49 L2149.76 902.925 L2152.26 902.925 Q2154.01 902.925 2154.99 902.092 Q2155.96 901.258 2157.14 898.156 L2157.9 896.212 L2147.42 870.703 L2151.93 870.703 L2160.03 890.981 L2168.13 870.703 L2172.65 870.703 L2161.26 899.036 Z\" fill=\"#000000\" fill-rule=\"evenodd\" fill-opacity=\"1\" /><path clip-path=\"url(#clip430)\" d=\"M2179.94 892.693 L2187.58 892.693 L2187.58 866.328 L2179.27 867.995 L2179.27 863.735 L2187.53 862.069 L2192.21 862.069 L2192.21 892.693 L2199.85 892.693 L2199.85 896.629 L2179.94 896.629 L2179.94 892.693 Z\" fill=\"#000000\" fill-rule=\"evenodd\" fill-opacity=\"1\" /><path clip-path=\"url(#clip430)\" d=\"M2223.46 877.994 Q2226.81 878.712 2228.69 880.981 Q2230.59 883.249 2230.59 886.582 Q2230.59 891.698 2227.07 894.499 Q2223.55 897.3 2217.07 897.3 Q2214.89 897.3 2212.58 896.86 Q2210.29 896.443 2207.83 895.587 L2207.83 891.073 Q2209.78 892.207 2212.09 892.786 Q2214.41 893.365 2216.93 893.365 Q2221.33 893.365 2223.62 891.629 Q2225.94 889.893 2225.94 886.582 Q2225.94 883.527 2223.78 881.814 Q2221.65 880.078 2217.83 880.078 L2213.81 880.078 L2213.81 876.235 L2218.02 876.235 Q2221.47 876.235 2223.3 874.869 Q2225.12 873.481 2225.12 870.888 Q2225.12 868.226 2223.23 866.814 Q2221.35 865.379 2217.83 865.379 Q2215.91 865.379 2213.71 865.795 Q2211.51 866.212 2208.88 867.092 L2208.88 862.925 Q2211.54 862.184 2213.85 861.814 Q2216.19 861.444 2218.25 861.444 Q2223.57 861.444 2226.68 863.874 Q2229.78 866.282 2229.78 870.402 Q2229.78 873.272 2228.13 875.263 Q2226.49 877.231 2223.46 877.994 Z\" fill=\"#000000\" fill-rule=\"evenodd\" fill-opacity=\"1\" /><polyline clip-path=\"url(#clip430)\" style=\"stroke:#f05f73; stroke-linecap:butt; stroke-linejoin:round; stroke-width:4; stroke-opacity:1; fill:none\" points=\"\n",
       "  1977.97,939.829 2123.21,939.829 \n",
       "  \"/>\n",
       "<path clip-path=\"url(#clip430)\" d=\"M2161.26 959.516 Q2159.45 964.146 2157.74 965.558 Q2156.03 966.97 2153.16 966.97 L2149.76 966.97 L2149.76 963.405 L2152.26 963.405 Q2154.01 963.405 2154.99 962.572 Q2155.96 961.738 2157.14 958.636 L2157.9 956.692 L2147.42 931.183 L2151.93 931.183 L2160.03 951.461 L2168.13 931.183 L2172.65 931.183 L2161.26 959.516 Z\" fill=\"#000000\" fill-rule=\"evenodd\" fill-opacity=\"1\" /><path clip-path=\"url(#clip430)\" d=\"M2179.94 953.173 L2187.58 953.173 L2187.58 926.808 L2179.27 928.475 L2179.27 924.215 L2187.53 922.549 L2192.21 922.549 L2192.21 953.173 L2199.85 953.173 L2199.85 957.109 L2179.94 957.109 L2179.94 953.173 Z\" fill=\"#000000\" fill-rule=\"evenodd\" fill-opacity=\"1\" /><path clip-path=\"url(#clip430)\" d=\"M2222.14 926.623 L2210.33 945.072 L2222.14 945.072 L2222.14 926.623 M2220.91 922.549 L2226.79 922.549 L2226.79 945.072 L2231.72 945.072 L2231.72 948.961 L2226.79 948.961 L2226.79 957.109 L2222.14 957.109 L2222.14 948.961 L2206.54 948.961 L2206.54 944.447 L2220.91 922.549 Z\" fill=\"#000000\" fill-rule=\"evenodd\" fill-opacity=\"1\" /><polyline clip-path=\"url(#clip430)\" style=\"stroke:#dd64b5; stroke-linecap:butt; stroke-linejoin:round; stroke-width:4; stroke-opacity:1; fill:none\" points=\"\n",
       "  1977.97,1000.31 2123.21,1000.31 \n",
       "  \"/>\n",
       "<path clip-path=\"url(#clip430)\" d=\"M2161.26 1020 Q2159.45 1024.63 2157.74 1026.04 Q2156.03 1027.45 2153.16 1027.45 L2149.76 1027.45 L2149.76 1023.88 L2152.26 1023.88 Q2154.01 1023.88 2154.99 1023.05 Q2155.96 1022.22 2157.14 1019.12 L2157.9 1017.17 L2147.42 991.663 L2151.93 991.663 L2160.03 1011.94 L2168.13 991.663 L2172.65 991.663 L2161.26 1020 Z\" fill=\"#000000\" fill-rule=\"evenodd\" fill-opacity=\"1\" /><path clip-path=\"url(#clip430)\" d=\"M2179.94 1013.65 L2187.58 1013.65 L2187.58 987.288 L2179.27 988.955 L2179.27 984.695 L2187.53 983.029 L2192.21 983.029 L2192.21 1013.65 L2199.85 1013.65 L2199.85 1017.59 L2179.94 1017.59 L2179.94 1013.65 Z\" fill=\"#000000\" fill-rule=\"evenodd\" fill-opacity=\"1\" /><path clip-path=\"url(#clip430)\" d=\"M2209.34 983.029 L2227.69 983.029 L2227.69 986.964 L2213.62 986.964 L2213.62 995.436 Q2214.64 995.089 2215.66 994.927 Q2216.68 994.742 2217.69 994.742 Q2223.48 994.742 2226.86 997.913 Q2230.24 1001.08 2230.24 1006.5 Q2230.24 1012.08 2226.77 1015.18 Q2223.3 1018.26 2216.98 1018.26 Q2214.8 1018.26 2212.53 1017.89 Q2210.29 1017.52 2207.88 1016.78 L2207.88 1012.08 Q2209.96 1013.21 2212.19 1013.77 Q2214.41 1014.32 2216.88 1014.32 Q2220.89 1014.32 2223.23 1012.22 Q2225.56 1010.11 2225.56 1006.5 Q2225.56 1002.89 2223.23 1000.78 Q2220.89 998.677 2216.88 998.677 Q2215.01 998.677 2213.13 999.093 Q2211.28 999.51 2209.34 1000.39 L2209.34 983.029 Z\" fill=\"#000000\" fill-rule=\"evenodd\" fill-opacity=\"1\" /><polyline clip-path=\"url(#clip430)\" style=\"stroke:#6b9e32; stroke-linecap:butt; stroke-linejoin:round; stroke-width:4; stroke-opacity:1; fill:none\" points=\"\n",
       "  1977.97,1060.79 2123.21,1060.79 \n",
       "  \"/>\n",
       "<path clip-path=\"url(#clip430)\" d=\"M2161.26 1080.48 Q2159.45 1085.11 2157.74 1086.52 Q2156.03 1087.93 2153.16 1087.93 L2149.76 1087.93 L2149.76 1084.36 L2152.26 1084.36 Q2154.01 1084.36 2154.99 1083.53 Q2155.96 1082.7 2157.14 1079.6 L2157.9 1077.65 L2147.42 1052.14 L2151.93 1052.14 L2160.03 1072.42 L2168.13 1052.14 L2172.65 1052.14 L2161.26 1080.48 Z\" fill=\"#000000\" fill-rule=\"evenodd\" fill-opacity=\"1\" /><path clip-path=\"url(#clip430)\" d=\"M2179.94 1074.13 L2187.58 1074.13 L2187.58 1047.77 L2179.27 1049.43 L2179.27 1045.18 L2187.53 1043.51 L2192.21 1043.51 L2192.21 1074.13 L2199.85 1074.13 L2199.85 1078.07 L2179.94 1078.07 L2179.94 1074.13 Z\" fill=\"#000000\" fill-rule=\"evenodd\" fill-opacity=\"1\" /><path clip-path=\"url(#clip430)\" d=\"M2219.87 1058.93 Q2216.72 1058.93 2214.87 1061.08 Q2213.04 1063.23 2213.04 1066.98 Q2213.04 1070.71 2214.87 1072.88 Q2216.72 1075.04 2219.87 1075.04 Q2223.02 1075.04 2224.85 1072.88 Q2226.7 1070.71 2226.7 1066.98 Q2226.7 1063.23 2224.85 1061.08 Q2223.02 1058.93 2219.87 1058.93 M2229.15 1044.27 L2229.15 1048.53 Q2227.39 1047.7 2225.59 1047.26 Q2223.81 1046.82 2222.05 1046.82 Q2217.42 1046.82 2214.96 1049.94 Q2212.53 1053.07 2212.19 1059.39 Q2213.55 1057.37 2215.61 1056.31 Q2217.67 1055.22 2220.15 1055.22 Q2225.36 1055.22 2228.37 1058.39 Q2231.4 1061.54 2231.4 1066.98 Q2231.4 1072.3 2228.25 1075.52 Q2225.1 1078.74 2219.87 1078.74 Q2213.88 1078.74 2210.7 1074.16 Q2207.53 1069.55 2207.53 1060.82 Q2207.53 1052.63 2211.42 1047.77 Q2215.31 1042.88 2221.86 1042.88 Q2223.62 1042.88 2225.4 1043.23 Q2227.21 1043.58 2229.15 1044.27 Z\" fill=\"#000000\" fill-rule=\"evenodd\" fill-opacity=\"1\" /><polyline clip-path=\"url(#clip430)\" style=\"stroke:#009af9; stroke-linecap:butt; stroke-linejoin:round; stroke-width:4; stroke-opacity:1; fill:none\" points=\"\n",
       "  1977.97,1121.27 2123.21,1121.27 \n",
       "  \"/>\n",
       "<path clip-path=\"url(#clip430)\" d=\"M2161.26 1140.96 Q2159.45 1145.59 2157.74 1147 Q2156.03 1148.41 2153.16 1148.41 L2149.76 1148.41 L2149.76 1144.84 L2152.26 1144.84 Q2154.01 1144.84 2154.99 1144.01 Q2155.96 1143.18 2157.14 1140.08 L2157.9 1138.13 L2147.42 1112.62 L2151.93 1112.62 L2160.03 1132.9 L2168.13 1112.62 L2172.65 1112.62 L2161.26 1140.96 Z\" fill=\"#000000\" fill-rule=\"evenodd\" fill-opacity=\"1\" /><path clip-path=\"url(#clip430)\" d=\"M2179.94 1134.61 L2187.58 1134.61 L2187.58 1108.25 L2179.27 1109.91 L2179.27 1105.66 L2187.53 1103.99 L2192.21 1103.99 L2192.21 1134.61 L2199.85 1134.61 L2199.85 1138.55 L2179.94 1138.55 L2179.94 1134.61 Z\" fill=\"#000000\" fill-rule=\"evenodd\" fill-opacity=\"1\" /><path clip-path=\"url(#clip430)\" d=\"M2208.11 1103.99 L2230.33 1103.99 L2230.33 1105.98 L2217.79 1138.55 L2212.9 1138.55 L2224.71 1107.92 L2208.11 1107.92 L2208.11 1103.99 Z\" fill=\"#000000\" fill-rule=\"evenodd\" fill-opacity=\"1\" /><polyline clip-path=\"url(#clip430)\" style=\"stroke:#e26f46; stroke-linecap:butt; stroke-linejoin:round; stroke-width:4; stroke-opacity:1; fill:none\" points=\"\n",
       "  1977.97,1181.75 2123.21,1181.75 \n",
       "  \"/>\n",
       "<path clip-path=\"url(#clip430)\" d=\"M2161.26 1201.44 Q2159.45 1206.07 2157.74 1207.48 Q2156.03 1208.89 2153.16 1208.89 L2149.76 1208.89 L2149.76 1205.32 L2152.26 1205.32 Q2154.01 1205.32 2154.99 1204.49 Q2155.96 1203.66 2157.14 1200.56 L2157.9 1198.61 L2147.42 1173.1 L2151.93 1173.1 L2160.03 1193.38 L2168.13 1173.1 L2172.65 1173.1 L2161.26 1201.44 Z\" fill=\"#000000\" fill-rule=\"evenodd\" fill-opacity=\"1\" /><path clip-path=\"url(#clip430)\" d=\"M2179.94 1195.09 L2187.58 1195.09 L2187.58 1168.73 L2179.27 1170.39 L2179.27 1166.14 L2187.53 1164.47 L2192.21 1164.47 L2192.21 1195.09 L2199.85 1195.09 L2199.85 1199.03 L2179.94 1199.03 L2179.94 1195.09 Z\" fill=\"#000000\" fill-rule=\"evenodd\" fill-opacity=\"1\" /><path clip-path=\"url(#clip430)\" d=\"M2219.29 1182.62 Q2215.96 1182.62 2214.04 1184.4 Q2212.14 1186.18 2212.14 1189.31 Q2212.14 1192.43 2214.04 1194.21 Q2215.96 1196 2219.29 1196 Q2222.63 1196 2224.55 1194.21 Q2226.47 1192.41 2226.47 1189.31 Q2226.47 1186.18 2224.55 1184.4 Q2222.65 1182.62 2219.29 1182.62 M2214.62 1180.63 Q2211.61 1179.89 2209.92 1177.83 Q2208.25 1175.76 2208.25 1172.8 Q2208.25 1168.66 2211.19 1166.25 Q2214.15 1163.84 2219.29 1163.84 Q2224.45 1163.84 2227.39 1166.25 Q2230.33 1168.66 2230.33 1172.8 Q2230.33 1175.76 2228.64 1177.83 Q2226.98 1179.89 2223.99 1180.63 Q2227.37 1181.41 2229.25 1183.7 Q2231.14 1186 2231.14 1189.31 Q2231.14 1194.33 2228.06 1197.01 Q2225.01 1199.7 2219.29 1199.7 Q2213.57 1199.7 2210.5 1197.01 Q2207.44 1194.33 2207.44 1189.31 Q2207.44 1186 2209.34 1183.7 Q2211.24 1181.41 2214.62 1180.63 M2212.9 1173.24 Q2212.9 1175.93 2214.57 1177.43 Q2216.26 1178.94 2219.29 1178.94 Q2222.3 1178.94 2223.99 1177.43 Q2225.7 1175.93 2225.7 1173.24 Q2225.7 1170.56 2223.99 1169.05 Q2222.3 1167.55 2219.29 1167.55 Q2216.26 1167.55 2214.57 1169.05 Q2212.9 1170.56 2212.9 1173.24 Z\" fill=\"#000000\" fill-rule=\"evenodd\" fill-opacity=\"1\" /><polyline clip-path=\"url(#clip430)\" style=\"stroke:#3da44d; stroke-linecap:butt; stroke-linejoin:round; stroke-width:4; stroke-opacity:1; fill:none\" points=\"\n",
       "  1977.97,1242.23 2123.21,1242.23 \n",
       "  \"/>\n",
       "<path clip-path=\"url(#clip430)\" d=\"M2161.26 1261.92 Q2159.45 1266.55 2157.74 1267.96 Q2156.03 1269.37 2153.16 1269.37 L2149.76 1269.37 L2149.76 1265.8 L2152.26 1265.8 Q2154.01 1265.8 2154.99 1264.97 Q2155.96 1264.14 2157.14 1261.04 L2157.9 1259.09 L2147.42 1233.58 L2151.93 1233.58 L2160.03 1253.86 L2168.13 1233.58 L2172.65 1233.58 L2161.26 1261.92 Z\" fill=\"#000000\" fill-rule=\"evenodd\" fill-opacity=\"1\" /><path clip-path=\"url(#clip430)\" d=\"M2179.94 1255.57 L2187.58 1255.57 L2187.58 1229.21 L2179.27 1230.87 L2179.27 1226.62 L2187.53 1224.95 L2192.21 1224.95 L2192.21 1255.57 L2199.85 1255.57 L2199.85 1259.51 L2179.94 1259.51 L2179.94 1255.57 Z\" fill=\"#000000\" fill-rule=\"evenodd\" fill-opacity=\"1\" /><path clip-path=\"url(#clip430)\" d=\"M2209.43 1258.79 L2209.43 1254.53 Q2211.19 1255.37 2213 1255.8 Q2214.8 1256.24 2216.54 1256.24 Q2221.17 1256.24 2223.6 1253.14 Q2226.05 1250.02 2226.4 1243.68 Q2225.06 1245.67 2223 1246.73 Q2220.94 1247.8 2218.44 1247.8 Q2213.25 1247.8 2210.22 1244.67 Q2207.21 1241.52 2207.21 1236.08 Q2207.21 1230.76 2210.36 1227.54 Q2213.5 1224.32 2218.74 1224.32 Q2224.73 1224.32 2227.88 1228.93 Q2231.05 1233.51 2231.05 1242.26 Q2231.05 1250.43 2227.16 1255.32 Q2223.3 1260.18 2216.75 1260.18 Q2214.99 1260.18 2213.18 1259.83 Q2211.38 1259.49 2209.43 1258.79 M2218.74 1244.14 Q2221.88 1244.14 2223.71 1241.99 Q2225.56 1239.83 2225.56 1236.08 Q2225.56 1232.36 2223.71 1230.2 Q2221.88 1228.03 2218.74 1228.03 Q2215.59 1228.03 2213.74 1230.2 Q2211.91 1232.36 2211.91 1236.08 Q2211.91 1239.83 2213.74 1241.99 Q2215.59 1244.14 2218.74 1244.14 Z\" fill=\"#000000\" fill-rule=\"evenodd\" fill-opacity=\"1\" /><polyline clip-path=\"url(#clip430)\" style=\"stroke:#c271d2; stroke-linecap:butt; stroke-linejoin:round; stroke-width:4; stroke-opacity:1; fill:none\" points=\"\n",
       "  1977.97,1302.71 2123.21,1302.71 \n",
       "  \"/>\n",
       "<path clip-path=\"url(#clip430)\" d=\"M2161.26 1322.4 Q2159.45 1327.03 2157.74 1328.44 Q2156.03 1329.85 2153.16 1329.85 L2149.76 1329.85 L2149.76 1326.28 L2152.26 1326.28 Q2154.01 1326.28 2154.99 1325.45 Q2155.96 1324.62 2157.14 1321.52 L2157.9 1319.57 L2147.42 1294.06 L2151.93 1294.06 L2160.03 1314.34 L2168.13 1294.06 L2172.65 1294.06 L2161.26 1322.4 Z\" fill=\"#000000\" fill-rule=\"evenodd\" fill-opacity=\"1\" /><path clip-path=\"url(#clip430)\" d=\"M2183.16 1316.05 L2199.48 1316.05 L2199.48 1319.99 L2177.53 1319.99 L2177.53 1316.05 Q2180.19 1313.3 2184.78 1308.67 Q2189.38 1304.02 2190.56 1302.67 Q2192.81 1300.15 2193.69 1298.41 Q2194.59 1296.66 2194.59 1294.97 Q2194.59 1292.21 2192.65 1290.47 Q2190.73 1288.74 2187.63 1288.74 Q2185.43 1288.74 2182.97 1289.5 Q2180.54 1290.27 2177.76 1291.82 L2177.76 1287.1 Q2180.59 1285.96 2183.04 1285.38 Q2185.5 1284.8 2187.53 1284.8 Q2192.9 1284.8 2196.1 1287.49 Q2199.29 1290.17 2199.29 1294.66 Q2199.29 1296.79 2198.48 1298.72 Q2197.69 1300.61 2195.59 1303.21 Q2195.01 1303.88 2191.91 1307.1 Q2188.81 1310.29 2183.16 1316.05 Z\" fill=\"#000000\" fill-rule=\"evenodd\" fill-opacity=\"1\" /><path clip-path=\"url(#clip430)\" d=\"M2219.29 1288.51 Q2215.68 1288.51 2213.85 1292.07 Q2212.05 1295.61 2212.05 1302.74 Q2212.05 1309.85 2213.85 1313.41 Q2215.68 1316.96 2219.29 1316.96 Q2222.93 1316.96 2224.73 1313.41 Q2226.56 1309.85 2226.56 1302.74 Q2226.56 1295.61 2224.73 1292.07 Q2222.93 1288.51 2219.29 1288.51 M2219.29 1284.8 Q2225.1 1284.8 2228.16 1289.41 Q2231.24 1293.99 2231.24 1302.74 Q2231.24 1311.47 2228.16 1316.08 Q2225.1 1320.66 2219.29 1320.66 Q2213.48 1320.66 2210.4 1316.08 Q2207.35 1311.47 2207.35 1302.74 Q2207.35 1293.99 2210.4 1289.41 Q2213.48 1284.8 2219.29 1284.8 Z\" fill=\"#000000\" fill-rule=\"evenodd\" fill-opacity=\"1\" /><polyline clip-path=\"url(#clip430)\" style=\"stroke:#ac8d18; stroke-linecap:butt; stroke-linejoin:round; stroke-width:4; stroke-opacity:1; fill:none\" points=\"\n",
       "  1977.97,1363.19 2123.21,1363.19 \n",
       "  \"/>\n",
       "<path clip-path=\"url(#clip430)\" d=\"M2161.26 1382.88 Q2159.45 1387.51 2157.74 1388.92 Q2156.03 1390.33 2153.16 1390.33 L2149.76 1390.33 L2149.76 1386.76 L2152.26 1386.76 Q2154.01 1386.76 2154.99 1385.93 Q2155.96 1385.1 2157.14 1382 L2157.9 1380.05 L2147.42 1354.54 L2151.93 1354.54 L2160.03 1374.82 L2168.13 1354.54 L2172.65 1354.54 L2161.26 1382.88 Z\" fill=\"#000000\" fill-rule=\"evenodd\" fill-opacity=\"1\" /><path clip-path=\"url(#clip430)\" d=\"M2183.16 1376.53 L2199.48 1376.53 L2199.48 1380.47 L2177.53 1380.47 L2177.53 1376.53 Q2180.19 1373.78 2184.78 1369.15 Q2189.38 1364.5 2190.56 1363.15 Q2192.81 1360.63 2193.69 1358.89 Q2194.59 1357.14 2194.59 1355.45 Q2194.59 1352.69 2192.65 1350.95 Q2190.73 1349.22 2187.63 1349.22 Q2185.43 1349.22 2182.97 1349.98 Q2180.54 1350.75 2177.76 1352.3 L2177.76 1347.58 Q2180.59 1346.44 2183.04 1345.86 Q2185.5 1345.28 2187.53 1345.28 Q2192.9 1345.28 2196.1 1347.97 Q2199.29 1350.65 2199.29 1355.14 Q2199.29 1357.27 2198.48 1359.2 Q2197.69 1361.09 2195.59 1363.69 Q2195.01 1364.36 2191.91 1367.58 Q2188.81 1370.77 2183.16 1376.53 Z\" fill=\"#000000\" fill-rule=\"evenodd\" fill-opacity=\"1\" /><path clip-path=\"url(#clip430)\" d=\"M2210.1 1376.53 L2217.74 1376.53 L2217.74 1350.17 L2209.43 1351.83 L2209.43 1347.58 L2217.69 1345.91 L2222.37 1345.91 L2222.37 1376.53 L2230.01 1376.53 L2230.01 1380.47 L2210.1 1380.47 L2210.1 1376.53 Z\" fill=\"#000000\" fill-rule=\"evenodd\" fill-opacity=\"1\" /><polyline clip-path=\"url(#clip430)\" style=\"stroke:#00a9ad; stroke-linecap:butt; stroke-linejoin:round; stroke-width:4; stroke-opacity:1; fill:none\" points=\"\n",
       "  1977.97,1423.67 2123.21,1423.67 \n",
       "  \"/>\n",
       "<path clip-path=\"url(#clip430)\" d=\"M2161.26 1443.36 Q2159.45 1447.99 2157.74 1449.4 Q2156.03 1450.81 2153.16 1450.81 L2149.76 1450.81 L2149.76 1447.24 L2152.26 1447.24 Q2154.01 1447.24 2154.99 1446.41 Q2155.96 1445.58 2157.14 1442.48 L2157.9 1440.53 L2147.42 1415.02 L2151.93 1415.02 L2160.03 1435.3 L2168.13 1415.02 L2172.65 1415.02 L2161.26 1443.36 Z\" fill=\"#000000\" fill-rule=\"evenodd\" fill-opacity=\"1\" /><path clip-path=\"url(#clip430)\" d=\"M2183.16 1437.01 L2199.48 1437.01 L2199.48 1440.95 L2177.53 1440.95 L2177.53 1437.01 Q2180.19 1434.26 2184.78 1429.63 Q2189.38 1424.98 2190.56 1423.63 Q2192.81 1421.11 2193.69 1419.37 Q2194.59 1417.62 2194.59 1415.93 Q2194.59 1413.17 2192.65 1411.43 Q2190.73 1409.7 2187.63 1409.7 Q2185.43 1409.7 2182.97 1410.46 Q2180.54 1411.23 2177.76 1412.78 L2177.76 1408.06 Q2180.59 1406.92 2183.04 1406.34 Q2185.5 1405.76 2187.53 1405.76 Q2192.9 1405.76 2196.1 1408.45 Q2199.29 1411.13 2199.29 1415.62 Q2199.29 1417.75 2198.48 1419.68 Q2197.69 1421.57 2195.59 1424.17 Q2195.01 1424.84 2191.91 1428.06 Q2188.81 1431.25 2183.16 1437.01 Z\" fill=\"#000000\" fill-rule=\"evenodd\" fill-opacity=\"1\" /><path clip-path=\"url(#clip430)\" d=\"M2213.32 1437.01 L2229.64 1437.01 L2229.64 1440.95 L2207.69 1440.95 L2207.69 1437.01 Q2210.36 1434.26 2214.94 1429.63 Q2219.55 1424.98 2220.73 1423.63 Q2222.97 1421.11 2223.85 1419.37 Q2224.75 1417.62 2224.75 1415.93 Q2224.75 1413.17 2222.81 1411.43 Q2220.89 1409.7 2217.79 1409.7 Q2215.59 1409.7 2213.13 1410.46 Q2210.7 1411.23 2207.93 1412.78 L2207.93 1408.06 Q2210.75 1406.92 2213.2 1406.34 Q2215.66 1405.76 2217.69 1405.76 Q2223.06 1405.76 2226.26 1408.45 Q2229.45 1411.13 2229.45 1415.62 Q2229.45 1417.75 2228.64 1419.68 Q2227.86 1421.57 2225.75 1424.17 Q2225.17 1424.84 2222.07 1428.06 Q2218.97 1431.25 2213.32 1437.01 Z\" fill=\"#000000\" fill-rule=\"evenodd\" fill-opacity=\"1\" /><polyline clip-path=\"url(#clip430)\" style=\"stroke:#ed5d92; stroke-linecap:butt; stroke-linejoin:round; stroke-width:4; stroke-opacity:1; fill:none\" points=\"\n",
       "  1977.97,1484.15 2123.21,1484.15 \n",
       "  \"/>\n",
       "<path clip-path=\"url(#clip430)\" d=\"M2161.26 1503.84 Q2159.45 1508.47 2157.74 1509.88 Q2156.03 1511.29 2153.16 1511.29 L2149.76 1511.29 L2149.76 1507.72 L2152.26 1507.72 Q2154.01 1507.72 2154.99 1506.89 Q2155.96 1506.06 2157.14 1502.96 L2157.9 1501.01 L2147.42 1475.5 L2151.93 1475.5 L2160.03 1495.78 L2168.13 1475.5 L2172.65 1475.5 L2161.26 1503.84 Z\" fill=\"#000000\" fill-rule=\"evenodd\" fill-opacity=\"1\" /><path clip-path=\"url(#clip430)\" d=\"M2183.16 1497.49 L2199.48 1497.49 L2199.48 1501.43 L2177.53 1501.43 L2177.53 1497.49 Q2180.19 1494.74 2184.78 1490.11 Q2189.38 1485.46 2190.56 1484.11 Q2192.81 1481.59 2193.69 1479.85 Q2194.59 1478.1 2194.59 1476.41 Q2194.59 1473.65 2192.65 1471.91 Q2190.73 1470.18 2187.63 1470.18 Q2185.43 1470.18 2182.97 1470.94 Q2180.54 1471.71 2177.76 1473.26 L2177.76 1468.54 Q2180.59 1467.4 2183.04 1466.82 Q2185.5 1466.24 2187.53 1466.24 Q2192.9 1466.24 2196.1 1468.93 Q2199.29 1471.61 2199.29 1476.1 Q2199.29 1478.23 2198.48 1480.16 Q2197.69 1482.05 2195.59 1484.65 Q2195.01 1485.32 2191.91 1488.54 Q2188.81 1491.73 2183.16 1497.49 Z\" fill=\"#000000\" fill-rule=\"evenodd\" fill-opacity=\"1\" /><path clip-path=\"url(#clip430)\" d=\"M2223.46 1482.79 Q2226.81 1483.51 2228.69 1485.78 Q2230.59 1488.05 2230.59 1491.38 Q2230.59 1496.5 2227.07 1499.3 Q2223.55 1502.1 2217.07 1502.1 Q2214.89 1502.1 2212.58 1501.66 Q2210.29 1501.24 2207.83 1500.39 L2207.83 1495.87 Q2209.78 1497.01 2212.09 1497.59 Q2214.41 1498.16 2216.93 1498.16 Q2221.33 1498.16 2223.62 1496.43 Q2225.94 1494.69 2225.94 1491.38 Q2225.94 1488.33 2223.78 1486.61 Q2221.65 1484.88 2217.83 1484.88 L2213.81 1484.88 L2213.81 1481.04 L2218.02 1481.04 Q2221.47 1481.04 2223.3 1479.67 Q2225.12 1478.28 2225.12 1475.69 Q2225.12 1473.03 2223.23 1471.61 Q2221.35 1470.18 2217.83 1470.18 Q2215.91 1470.18 2213.71 1470.6 Q2211.51 1471.01 2208.88 1471.89 L2208.88 1467.73 Q2211.54 1466.98 2213.85 1466.61 Q2216.19 1466.24 2218.25 1466.24 Q2223.57 1466.24 2226.68 1468.67 Q2229.78 1471.08 2229.78 1475.2 Q2229.78 1478.07 2228.13 1480.06 Q2226.49 1482.03 2223.46 1482.79 Z\" fill=\"#000000\" fill-rule=\"evenodd\" fill-opacity=\"1\" /><polyline clip-path=\"url(#clip430)\" style=\"stroke:#c68125; stroke-linecap:butt; stroke-linejoin:round; stroke-width:4; stroke-opacity:1; fill:none\" points=\"\n",
       "  1977.97,1544.63 2123.21,1544.63 \n",
       "  \"/>\n",
       "<path clip-path=\"url(#clip430)\" d=\"M2161.26 1564.32 Q2159.45 1568.95 2157.74 1570.36 Q2156.03 1571.77 2153.16 1571.77 L2149.76 1571.77 L2149.76 1568.2 L2152.26 1568.2 Q2154.01 1568.2 2154.99 1567.37 Q2155.96 1566.54 2157.14 1563.44 L2157.9 1561.49 L2147.42 1535.98 L2151.93 1535.98 L2160.03 1556.26 L2168.13 1535.98 L2172.65 1535.98 L2161.26 1564.32 Z\" fill=\"#000000\" fill-rule=\"evenodd\" fill-opacity=\"1\" /><path clip-path=\"url(#clip430)\" d=\"M2183.16 1557.97 L2199.48 1557.97 L2199.48 1561.91 L2177.53 1561.91 L2177.53 1557.97 Q2180.19 1555.22 2184.78 1550.59 Q2189.38 1545.94 2190.56 1544.59 Q2192.81 1542.07 2193.69 1540.33 Q2194.59 1538.58 2194.59 1536.89 Q2194.59 1534.13 2192.65 1532.39 Q2190.73 1530.66 2187.63 1530.66 Q2185.43 1530.66 2182.97 1531.42 Q2180.54 1532.19 2177.76 1533.74 L2177.76 1529.02 Q2180.59 1527.88 2183.04 1527.3 Q2185.5 1526.72 2187.53 1526.72 Q2192.9 1526.72 2196.1 1529.41 Q2199.29 1532.09 2199.29 1536.58 Q2199.29 1538.71 2198.48 1540.64 Q2197.69 1542.53 2195.59 1545.13 Q2195.01 1545.8 2191.91 1549.02 Q2188.81 1552.21 2183.16 1557.97 Z\" fill=\"#000000\" fill-rule=\"evenodd\" fill-opacity=\"1\" /><path clip-path=\"url(#clip430)\" d=\"M2222.14 1531.42 L2210.33 1549.87 L2222.14 1549.87 L2222.14 1531.42 M2220.91 1527.35 L2226.79 1527.35 L2226.79 1549.87 L2231.72 1549.87 L2231.72 1553.76 L2226.79 1553.76 L2226.79 1561.91 L2222.14 1561.91 L2222.14 1553.76 L2206.54 1553.76 L2206.54 1549.25 L2220.91 1527.35 Z\" fill=\"#000000\" fill-rule=\"evenodd\" fill-opacity=\"1\" /><polyline clip-path=\"url(#clip430)\" style=\"stroke:#00a98d; stroke-linecap:butt; stroke-linejoin:round; stroke-width:4; stroke-opacity:1; fill:none\" points=\"\n",
       "  1977.97,1605.11 2123.21,1605.11 \n",
       "  \"/>\n",
       "<path clip-path=\"url(#clip430)\" d=\"M2161.26 1624.8 Q2159.45 1629.43 2157.74 1630.84 Q2156.03 1632.25 2153.16 1632.25 L2149.76 1632.25 L2149.76 1628.68 L2152.26 1628.68 Q2154.01 1628.68 2154.99 1627.85 Q2155.96 1627.02 2157.14 1623.92 L2157.9 1621.97 L2147.42 1596.46 L2151.93 1596.46 L2160.03 1616.74 L2168.13 1596.46 L2172.65 1596.46 L2161.26 1624.8 Z\" fill=\"#000000\" fill-rule=\"evenodd\" fill-opacity=\"1\" /><path clip-path=\"url(#clip430)\" d=\"M2183.16 1618.45 L2199.48 1618.45 L2199.48 1622.39 L2177.53 1622.39 L2177.53 1618.45 Q2180.19 1615.7 2184.78 1611.07 Q2189.38 1606.42 2190.56 1605.07 Q2192.81 1602.55 2193.69 1600.81 Q2194.59 1599.06 2194.59 1597.37 Q2194.59 1594.61 2192.65 1592.87 Q2190.73 1591.14 2187.63 1591.14 Q2185.43 1591.14 2182.97 1591.9 Q2180.54 1592.67 2177.76 1594.22 L2177.76 1589.5 Q2180.59 1588.36 2183.04 1587.78 Q2185.5 1587.2 2187.53 1587.2 Q2192.9 1587.2 2196.1 1589.89 Q2199.29 1592.57 2199.29 1597.06 Q2199.29 1599.19 2198.48 1601.12 Q2197.69 1603.01 2195.59 1605.61 Q2195.01 1606.28 2191.91 1609.5 Q2188.81 1612.69 2183.16 1618.45 Z\" fill=\"#000000\" fill-rule=\"evenodd\" fill-opacity=\"1\" /><path clip-path=\"url(#clip430)\" d=\"M2209.34 1587.83 L2227.69 1587.83 L2227.69 1591.76 L2213.62 1591.76 L2213.62 1600.24 Q2214.64 1599.89 2215.66 1599.73 Q2216.68 1599.54 2217.69 1599.54 Q2223.48 1599.54 2226.86 1602.71 Q2230.24 1605.88 2230.24 1611.3 Q2230.24 1616.88 2226.77 1619.98 Q2223.3 1623.06 2216.98 1623.06 Q2214.8 1623.06 2212.53 1622.69 Q2210.29 1622.32 2207.88 1621.58 L2207.88 1616.88 Q2209.96 1618.01 2212.19 1618.57 Q2214.41 1619.12 2216.88 1619.12 Q2220.89 1619.12 2223.23 1617.02 Q2225.56 1614.91 2225.56 1611.3 Q2225.56 1607.69 2223.23 1605.58 Q2220.89 1603.48 2216.88 1603.48 Q2215.01 1603.48 2213.13 1603.89 Q2211.28 1604.31 2209.34 1605.19 L2209.34 1587.83 Z\" fill=\"#000000\" fill-rule=\"evenodd\" fill-opacity=\"1\" /><polyline clip-path=\"url(#clip430)\" style=\"stroke:#8e971d; stroke-linecap:butt; stroke-linejoin:round; stroke-width:4; stroke-opacity:1; fill:none\" points=\"\n",
       "  1977.97,1665.59 2123.21,1665.59 \n",
       "  \"/>\n",
       "<path clip-path=\"url(#clip430)\" d=\"M2161.26 1685.28 Q2159.45 1689.91 2157.74 1691.32 Q2156.03 1692.73 2153.16 1692.73 L2149.76 1692.73 L2149.76 1689.16 L2152.26 1689.16 Q2154.01 1689.16 2154.99 1688.33 Q2155.96 1687.5 2157.14 1684.4 L2157.9 1682.45 L2147.42 1656.94 L2151.93 1656.94 L2160.03 1677.22 L2168.13 1656.94 L2172.65 1656.94 L2161.26 1685.28 Z\" fill=\"#000000\" fill-rule=\"evenodd\" fill-opacity=\"1\" /><path clip-path=\"url(#clip430)\" d=\"M2183.16 1678.93 L2199.48 1678.93 L2199.48 1682.87 L2177.53 1682.87 L2177.53 1678.93 Q2180.19 1676.18 2184.78 1671.55 Q2189.38 1666.9 2190.56 1665.55 Q2192.81 1663.03 2193.69 1661.29 Q2194.59 1659.54 2194.59 1657.85 Q2194.59 1655.09 2192.65 1653.35 Q2190.73 1651.62 2187.63 1651.62 Q2185.43 1651.62 2182.97 1652.38 Q2180.54 1653.15 2177.76 1654.7 L2177.76 1649.98 Q2180.59 1648.84 2183.04 1648.26 Q2185.5 1647.68 2187.53 1647.68 Q2192.9 1647.68 2196.1 1650.37 Q2199.29 1653.05 2199.29 1657.54 Q2199.29 1659.67 2198.48 1661.6 Q2197.69 1663.49 2195.59 1666.09 Q2195.01 1666.76 2191.91 1669.98 Q2188.81 1673.17 2183.16 1678.93 Z\" fill=\"#000000\" fill-rule=\"evenodd\" fill-opacity=\"1\" /><path clip-path=\"url(#clip430)\" d=\"M2219.87 1663.73 Q2216.72 1663.73 2214.87 1665.88 Q2213.04 1668.03 2213.04 1671.78 Q2213.04 1675.51 2214.87 1677.68 Q2216.72 1679.84 2219.87 1679.84 Q2223.02 1679.84 2224.85 1677.68 Q2226.7 1675.51 2226.7 1671.78 Q2226.7 1668.03 2224.85 1665.88 Q2223.02 1663.73 2219.87 1663.73 M2229.15 1649.07 L2229.15 1653.33 Q2227.39 1652.5 2225.59 1652.06 Q2223.81 1651.62 2222.05 1651.62 Q2217.42 1651.62 2214.96 1654.74 Q2212.53 1657.87 2212.19 1664.19 Q2213.55 1662.17 2215.61 1661.11 Q2217.67 1660.02 2220.15 1660.02 Q2225.36 1660.02 2228.37 1663.19 Q2231.4 1666.34 2231.4 1671.78 Q2231.4 1677.1 2228.25 1680.32 Q2225.1 1683.54 2219.87 1683.54 Q2213.88 1683.54 2210.7 1678.96 Q2207.53 1674.35 2207.53 1665.62 Q2207.53 1657.43 2211.42 1652.57 Q2215.31 1647.68 2221.86 1647.68 Q2223.62 1647.68 2225.4 1648.03 Q2227.21 1648.38 2229.15 1649.07 Z\" fill=\"#000000\" fill-rule=\"evenodd\" fill-opacity=\"1\" /><polyline clip-path=\"url(#clip430)\" style=\"stroke:#00a8cb; stroke-linecap:butt; stroke-linejoin:round; stroke-width:4; stroke-opacity:1; fill:none\" points=\"\n",
       "  1977.97,1726.07 2123.21,1726.07 \n",
       "  \"/>\n",
       "<path clip-path=\"url(#clip430)\" d=\"M2161.26 1745.76 Q2159.45 1750.39 2157.74 1751.8 Q2156.03 1753.21 2153.16 1753.21 L2149.76 1753.21 L2149.76 1749.64 L2152.26 1749.64 Q2154.01 1749.64 2154.99 1748.81 Q2155.96 1747.98 2157.14 1744.88 L2157.9 1742.93 L2147.42 1717.42 L2151.93 1717.42 L2160.03 1737.7 L2168.13 1717.42 L2172.65 1717.42 L2161.26 1745.76 Z\" fill=\"#000000\" fill-rule=\"evenodd\" fill-opacity=\"1\" /><path clip-path=\"url(#clip430)\" d=\"M2183.16 1739.41 L2199.48 1739.41 L2199.48 1743.35 L2177.53 1743.35 L2177.53 1739.41 Q2180.19 1736.66 2184.78 1732.03 Q2189.38 1727.38 2190.56 1726.03 Q2192.81 1723.51 2193.69 1721.77 Q2194.59 1720.02 2194.59 1718.33 Q2194.59 1715.57 2192.65 1713.83 Q2190.73 1712.1 2187.63 1712.1 Q2185.43 1712.1 2182.97 1712.86 Q2180.54 1713.63 2177.76 1715.18 L2177.76 1710.46 Q2180.59 1709.32 2183.04 1708.74 Q2185.5 1708.16 2187.53 1708.16 Q2192.9 1708.16 2196.1 1710.85 Q2199.29 1713.53 2199.29 1718.02 Q2199.29 1720.15 2198.48 1722.08 Q2197.69 1723.97 2195.59 1726.57 Q2195.01 1727.24 2191.91 1730.46 Q2188.81 1733.65 2183.16 1739.41 Z\" fill=\"#000000\" fill-rule=\"evenodd\" fill-opacity=\"1\" /><path clip-path=\"url(#clip430)\" d=\"M2208.11 1708.79 L2230.33 1708.79 L2230.33 1710.78 L2217.79 1743.35 L2212.9 1743.35 L2224.71 1712.72 L2208.11 1712.72 L2208.11 1708.79 Z\" fill=\"#000000\" fill-rule=\"evenodd\" fill-opacity=\"1\" /><polyline clip-path=\"url(#clip430)\" style=\"stroke:#9b7fe8; stroke-linecap:butt; stroke-linejoin:round; stroke-width:4; stroke-opacity:1; fill:none\" points=\"\n",
       "  1977.97,1786.55 2123.21,1786.55 \n",
       "  \"/>\n",
       "<path clip-path=\"url(#clip430)\" d=\"M2161.26 1806.24 Q2159.45 1810.87 2157.74 1812.28 Q2156.03 1813.69 2153.16 1813.69 L2149.76 1813.69 L2149.76 1810.12 L2152.26 1810.12 Q2154.01 1810.12 2154.99 1809.29 Q2155.96 1808.46 2157.14 1805.36 L2157.9 1803.41 L2147.42 1777.9 L2151.93 1777.9 L2160.03 1798.18 L2168.13 1777.9 L2172.65 1777.9 L2161.26 1806.24 Z\" fill=\"#000000\" fill-rule=\"evenodd\" fill-opacity=\"1\" /><path clip-path=\"url(#clip430)\" d=\"M2183.16 1799.89 L2199.48 1799.89 L2199.48 1803.83 L2177.53 1803.83 L2177.53 1799.89 Q2180.19 1797.14 2184.78 1792.51 Q2189.38 1787.86 2190.56 1786.51 Q2192.81 1783.99 2193.69 1782.25 Q2194.59 1780.5 2194.59 1778.81 Q2194.59 1776.05 2192.65 1774.31 Q2190.73 1772.58 2187.63 1772.58 Q2185.43 1772.58 2182.97 1773.34 Q2180.54 1774.11 2177.76 1775.66 L2177.76 1770.94 Q2180.59 1769.8 2183.04 1769.22 Q2185.5 1768.64 2187.53 1768.64 Q2192.9 1768.64 2196.1 1771.33 Q2199.29 1774.01 2199.29 1778.5 Q2199.29 1780.63 2198.48 1782.56 Q2197.69 1784.45 2195.59 1787.05 Q2195.01 1787.72 2191.91 1790.94 Q2188.81 1794.13 2183.16 1799.89 Z\" fill=\"#000000\" fill-rule=\"evenodd\" fill-opacity=\"1\" /><path clip-path=\"url(#clip430)\" d=\"M2219.29 1787.42 Q2215.96 1787.42 2214.04 1789.2 Q2212.14 1790.98 2212.14 1794.11 Q2212.14 1797.23 2214.04 1799.01 Q2215.96 1800.8 2219.29 1800.8 Q2222.63 1800.8 2224.55 1799.01 Q2226.47 1797.21 2226.47 1794.11 Q2226.47 1790.98 2224.55 1789.2 Q2222.65 1787.42 2219.29 1787.42 M2214.62 1785.43 Q2211.61 1784.69 2209.92 1782.63 Q2208.25 1780.56 2208.25 1777.6 Q2208.25 1773.46 2211.19 1771.05 Q2214.15 1768.64 2219.29 1768.64 Q2224.45 1768.64 2227.39 1771.05 Q2230.33 1773.46 2230.33 1777.6 Q2230.33 1780.56 2228.64 1782.63 Q2226.98 1784.69 2223.99 1785.43 Q2227.37 1786.21 2229.25 1788.5 Q2231.14 1790.8 2231.14 1794.11 Q2231.14 1799.13 2228.06 1801.81 Q2225.01 1804.5 2219.29 1804.5 Q2213.57 1804.5 2210.5 1801.81 Q2207.44 1799.13 2207.44 1794.11 Q2207.44 1790.8 2209.34 1788.5 Q2211.24 1786.21 2214.62 1785.43 M2212.9 1778.04 Q2212.9 1780.73 2214.57 1782.23 Q2216.26 1783.74 2219.29 1783.74 Q2222.3 1783.74 2223.99 1782.23 Q2225.7 1780.73 2225.7 1778.04 Q2225.7 1775.36 2223.99 1773.85 Q2222.3 1772.35 2219.29 1772.35 Q2216.26 1772.35 2214.57 1773.85 Q2212.9 1775.36 2212.9 1778.04 Z\" fill=\"#000000\" fill-rule=\"evenodd\" fill-opacity=\"1\" /><polyline clip-path=\"url(#clip430)\" style=\"stroke:#608cf6; stroke-linecap:butt; stroke-linejoin:round; stroke-width:4; stroke-opacity:1; fill:none\" points=\"\n",
       "  1977.97,1847.03 2123.21,1847.03 \n",
       "  \"/>\n",
       "<path clip-path=\"url(#clip430)\" d=\"M2161.26 1866.72 Q2159.45 1871.35 2157.74 1872.76 Q2156.03 1874.17 2153.16 1874.17 L2149.76 1874.17 L2149.76 1870.6 L2152.26 1870.6 Q2154.01 1870.6 2154.99 1869.77 Q2155.96 1868.94 2157.14 1865.84 L2157.9 1863.89 L2147.42 1838.38 L2151.93 1838.38 L2160.03 1858.66 L2168.13 1838.38 L2172.65 1838.38 L2161.26 1866.72 Z\" fill=\"#000000\" fill-rule=\"evenodd\" fill-opacity=\"1\" /><path clip-path=\"url(#clip430)\" d=\"M2183.16 1860.37 L2199.48 1860.37 L2199.48 1864.31 L2177.53 1864.31 L2177.53 1860.37 Q2180.19 1857.62 2184.78 1852.99 Q2189.38 1848.34 2190.56 1846.99 Q2192.81 1844.47 2193.69 1842.73 Q2194.59 1840.98 2194.59 1839.29 Q2194.59 1836.53 2192.65 1834.79 Q2190.73 1833.06 2187.63 1833.06 Q2185.43 1833.06 2182.97 1833.82 Q2180.54 1834.59 2177.76 1836.14 L2177.76 1831.42 Q2180.59 1830.28 2183.04 1829.7 Q2185.5 1829.12 2187.53 1829.12 Q2192.9 1829.12 2196.1 1831.81 Q2199.29 1834.49 2199.29 1838.98 Q2199.29 1841.11 2198.48 1843.04 Q2197.69 1844.93 2195.59 1847.53 Q2195.01 1848.2 2191.91 1851.42 Q2188.81 1854.61 2183.16 1860.37 Z\" fill=\"#000000\" fill-rule=\"evenodd\" fill-opacity=\"1\" /><path clip-path=\"url(#clip430)\" d=\"M2209.43 1863.59 L2209.43 1859.33 Q2211.19 1860.17 2213 1860.6 Q2214.8 1861.04 2216.54 1861.04 Q2221.17 1861.04 2223.6 1857.94 Q2226.05 1854.82 2226.4 1848.48 Q2225.06 1850.47 2223 1851.53 Q2220.94 1852.6 2218.44 1852.6 Q2213.25 1852.6 2210.22 1849.47 Q2207.21 1846.32 2207.21 1840.88 Q2207.21 1835.56 2210.36 1832.34 Q2213.5 1829.12 2218.74 1829.12 Q2224.73 1829.12 2227.88 1833.73 Q2231.05 1838.31 2231.05 1847.06 Q2231.05 1855.23 2227.16 1860.12 Q2223.3 1864.98 2216.75 1864.98 Q2214.99 1864.98 2213.18 1864.63 Q2211.38 1864.29 2209.43 1863.59 M2218.74 1848.94 Q2221.88 1848.94 2223.71 1846.79 Q2225.56 1844.63 2225.56 1840.88 Q2225.56 1837.16 2223.71 1835 Q2221.88 1832.83 2218.74 1832.83 Q2215.59 1832.83 2213.74 1835 Q2211.91 1837.16 2211.91 1840.88 Q2211.91 1844.63 2213.74 1846.79 Q2215.59 1848.94 2218.74 1848.94 Z\" fill=\"#000000\" fill-rule=\"evenodd\" fill-opacity=\"1\" /><polyline clip-path=\"url(#clip430)\" style=\"stroke:#f05f73; stroke-linecap:butt; stroke-linejoin:round; stroke-width:4; stroke-opacity:1; fill:none\" points=\"\n",
       "  1977.97,1907.51 2123.21,1907.51 \n",
       "  \"/>\n",
       "<path clip-path=\"url(#clip430)\" d=\"M2161.26 1927.2 Q2159.45 1931.83 2157.74 1933.24 Q2156.03 1934.65 2153.16 1934.65 L2149.76 1934.65 L2149.76 1931.08 L2152.26 1931.08 Q2154.01 1931.08 2154.99 1930.25 Q2155.96 1929.42 2157.14 1926.32 L2157.9 1924.37 L2147.42 1898.86 L2151.93 1898.86 L2160.03 1919.14 L2168.13 1898.86 L2172.65 1898.86 L2161.26 1927.2 Z\" fill=\"#000000\" fill-rule=\"evenodd\" fill-opacity=\"1\" /><path clip-path=\"url(#clip430)\" d=\"M2193.3 1906.15 Q2196.65 1906.87 2198.53 1909.14 Q2200.43 1911.41 2200.43 1914.74 Q2200.43 1919.86 2196.91 1922.66 Q2193.39 1925.46 2186.91 1925.46 Q2184.73 1925.46 2182.42 1925.02 Q2180.13 1924.6 2177.67 1923.75 L2177.67 1919.23 Q2179.62 1920.37 2181.93 1920.95 Q2184.25 1921.52 2186.77 1921.52 Q2191.17 1921.52 2193.46 1919.79 Q2195.77 1918.05 2195.77 1914.74 Q2195.77 1911.69 2193.62 1909.97 Q2191.49 1908.24 2187.67 1908.24 L2183.64 1908.24 L2183.64 1904.4 L2187.86 1904.4 Q2191.31 1904.4 2193.13 1903.03 Q2194.96 1901.64 2194.96 1899.05 Q2194.96 1896.39 2193.06 1894.97 Q2191.19 1893.54 2187.67 1893.54 Q2185.75 1893.54 2183.55 1893.96 Q2181.35 1894.37 2178.71 1895.25 L2178.71 1891.09 Q2181.38 1890.34 2183.69 1889.97 Q2186.03 1889.6 2188.09 1889.6 Q2193.41 1889.6 2196.51 1892.03 Q2199.62 1894.44 2199.62 1898.56 Q2199.62 1901.43 2197.97 1903.42 Q2196.33 1905.39 2193.3 1906.15 Z\" fill=\"#000000\" fill-rule=\"evenodd\" fill-opacity=\"1\" /><path clip-path=\"url(#clip430)\" d=\"M2219.29 1893.31 Q2215.68 1893.31 2213.85 1896.87 Q2212.05 1900.41 2212.05 1907.54 Q2212.05 1914.65 2213.85 1918.21 Q2215.68 1921.76 2219.29 1921.76 Q2222.93 1921.76 2224.73 1918.21 Q2226.56 1914.65 2226.56 1907.54 Q2226.56 1900.41 2224.73 1896.87 Q2222.93 1893.31 2219.29 1893.31 M2219.29 1889.6 Q2225.1 1889.6 2228.16 1894.21 Q2231.24 1898.79 2231.24 1907.54 Q2231.24 1916.27 2228.16 1920.88 Q2225.1 1925.46 2219.29 1925.46 Q2213.48 1925.46 2210.4 1920.88 Q2207.35 1916.27 2207.35 1907.54 Q2207.35 1898.79 2210.4 1894.21 Q2213.48 1889.6 2219.29 1889.6 Z\" fill=\"#000000\" fill-rule=\"evenodd\" fill-opacity=\"1\" /></svg>\n"
      ]
     },
     "execution_count": 39,
     "metadata": {},
     "output_type": "execute_result"
    }
   ],
   "source": [
    "plot(s_vals')\n",
    "xlabel!(\"Timestep\")\n",
    "ylabel!(\"SOC\")"
   ]
  },
  {
   "cell_type": "code",
<<<<<<< Updated upstream
<<<<<<< Updated upstream
<<<<<<< Updated upstream
   "execution_count": 42,
=======
   "execution_count": 40,
>>>>>>> Stashed changes
=======
   "execution_count": 40,
>>>>>>> Stashed changes
=======
   "execution_count": 40,
>>>>>>> Stashed changes
   "metadata": {},
   "outputs": [
    {
     "data": {
      "image/svg+xml": [
       "<?xml version=\"1.0\" encoding=\"utf-8\"?>\n",
       "<svg xmlns=\"http://www.w3.org/2000/svg\" xmlns:xlink=\"http://www.w3.org/1999/xlink\" width=\"600\" height=\"400\" viewBox=\"0 0 2400 1600\">\n",
       "<defs>\n",
       "  <clipPath id=\"clip470\">\n",
       "    <rect x=\"0\" y=\"0\" width=\"2400\" height=\"1600\"/>\n",
       "  </clipPath>\n",
       "</defs>\n",
       "<path clip-path=\"url(#clip470)\" d=\"\n",
       "M0 1600 L2400 1600 L2400 0 L0 0  Z\n",
       "  \" fill=\"#ffffff\" fill-rule=\"evenodd\" fill-opacity=\"1\"/>\n",
       "<defs>\n",
       "  <clipPath id=\"clip471\">\n",
       "    <rect x=\"480\" y=\"0\" width=\"1681\" height=\"1600\"/>\n",
       "  </clipPath>\n",
       "</defs>\n",
       "<path clip-path=\"url(#clip470)\" d=\"\n",
       "M202.227 1423.18 L2352.76 1423.18 L2352.76 47.2441 L202.227 47.2441  Z\n",
       "  \" fill=\"#ffffff\" fill-rule=\"evenodd\" fill-opacity=\"1\"/>\n",
       "<defs>\n",
       "  <clipPath id=\"clip472\">\n",
       "    <rect x=\"202\" y=\"47\" width=\"2152\" height=\"1377\"/>\n",
       "  </clipPath>\n",
       "</defs>\n",
       "<polyline clip-path=\"url(#clip472)\" style=\"stroke:#000000; stroke-linecap:butt; stroke-linejoin:round; stroke-width:2; stroke-opacity:0.1; fill:none\" points=\"\n",
       "  408.006,1423.18 408.006,47.2441 \n",
       "  \"/>\n",
       "<polyline clip-path=\"url(#clip472)\" style=\"stroke:#000000; stroke-linecap:butt; stroke-linejoin:round; stroke-width:2; stroke-opacity:0.1; fill:none\" points=\"\n",
       "  697.834,1423.18 697.834,47.2441 \n",
       "  \"/>\n",
       "<polyline clip-path=\"url(#clip472)\" style=\"stroke:#000000; stroke-linecap:butt; stroke-linejoin:round; stroke-width:2; stroke-opacity:0.1; fill:none\" points=\"\n",
       "  987.663,1423.18 987.663,47.2441 \n",
       "  \"/>\n",
       "<polyline clip-path=\"url(#clip472)\" style=\"stroke:#000000; stroke-linecap:butt; stroke-linejoin:round; stroke-width:2; stroke-opacity:0.1; fill:none\" points=\"\n",
       "  1277.49,1423.18 1277.49,47.2441 \n",
       "  \"/>\n",
       "<polyline clip-path=\"url(#clip472)\" style=\"stroke:#000000; stroke-linecap:butt; stroke-linejoin:round; stroke-width:2; stroke-opacity:0.1; fill:none\" points=\"\n",
       "  1567.32,1423.18 1567.32,47.2441 \n",
       "  \"/>\n",
       "<polyline clip-path=\"url(#clip472)\" style=\"stroke:#000000; stroke-linecap:butt; stroke-linejoin:round; stroke-width:2; stroke-opacity:0.1; fill:none\" points=\"\n",
       "  1857.15,1423.18 1857.15,47.2441 \n",
       "  \"/>\n",
       "<polyline clip-path=\"url(#clip472)\" style=\"stroke:#000000; stroke-linecap:butt; stroke-linejoin:round; stroke-width:2; stroke-opacity:0.1; fill:none\" points=\"\n",
       "  2146.98,1423.18 2146.98,47.2441 \n",
       "  \"/>\n",
       "<polyline clip-path=\"url(#clip470)\" style=\"stroke:#000000; stroke-linecap:butt; stroke-linejoin:round; stroke-width:4; stroke-opacity:1; fill:none\" points=\"\n",
       "  202.227,1423.18 2352.76,1423.18 \n",
       "  \"/>\n",
       "<polyline clip-path=\"url(#clip470)\" style=\"stroke:#000000; stroke-linecap:butt; stroke-linejoin:round; stroke-width:4; stroke-opacity:1; fill:none\" points=\"\n",
       "  408.006,1423.18 408.006,1406.67 \n",
       "  \"/>\n",
       "<polyline clip-path=\"url(#clip470)\" style=\"stroke:#000000; stroke-linecap:butt; stroke-linejoin:round; stroke-width:4; stroke-opacity:1; fill:none\" points=\"\n",
       "  697.834,1423.18 697.834,1406.67 \n",
       "  \"/>\n",
       "<polyline clip-path=\"url(#clip470)\" style=\"stroke:#000000; stroke-linecap:butt; stroke-linejoin:round; stroke-width:4; stroke-opacity:1; fill:none\" points=\"\n",
       "  987.663,1423.18 987.663,1406.67 \n",
       "  \"/>\n",
       "<polyline clip-path=\"url(#clip470)\" style=\"stroke:#000000; stroke-linecap:butt; stroke-linejoin:round; stroke-width:4; stroke-opacity:1; fill:none\" points=\"\n",
       "  1277.49,1423.18 1277.49,1406.67 \n",
       "  \"/>\n",
       "<polyline clip-path=\"url(#clip470)\" style=\"stroke:#000000; stroke-linecap:butt; stroke-linejoin:round; stroke-width:4; stroke-opacity:1; fill:none\" points=\"\n",
       "  1567.32,1423.18 1567.32,1406.67 \n",
       "  \"/>\n",
       "<polyline clip-path=\"url(#clip470)\" style=\"stroke:#000000; stroke-linecap:butt; stroke-linejoin:round; stroke-width:4; stroke-opacity:1; fill:none\" points=\"\n",
       "  1857.15,1423.18 1857.15,1406.67 \n",
       "  \"/>\n",
       "<polyline clip-path=\"url(#clip470)\" style=\"stroke:#000000; stroke-linecap:butt; stroke-linejoin:round; stroke-width:4; stroke-opacity:1; fill:none\" points=\"\n",
       "  2146.98,1423.18 2146.98,1406.67 \n",
       "  \"/>\n",
       "<path clip-path=\"url(#clip470)\" d=\"M402.659 1479.92 L418.978 1479.92 L418.978 1483.85 L397.034 1483.85 L397.034 1479.92 Q399.696 1477.16 404.279 1472.53 Q408.885 1467.88 410.066 1466.54 Q412.311 1464.01 413.191 1462.28 Q414.094 1460.52 414.094 1458.83 Q414.094 1456.07 412.149 1454.34 Q410.228 1452.6 407.126 1452.6 Q404.927 1452.6 402.473 1453.37 Q400.043 1454.13 397.265 1455.68 L397.265 1450.96 Q400.089 1449.82 402.543 1449.25 Q404.997 1448.67 407.034 1448.67 Q412.404 1448.67 415.598 1451.35 Q418.793 1454.04 418.793 1458.53 Q418.793 1460.66 417.983 1462.58 Q417.196 1464.48 415.089 1467.07 Q414.51 1467.74 411.409 1470.96 Q408.307 1474.15 402.659 1479.92 Z\" fill=\"#000000\" fill-rule=\"evenodd\" fill-opacity=\"1\" /><path clip-path=\"url(#clip470)\" d=\"M700.844 1453.37 L689.038 1471.81 L700.844 1471.81 L700.844 1453.37 M699.617 1449.29 L705.496 1449.29 L705.496 1471.81 L710.427 1471.81 L710.427 1475.7 L705.496 1475.7 L705.496 1483.85 L700.844 1483.85 L700.844 1475.7 L685.242 1475.7 L685.242 1471.19 L699.617 1449.29 Z\" fill=\"#000000\" fill-rule=\"evenodd\" fill-opacity=\"1\" /><path clip-path=\"url(#clip470)\" d=\"M988.068 1464.71 Q984.92 1464.71 983.068 1466.86 Q981.239 1469.01 981.239 1472.76 Q981.239 1476.49 983.068 1478.67 Q984.92 1480.82 988.068 1480.82 Q991.216 1480.82 993.045 1478.67 Q994.897 1476.49 994.897 1472.76 Q994.897 1469.01 993.045 1466.86 Q991.216 1464.71 988.068 1464.71 M997.351 1450.06 L997.351 1454.31 Q995.591 1453.48 993.786 1453.04 Q992.003 1452.6 990.244 1452.6 Q985.614 1452.6 983.161 1455.73 Q980.73 1458.85 980.383 1465.17 Q981.749 1463.16 983.809 1462.09 Q985.869 1461 988.346 1461 Q993.554 1461 996.563 1464.18 Q999.596 1467.32 999.596 1472.76 Q999.596 1478.09 996.448 1481.31 Q993.3 1484.52 988.068 1484.52 Q982.073 1484.52 978.902 1479.94 Q975.73 1475.33 975.73 1466.61 Q975.73 1458.41 979.619 1453.55 Q983.508 1448.67 990.059 1448.67 Q991.818 1448.67 993.601 1449.01 Q995.406 1449.36 997.351 1450.06 Z\" fill=\"#000000\" fill-rule=\"evenodd\" fill-opacity=\"1\" /><path clip-path=\"url(#clip470)\" d=\"M1277.49 1467.44 Q1274.16 1467.44 1272.24 1469.22 Q1270.34 1471 1270.34 1474.13 Q1270.34 1477.25 1272.24 1479.04 Q1274.16 1480.82 1277.49 1480.82 Q1280.83 1480.82 1282.75 1479.04 Q1284.67 1477.23 1284.67 1474.13 Q1284.67 1471 1282.75 1469.22 Q1280.85 1467.44 1277.49 1467.44 M1272.82 1465.45 Q1269.81 1464.71 1268.12 1462.65 Q1266.45 1460.59 1266.45 1457.63 Q1266.45 1453.48 1269.39 1451.07 Q1272.35 1448.67 1277.49 1448.67 Q1282.65 1448.67 1285.59 1451.07 Q1288.53 1453.48 1288.53 1457.63 Q1288.53 1460.59 1286.84 1462.65 Q1285.18 1464.71 1282.19 1465.45 Q1285.57 1466.24 1287.45 1468.53 Q1289.34 1470.82 1289.34 1474.13 Q1289.34 1479.15 1286.26 1481.84 Q1283.21 1484.52 1277.49 1484.52 Q1271.77 1484.52 1268.7 1481.84 Q1265.64 1479.15 1265.64 1474.13 Q1265.64 1470.82 1267.54 1468.53 Q1269.44 1466.24 1272.82 1465.45 M1271.1 1458.06 Q1271.1 1460.75 1272.77 1462.25 Q1274.46 1463.76 1277.49 1463.76 Q1280.5 1463.76 1282.19 1462.25 Q1283.9 1460.75 1283.9 1458.06 Q1283.9 1455.38 1282.19 1453.88 Q1280.5 1452.37 1277.49 1452.37 Q1274.46 1452.37 1272.77 1453.88 Q1271.1 1455.38 1271.1 1458.06 Z\" fill=\"#000000\" fill-rule=\"evenodd\" fill-opacity=\"1\" /><path clip-path=\"url(#clip470)\" d=\"M1542.01 1479.92 L1549.65 1479.92 L1549.65 1453.55 L1541.34 1455.22 L1541.34 1450.96 L1549.6 1449.29 L1554.28 1449.29 L1554.28 1479.92 L1561.92 1479.92 L1561.92 1483.85 L1542.01 1483.85 L1542.01 1479.92 Z\" fill=\"#000000\" fill-rule=\"evenodd\" fill-opacity=\"1\" /><path clip-path=\"url(#clip470)\" d=\"M1581.36 1452.37 Q1577.75 1452.37 1575.92 1455.94 Q1574.11 1459.48 1574.11 1466.61 Q1574.11 1473.71 1575.92 1477.28 Q1577.75 1480.82 1581.36 1480.82 Q1584.99 1480.82 1586.8 1477.28 Q1588.63 1473.71 1588.63 1466.61 Q1588.63 1459.48 1586.8 1455.94 Q1584.99 1452.37 1581.36 1452.37 M1581.36 1448.67 Q1587.17 1448.67 1590.23 1453.27 Q1593.3 1457.86 1593.3 1466.61 Q1593.3 1475.33 1590.23 1479.94 Q1587.17 1484.52 1581.36 1484.52 Q1575.55 1484.52 1572.47 1479.94 Q1569.42 1475.33 1569.42 1466.61 Q1569.42 1457.86 1572.47 1453.27 Q1575.55 1448.67 1581.36 1448.67 Z\" fill=\"#000000\" fill-rule=\"evenodd\" fill-opacity=\"1\" /><path clip-path=\"url(#clip470)\" d=\"M1832.64 1479.92 L1840.27 1479.92 L1840.27 1453.55 L1831.96 1455.22 L1831.96 1450.96 L1840.23 1449.29 L1844.9 1449.29 L1844.9 1479.92 L1852.54 1479.92 L1852.54 1483.85 L1832.64 1483.85 L1832.64 1479.92 Z\" fill=\"#000000\" fill-rule=\"evenodd\" fill-opacity=\"1\" /><path clip-path=\"url(#clip470)\" d=\"M1866.01 1479.92 L1882.33 1479.92 L1882.33 1483.85 L1860.39 1483.85 L1860.39 1479.92 Q1863.05 1477.16 1867.64 1472.53 Q1872.24 1467.88 1873.42 1466.54 Q1875.67 1464.01 1876.55 1462.28 Q1877.45 1460.52 1877.45 1458.83 Q1877.45 1456.07 1875.51 1454.34 Q1873.58 1452.6 1870.48 1452.6 Q1868.28 1452.6 1865.83 1453.37 Q1863.4 1454.13 1860.62 1455.68 L1860.62 1450.96 Q1863.45 1449.82 1865.9 1449.25 Q1868.35 1448.67 1870.39 1448.67 Q1875.76 1448.67 1878.95 1451.35 Q1882.15 1454.04 1882.15 1458.53 Q1882.15 1460.66 1881.34 1462.58 Q1880.55 1464.48 1878.45 1467.07 Q1877.87 1467.74 1874.76 1470.96 Q1871.66 1474.15 1866.01 1479.92 Z\" fill=\"#000000\" fill-rule=\"evenodd\" fill-opacity=\"1\" /><path clip-path=\"url(#clip470)\" d=\"M2121.42 1479.92 L2129.06 1479.92 L2129.06 1453.55 L2120.75 1455.22 L2120.75 1450.96 L2129.01 1449.29 L2133.69 1449.29 L2133.69 1479.92 L2141.33 1479.92 L2141.33 1483.85 L2121.42 1483.85 L2121.42 1479.92 Z\" fill=\"#000000\" fill-rule=\"evenodd\" fill-opacity=\"1\" /><path clip-path=\"url(#clip470)\" d=\"M2163.62 1453.37 L2151.82 1471.81 L2163.62 1471.81 L2163.62 1453.37 M2162.39 1449.29 L2168.27 1449.29 L2168.27 1471.81 L2173.2 1471.81 L2173.2 1475.7 L2168.27 1475.7 L2168.27 1483.85 L2163.62 1483.85 L2163.62 1475.7 L2148.02 1475.7 L2148.02 1471.19 L2162.39 1449.29 Z\" fill=\"#000000\" fill-rule=\"evenodd\" fill-opacity=\"1\" /><path clip-path=\"url(#clip470)\" d=\"M1128.92 1520.52 L1169.12 1520.52 L1169.12 1525.93 L1152.25 1525.93 L1152.25 1568.04 L1145.79 1568.04 L1145.79 1525.93 L1128.92 1525.93 L1128.92 1520.52 Z\" fill=\"#000000\" fill-rule=\"evenodd\" fill-opacity=\"1\" /><path clip-path=\"url(#clip470)\" d=\"M1173.06 1532.4 L1178.92 1532.4 L1178.92 1568.04 L1173.06 1568.04 L1173.06 1532.4 M1173.06 1518.52 L1178.92 1518.52 L1178.92 1525.93 L1173.06 1525.93 L1173.06 1518.52 Z\" fill=\"#000000\" fill-rule=\"evenodd\" fill-opacity=\"1\" /><path clip-path=\"url(#clip470)\" d=\"M1218.93 1539.24 Q1221.12 1535.29 1224.18 1533.41 Q1227.23 1531.54 1231.37 1531.54 Q1236.94 1531.54 1239.97 1535.45 Q1242.99 1539.33 1242.99 1546.53 L1242.99 1568.04 L1237.1 1568.04 L1237.1 1546.72 Q1237.1 1541.59 1235.29 1539.11 Q1233.47 1536.63 1229.75 1536.63 Q1225.2 1536.63 1222.56 1539.65 Q1219.91 1542.68 1219.91 1547.9 L1219.91 1568.04 L1214.03 1568.04 L1214.03 1546.72 Q1214.03 1541.56 1212.21 1539.11 Q1210.4 1536.63 1206.61 1536.63 Q1202.12 1536.63 1199.48 1539.68 Q1196.84 1542.71 1196.84 1547.9 L1196.84 1568.04 L1190.95 1568.04 L1190.95 1532.4 L1196.84 1532.4 L1196.84 1537.93 Q1198.84 1534.66 1201.64 1533.1 Q1204.45 1531.54 1208.3 1531.54 Q1212.18 1531.54 1214.88 1533.51 Q1217.62 1535.48 1218.93 1539.24 Z\" fill=\"#000000\" fill-rule=\"evenodd\" fill-opacity=\"1\" /><path clip-path=\"url(#clip470)\" d=\"M1285.16 1548.76 L1285.16 1551.62 L1258.24 1551.62 Q1258.62 1557.67 1261.86 1560.85 Q1265.14 1564 1270.97 1564 Q1274.34 1564 1277.49 1563.17 Q1280.67 1562.35 1283.79 1560.69 L1283.79 1566.23 Q1280.64 1567.57 1277.33 1568.27 Q1274.02 1568.97 1270.62 1568.97 Q1262.09 1568.97 1257.09 1564 Q1252.12 1559.04 1252.12 1550.57 Q1252.12 1541.82 1256.83 1536.69 Q1261.58 1531.54 1269.6 1531.54 Q1276.79 1531.54 1280.96 1536.18 Q1285.16 1540.8 1285.16 1548.76 M1279.31 1547.04 Q1279.24 1542.23 1276.6 1539.37 Q1273.99 1536.5 1269.66 1536.5 Q1264.76 1536.5 1261.8 1539.27 Q1258.87 1542.04 1258.43 1547.07 L1279.31 1547.04 Z\" fill=\"#000000\" fill-rule=\"evenodd\" fill-opacity=\"1\" /><path clip-path=\"url(#clip470)\" d=\"M1317.5 1533.45 L1317.5 1538.98 Q1315.02 1537.71 1312.34 1537.07 Q1309.67 1536.44 1306.81 1536.44 Q1302.45 1536.44 1300.25 1537.77 Q1298.08 1539.11 1298.08 1541.79 Q1298.08 1543.82 1299.64 1545 Q1301.2 1546.15 1305.91 1547.2 L1307.92 1547.64 Q1314.16 1548.98 1316.77 1551.43 Q1319.41 1553.85 1319.41 1558.21 Q1319.41 1563.17 1315.46 1566.07 Q1311.55 1568.97 1304.67 1568.97 Q1301.81 1568.97 1298.69 1568.39 Q1295.6 1567.85 1292.16 1566.74 L1292.16 1560.69 Q1295.41 1562.38 1298.56 1563.24 Q1301.71 1564.07 1304.8 1564.07 Q1308.94 1564.07 1311.17 1562.66 Q1313.39 1561.23 1313.39 1558.65 Q1313.39 1556.27 1311.77 1554.99 Q1310.18 1553.72 1304.74 1552.54 L1302.7 1552.07 Q1297.26 1550.92 1294.84 1548.56 Q1292.42 1546.18 1292.42 1542.04 Q1292.42 1537.01 1295.98 1534.27 Q1299.55 1531.54 1306.11 1531.54 Q1309.35 1531.54 1312.22 1532.01 Q1315.08 1532.49 1317.5 1533.45 Z\" fill=\"#000000\" fill-rule=\"evenodd\" fill-opacity=\"1\" /><path clip-path=\"url(#clip470)\" d=\"M1334.53 1522.27 L1334.53 1532.4 L1346.59 1532.4 L1346.59 1536.95 L1334.53 1536.95 L1334.53 1556.3 Q1334.53 1560.66 1335.71 1561.9 Q1336.92 1563.14 1340.58 1563.14 L1346.59 1563.14 L1346.59 1568.04 L1340.58 1568.04 Q1333.8 1568.04 1331.22 1565.53 Q1328.64 1562.98 1328.64 1556.3 L1328.64 1536.95 L1324.34 1536.95 L1324.34 1532.4 L1328.64 1532.4 L1328.64 1522.27 L1334.53 1522.27 Z\" fill=\"#000000\" fill-rule=\"evenodd\" fill-opacity=\"1\" /><path clip-path=\"url(#clip470)\" d=\"M1384.79 1548.76 L1384.79 1551.62 L1357.86 1551.62 Q1358.24 1557.67 1361.49 1560.85 Q1364.77 1564 1370.59 1564 Q1373.96 1564 1377.11 1563.17 Q1380.3 1562.35 1383.42 1560.69 L1383.42 1566.23 Q1380.27 1567.57 1376.96 1568.27 Q1373.65 1568.97 1370.24 1568.97 Q1361.71 1568.97 1356.71 1564 Q1351.75 1559.04 1351.75 1550.57 Q1351.75 1541.82 1356.46 1536.69 Q1361.2 1531.54 1369.22 1531.54 Q1376.41 1531.54 1380.58 1536.18 Q1384.79 1540.8 1384.79 1548.76 M1378.93 1547.04 Q1378.87 1542.23 1376.22 1539.37 Q1373.61 1536.5 1369.29 1536.5 Q1364.38 1536.5 1361.42 1539.27 Q1358.5 1542.04 1358.05 1547.07 L1378.93 1547.04 Z\" fill=\"#000000\" fill-rule=\"evenodd\" fill-opacity=\"1\" /><path clip-path=\"url(#clip470)\" d=\"M1400.06 1562.7 L1400.06 1581.6 L1394.18 1581.6 L1394.18 1532.4 L1400.06 1532.4 L1400.06 1537.81 Q1401.91 1534.62 1404.71 1533.1 Q1407.54 1531.54 1411.46 1531.54 Q1417.95 1531.54 1421.99 1536.69 Q1426.07 1541.85 1426.07 1550.25 Q1426.07 1558.65 1421.99 1563.81 Q1417.95 1568.97 1411.46 1568.97 Q1407.54 1568.97 1404.71 1567.44 Q1401.91 1565.88 1400.06 1562.7 M1419.99 1550.25 Q1419.99 1543.79 1417.31 1540.13 Q1414.67 1536.44 1410.03 1536.44 Q1405.38 1536.44 1402.71 1540.13 Q1400.06 1543.79 1400.06 1550.25 Q1400.06 1556.71 1402.71 1560.4 Q1405.38 1564.07 1410.03 1564.07 Q1414.67 1564.07 1417.31 1560.4 Q1419.99 1556.71 1419.99 1550.25 Z\" fill=\"#000000\" fill-rule=\"evenodd\" fill-opacity=\"1\" /><polyline clip-path=\"url(#clip472)\" style=\"stroke:#000000; stroke-linecap:butt; stroke-linejoin:round; stroke-width:2; stroke-opacity:0.1; fill:none\" points=\"\n",
       "  202.227,1384.24 2352.76,1384.24 \n",
       "  \"/>\n",
       "<polyline clip-path=\"url(#clip472)\" style=\"stroke:#000000; stroke-linecap:butt; stroke-linejoin:round; stroke-width:2; stroke-opacity:0.1; fill:none\" points=\"\n",
       "  202.227,939.969 2352.76,939.969 \n",
       "  \"/>\n",
       "<polyline clip-path=\"url(#clip472)\" style=\"stroke:#000000; stroke-linecap:butt; stroke-linejoin:round; stroke-width:2; stroke-opacity:0.1; fill:none\" points=\"\n",
       "  202.227,495.7 2352.76,495.7 \n",
       "  \"/>\n",
       "<polyline clip-path=\"url(#clip472)\" style=\"stroke:#000000; stroke-linecap:butt; stroke-linejoin:round; stroke-width:2; stroke-opacity:0.1; fill:none\" points=\"\n",
       "  202.227,51.4309 2352.76,51.4309 \n",
       "  \"/>\n",
       "<polyline clip-path=\"url(#clip470)\" style=\"stroke:#000000; stroke-linecap:butt; stroke-linejoin:round; stroke-width:4; stroke-opacity:1; fill:none\" points=\"\n",
       "  202.227,1423.18 202.227,47.2441 \n",
       "  \"/>\n",
       "<polyline clip-path=\"url(#clip470)\" style=\"stroke:#000000; stroke-linecap:butt; stroke-linejoin:round; stroke-width:4; stroke-opacity:1; fill:none\" points=\"\n",
       "  202.227,1384.24 228.034,1384.24 \n",
       "  \"/>\n",
       "<polyline clip-path=\"url(#clip470)\" style=\"stroke:#000000; stroke-linecap:butt; stroke-linejoin:round; stroke-width:4; stroke-opacity:1; fill:none\" points=\"\n",
       "  202.227,939.969 228.034,939.969 \n",
       "  \"/>\n",
       "<polyline clip-path=\"url(#clip470)\" style=\"stroke:#000000; stroke-linecap:butt; stroke-linejoin:round; stroke-width:4; stroke-opacity:1; fill:none\" points=\"\n",
       "  202.227,495.7 228.034,495.7 \n",
       "  \"/>\n",
       "<polyline clip-path=\"url(#clip470)\" style=\"stroke:#000000; stroke-linecap:butt; stroke-linejoin:round; stroke-width:4; stroke-opacity:1; fill:none\" points=\"\n",
       "  202.227,51.4309 228.034,51.4309 \n",
       "  \"/>\n",
       "<path clip-path=\"url(#clip470)\" d=\"M154.283 1370.04 Q150.672 1370.04 148.843 1373.6 Q147.038 1377.14 147.038 1384.27 Q147.038 1391.38 148.843 1394.94 Q150.672 1398.49 154.283 1398.49 Q157.917 1398.49 159.723 1394.94 Q161.552 1391.38 161.552 1384.27 Q161.552 1377.14 159.723 1373.6 Q157.917 1370.04 154.283 1370.04 M154.283 1366.33 Q160.093 1366.33 163.149 1370.94 Q166.227 1375.52 166.227 1384.27 Q166.227 1393 163.149 1397.61 Q160.093 1402.19 154.283 1402.19 Q148.473 1402.19 145.394 1397.61 Q142.339 1393 142.339 1384.27 Q142.339 1375.52 145.394 1370.94 Q148.473 1366.33 154.283 1366.33 Z\" fill=\"#000000\" fill-rule=\"evenodd\" fill-opacity=\"1\" /><path clip-path=\"url(#clip470)\" d=\"M145.325 922.689 L163.681 922.689 L163.681 926.624 L149.607 926.624 L149.607 935.096 Q150.626 934.749 151.644 934.587 Q152.663 934.402 153.681 934.402 Q159.468 934.402 162.848 937.573 Q166.227 940.745 166.227 946.161 Q166.227 951.74 162.755 954.842 Q159.283 957.92 152.964 957.92 Q150.788 957.92 148.519 957.55 Q146.274 957.18 143.866 956.439 L143.866 951.74 Q145.95 952.874 148.172 953.43 Q150.394 953.985 152.871 953.985 Q156.876 953.985 159.214 951.879 Q161.552 949.772 161.552 946.161 Q161.552 942.55 159.214 940.444 Q156.876 938.337 152.871 938.337 Q150.996 938.337 149.121 938.754 Q147.269 939.171 145.325 940.05 L145.325 922.689 Z\" fill=\"#000000\" fill-rule=\"evenodd\" fill-opacity=\"1\" /><path clip-path=\"url(#clip470)\" d=\"M114.931 509.045 L122.57 509.045 L122.57 482.679 L114.26 484.346 L114.26 480.087 L122.524 478.42 L127.2 478.42 L127.2 509.045 L134.839 509.045 L134.839 512.98 L114.931 512.98 L114.931 509.045 Z\" fill=\"#000000\" fill-rule=\"evenodd\" fill-opacity=\"1\" /><path clip-path=\"url(#clip470)\" d=\"M154.283 481.499 Q150.672 481.499 148.843 485.064 Q147.038 488.605 147.038 495.735 Q147.038 502.841 148.843 506.406 Q150.672 509.948 154.283 509.948 Q157.917 509.948 159.723 506.406 Q161.552 502.841 161.552 495.735 Q161.552 488.605 159.723 485.064 Q157.917 481.499 154.283 481.499 M154.283 477.795 Q160.093 477.795 163.149 482.401 Q166.227 486.985 166.227 495.735 Q166.227 504.462 163.149 509.068 Q160.093 513.651 154.283 513.651 Q148.473 513.651 145.394 509.068 Q142.339 504.462 142.339 495.735 Q142.339 486.985 145.394 482.401 Q148.473 477.795 154.283 477.795 Z\" fill=\"#000000\" fill-rule=\"evenodd\" fill-opacity=\"1\" /><path clip-path=\"url(#clip470)\" d=\"M115.927 64.7757 L123.566 64.7757 L123.566 38.4101 L115.256 40.0768 L115.256 35.8176 L123.519 34.1509 L128.195 34.1509 L128.195 64.7757 L135.834 64.7757 L135.834 68.7109 L115.927 68.7109 L115.927 64.7757 Z\" fill=\"#000000\" fill-rule=\"evenodd\" fill-opacity=\"1\" /><path clip-path=\"url(#clip470)\" d=\"M145.325 34.1509 L163.681 34.1509 L163.681 38.0861 L149.607 38.0861 L149.607 46.5582 Q150.626 46.211 151.644 46.049 Q152.663 45.8638 153.681 45.8638 Q159.468 45.8638 162.848 49.0351 Q166.227 52.2064 166.227 57.623 Q166.227 63.2017 162.755 66.3035 Q159.283 69.3822 152.964 69.3822 Q150.788 69.3822 148.519 69.0118 Q146.274 68.6415 143.866 67.9007 L143.866 63.2017 Q145.95 64.3359 148.172 64.8915 Q150.394 65.447 152.871 65.447 Q156.876 65.447 159.214 63.3406 Q161.552 61.2341 161.552 57.623 Q161.552 54.0119 159.214 51.9054 Q156.876 49.799 152.871 49.799 Q150.996 49.799 149.121 50.2156 Q147.269 50.6323 145.325 51.5119 L145.325 34.1509 Z\" fill=\"#000000\" fill-rule=\"evenodd\" fill-opacity=\"1\" /><path clip-path=\"url(#clip470)\" d=\"M45.7664 725.138 Q39.4007 725.138 35.8996 727.78 Q32.3984 730.39 32.3984 735.132 Q32.3984 739.843 35.8996 742.485 Q39.4007 745.095 45.7664 745.095 Q52.1003 745.095 55.6014 742.485 Q59.1026 739.843 59.1026 735.132 Q59.1026 730.39 55.6014 727.78 Q52.1003 725.138 45.7664 725.138 M59.58 719.282 Q68.683 719.282 73.1071 723.324 Q77.5631 727.366 77.5631 735.705 Q77.5631 738.793 77.0857 741.53 Q76.6401 744.267 75.6852 746.845 L69.9879 746.845 Q71.3884 744.267 72.0568 741.753 Q72.7252 739.238 72.7252 736.628 Q72.7252 730.867 69.7015 728.003 Q66.7096 725.138 60.6303 725.138 L57.7339 725.138 Q60.885 726.952 62.4446 729.785 Q64.0042 732.618 64.0042 736.565 Q64.0042 743.121 59.0071 747.132 Q54.01 751.142 45.7664 751.142 Q37.491 751.142 32.4939 747.132 Q27.4968 743.121 27.4968 736.565 Q27.4968 732.618 29.0564 729.785 Q30.616 726.952 33.7671 725.138 L28.3562 725.138 L28.3562 719.282 L59.58 719.282 Z\" fill=\"#000000\" fill-rule=\"evenodd\" fill-opacity=\"1\" /><polyline clip-path=\"url(#clip472)\" style=\"stroke:#009af9; stroke-linecap:butt; stroke-linejoin:round; stroke-width:4; stroke-opacity:1; fill:none\" points=\"\n",
       "  263.091,1267.23 408.006,1036.47 552.92,1250.43 697.834,1384.24 842.749,1384.24 987.663,1153.28 1132.58,1306.85 1277.49,942.801 1422.41,1205.43 1567.32,1165.89 \n",
       "  1712.23,1179.82 1857.15,1066.38 2002.06,1329.35 2146.98,1384.24 2291.89,942.801 \n",
       "  \"/>\n",
       "<polyline clip-path=\"url(#clip472)\" style=\"stroke:#e26f46; stroke-linecap:butt; stroke-linejoin:round; stroke-width:4; stroke-opacity:1; fill:none\" points=\"\n",
       "  263.091,1384.24 408.006,1384.24 552.92,1384.24 697.834,1384.24 842.749,1384.24 987.663,1384.24 1132.58,1384.24 1277.49,1384.24 1422.41,1384.24 1567.32,1384.24 \n",
       "  1712.23,1384.24 1857.15,1384.24 2002.06,1384.24 2146.98,1384.24 2291.89,1384.24 \n",
       "  \"/>\n",
       "<polyline clip-path=\"url(#clip472)\" style=\"stroke:#3da44d; stroke-linecap:butt; stroke-linejoin:round; stroke-width:4; stroke-opacity:1; fill:none\" points=\"\n",
       "  263.091,1384.24 408.006,1384.24 552.92,1384.24 697.834,1384.24 842.749,1384.24 987.663,1384.24 1132.58,1384.24 1277.49,1384.24 1422.41,1384.24 1567.32,1384.24 \n",
       "  1712.23,1384.24 1857.15,1384.24 2002.06,1384.24 2146.98,1384.24 2291.89,1384.24 \n",
       "  \"/>\n",
       "<polyline clip-path=\"url(#clip472)\" style=\"stroke:#c271d2; stroke-linecap:butt; stroke-linejoin:round; stroke-width:4; stroke-opacity:1; fill:none\" points=\"\n",
       "  263.091,1384.24 408.006,1384.24 552.92,1097.99 697.834,1384.24 842.749,1384.24 987.663,1384.24 1132.58,1384.24 1277.49,1384.24 1422.41,1384.24 1567.32,1384.24 \n",
       "  1712.23,1384.24 1857.15,1384.24 2002.06,1384.24 2146.98,1384.24 2291.89,1384.24 \n",
       "  \"/>\n",
       "<polyline clip-path=\"url(#clip472)\" style=\"stroke:#ac8d18; stroke-linecap:butt; stroke-linejoin:round; stroke-width:4; stroke-opacity:1; fill:none\" points=\"\n",
       "  263.091,1379.9 408.006,669.224 552.92,822.854 697.834,295.262 842.749,1291.03 987.663,1048.45 1132.58,1013.54 1277.49,1086.1 1422.41,1243.2 1567.32,1032.09 \n",
       "  1712.23,1295.76 1857.15,1381.37 2002.06,1178.26 2146.98,1363.17 2291.89,838.487 \n",
       "  \"/>\n",
       "<polyline clip-path=\"url(#clip472)\" style=\"stroke:#00a9ad; stroke-linecap:butt; stroke-linejoin:round; stroke-width:4; stroke-opacity:1; fill:none\" points=\"\n",
       "  263.091,879.146 408.006,1330.07 552.92,1031.13 697.834,593.655 842.749,1145.22 987.663,1042.06 1132.58,939.454 1277.49,1222.61 1422.41,962.247 1567.32,1164.96 \n",
       "  1712.23,1004.72 1857.15,1196.98 2002.06,1301.64 2146.98,1200.68 2291.89,1304.88 \n",
       "  \"/>\n",
       "<polyline clip-path=\"url(#clip472)\" style=\"stroke:#ed5d92; stroke-linecap:butt; stroke-linejoin:round; stroke-width:4; stroke-opacity:1; fill:none\" points=\"\n",
       "  263.091,877.094 408.006,1291.57 552.92,1304.33 697.834,1065.23 842.749,1004.11 987.663,887.026 1132.58,1030.8 1277.49,1069.29 1422.41,982.156 1567.32,853.948 \n",
       "  1712.23,1020.48 1857.15,1073.54 2002.06,1131.07 2146.98,1293.97 2291.89,1159.06 \n",
       "  \"/>\n",
       "<polyline clip-path=\"url(#clip472)\" style=\"stroke:#c68125; stroke-linecap:butt; stroke-linejoin:round; stroke-width:4; stroke-opacity:1; fill:none\" points=\"\n",
       "  263.091,1050.49 408.006,1154.16 552.92,1204.14 697.834,1184.4 842.749,1092 987.663,1163.99 1132.58,675.258 1277.49,612.503 1422.41,1320.43 1567.32,1132.3 \n",
       "  1712.23,1315.46 1857.15,930.914 2002.06,1045.21 2146.98,1194.94 2291.89,1280.11 \n",
       "  \"/>\n",
       "<polyline clip-path=\"url(#clip472)\" style=\"stroke:#00a98d; stroke-linecap:butt; stroke-linejoin:round; stroke-width:4; stroke-opacity:1; fill:none\" points=\"\n",
       "  263.091,1384.24 408.006,1384.24 552.92,1384.24 697.834,1384.24 842.749,1384.24 987.663,1384.24 1132.58,1384.24 1277.49,1384.24 1422.41,1384.24 1567.32,1384.24 \n",
       "  1712.23,1384.24 1857.15,1384.24 2002.06,1384.24 2146.98,1384.24 2291.89,1384.24 \n",
       "  \"/>\n",
       "<polyline clip-path=\"url(#clip472)\" style=\"stroke:#8e971d; stroke-linecap:butt; stroke-linejoin:round; stroke-width:4; stroke-opacity:1; fill:none\" points=\"\n",
       "  263.091,1051.63 408.006,988.749 552.92,1216.5 697.834,890.584 842.749,700.145 987.663,960.879 1132.58,886.112 1277.49,1328.54 1422.41,387.192 1567.32,1080.02 \n",
       "  1712.23,1238.67 1857.15,978.355 2002.06,1114.14 2146.98,1092.72 2291.89,941.908 \n",
       "  \"/>\n",
       "<polyline clip-path=\"url(#clip472)\" style=\"stroke:#00a8cb; stroke-linecap:butt; stroke-linejoin:round; stroke-width:4; stroke-opacity:1; fill:none\" points=\"\n",
       "  263.091,1179.39 408.006,1110.34 552.92,1279.91 697.834,734.871 842.749,1359.81 987.663,1279.48 1132.58,1356.72 1277.49,1175.38 1422.41,1238.54 1567.32,466.552 \n",
       "  1712.23,326.293 1857.15,1080.23 2002.06,1162.43 2146.98,1166.26 2291.89,1370.32 \n",
       "  \"/>\n",
       "<polyline clip-path=\"url(#clip472)\" style=\"stroke:#9b7fe8; stroke-linecap:butt; stroke-linejoin:round; stroke-width:4; stroke-opacity:1; fill:none\" points=\"\n",
       "  263.091,684.539 408.006,1322.58 552.92,1382.27 697.834,1096.26 842.749,490.648 987.663,1139.19 1132.58,1085.45 1277.49,1148.04 1422.41,846.943 1567.32,716.815 \n",
       "  1712.23,1183.69 1857.15,744.333 2002.06,1114.25 2146.98,1384.24 2291.89,1384.24 \n",
       "  \"/>\n",
       "<polyline clip-path=\"url(#clip472)\" style=\"stroke:#608cf6; stroke-linecap:butt; stroke-linejoin:round; stroke-width:4; stroke-opacity:1; fill:none\" points=\"\n",
       "  263.091,783.418 408.006,1356.4 552.92,1359.42 697.834,944.611 842.749,1361.94 987.663,819.58 1132.58,1363.29 1277.49,1363.09 1422.41,861.708 1567.32,1221.98 \n",
       "  1712.23,1068.07 1857.15,1163.02 2002.06,1366.18 2146.98,1141.46 2291.89,966.075 \n",
       "  \"/>\n",
       "<polyline clip-path=\"url(#clip472)\" style=\"stroke:#f05f73; stroke-linecap:butt; stroke-linejoin:round; stroke-width:4; stroke-opacity:1; fill:none\" points=\"\n",
       "  263.091,1204.59 408.006,1352.78 552.92,1117.26 697.834,1289.92 842.749,736.103 987.663,1355.24 1132.58,1364.84 1277.49,922.577 1422.41,1352.58 1567.32,969.522 \n",
       "  1712.23,1209.68 1857.15,1141.69 2002.06,1258.59 2146.98,1207.57 2291.89,1365.14 \n",
       "  \"/>\n",
       "<polyline clip-path=\"url(#clip472)\" style=\"stroke:#dd64b5; stroke-linecap:butt; stroke-linejoin:round; stroke-width:4; stroke-opacity:1; fill:none\" points=\"\n",
       "  263.091,1384.24 408.006,1384.24 552.92,1384.24 697.834,1384.24 842.749,1384.24 987.663,1384.24 1132.58,1384.24 1277.49,1384.24 1422.41,1384.24 1567.32,1384.24 \n",
       "  1712.23,1384.24 1857.15,1384.24 2002.06,1384.24 2146.98,1384.24 2291.89,1384.24 \n",
       "  \"/>\n",
       "<polyline clip-path=\"url(#clip472)\" style=\"stroke:#6b9e32; stroke-linecap:butt; stroke-linejoin:round; stroke-width:4; stroke-opacity:1; fill:none\" points=\"\n",
       "  263.091,1008.03 408.006,983.138 552.92,1215.14 697.834,733.248 842.749,1115.62 987.663,1324.58 1132.58,1023.45 1277.49,1329.48 1422.41,1081.31 1567.32,1168.04 \n",
       "  1712.23,1269.76 1857.15,952.454 2002.06,985.982 2146.98,1147.41 2291.89,990.11 \n",
       "  \"/>\n",
       "<polyline clip-path=\"url(#clip472)\" style=\"stroke:#009af9; stroke-linecap:butt; stroke-linejoin:round; stroke-width:4; stroke-opacity:1; fill:none\" points=\"\n",
       "  263.091,650.375 408.006,1068.94 552.92,655.29 697.834,552.326 842.749,1148.38 987.663,186.153 1132.58,965.55 1277.49,1040.97 1422.41,978.253 1567.32,1005.87 \n",
       "  1712.23,636.394 1857.15,1045.42 2002.06,371.537 2146.98,1031.13 2291.89,1315.55 \n",
       "  \"/>\n",
       "<polyline clip-path=\"url(#clip472)\" style=\"stroke:#e26f46; stroke-linecap:butt; stroke-linejoin:round; stroke-width:4; stroke-opacity:1; fill:none\" points=\"\n",
       "  263.091,1133.25 408.006,1361.84 552.92,1363.21 697.834,1191.82 842.749,1027.05 987.663,1336.69 1132.58,1231.44 1277.49,560.171 1422.41,1369.28 1567.32,1140.71 \n",
       "  1712.23,1317.67 1857.15,1185.9 2002.06,1063.96 2146.98,1377.12 2291.89,1194.88 \n",
       "  \"/>\n",
       "<polyline clip-path=\"url(#clip472)\" style=\"stroke:#3da44d; stroke-linecap:butt; stroke-linejoin:round; stroke-width:4; stroke-opacity:1; fill:none\" points=\"\n",
       "  263.091,1104.42 408.006,1384.24 552.92,1384.24 697.834,1355.36 842.749,602.259 987.663,1321.2 1132.58,1276.9 1277.49,859.099 1422.41,888.099 1567.32,992.243 \n",
       "  1712.23,1037.87 1857.15,1189.33 2002.06,1384.24 2146.98,1187.26 2291.89,403.787 \n",
       "  \"/>\n",
       "<polyline clip-path=\"url(#clip472)\" style=\"stroke:#c271d2; stroke-linecap:butt; stroke-linejoin:round; stroke-width:4; stroke-opacity:1; fill:none\" points=\"\n",
       "  263.091,1384.24 408.006,1384.24 552.92,1384.24 697.834,1384.24 842.749,1384.24 987.663,1384.24 1132.58,1384.24 1277.49,1384.24 1422.41,1384.24 1567.32,1384.24 \n",
       "  1712.23,1384.24 1857.15,1384.24 2002.06,1384.24 2146.98,1384.24 2291.89,1384.24 \n",
       "  \"/>\n",
       "<polyline clip-path=\"url(#clip472)\" style=\"stroke:#ac8d18; stroke-linecap:butt; stroke-linejoin:round; stroke-width:4; stroke-opacity:1; fill:none\" points=\"\n",
       "  263.091,559.886 408.006,1384.24 552.92,865.738 697.834,694.662 842.749,1134.07 987.663,1384.24 1132.58,1321.92 1277.49,1334.2 1422.41,1175.17 1567.32,1384.24 \n",
       "  1712.23,1384.24 1857.15,1384.24 2002.06,897.882 2146.98,1384.24 2291.89,1384.24 \n",
       "  \"/>\n",
       "<polyline clip-path=\"url(#clip472)\" style=\"stroke:#00a9ad; stroke-linecap:butt; stroke-linejoin:round; stroke-width:4; stroke-opacity:1; fill:none\" points=\"\n",
       "  263.091,1384.24 408.006,1384.24 552.92,1384.24 697.834,1384.24 842.749,1384.24 987.663,1384.24 1132.58,1384.24 1277.49,1384.24 1422.41,1384.24 1567.32,1384.24 \n",
       "  1712.23,1384.24 1857.15,1384.24 2002.06,1384.24 2146.98,1384.24 2291.89,1384.24 \n",
       "  \"/>\n",
       "<polyline clip-path=\"url(#clip472)\" style=\"stroke:#ed5d92; stroke-linecap:butt; stroke-linejoin:round; stroke-width:4; stroke-opacity:1; fill:none\" points=\"\n",
       "  263.091,773.646 408.006,1208.15 552.92,1012.09 697.834,1332.73 842.749,1179.78 987.663,1338.03 1132.58,1108.59 1277.49,1340.79 1422.41,1340.38 1567.32,691.576 \n",
       "  1712.23,1213.51 1857.15,1288.64 2002.06,996.38 2146.98,1054.83 2291.89,1306.93 \n",
       "  \"/>\n",
       "<polyline clip-path=\"url(#clip472)\" style=\"stroke:#c68125; stroke-linecap:butt; stroke-linejoin:round; stroke-width:4; stroke-opacity:1; fill:none\" points=\"\n",
       "  263.091,1016.68 408.006,1199.66 552.92,487.429 697.834,1177.1 842.749,1365.14 987.663,1365.25 1132.58,1257 1277.49,1365.25 1422.41,1365.18 1567.32,1209.15 \n",
       "  1712.23,1315.67 1857.15,566.428 2002.06,1362.73 2146.98,787.786 2291.89,1183.44 \n",
       "  \"/>\n",
       "<polyline clip-path=\"url(#clip472)\" style=\"stroke:#00a98d; stroke-linecap:butt; stroke-linejoin:round; stroke-width:4; stroke-opacity:1; fill:none\" points=\"\n",
       "  263.091,1269.65 408.006,1157.79 552.92,1086.81 697.834,86.1857 842.749,1011.47 987.663,963.424 1132.58,1307.7 1277.49,499.254 1422.41,1322.82 1567.32,1318.55 \n",
       "  1712.23,1322.99 1857.15,1217.59 2002.06,1317.62 2146.98,1186.71 2291.89,1277.02 \n",
       "  \"/>\n",
       "<polyline clip-path=\"url(#clip472)\" style=\"stroke:#8e971d; stroke-linecap:butt; stroke-linejoin:round; stroke-width:4; stroke-opacity:1; fill:none\" points=\"\n",
       "  263.091,1058.21 408.006,906.49 552.92,1316.66 697.834,1193.11 842.749,1251.42 987.663,1367.56 1132.58,807.738 1277.49,1064.34 1422.41,1193.89 1567.32,1369.23 \n",
       "  1712.23,956.772 1857.15,1328.62 2002.06,1372.2 2146.98,725.524 2291.89,1168.13 \n",
       "  \"/>\n",
       "<polyline clip-path=\"url(#clip472)\" style=\"stroke:#00a8cb; stroke-linecap:butt; stroke-linejoin:round; stroke-width:4; stroke-opacity:1; fill:none\" points=\"\n",
       "  263.091,1045.67 408.006,355.537 552.92,1130.11 697.834,783.81 842.749,1224.5 987.663,1142.36 1132.58,1298.5 1277.49,1312.11 1422.41,986.549 1567.32,550.293 \n",
       "  1712.23,1148.68 1857.15,1009.22 2002.06,1307.23 2146.98,1029.35 2291.89,1193.95 \n",
       "  \"/>\n",
       "<polyline clip-path=\"url(#clip472)\" style=\"stroke:#9b7fe8; stroke-linecap:butt; stroke-linejoin:round; stroke-width:4; stroke-opacity:1; fill:none\" points=\"\n",
       "  263.091,566.31 408.006,1051.6 552.92,1358.97 697.834,962.231 842.749,1359.98 987.663,1262.71 1132.58,1175.51 1277.49,584.099 1422.41,1270.38 1567.32,554.81 \n",
       "  1712.23,907.756 1857.15,1171.64 2002.06,1111.7 2146.98,956.165 2291.89,1384.24 \n",
       "  \"/>\n",
       "<polyline clip-path=\"url(#clip472)\" style=\"stroke:#608cf6; stroke-linecap:butt; stroke-linejoin:round; stroke-width:4; stroke-opacity:1; fill:none\" points=\"\n",
       "  263.091,591.662 408.006,878.578 552.92,1212.74 697.834,1084.14 842.749,1156.95 987.663,1209.75 1132.58,677.282 1277.49,1328.41 1422.41,1154.4 1567.32,721.138 \n",
       "  1712.23,1027.16 1857.15,1001.16 2002.06,1308.61 2146.98,1331.21 2291.89,1219.97 \n",
       "  \"/>\n",
       "<polyline clip-path=\"url(#clip472)\" style=\"stroke:#f05f73; stroke-linecap:butt; stroke-linejoin:round; stroke-width:4; stroke-opacity:1; fill:none\" points=\"\n",
       "  263.091,1085.07 408.006,1282.91 552.92,733.6 697.834,1344.42 842.749,576.797 987.663,898.896 1132.58,1052.17 1277.49,1351.16 1422.41,962.556 1567.32,1249.25 \n",
       "  1712.23,1014.43 1857.15,1205.09 2002.06,865.675 2146.98,1202.31 2291.89,1153.37 \n",
       "  \"/>\n",
       "<polyline clip-path=\"url(#clip472)\" style=\"stroke:#dd64b5; stroke-linecap:butt; stroke-linejoin:round; stroke-width:4; stroke-opacity:1; fill:none\" points=\"\n",
       "  263.091,1384.24 408.006,1384.24 552.92,1384.24 697.834,1384.24 842.749,1384.24 987.663,1384.24 1132.58,1384.24 1277.49,1384.24 1422.41,1384.24 1567.32,1384.24 \n",
       "  1712.23,1384.24 1857.15,1384.24 2002.06,1384.24 2146.98,1384.24 2291.89,1384.24 \n",
       "  \"/>\n",
       "<polyline clip-path=\"url(#clip472)\" style=\"stroke:#6b9e32; stroke-linecap:butt; stroke-linejoin:round; stroke-width:4; stroke-opacity:1; fill:none\" points=\"\n",
       "  263.091,1384.24 408.006,1384.24 552.92,1384.24 697.834,1384.24 842.749,1384.24 987.663,1384.24 1132.58,1384.24 1277.49,1384.24 1422.41,1384.24 1567.32,1384.24 \n",
       "  1712.23,1384.24 1857.15,1384.24 2002.06,1384.24 2146.98,1384.24 2291.89,1384.24 \n",
       "  \"/>\n",
       "<polyline clip-path=\"url(#clip472)\" style=\"stroke:#009af9; stroke-linecap:butt; stroke-linejoin:round; stroke-width:4; stroke-opacity:1; fill:none\" points=\"\n",
       "  263.091,1316.7 408.006,635.791 552.92,1199.08 697.834,1337.86 842.749,1125.63 987.663,1234.48 1132.58,1342.79 1277.49,1342.99 1422.41,1252.22 1567.32,1196.57 \n",
       "  1712.23,1337.99 1857.15,1161.78 2002.06,1035.59 2146.98,1069.04 2291.89,1020.66 \n",
       "  \"/>\n",
       "<polyline clip-path=\"url(#clip472)\" style=\"stroke:#e26f46; stroke-linecap:butt; stroke-linejoin:round; stroke-width:4; stroke-opacity:1; fill:none\" points=\"\n",
       "  263.091,1384.24 408.006,1384.24 552.92,1384.24 697.834,1384.24 842.749,1384.24 987.663,1384.24 1132.58,1384.24 1277.49,1384.24 1422.41,1384.24 1567.32,1384.24 \n",
       "  1712.23,1384.24 1857.15,1384.24 2002.06,1384.24 2146.98,1384.24 2291.89,1384.24 \n",
       "  \"/>\n",
       "<polyline clip-path=\"url(#clip472)\" style=\"stroke:#3da44d; stroke-linecap:butt; stroke-linejoin:round; stroke-width:4; stroke-opacity:1; fill:none\" points=\"\n",
       "  263.091,1384.24 408.006,1384.24 552.92,1384.24 697.834,1384.24 842.749,1384.24 987.663,1384.24 1132.58,1384.24 1277.49,1384.24 1422.41,1384.24 1567.32,1384.24 \n",
       "  1712.23,1384.24 1857.15,1384.24 2002.06,1384.24 2146.98,1384.24 2291.89,1384.24 \n",
       "  \"/>\n",
       "<polyline clip-path=\"url(#clip472)\" style=\"stroke:#c271d2; stroke-linecap:butt; stroke-linejoin:round; stroke-width:4; stroke-opacity:1; fill:none\" points=\"\n",
       "  263.091,1384.24 408.006,1302.63 552.92,502.908 697.834,1181.53 842.749,1384.24 987.663,1292.82 1132.58,1259.55 1277.49,605.864 1422.41,575.026 1567.32,827.168 \n",
       "  1712.23,727.656 1857.15,747.284 2002.06,1030.86 2146.98,816.134 2291.89,1212.11 \n",
       "  \"/>\n",
       "<polyline clip-path=\"url(#clip472)\" style=\"stroke:#ac8d18; stroke-linecap:butt; stroke-linejoin:round; stroke-width:4; stroke-opacity:1; fill:none\" points=\"\n",
       "  263.091,1384.24 408.006,1384.24 552.92,1384.24 697.834,1384.24 842.749,1384.24 987.663,1384.24 1132.58,1384.24 1277.49,1384.24 1422.41,1384.24 1567.32,1384.24 \n",
       "  1712.23,1384.24 1857.15,1384.24 2002.06,1384.24 2146.98,1384.24 2291.89,1384.24 \n",
       "  \"/>\n",
       "<polyline clip-path=\"url(#clip472)\" style=\"stroke:#00a9ad; stroke-linecap:butt; stroke-linejoin:round; stroke-width:4; stroke-opacity:1; fill:none\" points=\"\n",
       "  263.091,560.139 408.006,1271.49 552.92,1163.02 697.834,1209.28 842.749,1087.33 987.663,972.14 1132.58,707.244 1277.49,1087.92 1422.41,488.517 1567.32,507.171 \n",
       "  1712.23,990.149 1857.15,866.63 2002.06,1358.54 2146.98,1362.77 2291.89,920.739 \n",
       "  \"/>\n",
       "<polyline clip-path=\"url(#clip472)\" style=\"stroke:#ed5d92; stroke-linecap:butt; stroke-linejoin:round; stroke-width:4; stroke-opacity:1; fill:none\" points=\"\n",
       "  263.091,1384.24 408.006,1384.24 552.92,1384.24 697.834,1384.24 842.749,1384.24 987.663,1384.24 1132.58,1384.24 1277.49,1384.24 1422.41,1384.24 1567.32,1384.24 \n",
       "  1712.23,1384.24 1857.15,1384.24 2002.06,1384.24 2146.98,1384.24 2291.89,1384.24 \n",
       "  \"/>\n",
       "<polyline clip-path=\"url(#clip472)\" style=\"stroke:#c68125; stroke-linecap:butt; stroke-linejoin:round; stroke-width:4; stroke-opacity:1; fill:none\" points=\"\n",
       "  263.091,1384.24 408.006,1384.24 552.92,1384.24 697.834,1384.24 842.749,1384.24 987.663,1384.24 1132.58,1384.24 1277.49,1384.24 1422.41,1384.24 1567.32,1384.24 \n",
       "  1712.23,1384.24 1857.15,1384.24 2002.06,1384.24 2146.98,1384.24 2291.89,1384.24 \n",
       "  \"/>\n",
       "<polyline clip-path=\"url(#clip472)\" style=\"stroke:#00a98d; stroke-linecap:butt; stroke-linejoin:round; stroke-width:4; stroke-opacity:1; fill:none\" points=\"\n",
       "  263.091,1121.51 408.006,1087.6 552.92,793.509 697.834,1098.63 842.749,1371.89 987.663,641.319 1132.58,1372.5 1277.49,1334.84 1422.41,1064.96 1567.32,1248.49 \n",
       "  1712.23,836.455 1857.15,804.538 2002.06,1377.41 2146.98,1377.47 2291.89,1306.74 \n",
       "  \"/>\n",
       "<polyline clip-path=\"url(#clip472)\" style=\"stroke:#8e971d; stroke-linecap:butt; stroke-linejoin:round; stroke-width:4; stroke-opacity:1; fill:none\" points=\"\n",
       "  263.091,1270.49 408.006,916.945 552.92,1114.66 697.834,1080.54 842.749,1193.37 987.663,1009.3 1132.58,1132.02 1277.49,917.365 1422.41,1243.65 1567.32,1114 \n",
       "  1712.23,1252.79 1857.15,1068.49 2002.06,784.868 2146.98,1326.81 2291.89,855.918 \n",
       "  \"/>\n",
       "<polyline clip-path=\"url(#clip472)\" style=\"stroke:#00a8cb; stroke-linecap:butt; stroke-linejoin:round; stroke-width:4; stroke-opacity:1; fill:none\" points=\"\n",
       "  263.091,1384.24 408.006,1384.24 552.92,1384.24 697.834,1384.24 842.749,1384.24 987.663,1384.24 1132.58,1384.24 1277.49,1384.24 1422.41,1384.24 1567.32,1384.24 \n",
       "  1712.23,1384.24 1857.15,1384.24 2002.06,1384.24 2146.98,1384.24 2291.89,1384.24 \n",
       "  \"/>\n",
       "<polyline clip-path=\"url(#clip472)\" style=\"stroke:#9b7fe8; stroke-linecap:butt; stroke-linejoin:round; stroke-width:4; stroke-opacity:1; fill:none\" points=\"\n",
       "  263.091,1275.73 408.006,1293.56 552.92,1097.15 697.834,820.501 842.749,850.27 987.663,1298.67 1132.58,1160.62 1277.49,1224.99 1422.41,1318.64 1567.32,1239.39 \n",
       "  1712.23,1289.73 1857.15,1323.79 2002.06,1266.34 2146.98,1172.35 2291.89,1084.46 \n",
       "  \"/>\n",
       "<polyline clip-path=\"url(#clip472)\" style=\"stroke:#608cf6; stroke-linecap:butt; stroke-linejoin:round; stroke-width:4; stroke-opacity:1; fill:none\" points=\"\n",
       "  263.091,1384.24 408.006,1384.24 552.92,1384.24 697.834,1384.24 842.749,1384.24 987.663,1384.24 1132.58,1384.24 1277.49,1384.24 1422.41,1384.24 1567.32,1117.26 \n",
       "  1712.23,1384.24 1857.15,1384.24 2002.06,1384.24 2146.98,1384.24 2291.89,1384.24 \n",
       "  \"/>\n",
       "<polyline clip-path=\"url(#clip472)\" style=\"stroke:#f05f73; stroke-linecap:butt; stroke-linejoin:round; stroke-width:4; stroke-opacity:1; fill:none\" points=\"\n",
       "  263.091,1384.24 408.006,1384.24 552.92,1384.24 697.834,1384.24 842.749,1384.24 987.663,1384.24 1132.58,1384.24 1277.49,1300.35 1422.41,1384.24 1567.32,1384.24 \n",
       "  1712.23,1384.24 1857.15,1384.24 2002.06,1384.24 2146.98,1384.24 2291.89,1338.24 \n",
       "  \"/>\n",
       "<polyline clip-path=\"url(#clip472)\" style=\"stroke:#dd64b5; stroke-linecap:butt; stroke-linejoin:round; stroke-width:4; stroke-opacity:1; fill:none\" points=\"\n",
       "  263.091,1384.24 408.006,1384.24 552.92,1384.24 697.834,1384.24 842.749,1384.24 987.663,1384.24 1132.58,1384.24 1277.49,1384.24 1422.41,1384.24 1567.32,1384.24 \n",
       "  1712.23,1384.24 1857.15,1384.24 2002.06,1384.24 2146.98,1384.24 2291.89,1384.24 \n",
       "  \"/>\n",
       "<polyline clip-path=\"url(#clip472)\" style=\"stroke:#6b9e32; stroke-linecap:butt; stroke-linejoin:round; stroke-width:4; stroke-opacity:1; fill:none\" points=\"\n",
       "  263.091,1384.24 408.006,1384.24 552.92,1384.24 697.834,1384.24 842.749,1384.24 987.663,1384.24 1132.58,1384.24 1277.49,1384.24 1422.41,1384.24 1567.32,1384.24 \n",
       "  1712.23,1384.24 1857.15,1384.24 2002.06,1384.24 2146.98,1384.24 2291.89,1384.24 \n",
       "  \"/>\n",
       "<polyline clip-path=\"url(#clip472)\" style=\"stroke:#009af9; stroke-linecap:butt; stroke-linejoin:round; stroke-width:4; stroke-opacity:1; fill:none\" points=\"\n",
       "  263.091,969.584 408.006,1361.05 552.92,1092.5 697.834,1065.73 842.749,1242.05 987.663,1169.73 1132.58,1384.24 1277.49,849.388 1422.41,1271.34 1567.32,1140.02 \n",
       "  1712.23,1333.41 1857.15,1129.77 2002.06,1146.41 2146.98,1328.68 2291.89,811.718 \n",
       "  \"/>\n",
       "<polyline clip-path=\"url(#clip472)\" style=\"stroke:#e26f46; stroke-linecap:butt; stroke-linejoin:round; stroke-width:4; stroke-opacity:1; fill:none\" points=\"\n",
       "  263.091,1384.24 408.006,1384.24 552.92,1384.24 697.834,1384.24 842.749,1384.24 987.663,1384.24 1132.58,1384.24 1277.49,1384.24 1422.41,1384.24 1567.32,1384.24 \n",
       "  1712.23,1384.24 1857.15,1384.24 2002.06,1384.24 2146.98,1384.24 2291.89,1384.24 \n",
       "  \"/>\n",
       "<path clip-path=\"url(#clip470)\" d=\"\n",
       "M1957.82 3177.59 L2281.07 3177.59 L2281.07 93.1086 L1957.82 93.1086  Z\n",
       "  \" fill=\"#ffffff\" fill-rule=\"evenodd\" fill-opacity=\"1\"/>\n",
       "<polyline clip-path=\"url(#clip470)\" style=\"stroke:#000000; stroke-linecap:butt; stroke-linejoin:round; stroke-width:4; stroke-opacity:1; fill:none\" points=\"\n",
       "  1957.82,3177.59 2281.07,3177.59 2281.07,93.1086 1957.82,93.1086 1957.82,3177.59 \n",
       "  \"/>\n",
       "<polyline clip-path=\"url(#clip470)\" style=\"stroke:#009af9; stroke-linecap:butt; stroke-linejoin:round; stroke-width:4; stroke-opacity:1; fill:none\" points=\"\n",
       "  1981.71,153.589 2125.08,153.589 \n",
       "  \"/>\n",
       "<path clip-path=\"url(#clip470)\" d=\"M2162.82 173.276 Q2161.01 177.906 2159.3 179.318 Q2157.59 180.73 2154.72 180.73 L2151.31 180.73 L2151.31 177.165 L2153.81 177.165 Q2155.57 177.165 2156.55 176.332 Q2157.52 175.498 2158.7 172.396 L2159.46 170.452 L2148.98 144.943 L2153.49 144.943 L2161.59 165.221 L2169.69 144.943 L2174.21 144.943 L2162.82 173.276 Z\" fill=\"#000000\" fill-rule=\"evenodd\" fill-opacity=\"1\" /><path clip-path=\"url(#clip470)\" d=\"M2181.5 166.933 L2189.14 166.933 L2189.14 140.568 L2180.83 142.235 L2180.83 137.975 L2189.09 136.309 L2193.77 136.309 L2193.77 166.933 L2201.41 166.933 L2201.41 170.869 L2181.5 170.869 L2181.5 166.933 Z\" fill=\"#000000\" fill-rule=\"evenodd\" fill-opacity=\"1\" /><polyline clip-path=\"url(#clip470)\" style=\"stroke:#e26f46; stroke-linecap:butt; stroke-linejoin:round; stroke-width:4; stroke-opacity:1; fill:none\" points=\"\n",
       "  1981.71,214.069 2125.08,214.069 \n",
       "  \"/>\n",
       "<path clip-path=\"url(#clip470)\" d=\"M2162.82 233.756 Q2161.01 238.386 2159.3 239.798 Q2157.59 241.21 2154.72 241.21 L2151.31 241.21 L2151.31 237.645 L2153.81 237.645 Q2155.57 237.645 2156.55 236.812 Q2157.52 235.978 2158.7 232.876 L2159.46 230.932 L2148.98 205.423 L2153.49 205.423 L2161.59 225.701 L2169.69 205.423 L2174.21 205.423 L2162.82 233.756 Z\" fill=\"#000000\" fill-rule=\"evenodd\" fill-opacity=\"1\" /><path clip-path=\"url(#clip470)\" d=\"M2184.72 227.413 L2201.04 227.413 L2201.04 231.349 L2179.09 231.349 L2179.09 227.413 Q2181.75 224.659 2186.34 220.029 Q2190.94 215.376 2192.12 214.034 Q2194.37 211.511 2195.25 209.775 Q2196.15 208.015 2196.15 206.326 Q2196.15 203.571 2194.21 201.835 Q2192.29 200.099 2189.19 200.099 Q2186.99 200.099 2184.53 200.863 Q2182.1 201.627 2179.32 203.177 L2179.32 198.455 Q2182.15 197.321 2184.6 196.742 Q2187.06 196.164 2189.09 196.164 Q2194.46 196.164 2197.66 198.849 Q2200.85 201.534 2200.85 206.025 Q2200.85 208.154 2200.04 210.076 Q2199.25 211.974 2197.15 214.566 Q2196.57 215.238 2193.47 218.455 Q2190.37 221.65 2184.72 227.413 Z\" fill=\"#000000\" fill-rule=\"evenodd\" fill-opacity=\"1\" /><polyline clip-path=\"url(#clip470)\" style=\"stroke:#3da44d; stroke-linecap:butt; stroke-linejoin:round; stroke-width:4; stroke-opacity:1; fill:none\" points=\"\n",
       "  1981.71,274.549 2125.08,274.549 \n",
       "  \"/>\n",
       "<path clip-path=\"url(#clip470)\" d=\"M2162.82 294.236 Q2161.01 298.866 2159.3 300.278 Q2157.59 301.69 2154.72 301.69 L2151.31 301.69 L2151.31 298.125 L2153.81 298.125 Q2155.57 298.125 2156.55 297.292 Q2157.52 296.458 2158.7 293.356 L2159.46 291.412 L2148.98 265.903 L2153.49 265.903 L2161.59 286.181 L2169.69 265.903 L2174.21 265.903 L2162.82 294.236 Z\" fill=\"#000000\" fill-rule=\"evenodd\" fill-opacity=\"1\" /><path clip-path=\"url(#clip470)\" d=\"M2194.86 273.194 Q2198.21 273.912 2200.09 276.181 Q2201.99 278.449 2201.99 281.782 Q2201.99 286.898 2198.47 289.699 Q2194.95 292.5 2188.47 292.5 Q2186.29 292.5 2183.98 292.06 Q2181.69 291.643 2179.23 290.787 L2179.23 286.273 Q2181.18 287.407 2183.49 287.986 Q2185.81 288.565 2188.33 288.565 Q2192.73 288.565 2195.02 286.829 Q2197.33 285.093 2197.33 281.782 Q2197.33 278.727 2195.18 277.014 Q2193.05 275.278 2189.23 275.278 L2185.2 275.278 L2185.2 271.435 L2189.42 271.435 Q2192.87 271.435 2194.69 270.069 Q2196.52 268.681 2196.52 266.088 Q2196.52 263.426 2194.62 262.014 Q2192.75 260.579 2189.23 260.579 Q2187.31 260.579 2185.11 260.995 Q2182.91 261.412 2180.27 262.292 L2180.27 258.125 Q2182.94 257.384 2185.25 257.014 Q2187.59 256.644 2189.65 256.644 Q2194.97 256.644 2198.07 259.074 Q2201.18 261.482 2201.18 265.602 Q2201.18 268.472 2199.53 270.463 Q2197.89 272.431 2194.86 273.194 Z\" fill=\"#000000\" fill-rule=\"evenodd\" fill-opacity=\"1\" /><polyline clip-path=\"url(#clip470)\" style=\"stroke:#c271d2; stroke-linecap:butt; stroke-linejoin:round; stroke-width:4; stroke-opacity:1; fill:none\" points=\"\n",
       "  1981.71,335.029 2125.08,335.029 \n",
       "  \"/>\n",
       "<path clip-path=\"url(#clip470)\" d=\"M2162.82 354.716 Q2161.01 359.346 2159.3 360.758 Q2157.59 362.17 2154.72 362.17 L2151.31 362.17 L2151.31 358.605 L2153.81 358.605 Q2155.57 358.605 2156.55 357.772 Q2157.52 356.938 2158.7 353.836 L2159.46 351.892 L2148.98 326.383 L2153.49 326.383 L2161.59 346.661 L2169.69 326.383 L2174.21 326.383 L2162.82 354.716 Z\" fill=\"#000000\" fill-rule=\"evenodd\" fill-opacity=\"1\" /><path clip-path=\"url(#clip470)\" d=\"M2193.54 321.823 L2181.73 340.272 L2193.54 340.272 L2193.54 321.823 M2192.31 317.749 L2198.19 317.749 L2198.19 340.272 L2203.12 340.272 L2203.12 344.161 L2198.19 344.161 L2198.19 352.309 L2193.54 352.309 L2193.54 344.161 L2177.94 344.161 L2177.94 339.647 L2192.31 317.749 Z\" fill=\"#000000\" fill-rule=\"evenodd\" fill-opacity=\"1\" /><polyline clip-path=\"url(#clip470)\" style=\"stroke:#ac8d18; stroke-linecap:butt; stroke-linejoin:round; stroke-width:4; stroke-opacity:1; fill:none\" points=\"\n",
       "  1981.71,395.509 2125.08,395.509 \n",
       "  \"/>\n",
       "<path clip-path=\"url(#clip470)\" d=\"M2162.82 415.196 Q2161.01 419.826 2159.3 421.238 Q2157.59 422.65 2154.72 422.65 L2151.31 422.65 L2151.31 419.085 L2153.81 419.085 Q2155.57 419.085 2156.55 418.252 Q2157.52 417.418 2158.7 414.316 L2159.46 412.372 L2148.98 386.863 L2153.49 386.863 L2161.59 407.141 L2169.69 386.863 L2174.21 386.863 L2162.82 415.196 Z\" fill=\"#000000\" fill-rule=\"evenodd\" fill-opacity=\"1\" /><path clip-path=\"url(#clip470)\" d=\"M2180.74 378.229 L2199.09 378.229 L2199.09 382.164 L2185.02 382.164 L2185.02 390.636 Q2186.04 390.289 2187.06 390.127 Q2188.07 389.942 2189.09 389.942 Q2194.88 389.942 2198.26 393.113 Q2201.64 396.284 2201.64 401.701 Q2201.64 407.279 2198.17 410.381 Q2194.69 413.46 2188.37 413.46 Q2186.2 413.46 2183.93 413.09 Q2181.69 412.719 2179.28 411.978 L2179.28 407.279 Q2181.36 408.414 2183.58 408.969 Q2185.81 409.525 2188.28 409.525 Q2192.29 409.525 2194.62 407.418 Q2196.96 405.312 2196.96 401.701 Q2196.96 398.09 2194.62 395.983 Q2192.29 393.877 2188.28 393.877 Q2186.41 393.877 2184.53 394.293 Q2182.68 394.71 2180.74 395.59 L2180.74 378.229 Z\" fill=\"#000000\" fill-rule=\"evenodd\" fill-opacity=\"1\" /><polyline clip-path=\"url(#clip470)\" style=\"stroke:#00a9ad; stroke-linecap:butt; stroke-linejoin:round; stroke-width:4; stroke-opacity:1; fill:none\" points=\"\n",
       "  1981.71,455.989 2125.08,455.989 \n",
       "  \"/>\n",
       "<path clip-path=\"url(#clip470)\" d=\"M2162.82 475.676 Q2161.01 480.306 2159.3 481.718 Q2157.59 483.13 2154.72 483.13 L2151.31 483.13 L2151.31 479.565 L2153.81 479.565 Q2155.57 479.565 2156.55 478.732 Q2157.52 477.898 2158.7 474.796 L2159.46 472.852 L2148.98 447.343 L2153.49 447.343 L2161.59 467.621 L2169.69 447.343 L2174.21 447.343 L2162.82 475.676 Z\" fill=\"#000000\" fill-rule=\"evenodd\" fill-opacity=\"1\" /><path clip-path=\"url(#clip470)\" d=\"M2191.27 454.125 Q2188.12 454.125 2186.27 456.278 Q2184.44 458.431 2184.44 462.181 Q2184.44 465.908 2186.27 468.083 Q2188.12 470.236 2191.27 470.236 Q2194.42 470.236 2196.25 468.083 Q2198.1 465.908 2198.1 462.181 Q2198.1 458.431 2196.25 456.278 Q2194.42 454.125 2191.27 454.125 M2200.55 439.473 L2200.55 443.732 Q2198.79 442.898 2196.99 442.459 Q2195.2 442.019 2193.44 442.019 Q2188.81 442.019 2186.36 445.144 Q2183.93 448.269 2183.58 454.588 Q2184.95 452.574 2187.01 451.509 Q2189.07 450.422 2191.55 450.422 Q2196.75 450.422 2199.76 453.593 Q2202.8 456.741 2202.8 462.181 Q2202.8 467.505 2199.65 470.722 Q2196.5 473.94 2191.27 473.94 Q2185.27 473.94 2182.1 469.357 Q2178.93 464.75 2178.93 456.023 Q2178.93 447.829 2182.82 442.968 Q2186.71 438.084 2193.26 438.084 Q2195.02 438.084 2196.8 438.431 Q2198.61 438.778 2200.55 439.473 Z\" fill=\"#000000\" fill-rule=\"evenodd\" fill-opacity=\"1\" /><polyline clip-path=\"url(#clip470)\" style=\"stroke:#ed5d92; stroke-linecap:butt; stroke-linejoin:round; stroke-width:4; stroke-opacity:1; fill:none\" points=\"\n",
       "  1981.71,516.469 2125.08,516.469 \n",
       "  \"/>\n",
       "<path clip-path=\"url(#clip470)\" d=\"M2162.82 536.156 Q2161.01 540.786 2159.3 542.198 Q2157.59 543.61 2154.72 543.61 L2151.31 543.61 L2151.31 540.045 L2153.81 540.045 Q2155.57 540.045 2156.55 539.212 Q2157.52 538.378 2158.7 535.276 L2159.46 533.332 L2148.98 507.823 L2153.49 507.823 L2161.59 528.101 L2169.69 507.823 L2174.21 507.823 L2162.82 536.156 Z\" fill=\"#000000\" fill-rule=\"evenodd\" fill-opacity=\"1\" /><path clip-path=\"url(#clip470)\" d=\"M2179.51 499.189 L2201.73 499.189 L2201.73 501.179 L2189.19 533.749 L2184.3 533.749 L2196.11 503.124 L2179.51 503.124 L2179.51 499.189 Z\" fill=\"#000000\" fill-rule=\"evenodd\" fill-opacity=\"1\" /><polyline clip-path=\"url(#clip470)\" style=\"stroke:#c68125; stroke-linecap:butt; stroke-linejoin:round; stroke-width:4; stroke-opacity:1; fill:none\" points=\"\n",
       "  1981.71,576.949 2125.08,576.949 \n",
       "  \"/>\n",
       "<path clip-path=\"url(#clip470)\" d=\"M2162.82 596.636 Q2161.01 601.266 2159.3 602.678 Q2157.59 604.09 2154.72 604.09 L2151.31 604.09 L2151.31 600.525 L2153.81 600.525 Q2155.57 600.525 2156.55 599.692 Q2157.52 598.858 2158.7 595.756 L2159.46 593.812 L2148.98 568.303 L2153.49 568.303 L2161.59 588.581 L2169.69 568.303 L2174.21 568.303 L2162.82 596.636 Z\" fill=\"#000000\" fill-rule=\"evenodd\" fill-opacity=\"1\" /><path clip-path=\"url(#clip470)\" d=\"M2190.69 577.817 Q2187.36 577.817 2185.44 579.599 Q2183.54 581.381 2183.54 584.506 Q2183.54 587.631 2185.44 589.414 Q2187.36 591.196 2190.69 591.196 Q2194.02 591.196 2195.94 589.414 Q2197.87 587.608 2197.87 584.506 Q2197.87 581.381 2195.94 579.599 Q2194.05 577.817 2190.69 577.817 M2186.01 575.826 Q2183 575.085 2181.31 573.025 Q2179.65 570.965 2179.65 568.002 Q2179.65 563.858 2182.59 561.451 Q2185.55 559.044 2190.69 559.044 Q2195.85 559.044 2198.79 561.451 Q2201.73 563.858 2201.73 568.002 Q2201.73 570.965 2200.04 573.025 Q2198.37 575.085 2195.39 575.826 Q2198.77 576.613 2200.64 578.905 Q2202.54 581.196 2202.54 584.506 Q2202.54 589.53 2199.46 592.215 Q2196.41 594.9 2190.69 594.9 Q2184.97 594.9 2181.89 592.215 Q2178.84 589.53 2178.84 584.506 Q2178.84 581.196 2180.74 578.905 Q2182.63 576.613 2186.01 575.826 M2184.3 568.442 Q2184.3 571.127 2185.97 572.632 Q2187.66 574.136 2190.69 574.136 Q2193.7 574.136 2195.39 572.632 Q2197.1 571.127 2197.1 568.442 Q2197.1 565.757 2195.39 564.252 Q2193.7 562.747 2190.69 562.747 Q2187.66 562.747 2185.97 564.252 Q2184.3 565.757 2184.3 568.442 Z\" fill=\"#000000\" fill-rule=\"evenodd\" fill-opacity=\"1\" /><polyline clip-path=\"url(#clip470)\" style=\"stroke:#00a98d; stroke-linecap:butt; stroke-linejoin:round; stroke-width:4; stroke-opacity:1; fill:none\" points=\"\n",
       "  1981.71,637.429 2125.08,637.429 \n",
       "  \"/>\n",
       "<path clip-path=\"url(#clip470)\" d=\"M2162.82 657.116 Q2161.01 661.746 2159.3 663.158 Q2157.59 664.57 2154.72 664.57 L2151.31 664.57 L2151.31 661.005 L2153.81 661.005 Q2155.57 661.005 2156.55 660.172 Q2157.52 659.338 2158.7 656.236 L2159.46 654.292 L2148.98 628.783 L2153.49 628.783 L2161.59 649.061 L2169.69 628.783 L2174.21 628.783 L2162.82 657.116 Z\" fill=\"#000000\" fill-rule=\"evenodd\" fill-opacity=\"1\" /><path clip-path=\"url(#clip470)\" d=\"M2180.83 653.991 L2180.83 649.732 Q2182.59 650.565 2184.39 651.005 Q2186.2 651.445 2187.94 651.445 Q2192.56 651.445 2195 648.343 Q2197.45 645.218 2197.8 638.875 Q2196.45 640.866 2194.39 641.931 Q2192.33 642.996 2189.83 642.996 Q2184.65 642.996 2181.62 639.871 Q2178.61 636.723 2178.61 631.283 Q2178.61 625.959 2181.75 622.741 Q2184.9 619.524 2190.13 619.524 Q2196.13 619.524 2199.28 624.13 Q2202.45 628.713 2202.45 637.463 Q2202.45 645.635 2198.56 650.519 Q2194.69 655.38 2188.14 655.38 Q2186.38 655.38 2184.58 655.033 Q2182.77 654.685 2180.83 653.991 M2190.13 639.338 Q2193.28 639.338 2195.11 637.186 Q2196.96 635.033 2196.96 631.283 Q2196.96 627.556 2195.11 625.403 Q2193.28 623.227 2190.13 623.227 Q2186.99 623.227 2185.13 625.403 Q2183.31 627.556 2183.31 631.283 Q2183.31 635.033 2185.13 637.186 Q2186.99 639.338 2190.13 639.338 Z\" fill=\"#000000\" fill-rule=\"evenodd\" fill-opacity=\"1\" /><polyline clip-path=\"url(#clip470)\" style=\"stroke:#8e971d; stroke-linecap:butt; stroke-linejoin:round; stroke-width:4; stroke-opacity:1; fill:none\" points=\"\n",
       "  1981.71,697.909 2125.08,697.909 \n",
       "  \"/>\n",
       "<path clip-path=\"url(#clip470)\" d=\"M2162.82 717.596 Q2161.01 722.226 2159.3 723.638 Q2157.59 725.05 2154.72 725.05 L2151.31 725.05 L2151.31 721.485 L2153.81 721.485 Q2155.57 721.485 2156.55 720.652 Q2157.52 719.818 2158.7 716.716 L2159.46 714.772 L2148.98 689.263 L2153.49 689.263 L2161.59 709.541 L2169.69 689.263 L2174.21 689.263 L2162.82 717.596 Z\" fill=\"#000000\" fill-rule=\"evenodd\" fill-opacity=\"1\" /><path clip-path=\"url(#clip470)\" d=\"M2181.5 711.253 L2189.14 711.253 L2189.14 684.888 L2180.83 686.555 L2180.83 682.295 L2189.09 680.629 L2193.77 680.629 L2193.77 711.253 L2201.41 711.253 L2201.41 715.189 L2181.5 715.189 L2181.5 711.253 Z\" fill=\"#000000\" fill-rule=\"evenodd\" fill-opacity=\"1\" /><path clip-path=\"url(#clip470)\" d=\"M2220.85 683.707 Q2217.24 683.707 2215.41 687.272 Q2213.61 690.814 2213.61 697.943 Q2213.61 705.05 2215.41 708.615 Q2217.24 712.156 2220.85 712.156 Q2224.49 712.156 2226.29 708.615 Q2228.12 705.05 2228.12 697.943 Q2228.12 690.814 2226.29 687.272 Q2224.49 683.707 2220.85 683.707 M2220.85 680.004 Q2226.66 680.004 2229.72 684.61 Q2232.8 689.193 2232.8 697.943 Q2232.8 706.67 2229.72 711.277 Q2226.66 715.86 2220.85 715.86 Q2215.04 715.86 2211.96 711.277 Q2208.91 706.67 2208.91 697.943 Q2208.91 689.193 2211.96 684.61 Q2215.04 680.004 2220.85 680.004 Z\" fill=\"#000000\" fill-rule=\"evenodd\" fill-opacity=\"1\" /><polyline clip-path=\"url(#clip470)\" style=\"stroke:#00a8cb; stroke-linecap:butt; stroke-linejoin:round; stroke-width:4; stroke-opacity:1; fill:none\" points=\"\n",
       "  1981.71,758.389 2125.08,758.389 \n",
       "  \"/>\n",
       "<path clip-path=\"url(#clip470)\" d=\"M2162.82 778.076 Q2161.01 782.706 2159.3 784.118 Q2157.59 785.53 2154.72 785.53 L2151.31 785.53 L2151.31 781.965 L2153.81 781.965 Q2155.57 781.965 2156.55 781.132 Q2157.52 780.298 2158.7 777.196 L2159.46 775.252 L2148.98 749.743 L2153.49 749.743 L2161.59 770.021 L2169.69 749.743 L2174.21 749.743 L2162.82 778.076 Z\" fill=\"#000000\" fill-rule=\"evenodd\" fill-opacity=\"1\" /><path clip-path=\"url(#clip470)\" d=\"M2181.5 771.733 L2189.14 771.733 L2189.14 745.368 L2180.83 747.035 L2180.83 742.775 L2189.09 741.109 L2193.77 741.109 L2193.77 771.733 L2201.41 771.733 L2201.41 775.669 L2181.5 775.669 L2181.5 771.733 Z\" fill=\"#000000\" fill-rule=\"evenodd\" fill-opacity=\"1\" /><path clip-path=\"url(#clip470)\" d=\"M2211.66 771.733 L2219.3 771.733 L2219.3 745.368 L2210.99 747.035 L2210.99 742.775 L2219.25 741.109 L2223.93 741.109 L2223.93 771.733 L2231.57 771.733 L2231.57 775.669 L2211.66 775.669 L2211.66 771.733 Z\" fill=\"#000000\" fill-rule=\"evenodd\" fill-opacity=\"1\" /><polyline clip-path=\"url(#clip470)\" style=\"stroke:#9b7fe8; stroke-linecap:butt; stroke-linejoin:round; stroke-width:4; stroke-opacity:1; fill:none\" points=\"\n",
       "  1981.71,818.869 2125.08,818.869 \n",
       "  \"/>\n",
       "<path clip-path=\"url(#clip470)\" d=\"M2162.82 838.556 Q2161.01 843.186 2159.3 844.598 Q2157.59 846.01 2154.72 846.01 L2151.31 846.01 L2151.31 842.445 L2153.81 842.445 Q2155.57 842.445 2156.55 841.612 Q2157.52 840.778 2158.7 837.676 L2159.46 835.732 L2148.98 810.223 L2153.49 810.223 L2161.59 830.501 L2169.69 810.223 L2174.21 810.223 L2162.82 838.556 Z\" fill=\"#000000\" fill-rule=\"evenodd\" fill-opacity=\"1\" /><path clip-path=\"url(#clip470)\" d=\"M2181.5 832.213 L2189.14 832.213 L2189.14 805.848 L2180.83 807.515 L2180.83 803.255 L2189.09 801.589 L2193.77 801.589 L2193.77 832.213 L2201.41 832.213 L2201.41 836.149 L2181.5 836.149 L2181.5 832.213 Z\" fill=\"#000000\" fill-rule=\"evenodd\" fill-opacity=\"1\" /><path clip-path=\"url(#clip470)\" d=\"M2214.88 832.213 L2231.2 832.213 L2231.2 836.149 L2209.25 836.149 L2209.25 832.213 Q2211.92 829.459 2216.5 824.829 Q2221.11 820.176 2222.29 818.834 Q2224.53 816.311 2225.41 814.575 Q2226.31 812.815 2226.31 811.126 Q2226.31 808.371 2224.37 806.635 Q2222.45 804.899 2219.35 804.899 Q2217.15 804.899 2214.69 805.663 Q2212.26 806.427 2209.49 807.977 L2209.49 803.255 Q2212.31 802.121 2214.76 801.542 Q2217.22 800.964 2219.25 800.964 Q2224.62 800.964 2227.82 803.649 Q2231.01 806.334 2231.01 810.825 Q2231.01 812.954 2230.2 814.876 Q2229.42 816.774 2227.31 819.366 Q2226.73 820.038 2223.63 823.255 Q2220.53 826.45 2214.88 832.213 Z\" fill=\"#000000\" fill-rule=\"evenodd\" fill-opacity=\"1\" /><polyline clip-path=\"url(#clip470)\" style=\"stroke:#608cf6; stroke-linecap:butt; stroke-linejoin:round; stroke-width:4; stroke-opacity:1; fill:none\" points=\"\n",
       "  1981.71,879.349 2125.08,879.349 \n",
       "  \"/>\n",
       "<path clip-path=\"url(#clip470)\" d=\"M2162.82 899.036 Q2161.01 903.666 2159.3 905.078 Q2157.59 906.49 2154.72 906.49 L2151.31 906.49 L2151.31 902.925 L2153.81 902.925 Q2155.57 902.925 2156.55 902.092 Q2157.52 901.258 2158.7 898.156 L2159.46 896.212 L2148.98 870.703 L2153.49 870.703 L2161.59 890.981 L2169.69 870.703 L2174.21 870.703 L2162.82 899.036 Z\" fill=\"#000000\" fill-rule=\"evenodd\" fill-opacity=\"1\" /><path clip-path=\"url(#clip470)\" d=\"M2181.5 892.693 L2189.14 892.693 L2189.14 866.328 L2180.83 867.995 L2180.83 863.735 L2189.09 862.069 L2193.77 862.069 L2193.77 892.693 L2201.41 892.693 L2201.41 896.629 L2181.5 896.629 L2181.5 892.693 Z\" fill=\"#000000\" fill-rule=\"evenodd\" fill-opacity=\"1\" /><path clip-path=\"url(#clip470)\" d=\"M2225.02 877.994 Q2228.37 878.712 2230.25 880.981 Q2232.15 883.249 2232.15 886.582 Q2232.15 891.698 2228.63 894.499 Q2225.11 897.3 2218.63 897.3 Q2216.45 897.3 2214.14 896.86 Q2211.85 896.443 2209.39 895.587 L2209.39 891.073 Q2211.34 892.207 2213.65 892.786 Q2215.97 893.365 2218.49 893.365 Q2222.89 893.365 2225.18 891.629 Q2227.5 889.893 2227.5 886.582 Q2227.5 883.527 2225.34 881.814 Q2223.21 880.078 2219.39 880.078 L2215.37 880.078 L2215.37 876.235 L2219.58 876.235 Q2223.03 876.235 2224.86 874.869 Q2226.68 873.481 2226.68 870.888 Q2226.68 868.226 2224.79 866.814 Q2222.91 865.379 2219.39 865.379 Q2217.47 865.379 2215.27 865.795 Q2213.07 866.212 2210.44 867.092 L2210.44 862.925 Q2213.1 862.184 2215.41 861.814 Q2217.75 861.444 2219.81 861.444 Q2225.13 861.444 2228.24 863.874 Q2231.34 866.282 2231.34 870.402 Q2231.34 873.272 2229.69 875.263 Q2228.05 877.231 2225.02 877.994 Z\" fill=\"#000000\" fill-rule=\"evenodd\" fill-opacity=\"1\" /><polyline clip-path=\"url(#clip470)\" style=\"stroke:#f05f73; stroke-linecap:butt; stroke-linejoin:round; stroke-width:4; stroke-opacity:1; fill:none\" points=\"\n",
       "  1981.71,939.829 2125.08,939.829 \n",
       "  \"/>\n",
       "<path clip-path=\"url(#clip470)\" d=\"M2162.82 959.516 Q2161.01 964.146 2159.3 965.558 Q2157.59 966.97 2154.72 966.97 L2151.31 966.97 L2151.31 963.405 L2153.81 963.405 Q2155.57 963.405 2156.55 962.572 Q2157.52 961.738 2158.7 958.636 L2159.46 956.692 L2148.98 931.183 L2153.49 931.183 L2161.59 951.461 L2169.69 931.183 L2174.21 931.183 L2162.82 959.516 Z\" fill=\"#000000\" fill-rule=\"evenodd\" fill-opacity=\"1\" /><path clip-path=\"url(#clip470)\" d=\"M2181.5 953.173 L2189.14 953.173 L2189.14 926.808 L2180.83 928.475 L2180.83 924.215 L2189.09 922.549 L2193.77 922.549 L2193.77 953.173 L2201.41 953.173 L2201.41 957.109 L2181.5 957.109 L2181.5 953.173 Z\" fill=\"#000000\" fill-rule=\"evenodd\" fill-opacity=\"1\" /><path clip-path=\"url(#clip470)\" d=\"M2223.7 926.623 L2211.89 945.072 L2223.7 945.072 L2223.7 926.623 M2222.47 922.549 L2228.35 922.549 L2228.35 945.072 L2233.28 945.072 L2233.28 948.961 L2228.35 948.961 L2228.35 957.109 L2223.7 957.109 L2223.7 948.961 L2208.1 948.961 L2208.1 944.447 L2222.47 922.549 Z\" fill=\"#000000\" fill-rule=\"evenodd\" fill-opacity=\"1\" /><polyline clip-path=\"url(#clip470)\" style=\"stroke:#dd64b5; stroke-linecap:butt; stroke-linejoin:round; stroke-width:4; stroke-opacity:1; fill:none\" points=\"\n",
       "  1981.71,1000.31 2125.08,1000.31 \n",
       "  \"/>\n",
       "<path clip-path=\"url(#clip470)\" d=\"M2162.82 1020 Q2161.01 1024.63 2159.3 1026.04 Q2157.59 1027.45 2154.72 1027.45 L2151.31 1027.45 L2151.31 1023.88 L2153.81 1023.88 Q2155.57 1023.88 2156.55 1023.05 Q2157.52 1022.22 2158.7 1019.12 L2159.46 1017.17 L2148.98 991.663 L2153.49 991.663 L2161.59 1011.94 L2169.69 991.663 L2174.21 991.663 L2162.82 1020 Z\" fill=\"#000000\" fill-rule=\"evenodd\" fill-opacity=\"1\" /><path clip-path=\"url(#clip470)\" d=\"M2181.5 1013.65 L2189.14 1013.65 L2189.14 987.288 L2180.83 988.955 L2180.83 984.695 L2189.09 983.029 L2193.77 983.029 L2193.77 1013.65 L2201.41 1013.65 L2201.41 1017.59 L2181.5 1017.59 L2181.5 1013.65 Z\" fill=\"#000000\" fill-rule=\"evenodd\" fill-opacity=\"1\" /><path clip-path=\"url(#clip470)\" d=\"M2210.9 983.029 L2229.25 983.029 L2229.25 986.964 L2215.18 986.964 L2215.18 995.436 Q2216.2 995.089 2217.22 994.927 Q2218.24 994.742 2219.25 994.742 Q2225.04 994.742 2228.42 997.913 Q2231.8 1001.08 2231.8 1006.5 Q2231.8 1012.08 2228.33 1015.18 Q2224.86 1018.26 2218.54 1018.26 Q2216.36 1018.26 2214.09 1017.89 Q2211.85 1017.52 2209.44 1016.78 L2209.44 1012.08 Q2211.52 1013.21 2213.75 1013.77 Q2215.97 1014.32 2218.44 1014.32 Q2222.45 1014.32 2224.79 1012.22 Q2227.12 1010.11 2227.12 1006.5 Q2227.12 1002.89 2224.79 1000.78 Q2222.45 998.677 2218.44 998.677 Q2216.57 998.677 2214.69 999.093 Q2212.84 999.51 2210.9 1000.39 L2210.9 983.029 Z\" fill=\"#000000\" fill-rule=\"evenodd\" fill-opacity=\"1\" /><polyline clip-path=\"url(#clip470)\" style=\"stroke:#6b9e32; stroke-linecap:butt; stroke-linejoin:round; stroke-width:4; stroke-opacity:1; fill:none\" points=\"\n",
       "  1981.71,1060.79 2125.08,1060.79 \n",
       "  \"/>\n",
       "<path clip-path=\"url(#clip470)\" d=\"M2162.82 1080.48 Q2161.01 1085.11 2159.3 1086.52 Q2157.59 1087.93 2154.72 1087.93 L2151.31 1087.93 L2151.31 1084.36 L2153.81 1084.36 Q2155.57 1084.36 2156.55 1083.53 Q2157.52 1082.7 2158.7 1079.6 L2159.46 1077.65 L2148.98 1052.14 L2153.49 1052.14 L2161.59 1072.42 L2169.69 1052.14 L2174.21 1052.14 L2162.82 1080.48 Z\" fill=\"#000000\" fill-rule=\"evenodd\" fill-opacity=\"1\" /><path clip-path=\"url(#clip470)\" d=\"M2181.5 1074.13 L2189.14 1074.13 L2189.14 1047.77 L2180.83 1049.43 L2180.83 1045.18 L2189.09 1043.51 L2193.77 1043.51 L2193.77 1074.13 L2201.41 1074.13 L2201.41 1078.07 L2181.5 1078.07 L2181.5 1074.13 Z\" fill=\"#000000\" fill-rule=\"evenodd\" fill-opacity=\"1\" /><path clip-path=\"url(#clip470)\" d=\"M2221.43 1058.93 Q2218.28 1058.93 2216.43 1061.08 Q2214.6 1063.23 2214.6 1066.98 Q2214.6 1070.71 2216.43 1072.88 Q2218.28 1075.04 2221.43 1075.04 Q2224.58 1075.04 2226.41 1072.88 Q2228.26 1070.71 2228.26 1066.98 Q2228.26 1063.23 2226.41 1061.08 Q2224.58 1058.93 2221.43 1058.93 M2230.71 1044.27 L2230.71 1048.53 Q2228.95 1047.7 2227.15 1047.26 Q2225.37 1046.82 2223.61 1046.82 Q2218.98 1046.82 2216.52 1049.94 Q2214.09 1053.07 2213.75 1059.39 Q2215.11 1057.37 2217.17 1056.31 Q2219.23 1055.22 2221.71 1055.22 Q2226.92 1055.22 2229.93 1058.39 Q2232.96 1061.54 2232.96 1066.98 Q2232.96 1072.3 2229.81 1075.52 Q2226.66 1078.74 2221.43 1078.74 Q2215.43 1078.74 2212.26 1074.16 Q2209.09 1069.55 2209.09 1060.82 Q2209.09 1052.63 2212.98 1047.77 Q2216.87 1042.88 2223.42 1042.88 Q2225.18 1042.88 2226.96 1043.23 Q2228.77 1043.58 2230.71 1044.27 Z\" fill=\"#000000\" fill-rule=\"evenodd\" fill-opacity=\"1\" /><polyline clip-path=\"url(#clip470)\" style=\"stroke:#009af9; stroke-linecap:butt; stroke-linejoin:round; stroke-width:4; stroke-opacity:1; fill:none\" points=\"\n",
       "  1981.71,1121.27 2125.08,1121.27 \n",
       "  \"/>\n",
       "<path clip-path=\"url(#clip470)\" d=\"M2162.82 1140.96 Q2161.01 1145.59 2159.3 1147 Q2157.59 1148.41 2154.72 1148.41 L2151.31 1148.41 L2151.31 1144.84 L2153.81 1144.84 Q2155.57 1144.84 2156.55 1144.01 Q2157.52 1143.18 2158.7 1140.08 L2159.46 1138.13 L2148.98 1112.62 L2153.49 1112.62 L2161.59 1132.9 L2169.69 1112.62 L2174.21 1112.62 L2162.82 1140.96 Z\" fill=\"#000000\" fill-rule=\"evenodd\" fill-opacity=\"1\" /><path clip-path=\"url(#clip470)\" d=\"M2181.5 1134.61 L2189.14 1134.61 L2189.14 1108.25 L2180.83 1109.91 L2180.83 1105.66 L2189.09 1103.99 L2193.77 1103.99 L2193.77 1134.61 L2201.41 1134.61 L2201.41 1138.55 L2181.5 1138.55 L2181.5 1134.61 Z\" fill=\"#000000\" fill-rule=\"evenodd\" fill-opacity=\"1\" /><path clip-path=\"url(#clip470)\" d=\"M2209.67 1103.99 L2231.89 1103.99 L2231.89 1105.98 L2219.35 1138.55 L2214.46 1138.55 L2226.27 1107.92 L2209.67 1107.92 L2209.67 1103.99 Z\" fill=\"#000000\" fill-rule=\"evenodd\" fill-opacity=\"1\" /><polyline clip-path=\"url(#clip470)\" style=\"stroke:#e26f46; stroke-linecap:butt; stroke-linejoin:round; stroke-width:4; stroke-opacity:1; fill:none\" points=\"\n",
       "  1981.71,1181.75 2125.08,1181.75 \n",
       "  \"/>\n",
       "<path clip-path=\"url(#clip470)\" d=\"M2162.82 1201.44 Q2161.01 1206.07 2159.3 1207.48 Q2157.59 1208.89 2154.72 1208.89 L2151.31 1208.89 L2151.31 1205.32 L2153.81 1205.32 Q2155.57 1205.32 2156.55 1204.49 Q2157.52 1203.66 2158.7 1200.56 L2159.46 1198.61 L2148.98 1173.1 L2153.49 1173.1 L2161.59 1193.38 L2169.69 1173.1 L2174.21 1173.1 L2162.82 1201.44 Z\" fill=\"#000000\" fill-rule=\"evenodd\" fill-opacity=\"1\" /><path clip-path=\"url(#clip470)\" d=\"M2181.5 1195.09 L2189.14 1195.09 L2189.14 1168.73 L2180.83 1170.39 L2180.83 1166.14 L2189.09 1164.47 L2193.77 1164.47 L2193.77 1195.09 L2201.41 1195.09 L2201.41 1199.03 L2181.5 1199.03 L2181.5 1195.09 Z\" fill=\"#000000\" fill-rule=\"evenodd\" fill-opacity=\"1\" /><path clip-path=\"url(#clip470)\" d=\"M2220.85 1182.62 Q2217.52 1182.62 2215.6 1184.4 Q2213.7 1186.18 2213.7 1189.31 Q2213.7 1192.43 2215.6 1194.21 Q2217.52 1196 2220.85 1196 Q2224.18 1196 2226.11 1194.21 Q2228.03 1192.41 2228.03 1189.31 Q2228.03 1186.18 2226.11 1184.4 Q2224.21 1182.62 2220.85 1182.62 M2216.18 1180.63 Q2213.17 1179.89 2211.48 1177.83 Q2209.81 1175.76 2209.81 1172.8 Q2209.81 1168.66 2212.75 1166.25 Q2215.71 1163.84 2220.85 1163.84 Q2226.01 1163.84 2228.95 1166.25 Q2231.89 1168.66 2231.89 1172.8 Q2231.89 1175.76 2230.2 1177.83 Q2228.54 1179.89 2225.55 1180.63 Q2228.93 1181.41 2230.81 1183.7 Q2232.7 1186 2232.7 1189.31 Q2232.7 1194.33 2229.62 1197.01 Q2226.57 1199.7 2220.85 1199.7 Q2215.13 1199.7 2212.06 1197.01 Q2209 1194.33 2209 1189.31 Q2209 1186 2210.9 1183.7 Q2212.8 1181.41 2216.18 1180.63 M2214.46 1173.24 Q2214.46 1175.93 2216.13 1177.43 Q2217.82 1178.94 2220.85 1178.94 Q2223.86 1178.94 2225.55 1177.43 Q2227.26 1175.93 2227.26 1173.24 Q2227.26 1170.56 2225.55 1169.05 Q2223.86 1167.55 2220.85 1167.55 Q2217.82 1167.55 2216.13 1169.05 Q2214.46 1170.56 2214.46 1173.24 Z\" fill=\"#000000\" fill-rule=\"evenodd\" fill-opacity=\"1\" /><polyline clip-path=\"url(#clip470)\" style=\"stroke:#3da44d; stroke-linecap:butt; stroke-linejoin:round; stroke-width:4; stroke-opacity:1; fill:none\" points=\"\n",
       "  1981.71,1242.23 2125.08,1242.23 \n",
       "  \"/>\n",
       "<path clip-path=\"url(#clip470)\" d=\"M2162.82 1261.92 Q2161.01 1266.55 2159.3 1267.96 Q2157.59 1269.37 2154.72 1269.37 L2151.31 1269.37 L2151.31 1265.8 L2153.81 1265.8 Q2155.57 1265.8 2156.55 1264.97 Q2157.52 1264.14 2158.7 1261.04 L2159.46 1259.09 L2148.98 1233.58 L2153.49 1233.58 L2161.59 1253.86 L2169.69 1233.58 L2174.21 1233.58 L2162.82 1261.92 Z\" fill=\"#000000\" fill-rule=\"evenodd\" fill-opacity=\"1\" /><path clip-path=\"url(#clip470)\" d=\"M2181.5 1255.57 L2189.14 1255.57 L2189.14 1229.21 L2180.83 1230.87 L2180.83 1226.62 L2189.09 1224.95 L2193.77 1224.95 L2193.77 1255.57 L2201.41 1255.57 L2201.41 1259.51 L2181.5 1259.51 L2181.5 1255.57 Z\" fill=\"#000000\" fill-rule=\"evenodd\" fill-opacity=\"1\" /><path clip-path=\"url(#clip470)\" d=\"M2210.99 1258.79 L2210.99 1254.53 Q2212.75 1255.37 2214.56 1255.8 Q2216.36 1256.24 2218.1 1256.24 Q2222.73 1256.24 2225.16 1253.14 Q2227.61 1250.02 2227.96 1243.68 Q2226.62 1245.67 2224.56 1246.73 Q2222.5 1247.8 2220 1247.8 Q2214.81 1247.8 2211.78 1244.67 Q2208.77 1241.52 2208.77 1236.08 Q2208.77 1230.76 2211.92 1227.54 Q2215.06 1224.32 2220.3 1224.32 Q2226.29 1224.32 2229.44 1228.93 Q2232.61 1233.51 2232.61 1242.26 Q2232.61 1250.43 2228.72 1255.32 Q2224.86 1260.18 2218.31 1260.18 Q2216.55 1260.18 2214.74 1259.83 Q2212.93 1259.49 2210.99 1258.79 M2220.3 1244.14 Q2223.44 1244.14 2225.27 1241.99 Q2227.12 1239.83 2227.12 1236.08 Q2227.12 1232.36 2225.27 1230.2 Q2223.44 1228.03 2220.3 1228.03 Q2217.15 1228.03 2215.3 1230.2 Q2213.47 1232.36 2213.47 1236.08 Q2213.47 1239.83 2215.3 1241.99 Q2217.15 1244.14 2220.3 1244.14 Z\" fill=\"#000000\" fill-rule=\"evenodd\" fill-opacity=\"1\" /><polyline clip-path=\"url(#clip470)\" style=\"stroke:#c271d2; stroke-linecap:butt; stroke-linejoin:round; stroke-width:4; stroke-opacity:1; fill:none\" points=\"\n",
       "  1981.71,1302.71 2125.08,1302.71 \n",
       "  \"/>\n",
       "<path clip-path=\"url(#clip470)\" d=\"M2162.82 1322.4 Q2161.01 1327.03 2159.3 1328.44 Q2157.59 1329.85 2154.72 1329.85 L2151.31 1329.85 L2151.31 1326.28 L2153.81 1326.28 Q2155.57 1326.28 2156.55 1325.45 Q2157.52 1324.62 2158.7 1321.52 L2159.46 1319.57 L2148.98 1294.06 L2153.49 1294.06 L2161.59 1314.34 L2169.69 1294.06 L2174.21 1294.06 L2162.82 1322.4 Z\" fill=\"#000000\" fill-rule=\"evenodd\" fill-opacity=\"1\" /><path clip-path=\"url(#clip470)\" d=\"M2184.72 1316.05 L2201.04 1316.05 L2201.04 1319.99 L2179.09 1319.99 L2179.09 1316.05 Q2181.75 1313.3 2186.34 1308.67 Q2190.94 1304.02 2192.12 1302.67 Q2194.37 1300.15 2195.25 1298.41 Q2196.15 1296.66 2196.15 1294.97 Q2196.15 1292.21 2194.21 1290.47 Q2192.29 1288.74 2189.19 1288.74 Q2186.99 1288.74 2184.53 1289.5 Q2182.1 1290.27 2179.32 1291.82 L2179.32 1287.1 Q2182.15 1285.96 2184.6 1285.38 Q2187.06 1284.8 2189.09 1284.8 Q2194.46 1284.8 2197.66 1287.49 Q2200.85 1290.17 2200.85 1294.66 Q2200.85 1296.79 2200.04 1298.72 Q2199.25 1300.61 2197.15 1303.21 Q2196.57 1303.88 2193.47 1307.1 Q2190.37 1310.29 2184.72 1316.05 Z\" fill=\"#000000\" fill-rule=\"evenodd\" fill-opacity=\"1\" /><path clip-path=\"url(#clip470)\" d=\"M2220.85 1288.51 Q2217.24 1288.51 2215.41 1292.07 Q2213.61 1295.61 2213.61 1302.74 Q2213.61 1309.85 2215.41 1313.41 Q2217.24 1316.96 2220.85 1316.96 Q2224.49 1316.96 2226.29 1313.41 Q2228.12 1309.85 2228.12 1302.74 Q2228.12 1295.61 2226.29 1292.07 Q2224.49 1288.51 2220.85 1288.51 M2220.85 1284.8 Q2226.66 1284.8 2229.72 1289.41 Q2232.8 1293.99 2232.8 1302.74 Q2232.8 1311.47 2229.72 1316.08 Q2226.66 1320.66 2220.85 1320.66 Q2215.04 1320.66 2211.96 1316.08 Q2208.91 1311.47 2208.91 1302.74 Q2208.91 1293.99 2211.96 1289.41 Q2215.04 1284.8 2220.85 1284.8 Z\" fill=\"#000000\" fill-rule=\"evenodd\" fill-opacity=\"1\" /><polyline clip-path=\"url(#clip470)\" style=\"stroke:#ac8d18; stroke-linecap:butt; stroke-linejoin:round; stroke-width:4; stroke-opacity:1; fill:none\" points=\"\n",
       "  1981.71,1363.19 2125.08,1363.19 \n",
       "  \"/>\n",
       "<path clip-path=\"url(#clip470)\" d=\"M2162.82 1382.88 Q2161.01 1387.51 2159.3 1388.92 Q2157.59 1390.33 2154.72 1390.33 L2151.31 1390.33 L2151.31 1386.76 L2153.81 1386.76 Q2155.57 1386.76 2156.55 1385.93 Q2157.52 1385.1 2158.7 1382 L2159.46 1380.05 L2148.98 1354.54 L2153.49 1354.54 L2161.59 1374.82 L2169.69 1354.54 L2174.21 1354.54 L2162.82 1382.88 Z\" fill=\"#000000\" fill-rule=\"evenodd\" fill-opacity=\"1\" /><path clip-path=\"url(#clip470)\" d=\"M2184.72 1376.53 L2201.04 1376.53 L2201.04 1380.47 L2179.09 1380.47 L2179.09 1376.53 Q2181.75 1373.78 2186.34 1369.15 Q2190.94 1364.5 2192.12 1363.15 Q2194.37 1360.63 2195.25 1358.89 Q2196.15 1357.14 2196.15 1355.45 Q2196.15 1352.69 2194.21 1350.95 Q2192.29 1349.22 2189.19 1349.22 Q2186.99 1349.22 2184.53 1349.98 Q2182.1 1350.75 2179.32 1352.3 L2179.32 1347.58 Q2182.15 1346.44 2184.6 1345.86 Q2187.06 1345.28 2189.09 1345.28 Q2194.46 1345.28 2197.66 1347.97 Q2200.85 1350.65 2200.85 1355.14 Q2200.85 1357.27 2200.04 1359.2 Q2199.25 1361.09 2197.15 1363.69 Q2196.57 1364.36 2193.47 1367.58 Q2190.37 1370.77 2184.72 1376.53 Z\" fill=\"#000000\" fill-rule=\"evenodd\" fill-opacity=\"1\" /><path clip-path=\"url(#clip470)\" d=\"M2211.66 1376.53 L2219.3 1376.53 L2219.3 1350.17 L2210.99 1351.83 L2210.99 1347.58 L2219.25 1345.91 L2223.93 1345.91 L2223.93 1376.53 L2231.57 1376.53 L2231.57 1380.47 L2211.66 1380.47 L2211.66 1376.53 Z\" fill=\"#000000\" fill-rule=\"evenodd\" fill-opacity=\"1\" /><polyline clip-path=\"url(#clip470)\" style=\"stroke:#00a9ad; stroke-linecap:butt; stroke-linejoin:round; stroke-width:4; stroke-opacity:1; fill:none\" points=\"\n",
       "  1981.71,1423.67 2125.08,1423.67 \n",
       "  \"/>\n",
       "<path clip-path=\"url(#clip470)\" d=\"M2162.82 1443.36 Q2161.01 1447.99 2159.3 1449.4 Q2157.59 1450.81 2154.72 1450.81 L2151.31 1450.81 L2151.31 1447.24 L2153.81 1447.24 Q2155.57 1447.24 2156.55 1446.41 Q2157.52 1445.58 2158.7 1442.48 L2159.46 1440.53 L2148.98 1415.02 L2153.49 1415.02 L2161.59 1435.3 L2169.69 1415.02 L2174.21 1415.02 L2162.82 1443.36 Z\" fill=\"#000000\" fill-rule=\"evenodd\" fill-opacity=\"1\" /><path clip-path=\"url(#clip470)\" d=\"M2184.72 1437.01 L2201.04 1437.01 L2201.04 1440.95 L2179.09 1440.95 L2179.09 1437.01 Q2181.75 1434.26 2186.34 1429.63 Q2190.94 1424.98 2192.12 1423.63 Q2194.37 1421.11 2195.25 1419.37 Q2196.15 1417.62 2196.15 1415.93 Q2196.15 1413.17 2194.21 1411.43 Q2192.29 1409.7 2189.19 1409.7 Q2186.99 1409.7 2184.53 1410.46 Q2182.1 1411.23 2179.32 1412.78 L2179.32 1408.06 Q2182.15 1406.92 2184.6 1406.34 Q2187.06 1405.76 2189.09 1405.76 Q2194.46 1405.76 2197.66 1408.45 Q2200.85 1411.13 2200.85 1415.62 Q2200.85 1417.75 2200.04 1419.68 Q2199.25 1421.57 2197.15 1424.17 Q2196.57 1424.84 2193.47 1428.06 Q2190.37 1431.25 2184.72 1437.01 Z\" fill=\"#000000\" fill-rule=\"evenodd\" fill-opacity=\"1\" /><path clip-path=\"url(#clip470)\" d=\"M2214.88 1437.01 L2231.2 1437.01 L2231.2 1440.95 L2209.25 1440.95 L2209.25 1437.01 Q2211.92 1434.26 2216.5 1429.63 Q2221.11 1424.98 2222.29 1423.63 Q2224.53 1421.11 2225.41 1419.37 Q2226.31 1417.62 2226.31 1415.93 Q2226.31 1413.17 2224.37 1411.43 Q2222.45 1409.7 2219.35 1409.7 Q2217.15 1409.7 2214.69 1410.46 Q2212.26 1411.23 2209.49 1412.78 L2209.49 1408.06 Q2212.31 1406.92 2214.76 1406.34 Q2217.22 1405.76 2219.25 1405.76 Q2224.62 1405.76 2227.82 1408.45 Q2231.01 1411.13 2231.01 1415.62 Q2231.01 1417.75 2230.2 1419.68 Q2229.42 1421.57 2227.31 1424.17 Q2226.73 1424.84 2223.63 1428.06 Q2220.53 1431.25 2214.88 1437.01 Z\" fill=\"#000000\" fill-rule=\"evenodd\" fill-opacity=\"1\" /><polyline clip-path=\"url(#clip470)\" style=\"stroke:#ed5d92; stroke-linecap:butt; stroke-linejoin:round; stroke-width:4; stroke-opacity:1; fill:none\" points=\"\n",
       "  1981.71,1484.15 2125.08,1484.15 \n",
       "  \"/>\n",
       "<path clip-path=\"url(#clip470)\" d=\"M2162.82 1503.84 Q2161.01 1508.47 2159.3 1509.88 Q2157.59 1511.29 2154.72 1511.29 L2151.31 1511.29 L2151.31 1507.72 L2153.81 1507.72 Q2155.57 1507.72 2156.55 1506.89 Q2157.52 1506.06 2158.7 1502.96 L2159.46 1501.01 L2148.98 1475.5 L2153.49 1475.5 L2161.59 1495.78 L2169.69 1475.5 L2174.21 1475.5 L2162.82 1503.84 Z\" fill=\"#000000\" fill-rule=\"evenodd\" fill-opacity=\"1\" /><path clip-path=\"url(#clip470)\" d=\"M2184.72 1497.49 L2201.04 1497.49 L2201.04 1501.43 L2179.09 1501.43 L2179.09 1497.49 Q2181.75 1494.74 2186.34 1490.11 Q2190.94 1485.46 2192.12 1484.11 Q2194.37 1481.59 2195.25 1479.85 Q2196.15 1478.1 2196.15 1476.41 Q2196.15 1473.65 2194.21 1471.91 Q2192.29 1470.18 2189.19 1470.18 Q2186.99 1470.18 2184.53 1470.94 Q2182.1 1471.71 2179.32 1473.26 L2179.32 1468.54 Q2182.15 1467.4 2184.6 1466.82 Q2187.06 1466.24 2189.09 1466.24 Q2194.46 1466.24 2197.66 1468.93 Q2200.85 1471.61 2200.85 1476.1 Q2200.85 1478.23 2200.04 1480.16 Q2199.25 1482.05 2197.15 1484.65 Q2196.57 1485.32 2193.47 1488.54 Q2190.37 1491.73 2184.72 1497.49 Z\" fill=\"#000000\" fill-rule=\"evenodd\" fill-opacity=\"1\" /><path clip-path=\"url(#clip470)\" d=\"M2225.02 1482.79 Q2228.37 1483.51 2230.25 1485.78 Q2232.15 1488.05 2232.15 1491.38 Q2232.15 1496.5 2228.63 1499.3 Q2225.11 1502.1 2218.63 1502.1 Q2216.45 1502.1 2214.14 1501.66 Q2211.85 1501.24 2209.39 1500.39 L2209.39 1495.87 Q2211.34 1497.01 2213.65 1497.59 Q2215.97 1498.16 2218.49 1498.16 Q2222.89 1498.16 2225.18 1496.43 Q2227.5 1494.69 2227.5 1491.38 Q2227.5 1488.33 2225.34 1486.61 Q2223.21 1484.88 2219.39 1484.88 L2215.37 1484.88 L2215.37 1481.04 L2219.58 1481.04 Q2223.03 1481.04 2224.86 1479.67 Q2226.68 1478.28 2226.68 1475.69 Q2226.68 1473.03 2224.79 1471.61 Q2222.91 1470.18 2219.39 1470.18 Q2217.47 1470.18 2215.27 1470.6 Q2213.07 1471.01 2210.44 1471.89 L2210.44 1467.73 Q2213.1 1466.98 2215.41 1466.61 Q2217.75 1466.24 2219.81 1466.24 Q2225.13 1466.24 2228.24 1468.67 Q2231.34 1471.08 2231.34 1475.2 Q2231.34 1478.07 2229.69 1480.06 Q2228.05 1482.03 2225.02 1482.79 Z\" fill=\"#000000\" fill-rule=\"evenodd\" fill-opacity=\"1\" /><polyline clip-path=\"url(#clip470)\" style=\"stroke:#c68125; stroke-linecap:butt; stroke-linejoin:round; stroke-width:4; stroke-opacity:1; fill:none\" points=\"\n",
       "  1981.71,1544.63 2125.08,1544.63 \n",
       "  \"/>\n",
       "<path clip-path=\"url(#clip470)\" d=\"M2162.82 1564.32 Q2161.01 1568.95 2159.3 1570.36 Q2157.59 1571.77 2154.72 1571.77 L2151.31 1571.77 L2151.31 1568.2 L2153.81 1568.2 Q2155.57 1568.2 2156.55 1567.37 Q2157.52 1566.54 2158.7 1563.44 L2159.46 1561.49 L2148.98 1535.98 L2153.49 1535.98 L2161.59 1556.26 L2169.69 1535.98 L2174.21 1535.98 L2162.82 1564.32 Z\" fill=\"#000000\" fill-rule=\"evenodd\" fill-opacity=\"1\" /><path clip-path=\"url(#clip470)\" d=\"M2184.72 1557.97 L2201.04 1557.97 L2201.04 1561.91 L2179.09 1561.91 L2179.09 1557.97 Q2181.75 1555.22 2186.34 1550.59 Q2190.94 1545.94 2192.12 1544.59 Q2194.37 1542.07 2195.25 1540.33 Q2196.15 1538.58 2196.15 1536.89 Q2196.15 1534.13 2194.21 1532.39 Q2192.29 1530.66 2189.19 1530.66 Q2186.99 1530.66 2184.53 1531.42 Q2182.1 1532.19 2179.32 1533.74 L2179.32 1529.02 Q2182.15 1527.88 2184.6 1527.3 Q2187.06 1526.72 2189.09 1526.72 Q2194.46 1526.72 2197.66 1529.41 Q2200.85 1532.09 2200.85 1536.58 Q2200.85 1538.71 2200.04 1540.64 Q2199.25 1542.53 2197.15 1545.13 Q2196.57 1545.8 2193.47 1549.02 Q2190.37 1552.21 2184.72 1557.97 Z\" fill=\"#000000\" fill-rule=\"evenodd\" fill-opacity=\"1\" /><path clip-path=\"url(#clip470)\" d=\"M2223.7 1531.42 L2211.89 1549.87 L2223.7 1549.87 L2223.7 1531.42 M2222.47 1527.35 L2228.35 1527.35 L2228.35 1549.87 L2233.28 1549.87 L2233.28 1553.76 L2228.35 1553.76 L2228.35 1561.91 L2223.7 1561.91 L2223.7 1553.76 L2208.1 1553.76 L2208.1 1549.25 L2222.47 1527.35 Z\" fill=\"#000000\" fill-rule=\"evenodd\" fill-opacity=\"1\" /><polyline clip-path=\"url(#clip470)\" style=\"stroke:#00a98d; stroke-linecap:butt; stroke-linejoin:round; stroke-width:4; stroke-opacity:1; fill:none\" points=\"\n",
       "  1981.71,1605.11 2125.08,1605.11 \n",
       "  \"/>\n",
       "<path clip-path=\"url(#clip470)\" d=\"M2162.82 1624.8 Q2161.01 1629.43 2159.3 1630.84 Q2157.59 1632.25 2154.72 1632.25 L2151.31 1632.25 L2151.31 1628.68 L2153.81 1628.68 Q2155.57 1628.68 2156.55 1627.85 Q2157.52 1627.02 2158.7 1623.92 L2159.46 1621.97 L2148.98 1596.46 L2153.49 1596.46 L2161.59 1616.74 L2169.69 1596.46 L2174.21 1596.46 L2162.82 1624.8 Z\" fill=\"#000000\" fill-rule=\"evenodd\" fill-opacity=\"1\" /><path clip-path=\"url(#clip470)\" d=\"M2184.72 1618.45 L2201.04 1618.45 L2201.04 1622.39 L2179.09 1622.39 L2179.09 1618.45 Q2181.75 1615.7 2186.34 1611.07 Q2190.94 1606.42 2192.12 1605.07 Q2194.37 1602.55 2195.25 1600.81 Q2196.15 1599.06 2196.15 1597.37 Q2196.15 1594.61 2194.21 1592.87 Q2192.29 1591.14 2189.19 1591.14 Q2186.99 1591.14 2184.53 1591.9 Q2182.1 1592.67 2179.32 1594.22 L2179.32 1589.5 Q2182.15 1588.36 2184.6 1587.78 Q2187.06 1587.2 2189.09 1587.2 Q2194.46 1587.2 2197.66 1589.89 Q2200.85 1592.57 2200.85 1597.06 Q2200.85 1599.19 2200.04 1601.12 Q2199.25 1603.01 2197.15 1605.61 Q2196.57 1606.28 2193.47 1609.5 Q2190.37 1612.69 2184.72 1618.45 Z\" fill=\"#000000\" fill-rule=\"evenodd\" fill-opacity=\"1\" /><path clip-path=\"url(#clip470)\" d=\"M2210.9 1587.83 L2229.25 1587.83 L2229.25 1591.76 L2215.18 1591.76 L2215.18 1600.24 Q2216.2 1599.89 2217.22 1599.73 Q2218.24 1599.54 2219.25 1599.54 Q2225.04 1599.54 2228.42 1602.71 Q2231.8 1605.88 2231.8 1611.3 Q2231.8 1616.88 2228.33 1619.98 Q2224.86 1623.06 2218.54 1623.06 Q2216.36 1623.06 2214.09 1622.69 Q2211.85 1622.32 2209.44 1621.58 L2209.44 1616.88 Q2211.52 1618.01 2213.75 1618.57 Q2215.97 1619.12 2218.44 1619.12 Q2222.45 1619.12 2224.79 1617.02 Q2227.12 1614.91 2227.12 1611.3 Q2227.12 1607.69 2224.79 1605.58 Q2222.45 1603.48 2218.44 1603.48 Q2216.57 1603.48 2214.69 1603.89 Q2212.84 1604.31 2210.9 1605.19 L2210.9 1587.83 Z\" fill=\"#000000\" fill-rule=\"evenodd\" fill-opacity=\"1\" /><polyline clip-path=\"url(#clip470)\" style=\"stroke:#8e971d; stroke-linecap:butt; stroke-linejoin:round; stroke-width:4; stroke-opacity:1; fill:none\" points=\"\n",
       "  1981.71,1665.59 2125.08,1665.59 \n",
       "  \"/>\n",
       "<path clip-path=\"url(#clip470)\" d=\"M2162.82 1685.28 Q2161.01 1689.91 2159.3 1691.32 Q2157.59 1692.73 2154.72 1692.73 L2151.31 1692.73 L2151.31 1689.16 L2153.81 1689.16 Q2155.57 1689.16 2156.55 1688.33 Q2157.52 1687.5 2158.7 1684.4 L2159.46 1682.45 L2148.98 1656.94 L2153.49 1656.94 L2161.59 1677.22 L2169.69 1656.94 L2174.21 1656.94 L2162.82 1685.28 Z\" fill=\"#000000\" fill-rule=\"evenodd\" fill-opacity=\"1\" /><path clip-path=\"url(#clip470)\" d=\"M2184.72 1678.93 L2201.04 1678.93 L2201.04 1682.87 L2179.09 1682.87 L2179.09 1678.93 Q2181.75 1676.18 2186.34 1671.55 Q2190.94 1666.9 2192.12 1665.55 Q2194.37 1663.03 2195.25 1661.29 Q2196.15 1659.54 2196.15 1657.85 Q2196.15 1655.09 2194.21 1653.35 Q2192.29 1651.62 2189.19 1651.62 Q2186.99 1651.62 2184.53 1652.38 Q2182.1 1653.15 2179.32 1654.7 L2179.32 1649.98 Q2182.15 1648.84 2184.6 1648.26 Q2187.06 1647.68 2189.09 1647.68 Q2194.46 1647.68 2197.66 1650.37 Q2200.85 1653.05 2200.85 1657.54 Q2200.85 1659.67 2200.04 1661.6 Q2199.25 1663.49 2197.15 1666.09 Q2196.57 1666.76 2193.47 1669.98 Q2190.37 1673.17 2184.72 1678.93 Z\" fill=\"#000000\" fill-rule=\"evenodd\" fill-opacity=\"1\" /><path clip-path=\"url(#clip470)\" d=\"M2221.43 1663.73 Q2218.28 1663.73 2216.43 1665.88 Q2214.6 1668.03 2214.6 1671.78 Q2214.6 1675.51 2216.43 1677.68 Q2218.28 1679.84 2221.43 1679.84 Q2224.58 1679.84 2226.41 1677.68 Q2228.26 1675.51 2228.26 1671.78 Q2228.26 1668.03 2226.41 1665.88 Q2224.58 1663.73 2221.43 1663.73 M2230.71 1649.07 L2230.71 1653.33 Q2228.95 1652.5 2227.15 1652.06 Q2225.37 1651.62 2223.61 1651.62 Q2218.98 1651.62 2216.52 1654.74 Q2214.09 1657.87 2213.75 1664.19 Q2215.11 1662.17 2217.17 1661.11 Q2219.23 1660.02 2221.71 1660.02 Q2226.92 1660.02 2229.93 1663.19 Q2232.96 1666.34 2232.96 1671.78 Q2232.96 1677.1 2229.81 1680.32 Q2226.66 1683.54 2221.43 1683.54 Q2215.43 1683.54 2212.26 1678.96 Q2209.09 1674.35 2209.09 1665.62 Q2209.09 1657.43 2212.98 1652.57 Q2216.87 1647.68 2223.42 1647.68 Q2225.18 1647.68 2226.96 1648.03 Q2228.77 1648.38 2230.71 1649.07 Z\" fill=\"#000000\" fill-rule=\"evenodd\" fill-opacity=\"1\" /><polyline clip-path=\"url(#clip470)\" style=\"stroke:#00a8cb; stroke-linecap:butt; stroke-linejoin:round; stroke-width:4; stroke-opacity:1; fill:none\" points=\"\n",
       "  1981.71,1726.07 2125.08,1726.07 \n",
       "  \"/>\n",
       "<path clip-path=\"url(#clip470)\" d=\"M2162.82 1745.76 Q2161.01 1750.39 2159.3 1751.8 Q2157.59 1753.21 2154.72 1753.21 L2151.31 1753.21 L2151.31 1749.64 L2153.81 1749.64 Q2155.57 1749.64 2156.55 1748.81 Q2157.52 1747.98 2158.7 1744.88 L2159.46 1742.93 L2148.98 1717.42 L2153.49 1717.42 L2161.59 1737.7 L2169.69 1717.42 L2174.21 1717.42 L2162.82 1745.76 Z\" fill=\"#000000\" fill-rule=\"evenodd\" fill-opacity=\"1\" /><path clip-path=\"url(#clip470)\" d=\"M2184.72 1739.41 L2201.04 1739.41 L2201.04 1743.35 L2179.09 1743.35 L2179.09 1739.41 Q2181.75 1736.66 2186.34 1732.03 Q2190.94 1727.38 2192.12 1726.03 Q2194.37 1723.51 2195.25 1721.77 Q2196.15 1720.02 2196.15 1718.33 Q2196.15 1715.57 2194.21 1713.83 Q2192.29 1712.1 2189.19 1712.1 Q2186.99 1712.1 2184.53 1712.86 Q2182.1 1713.63 2179.32 1715.18 L2179.32 1710.46 Q2182.15 1709.32 2184.6 1708.74 Q2187.06 1708.16 2189.09 1708.16 Q2194.46 1708.16 2197.66 1710.85 Q2200.85 1713.53 2200.85 1718.02 Q2200.85 1720.15 2200.04 1722.08 Q2199.25 1723.97 2197.15 1726.57 Q2196.57 1727.24 2193.47 1730.46 Q2190.37 1733.65 2184.72 1739.41 Z\" fill=\"#000000\" fill-rule=\"evenodd\" fill-opacity=\"1\" /><path clip-path=\"url(#clip470)\" d=\"M2209.67 1708.79 L2231.89 1708.79 L2231.89 1710.78 L2219.35 1743.35 L2214.46 1743.35 L2226.27 1712.72 L2209.67 1712.72 L2209.67 1708.79 Z\" fill=\"#000000\" fill-rule=\"evenodd\" fill-opacity=\"1\" /><polyline clip-path=\"url(#clip470)\" style=\"stroke:#9b7fe8; stroke-linecap:butt; stroke-linejoin:round; stroke-width:4; stroke-opacity:1; fill:none\" points=\"\n",
       "  1981.71,1786.55 2125.08,1786.55 \n",
       "  \"/>\n",
       "<path clip-path=\"url(#clip470)\" d=\"M2162.82 1806.24 Q2161.01 1810.87 2159.3 1812.28 Q2157.59 1813.69 2154.72 1813.69 L2151.31 1813.69 L2151.31 1810.12 L2153.81 1810.12 Q2155.57 1810.12 2156.55 1809.29 Q2157.52 1808.46 2158.7 1805.36 L2159.46 1803.41 L2148.98 1777.9 L2153.49 1777.9 L2161.59 1798.18 L2169.69 1777.9 L2174.21 1777.9 L2162.82 1806.24 Z\" fill=\"#000000\" fill-rule=\"evenodd\" fill-opacity=\"1\" /><path clip-path=\"url(#clip470)\" d=\"M2184.72 1799.89 L2201.04 1799.89 L2201.04 1803.83 L2179.09 1803.83 L2179.09 1799.89 Q2181.75 1797.14 2186.34 1792.51 Q2190.94 1787.86 2192.12 1786.51 Q2194.37 1783.99 2195.25 1782.25 Q2196.15 1780.5 2196.15 1778.81 Q2196.15 1776.05 2194.21 1774.31 Q2192.29 1772.58 2189.19 1772.58 Q2186.99 1772.58 2184.53 1773.34 Q2182.1 1774.11 2179.32 1775.66 L2179.32 1770.94 Q2182.15 1769.8 2184.6 1769.22 Q2187.06 1768.64 2189.09 1768.64 Q2194.46 1768.64 2197.66 1771.33 Q2200.85 1774.01 2200.85 1778.5 Q2200.85 1780.63 2200.04 1782.56 Q2199.25 1784.45 2197.15 1787.05 Q2196.57 1787.72 2193.47 1790.94 Q2190.37 1794.13 2184.72 1799.89 Z\" fill=\"#000000\" fill-rule=\"evenodd\" fill-opacity=\"1\" /><path clip-path=\"url(#clip470)\" d=\"M2220.85 1787.42 Q2217.52 1787.42 2215.6 1789.2 Q2213.7 1790.98 2213.7 1794.11 Q2213.7 1797.23 2215.6 1799.01 Q2217.52 1800.8 2220.85 1800.8 Q2224.18 1800.8 2226.11 1799.01 Q2228.03 1797.21 2228.03 1794.11 Q2228.03 1790.98 2226.11 1789.2 Q2224.21 1787.42 2220.85 1787.42 M2216.18 1785.43 Q2213.17 1784.69 2211.48 1782.63 Q2209.81 1780.56 2209.81 1777.6 Q2209.81 1773.46 2212.75 1771.05 Q2215.71 1768.64 2220.85 1768.64 Q2226.01 1768.64 2228.95 1771.05 Q2231.89 1773.46 2231.89 1777.6 Q2231.89 1780.56 2230.2 1782.63 Q2228.54 1784.69 2225.55 1785.43 Q2228.93 1786.21 2230.81 1788.5 Q2232.7 1790.8 2232.7 1794.11 Q2232.7 1799.13 2229.62 1801.81 Q2226.57 1804.5 2220.85 1804.5 Q2215.13 1804.5 2212.06 1801.81 Q2209 1799.13 2209 1794.11 Q2209 1790.8 2210.9 1788.5 Q2212.8 1786.21 2216.18 1785.43 M2214.46 1778.04 Q2214.46 1780.73 2216.13 1782.23 Q2217.82 1783.74 2220.85 1783.74 Q2223.86 1783.74 2225.55 1782.23 Q2227.26 1780.73 2227.26 1778.04 Q2227.26 1775.36 2225.55 1773.85 Q2223.86 1772.35 2220.85 1772.35 Q2217.82 1772.35 2216.13 1773.85 Q2214.46 1775.36 2214.46 1778.04 Z\" fill=\"#000000\" fill-rule=\"evenodd\" fill-opacity=\"1\" /><polyline clip-path=\"url(#clip470)\" style=\"stroke:#608cf6; stroke-linecap:butt; stroke-linejoin:round; stroke-width:4; stroke-opacity:1; fill:none\" points=\"\n",
       "  1981.71,1847.03 2125.08,1847.03 \n",
       "  \"/>\n",
       "<path clip-path=\"url(#clip470)\" d=\"M2162.82 1866.72 Q2161.01 1871.35 2159.3 1872.76 Q2157.59 1874.17 2154.72 1874.17 L2151.31 1874.17 L2151.31 1870.6 L2153.81 1870.6 Q2155.57 1870.6 2156.55 1869.77 Q2157.52 1868.94 2158.7 1865.84 L2159.46 1863.89 L2148.98 1838.38 L2153.49 1838.38 L2161.59 1858.66 L2169.69 1838.38 L2174.21 1838.38 L2162.82 1866.72 Z\" fill=\"#000000\" fill-rule=\"evenodd\" fill-opacity=\"1\" /><path clip-path=\"url(#clip470)\" d=\"M2184.72 1860.37 L2201.04 1860.37 L2201.04 1864.31 L2179.09 1864.31 L2179.09 1860.37 Q2181.75 1857.62 2186.34 1852.99 Q2190.94 1848.34 2192.12 1846.99 Q2194.37 1844.47 2195.25 1842.73 Q2196.15 1840.98 2196.15 1839.29 Q2196.15 1836.53 2194.21 1834.79 Q2192.29 1833.06 2189.19 1833.06 Q2186.99 1833.06 2184.53 1833.82 Q2182.1 1834.59 2179.32 1836.14 L2179.32 1831.42 Q2182.15 1830.28 2184.6 1829.7 Q2187.06 1829.12 2189.09 1829.12 Q2194.46 1829.12 2197.66 1831.81 Q2200.85 1834.49 2200.85 1838.98 Q2200.85 1841.11 2200.04 1843.04 Q2199.25 1844.93 2197.15 1847.53 Q2196.57 1848.2 2193.47 1851.42 Q2190.37 1854.61 2184.72 1860.37 Z\" fill=\"#000000\" fill-rule=\"evenodd\" fill-opacity=\"1\" /><path clip-path=\"url(#clip470)\" d=\"M2210.99 1863.59 L2210.99 1859.33 Q2212.75 1860.17 2214.56 1860.6 Q2216.36 1861.04 2218.1 1861.04 Q2222.73 1861.04 2225.16 1857.94 Q2227.61 1854.82 2227.96 1848.48 Q2226.62 1850.47 2224.56 1851.53 Q2222.5 1852.6 2220 1852.6 Q2214.81 1852.6 2211.78 1849.47 Q2208.77 1846.32 2208.77 1840.88 Q2208.77 1835.56 2211.92 1832.34 Q2215.06 1829.12 2220.3 1829.12 Q2226.29 1829.12 2229.44 1833.73 Q2232.61 1838.31 2232.61 1847.06 Q2232.61 1855.23 2228.72 1860.12 Q2224.86 1864.98 2218.31 1864.98 Q2216.55 1864.98 2214.74 1864.63 Q2212.93 1864.29 2210.99 1863.59 M2220.3 1848.94 Q2223.44 1848.94 2225.27 1846.79 Q2227.12 1844.63 2227.12 1840.88 Q2227.12 1837.16 2225.27 1835 Q2223.44 1832.83 2220.3 1832.83 Q2217.15 1832.83 2215.3 1835 Q2213.47 1837.16 2213.47 1840.88 Q2213.47 1844.63 2215.3 1846.79 Q2217.15 1848.94 2220.3 1848.94 Z\" fill=\"#000000\" fill-rule=\"evenodd\" fill-opacity=\"1\" /><polyline clip-path=\"url(#clip470)\" style=\"stroke:#f05f73; stroke-linecap:butt; stroke-linejoin:round; stroke-width:4; stroke-opacity:1; fill:none\" points=\"\n",
       "  1981.71,1907.51 2125.08,1907.51 \n",
       "  \"/>\n",
       "<path clip-path=\"url(#clip470)\" d=\"M2162.82 1927.2 Q2161.01 1931.83 2159.3 1933.24 Q2157.59 1934.65 2154.72 1934.65 L2151.31 1934.65 L2151.31 1931.08 L2153.81 1931.08 Q2155.57 1931.08 2156.55 1930.25 Q2157.52 1929.42 2158.7 1926.32 L2159.46 1924.37 L2148.98 1898.86 L2153.49 1898.86 L2161.59 1919.14 L2169.69 1898.86 L2174.21 1898.86 L2162.82 1927.2 Z\" fill=\"#000000\" fill-rule=\"evenodd\" fill-opacity=\"1\" /><path clip-path=\"url(#clip470)\" d=\"M2194.86 1906.15 Q2198.21 1906.87 2200.09 1909.14 Q2201.99 1911.41 2201.99 1914.74 Q2201.99 1919.86 2198.47 1922.66 Q2194.95 1925.46 2188.47 1925.46 Q2186.29 1925.46 2183.98 1925.02 Q2181.69 1924.6 2179.23 1923.75 L2179.23 1919.23 Q2181.18 1920.37 2183.49 1920.95 Q2185.81 1921.52 2188.33 1921.52 Q2192.73 1921.52 2195.02 1919.79 Q2197.33 1918.05 2197.33 1914.74 Q2197.33 1911.69 2195.18 1909.97 Q2193.05 1908.24 2189.23 1908.24 L2185.2 1908.24 L2185.2 1904.4 L2189.42 1904.4 Q2192.87 1904.4 2194.69 1903.03 Q2196.52 1901.64 2196.52 1899.05 Q2196.52 1896.39 2194.62 1894.97 Q2192.75 1893.54 2189.23 1893.54 Q2187.31 1893.54 2185.11 1893.96 Q2182.91 1894.37 2180.27 1895.25 L2180.27 1891.09 Q2182.94 1890.34 2185.25 1889.97 Q2187.59 1889.6 2189.65 1889.6 Q2194.97 1889.6 2198.07 1892.03 Q2201.18 1894.44 2201.18 1898.56 Q2201.18 1901.43 2199.53 1903.42 Q2197.89 1905.39 2194.86 1906.15 Z\" fill=\"#000000\" fill-rule=\"evenodd\" fill-opacity=\"1\" /><path clip-path=\"url(#clip470)\" d=\"M2220.85 1893.31 Q2217.24 1893.31 2215.41 1896.87 Q2213.61 1900.41 2213.61 1907.54 Q2213.61 1914.65 2215.41 1918.21 Q2217.24 1921.76 2220.85 1921.76 Q2224.49 1921.76 2226.29 1918.21 Q2228.12 1914.65 2228.12 1907.54 Q2228.12 1900.41 2226.29 1896.87 Q2224.49 1893.31 2220.85 1893.31 M2220.85 1889.6 Q2226.66 1889.6 2229.72 1894.21 Q2232.8 1898.79 2232.8 1907.54 Q2232.8 1916.27 2229.72 1920.88 Q2226.66 1925.46 2220.85 1925.46 Q2215.04 1925.46 2211.96 1920.88 Q2208.91 1916.27 2208.91 1907.54 Q2208.91 1898.79 2211.96 1894.21 Q2215.04 1889.6 2220.85 1889.6 Z\" fill=\"#000000\" fill-rule=\"evenodd\" fill-opacity=\"1\" /><polyline clip-path=\"url(#clip470)\" style=\"stroke:#dd64b5; stroke-linecap:butt; stroke-linejoin:round; stroke-width:4; stroke-opacity:1; fill:none\" points=\"\n",
       "  1981.71,1967.99 2125.08,1967.99 \n",
       "  \"/>\n",
       "<path clip-path=\"url(#clip470)\" d=\"M2162.82 1987.68 Q2161.01 1992.31 2159.3 1993.72 Q2157.59 1995.13 2154.72 1995.13 L2151.31 1995.13 L2151.31 1991.56 L2153.81 1991.56 Q2155.57 1991.56 2156.55 1990.73 Q2157.52 1989.9 2158.7 1986.8 L2159.46 1984.85 L2148.98 1959.34 L2153.49 1959.34 L2161.59 1979.62 L2169.69 1959.34 L2174.21 1959.34 L2162.82 1987.68 Z\" fill=\"#000000\" fill-rule=\"evenodd\" fill-opacity=\"1\" /><path clip-path=\"url(#clip470)\" d=\"M2194.86 1966.63 Q2198.21 1967.35 2200.09 1969.62 Q2201.99 1971.89 2201.99 1975.22 Q2201.99 1980.34 2198.47 1983.14 Q2194.95 1985.94 2188.47 1985.94 Q2186.29 1985.94 2183.98 1985.5 Q2181.69 1985.08 2179.23 1984.23 L2179.23 1979.71 Q2181.18 1980.85 2183.49 1981.43 Q2185.81 1982 2188.33 1982 Q2192.73 1982 2195.02 1980.27 Q2197.33 1978.53 2197.33 1975.22 Q2197.33 1972.17 2195.18 1970.45 Q2193.05 1968.72 2189.23 1968.72 L2185.2 1968.72 L2185.2 1964.88 L2189.42 1964.88 Q2192.87 1964.88 2194.69 1963.51 Q2196.52 1962.12 2196.52 1959.53 Q2196.52 1956.87 2194.62 1955.45 Q2192.75 1954.02 2189.23 1954.02 Q2187.31 1954.02 2185.11 1954.44 Q2182.91 1954.85 2180.27 1955.73 L2180.27 1951.57 Q2182.94 1950.82 2185.25 1950.45 Q2187.59 1950.08 2189.65 1950.08 Q2194.97 1950.08 2198.07 1952.51 Q2201.18 1954.92 2201.18 1959.04 Q2201.18 1961.91 2199.53 1963.9 Q2197.89 1965.87 2194.86 1966.63 Z\" fill=\"#000000\" fill-rule=\"evenodd\" fill-opacity=\"1\" /><path clip-path=\"url(#clip470)\" d=\"M2211.66 1981.33 L2219.3 1981.33 L2219.3 1954.97 L2210.99 1956.63 L2210.99 1952.38 L2219.25 1950.71 L2223.93 1950.71 L2223.93 1981.33 L2231.57 1981.33 L2231.57 1985.27 L2211.66 1985.27 L2211.66 1981.33 Z\" fill=\"#000000\" fill-rule=\"evenodd\" fill-opacity=\"1\" /><polyline clip-path=\"url(#clip470)\" style=\"stroke:#6b9e32; stroke-linecap:butt; stroke-linejoin:round; stroke-width:4; stroke-opacity:1; fill:none\" points=\"\n",
       "  1981.71,2028.47 2125.08,2028.47 \n",
       "  \"/>\n",
       "<path clip-path=\"url(#clip470)\" d=\"M2162.82 2048.16 Q2161.01 2052.79 2159.3 2054.2 Q2157.59 2055.61 2154.72 2055.61 L2151.31 2055.61 L2151.31 2052.04 L2153.81 2052.04 Q2155.57 2052.04 2156.55 2051.21 Q2157.52 2050.38 2158.7 2047.28 L2159.46 2045.33 L2148.98 2019.82 L2153.49 2019.82 L2161.59 2040.1 L2169.69 2019.82 L2174.21 2019.82 L2162.82 2048.16 Z\" fill=\"#000000\" fill-rule=\"evenodd\" fill-opacity=\"1\" /><path clip-path=\"url(#clip470)\" d=\"M2194.86 2027.11 Q2198.21 2027.83 2200.09 2030.1 Q2201.99 2032.37 2201.99 2035.7 Q2201.99 2040.82 2198.47 2043.62 Q2194.95 2046.42 2188.47 2046.42 Q2186.29 2046.42 2183.98 2045.98 Q2181.69 2045.56 2179.23 2044.71 L2179.23 2040.19 Q2181.18 2041.33 2183.49 2041.91 Q2185.81 2042.48 2188.33 2042.48 Q2192.73 2042.48 2195.02 2040.75 Q2197.33 2039.01 2197.33 2035.7 Q2197.33 2032.65 2195.18 2030.93 Q2193.05 2029.2 2189.23 2029.2 L2185.2 2029.2 L2185.2 2025.36 L2189.42 2025.36 Q2192.87 2025.36 2194.69 2023.99 Q2196.52 2022.6 2196.52 2020.01 Q2196.52 2017.35 2194.62 2015.93 Q2192.75 2014.5 2189.23 2014.5 Q2187.31 2014.5 2185.11 2014.92 Q2182.91 2015.33 2180.27 2016.21 L2180.27 2012.05 Q2182.94 2011.3 2185.25 2010.93 Q2187.59 2010.56 2189.65 2010.56 Q2194.97 2010.56 2198.07 2012.99 Q2201.18 2015.4 2201.18 2019.52 Q2201.18 2022.39 2199.53 2024.38 Q2197.89 2026.35 2194.86 2027.11 Z\" fill=\"#000000\" fill-rule=\"evenodd\" fill-opacity=\"1\" /><path clip-path=\"url(#clip470)\" d=\"M2214.88 2041.81 L2231.2 2041.81 L2231.2 2045.75 L2209.25 2045.75 L2209.25 2041.81 Q2211.92 2039.06 2216.5 2034.43 Q2221.11 2029.78 2222.29 2028.43 Q2224.53 2025.91 2225.41 2024.17 Q2226.31 2022.42 2226.31 2020.73 Q2226.31 2017.97 2224.37 2016.23 Q2222.45 2014.5 2219.35 2014.5 Q2217.15 2014.5 2214.69 2015.26 Q2212.26 2016.03 2209.49 2017.58 L2209.49 2012.86 Q2212.31 2011.72 2214.76 2011.14 Q2217.22 2010.56 2219.25 2010.56 Q2224.62 2010.56 2227.82 2013.25 Q2231.01 2015.93 2231.01 2020.42 Q2231.01 2022.55 2230.2 2024.48 Q2229.42 2026.37 2227.31 2028.97 Q2226.73 2029.64 2223.63 2032.86 Q2220.53 2036.05 2214.88 2041.81 Z\" fill=\"#000000\" fill-rule=\"evenodd\" fill-opacity=\"1\" /><polyline clip-path=\"url(#clip470)\" style=\"stroke:#009af9; stroke-linecap:butt; stroke-linejoin:round; stroke-width:4; stroke-opacity:1; fill:none\" points=\"\n",
       "  1981.71,2088.95 2125.08,2088.95 \n",
       "  \"/>\n",
       "<path clip-path=\"url(#clip470)\" d=\"M2162.82 2108.64 Q2161.01 2113.27 2159.3 2114.68 Q2157.59 2116.09 2154.72 2116.09 L2151.31 2116.09 L2151.31 2112.52 L2153.81 2112.52 Q2155.57 2112.52 2156.55 2111.69 Q2157.52 2110.86 2158.7 2107.76 L2159.46 2105.81 L2148.98 2080.3 L2153.49 2080.3 L2161.59 2100.58 L2169.69 2080.3 L2174.21 2080.3 L2162.82 2108.64 Z\" fill=\"#000000\" fill-rule=\"evenodd\" fill-opacity=\"1\" /><path clip-path=\"url(#clip470)\" d=\"M2194.86 2087.59 Q2198.21 2088.31 2200.09 2090.58 Q2201.99 2092.85 2201.99 2096.18 Q2201.99 2101.3 2198.47 2104.1 Q2194.95 2106.9 2188.47 2106.9 Q2186.29 2106.9 2183.98 2106.46 Q2181.69 2106.04 2179.23 2105.19 L2179.23 2100.67 Q2181.18 2101.81 2183.49 2102.39 Q2185.81 2102.96 2188.33 2102.96 Q2192.73 2102.96 2195.02 2101.23 Q2197.33 2099.49 2197.33 2096.18 Q2197.33 2093.13 2195.18 2091.41 Q2193.05 2089.68 2189.23 2089.68 L2185.2 2089.68 L2185.2 2085.84 L2189.42 2085.84 Q2192.87 2085.84 2194.69 2084.47 Q2196.52 2083.08 2196.52 2080.49 Q2196.52 2077.83 2194.62 2076.41 Q2192.75 2074.98 2189.23 2074.98 Q2187.31 2074.98 2185.11 2075.4 Q2182.91 2075.81 2180.27 2076.69 L2180.27 2072.53 Q2182.94 2071.78 2185.25 2071.41 Q2187.59 2071.04 2189.65 2071.04 Q2194.97 2071.04 2198.07 2073.47 Q2201.18 2075.88 2201.18 2080 Q2201.18 2082.87 2199.53 2084.86 Q2197.89 2086.83 2194.86 2087.59 Z\" fill=\"#000000\" fill-rule=\"evenodd\" fill-opacity=\"1\" /><path clip-path=\"url(#clip470)\" d=\"M2225.02 2087.59 Q2228.37 2088.31 2230.25 2090.58 Q2232.15 2092.85 2232.15 2096.18 Q2232.15 2101.3 2228.63 2104.1 Q2225.11 2106.9 2218.63 2106.9 Q2216.45 2106.9 2214.14 2106.46 Q2211.85 2106.04 2209.39 2105.19 L2209.39 2100.67 Q2211.34 2101.81 2213.65 2102.39 Q2215.97 2102.96 2218.49 2102.96 Q2222.89 2102.96 2225.18 2101.23 Q2227.5 2099.49 2227.5 2096.18 Q2227.5 2093.13 2225.34 2091.41 Q2223.21 2089.68 2219.39 2089.68 L2215.37 2089.68 L2215.37 2085.84 L2219.58 2085.84 Q2223.03 2085.84 2224.86 2084.47 Q2226.68 2083.08 2226.68 2080.49 Q2226.68 2077.83 2224.79 2076.41 Q2222.91 2074.98 2219.39 2074.98 Q2217.47 2074.98 2215.27 2075.4 Q2213.07 2075.81 2210.44 2076.69 L2210.44 2072.53 Q2213.1 2071.78 2215.41 2071.41 Q2217.75 2071.04 2219.81 2071.04 Q2225.13 2071.04 2228.24 2073.47 Q2231.34 2075.88 2231.34 2080 Q2231.34 2082.87 2229.69 2084.86 Q2228.05 2086.83 2225.02 2087.59 Z\" fill=\"#000000\" fill-rule=\"evenodd\" fill-opacity=\"1\" /><polyline clip-path=\"url(#clip470)\" style=\"stroke:#e26f46; stroke-linecap:butt; stroke-linejoin:round; stroke-width:4; stroke-opacity:1; fill:none\" points=\"\n",
       "  1981.71,2149.43 2125.08,2149.43 \n",
       "  \"/>\n",
       "<path clip-path=\"url(#clip470)\" d=\"M2162.82 2169.12 Q2161.01 2173.75 2159.3 2175.16 Q2157.59 2176.57 2154.72 2176.57 L2151.31 2176.57 L2151.31 2173 L2153.81 2173 Q2155.57 2173 2156.55 2172.17 Q2157.52 2171.34 2158.7 2168.24 L2159.46 2166.29 L2148.98 2140.78 L2153.49 2140.78 L2161.59 2161.06 L2169.69 2140.78 L2174.21 2140.78 L2162.82 2169.12 Z\" fill=\"#000000\" fill-rule=\"evenodd\" fill-opacity=\"1\" /><path clip-path=\"url(#clip470)\" d=\"M2194.86 2148.07 Q2198.21 2148.79 2200.09 2151.06 Q2201.99 2153.33 2201.99 2156.66 Q2201.99 2161.78 2198.47 2164.58 Q2194.95 2167.38 2188.47 2167.38 Q2186.29 2167.38 2183.98 2166.94 Q2181.69 2166.52 2179.23 2165.67 L2179.23 2161.15 Q2181.18 2162.29 2183.49 2162.87 Q2185.81 2163.44 2188.33 2163.44 Q2192.73 2163.44 2195.02 2161.71 Q2197.33 2159.97 2197.33 2156.66 Q2197.33 2153.61 2195.18 2151.89 Q2193.05 2150.16 2189.23 2150.16 L2185.2 2150.16 L2185.2 2146.32 L2189.42 2146.32 Q2192.87 2146.32 2194.69 2144.95 Q2196.52 2143.56 2196.52 2140.97 Q2196.52 2138.31 2194.62 2136.89 Q2192.75 2135.46 2189.23 2135.46 Q2187.31 2135.46 2185.11 2135.88 Q2182.91 2136.29 2180.27 2137.17 L2180.27 2133.01 Q2182.94 2132.26 2185.25 2131.89 Q2187.59 2131.52 2189.65 2131.52 Q2194.97 2131.52 2198.07 2133.95 Q2201.18 2136.36 2201.18 2140.48 Q2201.18 2143.35 2199.53 2145.34 Q2197.89 2147.31 2194.86 2148.07 Z\" fill=\"#000000\" fill-rule=\"evenodd\" fill-opacity=\"1\" /><path clip-path=\"url(#clip470)\" d=\"M2223.7 2136.22 L2211.89 2154.67 L2223.7 2154.67 L2223.7 2136.22 M2222.47 2132.15 L2228.35 2132.15 L2228.35 2154.67 L2233.28 2154.67 L2233.28 2158.56 L2228.35 2158.56 L2228.35 2166.71 L2223.7 2166.71 L2223.7 2158.56 L2208.1 2158.56 L2208.1 2154.05 L2222.47 2132.15 Z\" fill=\"#000000\" fill-rule=\"evenodd\" fill-opacity=\"1\" /><polyline clip-path=\"url(#clip470)\" style=\"stroke:#3da44d; stroke-linecap:butt; stroke-linejoin:round; stroke-width:4; stroke-opacity:1; fill:none\" points=\"\n",
       "  1981.71,2209.91 2125.08,2209.91 \n",
       "  \"/>\n",
       "<path clip-path=\"url(#clip470)\" d=\"M2162.82 2229.6 Q2161.01 2234.23 2159.3 2235.64 Q2157.59 2237.05 2154.72 2237.05 L2151.31 2237.05 L2151.31 2233.48 L2153.81 2233.48 Q2155.57 2233.48 2156.55 2232.65 Q2157.52 2231.82 2158.7 2228.72 L2159.46 2226.77 L2148.98 2201.26 L2153.49 2201.26 L2161.59 2221.54 L2169.69 2201.26 L2174.21 2201.26 L2162.82 2229.6 Z\" fill=\"#000000\" fill-rule=\"evenodd\" fill-opacity=\"1\" /><path clip-path=\"url(#clip470)\" d=\"M2194.86 2208.55 Q2198.21 2209.27 2200.09 2211.54 Q2201.99 2213.81 2201.99 2217.14 Q2201.99 2222.26 2198.47 2225.06 Q2194.95 2227.86 2188.47 2227.86 Q2186.29 2227.86 2183.98 2227.42 Q2181.69 2227 2179.23 2226.15 L2179.23 2221.63 Q2181.18 2222.77 2183.49 2223.35 Q2185.81 2223.92 2188.33 2223.92 Q2192.73 2223.92 2195.02 2222.19 Q2197.33 2220.45 2197.33 2217.14 Q2197.33 2214.09 2195.18 2212.37 Q2193.05 2210.64 2189.23 2210.64 L2185.2 2210.64 L2185.2 2206.8 L2189.42 2206.8 Q2192.87 2206.8 2194.69 2205.43 Q2196.52 2204.04 2196.52 2201.45 Q2196.52 2198.79 2194.62 2197.37 Q2192.75 2195.94 2189.23 2195.94 Q2187.31 2195.94 2185.11 2196.36 Q2182.91 2196.77 2180.27 2197.65 L2180.27 2193.49 Q2182.94 2192.74 2185.25 2192.37 Q2187.59 2192 2189.65 2192 Q2194.97 2192 2198.07 2194.43 Q2201.18 2196.84 2201.18 2200.96 Q2201.18 2203.83 2199.53 2205.82 Q2197.89 2207.79 2194.86 2208.55 Z\" fill=\"#000000\" fill-rule=\"evenodd\" fill-opacity=\"1\" /><path clip-path=\"url(#clip470)\" d=\"M2210.9 2192.63 L2229.25 2192.63 L2229.25 2196.56 L2215.18 2196.56 L2215.18 2205.04 Q2216.2 2204.69 2217.22 2204.53 Q2218.24 2204.34 2219.25 2204.34 Q2225.04 2204.34 2228.42 2207.51 Q2231.8 2210.68 2231.8 2216.1 Q2231.8 2221.68 2228.33 2224.78 Q2224.86 2227.86 2218.54 2227.86 Q2216.36 2227.86 2214.09 2227.49 Q2211.85 2227.12 2209.44 2226.38 L2209.44 2221.68 Q2211.52 2222.81 2213.75 2223.37 Q2215.97 2223.92 2218.44 2223.92 Q2222.45 2223.92 2224.79 2221.82 Q2227.12 2219.71 2227.12 2216.1 Q2227.12 2212.49 2224.79 2210.38 Q2222.45 2208.28 2218.44 2208.28 Q2216.57 2208.28 2214.69 2208.69 Q2212.84 2209.11 2210.9 2209.99 L2210.9 2192.63 Z\" fill=\"#000000\" fill-rule=\"evenodd\" fill-opacity=\"1\" /><polyline clip-path=\"url(#clip470)\" style=\"stroke:#c271d2; stroke-linecap:butt; stroke-linejoin:round; stroke-width:4; stroke-opacity:1; fill:none\" points=\"\n",
       "  1981.71,2270.39 2125.08,2270.39 \n",
       "  \"/>\n",
       "<path clip-path=\"url(#clip470)\" d=\"M2162.82 2290.08 Q2161.01 2294.71 2159.3 2296.12 Q2157.59 2297.53 2154.72 2297.53 L2151.31 2297.53 L2151.31 2293.96 L2153.81 2293.96 Q2155.57 2293.96 2156.55 2293.13 Q2157.52 2292.3 2158.7 2289.2 L2159.46 2287.25 L2148.98 2261.74 L2153.49 2261.74 L2161.59 2282.02 L2169.69 2261.74 L2174.21 2261.74 L2162.82 2290.08 Z\" fill=\"#000000\" fill-rule=\"evenodd\" fill-opacity=\"1\" /><path clip-path=\"url(#clip470)\" d=\"M2194.86 2269.03 Q2198.21 2269.75 2200.09 2272.02 Q2201.99 2274.29 2201.99 2277.62 Q2201.99 2282.74 2198.47 2285.54 Q2194.95 2288.34 2188.47 2288.34 Q2186.29 2288.34 2183.98 2287.9 Q2181.69 2287.48 2179.23 2286.63 L2179.23 2282.11 Q2181.18 2283.25 2183.49 2283.83 Q2185.81 2284.4 2188.33 2284.4 Q2192.73 2284.4 2195.02 2282.67 Q2197.33 2280.93 2197.33 2277.62 Q2197.33 2274.57 2195.18 2272.85 Q2193.05 2271.12 2189.23 2271.12 L2185.2 2271.12 L2185.2 2267.28 L2189.42 2267.28 Q2192.87 2267.28 2194.69 2265.91 Q2196.52 2264.52 2196.52 2261.93 Q2196.52 2259.27 2194.62 2257.85 Q2192.75 2256.42 2189.23 2256.42 Q2187.31 2256.42 2185.11 2256.84 Q2182.91 2257.25 2180.27 2258.13 L2180.27 2253.97 Q2182.94 2253.22 2185.25 2252.85 Q2187.59 2252.48 2189.65 2252.48 Q2194.97 2252.48 2198.07 2254.91 Q2201.18 2257.32 2201.18 2261.44 Q2201.18 2264.31 2199.53 2266.3 Q2197.89 2268.27 2194.86 2269.03 Z\" fill=\"#000000\" fill-rule=\"evenodd\" fill-opacity=\"1\" /><path clip-path=\"url(#clip470)\" d=\"M2221.43 2268.53 Q2218.28 2268.53 2216.43 2270.68 Q2214.6 2272.83 2214.6 2276.58 Q2214.6 2280.31 2216.43 2282.48 Q2218.28 2284.64 2221.43 2284.64 Q2224.58 2284.64 2226.41 2282.48 Q2228.26 2280.31 2228.26 2276.58 Q2228.26 2272.83 2226.41 2270.68 Q2224.58 2268.53 2221.43 2268.53 M2230.71 2253.87 L2230.71 2258.13 Q2228.95 2257.3 2227.15 2256.86 Q2225.37 2256.42 2223.61 2256.42 Q2218.98 2256.42 2216.52 2259.54 Q2214.09 2262.67 2213.75 2268.99 Q2215.11 2266.97 2217.17 2265.91 Q2219.23 2264.82 2221.71 2264.82 Q2226.92 2264.82 2229.93 2267.99 Q2232.96 2271.14 2232.96 2276.58 Q2232.96 2281.9 2229.81 2285.12 Q2226.66 2288.34 2221.43 2288.34 Q2215.43 2288.34 2212.26 2283.76 Q2209.09 2279.15 2209.09 2270.42 Q2209.09 2262.23 2212.98 2257.37 Q2216.87 2252.48 2223.42 2252.48 Q2225.18 2252.48 2226.96 2252.83 Q2228.77 2253.18 2230.71 2253.87 Z\" fill=\"#000000\" fill-rule=\"evenodd\" fill-opacity=\"1\" /><polyline clip-path=\"url(#clip470)\" style=\"stroke:#ac8d18; stroke-linecap:butt; stroke-linejoin:round; stroke-width:4; stroke-opacity:1; fill:none\" points=\"\n",
       "  1981.71,2330.87 2125.08,2330.87 \n",
       "  \"/>\n",
       "<path clip-path=\"url(#clip470)\" d=\"M2162.82 2350.56 Q2161.01 2355.19 2159.3 2356.6 Q2157.59 2358.01 2154.72 2358.01 L2151.31 2358.01 L2151.31 2354.44 L2153.81 2354.44 Q2155.57 2354.44 2156.55 2353.61 Q2157.52 2352.78 2158.7 2349.68 L2159.46 2347.73 L2148.98 2322.22 L2153.49 2322.22 L2161.59 2342.5 L2169.69 2322.22 L2174.21 2322.22 L2162.82 2350.56 Z\" fill=\"#000000\" fill-rule=\"evenodd\" fill-opacity=\"1\" /><path clip-path=\"url(#clip470)\" d=\"M2194.86 2329.51 Q2198.21 2330.23 2200.09 2332.5 Q2201.99 2334.77 2201.99 2338.1 Q2201.99 2343.22 2198.47 2346.02 Q2194.95 2348.82 2188.47 2348.82 Q2186.29 2348.82 2183.98 2348.38 Q2181.69 2347.96 2179.23 2347.11 L2179.23 2342.59 Q2181.18 2343.73 2183.49 2344.31 Q2185.81 2344.88 2188.33 2344.88 Q2192.73 2344.88 2195.02 2343.15 Q2197.33 2341.41 2197.33 2338.1 Q2197.33 2335.05 2195.18 2333.33 Q2193.05 2331.6 2189.23 2331.6 L2185.2 2331.6 L2185.2 2327.76 L2189.42 2327.76 Q2192.87 2327.76 2194.69 2326.39 Q2196.52 2325 2196.52 2322.41 Q2196.52 2319.75 2194.62 2318.33 Q2192.75 2316.9 2189.23 2316.9 Q2187.31 2316.9 2185.11 2317.32 Q2182.91 2317.73 2180.27 2318.61 L2180.27 2314.45 Q2182.94 2313.7 2185.25 2313.33 Q2187.59 2312.96 2189.65 2312.96 Q2194.97 2312.96 2198.07 2315.39 Q2201.18 2317.8 2201.18 2321.92 Q2201.18 2324.79 2199.53 2326.78 Q2197.89 2328.75 2194.86 2329.51 Z\" fill=\"#000000\" fill-rule=\"evenodd\" fill-opacity=\"1\" /><path clip-path=\"url(#clip470)\" d=\"M2209.67 2313.59 L2231.89 2313.59 L2231.89 2315.58 L2219.35 2348.15 L2214.46 2348.15 L2226.27 2317.52 L2209.67 2317.52 L2209.67 2313.59 Z\" fill=\"#000000\" fill-rule=\"evenodd\" fill-opacity=\"1\" /><polyline clip-path=\"url(#clip470)\" style=\"stroke:#00a9ad; stroke-linecap:butt; stroke-linejoin:round; stroke-width:4; stroke-opacity:1; fill:none\" points=\"\n",
       "  1981.71,2391.35 2125.08,2391.35 \n",
       "  \"/>\n",
       "<path clip-path=\"url(#clip470)\" d=\"M2162.82 2411.04 Q2161.01 2415.67 2159.3 2417.08 Q2157.59 2418.49 2154.72 2418.49 L2151.31 2418.49 L2151.31 2414.92 L2153.81 2414.92 Q2155.57 2414.92 2156.55 2414.09 Q2157.52 2413.26 2158.7 2410.16 L2159.46 2408.21 L2148.98 2382.7 L2153.49 2382.7 L2161.59 2402.98 L2169.69 2382.7 L2174.21 2382.7 L2162.82 2411.04 Z\" fill=\"#000000\" fill-rule=\"evenodd\" fill-opacity=\"1\" /><path clip-path=\"url(#clip470)\" d=\"M2194.86 2389.99 Q2198.21 2390.71 2200.09 2392.98 Q2201.99 2395.25 2201.99 2398.58 Q2201.99 2403.7 2198.47 2406.5 Q2194.95 2409.3 2188.47 2409.3 Q2186.29 2409.3 2183.98 2408.86 Q2181.69 2408.44 2179.23 2407.59 L2179.23 2403.07 Q2181.18 2404.21 2183.49 2404.79 Q2185.81 2405.36 2188.33 2405.36 Q2192.73 2405.36 2195.02 2403.63 Q2197.33 2401.89 2197.33 2398.58 Q2197.33 2395.53 2195.18 2393.81 Q2193.05 2392.08 2189.23 2392.08 L2185.2 2392.08 L2185.2 2388.24 L2189.42 2388.24 Q2192.87 2388.24 2194.69 2386.87 Q2196.52 2385.48 2196.52 2382.89 Q2196.52 2380.23 2194.62 2378.81 Q2192.75 2377.38 2189.23 2377.38 Q2187.31 2377.38 2185.11 2377.8 Q2182.91 2378.21 2180.27 2379.09 L2180.27 2374.93 Q2182.94 2374.18 2185.25 2373.81 Q2187.59 2373.44 2189.65 2373.44 Q2194.97 2373.44 2198.07 2375.87 Q2201.18 2378.28 2201.18 2382.4 Q2201.18 2385.27 2199.53 2387.26 Q2197.89 2389.23 2194.86 2389.99 Z\" fill=\"#000000\" fill-rule=\"evenodd\" fill-opacity=\"1\" /><path clip-path=\"url(#clip470)\" d=\"M2220.85 2392.22 Q2217.52 2392.22 2215.6 2394 Q2213.7 2395.78 2213.7 2398.91 Q2213.7 2402.03 2215.6 2403.81 Q2217.52 2405.6 2220.85 2405.6 Q2224.18 2405.6 2226.11 2403.81 Q2228.03 2402.01 2228.03 2398.91 Q2228.03 2395.78 2226.11 2394 Q2224.21 2392.22 2220.85 2392.22 M2216.18 2390.23 Q2213.17 2389.49 2211.48 2387.43 Q2209.81 2385.36 2209.81 2382.4 Q2209.81 2378.26 2212.75 2375.85 Q2215.71 2373.44 2220.85 2373.44 Q2226.01 2373.44 2228.95 2375.85 Q2231.89 2378.26 2231.89 2382.4 Q2231.89 2385.36 2230.2 2387.43 Q2228.54 2389.49 2225.55 2390.23 Q2228.93 2391.01 2230.81 2393.3 Q2232.7 2395.6 2232.7 2398.91 Q2232.7 2403.93 2229.62 2406.61 Q2226.57 2409.3 2220.85 2409.3 Q2215.13 2409.3 2212.06 2406.61 Q2209 2403.93 2209 2398.91 Q2209 2395.6 2210.9 2393.3 Q2212.8 2391.01 2216.18 2390.23 M2214.46 2382.84 Q2214.46 2385.53 2216.13 2387.03 Q2217.82 2388.54 2220.85 2388.54 Q2223.86 2388.54 2225.55 2387.03 Q2227.26 2385.53 2227.26 2382.84 Q2227.26 2380.16 2225.55 2378.65 Q2223.86 2377.15 2220.85 2377.15 Q2217.82 2377.15 2216.13 2378.65 Q2214.46 2380.16 2214.46 2382.84 Z\" fill=\"#000000\" fill-rule=\"evenodd\" fill-opacity=\"1\" /><polyline clip-path=\"url(#clip470)\" style=\"stroke:#ed5d92; stroke-linecap:butt; stroke-linejoin:round; stroke-width:4; stroke-opacity:1; fill:none\" points=\"\n",
       "  1981.71,2451.83 2125.08,2451.83 \n",
       "  \"/>\n",
       "<path clip-path=\"url(#clip470)\" d=\"M2162.82 2471.52 Q2161.01 2476.15 2159.3 2477.56 Q2157.59 2478.97 2154.72 2478.97 L2151.31 2478.97 L2151.31 2475.4 L2153.81 2475.4 Q2155.57 2475.4 2156.55 2474.57 Q2157.52 2473.74 2158.7 2470.64 L2159.46 2468.69 L2148.98 2443.18 L2153.49 2443.18 L2161.59 2463.46 L2169.69 2443.18 L2174.21 2443.18 L2162.82 2471.52 Z\" fill=\"#000000\" fill-rule=\"evenodd\" fill-opacity=\"1\" /><path clip-path=\"url(#clip470)\" d=\"M2194.86 2450.47 Q2198.21 2451.19 2200.09 2453.46 Q2201.99 2455.73 2201.99 2459.06 Q2201.99 2464.18 2198.47 2466.98 Q2194.95 2469.78 2188.47 2469.78 Q2186.29 2469.78 2183.98 2469.34 Q2181.69 2468.92 2179.23 2468.07 L2179.23 2463.55 Q2181.18 2464.69 2183.49 2465.27 Q2185.81 2465.84 2188.33 2465.84 Q2192.73 2465.84 2195.02 2464.11 Q2197.33 2462.37 2197.33 2459.06 Q2197.33 2456.01 2195.18 2454.29 Q2193.05 2452.56 2189.23 2452.56 L2185.2 2452.56 L2185.2 2448.72 L2189.42 2448.72 Q2192.87 2448.72 2194.69 2447.35 Q2196.52 2445.96 2196.52 2443.37 Q2196.52 2440.71 2194.62 2439.29 Q2192.75 2437.86 2189.23 2437.86 Q2187.31 2437.86 2185.11 2438.28 Q2182.91 2438.69 2180.27 2439.57 L2180.27 2435.41 Q2182.94 2434.66 2185.25 2434.29 Q2187.59 2433.92 2189.65 2433.92 Q2194.97 2433.92 2198.07 2436.35 Q2201.18 2438.76 2201.18 2442.88 Q2201.18 2445.75 2199.53 2447.74 Q2197.89 2449.71 2194.86 2450.47 Z\" fill=\"#000000\" fill-rule=\"evenodd\" fill-opacity=\"1\" /><path clip-path=\"url(#clip470)\" d=\"M2210.99 2468.39 L2210.99 2464.13 Q2212.75 2464.97 2214.56 2465.4 Q2216.36 2465.84 2218.1 2465.84 Q2222.73 2465.84 2225.16 2462.74 Q2227.61 2459.62 2227.96 2453.28 Q2226.62 2455.27 2224.56 2456.33 Q2222.5 2457.4 2220 2457.4 Q2214.81 2457.4 2211.78 2454.27 Q2208.77 2451.12 2208.77 2445.68 Q2208.77 2440.36 2211.92 2437.14 Q2215.06 2433.92 2220.3 2433.92 Q2226.29 2433.92 2229.44 2438.53 Q2232.61 2443.11 2232.61 2451.86 Q2232.61 2460.03 2228.72 2464.92 Q2224.86 2469.78 2218.31 2469.78 Q2216.55 2469.78 2214.74 2469.43 Q2212.93 2469.09 2210.99 2468.39 M2220.3 2453.74 Q2223.44 2453.74 2225.27 2451.59 Q2227.12 2449.43 2227.12 2445.68 Q2227.12 2441.96 2225.27 2439.8 Q2223.44 2437.63 2220.3 2437.63 Q2217.15 2437.63 2215.3 2439.8 Q2213.47 2441.96 2213.47 2445.68 Q2213.47 2449.43 2215.3 2451.59 Q2217.15 2453.74 2220.3 2453.74 Z\" fill=\"#000000\" fill-rule=\"evenodd\" fill-opacity=\"1\" /><polyline clip-path=\"url(#clip470)\" style=\"stroke:#c68125; stroke-linecap:butt; stroke-linejoin:round; stroke-width:4; stroke-opacity:1; fill:none\" points=\"\n",
       "  1981.71,2512.31 2125.08,2512.31 \n",
       "  \"/>\n",
       "<path clip-path=\"url(#clip470)\" d=\"M2162.82 2532 Q2161.01 2536.63 2159.3 2538.04 Q2157.59 2539.45 2154.72 2539.45 L2151.31 2539.45 L2151.31 2535.88 L2153.81 2535.88 Q2155.57 2535.88 2156.55 2535.05 Q2157.52 2534.22 2158.7 2531.12 L2159.46 2529.17 L2148.98 2503.66 L2153.49 2503.66 L2161.59 2523.94 L2169.69 2503.66 L2174.21 2503.66 L2162.82 2532 Z\" fill=\"#000000\" fill-rule=\"evenodd\" fill-opacity=\"1\" /><path clip-path=\"url(#clip470)\" d=\"M2193.54 2499.1 L2181.73 2517.55 L2193.54 2517.55 L2193.54 2499.1 M2192.31 2495.03 L2198.19 2495.03 L2198.19 2517.55 L2203.12 2517.55 L2203.12 2521.44 L2198.19 2521.44 L2198.19 2529.59 L2193.54 2529.59 L2193.54 2521.44 L2177.94 2521.44 L2177.94 2516.93 L2192.31 2495.03 Z\" fill=\"#000000\" fill-rule=\"evenodd\" fill-opacity=\"1\" /><path clip-path=\"url(#clip470)\" d=\"M2220.85 2498.11 Q2217.24 2498.11 2215.41 2501.67 Q2213.61 2505.21 2213.61 2512.34 Q2213.61 2519.45 2215.41 2523.01 Q2217.24 2526.56 2220.85 2526.56 Q2224.49 2526.56 2226.29 2523.01 Q2228.12 2519.45 2228.12 2512.34 Q2228.12 2505.21 2226.29 2501.67 Q2224.49 2498.11 2220.85 2498.11 M2220.85 2494.4 Q2226.66 2494.4 2229.72 2499.01 Q2232.8 2503.59 2232.8 2512.34 Q2232.8 2521.07 2229.72 2525.68 Q2226.66 2530.26 2220.85 2530.26 Q2215.04 2530.26 2211.96 2525.68 Q2208.91 2521.07 2208.91 2512.34 Q2208.91 2503.59 2211.96 2499.01 Q2215.04 2494.4 2220.85 2494.4 Z\" fill=\"#000000\" fill-rule=\"evenodd\" fill-opacity=\"1\" /><polyline clip-path=\"url(#clip470)\" style=\"stroke:#00a98d; stroke-linecap:butt; stroke-linejoin:round; stroke-width:4; stroke-opacity:1; fill:none\" points=\"\n",
       "  1981.71,2572.79 2125.08,2572.79 \n",
       "  \"/>\n",
       "<path clip-path=\"url(#clip470)\" d=\"M2162.82 2592.48 Q2161.01 2597.11 2159.3 2598.52 Q2157.59 2599.93 2154.72 2599.93 L2151.31 2599.93 L2151.31 2596.36 L2153.81 2596.36 Q2155.57 2596.36 2156.55 2595.53 Q2157.52 2594.7 2158.7 2591.6 L2159.46 2589.65 L2148.98 2564.14 L2153.49 2564.14 L2161.59 2584.42 L2169.69 2564.14 L2174.21 2564.14 L2162.82 2592.48 Z\" fill=\"#000000\" fill-rule=\"evenodd\" fill-opacity=\"1\" /><path clip-path=\"url(#clip470)\" d=\"M2193.54 2559.58 L2181.73 2578.03 L2193.54 2578.03 L2193.54 2559.58 M2192.31 2555.51 L2198.19 2555.51 L2198.19 2578.03 L2203.12 2578.03 L2203.12 2581.92 L2198.19 2581.92 L2198.19 2590.07 L2193.54 2590.07 L2193.54 2581.92 L2177.94 2581.92 L2177.94 2577.41 L2192.31 2555.51 Z\" fill=\"#000000\" fill-rule=\"evenodd\" fill-opacity=\"1\" /><path clip-path=\"url(#clip470)\" d=\"M2211.66 2586.13 L2219.3 2586.13 L2219.3 2559.77 L2210.99 2561.43 L2210.99 2557.18 L2219.25 2555.51 L2223.93 2555.51 L2223.93 2586.13 L2231.57 2586.13 L2231.57 2590.07 L2211.66 2590.07 L2211.66 2586.13 Z\" fill=\"#000000\" fill-rule=\"evenodd\" fill-opacity=\"1\" /><polyline clip-path=\"url(#clip470)\" style=\"stroke:#8e971d; stroke-linecap:butt; stroke-linejoin:round; stroke-width:4; stroke-opacity:1; fill:none\" points=\"\n",
       "  1981.71,2633.27 2125.08,2633.27 \n",
       "  \"/>\n",
       "<path clip-path=\"url(#clip470)\" d=\"M2162.82 2652.96 Q2161.01 2657.59 2159.3 2659 Q2157.59 2660.41 2154.72 2660.41 L2151.31 2660.41 L2151.31 2656.84 L2153.81 2656.84 Q2155.57 2656.84 2156.55 2656.01 Q2157.52 2655.18 2158.7 2652.08 L2159.46 2650.13 L2148.98 2624.62 L2153.49 2624.62 L2161.59 2644.9 L2169.69 2624.62 L2174.21 2624.62 L2162.82 2652.96 Z\" fill=\"#000000\" fill-rule=\"evenodd\" fill-opacity=\"1\" /><path clip-path=\"url(#clip470)\" d=\"M2193.54 2620.06 L2181.73 2638.51 L2193.54 2638.51 L2193.54 2620.06 M2192.31 2615.99 L2198.19 2615.99 L2198.19 2638.51 L2203.12 2638.51 L2203.12 2642.4 L2198.19 2642.4 L2198.19 2650.55 L2193.54 2650.55 L2193.54 2642.4 L2177.94 2642.4 L2177.94 2637.89 L2192.31 2615.99 Z\" fill=\"#000000\" fill-rule=\"evenodd\" fill-opacity=\"1\" /><path clip-path=\"url(#clip470)\" d=\"M2214.88 2646.61 L2231.2 2646.61 L2231.2 2650.55 L2209.25 2650.55 L2209.25 2646.61 Q2211.92 2643.86 2216.5 2639.23 Q2221.11 2634.58 2222.29 2633.23 Q2224.53 2630.71 2225.41 2628.97 Q2226.31 2627.22 2226.31 2625.53 Q2226.31 2622.77 2224.37 2621.03 Q2222.45 2619.3 2219.35 2619.3 Q2217.15 2619.3 2214.69 2620.06 Q2212.26 2620.83 2209.49 2622.38 L2209.49 2617.66 Q2212.31 2616.52 2214.76 2615.94 Q2217.22 2615.36 2219.25 2615.36 Q2224.62 2615.36 2227.82 2618.05 Q2231.01 2620.73 2231.01 2625.22 Q2231.01 2627.35 2230.2 2629.28 Q2229.42 2631.17 2227.31 2633.77 Q2226.73 2634.44 2223.63 2637.66 Q2220.53 2640.85 2214.88 2646.61 Z\" fill=\"#000000\" fill-rule=\"evenodd\" fill-opacity=\"1\" /><polyline clip-path=\"url(#clip470)\" style=\"stroke:#00a8cb; stroke-linecap:butt; stroke-linejoin:round; stroke-width:4; stroke-opacity:1; fill:none\" points=\"\n",
       "  1981.71,2693.75 2125.08,2693.75 \n",
       "  \"/>\n",
       "<path clip-path=\"url(#clip470)\" d=\"M2162.82 2713.44 Q2161.01 2718.07 2159.3 2719.48 Q2157.59 2720.89 2154.72 2720.89 L2151.31 2720.89 L2151.31 2717.32 L2153.81 2717.32 Q2155.57 2717.32 2156.55 2716.49 Q2157.52 2715.66 2158.7 2712.56 L2159.46 2710.61 L2148.98 2685.1 L2153.49 2685.1 L2161.59 2705.38 L2169.69 2685.1 L2174.21 2685.1 L2162.82 2713.44 Z\" fill=\"#000000\" fill-rule=\"evenodd\" fill-opacity=\"1\" /><path clip-path=\"url(#clip470)\" d=\"M2193.54 2680.54 L2181.73 2698.99 L2193.54 2698.99 L2193.54 2680.54 M2192.31 2676.47 L2198.19 2676.47 L2198.19 2698.99 L2203.12 2698.99 L2203.12 2702.88 L2198.19 2702.88 L2198.19 2711.03 L2193.54 2711.03 L2193.54 2702.88 L2177.94 2702.88 L2177.94 2698.37 L2192.31 2676.47 Z\" fill=\"#000000\" fill-rule=\"evenodd\" fill-opacity=\"1\" /><path clip-path=\"url(#clip470)\" d=\"M2225.02 2692.39 Q2228.37 2693.11 2230.25 2695.38 Q2232.15 2697.65 2232.15 2700.98 Q2232.15 2706.1 2228.63 2708.9 Q2225.11 2711.7 2218.63 2711.7 Q2216.45 2711.7 2214.14 2711.26 Q2211.85 2710.84 2209.39 2709.99 L2209.39 2705.47 Q2211.34 2706.61 2213.65 2707.19 Q2215.97 2707.76 2218.49 2707.76 Q2222.89 2707.76 2225.18 2706.03 Q2227.5 2704.29 2227.5 2700.98 Q2227.5 2697.93 2225.34 2696.21 Q2223.21 2694.48 2219.39 2694.48 L2215.37 2694.48 L2215.37 2690.64 L2219.58 2690.64 Q2223.03 2690.64 2224.86 2689.27 Q2226.68 2687.88 2226.68 2685.29 Q2226.68 2682.63 2224.79 2681.21 Q2222.91 2679.78 2219.39 2679.78 Q2217.47 2679.78 2215.27 2680.2 Q2213.07 2680.61 2210.44 2681.49 L2210.44 2677.33 Q2213.1 2676.58 2215.41 2676.21 Q2217.75 2675.84 2219.81 2675.84 Q2225.13 2675.84 2228.24 2678.27 Q2231.34 2680.68 2231.34 2684.8 Q2231.34 2687.67 2229.69 2689.66 Q2228.05 2691.63 2225.02 2692.39 Z\" fill=\"#000000\" fill-rule=\"evenodd\" fill-opacity=\"1\" /><polyline clip-path=\"url(#clip470)\" style=\"stroke:#9b7fe8; stroke-linecap:butt; stroke-linejoin:round; stroke-width:4; stroke-opacity:1; fill:none\" points=\"\n",
       "  1981.71,2754.23 2125.08,2754.23 \n",
       "  \"/>\n",
       "<path clip-path=\"url(#clip470)\" d=\"M2162.82 2773.92 Q2161.01 2778.55 2159.3 2779.96 Q2157.59 2781.37 2154.72 2781.37 L2151.31 2781.37 L2151.31 2777.8 L2153.81 2777.8 Q2155.57 2777.8 2156.55 2776.97 Q2157.52 2776.14 2158.7 2773.04 L2159.46 2771.09 L2148.98 2745.58 L2153.49 2745.58 L2161.59 2765.86 L2169.69 2745.58 L2174.21 2745.58 L2162.82 2773.92 Z\" fill=\"#000000\" fill-rule=\"evenodd\" fill-opacity=\"1\" /><path clip-path=\"url(#clip470)\" d=\"M2193.54 2741.02 L2181.73 2759.47 L2193.54 2759.47 L2193.54 2741.02 M2192.31 2736.95 L2198.19 2736.95 L2198.19 2759.47 L2203.12 2759.47 L2203.12 2763.36 L2198.19 2763.36 L2198.19 2771.51 L2193.54 2771.51 L2193.54 2763.36 L2177.94 2763.36 L2177.94 2758.85 L2192.31 2736.95 Z\" fill=\"#000000\" fill-rule=\"evenodd\" fill-opacity=\"1\" /><path clip-path=\"url(#clip470)\" d=\"M2223.7 2741.02 L2211.89 2759.47 L2223.7 2759.47 L2223.7 2741.02 M2222.47 2736.95 L2228.35 2736.95 L2228.35 2759.47 L2233.28 2759.47 L2233.28 2763.36 L2228.35 2763.36 L2228.35 2771.51 L2223.7 2771.51 L2223.7 2763.36 L2208.1 2763.36 L2208.1 2758.85 L2222.47 2736.95 Z\" fill=\"#000000\" fill-rule=\"evenodd\" fill-opacity=\"1\" /><polyline clip-path=\"url(#clip470)\" style=\"stroke:#608cf6; stroke-linecap:butt; stroke-linejoin:round; stroke-width:4; stroke-opacity:1; fill:none\" points=\"\n",
       "  1981.71,2814.71 2125.08,2814.71 \n",
       "  \"/>\n",
       "<path clip-path=\"url(#clip470)\" d=\"M2162.82 2834.4 Q2161.01 2839.03 2159.3 2840.44 Q2157.59 2841.85 2154.72 2841.85 L2151.31 2841.85 L2151.31 2838.28 L2153.81 2838.28 Q2155.57 2838.28 2156.55 2837.45 Q2157.52 2836.62 2158.7 2833.52 L2159.46 2831.57 L2148.98 2806.06 L2153.49 2806.06 L2161.59 2826.34 L2169.69 2806.06 L2174.21 2806.06 L2162.82 2834.4 Z\" fill=\"#000000\" fill-rule=\"evenodd\" fill-opacity=\"1\" /><path clip-path=\"url(#clip470)\" d=\"M2193.54 2801.5 L2181.73 2819.95 L2193.54 2819.95 L2193.54 2801.5 M2192.31 2797.43 L2198.19 2797.43 L2198.19 2819.95 L2203.12 2819.95 L2203.12 2823.84 L2198.19 2823.84 L2198.19 2831.99 L2193.54 2831.99 L2193.54 2823.84 L2177.94 2823.84 L2177.94 2819.33 L2192.31 2797.43 Z\" fill=\"#000000\" fill-rule=\"evenodd\" fill-opacity=\"1\" /><path clip-path=\"url(#clip470)\" d=\"M2210.9 2797.43 L2229.25 2797.43 L2229.25 2801.36 L2215.18 2801.36 L2215.18 2809.84 Q2216.2 2809.49 2217.22 2809.33 Q2218.24 2809.14 2219.25 2809.14 Q2225.04 2809.14 2228.42 2812.31 Q2231.8 2815.48 2231.8 2820.9 Q2231.8 2826.48 2228.33 2829.58 Q2224.86 2832.66 2218.54 2832.66 Q2216.36 2832.66 2214.09 2832.29 Q2211.85 2831.92 2209.44 2831.18 L2209.44 2826.48 Q2211.52 2827.61 2213.75 2828.17 Q2215.97 2828.72 2218.44 2828.72 Q2222.45 2828.72 2224.79 2826.62 Q2227.12 2824.51 2227.12 2820.9 Q2227.12 2817.29 2224.79 2815.18 Q2222.45 2813.08 2218.44 2813.08 Q2216.57 2813.08 2214.69 2813.49 Q2212.84 2813.91 2210.9 2814.79 L2210.9 2797.43 Z\" fill=\"#000000\" fill-rule=\"evenodd\" fill-opacity=\"1\" /><polyline clip-path=\"url(#clip470)\" style=\"stroke:#f05f73; stroke-linecap:butt; stroke-linejoin:round; stroke-width:4; stroke-opacity:1; fill:none\" points=\"\n",
       "  1981.71,2875.19 2125.08,2875.19 \n",
       "  \"/>\n",
       "<path clip-path=\"url(#clip470)\" d=\"M2162.82 2894.88 Q2161.01 2899.51 2159.3 2900.92 Q2157.59 2902.33 2154.72 2902.33 L2151.31 2902.33 L2151.31 2898.76 L2153.81 2898.76 Q2155.57 2898.76 2156.55 2897.93 Q2157.52 2897.1 2158.7 2894 L2159.46 2892.05 L2148.98 2866.54 L2153.49 2866.54 L2161.59 2886.82 L2169.69 2866.54 L2174.21 2866.54 L2162.82 2894.88 Z\" fill=\"#000000\" fill-rule=\"evenodd\" fill-opacity=\"1\" /><path clip-path=\"url(#clip470)\" d=\"M2193.54 2861.98 L2181.73 2880.43 L2193.54 2880.43 L2193.54 2861.98 M2192.31 2857.91 L2198.19 2857.91 L2198.19 2880.43 L2203.12 2880.43 L2203.12 2884.32 L2198.19 2884.32 L2198.19 2892.47 L2193.54 2892.47 L2193.54 2884.32 L2177.94 2884.32 L2177.94 2879.81 L2192.31 2857.91 Z\" fill=\"#000000\" fill-rule=\"evenodd\" fill-opacity=\"1\" /><path clip-path=\"url(#clip470)\" d=\"M2221.43 2873.33 Q2218.28 2873.33 2216.43 2875.48 Q2214.6 2877.63 2214.6 2881.38 Q2214.6 2885.11 2216.43 2887.28 Q2218.28 2889.44 2221.43 2889.44 Q2224.58 2889.44 2226.41 2887.28 Q2228.26 2885.11 2228.26 2881.38 Q2228.26 2877.63 2226.41 2875.48 Q2224.58 2873.33 2221.43 2873.33 M2230.71 2858.67 L2230.71 2862.93 Q2228.95 2862.1 2227.15 2861.66 Q2225.37 2861.22 2223.61 2861.22 Q2218.98 2861.22 2216.52 2864.34 Q2214.09 2867.47 2213.75 2873.79 Q2215.11 2871.77 2217.17 2870.71 Q2219.23 2869.62 2221.71 2869.62 Q2226.92 2869.62 2229.93 2872.79 Q2232.96 2875.94 2232.96 2881.38 Q2232.96 2886.7 2229.81 2889.92 Q2226.66 2893.14 2221.43 2893.14 Q2215.43 2893.14 2212.26 2888.56 Q2209.09 2883.95 2209.09 2875.22 Q2209.09 2867.03 2212.98 2862.17 Q2216.87 2857.28 2223.42 2857.28 Q2225.18 2857.28 2226.96 2857.63 Q2228.77 2857.98 2230.71 2858.67 Z\" fill=\"#000000\" fill-rule=\"evenodd\" fill-opacity=\"1\" /><polyline clip-path=\"url(#clip470)\" style=\"stroke:#dd64b5; stroke-linecap:butt; stroke-linejoin:round; stroke-width:4; stroke-opacity:1; fill:none\" points=\"\n",
       "  1981.71,2935.67 2125.08,2935.67 \n",
       "  \"/>\n",
       "<path clip-path=\"url(#clip470)\" d=\"M2162.82 2955.36 Q2161.01 2959.99 2159.3 2961.4 Q2157.59 2962.81 2154.72 2962.81 L2151.31 2962.81 L2151.31 2959.24 L2153.81 2959.24 Q2155.57 2959.24 2156.55 2958.41 Q2157.52 2957.58 2158.7 2954.48 L2159.46 2952.53 L2148.98 2927.02 L2153.49 2927.02 L2161.59 2947.3 L2169.69 2927.02 L2174.21 2927.02 L2162.82 2955.36 Z\" fill=\"#000000\" fill-rule=\"evenodd\" fill-opacity=\"1\" /><path clip-path=\"url(#clip470)\" d=\"M2193.54 2922.46 L2181.73 2940.91 L2193.54 2940.91 L2193.54 2922.46 M2192.31 2918.39 L2198.19 2918.39 L2198.19 2940.91 L2203.12 2940.91 L2203.12 2944.8 L2198.19 2944.8 L2198.19 2952.95 L2193.54 2952.95 L2193.54 2944.8 L2177.94 2944.8 L2177.94 2940.29 L2192.31 2918.39 Z\" fill=\"#000000\" fill-rule=\"evenodd\" fill-opacity=\"1\" /><path clip-path=\"url(#clip470)\" d=\"M2209.67 2918.39 L2231.89 2918.39 L2231.89 2920.38 L2219.35 2952.95 L2214.46 2952.95 L2226.27 2922.32 L2209.67 2922.32 L2209.67 2918.39 Z\" fill=\"#000000\" fill-rule=\"evenodd\" fill-opacity=\"1\" /><polyline clip-path=\"url(#clip470)\" style=\"stroke:#6b9e32; stroke-linecap:butt; stroke-linejoin:round; stroke-width:4; stroke-opacity:1; fill:none\" points=\"\n",
       "  1981.71,2996.15 2125.08,2996.15 \n",
       "  \"/>\n",
       "<path clip-path=\"url(#clip470)\" d=\"M2162.82 3015.84 Q2161.01 3020.47 2159.3 3021.88 Q2157.59 3023.29 2154.72 3023.29 L2151.31 3023.29 L2151.31 3019.72 L2153.81 3019.72 Q2155.57 3019.72 2156.55 3018.89 Q2157.52 3018.06 2158.7 3014.96 L2159.46 3013.01 L2148.98 2987.5 L2153.49 2987.5 L2161.59 3007.78 L2169.69 2987.5 L2174.21 2987.5 L2162.82 3015.84 Z\" fill=\"#000000\" fill-rule=\"evenodd\" fill-opacity=\"1\" /><path clip-path=\"url(#clip470)\" d=\"M2193.54 2982.94 L2181.73 3001.39 L2193.54 3001.39 L2193.54 2982.94 M2192.31 2978.87 L2198.19 2978.87 L2198.19 3001.39 L2203.12 3001.39 L2203.12 3005.28 L2198.19 3005.28 L2198.19 3013.43 L2193.54 3013.43 L2193.54 3005.28 L2177.94 3005.28 L2177.94 3000.77 L2192.31 2978.87 Z\" fill=\"#000000\" fill-rule=\"evenodd\" fill-opacity=\"1\" /><path clip-path=\"url(#clip470)\" d=\"M2220.85 2997.02 Q2217.52 2997.02 2215.6 2998.8 Q2213.7 3000.58 2213.7 3003.71 Q2213.7 3006.83 2215.6 3008.61 Q2217.52 3010.4 2220.85 3010.4 Q2224.18 3010.4 2226.11 3008.61 Q2228.03 3006.81 2228.03 3003.71 Q2228.03 3000.58 2226.11 2998.8 Q2224.21 2997.02 2220.85 2997.02 M2216.18 2995.03 Q2213.17 2994.29 2211.48 2992.23 Q2209.81 2990.16 2209.81 2987.2 Q2209.81 2983.06 2212.75 2980.65 Q2215.71 2978.24 2220.85 2978.24 Q2226.01 2978.24 2228.95 2980.65 Q2231.89 2983.06 2231.89 2987.2 Q2231.89 2990.16 2230.2 2992.23 Q2228.54 2994.29 2225.55 2995.03 Q2228.93 2995.81 2230.81 2998.1 Q2232.7 3000.4 2232.7 3003.71 Q2232.7 3008.73 2229.62 3011.41 Q2226.57 3014.1 2220.85 3014.1 Q2215.13 3014.1 2212.06 3011.41 Q2209 3008.73 2209 3003.71 Q2209 3000.4 2210.9 2998.1 Q2212.8 2995.81 2216.18 2995.03 M2214.46 2987.64 Q2214.46 2990.33 2216.13 2991.83 Q2217.82 2993.34 2220.85 2993.34 Q2223.86 2993.34 2225.55 2991.83 Q2227.26 2990.33 2227.26 2987.64 Q2227.26 2984.96 2225.55 2983.45 Q2223.86 2981.95 2220.85 2981.95 Q2217.82 2981.95 2216.13 2983.45 Q2214.46 2984.96 2214.46 2987.64 Z\" fill=\"#000000\" fill-rule=\"evenodd\" fill-opacity=\"1\" /><polyline clip-path=\"url(#clip470)\" style=\"stroke:#009af9; stroke-linecap:butt; stroke-linejoin:round; stroke-width:4; stroke-opacity:1; fill:none\" points=\"\n",
       "  1981.71,3056.63 2125.08,3056.63 \n",
       "  \"/>\n",
       "<path clip-path=\"url(#clip470)\" d=\"M2162.82 3076.32 Q2161.01 3080.95 2159.3 3082.36 Q2157.59 3083.77 2154.72 3083.77 L2151.31 3083.77 L2151.31 3080.2 L2153.81 3080.2 Q2155.57 3080.2 2156.55 3079.37 Q2157.52 3078.54 2158.7 3075.44 L2159.46 3073.49 L2148.98 3047.98 L2153.49 3047.98 L2161.59 3068.26 L2169.69 3047.98 L2174.21 3047.98 L2162.82 3076.32 Z\" fill=\"#000000\" fill-rule=\"evenodd\" fill-opacity=\"1\" /><path clip-path=\"url(#clip470)\" d=\"M2193.54 3043.42 L2181.73 3061.87 L2193.54 3061.87 L2193.54 3043.42 M2192.31 3039.35 L2198.19 3039.35 L2198.19 3061.87 L2203.12 3061.87 L2203.12 3065.76 L2198.19 3065.76 L2198.19 3073.91 L2193.54 3073.91 L2193.54 3065.76 L2177.94 3065.76 L2177.94 3061.25 L2192.31 3039.35 Z\" fill=\"#000000\" fill-rule=\"evenodd\" fill-opacity=\"1\" /><path clip-path=\"url(#clip470)\" d=\"M2210.99 3073.19 L2210.99 3068.93 Q2212.75 3069.77 2214.56 3070.2 Q2216.36 3070.64 2218.1 3070.64 Q2222.73 3070.64 2225.16 3067.54 Q2227.61 3064.42 2227.96 3058.08 Q2226.62 3060.07 2224.56 3061.13 Q2222.5 3062.2 2220 3062.2 Q2214.81 3062.2 2211.78 3059.07 Q2208.77 3055.92 2208.77 3050.48 Q2208.77 3045.16 2211.92 3041.94 Q2215.06 3038.72 2220.3 3038.72 Q2226.29 3038.72 2229.44 3043.33 Q2232.61 3047.91 2232.61 3056.66 Q2232.61 3064.83 2228.72 3069.72 Q2224.86 3074.58 2218.31 3074.58 Q2216.55 3074.58 2214.74 3074.23 Q2212.93 3073.89 2210.99 3073.19 M2220.3 3058.54 Q2223.44 3058.54 2225.27 3056.39 Q2227.12 3054.23 2227.12 3050.48 Q2227.12 3046.76 2225.27 3044.6 Q2223.44 3042.43 2220.3 3042.43 Q2217.15 3042.43 2215.3 3044.6 Q2213.47 3046.76 2213.47 3050.48 Q2213.47 3054.23 2215.3 3056.39 Q2217.15 3058.54 2220.3 3058.54 Z\" fill=\"#000000\" fill-rule=\"evenodd\" fill-opacity=\"1\" /><polyline clip-path=\"url(#clip470)\" style=\"stroke:#e26f46; stroke-linecap:butt; stroke-linejoin:round; stroke-width:4; stroke-opacity:1; fill:none\" points=\"\n",
       "  1981.71,3117.11 2125.08,3117.11 \n",
       "  \"/>\n",
       "<path clip-path=\"url(#clip470)\" d=\"M2162.82 3136.8 Q2161.01 3141.43 2159.3 3142.84 Q2157.59 3144.25 2154.72 3144.25 L2151.31 3144.25 L2151.31 3140.68 L2153.81 3140.68 Q2155.57 3140.68 2156.55 3139.85 Q2157.52 3139.02 2158.7 3135.92 L2159.46 3133.97 L2148.98 3108.46 L2153.49 3108.46 L2161.59 3128.74 L2169.69 3108.46 L2174.21 3108.46 L2162.82 3136.8 Z\" fill=\"#000000\" fill-rule=\"evenodd\" fill-opacity=\"1\" /><path clip-path=\"url(#clip470)\" d=\"M2180.74 3099.83 L2199.09 3099.83 L2199.09 3103.76 L2185.02 3103.76 L2185.02 3112.24 Q2186.04 3111.89 2187.06 3111.73 Q2188.07 3111.54 2189.09 3111.54 Q2194.88 3111.54 2198.26 3114.71 Q2201.64 3117.88 2201.64 3123.3 Q2201.64 3128.88 2198.17 3131.98 Q2194.69 3135.06 2188.37 3135.06 Q2186.2 3135.06 2183.93 3134.69 Q2181.69 3134.32 2179.28 3133.58 L2179.28 3128.88 Q2181.36 3130.01 2183.58 3130.57 Q2185.81 3131.12 2188.28 3131.12 Q2192.29 3131.12 2194.62 3129.02 Q2196.96 3126.91 2196.96 3123.3 Q2196.96 3119.69 2194.62 3117.58 Q2192.29 3115.48 2188.28 3115.48 Q2186.41 3115.48 2184.53 3115.89 Q2182.68 3116.31 2180.74 3117.19 L2180.74 3099.83 Z\" fill=\"#000000\" fill-rule=\"evenodd\" fill-opacity=\"1\" /><path clip-path=\"url(#clip470)\" d=\"M2220.85 3102.91 Q2217.24 3102.91 2215.41 3106.47 Q2213.61 3110.01 2213.61 3117.14 Q2213.61 3124.25 2215.41 3127.81 Q2217.24 3131.36 2220.85 3131.36 Q2224.49 3131.36 2226.29 3127.81 Q2228.12 3124.25 2228.12 3117.14 Q2228.12 3110.01 2226.29 3106.47 Q2224.49 3102.91 2220.85 3102.91 M2220.85 3099.2 Q2226.66 3099.2 2229.72 3103.81 Q2232.8 3108.39 2232.8 3117.14 Q2232.8 3125.87 2229.72 3130.48 Q2226.66 3135.06 2220.85 3135.06 Q2215.04 3135.06 2211.96 3130.48 Q2208.91 3125.87 2208.91 3117.14 Q2208.91 3108.39 2211.96 3103.81 Q2215.04 3099.2 2220.85 3099.2 Z\" fill=\"#000000\" fill-rule=\"evenodd\" fill-opacity=\"1\" /></svg>\n"
      ]
     },
     "execution_count": 40,
     "metadata": {},
     "output_type": "execute_result"
    }
   ],
   "source": [
    "plot(g_vals')\n",
    "xlabel!(\"Timestep\")\n",
    "ylabel!(\"g\")"
   ]
  },
  {
   "cell_type": "markdown",
   "metadata": {},
   "source": [
    "----"
   ]
  },
  {
   "cell_type": "markdown",
   "metadata": {},
   "source": [
    "# Computing the KKTs and the Jacobian"
   ]
  },
  {
   "cell_type": "markdown",
   "metadata": {},
   "source": [
    "## Figuring out the order of constraints/variables"
   ]
  },
  {
   "cell_type": "markdown",
   "metadata": {},
   "source": [
    "We need to make sure we **know** the order of variables and of the different constraints if we want to have full control on the differentiation"
   ]
  },
  {
   "cell_type": "markdown",
   "metadata": {},
   "source": [
    "Concretely -- we need to code dynamic equivalent of the flatten & unflatten functions. "
   ]
  },
  {
   "cell_type": "markdown",
   "metadata": {},
   "source": [
    "`dmin` is a `PowerManagementProblem` object, that contains the primal variables. Therefore, retrieving them in the right order is relatively easy. However, figuring out the ordering of the constraints seems more difficult, as the problem is build sequentially. "
   ]
  },
  {
   "cell_type": "markdown",
   "metadata": {},
   "source": [
    "We can probably build also a sequential version of the flatten/unflatten variables."
   ]
  },
  {
   "cell_type": "markdown",
   "metadata": {},
   "source": [
    "How many constraints are we supposed to have? \n",
    "- 5 for the static problem for each timestep\n",
    "- 4 for the dynamic problem at each timestep\n",
    "\n",
    "That is 9 per timestep. \n",
    "\n",
    "We have 5 timesteps --> 45"
   ]
  },
  {
   "cell_type": "markdown",
   "metadata": {},
   "source": [
    "So that makes sense\n"
   ]
  },
  {
   "cell_type": "markdown",
   "metadata": {},
   "source": [
    "Now, what is their structure. I believe that we first construct the constraints subproblem per sub problem, and then add the storage constraints. So we should have: \n",
    "- 5 x 5 constraints (static)\n",
    "- 4 x 5 constraints (storage)"
   ]
  },
  {
   "cell_type": "code",
<<<<<<< Updated upstream
<<<<<<< Updated upstream
<<<<<<< Updated upstream
   "execution_count": 43,
=======
   "execution_count": 41,
>>>>>>> Stashed changes
=======
   "execution_count": 41,
>>>>>>> Stashed changes
=======
   "execution_count": 41,
>>>>>>> Stashed changes
   "metadata": {},
   "outputs": [],
   "source": [
    "x = flatten_variables_dyn(dmin);"
   ]
  },
  {
   "cell_type": "code",
<<<<<<< Updated upstream
<<<<<<< Updated upstream
<<<<<<< Updated upstream
   "execution_count": 44,
=======
   "execution_count": 42,
>>>>>>> Stashed changes
=======
   "execution_count": 42,
>>>>>>> Stashed changes
=======
   "execution_count": 42,
>>>>>>> Stashed changes
   "metadata": {},
   "outputs": [
    {
     "data": {
      "text/plain": [
       "6300"
      ]
     },
     "execution_count": 42,
     "metadata": {},
     "output_type": "execute_result"
    }
   ],
   "source": [
    "length(x)"
   ]
  },
  {
   "cell_type": "code",
<<<<<<< Updated upstream
<<<<<<< Updated upstream
<<<<<<< Updated upstream
   "execution_count": 45,
=======
   "execution_count": 43,
>>>>>>> Stashed changes
=======
   "execution_count": 43,
>>>>>>> Stashed changes
=======
   "execution_count": 43,
>>>>>>> Stashed changes
   "metadata": {},
   "outputs": [],
   "source": [
    "g, p, s, λpl, λpu, λgl, λgu, ν, λdsl, λdsu, λsl, λsu = unflatten_variables_dyn(x, n, m, l, T);"
   ]
  },
  {
   "cell_type": "code",
<<<<<<< Updated upstream
<<<<<<< Updated upstream
<<<<<<< Updated upstream
   "execution_count": 46,
=======
   "execution_count": 44,
>>>>>>> Stashed changes
=======
   "execution_count": 44,
>>>>>>> Stashed changes
=======
   "execution_count": 44,
>>>>>>> Stashed changes
   "metadata": {},
   "outputs": [],
   "source": [
    "KKT = kkt_dyn(x, dnet, d_dyn);"
   ]
  },
  {
   "cell_type": "code",
<<<<<<< Updated upstream
<<<<<<< Updated upstream
<<<<<<< Updated upstream
   "execution_count": 47,
=======
   "execution_count": 45,
>>>>>>> Stashed changes
=======
   "execution_count": 45,
>>>>>>> Stashed changes
=======
   "execution_count": 45,
>>>>>>> Stashed changes
   "metadata": {},
   "outputs": [],
   "source": [
    "TOL=1e-6;"
   ]
  },
  {
   "cell_type": "code",
<<<<<<< Updated upstream
<<<<<<< Updated upstream
<<<<<<< Updated upstream
   "execution_count": 48,
=======
   "execution_count": 46,
>>>>>>> Stashed changes
=======
   "execution_count": 46,
>>>>>>> Stashed changes
=======
   "execution_count": 46,
>>>>>>> Stashed changes
   "metadata": {},
   "outputs": [
    {
     "data": {
      "text/plain": [
       "4.0203148447273697e-8"
      ]
     },
     "execution_count": 46,
     "metadata": {},
     "output_type": "execute_result"
    }
   ],
   "source": [
    "norm(KKT)"
   ]
  },
  {
   "cell_type": "code",
<<<<<<< Updated upstream
<<<<<<< Updated upstream
<<<<<<< Updated upstream
   "execution_count": 49,
=======
   "execution_count": 47,
>>>>>>> Stashed changes
=======
   "execution_count": 47,
>>>>>>> Stashed changes
=======
   "execution_count": 47,
>>>>>>> Stashed changes
   "metadata": {},
   "outputs": [
    {
     "data": {
      "text/plain": [
       "0"
      ]
     },
     "execution_count": 47,
     "metadata": {},
     "output_type": "execute_result"
    }
   ],
   "source": [
    "sum(abs.(KKT).>TOL)"
   ]
  },
  {
   "cell_type": "markdown",
   "metadata": {},
   "source": [
    "# Sensitivity demand checks"
   ]
  },
  {
   "cell_type": "markdown",
   "metadata": {},
   "source": [
    "Here we basically test the sensitivity to demand routine. We solve the problem with some linear costs (for which the gradient $\\nabla C$ is very easy to compute). "
   ]
  },
  {
   "cell_type": "markdown",
   "metadata": {},
   "source": [
    "## One timestep"
   ]
  },
  {
   "cell_type": "code",
<<<<<<< Updated upstream
<<<<<<< Updated upstream
<<<<<<< Updated upstream
   "execution_count": 244,
=======
   "execution_count": 213,
>>>>>>> Stashed changes
=======
   "execution_count": 213,
>>>>>>> Stashed changes
=======
   "execution_count": 213,
>>>>>>> Stashed changes
   "metadata": {},
   "outputs": [],
   "source": [
    "T = 2\n",
    "\n",
    "# cq_dyn = [cq for _ in 1:T]\n",
    "cq_dyn = [zeros(l) for _ in 1:T]\n",
    "cl_dyn = [cl for _ in 1:T]\n",
    "pmax_dyn = [pmax for _ in 1:T]\n",
    "gmax_dyn = [gmax for _ in 1:T]\n",
    "d_dyn = Tuple(d for _ in 1:T)\n",
    "\n",
    "P = rand(Exponential(2), n)\n",
    "# C = rand(Exponential(2), n)\n",
    "C = zeros(n)\n",
    ";"
   ]
  },
  {
   "cell_type": "code",
<<<<<<< Updated upstream
<<<<<<< Updated upstream
<<<<<<< Updated upstream
   "execution_count": 245,
=======
   "execution_count": 214,
>>>>>>> Stashed changes
=======
   "execution_count": 214,
>>>>>>> Stashed changes
=======
   "execution_count": 214,
>>>>>>> Stashed changes
   "metadata": {},
   "outputs": [],
   "source": [
    "dnet = DynamicPowerNetwork(\n",
    "    cq_dyn, cl_dyn, pmax_dyn, gmax_dyn, A, B, P, C\n",
    ")\n",
    "dmin = DynamicPowerManagementProblem(dnet, d_dyn);"
   ]
  },
  {
   "cell_type": "code",
<<<<<<< Updated upstream
<<<<<<< Updated upstream
<<<<<<< Updated upstream
   "execution_count": 246,
=======
   "execution_count": 215,
>>>>>>> Stashed changes
=======
   "execution_count": 215,
>>>>>>> Stashed changes
=======
   "execution_count": 215,
>>>>>>> Stashed changes
   "metadata": {},
   "outputs": [],
   "source": [
    "solve!(dmin, OPT, verbose=true);"
   ]
  },
  {
   "cell_type": "code",
<<<<<<< Updated upstream
<<<<<<< Updated upstream
<<<<<<< Updated upstream
   "execution_count": 247,
=======
   "execution_count": 216,
>>>>>>> Stashed changes
=======
   "execution_count": 216,
>>>>>>> Stashed changes
=======
   "execution_count": 216,
>>>>>>> Stashed changes
   "metadata": {},
   "outputs": [],
   "source": [
    "x = flatten_variables_dyn(dmin);"
   ]
  },
  {
   "cell_type": "code",
<<<<<<< Updated upstream
<<<<<<< Updated upstream
<<<<<<< Updated upstream
   "execution_count": 248,
=======
   "execution_count": 217,
>>>>>>> Stashed changes
=======
   "execution_count": 217,
>>>>>>> Stashed changes
=======
   "execution_count": 217,
>>>>>>> Stashed changes
   "metadata": {},
   "outputs": [],
   "source": [
    "KKT = kkt_dyn(x, dnet, d_dyn);"
   ]
  },
  {
   "cell_type": "code",
<<<<<<< Updated upstream
<<<<<<< Updated upstream
<<<<<<< Updated upstream
   "execution_count": 249,
=======
   "execution_count": 218,
>>>>>>> Stashed changes
=======
   "execution_count": 218,
>>>>>>> Stashed changes
=======
   "execution_count": 218,
>>>>>>> Stashed changes
   "metadata": {},
   "outputs": [],
   "source": [
    "TOL=1e-6;"
   ]
  },
  {
   "cell_type": "code",
<<<<<<< Updated upstream
<<<<<<< Updated upstream
<<<<<<< Updated upstream
   "execution_count": 251,
=======
   "execution_count": 219,
>>>>>>> Stashed changes
=======
   "execution_count": 219,
>>>>>>> Stashed changes
=======
   "execution_count": 219,
>>>>>>> Stashed changes
   "metadata": {},
   "outputs": [
    {
     "name": "stdout",
     "output_type": "stream",
     "text": [
<<<<<<< Updated upstream
<<<<<<< Updated upstream
<<<<<<< Updated upstream
      "norm(KKT) = 5.2043116513164054e-8\n"
=======
      "norm(KKT) = 2.4336345524927934e-8\n"
>>>>>>> Stashed changes
=======
      "norm(KKT) = 2.4336345524927934e-8\n"
>>>>>>> Stashed changes
=======
      "norm(KKT) = 2.4336345524927934e-8\n"
>>>>>>> Stashed changes
     ]
    }
   ],
   "source": [
    "@show norm(KKT);"
   ]
  },
  {
   "cell_type": "code",
<<<<<<< Updated upstream
<<<<<<< Updated upstream
<<<<<<< Updated upstream
   "execution_count": 252,
=======
   "execution_count": 220,
>>>>>>> Stashed changes
=======
   "execution_count": 220,
>>>>>>> Stashed changes
=======
   "execution_count": 220,
>>>>>>> Stashed changes
   "metadata": {},
   "outputs": [
    {
     "name": "stdout",
     "output_type": "stream",
     "text": [
      "sum(abs.(KKT) .> TOL) = 0\n"
     ]
    }
   ],
   "source": [
    "@show sum(abs.(KKT).>TOL);"
   ]
  },
  {
   "cell_type": "markdown",
   "metadata": {},
   "source": [
    "### Comparing static vs dynamic"
   ]
  },
  {
<<<<<<< Updated upstream
   "cell_type": "code",
<<<<<<< Updated upstream
<<<<<<< Updated upstream
   "execution_count": 253,
=======
   "execution_count": 233,
>>>>>>> Stashed changes
=======
   "execution_count": 233,
>>>>>>> Stashed changes
   "metadata": {},
   "outputs": [
    {
     "data": {
      "text/plain": [
       "1"
      ]
     },
<<<<<<< Updated upstream
<<<<<<< Updated upstream
     "execution_count": 253,
=======
     "execution_count": 233,
>>>>>>> Stashed changes
=======
     "execution_count": 233,
>>>>>>> Stashed changes
     "metadata": {},
     "output_type": "execute_result"
    }
   ],
   "source": [
    "# timestep for which we want to compute the MEFS\n",
    "t = 1"
   ]
  },
  {
   "cell_type": "code",
<<<<<<< Updated upstream
<<<<<<< Updated upstream
   "execution_count": 254,
=======
   "execution_count": 234,
>>>>>>> Stashed changes
=======
   "execution_count": 234,
>>>>>>> Stashed changes
   "metadata": {},
   "outputs": [],
   "source": [
    "∇C = zeros(kkt_dims_dyn(n, m, l, T))\n",
    "∇C[(t-1)*l+1:t*l] .= cl_dyn[t]\n",
    "# ∇C[1:l] .= cl_dyn[t]\n",
    "mefs_dyn = sensitivity_demand_dyn(dmin, dnet, d_dyn, ∇C, t);"
   ]
  },
  {
   "cell_type": "code",
   "execution_count": 235,
   "metadata": {},
   "outputs": [
    {
     "name": "stdout",
     "output_type": "stream",
     "text": [
      "norm(mefs - mefs_dyn) = 0.4166263944728107\n"
     ]
    },
    {
     "data": {
      "text/plain": [
       "0.4166263944728107"
      ]
     },
     "execution_count": 235,
     "metadata": {},
     "output_type": "execute_result"
    }
   ],
   "source": [
    "# solution with static network\n",
    "∇C = zeros(kkt_dims(n, m, l))\n",
    "∇C[1:l] .= cl_dyn[t]\n",
    "\n",
    "cnet = PowerNetwork(cq_dyn[t], cl_dyn[t], pmax_dyn[t], gmax_dyn[t], A, B);\n",
    "carbon_min = PowerManagementProblem(cnet, d_dyn[t])\n",
    "solve!(carbon_min, OPT, verbose=true);\n",
    "\n",
    "mefs = sensitivity_demand(carbon_min, ∇C, cnet, d_dyn[t]);\n",
<<<<<<< Updated upstream
    "\n",
    "@show norm(mefs - mefs_dyn)"
   ]
  },
  {
   "cell_type": "markdown",
   "metadata": {},
   "source": [
    "### Comparing with dual variables"
   ]
  },
  {
   "cell_type": "markdown",
   "metadata": {},
   "source": [
    "The dual variables $\\nu$ are the ones associated with the continuity equation -- therefore they are the ones telling us about the sensitivity of the problem to demand when the objective is appropriately defined. "
   ]
  },
  {
   "cell_type": "code",
   "execution_count": 224,
   "metadata": {},
   "outputs": [],
   "source": [
    "g, p, s, λpl, λpu, λgl, λgu, ν, λdsl, λdsu, λsl, λsu = unflatten_variables_dyn(\n",
    "    flatten_variables_dyn(dmin), n, m, l, T\n",
    ");"
   ]
  },
  {
   "cell_type": "code",
   "execution_count": 225,
   "metadata": {},
   "outputs": [
    {
     "name": "stdout",
     "output_type": "stream",
     "text": [
      "norm(ν[1] - mefs_dyn) = 0.41662639440641214\n"
     ]
    },
    {
     "data": {
      "text/plain": [
       "0.41662639440641214"
      ]
     },
     "execution_count": 225,
     "metadata": {},
     "output_type": "execute_result"
    }
   ],
   "source": [
    "@show norm(ν[1]-mefs_dyn)"
   ]
  },
  {
   "cell_type": "code",
   "execution_count": 226,
=======
   "cell_type": "code",
   "execution_count": 233,
>>>>>>> Stashed changes
   "metadata": {},
   "outputs": [
    {
     "name": "stdout",
     "output_type": "stream",
     "text": [
      "norm(ν[t] - mefs) = 1.461933316664313e-7\n"
     ]
    },
    {
     "data": {
      "text/plain": [
<<<<<<< Updated upstream
       "1.461933316664313e-7"
=======
       "1"
>>>>>>> Stashed changes
      ]
     },
     "execution_count": 233,
     "metadata": {},
     "output_type": "execute_result"
    }
   ],
   "source": [
<<<<<<< Updated upstream
    "@show norm(ν[t]-mefs)"
   ]
  },
  {
   "cell_type": "markdown",
   "metadata": {},
   "source": []
  },
  {
   "cell_type": "markdown",
   "metadata": {},
   "source": [
    "## Several timesteps with no storage capacity"
=======
    "# timestep for which we want to compute the MEFS\n",
    "t = 1"
>>>>>>> Stashed changes
   ]
  },
  {
   "cell_type": "code",
<<<<<<< Updated upstream
   "execution_count": 173,
   "metadata": {},
   "outputs": [],
   "source": [
    "T = 5\n",
    "\n",
    "# cq_dyn = [cq for _ in 1:T]\n",
    "cq_dyn = [zeros(l) for _ in 1:T]\n",
    "cl_dyn = [cl for _ in 1:T]\n",
    "pmax_dyn = [pmax for _ in 1:T]\n",
    "gmax_dyn = [gmax for _ in 1:T]\n",
    "d_dyn = Tuple(d for _ in 1:T)\n",
    "\n",
=======
    "\n",
    "@show norm(mefs - mefs_dyn)"
   ]
  },
  {
   "cell_type": "markdown",
   "metadata": {},
   "source": [
    "### Comparing with dual variables"
   ]
  },
  {
   "cell_type": "markdown",
   "metadata": {},
   "source": [
    "The dual variables $\\nu$ are the ones associated with the continuity equation -- therefore they are the ones telling us about the sensitivity of the problem to demand when the objective is appropriately defined. "
   ]
  },
  {
   "cell_type": "code",
   "execution_count": 224,
   "metadata": {},
   "outputs": [],
   "source": [
    "g, p, s, λpl, λpu, λgl, λgu, ν, λdsl, λdsu, λsl, λsu = unflatten_variables_dyn(\n",
    "    flatten_variables_dyn(dmin), n, m, l, T\n",
    ");"
   ]
  },
  {
   "cell_type": "code",
   "execution_count": 225,
   "metadata": {},
   "outputs": [
    {
     "name": "stdout",
     "output_type": "stream",
     "text": [
      "norm(ν[1] - mefs_dyn) = 0.41662639440641214\n"
     ]
    },
    {
     "data": {
      "text/plain": [
       "0.41662639440641214"
      ]
     },
     "execution_count": 225,
     "metadata": {},
     "output_type": "execute_result"
    }
   ],
   "source": [
    "@show norm(ν[1]-mefs_dyn)"
   ]
  },
  {
   "cell_type": "code",
   "execution_count": 226,
   "metadata": {},
   "outputs": [
    {
     "name": "stdout",
     "output_type": "stream",
     "text": [
      "norm(ν[t] - mefs) = 1.461933316664313e-7\n"
     ]
    },
    {
     "data": {
      "text/plain": [
       "1.461933316664313e-7"
      ]
     },
     "execution_count": 226,
     "metadata": {},
     "output_type": "execute_result"
    }
   ],
   "source": [
    "@show norm(ν[t]-mefs)"
   ]
  },
  {
   "cell_type": "markdown",
   "metadata": {},
   "source": []
  },
  {
   "cell_type": "markdown",
   "metadata": {},
   "source": [
    "## Several timesteps with no storage capacity"
   ]
  },
  {
   "cell_type": "code",
   "execution_count": 173,
   "metadata": {},
   "outputs": [],
   "source": [
    "T = 5\n",
    "\n",
    "# cq_dyn = [cq for _ in 1:T]\n",
    "cq_dyn = [zeros(l) for _ in 1:T]\n",
    "cl_dyn = [cl for _ in 1:T]\n",
    "pmax_dyn = [pmax for _ in 1:T]\n",
    "gmax_dyn = [gmax for _ in 1:T]\n",
    "d_dyn = Tuple(d for _ in 1:T)\n",
    "\n",
>>>>>>> Stashed changes
=======
   "execution_count": 234,
   "metadata": {},
   "outputs": [],
   "source": [
    "∇C = zeros(kkt_dims_dyn(n, m, l, T))\n",
    "∇C[(t-1)*l+1:t*l] .= cl_dyn[t]\n",
    "# ∇C[1:l] .= cl_dyn[t]\n",
    "mefs_dyn = sensitivity_demand_dyn(dmin, dnet, d_dyn, ∇C, t);"
   ]
  },
  {
   "cell_type": "code",
   "execution_count": 235,
   "metadata": {},
   "outputs": [
    {
     "name": "stdout",
     "output_type": "stream",
     "text": [
      "norm(mefs - mefs_dyn) = 0.4166263944728107\n"
     ]
    },
    {
     "data": {
      "text/plain": [
       "0.4166263944728107"
      ]
     },
     "execution_count": 235,
     "metadata": {},
     "output_type": "execute_result"
    }
   ],
   "source": [
    "# solution with static network\n",
    "∇C = zeros(kkt_dims(n, m, l))\n",
    "∇C[1:l] .= cl_dyn[t]\n",
    "\n",
    "cnet = PowerNetwork(cq_dyn[t], cl_dyn[t], pmax_dyn[t], gmax_dyn[t], A, B);\n",
    "carbon_min = PowerManagementProblem(cnet, d_dyn[t])\n",
    "solve!(carbon_min, OPT, verbose=true);\n",
    "\n",
    "mefs = sensitivity_demand(carbon_min, ∇C, cnet, d_dyn[t]);\n",
    "\n",
    "@show norm(mefs - mefs_dyn)"
   ]
  },
  {
   "cell_type": "markdown",
   "metadata": {},
   "source": [
    "### Comparing with dual variables"
   ]
  },
  {
   "cell_type": "markdown",
   "metadata": {},
   "source": [
    "The dual variables $\\nu$ are the ones associated with the continuity equation -- therefore they are the ones telling us about the sensitivity of the problem to demand when the objective is appropriately defined. "
   ]
  },
  {
   "cell_type": "code",
   "execution_count": 224,
   "metadata": {},
   "outputs": [],
   "source": [
    "g, p, s, λpl, λpu, λgl, λgu, ν, λdsl, λdsu, λsl, λsu = unflatten_variables_dyn(\n",
    "    flatten_variables_dyn(dmin), n, m, l, T\n",
    ");"
   ]
  },
  {
   "cell_type": "code",
   "execution_count": 225,
   "metadata": {},
   "outputs": [
    {
     "name": "stdout",
     "output_type": "stream",
     "text": [
      "norm(ν[1] - mefs_dyn) = 0.41662639440641214\n"
     ]
    },
    {
     "data": {
      "text/plain": [
       "0.41662639440641214"
      ]
     },
     "execution_count": 225,
     "metadata": {},
     "output_type": "execute_result"
    }
   ],
   "source": [
    "@show norm(ν[1]-mefs_dyn)"
   ]
  },
  {
   "cell_type": "code",
   "execution_count": 226,
   "metadata": {},
   "outputs": [
    {
     "name": "stdout",
     "output_type": "stream",
     "text": [
      "norm(ν[t] - mefs) = 1.461933316664313e-7\n"
     ]
    },
    {
     "data": {
      "text/plain": [
       "1.461933316664313e-7"
      ]
     },
     "execution_count": 226,
     "metadata": {},
     "output_type": "execute_result"
    }
   ],
   "source": [
    "@show norm(ν[t]-mefs)"
   ]
  },
  {
   "cell_type": "markdown",
   "metadata": {},
   "source": []
  },
  {
   "cell_type": "markdown",
   "metadata": {},
   "source": [
    "## Several timesteps with no storage capacity"
   ]
  },
  {
   "cell_type": "code",
   "execution_count": 173,
   "metadata": {},
   "outputs": [],
   "source": [
    "T = 5\n",
    "\n",
    "# cq_dyn = [cq for _ in 1:T]\n",
    "cq_dyn = [zeros(l) for _ in 1:T]\n",
    "cl_dyn = [cl for _ in 1:T]\n",
    "pmax_dyn = [pmax for _ in 1:T]\n",
    "gmax_dyn = [gmax for _ in 1:T]\n",
    "d_dyn = Tuple(d for _ in 1:T)\n",
    "\n",
>>>>>>> Stashed changes
    "P = rand(Exponential(2), n)\n",
    "# C = rand(Exponential(2), n)\n",
    "C = zeros(n)\n",
    ";"
   ]
  },
  {
   "cell_type": "code",
   "execution_count": 83,
   "metadata": {},
   "outputs": [],
   "source": [
    "dnet = DynamicPowerNetwork(\n",
    "    cq_dyn, cl_dyn, pmax_dyn, gmax_dyn, A, B, P, C\n",
    ")\n",
    "dmin = DynamicPowerManagementProblem(dnet, d_dyn);"
   ]
  },
  {
   "cell_type": "code",
   "execution_count": 84,
   "metadata": {},
   "outputs": [],
   "source": [
    "solve!(dmin, OPT, verbose=true);"
   ]
  },
  {
   "cell_type": "code",
   "execution_count": 85,
   "metadata": {},
   "outputs": [],
   "source": [
    "x = flatten_variables_dyn(dmin);"
   ]
  },
  {
   "cell_type": "code",
   "execution_count": 86,
   "metadata": {},
   "outputs": [],
   "source": [
    "KKT = kkt_dyn(x, dnet, d_dyn);"
   ]
  },
  {
   "cell_type": "code",
   "execution_count": 87,
   "metadata": {},
   "outputs": [],
   "source": [
    "TOL=1e-6;"
   ]
  },
  {
   "cell_type": "code",
   "execution_count": 88,
   "metadata": {},
   "outputs": [
    {
     "name": "stdout",
     "output_type": "stream",
     "text": [
      "norm(KKT) = 1.4092243892972073e-8\n"
     ]
    }
   ],
   "source": [
    "@show norm(KKT);"
   ]
  },
  {
   "cell_type": "code",
   "execution_count": 89,
   "metadata": {},
   "outputs": [
    {
     "name": "stdout",
     "output_type": "stream",
     "text": [
      "sum(abs.(KKT) .> TOL) = 0\n"
     ]
    }
   ],
   "source": [
    "@show sum(abs.(KKT).>TOL);"
   ]
  },
  {
   "cell_type": "markdown",
   "metadata": {},
   "source": [
    "### Comparing static vs dynamic"
   ]
  },
  {
   "cell_type": "code",
   "execution_count": 110,
   "metadata": {},
   "outputs": [],
   "source": [
    "# timestep for which we want to compute the MEFS\n",
    "t = 3;"
   ]
  },
  {
   "cell_type": "code",
   "execution_count": 111,
   "metadata": {},
   "outputs": [],
   "source": [
    "∇C = zeros(kkt_dims_dyn(n, m, l, T))\n",
    "∇C[(t-1)*l+1:t*l] .= cl_dyn[t]\n",
    "mefs_dyn = sensitivity_demand_dyn(dmin, dnet, d_dyn, ∇C, t);"
   ]
  },
  {
   "cell_type": "code",
<<<<<<< Updated upstream
<<<<<<< Updated upstream
<<<<<<< Updated upstream
   "execution_count": 255,
=======
   "execution_count": 112,
>>>>>>> Stashed changes
=======
   "execution_count": 112,
>>>>>>> Stashed changes
=======
   "execution_count": 112,
>>>>>>> Stashed changes
   "metadata": {},
   "outputs": [
    {
     "name": "stdout",
     "output_type": "stream",
     "text": [
<<<<<<< Updated upstream
<<<<<<< Updated upstream
<<<<<<< Updated upstream
      "norm(mefs - mefs_dyn) = 0.11915817814827134\n"
=======
      "norm(mefs - mefs_dyn) = 0.20857111109345172\n"
>>>>>>> Stashed changes
=======
      "norm(mefs - mefs_dyn) = 0.20857111109345172\n"
>>>>>>> Stashed changes
=======
      "norm(mefs - mefs_dyn) = 0.20857111109345172\n"
>>>>>>> Stashed changes
     ]
    },
    {
     "data": {
      "text/plain": [
<<<<<<< Updated upstream
<<<<<<< Updated upstream
<<<<<<< Updated upstream
       "0.11915817814827134"
      ]
     },
     "execution_count": 255,
=======
       "0.20857111109345172"
      ]
     },
     "execution_count": 112,
>>>>>>> Stashed changes
=======
=======
>>>>>>> Stashed changes
       "0.20857111109345172"
      ]
     },
     "execution_count": 112,
<<<<<<< Updated upstream
>>>>>>> Stashed changes
=======
>>>>>>> Stashed changes
     "metadata": {},
     "output_type": "execute_result"
    }
   ],
   "source": [
    "# solution with static network\n",
    "∇C = zeros(kkt_dims(n, m, l))\n",
    "∇C[1:l] .= cl_dyn[t]\n",
    "\n",
    "cnet = PowerNetwork(cq_dyn[t], cl_dyn[t], pmax_dyn[t], gmax_dyn[t], A, B);\n",
    "carbon_min = PowerManagementProblem(cnet, d_dyn[t])\n",
    "solve!(carbon_min, OPT, verbose=true);\n",
    "\n",
    "mefs = sensitivity_demand(carbon_min, ∇C, cnet, d_dyn[t]);\n",
    "\n",
    "@show norm(mefs - mefs_dyn)"
   ]
  },
  {
   "cell_type": "markdown",
<<<<<<< Updated upstream
<<<<<<< Updated upstream
<<<<<<< Updated upstream
=======
=======
>>>>>>> Stashed changes
=======
>>>>>>> Stashed changes
   "metadata": {},
   "source": [
    "### Comparing with dual variables"
   ]
  },
  {
   "cell_type": "markdown",
   "metadata": {},
   "source": [
    "The dual variables $\\nu$ are the ones associated with the continuity equation -- therefore they are the ones telling us about the sensitivity of the problem to demand when the objective is appropriately defined. "
   ]
  },
  {
   "cell_type": "code",
   "execution_count": 107,
   "metadata": {},
   "outputs": [],
   "source": [
    "g, p, s, λpl, λpu, λgl, λgu, ν, λdsl, λdsu, λsl, λsu = unflatten_variables_dyn(\n",
    "    flatten_variables_dyn(dmin), n, m, l, T\n",
    ");"
   ]
  },
  {
   "cell_type": "code",
   "execution_count": 108,
   "metadata": {},
   "outputs": [
    {
     "name": "stdout",
     "output_type": "stream",
     "text": [
      "norm(ν[t] - mefs_dyn) = 0.7667786953015606\n"
     ]
    },
    {
     "data": {
      "text/plain": [
       "0.7667786953015606"
      ]
     },
     "execution_count": 108,
     "metadata": {},
     "output_type": "execute_result"
    }
   ],
   "source": [
    "@show norm(ν[t]-mefs_dyn)"
   ]
  },
  {
   "cell_type": "code",
   "execution_count": 109,
   "metadata": {},
   "outputs": [
    {
     "name": "stdout",
     "output_type": "stream",
     "text": [
      "norm(ν[t] - mefs) = 5.4012501809429725e-8\n"
     ]
    },
    {
     "data": {
      "text/plain": [
       "5.4012501809429725e-8"
      ]
     },
     "execution_count": 109,
     "metadata": {},
     "output_type": "execute_result"
    }
   ],
   "source": [
    "@show norm(ν[t]-mefs)"
   ]
  },
  {
   "cell_type": "markdown",
<<<<<<< Updated upstream
<<<<<<< Updated upstream
>>>>>>> Stashed changes
=======
>>>>>>> Stashed changes
=======
>>>>>>> Stashed changes
   "metadata": {},
   "source": [
    "---"
   ]
  },
  {
   "cell_type": "markdown",
   "metadata": {},
   "source": [
    "# Plot results\n",
    "\n",
    "`GraphPlot` is only for making simple plots. To do more advanced things (like the plot in the carbon accounting paper), we'll need to draw the graph manually.\n",
    "\n",
    "For now, I'm going to make some simple diagnostic plots."
   ]
  },
  {
   "cell_type": "markdown",
   "metadata": {},
   "source": [
    "## Plot demand, generation, and LMPs\n",
    "\n",
    "Here, the LMPs are carbon LMPs."
   ]
  },
  {
   "cell_type": "code",
   "execution_count": null,
   "metadata": {},
   "outputs": [],
   "source": [
    "λ = get_lmps(carbon_min)  # <-- LMPs\n",
    "\n",
    "# Fancy colors\n",
    "gradient = cgrad(:inferno)\n",
    "lmp_colors = [get(gradient, λi/maximum(λ)) for λi in λ]\n",
    "\n",
    "\n",
    "plt1 = bar(d, label=nothing, c=:blue, ylabel=\"demand\")\n",
    "plt2 = bar(evaluate(carbon_min.g), label=nothing, c=:green, ylabel=\"generation\")\n",
    "plt3 = sticks(λ, label=nothing, ylabel=\"carbon LMP\", xlabel=\"node\")\n",
    "scatter!(plt3, λ, c=lmp_colors, label=nothing)\n",
    "\n",
    "plot(plt1, plt2, plt3, layout=(3, 1))"
   ]
  },
  {
   "cell_type": "markdown",
   "metadata": {},
   "source": [
    "## Plot carbon LMPs\n",
    "\n",
    "Brighter is more carbon intensive. At the bright nodes (orange and yellow), increasing / decreasing demand has the greatest effect on total emissions."
   ]
  },
  {
   "cell_type": "code",
   "execution_count": null,
   "metadata": {},
   "outputs": [],
   "source": [
    "Random.seed!(0)  # <-- For the node layout consistency\n",
    "plt = gplot(G, nodesize=nodesize, nodefillc=lmp_colors, edgelinewidth=edgelinewidth)"
   ]
  },
  {
   "cell_type": "markdown",
   "metadata": {},
   "source": [
    "# Implicit diff"
   ]
  },
  {
   "cell_type": "code",
   "execution_count": null,
   "metadata": {},
   "outputs": [],
   "source": [
    "using CarbonNetworks: kkt, flatten_variables\n",
    "\n",
    "Random.seed!(4)\n",
    "\n",
    "fq = 3 .+ rand(Exponential(3), l)  # generate monetary costs\n",
    "fl = 3 .+ rand(Exponential(3), l)\n",
    "\n",
    "# Solve cost minimization problem\n",
    "net = PowerNetwork(fq, fl, pmax, gmax, A, B)\n",
    "opf = PowerManagementProblem(net, d)\n",
    "solve!(opf, OPT, verbose=true)\n",
    "\n",
    "kkt_resid = kkt(flatten_variables(opf), net, d)\n",
    "@show norm(kkt_resid)"
   ]
  },
  {
   "cell_type": "code",
   "execution_count": null,
   "metadata": {},
   "outputs": [],
   "source": [
    "sum(abs, evaluate(opf.p)) / sum(d)"
   ]
  },
  {
   "cell_type": "code",
   "execution_count": null,
   "metadata": {},
   "outputs": [],
   "source": [
    "∇C = zeros(kkt_dims(n, m, l))\n",
    "∇C[1:l] .= cl\n",
    "\n",
    "mefs = sensitivity_demand(opf, ∇C, net, d)\n",
    "\n",
    "theme(:default, legend=false)\n",
    "plt1a = bar(evaluate(carbon_min.g), title=\"carbon min generation\", color=:green)\n",
    "plt1b = bar(get_lmps(carbon_min), title=\"carbon min LMP\", color=:yellow)\n",
    "plt2a = bar(evaluate(opf.g), title=\"opf generation\", color=:green)\n",
    "plt2b = bar(mefs, title=\"marginal emission factors\", color=:yellow)\n",
    "plot(plt1a, plt1b, plt2a, plt2b, layout=(2, 2), size=(700, 400))"
   ]
  },
  {
   "cell_type": "markdown",
   "metadata": {},
   "source": [
    "# Compute MEFs via regression"
   ]
  },
  {
   "cell_type": "code",
   "execution_count": null,
   "metadata": {},
   "outputs": [],
   "source": [
    "using CarbonNetworks: solve_pmp\n",
    "\n",
    "Random.seed!(14)\n",
    "\n",
    "num_cases = 1000\n",
    "ϵ = 0.05\n",
    "\n",
    "d_hidden = rand(Uniform(0.3, 0.7), n) .* (B*gmax)\n",
    "\n",
    "flows = []\n",
    "cases = []\n",
    "for _ in 1:num_cases\n",
    "    d_hidden *= rand(Uniform(0.95, 1.05))\n",
    "    d_obs = d_hidden + ϵ*randn(n)\n",
    "    \n",
    "    g, pmp, _ = solve_pmp(fq, fl, d_obs, pmax, gmax, A, B)\n",
    "    if Int(pmp.problem.status) ∉ [1, 7]\n",
    "        @show pmp.problem.status\n",
    "    end\n",
    "    \n",
    "    push!(cases, (d=d_obs, g=g, pmp=pmp))\n",
    "    push!(flows, sum(abs, evaluate(pmp.p)) / sum(g))\n",
    "end"
   ]
  },
  {
   "cell_type": "code",
   "execution_count": null,
   "metadata": {},
   "outputs": [],
   "source": [
    "Random.seed!(41)\n",
    "inds = sample(1:n, 5, replace=false)\n",
    "\n",
    "theme(:default, label=nothing, lw=4)\n",
    "plot([d[i] for (d, g) in cases, i in inds], labels=inds')"
   ]
  },
  {
   "cell_type": "code",
   "execution_count": null,
   "metadata": {},
   "outputs": [],
   "source": [
    "E = [B * (cl .* g) for (d, g) in cases]\n",
    "\n",
    "Δd = hcat([cases[t].d - cases[t-1].d for t in 2:num_cases]...)\n",
    "ΔE = hcat([E[t] - E[t-1] for t in 2:num_cases]...);"
   ]
  },
  {
   "cell_type": "code",
   "execution_count": null,
   "metadata": {},
   "outputs": [],
   "source": [
    "theme(:default, label=nothing)\n",
    "\n",
    "plts = []\n",
    "for i in 1:n\n",
    "    μi = Δd[i, :] \\ ΔE[i, :]\n",
    "    ΔE_est = Δd[i, :] * μi\n",
    "    correlation = cor(ΔE_est, ΔE[i, :])\n",
    "\n",
    "    #@show correlation\n",
    "    #@show μi\n",
    "\n",
    "    μi_diffs = []\n",
    "\n",
    "    for case in cases[1:100]\n",
    "        params = (fq, fl, case.d, pmax, gmax, A)\n",
    "        ∇C = zeros(kkt_dims(n, m, l))\n",
    "        ∇C[1:l] .= cl\n",
    "\n",
    "        mefs = sensitivity_demand(case.pmp, ∇C, net, case.d)\n",
    "        push!(μi_diffs, mefs[i])\n",
    "    end\n",
    "    μi_diff = mean(μi_diffs)\n",
    "\n",
    "    #@show μi_diff\n",
    "    @show i, minimum(μi_diffs), maximum(μi_diffs)\n",
    "    # println()\n",
    "\n",
    "    x_coords = Δd[i, :]\n",
    "    \n",
    "    label = (i > 1) ? nothing : \"mean mef\"\n",
    "    label2 = (i > 1) ? nothing : \"max mef\"\n",
    "    \n",
    "    sim_mean = μi_diff*x_coords\n",
    "    sim_max = maximum(μi_diffs)*x_coords\n",
    "    sim_min = minimum(μi_diffs)*x_coords\n",
    "\n",
    "    plt = scatter(x_coords, ΔE[i, :], xlabel=\"Δd\", ylabel=\"ΔE\", ms=2, title=\"$i\")\n",
    "    plot!(plt, x_coords, ΔE_est, lw=2) #, label=\"r2=$(round(correlation, digits=2))\", legend=:topleft)\n",
    "    plot!(plt, x_coords, sim_mean, lw=2, label=label, legend=:topleft, color=:Green)\n",
    "    plot!(plt, x_coords, maximum(μi_diffs)*x_coords, lw=2, label=label2, color=:Cyan, ls=:dot)\n",
    "    plot!(plt, x_coords, minimum(μi_diffs)*x_coords, lw=2, label=label2, color=:Cyan, ls=:dot)\n",
    "    push!(plts, plt)\n",
    "end\n",
    "\n",
    "plot(plts..., layout=(2, 5), size=(900, 450))"
   ]
  },
  {
   "cell_type": "code",
   "execution_count": null,
   "metadata": {},
   "outputs": [],
   "source": [
    "edges_15 = findall(x -> x != 0, A[15, :])\n",
    "edges_16 = findall(x -> x != 0, A[16, :])\n",
    "@show edges_15 edges_16\n",
    "\n",
    "#heatmap(Matrix(neighbors), c=:grays, yflip=true)\n",
    "plot()\n",
    "bar(pmax)\n",
    "bar!(evaluate(cases[100].pmp.p), xticks=([30 34 40], [30, 34, 40]))\n"
   ]
  }
 ],
 "metadata": {
  "kernelspec": {
   "display_name": "Julia 1.6.0",
   "language": "julia",
   "name": "julia-1.6"
  },
  "language_info": {
   "file_extension": ".jl",
   "mimetype": "application/julia",
   "name": "julia",
   "version": "1.6.0"
  },
  "toc": {
   "base_numbering": 1,
   "nav_menu": {},
   "number_sections": true,
   "sideBar": true,
   "skip_h1_title": false,
   "title_cell": "Table of Contents",
   "title_sidebar": "Contents",
   "toc_cell": true,
   "toc_position": {
    "height": "calc(100% - 180px)",
    "left": "10px",
    "top": "150px",
    "width": "165px"
   },
   "toc_section_display": true,
   "toc_window_display": true
  },
  "varInspector": {
   "cols": {
    "lenName": 16,
    "lenType": 16,
    "lenVar": 40
   },
   "kernels_config": {
    "python": {
     "delete_cmd_postfix": "",
     "delete_cmd_prefix": "del ",
     "library": "var_list.py",
     "varRefreshCmd": "print(var_dic_list())"
    },
    "r": {
     "delete_cmd_postfix": ") ",
     "delete_cmd_prefix": "rm(",
     "library": "var_list.r",
     "varRefreshCmd": "cat(var_dic_list()) "
    }
   },
   "types_to_exclude": [
    "module",
    "function",
    "builtin_function_or_method",
    "instance",
    "_Feature"
   ],
   "window_display": false
  }
 },
 "nbformat": 4,
 "nbformat_minor": 5
}
