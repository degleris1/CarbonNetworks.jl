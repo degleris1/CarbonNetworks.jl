{
 "cells": [
  {
   "cell_type": "code",
   "execution_count": 47,
   "id": "supported-state",
   "metadata": {},
   "outputs": [],
   "source": [
    "using Pkg; Pkg.activate()\n",
    "\n",
    "using DataFrames, CSV\n",
    "using Convex, ECOS\n",
    "using Distributions, Random  \n",
    "using LightGraphs  \n",
    "using Plots\n",
    "\n",
    "using SparseArrays\n",
    "using Base.Iterators: product\n",
    "\n",
    "using Revise\n",
    "using CarbonNetworks"
   ]
  },
  {
   "cell_type": "markdown",
   "id": "naughty-shannon",
   "metadata": {},
   "source": [
    "# Load data"
   ]
  },
  {
   "cell_type": "code",
   "execution_count": null,
   "id": "daily-female",
   "metadata": {},
   "outputs": [],
   "source": [
    "function create_generation_map(nodes, resources=BASE_RESOURCES)\n",
    "    n = length(nodes)\n",
    "    bas = unique([node[2] for node in nodes])\n",
    "    \n",
    "    agg_nodes = []\n",
    "    for (i, (ba, res)) in enumerate(product(bas, resources))\n",
    "        push!(agg_nodes, (i, ba, res))\n",
    "    end\n",
    "    \n",
    "    agg_map = spzeros(length(agg_nodes), length(nodes))\n",
    "    for (i, ba, res) in nodes\n",
    "        !(res in resources) && continue\n",
    "        k = findfirst(x -> x[2:3] == (ba, res), agg_nodes)\n",
    "        agg_map[k, i] = 1\n",
    "    end\n",
    "\n",
    "    return agg_nodes, agg_map\n",
    "end"
   ]
  },
  {
   "cell_type": "markdown",
   "id": "digital-beatles",
   "metadata": {},
   "source": [
    "### Load network"
   ]
  },
  {
   "cell_type": "code",
   "execution_count": 57,
   "id": "quality-medicare",
   "metadata": {},
   "outputs": [
    {
     "name": "stdout",
     "output_type": "stream",
     "text": [
      "(n, m) = (988, 1079)\n"
     ]
    },
    {
     "data": {
      "text/plain": [
       "304×988 SparseMatrixCSC{Float64, Int64} with 912 stored entries:\n",
       "⠉⠉⠉⠑⠒⠒⠒⠒⠒⠒⠢⠤⠤⠤⠤⠤⠤⣄⣀⣀⣀⣀⣀⣀⡀⠀⠀⠀⠀⠀⠀⠀⠀⠀⠀⠀⠀⠀⠀⠀\n",
       "⠤⠤⠤⠤⠤⢄⣀⣀⣀⣀⣀⣀⠀⠀⠀⠀⠀⠀⠀⠀⠀⠀⠀⠀⠈⠉⠉⠉⠉⠉⠉⠑⠒⠒⠒⠒⠒⠒⠤⠄\n",
       "⠀⠀⠀⠀⠀⠀⠀⠀⠀⠀⠀⠀⠉⠉⠉⠉⠉⠉⠉⠒⠒⠒⠒⠒⠒⠒⠤⠤⠤⠤⠤⠤⠤⣀⣀⣀⣀⣀⣀⣀\n",
       "⠈⠉⠉⠉⠉⠉⠉⠒⠒⠒⠒⠒⠒⠒⠤⠤⠤⠤⠤⠤⠤⣀⣀⣀⣀⣀⣀⣀⠀⠀⠀⠀⠀⠀⠀⠀⠀⠀⠀⠀\n",
       "⠐⠒⠤⠤⠤⠤⠤⠤⢤⣀⣀⣀⣀⣀⣀⡀⠀⠀⠀⠀⠀⠀⠀⠀⠀⠀⠀⠀⠉⠉⠉⠉⠉⠉⠑⠒⠒⠒⠒⠒\n",
       "⠀⠀⠀⠀⠀⠀⠀⠀⠀⠀⠀⠀⠀⠀⠀⠈⠉⠉⠉⠉⠉⠉⠉⠒⠒⠒⠒⠒⠒⠢⠤⠤⠤⠤⠤⠤⢄⣀⣀⣀"
      ]
     },
     "execution_count": 57,
     "metadata": {},
     "output_type": "execute_result"
    }
   ],
   "source": [
    "BASE_RESOURCES = [\"COL\", \"NG\", \"NUC\", \"OIL\"]\n",
    "DATAPATH = \"/Users/degleris/Data/carbon_networks/\"\n",
    "A, gmax, pmax, f, G, nodes = parse_network_data(DATAPATH; num_generators=3)\n",
    "n = length(gmax)\n",
    "m = length(pmax)\n",
    "\n",
    "@show n, m;\n",
    "\n",
    "\n",
    "\n",
    "agg_nodes, B = create_generation_map(nodes)\n",
    "B"
   ]
  },
  {
   "cell_type": "markdown",
   "id": "homeless-thing",
   "metadata": {},
   "source": [
    "### Load cases"
   ]
  },
  {
   "cell_type": "code",
   "execution_count": null,
   "id": "honey-niger",
   "metadata": {},
   "outputs": [],
   "source": []
  },
  {
   "cell_type": "code",
   "execution_count": 71,
   "id": "anonymous-calculation",
   "metadata": {},
   "outputs": [],
   "source": [
    "function load_case(name, agg_nodes, B; resources=BASE_RESOURCES)\n",
    "    ng, n = size(B)\n",
    "    \n",
    "    case = DataFrame(CSV.File(CarbonNetworks.get_data_path(DATAPATH, name)))\n",
    "    case = rename!(case, \"Column1\" => \"ba\")\n",
    "    case = coalesce.(case, 0.0)\n",
    "\n",
    "    bas = case[:, \"ba\"]\n",
    "    demands = case[:, \"demand\"]\n",
    "    for res in CarbonNetworks.SKIP_RESOURCES\n",
    "        demands -= case[:, res]\n",
    "    end\n",
    "\n",
    "    # Load demands\n",
    "    d = zeros(n)\n",
    "    for (dem, ba) in zip(demands, bas)\n",
    "        ind_d = findfirst(x -> x[2:3] == (ba, \"DEMAND\"), nodes)\n",
    "        d[ind_d] = dem\n",
    "    end  \n",
    "    \n",
    "    # Load generation profile\n",
    "    g = zeros(ng)\n",
    "    for res in resources\n",
    "        for ba in bas\n",
    "            ind_g = findfirst(x -> x[2:3] == (ba, res), agg_nodes)\n",
    "            g[ind_g] = case[case.ba .== ba, res][1]\n",
    "        end\n",
    "    end\n",
    "    \n",
    "    return d, g, case\n",
    "end\n",
    "\n",
    "d, g, case = load_case(\"case_4.csv\", agg_nodes, B);"
   ]
  }
 ],
 "metadata": {
  "kernelspec": {
   "display_name": "Julia 1.6.0",
   "language": "julia",
   "name": "julia-1.6"
  },
  "language_info": {
   "file_extension": ".jl",
   "mimetype": "application/julia",
   "name": "julia",
   "version": "1.6.1"
  }
 },
 "nbformat": 4,
 "nbformat_minor": 5
}
